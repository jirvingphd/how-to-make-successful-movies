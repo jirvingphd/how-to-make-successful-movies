{
 "cells": [
  {
   "cell_type": "markdown",
   "metadata": {},
   "source": [
    "# Using AWS Buckets with Python and `boto3`"
   ]
  },
  {
   "cell_type": "markdown",
   "metadata": {
    "toc": true
   },
   "source": [
    "<h1>Table of Contents<span class=\"tocSkip\"></span></h1>\n",
    "<div class=\"toc\"><ul class=\"toc-item\"><li><span><a href=\"#Using-AWS-Buckets-with-Python-and-boto3\" data-toc-modified-id=\"Using-AWS-Buckets-with-Python-and-boto3-1\">Using AWS Buckets with Python and <code>boto3</code></a></span><ul class=\"toc-item\"><li><ul class=\"toc-item\"><li><span><a href=\"#Accessing-a-Public-Bucket-Via-URL\" data-toc-modified-id=\"Accessing-a-Public-Bucket-Via-URL-1.0.1\">Accessing a Public Bucket Via URL</a></span></li></ul></li></ul></li><li><span><a href=\"#📚-Using-boto3---AWS'-Python-SDK\" data-toc-modified-id=\"📚-Using-boto3---AWS'-Python-SDK-2\">📚 Using <code>boto3</code> - AWS' Python SDK</a></span><ul class=\"toc-item\"><li><ul class=\"toc-item\"><li><span><a href=\"#Documentation/Resources\" data-toc-modified-id=\"Documentation/Resources-2.0.1\">Documentation/Resources</a></span></li></ul></li><li><span><a href=\"#AWS/boto3-Requirements/Setup\" data-toc-modified-id=\"AWS/boto3-Requirements/Setup-2.1\">AWS/<code>boto3</code> Requirements/Setup</a></span><ul class=\"toc-item\"><li><span><a href=\"#AWS-credentials-stored-locally\" data-toc-modified-id=\"AWS-credentials-stored-locally-2.1.1\">AWS credentials stored locally</a></span></li></ul></li><li><span><a href=\"#boto3-connections/classes\" data-toc-modified-id=\"boto3-connections/classes-2.2\"><code>boto3</code> connections/classes</a></span><ul class=\"toc-item\"><li><span><a href=\"#Sessions\" data-toc-modified-id=\"Sessions-2.2.1\"><code>Session</code>s</a></span></li><li><span><a href=\"#resource-vs-client\" data-toc-modified-id=\"resource-vs-client-2.2.2\"><code>resource</code> vs <code>client</code></a></span></li></ul></li><li><span><a href=\"#🪣Accessing-Data-in-S3-Buckets\" data-toc-modified-id=\"🪣Accessing-Data-in-S3-Buckets-2.3\">🪣<strong>Accessing Data in S3 Buckets</strong></a></span><ul class=\"toc-item\"><li><span><a href=\"#Creating-a-New-Bucket\" data-toc-modified-id=\"Creating-a-New-Bucket-2.3.1\">Creating a New Bucket</a></span></li><li><span><a href=\"#Deleting-a-Bucket\" data-toc-modified-id=\"Deleting-a-Bucket-2.3.2\">Deleting a Bucket</a></span></li><li><span><a href=\"#Getting-Local-Files-to-Upload\" data-toc-modified-id=\"Getting-Local-Files-to-Upload-2.3.3\">Getting Local Files to Upload</a></span></li></ul></li></ul></li><li><span><a href=\"#STUDENT-ATTEMPT\" data-toc-modified-id=\"STUDENT-ATTEMPT-3\">STUDENT ATTEMPT</a></span><ul class=\"toc-item\"><li><span><a href=\"#✅-Testing-Student-Access\" data-toc-modified-id=\"✅-Testing-Student-Access-3.1\">✅ Testing Student Access</a></span><ul class=\"toc-item\"><li><span><a href=\"#Student-Credentials\" data-toc-modified-id=\"Student-Credentials-3.1.1\">Student Credentials</a></span></li><li><span><a href=\"#BOOKMARK---UPDATING-ATTEMPT-BELOW\" data-toc-modified-id=\"BOOKMARK---UPDATING-ATTEMPT-BELOW-3.1.2\">BOOKMARK - UPDATING ATTEMPT BELOW</a></span></li><li><span><a href=\"#Answering-Q-with-Loaded-CSVs-(testing-quality-of-task,-not-example-solution)\" data-toc-modified-id=\"Answering-Q-with-Loaded-CSVs-(testing-quality-of-task,-not-example-solution)-3.1.3\">Answering Q with Loaded CSVs (testing quality of task, not example solution)</a></span></li></ul></li></ul></li><li><span><a href=\"#APPENDIX---NORTHWIND-PRIOR-WORK-[pre-01/07]\" data-toc-modified-id=\"APPENDIX---NORTHWIND-PRIOR-WORK-[pre-01/07]-4\">APPENDIX - NORTHWIND PRIOR WORK [pre 01/07]</a></span><ul class=\"toc-item\"><li><ul class=\"toc-item\"><li><span><a href=\"#Q:-Which-category-of-products-earns-the-highest-revenue-per-order?\" data-toc-modified-id=\"Q:-Which-category-of-products-earns-the-highest-revenue-per-order?-4.0.1\">Q: Which category of products earns the highest revenue per order?</a></span></li><li><span><a href=\"#Q:-Do-customers-form-different-countries-by-higher/lower-quantities-of-products?\" data-toc-modified-id=\"Q:-Do-customers-form-different-countries-by-higher/lower-quantities-of-products?-4.0.2\">Q: Do customers form different countries by higher/lower quantities of products?</a></span></li><li><span><a href=\"#Q:-Do-Discounted-Products-sell-in-higher-quantities-than-full-price-products?\" data-toc-modified-id=\"Q:-Do-Discounted-Products-sell-in-higher-quantities-than-full-price-products?-4.0.3\">Q: Do Discounted Products sell in higher quantities than full price products?</a></span></li><li><span><a href=\"#Q:-Do-discounted-products-earn-more-revenue?\" data-toc-modified-id=\"Q:-Do-discounted-products-earn-more-revenue?-4.0.4\">Q: Do discounted products earn more revenue?</a></span></li></ul></li></ul></li></ul></div>"
   ]
  },
  {
   "cell_type": "code",
   "execution_count": 1,
   "metadata": {
    "ExecuteTime": {
     "end_time": "2022-03-17T20:11:42.877776Z",
     "start_time": "2022-03-17T20:11:41.887567Z"
    }
   },
   "outputs": [],
   "source": [
    "# !pip install mysql-connector-python\n",
    "import pandas as pd\n",
    "import numpy as np\n",
    "import matplotlib.pyplot as plt\n",
    "import seaborn as sns\n",
    "pd.set_option('display.max_rows',100)"
   ]
  },
  {
   "cell_type": "code",
   "execution_count": 2,
   "metadata": {
    "ExecuteTime": {
     "end_time": "2022-03-17T20:11:43.903034Z",
     "start_time": "2022-03-17T20:11:43.894667Z"
    }
   },
   "outputs": [],
   "source": [
    "# ## Getting mysql server password\n",
    "# import json\n",
    "# with open('/Users/codingdojo/.secret/mysql.json') as f:\n",
    "#     login = json.load(f)\n",
    "\n",
    "# login.keys()\n"
   ]
  },
  {
   "cell_type": "markdown",
   "metadata": {},
   "source": [
    "<img src=\"https://data-enrichment-etl-01.s3.us-east-2.amazonaws.com/Images/87A32F6C-A350-4303-A112-BA862CCD41BA.png\">"
   ]
  },
  {
   "cell_type": "markdown",
   "metadata": {},
   "source": [
    "### Accessing a Public Bucket Via URL"
   ]
  },
  {
   "cell_type": "code",
   "execution_count": 7,
   "metadata": {
    "ExecuteTime": {
     "end_time": "2022-03-17T20:32:52.949313Z",
     "start_time": "2022-03-17T20:32:51.009304Z"
    }
   },
   "outputs": [
    {
     "data": {
      "text/html": [
       "<div>\n",
       "<style scoped>\n",
       "    .dataframe tbody tr th:only-of-type {\n",
       "        vertical-align: middle;\n",
       "    }\n",
       "\n",
       "    .dataframe tbody tr th {\n",
       "        vertical-align: top;\n",
       "    }\n",
       "\n",
       "    .dataframe thead th {\n",
       "        text-align: right;\n",
       "    }\n",
       "</style>\n",
       "<table border=\"1\" class=\"dataframe\">\n",
       "  <thead>\n",
       "    <tr style=\"text-align: right;\">\n",
       "      <th></th>\n",
       "      <th>tconst</th>\n",
       "      <th>titleType</th>\n",
       "      <th>primaryTitle</th>\n",
       "      <th>originalTitle</th>\n",
       "      <th>isAdult</th>\n",
       "      <th>startYear</th>\n",
       "      <th>endYear</th>\n",
       "      <th>runtimeMinutes</th>\n",
       "      <th>genres</th>\n",
       "    </tr>\n",
       "  </thead>\n",
       "  <tbody>\n",
       "    <tr>\n",
       "      <th>0</th>\n",
       "      <td>tt0000502</td>\n",
       "      <td>movie</td>\n",
       "      <td>Bohemios</td>\n",
       "      <td>Bohemios</td>\n",
       "      <td>0</td>\n",
       "      <td>1905</td>\n",
       "      <td>\\N</td>\n",
       "      <td>100</td>\n",
       "      <td>\\N</td>\n",
       "    </tr>\n",
       "    <tr>\n",
       "      <th>1</th>\n",
       "      <td>tt0000574</td>\n",
       "      <td>movie</td>\n",
       "      <td>The Story of the Kelly Gang</td>\n",
       "      <td>The Story of the Kelly Gang</td>\n",
       "      <td>0</td>\n",
       "      <td>1906</td>\n",
       "      <td>\\N</td>\n",
       "      <td>70</td>\n",
       "      <td>Action,Adventure,Biography</td>\n",
       "    </tr>\n",
       "    <tr>\n",
       "      <th>2</th>\n",
       "      <td>tt0000591</td>\n",
       "      <td>movie</td>\n",
       "      <td>The Prodigal Son</td>\n",
       "      <td>L'enfant prodigue</td>\n",
       "      <td>0</td>\n",
       "      <td>1907</td>\n",
       "      <td>\\N</td>\n",
       "      <td>90</td>\n",
       "      <td>Drama</td>\n",
       "    </tr>\n",
       "    <tr>\n",
       "      <th>3</th>\n",
       "      <td>tt0000615</td>\n",
       "      <td>movie</td>\n",
       "      <td>Robbery Under Arms</td>\n",
       "      <td>Robbery Under Arms</td>\n",
       "      <td>0</td>\n",
       "      <td>1907</td>\n",
       "      <td>\\N</td>\n",
       "      <td>\\N</td>\n",
       "      <td>Drama</td>\n",
       "    </tr>\n",
       "    <tr>\n",
       "      <th>4</th>\n",
       "      <td>tt0000630</td>\n",
       "      <td>movie</td>\n",
       "      <td>Hamlet</td>\n",
       "      <td>Amleto</td>\n",
       "      <td>0</td>\n",
       "      <td>1908</td>\n",
       "      <td>\\N</td>\n",
       "      <td>\\N</td>\n",
       "      <td>Drama</td>\n",
       "    </tr>\n",
       "    <tr>\n",
       "      <th>...</th>\n",
       "      <td>...</td>\n",
       "      <td>...</td>\n",
       "      <td>...</td>\n",
       "      <td>...</td>\n",
       "      <td>...</td>\n",
       "      <td>...</td>\n",
       "      <td>...</td>\n",
       "      <td>...</td>\n",
       "      <td>...</td>\n",
       "    </tr>\n",
       "    <tr>\n",
       "      <th>604856</th>\n",
       "      <td>tt9916622</td>\n",
       "      <td>movie</td>\n",
       "      <td>Rodolpho Teóphilo - O Legado de um Pioneiro</td>\n",
       "      <td>Rodolpho Teóphilo - O Legado de um Pioneiro</td>\n",
       "      <td>0</td>\n",
       "      <td>2015</td>\n",
       "      <td>\\N</td>\n",
       "      <td>57</td>\n",
       "      <td>Documentary</td>\n",
       "    </tr>\n",
       "    <tr>\n",
       "      <th>604857</th>\n",
       "      <td>tt9916680</td>\n",
       "      <td>movie</td>\n",
       "      <td>De la ilusión al desconcierto: cine colombiano...</td>\n",
       "      <td>De la ilusión al desconcierto: cine colombiano...</td>\n",
       "      <td>0</td>\n",
       "      <td>2007</td>\n",
       "      <td>\\N</td>\n",
       "      <td>100</td>\n",
       "      <td>Documentary</td>\n",
       "    </tr>\n",
       "    <tr>\n",
       "      <th>604858</th>\n",
       "      <td>tt9916706</td>\n",
       "      <td>movie</td>\n",
       "      <td>Dankyavar Danka</td>\n",
       "      <td>Dankyavar Danka</td>\n",
       "      <td>0</td>\n",
       "      <td>2013</td>\n",
       "      <td>\\N</td>\n",
       "      <td>\\N</td>\n",
       "      <td>Comedy</td>\n",
       "    </tr>\n",
       "    <tr>\n",
       "      <th>604859</th>\n",
       "      <td>tt9916730</td>\n",
       "      <td>movie</td>\n",
       "      <td>6 Gunn</td>\n",
       "      <td>6 Gunn</td>\n",
       "      <td>0</td>\n",
       "      <td>2017</td>\n",
       "      <td>\\N</td>\n",
       "      <td>116</td>\n",
       "      <td>\\N</td>\n",
       "    </tr>\n",
       "    <tr>\n",
       "      <th>604860</th>\n",
       "      <td>tt9916754</td>\n",
       "      <td>movie</td>\n",
       "      <td>Chico Albuquerque - Revelações</td>\n",
       "      <td>Chico Albuquerque - Revelações</td>\n",
       "      <td>0</td>\n",
       "      <td>2013</td>\n",
       "      <td>\\N</td>\n",
       "      <td>49</td>\n",
       "      <td>Documentary</td>\n",
       "    </tr>\n",
       "  </tbody>\n",
       "</table>\n",
       "<p>604861 rows × 9 columns</p>\n",
       "</div>"
      ],
      "text/plain": [
       "           tconst titleType  \\\n",
       "0       tt0000502     movie   \n",
       "1       tt0000574     movie   \n",
       "2       tt0000591     movie   \n",
       "3       tt0000615     movie   \n",
       "4       tt0000630     movie   \n",
       "...           ...       ...   \n",
       "604856  tt9916622     movie   \n",
       "604857  tt9916680     movie   \n",
       "604858  tt9916706     movie   \n",
       "604859  tt9916730     movie   \n",
       "604860  tt9916754     movie   \n",
       "\n",
       "                                             primaryTitle  \\\n",
       "0                                                Bohemios   \n",
       "1                             The Story of the Kelly Gang   \n",
       "2                                        The Prodigal Son   \n",
       "3                                      Robbery Under Arms   \n",
       "4                                                  Hamlet   \n",
       "...                                                   ...   \n",
       "604856        Rodolpho Teóphilo - O Legado de um Pioneiro   \n",
       "604857  De la ilusión al desconcierto: cine colombiano...   \n",
       "604858                                    Dankyavar Danka   \n",
       "604859                                             6 Gunn   \n",
       "604860                     Chico Albuquerque - Revelações   \n",
       "\n",
       "                                            originalTitle  isAdult startYear  \\\n",
       "0                                                Bohemios        0      1905   \n",
       "1                             The Story of the Kelly Gang        0      1906   \n",
       "2                                       L'enfant prodigue        0      1907   \n",
       "3                                      Robbery Under Arms        0      1907   \n",
       "4                                                  Amleto        0      1908   \n",
       "...                                                   ...      ...       ...   \n",
       "604856        Rodolpho Teóphilo - O Legado de um Pioneiro        0      2015   \n",
       "604857  De la ilusión al desconcierto: cine colombiano...        0      2007   \n",
       "604858                                    Dankyavar Danka        0      2013   \n",
       "604859                                             6 Gunn        0      2017   \n",
       "604860                     Chico Albuquerque - Revelações        0      2013   \n",
       "\n",
       "       endYear runtimeMinutes                      genres  \n",
       "0           \\N            100                          \\N  \n",
       "1           \\N             70  Action,Adventure,Biography  \n",
       "2           \\N             90                       Drama  \n",
       "3           \\N             \\N                       Drama  \n",
       "4           \\N             \\N                       Drama  \n",
       "...        ...            ...                         ...  \n",
       "604856      \\N             57                 Documentary  \n",
       "604857      \\N            100                 Documentary  \n",
       "604858      \\N             \\N                      Comedy  \n",
       "604859      \\N            116                          \\N  \n",
       "604860      \\N             49                 Documentary  \n",
       "\n",
       "[604861 rows x 9 columns]"
      ]
     },
     "execution_count": 7,
     "metadata": {},
     "output_type": "execute_result"
    }
   ],
   "source": [
    "df = pd.read_csv(\"https://data-enrichment-etl-01.s3.us-east-2.amazonaws.com/Data/title_basics.csv.gz\")\n",
    "df"
   ]
  },
  {
   "cell_type": "markdown",
   "metadata": {},
   "source": [
    "# 📚 Using `boto3` - AWS' Python SDK"
   ]
  },
  {
   "cell_type": "code",
   "execution_count": 3,
   "metadata": {
    "ExecuteTime": {
     "end_time": "2022-03-17T20:11:46.533988Z",
     "start_time": "2022-03-17T20:11:46.527893Z"
    },
    "scrolled": true
   },
   "outputs": [],
   "source": [
    "# !pip install -U boto3"
   ]
  },
  {
   "cell_type": "markdown",
   "metadata": {},
   "source": [
    "### Documentation/Resources\n",
    "- [AWS' PYTHON SDK](https://aws.amazon.com/sdk-for-python/)"
   ]
  },
  {
   "cell_type": "markdown",
   "metadata": {},
   "source": [
    "## AWS/`boto3` Requirements/Setup"
   ]
  },
  {
   "cell_type": "markdown",
   "metadata": {},
   "source": [
    "### AWS credentials stored locally"
   ]
  },
  {
   "cell_type": "markdown",
   "metadata": {},
   "source": [
    "There are several ways to provide the access ID and secret key to access AWS services. \n",
    "- Using the AWS config file.\n",
    "- Passing credentials as parameters\n",
    "- Using shared credentials file\n",
    "- Using environment variables\n",
    "\n",
    "\n",
    "\n",
    "> Reference: https://www.stackvidhya.com/specify-credentials-in-boto3/"
   ]
  },
  {
   "cell_type": "markdown",
   "metadata": {},
   "source": [
    "#### Notes:\n",
    "- I chose to use the AWS config file method.\n",
    "- If I had stored the credentials in a json file instead, I would use the following code with boto3:\n",
    "```python\n",
    "import boto3\n",
    "session = boto3.Session(\n",
    "    aws_access_key_id='<your_access_key_id>',\n",
    "    aws_secret_access_key='<your_secret_access_key>'\n",
    ")\n",
    "```"
   ]
  },
  {
   "cell_type": "markdown",
   "metadata": {},
   "source": [
    "## `boto3` connections/classes"
   ]
  },
  {
   "cell_type": "markdown",
   "metadata": {},
   "source": [
    "- From what I've seen so far:\n",
    "    - `boto3` has 3 main classes/types of connections that are used for different things, but have some overlapping functionality.\n",
    "    - `Sessions`, `clients`, and `resources`"
   ]
  },
  {
   "cell_type": "markdown",
   "metadata": {},
   "source": [
    "### `Session`s"
   ]
  },
  {
   "cell_type": "markdown",
   "metadata": {},
   "source": [
    "- Sessions will allow progamattic access to some helpful pieces of info, like what AWS region we are currently using. (e.g. `us-east-2`)\n",
    "- You can specify credentials when using `boto3`:\n",
    "    - How-to Article: \n",
    "        - https://www.stackvidhya.com/specify-credentials-in-boto3/\n",
    "\n",
    "```python\n",
    "## Create a session object to programmatically get region info\n",
    "session = boto3.session.Session()\n",
    "session.region_name\n",
    "```"
   ]
  },
  {
   "cell_type": "code",
   "execution_count": 4,
   "metadata": {
    "ExecuteTime": {
     "end_time": "2022-03-17T20:11:52.119819Z",
     "start_time": "2022-03-17T20:11:52.036243Z"
    }
   },
   "outputs": [],
   "source": [
    "# !pip install -U boto3\n",
    "import boto3"
   ]
  },
  {
   "cell_type": "code",
   "execution_count": 36,
   "metadata": {
    "ExecuteTime": {
     "end_time": "2022-01-07T23:53:14.750889Z",
     "start_time": "2022-01-07T23:53:14.744445Z"
    }
   },
   "outputs": [
    {
     "data": {
      "text/plain": [
       "Index(['User name', 'Password', 'Access key ID', 'Secret access key',\n",
       "       'Console login link'],\n",
       "      dtype='object')"
      ]
     },
     "execution_count": 36,
     "metadata": {},
     "output_type": "execute_result"
    }
   ],
   "source": [
    "## Using teacher credentials with read/write access\n",
    "my_creds = pd.read_csv(\"/Users/codingdojo/.secret/aws-jirvingphd-credentials.csv\")\n",
    "my_creds.columns"
   ]
  },
  {
   "cell_type": "code",
   "execution_count": 37,
   "metadata": {
    "ExecuteTime": {
     "end_time": "2022-01-07T23:53:14.767413Z",
     "start_time": "2022-01-07T23:53:14.751976Z"
    }
   },
   "outputs": [
    {
     "data": {
      "text/plain": [
       "Session(region_name='us-east-2')"
      ]
     },
     "execution_count": 37,
     "metadata": {},
     "output_type": "execute_result"
    }
   ],
   "source": [
    "## Create a session object to programmatically get region info\n",
    "session = boto3.Session(\n",
    "    aws_access_key_id=my_creds.loc[0,'Access key ID'],\n",
    "    aws_secret_access_key=my_creds.loc[0,'Secret access key'],)\n",
    "session"
   ]
  },
  {
   "cell_type": "code",
   "execution_count": 38,
   "metadata": {
    "ExecuteTime": {
     "end_time": "2022-01-07T23:53:14.810411Z",
     "start_time": "2022-01-07T23:53:14.768559Z"
    }
   },
   "outputs": [
    {
     "data": {
      "text/plain": [
       "['cloudformation',\n",
       " 'cloudwatch',\n",
       " 'dynamodb',\n",
       " 'ec2',\n",
       " 'glacier',\n",
       " 'iam',\n",
       " 'opsworks',\n",
       " 's3',\n",
       " 'sns',\n",
       " 'sqs']"
      ]
     },
     "execution_count": 38,
     "metadata": {},
     "output_type": "execute_result"
    }
   ],
   "source": [
    "## Check what resources are available\n",
    "session.get_available_resources()"
   ]
  },
  {
   "cell_type": "code",
   "execution_count": 39,
   "metadata": {
    "ExecuteTime": {
     "end_time": "2022-01-07T23:53:14.814500Z",
     "start_time": "2022-01-07T23:53:14.811686Z"
    }
   },
   "outputs": [],
   "source": [
    "def check_methods_attributes(var, filter_out='_'):\n",
    "    print('Attributes and Methods:')\n",
    "    [print(f\"- self.{c}\") for c in sorted(dir(var)) if not c.startswith(filter_out)];"
   ]
  },
  {
   "cell_type": "code",
   "execution_count": 40,
   "metadata": {
    "ExecuteTime": {
     "end_time": "2022-01-07T23:53:14.817930Z",
     "start_time": "2022-01-07T23:53:14.815498Z"
    }
   },
   "outputs": [
    {
     "name": "stdout",
     "output_type": "stream",
     "text": [
      "Attributes and Methods:\n",
      "- self.access_key\n",
      "- self.get_frozen_credentials\n",
      "- self.method\n",
      "- self.secret_key\n",
      "- self.token\n"
     ]
    }
   ],
   "source": [
    "## Can loop up credentials currently in use \n",
    "sess_creds = session.get_credentials()\n",
    "check_methods_attributes(sess_creds)\n",
    "# print('Attributes and Methods:')\n",
    "# [print(f\"- {c}\") for c in sorted(dir(sess_creds)) if not c.startswith('__')];"
   ]
  },
  {
   "cell_type": "markdown",
   "metadata": {},
   "source": [
    "### `resource` vs `client`"
   ]
  },
  {
   "cell_type": "markdown",
   "metadata": {},
   "source": [
    "- Two kinds\n",
    "    - boto3.resource:\n",
    "        - OOP methods/easier to work with\n",
    "        - Usually resources are what we want to use. (one exception is loading data ***directly*** into pandas)\n",
    "    - boto3.client:\n",
    "        - Returns JSON/dictionary results\n",
    "        - Required to load data directly into a dataframe wihtout saving a file first"
   ]
  },
  {
   "cell_type": "markdown",
   "metadata": {},
   "source": [
    "#### `boto3.resource`"
   ]
  },
  {
   "cell_type": "code",
   "execution_count": 41,
   "metadata": {
    "ExecuteTime": {
     "end_time": "2022-01-07T23:53:14.931752Z",
     "start_time": "2022-01-07T23:53:14.818885Z"
    }
   },
   "outputs": [
    {
     "data": {
      "text/plain": [
       "s3.ServiceResource()"
      ]
     },
     "execution_count": 41,
     "metadata": {},
     "output_type": "execute_result"
    }
   ],
   "source": [
    "## import boto3 and create a RESOURCE (not a CLIENT)\n",
    "import boto3\n",
    "s3_resource = boto3.resource('s3')\n",
    "s3_resource"
   ]
  },
  {
   "cell_type": "code",
   "execution_count": 42,
   "metadata": {
    "ExecuteTime": {
     "end_time": "2022-01-07T23:53:14.935273Z",
     "start_time": "2022-01-07T23:53:14.932952Z"
    }
   },
   "outputs": [
    {
     "name": "stdout",
     "output_type": "stream",
     "text": [
      "Attributes and Methods:\n",
      "- self.Bucket\n",
      "- self.BucketAcl\n",
      "- self.BucketCors\n",
      "- self.BucketLifecycle\n",
      "- self.BucketLifecycleConfiguration\n",
      "- self.BucketLogging\n",
      "- self.BucketNotification\n",
      "- self.BucketPolicy\n",
      "- self.BucketRequestPayment\n",
      "- self.BucketTagging\n",
      "- self.BucketVersioning\n",
      "- self.BucketWebsite\n",
      "- self.MultipartUpload\n",
      "- self.MultipartUploadPart\n",
      "- self.Object\n",
      "- self.ObjectAcl\n",
      "- self.ObjectSummary\n",
      "- self.ObjectVersion\n",
      "- self.buckets\n",
      "- self.create_bucket\n",
      "- self.get_available_subresources\n",
      "- self.meta\n"
     ]
    }
   ],
   "source": [
    "check_methods_attributes(s3_resource)"
   ]
  },
  {
   "cell_type": "markdown",
   "metadata": {},
   "source": [
    "#### `boto3.client`"
   ]
  },
  {
   "cell_type": "code",
   "execution_count": 43,
   "metadata": {
    "ExecuteTime": {
     "end_time": "2022-01-07T23:53:14.944103Z",
     "start_time": "2022-01-07T23:53:14.936248Z"
    }
   },
   "outputs": [
    {
     "data": {
      "text/plain": [
       "<botocore.client.S3 at 0x7f9709f06bd0>"
      ]
     },
     "execution_count": 43,
     "metadata": {},
     "output_type": "execute_result"
    }
   ],
   "source": [
    "s3_client = boto3.client('s3')\n",
    "s3_client"
   ]
  },
  {
   "cell_type": "code",
   "execution_count": 44,
   "metadata": {
    "ExecuteTime": {
     "end_time": "2022-01-07T23:53:14.949104Z",
     "start_time": "2022-01-07T23:53:14.945019Z"
    },
    "scrolled": false
   },
   "outputs": [
    {
     "name": "stdout",
     "output_type": "stream",
     "text": [
      "Attributes and Methods:\n",
      "- self.abort_multipart_upload\n",
      "- self.can_paginate\n",
      "- self.complete_multipart_upload\n",
      "- self.copy\n",
      "- self.copy_object\n",
      "- self.create_bucket\n",
      "- self.create_multipart_upload\n",
      "- self.delete_bucket\n",
      "- self.delete_bucket_analytics_configuration\n",
      "- self.delete_bucket_cors\n",
      "- self.delete_bucket_encryption\n",
      "- self.delete_bucket_intelligent_tiering_configuration\n",
      "- self.delete_bucket_inventory_configuration\n",
      "- self.delete_bucket_lifecycle\n",
      "- self.delete_bucket_metrics_configuration\n",
      "- self.delete_bucket_ownership_controls\n",
      "- self.delete_bucket_policy\n",
      "- self.delete_bucket_replication\n",
      "- self.delete_bucket_tagging\n",
      "- self.delete_bucket_website\n",
      "- self.delete_object\n",
      "- self.delete_object_tagging\n",
      "- self.delete_objects\n",
      "- self.delete_public_access_block\n",
      "- self.download_file\n",
      "- self.download_fileobj\n",
      "- self.exceptions\n",
      "- self.generate_presigned_post\n",
      "- self.generate_presigned_url\n",
      "- self.get_bucket_accelerate_configuration\n",
      "- self.get_bucket_acl\n",
      "- self.get_bucket_analytics_configuration\n",
      "- self.get_bucket_cors\n",
      "- self.get_bucket_encryption\n",
      "- self.get_bucket_intelligent_tiering_configuration\n",
      "- self.get_bucket_inventory_configuration\n",
      "- self.get_bucket_lifecycle\n",
      "- self.get_bucket_lifecycle_configuration\n",
      "- self.get_bucket_location\n",
      "- self.get_bucket_logging\n",
      "- self.get_bucket_metrics_configuration\n",
      "- self.get_bucket_notification\n",
      "- self.get_bucket_notification_configuration\n",
      "- self.get_bucket_ownership_controls\n",
      "- self.get_bucket_policy\n",
      "- self.get_bucket_policy_status\n",
      "- self.get_bucket_replication\n",
      "- self.get_bucket_request_payment\n",
      "- self.get_bucket_tagging\n",
      "- self.get_bucket_versioning\n",
      "- self.get_bucket_website\n",
      "- self.get_object\n",
      "- self.get_object_acl\n",
      "- self.get_object_legal_hold\n",
      "- self.get_object_lock_configuration\n",
      "- self.get_object_retention\n",
      "- self.get_object_tagging\n",
      "- self.get_object_torrent\n",
      "- self.get_paginator\n",
      "- self.get_public_access_block\n",
      "- self.get_waiter\n",
      "- self.head_bucket\n",
      "- self.head_object\n",
      "- self.list_bucket_analytics_configurations\n",
      "- self.list_bucket_intelligent_tiering_configurations\n",
      "- self.list_bucket_inventory_configurations\n",
      "- self.list_bucket_metrics_configurations\n",
      "- self.list_buckets\n",
      "- self.list_multipart_uploads\n",
      "- self.list_object_versions\n",
      "- self.list_objects\n",
      "- self.list_objects_v2\n",
      "- self.list_parts\n",
      "- self.meta\n",
      "- self.put_bucket_accelerate_configuration\n",
      "- self.put_bucket_acl\n",
      "- self.put_bucket_analytics_configuration\n",
      "- self.put_bucket_cors\n",
      "- self.put_bucket_encryption\n",
      "- self.put_bucket_intelligent_tiering_configuration\n",
      "- self.put_bucket_inventory_configuration\n",
      "- self.put_bucket_lifecycle\n",
      "- self.put_bucket_lifecycle_configuration\n",
      "- self.put_bucket_logging\n",
      "- self.put_bucket_metrics_configuration\n",
      "- self.put_bucket_notification\n",
      "- self.put_bucket_notification_configuration\n",
      "- self.put_bucket_ownership_controls\n",
      "- self.put_bucket_policy\n",
      "- self.put_bucket_replication\n",
      "- self.put_bucket_request_payment\n",
      "- self.put_bucket_tagging\n",
      "- self.put_bucket_versioning\n",
      "- self.put_bucket_website\n",
      "- self.put_object\n",
      "- self.put_object_acl\n",
      "- self.put_object_legal_hold\n",
      "- self.put_object_lock_configuration\n",
      "- self.put_object_retention\n",
      "- self.put_object_tagging\n",
      "- self.put_public_access_block\n",
      "- self.restore_object\n",
      "- self.select_object_content\n",
      "- self.upload_file\n",
      "- self.upload_fileobj\n",
      "- self.upload_part\n",
      "- self.upload_part_copy\n",
      "- self.waiter_names\n",
      "- self.write_get_object_response\n"
     ]
    }
   ],
   "source": [
    "check_methods_attributes(s3_client)"
   ]
  },
  {
   "cell_type": "markdown",
   "metadata": {},
   "source": [
    "##  🪣**Accessing Data in S3 Buckets**"
   ]
  },
  {
   "cell_type": "markdown",
   "metadata": {},
   "source": [
    "- https://realpython.com/python-boto3-aws-s3/\n",
    "- https://boto3.amazonaws.com/v1/documentation/api/latest/guide/quickstart.html"
   ]
  },
  {
   "cell_type": "markdown",
   "metadata": {},
   "source": [
    ">- Create a `boto3.resource` for \"s3\"\n",
    "    "
   ]
  },
  {
   "cell_type": "code",
   "execution_count": 45,
   "metadata": {
    "ExecuteTime": {
     "end_time": "2022-01-07T23:53:14.956445Z",
     "start_time": "2022-01-07T23:53:14.950087Z"
    }
   },
   "outputs": [
    {
     "data": {
      "text/plain": [
       "s3.ServiceResource()"
      ]
     },
     "execution_count": 45,
     "metadata": {},
     "output_type": "execute_result"
    }
   ],
   "source": [
    "### create a resources\n",
    "s3_res= boto3.resource('s3')\n",
    "s3_res"
   ]
  },
  {
   "cell_type": "code",
   "execution_count": 46,
   "metadata": {
    "ExecuteTime": {
     "end_time": "2022-01-07T23:53:15.221002Z",
     "start_time": "2022-01-07T23:53:14.957542Z"
    }
   },
   "outputs": [
    {
     "name": "stdout",
     "output_type": "stream",
     "text": [
      "[i] All Current Buckets:\n",
      "- s3.Bucket(name='data-enrichment-belt-exam')\n"
     ]
    }
   ],
   "source": [
    "print(f\"[i] All Current Buckets:\")\n",
    "[print(f\"- {b}\") for b in s3_res.buckets.all()];"
   ]
  },
  {
   "cell_type": "markdown",
   "metadata": {},
   "source": [
    "### Creating a New Bucket"
   ]
  },
  {
   "cell_type": "code",
   "execution_count": 47,
   "metadata": {
    "ExecuteTime": {
     "end_time": "2022-01-07T23:53:15.224325Z",
     "start_time": "2022-01-07T23:53:15.222144Z"
    }
   },
   "outputs": [],
   "source": [
    "## BUCKET TO CREATE\n",
    "BUCKET_NAME = 'data-enrichment-belt-exam'"
   ]
  },
  {
   "cell_type": "code",
   "execution_count": 48,
   "metadata": {
    "ExecuteTime": {
     "end_time": "2022-01-07T23:53:15.341630Z",
     "start_time": "2022-01-07T23:53:15.225413Z"
    }
   },
   "outputs": [
    {
     "data": {
      "text/plain": [
       "[s3.Bucket(name='data-enrichment-belt-exam')]"
      ]
     },
     "execution_count": 48,
     "metadata": {},
     "output_type": "execute_result"
    }
   ],
   "source": [
    "## Get list of buckets\n",
    "bucket_list = [b for b in s3_res.buckets.all()]\n",
    "bucket_list"
   ]
  },
  {
   "cell_type": "code",
   "execution_count": 49,
   "metadata": {
    "ExecuteTime": {
     "end_time": "2022-01-07T23:53:15.345459Z",
     "start_time": "2022-01-07T23:53:15.342789Z"
    }
   },
   "outputs": [
    {
     "data": {
      "text/plain": [
       "'data-enrichment-belt-exam'"
      ]
     },
     "execution_count": 49,
     "metadata": {},
     "output_type": "execute_result"
    }
   ],
   "source": [
    "## Testing a single bucket from list\n",
    "b = bucket_list[0]\n",
    "b.name"
   ]
  },
  {
   "cell_type": "code",
   "execution_count": 50,
   "metadata": {
    "ExecuteTime": {
     "end_time": "2022-01-07T23:53:15.349531Z",
     "start_time": "2022-01-07T23:53:15.346448Z"
    }
   },
   "outputs": [],
   "source": [
    "def check_buckets(s3_res,return_names=False):\n",
    "    print(f\"[i] All Current Buckets:\")\n",
    "    bucket_list = [b for b in s3_res.buckets.all()]\n",
    "    [print(f\"- {b}\") for b in bucket_list];\n",
    "    \n",
    "    if return_names:\n",
    "        return [b.name for b in bucket_list]\n",
    "    "
   ]
  },
  {
   "cell_type": "code",
   "execution_count": 51,
   "metadata": {
    "ExecuteTime": {
     "end_time": "2022-01-07T23:53:15.392788Z",
     "start_time": "2022-01-07T23:53:15.350636Z"
    }
   },
   "outputs": [
    {
     "name": "stdout",
     "output_type": "stream",
     "text": [
      "[i] All Current Buckets:\n",
      "- s3.Bucket(name='data-enrichment-belt-exam')\n"
     ]
    },
    {
     "data": {
      "text/plain": [
       "['data-enrichment-belt-exam']"
      ]
     },
     "execution_count": 51,
     "metadata": {},
     "output_type": "execute_result"
    }
   ],
   "source": [
    "## Get list of buckets with func\n",
    "bucket_names = check_buckets(s3_res, return_names=True)\n",
    "bucket_names"
   ]
  },
  {
   "cell_type": "code",
   "execution_count": 52,
   "metadata": {
    "ExecuteTime": {
     "end_time": "2022-01-07T23:53:15.433695Z",
     "start_time": "2022-01-07T23:53:15.394198Z"
    }
   },
   "outputs": [
    {
     "name": "stdout",
     "output_type": "stream",
     "text": [
      "[i] All Current Buckets:\n",
      "- s3.Bucket(name='data-enrichment-belt-exam')\n"
     ]
    }
   ],
   "source": [
    "check_buckets(s3_res)"
   ]
  },
  {
   "cell_type": "code",
   "execution_count": 53,
   "metadata": {
    "ExecuteTime": {
     "end_time": "2022-01-07T23:53:15.437712Z",
     "start_time": "2022-01-07T23:53:15.434702Z"
    }
   },
   "outputs": [
    {
     "data": {
      "text/plain": [
       "['data-enrichment-belt-exam']"
      ]
     },
     "execution_count": 53,
     "metadata": {},
     "output_type": "execute_result"
    }
   ],
   "source": [
    "# get names of buckets\n",
    "bucket_names = [b.name for b in bucket_list]\n",
    "bucket_names"
   ]
  },
  {
   "cell_type": "code",
   "execution_count": 54,
   "metadata": {
    "ExecuteTime": {
     "end_time": "2022-01-07T23:53:15.480219Z",
     "start_time": "2022-01-07T23:53:15.438926Z"
    }
   },
   "outputs": [
    {
     "name": "stdout",
     "output_type": "stream",
     "text": [
      "[i] All Current Buckets:\n",
      "- s3.Bucket(name='data-enrichment-belt-exam')\n"
     ]
    }
   ],
   "source": [
    "check_buckets(s3_res)"
   ]
  },
  {
   "cell_type": "code",
   "execution_count": 55,
   "metadata": {
    "ExecuteTime": {
     "end_time": "2022-01-07T23:53:15.483760Z",
     "start_time": "2022-01-07T23:53:15.481413Z"
    }
   },
   "outputs": [],
   "source": [
    "# bucket_name = 'example-bucket-for-lesson2'\n",
    "# bucket = s3_resource.create_bucket(Bucket=bucket_name,\n",
    "#                           CreateBucketConfiguration={\n",
    "#                               'LocationConstraint': session.region_name})\n",
    "# bucket"
   ]
  },
  {
   "cell_type": "markdown",
   "metadata": {},
   "source": [
    "### Deleting a Bucket"
   ]
  },
  {
   "cell_type": "markdown",
   "metadata": {},
   "source": [
    "- Buckets must be completely empty before they can be deleted. \n",
    "- The deletion process takes several minutes"
   ]
  },
  {
   "cell_type": "code",
   "execution_count": 56,
   "metadata": {
    "ExecuteTime": {
     "end_time": "2022-01-07T23:53:15.488630Z",
     "start_time": "2022-01-07T23:53:15.485363Z"
    }
   },
   "outputs": [],
   "source": [
    "def delete_all_objects(s3_resource, bucket_name):\n",
    "    \"\"\"Source: https://realpython.com/python-boto3-aws-s3/\"\"\"\n",
    "\n",
    "    res = []\n",
    "    # get bucket \n",
    "    bucket=s3_resource.Bucket(bucket_name)\n",
    "    \n",
    "    # get all object versions\n",
    "    for obj_version in bucket.object_versions.all():\n",
    "        #saving the object_jet and version id\n",
    "        res.append({'Key': obj_version.object_key,\n",
    "                    'VersionId': obj_version.id})\n",
    "#     print(res)\n",
    "    \n",
    "    ## Delete objects\n",
    "    if len(res)>0:\n",
    "        bucket.delete_objects(Delete={'Objects': res})"
   ]
  },
  {
   "cell_type": "code",
   "execution_count": 57,
   "metadata": {
    "ExecuteTime": {
     "end_time": "2022-01-07T23:53:15.530591Z",
     "start_time": "2022-01-07T23:53:15.489824Z"
    }
   },
   "outputs": [
    {
     "name": "stdout",
     "output_type": "stream",
     "text": [
      "[i] All Current Buckets:\n",
      "- s3.Bucket(name='data-enrichment-belt-exam')\n"
     ]
    },
    {
     "data": {
      "text/plain": [
       "['data-enrichment-belt-exam']"
      ]
     },
     "execution_count": 57,
     "metadata": {},
     "output_type": "execute_result"
    }
   ],
   "source": [
    "check_buckets(s3_res,return_names=True)"
   ]
  },
  {
   "cell_type": "code",
   "execution_count": null,
   "metadata": {},
   "outputs": [],
   "source": []
  },
  {
   "cell_type": "code",
   "execution_count": 58,
   "metadata": {
    "ExecuteTime": {
     "end_time": "2022-01-07T23:53:22.778701Z",
     "start_time": "2022-01-07T23:53:15.531853Z"
    }
   },
   "outputs": [
    {
     "name": "stdout",
     "output_type": "stream",
     "text": [
      "[i] All Current Buckets:\n",
      "- s3.Bucket(name='data-enrichment-belt-exam')\n",
      "\n",
      "[!] BUCKET data-enrichment-belt-exam ALREADY EXISTS. DELETING...\n",
      "BUCKET DELETED.\n",
      "[i] All Current Buckets:\n",
      "- s3.Bucket(name='data-enrichment-belt-exam')\n"
     ]
    }
   ],
   "source": [
    "## Create a bucket using resource \n",
    "import time\n",
    "BUCKET_NAME = 'data-enrichment-belt-exam'\n",
    "\n",
    "\n",
    "## CHecking if bucket already exists, if so, empty and delete\n",
    "if BUCKET_NAME in check_buckets(s3_res,return_names=True):\n",
    "     \n",
    "    print(f\"\\n[!] BUCKET {BUCKET_NAME} ALREADY EXISTS. DELETING...\")\n",
    "    delete_all_objects(s3_res, BUCKET_NAME)\n",
    "    time.sleep(5)\n",
    "\n",
    "    s3_res.Bucket(BUCKET_NAME).delete()\n",
    "    \n",
    "    print('BUCKET DELETED.')\n",
    "    \n",
    "## Create bucket\n",
    "bucket = s3_res.create_bucket(Bucket=BUCKET_NAME,\n",
    "                              CreateBucketConfiguration={\n",
    "                                  'LocationConstraint': session.region_name})\n",
    "check_buckets(s3_res)"
   ]
  },
  {
   "cell_type": "code",
   "execution_count": 59,
   "metadata": {
    "ExecuteTime": {
     "end_time": "2022-01-07T23:53:22.797107Z",
     "start_time": "2022-01-07T23:53:22.785971Z"
    }
   },
   "outputs": [
    {
     "data": {
      "text/plain": [
       "s3.Bucket(name='data-enrichment-belt-exam')"
      ]
     },
     "execution_count": 59,
     "metadata": {},
     "output_type": "execute_result"
    }
   ],
   "source": [
    "bucket"
   ]
  },
  {
   "cell_type": "markdown",
   "metadata": {},
   "source": [
    "### Getting Local Files to Upload"
   ]
  },
  {
   "cell_type": "code",
   "execution_count": 60,
   "metadata": {
    "ExecuteTime": {
     "end_time": "2022-01-07T23:53:22.800538Z",
     "start_time": "2022-01-07T23:53:22.798716Z"
    }
   },
   "outputs": [],
   "source": [
    "## get list of files to upload\n",
    "import glob,os"
   ]
  },
  {
   "cell_type": "code",
   "execution_count": 61,
   "metadata": {
    "ExecuteTime": {
     "end_time": "2022-01-07T23:53:22.804935Z",
     "start_time": "2022-01-07T23:53:22.801577Z"
    }
   },
   "outputs": [
    {
     "data": {
      "text/plain": [
       "['./exported_data/Northwind/categories.csv',\n",
       " './exported_data/Northwind/products.csv',\n",
       " './exported_data/Northwind/OrderDetail.csv',\n",
       " './exported_data/Northwind/Order.csv']"
      ]
     },
     "execution_count": 61,
     "metadata": {},
     "output_type": "execute_result"
    }
   ],
   "source": [
    "upload_list = glob.glob(\"./exported_data/Northwind/*.csv\")\n",
    "upload_list"
   ]
  },
  {
   "cell_type": "code",
   "execution_count": 62,
   "metadata": {
    "ExecuteTime": {
     "end_time": "2022-01-07T23:53:22.809002Z",
     "start_time": "2022-01-07T23:53:22.806193Z"
    }
   },
   "outputs": [
    {
     "data": {
      "text/plain": [
       "'categories.csv'"
      ]
     },
     "execution_count": 62,
     "metadata": {},
     "output_type": "execute_result"
    }
   ],
   "source": [
    "# demoing basename\n",
    "os.path.basename(upload_list[0])"
   ]
  },
  {
   "cell_type": "code",
   "execution_count": 63,
   "metadata": {
    "ExecuteTime": {
     "end_time": "2022-01-07T23:53:23.913316Z",
     "start_time": "2022-01-07T23:53:22.810117Z"
    }
   },
   "outputs": [
    {
     "name": "stdout",
     "output_type": "stream",
     "text": [
      "- ./exported_data/Northwind/categories.csv saved as categories.csv\n",
      "- ./exported_data/Northwind/products.csv saved as products.csv\n",
      "- ./exported_data/Northwind/OrderDetail.csv saved as OrderDetail.csv\n",
      "- ./exported_data/Northwind/Order.csv saved as Order.csv\n"
     ]
    }
   ],
   "source": [
    "## Uploading files programmatically\n",
    "for file in upload_list:\n",
    "    key = os.path.basename(file)\n",
    "    bucket.upload_file(file,key)\n",
    "    print(f\"- {file} saved as {key}\")"
   ]
  },
  {
   "cell_type": "code",
   "execution_count": 64,
   "metadata": {
    "ExecuteTime": {
     "end_time": "2022-01-07T23:53:23.982851Z",
     "start_time": "2022-01-07T23:53:23.921320Z"
    }
   },
   "outputs": [
    {
     "name": "stdout",
     "output_type": "stream",
     "text": [
      "s3.ObjectSummary(bucket_name='data-enrichment-belt-exam', key='Order.csv')\n",
      "s3.ObjectSummary(bucket_name='data-enrichment-belt-exam', key='OrderDetail.csv')\n",
      "s3.ObjectSummary(bucket_name='data-enrichment-belt-exam', key='categories.csv')\n",
      "s3.ObjectSummary(bucket_name='data-enrichment-belt-exam', key='products.csv')\n"
     ]
    },
    {
     "data": {
      "text/plain": [
       "[None, None, None, None]"
      ]
     },
     "execution_count": 64,
     "metadata": {},
     "output_type": "execute_result"
    }
   ],
   "source": [
    "## Printing all files in bucket\n",
    "[print(a) for a in bucket.objects.all()]"
   ]
  },
  {
   "cell_type": "code",
   "execution_count": 65,
   "metadata": {
    "ExecuteTime": {
     "end_time": "2022-01-07T23:53:24.041063Z",
     "start_time": "2022-01-07T23:53:23.984854Z"
    }
   },
   "outputs": [
    {
     "data": {
      "text/plain": [
       "'Order.csv'"
      ]
     },
     "execution_count": 65,
     "metadata": {},
     "output_type": "execute_result"
    }
   ],
   "source": [
    "## saving list of file objects\n",
    "file_objects = [b for b in bucket.objects.all()]\n",
    "file_obj = file_objects[0]#\n",
    "file_obj.key"
   ]
  },
  {
   "cell_type": "code",
   "execution_count": 66,
   "metadata": {
    "ExecuteTime": {
     "end_time": "2022-01-07T23:53:24.049804Z",
     "start_time": "2022-01-07T23:53:24.045885Z"
    },
    "scrolled": true
   },
   "outputs": [
    {
     "name": "stdout",
     "output_type": "stream",
     "text": [
      "Attributes and Methods:\n",
      "- self.Acl\n",
      "- self.Bucket\n",
      "- self.MultipartUpload\n",
      "- self.Object\n",
      "- self.Version\n",
      "- self.bucket_name\n",
      "- self.copy_from\n",
      "- self.delete\n",
      "- self.e_tag\n",
      "- self.get\n",
      "- self.get_available_subresources\n",
      "- self.initiate_multipart_upload\n",
      "- self.key\n",
      "- self.last_modified\n",
      "- self.load\n",
      "- self.meta\n",
      "- self.owner\n",
      "- self.put\n",
      "- self.restore_object\n",
      "- self.size\n",
      "- self.storage_class\n",
      "- self.wait_until_exists\n",
      "- self.wait_until_not_exists\n"
     ]
    }
   ],
   "source": [
    "check_methods_attributes(file_obj)"
   ]
  },
  {
   "cell_type": "markdown",
   "metadata": {},
   "source": [
    "# STUDENT ATTEMPT"
   ]
  },
  {
   "cell_type": "code",
   "execution_count": 67,
   "metadata": {
    "ExecuteTime": {
     "end_time": "2022-01-07T23:53:24.208250Z",
     "start_time": "2022-01-07T23:53:24.051252Z"
    }
   },
   "outputs": [
    {
     "ename": "Exception",
     "evalue": "STOP HERE!",
     "output_type": "error",
     "traceback": [
      "\u001b[0;31m---------------------------------------------------------------------------\u001b[0m",
      "\u001b[0;31mException\u001b[0m                                 Traceback (most recent call last)",
      "\u001b[0;32m/var/folders/rf/vw4r41jd7vd95x1w0dth7v9h0000gp/T/ipykernel_31408/1560637795.py\u001b[0m in \u001b[0;36m<module>\u001b[0;34m\u001b[0m\n\u001b[0;32m----> 1\u001b[0;31m \u001b[0;32mraise\u001b[0m \u001b[0mException\u001b[0m\u001b[0;34m(\u001b[0m\u001b[0;34m\"STOP HERE!\"\u001b[0m\u001b[0;34m)\u001b[0m\u001b[0;34m\u001b[0m\u001b[0;34m\u001b[0m\u001b[0m\n\u001b[0m",
      "\u001b[0;31mException\u001b[0m: STOP HERE!"
     ]
    }
   ],
   "source": [
    "raise Exception(\"STOP HERE!\")"
   ]
  },
  {
   "cell_type": "markdown",
   "metadata": {},
   "source": [
    "## ✅ Testing Student Access "
   ]
  },
  {
   "cell_type": "markdown",
   "metadata": {},
   "source": [
    "### Student Credentials"
   ]
  },
  {
   "cell_type": "markdown",
   "metadata": {},
   "source": [
    "- Included in the `./credentials/` folder is a csv with login credentials that have read-only permissions"
   ]
  },
  {
   "cell_type": "code",
   "execution_count": null,
   "metadata": {
    "ExecuteTime": {
     "end_time": "2022-01-07T23:53:24.211506Z",
     "start_time": "2022-01-07T23:53:24.211495Z"
    }
   },
   "outputs": [],
   "source": [
    "## Downlaoded cred\n",
    "creds_df = pd.read_csv('credentials/aws-student-credentials-belt-exam.csv')\n",
    "creds_df"
   ]
  },
  {
   "cell_type": "code",
   "execution_count": null,
   "metadata": {
    "ExecuteTime": {
     "end_time": "2022-01-07T23:53:24.212742Z",
     "start_time": "2022-01-07T23:53:24.212730Z"
    }
   },
   "outputs": [],
   "source": [
    "## make a boto3 session using the provided credentials\n",
    "import boto3\n",
    "session = boto3.Session(\n",
    "  aws_access_key_id=creds_df.loc[0,\"Access key ID\"],##'<your_access_key_id>',\n",
    "  aws_secret_access_key=creds_df.loc[0,\"Secret access key\"]\n",
    ")\n",
    "session"
   ]
  },
  {
   "cell_type": "code",
   "execution_count": null,
   "metadata": {
    "ExecuteTime": {
     "end_time": "2022-01-07T23:53:24.214348Z",
     "start_time": "2022-01-07T23:53:24.214310Z"
    }
   },
   "outputs": [],
   "source": [
    "## create an s3 resource (NOT client) with boto3\n",
    "s3_res = boto3.resource('s3')\n",
    "s3_res"
   ]
  },
  {
   "cell_type": "code",
   "execution_count": null,
   "metadata": {
    "ExecuteTime": {
     "end_time": "2022-01-07T23:53:24.215371Z",
     "start_time": "2022-01-07T23:53:24.215362Z"
    }
   },
   "outputs": [],
   "source": [
    "## Check names of all buckets\n",
    "[print(b) for b in s3_res.buckets.all()];"
   ]
  },
  {
   "cell_type": "code",
   "execution_count": null,
   "metadata": {
    "ExecuteTime": {
     "end_time": "2022-01-07T23:53:24.216105Z",
     "start_time": "2022-01-07T23:53:24.216096Z"
    }
   },
   "outputs": [],
   "source": [
    "## Create a bucket object from the s3 resource using the correct bucket name\n",
    "bucket = s3_res.Bucket(name='data-enrichment-belt-exam')\n",
    "bucket"
   ]
  },
  {
   "cell_type": "code",
   "execution_count": null,
   "metadata": {
    "ExecuteTime": {
     "end_time": "2022-01-07T23:53:24.216667Z",
     "start_time": "2022-01-07T23:53:24.216659Z"
    }
   },
   "outputs": [],
   "source": [
    "## saving list of file objects - list comprehesnions or using list function\n",
    "file_objects = [b for b in bucket.objects.all()]\n",
    "file_objects = list(bucket.objects.all())\n",
    "\n",
    "# file_obj = file_objects[0]#\n",
    "# file_obj.key\n",
    "file_objects"
   ]
  },
  {
   "cell_type": "code",
   "execution_count": null,
   "metadata": {
    "ExecuteTime": {
     "end_time": "2022-01-07T23:53:24.217426Z",
     "start_time": "2022-01-07T23:53:24.217415Z"
    }
   },
   "outputs": [],
   "source": [
    "## download each csv in the bucket  \n",
    "#- students probably wouldn't use a loop\n",
    "import os\n",
    "folder = \"./bucket_files/\"\n",
    "os.makedirs(folder, exist_ok=True)\n",
    "\n",
    "\n",
    "for file in file_objects:\n",
    "    bucket.download_file(Key = file.key,Filename=folder+file.key)"
   ]
  },
  {
   "cell_type": "code",
   "execution_count": null,
   "metadata": {
    "ExecuteTime": {
     "end_time": "2022-01-07T23:53:24.218190Z",
     "start_time": "2022-01-07T23:53:24.218182Z"
    }
   },
   "outputs": [],
   "source": [
    "os.listdir(folder)"
   ]
  },
  {
   "cell_type": "code",
   "execution_count": null,
   "metadata": {
    "ExecuteTime": {
     "end_time": "2022-01-07T23:53:24.218862Z",
     "start_time": "2022-01-07T23:53:24.218854Z"
    }
   },
   "outputs": [],
   "source": [
    "# invoice = pd.read_csv('bucket_files/Invoice.csv')\n",
    "# invoice"
   ]
  },
  {
   "cell_type": "code",
   "execution_count": null,
   "metadata": {
    "ExecuteTime": {
     "end_time": "2022-01-07T23:53:24.219760Z",
     "start_time": "2022-01-07T23:53:24.219751Z"
    }
   },
   "outputs": [],
   "source": [
    "order = pd.read_csv('bucket_files/Order.csv')\n",
    "order"
   ]
  },
  {
   "cell_type": "code",
   "execution_count": null,
   "metadata": {
    "ExecuteTime": {
     "end_time": "2022-01-07T23:53:24.220964Z",
     "start_time": "2022-01-07T23:53:24.220941Z"
    }
   },
   "outputs": [],
   "source": [
    "order_detail = pd.read_csv('bucket_files/OrderDetail.csv')\n",
    "order_detail"
   ]
  },
  {
   "cell_type": "code",
   "execution_count": null,
   "metadata": {
    "ExecuteTime": {
     "end_time": "2022-01-07T23:53:24.221796Z",
     "start_time": "2022-01-07T23:53:24.221787Z"
    }
   },
   "outputs": [],
   "source": [
    "categories = pd.read_csv('bucket_files/categories.csv')\n",
    "categories"
   ]
  },
  {
   "cell_type": "code",
   "execution_count": null,
   "metadata": {
    "ExecuteTime": {
     "end_time": "2022-01-07T23:53:24.222849Z",
     "start_time": "2022-01-07T23:53:24.222841Z"
    }
   },
   "outputs": [],
   "source": [
    "products = pd.read_csv('bucket_files/products.csv')\n",
    "products"
   ]
  },
  {
   "cell_type": "markdown",
   "metadata": {},
   "source": [
    "### BOOKMARK - UPDATING ATTEMPT BELOW"
   ]
  },
  {
   "cell_type": "code",
   "execution_count": null,
   "metadata": {
    "ExecuteTime": {
     "end_time": "2022-01-07T23:53:24.223391Z",
     "start_time": "2022-01-07T23:53:24.223382Z"
    }
   },
   "outputs": [],
   "source": [
    "raise Exceptin('Work in progress 01/07')"
   ]
  },
  {
   "cell_type": "markdown",
   "metadata": {},
   "source": [
    "### Answering Q with Loaded CSVs (testing quality of task, not example solution)"
   ]
  },
  {
   "cell_type": "markdown",
   "metadata": {},
   "source": [
    "- $H_0$: Orders that include discounted products have the same average order total as orders that do not contain discounted products.\n",
    "\n",
    "- $H_A$: Orders that include discounted products have different average order total than orders that do not contain discounted products."
   ]
  },
  {
   "cell_type": "markdown",
   "metadata": {},
   "source": [
    "- Create a Discounted column in order details for if the product was discounted.\n",
    "- Group order details by order id and use .sum() or .any() to get if order had discounted product.\n",
    "- Add to order table for slicing"
   ]
  },
  {
   "cell_type": "code",
   "execution_count": null,
   "metadata": {
    "ExecuteTime": {
     "end_time": "2022-01-07T23:53:24.224413Z",
     "start_time": "2022-01-07T23:53:24.224403Z"
    }
   },
   "outputs": [],
   "source": [
    "# get orders with discounted products \n",
    "order_details['discounted'] = order_details['Discount'] > 0\n",
    "order_details"
   ]
  },
  {
   "cell_type": "code",
   "execution_count": null,
   "metadata": {
    "ExecuteTime": {
     "end_time": "2022-01-07T23:53:24.225033Z",
     "start_time": "2022-01-07T23:53:24.225025Z"
    }
   },
   "outputs": [],
   "source": [
    "orders = orders.set_index('OrderID')\n",
    "orders['included_discount'] = order_details.groupby('OrderID')['discounted'].any()\n",
    "orders"
   ]
  },
  {
   "cell_type": "code",
   "execution_count": null,
   "metadata": {
    "ExecuteTime": {
     "end_time": "2022-01-07T23:53:24.225738Z",
     "start_time": "2022-01-07T23:53:24.225729Z"
    }
   },
   "outputs": [],
   "source": [
    "sns.barplot(data=orders, x='included_discount',y='OrderTotal',ci=68)"
   ]
  },
  {
   "cell_type": "code",
   "execution_count": null,
   "metadata": {
    "ExecuteTime": {
     "end_time": "2022-01-07T23:53:24.226414Z",
     "start_time": "2022-01-07T23:53:24.226406Z"
    }
   },
   "outputs": [],
   "source": [
    "from scipy import stats\n",
    "discounted = orders.loc[ orders['included_discount']==True, 'OrderTotal']\n",
    "nondiscounted = orders.loc[ orders['included_discount']==False, 'OrderTotal']"
   ]
  },
  {
   "cell_type": "code",
   "execution_count": null,
   "metadata": {
    "ExecuteTime": {
     "end_time": "2022-01-07T23:53:24.227071Z",
     "start_time": "2022-01-07T23:53:24.227063Z"
    }
   },
   "outputs": [],
   "source": [
    "sns.histplot(discounted)\n",
    "result = stats.normaltest(discounted)\n",
    "print(result)\n",
    "print(f\"n={len(discounted)}\")\n",
    "result.pvalue < .05"
   ]
  },
  {
   "cell_type": "code",
   "execution_count": null,
   "metadata": {
    "ExecuteTime": {
     "end_time": "2022-01-07T23:53:24.227768Z",
     "start_time": "2022-01-07T23:53:24.227756Z"
    }
   },
   "outputs": [],
   "source": [
    "sns.histplot(nondiscounted)\n",
    "result = stats.normaltest(nondiscounted)\n",
    "print(result)\n",
    "print(f\"- n={len(nondiscounted)}\")\n",
    "print(f\"result.pvalue < .05\")"
   ]
  },
  {
   "cell_type": "code",
   "execution_count": null,
   "metadata": {
    "ExecuteTime": {
     "end_time": "2022-01-07T23:53:24.228468Z",
     "start_time": "2022-01-07T23:53:24.228459Z"
    }
   },
   "outputs": [],
   "source": [
    "result = stats.levene(discounted,nondiscounted)\n",
    "print(result)\n",
    "result.pvalue <.05"
   ]
  },
  {
   "cell_type": "markdown",
   "metadata": {},
   "source": [
    "- We do not have normally distributed groups, but the groups have a very large n.\n",
    "- The groups have equal variance. \n",
    "- We have a choice between using a Student's t-test or the non-parametric equivalent - the Mann-Whitney U test.\n"
   ]
  },
  {
   "cell_type": "code",
   "execution_count": null,
   "metadata": {
    "ExecuteTime": {
     "end_time": "2022-01-07T23:53:24.229183Z",
     "start_time": "2022-01-07T23:53:24.229173Z"
    }
   },
   "outputs": [],
   "source": [
    "result = stats.mannwhitneyu(discounted,nondiscounted)\n",
    "print(result)\n",
    "result.pvalue<.05"
   ]
  },
  {
   "cell_type": "code",
   "execution_count": null,
   "metadata": {
    "ExecuteTime": {
     "end_time": "2022-01-07T23:53:24.230835Z",
     "start_time": "2022-01-07T23:53:24.230821Z"
    }
   },
   "outputs": [],
   "source": [
    "result = stats.ttest_ind(discounted,nondiscounted)\n",
    "print(result)\n",
    "result.pvalue<.05"
   ]
  },
  {
   "cell_type": "code",
   "execution_count": null,
   "metadata": {
    "ExecuteTime": {
     "end_time": "2022-01-07T23:53:24.231800Z",
     "start_time": "2022-01-07T23:53:24.231791Z"
    }
   },
   "outputs": [],
   "source": [
    "ax = sns.barplot(data=orders, x='included_discount',y='OrderTotal',ci=68)\n",
    "ax.set_title('Orders with Discounts Have\\nSignificantly Higher Order Totals',\n",
    "            fontsize=15)"
   ]
  },
  {
   "cell_type": "code",
   "execution_count": null,
   "metadata": {
    "ExecuteTime": {
     "end_time": "2022-01-07T23:53:24.232759Z",
     "start_time": "2022-01-07T23:53:24.232751Z"
    }
   },
   "outputs": [],
   "source": [
    "def Cohen_d(group1, group2, correction = False):\n",
    "    \"\"\"Compute Cohen's d\n",
    "    d = (group1.mean()-group2.mean())/pool_variance.\n",
    "    pooled_variance= (n1 * var1 + n2 * var2) / (n1 + n2)\n",
    "\n",
    "    Args:\n",
    "        group1 (Series or NumPy array): group 1 for calculating d\n",
    "        group2 (Series or NumPy array): group 2 for calculating d\n",
    "        correction (bool): Apply equation correction if N<50. Default is False. \n",
    "            - Url with small ncorrection equation: \n",
    "                - https://www.statisticshowto.datasciencecentral.com/cohens-d/ \n",
    "    Returns:\n",
    "        d (float): calculated d value\n",
    "         \n",
    "    INTERPRETATION OF COHEN's D: \n",
    "    > Small effect = 0.2\n",
    "    > Medium Effect = 0.5\n",
    "    > Large Effect = 0.8\n",
    "    \n",
    "    \"\"\"\n",
    "    import scipy.stats as stats\n",
    "    import scipy   \n",
    "    import numpy as np\n",
    "    N = len(group1)+len(group2)\n",
    "    diff = group1.mean() - group2.mean()\n",
    "\n",
    "    n1, n2 = len(group1), len(group2)\n",
    "    var1 = group1.var()\n",
    "    var2 = group2.var()\n",
    "\n",
    "    # Calculate the pooled threshold as shown earlier\n",
    "    pooled_var = (n1 * var1 + n2 * var2) / (n1 + n2)\n",
    "    \n",
    "    # Calculate Cohen's d statistic\n",
    "    d = diff / np.sqrt(pooled_var)\n",
    "    \n",
    "    ## Apply correction if needed\n",
    "    if (N < 50) & (correction==True):\n",
    "        d=d * ((N-3)/(N-2.25))*np.sqrt((N-2)/N)\n",
    "    return d"
   ]
  },
  {
   "cell_type": "code",
   "execution_count": null,
   "metadata": {
    "ExecuteTime": {
     "end_time": "2022-01-07T23:53:24.233629Z",
     "start_time": "2022-01-07T23:53:24.233620Z"
    }
   },
   "outputs": [],
   "source": [
    "## effect size \n",
    "Cohen_d(nondiscounted,discounted)"
   ]
  },
  {
   "cell_type": "markdown",
   "metadata": {},
   "source": [
    "- We "
   ]
  },
  {
   "cell_type": "markdown",
   "metadata": {},
   "source": [
    "# APPENDIX - NORTHWIND PRIOR WORK [pre 01/07]"
   ]
  },
  {
   "cell_type": "markdown",
   "metadata": {},
   "source": [
    "### Q: Which category of products earns the highest revenue per order?"
   ]
  },
  {
   "cell_type": "code",
   "execution_count": null,
   "metadata": {
    "ExecuteTime": {
     "end_time": "2022-01-07T23:53:24.234635Z",
     "start_time": "2022-01-07T23:53:24.234626Z"
    }
   },
   "outputs": [],
   "source": [
    "q = '''SELECT * FROM categories'''\n",
    "pd.read_sql(q,db)"
   ]
  },
  {
   "cell_type": "code",
   "execution_count": null,
   "metadata": {
    "ExecuteTime": {
     "end_time": "2022-01-07T23:53:24.235587Z",
     "start_time": "2022-01-07T23:53:24.235579Z"
    }
   },
   "outputs": [],
   "source": [
    "q = '''SELECT * FROM `order details`'''\n",
    "df_od = pd.read_sql(q,db)\n",
    "df_od"
   ]
  },
  {
   "cell_type": "code",
   "execution_count": null,
   "metadata": {
    "ExecuteTime": {
     "end_time": "2022-01-07T23:53:24.236078Z",
     "start_time": "2022-01-07T23:53:24.236071Z"
    }
   },
   "outputs": [],
   "source": [
    "q = '''SELECT * FROM `orders`'''\n",
    "df_o = pd.read_sql(q,db)\n",
    "df_o"
   ]
  },
  {
   "cell_type": "markdown",
   "metadata": {},
   "source": []
  },
  {
   "cell_type": "code",
   "execution_count": null,
   "metadata": {
    "ExecuteTime": {
     "end_time": "2022-01-07T23:53:24.236666Z",
     "start_time": "2022-01-07T23:53:24.236658Z"
    }
   },
   "outputs": [],
   "source": [
    "\n",
    "q= \"\"\"SELECT \n",
    "    od.OrderId,\n",
    "    od.ProductID,\n",
    "    od.UnitPrice,\n",
    "    od.Quantity,\n",
    "    od.Discount,\n",
    "    p.ProductName,\n",
    "\tp.CategoryId,\n",
    "    c.CategoryName\n",
    "FROM\n",
    "    `order details` od\n",
    "        JOIN\n",
    "    products p ON p.ProductID = od.ProductID\n",
    "    \n",
    "    JOIN \n",
    "    categories c ON c.CategoryID = p.CategoryID\"\"\"\n",
    "\n",
    "df= pd.read_sql(q,db)\n",
    "df"
   ]
  },
  {
   "cell_type": "code",
   "execution_count": null,
   "metadata": {
    "ExecuteTime": {
     "end_time": "2022-01-07T23:53:24.237348Z",
     "start_time": "2022-01-07T23:53:24.237340Z"
    }
   },
   "outputs": [],
   "source": [
    "ax = sns.barplot(data=df, x='CategoryName', y='Quantity',ci=68)\n",
    "ax.set_xticklabels( ax.get_xticklabels(),rotation=45, ha='right');"
   ]
  },
  {
   "cell_type": "code",
   "execution_count": null,
   "metadata": {
    "ExecuteTime": {
     "end_time": "2022-01-07T23:53:24.237993Z",
     "start_time": "2022-01-07T23:53:24.237984Z"
    }
   },
   "outputs": [],
   "source": [
    "## Calculate  totals\n",
    "df['SubTotal'] = (df['UnitPrice'] * df['Quantity'] )\n",
    "df['Revenue']= df['SubTotal'] - (df['Discount']*df['SubTotal'])\n",
    "df"
   ]
  },
  {
   "cell_type": "code",
   "execution_count": null,
   "metadata": {
    "ExecuteTime": {
     "end_time": "2022-01-07T23:53:24.238815Z",
     "start_time": "2022-01-07T23:53:24.238807Z"
    }
   },
   "outputs": [],
   "source": [
    "ax = sns.barplot(data=df, x='CategoryName', y='Revenue',ci=68)\n",
    "ax.set_xticklabels( ax.get_xticklabels(),rotation=45, ha='right');"
   ]
  },
  {
   "cell_type": "markdown",
   "metadata": {},
   "source": [
    "### Q: Do customers form different countries by higher/lower quantities of products?"
   ]
  },
  {
   "cell_type": "code",
   "execution_count": null,
   "metadata": {
    "ExecuteTime": {
     "end_time": "2022-01-07T23:53:24.239473Z",
     "start_time": "2022-01-07T23:53:24.239463Z"
    }
   },
   "outputs": [],
   "source": [
    "q= \"\"\"SELECT * from customers\"\"\"\n",
    "dfc = pd.read_sql(q,db)\n",
    "dfc.nunique()"
   ]
  },
  {
   "cell_type": "code",
   "execution_count": null,
   "metadata": {
    "ExecuteTime": {
     "end_time": "2022-01-07T23:53:24.240516Z",
     "start_time": "2022-01-07T23:53:24.240505Z"
    }
   },
   "outputs": [],
   "source": [
    "dfc['Country'].value_counts()"
   ]
  },
  {
   "cell_type": "code",
   "execution_count": null,
   "metadata": {
    "ExecuteTime": {
     "end_time": "2022-01-07T23:53:24.241382Z",
     "start_time": "2022-01-07T23:53:24.241373Z"
    }
   },
   "outputs": [],
   "source": [
    "\n",
    "q= \"\"\"SELECT\n",
    "    cu.Country,\n",
    "    cu.CustomerID,\n",
    "    od.OrderId,\n",
    "    od.ProductID,\n",
    "    od.UnitPrice,\n",
    "    od.Quantity,\n",
    "    od.Discount\n",
    "FROM\n",
    "    `order details` od\n",
    "    \n",
    "    JOIN orders o ON o.OrderID = od.OrderID\n",
    "    \n",
    "    JOIN customers cu ON cu.CustomerID=o.CustomerID\n",
    "    \"\"\"\n",
    "\n",
    "df= pd.read_sql(q,db)\n",
    "df"
   ]
  },
  {
   "cell_type": "code",
   "execution_count": null,
   "metadata": {
    "ExecuteTime": {
     "end_time": "2022-01-07T23:53:24.242347Z",
     "start_time": "2022-01-07T23:53:24.242339Z"
    }
   },
   "outputs": [],
   "source": [
    "ax = sns.barplot(data=df, x='Country', y='Quantity',ci=68)\n",
    "ax.set_xticklabels(ax.get_xticklabels(),rotation=45,ha='right');"
   ]
  },
  {
   "cell_type": "code",
   "execution_count": null,
   "metadata": {
    "ExecuteTime": {
     "end_time": "2022-01-07T23:53:24.243296Z",
     "start_time": "2022-01-07T23:53:24.243286Z"
    }
   },
   "outputs": [],
   "source": [
    "## Calculate  totals\n",
    "df['SubTotal'] = (df['UnitPrice'] * df['Quantity'] )\n",
    "df['Revenue']= df['SubTotal'] - (df['Discount']*df['SubTotal'])\n",
    "df"
   ]
  },
  {
   "cell_type": "code",
   "execution_count": null,
   "metadata": {
    "ExecuteTime": {
     "end_time": "2022-01-07T23:53:24.244464Z",
     "start_time": "2022-01-07T23:53:24.244455Z"
    }
   },
   "outputs": [],
   "source": [
    "ax = sns.barplot(data=df, x='Country', y='Revenue',ci=68)\n",
    "ax.set_xticklabels(ax.get_xticklabels(),rotation=45,ha='right');"
   ]
  },
  {
   "cell_type": "markdown",
   "metadata": {},
   "source": [
    "### Q: Do Discounted Products sell in higher quantities than full price products?"
   ]
  },
  {
   "cell_type": "code",
   "execution_count": null,
   "metadata": {
    "ExecuteTime": {
     "end_time": "2022-01-07T23:53:24.245131Z",
     "start_time": "2022-01-07T23:53:24.245122Z"
    }
   },
   "outputs": [],
   "source": [
    "q = \"\"\"SELECT * from `order details`\"\"\"\n",
    "df = pd.read_sql(q,db)\n",
    "df"
   ]
  },
  {
   "cell_type": "code",
   "execution_count": null,
   "metadata": {
    "ExecuteTime": {
     "end_time": "2022-01-07T23:53:24.245751Z",
     "start_time": "2022-01-07T23:53:24.245744Z"
    }
   },
   "outputs": [],
   "source": [
    "df[\"Discounted\"] = df['Discount'] >0\n",
    "df[\"Discounted\"].value_counts()"
   ]
  },
  {
   "cell_type": "code",
   "execution_count": null,
   "metadata": {
    "ExecuteTime": {
     "end_time": "2022-01-07T23:53:24.246735Z",
     "start_time": "2022-01-07T23:53:24.246725Z"
    }
   },
   "outputs": [],
   "source": [
    "ax = sns.barplot(data=df, x='Discounted',y='Quantity',ci=68)"
   ]
  },
  {
   "cell_type": "markdown",
   "metadata": {},
   "source": [
    "### Q: Do discounted products earn more revenue?"
   ]
  },
  {
   "cell_type": "code",
   "execution_count": null,
   "metadata": {
    "ExecuteTime": {
     "end_time": "2022-01-07T23:53:24.247612Z",
     "start_time": "2022-01-07T23:53:24.247604Z"
    }
   },
   "outputs": [],
   "source": [
    "## Calculate  totals\n",
    "df['SubTotal'] = (df['UnitPrice'] * df['Quantity'] )\n",
    "df['Revenue']= df['SubTotal'] - (df['Discount']*df['SubTotal'])\n",
    "df"
   ]
  },
  {
   "cell_type": "code",
   "execution_count": null,
   "metadata": {
    "ExecuteTime": {
     "end_time": "2022-01-07T23:53:24.248360Z",
     "start_time": "2022-01-07T23:53:24.248351Z"
    }
   },
   "outputs": [],
   "source": [
    "ax = sns.barplot(data=df, x='Discounted',y='Revenue',ci=68)"
   ]
  }
 ],
 "metadata": {
  "interpreter": {
   "hash": "6ae6c7071bd7e242701037077e5a31e81cadbb9d9976d0402952ca88cbd7cf46"
  },
  "kernelspec": {
   "display_name": "Python (dojo-env)",
   "language": "python",
   "name": "dojo-env"
  },
  "language_info": {
   "codemirror_mode": {
    "name": "ipython",
    "version": 3
   },
   "file_extension": ".py",
   "mimetype": "text/x-python",
   "name": "python",
   "nbconvert_exporter": "python",
   "pygments_lexer": "ipython3",
   "version": "3.7.12"
  },
  "toc": {
   "base_numbering": 1,
   "nav_menu": {},
   "number_sections": false,
   "sideBar": true,
   "skip_h1_title": false,
   "title_cell": "Table of Contents",
   "title_sidebar": "Contents",
   "toc_cell": true,
   "toc_position": {
    "height": "calc(100% - 180px)",
    "left": "10px",
    "top": "150px",
    "width": "337.188px"
   },
   "toc_section_display": true,
   "toc_window_display": true
  }
 },
 "nbformat": 4,
 "nbformat_minor": 2
}
