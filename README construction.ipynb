{
 "cells": [
  {
   "cell_type": "markdown",
   "id": "3a99dbec",
   "metadata": {},
   "source": [
    "# How to Make a Successful Movie"
   ]
  },
  {
   "cell_type": "markdown",
   "id": "79b41a01",
   "metadata": {},
   "source": [
    "- James M. Irving, Ph.D.\n",
    "\n",
    "\n",
    "<blockquote>\n",
    "    <ul>\n",
    "  <li><a href=\"https://www.linkedin.com/in/james-irving-phd\" rel=\"nofollow noreferrer\">\n",
    "    <img src=\"https://i.stack.imgur.com/gVE0j.png\" alt=\"linkedin\"> LinkedIn\n",
    "  </a> </li>\n",
    "  <li><a href=\"https://github.com/jirvingphd\" rel=\"nofollow noreferrer\">\n",
    "    <img src=\"https://i.stack.imgur.com/tskMh.png\" alt=\"github\"> Github\n",
    "  </a></li>\n",
    "</ul>\n",
    "</blockquote>\n",
    "\n",
    "- Updated 02/02/2024"
   ]
  },
  {
   "cell_type": "markdown",
   "id": "01e934e2-63ac-47df-8863-8b9e27e56143",
   "metadata": {},
   "source": [
    "<center><img src=\"Images/banners/movies-generic-header.png\" width=400px></center>"
   ]
  },
  {
   "cell_type": "markdown",
   "id": "8b8a7396",
   "metadata": {},
   "source": [
    "## Business Problem"
   ]
  },
  {
   "cell_type": "markdown",
   "id": "3c2c144a",
   "metadata": {},
   "source": [
    "\n",
    "I have been hired to process and analyze IMDB's extensive publicly-available dataset, supplement it with financial data from TMDB's API, perform ETL on all of the raw data and construct a MySQL database. \n",
    "\n",
    "I will then export this mysql database as a collection of csvs for constructing a Tableau dashboard.\n",
    "\n",
    "\n",
    "I will use a combination of machine-learning-model-based insights and hypothesis testing to extract insights for our stakeholders on how to make a successful movie.\n"
   ]
  },
  {
   "cell_type": "markdown",
   "id": "a90628f6-1d01-44b6-820c-ddef29be63c4",
   "metadata": {},
   "source": [
    "<hr>\n",
    "\n",
    "### Companion Tableau Dashboard\n",
    "\n",
    "<center><a href=\"https://public.tableau.com/views/HowtoMakeaSuccessfulMovie/Home?:language=en-US&:display_count=n&:origin=viz_share_link\"><img src=\"Images/apps/tableau-dash-main.png\" width=600></a></center>\n",
    "\n",
    "<blockquote><a href=\"https://public.tableau.com/views/MovieDashboard_17068360838980/Home?:language=en-US&publish=yes&:display_count=n&:origin=viz_share_link\">Click here for the Companion Tableau Dashboard</a></blockquote>\n",
    "\n",
    "<hr>\n"
   ]
  },
  {
   "cell_type": "markdown",
   "id": "22a878ca",
   "metadata": {},
   "source": [
    "<!-- <center><img src=\"Images/banners/DALL-E-movie-banner_01.webp\" width=800px alt=\"Successful Movie Banner - Made with DALL E\"></center> -->"
   ]
  },
  {
   "cell_type": "markdown",
   "id": "f66db0ea",
   "metadata": {},
   "source": [
    "# `Part 1- Initial IMDB Data Processing.ipynb`"
   ]
  },
  {
   "cell_type": "markdown",
   "id": "19044305",
   "metadata": {},
   "source": [
    "  \n",
    "### Specifications/Constraints    \n",
    "- The stakeholder wants to focus on attributes of the movies themselves vs. the actors and directors connected to those movies. \n",
    "- They only want to include information related to movies released in the United States.\n",
    "- They also did not want to include movies released before the year 2000.\n",
    "- The stakeholder is particularly interested in how the MPAA rating, genre(s), runtime, budget, and production companies influence movie revenue and user ratings.\n"
   ]
  },
  {
   "cell_type": "markdown",
   "id": "3b0f0db2",
   "metadata": {},
   "source": [
    "#### IMDB Movie Metadata\n",
    "- I will download fresh movie metadata from IMDB's public datasets and filter out movies that meet the stakeholder's requirements/constraints.\n",
    "\n",
    "- IMDB Provides Several Files with varied information for Movies, TV Shows, Made for TV Movies, etc.\n",
    "    - Overview/Data Dictionary: <a href=\"https://www.imdb.com/interfaces/\" target=\"_blank\">https://www.imdb.com/interfaces/</a>\n",
    "\n",
    "    - Downloads page: <a href=\"https://datasets.imdbws.com/\" target=\"_blank\">https://datasets.imdbws.com/</a>\n",
    "- Files to use:\n",
    "    - title.basics.tsv.gz\n",
    "    - title.ratings.tsv.gz\n",
    "    - title.akas.tsv.gz\n",
    "  "
   ]
  },
  {
   "cell_type": "markdown",
   "id": "1b5305fb",
   "metadata": {},
   "source": [
    "#  `Part 2 - Extracting TMDB Data.ipynb`"
   ]
  },
  {
   "cell_type": "markdown",
   "id": "9c7f5c3b-4fbd-4157-ba29-4320e602399b",
   "metadata": {},
   "source": [
    "### Supplement IMDB Data Using The Movie Database  (TMDB)'s API\n",
    "\n",
    "- I will extract MPAA rating and financial data for the movies using TMDB's API.\n",
    "\n",
    "___ \n",
    "\n",
    "<img src=\"./Images/tmdb_logo_blue_long.svg\" width=300px>\n",
    "        \n",
    " \n",
    ">\"This product uses the TMDB API but is not endorsed or certified by TMDB.\" \n",
    "       \n",
    "\n",
    "\n",
    "___"
   ]
  },
  {
   "cell_type": "markdown",
   "id": "a5bd5351-c128-4b9b-a291-017c0021f1fb",
   "metadata": {},
   "source": [
    "        \n",
    "## EDA Summary of Extracted Data\n",
    "\n",
    "### Years Extracted\n",
    "<img src=\"images/EDA_year_counts.png\"  width=60%>\n",
    "\n",
    "\n",
    "### Average Revenue By Year\n",
    "\n",
    "<img src=\"Images/EDA_avg_revenue_per_year.png\" width=60%>\n",
    "\n",
    "### MPAA Rating Counts\n",
    "<img src=\"Images/EDA_certification_counts.png\"  width=60%>"
   ]
  },
  {
   "cell_type": "code",
   "execution_count": 1,
   "id": "2eddb1a4-3f5e-48c9-ae3f-da9175703d89",
   "metadata": {
    "execution": {
     "iopub.execute_input": "2024-02-03T03:17:34.501394Z",
     "iopub.status.busy": "2024-02-03T03:17:34.500516Z",
     "iopub.status.idle": "2024-02-03T03:17:34.511819Z",
     "shell.execute_reply": "2024-02-03T03:17:34.510980Z",
     "shell.execute_reply.started": "2024-02-03T03:17:34.501368Z"
    }
   },
   "outputs": [
    {
     "data": {
      "text/plain": [
       "'Images/EDA_avg_revenue_by_certification.png'"
      ]
     },
     "execution_count": 1,
     "metadata": {},
     "output_type": "execute_result"
    }
   ],
   "source": [
    "\"Images/EDA_avg_revenue_by_certification.png\""
   ]
  },
  {
   "cell_type": "markdown",
   "id": "be5b108a-00c9-4dc0-bb17-bf351cafef7a",
   "metadata": {},
   "source": [
    "### MPAA Rating Revenue Comparison\n",
    "<img src=\"Images/EDA_avg_revenue_by_certification.png\"  width=60%>\n",
    "\n",
    "### MPAA Rating - Average Budget Comparison\n",
    "<img src=\"Images/EDA_avg_budget_by_certification.png\"  width=60%>  \n",
    "\n",
    "### MPAA Rating - Average ROI Comparison\n",
    "<img src=\"Images/EDA_avg_roi_by_certification.png\"  width=60%>\n",
    "        \n",
    "       "
   ]
  },
  {
   "cell_type": "markdown",
   "id": "52b2d8bf",
   "metadata": {},
   "source": [
    "# `Part 3 - MySQL Database Construction`"
   ]
  },
  {
   "cell_type": "markdown",
   "id": "a6f03736-5566-48cf-9389-6e0a732a49d7",
   "metadata": {},
   "source": [
    "- I will then normalize all IMDB movie data into a proper MySQL database.\n",
    "    - MVP Version (included): Local Server Installation with Publicly-Available .sql file for recreationl.\n",
    "    - AAB Version (disabled): AWS-hosted RDS MySQL database. Disabled due to exceeding AWS monthly budget.\n",
    "- See `Data-SQL` folder for:\n",
    "    - `movies.sql`: exported SQL DB\n",
    "    - `movies_project.mwb`: model used for ERD\n",
    "    \n",
    "\n",
    "### ERD\n",
    "\n",
    "\n",
    "<img src=\"Data-SQL/ERD_movies.png\">"
   ]
  },
  {
   "cell_type": "markdown",
   "id": "cb4ef700-c5bb-4832-a1e1-95d7c841e24a",
   "metadata": {},
   "source": [
    "<!-- <img src=\"Data-SQL/ERD_movies-v2.png\"> -->"
   ]
  },
  {
   "cell_type": "markdown",
   "id": "0268f781",
   "metadata": {},
   "source": [
    "# `Part 4 - Hypothesis Testing`\n"
   ]
  },
  {
   "cell_type": "markdown",
   "id": "ad3ace81-9758-4e0b-9795-acf122954f5a",
   "metadata": {},
   "source": [
    "## Hypotheses to Test"
   ]
  },
  {
   "cell_type": "markdown",
   "id": "55547bc3-546c-4c2f-9f32-c13698b50046",
   "metadata": {},
   "source": [
    ">- Q1: Does the MPAA rating of a movie (G/PG/PG-13/R) affect how much revenue the movie generates? If so, which rating earns the most revenue?\n",
    ">- Q2; Do movies that are over 2 hours long earn more or less revenue than movies that are less than 2 hours long?\n",
    ">- Q3: Do movies released after 2020 earn less revenue than movies released before 2020?\n",
    ">- Q4: Do some movie genres earn more revenue than others?"
   ]
  },
  {
   "cell_type": "markdown",
   "id": "7223acad-acd9-42d7-9c3b-d1d098c70973",
   "metadata": {},
   "source": [
    "### Data for Tests (SQL Queries)"
   ]
  },
  {
   "cell_type": "markdown",
   "id": "fb2c7ef4-c127-4229-87e9-4d6a437b1550",
   "metadata": {},
   "source": [
    "- To answer the questions above, 2 version of the data were extracted from the mysql database.\n",
    "    - Query 1) Movie Information for Q1-Q3 (one to one join; one row per movie)\n",
    "    - Query 2) Movie Information for Q4 with genres (one-to-many join; one row per genre per movie)"
   ]
  },
  {
   "cell_type": "markdown",
   "id": "fbc1daff-b10a-4758-98bf-ddb3b6007f06",
   "metadata": {},
   "source": [
    "### Query 1) Movie Certification, Runties, budget, revenue, and metadat"
   ]
  },
  {
   "cell_type": "code",
   "execution_count": 2,
   "id": "2b077553-92b4-4454-842d-913506f7b2f9",
   "metadata": {
    "execution": {
     "iopub.execute_input": "2024-02-03T03:17:34.514755Z",
     "iopub.status.busy": "2024-02-03T03:17:34.514358Z",
     "iopub.status.idle": "2024-02-03T03:17:34.519072Z",
     "shell.execute_reply": "2024-02-03T03:17:34.518667Z",
     "shell.execute_reply.started": "2024-02-03T03:17:34.514723Z"
    }
   },
   "outputs": [
    {
     "data": {
      "text/markdown": [
       "- **SQL Query (For tests exlcuding genres)**\n",
       "```SQL\n",
       "\n",
       "SELECT \n",
       "    tm.imdb_id,\n",
       "    tb.primaryTitle,\n",
       "    tm.release_date,\n",
       "    tm.certification,\n",
       "    tb.runtimeMinutes as runtime,\n",
       "    tm.budget,\n",
       "    tm.revenue\n",
       "FROM\n",
       "    tmdb tm\n",
       "        JOIN\n",
       "    title_basics tb ON tm.imdb_id = tb.tconst\n",
       "WHERE\n",
       "    tm.budget > 0 AND tm.revenue > 0\n",
       "        AND tm.certification IS NOT NULL\n",
       "        AND tm.certification NOT LIKE 'NR'\n",
       "        AND tm.certification NOT LIKE 'NC%';\n",
       "\n",
       "```\n",
       "\n",
       "\n",
       "\n",
       "- **Preview of data:**\n",
       "|    | imdb_id   | primaryTitle                                           | release_date   | certification   |   runtime |    budget |   revenue |\n",
       "|---:|:----------|:-------------------------------------------------------|:---------------|:----------------|----------:|----------:|----------:|\n",
       "|  0 | tt0168629 | Dancer in the Dark                                     | 2000-06-30     | R               |       140 |  12500000 |  45600000 |\n",
       "|  1 | tt0314412 | My Life Without Me                                     | 2003-03-07     | R               |       106 |   2500000 |  12300000 |\n",
       "|  2 | tt0325980 | Pirates of the Caribbean: The Curse of the Black Pearl | 2003-07-09     | PG-13           |       143 | 140000000 | 655011224 |\n",
       "|  3 | tt0266697 | Kill Bill: Vol. 1                                      | 2003-10-10     | R               |       111 |  30000000 | 180906076 |\n",
       "|  4 | tt0338013 | Eternal Sunshine of the Spotless Mind                  | 2004-03-19     | R               |       108 |  20000000 |  72258126 |"
      ],
      "text/plain": [
       "<IPython.core.display.Markdown object>"
      ]
     },
     "metadata": {},
     "output_type": "display_data"
    }
   ],
   "source": [
    "from IPython.display import display, Markdown\n",
    "with open(\"Results/sql-query-non-genres.md\") as f:\n",
    "    display(Markdown(f.read()))"
   ]
  },
  {
   "cell_type": "markdown",
   "id": "74bafd39-4fb0-4035-9d6f-f13b8a81b921",
   "metadata": {},
   "source": [
    "### Query 2) Movie Certification, Runties, budget, revenue, and metadat"
   ]
  },
  {
   "cell_type": "code",
   "execution_count": 3,
   "id": "76ba46f1-be87-4f53-8641-53482fa443fd",
   "metadata": {
    "execution": {
     "iopub.execute_input": "2024-02-03T03:17:34.519985Z",
     "iopub.status.busy": "2024-02-03T03:17:34.519821Z",
     "iopub.status.idle": "2024-02-03T03:17:34.553170Z",
     "shell.execute_reply": "2024-02-03T03:17:34.552795Z",
     "shell.execute_reply.started": "2024-02-03T03:17:34.519970Z"
    }
   },
   "outputs": [
    {
     "data": {
      "text/markdown": [
       "- **SQL Query (For tests including genre)**\n",
       "```SQL\n",
       "\n",
       "SELECT \n",
       "    tm.imdb_id,\n",
       "    tb.primaryTitle,\n",
       "    tm.budget,\n",
       "    tm.revenue,\n",
       "    g.genre_name\n",
       "FROM\n",
       "    tmdb tm\n",
       "        JOIN\n",
       "    title_basics tb ON tm.imdb_id = tb.tconst\n",
       "        JOIN\n",
       "    title_genres tg ON tg.tconst = tb.tconst\n",
       "        JOIN\n",
       "    genres g ON g.genre_id = tg.genre_id\n",
       "WHERE\n",
       "    tm.budget > 0 AND tm.revenue > 0\n",
       "    AND g.genre_name IS NOT NULL\n",
       "    AND g.genre_name NOT LIKE \"News\";\n",
       "\n",
       "```\n",
       "\n",
       "\n",
       "\n",
       "- **Preview of data:**\n",
       "|    | imdb_id   | primaryTitle   |   budget |   revenue | genre_name   |\n",
       "|---:|:----------|:---------------|---------:|----------:|:-------------|\n",
       "|  0 | tt0035423 | Kate & Leopold | 48000000 |  76019048 | Comedy       |\n",
       "|  1 | tt0035423 | Kate & Leopold | 48000000 |  76019048 | Fantasy      |\n",
       "|  2 | tt0035423 | Kate & Leopold | 48000000 |  76019048 | Romance      |\n",
       "|  3 | tt0118589 | Glitter        | 22000000 |   5271666 | Drama        |\n",
       "|  4 | tt0118589 | Glitter        | 22000000 |   5271666 | Music        |"
      ],
      "text/plain": [
       "<IPython.core.display.Markdown object>"
      ]
     },
     "metadata": {},
     "output_type": "display_data"
    }
   ],
   "source": [
    "from IPython.display import display, Markdown\n",
    "with open(\"Results/sql-query-with-genres.md\") as f:\n",
    "    display(Markdown(f.read()))"
   ]
  },
  {
   "cell_type": "markdown",
   "id": "fa9e26ee-d0d2-43c2-8e97-94444d8869dd",
   "metadata": {},
   "source": [
    "## Hypothesis Testing Workflow "
   ]
  },
  {
   "cell_type": "markdown",
   "id": "3fbdd840-af2a-4675-ae6a-cf1ab7cdf060",
   "metadata": {},
   "source": [
    "#### Step 1: Select the Appropriate Hypothesis Test\n",
    "\n",
    "- Q1: What type of data do I have (Numeric or categorical?)\n",
    "- Q2: How many samples/groups am I comparing?\n",
    "\n",
    ">Using the answers to the above 2 questions: select the type of test from this table.\n",
    "\n",
    "| What type of comparison? | Numeric Data | Categorical Data|\n",
    "| --- | --- | --- |\n",
    "|Sample vs Known Quantity/Target|1 Sample T-Test| Binomial Test|\n",
    "|2 Samples | 2 Sample T-Test| Chi-Square|\n",
    "|More than 2| ANOVA and/or Tukey | Chi Square|\n",
    "\n",
    "#### STEP 2:  Do we meet the assumptions of the chosen test?\n",
    "\n",
    "- [One-Sample T-Test](https://statistics.laerd.com/spss-tutorials/one-sample-t-test-using-spss-statistics.php)\n",
    "    - No significant outliers\n",
    "    - Normality\n",
    "\n",
    "- [Independent t-test (2-sample)](https://statistics.laerd.com/statistical-guides/independent-t-test-statistical-guide.php)\n",
    "    - No significant outliers\n",
    "    - Normality\n",
    "    - Equal Variance\n",
    "\n",
    "- [One Way ANOVA](https://statistics.laerd.com/spss-tutorials/one-way-anova-using-spss-statistics.php)\n",
    "    - No significant outliers\n",
    "    - Equal variance\n",
    "    - Normality\n",
    "\n",
    "- [Chi-Square test](https://statistics.laerd.com/spss-tutorials/chi-square-test-for-association-using-spss-statistics.php)\n",
    "    - Both variables are categorical\n",
    "\n",
    " \n",
    "|Assumption test| Function |\n",
    "| --- | --- |\n",
    "| **Normality**| `scipy.stats.shapiro`|\n",
    "| **Equal Variance** | `scipy.stats.levene`|\n",
    "\n",
    "\n",
    "#### Step 3: Select Final Test Based on Checking Assumptions \n",
    "\n",
    "If we meet all of the assumptions, we can use \n",
    "\n",
    "> **Table Source: Parametric  T-Tests vs Non-Parametric Alternatives**\n",
    "- [Choosing Between Parametric and Non-Parametric Tests](https://blog.minitab.com/blog/adventures-in-statistics-2/choosing-between-a-nonparametric-test-and-a-parametric-test)\n",
    "\n",
    "- **Select the test from the right Nonparametric column that matches your Parametric t-test.** \n",
    "\n",
    "<!-- | Parametric tests (means) | Nonparametric tests (medians) |\n",
    " | --- | --- |\n",
    " | 1-sample t test | 1-sample Wilcoxon |\n",
    " | 2-sample t test | Mann-Whitney U test |\n",
    " | One-Way ANOVA | Kruskal-Wallis |\n",
    " -->\n",
    "\n",
    "| Parametric tests (means) | Function | Nonparametric tests (medians) | Function |\n",
    " | --- | --- | --- | --- |\n",
    " | **1-sample t test** |`scipy.stats.ttest_1samp()`|  **1-sample Wilcoxon** |`scipy.stats.wilcoxon`|\n",
    " | **2-sample t test** |`scipy.stats.ttest_ind()` | **Mann-Whitney U test** |`scipy.stats.mannwhitneyu()` |\n",
    " | **One-Way ANOVA** | `scipy.stats.f_oneway()` | **Kruskal-Wallis** | `scipy.stats.kruskal` | \n",
    " \n",
    "\n",
    "- Perform the selected test to obtain the p-value to interpret.\n",
    "\n",
    "\n",
    "#### STEP 4 Interpret Result & Post-Hoc Tests\n",
    "\n",
    "\n",
    "- If p value is < $\\alpha$:\n",
    "    - Reject the null hypothesis.\n",
    "    - Calculate effect size (e.g. Cohen's $d$)\n",
    "    \n",
    "- If p<.05 AND you have multiple groups (i.e. ANOVA)\n",
    "    - Perform a pairwise Tukey's  Multiuple Comparison test to determine which groups were significantly different.\n",
    "    - [Tukey pairwise comparison test](https://www.statsmodels.org/stable/generated/statsmodels.stats.multicomp.pairwise_tukeyhsd.html)\n",
    "    - `statsmodels.stats.multicomp.pairwise_tukeyhsd`\n",
    "    "
   ]
  },
  {
   "cell_type": "markdown",
   "id": "4105326e",
   "metadata": {},
   "source": [
    "## Q1: # Q1: Does MPAA rating affec average revenue?"
   ]
  },
  {
   "cell_type": "markdown",
   "id": "a73f68e1-0999-4fdb-81f8-8c783d7b851b",
   "metadata": {},
   "source": [
    "### Hypothesis\n",
    "- $H_0$ (Null Hypothesis): All MPAA ratings generate have equal average revenue. \n",
    "- $H_A$ (Alternative Hypothesis):  Some MPAA ratings earn significantly more/less revenue than others.\n",
    "\n",
    "### Selecting the Right Test\n",
    "- We have Numerical Data\n",
    "- with more than 2 groups\n",
    "- We want a One way ANOVA\n",
    "\n",
    "### ANOVA Assumptions\n",
    "- No significant outliers\n",
    "- Normality\n",
    "- Equal Variance"
   ]
  },
  {
   "cell_type": "markdown",
   "id": "beca2a14-37fb-4ff5-b542-067cb4deb543",
   "metadata": {},
   "source": [
    "#### Normality Assumption\n",
    "\n",
    "| group   |    n |    stat |           p |   p (.4) | sig?   |\n",
    "|:--------|-----:|--------:|------------:|---------:|:-------|\n",
    "| G       |   76 | 0.71435 | 7.28273e-11 |        0 | True   |\n",
    "| PG      |  528 | 0.68657 | 4.01101e-30 |        0 | True   |\n",
    "| PG-13   | 1374 | 0.58601 | 0           |        0 | True   |\n",
    "| R       | 1602 | 0.57287 | 0           |        0 | True   |\n",
    "\n",
    "- Didn't meet assumption of normality, but group n's are sufficiently large to safely disregard assumption of normality."
   ]
  },
  {
   "cell_type": "markdown",
   "id": "0cd81d6c-f664-42fe-aea2-1a7cf6e514a7",
   "metadata": {},
   "source": [
    "##### Outliers Removed\n",
    "\n",
    "- The following outliers were removed from the analysis using the Z-score method.\n",
    "  \n",
    "| group   |   n (original) |   # outliers | % outliers   |   n (final) |\n",
    "|:--------|---------------:|-------------:|:-------------|------------:|\n",
    "| G       |             76 |            2 | 2.63%        |          74 |\n",
    "| PG      |            528 |           13 | 2.46%        |         515 |\n",
    "| PG-13   |           1374 |           30 | 2.18%        |        1344 |\n",
    "| R       |           1602 |           36 | 2.25%        |        1566 |"
   ]
  },
  {
   "cell_type": "markdown",
   "id": "1c4dc4a2-df37-4ade-a6db-6b2fe0688f06",
   "metadata": {},
   "source": [
    "#### Assumption of Equal Variance\n",
    "\n",
    "```\n",
    "LeveneResult(statistic=114.28641279259686, pvalue=1.3454791463102724e-70)\n",
    "```\n",
    "Groups do not have equal variance. \n",
    "\n",
    "#### Final Test Selection\n",
    "\n",
    "- Since we failed the assumption of equal variance, we will use the non-parametric Kruskal Wallis instead of one-way ANOVA."
   ]
  },
  {
   "cell_type": "markdown",
   "id": "ba9af7b1-f479-4c4b-9ade-838dce2a2fa7",
   "metadata": {},
   "source": [
    "### Hypothsis Test Results\n",
    "\n",
    "- Test Result:\n",
    "```\n",
    "KruskalResult(statistic=475.2106095783153, pvalue=1.1236250591779874e-102)\n",
    "```\n",
    "\n",
    ">- Our Kruskal Wallis test returned a p-value <.0001. Therefore, we reject the null hypothesis.\n",
    "    - We conclude that there is a significant difference in the average revenue for different movie certifications.\n",
    "    - We must perform a pairwise Tukey's Multiple Comparison test to identify which ratings were significantly different.\n",
    "\n",
    "\n",
    "\n",
    "#### Post-Hoc Comparisons\n",
    "\n",
    "```\n",
    "            Multiple Comparison of Means - Tukey HSD, FWER=0.05            \n",
    "===========================================================================\n",
    "group1 group2     meandiff    p-adj       lower           upper      reject\n",
    "---------------------------------------------------------------------------\n",
    "     G     PG   22365342.1324 0.6143  -24763540.9256   69494225.1903  False\n",
    "     G  PG-13  -13536296.5139 0.8686  -58802241.9315   31729648.9037  False\n",
    "     G      R -103245893.7041    0.0 -148344088.6404  -58147698.7679   True\n",
    "    PG  PG-13  -35901638.6462    0.0  -55548148.9444   -16255128.348   True\n",
    "    PG      R -125611235.8365    0.0 -144868097.9603 -106354373.7126   True\n",
    " PG-13      R  -89709597.1902    0.0 -103805729.1106  -75613465.2699   True\n",
    "---------------------------------------------------------------------------\n",
    "```\n",
    "### Final Interpretation\n",
    "\n",
    ">- According to the post-hoc Tukey's tests, G/PG/PG-13 movies make similar average revenue than all other ratings. However, PG movies make more money than PG-13.\n",
    ">- R-rated movied make significantly less revenue than every other genre!\n",
    "\n",
    "\n",
    "<img src=\"Images/hypotheses/revnue_mpaa_rating.png\" >"
   ]
  },
  {
   "cell_type": "markdown",
   "id": "abe70064-14a8-4550-b46f-001afb80e76d",
   "metadata": {},
   "source": [
    "## Q2: Do movies that are over 2 hours long earn more or less revenue than movies that are less than 2 hours long?\n"
   ]
  },
  {
   "cell_type": "markdown",
   "id": "e1fcde58-04d5-4a04-8d5e-f5562a29d843",
   "metadata": {},
   "source": [
    "## Hypothesis\n",
    "- $H_0$ (Null Hypothesis): Movies longer than 2 hours generate the same average revenue as shorter movies.\n",
    "- $H_A$ (Alternative Hypothesis):  Movies longer than 2 hours generate more/less average revenue than shorter movies.\n",
    "\n",
    "### Selecting the Right Test\n",
    "- We have Numerical Data\n",
    "- with 2 groups\n",
    "- 2-sample t-test A.K.A. Independent T-Test\n",
    "\n",
    "### T-Test Assumptions\n",
    "- No significant outliers\n",
    "- Normality\n",
    "- Equal Variance"
   ]
  },
  {
   "cell_type": "markdown",
   "id": "c969336b-0e83-4caa-85f0-96837cdf73fe",
   "metadata": {},
   "source": [
    "#### Normality Assumption\n",
    "\n",
    "| group    |    n |    stat |          p |   p (.4) | sig?   |\n",
    "|:---------|-----:|--------:|-----------:|---------:|:-------|\n",
    "| 2+ hours |  664 | 0.68894 | 3.4863e-33 |        0 | True   |\n",
    "| <2 hours | 2916 | 0.57219 | 0          |        0 | True   |\n",
    "\n",
    "- We didn't meet assumption of normality, but n is sufficiently large to disregard assumption of normality.\n"
   ]
  },
  {
   "cell_type": "markdown",
   "id": "b6d09065-4513-4d16-b974-2f10e668f900",
   "metadata": {},
   "source": [
    "#### Outliers Removed\n",
    "\n",
    "- The following outliers were removed from the analysis using the Z-score method.\n",
    "  \n",
    "| group    |   n (original) |   # outliers | % outliers   |   n (final) |\n",
    "|:---------|---------------:|-------------:|:-------------|------------:|\n",
    "| 2+ hours |            664 |           11 | 1.66%        |         653 |\n",
    "| <2 hours |           2916 |           65 | 2.23%        |        2851 |"
   ]
  },
  {
   "cell_type": "markdown",
   "id": "805581d9-7818-4c94-8403-52e77c00e07f",
   "metadata": {},
   "source": [
    "#### Assumption of Equal Variance\n",
    "```\n",
    "LeveneResult(statistic=527.872338946773, pvalue=6.35084984584201e-109)\n",
    "```\n",
    "- The groups do NOT have equal variance. \n",
    "\n",
    "#### Final Test Selection\n",
    "\n",
    "- Since we failed the assumption of equal variance, we will use Mann Whitney U test instead of a a 2-sample t-test."
   ]
  },
  {
   "cell_type": "markdown",
   "id": "7a07db92-9b1b-4f6e-ac50-2bf1e935bcdd",
   "metadata": {},
   "source": [
    "### Hypothsis Test Results\n",
    "\n",
    "- Test Result:\n",
    "```\n",
    "MannwhitneyuResult(statistic=1312978.5, pvalue=2.3697632561755602e-60)\n",
    "```\n",
    "\n",
    ">- Our Mann-Whitney U-test returned a significant p-value (p<.001), therefore we reject the null hypothesis that movie movies longer than 2 hours earn the same average revenue as shorter movies.\n",
    "\n",
    "\n",
    "### Final Interpretation\n",
    ">- Movies with long runtimes (2+ hours) earn significantly more revenue than movies less than 2 hours long.\n",
    "\n",
    "<img src=\"Images/hypotheses/revenue-by-runtime-group.png\">"
   ]
  },
  {
   "cell_type": "markdown",
   "id": "1116381d-2b4e-4657-999f-da6b5cdfe40d",
   "metadata": {},
   "source": [
    "## Q3: Do movies released after 2020 earn less revenue than movies released before 2020?\n"
   ]
  },
  {
   "cell_type": "markdown",
   "id": "2ae811cd-965c-4515-a52c-e9cf5eb0ec1f",
   "metadata": {},
   "source": [
    "## Hypothesis\n",
    "- $H_0$ (Null Hypothesis): Movies released before 2020 earn the same revenue as movies released during or after 2020.\n",
    "- $H_A$ (Alternative Hypothesis): Movies released before 2020 earn more revenue than movies released during or after 2020.\n",
    "\n",
    "### Selecting the Right Test\n",
    "- We have Numerical Data\n",
    "- with 2 groups\n",
    "- 2-sample t-test A.K.A. Independent T-Test\n",
    "\n",
    "### T-Test Assumptions\n",
    "- No significant outliers\n",
    "- Normality\n",
    "- Equal Variance"
   ]
  },
  {
   "cell_type": "markdown",
   "id": "a7994543-049a-4f20-8303-328f701c8f12",
   "metadata": {},
   "source": [
    "#### Normality Assumption\n",
    "\n",
    "| group   |    n |    stat |           p |   p (.4) | sig?   |\n",
    "|:--------|-----:|--------:|------------:|---------:|:-------|\n",
    "| 2020+   |  365 | 0.51698 | 2.28204e-30 |        0 | True   |\n",
    "| <2020   | 3215 | 0.54951 | 0           |        0 | True   |\n",
    "\n",
    "- We didn't meet assumption of normality, but n is sufficiently large to disregard assumption of normality.\n"
   ]
  },
  {
   "cell_type": "markdown",
   "id": "56cc90a2-49f1-4b76-b278-e2f4dce3b5a3",
   "metadata": {},
   "source": [
    "#### Outliers Removed\n",
    "\n",
    "- The following outliers were removed from the analysis using the Z-score method.\n",
    "  \n",
    "| group   |   n (original) |   # outliers | % outliers   |   n (final) |\n",
    "|:--------|---------------:|-------------:|:-------------|------------:|\n",
    "| 2020+   |            365 |            9 | 2.47%        |         356 |\n",
    "| <2020   |           3215 |           90 | 2.80%        |        3125 |"
   ]
  },
  {
   "cell_type": "markdown",
   "id": "b2ede132-1864-4eae-8ea5-b1dbe22f486e",
   "metadata": {},
   "source": [
    "#### Assumption of Equal Variance\n",
    "\n",
    "```\n",
    "LeveneResult(statistic=3.2007677957173684, pvalue=0.07369067470860166)\n",
    "```\n",
    "- Levene's test returned p-value >.05, therefore we conclude that the groups DO indeed have equal variance.\n",
    "\n",
    "#### Final Test Selection\n",
    "\n",
    "-  Since goups have equal variance and we had sufficient n's to safely ignore the assumption of normality,  we will therefore run planned 2-sample T-test."
   ]
  },
  {
   "cell_type": "markdown",
   "id": "a220654b-8a2d-428d-86b5-3363174228da",
   "metadata": {
    "jp-MarkdownHeadingCollapsed": true
   },
   "source": [
    "### Hypothsis Test Results\n",
    "\n",
    "- Test Result:\n",
    "```\n",
    "Ttest_indResult(statistic=-1.4403686474133954, pvalue=0.14985311221809952)\n",
    "```\n",
    "\n",
    ">- Our 2-sample T-test had a p-value=.14, so we fail to reject the null hypothesis that movies released after 2020 earn less average revenue than movies released before 2020. \n",
    "\n",
    "\n",
    "### Final Interpretation\n",
    ">- Movies released after 2020 earn similar average revenue as movies pre-2020.  \n",
    "\n",
    "<img src=\"Images/hypotheses/revenue-by-year-released.png\">"
   ]
  },
  {
   "cell_type": "markdown",
   "id": "4f1df997-1b77-40a3-ae65-e119bb901ea8",
   "metadata": {},
   "source": [
    "## Q4: Do some movie genres earn more revenue than others?"
   ]
  },
  {
   "cell_type": "markdown",
   "id": "dc1862c6-7a8a-466c-abb8-648a031a9a59",
   "metadata": {},
   "source": [
    "### Hypothesis\n",
    "- $H_0$ (Null Hypothesis): All genres earn the same average revenue.\n",
    "- $H_A$ (Alternative Hypothesis): Some genres earn significantly more or less revenue than others.\n",
    "\n",
    "### Selecting the Right Test\n",
    "- We have Numerical Data\n",
    "- with >2 groups\n",
    "- One-Way ANOVA\n",
    "\n",
    "### ANOVA Assumptions\n",
    "- No significant outliers\n",
    "- Normality\n",
    "- Equal Variance"
   ]
  },
  {
   "cell_type": "markdown",
   "id": "87507ed2-da89-40d9-bc7e-b4042651b834",
   "metadata": {},
   "source": [
    "#### Normality Assumption\n",
    "\n",
    "| group       |    n |    stat |           p |   p (.4) | sig?   |\n",
    "|:------------|-----:|--------:|------------:|---------:|:-------|\n",
    "| Action      | 1251 | 0.64001 | 2.8026e-45  |        0 | True   |\n",
    "| Adventure   |  998 | 0.73643 | 5.09555e-37 |        0 | True   |\n",
    "| Animation   |  284 | 0.81092 | 6.76274e-18 |        0 | True   |\n",
    "| Biography   |  358 | 0.55211 | 3.11521e-29 |        0 | True   |\n",
    "| Comedy      | 1690 | 0.58826 | 0           |        0 | True   |\n",
    "| Crime       |  810 | 0.51515 | 2.6933e-42  |        0 | True   |\n",
    "| Documentary |  103 | 0.4832  | 2.33071e-17 |        0 | True   |\n",
    "| Drama       | 2275 | 0.43823 | 0           |        0 | True   |\n",
    "| Family      |  270 | 0.66299 | 8.07008e-23 |        0 | True   |\n",
    "| Fantasy     |  352 | 0.59515 | 7.26684e-28 |        0 | True   |\n",
    "| History     |  157 | 0.50536 | 7.11757e-21 |        0 | True   |\n",
    "| Horror      |  586 | 0.68522 | 1.38515e-31 |        0 | True   |\n",
    "| Music       |  155 | 0.52749 | 2.51409e-20 |        0 | True   |\n",
    "| Musical     |   42 | 0.6486  | 8.86162e-09 |        0 | True   |\n",
    "| Mystery     |  522 | 0.6905  | 8.043e-30   |        0 | True   |\n",
    "| Romance     |  707 | 0.67684 | 1.40104e-34 |        0 | True   |\n",
    "| Sci-Fi      |  346 | 0.70632 | 3.55921e-24 |        0 | True   |\n",
    "| Sport       |  107 | 0.72344 | 6.64258e-13 |        0 | True   |\n",
    "| Thriller    |  775 | 0.56898 | 6.86069e-40 |        0 | True   |\n",
    "| War         |   57 | 0.63047 | 1.01374e-10 |        0 | True   |\n",
    "| Western     |   19 | 0.57144 | 2.31172e-06 |        0 | True   |\n",
    "\n",
    "\n",
    "\n",
    "\n",
    "\n",
    "\n",
    "\n",
    "- We didn't meet assumption of normality, but group n's are sufficiently large enough to safely disregard assumption of normality.\n"
   ]
  },
  {
   "cell_type": "markdown",
   "id": "cecf7fa6-bc35-45c1-bb07-8cbe14a7567d",
   "metadata": {},
   "source": [
    "##### Outliers Removed\n",
    "\n",
    "- The following outliers were removed from the analysis using the Z-score method.\n",
    "\n",
    "| group       |   n (original) |   # outliers | % outliers   |   n (final) |\n",
    "|:------------|---------------:|-------------:|:-------------|------------:|\n",
    "| Action      |           1251 |           26 | 2.08%        |        1225 |\n",
    "| Adventure   |            998 |           16 | 1.60%        |         982 |\n",
    "| Animation   |            284 |            5 | 1.76%        |         279 |\n",
    "| Biography   |            358 |            6 | 1.68%        |         352 |\n",
    "| Comedy      |           1690 |           42 | 2.49%        |        1648 |\n",
    "| Crime       |            810 |           11 | 1.36%        |         799 |\n",
    "| Documentary |            103 |            2 | 1.94%        |         101 |\n",
    "| Drama       |           2275 |           38 | 1.67%        |        2237 |\n",
    "| Family      |            270 |           10 | 3.70%        |         260 |\n",
    "| Fantasy     |            352 |            7 | 1.99%        |         345 |\n",
    "| History     |            157 |            4 | 2.55%        |         153 |\n",
    "| Horror      |            586 |           11 | 1.88%        |         575 |\n",
    "| Music       |            155 |            3 | 1.94%        |         152 |\n",
    "| Musical     |             42 |            1 | 2.38%        |          41 |\n",
    "| Mystery     |            522 |           12 | 2.30%        |         510 |\n",
    "| Romance     |            707 |           20 | 2.83%        |         687 |\n",
    "| Sci-Fi      |            346 |            8 | 2.31%        |         338 |\n",
    "| Sport       |            107 |            2 | 1.87%        |         105 |\n",
    "| Thriller    |            775 |           18 | 2.32%        |         757 |\n",
    "| War         |             57 |            3 | 5.26%        |          54 |\n",
    "| Western     |             19 |            1 | 5.26%        |          18 |"
   ]
  },
  {
   "cell_type": "markdown",
   "id": "ac641fba-80c5-434a-bb50-7f31865327f3",
   "metadata": {},
   "source": [
    "#### Assumption of Equal Variance\n",
    "\n",
    "```\n",
    "LeveneResult(statistic=108.42043594386612, pvalue=0.0)\n",
    "```\n",
    "Groups do NOT have equal variance. \n",
    "\n",
    "#### Final Test Selection\n",
    "\n",
    "- Since we failed the assumption of equal variance, we will use the non-parametric Kruskal Wallis instead of one-way ANOVA."
   ]
  },
  {
   "cell_type": "markdown",
   "id": "b063be67-99be-4578-8c9d-03dd7713717a",
   "metadata": {},
   "source": [
    "### Hypothsis Test Results\n",
    "\n",
    "- Test Result:\n",
    "```\n",
    "KruskalResult(statistic=1322.232973478133, pvalue=5.122009908940558e-268)\n",
    "```\n",
    "\n",
    ">- Our Kruskal Wallis test returned a p-value<.0001, so we reject the null hypothesis that all genres earn the same average revenue.\n",
    ">- We must peform a Tukey's Pairwise Multiple Comparison Test to confirm which groups are significantly different.\n",
    "\n",
    "\n",
    "<img src=\"Images/hypotheses/revenue-by-genre.png\" >\n",
    "\n",
    "#### Post-Hoc Comparisons\n",
    "\n",
    "> Note: the full results table is too large to display here, so  we will use the built-in diagnostic plot to visualize significant difference.\n",
    "\n",
    "<img src=\"Images/hypotheses/revenue-by-genre_tukeys_full.png\" width=800px>\n",
    "\n",
    "\n",
    "> We can see that there are many pairs of significant comparisons between genres. We will focus on examining the significance of the Genres with the highest average revenue."
   ]
  },
  {
   "cell_type": "markdown",
   "id": "3cc76ab5-7ea7-4b64-a9a8-29aeb66a6d55",
   "metadata": {},
   "source": [
    "### Tukey's Results - Highlighted Comparisons\n",
    "\n",
    "> In the graphs below, the group being compared vs. the other groups is annotated in blue. \n",
    "Any groups that were signficantly different from this group will be annotated in red. Any groups that were statistically similarly will be in light gray.\n",
    "\n",
    "#### Animation & Adventure\n",
    "\n",
    "> Below, we can see that both Animation and Adventure generate significantly more revenue than all other genres(but are not different vs. each other).\n",
    "\n",
    "##### Animation vs. All\n",
    "<img src=\"Images/hypotheses/revenue-by-genre_tukeys_Animation.png\" width=800px>\n",
    "\n",
    "##### Adventure vs. All\n",
    "<img src=\"Images/hypotheses/revenue-by-genre_tukeys_Adventure.png\" width=800px>\n",
    "\n",
    "#### Sci-Fi  & Fantasy & Action\n",
    "\n",
    "> Sci-Fi and Fantasy are the next-highest average revenue (but are not differnent vs. each other).\n",
    "Below, we can see that both Sci-Fi and Fantasy generate significantly more revenue than many other genres, but they are not different vs. each other.\n",
    "\n",
    "\n",
    "##### Sci-Fi vs. All\n",
    "<img src=\"Images/hypotheses/revenue-by-genre_tukeys_Sci-Fi.png\" width=800px>\n",
    "\n",
    "\n",
    "##### Fantasy vs. All\n",
    "<img src=\"Images/hypotheses/revenue-by-genre_tukeys_Fantasy.png\" width=800px>\n",
    "\n",
    "\n",
    "##### Action vs. All\n",
    "Finally, action is the next most highest earning genre that is statistically significant vs the other genres, except for \n",
    "\n",
    "<img src=\"Images/hypotheses/revenue-by-genre_tukeys_Action.png\" width=800px>\n",
    "\n",
    "\n",
    "\n",
    "\n",
    "We can see that Adventure and Action movies generate significantly more revenue than all others (but are not different vs. each other). "
   ]
  },
  {
   "cell_type": "markdown",
   "id": "84745f44-9837-4268-a8ea-3d9edaa157fc",
   "metadata": {},
   "source": [
    "### Final Interpretation\n",
    "\n",
    ">- According to the post-hoc Tukey's tests, there are many gnere differneces in average revenue, but the 5 significantly more successful genres were: Animation, Adventure, Sci-Fi, Fantasy, and Action."
   ]
  },
  {
   "cell_type": "markdown",
   "id": "fc2c814c-72d1-41d9-b57a-90b853543a5e",
   "metadata": {},
   "source": [
    "## Hypothesis Testing Summary &  Recommendations"
   ]
  },
  {
   "cell_type": "markdown",
   "id": "6c05694d-b344-40eb-a801-fa80d5d7c3fb",
   "metadata": {
    "execution": {
     "iopub.execute_input": "2024-02-03T03:06:22.844747Z",
     "iopub.status.busy": "2024-02-03T03:06:22.844366Z",
     "iopub.status.idle": "2024-02-03T03:06:22.854963Z",
     "shell.execute_reply": "2024-02-03T03:06:22.851857Z",
     "shell.execute_reply.started": "2024-02-03T03:06:22.844722Z"
    }
   },
   "source": [
    "Our recommendations for how to produce a successful move, nased on the results of our hypothesis tests are the following:\n",
    "\n",
    "1) MPAA-Rating/Certification:  Make a movie that is rated either \"PG\" or \"PG-13\" (definitely not \"R\")!\n",
    "2) Runtime: Make a movie that is longer than 2 hours.\n",
    "3) Release Year: Average Revenue in the post-COVID years has not significantly changed vs. pre-pandemic. If you were waiting due to fears about covid-related lost revenue, stop waiting and start making movies!\n",
    "4) Genres: Make a movie in the following genres:\n",
    "    1.  Animation\n",
    "    2.  Adventure\n",
    "    3.  Sci-Fi\n",
    "    4.  Fantasy"
   ]
  },
  {
   "cell_type": "markdown",
   "id": "282c89aa-3c5c-4388-b465-d866b26df123",
   "metadata": {},
   "source": [
    "___\n",
    "\n",
    "## TO DO: Update Remaining Machine-Learning Modeling and Related Insights:\n",
    "___"
   ]
  },
  {
   "cell_type": "markdown",
   "id": "2f06d28c-792c-4278-b6cd-0cb214917e71",
   "metadata": {},
   "source": [
    "- Update the machine learning analysis to get fresh results with the full 2024 dataset."
   ]
  },
  {
   "cell_type": "markdown",
   "id": "91382505",
   "metadata": {},
   "source": [
    "## `Part 5 - Regression Model-Based Insights` - WIP\n",
    "\n",
    ">Note: Previous Results with smaller dataset are below."
   ]
  },
  {
   "cell_type": "markdown",
   "id": "c7f2bd04",
   "metadata": {},
   "source": [
    "- Finally I will use Linear Regression and other machine learning models to predict movie revenue / ROI to extract insights and recommendations on what features of a movie are positive/negative predictors of success.\n",
    "\n",
    "### Best Model\n",
    "```\n",
    "OLS Regression Results                            \n",
    "==============================================================================\n",
    "Dep. Variable:                revenue   R-squared:                       0.637\n",
    "Model:                            OLS   Adj. R-squared:                  0.630\n",
    "Method:                 Least Squares   F-statistic:                     85.56\n",
    "Date:                Sat, 21 May 2022   Prob (F-statistic):               0.00\n",
    "Time:                        22:28:25   Log-Likelihood:                -60226.\n",
    "No. Observations:                3229   AIC:                         1.206e+05\n",
    "Df Residuals:                    3163   BIC:                         1.210e+05\n",
    "Df Model:                          65                                         \n",
    "Covariance Type:            nonrobust                                         \n",
    "======================================================================================================\n",
    "                                         coef    std err          t      P>|t|      [0.025      0.975]\n",
    "------------------------------------------------------------------------------------------------------\n",
    "certification_G                    -5.013e+06   3.09e+07     -0.162      0.871   -6.55e+07    5.55e+07\n",
    "certification_MISSING                  0.6335      0.028     22.276      0.000       0.578       0.689\n",
    "certification_NC-17                 5.324e+05   6.58e+04      8.085      0.000    4.03e+05    6.61e+05\n",
    "certification_NR                    1.255e+05   2.88e+04      4.363      0.000    6.91e+04    1.82e+05\n",
    "certification_PG                   -1.088e+05   5.19e+05     -0.210      0.834   -1.13e+06    9.09e+05\n",
    "certification_PG-13                 1.218e+04    473.072     25.747      0.000    1.13e+04    1.31e+04\n",
    "certification_R                    -2.189e+05   1.07e+05     -2.038      0.042    -4.3e+05   -8310.648\n",
    "adult                              -1.054e+05   1.59e+05     -0.662      0.508   -4.17e+05    2.07e+05\n",
    "budget                              2.341e+04    6.4e+04      0.366      0.715   -1.02e+05    1.49e+05\n",
    "popularity                          6.195e+07   2.72e+07      2.278      0.023    8.62e+06    1.15e+08\n",
    "runtime                             5.291e+07   2.72e+07      1.942      0.052   -5.19e+05    1.06e+08\n",
    "vote_average                        4.577e+07    2.8e+07      1.637      0.102   -9.04e+06    1.01e+08\n",
    "vote_count                          5.081e+07   2.73e+07      1.863      0.063   -2.66e+06    1.04e+08\n",
    "year                                 6.01e+07   2.71e+07      2.219      0.027       7e+06    1.13e+08\n",
    "month                               5.592e+07    2.7e+07      2.074      0.038    3.05e+06    1.09e+08\n",
    "day                                 4.456e+07   2.69e+07      1.654      0.098   -8.26e+06    9.74e+07\n",
    "belongs_to_collection                1.67e+07   1.58e+06     10.563      0.000    1.36e+07    1.98e+07\n",
    "ProdComp_20th Century Fox           9.646e+06   3.92e+06      2.458      0.014    1.95e+06    1.73e+07\n",
    "ProdComp_BBC Films                  9.638e+05   5.09e+06      0.189      0.850   -9.01e+06    1.09e+07\n",
    "ProdComp_Blumhouse Productions      1.456e+07   5.95e+06      2.447      0.014    2.89e+06    2.62e+07\n",
    "ProdComp_CJ Entertainment             1.6e+07      6e+06      2.664      0.008    4.22e+06    2.78e+07\n",
    "ProdComp_Canal+                     4.215e+05   3.86e+06      0.109      0.913   -7.14e+06    7.98e+06\n",
    "ProdComp_Ciné+                       -6.7e+06    6.4e+06     -1.047      0.295   -1.92e+07    5.84e+06\n",
    "ProdComp_Columbia Pictures          2.052e+07   3.24e+06      6.334      0.000    1.42e+07    2.69e+07\n",
    "ProdComp_Dimension Films            5.014e+06   5.36e+06      0.936      0.349   -5.49e+06    1.55e+07\n",
    "ProdComp_DreamWorks Animation       4.437e+07    1.4e+07      3.160      0.002    1.68e+07    7.19e+07\n",
    "ProdComp_DreamWorks Pictures        9.409e+06    4.3e+06      2.188      0.029    9.77e+05    1.78e+07\n",
    "ProdComp_Dune Entertainment         1.419e+07   5.58e+06      2.546      0.011    3.26e+06    2.51e+07\n",
    "ProdComp_Epsilon Motion Pictures   -7.884e+06   6.33e+06     -1.245      0.213   -2.03e+07    4.53e+06\n",
    "ProdComp_EuropaCorp                -1.165e+07   6.67e+06     -1.745      0.081   -2.47e+07    1.44e+06\n",
    "ProdComp_Film4 Productions         -6.472e+06    5.5e+06     -1.176      0.240   -1.73e+07    4.32e+06\n",
    "ProdComp_Focus Features             2.026e+06   4.48e+06      0.452      0.651   -6.76e+06    1.08e+07\n",
    "ProdComp_Fox 2000 Pictures          1.651e+07   6.93e+06      2.381      0.017    2.92e+06    3.01e+07\n",
    "ProdComp_Fox Searchlight Pictures  -2.021e+06   4.81e+06     -0.420      0.675   -1.15e+07    7.42e+06\n",
    "ProdComp_France 2 Cinéma           -1.154e+07    6.2e+06     -1.860      0.063   -2.37e+07    6.25e+05\n",
    "ProdComp_France 3 Cinéma           -1.394e+06   6.02e+06     -0.232      0.817   -1.32e+07    1.04e+07\n",
    "ProdComp_Ingenious Media           -5.116e+06   6.49e+06     -0.788      0.431   -1.78e+07    7.61e+06\n",
    "ProdComp_Legendary Pictures        -5.125e+06   8.51e+06     -0.603      0.547   -2.18e+07    1.16e+07\n",
    "ProdComp_Lionsgate                 -5.177e+05   3.62e+06     -0.143      0.886   -7.61e+06    6.57e+06\n",
    "ProdComp_MISSING                     3.23e-09   6.99e-09      0.462      0.644   -1.05e-08    1.69e-08\n",
    "ProdComp_Metro-Goldwyn-Mayer        6.656e+06   4.56e+06      1.459      0.145   -2.29e+06    1.56e+07\n",
    "ProdComp_Millennium Films          -6.043e+06   5.23e+06     -1.155      0.248   -1.63e+07    4.22e+06\n",
    "ProdComp_Miramax                    1.041e+07   4.57e+06      2.280      0.023    1.46e+06    1.94e+07\n",
    "ProdComp_New Line Cinema            1.999e+07   3.62e+06      5.522      0.000    1.29e+07    2.71e+07\n",
    "ProdComp_New Regency Pictures       -4.61e+05   8.07e+06     -0.057      0.954   -1.63e+07    1.54e+07\n",
    "ProdComp_Original Film             -3.267e+06   6.88e+06     -0.475      0.635   -1.68e+07    1.02e+07\n",
    "ProdComp_Paramount                  1.899e+07   3.22e+06      5.902      0.000    1.27e+07    2.53e+07\n",
    "ProdComp_Participant                4.634e+06   6.27e+06      0.739      0.460   -7.66e+06    1.69e+07\n",
    "ProdComp_Regency Enterprises       -1.741e+06   7.34e+06     -0.237      0.812   -1.61e+07    1.26e+07\n",
    "ProdComp_Relativity Media            9.11e+06   4.07e+06      2.239      0.025    1.13e+06    1.71e+07\n",
    "ProdComp_Revolution Studios        -1.358e+06    6.2e+06     -0.219      0.827   -1.35e+07    1.08e+07\n",
    "ProdComp_Scott Free Productions    -3.074e+06   6.64e+06     -0.463      0.643   -1.61e+07    9.94e+06\n",
    "ProdComp_Scott Rudin Productions    3.177e+05   5.52e+06      0.058      0.954   -1.05e+07    1.11e+07\n",
    "ProdComp_Screen Gems                1.468e+07   4.62e+06      3.175      0.002    5.61e+06    2.37e+07\n",
    "ProdComp_Sony Pictures              8.084e+06   4.65e+06      1.740      0.082   -1.02e+06    1.72e+07\n",
    "ProdComp_Spyglass Entertainment      5.08e+06   6.77e+06      0.751      0.453   -8.19e+06    1.83e+07\n",
    "ProdComp_StudioCanal                5.524e+06   4.35e+06      1.269      0.205   -3.01e+06    1.41e+07\n",
    "ProdComp_Summit Entertainment      -2.763e+06   4.66e+06     -0.593      0.553   -1.19e+07    6.38e+06\n",
    "ProdComp_TF1 Films Production       5.961e+06   7.19e+06      0.829      0.407   -8.14e+06    2.01e+07\n",
    "ProdComp_TSG Entertainment          9.122e+05   7.01e+06      0.130      0.896   -1.28e+07    1.46e+07\n",
    "ProdComp_The Weinstein Company     -9.314e+05   5.49e+06     -0.170      0.865   -1.17e+07    9.83e+06\n",
    "ProdComp_Touchstone Pictures         1.59e+07   4.57e+06      3.483      0.001    6.95e+06    2.49e+07\n",
    "ProdComp_Universal Pictures         1.381e+07   2.82e+06      4.892      0.000    8.28e+06    1.93e+07\n",
    "ProdComp_Village Roadshow Pictures  7.873e+06   5.63e+06      1.399      0.162   -3.16e+06    1.89e+07\n",
    "ProdComp_Walt Disney Pictures       2.679e+07   4.66e+06      5.751      0.000    1.77e+07    3.59e+07\n",
    "ProdComp_Warner Bros. Pictures      1.684e+06   3.16e+06      0.533      0.594   -4.51e+06    7.88e+06\n",
    "ProdComp_Working Title Films        1.444e+06   6.35e+06      0.227      0.820    -1.1e+07    1.39e+07\n",
    "const                                3.72e+08   1.89e+08      1.969      0.049    1.65e+06    7.42e+08\n",
    "==============================================================================\n",
    "Omnibus:                      606.983   Durbin-Watson:                   1.992\n",
    "Prob(Omnibus):                  0.000   Jarque-Bera (JB):             2441.537\n",
    "Skew:                           0.875   Prob(JB):                         0.00\n",
    "Kurtosis:                       6.884   Cond. No.                     2.54e+23\n",
    "==============================================================================\n",
    "\n",
    "Notes:\n",
    "[1] Standard Errors assume that the covariance matrix of the errors is correctly specified.\n",
    "[2] The smallest eigenvalue is 5.63e-29. This might indicate that there are\n",
    "strong multicollinearity problems or that the design matrix is singular.\n",
    "```\n",
    "\n",
    "<img src=\"Images/OLS_best_linear_reg.png\">"
   ]
  },
  {
   "cell_type": "markdown",
   "id": "5679d70f",
   "metadata": {},
   "source": [
    "## Model Coefiicents and Importances"
   ]
  },
  {
   "cell_type": "markdown",
   "id": "b222de33",
   "metadata": {},
   "source": [
    "### OLS Coefficients\n",
    "\n",
    "<img src=\"Images/OLS_coeffs.png\" width=55%>"
   ]
  },
  {
   "cell_type": "markdown",
   "id": "cd7ae46b",
   "metadata": {},
   "source": [
    "### Random Forest - Built-in Feature Importance\n",
    "<img src=\"Images/rf_importance.png\" width=60%>\n",
    "\n",
    "### Permutation Importance\n",
    "<img src=\"Images/permutation_importance.png\" width=60%>"
   ]
  },
  {
   "cell_type": "markdown",
   "id": "a5f3345e",
   "metadata": {},
   "source": [
    "\n",
    "### Model-Based-Insights Summary\n",
    "\n",
    "In this project, I have processed, analyzed, and modeled a large dataset of movie data from IMDB and TMDB. I identified several statistically significant relationships between movie attributes and both revenue and user ratings.\n",
    "\n",
    "\n",
    "Here are some of the key insights gained from this analysis:\n",
    "\n",
    "* MPAA rating significantly impacts movie revenue. R-rated movies tend to generate less revenue than G, PG, or PG-13 rated movies.\n",
    "* Movie runtime also significantly impacts revenue. Movies over 2 hours tend to generate more revenue than shorter movies.\n",
    "  \n",
    "* Movie budget is a significant predictor of revenue, but the relationship is not linear. Movies with budgets between \\$50 million and \\$150 million tend to generate the most revenue.\n",
    "* Movie release month and day have a small but statistically significant impact on revenue. Summer-released movies tend to generate more revenue than movies released in other seasons.\n",
    "* Production companies involved in making a movie can also significantly impact revenue. Movies produced by certain companies, such as DreamWorks Animation and Pixar, tend to generate more revenue than movies produced by other companies.\n",
    "\n",
    "These insights can be used by movie studios and distributors to make informed decisions about how to produce and market their movies. For example, studios may want to focus on producing R-rated movies that are shorter, have larger budgets, and are released in the summer. Studios may also want to partner with production companies that have a proven track record of success.\n",
    "\n",
    "\n",
    "In addition to these insights, I have also developed a regression model that can be used to predict the revenue of a movie based on its attributes. This model can be used by studios and distributors to estimate the potential revenue of a movie before it is released."
   ]
  }
 ],
 "metadata": {
  "kernelspec": {
   "display_name": "Python (dojo-env)",
   "language": "python",
   "name": "dojo-env"
  },
  "language_info": {
   "codemirror_mode": {
    "name": "ipython",
    "version": 3
   },
   "file_extension": ".py",
   "mimetype": "text/x-python",
   "name": "python",
   "nbconvert_exporter": "python",
   "pygments_lexer": "ipython3",
   "version": "3.10.10"
  },
  "toc": {
   "base_numbering": 1,
   "nav_menu": {},
   "number_sections": false,
   "sideBar": true,
   "skip_h1_title": false,
   "title_cell": "Table of Contents",
   "title_sidebar": "Contents",
   "toc_cell": false,
   "toc_position": {
    "height": "calc(100% - 180px)",
    "left": "10px",
    "top": "150px",
    "width": "299.188px"
   },
   "toc_section_display": true,
   "toc_window_display": true
  }
 },
 "nbformat": 4,
 "nbformat_minor": 5
}
