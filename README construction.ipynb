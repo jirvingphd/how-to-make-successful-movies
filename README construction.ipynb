{
 "cells": [
  {
   "cell_type": "markdown",
   "id": "3a99dbec",
   "metadata": {},
   "source": [
    "# How to Make a Successful Movie"
   ]
  },
  {
   "cell_type": "markdown",
   "id": "79b41a01",
   "metadata": {},
   "source": [
    "- James M. Irving"
   ]
  },
  {
   "cell_type": "markdown",
   "id": "22a878ca",
   "metadata": {},
   "source": [
    "<img src=\"Images/movies-generic-header.png\" width=300px>"
   ]
  },
  {
   "cell_type": "markdown",
   "id": "8b8a7396",
   "metadata": {},
   "source": [
    "## Business Problem"
   ]
  },
  {
   "cell_type": "markdown",
   "id": "3c2c144a",
   "metadata": {},
   "source": [
    "I have been hired to produce analyze IMDB's extensive publicly-available dataset, supplement it with financial data from TMDB's API, convert the raw data into a MySQL database, and then use that database for extracting insights and recommendations on how to make a successful movie.\n",
    "\n",
    "I will use a combination of machine-learning-model-based insights and hypothesis testing to extract insights for our stakeholder.\n",
    "    "
   ]
  },
  {
   "cell_type": "markdown",
   "id": "19044305",
   "metadata": {},
   "source": [
    "  \n",
    "### Specifications/Constraints    \n",
    "- The stakeholder wants to focus on attributes of the movies themselves, vs the actors and directors connected to those movies. \n",
    "- They only want to include information related to movies released in the United States.\n",
    "- They also did not want to include movies released before the year 2000.\n",
    "- The stakeholder is particularly interested in how the MPAA rating, genre(s), runtime, budget, and production companies influence movie revenue and user-ratings."
   ]
  },
  {
   "cell_type": "markdown",
   "id": "a64b40d2",
   "metadata": {},
   "source": [
    "        \n",
    "# Methods"
   ]
  },
  {
   "cell_type": "markdown",
   "id": "f66db0ea",
   "metadata": {},
   "source": [
    "### `Part 1- Initial IMDB Data Processing.ipynb`"
   ]
  },
  {
   "cell_type": "markdown",
   "id": "3b0f0db2",
   "metadata": {},
   "source": [
    "#### IMDB Movie Metadata\n",
    "- I will download fresh movie metadata from IMDB's public datasets and filter out movies that meet the stakeholder's requirements/constraints.\n",
    "\n",
    "- IMDB Provides Several Files with varied information for Movies, TV Shows, Made for TV Movies, etc.\n",
    "    - Overview/Data Dictionary: <a href=\"https://www.imdb.com/interfaces/\" target=\"_blank\">https://www.imdb.com/interfaces/</a>\n",
    "\n",
    "    - Downloads page: <a href=\"https://datasets.imdbws.com/\" target=\"_blank\">https://datasets.imdbws.com/</a>\n",
    "- Files to use:\n",
    "    - title.basics.tsv.gz\n",
    "    - title.ratings.tsv.gz\n",
    "    - title.akas.tsv.gz\n",
    "  "
   ]
  },
  {
   "cell_type": "markdown",
   "id": "1b5305fb",
   "metadata": {},
   "source": [
    "###  `Part 2 - Extracting TMDB Data.ipynb`"
   ]
  },
  {
   "cell_type": "markdown",
   "id": "df710c2f",
   "metadata": {},
   "source": [
    "#### Supplement Data from The Movie Database  (TMDB)'s\n",
    "\n",
    "- I will extract MPAA rating and financial data for the movies using TMDB's API.\n",
    "\n",
    "<img src=\"./Images/tmdb_logo_blue_long.svg\" width=400px>\n",
    "        \n",
    " \n",
    ">\"This product uses the TMDB API but is not endorsed or certified by TMDB.\" \n",
    "       \n",
    "        \n",
    "        \n",
    "        \n",
    "       "
   ]
  },
  {
   "cell_type": "markdown",
   "id": "52b2d8bf",
   "metadata": {},
   "source": [
    "### `Part 3 - MySQL Database Construction`"
   ]
  },
  {
   "cell_type": "markdown",
   "id": "2d91196e",
   "metadata": {},
   "source": [
    "- I will then normalize all IMDB movie data into a proper MySQL database.\n",
    "    - MVP Version (included): Local Server Installation with Publicly-Available .sql file for recreationl.\n",
    "    - AAB Version (future work): AWS-hosted RDS MySQL database. \n",
    "    "
   ]
  },
  {
   "cell_type": "markdown",
   "id": "0268f781",
   "metadata": {},
   "source": [
    "### `Part 4 - Hypothesis Testing`\n"
   ]
  },
  {
   "cell_type": "markdown",
   "id": "5b971369",
   "metadata": {},
   "source": [
    "- I will then use the MySQL database to answer several hypotheses about movie success."
   ]
  },
  {
   "cell_type": "markdown",
   "id": "91382505",
   "metadata": {},
   "source": [
    "### `Part 5 - Regression Model-Based Insights`"
   ]
  },
  {
   "cell_type": "markdown",
   "id": "c7f2bd04",
   "metadata": {},
   "source": [
    "- Finally I will use Linear Regression and other machine learning models to predict movie revenue / ROI to extract insights and recommendations on what features of a movie are positive/negative predictors of success."
   ]
  }
 ],
 "metadata": {
  "kernelspec": {
   "display_name": "Python (dojo-env-m1)",
   "language": "python",
   "name": "dojo-env-m1"
  },
  "language_info": {
   "codemirror_mode": {
    "name": "ipython",
    "version": 3
   },
   "file_extension": ".py",
   "mimetype": "text/x-python",
   "name": "python",
   "nbconvert_exporter": "python",
   "pygments_lexer": "ipython3",
   "version": "3.8.13"
  },
  "toc": {
   "base_numbering": 1,
   "nav_menu": {},
   "number_sections": false,
   "sideBar": true,
   "skip_h1_title": false,
   "title_cell": "Table of Contents",
   "title_sidebar": "Contents",
   "toc_cell": false,
   "toc_position": {
    "height": "calc(100% - 180px)",
    "left": "10px",
    "top": "150px",
    "width": "299.188px"
   },
   "toc_section_display": true,
   "toc_window_display": true
  }
 },
 "nbformat": 4,
 "nbformat_minor": 5
}
