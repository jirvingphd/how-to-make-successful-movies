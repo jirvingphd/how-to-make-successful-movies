{
 "cells": [
  {
   "cell_type": "markdown",
   "id": "19d2b7bf-17d9-43d5-bb17-b6ff81ca6108",
   "metadata": {},
   "source": [
    "# Part 6 - Predicting Review Classifications"
   ]
  },
  {
   "attachments": {},
   "cell_type": "markdown",
   "id": "1be9f244-9a66-4989-b256-f04c9c6c41e7",
   "metadata": {},
   "source": [
    "## Tasks\n",
    "For this part of the project, you will using machine learning and deep NLP to classify the reviews.\n",
    "### Repo Prep\n",
    "\n",
    "\n",
    "- Create a `\"Models/\"` folder in your project repository, with the following sub-folders: \n",
    "    - `\"Models/ml/\"`. You will save your sklearn model pipelines here for later use in deployment.\n",
    "    - `\"Models/nn/\"`. You will save your tensorflow models here for later use in deployment.\n",
    "- Add new subfolders to your \"Data-NLP/\"\" folder.\n",
    "    - Specifically, create:\n",
    "        - `\"Data-NLP/ml/\"` folder. We will save your training and test data (X_train,y_train) for later use in deployment.\n",
    "        - `\"Data-NLP/nn/\"` folder.  We will save your training and test Tensorflow datasets for later use in deployment.\n",
    "     \n",
    "\n",
    "    \n",
    "- Create a new notebook for Part 6 - Review Classification for this part of the project. \n",
    "\n",
    "### Load the Data\n",
    "\n",
    "- Load the joblib containing the dataframe from Part 5 of the project.\n",
    "- Use the original review column as X and the classiifcation target (High/Low Rating Reviews) as y.\n",
    "\n",
    "___\n",
    "\n",
    "## Machine Learning\n",
    "For this project, you will use modeling pipelines with the text vectorizer and model in the same pipeline. This will make it very easy to use save and load the models to use in a deployed application.\n",
    "\n",
    "\n",
    "### Create a Text Vectorizer\n",
    "- Select an sklearn vectorizer to for your task.\n",
    "    - Remember to consider your preprocessing choices like using stopwords, using ngrams, etc.\n",
    "\n",
    "### Build a Machine Learning Model\n",
    "\n",
    "- Build an sklearn modeling pipeline with a text vectorizer and a classification model.\n",
    "    - Suggested Models: MultinomialNB, LogisticRegression, RandomForestClassifier \n",
    "\n",
    "- Fit and evaluate the model using the machine learning classification models from sklearn.\n",
    "    - In a Markdown cell, document your observations from your results. (e.g. how good is the model overall? Is it particularly good/bad at predicting one class?)\n",
    "\n",
    "\n",
    "### GridSearch Text Vectorization \n",
    "Attempt to improve on yourm model by tuning the text preprocessing steps. \n",
    "\n",
    "- Construct a grid of parameters for the text vectorization step. Consider trying:\n",
    "    - CountVectorizer/TfidfVectorizer\n",
    "    - stopwords\n",
    "    - ngram_range\n",
    "    - min_df/max_df\n",
    "\n",
    "- Fit and evaluate the gridsearch results:\n",
    "    - What were the best parameters?\n",
    "    - How does the best estimator perform when evaluated on the training and test data?\n",
    " \n",
    "\n",
    "### Save the Best Model and Train/Test Data  as Joblibs\n",
    "\n",
    "- Save your overall best model pipeline as the only variable in a .joblib file in your new Models/ folder. (e.g. \"Models/ml/best-clf-logreg.joblib\")\n",
    "\n",
    "- Save a list containing `[X_train, y_train]` as `\"Data-NLP/ml/train-data.joblib\"`\n",
    "- Save a list containing `[X_test,y_test]`  as `\"Data-NLP/ml/test-data.joblib\"`\n",
    "\n",
    "\n",
    "____\n",
    "\n",
    "## Deep NLP (RNNs)\n",
    "For this part of the project, you will use a Keras TextVectorization layer as part of your RNN model. This serves the same purpose as using the sklearn pipeline: it bundles text preparation into the model itself, making it deployment-ready.\n",
    "\n",
    " \n",
    "###  Create train/test/val datasets\n",
    "- Convert the target categories to integers (e.g. Using sklearn's LabelEncoder) \n",
    "- Create a tensorflow dataset using the X and  (integer version) of y.\n",
    "- Split the dataset into a training, test, and validation datasets.\n",
    "\n",
    "### Create a Keras Text Vectorization layer\n",
    "- Create a keras text vectorization layer to use in an RNN (sequence) model.\n",
    "- Fit/Adapt the text vectorization layer on the training texts.\n",
    "- Save the vocabulary size from layer to use in your models' Embedding layer.\n",
    "\n",
    "\n",
    "### Build an RNN with the TextVectorization Layer\n",
    "- Build and fit at least 1 sequence model (LSTM, GRU, Bidirectional, etc)\n",
    "- Evalaute the model on the training and trest data.\n",
    "    - In a Markdown cell, document your observations from your results. (e.g. How did the RNN compare to your ML model? Was it superior to your ML model in some way (e.g. accuracy, recall, etc.)\n",
    "\n",
    "\n",
    "### Save your best RNN model and Tensforflow Datasets\n",
    "\n",
    "- Save your best neural network in a subfolder inside your `\"Models/nn/` folder. (e.g. \"Models/nn/lstm/\")\n",
    "    - Reminder: use safe_format='tf' to save the model in a folder of repo-friendly files. \n",
    "\n",
    "- Save your training and test Tensorflow dataset objects in \"Data/nn/\":\n",
    "    - Save your training dataset object as `\"Data-NLP/nn/train/\"`\n",
    "    - Save your test dataset object  as `\"Data-NLP/nn/test/\"`\"\n",
    "\n",
    "\n",
    "\n",
    "### \n"
   ]
  },
  {
   "cell_type": "code",
   "execution_count": 1,
   "id": "787eb7c0-3882-4a7a-af8b-9e5359690c98",
   "metadata": {
    "execution": {
     "iopub.execute_input": "2024-01-26T00:34:08.288023Z",
     "iopub.status.busy": "2024-01-26T00:34:08.287793Z",
     "iopub.status.idle": "2024-01-26T00:34:08.302521Z",
     "shell.execute_reply": "2024-01-26T00:34:08.301665Z",
     "shell.execute_reply.started": "2024-01-26T00:34:08.287999Z"
    }
   },
   "outputs": [
    {
     "data": {
      "text/plain": [
       "{'raw': {'movie-reviews': 'Data-NLP/tmdb-movie-reviews.csv.gz',\n",
       "  'movie-info': 'Data-NLP/tmdb-movie-info.csv.gz',\n",
       "  'movie-reviews-with-info-json': 'Data-NLP/combined-tmdb-movie-reviews-with-info.json',\n",
       "  'eda': 'Data-NLP/eda-movie-reviews.csv.gz',\n",
       "  'processed-joblib': 'Data-NLP/processed-nlp-reviews.joblib',\n",
       "  'processed-json': 'Data-NLP/processed-nlp-reviews.json'},\n",
       " 'ml': {'reviews-with-target-json': 'Data-NLP/processed-nlp-reviews-for-ml.json',\n",
       "  'train': 'Data-NLP/training-data.joblib',\n",
       "  'test': 'Data-NLP/testing-data.joblib'},\n",
       " 'nn': {'train': 'data/training-data-tf/', 'test': 'data/testing-data-tf/'}}"
      ]
     },
     "execution_count": 1,
     "metadata": {},
     "output_type": "execute_result"
    }
   ],
   "source": [
    "import json\n",
    "with open(\"config/filepaths.json\") as f:\n",
    "    FPATHS = json.load(f)\n",
    "FPATHS['data']"
   ]
  },
  {
   "cell_type": "code",
   "execution_count": null,
   "id": "05a031f3-07ca-46ff-8de3-6ce9ea210c33",
   "metadata": {},
   "outputs": [],
   "source": []
  },
  {
   "cell_type": "markdown",
   "id": "1d3ab03b-8216-4041-a7bf-f54cfa92dcfc",
   "metadata": {},
   "source": [
    "# Code"
   ]
  },
  {
   "cell_type": "code",
   "execution_count": 2,
   "id": "ea12c615-236c-4bbb-9119-82ee21d84338",
   "metadata": {
    "execution": {
     "iopub.execute_input": "2024-01-26T00:34:08.304851Z",
     "iopub.status.busy": "2024-01-26T00:34:08.304706Z",
     "iopub.status.idle": "2024-01-26T00:34:10.738601Z",
     "shell.execute_reply": "2024-01-26T00:34:10.738276Z",
     "shell.execute_reply.started": "2024-01-26T00:34:08.304841Z"
    }
   },
   "outputs": [],
   "source": [
    "## Run code to get reproducible results BEFORE anything else\n",
    "import tensorflow as tf\n",
    "import numpy as np\n",
    "\n",
    "# Then Set Random Seeds\n",
    "tf.keras.utils.set_random_seed(42)\n",
    "tf.random.set_seed(42)\n",
    "np.random.seed(42)\n",
    "\n",
    "# Then run the Enable Deterministic Operations Function\n",
    "tf.config.experimental.enable_op_determinism()\n",
    "\n",
    "# Source: https://discuss.tensorflow.org/t/upgrading-os-to-sonoma-on-my-mac-causing-tensorflow-errors/19846/5\n",
    "tf.config.set_visible_devices([], 'GPU')"
   ]
  },
  {
   "cell_type": "code",
   "execution_count": 3,
   "id": "0b3851b2-a17a-4c11-a7f7-bb6a53b4bdcb",
   "metadata": {
    "execution": {
     "iopub.execute_input": "2024-01-26T00:34:10.739228Z",
     "iopub.status.busy": "2024-01-26T00:34:10.739032Z",
     "iopub.status.idle": "2024-01-26T00:34:10.775628Z",
     "shell.execute_reply": "2024-01-26T00:34:10.775332Z",
     "shell.execute_reply.started": "2024-01-26T00:34:10.739218Z"
    }
   },
   "outputs": [],
   "source": [
    "%load_ext autoreload\n",
    "%autoreload 2\n",
    "\n",
    "import project_functions as fn\n",
    "# import custom_functions as fn"
   ]
  },
  {
   "cell_type": "code",
   "execution_count": 4,
   "id": "4cf7c3b8-c5a5-4083-a30d-b3613351b374",
   "metadata": {
    "execution": {
     "iopub.execute_input": "2024-01-26T00:34:10.776148Z",
     "iopub.status.busy": "2024-01-26T00:34:10.776050Z",
     "iopub.status.idle": "2024-01-26T00:34:13.843564Z",
     "shell.execute_reply": "2024-01-26T00:34:13.843240Z",
     "shell.execute_reply.started": "2024-01-26T00:34:10.776138Z"
    }
   },
   "outputs": [
    {
     "data": {
      "text/plain": [
       "'1.0.9'"
      ]
     },
     "execution_count": 4,
     "metadata": {},
     "output_type": "execute_result"
    }
   ],
   "source": [
    "!pip install -U dojo_ds -q\n",
    "import dojo_ds as ds\n",
    "ds.__version__"
   ]
  },
  {
   "cell_type": "code",
   "execution_count": 5,
   "id": "26d88c34-b7e5-4991-9268-e6352dc0f0fa",
   "metadata": {
    "execution": {
     "iopub.execute_input": "2024-01-26T00:34:13.844270Z",
     "iopub.status.busy": "2024-01-26T00:34:13.844147Z",
     "iopub.status.idle": "2024-01-26T00:34:13.881474Z",
     "shell.execute_reply": "2024-01-26T00:34:13.881142Z",
     "shell.execute_reply.started": "2024-01-26T00:34:13.844261Z"
    }
   },
   "outputs": [],
   "source": [
    "import os\n",
    "import matplotlib.pyplot as plt\n",
    "import missingno\n",
    "import matplotlib as mpl\n",
    "import seaborn as sns\n",
    "import numpy as np\n",
    "import pandas as pd\n",
    "import joblib\n",
    "\n",
    "# fav_style = ('ggplot','fivethirtyeight')\n",
    "# plt.style.use(fav_style)\n",
    "fav_context  ={'context':'notebook', 'font_scale':1.1}\n",
    "\n",
    "sns.set_context(**fav_context)\n",
    "plt.rcParams['savefig.transparent'] = False\n",
    "plt.rcParams['savefig.bbox'] = 'tight'\n",
    "\n",
    "\n",
    "\n",
    "\n",
    "\n",
    "## Making New Folders \n",
    "# dirs = [\"Data/\",'Data/ml/',\"Models/\",\"Models/keras/\"]\n",
    "# for folder in dirs:\n",
    "#     os.makedirs(folder, exist_ok=True)"
   ]
  },
  {
   "cell_type": "code",
   "execution_count": 6,
   "id": "87841ef8-7d64-480d-8ffc-7fbfa40bb910",
   "metadata": {
    "execution": {
     "iopub.execute_input": "2024-01-26T00:34:13.882236Z",
     "iopub.status.busy": "2024-01-26T00:34:13.882005Z",
     "iopub.status.idle": "2024-01-26T00:34:14.205754Z",
     "shell.execute_reply": "2024-01-26T00:34:14.205425Z",
     "shell.execute_reply.started": "2024-01-26T00:34:13.882215Z"
    }
   },
   "outputs": [],
   "source": [
    "from sklearn.model_selection import train_test_split\n",
    "from sklearn.pipeline import make_pipeline, Pipeline\n",
    "from sklearn.naive_bayes import MultinomialNB\n",
    "from sklearn.model_selection import GridSearchCV\n",
    "# from imblearn.under_sampling import RandomUnderSampler\n",
    "from sklearn.preprocessing import LabelEncoder\n",
    "from pprint import pprint\n",
    "from sklearn import set_config\n",
    "set_config(transform_output='pandas')\n",
    "\n",
    "\n",
    "from sklearn.model_selection import train_test_split,GridSearchCV\n",
    "from sklearn.feature_extraction.text import (CountVectorizer,TfidfTransformer, \n",
    "                                             TfidfVectorizer,ENGLISH_STOP_WORDS)\n",
    "from sklearn.pipeline import Pipeline\n",
    "from sklearn.compose import ColumnTransformer\n",
    "\n",
    "import nltk \n",
    "from nltk import TweetTokenizer, word_tokenize,wordpunct_tokenize\n",
    "import string\n",
    "from wordcloud import WordCloud\n",
    "\n",
    "\n",
    "\n",
    "from sklearn.linear_model import LogisticRegression,LogisticRegressionCV\n",
    "from sklearn.ensemble import RandomForestClassifier\n",
    "from sklearn import metrics\n",
    "\n",
    "from sklearn.metrics import classification_report, ConfusionMatrixDisplay\n",
    "pd.set_option('display.max_columns', 150)\n",
    "pd.set_option('display.max_colwidth',250)"
   ]
  },
  {
   "cell_type": "markdown",
   "id": "979c47e8-a78c-4766-9744-24f68e242223",
   "metadata": {},
   "source": [
    "## Load Data (Options)"
   ]
  },
  {
   "cell_type": "markdown",
   "id": "a4033aea-442c-4229-859d-9fe57987580b",
   "metadata": {},
   "source": [
    "### Opt A) ~~CSV~~ JSON (From Part 6B)"
   ]
  },
  {
   "cell_type": "code",
   "execution_count": 7,
   "id": "c86a7889-cfce-4518-a335-a2f5f7ea00a9",
   "metadata": {
    "execution": {
     "iopub.execute_input": "2024-01-26T00:34:14.207544Z",
     "iopub.status.busy": "2024-01-26T00:34:14.207429Z",
     "iopub.status.idle": "2024-01-26T00:34:14.242113Z",
     "shell.execute_reply": "2024-01-26T00:34:14.241802Z",
     "shell.execute_reply.started": "2024-01-26T00:34:14.207534Z"
    }
   },
   "outputs": [
    {
     "data": {
      "text/plain": [
       "'Data-NLP/processed-nlp-reviews-for-ml.json'"
      ]
     },
     "execution_count": 7,
     "metadata": {},
     "output_type": "execute_result"
    }
   ],
   "source": [
    "fpath_data = FPATHS['data']['ml']['reviews-with-target-json']\n",
    "fpath_data"
   ]
  },
  {
   "cell_type": "code",
   "execution_count": 8,
   "id": "b26f0419-3975-4634-a9f4-e19883c3bf93",
   "metadata": {
    "execution": {
     "iopub.execute_input": "2024-01-26T00:34:14.242719Z",
     "iopub.status.busy": "2024-01-26T00:34:14.242620Z",
     "iopub.status.idle": "2024-01-26T00:34:14.734890Z",
     "shell.execute_reply": "2024-01-26T00:34:14.734479Z",
     "shell.execute_reply.started": "2024-01-26T00:34:14.242710Z"
    }
   },
   "outputs": [
    {
     "data": {
      "text/html": [
       "<div>\n",
       "<style scoped>\n",
       "    .dataframe tbody tr th:only-of-type {\n",
       "        vertical-align: middle;\n",
       "    }\n",
       "\n",
       "    .dataframe tbody tr th {\n",
       "        vertical-align: top;\n",
       "    }\n",
       "\n",
       "    .dataframe thead th {\n",
       "        text-align: right;\n",
       "    }\n",
       "</style>\n",
       "<table border=\"1\" class=\"dataframe\">\n",
       "  <thead>\n",
       "    <tr style=\"text-align: right;\">\n",
       "      <th></th>\n",
       "      <th>imdb_id</th>\n",
       "      <th>movie_id</th>\n",
       "      <th>budget</th>\n",
       "      <th>revenue</th>\n",
       "      <th>original_title</th>\n",
       "      <th>original_language</th>\n",
       "      <th>overview</th>\n",
       "      <th>tagline</th>\n",
       "      <th>certification</th>\n",
       "      <th>review_id</th>\n",
       "      <th>rating</th>\n",
       "      <th>review_text</th>\n",
       "      <th>created_at</th>\n",
       "      <th>review_text_raw</th>\n",
       "      <th>tokens-dirty</th>\n",
       "      <th>tokens</th>\n",
       "      <th>lemmas</th>\n",
       "      <th>tokens-dirty-joined</th>\n",
       "      <th>tokens-joined</th>\n",
       "      <th>lemmas-joined</th>\n",
       "      <th>profit</th>\n",
       "      <th>target-profit</th>\n",
       "      <th>ROI</th>\n",
       "      <th>target-ROI</th>\n",
       "      <th>target-rating</th>\n",
       "    </tr>\n",
       "  </thead>\n",
       "  <tbody>\n",
       "    <tr>\n",
       "      <th>0</th>\n",
       "      <td>tt2096672</td>\n",
       "      <td>100042</td>\n",
       "      <td>40000000</td>\n",
       "      <td>169837010</td>\n",
       "      <td>Dumb and Dumber To</td>\n",
       "      <td>en</td>\n",
       "      <td>20 years since their first adventure, Lloyd and Harry go on a road trip to find Harry's newly discovered daughter, who was given up for adoption.</td>\n",
       "      <td>The average person uses 10% of their brain capacity. Imagine what he could do with 1%.</td>\n",
       "      <td>PG-13</td>\n",
       "      <td>64a3999fe9da6900c763aa8d</td>\n",
       "      <td>7.0</td>\n",
       "      <td>Better then the original I think. Was pretty funny. I thought the comedy was better then the original too.</td>\n",
       "      <td>2023-07-04 04:01:35.517</td>\n",
       "      <td>Better then the original I think. Was pretty funny. I thought the comedy was better then the original too.</td>\n",
       "      <td>[better, then, the, original, i, think, was, pretty, funny, i, thought, the, comedy, was, better, then, the, original, too]</td>\n",
       "      <td>[better, original, think, pretty, funny, thought, comedy, better, original]</td>\n",
       "      <td>[well, original, think, pretty, funny, think, comedy, well, original]</td>\n",
       "      <td>better then the original i think was pretty funny i thought the comedy was better then the original too</td>\n",
       "      <td>better original think pretty funny thought comedy better original</td>\n",
       "      <td>well original think pretty funny think comedy well original</td>\n",
       "      <td>129837010</td>\n",
       "      <td>True</td>\n",
       "      <td>3.245925</td>\n",
       "      <td>2_Blockbuster</td>\n",
       "      <td>Mid</td>\n",
       "    </tr>\n",
       "    <tr>\n",
       "      <th>1</th>\n",
       "      <td>tt0429573</td>\n",
       "      <td>10008</td>\n",
       "      <td>14000000</td>\n",
       "      <td>29612137</td>\n",
       "      <td>An American Haunting</td>\n",
       "      <td>en</td>\n",
       "      <td>Based on the true events of the only case in US History where a spirit caused the death of a man.</td>\n",
       "      <td>Possession Knows No Bounds</td>\n",
       "      <td>None</td>\n",
       "      <td>643d44864d67910469d853a2</td>\n",
       "      <td>5.0</td>\n",
       "      <td>Kind of boring. It's a good plot and storyline. Nothing really to keep you interested.</td>\n",
       "      <td>2023-04-17 13:07:18.832</td>\n",
       "      <td>Kind of boring. It's a good plot and storyline. Nothing really to keep you interested.</td>\n",
       "      <td>[kind, of, boring, it, 's, a, good, plot, and, storyline, nothing, really, to, keep, you, interested]</td>\n",
       "      <td>[kind, boring, good, plot, storyline, interested]</td>\n",
       "      <td>[kind, boring, good, plot, storyline, interested]</td>\n",
       "      <td>kind of boring it 's a good plot and storyline nothing really to keep you interested</td>\n",
       "      <td>kind boring good plot storyline interested</td>\n",
       "      <td>kind boring good plot storyline interested</td>\n",
       "      <td>15612137</td>\n",
       "      <td>True</td>\n",
       "      <td>1.115153</td>\n",
       "      <td>1_Successful</td>\n",
       "      <td>Mid</td>\n",
       "    </tr>\n",
       "    <tr>\n",
       "      <th>2</th>\n",
       "      <td>tt0328880</td>\n",
       "      <td>10009</td>\n",
       "      <td>128000000</td>\n",
       "      <td>250397798</td>\n",
       "      <td>Brother Bear</td>\n",
       "      <td>en</td>\n",
       "      <td>When an impulsive boy named Kenai is magically transformed into a bear, he must literally walk in another's footsteps until he learns some valuable life lessons. His courageous and often zany journey introduces him to a forest full of wildlife, i...</td>\n",
       "      <td>Nature Calls</td>\n",
       "      <td>G</td>\n",
       "      <td>5f22bd2b43999b00355b26a6</td>\n",
       "      <td>7.0</td>\n",
       "      <td>Heartwarming, if not as impactful as it intends to be.\\r\\n\\r\\n'Brother Bear' leaves heartfelt feelings and features a cute story. It does get a bit too melancholic in moments where it doesn't need to be or where it's not set up perfectly. It can ...</td>\n",
       "      <td>2020-07-30 12:29:31.310</td>\n",
       "      <td>Heartwarming, if not as impactful as it intends to be.\\r\\n\\r\\n&lt;em&gt;'Brother Bear'&lt;/em&gt; leaves heartfelt feelings and features a cute story. It does get a bit too melancholic in moments where it doesn't need to be or where it's not set up perfectly...</td>\n",
       "      <td>[heartwarming, if, not, as, impactful, as, it, intends, to, be, brother, bear, leaves, heartfelt, feelings, and, features, a, cute, story, it, does, get, a, bit, too, melancholic, in, moments, where, it, does, n't, need, to, be, or, where, it, 's...</td>\n",
       "      <td>[heartwarming, impactful, intends, brother, bear, leaves, heartfelt, feelings, features, cute, story, bit, melancholic, moments, need, set, perfectly, feel, little, predictable, twist, decent, animation, wise, fine, early, aspect, ratio, stuff, o...</td>\n",
       "      <td>[heartwarme, impactful, intend, brother, bear, leave, heartfelt, feeling, feature, cute, story, bit, melancholic, moment, need, set, perfectly, feel, little, predictable, twist, decent, animation, wise, fine, early, aspect, ratio, stuff, oddly, v...</td>\n",
       "      <td>heartwarming if not as impactful as it intends to be brother bear leaves heartfelt feelings and features a cute story it does get a bit too melancholic in moments where it does n't need to be or where it 's not set up perfectly it can also feel a...</td>\n",
       "      <td>heartwarming impactful intends brother bear leaves heartfelt feelings features cute story bit melancholic moments need set perfectly feel little predictable twist decent animation wise fine early aspect ratio stuff oddly voice cast amazing despit...</td>\n",
       "      <td>heartwarme impactful intend brother bear leave heartfelt feeling feature cute story bit melancholic moment need set perfectly feel little predictable twist decent animation wise fine early aspect ratio stuff oddly voice cast amazing despite talen...</td>\n",
       "      <td>122397798</td>\n",
       "      <td>True</td>\n",
       "      <td>0.956233</td>\n",
       "      <td>0_Unsuccessful</td>\n",
       "      <td>Mid</td>\n",
       "    </tr>\n",
       "    <tr>\n",
       "      <th>3</th>\n",
       "      <td>tt0328880</td>\n",
       "      <td>10009</td>\n",
       "      <td>128000000</td>\n",
       "      <td>250397798</td>\n",
       "      <td>Brother Bear</td>\n",
       "      <td>en</td>\n",
       "      <td>When an impulsive boy named Kenai is magically transformed into a bear, he must literally walk in another's footsteps until he learns some valuable life lessons. His courageous and often zany journey introduces him to a forest full of wildlife, i...</td>\n",
       "      <td>Nature Calls</td>\n",
       "      <td>G</td>\n",
       "      <td>6592736214956560f7da631f</td>\n",
       "      <td>7.0</td>\n",
       "      <td>\"Kenai\" is a young Inuit warrior who disturbs the spirits when he kills a bear. His punishment is to be turned into one himself, and be left to wander the wilderness alone. Luckily, he encounters the young cub \"Koda\" who thinks he might know the ...</td>\n",
       "      <td>2024-01-01 08:10:10.033</td>\n",
       "      <td>\"Kenai\" is a young Inuit warrior who disturbs the spirits when he kills a bear. His punishment is to be turned into one himself, and be left to wander the wilderness alone. Luckily, he encounters the young cub \"Koda\" who thinks he might know the ...</td>\n",
       "      <td>[kenai, is, a, young, inuit, warrior, who, disturbs, the, spirits, when, he, kills, a, bear, his, punishment, is, to, be, turned, into, one, himself, and, be, left, to, wander, the, wilderness, alone, luckily, he, encounters, the, young, cub, kod...</td>\n",
       "      <td>[kenai, young, inuit, warrior, disturbs, spirits, kills, bear, punishment, turned, left, wander, wilderness, luckily, encounters, young, cub, koda, thinks, know, exact, spot, kenai, restored, humanity, help, quest, human, brother, denahi, thinks,...</td>\n",
       "      <td>[kenai, young, inuit, warrior, disturb, spirit, kill, bear, punishment, turn, leave, wander, wilderness, luckily, encounter, young, cub, koda, think, know, exact, spot, kenai, restore, humanity, help, quest, human, brother, denahi, think, kenai, ...</td>\n",
       "      <td>kenai is a young inuit warrior who disturbs the spirits when he kills a bear his punishment is to be turned into one himself and be left to wander the wilderness alone luckily he encounters the young cub koda who thinks he might know the exact sp...</td>\n",
       "      <td>kenai young inuit warrior disturbs spirits kills bear punishment turned left wander wilderness luckily encounters young cub koda thinks know exact spot kenai restored humanity help quest human brother denahi thinks kenai killed bear chasing new f...</td>\n",
       "      <td>kenai young inuit warrior disturb spirit kill bear punishment turn leave wander wilderness luckily encounter young cub koda think know exact spot kenai restore humanity help quest human brother denahi think kenai kill bear chase new form lethal i...</td>\n",
       "      <td>122397798</td>\n",
       "      <td>True</td>\n",
       "      <td>0.956233</td>\n",
       "      <td>0_Unsuccessful</td>\n",
       "      <td>Mid</td>\n",
       "    </tr>\n",
       "    <tr>\n",
       "      <th>4</th>\n",
       "      <td>tt0257516</td>\n",
       "      <td>10012</td>\n",
       "      <td>35000000</td>\n",
       "      <td>19300000</td>\n",
       "      <td>Cursed</td>\n",
       "      <td>en</td>\n",
       "      <td>In Los Angeles, siblings Ellie and Jimmy come across an accident on Mulholland Drive. As they try to help the woman caught in the wreckage, a ferocious creature attacks them, devouring the woman and scratching the terrified siblings. They slowly ...</td>\n",
       "      <td>What doesn't kill you makes you stronger.</td>\n",
       "      <td>PG-13</td>\n",
       "      <td>628159c8caa50850dcf93d33</td>\n",
       "      <td>5.0</td>\n",
       "      <td>Seems like an apt title for everything that happened behind the scenes. If not for Justice League (which cost $250M+), this might be the poster child of what happens when a studio messes around with a project. Honestly I really hope one day we ge...</td>\n",
       "      <td>2022-05-15 19:51:36.244</td>\n",
       "      <td>Seems like an apt title for everything that happened behind the scenes. If not for Justice League (which cost $250M+), this might be the poster child of what happens when a studio messes around with a project. Honestly I really hope one day we ge...</td>\n",
       "      <td>[seems, like, an, apt, title, for, everything, that, happened, behind, the, scenes, if, not, for, justice, league, which, cost, $, 250m+, this, might, be, the, poster, child, of, what, happens, when, a, studio, messes, around, with, a, project, h...</td>\n",
       "      <td>[like, apt, title, happened, scenes, justice, league, cost, $, 250m+, poster, child, happens, studio, messes, project, honestly, hope, day, documentary, footage, cuts, actors, removed, movie, surprising, watchable, hardly, good, 2.5/5]</td>\n",
       "      <td>[like, apt, title, happen, scene, justice, league, cost, $, 250m+, poster, child, happen, studio, mess, project, honestly, hope, day, documentary, footage, cut, actor, remove, movie, surprising, watchable, hardly, good, 2.5/5]</td>\n",
       "      <td>seems like an apt title for everything that happened behind the scenes if not for justice league which cost $ 250m+ this might be the poster child of what happens when a studio messes around with a project honestly i really hope one day we get a ...</td>\n",
       "      <td>like apt title happened scenes justice league cost $ 250m+ poster child happens studio messes project honestly hope day documentary footage cuts actors removed movie surprising watchable hardly good 2.5/5</td>\n",
       "      <td>like apt title happen scene justice league cost $ 250m+ poster child happen studio mess project honestly hope day documentary footage cut actor remove movie surprising watchable hardly good 2.5/5</td>\n",
       "      <td>-15700000</td>\n",
       "      <td>False</td>\n",
       "      <td>-0.448571</td>\n",
       "      <td>0_Unsuccessful</td>\n",
       "      <td>Mid</td>\n",
       "    </tr>\n",
       "    <tr>\n",
       "      <th>...</th>\n",
       "      <td>...</td>\n",
       "      <td>...</td>\n",
       "      <td>...</td>\n",
       "      <td>...</td>\n",
       "      <td>...</td>\n",
       "      <td>...</td>\n",
       "      <td>...</td>\n",
       "      <td>...</td>\n",
       "      <td>...</td>\n",
       "      <td>...</td>\n",
       "      <td>...</td>\n",
       "      <td>...</td>\n",
       "      <td>...</td>\n",
       "      <td>...</td>\n",
       "      <td>...</td>\n",
       "      <td>...</td>\n",
       "      <td>...</td>\n",
       "      <td>...</td>\n",
       "      <td>...</td>\n",
       "      <td>...</td>\n",
       "      <td>...</td>\n",
       "      <td>...</td>\n",
       "      <td>...</td>\n",
       "      <td>...</td>\n",
       "      <td>...</td>\n",
       "    </tr>\n",
       "    <tr>\n",
       "      <th>8960</th>\n",
       "      <td>tt2395427</td>\n",
       "      <td>99861</td>\n",
       "      <td>365000000</td>\n",
       "      <td>1405403694</td>\n",
       "      <td>Avengers: Age of Ultron</td>\n",
       "      <td>en</td>\n",
       "      <td>When Tony Stark tries to jumpstart a dormant peacekeeping program, things go awry and Earth’s Mightiest Heroes are put to the ultimate test as the fate of the planet hangs in the balance. As the villainous Ultron emerges, it is up to The Avengers...</td>\n",
       "      <td>A new age has come.</td>\n",
       "      <td>PG-13</td>\n",
       "      <td>5e20dedc397df000129666b8</td>\n",
       "      <td>NaN</td>\n",
       "      <td>It's just what I feared. Marvel has gotten so caught up in making sure that each character gets some action time that there's no room now for character development. They need to tone it down a bit.</td>\n",
       "      <td>2020-01-16 22:08:28.630</td>\n",
       "      <td>It's just what I feared. Marvel has gotten so caught up in making sure that each character gets some action time that there's no room now for character development. They need to tone it down a bit.</td>\n",
       "      <td>[it, 's, just, what, i, feared, marvel, has, gotten, so, caught, up, in, making, sure, that, each, character, gets, some, action, time, that, there, 's, no, room, now, for, character, development, they, need, to, tone, it, down, a, bit]</td>\n",
       "      <td>[feared, marvel, gotten, caught, making, sure, character, gets, action, time, room, character, development, need, tone, bit]</td>\n",
       "      <td>[fear, marvel, get, catch, make, sure, character, get, action, time, room, character, development, need, tone, bit]</td>\n",
       "      <td>it 's just what i feared marvel has gotten so caught up in making sure that each character gets some action time that there 's no room now for character development they need to tone it down a bit</td>\n",
       "      <td>feared marvel gotten caught making sure character gets action time room character development need tone bit</td>\n",
       "      <td>fear marvel get catch make sure character get action time room character development need tone bit</td>\n",
       "      <td>1040403694</td>\n",
       "      <td>True</td>\n",
       "      <td>2.850421</td>\n",
       "      <td>1_Successful</td>\n",
       "      <td>Low</td>\n",
       "    </tr>\n",
       "    <tr>\n",
       "      <th>8961</th>\n",
       "      <td>tt2395427</td>\n",
       "      <td>99861</td>\n",
       "      <td>365000000</td>\n",
       "      <td>1405403694</td>\n",
       "      <td>Avengers: Age of Ultron</td>\n",
       "      <td>en</td>\n",
       "      <td>When Tony Stark tries to jumpstart a dormant peacekeeping program, things go awry and Earth’s Mightiest Heroes are put to the ultimate test as the fate of the planet hangs in the balance. As the villainous Ultron emerges, it is up to The Avengers...</td>\n",
       "      <td>A new age has come.</td>\n",
       "      <td>PG-13</td>\n",
       "      <td>5ef819bba284eb00398dc810</td>\n",
       "      <td>7.0</td>\n",
       "      <td>Third viewing of this and while not the strongest within the MCU, or of the other Avenger movies, still has some good parts (introduction to Elizabeth Olsen's Scarlet Witch and Paul Bettany's Vision; further setting into motion the infinity stone...</td>\n",
       "      <td>2020-06-28 04:16:59.341</td>\n",
       "      <td>Third viewing of this and while not the strongest within the MCU, or of the other Avenger movies, still has some good parts (introduction to Elizabeth Olsen's Scarlet Witch and Paul Bettany's Vision; further setting into motion the infinity stone...</td>\n",
       "      <td>[third, viewing, of, this, and, while, not, the, strongest, within, the, mcu, or, of, the, other, avenger, movies, still, has, some, good, parts, introduction, to, elizabeth, olsen, 's, scarlet, witch, and, paul, bettany, 's, vision, further, set...</td>\n",
       "      <td>[viewing, strongest, mcu, avenger, movies, good, parts, introduction, elizabeth, olsen, scarlet, witch, paul, bettany, vision, setting, motion, infinity, stones, new, avengers, etc, plot, felt, messy, times, found, entertaining, especially, seein...</td>\n",
       "      <td>[viewing, strong, mcu, avenger, movie, good, part, introduction, elizabeth, olsen, scarlet, witch, paul, bettany, vision, set, motion, infinity, stone, new, avengers, etc, plot, feel, messy, time, find, entertain, especially, see, mcu, go, 3.5/5]</td>\n",
       "      <td>third viewing of this and while not the strongest within the mcu or of the other avenger movies still has some good parts introduction to elizabeth olsen 's scarlet witch and paul bettany 's vision further setting into motion the infinity stones ...</td>\n",
       "      <td>viewing strongest mcu avenger movies good parts introduction elizabeth olsen scarlet witch paul bettany vision setting motion infinity stones new avengers etc plot felt messy times found entertaining especially seeing mcu going 3.5/5</td>\n",
       "      <td>viewing strong mcu avenger movie good part introduction elizabeth olsen scarlet witch paul bettany vision set motion infinity stone new avengers etc plot feel messy time find entertain especially see mcu go 3.5/5</td>\n",
       "      <td>1040403694</td>\n",
       "      <td>True</td>\n",
       "      <td>2.850421</td>\n",
       "      <td>1_Successful</td>\n",
       "      <td>Mid</td>\n",
       "    </tr>\n",
       "    <tr>\n",
       "      <th>8962</th>\n",
       "      <td>tt2395427</td>\n",
       "      <td>99861</td>\n",
       "      <td>365000000</td>\n",
       "      <td>1405403694</td>\n",
       "      <td>Avengers: Age of Ultron</td>\n",
       "      <td>en</td>\n",
       "      <td>When Tony Stark tries to jumpstart a dormant peacekeeping program, things go awry and Earth’s Mightiest Heroes are put to the ultimate test as the fate of the planet hangs in the balance. As the villainous Ultron emerges, it is up to The Avengers...</td>\n",
       "      <td>A new age has come.</td>\n",
       "      <td>PG-13</td>\n",
       "      <td>600616349a358d0040c2ecad</td>\n",
       "      <td>7.0</td>\n",
       "      <td>Cool seeing them all together again, even if I didn't massively enjoy it. It's good, nothing more or less in my opinion.\\r\\n\\r\\n'Avengers: Age of Ultron' isn't too far off 2012's 'The Avengers', especially in terms of how I fell about it. I defin...</td>\n",
       "      <td>2021-01-18 23:13:56.078</td>\n",
       "      <td>Cool seeing them all together again, even if I didn't massively enjoy it. It's good, nothing more or less in my opinion.\\r\\n\\r\\n&lt;em&gt;'Avengers: Age of Ultron'&lt;/em&gt; isn't too far off 2012's &lt;em&gt;'The Avengers'&lt;/em&gt;, especially in terms of how I fell...</td>\n",
       "      <td>[cool, seeing, them, all, together, again, even, if, i, did, n't, massively, enjoy, it, it, 's, good, nothing, more, or, less, in, my, opinion, avengers, age, of, ultron, is, n't, too, far, off, 2012, 's, the, avengers, especially, in, terms, of,...</td>\n",
       "      <td>[cool, seeing, massively, enjoy, good, opinion, avengers, age, ultron, far, 2012, avengers, especially, terms, fell, definitely, wanted, satisfying, superhero, action, flicks, rank, narrowly, aforementioned, robert, downey, jr., felt, little, fla...</td>\n",
       "      <td>[cool, see, massively, enjoy, good, opinion, avenger, age, ultron, far, 2012, avengers, especially, term, fall, definitely, want, satisfy, superhero, action, flick, rank, narrowly, aforementione, robert, downey, jr., feel, little, flat, iron, man...</td>\n",
       "      <td>cool seeing them all together again even if i did n't massively enjoy it it 's good nothing more or less in my opinion avengers age of ultron is n't too far off 2012 's the avengers especially in terms of how i fell about it i definitely wanted m...</td>\n",
       "      <td>cool seeing massively enjoy good opinion avengers age ultron far 2012 avengers especially terms fell definitely wanted satisfying superhero action flicks rank narrowly aforementioned robert downey jr. felt little flat iron man decent moments indi...</td>\n",
       "      <td>cool see massively enjoy good opinion avenger age ultron far 2012 avengers especially term fall definitely want satisfy superhero action flick rank narrowly aforementione robert downey jr. feel little flat iron man decent moment individual film c...</td>\n",
       "      <td>1040403694</td>\n",
       "      <td>True</td>\n",
       "      <td>2.850421</td>\n",
       "      <td>1_Successful</td>\n",
       "      <td>Mid</td>\n",
       "    </tr>\n",
       "    <tr>\n",
       "      <th>8963</th>\n",
       "      <td>tt0486551</td>\n",
       "      <td>9988</td>\n",
       "      <td>17500000</td>\n",
       "      <td>19179969</td>\n",
       "      <td>Beerfest</td>\n",
       "      <td>en</td>\n",
       "      <td>During a trip to Germany to scatter their grandfather's ashes, German-American brothers Todd and Jan discover Beerfest, the secret Olympics of downing stout, and want to enter the contest to defend their family's beer-guzzling honor. Their Old Co...</td>\n",
       "      <td>Prepare for the ultimate chug of war.</td>\n",
       "      <td>R</td>\n",
       "      <td>5a6940bc9251414a2e009179</td>\n",
       "      <td>5.0</td>\n",
       "      <td>Not one of Broken Lizard's strongest entries, but perhaps classic viewing for those in the state that it's characters are: Drunk.\\r\\n\\r\\n_Final rating:★★½ - Not quite for me, but I definitely get the appeal._</td>\n",
       "      <td>2018-01-25 02:28:12.494</td>\n",
       "      <td>Not one of Broken Lizard's strongest entries, but perhaps classic viewing for those in the state that it's characters are: Drunk.\\r\\n\\r\\n_Final rating:★★½ - Not quite for me, but I definitely get the appeal._</td>\n",
       "      <td>[not, one, of, broken, lizard, 's, strongest, entries, but, perhaps, classic, viewing, for, those, in, the, state, that, it, 's, characters, are, drunk, final, rating:, ★, ★, ½, not, quite, for, me, but, i, definitely, get, the, appeal]</td>\n",
       "      <td>[broken, lizard, strongest, entries, classic, viewing, state, characters, drunk, final, rating:, ½, definitely, appeal]</td>\n",
       "      <td>[broken, lizard, strong, entry, classic, viewing, state, character, drunk, final, rating:, ½, definitely, appeal]</td>\n",
       "      <td>not one of broken lizard 's strongest entries but perhaps classic viewing for those in the state that it 's characters are drunk final rating: ★ ★ ½ not quite for me but i definitely get the appeal</td>\n",
       "      <td>broken lizard strongest entries classic viewing state characters drunk final rating: ½ definitely appeal</td>\n",
       "      <td>broken lizard strong entry classic viewing state character drunk final rating: ½ definitely appeal</td>\n",
       "      <td>1679969</td>\n",
       "      <td>True</td>\n",
       "      <td>0.095998</td>\n",
       "      <td>0_Unsuccessful</td>\n",
       "      <td>Mid</td>\n",
       "    </tr>\n",
       "    <tr>\n",
       "      <th>8964</th>\n",
       "      <td>tt0486551</td>\n",
       "      <td>9988</td>\n",
       "      <td>17500000</td>\n",
       "      <td>19179969</td>\n",
       "      <td>Beerfest</td>\n",
       "      <td>en</td>\n",
       "      <td>During a trip to Germany to scatter their grandfather's ashes, German-American brothers Todd and Jan discover Beerfest, the secret Olympics of downing stout, and want to enter the contest to defend their family's beer-guzzling honor. Their Old Co...</td>\n",
       "      <td>Prepare for the ultimate chug of war.</td>\n",
       "      <td>R</td>\n",
       "      <td>6449359c2fdec602fca107cb</td>\n",
       "      <td>8.0</td>\n",
       "      <td>This was a awesome movie. I love these guys just as good as they were in super troopers. I would definitely like to try this in real life myself sometime. It would be sweet.</td>\n",
       "      <td>2023-04-26 14:30:52.951</td>\n",
       "      <td>This was a awesome movie. I love these guys just as good as they were in super troopers. I would definitely like to try this in real life myself sometime. It would be sweet.</td>\n",
       "      <td>[this, was, a, awesome, movie, i, love, these, guys, just, as, good, as, they, were, in, super, troopers, i, would, definitely, like, to, try, this, in, real, life, myself, sometime, it, would, be, sweet]</td>\n",
       "      <td>[awesome, movie, love, guys, good, super, troopers, definitely, like, try, real, life, sweet]</td>\n",
       "      <td>[awesome, movie, love, guy, good, super, trooper, definitely, like, try, real, life, sweet]</td>\n",
       "      <td>this was a awesome movie i love these guys just as good as they were in super troopers i would definitely like to try this in real life myself sometime it would be sweet</td>\n",
       "      <td>awesome movie love guys good super troopers definitely like try real life sweet</td>\n",
       "      <td>awesome movie love guy good super trooper definitely like try real life sweet</td>\n",
       "      <td>1679969</td>\n",
       "      <td>True</td>\n",
       "      <td>0.095998</td>\n",
       "      <td>0_Unsuccessful</td>\n",
       "      <td>High</td>\n",
       "    </tr>\n",
       "  </tbody>\n",
       "</table>\n",
       "<p>8964 rows × 25 columns</p>\n",
       "</div>"
      ],
      "text/plain": [
       "        imdb_id  movie_id     budget     revenue           original_title  \\\n",
       "0     tt2096672    100042   40000000   169837010       Dumb and Dumber To   \n",
       "1     tt0429573     10008   14000000    29612137     An American Haunting   \n",
       "2     tt0328880     10009  128000000   250397798             Brother Bear   \n",
       "3     tt0328880     10009  128000000   250397798             Brother Bear   \n",
       "4     tt0257516     10012   35000000    19300000                   Cursed   \n",
       "...         ...       ...        ...         ...                      ...   \n",
       "8960  tt2395427     99861  365000000  1405403694  Avengers: Age of Ultron   \n",
       "8961  tt2395427     99861  365000000  1405403694  Avengers: Age of Ultron   \n",
       "8962  tt2395427     99861  365000000  1405403694  Avengers: Age of Ultron   \n",
       "8963  tt0486551      9988   17500000    19179969                 Beerfest   \n",
       "8964  tt0486551      9988   17500000    19179969                 Beerfest   \n",
       "\n",
       "     original_language  \\\n",
       "0                   en   \n",
       "1                   en   \n",
       "2                   en   \n",
       "3                   en   \n",
       "4                   en   \n",
       "...                ...   \n",
       "8960                en   \n",
       "8961                en   \n",
       "8962                en   \n",
       "8963                en   \n",
       "8964                en   \n",
       "\n",
       "                                                                                                                                                                                                                                                       overview  \\\n",
       "0                                                                                                             20 years since their first adventure, Lloyd and Harry go on a road trip to find Harry's newly discovered daughter, who was given up for adoption.   \n",
       "1                                                                                                                                                             Based on the true events of the only case in US History where a spirit caused the death of a man.   \n",
       "2     When an impulsive boy named Kenai is magically transformed into a bear, he must literally walk in another's footsteps until he learns some valuable life lessons. His courageous and often zany journey introduces him to a forest full of wildlife, i...   \n",
       "3     When an impulsive boy named Kenai is magically transformed into a bear, he must literally walk in another's footsteps until he learns some valuable life lessons. His courageous and often zany journey introduces him to a forest full of wildlife, i...   \n",
       "4     In Los Angeles, siblings Ellie and Jimmy come across an accident on Mulholland Drive. As they try to help the woman caught in the wreckage, a ferocious creature attacks them, devouring the woman and scratching the terrified siblings. They slowly ...   \n",
       "...                                                                                                                                                                                                                                                         ...   \n",
       "8960  When Tony Stark tries to jumpstart a dormant peacekeeping program, things go awry and Earth’s Mightiest Heroes are put to the ultimate test as the fate of the planet hangs in the balance. As the villainous Ultron emerges, it is up to The Avengers...   \n",
       "8961  When Tony Stark tries to jumpstart a dormant peacekeeping program, things go awry and Earth’s Mightiest Heroes are put to the ultimate test as the fate of the planet hangs in the balance. As the villainous Ultron emerges, it is up to The Avengers...   \n",
       "8962  When Tony Stark tries to jumpstart a dormant peacekeeping program, things go awry and Earth’s Mightiest Heroes are put to the ultimate test as the fate of the planet hangs in the balance. As the villainous Ultron emerges, it is up to The Avengers...   \n",
       "8963  During a trip to Germany to scatter their grandfather's ashes, German-American brothers Todd and Jan discover Beerfest, the secret Olympics of downing stout, and want to enter the contest to defend their family's beer-guzzling honor. Their Old Co...   \n",
       "8964  During a trip to Germany to scatter their grandfather's ashes, German-American brothers Todd and Jan discover Beerfest, the secret Olympics of downing stout, and want to enter the contest to defend their family's beer-guzzling honor. Their Old Co...   \n",
       "\n",
       "                                                                                     tagline  \\\n",
       "0     The average person uses 10% of their brain capacity. Imagine what he could do with 1%.   \n",
       "1                                                                 Possession Knows No Bounds   \n",
       "2                                                                               Nature Calls   \n",
       "3                                                                               Nature Calls   \n",
       "4                                                  What doesn't kill you makes you stronger.   \n",
       "...                                                                                      ...   \n",
       "8960                                                                     A new age has come.   \n",
       "8961                                                                     A new age has come.   \n",
       "8962                                                                     A new age has come.   \n",
       "8963                                                   Prepare for the ultimate chug of war.   \n",
       "8964                                                   Prepare for the ultimate chug of war.   \n",
       "\n",
       "     certification                 review_id  rating  \\\n",
       "0            PG-13  64a3999fe9da6900c763aa8d     7.0   \n",
       "1             None  643d44864d67910469d853a2     5.0   \n",
       "2                G  5f22bd2b43999b00355b26a6     7.0   \n",
       "3                G  6592736214956560f7da631f     7.0   \n",
       "4            PG-13  628159c8caa50850dcf93d33     5.0   \n",
       "...            ...                       ...     ...   \n",
       "8960         PG-13  5e20dedc397df000129666b8     NaN   \n",
       "8961         PG-13  5ef819bba284eb00398dc810     7.0   \n",
       "8962         PG-13  600616349a358d0040c2ecad     7.0   \n",
       "8963             R  5a6940bc9251414a2e009179     5.0   \n",
       "8964             R  6449359c2fdec602fca107cb     8.0   \n",
       "\n",
       "                                                                                                                                                                                                                                                    review_text  \\\n",
       "0                                                                                                                                                    Better then the original I think. Was pretty funny. I thought the comedy was better then the original too.   \n",
       "1                                                                                                                                                                        Kind of boring. It's a good plot and storyline. Nothing really to keep you interested.   \n",
       "2     Heartwarming, if not as impactful as it intends to be.\\r\\n\\r\\n'Brother Bear' leaves heartfelt feelings and features a cute story. It does get a bit too melancholic in moments where it doesn't need to be or where it's not set up perfectly. It can ...   \n",
       "3     \"Kenai\" is a young Inuit warrior who disturbs the spirits when he kills a bear. His punishment is to be turned into one himself, and be left to wander the wilderness alone. Luckily, he encounters the young cub \"Koda\" who thinks he might know the ...   \n",
       "4     Seems like an apt title for everything that happened behind the scenes. If not for Justice League (which cost $250M+), this might be the poster child of what happens when a studio messes around with a project. Honestly I really hope one day we ge...   \n",
       "...                                                                                                                                                                                                                                                         ...   \n",
       "8960                                                      It's just what I feared. Marvel has gotten so caught up in making sure that each character gets some action time that there's no room now for character development. They need to tone it down a bit.   \n",
       "8961  Third viewing of this and while not the strongest within the MCU, or of the other Avenger movies, still has some good parts (introduction to Elizabeth Olsen's Scarlet Witch and Paul Bettany's Vision; further setting into motion the infinity stone...   \n",
       "8962  Cool seeing them all together again, even if I didn't massively enjoy it. It's good, nothing more or less in my opinion.\\r\\n\\r\\n'Avengers: Age of Ultron' isn't too far off 2012's 'The Avengers', especially in terms of how I fell about it. I defin...   \n",
       "8963                                           Not one of Broken Lizard's strongest entries, but perhaps classic viewing for those in the state that it's characters are: Drunk.\\r\\n\\r\\n_Final rating:★★½ - Not quite for me, but I definitely get the appeal._   \n",
       "8964                                                                              This was a awesome movie. I love these guys just as good as they were in super troopers. I would definitely like to try this in real life myself sometime. It would be sweet.   \n",
       "\n",
       "                  created_at  \\\n",
       "0    2023-07-04 04:01:35.517   \n",
       "1    2023-04-17 13:07:18.832   \n",
       "2    2020-07-30 12:29:31.310   \n",
       "3    2024-01-01 08:10:10.033   \n",
       "4    2022-05-15 19:51:36.244   \n",
       "...                      ...   \n",
       "8960 2020-01-16 22:08:28.630   \n",
       "8961 2020-06-28 04:16:59.341   \n",
       "8962 2021-01-18 23:13:56.078   \n",
       "8963 2018-01-25 02:28:12.494   \n",
       "8964 2023-04-26 14:30:52.951   \n",
       "\n",
       "                                                                                                                                                                                                                                                review_text_raw  \\\n",
       "0                                                                                                                                                    Better then the original I think. Was pretty funny. I thought the comedy was better then the original too.   \n",
       "1                                                                                                                                                                        Kind of boring. It's a good plot and storyline. Nothing really to keep you interested.   \n",
       "2     Heartwarming, if not as impactful as it intends to be.\\r\\n\\r\\n<em>'Brother Bear'</em> leaves heartfelt feelings and features a cute story. It does get a bit too melancholic in moments where it doesn't need to be or where it's not set up perfectly...   \n",
       "3     \"Kenai\" is a young Inuit warrior who disturbs the spirits when he kills a bear. His punishment is to be turned into one himself, and be left to wander the wilderness alone. Luckily, he encounters the young cub \"Koda\" who thinks he might know the ...   \n",
       "4     Seems like an apt title for everything that happened behind the scenes. If not for Justice League (which cost $250M+), this might be the poster child of what happens when a studio messes around with a project. Honestly I really hope one day we ge...   \n",
       "...                                                                                                                                                                                                                                                         ...   \n",
       "8960                                                      It's just what I feared. Marvel has gotten so caught up in making sure that each character gets some action time that there's no room now for character development. They need to tone it down a bit.   \n",
       "8961  Third viewing of this and while not the strongest within the MCU, or of the other Avenger movies, still has some good parts (introduction to Elizabeth Olsen's Scarlet Witch and Paul Bettany's Vision; further setting into motion the infinity stone...   \n",
       "8962  Cool seeing them all together again, even if I didn't massively enjoy it. It's good, nothing more or less in my opinion.\\r\\n\\r\\n<em>'Avengers: Age of Ultron'</em> isn't too far off 2012's <em>'The Avengers'</em>, especially in terms of how I fell...   \n",
       "8963                                           Not one of Broken Lizard's strongest entries, but perhaps classic viewing for those in the state that it's characters are: Drunk.\\r\\n\\r\\n_Final rating:★★½ - Not quite for me, but I definitely get the appeal._   \n",
       "8964                                                                              This was a awesome movie. I love these guys just as good as they were in super troopers. I would definitely like to try this in real life myself sometime. It would be sweet.   \n",
       "\n",
       "                                                                                                                                                                                                                                                   tokens-dirty  \\\n",
       "0                                                                                                                                   [better, then, the, original, i, think, was, pretty, funny, i, thought, the, comedy, was, better, then, the, original, too]   \n",
       "1                                                                                                                                                         [kind, of, boring, it, 's, a, good, plot, and, storyline, nothing, really, to, keep, you, interested]   \n",
       "2     [heartwarming, if, not, as, impactful, as, it, intends, to, be, brother, bear, leaves, heartfelt, feelings, and, features, a, cute, story, it, does, get, a, bit, too, melancholic, in, moments, where, it, does, n't, need, to, be, or, where, it, 's...   \n",
       "3     [kenai, is, a, young, inuit, warrior, who, disturbs, the, spirits, when, he, kills, a, bear, his, punishment, is, to, be, turned, into, one, himself, and, be, left, to, wander, the, wilderness, alone, luckily, he, encounters, the, young, cub, kod...   \n",
       "4     [seems, like, an, apt, title, for, everything, that, happened, behind, the, scenes, if, not, for, justice, league, which, cost, $, 250m+, this, might, be, the, poster, child, of, what, happens, when, a, studio, messes, around, with, a, project, h...   \n",
       "...                                                                                                                                                                                                                                                         ...   \n",
       "8960               [it, 's, just, what, i, feared, marvel, has, gotten, so, caught, up, in, making, sure, that, each, character, gets, some, action, time, that, there, 's, no, room, now, for, character, development, they, need, to, tone, it, down, a, bit]   \n",
       "8961  [third, viewing, of, this, and, while, not, the, strongest, within, the, mcu, or, of, the, other, avenger, movies, still, has, some, good, parts, introduction, to, elizabeth, olsen, 's, scarlet, witch, and, paul, bettany, 's, vision, further, set...   \n",
       "8962  [cool, seeing, them, all, together, again, even, if, i, did, n't, massively, enjoy, it, it, 's, good, nothing, more, or, less, in, my, opinion, avengers, age, of, ultron, is, n't, too, far, off, 2012, 's, the, avengers, especially, in, terms, of,...   \n",
       "8963               [not, one, of, broken, lizard, 's, strongest, entries, but, perhaps, classic, viewing, for, those, in, the, state, that, it, 's, characters, are, drunk, final, rating:, ★, ★, ½, not, quite, for, me, but, i, definitely, get, the, appeal]   \n",
       "8964                                               [this, was, a, awesome, movie, i, love, these, guys, just, as, good, as, they, were, in, super, troopers, i, would, definitely, like, to, try, this, in, real, life, myself, sometime, it, would, be, sweet]   \n",
       "\n",
       "                                                                                                                                                                                                                                                         tokens  \\\n",
       "0                                                                                                                                                                                   [better, original, think, pretty, funny, thought, comedy, better, original]   \n",
       "1                                                                                                                                                                                                             [kind, boring, good, plot, storyline, interested]   \n",
       "2     [heartwarming, impactful, intends, brother, bear, leaves, heartfelt, feelings, features, cute, story, bit, melancholic, moments, need, set, perfectly, feel, little, predictable, twist, decent, animation, wise, fine, early, aspect, ratio, stuff, o...   \n",
       "3     [kenai, young, inuit, warrior, disturbs, spirits, kills, bear, punishment, turned, left, wander, wilderness, luckily, encounters, young, cub, koda, thinks, know, exact, spot, kenai, restored, humanity, help, quest, human, brother, denahi, thinks,...   \n",
       "4                   [like, apt, title, happened, scenes, justice, league, cost, $, 250m+, poster, child, happens, studio, messes, project, honestly, hope, day, documentary, footage, cuts, actors, removed, movie, surprising, watchable, hardly, good, 2.5/5]   \n",
       "...                                                                                                                                                                                                                                                         ...   \n",
       "8960                                                                                                                               [feared, marvel, gotten, caught, making, sure, character, gets, action, time, room, character, development, need, tone, bit]   \n",
       "8961  [viewing, strongest, mcu, avenger, movies, good, parts, introduction, elizabeth, olsen, scarlet, witch, paul, bettany, vision, setting, motion, infinity, stones, new, avengers, etc, plot, felt, messy, times, found, entertaining, especially, seein...   \n",
       "8962  [cool, seeing, massively, enjoy, good, opinion, avengers, age, ultron, far, 2012, avengers, especially, terms, fell, definitely, wanted, satisfying, superhero, action, flicks, rank, narrowly, aforementioned, robert, downey, jr., felt, little, fla...   \n",
       "8963                                                                                                                                    [broken, lizard, strongest, entries, classic, viewing, state, characters, drunk, final, rating:, ½, definitely, appeal]   \n",
       "8964                                                                                                                                                              [awesome, movie, love, guys, good, super, troopers, definitely, like, try, real, life, sweet]   \n",
       "\n",
       "                                                                                                                                                                                                                                                         lemmas  \\\n",
       "0                                                                                                                                                                                         [well, original, think, pretty, funny, think, comedy, well, original]   \n",
       "1                                                                                                                                                                                                             [kind, boring, good, plot, storyline, interested]   \n",
       "2     [heartwarme, impactful, intend, brother, bear, leave, heartfelt, feeling, feature, cute, story, bit, melancholic, moment, need, set, perfectly, feel, little, predictable, twist, decent, animation, wise, fine, early, aspect, ratio, stuff, oddly, v...   \n",
       "3     [kenai, young, inuit, warrior, disturb, spirit, kill, bear, punishment, turn, leave, wander, wilderness, luckily, encounter, young, cub, koda, think, know, exact, spot, kenai, restore, humanity, help, quest, human, brother, denahi, think, kenai, ...   \n",
       "4                            [like, apt, title, happen, scene, justice, league, cost, $, 250m+, poster, child, happen, studio, mess, project, honestly, hope, day, documentary, footage, cut, actor, remove, movie, surprising, watchable, hardly, good, 2.5/5]   \n",
       "...                                                                                                                                                                                                                                                         ...   \n",
       "8960                                                                                                                                        [fear, marvel, get, catch, make, sure, character, get, action, time, room, character, development, need, tone, bit]   \n",
       "8961     [viewing, strong, mcu, avenger, movie, good, part, introduction, elizabeth, olsen, scarlet, witch, paul, bettany, vision, set, motion, infinity, stone, new, avengers, etc, plot, feel, messy, time, find, entertain, especially, see, mcu, go, 3.5/5]   \n",
       "8962  [cool, see, massively, enjoy, good, opinion, avenger, age, ultron, far, 2012, avengers, especially, term, fall, definitely, want, satisfy, superhero, action, flick, rank, narrowly, aforementione, robert, downey, jr., feel, little, flat, iron, man...   \n",
       "8963                                                                                                                                          [broken, lizard, strong, entry, classic, viewing, state, character, drunk, final, rating:, ½, definitely, appeal]   \n",
       "8964                                                                                                                                                                [awesome, movie, love, guy, good, super, trooper, definitely, like, try, real, life, sweet]   \n",
       "\n",
       "                                                                                                                                                                                                                                            tokens-dirty-joined  \\\n",
       "0                                                                                                                                                       better then the original i think was pretty funny i thought the comedy was better then the original too   \n",
       "1                                                                                                                                                                          kind of boring it 's a good plot and storyline nothing really to keep you interested   \n",
       "2     heartwarming if not as impactful as it intends to be brother bear leaves heartfelt feelings and features a cute story it does get a bit too melancholic in moments where it does n't need to be or where it 's not set up perfectly it can also feel a...   \n",
       "3     kenai is a young inuit warrior who disturbs the spirits when he kills a bear his punishment is to be turned into one himself and be left to wander the wilderness alone luckily he encounters the young cub koda who thinks he might know the exact sp...   \n",
       "4     seems like an apt title for everything that happened behind the scenes if not for justice league which cost $ 250m+ this might be the poster child of what happens when a studio messes around with a project honestly i really hope one day we get a ...   \n",
       "...                                                                                                                                                                                                                                                         ...   \n",
       "8960                                                       it 's just what i feared marvel has gotten so caught up in making sure that each character gets some action time that there 's no room now for character development they need to tone it down a bit   \n",
       "8961  third viewing of this and while not the strongest within the mcu or of the other avenger movies still has some good parts introduction to elizabeth olsen 's scarlet witch and paul bettany 's vision further setting into motion the infinity stones ...   \n",
       "8962  cool seeing them all together again even if i did n't massively enjoy it it 's good nothing more or less in my opinion avengers age of ultron is n't too far off 2012 's the avengers especially in terms of how i fell about it i definitely wanted m...   \n",
       "8963                                                      not one of broken lizard 's strongest entries but perhaps classic viewing for those in the state that it 's characters are drunk final rating: ★ ★ ½ not quite for me but i definitely get the appeal   \n",
       "8964                                                                                  this was a awesome movie i love these guys just as good as they were in super troopers i would definitely like to try this in real life myself sometime it would be sweet   \n",
       "\n",
       "                                                                                                                                                                                                                                                  tokens-joined  \\\n",
       "0                                                                                                                                                                                             better original think pretty funny thought comedy better original   \n",
       "1                                                                                                                                                                                                                    kind boring good plot storyline interested   \n",
       "2     heartwarming impactful intends brother bear leaves heartfelt feelings features cute story bit melancholic moments need set perfectly feel little predictable twist decent animation wise fine early aspect ratio stuff oddly voice cast amazing despit...   \n",
       "3     kenai young inuit warrior disturbs spirits kills bear punishment turned left wander wilderness luckily encounters young cub koda thinks know exact spot kenai restored humanity help quest human brother denahi thinks kenai killed bear chasing new f...   \n",
       "4                                                  like apt title happened scenes justice league cost $ 250m+ poster child happens studio messes project honestly hope day documentary footage cuts actors removed movie surprising watchable hardly good 2.5/5   \n",
       "...                                                                                                                                                                                                                                                         ...   \n",
       "8960                                                                                                                                                feared marvel gotten caught making sure character gets action time room character development need tone bit   \n",
       "8961                  viewing strongest mcu avenger movies good parts introduction elizabeth olsen scarlet witch paul bettany vision setting motion infinity stones new avengers etc plot felt messy times found entertaining especially seeing mcu going 3.5/5   \n",
       "8962  cool seeing massively enjoy good opinion avengers age ultron far 2012 avengers especially terms fell definitely wanted satisfying superhero action flicks rank narrowly aforementioned robert downey jr. felt little flat iron man decent moments indi...   \n",
       "8963                                                                                                                                                   broken lizard strongest entries classic viewing state characters drunk final rating: ½ definitely appeal   \n",
       "8964                                                                                                                                                                            awesome movie love guys good super troopers definitely like try real life sweet   \n",
       "\n",
       "                                                                                                                                                                                                                                                  lemmas-joined  \\\n",
       "0                                                                                                                                                                                                   well original think pretty funny think comedy well original   \n",
       "1                                                                                                                                                                                                                    kind boring good plot storyline interested   \n",
       "2     heartwarme impactful intend brother bear leave heartfelt feeling feature cute story bit melancholic moment need set perfectly feel little predictable twist decent animation wise fine early aspect ratio stuff oddly voice cast amazing despite talen...   \n",
       "3     kenai young inuit warrior disturb spirit kill bear punishment turn leave wander wilderness luckily encounter young cub koda think know exact spot kenai restore humanity help quest human brother denahi think kenai kill bear chase new form lethal i...   \n",
       "4                                                           like apt title happen scene justice league cost $ 250m+ poster child happen studio mess project honestly hope day documentary footage cut actor remove movie surprising watchable hardly good 2.5/5   \n",
       "...                                                                                                                                                                                                                                                         ...   \n",
       "8960                                                                                                                                                         fear marvel get catch make sure character get action time room character development need tone bit   \n",
       "8961                                       viewing strong mcu avenger movie good part introduction elizabeth olsen scarlet witch paul bettany vision set motion infinity stone new avengers etc plot feel messy time find entertain especially see mcu go 3.5/5   \n",
       "8962  cool see massively enjoy good opinion avenger age ultron far 2012 avengers especially term fall definitely want satisfy superhero action flick rank narrowly aforementione robert downey jr. feel little flat iron man decent moment individual film c...   \n",
       "8963                                                                                                                                                         broken lizard strong entry classic viewing state character drunk final rating: ½ definitely appeal   \n",
       "8964                                                                                                                                                                              awesome movie love guy good super trooper definitely like try real life sweet   \n",
       "\n",
       "          profit target-profit       ROI      target-ROI target-rating  \n",
       "0      129837010          True  3.245925   2_Blockbuster           Mid  \n",
       "1       15612137          True  1.115153    1_Successful           Mid  \n",
       "2      122397798          True  0.956233  0_Unsuccessful           Mid  \n",
       "3      122397798          True  0.956233  0_Unsuccessful           Mid  \n",
       "4      -15700000         False -0.448571  0_Unsuccessful           Mid  \n",
       "...          ...           ...       ...             ...           ...  \n",
       "8960  1040403694          True  2.850421    1_Successful           Low  \n",
       "8961  1040403694          True  2.850421    1_Successful           Mid  \n",
       "8962  1040403694          True  2.850421    1_Successful           Mid  \n",
       "8963     1679969          True  0.095998  0_Unsuccessful           Mid  \n",
       "8964     1679969          True  0.095998  0_Unsuccessful          High  \n",
       "\n",
       "[8964 rows x 25 columns]"
      ]
     },
     "execution_count": 8,
     "metadata": {},
     "output_type": "execute_result"
    }
   ],
   "source": [
    "# df =  pd.read_csv('Data-NLP/combined-tmdb-movie-reviews.csv.gz')\n",
    "df = pd.read_json(fpath_data)\n",
    "df"
   ]
  },
  {
   "cell_type": "markdown",
   "id": "5075e976-b064-44a5-9f33-69d1ebd8c63d",
   "metadata": {},
   "source": [
    "### Opt B) Previously Processed Joblib"
   ]
  },
  {
   "cell_type": "code",
   "execution_count": 9,
   "id": "ca501a8b-12d9-4d5d-9bb7-ce46635fd231",
   "metadata": {
    "execution": {
     "iopub.execute_input": "2024-01-26T00:34:14.735631Z",
     "iopub.status.busy": "2024-01-26T00:34:14.735504Z",
     "iopub.status.idle": "2024-01-26T00:34:14.768027Z",
     "shell.execute_reply": "2024-01-26T00:34:14.767557Z",
     "shell.execute_reply.started": "2024-01-26T00:34:14.735621Z"
    }
   },
   "outputs": [],
   "source": [
    "import joblib\n",
    "# # fname_data_joblib = \"Data/processed-nlp-data.joblib\"\n",
    "# fname_data_joblib = FPATHS['data']['raw']['processed-joblib']\n",
    "# df = joblib.load(fname_data_joblib)\n",
    "# df"
   ]
  },
  {
   "cell_type": "markdown",
   "id": "ae67603c-b02c-458a-9733-e512fc73d139",
   "metadata": {},
   "source": [
    "## Define df_ml"
   ]
  },
  {
   "cell_type": "code",
   "execution_count": 10,
   "id": "0d133847-2e35-483c-b253-983f92be5fcb",
   "metadata": {
    "execution": {
     "iopub.execute_input": "2024-01-26T00:34:14.768856Z",
     "iopub.status.busy": "2024-01-26T00:34:14.768744Z",
     "iopub.status.idle": "2024-01-26T00:34:14.806202Z",
     "shell.execute_reply": "2024-01-26T00:34:14.805836Z",
     "shell.execute_reply.started": "2024-01-26T00:34:14.768847Z"
    }
   },
   "outputs": [
    {
     "data": {
      "text/plain": [
       "Index(['imdb_id', 'movie_id', 'budget', 'revenue', 'original_title',\n",
       "       'original_language', 'overview', 'tagline', 'certification',\n",
       "       'review_id', 'rating', 'review_text', 'created_at', 'review_text_raw',\n",
       "       'tokens-dirty', 'tokens', 'lemmas', 'tokens-dirty-joined',\n",
       "       'tokens-joined', 'lemmas-joined', 'profit', 'target-profit', 'ROI',\n",
       "       'target-ROI', 'target-rating'],\n",
       "      dtype='object')"
      ]
     },
     "execution_count": 10,
     "metadata": {},
     "output_type": "execute_result"
    }
   ],
   "source": [
    "df.columns"
   ]
  },
  {
   "cell_type": "code",
   "execution_count": 11,
   "id": "5a925e76-75b0-417c-8274-66a313398b63",
   "metadata": {
    "execution": {
     "iopub.execute_input": "2024-01-26T00:34:14.806823Z",
     "iopub.status.busy": "2024-01-26T00:34:14.806724Z",
     "iopub.status.idle": "2024-01-26T00:34:14.845735Z",
     "shell.execute_reply": "2024-01-26T00:34:14.845423Z",
     "shell.execute_reply.started": "2024-01-26T00:34:14.806814Z"
    }
   },
   "outputs": [
    {
     "data": {
      "text/plain": [
       "0_Unsuccessful    0.369366\n",
       "2_Blockbuster     0.333110\n",
       "1_Successful      0.297523\n",
       "Name: target-ROI, dtype: float64"
      ]
     },
     "execution_count": 11,
     "metadata": {},
     "output_type": "execute_result"
    }
   ],
   "source": [
    "# Saving text column as var\n",
    "text_col = 'review_text'\n",
    "\n",
    "# Set target column\n",
    "# possible_targets =  ['target-rating','target-profit','profit',]\n",
    "# target_col = 'target-profit'\n",
    "target_col = 'target-ROI'\n",
    "df[target_col].value_counts(dropna=False, normalize=True)"
   ]
  },
  {
   "cell_type": "code",
   "execution_count": null,
   "id": "cf45e59b-feed-466c-a78c-fd5cc63d9c7b",
   "metadata": {},
   "outputs": [],
   "source": []
  },
  {
   "cell_type": "code",
   "execution_count": 12,
   "id": "7f263bb8-7ec2-409a-9ca4-dfce08ff12b9",
   "metadata": {
    "execution": {
     "iopub.execute_input": "2024-01-26T00:34:14.846354Z",
     "iopub.status.busy": "2024-01-26T00:34:14.846257Z",
     "iopub.status.idle": "2024-01-26T00:34:20.532412Z",
     "shell.execute_reply": "2024-01-26T00:34:20.532059Z",
     "shell.execute_reply.started": "2024-01-26T00:34:14.846345Z"
    }
   },
   "outputs": [
    {
     "data": {
      "image/png": "[encoded data removed]",
      "text/plain": [
       "<Figure size 1000x500 with 2 Axes>"
      ]
     },
     "metadata": {},
     "output_type": "display_data"
    }
   ],
   "source": [
    "# ax = sns.histplot(data=df, x=target_col, hue)\n",
    "\n",
    "\n",
    "fig, (ax1,ax2) =  plt.subplots(ncols=2, figsize=(10,5))\n",
    "sns.histplot(data=df, x='ROI', hue='target-ROI', ax=ax1)#, kde=True)\n",
    "sns.histplot(data=df, x='target-ROI', hue='target-ROI', ax=ax2, legend=False, stat='percent')\n",
    "# Zoom in on hisgtogram\n",
    "ax1.set_xlim(left=-10, right=30)\n",
    "ax2.tick_params(labelrotation=45)\n",
    "fig.align_xlabels()\n",
    "fig.tight_layout()\n"
   ]
  },
  {
   "cell_type": "markdown",
   "id": "908e42dd-b832-4e4c-9ecc-dc1280d87243",
   "metadata": {},
   "source": [
    "#### Re-Definng target"
   ]
  },
  {
   "cell_type": "code",
   "execution_count": 13,
   "id": "0da1f6e5-f519-481e-832c-a9e247042755",
   "metadata": {
    "execution": {
     "iopub.execute_input": "2024-01-26T00:34:20.532976Z",
     "iopub.status.busy": "2024-01-26T00:34:20.532871Z",
     "iopub.status.idle": "2024-01-26T00:34:20.571456Z",
     "shell.execute_reply": "2024-01-26T00:34:20.571143Z",
     "shell.execute_reply.started": "2024-01-26T00:34:20.532968Z"
    }
   },
   "outputs": [],
   "source": [
    "# # Function to categorize movies\n",
    "# def categorize_movie_success(roi):\n",
    "#     if roi < 1:\n",
    "#         return '1_Unsuccessful'\n",
    "#     elif roi < 3:\n",
    "#         return '2_Successful'\n",
    "#     else:\n",
    "#         return '3_Blockbuster'\n",
    "\n",
    "# df['target-ROI'] = df['ROI'].map(categorize_movie_success)\n",
    "# df['target-ROI'].value_counts(dropna=False, normalize=True)"
   ]
  },
  {
   "cell_type": "code",
   "execution_count": 14,
   "id": "271ea344-f443-43f8-9e17-fc52ccac2eab",
   "metadata": {
    "execution": {
     "iopub.execute_input": "2024-01-26T00:34:20.572053Z",
     "iopub.status.busy": "2024-01-26T00:34:20.571950Z",
     "iopub.status.idle": "2024-01-26T00:34:20.609944Z",
     "shell.execute_reply": "2024-01-26T00:34:20.609539Z",
     "shell.execute_reply.started": "2024-01-26T00:34:20.572043Z"
    }
   },
   "outputs": [
    {
     "data": {
      "text/plain": [
       "0_Unsuccessful    0.369366\n",
       "2_Blockbuster     0.333110\n",
       "1_Successful      0.297523\n",
       "Name: target-ROI, dtype: float64"
      ]
     },
     "execution_count": 14,
     "metadata": {},
     "output_type": "execute_result"
    }
   ],
   "source": [
    "df[target_col].value_counts(dropna=False, normalize=True)"
   ]
  },
  {
   "cell_type": "code",
   "execution_count": 15,
   "id": "5dfd4845-26d6-4bb8-a551-bfa78295a359",
   "metadata": {
    "execution": {
     "iopub.execute_input": "2024-01-26T00:34:20.610669Z",
     "iopub.status.busy": "2024-01-26T00:34:20.610546Z",
     "iopub.status.idle": "2024-01-26T00:34:20.650566Z",
     "shell.execute_reply": "2024-01-26T00:34:20.650236Z",
     "shell.execute_reply.started": "2024-01-26T00:34:20.610657Z"
    }
   },
   "outputs": [
    {
     "data": {
      "text/plain": [
       "['0_Unsuccessful', '1_Successful', '2_Blockbuster']"
      ]
     },
     "execution_count": 15,
     "metadata": {},
     "output_type": "execute_result"
    }
   ],
   "source": [
    "sorted(df[target_col].unique())"
   ]
  },
  {
   "cell_type": "code",
   "execution_count": null,
   "id": "1f089898-c6e9-4982-8e9e-956625217a9b",
   "metadata": {},
   "outputs": [],
   "source": []
  },
  {
   "cell_type": "code",
   "execution_count": 16,
   "id": "539c5d6a-9220-46d5-8217-352f85e7a82e",
   "metadata": {
    "execution": {
     "iopub.execute_input": "2024-01-26T00:34:20.651272Z",
     "iopub.status.busy": "2024-01-26T00:34:20.651112Z",
     "iopub.status.idle": "2024-01-26T00:34:20.688663Z",
     "shell.execute_reply": "2024-01-26T00:34:20.688330Z",
     "shell.execute_reply.started": "2024-01-26T00:34:20.651261Z"
    }
   },
   "outputs": [],
   "source": [
    "# # ## Combining Target Groups\n",
    "# # target_map = {'0_Flop':\"Low (ROI<1)\", \n",
    "# #               '1_Moderate Success':\"\", '2_Success', '3_Blockbuster'\n",
    "\n",
    "# # Function to categorize movies\n",
    "# def categorize_movie_binary(roi):\n",
    "#     if roi < 0:\n",
    "#         return '0_Flop'\n",
    "#     elif roi < 1:\n",
    "#         return '1_Moderate Success'\n",
    "#     elif roi < 3:\n",
    "#         return '2_Success'\n",
    "#     else:\n",
    "#         return '3_Blockbuster'\n",
    "\n",
    "# df['target-ROI'] = df['ROI'].map(categorize_movie)\n",
    "# df['target-ROI'].value_counts(dropna=False, normalize=True)\n"
   ]
  },
  {
   "cell_type": "code",
   "execution_count": 17,
   "id": "a6a18e73-7859-4da0-980f-07153104a880",
   "metadata": {
    "execution": {
     "iopub.execute_input": "2024-01-26T00:34:20.689270Z",
     "iopub.status.busy": "2024-01-26T00:34:20.689173Z",
     "iopub.status.idle": "2024-01-26T00:34:20.736454Z",
     "shell.execute_reply": "2024-01-26T00:34:20.736130Z",
     "shell.execute_reply.started": "2024-01-26T00:34:20.689260Z"
    }
   },
   "outputs": [
    {
     "name": "stdout",
     "output_type": "stream",
     "text": [
      "0_Unsuccessful    0.369366\n",
      "2_Blockbuster     0.333110\n",
      "1_Successful      0.297523\n",
      "Name: target-ROI, dtype: float64\n"
     ]
    },
    {
     "data": {
      "text/html": [
       "<div>\n",
       "<style scoped>\n",
       "    .dataframe tbody tr th:only-of-type {\n",
       "        vertical-align: middle;\n",
       "    }\n",
       "\n",
       "    .dataframe tbody tr th {\n",
       "        vertical-align: top;\n",
       "    }\n",
       "\n",
       "    .dataframe thead th {\n",
       "        text-align: right;\n",
       "    }\n",
       "</style>\n",
       "<table border=\"1\" class=\"dataframe\">\n",
       "  <thead>\n",
       "    <tr style=\"text-align: right;\">\n",
       "      <th></th>\n",
       "      <th>imdb_id</th>\n",
       "      <th>movie_id</th>\n",
       "      <th>budget</th>\n",
       "      <th>revenue</th>\n",
       "      <th>original_title</th>\n",
       "      <th>original_language</th>\n",
       "      <th>overview</th>\n",
       "      <th>tagline</th>\n",
       "      <th>certification</th>\n",
       "      <th>rating</th>\n",
       "      <th>review_text</th>\n",
       "      <th>created_at</th>\n",
       "      <th>review_text_raw</th>\n",
       "      <th>tokens-dirty</th>\n",
       "      <th>tokens</th>\n",
       "      <th>lemmas</th>\n",
       "      <th>tokens-dirty-joined</th>\n",
       "      <th>tokens-joined</th>\n",
       "      <th>lemmas-joined</th>\n",
       "      <th>profit</th>\n",
       "      <th>target-profit</th>\n",
       "      <th>ROI</th>\n",
       "      <th>target-ROI</th>\n",
       "      <th>target-rating</th>\n",
       "    </tr>\n",
       "    <tr>\n",
       "      <th>review_id</th>\n",
       "      <th></th>\n",
       "      <th></th>\n",
       "      <th></th>\n",
       "      <th></th>\n",
       "      <th></th>\n",
       "      <th></th>\n",
       "      <th></th>\n",
       "      <th></th>\n",
       "      <th></th>\n",
       "      <th></th>\n",
       "      <th></th>\n",
       "      <th></th>\n",
       "      <th></th>\n",
       "      <th></th>\n",
       "      <th></th>\n",
       "      <th></th>\n",
       "      <th></th>\n",
       "      <th></th>\n",
       "      <th></th>\n",
       "      <th></th>\n",
       "      <th></th>\n",
       "      <th></th>\n",
       "      <th></th>\n",
       "      <th></th>\n",
       "    </tr>\n",
       "  </thead>\n",
       "  <tbody>\n",
       "    <tr>\n",
       "      <th>64a3999fe9da6900c763aa8d</th>\n",
       "      <td>tt2096672</td>\n",
       "      <td>100042</td>\n",
       "      <td>40000000</td>\n",
       "      <td>169837010</td>\n",
       "      <td>Dumb and Dumber To</td>\n",
       "      <td>en</td>\n",
       "      <td>20 years since their first adventure, Lloyd and Harry go on a road trip to find Harry's newly discovered daughter, who was given up for adoption.</td>\n",
       "      <td>The average person uses 10% of their brain capacity. Imagine what he could do with 1%.</td>\n",
       "      <td>PG-13</td>\n",
       "      <td>7.0</td>\n",
       "      <td>Better then the original I think. Was pretty funny. I thought the comedy was better then the original too.</td>\n",
       "      <td>2023-07-04 04:01:35.517</td>\n",
       "      <td>Better then the original I think. Was pretty funny. I thought the comedy was better then the original too.</td>\n",
       "      <td>[better, then, the, original, i, think, was, pretty, funny, i, thought, the, comedy, was, better, then, the, original, too]</td>\n",
       "      <td>[better, original, think, pretty, funny, thought, comedy, better, original]</td>\n",
       "      <td>[well, original, think, pretty, funny, think, comedy, well, original]</td>\n",
       "      <td>better then the original i think was pretty funny i thought the comedy was better then the original too</td>\n",
       "      <td>better original think pretty funny thought comedy better original</td>\n",
       "      <td>well original think pretty funny think comedy well original</td>\n",
       "      <td>129837010</td>\n",
       "      <td>True</td>\n",
       "      <td>3.245925</td>\n",
       "      <td>2_Blockbuster</td>\n",
       "      <td>Mid</td>\n",
       "    </tr>\n",
       "    <tr>\n",
       "      <th>643d44864d67910469d853a2</th>\n",
       "      <td>tt0429573</td>\n",
       "      <td>10008</td>\n",
       "      <td>14000000</td>\n",
       "      <td>29612137</td>\n",
       "      <td>An American Haunting</td>\n",
       "      <td>en</td>\n",
       "      <td>Based on the true events of the only case in US History where a spirit caused the death of a man.</td>\n",
       "      <td>Possession Knows No Bounds</td>\n",
       "      <td>None</td>\n",
       "      <td>5.0</td>\n",
       "      <td>Kind of boring. It's a good plot and storyline. Nothing really to keep you interested.</td>\n",
       "      <td>2023-04-17 13:07:18.832</td>\n",
       "      <td>Kind of boring. It's a good plot and storyline. Nothing really to keep you interested.</td>\n",
       "      <td>[kind, of, boring, it, 's, a, good, plot, and, storyline, nothing, really, to, keep, you, interested]</td>\n",
       "      <td>[kind, boring, good, plot, storyline, interested]</td>\n",
       "      <td>[kind, boring, good, plot, storyline, interested]</td>\n",
       "      <td>kind of boring it 's a good plot and storyline nothing really to keep you interested</td>\n",
       "      <td>kind boring good plot storyline interested</td>\n",
       "      <td>kind boring good plot storyline interested</td>\n",
       "      <td>15612137</td>\n",
       "      <td>True</td>\n",
       "      <td>1.115153</td>\n",
       "      <td>1_Successful</td>\n",
       "      <td>Mid</td>\n",
       "    </tr>\n",
       "  </tbody>\n",
       "</table>\n",
       "</div>"
      ],
      "text/plain": [
       "                            imdb_id  movie_id    budget    revenue  \\\n",
       "review_id                                                            \n",
       "64a3999fe9da6900c763aa8d  tt2096672    100042  40000000  169837010   \n",
       "643d44864d67910469d853a2  tt0429573     10008  14000000   29612137   \n",
       "\n",
       "                                original_title original_language  \\\n",
       "review_id                                                          \n",
       "64a3999fe9da6900c763aa8d    Dumb and Dumber To                en   \n",
       "643d44864d67910469d853a2  An American Haunting                en   \n",
       "\n",
       "                                                                                                                                                                   overview  \\\n",
       "review_id                                                                                                                                                                     \n",
       "64a3999fe9da6900c763aa8d  20 years since their first adventure, Lloyd and Harry go on a road trip to find Harry's newly discovered daughter, who was given up for adoption.   \n",
       "643d44864d67910469d853a2                                                  Based on the true events of the only case in US History where a spirit caused the death of a man.   \n",
       "\n",
       "                                                                                                         tagline  \\\n",
       "review_id                                                                                                          \n",
       "64a3999fe9da6900c763aa8d  The average person uses 10% of their brain capacity. Imagine what he could do with 1%.   \n",
       "643d44864d67910469d853a2                                                              Possession Knows No Bounds   \n",
       "\n",
       "                         certification  rating  \\\n",
       "review_id                                        \n",
       "64a3999fe9da6900c763aa8d         PG-13     7.0   \n",
       "643d44864d67910469d853a2          None     5.0   \n",
       "\n",
       "                                                                                                                         review_text  \\\n",
       "review_id                                                                                                                              \n",
       "64a3999fe9da6900c763aa8d  Better then the original I think. Was pretty funny. I thought the comedy was better then the original too.   \n",
       "643d44864d67910469d853a2                      Kind of boring. It's a good plot and storyline. Nothing really to keep you interested.   \n",
       "\n",
       "                                      created_at  \\\n",
       "review_id                                          \n",
       "64a3999fe9da6900c763aa8d 2023-07-04 04:01:35.517   \n",
       "643d44864d67910469d853a2 2023-04-17 13:07:18.832   \n",
       "\n",
       "                                                                                                                     review_text_raw  \\\n",
       "review_id                                                                                                                              \n",
       "64a3999fe9da6900c763aa8d  Better then the original I think. Was pretty funny. I thought the comedy was better then the original too.   \n",
       "643d44864d67910469d853a2                      Kind of boring. It's a good plot and storyline. Nothing really to keep you interested.   \n",
       "\n",
       "                                                                                                                                         tokens-dirty  \\\n",
       "review_id                                                                                                                                               \n",
       "64a3999fe9da6900c763aa8d  [better, then, the, original, i, think, was, pretty, funny, i, thought, the, comedy, was, better, then, the, original, too]   \n",
       "643d44864d67910469d853a2                        [kind, of, boring, it, 's, a, good, plot, and, storyline, nothing, really, to, keep, you, interested]   \n",
       "\n",
       "                                                                                               tokens  \\\n",
       "review_id                                                                                               \n",
       "64a3999fe9da6900c763aa8d  [better, original, think, pretty, funny, thought, comedy, better, original]   \n",
       "643d44864d67910469d853a2                            [kind, boring, good, plot, storyline, interested]   \n",
       "\n",
       "                                                                                         lemmas  \\\n",
       "review_id                                                                                         \n",
       "64a3999fe9da6900c763aa8d  [well, original, think, pretty, funny, think, comedy, well, original]   \n",
       "643d44864d67910469d853a2                      [kind, boring, good, plot, storyline, interested]   \n",
       "\n",
       "                                                                                                              tokens-dirty-joined  \\\n",
       "review_id                                                                                                                           \n",
       "64a3999fe9da6900c763aa8d  better then the original i think was pretty funny i thought the comedy was better then the original too   \n",
       "643d44864d67910469d853a2                     kind of boring it 's a good plot and storyline nothing really to keep you interested   \n",
       "\n",
       "                                                                              tokens-joined  \\\n",
       "review_id                                                                                     \n",
       "64a3999fe9da6900c763aa8d  better original think pretty funny thought comedy better original   \n",
       "643d44864d67910469d853a2                         kind boring good plot storyline interested   \n",
       "\n",
       "                                                                        lemmas-joined  \\\n",
       "review_id                                                                               \n",
       "64a3999fe9da6900c763aa8d  well original think pretty funny think comedy well original   \n",
       "643d44864d67910469d853a2                   kind boring good plot storyline interested   \n",
       "\n",
       "                             profit target-profit       ROI     target-ROI  \\\n",
       "review_id                                                                    \n",
       "64a3999fe9da6900c763aa8d  129837010          True  3.245925  2_Blockbuster   \n",
       "643d44864d67910469d853a2   15612137          True  1.115153   1_Successful   \n",
       "\n",
       "                         target-rating  \n",
       "review_id                               \n",
       "64a3999fe9da6900c763aa8d           Mid  \n",
       "643d44864d67910469d853a2           Mid  "
      ]
     },
     "execution_count": 17,
     "metadata": {},
     "output_type": "execute_result"
    }
   ],
   "source": [
    "# Creating df-ml by selecting final target (dropna or filter out group)\n",
    "df_ml = df.dropna(subset=[target_col])\n",
    "# df_ml = df.loc[ df[target_col]!=\"Mid\"]\n",
    "df_ml = df_ml.set_index('review_id')\n",
    "print(df_ml[target_col].value_counts(dropna=False, normalize=True))\n",
    "df_ml.head(2)"
   ]
  },
  {
   "cell_type": "code",
   "execution_count": 18,
   "id": "2bca75c5-9ed8-4466-a7d1-c8f56b8baa5b",
   "metadata": {
    "execution": {
     "iopub.execute_input": "2024-01-26T00:34:20.737131Z",
     "iopub.status.busy": "2024-01-26T00:34:20.737022Z",
     "iopub.status.idle": "2024-01-26T00:34:20.777666Z",
     "shell.execute_reply": "2024-01-26T00:34:20.777279Z",
     "shell.execute_reply.started": "2024-01-26T00:34:20.737121Z"
    }
   },
   "outputs": [
    {
     "data": {
      "text/plain": [
       "0_Unsuccessful    0.369366\n",
       "2_Blockbuster     0.333110\n",
       "1_Successful      0.297523\n",
       "Name: target-ROI, dtype: float64"
      ]
     },
     "execution_count": 18,
     "metadata": {},
     "output_type": "execute_result"
    }
   ],
   "source": [
    "df_ml[target_col].value_counts(1)"
   ]
  },
  {
   "cell_type": "code",
   "execution_count": 19,
   "id": "c1f919ab-084d-4a01-8aee-20877313c60b",
   "metadata": {
    "execution": {
     "iopub.execute_input": "2024-01-26T00:34:20.778380Z",
     "iopub.status.busy": "2024-01-26T00:34:20.778194Z",
     "iopub.status.idle": "2024-01-26T00:34:20.815036Z",
     "shell.execute_reply": "2024-01-26T00:34:20.814744Z",
     "shell.execute_reply.started": "2024-01-26T00:34:20.778368Z"
    }
   },
   "outputs": [
    {
     "data": {
      "text/plain": [
       "review_id\n",
       "64a3999fe9da6900c763aa8d                                                                                                                                                   Better then the original I think. Was pretty funny. I thought the comedy was better then the original too.\n",
       "643d44864d67910469d853a2                                                                                                                                                                       Kind of boring. It's a good plot and storyline. Nothing really to keep you interested.\n",
       "5f22bd2b43999b00355b26a6    Heartwarming, if not as impactful as it intends to be.\\r\\n\\r\\n'Brother Bear' leaves heartfelt feelings and features a cute story. It does get a bit too melancholic in moments where it doesn't need to be or where it's not set up perfectly. It can ...\n",
       "6592736214956560f7da631f    \"Kenai\" is a young Inuit warrior who disturbs the spirits when he kills a bear. His punishment is to be turned into one himself, and be left to wander the wilderness alone. Luckily, he encounters the young cub \"Koda\" who thinks he might know the ...\n",
       "628159c8caa50850dcf93d33    Seems like an apt title for everything that happened behind the scenes. If not for Justice League (which cost $250M+), this might be the poster child of what happens when a studio messes around with a project. Honestly I really hope one day we ge...\n",
       "Name: review_text, dtype: object"
      ]
     },
     "execution_count": 19,
     "metadata": {},
     "output_type": "execute_result"
    }
   ],
   "source": [
    "X = df_ml[text_col]\n",
    "y = df_ml[target_col]\n",
    "X.head()"
   ]
  },
  {
   "cell_type": "code",
   "execution_count": 20,
   "id": "e6e6e6c3-73c5-4ea0-bf30-71fdc1fb61c7",
   "metadata": {
    "execution": {
     "iopub.execute_input": "2024-01-26T00:34:20.815703Z",
     "iopub.status.busy": "2024-01-26T00:34:20.815600Z",
     "iopub.status.idle": "2024-01-26T00:34:20.853489Z",
     "shell.execute_reply": "2024-01-26T00:34:20.853143Z",
     "shell.execute_reply.started": "2024-01-26T00:34:20.815694Z"
    }
   },
   "outputs": [],
   "source": [
    "# Disable parser and ner\n",
    "# nlp_light = spacy.load(\"en_core_web_sm\", disable=['parser','ner'])"
   ]
  },
  {
   "cell_type": "code",
   "execution_count": 21,
   "id": "931f31a7-414a-444f-a4bf-0412e06a49af",
   "metadata": {
    "execution": {
     "iopub.execute_input": "2024-01-26T00:34:20.854014Z",
     "iopub.status.busy": "2024-01-26T00:34:20.853926Z",
     "iopub.status.idle": "2024-01-26T00:34:20.895413Z",
     "shell.execute_reply": "2024-01-26T00:34:20.895094Z",
     "shell.execute_reply.started": "2024-01-26T00:34:20.854005Z"
    }
   },
   "outputs": [
    {
     "data": {
      "text/plain": [
       "review_id\n",
       "58d808c59251411f8905c59f    **But it was all about the sub-operation 'X-Ray'.**\\r\\n\\r\\nBringing the stars from other film industry is not we never heard of. It is mainly done for the international appeal. So now it was Liam Neeson's turn to foray into a Korean film. He did ...\n",
       "612b00d5e04aca0043e2a4a1                                    This movie has a weak understanding of not only the truth in the relationship between the two characters based on actual people, but simplifies the subject of race relations. It was a terrible choice for best picture.\n",
       "6116ecdecee481002e284eea    I was pleasantly surprised by this one, I had not watched any trailers in the run up to watching it but I was expecting it to be a bit lame but it turned out to be a good movie. I was surprised when pretty much the whole first team was killed off...\n",
       "57d49dfd92514136fa001890    The woefully generic **When the Bough Breaks** has the gloss factor going for it to a certain extent. Truthfully, its presentable package of panicky polish includes a stylish suspense piece highlighting an attractive cast involved in familiar dra...\n",
       "5f8ca97a89f7490037ff2a08    You are in for a disappointment if you are expecting this to be a shark movie. Open Water, which reminded me of Force Majeure (2014), is instead about the tension brewing between two husband-wife divers who are left to adrift by their crew in the...\n",
       "Name: review_text, dtype: object"
      ]
     },
     "execution_count": 21,
     "metadata": {},
     "output_type": "execute_result"
    }
   ],
   "source": [
    "## Train test split\n",
    "X_train, X_test, y_train_names, y_test_names = train_test_split(X,y,test_size=0.25,\n",
    "                                                    random_state=321)\n",
    "X_train.head()"
   ]
  },
  {
   "cell_type": "markdown",
   "id": "236a195b-8277-46a6-92c1-cdd75d2b7fc3",
   "metadata": {
    "execution": {
     "iopub.execute_input": "2024-01-25T21:51:11.762177Z",
     "iopub.status.busy": "2024-01-25T21:51:11.761612Z",
     "iopub.status.idle": "2024-01-25T21:51:11.842570Z",
     "shell.execute_reply": "2024-01-25T21:51:11.842041Z",
     "shell.execute_reply.started": "2024-01-25T21:51:11.762146Z"
    }
   },
   "source": [
    "### Label Encoding"
   ]
  },
  {
   "cell_type": "code",
   "execution_count": 22,
   "id": "825ee58f-38f1-420f-bcda-dc4e22dee3a3",
   "metadata": {
    "execution": {
     "iopub.execute_input": "2024-01-26T00:34:20.898694Z",
     "iopub.status.busy": "2024-01-26T00:34:20.898568Z",
     "iopub.status.idle": "2024-01-26T00:34:20.940239Z",
     "shell.execute_reply": "2024-01-26T00:34:20.939922Z",
     "shell.execute_reply.started": "2024-01-26T00:34:20.898685Z"
    }
   },
   "outputs": [
    {
     "data": {
      "text/plain": [
       "review_id\n",
       "58d808c59251411f8905c59f    1\n",
       "612b00d5e04aca0043e2a4a1    2\n",
       "6116ecdecee481002e284eea    0\n",
       "57d49dfd92514136fa001890    1\n",
       "5f8ca97a89f7490037ff2a08    2\n",
       "631fa2995684630083cd4c4e    2\n",
       "5f3eaa00028f14003356044e    0\n",
       "6078cbe21b1f3c0040d2b8c2    2\n",
       "54559acec3a3683e23000c26    0\n",
       "63bb9733a6e2d20092107cc2    2\n",
       "Name: target-ROI, dtype: int64"
      ]
     },
     "execution_count": 22,
     "metadata": {},
     "output_type": "execute_result"
    }
   ],
   "source": [
    "from sklearn.preprocessing import LabelEncoder\n",
    "\n",
    "# Instansiate label encoder\n",
    "encoder = LabelEncoder()\n",
    "\n",
    "# Fit and transform the training target\n",
    "y_train = pd.Series(encoder.fit_transform(y_train_names), \n",
    "                    index=y_train_names.index, \n",
    "                    name=y_train_names.name)\n",
    "\n",
    "# Fit and tranform the test target\n",
    "y_test = pd.Series(encoder.transform(y_test_names), index=y_test_names.index, \n",
    "                    name=y_test_names.name)\n",
    "\n",
    "y_train[:10]"
   ]
  },
  {
   "cell_type": "code",
   "execution_count": 23,
   "id": "428e0403-dcc0-4f74-86b4-9437c6473b90",
   "metadata": {
    "execution": {
     "iopub.execute_input": "2024-01-26T00:34:20.940834Z",
     "iopub.status.busy": "2024-01-26T00:34:20.940743Z",
     "iopub.status.idle": "2024-01-26T00:34:20.980681Z",
     "shell.execute_reply": "2024-01-26T00:34:20.980315Z",
     "shell.execute_reply.started": "2024-01-26T00:34:20.940825Z"
    }
   },
   "outputs": [
    {
     "data": {
      "text/plain": [
       "0    0.364718\n",
       "2    0.336011\n",
       "1    0.299271\n",
       "Name: target-ROI, dtype: float64"
      ]
     },
     "execution_count": 23,
     "metadata": {},
     "output_type": "execute_result"
    }
   ],
   "source": [
    "y_train.value_counts(1)"
   ]
  },
  {
   "cell_type": "markdown",
   "id": "75559c5f-2621-4c28-94d0-b00f97b5d227",
   "metadata": {},
   "source": [
    "## Modeling"
   ]
  },
  {
   "cell_type": "code",
   "execution_count": 24,
   "id": "625f1102-e82c-47f2-b14e-55d2304f9c21",
   "metadata": {
    "execution": {
     "iopub.execute_input": "2024-01-26T00:34:20.981391Z",
     "iopub.status.busy": "2024-01-26T00:34:20.981292Z",
     "iopub.status.idle": "2024-01-26T00:34:21.559325Z",
     "shell.execute_reply": "2024-01-26T00:34:21.558947Z",
     "shell.execute_reply.started": "2024-01-26T00:34:20.981381Z"
    }
   },
   "outputs": [
    {
     "data": {
      "text/html": [
       "<style>#sk-container-id-1 {color: black;background-color: white;}#sk-container-id-1 pre{padding: 0;}#sk-container-id-1 div.sk-toggleable {background-color: white;}#sk-container-id-1 label.sk-toggleable__label {cursor: pointer;display: block;width: 100%;margin-bottom: 0;padding: 0.3em;box-sizing: border-box;text-align: center;}#sk-container-id-1 label.sk-toggleable__label-arrow:before {content: \"▸\";float: left;margin-right: 0.25em;color: #696969;}#sk-container-id-1 label.sk-toggleable__label-arrow:hover:before {color: black;}#sk-container-id-1 div.sk-estimator:hover label.sk-toggleable__label-arrow:before {color: black;}#sk-container-id-1 div.sk-toggleable__content {max-height: 0;max-width: 0;overflow: hidden;text-align: left;background-color: #f0f8ff;}#sk-container-id-1 div.sk-toggleable__content pre {margin: 0.2em;color: black;border-radius: 0.25em;background-color: #f0f8ff;}#sk-container-id-1 input.sk-toggleable__control:checked~div.sk-toggleable__content {max-height: 200px;max-width: 100%;overflow: auto;}#sk-container-id-1 input.sk-toggleable__control:checked~label.sk-toggleable__label-arrow:before {content: \"▾\";}#sk-container-id-1 div.sk-estimator input.sk-toggleable__control:checked~label.sk-toggleable__label {background-color: #d4ebff;}#sk-container-id-1 div.sk-label input.sk-toggleable__control:checked~label.sk-toggleable__label {background-color: #d4ebff;}#sk-container-id-1 input.sk-hidden--visually {border: 0;clip: rect(1px 1px 1px 1px);clip: rect(1px, 1px, 1px, 1px);height: 1px;margin: -1px;overflow: hidden;padding: 0;position: absolute;width: 1px;}#sk-container-id-1 div.sk-estimator {font-family: monospace;background-color: #f0f8ff;border: 1px dotted black;border-radius: 0.25em;box-sizing: border-box;margin-bottom: 0.5em;}#sk-container-id-1 div.sk-estimator:hover {background-color: #d4ebff;}#sk-container-id-1 div.sk-parallel-item::after {content: \"\";width: 100%;border-bottom: 1px solid gray;flex-grow: 1;}#sk-container-id-1 div.sk-label:hover label.sk-toggleable__label {background-color: #d4ebff;}#sk-container-id-1 div.sk-serial::before {content: \"\";position: absolute;border-left: 1px solid gray;box-sizing: border-box;top: 0;bottom: 0;left: 50%;z-index: 0;}#sk-container-id-1 div.sk-serial {display: flex;flex-direction: column;align-items: center;background-color: white;padding-right: 0.2em;padding-left: 0.2em;position: relative;}#sk-container-id-1 div.sk-item {position: relative;z-index: 1;}#sk-container-id-1 div.sk-parallel {display: flex;align-items: stretch;justify-content: center;background-color: white;position: relative;}#sk-container-id-1 div.sk-item::before, #sk-container-id-1 div.sk-parallel-item::before {content: \"\";position: absolute;border-left: 1px solid gray;box-sizing: border-box;top: 0;bottom: 0;left: 50%;z-index: -1;}#sk-container-id-1 div.sk-parallel-item {display: flex;flex-direction: column;z-index: 1;position: relative;background-color: white;}#sk-container-id-1 div.sk-parallel-item:first-child::after {align-self: flex-end;width: 50%;}#sk-container-id-1 div.sk-parallel-item:last-child::after {align-self: flex-start;width: 50%;}#sk-container-id-1 div.sk-parallel-item:only-child::after {width: 0;}#sk-container-id-1 div.sk-dashed-wrapped {border: 1px dashed gray;margin: 0 0.4em 0.5em 0.4em;box-sizing: border-box;padding-bottom: 0.4em;background-color: white;}#sk-container-id-1 div.sk-label label {font-family: monospace;font-weight: bold;display: inline-block;line-height: 1.2em;}#sk-container-id-1 div.sk-label-container {text-align: center;}#sk-container-id-1 div.sk-container {/* jupyter's `normalize.less` sets `[hidden] { display: none; }` but bootstrap.min.css set `[hidden] { display: none !important; }` so we also need the `!important` here to be able to override the default hidden behavior on the sphinx rendered scikit-learn.org. See: https://github.com/scikit-learn/scikit-learn/issues/21755 */display: inline-block !important;position: relative;}#sk-container-id-1 div.sk-text-repr-fallback {display: none;}</style><div id=\"sk-container-id-1\" class=\"sk-top-container\"><div class=\"sk-text-repr-fallback\"><pre>CountVectorizer()</pre><b>In a Jupyter environment, please rerun this cell to show the HTML representation or trust the notebook. <br />On GitHub, the HTML representation is unable to render, please try loading this page with nbviewer.org.</b></div><div class=\"sk-container\" hidden><div class=\"sk-item\"><div class=\"sk-estimator sk-toggleable\"><input class=\"sk-toggleable__control sk-hidden--visually\" id=\"sk-estimator-id-1\" type=\"checkbox\" checked><label for=\"sk-estimator-id-1\" class=\"sk-toggleable__label sk-toggleable__label-arrow\">CountVectorizer</label><div class=\"sk-toggleable__content\"><pre>CountVectorizer()</pre></div></div></div></div></div>"
      ],
      "text/plain": [
       "CountVectorizer()"
      ]
     },
     "execution_count": 24,
     "metadata": {},
     "output_type": "execute_result"
    }
   ],
   "source": [
    "vectorizer = CountVectorizer(stop_words=None,\n",
    "    ngram_range=(1,1))\n",
    "vectorizer.fit(X_train)"
   ]
  },
  {
   "cell_type": "code",
   "execution_count": 25,
   "id": "48a08e55-4dd2-42b7-90b4-27bf489f70a2",
   "metadata": {
    "execution": {
     "iopub.execute_input": "2024-01-26T00:34:21.560010Z",
     "iopub.status.busy": "2024-01-26T00:34:21.559929Z",
     "iopub.status.idle": "2024-01-26T00:34:21.600610Z",
     "shell.execute_reply": "2024-01-26T00:34:21.599409Z",
     "shell.execute_reply.started": "2024-01-26T00:34:21.560003Z"
    }
   },
   "outputs": [
    {
     "data": {
      "text/plain": [
       "45292"
      ]
     },
     "execution_count": 25,
     "metadata": {},
     "output_type": "execute_result"
    }
   ],
   "source": [
    "# Saves vocab - matches number of columns above\n",
    "vocab_dict = vectorizer.vocabulary_\n",
    "len(vocab_dict)"
   ]
  },
  {
   "cell_type": "code",
   "execution_count": 26,
   "id": "c6d4928b-a25c-47bb-94f0-cbc083a5a806",
   "metadata": {
    "execution": {
     "iopub.execute_input": "2024-01-26T00:34:21.601694Z",
     "iopub.status.busy": "2024-01-26T00:34:21.601576Z",
     "iopub.status.idle": "2024-01-26T00:34:21.652467Z",
     "shell.execute_reply": "2024-01-26T00:34:21.652078Z",
     "shell.execute_reply.started": "2024-01-26T00:34:21.601684Z"
    }
   },
   "outputs": [
    {
     "data": {
      "text/plain": [
       "45292"
      ]
     },
     "execution_count": 26,
     "metadata": {},
     "output_type": "execute_result"
    }
   ],
   "source": [
    "# Words are now the feature_names\n",
    "feature_names = vectorizer.get_feature_names_out()\n",
    "len(feature_names)"
   ]
  },
  {
   "cell_type": "code",
   "execution_count": 27,
   "id": "b8dd02c5-8b98-4afd-8a6d-7889a4ddf4e8",
   "metadata": {
    "execution": {
     "iopub.execute_input": "2024-01-26T00:34:21.653136Z",
     "iopub.status.busy": "2024-01-26T00:34:21.653017Z",
     "iopub.status.idle": "2024-01-26T00:34:21.689872Z",
     "shell.execute_reply": "2024-01-26T00:34:21.689520Z",
     "shell.execute_reply.started": "2024-01-26T00:34:21.653126Z"
    }
   },
   "outputs": [],
   "source": [
    "# FPATHS"
   ]
  },
  {
   "cell_type": "markdown",
   "id": "df939215-0083-4ea8-b51a-ff78835a4abc",
   "metadata": {},
   "source": [
    "### DummyClassifier"
   ]
  },
  {
   "cell_type": "code",
   "execution_count": 28,
   "id": "57941d46-ed2b-4358-9218-c38d085e376c",
   "metadata": {
    "execution": {
     "iopub.execute_input": "2024-01-26T00:34:21.690467Z",
     "iopub.status.busy": "2024-01-26T00:34:21.690372Z",
     "iopub.status.idle": "2024-01-26T00:34:23.140918Z",
     "shell.execute_reply": "2024-01-26T00:34:23.140425Z",
     "shell.execute_reply.started": "2024-01-26T00:34:21.690458Z"
    }
   },
   "outputs": [
    {
     "name": "stdout",
     "output_type": "stream",
     "text": [
      "----------------------------------------------------------------------\n",
      " Classification Metrics: Training Data\n",
      "----------------------------------------------------------------------\n",
      "              precision    recall  f1-score   support\n",
      "\n",
      "           0       0.36      0.34      0.35      2452\n",
      "           1       0.32      0.33      0.33      2012\n",
      "           2       0.33      0.34      0.34      2259\n",
      "\n",
      "    accuracy                           0.34      6723\n",
      "   macro avg       0.34      0.34      0.34      6723\n",
      "weighted avg       0.34      0.34      0.34      6723\n",
      "\n"
     ]
    },
    {
     "data": {
      "image/png": "[encoded data removed]",
      "text/plain": [
       "<Figure size 800x1200 with 2 Axes>"
      ]
     },
     "metadata": {},
     "output_type": "display_data"
    },
    {
     "name": "stdout",
     "output_type": "stream",
     "text": [
      "\n",
      "----------------------------------------------------------------------\n",
      " Classification Metrics: Test Data\n",
      "----------------------------------------------------------------------\n",
      "              precision    recall  f1-score   support\n",
      "\n",
      "           0       0.40      0.39      0.39       859\n",
      "           1       0.32      0.33      0.32       655\n",
      "           2       0.36      0.36      0.36       727\n",
      "\n",
      "    accuracy                           0.36      2241\n",
      "   macro avg       0.36      0.36      0.36      2241\n",
      "weighted avg       0.36      0.36      0.36      2241\n",
      "\n"
     ]
    },
    {
     "data": {
      "image/png": "[encoded data removed]",
      "text/plain": [
       "<Figure size 800x1200 with 2 Axes>"
      ]
     },
     "metadata": {},
     "output_type": "display_data"
    }
   ],
   "source": [
    "from sklearn.dummy import DummyClassifier\n",
    "vectorizer = CountVectorizer(stop_words=None,\n",
    "    ngram_range=(1,1))\n",
    "\n",
    "clf_pipe = Pipeline([\n",
    "    ('vectorizer',vectorizer),\n",
    "    ('clf',DummyClassifier(strategy='stratified'))\n",
    "])\n",
    "\n",
    "## Fit an evaluate a Logistic Regression\n",
    "clf_pipe.fit(X_train, y_train)\n",
    "ds.evaluate.evaluate_classification(clf_pipe, X_train,y_train, X_test, y_test,figsize=(8,12),values_format=\".2g\")\n",
    "# joblib.dump(clf_pipe, FPATHS['models']['ml']['logreg'])"
   ]
  },
  {
   "cell_type": "markdown",
   "id": "91e0b15b-0071-426a-a5ee-e15abf4d9b8a",
   "metadata": {},
   "source": [
    "### Bayes"
   ]
  },
  {
   "cell_type": "code",
   "execution_count": 29,
   "id": "19bde110-867e-4b67-93a3-28bfa6e8f1b8",
   "metadata": {
    "execution": {
     "iopub.execute_input": "2024-01-26T00:34:23.141814Z",
     "iopub.status.busy": "2024-01-26T00:34:23.141683Z",
     "iopub.status.idle": "2024-01-26T00:34:28.058056Z",
     "shell.execute_reply": "2024-01-26T00:34:28.057778Z",
     "shell.execute_reply.started": "2024-01-26T00:34:23.141804Z"
    }
   },
   "outputs": [
    {
     "name": "stdout",
     "output_type": "stream",
     "text": [
      "----------------------------------------------------------------------\n",
      " Classification Metrics: Training Data\n",
      "----------------------------------------------------------------------\n",
      "              precision    recall  f1-score   support\n",
      "\n",
      "           0       0.99      0.99      0.99      2452\n",
      "           1       0.99      0.98      0.99      2012\n",
      "           2       0.98      0.99      0.99      2259\n",
      "\n",
      "    accuracy                           0.99      6723\n",
      "   macro avg       0.99      0.99      0.99      6723\n",
      "weighted avg       0.99      0.99      0.99      6723\n",
      "\n"
     ]
    },
    {
     "data": {
      "image/png": "[encoded data removed]",
      "text/plain": [
       "<Figure size 600x400 with 2 Axes>"
      ]
     },
     "metadata": {},
     "output_type": "display_data"
    },
    {
     "name": "stdout",
     "output_type": "stream",
     "text": [
      "\n",
      "----------------------------------------------------------------------\n",
      " Classification Metrics: Test Data\n",
      "----------------------------------------------------------------------\n",
      "              precision    recall  f1-score   support\n",
      "\n",
      "           0       0.51      0.86      0.64       859\n",
      "           1       0.60      0.20      0.31       655\n",
      "           2       0.61      0.47      0.53       727\n",
      "\n",
      "    accuracy                           0.54      2241\n",
      "   macro avg       0.57      0.51      0.49      2241\n",
      "weighted avg       0.57      0.54      0.51      2241\n",
      "\n"
     ]
    },
    {
     "data": {
      "image/png": "[encoded data removed]",
      "text/plain": [
       "<Figure size 600x400 with 2 Axes>"
      ]
     },
     "metadata": {},
     "output_type": "display_data"
    },
    {
     "data": {
      "text/plain": [
       "['Models/bayes-clf.joblib']"
      ]
     },
     "execution_count": 29,
     "metadata": {},
     "output_type": "execute_result"
    }
   ],
   "source": [
    "vectorizer = CountVectorizer(stop_words='english',\n",
    "    ngram_range=(1,2)\n",
    "                            )\n",
    "\n",
    "clf_bayes = Pipeline([\n",
    "    ('vectorizer',vectorizer),\n",
    "    ('clf',MultinomialNB())\n",
    "])\n",
    "\n",
    "## Fit an evaluate a Bayesian Model\n",
    "clf_bayes.fit(X_train, y_train)\n",
    "ds.evaluate.evaluate_classification(clf_bayes, X_train,y_train, X_test, y_test)\n",
    "joblib.dump(clf_bayes, FPATHS['models']['ml']['bayes'])"
   ]
  },
  {
   "cell_type": "markdown",
   "id": "00e48ed7-c472-401c-873a-37b1b6f20941",
   "metadata": {},
   "source": [
    "### LogisticRegression"
   ]
  },
  {
   "cell_type": "code",
   "execution_count": 30,
   "id": "54476e32-b29f-4815-96c9-6b84b97d2a3a",
   "metadata": {
    "execution": {
     "iopub.execute_input": "2024-01-26T00:34:28.058720Z",
     "iopub.status.busy": "2024-01-26T00:34:28.058608Z",
     "iopub.status.idle": "2024-01-26T00:34:39.495803Z",
     "shell.execute_reply": "2024-01-26T00:34:39.495416Z",
     "shell.execute_reply.started": "2024-01-26T00:34:28.058711Z"
    }
   },
   "outputs": [
    {
     "name": "stderr",
     "output_type": "stream",
     "text": [
      "/opt/homebrew/Caskroom/miniforge/base/envs/dojo-env/lib/python3.10/site-packages/sklearn/linear_model/_logistic.py:458: ConvergenceWarning: lbfgs failed to converge (status=1):\n",
      "STOP: TOTAL NO. of ITERATIONS REACHED LIMIT.\n",
      "\n",
      "Increase the number of iterations (max_iter) or scale the data as shown in:\n",
      "    https://scikit-learn.org/stable/modules/preprocessing.html\n",
      "Please also refer to the documentation for alternative solver options:\n",
      "    https://scikit-learn.org/stable/modules/linear_model.html#logistic-regression\n",
      "  n_iter_i = _check_optimize_result(\n"
     ]
    },
    {
     "name": "stdout",
     "output_type": "stream",
     "text": [
      "----------------------------------------------------------------------\n",
      " Classification Metrics: Training Data\n",
      "----------------------------------------------------------------------\n",
      "              precision    recall  f1-score   support\n",
      "\n",
      "           0       1.00      1.00      1.00      2452\n",
      "           1       1.00      1.00      1.00      2012\n",
      "           2       1.00      1.00      1.00      2259\n",
      "\n",
      "    accuracy                           1.00      6723\n",
      "   macro avg       1.00      1.00      1.00      6723\n",
      "weighted avg       1.00      1.00      1.00      6723\n",
      "\n"
     ]
    },
    {
     "data": {
      "image/png": "[encoded data removed]",
      "text/plain": [
       "<Figure size 600x400 with 2 Axes>"
      ]
     },
     "metadata": {},
     "output_type": "display_data"
    },
    {
     "name": "stdout",
     "output_type": "stream",
     "text": [
      "\n",
      "----------------------------------------------------------------------\n",
      " Classification Metrics: Test Data\n",
      "----------------------------------------------------------------------\n",
      "              precision    recall  f1-score   support\n",
      "\n",
      "           0       0.53      0.51      0.52       859\n",
      "           1       0.41      0.44      0.43       655\n",
      "           2       0.47      0.47      0.47       727\n",
      "\n",
      "    accuracy                           0.47      2241\n",
      "   macro avg       0.47      0.47      0.47      2241\n",
      "weighted avg       0.48      0.47      0.48      2241\n",
      "\n"
     ]
    },
    {
     "data": {
      "image/png": "[encoded data removed]",
      "text/plain": [
       "<Figure size 600x400 with 2 Axes>"
      ]
     },
     "metadata": {},
     "output_type": "display_data"
    },
    {
     "data": {
      "text/plain": [
       "['Models/log-reg.joblib']"
      ]
     },
     "execution_count": 30,
     "metadata": {},
     "output_type": "execute_result"
    }
   ],
   "source": [
    "vectorizer = CountVectorizer(stop_words=None,\n",
    "    ngram_range=(1,1))\n",
    "\n",
    "clf_logreg = Pipeline([\n",
    "    ('vectorizer',vectorizer),\n",
    "    ('clf',LogisticRegression(max_iter=500,C=1e12))\n",
    "])\n",
    "\n",
    "## Fit an evaluate a Logistic Regression\n",
    "clf_logreg.fit(X_train, y_train)\n",
    "ds.evaluate.evaluate_classification(clf_logreg, X_train,y_train, X_test, y_test)\n",
    "joblib.dump(clf_logreg, FPATHS['models']['ml']['logreg'])"
   ]
  },
  {
   "cell_type": "code",
   "execution_count": 31,
   "id": "d6c41a2e-42a3-418c-8483-43a07410ed90",
   "metadata": {
    "execution": {
     "iopub.execute_input": "2024-01-26T00:34:39.497092Z",
     "iopub.status.busy": "2024-01-26T00:34:39.496639Z",
     "iopub.status.idle": "2024-01-26T00:34:58.554786Z",
     "shell.execute_reply": "2024-01-26T00:34:58.554493Z",
     "shell.execute_reply.started": "2024-01-26T00:34:39.497073Z"
    }
   },
   "outputs": [
    {
     "name": "stdout",
     "output_type": "stream",
     "text": [
      "----------------------------------------------------------------------\n",
      " Classification Metrics: Training Data\n",
      "----------------------------------------------------------------------\n",
      "              precision    recall  f1-score   support\n",
      "\n",
      "           0       1.00      1.00      1.00      2452\n",
      "           1       1.00      1.00      1.00      2012\n",
      "           2       1.00      1.00      1.00      2259\n",
      "\n",
      "    accuracy                           1.00      6723\n",
      "   macro avg       1.00      1.00      1.00      6723\n",
      "weighted avg       1.00      1.00      1.00      6723\n",
      "\n"
     ]
    },
    {
     "data": {
      "image/png": "[encoded data removed]",
      "text/plain": [
       "<Figure size 600x400 with 2 Axes>"
      ]
     },
     "metadata": {},
     "output_type": "display_data"
    },
    {
     "name": "stdout",
     "output_type": "stream",
     "text": [
      "\n",
      "----------------------------------------------------------------------\n",
      " Classification Metrics: Test Data\n",
      "----------------------------------------------------------------------\n",
      "              precision    recall  f1-score   support\n",
      "\n",
      "           0       0.54      0.66      0.60       859\n",
      "           1       0.46      0.44      0.45       655\n",
      "           2       0.55      0.43      0.48       727\n",
      "\n",
      "    accuracy                           0.52      2241\n",
      "   macro avg       0.52      0.51      0.51      2241\n",
      "weighted avg       0.52      0.52      0.52      2241\n",
      "\n"
     ]
    },
    {
     "data": {
      "image/png": "[encoded data removed]",
      "text/plain": [
       "<Figure size 600x400 with 2 Axes>"
      ]
     },
     "metadata": {},
     "output_type": "display_data"
    },
    {
     "data": {
      "text/plain": [
       "['Models/log-reg.joblib']"
      ]
     },
     "execution_count": 31,
     "metadata": {},
     "output_type": "execute_result"
    }
   ],
   "source": [
    "# Logreg-tfidf\n",
    "\n",
    "vectorizer = TfidfVectorizer(stop_words=None,\n",
    "    ngram_range=(1,2))\n",
    "\n",
    "clf_logreg = Pipeline([\n",
    "    ('vectorizer',vectorizer),\n",
    "    ('clf',LogisticRegression(max_iter=500,C=1e12))\n",
    "])\n",
    "\n",
    "## Fit an evaluate a Logistic Regression\n",
    "clf_logreg.fit(X_train, y_train)\n",
    "ds.evaluate.evaluate_classification(clf_logreg, X_train,y_train, X_test, y_test)\n",
    "joblib.dump(clf_logreg, FPATHS['models']['ml']['logreg'])"
   ]
  },
  {
   "cell_type": "code",
   "execution_count": null,
   "id": "2e8aa038-3a2a-46e6-8b7e-0d514aaeee08",
   "metadata": {
    "execution": {
     "iopub.execute_input": "2024-01-26T00:38:39.158953Z",
     "iopub.status.busy": "2024-01-26T00:38:39.158160Z"
    }
   },
   "outputs": [
    {
     "name": "stderr",
     "output_type": "stream",
     "text": [
      "/opt/homebrew/Caskroom/miniforge/base/envs/dojo-env/lib/python3.10/site-packages/sklearn/linear_model/_logistic.py:458: ConvergenceWarning: lbfgs failed to converge (status=1):\n",
      "STOP: TOTAL NO. of ITERATIONS REACHED LIMIT.\n",
      "\n",
      "Increase the number of iterations (max_iter) or scale the data as shown in:\n",
      "    https://scikit-learn.org/stable/modules/preprocessing.html\n",
      "Please also refer to the documentation for alternative solver options:\n",
      "    https://scikit-learn.org/stable/modules/linear_model.html#logistic-regression\n",
      "  n_iter_i = _check_optimize_result(\n",
      "/opt/homebrew/Caskroom/miniforge/base/envs/dojo-env/lib/python3.10/site-packages/sklearn/linear_model/_logistic.py:458: ConvergenceWarning: lbfgs failed to converge (status=1):\n",
      "STOP: TOTAL NO. of ITERATIONS REACHED LIMIT.\n",
      "\n",
      "Increase the number of iterations (max_iter) or scale the data as shown in:\n",
      "    https://scikit-learn.org/stable/modules/preprocessing.html\n",
      "Please also refer to the documentation for alternative solver options:\n",
      "    https://scikit-learn.org/stable/modules/linear_model.html#logistic-regression\n",
      "  n_iter_i = _check_optimize_result(\n",
      "/opt/homebrew/Caskroom/miniforge/base/envs/dojo-env/lib/python3.10/site-packages/sklearn/linear_model/_logistic.py:458: ConvergenceWarning: lbfgs failed to converge (status=1):\n",
      "STOP: TOTAL NO. of ITERATIONS REACHED LIMIT.\n",
      "\n",
      "Increase the number of iterations (max_iter) or scale the data as shown in:\n",
      "    https://scikit-learn.org/stable/modules/preprocessing.html\n",
      "Please also refer to the documentation for alternative solver options:\n",
      "    https://scikit-learn.org/stable/modules/linear_model.html#logistic-regression\n",
      "  n_iter_i = _check_optimize_result(\n"
     ]
    }
   ],
   "source": [
    "# LogregCV-tfidf \n",
    "\n",
    "vectorizer = TfidfVectorizer(stop_words=None,\n",
    "    ngram_range=(1,2))\n",
    "\n",
    "clf_logreg = Pipeline([\n",
    "    ('vectorizer',vectorizer),\n",
    "    ('clf',LogisticRegressionCV(max_iter=200))\n",
    "])\n",
    "\n",
    "## Fit an evaluate a Logistic Regression\n",
    "clf_logreg.fit(X_train, y_train)\n",
    "ds.evaluate.evaluate_classification(clf_logreg, X_train,y_train, X_test, y_test)\n",
    "joblib.dump(clf_logreg, FPATHS['models']['ml']['logreg'])"
   ]
  },
  {
   "cell_type": "code",
   "execution_count": null,
   "id": "c97cd60d-5beb-454a-b257-4196d2c63e5a",
   "metadata": {},
   "outputs": [],
   "source": [
    "# ## Fit an evaluate a Naive Bayes Classifier\n",
    "# clf_bayes.fit(X_train, y_train)\n",
    "# ds.evaluate.evaluate_classification(clf_bayes, X_train,y_train, X_test, y_test)\n",
    "# joblib.dump(clf_bayes, FPATHS['models']['ml']['bayes'])"
   ]
  },
  {
   "cell_type": "markdown",
   "id": "f4069c12-f3ab-434b-8ca9-d51ec570652d",
   "metadata": {},
   "source": [
    "### RandomForest"
   ]
  },
  {
   "cell_type": "code",
   "execution_count": null,
   "id": "1fb64822-f5b1-490c-bae0-659ed7aae5f1",
   "metadata": {},
   "outputs": [],
   "source": [
    "FPATHS['models']['ml']['random_forest']"
   ]
  },
  {
   "cell_type": "code",
   "execution_count": null,
   "id": "c7269684-0b3c-4fc9-9f87-e3418a4a614e",
   "metadata": {},
   "outputs": [],
   "source": [
    "vectorizer = CountVectorizer(stop_words=None,\n",
    "    ngram_range=(1,1))\n",
    "\n",
    "clf_rf = Pipeline([\n",
    "    ('vectorizer',vectorizer),\n",
    "    ('clf',RandomForestClassifier(class_weight='balanced'))\n",
    "])\n",
    "\n",
    "## Fit an evaluate a Logistic Regression\n",
    "clf_rf.fit(X_train, y_train)\n",
    "ds.evaluate.evaluate_classification(clf_rf, X_train,y_train, X_test, y_test)\n",
    "joblib.dump(clf_rf, FPATHS['models']['ml']['random_forest'])"
   ]
  },
  {
   "cell_type": "code",
   "execution_count": null,
   "id": "4d0b6dc3-f754-464b-9cf7-34092c98ece4",
   "metadata": {},
   "outputs": [],
   "source": [
    "vectorizer = TfidfVectorizer(stop_words=None,\n",
    "    ngram_range=(1,1))\n",
    "\n",
    "clf_rf = Pipeline([\n",
    "    ('vectorizer',vectorizer),\n",
    "    ('clf',RandomForestClassifier(class_weight='balanced'))\n",
    "])\n",
    "\n",
    "## Fit an evaluate a Logistic Regression\n",
    "clf_rf.fit(X_train, y_train)\n",
    "ds.evaluate.evaluate_classification(clf_rf, X_train,y_train, X_test, y_test)\n",
    "# joblib.dump(clf_rf, FPATHS['models']['ml']['random_forest'])"
   ]
  },
  {
   "cell_type": "markdown",
   "id": "d0a2e911-8db5-4a7b-8703-85cb3c85c791",
   "metadata": {},
   "source": [
    "### SVC"
   ]
  },
  {
   "cell_type": "code",
   "execution_count": null,
   "id": "bff75d29-d17c-4c15-b12d-6e5110c64f68",
   "metadata": {},
   "outputs": [],
   "source": [
    "from sklearn.svm import SVC, LinearSVC"
   ]
  },
  {
   "cell_type": "code",
   "execution_count": null,
   "id": "c75333b0-2b2d-42db-b24a-9ac82044d434",
   "metadata": {},
   "outputs": [],
   "source": []
  },
  {
   "cell_type": "markdown",
   "id": "730a635f-370e-442b-a0b0-c98f4478ecce",
   "metadata": {},
   "source": [
    "## GridSearching ML Models/Prep"
   ]
  },
  {
   "cell_type": "code",
   "execution_count": null,
   "id": "2b829e53-7e5a-4d10-964f-046a433ff0d0",
   "metadata": {},
   "outputs": [],
   "source": [
    "# Define params to try for both vectorizers\n",
    "# param_grid_clf = {'clf__C': [1e12,1e10]}\n",
    "\n",
    "param_grid_shared = {\n",
    "    \"vectorizer__max_df\": [0.7, 0.8, 0.9],\n",
    "    'vectorizer__min_df': [ 2, 3, 4 ], \n",
    "    # \"vectorizer__max_features\": [None, 1000, 2000],\n",
    "    \"vectorizer__stop_words\": [None,'english']\n",
    "}\n",
    "\n",
    "# Setting params for the count vectorizer\n",
    "param_grid_count = {\n",
    "    'vectorizer':[CountVectorizer()],\n",
    "    **param_grid_shared\n",
    "}\n",
    "\n",
    "\n",
    "# Setting params for tfidf vectorizer \n",
    "param_grid_tfidf = {\n",
    "    'vectorizer': [TfidfVectorizer()],\n",
    "    \"vectorizer__norm\": [\"l1\", \"l2\"],\n",
    "    \"vectorizer__use_idf\": [True, False],\n",
    "    **param_grid_shared\n",
    "}\n",
    "\n",
    "# combine into list of params\n",
    "params_combined = [param_grid_count, param_grid_tfidf]\n",
    "params_combined"
   ]
  },
  {
   "cell_type": "code",
   "execution_count": null,
   "id": "ac6ed972-91aa-43fd-a3d0-89f77becb1ac",
   "metadata": {},
   "outputs": [],
   "source": [
    "logreg_pipe = Pipeline([\n",
    "    ('vectorizer',TfidfVectorizer()),\n",
    "    ('clf',LogisticRegression(max_iter=500))\n",
    "])"
   ]
  },
  {
   "cell_type": "code",
   "execution_count": null,
   "id": "4418b18f-1864-4234-987b-5353577b9ff8",
   "metadata": {},
   "outputs": [],
   "source": [
    "%%time\n",
    "# Create grid search\n",
    "grid_search = GridSearchCV(logreg_pipe, params_combined, scoring='recall_macro',cv=3, verbose=1, n_jobs=-1)\n",
    "    \n",
    "    \n",
    "# Fit the model\n",
    "grid_search.fit(X_train, y_train)\n"
   ]
  },
  {
   "cell_type": "code",
   "execution_count": null,
   "id": "806df0dc-311b-49ff-87cd-e120fb04b8f3",
   "metadata": {},
   "outputs": [],
   "source": [
    "# grid_search.best_params_\n"
   ]
  },
  {
   "cell_type": "code",
   "execution_count": null,
   "id": "2f32dcbc-d28d-4c97-a98e-0f374b5f4b75",
   "metadata": {},
   "outputs": [],
   "source": [
    "# # Now define the best version of the model\n",
    "# best_model = grid_search.best_estimator_\n",
    "\n",
    "# # Predict and Evaluate with the custom function\n",
    "# ds.evaluate_classification(best_model, X_train, y_train, X_test, y_test)\n"
   ]
  },
  {
   "cell_type": "markdown",
   "id": "557ecb56-f6ff-4a25-ab53-953151ad7743",
   "metadata": {},
   "source": [
    "## GS from LP"
   ]
  },
  {
   "cell_type": "code",
   "execution_count": null,
   "id": "5f03aa88-eada-433b-a510-07a69937380c",
   "metadata": {},
   "outputs": [],
   "source": [
    "# param_grid_shared = {\n",
    "#     \"vectorizer__max_df\": [0.7, 0.8, 0.9],\n",
    "#     'vectorizer__min_df': [ 2, 3, 4 ], \n",
    "#     # \"vectorizer__max_features\": [None, 1000, 2000],\n",
    "#     \"vectorizer__stop_words\": [None,'english']\n",
    "# }\n",
    "\n",
    "# # Setting params for the count vectorizer\n",
    "# param_grid_count = {\n",
    "#     'vectorizer':[CountVectorizer()],\n",
    "#     **param_grid_shared\n",
    "# }\n",
    "\n",
    "\n",
    "# # Setting params for tfidf vectorizer \n",
    "# param_grid_tfidf = {\n",
    "#     'vectorizer': [TfidfVectorizer()],\n",
    "#     \"vectorizer__norm\": [\"l1\", \"l2\"],\n",
    "#     \"vectorizer__use_idf\": [True, False],\n",
    "#     **param_grid_shared\n",
    "# }\n",
    "\n",
    "\n",
    "# # Define parameters to tune multiple models\n",
    "\n",
    "# param_grid_RF = {\n",
    "#     'clf' : [RandomForestClassifier(random_state = 42)],\n",
    "#     'clf__max_depth' : [5, None],\n",
    "#     'clf__min_samples_leaf' : [1, 2],\n",
    "# }\n",
    "\n",
    "# param_grid_MNB = {\n",
    "#     'clf' : [MultinomialNB()],\n",
    "#     'clf__alpha' : [.5, 1],\n",
    "# }\n",
    "\n",
    "# param_grid_logreg = {\n",
    "#     'clf': [LogisticRegression(random_state = 42)],\n",
    "#     'clf__C' : [.1, 1, 10, 100],\n",
    "# }\n",
    "\n",
    "# # combine into list of params\n",
    "# model_params_combined = [param_grid_RF, param_grid_MNB, param_grid_logreg]\n",
    "\n",
    "\n"
   ]
  },
  {
   "cell_type": "code",
   "execution_count": null,
   "id": "e00b0239-46ce-400b-9086-118cc463f7cb",
   "metadata": {},
   "outputs": [],
   "source": [
    "# Set up Pipeline to allow GridSearching different vectorizers\n",
    "vect_pipe = Pipeline([('vectorizer', CountVectorizer()), # This is just a placeholder\n",
    "                     ('clf',MultinomialNB())])\n",
    "\n"
   ]
  },
  {
   "cell_type": "code",
   "execution_count": null,
   "id": "98ea4a37-f337-47aa-9d27-4d0a7c646d25",
   "metadata": {},
   "outputs": [],
   "source": [
    "# Define params to try for both vectorizers\n",
    "param_grid_shared = {\n",
    "    \"vectorizer__max_df\": [0.7, 0.8, 0.9],\n",
    "    'vectorizer__min_df': [ 2, 3, 4 ], \n",
    "    \"vectorizer__max_features\": [None, 1000, 2000],\n",
    "    \"vectorizer__stop_words\": [None,'english']\n",
    "}\n",
    "\n",
    "# Setting params for the count vectorizer\n",
    "param_grid_count = {\n",
    "    'vectorizer':[CountVectorizer()],\n",
    "    **param_grid_shared\n",
    "}\n",
    "\n",
    "\n",
    "# Setting params for tfidf vectorizer \n",
    "param_grid_tfidf = {\n",
    "    'vectorizer': [TfidfVectorizer()],\n",
    "    \"vectorizer__norm\": [\"l1\", \"l2\"],\n",
    "    \"vectorizer__use_idf\": [True, False],\n",
    "    **param_grid_shared\n",
    "}\n",
    "\n",
    "# combine into list of params\n",
    "vect_params_combined = [param_grid_count, param_grid_tfidf]\n",
    "\n"
   ]
  },
  {
   "cell_type": "code",
   "execution_count": null,
   "id": "c642f142-2ef5-4a83-bf0a-9bf8bea7d1ba",
   "metadata": {},
   "outputs": [],
   "source": [
    "# Define parameters to tune multiple models\n",
    "\n",
    "# param_grid_RF = {\n",
    "#     'clf' : [RandomForestClassifier(random_state = 42)],\n",
    "#     'clf__max_depth' : [20, None],\n",
    "#     'clf__min_samples_leaf' : [1, 2],\n",
    "# }\n",
    "\n",
    "param_grid_MNB = {\n",
    "    'clf' : [MultinomialNB()],\n",
    "    'clf__alpha' : [.5, 1],\n",
    "}\n",
    "\n",
    "param_grid_logreg = {\n",
    "    'clf': [LogisticRegression(max_iter=1000,random_state = 42)],\n",
    "    'clf__C' : [.1, 1, 10, 100],\n",
    "}\n",
    "\n",
    "# combine into list of params\n",
    "model_params_combined = [\n",
    "    # param_grid_RF,\n",
    "    param_grid_MNB, \n",
    "    param_grid_logreg]"
   ]
  },
  {
   "cell_type": "code",
   "execution_count": null,
   "id": "43f9d99f-ce7f-4999-87e8-a3115cf19c17",
   "metadata": {},
   "outputs": [],
   "source": [
    "import itertools\n",
    "\n",
    "paired_param_grids = list(itertools.product(vect_params_combined, model_params_combined))\n",
    "paired_param_grids[0]"
   ]
  },
  {
   "cell_type": "code",
   "execution_count": null,
   "id": "3df30705-f20e-40b2-994d-3167cd845606",
   "metadata": {},
   "outputs": [],
   "source": [
    "final_params = []\n",
    "for vector_params, model_params in  paired_param_grids:\n",
    "    combined = {**vector_params, **model_params}\n",
    "    final_params.append(combined)\n",
    "final_params[0]"
   ]
  },
  {
   "cell_type": "code",
   "execution_count": null,
   "id": "922afa6d-f663-427b-957f-2919d4c5c0cf",
   "metadata": {},
   "outputs": [],
   "source": [
    "# %%time\n",
    "## TEMP: COMPARE TIMING IF n_jobs is NOT -1\n",
    "# # Create grid search\n",
    "# grid_search = GridSearchCV(vect_pipe, final_params, cv=3, scoring = 'accuracy', verbose=1)#, n_jobs=-1)\n",
    "    \n",
    "    \n",
    "# # Fit the model\n",
    "# grid_search.fit(X_train, y_train)\n",
    "# grid_search.best_params_"
   ]
  },
  {
   "cell_type": "code",
   "execution_count": null,
   "id": "dbb682d0-fff7-40d0-be31-d03ed6fcec95",
   "metadata": {},
   "outputs": [],
   "source": [
    "%%time\n",
    "SKIP = True\n",
    "\n",
    "if not SKIP:\n",
    "    # Create grid search\n",
    "    grid_search = GridSearchCV(vect_pipe, final_params, cv=3, scoring = 'recall_macro', verbose=2, n_jobs=-1)\n",
    "        \n",
    "        \n",
    "    # Fit the model\n",
    "    grid_search.fit(X_train, y_train)\n",
    "    print(grid_search.best_params_)"
   ]
  },
  {
   "cell_type": "code",
   "execution_count": null,
   "id": "4133a68a-0dfa-479d-81c3-95821f520f46",
   "metadata": {},
   "outputs": [],
   "source": [
    "if not SKIP:\n",
    "    \n",
    "    # Now define the best version of the model\n",
    "    best_model = grid_search.best_estimator_\n",
    "    \n",
    "    # Predict and Evaluate with the custom function\n",
    "    ds.evaluate.evaluate_classification(best_model, X_train, y_train, X_test, y_test)"
   ]
  },
  {
   "cell_type": "markdown",
   "id": "a8be2356-ea7c-4c62-bcad-6a37bd5eaed8",
   "metadata": {},
   "source": [
    "### Saving ML Model & Data"
   ]
  },
  {
   "cell_type": "code",
   "execution_count": null,
   "id": "a40a4c98-b56d-42de-8548-430db3b9f5b8",
   "metadata": {},
   "outputs": [],
   "source": [
    "\n",
    "# Save training data\n",
    "fpath_train_joblib = FPATHS['data']['ml']['train']\n",
    "joblib.dump([X_train, y_train],fpath_train_joblib)\n",
    "\n",
    "# Save test data\n",
    "fpath_test_joblib = FPATHS['data']['ml']['test']\n",
    "joblib.dump([X_test, y_test],fpath_test_joblib)\n",
    "\n",
    "# if not SKIP:\n",
    "#     # Saving the best model \n",
    "#     fpath_best_ml_model  = \"Models/best-ml-model.joblib\"\n",
    "#     joblib.dump(best_model, fpath_best_ml_model)"
   ]
  },
  {
   "cell_type": "markdown",
   "id": "2636d0e4-221b-4892-be92-07d56bd232f7",
   "metadata": {},
   "source": [
    "## 👉11/30/23 Brenda 1:1 - Admin Test/Demo"
   ]
  },
  {
   "cell_type": "markdown",
   "id": "e217af29-ce88-4f9c-bb8b-4660dd9c53b9",
   "metadata": {},
   "source": [
    "### Ngrams"
   ]
  },
  {
   "cell_type": "code",
   "execution_count": null,
   "id": "b6c3aa71-0432-4cba-97f6-1ab2a7249698",
   "metadata": {},
   "outputs": [],
   "source": [
    "#our pre-exting ngram df function https://login.codingdojo.com/m/692/16501/124388\n",
    "\n",
    "import pandas as pd\n",
    "def get_ngram_measures_finder(tokens, ngrams=2, get_scores_df=False, measure='raw_freq', top_n=None, min_freq = 1,\n",
    "                             words_colname='Words'):\n",
    "    import nltk\n",
    "    if ngrams == 4:\n",
    "        MeasuresClass = nltk.collocations.QuadgramAssocMeasures\n",
    "        FinderClass = nltk.collocations.QuadgramCollocationFinder\n",
    "        \n",
    "    elif ngrams == 3: \n",
    "        MeasuresClass = nltk.collocations.TrigramAssocMeasures\n",
    "        FinderClass = nltk.collocations.TrigramCollocationFinder\n",
    "    else:\n",
    "        MeasuresClass = nltk.collocations.BigramAssocMeasures\n",
    "        FinderClass = nltk.collocations.BigramCollocationFinder\n",
    "\n",
    "    measures = MeasuresClass()\n",
    "    \n",
    "   \n",
    "    finder = FinderClass.from_words(tokens)\n",
    "    finder.apply_freq_filter(min_freq)\n",
    "    if measure=='pmi':\n",
    "        scored_ngrams = finder.score_ngrams(measures.pmi)\n",
    "    else:\n",
    "        measure='raw_freq'\n",
    "        scored_ngrams = finder.score_ngrams(measures.raw_freq)\n",
    "\n",
    "    df_ngrams = pd.DataFrame(scored_ngrams, columns=[words_colname, measure.replace(\"_\",' ').title()])\n",
    "    if top_n is not None:\n",
    "        return df_ngrams.head(top_n)\n",
    "    else:\n",
    "        return df_ngrams"
   ]
  },
  {
   "cell_type": "markdown",
   "id": "3d5404b4-4a94-4f91-aa38-481ba6484c2f",
   "metadata": {},
   "source": [
    "### Text Explainer"
   ]
  },
  {
   "cell_type": "code",
   "execution_count": null,
   "id": "3e4e9e3c-6bc8-42dd-adf9-94f4a5845895",
   "metadata": {},
   "outputs": [],
   "source": [
    "X_to_pred = 'It was the best move i had ever seen until the last 30 mins, which ruined the whole thing.'"
   ]
  },
  {
   "cell_type": "code",
   "execution_count": null,
   "id": "249c9913-ae89-4894-91e0-92336720ff06",
   "metadata": {},
   "outputs": [],
   "source": [
    "y"
   ]
  },
  {
   "cell_type": "code",
   "execution_count": null,
   "id": "b7bb4a10-4408-476a-8f4c-4e0aaed7f369",
   "metadata": {},
   "outputs": [],
   "source": [
    "clf_bayes.predict([X_to_pred])"
   ]
  },
  {
   "cell_type": "code",
   "execution_count": null,
   "id": "800db7d9-1bd2-4898-b592-a8718c2afc9c",
   "metadata": {},
   "outputs": [],
   "source": [
    "y.unique()"
   ]
  },
  {
   "cell_type": "code",
   "execution_count": null,
   "id": "d4c3bfd7-5fda-4705-8b23-7a6e72e9e423",
   "metadata": {},
   "outputs": [],
   "source": [
    "from lime.lime_text import LimeTextExplainer\n",
    "explainer = LimeTextExplainer(class_names=y.unique())\n",
    "explanation = explainer.explain_instance(X_to_pred, clf_bayes.predict_proba)\n",
    "explanation.show_in_notebook()"
   ]
  },
  {
   "cell_type": "markdown",
   "id": "e101f3a3-c86e-4677-8fb2-b6c2ebc65361",
   "metadata": {},
   "source": [
    "# Neural Networks"
   ]
  },
  {
   "cell_type": "code",
   "execution_count": null,
   "id": "f30eac5e-65dd-4082-b2ce-e3d2c981cdd2",
   "metadata": {},
   "outputs": [],
   "source": [
    "# raise"
   ]
  },
  {
   "cell_type": "markdown",
   "id": "97d1f329-2d2c-403f-a9ec-b65e6a769041",
   "metadata": {},
   "source": [
    "## ✅🚨 TO DO 11/30"
   ]
  },
  {
   "cell_type": "markdown",
   "id": "9755f499-256f-426d-8625-60e5d4b9af3d",
   "metadata": {},
   "source": [
    "- Write up tensorflow deployment lesson as I finalize model and dataset saving/loading "
   ]
  },
  {
   "cell_type": "code",
   "execution_count": null,
   "id": "a8cdc62c-0073-4a67-aa10-a6f2a1828650",
   "metadata": {},
   "outputs": [],
   "source": [
    "def save_model(\n",
    "    model=None,\n",
    "    model_folder=None,\n",
    "    overwrite=False,\n",
    "    save_model_kws={},\n",
    "    load_and_evaluate=True,\n",
    "    train_ds=None,\n",
    "    test_ds=None,\n",
    "):\n",
    "    ## allowing for JUST loading if no model and load_and_eval==True\n",
    "    if (model == None) & (load_and_evaluate == None):\n",
    "        raise Exception(\n",
    "            \"[!] Must either provide a model to save or sert load_and_evaluate to True to load only.\"\n",
    "        )\n",
    "\n",
    "    if model_folder == None:\n",
    "        model_folder = \"Models/model01/\"\n",
    "\n",
    "    # Create folder\n",
    "    os.makedirs(model_folder, exist_ok=True)\n",
    "\n",
    "    # Save Model. with keras.models.save_model\n",
    "    try:\n",
    "        tf.keras.models.save_model(model, model_folder, **save_model_kws)\n",
    "\n",
    "    except Exception as e:\n",
    "        print(\"[!] Save failed:\")\n",
    "        display(e)\n",
    "\n",
    "    if load_and_evaluate == True:\n",
    "        loaded = tf.keras.models.load_model(model_folder)\n",
    "        display(\n",
    "            ds.evaluate_classification_network(loaded, X_train=train_ds, X_test=test_ds)\n",
    "        )  # , history=history);\n",
    "        return loaded"
   ]
  },
  {
   "cell_type": "code",
   "execution_count": null,
   "id": "d2ba5efd-70b5-449f-8dd6-20ff906a4220",
   "metadata": {},
   "outputs": [],
   "source": []
  },
  {
   "cell_type": "code",
   "execution_count": null,
   "id": "783063c5-6f1c-4942-837d-5da18838aa64",
   "metadata": {},
   "outputs": [],
   "source": [
    "from sklearn.preprocessing import LabelEncoder"
   ]
  },
  {
   "cell_type": "code",
   "execution_count": null,
   "id": "9f88980e-5b4f-48ea-97b4-7ec30cd9f704",
   "metadata": {},
   "outputs": [],
   "source": []
  },
  {
   "cell_type": "code",
   "execution_count": null,
   "id": "f53033e1-4f3e-4056-a9f5-402214188f9a",
   "metadata": {},
   "outputs": [],
   "source": [
    "# Define X and y\n",
    "X = df_ml[text_col]\n",
    "y_string= df_ml[target_col]\n",
    "\n",
    "# Instantiate the LabelEncoder\n",
    "encoder = LabelEncoder()\n",
    "\n",
    "# Fit and Transform the strings into integers\n",
    "y = pd.Series(encoder.fit_transform(y_string))\n",
    "y.value_counts()"
   ]
  },
  {
   "cell_type": "code",
   "execution_count": null,
   "id": "868ba87a-3926-4523-ba1d-ed4b7fb80306",
   "metadata": {},
   "outputs": [],
   "source": [
    "# Convert to Dataset Object\n",
    "full_ds = tf.data.Dataset.from_tensor_slices((X, y))\n",
    "# Shuffle dataset\n",
    "full_ds = full_ds.shuffle(buffer_size=len(full_ds), reshuffle_each_iteration=False,seed=321)"
   ]
  },
  {
   "cell_type": "code",
   "execution_count": null,
   "id": "70bb513c-5473-4e62-a2b0-29425bc5a421",
   "metadata": {},
   "outputs": [],
   "source": [
    "# Set the ratio of the train, validation, test split\n",
    "split_train = .7\n",
    "split_val =  .2\n",
    "split_test =  1 -( split_train + split_val )\n",
    "# Calculate the number of samples for training and validation data \n",
    "n_train_samples =  int(len(full_ds) * split_train)\n",
    "n_val_samples = int(len(full_ds) * split_val)\n",
    "n_test_samples = len(full_ds) -(n_train_samples + n_val_samples)\n",
    "# Set the batch size\n",
    "BATCH_SIZE =32\n",
    "import math\n",
    "# math.ceil will round up\n",
    "# How many batches? \n",
    "n_train_batches = math.ceil(n_train_samples/BATCH_SIZE)\n",
    "n_val_batches = math.ceil(n_val_samples/BATCH_SIZE)\n",
    "n_test_batches = math.ceil(n_test_samples/BATCH_SIZE)\n",
    "print(f\"    - train:\\t{n_train_samples} samples \\t({n_train_batches} batches)\")\n",
    "print(f\"    - val:  \\t{n_val_samples} samples \\t({n_val_batches} batches)\")\n",
    "print(f\"    - test: \\t{n_test_samples} samples \\t({n_test_batches} batches)\")\n",
    "\n"
   ]
  },
  {
   "cell_type": "code",
   "execution_count": null,
   "id": "48d9e9c2-30cc-4018-bd0a-8ab69d9acf72",
   "metadata": {},
   "outputs": [],
   "source": [
    "# Use take and skip to define each set\n",
    "train_ds = full_ds.take(n_train_samples).batch(batch_size=BATCH_SIZE)\n",
    "train_ds = train_ds.shuffle(len(train_ds), seed=321)\n",
    "# Skip over the training batches and take the validation batches\n",
    "val_ds = full_ds.skip(n_train_samples).take(n_val_samples).batch(batch_size=BATCH_SIZE)\n",
    "# Skipver the train and validation batches, the remaining are the test batches\n",
    "test_ds = full_ds.skip(n_train_samples + n_val_samples).batch(batch_size=BATCH_SIZE)\n",
    "# Confirm the number of batches in each\n",
    "print (f' There are {len(train_ds)} training batches.')\n",
    "print (f' There are {len(val_ds)} validation batches.')\n",
    "print (f' There are {len(test_ds)} testing batches.')\n",
    "\n"
   ]
  },
  {
   "cell_type": "code",
   "execution_count": null,
   "id": "b0e9b621-5f3f-44be-94f8-ceda0d2aebec",
   "metadata": {},
   "outputs": [],
   "source": []
  },
  {
   "cell_type": "code",
   "execution_count": null,
   "id": "a4002093-d64e-4e6f-a17f-bb9386cd400f",
   "metadata": {},
   "outputs": [],
   "source": [
    "# # taking a sample \n",
    "# example_X, example_y= train_ds.take(1).get_single_element()\n",
    "# print(example_X)\n",
    "# print(example_y)"
   ]
  },
  {
   "cell_type": "code",
   "execution_count": null,
   "id": "ec14d958-3208-43e9-8c65-ea21d1b20295",
   "metadata": {},
   "outputs": [],
   "source": [
    "## Saving Train and test dataset\n",
    "fname_train_ds = FPATHS['data']['nn']['train']\n",
    "train_ds.save(path=fname_train_ds,)\n",
    "\n",
    "fname_test_ds = FPATHS['data']['nn']['test']\n",
    "test_ds.save(path=fname_test_ds,)"
   ]
  },
  {
   "cell_type": "code",
   "execution_count": null,
   "id": "71dc9c81-1a97-494d-8eab-f27927d47b55",
   "metadata": {},
   "outputs": [],
   "source": [
    "df_ml = df_ml.copy()\n",
    "df_ml['sequence_length'] = df_ml['review_text'].map( lambda x: len(x.split(\" \")))\n",
    "ax = sns.histplot(df_ml['sequence_length'])"
   ]
  },
  {
   "cell_type": "code",
   "execution_count": null,
   "id": "9fd8f1d9-6f19-4617-b78a-e1a738cc98d6",
   "metadata": {},
   "outputs": [],
   "source": [
    "ax = sns.boxplot(data=df_ml, x='sequence_length')"
   ]
  },
  {
   "cell_type": "code",
   "execution_count": null,
   "id": "d42632e6-9600-443c-ac17-20031c801014",
   "metadata": {},
   "outputs": [],
   "source": [
    "# Get just the text from ds_train\n",
    "ds_texts = train_ds.map(lambda x, y: x)\n",
    "\n",
    "# Preview the text\n",
    "# ds_texts.take(1).get_single_element()"
   ]
  },
  {
   "cell_type": "code",
   "execution_count": null,
   "id": "ffa04b95-b93f-4b18-95e5-48541d09065b",
   "metadata": {},
   "outputs": [],
   "source": [
    "SEQUENCE_LENGTH = 300\n",
    "# Create text Vectorization layer\n",
    "sequence_vectorizer = tf.keras.layers.TextVectorization(\n",
    "    standardize=\"lower_and_strip_punctuation\",\n",
    "    output_mode=\"int\",\n",
    "    output_sequence_length=SEQUENCE_LENGTH\n",
    ")\n",
    "sequence_vectorizer.adapt(ds_texts)\n",
    "VOCAB_SIZE = sequence_vectorizer.vocabulary_size()\n",
    "VOCAB_SIZE\n"
   ]
  },
  {
   "cell_type": "code",
   "execution_count": null,
   "id": "2e115943-aeaf-4810-89a2-9d47b3b319de",
   "metadata": {},
   "outputs": [],
   "source": [
    "# raise Exception(\"Update code below to use only what is shown on the LP\")"
   ]
  },
  {
   "cell_type": "markdown",
   "id": "71bdfc41-bdb8-45df-b34c-fcf5d4d21859",
   "metadata": {},
   "source": [
    "#### LSTM"
   ]
  },
  {
   "cell_type": "code",
   "execution_count": null,
   "id": "2d0c60de-4e8d-4787-982d-8c25e0ea8440",
   "metadata": {},
   "outputs": [],
   "source": [
    "# Define a function for building an LSTM model\n",
    "from tensorflow.keras import layers, optimizers, regularizers\n",
    "from tensorflow.keras.models import Sequential\n",
    "\n",
    "# @tf.function\n",
    "def build_lstm_model(text_vectorization_layer):\n",
    "    VOCAB_SIZE = text_vectorization_layer.vocabulary_size()\n",
    "\n",
    "    # Define sequential model with pre-trained vectorization layer and *new* embedding layer\n",
    "    lstm_model = Sequential(\n",
    "        [\n",
    "            text_vectorization_layer,\n",
    "            layers.Embedding(\n",
    "                input_dim=VOCAB_SIZE, output_dim=EMBED_DIM, input_length=SEQUENCE_LENGTH\n",
    "            ),\n",
    "        ]\n",
    "    )\n",
    "\n",
    "    # Add *new* LSTM layer\n",
    "    lstm_model.add(layers.LSTM(64,recurrent_dropout=.1, return_sequences=True))\n",
    "    lstm_model.add(layers.Dropout(0.5))\n",
    "    lstm_model.add(layers.LSTM(32))#, return_sequences=True)))\n",
    "    # lstm_model.add(layers.GlobalMaxPooling1D())\n",
    "\n",
    "    # Add output layer\n",
    "    lstm_model.add(layers.Dense(len(classes), activation=\"softmax\"))\n",
    "\n",
    "    # Compile the model\n",
    "    lr_schedule = optimizers.schedules.ExponentialDecay(\n",
    "        initial_learning_rate=0.01, decay_steps=10000, decay_rate=0.95\n",
    "    )  # 0.9)\n",
    "    optimizer = optimizers.legacy.Adam(learning_rate=lr_schedule)\n",
    "    lstm_model.compile(\n",
    "        optimizer=optimizer,  #'adam',\n",
    "        loss=\"sparse_categorical_crossentropy\",\n",
    "        metrics=[\"accuracy\"],\n",
    "    )\n",
    "\n",
    "    lstm_model.summary()\n",
    "    return lstm_model"
   ]
  },
  {
   "cell_type": "code",
   "execution_count": null,
   "id": "87fa9e26-a1a5-447f-84ad-0decccec57df",
   "metadata": {},
   "outputs": [],
   "source": [
    "# # Code below is from CNN Week\n",
    "# def get_callbacks(patience=3, monitor='val_accuracy'):\n",
    "#     early_stop = tf.keras.callbacks.EarlyStopping(patience=patience, monitor=monitor, verbose=True)\n",
    "#     return [early_stop]\n",
    "\n",
    "\n",
    "### Call backs\n",
    "# @tf.function\n",
    "def get_callbacks(monitor='val_accuracy',patience=3, restore_best_weights=False,\n",
    "                  start_from_epoch=0,baseline_value=None,\n",
    "                  verbose_early_stopping=1,  \n",
    "                  tensborboard=False, logdir=\"/tmp/tb_logs\",\n",
    "                 tb_embed_freq=0, tb_write_images = False, tb_hist_freq = 0):\n",
    "\n",
    "    early_stopping = tf.keras.callbacks.EarlyStopping(monitor=monitor, patience=patience, #mode=mode, \n",
    "                                                      restore_best_weights=restore_best_weights,\n",
    "                                                      baseline=baseline_value,\n",
    "                                                      start_from_epoch=start_from_epoch,\n",
    "                                                      verbose=verbose_early_stopping)\n",
    "\n",
    "    if tensborboard:\n",
    "        tboard = tf.keras.callbacks.TensorBoard(log_dir=logdir, histogram_freq=tb_hist_freq,write_images=tb_write_images,\n",
    "                                                embeddings_freq=tb_embed_freq,)\n",
    "        return [ early_stopping, tboard]\n",
    "    else:\n",
    "        return [early_stopping]"
   ]
  },
  {
   "cell_type": "code",
   "execution_count": null,
   "id": "d72cb870-de20-41b2-bc6b-f7e2e06fb2f9",
   "metadata": {},
   "outputs": [],
   "source": [
    "EMBED_DIM = 50\n",
    "classes = y_train.unique()\n",
    "# Build the lstm model and specify the vectorizer\n",
    "lstm_model = build_lstm_model(sequence_vectorizer)\n",
    "\n",
    "# Defien number of epocs\n",
    "EPOCHS = 30\n",
    "\n",
    "# Fit the model\n",
    "history = lstm_model.fit(\n",
    "    train_ds,\n",
    "    epochs=EPOCHS,\n",
    "    validation_data=val_ds,\n",
    "    callbacks=get_callbacks(),\n",
    ")\n",
    "\n",
    "ds.evaluate.plot_history(history)"
   ]
  },
  {
   "cell_type": "code",
   "execution_count": null,
   "id": "565d4d59-399d-4538-ae08-56d4129db1f7",
   "metadata": {},
   "outputs": [],
   "source": [
    "# Obtain the results\n",
    "results = ds.evaluate.evaluate_classification_network(\n",
    "    lstm_model, X_train=train_ds, \n",
    "    X_test=test_ds,# history=history\n",
    ");"
   ]
  },
  {
   "cell_type": "code",
   "execution_count": null,
   "id": "6e2d5b09-36d4-4b92-b870-42ff7486f3c4",
   "metadata": {},
   "outputs": [],
   "source": [
    "# raise Exception(\"Add model fpaths to filepaths.json first and then use those below:\")"
   ]
  },
  {
   "cell_type": "markdown",
   "id": "5422b35e-a8d2-4144-a22f-36ab95f960dd",
   "metadata": {},
   "source": [
    "#### Saving Model 1"
   ]
  },
  {
   "cell_type": "code",
   "execution_count": null,
   "id": "82dfcc3f-c360-46a7-bee0-ef9de722fef6",
   "metadata": {},
   "outputs": [],
   "source": [
    "# Saving model in tf format \n",
    "fname_model_lstm = FPATHS['models']['nn']['LSTM']# \"Models/keras/lstm/\" # Filename is a folder for save_format='tf'\n",
    "lstm_model.save(fname_model_lstm, save_format='tf')"
   ]
  },
  {
   "cell_type": "code",
   "execution_count": null,
   "id": "7260ae74-1f22-4a87-9aa2-33371e947016",
   "metadata": {},
   "outputs": [],
   "source": [
    "## Loading the Model\n",
    "loaded_network = tf.keras.models.load_model(fname_model_lstm)\n",
    "loaded_network.summary()"
   ]
  },
  {
   "cell_type": "code",
   "execution_count": null,
   "id": "3226a956-522c-4c1e-9e33-eb042cf65e0c",
   "metadata": {},
   "outputs": [],
   "source": [
    "# Obtain the results\n",
    "results = ds.evaluate.evaluate_classification_network(\n",
    "    loaded_network, X_train=train_ds, \n",
    "    X_test=test_ds, history=history\n",
    ");"
   ]
  },
  {
   "cell_type": "markdown",
   "id": "08fd08ca-bcbd-4174-a4f4-88f306327666",
   "metadata": {},
   "source": [
    "## Testing Saving/Loading Dataset Objects"
   ]
  },
  {
   "cell_type": "code",
   "execution_count": null,
   "id": "29c1c4c1-3c46-45ea-83e4-b79126be9fed",
   "metadata": {},
   "outputs": [],
   "source": []
  },
  {
   "cell_type": "code",
   "execution_count": null,
   "id": "f17bea62-3338-40bd-b08c-bec71f305219",
   "metadata": {},
   "outputs": [],
   "source": []
  },
  {
   "cell_type": "markdown",
   "id": "248e9e43-9df5-4aef-bad9-209c231d0ec1",
   "metadata": {},
   "source": [
    "### RNN Model 2"
   ]
  },
  {
   "cell_type": "code",
   "execution_count": null,
   "id": "28127f4f-5e3b-4bee-bd1d-6e5e8134a299",
   "metadata": {},
   "outputs": [],
   "source": [
    "def build_gru_model_bi_pool(text_vectorization_layer):\n",
    "    \n",
    "    gru_model_bi_pool = Sequential([\n",
    "        text_vectorization_layer,\n",
    "        layers.Embedding(input_dim=MAX_TOKENS,\n",
    "                      output_dim=EMBED_DIM,\n",
    "                      input_length=SEQUENCE_LENGTH)])\n",
    "        \n",
    "    # Add bidirectional component to GRU layer \n",
    "    gru_model_bi_pool.add(layers.Bidirectional(layers.GRU(128, return_sequences = True)))\n",
    "    \n",
    "    # Add a pooling layer *new\n",
    "    gru_model_bi_pool.add(layers.GlobalMaxPooling1D())\n",
    "    \n",
    "    # Output layer\n",
    "    gru_model_bi_pool.add(layers.Dense(len(classes), activation='softmax'))\n",
    "                     \n",
    "    optimizer = optimizers.legacy.Adam()\n",
    "    gru_model_bi_pool.compile(optimizer=optimizer, \n",
    "                  loss='sparse_categorical_crossentropy', metrics=['accuracy'])\n",
    "    gru_model_bi_pool.summary()\n",
    "    return gru_model_bi_pool"
   ]
  },
  {
   "cell_type": "code",
   "execution_count": null,
   "id": "cf2ff95d-8e54-45ac-9dec-52cb43baa4c9",
   "metadata": {},
   "outputs": [],
   "source": []
  },
  {
   "cell_type": "code",
   "execution_count": null,
   "id": "a8f1793c-0c81-4e62-9d29-e28c86884575",
   "metadata": {},
   "outputs": [],
   "source": [
    "EMBED_DIM = 50\n",
    "classes = y_train.unique()\n",
    "MAX_TOKENS = sequence_vectorizer.vocabulary_size()\n",
    "# Build the lstm model and specify the vectorizer\n",
    "bidirection_model = build_gru_model_bi_pool(sequence_vectorizer)\n",
    "\n",
    "# Defien number of epocs\n",
    "EPOCHS = 30\n",
    "\n",
    "# Fit the model\n",
    "history = bidirection_model.fit(\n",
    "    train_ds,\n",
    "    epochs=EPOCHS,\n",
    "    validation_data=val_ds,\n",
    "    callbacks=get_callbacks(),\n",
    ")\n",
    "ds.evaluate.plot_history(history)"
   ]
  },
  {
   "cell_type": "code",
   "execution_count": null,
   "id": "febd7eaf-e884-4356-95f8-46a97cd3bf28",
   "metadata": {},
   "outputs": [],
   "source": [
    "# Obtain the results\n",
    "results = ds.evaluate.evaluate_classification_network(\n",
    "    bidirection_model, X_train=train_ds, \n",
    "    X_test=test_ds,# history=history\n",
    ");"
   ]
  },
  {
   "cell_type": "code",
   "execution_count": null,
   "id": "6de713dd-b69c-43a7-8690-42cd251d3227",
   "metadata": {},
   "outputs": [],
   "source": [
    "# Saving model in tf format \n",
    "fname_model_gru = FPATHS['models']['nn']['GRU']# \"Models/keras/lstm/\" # Filename is a folder for save_format='tf'\n",
    "bidirection_model.save(fname_model_gru, save_format='tf')"
   ]
  },
  {
   "cell_type": "markdown",
   "id": "24ae7f00-1c41-4d75-8df2-fc15071fc403",
   "metadata": {},
   "source": [
    "### Saving Tensorflow Datasets and Best Model"
   ]
  },
  {
   "cell_type": "code",
   "execution_count": null,
   "id": "0d36a773-5cfb-4830-8aef-44fcd85a16ef",
   "metadata": {},
   "outputs": [],
   "source": []
  }
 ],
 "metadata": {
  "kernelspec": {
   "display_name": "Python (dojo-env)",
   "language": "python",
   "name": "dojo-env"
  },
  "language_info": {
   "codemirror_mode": {
    "name": "ipython",
    "version": 3
   },
   "file_extension": ".py",
   "mimetype": "text/x-python",
   "name": "python",
   "nbconvert_exporter": "python",
   "pygments_lexer": "ipython3",
   "version": "3.10.10"
  }
 },
 "nbformat": 4,
 "nbformat_minor": 5
}
