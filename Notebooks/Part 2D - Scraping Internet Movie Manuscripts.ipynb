{
 "cells": [
  {
   "cell_type": "markdown",
   "id": "7698a22f-b4f7-4d54-b602-1f3434272055",
   "metadata": {},
   "source": [
    "# Part 2D: Scraping Movie Manuscripts"
   ]
  },
  {
   "cell_type": "markdown",
   "id": "8e950cc7-5e5b-48cb-bb75-54a9b435bc8f",
   "metadata": {},
   "source": [
    "## Goal\n",
    "- Scrape movie manuscripts from imsdb.com\n",
    "    - Get full list of movies\n",
    "    -  compare against tmdb data\n",
    "    -  scrape and save as... html files?\n"
   ]
  },
  {
   "cell_type": "code",
   "execution_count": 1,
   "id": "8dbd974b-9fec-4eee-b80c-06bb44b97aaa",
   "metadata": {
    "execution": {
     "iopub.execute_input": "2024-01-16T22:44:10.038932Z",
     "iopub.status.busy": "2024-01-16T22:44:10.038853Z",
     "iopub.status.idle": "2024-01-16T22:44:10.846358Z",
     "shell.execute_reply": "2024-01-16T22:44:10.846020Z",
     "shell.execute_reply.started": "2024-01-16T22:44:10.038923Z"
    }
   },
   "outputs": [],
   "source": [
    "import pandas as pd\n",
    "from bs4 import BeautifulSoup\n",
    "import requests"
   ]
  },
  {
   "cell_type": "code",
   "execution_count": 2,
   "id": "ebb47ba7-3930-436f-96c0-6c8a2a055c8d",
   "metadata": {
    "execution": {
     "iopub.execute_input": "2024-01-16T22:44:10.847671Z",
     "iopub.status.busy": "2024-01-16T22:44:10.847491Z",
     "iopub.status.idle": "2024-01-16T22:44:10.849417Z",
     "shell.execute_reply": "2024-01-16T22:44:10.849149Z",
     "shell.execute_reply.started": "2024-01-16T22:44:10.847659Z"
    }
   },
   "outputs": [],
   "source": [
    "url = \"https://imsdb.com/all-scripts.html\""
   ]
  },
  {
   "cell_type": "code",
   "execution_count": 3,
   "id": "ceae06a3-6fd5-4d9c-ac92-a47a1b772c29",
   "metadata": {
    "execution": {
     "iopub.execute_input": "2024-01-16T22:44:10.850013Z",
     "iopub.status.busy": "2024-01-16T22:44:10.849881Z",
     "iopub.status.idle": "2024-01-16T22:44:11.060480Z",
     "shell.execute_reply": "2024-01-16T22:44:11.060108Z",
     "shell.execute_reply.started": "2024-01-16T22:44:10.850004Z"
    }
   },
   "outputs": [
    {
     "name": "stdout",
     "output_type": "stream",
     "text": [
      "<html>\n",
      " <head>\n",
      "  <title>\n",
      "   All Movie Scripts at IMSDb\n",
      "  </title>\n",
      "  <meta content=\"Movie Scripts full listing at the Internet Movie Script Database.\" name=\"description\"/>\n",
      "  <meta content=\"Movie Scripts list, All Movie Scripts\" name=\"keywords\"/>\n",
      "  <meta content=\"width=device-width, initial-scale=1\" name=\"viewport\"/>\n",
      "  <meta content=\"true\" name=\"HandheldFriendly\"/>\n",
      "  <meta content=\"text/html; charset=utf-8\" http-equiv=\"content-type\"/>\n",
      "  <meta content=\"EN\" http-equiv=\"Content-Language\"/>\n",
      "  <meta content=\"Document\" name=\"objecttype\"/>\n",
      "  <meta content=\"INDEX, FOLLOW\" name=\"ROBOTS\"/>\n",
      "  <meta content=\"Movie scripts, Film scripts\" name=\"Subject\"/>\n",
      "  <meta content=\"General\" name=\"rating\"/>\n",
      "  <meta content=\"Global\" name=\"distribution\"/>\n",
      "  <meta content=\"2 days\" name=\"revisit-after\"/>\n",
      "  <link href=\"/style.css\" rel=\"stylesheet\" type=\"text/css\"/>\n",
      "  <script async=\"\" src=\"//pagead2.googlesyndication.com/pagead/js/adsbygoogle.js\">\n",
      "  </script>\n",
      " </head>\n",
      " <body bottommargin=\"0\" id=\"mainbody\" topmargin=\"0\n"
     ]
    }
   ],
   "source": [
    "resp = requests.get(url)\n",
    "soup = BeautifulSoup(resp.content)\n",
    "print(soup.prettify()[:1000])"
   ]
  },
  {
   "cell_type": "markdown",
   "id": "c66c5b48-92d0-4865-ad26-a5fb561f1a05",
   "metadata": {},
   "source": [
    "- Entries are stored as a column in a table"
   ]
  },
  {
   "cell_type": "code",
   "execution_count": 4,
   "id": "4d7bc7b0-bba8-4a92-a227-350939de7879",
   "metadata": {
    "execution": {
     "iopub.execute_input": "2024-01-16T22:44:11.061330Z",
     "iopub.status.busy": "2024-01-16T22:44:11.061210Z",
     "iopub.status.idle": "2024-01-16T22:44:11.063083Z",
     "shell.execute_reply": "2024-01-16T22:44:11.062809Z",
     "shell.execute_reply.started": "2024-01-16T22:44:11.061321Z"
    }
   },
   "outputs": [],
   "source": [
    "# df_list = pd.read_html(url,)\n",
    "# len(df_list)"
   ]
  },
  {
   "cell_type": "code",
   "execution_count": 5,
   "id": "3396bc45-b7ef-496d-abce-51af35a4d7b3",
   "metadata": {
    "execution": {
     "iopub.execute_input": "2024-01-16T22:44:11.063556Z",
     "iopub.status.busy": "2024-01-16T22:44:11.063460Z",
     "iopub.status.idle": "2024-01-16T22:44:11.071786Z",
     "shell.execute_reply": "2024-01-16T22:44:11.071321Z",
     "shell.execute_reply.started": "2024-01-16T22:44:11.063548Z"
    }
   },
   "outputs": [],
   "source": [
    "# df_list[0]"
   ]
  },
  {
   "cell_type": "code",
   "execution_count": 6,
   "id": "52d43369-f218-453b-bb55-69b88a87eeee",
   "metadata": {
    "execution": {
     "iopub.execute_input": "2024-01-16T22:44:11.072612Z",
     "iopub.status.busy": "2024-01-16T22:44:11.072464Z",
     "iopub.status.idle": "2024-01-16T22:44:11.083133Z",
     "shell.execute_reply": "2024-01-16T22:44:11.082678Z",
     "shell.execute_reply.started": "2024-01-16T22:44:11.072595Z"
    }
   },
   "outputs": [],
   "source": [
    "# df_list[11]"
   ]
  },
  {
   "cell_type": "code",
   "execution_count": 7,
   "id": "b2ddc8dc-8c88-4799-9f1f-b2765ad831fe",
   "metadata": {
    "execution": {
     "iopub.execute_input": "2024-01-16T22:44:11.087583Z",
     "iopub.status.busy": "2024-01-16T22:44:11.087375Z",
     "iopub.status.idle": "2024-01-16T22:44:11.094712Z",
     "shell.execute_reply": "2024-01-16T22:44:11.094243Z",
     "shell.execute_reply.started": "2024-01-16T22:44:11.087569Z"
    }
   },
   "outputs": [
    {
     "name": "stdout",
     "output_type": "stream",
     "text": [
      "h1 is now correct tag\n"
     ]
    },
    {
     "data": {
      "text/plain": [
       "<h1>All Movie Scripts on IMSDb (A-Z)</h1>"
      ]
     },
     "execution_count": 7,
     "metadata": {},
     "output_type": "execute_result"
    }
   ],
   "source": [
    "# Get all headers\n",
    "found_headers = soup.find_all('h1')\n",
    "\n",
    "for h1 in found_headers:\n",
    "    if 'All Movie Scripts'.lower() in h1.text.lower():\n",
    "        print('h1 is now correct tag')\n",
    "        break\n",
    "        \n",
    "h1"
   ]
  },
  {
   "cell_type": "markdown",
   "id": "381743f2-e905-4661-b115-c4863a0ccd30",
   "metadata": {},
   "source": [
    "# Get the List of tags"
   ]
  },
  {
   "cell_type": "markdown",
   "id": "9b4c2fbb-a6f8-435b-9071-7453197dc605",
   "metadata": {
    "execution": {
     "iopub.execute_input": "2024-01-16T18:44:31.595637Z",
     "iopub.status.busy": "2024-01-16T18:44:31.595451Z",
     "iopub.status.idle": "2024-01-16T18:44:31.597524Z",
     "shell.execute_reply": "2024-01-16T18:44:31.597175Z",
     "shell.execute_reply.started": "2024-01-16T18:44:31.595627Z"
    }
   },
   "source": [
    "## Get siblings from h1"
   ]
  },
  {
   "cell_type": "code",
   "execution_count": 8,
   "id": "e4d3530c-1a3e-473a-a214-d93113824692",
   "metadata": {
    "execution": {
     "iopub.execute_input": "2024-01-16T22:44:11.095695Z",
     "iopub.status.busy": "2024-01-16T22:44:11.095576Z",
     "iopub.status.idle": "2024-01-16T22:44:11.099365Z",
     "shell.execute_reply": "2024-01-16T22:44:11.098814Z",
     "shell.execute_reply.started": "2024-01-16T22:44:11.095685Z"
    }
   },
   "outputs": [
    {
     "data": {
      "text/plain": [
       "[<a href=\"/Movie Scripts/10 Things I Hate About You Script.html\" title=\"10 Things I Hate About You Script\">10 Things I Hate About You</a>,\n",
       " <br/>,\n",
       " <i>Written by Karen McCullah Lutz,Kirsten Smith,William Shakespeare</i>,\n",
       " <br/>]"
      ]
     },
     "execution_count": 8,
     "metadata": {},
     "output_type": "execute_result"
    }
   ],
   "source": [
    "h1.next_sibling()"
   ]
  },
  {
   "cell_type": "code",
   "execution_count": 9,
   "id": "3b6606d8-dc93-4faa-ab0b-c198d04f91f6",
   "metadata": {
    "execution": {
     "iopub.execute_input": "2024-01-16T22:44:11.100498Z",
     "iopub.status.busy": "2024-01-16T22:44:11.100365Z",
     "iopub.status.idle": "2024-01-16T22:44:11.104429Z",
     "shell.execute_reply": "2024-01-16T22:44:11.104030Z",
     "shell.execute_reply.started": "2024-01-16T22:44:11.100487Z"
    }
   },
   "outputs": [
    {
     "data": {
      "text/plain": [
       "1218"
      ]
     },
     "execution_count": 9,
     "metadata": {},
     "output_type": "execute_result"
    }
   ],
   "source": [
    "# Get list of sibling tags\n",
    "sibling_list = [row for row in h1.next_siblings]\n",
    "len(sibling_list)"
   ]
  },
  {
   "cell_type": "code",
   "execution_count": 10,
   "id": "e6b6f596-1fe9-4718-b592-53ba89e9e0f8",
   "metadata": {
    "execution": {
     "iopub.execute_input": "2024-01-16T22:44:11.105403Z",
     "iopub.status.busy": "2024-01-16T22:44:11.105201Z",
     "iopub.status.idle": "2024-01-16T22:44:11.108573Z",
     "shell.execute_reply": "2024-01-16T22:44:11.108123Z",
     "shell.execute_reply.started": "2024-01-16T22:44:11.105392Z"
    }
   },
   "outputs": [
    {
     "data": {
      "text/plain": [
       "[<p><a href=\"/Movie Scripts/10 Things I Hate About You Script.html\" title=\"10 Things I Hate About You Script\">10 Things I Hate About You</a> (1997-11 Draft)<br/><i>Written by Karen McCullah Lutz,Kirsten Smith,William Shakespeare</i><br/></p>,\n",
       " <p><a href=\"/Movie Scripts/12 Script.html\" title=\"12 Script\">12</a> (Undated Draft)<br/><i>Written by Lawrence Bridges</i><br/></p>,\n",
       " <p><a href=\"/Movie Scripts/12 and Holding Script.html\" title=\"12 and Holding Script\">12 and Holding</a> (2004-04 Draft)<br/><i>Written by Anthony Cipriano</i><br/></p>,\n",
       " <p><a href=\"/Movie Scripts/12 Monkeys Script.html\" title=\"12 Monkeys Script\">12 Monkeys</a> (1994-06 Draft)<br/><i>Written by David Peoples,Janet Peoples</i><br/></p>,\n",
       " <p><a href=\"/Movie Scripts/12 Years a Slave Script.html\" title=\"12 Years a Slave Script\">12 Years a Slave</a> (Undated Draft)<br/><i>Written by John Ridley</i><br/></p>]"
      ]
     },
     "execution_count": 10,
     "metadata": {},
     "output_type": "execute_result"
    }
   ],
   "source": [
    "sibling_list[:5]"
   ]
  },
  {
   "cell_type": "code",
   "execution_count": 11,
   "id": "ba71489d-d256-49bb-b1c0-6af523374b64",
   "metadata": {
    "execution": {
     "iopub.execute_input": "2024-01-16T22:44:11.109288Z",
     "iopub.status.busy": "2024-01-16T22:44:11.109162Z",
     "iopub.status.idle": "2024-01-16T22:44:11.112253Z",
     "shell.execute_reply": "2024-01-16T22:44:11.111863Z",
     "shell.execute_reply.started": "2024-01-16T22:44:11.109278Z"
    }
   },
   "outputs": [
    {
     "data": {
      "text/html": [
       "<p><a href=\"/Movie Scripts/127 Hours Script.html\" title=\"127 Hours Script\">127 Hours</a> (Undated Draft)<br/><i>Written by Simon Beaufoy,Danny Boyle</i><br/></p>"
      ],
      "text/plain": [
       "<IPython.core.display.HTML object>"
      ]
     },
     "execution_count": 11,
     "metadata": {},
     "output_type": "execute_result"
    }
   ],
   "source": [
    "from IPython.display import display, HTML\n",
    "HTML(str(sibling_list[5]))"
   ]
  },
  {
   "cell_type": "markdown",
   "id": "6e9e3735-8fea-4964-9968-bb04db82fccc",
   "metadata": {},
   "source": [
    "### Processing Individual Movie Info"
   ]
  },
  {
   "cell_type": "markdown",
   "id": "a0a9f994-7834-4561-afc8-2fb8f4651f98",
   "metadata": {},
   "source": [
    "- Each movie has:\n",
    "    - Link with title\n",
    "    - Parentheses with:\n",
    "        -  Date\n",
    "        - and Info about if its a Draft\n",
    "    - List of Authors (in italics)"
   ]
  },
  {
   "cell_type": "code",
   "execution_count": 12,
   "id": "df1910ca-2206-42a6-8b2e-37779156c9b7",
   "metadata": {
    "execution": {
     "iopub.execute_input": "2024-01-16T22:44:11.113123Z",
     "iopub.status.busy": "2024-01-16T22:44:11.112934Z",
     "iopub.status.idle": "2024-01-16T22:44:11.115892Z",
     "shell.execute_reply": "2024-01-16T22:44:11.115446Z",
     "shell.execute_reply.started": "2024-01-16T22:44:11.113110Z"
    }
   },
   "outputs": [
    {
     "data": {
      "text/plain": [
       "<p><a href=\"/Movie Scripts/10 Things I Hate About You Script.html\" title=\"10 Things I Hate About You Script\">10 Things I Hate About You</a> (1997-11 Draft)<br/><i>Written by Karen McCullah Lutz,Kirsten Smith,William Shakespeare</i><br/></p>"
      ]
     },
     "execution_count": 12,
     "metadata": {},
     "output_type": "execute_result"
    }
   ],
   "source": [
    "# Selecting Example Tag\n",
    "tag =  sibling_list[0]\n",
    "tag"
   ]
  },
  {
   "cell_type": "code",
   "execution_count": 13,
   "id": "281f13e0-6e32-45c0-bfaa-a7083c010cb3",
   "metadata": {
    "execution": {
     "iopub.execute_input": "2024-01-16T22:44:11.116885Z",
     "iopub.status.busy": "2024-01-16T22:44:11.116752Z",
     "iopub.status.idle": "2024-01-16T22:44:11.120804Z",
     "shell.execute_reply": "2024-01-16T22:44:11.120124Z",
     "shell.execute_reply.started": "2024-01-16T22:44:11.116874Z"
    }
   },
   "outputs": [
    {
     "data": {
      "text/plain": [
       "<a href=\"/Movie Scripts/10 Things I Hate About You Script.html\" title=\"10 Things I Hate About You Script\">10 Things I Hate About You</a>"
      ]
     },
     "execution_count": 13,
     "metadata": {},
     "output_type": "execute_result"
    }
   ],
   "source": [
    "# Getting just the link\n",
    "link = tag.find('a')\n",
    "link"
   ]
  },
  {
   "cell_type": "code",
   "execution_count": 14,
   "id": "dbb6253e-f12e-422f-bc1e-2789c100870f",
   "metadata": {
    "execution": {
     "iopub.execute_input": "2024-01-16T22:44:11.121549Z",
     "iopub.status.busy": "2024-01-16T22:44:11.121435Z",
     "iopub.status.idle": "2024-01-16T22:44:11.124325Z",
     "shell.execute_reply": "2024-01-16T22:44:11.123515Z",
     "shell.execute_reply.started": "2024-01-16T22:44:11.121539Z"
    }
   },
   "outputs": [],
   "source": [
    "# Use urllib to parse websites\n",
    "import urllib"
   ]
  },
  {
   "cell_type": "code",
   "execution_count": 15,
   "id": "bdbb1bd0-25fd-42e6-a318-8004bffa6fad",
   "metadata": {
    "execution": {
     "iopub.execute_input": "2024-01-16T22:44:11.125344Z",
     "iopub.status.busy": "2024-01-16T22:44:11.125026Z",
     "iopub.status.idle": "2024-01-16T22:44:11.127982Z",
     "shell.execute_reply": "2024-01-16T22:44:11.127582Z",
     "shell.execute_reply.started": "2024-01-16T22:44:11.125332Z"
    }
   },
   "outputs": [
    {
     "data": {
      "text/plain": [
       "'https://imsdb.com/all-scripts.html'"
      ]
     },
     "execution_count": 15,
     "metadata": {},
     "output_type": "execute_result"
    }
   ],
   "source": [
    "url"
   ]
  },
  {
   "cell_type": "code",
   "execution_count": 16,
   "id": "eb046857-7288-4549-9067-9311df105501",
   "metadata": {
    "execution": {
     "iopub.execute_input": "2024-01-16T22:44:11.128930Z",
     "iopub.status.busy": "2024-01-16T22:44:11.128484Z",
     "iopub.status.idle": "2024-01-16T22:44:11.131265Z",
     "shell.execute_reply": "2024-01-16T22:44:11.130978Z",
     "shell.execute_reply.started": "2024-01-16T22:44:11.128918Z"
    }
   },
   "outputs": [
    {
     "data": {
      "text/plain": [
       "ParseResult(scheme='https', netloc='imsdb.com', path='/all-scripts.html', params='', query='', fragment='')"
      ]
     },
     "execution_count": 16,
     "metadata": {},
     "output_type": "execute_result"
    }
   ],
   "source": [
    "# Get parsed url to use to construct absolute url for movie\n",
    "parsed = urllib.parse.urlparse(url)\n",
    "parsed"
   ]
  },
  {
   "cell_type": "code",
   "execution_count": 17,
   "id": "4405e5d3-e15e-4e9d-8292-417457272e7a",
   "metadata": {
    "execution": {
     "iopub.execute_input": "2024-01-16T22:44:11.131838Z",
     "iopub.status.busy": "2024-01-16T22:44:11.131732Z",
     "iopub.status.idle": "2024-01-16T22:44:11.134927Z",
     "shell.execute_reply": "2024-01-16T22:44:11.134467Z",
     "shell.execute_reply.started": "2024-01-16T22:44:11.131829Z"
    }
   },
   "outputs": [
    {
     "data": {
      "text/plain": [
       "'https://imsdb.com'"
      ]
     },
     "execution_count": 17,
     "metadata": {},
     "output_type": "execute_result"
    }
   ],
   "source": [
    "# Saving base url for website\n",
    "base_url = parsed.scheme + \"://\" + parsed.netloc\n",
    "base_url"
   ]
  },
  {
   "cell_type": "code",
   "execution_count": 18,
   "id": "a2e5e473-28a7-46cb-beb3-bde1fd1b1409",
   "metadata": {
    "execution": {
     "iopub.execute_input": "2024-01-16T22:44:11.135766Z",
     "iopub.status.busy": "2024-01-16T22:44:11.135558Z",
     "iopub.status.idle": "2024-01-16T22:44:11.138357Z",
     "shell.execute_reply": "2024-01-16T22:44:11.137958Z",
     "shell.execute_reply.started": "2024-01-16T22:44:11.135755Z"
    }
   },
   "outputs": [
    {
     "data": {
      "text/plain": [
       "'/Movie Scripts/10 Things I Hate About You Script.html'"
      ]
     },
     "execution_count": 18,
     "metadata": {},
     "output_type": "execute_result"
    }
   ],
   "source": [
    "# Need to encode link titles\n",
    "link['href']"
   ]
  },
  {
   "cell_type": "code",
   "execution_count": 19,
   "id": "4e05122d-8a89-4f6b-84b0-6ca956d5ff7e",
   "metadata": {
    "execution": {
     "iopub.execute_input": "2024-01-16T22:44:11.138907Z",
     "iopub.status.busy": "2024-01-16T22:44:11.138812Z",
     "iopub.status.idle": "2024-01-16T22:44:11.146739Z",
     "shell.execute_reply": "2024-01-16T22:44:11.146429Z",
     "shell.execute_reply.started": "2024-01-16T22:44:11.138898Z"
    }
   },
   "outputs": [
    {
     "data": {
      "text/plain": [
       "'/Movie%20Scripts/10%20Things%20I%20Hate%20About%20You%20Script.html'"
      ]
     },
     "execution_count": 19,
     "metadata": {},
     "output_type": "execute_result"
    }
   ],
   "source": [
    "# Use parse.quote to get correct path\n",
    "urllib.parse.quote(link['href'])"
   ]
  },
  {
   "cell_type": "code",
   "execution_count": 20,
   "id": "3af79c23-61bd-4324-9ea3-69b5adad4bd9",
   "metadata": {
    "execution": {
     "iopub.execute_input": "2024-01-16T22:44:11.147252Z",
     "iopub.status.busy": "2024-01-16T22:44:11.147166Z",
     "iopub.status.idle": "2024-01-16T22:44:11.149690Z",
     "shell.execute_reply": "2024-01-16T22:44:11.149378Z",
     "shell.execute_reply.started": "2024-01-16T22:44:11.147243Z"
    }
   },
   "outputs": [
    {
     "data": {
      "text/plain": [
       "'https://imsdb.com/Movie%20Scripts/10%20Things%20I%20Hate%20About%20You%20Script.html'"
      ]
     },
     "execution_count": 20,
     "metadata": {},
     "output_type": "execute_result"
    }
   ],
   "source": [
    "# Construct absoolute url\n",
    "script_url  = urllib.parse.urljoin(base_url, urllib.parse.quote(link['href']))\n",
    "script_url"
   ]
  },
  {
   "cell_type": "code",
   "execution_count": 21,
   "id": "721d997a-4e68-4de2-b590-44e27874c1a5",
   "metadata": {
    "execution": {
     "iopub.execute_input": "2024-01-16T22:44:11.150183Z",
     "iopub.status.busy": "2024-01-16T22:44:11.150099Z",
     "iopub.status.idle": "2024-01-16T22:44:11.152736Z",
     "shell.execute_reply": "2024-01-16T22:44:11.152343Z",
     "shell.execute_reply.started": "2024-01-16T22:44:11.150174Z"
    }
   },
   "outputs": [],
   "source": [
    "def get_url_from_tag(link_tag, abs_url = 'https://imsdb.com/all-scripts.html' ):\n",
    "    import urllib\n",
    "    parsed = urllib.parse.urlparse(abs_url)\n",
    "    # Saving base url for website\n",
    "    base_url = parsed.scheme + \"://\" + parsed.netloc\n",
    "    \n",
    "    # Use parse.quote to get correct path\n",
    "    url_path  = urllib.parse.quote(link_tag['href'])\n",
    "    script_url = urllib.parse.urljoin(base_url, url_path)\n",
    "    return script_url\n",
    "    \n"
   ]
  },
  {
   "cell_type": "code",
   "execution_count": 22,
   "id": "d2a27a76-a551-4596-bd2b-c85d7f42334f",
   "metadata": {
    "execution": {
     "iopub.execute_input": "2024-01-16T22:44:11.160973Z",
     "iopub.status.busy": "2024-01-16T22:44:11.160643Z",
     "iopub.status.idle": "2024-01-16T22:44:11.164243Z",
     "shell.execute_reply": "2024-01-16T22:44:11.163736Z",
     "shell.execute_reply.started": "2024-01-16T22:44:11.160951Z"
    }
   },
   "outputs": [
    {
     "data": {
      "text/html": [
       "<p><a href=\"/Movie Scripts/12 Monkeys Script.html\" title=\"12 Monkeys Script\">12 Monkeys</a> (1994-06 Draft)<br/><i>Written by David Peoples,Janet Peoples</i><br/></p>"
      ],
      "text/plain": [
       "<IPython.core.display.HTML object>"
      ]
     },
     "execution_count": 22,
     "metadata": {},
     "output_type": "execute_result"
    }
   ],
   "source": [
    "demo_index = 3 \n",
    "demo_movie = sibling_list[demo_index]\n",
    "HTML(str(demo_movie))"
   ]
  },
  {
   "cell_type": "code",
   "execution_count": 23,
   "id": "e7212262-d0ec-4914-af4c-d87d983f8ca8",
   "metadata": {
    "execution": {
     "iopub.execute_input": "2024-01-16T22:44:11.165334Z",
     "iopub.status.busy": "2024-01-16T22:44:11.165123Z",
     "iopub.status.idle": "2024-01-16T22:44:11.171842Z",
     "shell.execute_reply": "2024-01-16T22:44:11.171383Z",
     "shell.execute_reply.started": "2024-01-16T22:44:11.165317Z"
    }
   },
   "outputs": [
    {
     "data": {
      "text/plain": [
       "'https://imsdb.com/Movie%20Scripts/12%20Monkeys%20Script.html'"
      ]
     },
     "execution_count": 23,
     "metadata": {},
     "output_type": "execute_result"
    }
   ],
   "source": [
    "# Test function\n",
    "script_url = get_url_from_tag(demo_movie.find('a'))\n",
    "script_url"
   ]
  },
  {
   "cell_type": "markdown",
   "id": "6339e94c-fcb3-44eb-8b6d-074b4ec0e438",
   "metadata": {},
   "source": [
    "- Each movie has a page with more metadata, plus the link to the ~~actual html script~~ page with metadata and link to script.\n",
    "- Example final script url: https://imsdb.com/scripts/12-Monkeys.html"
   ]
  },
  {
   "cell_type": "code",
   "execution_count": 24,
   "id": "f2f4ab8c-9105-41c0-9b0a-80f9745d4ace",
   "metadata": {
    "execution": {
     "iopub.execute_input": "2024-01-16T22:44:11.172827Z",
     "iopub.status.busy": "2024-01-16T22:44:11.172699Z",
     "iopub.status.idle": "2024-01-16T22:44:11.277700Z",
     "shell.execute_reply": "2024-01-16T22:44:11.277324Z",
     "shell.execute_reply.started": "2024-01-16T22:44:11.172817Z"
    }
   },
   "outputs": [
    {
     "name": "stdout",
     "output_type": "stream",
     "text": [
      "<html>\n",
      " <head>\n",
      "  <!-- Google tag (gtag.js) -->\n",
      "  <script async=\"\" src=\"https://www.googletagmanager.com/gtag/js?id=G-W5BXG8HCH3\">\n",
      "  </script>\n",
      "  <script>\n",
      "   window.dataLayer = window.dataLayer || [];\n",
      "  function gtag(){dataLayer.push(arguments);}\n",
      "  gtag('js', new Date());\n",
      "\n",
      "  gtag('config', 'G-W5BXG8HCH3');\n",
      "  </script>\n",
      "  <title>\n",
      "   12 Monkeys Script at IMSDb.\n",
      "  </title>\n",
      "  <meta content=\"12 Monkeys script at the Internet Movie Script Database.\" name=\"description\"/>\n",
      "  <meta content=\"12 Monkeys script, 12 Monkeys movie script, 12 Monkeys film script\" name=\"keywords\"/>\n",
      "  <meta content=\"width=device-width, initial-scale=1\" name=\"viewport\"/>\n",
      "  <meta content=\"true\" name=\"HandheldFriendly\"/>\n",
      "  <meta content=\"text/html; charset=utf-8\" http-equiv=\"content-type\"/>\n",
      "  <meta content=\"EN\" http-equiv=\"Content-Language\"/>\n",
      "  <meta content=\"Document\" name=\"objecttype\"/>\n",
      "  <meta content=\"INDEX, FOLLOW\" name=\"ROBOTS\"/>\n",
      "  <meta content=\"Movie scripts, Film scripts\" name=\"Subject\"/>\n",
      "  <meta content=\"General\n"
     ]
    }
   ],
   "source": [
    "# Get soup for demo omovie\n",
    "resp_movie = requests.get(script_url)\n",
    "soup_movie = BeautifulSoup(resp_movie.content)\n",
    "print(soup_movie.prettify()[:1000])"
   ]
  },
  {
   "cell_type": "code",
   "execution_count": 25,
   "id": "8c0e7aaf-acd1-4567-8965-f1ee5dfcd0ba",
   "metadata": {
    "execution": {
     "iopub.execute_input": "2024-01-16T22:44:11.278878Z",
     "iopub.status.busy": "2024-01-16T22:44:11.278466Z",
     "iopub.status.idle": "2024-01-16T22:44:11.284267Z",
     "shell.execute_reply": "2024-01-16T22:44:11.283860Z",
     "shell.execute_reply.started": "2024-01-16T22:44:11.278865Z"
    }
   },
   "outputs": [
    {
     "data": {
      "text/html": [
       "<html>\n",
       "<head>\n",
       "<!-- Google tag (gtag.js) -->\n",
       "<script async=\"\" src=\"https://www.googletagmanager.com/gtag/js?id=G-W5BXG8HCH3\"></script>\n",
       "<script>\r\n",
       "  window.dataLayer = window.dataLayer || [];\r\n",
       "  function gtag(){dataLayer.push(arguments);}\r\n",
       "  gtag('js', new Date());\r\n",
       "\r\n",
       "  gtag('config', 'G-W5BXG8HCH3');\r\n",
       "</script>\n",
       "<title>12 Monkeys Script at IMSDb.</title>\n",
       "<meta content=\"12 Monkeys script at the Internet Movie Script Database.\" name=\"description\"/>\n",
       "<meta content=\"12 Monkeys script, 12 Monkeys movie script, 12 Monkeys film script\" name=\"keywords\"/>\n",
       "<meta content=\"width=device-width, initial-scale=1\" name=\"viewport\"/>\n",
       "<meta content=\"true\" name=\"HandheldFriendly\"/>\n",
       "<meta content=\"text/html; charset=utf-8\" http-equiv=\"content-type\"/>\n",
       "<meta content=\"EN\" http-equiv=\"Content-Language\"/>\n",
       "<meta content=\"Document\" name=\"objecttype\"/>\n",
       "<meta content=\"INDEX, FOLLOW\" name=\"ROBOTS\"/>\n",
       "<meta content=\"Movie scripts, Film scripts\" name=\"Subject\"/>\n",
       "<meta content=\"General\" name=\"rating\"/>\n",
       "<meta content=\"Global\" name=\"distribution\"/>\n",
       "<meta content=\"2 days\" name=\"revisit-after\"/>\n",
       "<link href=\"/style.css\" rel=\"stylesheet\" type=\"text/css\"/>\n",
       "<script async=\"\" src=\"//pagead2.googlesyndication.com/pagead/js/adsbygoogle.js\"></script>\n",
       "</head>\n",
       "<body bottommargin=\"0\" id=\"mainbody\" topmargin=\"0\">\n",
       "<table border=\"0\" cellpadding=\"0\" cellspacing=\"0\" class=\"body\" width=\"100%\">\n",
       "<tr>\n",
       "<td bgcolor=\"#FF0000\" valign=\"bottom\"><a href=\"https://imsdb.com\" title=\"The Internet Movie Script Database\"><img border=\"0\" src=\"/images/logo_top.gif\"/></a></td>\n",
       "<td align=\"center\" bgcolor=\"#FF0000\" style=\"color: white;\"><h1>The Internet Movie Script Database (IMSDb)</h1></td>\n",
       "</tr>\n",
       "<tr>\n",
       "<td background=\"/images/reel.gif\" colspan=\"2\" height=\"13\"><a href=\"https://imsdb.com\" title=\"The Internet Movie Script Database\"><img border=\"0\" src=\"/images/logo_middle.gif\"/></a></td>\n",
       "</tr>\n",
       "<tr>\n",
       "<td class=\"smalltxt\" valign=\"top\" width=\"170\"> <a href=\"https://imsdb.com\" title=\"The Internet Movie Script Database\"><img border=\"0\" src=\"/images/logo_bottom.gif\" width=\"170\"/></a>\n",
       "<br/>\n",
       "<center><span class=\"smalltxt\">The web's largest <br/>movie script resource!</span></center>\n",
       "</td>\n",
       "<td>\n",
       "<script async=\"\" crossorigin=\"anonymous\" src=\"https://pagead2.googlesyndication.com/pagead/js/adsbygoogle.js?client=ca-pub-9108429103930209\"></script>\n",
       "<!-- IMSDb Leaderboard 2 -->\n",
       "<ins class=\"adsbygoogle\" data-ad-client=\"ca-pub-9108429103930209\" data-ad-slot=\"7890701658\" style=\"display:inline-block;width:728px;height:90px\"></ins>\n",
       "<script>\r\n",
       "     (adsbygoogle = window.adsbygoogle || []).push({});\r\n",
       "</script>\n",
       "</td>\n",
       "</tr>\n",
       "</table>\n",
       "<br/>\n",
       "<table border=\"0\" cellpadding=\"0\" cellspacing=\"0\" width=\"100%\">\n",
       "<tr>\n",
       "<td valign=\"top\" width=\"180\">\n",
       "<table border=\"0\" cellpadding=\"2\" cellspacing=\"0\" width=\"100%\">\n",
       "<tr>\n",
       "<td class=\"heading\" colspan=\"2\">Search IMSDb</td>\n",
       "</tr>\n",
       "<tr>\n",
       "<form action=\"/search.php\" method=\"post\">\n",
       "<td bgcolor=\"#FFFFFF\" width=\"180\"><div align=\"center\">\n",
       "<input maxlength=\"255\" name=\"search_query\" size=\"15\" type=\"text\"/>\n",
       "<input name=\"submit\" type=\"submit\" value=\"Go!\"/>\n",
       "</div></td>\n",
       "</form>\n",
       "</tr>\n",
       "</table>\n",
       "<br/>\n",
       "<table class=\"body\" width=\"100%\">\n",
       "<tr>\n",
       "<td class=\"heading\" colspan=\"9\">Alphabetical</td>\n",
       "</tr><tr align=\"center\">\n",
       "<td><a href=\"/alphabetical/0\">#</a></td>\n",
       "<td><a href=\"/alphabetical/A\">A</a></td>\n",
       "<td><a href=\"/alphabetical/B\">B</a></td>\n",
       "<td><a href=\"/alphabetical/C\">C</a></td>\n",
       "<td><a href=\"/alphabetical/D\">D</a></td>\n",
       "<td><a href=\"/alphabetical/E\">E</a></td>\n",
       "<td><a href=\"/alphabetical/F\">F</a></td>\n",
       "<td><a href=\"/alphabetical/G\">G</a></td>\n",
       "<td><a href=\"/alphabetical/H\">H</a></td>\n",
       "</tr>\n",
       "<tr align=\"center\">\n",
       "<td><a href=\"/alphabetical/I\">I</a></td>\n",
       "<td><a href=\"/alphabetical/J\">J</a></td>\n",
       "<td><a href=\"/alphabetical/K\">K</a></td>\n",
       "<td><a href=\"/alphabetical/L\">L</a></td>\n",
       "<td><a href=\"/alphabetical/M\">M</a></td>\n",
       "<td><a href=\"/alphabetical/N\">N</a></td>\n",
       "<td><a href=\"/alphabetical/O\">O</a></td>\n",
       "<td><a href=\"/alphabetical/P\">P</a></td>\n",
       "<td><a href=\"/alphabetical/Q\">Q</a></td>\n",
       "</tr>\n",
       "<tr align=\"center\">\n",
       "<td><a href=\"/alphabetical/R\">R</a></td>\n",
       "<td><a href=\"/alphabetical/S\">S</a></td>\n",
       "<td><a href=\"/alphabetical/T\">T</a></td>\n",
       "<td><a href=\"/alphabetical/U\">U</a></td>\n",
       "<td><a href=\"/alphabetical/V\">V</a></td>\n",
       "<td><a href=\"/alphabetical/W\">W</a></td>\n",
       "<td><a href=\"/alphabetical/X\">X</a></td>\n",
       "<td><a href=\"/alphabetical/Y\">Y</a></td>\n",
       "<td><a href=\"/alphabetical/Z\">Z</a></td>\n",
       "</tr>\n",
       "</table>\n",
       "<br/>\n",
       "<table class=\"body\" width=\"100%\">\n",
       "<tr>\n",
       "<td class=\"heading\" colspan=\"3\">Genre\r\n",
       "</td></tr><tr>\n",
       "<td><a href=\"/genre/Action\">Action</a>\n",
       "</td><td><a href=\"/genre/Adventure\">Adventure</a>\n",
       "</td><td><a href=\"/genre/Animation\">Animation</a></td></tr><tr>\n",
       "<td><a href=\"/genre/Comedy\">Comedy</a>\n",
       "</td><td><a href=\"/genre/Crime\">Crime</a>\n",
       "</td><td><a href=\"/genre/Drama\">Drama</a> </td></tr><tr>\n",
       "<td><a href=\"/genre/Family\">Family</a>\n",
       "</td><td><a href=\"/genre/Fantasy\">Fantasy</a>\n",
       "</td><td><a href=\"/genre/Film-Noir\">Film-Noir</a></td></tr><tr>\n",
       "<td><a href=\"/genre/Horror\">Horror</a>\n",
       "</td><td><a href=\"/genre/Musical\">Musical</a>\n",
       "</td><td><a href=\"/genre/Mystery\">Mystery</a></td></tr><tr>\n",
       "<td><a href=\"/genre/Romance\">Romance</a>\n",
       "</td><td><a href=\"/genre/Sci-Fi\">Sci-Fi</a>\n",
       "</td><td><a href=\"/genre/Short\">Short</a></td></tr><tr>\n",
       "<td><a href=\"/genre/Thriller\">Thriller</a>\n",
       "</td><td><a href=\"/genre/War\">War</a>\n",
       "</td><td><a href=\"/genre/Western\">Western</a>\n",
       "</td></tr></table>\n",
       "<br/>\n",
       "<table border=\"0\" cellpadding=\"2\" cellspacing=\"0\" class=\"body\" width=\"100%\">\n",
       "<tr>\n",
       "<td class=\"heading\" colspan=\"2\">Steam Spotlight</td></tr><tr>\n",
       "<td bgcolor=\"#FFFFFF\" width=\"300\">\n",
       "<a href=\"https://store.steampowered.com/app/2394430/Professor_Goodbois_Ballistics/\"><img alt=\"Professor Goodboi's Ballistics\" src=\"/images/ballistics.png\"/></a>\n",
       "</td>\n",
       "</tr></table>\n",
       "<br/>\n",
       "<table border=\"0\" cellpadding=\"2\" cellspacing=\"0\" class=\"body\" width=\"100%\">\n",
       "<tr>\n",
       "<td class=\"heading\">TV Transcripts\r\n",
       "</td></tr><tr>\n",
       "<td><a href=\"/TV/Futurama.html\">Futurama</a></td></tr><tr>\n",
       "<td><a href=\"/TV/Seinfeld.html\">Seinfeld</a></td></tr><tr>\n",
       "<td><a href=\"/TV/South Park.html\">South Park</a></td></tr><tr>\n",
       "<td><a href=\"/TV/Stargate SG1.html\">Stargate SG-1</a></td></tr><tr>\n",
       "<td><a href=\"/TV/Lost.html\">Lost</a></td></tr><tr>\n",
       "<td><a href=\"/TV/The 4400.html\">The 4400</a>\n",
       "</td></tr></table>\n",
       "<br/>\n",
       "<table border=\"0\" cellpadding=\"2\" cellspacing=\"0\" class=\"body\" width=\"100%\">\n",
       "<tr>\n",
       "<td class=\"heading\" colspan=\"2\">Sponsor</td></tr><tr>\n",
       "<td bgcolor=\"#FFFFFF\" width=\"300\">\n",
       "<script type=\"text/javascript\"><!--\r\n",
       "\te9 = new Object();\r\n",
       "    e9.size = \"300x250\";\r\n",
       " //--></script>\n",
       "<script src=\"//tags.expo9.exponential.com/tags/IMSDb/ROS/tags.js\" type=\"text/javascript\"></script>\n",
       "</td>\n",
       "</tr></table>\n",
       "<br/>\n",
       "<table class=\"body\" width=\"100%\">\n",
       "<tr>\n",
       "<td class=\"heading\" colspan=\"3\">International\r\n",
       "</td></tr><tr>\n",
       "<td><a href=\"/language/French\">French scripts</a>\n",
       "</td></tr></table>\n",
       "<br/>\n",
       "<table border=\"0\" cellpadding=\"2\" cellspacing=\"0\" class=\"body\" width=\"100%\">\n",
       "<tr>\n",
       "<td class=\"heading\" colspan=\"3\">Latest Comments\r\n",
       "</td></tr><tr>\n",
       "<td><a href=\"/Movie Scripts/Reservoir Dogs Script.html\">Reservoir Dogs</a></td><td>8/10</td></tr><tr>\n",
       "<td><a href=\"/Movie Scripts/Interstellar Script.html\">Interstellar</a></td><td>10/10</td></tr><tr>\n",
       "<td><a href=\"/Movie Scripts/Total Recall Script.html\">Total Recall</a></td><td>9/10</td></tr><tr>\n",
       "<td><a href=\"/Movie Scripts/Clockwork Orange, A Script.html\">Clockwork Orange, A</a></td><td>10/10</td></tr><tr>\n",
       "<td><a href=\"/Movie Scripts/Deer Hunter, The Script.html\">Deer Hunter, The</a></td><td>10/10</td></tr><tr>\n",
       "</tr></table>\n",
       "<div align=\"center\"><br/><br/>\n",
       "<a href=\"https://imsdb.com/all-scripts.html\">ALL SCRIPTS</a><br/><br/>\n",
       "</div>\n",
       "</td><td width=\"10\"></td>\n",
       "<td valign=\"top\">\n",
       "<br/>\n",
       "<table align=\"center\" class=\"script-details\">\n",
       "<tr>\n",
       "<td align=\"center\" colspan=\"2\"><h1>12 Monkeys Script</h1></td>\n",
       "</tr>\n",
       "<tr>\n",
       "<td align=\"right\" valign=\"top\"><img class=\"avimg\" src=\"/images/no-poster.gif\" title=\"12 Monkeys Script\"/></td>\n",
       "<td>\n",
       "<b>IMSDb opinion</b><br/>  None available<br/><br/>\n",
       "<b>IMSDb rating</b><br/>  Not available<br/>\n",
       "<b>Average user rating</b><br/>  <img src=\"/images/rating/9-stars.gif\"/> (9.25 out of 10)<br/>\n",
       "<script async=\"\" crossorigin=\"anonymous\" src=\"https://pagead2.googlesyndication.com/pagead/js/adsbygoogle.js?client=ca-pub-9108429103930209\"></script>\n",
       "<!-- IMSDb Box -->\n",
       "<ins class=\"adsbygoogle\" data-ad-client=\"ca-pub-9108429103930209\" data-ad-slot=\"9761090053\" style=\"display:inline-block;width:300px;height:250px\"></ins>\n",
       "<script>\r\n",
       "     (adsbygoogle = window.adsbygoogle || []).push({});\r\n",
       "</script>\n",
       "<br/>\n",
       "<b>Writers</b><br/>  <a href=\"/writer.php?w=David Peoples\" title=\"Scripts by David Peoples\">David Peoples</a><br/>  <a href=\"/writer.php?w=Janet Peoples\" title=\"Scripts by Janet Peoples\">Janet Peoples</a><br/><br/>\n",
       "<b>Genres</b><br/>  <a href=\"/genre/Drama\" title=\"Drama Scripts\">Drama</a><br/>  <a href=\"/genre/Sci-Fi\" title=\"Sci-Fi Scripts\">Sci-Fi</a><br/>  <a href=\"/genre/Thriller\" title=\"Thriller Scripts\">Thriller</a><br/><br/>\n",
       "<b>Script Date</b> : June 1994<br/>\n",
       "<br/>\n",
       "<a href=\"/scripts/12-Monkeys.html\">Read \"12 Monkeys\" Script</a>\n",
       "</td>\n",
       "</tr>\n",
       "</table>\n",
       "<br/>\n",
       "<table align=\"center\" class=\"script-comments\">\n",
       "<tr>\n",
       "<td align=\"center\" colspan=\"4\" valign=\"top\"><h2>User Comments for 12 Monkeys</h2></td>\n",
       "</tr>\n",
       "<tr>\n",
       "<td colspan=\"4\"><a name=\"comments\"></a><p><b>Ron Inbar</b> <img src=\"/images/rating/10-stars.gif\"/> (10 out of 10 )<br/>This is one of the best scripts of all times, not just for a science-fiction movie.</p><hr/><p><b>Stephen</b> <img src=\"/images/rating/6-stars.gif\"/> (6 out of 10 )<br/>I think that this script was okay at best. I've never seen the movie, but the script alone is confusing and is not written very well. I think reading something else would be a better use of your time.</p><hr/><p><b>chelo godoy</b> <img src=\"/images/rating/9-stars.gif\"/> (9 out of 10 )<br/>This is one of my favorite movies! Terrific script, very strange and dark. The future is nothing. Greetings from chile.</p><hr/><p><b>harry georgatos</b> <img src=\"/images/rating/10-stars.gif\"/> (10 out of 10 )<br/>This has to rank as one of the all-time great sci-fi films ever made. It's one of the most visually striking movies within the genre. It has a truly mind bending plot that teases the mind. People tell me the plot doesn't make sense. I tend to disagree. If one concentrates enough everything is there. On repeated viewing it becomes all the more clear. The performance by Bruce Willis still ranks as the best and most vulnerable he has ever given. The writers David and Janet Peoples have given Terry Gilliam a script that ranks up there with the best, if not the best within the time travelling genre. I'm eager to see the script that these two writers are penning for Christopher Nolan when he directs the tv adaptation of \"The Prisoner\" to film. That surely will be the movie event of that particular year to watch out for. These two writers have been responsible for some of the great films of cinema, from \"Blade Runner\" \"Unforgiven\" to \"Twelve Monkeys\" and now \"The Prisoner\".</p><hr/><p><b>Bungo</b> <img src=\"/images/rating/10-stars.gif\"/> (10 out of 10 )<br/>This is such an under-rated movie in the Sci-Fi genre, perhaps because it is more about the underlying themes than wowing us with big-budget special effects and explosions to keep the MTV generations attention for longer than 2 seconds. The script is astoundingly well written and perfectly expanded from the French short story it was based upon. Stephen, don't feel bad, the movie itself is fairly confusing, but it's meant to make you think rather than just throw the answers to life the universe and everything at the viewer. It jumps around quite a lot, mixing things up to keep the audience on their toes until they are at the point whether they too start doubting what is real and make-believe and whether this is all just a delusion. Watch the movie (a few times) and see if it makes more sense then.</p><hr/><p><b>Dweinin</b> <img src=\"/images/rating/9-stars.gif\"/> (9 out of 10 )<br/>Agreed. One of my all time favorite. The plot, sub plots and story are very deep and require an attentive viewer. This isn't something you watch or read on a lazy Sunday while you are only 1/2 interested. I found the story to be mysterious and suspenseful. If it's confusing or you don't understand it, I agree with Bungo- watch it again. All the answers are there and the story wraps itself up nicely. I particularly like the last line of the movie, \"I'm in insurance.\" Brilliant.</p><hr/><p><b>dr</b> <img src=\"/images/rating/10-stars.gif\"/> (10 out of 10 )<br/>The last line is incorrect. She says, \"I'm an insurance.\" She says it knowing it'll sound like \"I'm in insurance,\" but really she's referring to the fact that she's an insurance to make sure the virus is released (because when it is, in the future she and the others rule the world and she doen'y want to lose that power) Go back and listen again and you'll hear it.</p><hr/><p><b>marcel</b> <img src=\"/images/rating/10-stars.gif\"/> (10 out of 10 )<br/>12 monkeys is the first movie ever to send chills down my back. It deals with reincarnation, the future, the past, it is loaded. As science fiction goes Blade Runner is number 1, Matrix 2, then 12 Monkeys.</p><hr/></td>\n",
       "</tr>\n",
       "<tr>\n",
       "<td colspan=\"4\"><h3>Add your own comment</h3></td>\n",
       "</tr>\n",
       "<form action=\"/addcomment.php\" method=\"post\">\n",
       "<input id=\"token\" name=\"token\" type=\"hidden\"/>\n",
       "<input id=\"action\" name=\"action\" type=\"hidden\"/>\n",
       "<input name=\"tv\" type=\"hidden\" value=\"0\"/>\n",
       "<input name=\"addcom_title\" type=\"hidden\" value=\"12 Monkeys\"/>\n",
       "<tr>\n",
       "<td align=\"right\"><b><font color=\"#FF0000\">*</font>Name: </b></td>\n",
       "<td> <input maxlength=\"25\" name=\"addcom_name\" size=\"15\"/> </td>\n",
       "<td align=\"right\"><b>E-mail:</b> </td>\n",
       "<td><input maxlength=\"255\" name=\"addcom_email\" size=\"15\"/> </td>\n",
       "</tr>\n",
       "<tr>\n",
       "<td><div align=\"right\"><b><font color=\"#FF0000\">*</font>Comment: </b></div></td>\n",
       "<td colspan=\"3\"><textarea name=\"addcom_comment\" rows=\"8\" style=\"width: 80%;\"></textarea></td>\n",
       "</tr>\n",
       "<tr>\n",
       "<td><div align=\"right\"><b><font color=\"#FF0000\">*</font>Rating:</b></div></td>\n",
       "<td>\n",
       "<select name=\"addcom_rating\">\n",
       "<option value=\"Choose\">- Choose -</option>\n",
       "<option value=\"10\">10 (Excellent)</option>\n",
       "<option value=\"9\">9</option>\n",
       "<option value=\"8\">8</option>\n",
       "<option value=\"7\">7</option>\n",
       "<option value=\"6\">6</option>\n",
       "<option value=\"5\">5</option>\n",
       "<option value=\"4\">4</option>\n",
       "<option value=\"3\">3</option>\n",
       "<option value=\"2\">2</option>\n",
       "<option value=\"1\">1 (Awful)</option>\n",
       "</select>\n",
       "</td>\n",
       "<td></td>\n",
       "<td></td>\n",
       "</tr>\n",
       "<tr>\n",
       "<td align=\"right\" colspan=\"4\"> <input src=\"/images/addcomment.gif\" type=\"image\" value=\"Send\"/></td>\n",
       "</tr>\n",
       "</form>\n",
       "<script src=\"https://www.google.com/recaptcha/api.js?render=6LesFl0aAAAAADGWe9L-5qWItG3ngwgGmE9w6byA\"></script>\n",
       "<script src=\"https://code.jquery.com/jquery-3.4.1.min.js\"></script>\n",
       "<script type=\"text/javascript\">\r\n",
       "         $(document).ready(function(){\r\n",
       "         \tsetInterval(function(){\r\n",
       "         \tgrecaptcha.ready(function() {\r\n",
       "         \t    grecaptcha.execute('6LesFl0aAAAAADGWe9L-5qWItG3ngwgGmE9w6byA', {action: 'comment'}).then(function(token) {\r\n",
       "         \t    \t$('#token').val(token);\r\n",
       "         \t    \t$('#action').val('comment');\r\n",
       "         \t    });\r\n",
       "         \t});\r\n",
       "         \t}, 3000);\r\n",
       "         });\r\n",
       "         \r\n",
       "      </script>\n",
       "</table>\n",
       "<p align=\"center\"><a href=\"/scripts/12-Monkeys.html\" title=\"12 Monkeys Script\">\"12 Monkeys\" Script</a> </p>\n",
       "<br/><br/>\n",
       "</td></tr></table>\n",
       "<table border=\"0\" cellpadding=\"0\" cellspacing=\"0\" class=\"body\" width=\"99%\">\n",
       "<tr>\n",
       "<td background=\"/images/reel.gif\" colspan=\"2\" height=\"13\">\n",
       "</td></tr></table>\n",
       "<div align=\"center\">\n",
       "<a href=\"https://imsdb.com\" title=\"Internet Movie Script Database (IMSDb)\">Index</a> \r\n",
       "    |    \r\n",
       " <a href=\"/submit.html\" title=\"Submit scripts\">Submit</a> \r\n",
       "    |    \r\n",
       " <a href=\"/link to us\" title=\"Link to IMSDb\">Link to IMSDb</a> \r\n",
       "    |    \r\n",
       " <a href=\"/disclaimer.html\">Disclaimer</a> \r\n",
       "    |    \r\n",
       " <a href=\"/privacy\">Privacy policy</a> \r\n",
       "    |    \r\n",
       " <a href=\"/contact.html\">Contact</a>\n",
       "</div>\n",
       "<br/>\n",
       "</body>\n",
       "</html>"
      ],
      "text/plain": [
       "<IPython.core.display.HTML object>"
      ]
     },
     "execution_count": 25,
     "metadata": {},
     "output_type": "execute_result"
    }
   ],
   "source": [
    "HTML(str(soup_movie))"
   ]
  },
  {
   "cell_type": "code",
   "execution_count": 26,
   "id": "c8471e66-1904-43a6-90ab-8899a212b68a",
   "metadata": {
    "execution": {
     "iopub.execute_input": "2024-01-16T22:44:11.284958Z",
     "iopub.status.busy": "2024-01-16T22:44:11.284861Z",
     "iopub.status.idle": "2024-01-16T22:44:11.287727Z",
     "shell.execute_reply": "2024-01-16T22:44:11.287309Z",
     "shell.execute_reply.started": "2024-01-16T22:44:11.284950Z"
    }
   },
   "outputs": [
    {
     "data": {
      "text/plain": [
       "'12 Monkeys'"
      ]
     },
     "execution_count": 26,
     "metadata": {},
     "output_type": "execute_result"
    }
   ],
   "source": [
    "# Figuring out \n",
    "title_for_link = demo_movie.find(\"a\").text\n",
    "title_for_link"
   ]
  },
  {
   "cell_type": "markdown",
   "id": "4e749926-7e85-40a3-baeb-0b2452cc3012",
   "metadata": {},
   "source": [
    "- Example final script url: https://imsdb.com/scripts/12-Monkeys.html"
   ]
  },
  {
   "cell_type": "code",
   "execution_count": 27,
   "id": "afeee986-5a57-4767-a22d-2719b7928bc2",
   "metadata": {
    "execution": {
     "iopub.execute_input": "2024-01-16T22:44:11.288550Z",
     "iopub.status.busy": "2024-01-16T22:44:11.288386Z",
     "iopub.status.idle": "2024-01-16T22:44:11.291432Z",
     "shell.execute_reply": "2024-01-16T22:44:11.291013Z",
     "shell.execute_reply.started": "2024-01-16T22:44:11.288539Z"
    }
   },
   "outputs": [
    {
     "data": {
      "text/plain": [
       "'12-Monkeys'"
      ]
     },
     "execution_count": 27,
     "metadata": {},
     "output_type": "execute_result"
    }
   ],
   "source": [
    "# Constructing script url\n",
    "title_for_link.replace(' ','-')"
   ]
  },
  {
   "cell_type": "code",
   "execution_count": 28,
   "id": "58636adf-b979-4917-8550-efd8234cd68a",
   "metadata": {
    "execution": {
     "iopub.execute_input": "2024-01-16T22:44:11.292404Z",
     "iopub.status.busy": "2024-01-16T22:44:11.292238Z",
     "iopub.status.idle": "2024-01-16T22:44:11.296165Z",
     "shell.execute_reply": "2024-01-16T22:44:11.295657Z",
     "shell.execute_reply.started": "2024-01-16T22:44:11.292392Z"
    }
   },
   "outputs": [
    {
     "data": {
      "text/plain": [
       "'https://imsdb.com/scripts/12-Monkeys.html'"
      ]
     },
     "execution_count": 28,
     "metadata": {},
     "output_type": "execute_result"
    }
   ],
   "source": [
    "def make_script_url_from_tag(link_tag, abs_url = 'https://imsdb.com/all-scripts.html' ):\n",
    "    import urllib\n",
    "    parsed = urllib.parse.urlparse(abs_url)\n",
    "    # Saving base url for website\n",
    "    base_url = parsed.scheme + \"://\" + parsed.netloc\n",
    "    \n",
    "    # Use parse.quote to get correct path\n",
    "    # url_path  = urllib.parse.quote(link_tag['href'])\n",
    "    url_path = link_tag.text.replace(' ','-')\n",
    "    script_url = urllib.parse.urljoin(base_url,'scripts/'+ url_path+'.html')\n",
    "    return script_url\n",
    "    \n",
    "make_script_url_from_tag(demo_movie.find('a'))"
   ]
  },
  {
   "cell_type": "markdown",
   "id": "d1571908-a649-45bd-9e3f-4e29f58bd15c",
   "metadata": {},
   "source": [
    "## Making the DataFrame of Movie Script Listings"
   ]
  },
  {
   "cell_type": "code",
   "execution_count": 29,
   "id": "532f8f96-2dc2-43fb-9554-b729c76f3854",
   "metadata": {
    "execution": {
     "iopub.execute_input": "2024-01-16T22:44:11.297285Z",
     "iopub.status.busy": "2024-01-16T22:44:11.296910Z",
     "iopub.status.idle": "2024-01-16T22:44:11.300687Z",
     "shell.execute_reply": "2024-01-16T22:44:11.300157Z",
     "shell.execute_reply.started": "2024-01-16T22:44:11.297264Z"
    }
   },
   "outputs": [
    {
     "data": {
      "text/plain": [
       "<p><a href=\"/Movie Scripts/10 Things I Hate About You Script.html\" title=\"10 Things I Hate About You Script\">10 Things I Hate About You</a> (1997-11 Draft)<br/><i>Written by Karen McCullah Lutz,Kirsten Smith,William Shakespeare</i><br/></p>"
      ]
     },
     "execution_count": 29,
     "metadata": {},
     "output_type": "execute_result"
    }
   ],
   "source": [
    "tag"
   ]
  },
  {
   "cell_type": "code",
   "execution_count": 30,
   "id": "ffe88c11-fba0-440b-94d7-94fac38f0a0c",
   "metadata": {
    "execution": {
     "iopub.execute_input": "2024-01-16T22:44:11.301479Z",
     "iopub.status.busy": "2024-01-16T22:44:11.301365Z",
     "iopub.status.idle": "2024-01-16T22:44:11.305224Z",
     "shell.execute_reply": "2024-01-16T22:44:11.304290Z",
     "shell.execute_reply.started": "2024-01-16T22:44:11.301470Z"
    }
   },
   "outputs": [
    {
     "data": {
      "text/plain": [
       "'10 Things I Hate About You'"
      ]
     },
     "execution_count": 30,
     "metadata": {},
     "output_type": "execute_result"
    }
   ],
   "source": [
    "# Get Movie title\n",
    "movie_title = tag.a.text\n",
    "movie_title"
   ]
  },
  {
   "cell_type": "code",
   "execution_count": 31,
   "id": "0cbd6f0c-b6e4-44ba-95d8-6243ba6d5e5a",
   "metadata": {
    "execution": {
     "iopub.execute_input": "2024-01-16T22:44:11.306676Z",
     "iopub.status.busy": "2024-01-16T22:44:11.306493Z",
     "iopub.status.idle": "2024-01-16T22:44:11.311186Z",
     "shell.execute_reply": "2024-01-16T22:44:11.310546Z",
     "shell.execute_reply.started": "2024-01-16T22:44:11.306663Z"
    }
   },
   "outputs": [
    {
     "data": {
      "text/plain": [
       "'Written by Karen McCullah Lutz,Kirsten Smith,William Shakespeare'"
      ]
     },
     "execution_count": 31,
     "metadata": {},
     "output_type": "execute_result"
    }
   ],
   "source": [
    "author_string = tag.find('i').text\n",
    "author_string"
   ]
  },
  {
   "cell_type": "code",
   "execution_count": 32,
   "id": "d97fb479-55c7-4f16-b4a0-6f3a8df8c2a6",
   "metadata": {
    "execution": {
     "iopub.execute_input": "2024-01-16T22:44:11.312458Z",
     "iopub.status.busy": "2024-01-16T22:44:11.312138Z",
     "iopub.status.idle": "2024-01-16T22:44:11.315026Z",
     "shell.execute_reply": "2024-01-16T22:44:11.314726Z",
     "shell.execute_reply.started": "2024-01-16T22:44:11.312441Z"
    }
   },
   "outputs": [
    {
     "data": {
      "text/plain": [
       "['Written ', ' Karen McCullah Lutz,Kirsten Smith,William Shakespeare']"
      ]
     },
     "execution_count": 32,
     "metadata": {},
     "output_type": "execute_result"
    }
   ],
   "source": [
    "author_string.split('by')"
   ]
  },
  {
   "cell_type": "code",
   "execution_count": 33,
   "id": "4cb8052d-5902-4fb0-b5ed-98ce9f5a768e",
   "metadata": {
    "execution": {
     "iopub.execute_input": "2024-01-16T22:44:11.315639Z",
     "iopub.status.busy": "2024-01-16T22:44:11.315507Z",
     "iopub.status.idle": "2024-01-16T22:44:11.318953Z",
     "shell.execute_reply": "2024-01-16T22:44:11.318304Z",
     "shell.execute_reply.started": "2024-01-16T22:44:11.315629Z"
    }
   },
   "outputs": [
    {
     "data": {
      "text/plain": [
       "['Karen McCullah Lutz', 'Kirsten Smith', 'William Shakespeare']"
      ]
     },
     "execution_count": 33,
     "metadata": {},
     "output_type": "execute_result"
    }
   ],
   "source": [
    "# Author list\n",
    "author_list = author_string.split('by')[-1].strip().split(\",\")\n",
    "author_list"
   ]
  },
  {
   "cell_type": "markdown",
   "id": "d8d5b6e9-577f-497a-9875-9e664742f460",
   "metadata": {},
   "source": [
    "#### Use regex to get data / Draft ?"
   ]
  },
  {
   "cell_type": "code",
   "execution_count": 34,
   "id": "71e74252-3778-4ced-9def-6985b67ec8e8",
   "metadata": {
    "execution": {
     "iopub.execute_input": "2024-01-16T22:44:11.319738Z",
     "iopub.status.busy": "2024-01-16T22:44:11.319621Z",
     "iopub.status.idle": "2024-01-16T22:44:11.322870Z",
     "shell.execute_reply": "2024-01-16T22:44:11.322234Z",
     "shell.execute_reply.started": "2024-01-16T22:44:11.319729Z"
    }
   },
   "outputs": [
    {
     "data": {
      "text/plain": [
       "re.compile(r'(\\(.+?\\))', re.UNICODE)"
      ]
     },
     "execution_count": 34,
     "metadata": {},
     "output_type": "execute_result"
    }
   ],
   "source": [
    "import re\n",
    "expr_string = r\"(\\(.+?\\))\"\n",
    "expr = re.compile(expr_string)\n",
    "expr"
   ]
  },
  {
   "cell_type": "code",
   "execution_count": 35,
   "id": "5a91dbf9-6669-49dd-a633-dc6b3271c2e3",
   "metadata": {
    "execution": {
     "iopub.execute_input": "2024-01-16T22:44:11.323646Z",
     "iopub.status.busy": "2024-01-16T22:44:11.323536Z",
     "iopub.status.idle": "2024-01-16T22:44:11.327101Z",
     "shell.execute_reply": "2024-01-16T22:44:11.326633Z",
     "shell.execute_reply.started": "2024-01-16T22:44:11.323636Z"
    }
   },
   "outputs": [
    {
     "data": {
      "text/plain": [
       "'(1997-11 Draft)'"
      ]
     },
     "execution_count": 35,
     "metadata": {},
     "output_type": "execute_result"
    }
   ],
   "source": [
    "parentheses = expr.findall(tag.text)[0]\n",
    "parentheses"
   ]
  },
  {
   "cell_type": "code",
   "execution_count": 36,
   "id": "8e7a87f8-d6a2-4231-93b9-8355b5f4ac5d",
   "metadata": {
    "execution": {
     "iopub.execute_input": "2024-01-16T22:44:11.327754Z",
     "iopub.status.busy": "2024-01-16T22:44:11.327655Z",
     "iopub.status.idle": "2024-01-16T22:44:11.330498Z",
     "shell.execute_reply": "2024-01-16T22:44:11.330024Z",
     "shell.execute_reply.started": "2024-01-16T22:44:11.327745Z"
    }
   },
   "outputs": [
    {
     "name": "stdout",
     "output_type": "stream",
     "text": [
      "1997-11\n",
      "Draft\n"
     ]
    }
   ],
   "source": [
    "# Split into date and draft type\n",
    "# Added * to catch movies that had more complex draft types\n",
    "script_date,*script_type =  parentheses.strip(\"(\").strip(\")\").split(' ')\n",
    "\n",
    "# Accounting for movies with \"Updated Draft\"\n",
    "script_type = \" \".join(script_type)\n",
    "print(script_date, script_type,sep='\\n')"
   ]
  },
  {
   "cell_type": "code",
   "execution_count": 37,
   "id": "8700e4b0-ba99-4058-b9dc-578782e7cb1d",
   "metadata": {
    "execution": {
     "iopub.execute_input": "2024-01-16T22:44:11.331031Z",
     "iopub.status.busy": "2024-01-16T22:44:11.330938Z",
     "iopub.status.idle": "2024-01-16T22:44:11.333788Z",
     "shell.execute_reply": "2024-01-16T22:44:11.333413Z",
     "shell.execute_reply.started": "2024-01-16T22:44:11.331022Z"
    }
   },
   "outputs": [
    {
     "data": {
      "text/plain": [
       "'https://imsdb.com/Movie%20Scripts/10%20Things%20I%20Hate%20About%20You%20Script.html'"
      ]
     },
     "execution_count": 37,
     "metadata": {},
     "output_type": "execute_result"
    }
   ],
   "source": [
    "get_url_from_tag(tag.find('a'))"
   ]
  },
  {
   "cell_type": "code",
   "execution_count": 38,
   "id": "6c1bc790-9640-467b-ac2a-b03a59bdf888",
   "metadata": {
    "execution": {
     "iopub.execute_input": "2024-01-16T22:44:11.334485Z",
     "iopub.status.busy": "2024-01-16T22:44:11.334390Z",
     "iopub.status.idle": "2024-01-16T22:44:11.337869Z",
     "shell.execute_reply": "2024-01-16T22:44:11.337554Z",
     "shell.execute_reply.started": "2024-01-16T22:44:11.334476Z"
    }
   },
   "outputs": [],
   "source": [
    "def extract_scipt_info_from_tag(tag):\n",
    "    import re\n",
    "\n",
    "    # Get Movie title\n",
    "    movie_title = tag.a.text\n",
    "\n",
    "    # Get list of authors (as STRING)\n",
    "    author_string = tag.find('i').text.split('by')[-1].strip()\n",
    "\n",
    "    # Split parentheses\n",
    "    expr_string = r\"(\\(.+?\\))\"\n",
    "    expr = re.compile(expr_string)\n",
    "    parentheses = expr.findall(tag.text)[0]\n",
    "\n",
    "    # Split into date and draft type\n",
    "    # Added * to catch movies that had more complex draft types\n",
    "    script_date,*script_type =  parentheses.strip(\"(\").strip(\")\").split(' ')\n",
    "    \n",
    "    # Accounting for movies with \"Updated Draft\"\n",
    "    script_type = \" \".join(script_type)\n",
    "\n",
    "    #Movie url \n",
    "    movie_url = get_url_from_tag(tag.find('a'))\n",
    "\n",
    "    #Get direct script url\n",
    "    script_url = make_script_url_from_tag(tag.find('a'))\n",
    "\n",
    "    info = {'title':movie_title, 'author':author_string,'scipt date':script_date,\n",
    "           'script type':script_type,\n",
    "           'movie url':movie_url,\n",
    "            'script url':script_url}\n",
    "    return info"
   ]
  },
  {
   "cell_type": "code",
   "execution_count": 39,
   "id": "898733a0-7e5f-4d11-98a0-ecc65a44e86e",
   "metadata": {
    "execution": {
     "iopub.execute_input": "2024-01-16T22:44:11.338358Z",
     "iopub.status.busy": "2024-01-16T22:44:11.338271Z",
     "iopub.status.idle": "2024-01-16T22:44:11.341310Z",
     "shell.execute_reply": "2024-01-16T22:44:11.340737Z",
     "shell.execute_reply.started": "2024-01-16T22:44:11.338349Z"
    }
   },
   "outputs": [
    {
     "data": {
      "text/plain": [
       "{'title': '127 Hours',\n",
       " 'author': 'Simon Beaufoy,Danny Boyle',\n",
       " 'scipt date': 'Undated',\n",
       " 'script type': 'Draft',\n",
       " 'movie url': 'https://imsdb.com/Movie%20Scripts/127%20Hours%20Script.html',\n",
       " 'script url': 'https://imsdb.com/scripts/127-Hours.html'}"
      ]
     },
     "execution_count": 39,
     "metadata": {},
     "output_type": "execute_result"
    }
   ],
   "source": [
    "extract_scipt_info_from_tag(sibling_list[5])"
   ]
  },
  {
   "cell_type": "markdown",
   "id": "1525f849-fe4a-4c7c-a135-9ccc318968b3",
   "metadata": {},
   "source": []
  },
  {
   "cell_type": "markdown",
   "id": "a950f0e9-2c05-4043-984a-ad60aa127582",
   "metadata": {},
   "source": [
    "## Putting it all together "
   ]
  },
  {
   "cell_type": "code",
   "execution_count": 40,
   "id": "c94b8cc0-2b08-4002-b169-e7e2dcd3a55b",
   "metadata": {
    "execution": {
     "iopub.execute_input": "2024-01-16T22:44:11.342038Z",
     "iopub.status.busy": "2024-01-16T22:44:11.341919Z",
     "iopub.status.idle": "2024-01-16T22:44:11.344930Z",
     "shell.execute_reply": "2024-01-16T22:44:11.344261Z",
     "shell.execute_reply.started": "2024-01-16T22:44:11.342028Z"
    }
   },
   "outputs": [],
   "source": [
    "import pandas as pd\n",
    "from bs4 import BeautifulSoup\n",
    "import requests"
   ]
  },
  {
   "cell_type": "code",
   "execution_count": 41,
   "id": "bf9ff6c5-e67f-4314-b28d-46cd657ebd4c",
   "metadata": {
    "execution": {
     "iopub.execute_input": "2024-01-16T22:44:11.345600Z",
     "iopub.status.busy": "2024-01-16T22:44:11.345479Z",
     "iopub.status.idle": "2024-01-16T22:44:11.347443Z",
     "shell.execute_reply": "2024-01-16T22:44:11.347167Z",
     "shell.execute_reply.started": "2024-01-16T22:44:11.345590Z"
    }
   },
   "outputs": [],
   "source": [
    "url = \"https://imsdb.com/all-scripts.html\""
   ]
  },
  {
   "cell_type": "code",
   "execution_count": 42,
   "id": "c2789054-d2a7-4db3-8312-9bad7ef42475",
   "metadata": {
    "execution": {
     "iopub.execute_input": "2024-01-16T22:44:11.348118Z",
     "iopub.status.busy": "2024-01-16T22:44:11.348024Z",
     "iopub.status.idle": "2024-01-16T22:44:11.553838Z",
     "shell.execute_reply": "2024-01-16T22:44:11.553313Z",
     "shell.execute_reply.started": "2024-01-16T22:44:11.348109Z"
    }
   },
   "outputs": [
    {
     "name": "stdout",
     "output_type": "stream",
     "text": [
      "<html>\n",
      " <head>\n",
      "  <title>\n",
      "   All Movie Scripts at IMSDb\n",
      "  </title>\n",
      "  <meta content=\"Movie Scripts full listing at the Internet Movie Script Database.\" name=\"description\"/>\n",
      "  <meta content=\"Movie Scripts list, All Movie Scripts\" name=\"keywords\"/>\n",
      "  <meta content=\"width=device-width, initial-scale=1\" name=\"viewport\"/>\n",
      "  <meta content=\"true\" name=\"HandheldFriendly\"/>\n",
      "  <meta content=\"text/html; charset=utf-8\" http-equiv=\"content-type\"/>\n",
      "  <meta content=\"EN\" http-equiv=\"Content-Language\"/>\n",
      "  <meta content=\"Document\" name=\"objecttype\"/>\n",
      "  <meta content=\"INDEX, FOLLOW\" name=\"ROBOTS\"/>\n",
      "  <meta content=\"Movie scripts, Film scripts\" name=\"Subject\"/>\n",
      "  <meta content=\"General\" name=\"rating\"/>\n",
      "  <meta content=\"Global\" name=\"distribution\"/>\n",
      "  <meta content=\"2 days\" name=\"revisit-after\"/>\n",
      "  <link href=\"/style.css\" rel=\"stylesheet\" type=\"text/css\"/>\n",
      "  <script async=\"\" src=\"//pagead2.googlesyndication.com/pagead/js/adsbygoogle.js\">\n",
      "  </script>\n",
      " </head>\n",
      " <body bottommargin=\"0\" id=\"mainbody\" topmargin=\"0\n"
     ]
    }
   ],
   "source": [
    "resp = requests.get(url)\n",
    "soup = BeautifulSoup(resp.content)\n",
    "print(soup.prettify()[:1000])"
   ]
  },
  {
   "cell_type": "code",
   "execution_count": 43,
   "id": "b6ee11ba-bf7e-4f19-be76-8295ee80cfcb",
   "metadata": {
    "execution": {
     "iopub.execute_input": "2024-01-16T22:44:11.554910Z",
     "iopub.status.busy": "2024-01-16T22:44:11.554681Z",
     "iopub.status.idle": "2024-01-16T22:44:11.560124Z",
     "shell.execute_reply": "2024-01-16T22:44:11.559740Z",
     "shell.execute_reply.started": "2024-01-16T22:44:11.554890Z"
    }
   },
   "outputs": [],
   "source": [
    "# Get all headers\n",
    "found_headers = soup.find_all('h1')\n",
    "\n",
    "for h1 in found_headers:\n",
    "    if 'All Movie Scripts'.lower() in h1.text.lower():\n",
    "        # print('h1 is now correct tag')\n",
    "        break\n",
    "        \n",
    "# Get list of sibling tags\n",
    "sibling_list = [row for row in h1.next_siblings]\n"
   ]
  },
  {
   "cell_type": "code",
   "execution_count": 44,
   "id": "d9685bd8-9caf-42ca-9f98-7c276809459d",
   "metadata": {
    "execution": {
     "iopub.execute_input": "2024-01-16T22:44:11.560888Z",
     "iopub.status.busy": "2024-01-16T22:44:11.560761Z",
     "iopub.status.idle": "2024-01-16T22:44:11.629029Z",
     "shell.execute_reply": "2024-01-16T22:44:11.628557Z",
     "shell.execute_reply.started": "2024-01-16T22:44:11.560877Z"
    }
   },
   "outputs": [
    {
     "name": "stdout",
     "output_type": "stream",
     "text": [
      "[!] Error with tag #:1215\n"
     ]
    },
    {
     "data": {
      "text/plain": [
       "AttributeError(\"'NoneType' object has no attribute 'text'\")"
      ]
     },
     "metadata": {},
     "output_type": "display_data"
    },
    {
     "name": "stdout",
     "output_type": "stream",
     "text": [
      "[!] Error with tag #:1216\n"
     ]
    },
    {
     "data": {
      "text/plain": [
       "AttributeError(\"'NoneType' object has no attribute 'text'\")"
      ]
     },
     "metadata": {},
     "output_type": "display_data"
    },
    {
     "name": "stdout",
     "output_type": "stream",
     "text": [
      "[!] Error with tag #:1217\n"
     ]
    },
    {
     "data": {
      "text/plain": [
       "AttributeError(\"'NavigableString' object has no attribute 'a'\")"
      ]
     },
     "metadata": {},
     "output_type": "display_data"
    }
   ],
   "source": [
    "# Apply to all siblings in a loop\n",
    "script_data = []\n",
    "\n",
    "for i,tag in enumerate(sibling_list):\n",
    "    try:\n",
    "        info  = extract_scipt_info_from_tag(tag)\n",
    "        script_data.append(info)\n",
    "    except Exception as e:\n",
    "        print(f'[!] Error with tag #:{i}')\n",
    "        display(e)"
   ]
  },
  {
   "cell_type": "code",
   "execution_count": 45,
   "id": "80c1ceb1-5f44-4aec-918c-96ae64b3d696",
   "metadata": {
    "execution": {
     "iopub.execute_input": "2024-01-16T22:44:11.629915Z",
     "iopub.status.busy": "2024-01-16T22:44:11.629800Z",
     "iopub.status.idle": "2024-01-16T22:44:11.640106Z",
     "shell.execute_reply": "2024-01-16T22:44:11.639635Z",
     "shell.execute_reply.started": "2024-01-16T22:44:11.629905Z"
    }
   },
   "outputs": [
    {
     "data": {
      "text/html": [
       "<div>\n",
       "<style scoped>\n",
       "    .dataframe tbody tr th:only-of-type {\n",
       "        vertical-align: middle;\n",
       "    }\n",
       "\n",
       "    .dataframe tbody tr th {\n",
       "        vertical-align: top;\n",
       "    }\n",
       "\n",
       "    .dataframe thead th {\n",
       "        text-align: right;\n",
       "    }\n",
       "</style>\n",
       "<table border=\"1\" class=\"dataframe\">\n",
       "  <thead>\n",
       "    <tr style=\"text-align: right;\">\n",
       "      <th></th>\n",
       "      <th>title</th>\n",
       "      <th>author</th>\n",
       "      <th>scipt date</th>\n",
       "      <th>script type</th>\n",
       "      <th>movie url</th>\n",
       "      <th>script url</th>\n",
       "    </tr>\n",
       "  </thead>\n",
       "  <tbody>\n",
       "    <tr>\n",
       "      <th>0</th>\n",
       "      <td>10 Things I Hate About You</td>\n",
       "      <td>Karen McCullah Lutz,Kirsten Smith,William Shak...</td>\n",
       "      <td>1997-11</td>\n",
       "      <td>Draft</td>\n",
       "      <td>https://imsdb.com/Movie%20Scripts/10%20Things%...</td>\n",
       "      <td>https://imsdb.com/scripts/10-Things-I-Hate-Abo...</td>\n",
       "    </tr>\n",
       "    <tr>\n",
       "      <th>1</th>\n",
       "      <td>12</td>\n",
       "      <td>Lawrence Bridges</td>\n",
       "      <td>Undated</td>\n",
       "      <td>Draft</td>\n",
       "      <td>https://imsdb.com/Movie%20Scripts/12%20Script....</td>\n",
       "      <td>https://imsdb.com/scripts/12.html</td>\n",
       "    </tr>\n",
       "    <tr>\n",
       "      <th>2</th>\n",
       "      <td>12 and Holding</td>\n",
       "      <td>Anthony Cipriano</td>\n",
       "      <td>2004-04</td>\n",
       "      <td>Draft</td>\n",
       "      <td>https://imsdb.com/Movie%20Scripts/12%20and%20H...</td>\n",
       "      <td>https://imsdb.com/scripts/12-and-Holding.html</td>\n",
       "    </tr>\n",
       "    <tr>\n",
       "      <th>3</th>\n",
       "      <td>12 Monkeys</td>\n",
       "      <td>David Peoples,Janet Peoples</td>\n",
       "      <td>1994-06</td>\n",
       "      <td>Draft</td>\n",
       "      <td>https://imsdb.com/Movie%20Scripts/12%20Monkeys...</td>\n",
       "      <td>https://imsdb.com/scripts/12-Monkeys.html</td>\n",
       "    </tr>\n",
       "    <tr>\n",
       "      <th>4</th>\n",
       "      <td>12 Years a Slave</td>\n",
       "      <td>John Ridley</td>\n",
       "      <td>Undated</td>\n",
       "      <td>Draft</td>\n",
       "      <td>https://imsdb.com/Movie%20Scripts/12%20Years%2...</td>\n",
       "      <td>https://imsdb.com/scripts/12-Years-a-Slave.html</td>\n",
       "    </tr>\n",
       "    <tr>\n",
       "      <th>...</th>\n",
       "      <td>...</td>\n",
       "      <td>...</td>\n",
       "      <td>...</td>\n",
       "      <td>...</td>\n",
       "      <td>...</td>\n",
       "      <td>...</td>\n",
       "    </tr>\n",
       "    <tr>\n",
       "      <th>1210</th>\n",
       "      <td>You've Got Mail</td>\n",
       "      <td>Nora Ephron,Delia Ephron</td>\n",
       "      <td>1998-02</td>\n",
       "      <td>Draft</td>\n",
       "      <td>https://imsdb.com/Movie%20Scripts/You%27ve%20G...</td>\n",
       "      <td>https://imsdb.com/scripts/You've-Got-Mail.html</td>\n",
       "    </tr>\n",
       "    <tr>\n",
       "      <th>1211</th>\n",
       "      <td>Youth in Revolt</td>\n",
       "      <td>Gustin Nash</td>\n",
       "      <td>2007-07</td>\n",
       "      <td>Draft</td>\n",
       "      <td>https://imsdb.com/Movie%20Scripts/Youth%20in%2...</td>\n",
       "      <td>https://imsdb.com/scripts/Youth-in-Revolt.html</td>\n",
       "    </tr>\n",
       "    <tr>\n",
       "      <th>1212</th>\n",
       "      <td>Zero Dark Thirty</td>\n",
       "      <td>Mark Boal</td>\n",
       "      <td>2011-10</td>\n",
       "      <td>Draft</td>\n",
       "      <td>https://imsdb.com/Movie%20Scripts/Zero%20Dark%...</td>\n",
       "      <td>https://imsdb.com/scripts/Zero-Dark-Thirty.html</td>\n",
       "    </tr>\n",
       "    <tr>\n",
       "      <th>1213</th>\n",
       "      <td>Zerophilia</td>\n",
       "      <td>Martin Curland</td>\n",
       "      <td>2004-03</td>\n",
       "      <td>Draft</td>\n",
       "      <td>https://imsdb.com/Movie%20Scripts/Zerophilia%2...</td>\n",
       "      <td>https://imsdb.com/scripts/Zerophilia.html</td>\n",
       "    </tr>\n",
       "    <tr>\n",
       "      <th>1214</th>\n",
       "      <td>Zootopia</td>\n",
       "      <td>Jared Bush,Phil Johnston</td>\n",
       "      <td>Undated</td>\n",
       "      <td>Draft</td>\n",
       "      <td>https://imsdb.com/Movie%20Scripts/Zootopia%20S...</td>\n",
       "      <td>https://imsdb.com/scripts/Zootopia.html</td>\n",
       "    </tr>\n",
       "  </tbody>\n",
       "</table>\n",
       "<p>1215 rows × 6 columns</p>\n",
       "</div>"
      ],
      "text/plain": [
       "                           title  \\\n",
       "0     10 Things I Hate About You   \n",
       "1                             12   \n",
       "2                 12 and Holding   \n",
       "3                     12 Monkeys   \n",
       "4               12 Years a Slave   \n",
       "...                          ...   \n",
       "1210             You've Got Mail   \n",
       "1211             Youth in Revolt   \n",
       "1212            Zero Dark Thirty   \n",
       "1213                  Zerophilia   \n",
       "1214                    Zootopia   \n",
       "\n",
       "                                                 author scipt date  \\\n",
       "0     Karen McCullah Lutz,Kirsten Smith,William Shak...    1997-11   \n",
       "1                                      Lawrence Bridges    Undated   \n",
       "2                                      Anthony Cipriano    2004-04   \n",
       "3                           David Peoples,Janet Peoples    1994-06   \n",
       "4                                           John Ridley    Undated   \n",
       "...                                                 ...        ...   \n",
       "1210                           Nora Ephron,Delia Ephron    1998-02   \n",
       "1211                                        Gustin Nash    2007-07   \n",
       "1212                                          Mark Boal    2011-10   \n",
       "1213                                     Martin Curland    2004-03   \n",
       "1214                           Jared Bush,Phil Johnston    Undated   \n",
       "\n",
       "     script type                                          movie url  \\\n",
       "0          Draft  https://imsdb.com/Movie%20Scripts/10%20Things%...   \n",
       "1          Draft  https://imsdb.com/Movie%20Scripts/12%20Script....   \n",
       "2          Draft  https://imsdb.com/Movie%20Scripts/12%20and%20H...   \n",
       "3          Draft  https://imsdb.com/Movie%20Scripts/12%20Monkeys...   \n",
       "4          Draft  https://imsdb.com/Movie%20Scripts/12%20Years%2...   \n",
       "...          ...                                                ...   \n",
       "1210       Draft  https://imsdb.com/Movie%20Scripts/You%27ve%20G...   \n",
       "1211       Draft  https://imsdb.com/Movie%20Scripts/Youth%20in%2...   \n",
       "1212       Draft  https://imsdb.com/Movie%20Scripts/Zero%20Dark%...   \n",
       "1213       Draft  https://imsdb.com/Movie%20Scripts/Zerophilia%2...   \n",
       "1214       Draft  https://imsdb.com/Movie%20Scripts/Zootopia%20S...   \n",
       "\n",
       "                                             script url  \n",
       "0     https://imsdb.com/scripts/10-Things-I-Hate-Abo...  \n",
       "1                     https://imsdb.com/scripts/12.html  \n",
       "2         https://imsdb.com/scripts/12-and-Holding.html  \n",
       "3             https://imsdb.com/scripts/12-Monkeys.html  \n",
       "4       https://imsdb.com/scripts/12-Years-a-Slave.html  \n",
       "...                                                 ...  \n",
       "1210     https://imsdb.com/scripts/You've-Got-Mail.html  \n",
       "1211     https://imsdb.com/scripts/Youth-in-Revolt.html  \n",
       "1212    https://imsdb.com/scripts/Zero-Dark-Thirty.html  \n",
       "1213          https://imsdb.com/scripts/Zerophilia.html  \n",
       "1214            https://imsdb.com/scripts/Zootopia.html  \n",
       "\n",
       "[1215 rows x 6 columns]"
      ]
     },
     "execution_count": 45,
     "metadata": {},
     "output_type": "execute_result"
    }
   ],
   "source": [
    "df = pd.DataFrame(script_data)\n",
    "df"
   ]
  },
  {
   "cell_type": "markdown",
   "id": "48ad7c56-18eb-413f-8dfb-cb882c214f88",
   "metadata": {},
   "source": [
    "### Verify Resuls"
   ]
  },
  {
   "cell_type": "code",
   "execution_count": 46,
   "id": "b3c24512-71fa-4d6a-8827-dcf5cb3f34d9",
   "metadata": {
    "execution": {
     "iopub.execute_input": "2024-01-16T22:44:11.640722Z",
     "iopub.status.busy": "2024-01-16T22:44:11.640625Z",
     "iopub.status.idle": "2024-01-16T22:44:11.644758Z",
     "shell.execute_reply": "2024-01-16T22:44:11.644311Z",
     "shell.execute_reply.started": "2024-01-16T22:44:11.640714Z"
    }
   },
   "outputs": [
    {
     "data": {
      "text/plain": [
       "Draft                     980\n",
       "Shooting draft             57\n",
       "Transcript                 31\n",
       "Final draft                25\n",
       "Shooting script            19\n",
       "First draft                16\n",
       "Revised draft              13\n",
       "Second draft               12\n",
       "Fourth draft                6\n",
       "Production draft            5\n",
       "Early draft                 4\n",
       "Shooting Draft              4\n",
       "                            3\n",
       "Third draft                 3\n",
       "Final shooting script       2\n",
       "Production Draft            2\n",
       "Early Draft                 2\n",
       "Shooting Script             2\n",
       "Original draft              1\n",
       "Poltergeist Treatment       1\n",
       "Final script                1\n",
       "Late production draft       1\n",
       "script                      1\n",
       "Revised first draft         1\n",
       "of War                      1\n",
       "Screening script            1\n",
       "3rd Draft Rewrite           1\n",
       "Final screening script      1\n",
       "Bijou                       1\n",
       "Fifth draft                 1\n",
       "Fourth Draft                1\n",
       "Second Draft                1\n",
       "Godzilla                    1\n",
       "Final shooting draft        1\n",
       "Rough draft                 1\n",
       "Studio draft                1\n",
       "Full Tan Draft              1\n",
       "Revised second draft        1\n",
       "Seventh draft               1\n",
       "Evil Dead II: Dead b        1\n",
       "Evil Dead                   1\n",
       "Second Draft Polish         1\n",
       "Paris draft                 1\n",
       "Adapted Screenplay          1\n",
       "First Draft                 1\n",
       "Adventure                   1\n",
       "Final Shooting Script       1\n",
       "Name: script type, dtype: int64"
      ]
     },
     "execution_count": 46,
     "metadata": {},
     "output_type": "execute_result"
    }
   ],
   "source": [
    "df['script type'].value_counts()"
   ]
  },
  {
   "cell_type": "markdown",
   "id": "b25a0f77-bb55-4010-b949-61237261e4d9",
   "metadata": {},
   "source": [
    "### Save to CSV"
   ]
  },
  {
   "cell_type": "code",
   "execution_count": 47,
   "id": "83d79890-1f02-4ebd-8b10-cf8fd7dda13b",
   "metadata": {
    "execution": {
     "iopub.execute_input": "2024-01-16T22:44:11.645665Z",
     "iopub.status.busy": "2024-01-16T22:44:11.645512Z",
     "iopub.status.idle": "2024-01-16T22:44:11.649036Z",
     "shell.execute_reply": "2024-01-16T22:44:11.648586Z",
     "shell.execute_reply.started": "2024-01-16T22:44:11.645651Z"
    }
   },
   "outputs": [
    {
     "data": {
      "text/plain": [
       "'Data-NLP/all-scripts-info.csv'"
      ]
     },
     "execution_count": 47,
     "metadata": {},
     "output_type": "execute_result"
    }
   ],
   "source": [
    "import os\n",
    "# folder = \"Data-NLP/scripts/\"\n",
    "# SET VARS FOR LOOP\n",
    "FOLDER = \"Data-NLP/\"\n",
    "FOLDER_SCRIPTS = f\"{FOLDER}scripts/\"\n",
    "os.makedirs(FOLDER_SCRIPTS,exist_ok=True)\n",
    "\n",
    "fname = FOLDER + 'all-scripts-info.csv'\n",
    "fname"
   ]
  },
  {
   "cell_type": "code",
   "execution_count": 48,
   "id": "25c1243c-571d-4471-960e-75b3b84c4aff",
   "metadata": {
    "execution": {
     "iopub.execute_input": "2024-01-16T22:44:11.649757Z",
     "iopub.status.busy": "2024-01-16T22:44:11.649640Z",
     "iopub.status.idle": "2024-01-16T22:44:11.652855Z",
     "shell.execute_reply": "2024-01-16T22:44:11.652516Z",
     "shell.execute_reply.started": "2024-01-16T22:44:11.649747Z"
    }
   },
   "outputs": [
    {
     "data": {
      "text/plain": [
       "'Data-NLP/scripts/'"
      ]
     },
     "execution_count": 48,
     "metadata": {},
     "output_type": "execute_result"
    }
   ],
   "source": [
    "FOLDER_SCRIPTS"
   ]
  },
  {
   "cell_type": "code",
   "execution_count": 49,
   "id": "594c6bf0-d830-4d1b-b168-df8633944160",
   "metadata": {
    "execution": {
     "iopub.execute_input": "2024-01-16T22:44:11.653366Z",
     "iopub.status.busy": "2024-01-16T22:44:11.653275Z",
     "iopub.status.idle": "2024-01-16T22:44:11.661275Z",
     "shell.execute_reply": "2024-01-16T22:44:11.660761Z",
     "shell.execute_reply.started": "2024-01-16T22:44:11.653357Z"
    }
   },
   "outputs": [],
   "source": [
    "# Save table of script info\n",
    "df.to_csv(fname, index=False)"
   ]
  },
  {
   "cell_type": "markdown",
   "id": "69cf64a3-f0b5-4013-91cc-0079548e1221",
   "metadata": {},
   "source": [
    "# Downloading Each Script"
   ]
  },
  {
   "cell_type": "code",
   "execution_count": 50,
   "id": "a7f518ac-dbb6-4738-b641-1b40e687eab8",
   "metadata": {
    "execution": {
     "iopub.execute_input": "2024-01-16T22:44:11.661962Z",
     "iopub.status.busy": "2024-01-16T22:44:11.661839Z",
     "iopub.status.idle": "2024-01-16T22:44:11.672510Z",
     "shell.execute_reply": "2024-01-16T22:44:11.671964Z",
     "shell.execute_reply.started": "2024-01-16T22:44:11.661951Z"
    }
   },
   "outputs": [
    {
     "data": {
      "text/html": [
       "<div>\n",
       "<style scoped>\n",
       "    .dataframe tbody tr th:only-of-type {\n",
       "        vertical-align: middle;\n",
       "    }\n",
       "\n",
       "    .dataframe tbody tr th {\n",
       "        vertical-align: top;\n",
       "    }\n",
       "\n",
       "    .dataframe thead th {\n",
       "        text-align: right;\n",
       "    }\n",
       "</style>\n",
       "<table border=\"1\" class=\"dataframe\">\n",
       "  <thead>\n",
       "    <tr style=\"text-align: right;\">\n",
       "      <th></th>\n",
       "      <th>title</th>\n",
       "      <th>author</th>\n",
       "      <th>scipt date</th>\n",
       "      <th>script type</th>\n",
       "      <th>movie url</th>\n",
       "      <th>script url</th>\n",
       "    </tr>\n",
       "  </thead>\n",
       "  <tbody>\n",
       "    <tr>\n",
       "      <th>0</th>\n",
       "      <td>10 Things I Hate About You</td>\n",
       "      <td>Karen McCullah Lutz,Kirsten Smith,William Shak...</td>\n",
       "      <td>1997-11</td>\n",
       "      <td>Draft</td>\n",
       "      <td>https://imsdb.com/Movie%20Scripts/10%20Things%...</td>\n",
       "      <td>https://imsdb.com/scripts/10-Things-I-Hate-Abo...</td>\n",
       "    </tr>\n",
       "    <tr>\n",
       "      <th>1</th>\n",
       "      <td>12</td>\n",
       "      <td>Lawrence Bridges</td>\n",
       "      <td>Undated</td>\n",
       "      <td>Draft</td>\n",
       "      <td>https://imsdb.com/Movie%20Scripts/12%20Script....</td>\n",
       "      <td>https://imsdb.com/scripts/12.html</td>\n",
       "    </tr>\n",
       "    <tr>\n",
       "      <th>2</th>\n",
       "      <td>12 and Holding</td>\n",
       "      <td>Anthony Cipriano</td>\n",
       "      <td>2004-04</td>\n",
       "      <td>Draft</td>\n",
       "      <td>https://imsdb.com/Movie%20Scripts/12%20and%20H...</td>\n",
       "      <td>https://imsdb.com/scripts/12-and-Holding.html</td>\n",
       "    </tr>\n",
       "    <tr>\n",
       "      <th>3</th>\n",
       "      <td>12 Monkeys</td>\n",
       "      <td>David Peoples,Janet Peoples</td>\n",
       "      <td>1994-06</td>\n",
       "      <td>Draft</td>\n",
       "      <td>https://imsdb.com/Movie%20Scripts/12%20Monkeys...</td>\n",
       "      <td>https://imsdb.com/scripts/12-Monkeys.html</td>\n",
       "    </tr>\n",
       "    <tr>\n",
       "      <th>4</th>\n",
       "      <td>12 Years a Slave</td>\n",
       "      <td>John Ridley</td>\n",
       "      <td>Undated</td>\n",
       "      <td>Draft</td>\n",
       "      <td>https://imsdb.com/Movie%20Scripts/12%20Years%2...</td>\n",
       "      <td>https://imsdb.com/scripts/12-Years-a-Slave.html</td>\n",
       "    </tr>\n",
       "    <tr>\n",
       "      <th>...</th>\n",
       "      <td>...</td>\n",
       "      <td>...</td>\n",
       "      <td>...</td>\n",
       "      <td>...</td>\n",
       "      <td>...</td>\n",
       "      <td>...</td>\n",
       "    </tr>\n",
       "    <tr>\n",
       "      <th>1210</th>\n",
       "      <td>You've Got Mail</td>\n",
       "      <td>Nora Ephron,Delia Ephron</td>\n",
       "      <td>1998-02</td>\n",
       "      <td>Draft</td>\n",
       "      <td>https://imsdb.com/Movie%20Scripts/You%27ve%20G...</td>\n",
       "      <td>https://imsdb.com/scripts/You've-Got-Mail.html</td>\n",
       "    </tr>\n",
       "    <tr>\n",
       "      <th>1211</th>\n",
       "      <td>Youth in Revolt</td>\n",
       "      <td>Gustin Nash</td>\n",
       "      <td>2007-07</td>\n",
       "      <td>Draft</td>\n",
       "      <td>https://imsdb.com/Movie%20Scripts/Youth%20in%2...</td>\n",
       "      <td>https://imsdb.com/scripts/Youth-in-Revolt.html</td>\n",
       "    </tr>\n",
       "    <tr>\n",
       "      <th>1212</th>\n",
       "      <td>Zero Dark Thirty</td>\n",
       "      <td>Mark Boal</td>\n",
       "      <td>2011-10</td>\n",
       "      <td>Draft</td>\n",
       "      <td>https://imsdb.com/Movie%20Scripts/Zero%20Dark%...</td>\n",
       "      <td>https://imsdb.com/scripts/Zero-Dark-Thirty.html</td>\n",
       "    </tr>\n",
       "    <tr>\n",
       "      <th>1213</th>\n",
       "      <td>Zerophilia</td>\n",
       "      <td>Martin Curland</td>\n",
       "      <td>2004-03</td>\n",
       "      <td>Draft</td>\n",
       "      <td>https://imsdb.com/Movie%20Scripts/Zerophilia%2...</td>\n",
       "      <td>https://imsdb.com/scripts/Zerophilia.html</td>\n",
       "    </tr>\n",
       "    <tr>\n",
       "      <th>1214</th>\n",
       "      <td>Zootopia</td>\n",
       "      <td>Jared Bush,Phil Johnston</td>\n",
       "      <td>Undated</td>\n",
       "      <td>Draft</td>\n",
       "      <td>https://imsdb.com/Movie%20Scripts/Zootopia%20S...</td>\n",
       "      <td>https://imsdb.com/scripts/Zootopia.html</td>\n",
       "    </tr>\n",
       "  </tbody>\n",
       "</table>\n",
       "<p>1215 rows × 6 columns</p>\n",
       "</div>"
      ],
      "text/plain": [
       "                           title  \\\n",
       "0     10 Things I Hate About You   \n",
       "1                             12   \n",
       "2                 12 and Holding   \n",
       "3                     12 Monkeys   \n",
       "4               12 Years a Slave   \n",
       "...                          ...   \n",
       "1210             You've Got Mail   \n",
       "1211             Youth in Revolt   \n",
       "1212            Zero Dark Thirty   \n",
       "1213                  Zerophilia   \n",
       "1214                    Zootopia   \n",
       "\n",
       "                                                 author scipt date  \\\n",
       "0     Karen McCullah Lutz,Kirsten Smith,William Shak...    1997-11   \n",
       "1                                      Lawrence Bridges    Undated   \n",
       "2                                      Anthony Cipriano    2004-04   \n",
       "3                           David Peoples,Janet Peoples    1994-06   \n",
       "4                                           John Ridley    Undated   \n",
       "...                                                 ...        ...   \n",
       "1210                           Nora Ephron,Delia Ephron    1998-02   \n",
       "1211                                        Gustin Nash    2007-07   \n",
       "1212                                          Mark Boal    2011-10   \n",
       "1213                                     Martin Curland    2004-03   \n",
       "1214                           Jared Bush,Phil Johnston    Undated   \n",
       "\n",
       "     script type                                          movie url  \\\n",
       "0          Draft  https://imsdb.com/Movie%20Scripts/10%20Things%...   \n",
       "1          Draft  https://imsdb.com/Movie%20Scripts/12%20Script....   \n",
       "2          Draft  https://imsdb.com/Movie%20Scripts/12%20and%20H...   \n",
       "3          Draft  https://imsdb.com/Movie%20Scripts/12%20Monkeys...   \n",
       "4          Draft  https://imsdb.com/Movie%20Scripts/12%20Years%2...   \n",
       "...          ...                                                ...   \n",
       "1210       Draft  https://imsdb.com/Movie%20Scripts/You%27ve%20G...   \n",
       "1211       Draft  https://imsdb.com/Movie%20Scripts/Youth%20in%2...   \n",
       "1212       Draft  https://imsdb.com/Movie%20Scripts/Zero%20Dark%...   \n",
       "1213       Draft  https://imsdb.com/Movie%20Scripts/Zerophilia%2...   \n",
       "1214       Draft  https://imsdb.com/Movie%20Scripts/Zootopia%20S...   \n",
       "\n",
       "                                             script url  \n",
       "0     https://imsdb.com/scripts/10-Things-I-Hate-Abo...  \n",
       "1                     https://imsdb.com/scripts/12.html  \n",
       "2         https://imsdb.com/scripts/12-and-Holding.html  \n",
       "3             https://imsdb.com/scripts/12-Monkeys.html  \n",
       "4       https://imsdb.com/scripts/12-Years-a-Slave.html  \n",
       "...                                                 ...  \n",
       "1210     https://imsdb.com/scripts/You've-Got-Mail.html  \n",
       "1211     https://imsdb.com/scripts/Youth-in-Revolt.html  \n",
       "1212    https://imsdb.com/scripts/Zero-Dark-Thirty.html  \n",
       "1213          https://imsdb.com/scripts/Zerophilia.html  \n",
       "1214            https://imsdb.com/scripts/Zootopia.html  \n",
       "\n",
       "[1215 rows x 6 columns]"
      ]
     },
     "execution_count": 50,
     "metadata": {},
     "output_type": "execute_result"
    }
   ],
   "source": [
    "import pandas as pd\n",
    "from bs4 import BeautifulSoup\n",
    "import requests\n",
    "import os\n",
    "# folder = \"Data-NLP/scripts/\"\n",
    "# SET VARS FOR LOOP\n",
    "# FOLDER = \"Data-NLP/\"\n",
    "# FOLDER_SCRIPTS = f\"{FOLDER}scripts/\"\n",
    "# os.makedirs(FOLDER_SCRIPTS,exist_ok=True)\n",
    "\n",
    "# fname = FOLDER + 'all-scripts-info.csv'\n",
    "df =  pd.read_csv(fname)\n",
    "df"
   ]
  },
  {
   "cell_type": "markdown",
   "id": "b7b28381-d4ad-4da7-bb69-afdab6e98c98",
   "metadata": {
    "execution": {
     "iopub.execute_input": "2024-01-16T20:03:48.263545Z",
     "iopub.status.busy": "2024-01-16T20:03:48.263155Z",
     "iopub.status.idle": "2024-01-16T20:03:48.269380Z",
     "shell.execute_reply": "2024-01-16T20:03:48.268444Z",
     "shell.execute_reply.started": "2024-01-16T20:03:48.263521Z"
    }
   },
   "source": [
    "## Scrape script from script url"
   ]
  },
  {
   "cell_type": "code",
   "execution_count": 51,
   "id": "7db49f4b-569b-4dcc-8d1a-a3ab7255775f",
   "metadata": {
    "execution": {
     "iopub.execute_input": "2024-01-16T22:44:11.673566Z",
     "iopub.status.busy": "2024-01-16T22:44:11.673101Z",
     "iopub.status.idle": "2024-01-16T22:44:11.677712Z",
     "shell.execute_reply": "2024-01-16T22:44:11.676930Z",
     "shell.execute_reply.started": "2024-01-16T22:44:11.673550Z"
    }
   },
   "outputs": [
    {
     "data": {
      "text/plain": [
       "title                                                 12 Monkeys\n",
       "author                               David Peoples,Janet Peoples\n",
       "scipt date                                               1994-06\n",
       "script type                                                Draft\n",
       "movie url      https://imsdb.com/Movie%20Scripts/12%20Monkeys...\n",
       "script url             https://imsdb.com/scripts/12-Monkeys.html\n",
       "Name: 3, dtype: object"
      ]
     },
     "execution_count": 51,
     "metadata": {},
     "output_type": "execute_result"
    }
   ],
   "source": [
    "df.loc[demo_index]"
   ]
  },
  {
   "cell_type": "code",
   "execution_count": 52,
   "id": "01efb1f1-d07e-4228-8abd-5fe248acfdbf",
   "metadata": {
    "execution": {
     "iopub.execute_input": "2024-01-16T22:44:11.678373Z",
     "iopub.status.busy": "2024-01-16T22:44:11.678249Z",
     "iopub.status.idle": "2024-01-16T22:44:11.859150Z",
     "shell.execute_reply": "2024-01-16T22:44:11.858770Z",
     "shell.execute_reply.started": "2024-01-16T22:44:11.678363Z"
    }
   },
   "outputs": [
    {
     "name": "stdout",
     "output_type": "stream",
     "text": [
      "<html>\n",
      " <head>\n",
      "  <!-- Google tag (gtag.js) -->\n",
      "  <script async=\"\" src=\"https://www.googletagmanager.com/gtag/js?id=G-W5BXG8HCH3\">\n",
      "  </script>\n",
      "  <script>\n",
      "   window.dataLayer = window.dataLayer || [];\n",
      "  function gtag(){dataLayer.push(arguments);}\n",
      "  gtag('js', new Date());\n",
      "\n",
      "  gtag('config', 'G-W5BXG8HCH3');\n",
      "  </script>\n",
      "  <meta content=\"width=device-width, initial-scale=1\" name=\"viewport\"/>\n",
      "  <meta content=\"true\" name=\"HandheldFriendly\"/>\n",
      "  <meta content=\"text/html; charset=utf-8\" http-equiv=\"content-type\"/>\n",
      "  <meta content=\"EN\" http-equiv=\"Content-Language\"/>\n",
      "  <meta content=\"Document\" name=\"objecttype\"/>\n",
      "  <meta content=\"INDEX, FOLLOW\" name=\"ROBOTS\"/>\n",
      "  <meta content=\"Movie scripts, Film scripts\" name=\"Subject\"/>\n",
      "  <meta content=\"General\" name=\"rating\"/>\n",
      "  <meta content=\"Global\" name=\"distribution\"/>\n",
      "  <meta content=\"2 days\" name=\"revisit-after\"/>\n",
      "  <link href=\"/style.css\" rel=\"stylesheet\" type=\"text/css\"/>\n",
      " </head>\n",
      " <body bottommargin=\"0\" id=\"mainbody\" topmargin=\"0\">\n",
      "  <table border=\"0\" cellpadding=\"0\" cellspacing=\"0\" class=\"body\" width=\"99%\">\n",
      "   <tr>\n",
      "    <td bgcolor=\"#FF0000\" valign=\"bottom\">\n",
      "     <a href=\"https://imsdb.com\" title=\"The Internet Movie Script Database\">\n",
      "      <img border=\"0\" src=\"/images/logo_top.gif\"/>\n",
      "     </a>\n",
      "    </td>\n",
      "    <td bgcolor=\"#FF0000\">\n",
      "     <center>\n",
      "      <font color=\"#FFFFFF\">\n",
      "       <h1>\n",
      "        The Internet Movie Script Database (IMSDb)\n",
      "       </h1>\n",
      "      </font>\n",
      "     </center>\n",
      "    </td>\n",
      "   </tr>\n",
      "   <tr>\n",
      "    <td background=\"/images/reel.gif\" colspan=\"2\" height=\"13\">\n",
      "     <a href=\"https://imsdb.com\" title=\"The Internet Movie Script Database\">\n",
      "      <img border=\"0\" src=\"/images/logo_middle.gif\"/>\n",
      "     </a>\n",
      "    </td>\n",
      "   </tr>\n",
      "   <tr>\n",
      "    <td class=\"smalltxt\" valign=\"top\" width=\"170\">\n",
      "     <a href=\"https://imsdb.com\" title=\"The Internet Movie Script Database\">\n",
      "      <img border=\"0\" src=\"/images/logo_bottom.gif\" width=\"170\"/>\n",
      "     </a>\n",
      "     <br/>\n",
      "     <center>\n",
      "      <span class=\"smalltxt\">\n",
      "       The web's largest\n",
      "       <br/>\n",
      "       m\n"
     ]
    }
   ],
   "source": [
    "# Get new soup for current movie\n",
    "resp = requests.get(df.loc[demo_index,'script url'])\n",
    "soup = BeautifulSoup(resp.content)\n",
    "print(soup.prettify()[:2000])"
   ]
  },
  {
   "cell_type": "code",
   "execution_count": 53,
   "id": "3483e9c4-0cb2-4c1b-8cab-ac64758cd2c3",
   "metadata": {
    "execution": {
     "iopub.execute_input": "2024-01-16T22:44:11.860055Z",
     "iopub.status.busy": "2024-01-16T22:44:11.859929Z",
     "iopub.status.idle": "2024-01-16T22:44:11.866326Z",
     "shell.execute_reply": "2024-01-16T22:44:11.865935Z",
     "shell.execute_reply.started": "2024-01-16T22:44:11.860046Z"
    }
   },
   "outputs": [
    {
     "data": {
      "text/plain": [
       "1"
      ]
     },
     "execution_count": 53,
     "metadata": {},
     "output_type": "execute_result"
    }
   ],
   "source": [
    "# Find all of the tag with the scrtext class\n",
    "script_tag_list = soup.body.find_all(attrs={'class':'scrtext'})\n",
    "len(script_tag_list)"
   ]
  },
  {
   "cell_type": "code",
   "execution_count": 54,
   "id": "fef6bc31-9f73-47f4-9bac-78c18116f409",
   "metadata": {
    "execution": {
     "iopub.execute_input": "2024-01-16T22:44:11.867392Z",
     "iopub.status.busy": "2024-01-16T22:44:11.867125Z",
     "iopub.status.idle": "2024-01-16T22:44:11.871798Z",
     "shell.execute_reply": "2024-01-16T22:44:11.871303Z",
     "shell.execute_reply.started": "2024-01-16T22:44:11.867371Z"
    }
   },
   "outputs": [
    {
     "data": {
      "text/plain": [
       "15"
      ]
     },
     "execution_count": 54,
     "metadata": {},
     "output_type": "execute_result"
    }
   ],
   "source": [
    "# Find the 1 tag with the scrtext class\n",
    "script_tag = soup.body.find(attrs={'class':'scrtext'})\n",
    "len(script_tag)"
   ]
  },
  {
   "cell_type": "code",
   "execution_count": 55,
   "id": "904fbcc7-f767-4a87-85bd-56f01a32c4ac",
   "metadata": {
    "execution": {
     "iopub.execute_input": "2024-01-16T22:44:11.872532Z",
     "iopub.status.busy": "2024-01-16T22:44:11.872404Z",
     "iopub.status.idle": "2024-01-16T22:44:11.894663Z",
     "shell.execute_reply": "2024-01-16T22:44:11.892865Z",
     "shell.execute_reply.started": "2024-01-16T22:44:11.872522Z"
    },
    "scrolled": true
   },
   "outputs": [
    {
     "name": "stdout",
     "output_type": "stream",
     "text": [
      "<td class=\"scrtext\">\n",
      " <pre>\n",
      "\n",
      "<script>\n",
      "<b><!--\n",
      "</b>if (window!= top)\n",
      "top.location.href=location.href\n",
      "<b>// -->\n",
      "</b></script>\n",
      "<title>Twelve Monkeys</title>\n",
      "\n",
      "<pre>\n",
      "<b>\t\t\t\tTWELVE MONKEYS\n",
      "</b><b>\t    \n",
      "</b>\t\t          An original screenplay by\n",
      "\n",
      "\t\t\t\tDavid Peoples\n",
      "<b>  \t\t\t\t     &amp;\n",
      "</b>\t\t\t\tJanet Peoples\n",
      "\n",
      "\t\t\t\t Inspired by\n",
      "<b>\t    \n",
      "</b>\t\t\tLA JETEE, a Chris Marker Film\n",
      "\n",
      "\n",
      "\n",
      "\n",
      "\n",
      "\tProduction Draft\n",
      "\tJune 27, 1994\n",
      "\n",
      "\n",
      "\n",
      "\n",
      "\n",
      "\n",
      "\n",
      "\n",
      "<b>\tFADE IN:\n",
      "</b>\n",
      "<b>\tINT.  CONCOURSE/AIRPORT TERMINAL - BAY\n",
      "</b>\n",
      "\tCLOSE ON A FACE.  A nine year old boy, YOUNG COLE, his eyes wide\n",
      "\twith wonder. watching something intently.  We HEAR the sounds of\n",
      "\tthe P.A. SYSTEM droning Flight Information mingled with the\n",
      "\tsounds of urgent SHOUTS, running FEET, EXCLAMATIONS.\n",
      "\n",
      "\tYOUNG COLE'S POV:  twenty yards away, a BLONDE MAN is sprawled on\n",
      "\tthe floor, blood oozing from his gaudy Hawaiian shirt.\n",
      "\n",
      "\tA BRUNETTE in a tight dress, her face obscured from YOUNG COLE'S\n",
      "\tview, rushes to the injured man, kne\n"
     ]
    }
   ],
   "source": [
    "print(script_tag.prettify()[:1000])"
   ]
  },
  {
   "cell_type": "code",
   "execution_count": 56,
   "id": "e66db0c1-bada-468d-a1d5-c0cdbe37d45f",
   "metadata": {
    "execution": {
     "iopub.execute_input": "2024-01-16T22:44:11.898000Z",
     "iopub.status.busy": "2024-01-16T22:44:11.897393Z",
     "iopub.status.idle": "2024-01-16T22:44:11.901843Z",
     "shell.execute_reply": "2024-01-16T22:44:11.901470Z",
     "shell.execute_reply.started": "2024-01-16T22:44:11.897980Z"
    }
   },
   "outputs": [
    {
     "data": {
      "text/plain": [
       "bs4.element.Tag"
      ]
     },
     "execution_count": 56,
     "metadata": {},
     "output_type": "execute_result"
    }
   ],
   "source": [
    "type(script_tag)"
   ]
  },
  {
   "cell_type": "markdown",
   "id": "5bcceb97-a204-49b1-81fa-34957c47e71c",
   "metadata": {},
   "source": [
    "- May not be worth it to clean up the html files. isntead:\n",
    "    - just save tag.text?"
   ]
  },
  {
   "cell_type": "code",
   "execution_count": 57,
   "id": "9fb9beec-2a97-41ac-8240-a8a3057eec2b",
   "metadata": {
    "execution": {
     "iopub.execute_input": "2024-01-16T22:44:11.902556Z",
     "iopub.status.busy": "2024-01-16T22:44:11.902446Z",
     "iopub.status.idle": "2024-01-16T22:44:11.905847Z",
     "shell.execute_reply": "2024-01-16T22:44:11.905482Z",
     "shell.execute_reply.started": "2024-01-16T22:44:11.902547Z"
    }
   },
   "outputs": [
    {
     "data": {
      "text/plain": [
       "200184"
      ]
     },
     "execution_count": 57,
     "metadata": {},
     "output_type": "execute_result"
    }
   ],
   "source": [
    "# Saving raw text\n",
    "script_text = script_tag.text.strip()\n",
    "len(script_text)"
   ]
  },
  {
   "cell_type": "code",
   "execution_count": 58,
   "id": "11384456-8059-45b7-878d-e140ef77e824",
   "metadata": {
    "execution": {
     "iopub.execute_input": "2024-01-16T22:44:11.906779Z",
     "iopub.status.busy": "2024-01-16T22:44:11.906642Z",
     "iopub.status.idle": "2024-01-16T22:44:11.909489Z",
     "shell.execute_reply": "2024-01-16T22:44:11.909005Z",
     "shell.execute_reply.started": "2024-01-16T22:44:11.906768Z"
    }
   },
   "outputs": [
    {
     "name": "stdout",
     "output_type": "stream",
     "text": [
      "Twelve Monkeys\n",
      "\n",
      "\n",
      "\t\t\t\tTWELVE MONKEYS\n",
      "\t    \n",
      "\t\t          An original screenplay by\n",
      "\n",
      "\t\t\t\tDavid Peoples\n",
      "  \t\t\t\t     &\n",
      "\t\t\t\tJanet Peoples\n",
      "\n",
      "\t\t\t\t Inspired by\n",
      "\t    \n",
      "\t\t\tLA JETEE, a Chris Marker Film\n",
      "\n",
      "\n",
      "\n",
      "\n",
      "\n",
      "\tProduction Draft\n",
      "\tJune 27, 1994\n",
      "\n",
      "\n",
      "\n",
      "\n",
      "\n",
      "\n",
      "\n",
      "\n",
      "\tFADE IN:\n",
      "\n",
      "\tINT.  CONCOURSE/AIRPORT TERMINAL - BAY\n",
      "\n",
      "\tCLOSE ON A FACE.  A nine year old boy, YOUNG COLE, his eyes wide\n",
      "\twith wonder. watching something intently.  We HEAR the sounds of\n",
      "\tthe P.A. SYSTEM droning Flight Information mingled with the\n",
      "\tsounds of urgent SHOUTS, running FEET, EXCLAMATIONS.\n",
      "\n",
      "\tYOUNG COLE'S POV:  twenty yards away, a BLONDE MAN is sprawled on\n",
      "\tthe floor, blood oozing from his gaudy Hawaiian shirt.\n",
      "\n",
      "\tA BRUNETTE in a tight dress, her face obscured from YOUNG COLE'S\n",
      "\tview, rushes to the injured man, kneels beside him, ministering\n",
      "\tto his wound.\n",
      "\n",
      "\tANGLE ON YOUNG COLE, flanked by his PARENTS, their faces out of\n",
      "\tview, as they steer him away.\n",
      "\n",
      "\t\t\t\tFATHER'S VOICE (o.s.)\n",
      "\t\tCome on, Son --this is\n"
     ]
    }
   ],
   "source": [
    "print(script_text[:1000])"
   ]
  },
  {
   "cell_type": "markdown",
   "id": "29655bf7-6ff4-4552-a34d-23ccb63fa08d",
   "metadata": {},
   "source": [
    "#### Saving Script to Disc"
   ]
  },
  {
   "cell_type": "code",
   "execution_count": 59,
   "id": "36275ac8-e757-485c-9886-31298ee5c7df",
   "metadata": {
    "execution": {
     "iopub.execute_input": "2024-01-16T22:44:11.910200Z",
     "iopub.status.busy": "2024-01-16T22:44:11.910095Z",
     "iopub.status.idle": "2024-01-16T22:44:11.913747Z",
     "shell.execute_reply": "2024-01-16T22:44:11.913314Z",
     "shell.execute_reply.started": "2024-01-16T22:44:11.910190Z"
    }
   },
   "outputs": [
    {
     "data": {
      "text/plain": [
       "'/scripts/12-Monkeys.html'"
      ]
     },
     "execution_count": 59,
     "metadata": {},
     "output_type": "execute_result"
    }
   ],
   "source": [
    "# Get the filn\n",
    "url_path = urllib.parse.urlparse(resp.url).path\n",
    "url_path"
   ]
  },
  {
   "cell_type": "code",
   "execution_count": 60,
   "id": "758ac8e7-3e88-4659-85b7-1625b78871bb",
   "metadata": {
    "execution": {
     "iopub.execute_input": "2024-01-16T22:44:11.914517Z",
     "iopub.status.busy": "2024-01-16T22:44:11.914315Z",
     "iopub.status.idle": "2024-01-16T22:44:11.918777Z",
     "shell.execute_reply": "2024-01-16T22:44:11.918092Z",
     "shell.execute_reply.started": "2024-01-16T22:44:11.914505Z"
    }
   },
   "outputs": [
    {
     "data": {
      "text/plain": [
       "'Data-NLP/scripts/'"
      ]
     },
     "execution_count": 60,
     "metadata": {},
     "output_type": "execute_result"
    }
   ],
   "source": [
    "FOLDER_SCRIPTS"
   ]
  },
  {
   "cell_type": "code",
   "execution_count": 61,
   "id": "67f23a37-94cd-446d-957c-a12316c8102d",
   "metadata": {
    "execution": {
     "iopub.execute_input": "2024-01-16T22:44:11.919513Z",
     "iopub.status.busy": "2024-01-16T22:44:11.919382Z",
     "iopub.status.idle": "2024-01-16T22:44:11.923313Z",
     "shell.execute_reply": "2024-01-16T22:44:11.922566Z",
     "shell.execute_reply.started": "2024-01-16T22:44:11.919503Z"
    }
   },
   "outputs": [
    {
     "data": {
      "text/plain": [
       "'Data-NLP/scripts/12-Monkeystxt'"
      ]
     },
     "execution_count": 61,
     "metadata": {},
     "output_type": "execute_result"
    }
   ],
   "source": [
    "FOLDER.strip(\"/\") + url_path.replace('.html','txt')"
   ]
  },
  {
   "cell_type": "code",
   "execution_count": 62,
   "id": "291c3cd1-428c-4ffb-ad7f-ffb7be94e0bb",
   "metadata": {
    "execution": {
     "iopub.execute_input": "2024-01-16T22:44:11.924203Z",
     "iopub.status.busy": "2024-01-16T22:44:11.924091Z",
     "iopub.status.idle": "2024-01-16T22:44:11.927380Z",
     "shell.execute_reply": "2024-01-16T22:44:11.927030Z",
     "shell.execute_reply.started": "2024-01-16T22:44:11.924194Z"
    }
   },
   "outputs": [
    {
     "data": {
      "text/plain": [
       "'Data-NLP/scripts/12-Monkeys.txt'"
      ]
     },
     "execution_count": 62,
     "metadata": {},
     "output_type": "execute_result"
    }
   ],
   "source": [
    "fname_script = FOLDER.strip(\"/\") + url_path.replace('.html','.txt')\n",
    "fname_script"
   ]
  },
  {
   "cell_type": "code",
   "execution_count": 63,
   "id": "75dbc57a-25e8-4a1f-902e-928b3575aa6a",
   "metadata": {
    "execution": {
     "iopub.execute_input": "2024-01-16T22:44:11.928150Z",
     "iopub.status.busy": "2024-01-16T22:44:11.927921Z",
     "iopub.status.idle": "2024-01-16T22:44:11.931060Z",
     "shell.execute_reply": "2024-01-16T22:44:11.930599Z",
     "shell.execute_reply.started": "2024-01-16T22:44:11.928132Z"
    }
   },
   "outputs": [],
   "source": [
    "with open(fname_script, 'w') as f:\n",
    "    f.write(fname_script)"
   ]
  },
  {
   "cell_type": "code",
   "execution_count": 64,
   "id": "52e1bf2c-9bae-48bf-adbd-3b20615dc4ce",
   "metadata": {
    "execution": {
     "iopub.execute_input": "2024-01-16T22:44:11.931860Z",
     "iopub.status.busy": "2024-01-16T22:44:11.931747Z",
     "iopub.status.idle": "2024-01-16T22:44:11.934053Z",
     "shell.execute_reply": "2024-01-16T22:44:11.933605Z",
     "shell.execute_reply.started": "2024-01-16T22:44:11.931851Z"
    }
   },
   "outputs": [],
   "source": [
    "# df.loc[demo_index,'script fpath'] = fname_script"
   ]
  },
  {
   "cell_type": "code",
   "execution_count": 65,
   "id": "14acf1d9-25ed-405c-a829-975a3d68fda1",
   "metadata": {
    "execution": {
     "iopub.execute_input": "2024-01-16T22:44:11.934993Z",
     "iopub.status.busy": "2024-01-16T22:44:11.934829Z",
     "iopub.status.idle": "2024-01-16T22:44:11.937473Z",
     "shell.execute_reply": "2024-01-16T22:44:11.937068Z",
     "shell.execute_reply.started": "2024-01-16T22:44:11.934976Z"
    }
   },
   "outputs": [],
   "source": [
    "# for i in df.index:\n",
    "    "
   ]
  },
  {
   "cell_type": "code",
   "execution_count": 66,
   "id": "5259c275-5fa5-4d69-afc8-dcda88a8d388",
   "metadata": {
    "execution": {
     "iopub.execute_input": "2024-01-16T22:44:11.938163Z",
     "iopub.status.busy": "2024-01-16T22:44:11.938051Z",
     "iopub.status.idle": "2024-01-16T22:44:11.942305Z",
     "shell.execute_reply": "2024-01-16T22:44:11.941860Z",
     "shell.execute_reply.started": "2024-01-16T22:44:11.938154Z"
    }
   },
   "outputs": [],
   "source": [
    "\n",
    "def sanitize_filename(filename):\n",
    "    \"\"\"Sanitize the filename to be compatible with Windows, Linux, and MacOS.\"\"\"\n",
    "    # Decode URL-encoded characters\n",
    "    filename = urllib.parse.unquote(filename)\n",
    "    # Replace or remove characters not allowed in file names\n",
    "    filename = re.sub(r'[:<>|\"?*\\\\\\/]+', \"-\", filename)\n",
    "    return filename\n",
    "\n",
    "\n",
    "\n",
    "def get_script_text(script_url, FOLDER, return_script= False):#FOLDER='Data-NLP/'):\n",
    "    # Get new soup for current movie\n",
    "    resp = requests.get(script_url)\n",
    "    soup = BeautifulSoup(resp.content)\n",
    "\n",
    "    # Find the 1 tag with the scrtext class\n",
    "    script_tag = soup.body.find(attrs={'class':'scrtext'})\n",
    "    # Saving raw text\n",
    "    script_text = script_tag.text.strip()\n",
    "\n",
    "    # Set filename based on url\n",
    "    url_path = urllib.parse.urlparse(resp.url).path.lstrip('/')\n",
    "    dirname = os.path.dirname(url_path)\n",
    "    basename =  os.path.basename(url_path)\n",
    "    clean_basename = sanitize_filename(basename.replace('.html','.txt'))\n",
    "\n",
    "    # if FOLDER.endswith('/') & clean_basename.startswith('/'):\n",
    "    #     FOLDER =  FOLDER.strip(\"/\")\n",
    "        \n",
    "    fname_script = os.path.join(FOLDER,dirname,clean_basename)\n",
    "\n",
    "    \n",
    "    \n",
    "    if return_script == True:\n",
    "        return script_text\n",
    "        \n",
    "    \n",
    "    else:\n",
    "        with open(fname_script, 'w') as f:\n",
    "            f.write(script_text)\n",
    "        \n",
    "        return fname_script"
   ]
  },
  {
   "cell_type": "code",
   "execution_count": 67,
   "id": "c5991f73-fb02-4a22-b990-67d804a6d74d",
   "metadata": {
    "execution": {
     "iopub.execute_input": "2024-01-16T22:44:11.953889Z",
     "iopub.status.busy": "2024-01-16T22:44:11.953689Z",
     "iopub.status.idle": "2024-01-16T22:44:11.957558Z",
     "shell.execute_reply": "2024-01-16T22:44:11.956983Z",
     "shell.execute_reply.started": "2024-01-16T22:44:11.953875Z"
    }
   },
   "outputs": [
    {
     "data": {
      "text/plain": [
       "title                                           12 Years a Slave\n",
       "author                                               John Ridley\n",
       "scipt date                                               Undated\n",
       "script type                                                Draft\n",
       "movie url      https://imsdb.com/Movie%20Scripts/12%20Years%2...\n",
       "script url       https://imsdb.com/scripts/12-Years-a-Slave.html\n",
       "Name: 4, dtype: object"
      ]
     },
     "execution_count": 67,
     "metadata": {},
     "output_type": "execute_result"
    }
   ],
   "source": [
    "i = 4\n",
    "df.loc[4]"
   ]
  },
  {
   "cell_type": "code",
   "execution_count": 68,
   "id": "c9c8c5cb-c561-4a05-9e67-edde7ad091d0",
   "metadata": {
    "execution": {
     "iopub.execute_input": "2024-01-16T22:44:11.958555Z",
     "iopub.status.busy": "2024-01-16T22:44:11.958377Z",
     "iopub.status.idle": "2024-01-16T22:44:11.962377Z",
     "shell.execute_reply": "2024-01-16T22:44:11.961713Z",
     "shell.execute_reply.started": "2024-01-16T22:44:11.958542Z"
    }
   },
   "outputs": [
    {
     "data": {
      "text/plain": [
       "'Data-NLP/scripts/'"
      ]
     },
     "execution_count": 68,
     "metadata": {},
     "output_type": "execute_result"
    }
   ],
   "source": [
    "FOLDER_SCRIPTS"
   ]
  },
  {
   "cell_type": "code",
   "execution_count": 69,
   "id": "e2c7f239-577e-4968-b4e4-38c4fa907eaf",
   "metadata": {
    "execution": {
     "iopub.execute_input": "2024-01-16T22:44:11.963181Z",
     "iopub.status.busy": "2024-01-16T22:44:11.963056Z",
     "iopub.status.idle": "2024-01-16T22:44:11.967438Z",
     "shell.execute_reply": "2024-01-16T22:44:11.967021Z",
     "shell.execute_reply.started": "2024-01-16T22:44:11.963171Z"
    }
   },
   "outputs": [
    {
     "data": {
      "text/plain": [
       "'Data-NLP/12-Monkeys.txt'"
      ]
     },
     "execution_count": 69,
     "metadata": {},
     "output_type": "execute_result"
    }
   ],
   "source": [
    "# resp = requests\n",
    "# Set filename based on url\n",
    "url_path = urllib.parse.urlparse(resp.url).path\n",
    "dirname = os.path.dirname(url_path)\n",
    "basename =  os.path.basename(url_path)\n",
    "\n",
    "clean_basename = sanitize_filename(basename.replace('.html','.txt'))\n",
    "\n",
    "FOLDER_ = FOLDER # Tempz\n",
    "if FOLDER_.endswith('/') & clean_basename.startswith('/'):\n",
    "    clean_basename =  clean_basename.lstrip(\"/\")\n",
    "    \n",
    "fname_script = os.path.join(FOLDER_,clean_basename)\n",
    "fname_script"
   ]
  },
  {
   "cell_type": "code",
   "execution_count": 70,
   "id": "7339117a-2d6c-4c8b-b876-d6cdc1d724a5",
   "metadata": {
    "execution": {
     "iopub.execute_input": "2024-01-16T22:44:11.968358Z",
     "iopub.status.busy": "2024-01-16T22:44:11.968226Z",
     "iopub.status.idle": "2024-01-16T22:44:11.973277Z",
     "shell.execute_reply": "2024-01-16T22:44:11.972380Z",
     "shell.execute_reply.started": "2024-01-16T22:44:11.968347Z"
    }
   },
   "outputs": [
    {
     "data": {
      "text/plain": [
       "'/scripts/12-Monkeys.txt'"
      ]
     },
     "execution_count": 70,
     "metadata": {},
     "output_type": "execute_result"
    }
   ],
   "source": [
    "os.path.join(FOLDER_,dirname,clean_basename)"
   ]
  },
  {
   "cell_type": "code",
   "execution_count": 71,
   "id": "cd665a0e-953b-4b1e-9271-4fe8f2a602f4",
   "metadata": {
    "execution": {
     "iopub.execute_input": "2024-01-16T22:44:11.974650Z",
     "iopub.status.busy": "2024-01-16T22:44:11.974502Z",
     "iopub.status.idle": "2024-01-16T22:44:11.981283Z",
     "shell.execute_reply": "2024-01-16T22:44:11.980469Z",
     "shell.execute_reply.started": "2024-01-16T22:44:11.974639Z"
    }
   },
   "outputs": [],
   "source": [
    "# # Do to entire dataframe\n",
    "# fname_script = FOLDER.strip(\"/\") + url_path.replace('.html','.txt')"
   ]
  },
  {
   "cell_type": "code",
   "execution_count": 72,
   "id": "a4e494b5-5d67-4348-9326-3ce107b6251d",
   "metadata": {
    "execution": {
     "iopub.execute_input": "2024-01-16T22:44:11.982216Z",
     "iopub.status.busy": "2024-01-16T22:44:11.981956Z",
     "iopub.status.idle": "2024-01-16T22:44:12.154172Z",
     "shell.execute_reply": "2024-01-16T22:44:12.153789Z",
     "shell.execute_reply.started": "2024-01-16T22:44:11.982203Z"
    }
   },
   "outputs": [
    {
     "data": {
      "text/html": [
       "<div>\n",
       "<style scoped>\n",
       "    .dataframe tbody tr th:only-of-type {\n",
       "        vertical-align: middle;\n",
       "    }\n",
       "\n",
       "    .dataframe tbody tr th {\n",
       "        vertical-align: top;\n",
       "    }\n",
       "\n",
       "    .dataframe thead th {\n",
       "        text-align: right;\n",
       "    }\n",
       "</style>\n",
       "<table border=\"1\" class=\"dataframe\">\n",
       "  <thead>\n",
       "    <tr style=\"text-align: right;\">\n",
       "      <th></th>\n",
       "      <th>title</th>\n",
       "      <th>author</th>\n",
       "      <th>scipt date</th>\n",
       "      <th>script type</th>\n",
       "      <th>movie url</th>\n",
       "      <th>script url</th>\n",
       "      <th>script fpath</th>\n",
       "    </tr>\n",
       "  </thead>\n",
       "  <tbody>\n",
       "    <tr>\n",
       "      <th>0</th>\n",
       "      <td>10 Things I Hate About You</td>\n",
       "      <td>Karen McCullah Lutz,Kirsten Smith,William Shak...</td>\n",
       "      <td>1997-11</td>\n",
       "      <td>Draft</td>\n",
       "      <td>https://imsdb.com/Movie%20Scripts/10%20Things%...</td>\n",
       "      <td>https://imsdb.com/scripts/10-Things-I-Hate-Abo...</td>\n",
       "      <td>NaN</td>\n",
       "    </tr>\n",
       "    <tr>\n",
       "      <th>1</th>\n",
       "      <td>12</td>\n",
       "      <td>Lawrence Bridges</td>\n",
       "      <td>Undated</td>\n",
       "      <td>Draft</td>\n",
       "      <td>https://imsdb.com/Movie%20Scripts/12%20Script....</td>\n",
       "      <td>https://imsdb.com/scripts/12.html</td>\n",
       "      <td>NaN</td>\n",
       "    </tr>\n",
       "    <tr>\n",
       "      <th>2</th>\n",
       "      <td>12 and Holding</td>\n",
       "      <td>Anthony Cipriano</td>\n",
       "      <td>2004-04</td>\n",
       "      <td>Draft</td>\n",
       "      <td>https://imsdb.com/Movie%20Scripts/12%20and%20H...</td>\n",
       "      <td>https://imsdb.com/scripts/12-and-Holding.html</td>\n",
       "      <td>NaN</td>\n",
       "    </tr>\n",
       "    <tr>\n",
       "      <th>3</th>\n",
       "      <td>12 Monkeys</td>\n",
       "      <td>David Peoples,Janet Peoples</td>\n",
       "      <td>1994-06</td>\n",
       "      <td>Draft</td>\n",
       "      <td>https://imsdb.com/Movie%20Scripts/12%20Monkeys...</td>\n",
       "      <td>https://imsdb.com/scripts/12-Monkeys.html</td>\n",
       "      <td>NaN</td>\n",
       "    </tr>\n",
       "    <tr>\n",
       "      <th>4</th>\n",
       "      <td>12 Years a Slave</td>\n",
       "      <td>John Ridley</td>\n",
       "      <td>Undated</td>\n",
       "      <td>Draft</td>\n",
       "      <td>https://imsdb.com/Movie%20Scripts/12%20Years%2...</td>\n",
       "      <td>https://imsdb.com/scripts/12-Years-a-Slave.html</td>\n",
       "      <td>Data-NLP/scripts/12-Years-a-Slave.txt</td>\n",
       "    </tr>\n",
       "    <tr>\n",
       "      <th>...</th>\n",
       "      <td>...</td>\n",
       "      <td>...</td>\n",
       "      <td>...</td>\n",
       "      <td>...</td>\n",
       "      <td>...</td>\n",
       "      <td>...</td>\n",
       "      <td>...</td>\n",
       "    </tr>\n",
       "    <tr>\n",
       "      <th>1210</th>\n",
       "      <td>You've Got Mail</td>\n",
       "      <td>Nora Ephron,Delia Ephron</td>\n",
       "      <td>1998-02</td>\n",
       "      <td>Draft</td>\n",
       "      <td>https://imsdb.com/Movie%20Scripts/You%27ve%20G...</td>\n",
       "      <td>https://imsdb.com/scripts/You've-Got-Mail.html</td>\n",
       "      <td>NaN</td>\n",
       "    </tr>\n",
       "    <tr>\n",
       "      <th>1211</th>\n",
       "      <td>Youth in Revolt</td>\n",
       "      <td>Gustin Nash</td>\n",
       "      <td>2007-07</td>\n",
       "      <td>Draft</td>\n",
       "      <td>https://imsdb.com/Movie%20Scripts/Youth%20in%2...</td>\n",
       "      <td>https://imsdb.com/scripts/Youth-in-Revolt.html</td>\n",
       "      <td>NaN</td>\n",
       "    </tr>\n",
       "    <tr>\n",
       "      <th>1212</th>\n",
       "      <td>Zero Dark Thirty</td>\n",
       "      <td>Mark Boal</td>\n",
       "      <td>2011-10</td>\n",
       "      <td>Draft</td>\n",
       "      <td>https://imsdb.com/Movie%20Scripts/Zero%20Dark%...</td>\n",
       "      <td>https://imsdb.com/scripts/Zero-Dark-Thirty.html</td>\n",
       "      <td>NaN</td>\n",
       "    </tr>\n",
       "    <tr>\n",
       "      <th>1213</th>\n",
       "      <td>Zerophilia</td>\n",
       "      <td>Martin Curland</td>\n",
       "      <td>2004-03</td>\n",
       "      <td>Draft</td>\n",
       "      <td>https://imsdb.com/Movie%20Scripts/Zerophilia%2...</td>\n",
       "      <td>https://imsdb.com/scripts/Zerophilia.html</td>\n",
       "      <td>NaN</td>\n",
       "    </tr>\n",
       "    <tr>\n",
       "      <th>1214</th>\n",
       "      <td>Zootopia</td>\n",
       "      <td>Jared Bush,Phil Johnston</td>\n",
       "      <td>Undated</td>\n",
       "      <td>Draft</td>\n",
       "      <td>https://imsdb.com/Movie%20Scripts/Zootopia%20S...</td>\n",
       "      <td>https://imsdb.com/scripts/Zootopia.html</td>\n",
       "      <td>NaN</td>\n",
       "    </tr>\n",
       "  </tbody>\n",
       "</table>\n",
       "<p>1215 rows × 7 columns</p>\n",
       "</div>"
      ],
      "text/plain": [
       "                           title  \\\n",
       "0     10 Things I Hate About You   \n",
       "1                             12   \n",
       "2                 12 and Holding   \n",
       "3                     12 Monkeys   \n",
       "4               12 Years a Slave   \n",
       "...                          ...   \n",
       "1210             You've Got Mail   \n",
       "1211             Youth in Revolt   \n",
       "1212            Zero Dark Thirty   \n",
       "1213                  Zerophilia   \n",
       "1214                    Zootopia   \n",
       "\n",
       "                                                 author scipt date  \\\n",
       "0     Karen McCullah Lutz,Kirsten Smith,William Shak...    1997-11   \n",
       "1                                      Lawrence Bridges    Undated   \n",
       "2                                      Anthony Cipriano    2004-04   \n",
       "3                           David Peoples,Janet Peoples    1994-06   \n",
       "4                                           John Ridley    Undated   \n",
       "...                                                 ...        ...   \n",
       "1210                           Nora Ephron,Delia Ephron    1998-02   \n",
       "1211                                        Gustin Nash    2007-07   \n",
       "1212                                          Mark Boal    2011-10   \n",
       "1213                                     Martin Curland    2004-03   \n",
       "1214                           Jared Bush,Phil Johnston    Undated   \n",
       "\n",
       "     script type                                          movie url  \\\n",
       "0          Draft  https://imsdb.com/Movie%20Scripts/10%20Things%...   \n",
       "1          Draft  https://imsdb.com/Movie%20Scripts/12%20Script....   \n",
       "2          Draft  https://imsdb.com/Movie%20Scripts/12%20and%20H...   \n",
       "3          Draft  https://imsdb.com/Movie%20Scripts/12%20Monkeys...   \n",
       "4          Draft  https://imsdb.com/Movie%20Scripts/12%20Years%2...   \n",
       "...          ...                                                ...   \n",
       "1210       Draft  https://imsdb.com/Movie%20Scripts/You%27ve%20G...   \n",
       "1211       Draft  https://imsdb.com/Movie%20Scripts/Youth%20in%2...   \n",
       "1212       Draft  https://imsdb.com/Movie%20Scripts/Zero%20Dark%...   \n",
       "1213       Draft  https://imsdb.com/Movie%20Scripts/Zerophilia%2...   \n",
       "1214       Draft  https://imsdb.com/Movie%20Scripts/Zootopia%20S...   \n",
       "\n",
       "                                             script url  \\\n",
       "0     https://imsdb.com/scripts/10-Things-I-Hate-Abo...   \n",
       "1                     https://imsdb.com/scripts/12.html   \n",
       "2         https://imsdb.com/scripts/12-and-Holding.html   \n",
       "3             https://imsdb.com/scripts/12-Monkeys.html   \n",
       "4       https://imsdb.com/scripts/12-Years-a-Slave.html   \n",
       "...                                                 ...   \n",
       "1210     https://imsdb.com/scripts/You've-Got-Mail.html   \n",
       "1211     https://imsdb.com/scripts/Youth-in-Revolt.html   \n",
       "1212    https://imsdb.com/scripts/Zero-Dark-Thirty.html   \n",
       "1213          https://imsdb.com/scripts/Zerophilia.html   \n",
       "1214            https://imsdb.com/scripts/Zootopia.html   \n",
       "\n",
       "                               script fpath  \n",
       "0                                       NaN  \n",
       "1                                       NaN  \n",
       "2                                       NaN  \n",
       "3                                       NaN  \n",
       "4     Data-NLP/scripts/12-Years-a-Slave.txt  \n",
       "...                                     ...  \n",
       "1210                                    NaN  \n",
       "1211                                    NaN  \n",
       "1212                                    NaN  \n",
       "1213                                    NaN  \n",
       "1214                                    NaN  \n",
       "\n",
       "[1215 rows x 7 columns]"
      ]
     },
     "execution_count": 72,
     "metadata": {},
     "output_type": "execute_result"
    }
   ],
   "source": [
    "df.loc[i, 'script fpath'] = get_script_text(df.loc[i,'script url'], FOLDER, return_script=False)\n",
    "df"
   ]
  },
  {
   "cell_type": "code",
   "execution_count": 73,
   "id": "65f26633-5b96-41c1-b04c-85f3db18a082",
   "metadata": {
    "execution": {
     "iopub.execute_input": "2024-01-16T22:44:12.154994Z",
     "iopub.status.busy": "2024-01-16T22:44:12.154874Z",
     "iopub.status.idle": "2024-01-16T22:44:12.158258Z",
     "shell.execute_reply": "2024-01-16T22:44:12.157812Z",
     "shell.execute_reply.started": "2024-01-16T22:44:12.154984Z"
    }
   },
   "outputs": [
    {
     "data": {
      "text/plain": [
       "'Data-NLP/'"
      ]
     },
     "execution_count": 73,
     "metadata": {},
     "output_type": "execute_result"
    }
   ],
   "source": [
    "FOLDER"
   ]
  },
  {
   "cell_type": "code",
   "execution_count": 74,
   "id": "2c939788-8430-4737-ac2d-6a814b7a9f28",
   "metadata": {
    "execution": {
     "iopub.execute_input": "2024-01-16T22:44:12.159130Z",
     "iopub.status.busy": "2024-01-16T22:44:12.158982Z",
     "iopub.status.idle": "2024-01-16T22:44:12.165362Z",
     "shell.execute_reply": "2024-01-16T22:44:12.164966Z",
     "shell.execute_reply.started": "2024-01-16T22:44:12.159121Z"
    }
   },
   "outputs": [
    {
     "data": {
      "text/html": [
       "<div>\n",
       "<style scoped>\n",
       "    .dataframe tbody tr th:only-of-type {\n",
       "        vertical-align: middle;\n",
       "    }\n",
       "\n",
       "    .dataframe tbody tr th {\n",
       "        vertical-align: top;\n",
       "    }\n",
       "\n",
       "    .dataframe thead th {\n",
       "        text-align: right;\n",
       "    }\n",
       "</style>\n",
       "<table border=\"1\" class=\"dataframe\">\n",
       "  <thead>\n",
       "    <tr style=\"text-align: right;\">\n",
       "      <th></th>\n",
       "      <th>title</th>\n",
       "      <th>author</th>\n",
       "      <th>scipt date</th>\n",
       "      <th>script type</th>\n",
       "      <th>movie url</th>\n",
       "      <th>script url</th>\n",
       "      <th>script fpath</th>\n",
       "    </tr>\n",
       "  </thead>\n",
       "  <tbody>\n",
       "    <tr>\n",
       "      <th>0</th>\n",
       "      <td>10 Things I Hate About You</td>\n",
       "      <td>Karen McCullah Lutz,Kirsten Smith,William Shak...</td>\n",
       "      <td>1997-11</td>\n",
       "      <td>Draft</td>\n",
       "      <td>https://imsdb.com/Movie%20Scripts/10%20Things%...</td>\n",
       "      <td>https://imsdb.com/scripts/10-Things-I-Hate-Abo...</td>\n",
       "      <td>NaN</td>\n",
       "    </tr>\n",
       "    <tr>\n",
       "      <th>1</th>\n",
       "      <td>12</td>\n",
       "      <td>Lawrence Bridges</td>\n",
       "      <td>Undated</td>\n",
       "      <td>Draft</td>\n",
       "      <td>https://imsdb.com/Movie%20Scripts/12%20Script....</td>\n",
       "      <td>https://imsdb.com/scripts/12.html</td>\n",
       "      <td>NaN</td>\n",
       "    </tr>\n",
       "    <tr>\n",
       "      <th>2</th>\n",
       "      <td>12 and Holding</td>\n",
       "      <td>Anthony Cipriano</td>\n",
       "      <td>2004-04</td>\n",
       "      <td>Draft</td>\n",
       "      <td>https://imsdb.com/Movie%20Scripts/12%20and%20H...</td>\n",
       "      <td>https://imsdb.com/scripts/12-and-Holding.html</td>\n",
       "      <td>NaN</td>\n",
       "    </tr>\n",
       "    <tr>\n",
       "      <th>3</th>\n",
       "      <td>12 Monkeys</td>\n",
       "      <td>David Peoples,Janet Peoples</td>\n",
       "      <td>1994-06</td>\n",
       "      <td>Draft</td>\n",
       "      <td>https://imsdb.com/Movie%20Scripts/12%20Monkeys...</td>\n",
       "      <td>https://imsdb.com/scripts/12-Monkeys.html</td>\n",
       "      <td>NaN</td>\n",
       "    </tr>\n",
       "    <tr>\n",
       "      <th>4</th>\n",
       "      <td>12 Years a Slave</td>\n",
       "      <td>John Ridley</td>\n",
       "      <td>Undated</td>\n",
       "      <td>Draft</td>\n",
       "      <td>https://imsdb.com/Movie%20Scripts/12%20Years%2...</td>\n",
       "      <td>https://imsdb.com/scripts/12-Years-a-Slave.html</td>\n",
       "      <td>Data-NLP/scripts/12-Years-a-Slave.txt</td>\n",
       "    </tr>\n",
       "    <tr>\n",
       "      <th>...</th>\n",
       "      <td>...</td>\n",
       "      <td>...</td>\n",
       "      <td>...</td>\n",
       "      <td>...</td>\n",
       "      <td>...</td>\n",
       "      <td>...</td>\n",
       "      <td>...</td>\n",
       "    </tr>\n",
       "    <tr>\n",
       "      <th>1210</th>\n",
       "      <td>You've Got Mail</td>\n",
       "      <td>Nora Ephron,Delia Ephron</td>\n",
       "      <td>1998-02</td>\n",
       "      <td>Draft</td>\n",
       "      <td>https://imsdb.com/Movie%20Scripts/You%27ve%20G...</td>\n",
       "      <td>https://imsdb.com/scripts/You've-Got-Mail.html</td>\n",
       "      <td>NaN</td>\n",
       "    </tr>\n",
       "    <tr>\n",
       "      <th>1211</th>\n",
       "      <td>Youth in Revolt</td>\n",
       "      <td>Gustin Nash</td>\n",
       "      <td>2007-07</td>\n",
       "      <td>Draft</td>\n",
       "      <td>https://imsdb.com/Movie%20Scripts/Youth%20in%2...</td>\n",
       "      <td>https://imsdb.com/scripts/Youth-in-Revolt.html</td>\n",
       "      <td>NaN</td>\n",
       "    </tr>\n",
       "    <tr>\n",
       "      <th>1212</th>\n",
       "      <td>Zero Dark Thirty</td>\n",
       "      <td>Mark Boal</td>\n",
       "      <td>2011-10</td>\n",
       "      <td>Draft</td>\n",
       "      <td>https://imsdb.com/Movie%20Scripts/Zero%20Dark%...</td>\n",
       "      <td>https://imsdb.com/scripts/Zero-Dark-Thirty.html</td>\n",
       "      <td>NaN</td>\n",
       "    </tr>\n",
       "    <tr>\n",
       "      <th>1213</th>\n",
       "      <td>Zerophilia</td>\n",
       "      <td>Martin Curland</td>\n",
       "      <td>2004-03</td>\n",
       "      <td>Draft</td>\n",
       "      <td>https://imsdb.com/Movie%20Scripts/Zerophilia%2...</td>\n",
       "      <td>https://imsdb.com/scripts/Zerophilia.html</td>\n",
       "      <td>NaN</td>\n",
       "    </tr>\n",
       "    <tr>\n",
       "      <th>1214</th>\n",
       "      <td>Zootopia</td>\n",
       "      <td>Jared Bush,Phil Johnston</td>\n",
       "      <td>Undated</td>\n",
       "      <td>Draft</td>\n",
       "      <td>https://imsdb.com/Movie%20Scripts/Zootopia%20S...</td>\n",
       "      <td>https://imsdb.com/scripts/Zootopia.html</td>\n",
       "      <td>NaN</td>\n",
       "    </tr>\n",
       "  </tbody>\n",
       "</table>\n",
       "<p>1215 rows × 7 columns</p>\n",
       "</div>"
      ],
      "text/plain": [
       "                           title  \\\n",
       "0     10 Things I Hate About You   \n",
       "1                             12   \n",
       "2                 12 and Holding   \n",
       "3                     12 Monkeys   \n",
       "4               12 Years a Slave   \n",
       "...                          ...   \n",
       "1210             You've Got Mail   \n",
       "1211             Youth in Revolt   \n",
       "1212            Zero Dark Thirty   \n",
       "1213                  Zerophilia   \n",
       "1214                    Zootopia   \n",
       "\n",
       "                                                 author scipt date  \\\n",
       "0     Karen McCullah Lutz,Kirsten Smith,William Shak...    1997-11   \n",
       "1                                      Lawrence Bridges    Undated   \n",
       "2                                      Anthony Cipriano    2004-04   \n",
       "3                           David Peoples,Janet Peoples    1994-06   \n",
       "4                                           John Ridley    Undated   \n",
       "...                                                 ...        ...   \n",
       "1210                           Nora Ephron,Delia Ephron    1998-02   \n",
       "1211                                        Gustin Nash    2007-07   \n",
       "1212                                          Mark Boal    2011-10   \n",
       "1213                                     Martin Curland    2004-03   \n",
       "1214                           Jared Bush,Phil Johnston    Undated   \n",
       "\n",
       "     script type                                          movie url  \\\n",
       "0          Draft  https://imsdb.com/Movie%20Scripts/10%20Things%...   \n",
       "1          Draft  https://imsdb.com/Movie%20Scripts/12%20Script....   \n",
       "2          Draft  https://imsdb.com/Movie%20Scripts/12%20and%20H...   \n",
       "3          Draft  https://imsdb.com/Movie%20Scripts/12%20Monkeys...   \n",
       "4          Draft  https://imsdb.com/Movie%20Scripts/12%20Years%2...   \n",
       "...          ...                                                ...   \n",
       "1210       Draft  https://imsdb.com/Movie%20Scripts/You%27ve%20G...   \n",
       "1211       Draft  https://imsdb.com/Movie%20Scripts/Youth%20in%2...   \n",
       "1212       Draft  https://imsdb.com/Movie%20Scripts/Zero%20Dark%...   \n",
       "1213       Draft  https://imsdb.com/Movie%20Scripts/Zerophilia%2...   \n",
       "1214       Draft  https://imsdb.com/Movie%20Scripts/Zootopia%20S...   \n",
       "\n",
       "                                             script url  \\\n",
       "0     https://imsdb.com/scripts/10-Things-I-Hate-Abo...   \n",
       "1                     https://imsdb.com/scripts/12.html   \n",
       "2         https://imsdb.com/scripts/12-and-Holding.html   \n",
       "3             https://imsdb.com/scripts/12-Monkeys.html   \n",
       "4       https://imsdb.com/scripts/12-Years-a-Slave.html   \n",
       "...                                                 ...   \n",
       "1210     https://imsdb.com/scripts/You've-Got-Mail.html   \n",
       "1211     https://imsdb.com/scripts/Youth-in-Revolt.html   \n",
       "1212    https://imsdb.com/scripts/Zero-Dark-Thirty.html   \n",
       "1213          https://imsdb.com/scripts/Zerophilia.html   \n",
       "1214            https://imsdb.com/scripts/Zootopia.html   \n",
       "\n",
       "                               script fpath  \n",
       "0                                       NaN  \n",
       "1                                       NaN  \n",
       "2                                       NaN  \n",
       "3                                       NaN  \n",
       "4     Data-NLP/scripts/12-Years-a-Slave.txt  \n",
       "...                                     ...  \n",
       "1210                                    NaN  \n",
       "1211                                    NaN  \n",
       "1212                                    NaN  \n",
       "1213                                    NaN  \n",
       "1214                                    NaN  \n",
       "\n",
       "[1215 rows x 7 columns]"
      ]
     },
     "execution_count": 74,
     "metadata": {},
     "output_type": "execute_result"
    }
   ],
   "source": [
    "df"
   ]
  },
  {
   "cell_type": "code",
   "execution_count": 83,
   "id": "6218bbcd-1a95-4a8b-b5a6-ba722414a2a9",
   "metadata": {
    "execution": {
     "iopub.execute_input": "2024-01-16T22:44:37.302497Z",
     "iopub.status.busy": "2024-01-16T22:44:37.302103Z",
     "iopub.status.idle": "2024-01-16T22:52:12.919367Z",
     "shell.execute_reply": "2024-01-16T22:52:12.907075Z",
     "shell.execute_reply.started": "2024-01-16T22:44:37.302473Z"
    }
   },
   "outputs": [
    {
     "data": {
      "application/vnd.jupyter.widget-view+json": {
       "model_id": "ce37e2d685c645bb9f55152c85057417",
       "version_major": 2,
       "version_minor": 0
      },
      "text/plain": [
       "  0%|          | 0/1215 [00:00<?, ?it/s]"
      ]
     },
     "metadata": {},
     "output_type": "display_data"
    },
    {
     "data": {
      "text/plain": [
       "AttributeError(\"'NoneType' object has no attribute 'find'\")"
      ]
     },
     "metadata": {},
     "output_type": "display_data"
    },
    {
     "data": {
      "text/plain": [
       "AttributeError(\"'NoneType' object has no attribute 'find'\")"
      ]
     },
     "metadata": {},
     "output_type": "display_data"
    },
    {
     "data": {
      "text/plain": [
       "AttributeError(\"'NoneType' object has no attribute 'find'\")"
      ]
     },
     "metadata": {},
     "output_type": "display_data"
    },
    {
     "data": {
      "text/plain": [
       "AttributeError(\"'NoneType' object has no attribute 'find'\")"
      ]
     },
     "metadata": {},
     "output_type": "display_data"
    },
    {
     "data": {
      "text/plain": [
       "AttributeError(\"'NoneType' object has no attribute 'find'\")"
      ]
     },
     "metadata": {},
     "output_type": "display_data"
    },
    {
     "data": {
      "text/plain": [
       "AttributeError(\"'NoneType' object has no attribute 'find'\")"
      ]
     },
     "metadata": {},
     "output_type": "display_data"
    },
    {
     "data": {
      "text/plain": [
       "AttributeError(\"'NoneType' object has no attribute 'find'\")"
      ]
     },
     "metadata": {},
     "output_type": "display_data"
    },
    {
     "data": {
      "text/plain": [
       "AttributeError(\"'NoneType' object has no attribute 'find'\")"
      ]
     },
     "metadata": {},
     "output_type": "display_data"
    },
    {
     "data": {
      "text/plain": [
       "AttributeError(\"'NoneType' object has no attribute 'find'\")"
      ]
     },
     "metadata": {},
     "output_type": "display_data"
    },
    {
     "data": {
      "text/plain": [
       "AttributeError(\"'NoneType' object has no attribute 'find'\")"
      ]
     },
     "metadata": {},
     "output_type": "display_data"
    },
    {
     "data": {
      "text/plain": [
       "AttributeError(\"'NoneType' object has no attribute 'find'\")"
      ]
     },
     "metadata": {},
     "output_type": "display_data"
    },
    {
     "data": {
      "text/plain": [
       "AttributeError(\"'NoneType' object has no attribute 'find'\")"
      ]
     },
     "metadata": {},
     "output_type": "display_data"
    },
    {
     "data": {
      "text/plain": [
       "AttributeError(\"'NoneType' object has no attribute 'find'\")"
      ]
     },
     "metadata": {},
     "output_type": "display_data"
    },
    {
     "data": {
      "text/plain": [
       "AttributeError(\"'NoneType' object has no attribute 'find'\")"
      ]
     },
     "metadata": {},
     "output_type": "display_data"
    },
    {
     "data": {
      "text/plain": [
       "AttributeError(\"'NoneType' object has no attribute 'find'\")"
      ]
     },
     "metadata": {},
     "output_type": "display_data"
    },
    {
     "data": {
      "text/plain": [
       "AttributeError(\"'NoneType' object has no attribute 'find'\")"
      ]
     },
     "metadata": {},
     "output_type": "display_data"
    },
    {
     "data": {
      "text/plain": [
       "AttributeError(\"'NoneType' object has no attribute 'find'\")"
      ]
     },
     "metadata": {},
     "output_type": "display_data"
    },
    {
     "data": {
      "text/plain": [
       "AttributeError(\"'NoneType' object has no attribute 'find'\")"
      ]
     },
     "metadata": {},
     "output_type": "display_data"
    },
    {
     "data": {
      "text/plain": [
       "AttributeError(\"'NoneType' object has no attribute 'find'\")"
      ]
     },
     "metadata": {},
     "output_type": "display_data"
    },
    {
     "data": {
      "text/plain": [
       "AttributeError(\"'NoneType' object has no attribute 'find'\")"
      ]
     },
     "metadata": {},
     "output_type": "display_data"
    },
    {
     "data": {
      "text/plain": [
       "AttributeError(\"'NoneType' object has no attribute 'find'\")"
      ]
     },
     "metadata": {},
     "output_type": "display_data"
    },
    {
     "data": {
      "text/plain": [
       "AttributeError(\"'NoneType' object has no attribute 'find'\")"
      ]
     },
     "metadata": {},
     "output_type": "display_data"
    },
    {
     "data": {
      "text/plain": [
       "AttributeError(\"'NoneType' object has no attribute 'find'\")"
      ]
     },
     "metadata": {},
     "output_type": "display_data"
    },
    {
     "data": {
      "text/plain": [
       "AttributeError(\"'NoneType' object has no attribute 'find'\")"
      ]
     },
     "metadata": {},
     "output_type": "display_data"
    },
    {
     "data": {
      "text/plain": [
       "AttributeError(\"'NoneType' object has no attribute 'find'\")"
      ]
     },
     "metadata": {},
     "output_type": "display_data"
    },
    {
     "data": {
      "text/plain": [
       "AttributeError(\"'NoneType' object has no attribute 'text'\")"
      ]
     },
     "metadata": {},
     "output_type": "display_data"
    },
    {
     "data": {
      "text/plain": [
       "AttributeError(\"'NoneType' object has no attribute 'find'\")"
      ]
     },
     "metadata": {},
     "output_type": "display_data"
    },
    {
     "data": {
      "text/plain": [
       "AttributeError(\"'NoneType' object has no attribute 'find'\")"
      ]
     },
     "metadata": {},
     "output_type": "display_data"
    },
    {
     "data": {
      "text/plain": [
       "AttributeError(\"'NoneType' object has no attribute 'find'\")"
      ]
     },
     "metadata": {},
     "output_type": "display_data"
    },
    {
     "data": {
      "text/plain": [
       "AttributeError(\"'NoneType' object has no attribute 'find'\")"
      ]
     },
     "metadata": {},
     "output_type": "display_data"
    },
    {
     "data": {
      "text/plain": [
       "AttributeError(\"'NoneType' object has no attribute 'text'\")"
      ]
     },
     "metadata": {},
     "output_type": "display_data"
    },
    {
     "data": {
      "text/plain": [
       "AttributeError(\"'NoneType' object has no attribute 'text'\")"
      ]
     },
     "metadata": {},
     "output_type": "display_data"
    }
   ],
   "source": [
    "from tqdm.notebook import tqdm\n",
    "import time\n",
    "for i in tqdm(df.index, total=len(df)):\n",
    "    try:\n",
    "        df.loc[i, 'script fpath'] = get_script_text(df.loc[i,'script url'], FOLDER, return_script=False)\n",
    "    except Exception as e:\n",
    "        display(e)\n",
    "    time.sleep(.2)\n",
    "\n",
    "    "
   ]
  },
  {
   "cell_type": "code",
   "execution_count": 76,
   "id": "7fd17b64-0aa0-412f-87a3-b29ddebba4ee",
   "metadata": {
    "execution": {
     "iopub.execute_input": "2024-01-16T22:44:14.121740Z",
     "iopub.status.busy": "2024-01-16T22:44:14.121354Z",
     "iopub.status.idle": "2024-01-16T22:44:15.100227Z",
     "shell.execute_reply": "2024-01-16T22:44:15.099857Z",
     "shell.execute_reply.started": "2024-01-16T22:44:14.121719Z"
    }
   },
   "outputs": [
    {
     "data": {
      "text/plain": [
       "<Axes: >"
      ]
     },
     "execution_count": 76,
     "metadata": {},
     "output_type": "execute_result"
    },
    {
     "data": {
      "image/png": "[encoded data removed]",
      "text/plain": [
       "<Figure size 2500x1000 with 2 Axes>"
      ]
     },
     "metadata": {},
     "output_type": "display_data"
    }
   ],
   "source": [
    "import missingno \n",
    "missingno.matrix(df)"
   ]
  },
  {
   "cell_type": "code",
   "execution_count": 77,
   "id": "73253783-2fcb-421a-888a-a2729ef0ab50",
   "metadata": {
    "execution": {
     "iopub.execute_input": "2024-01-16T22:44:15.100936Z",
     "iopub.status.busy": "2024-01-16T22:44:15.100775Z",
     "iopub.status.idle": "2024-01-16T22:44:15.106953Z",
     "shell.execute_reply": "2024-01-16T22:44:15.106545Z",
     "shell.execute_reply.started": "2024-01-16T22:44:15.100927Z"
    }
   },
   "outputs": [
    {
     "data": {
      "text/html": [
       "<div>\n",
       "<style scoped>\n",
       "    .dataframe tbody tr th:only-of-type {\n",
       "        vertical-align: middle;\n",
       "    }\n",
       "\n",
       "    .dataframe tbody tr th {\n",
       "        vertical-align: top;\n",
       "    }\n",
       "\n",
       "    .dataframe thead th {\n",
       "        text-align: right;\n",
       "    }\n",
       "</style>\n",
       "<table border=\"1\" class=\"dataframe\">\n",
       "  <thead>\n",
       "    <tr style=\"text-align: right;\">\n",
       "      <th></th>\n",
       "      <th>title</th>\n",
       "      <th>author</th>\n",
       "      <th>scipt date</th>\n",
       "      <th>script type</th>\n",
       "      <th>movie url</th>\n",
       "      <th>script url</th>\n",
       "      <th>script fpath</th>\n",
       "    </tr>\n",
       "  </thead>\n",
       "  <tbody>\n",
       "    <tr>\n",
       "      <th>0</th>\n",
       "      <td>10 Things I Hate About You</td>\n",
       "      <td>Karen McCullah Lutz,Kirsten Smith,William Shak...</td>\n",
       "      <td>1997-11</td>\n",
       "      <td>Draft</td>\n",
       "      <td>https://imsdb.com/Movie%20Scripts/10%20Things%...</td>\n",
       "      <td>https://imsdb.com/scripts/10-Things-I-Hate-Abo...</td>\n",
       "      <td>Data-NLP/scripts/10-Things-I-Hate-About-You.txt</td>\n",
       "    </tr>\n",
       "    <tr>\n",
       "      <th>1</th>\n",
       "      <td>12</td>\n",
       "      <td>Lawrence Bridges</td>\n",
       "      <td>Undated</td>\n",
       "      <td>Draft</td>\n",
       "      <td>https://imsdb.com/Movie%20Scripts/12%20Script....</td>\n",
       "      <td>https://imsdb.com/scripts/12.html</td>\n",
       "      <td>Data-NLP/scripts/12.txt</td>\n",
       "    </tr>\n",
       "    <tr>\n",
       "      <th>2</th>\n",
       "      <td>12 and Holding</td>\n",
       "      <td>Anthony Cipriano</td>\n",
       "      <td>2004-04</td>\n",
       "      <td>Draft</td>\n",
       "      <td>https://imsdb.com/Movie%20Scripts/12%20and%20H...</td>\n",
       "      <td>https://imsdb.com/scripts/12-and-Holding.html</td>\n",
       "      <td>Data-NLP/scripts/12-and-Holding.txt</td>\n",
       "    </tr>\n",
       "    <tr>\n",
       "      <th>3</th>\n",
       "      <td>12 Monkeys</td>\n",
       "      <td>David Peoples,Janet Peoples</td>\n",
       "      <td>1994-06</td>\n",
       "      <td>Draft</td>\n",
       "      <td>https://imsdb.com/Movie%20Scripts/12%20Monkeys...</td>\n",
       "      <td>https://imsdb.com/scripts/12-Monkeys.html</td>\n",
       "      <td>Data-NLP/scripts/12-Monkeys.txt</td>\n",
       "    </tr>\n",
       "    <tr>\n",
       "      <th>4</th>\n",
       "      <td>12 Years a Slave</td>\n",
       "      <td>John Ridley</td>\n",
       "      <td>Undated</td>\n",
       "      <td>Draft</td>\n",
       "      <td>https://imsdb.com/Movie%20Scripts/12%20Years%2...</td>\n",
       "      <td>https://imsdb.com/scripts/12-Years-a-Slave.html</td>\n",
       "      <td>Data-NLP/scripts/12-Years-a-Slave.txt</td>\n",
       "    </tr>\n",
       "    <tr>\n",
       "      <th>...</th>\n",
       "      <td>...</td>\n",
       "      <td>...</td>\n",
       "      <td>...</td>\n",
       "      <td>...</td>\n",
       "      <td>...</td>\n",
       "      <td>...</td>\n",
       "      <td>...</td>\n",
       "    </tr>\n",
       "    <tr>\n",
       "      <th>1210</th>\n",
       "      <td>You've Got Mail</td>\n",
       "      <td>Nora Ephron,Delia Ephron</td>\n",
       "      <td>1998-02</td>\n",
       "      <td>Draft</td>\n",
       "      <td>https://imsdb.com/Movie%20Scripts/You%27ve%20G...</td>\n",
       "      <td>https://imsdb.com/scripts/You've-Got-Mail.html</td>\n",
       "      <td>NaN</td>\n",
       "    </tr>\n",
       "    <tr>\n",
       "      <th>1211</th>\n",
       "      <td>Youth in Revolt</td>\n",
       "      <td>Gustin Nash</td>\n",
       "      <td>2007-07</td>\n",
       "      <td>Draft</td>\n",
       "      <td>https://imsdb.com/Movie%20Scripts/Youth%20in%2...</td>\n",
       "      <td>https://imsdb.com/scripts/Youth-in-Revolt.html</td>\n",
       "      <td>NaN</td>\n",
       "    </tr>\n",
       "    <tr>\n",
       "      <th>1212</th>\n",
       "      <td>Zero Dark Thirty</td>\n",
       "      <td>Mark Boal</td>\n",
       "      <td>2011-10</td>\n",
       "      <td>Draft</td>\n",
       "      <td>https://imsdb.com/Movie%20Scripts/Zero%20Dark%...</td>\n",
       "      <td>https://imsdb.com/scripts/Zero-Dark-Thirty.html</td>\n",
       "      <td>NaN</td>\n",
       "    </tr>\n",
       "    <tr>\n",
       "      <th>1213</th>\n",
       "      <td>Zerophilia</td>\n",
       "      <td>Martin Curland</td>\n",
       "      <td>2004-03</td>\n",
       "      <td>Draft</td>\n",
       "      <td>https://imsdb.com/Movie%20Scripts/Zerophilia%2...</td>\n",
       "      <td>https://imsdb.com/scripts/Zerophilia.html</td>\n",
       "      <td>NaN</td>\n",
       "    </tr>\n",
       "    <tr>\n",
       "      <th>1214</th>\n",
       "      <td>Zootopia</td>\n",
       "      <td>Jared Bush,Phil Johnston</td>\n",
       "      <td>Undated</td>\n",
       "      <td>Draft</td>\n",
       "      <td>https://imsdb.com/Movie%20Scripts/Zootopia%20S...</td>\n",
       "      <td>https://imsdb.com/scripts/Zootopia.html</td>\n",
       "      <td>NaN</td>\n",
       "    </tr>\n",
       "  </tbody>\n",
       "</table>\n",
       "<p>1215 rows × 7 columns</p>\n",
       "</div>"
      ],
      "text/plain": [
       "                           title  \\\n",
       "0     10 Things I Hate About You   \n",
       "1                             12   \n",
       "2                 12 and Holding   \n",
       "3                     12 Monkeys   \n",
       "4               12 Years a Slave   \n",
       "...                          ...   \n",
       "1210             You've Got Mail   \n",
       "1211             Youth in Revolt   \n",
       "1212            Zero Dark Thirty   \n",
       "1213                  Zerophilia   \n",
       "1214                    Zootopia   \n",
       "\n",
       "                                                 author scipt date  \\\n",
       "0     Karen McCullah Lutz,Kirsten Smith,William Shak...    1997-11   \n",
       "1                                      Lawrence Bridges    Undated   \n",
       "2                                      Anthony Cipriano    2004-04   \n",
       "3                           David Peoples,Janet Peoples    1994-06   \n",
       "4                                           John Ridley    Undated   \n",
       "...                                                 ...        ...   \n",
       "1210                           Nora Ephron,Delia Ephron    1998-02   \n",
       "1211                                        Gustin Nash    2007-07   \n",
       "1212                                          Mark Boal    2011-10   \n",
       "1213                                     Martin Curland    2004-03   \n",
       "1214                           Jared Bush,Phil Johnston    Undated   \n",
       "\n",
       "     script type                                          movie url  \\\n",
       "0          Draft  https://imsdb.com/Movie%20Scripts/10%20Things%...   \n",
       "1          Draft  https://imsdb.com/Movie%20Scripts/12%20Script....   \n",
       "2          Draft  https://imsdb.com/Movie%20Scripts/12%20and%20H...   \n",
       "3          Draft  https://imsdb.com/Movie%20Scripts/12%20Monkeys...   \n",
       "4          Draft  https://imsdb.com/Movie%20Scripts/12%20Years%2...   \n",
       "...          ...                                                ...   \n",
       "1210       Draft  https://imsdb.com/Movie%20Scripts/You%27ve%20G...   \n",
       "1211       Draft  https://imsdb.com/Movie%20Scripts/Youth%20in%2...   \n",
       "1212       Draft  https://imsdb.com/Movie%20Scripts/Zero%20Dark%...   \n",
       "1213       Draft  https://imsdb.com/Movie%20Scripts/Zerophilia%2...   \n",
       "1214       Draft  https://imsdb.com/Movie%20Scripts/Zootopia%20S...   \n",
       "\n",
       "                                             script url  \\\n",
       "0     https://imsdb.com/scripts/10-Things-I-Hate-Abo...   \n",
       "1                     https://imsdb.com/scripts/12.html   \n",
       "2         https://imsdb.com/scripts/12-and-Holding.html   \n",
       "3             https://imsdb.com/scripts/12-Monkeys.html   \n",
       "4       https://imsdb.com/scripts/12-Years-a-Slave.html   \n",
       "...                                                 ...   \n",
       "1210     https://imsdb.com/scripts/You've-Got-Mail.html   \n",
       "1211     https://imsdb.com/scripts/Youth-in-Revolt.html   \n",
       "1212    https://imsdb.com/scripts/Zero-Dark-Thirty.html   \n",
       "1213          https://imsdb.com/scripts/Zerophilia.html   \n",
       "1214            https://imsdb.com/scripts/Zootopia.html   \n",
       "\n",
       "                                         script fpath  \n",
       "0     Data-NLP/scripts/10-Things-I-Hate-About-You.txt  \n",
       "1                             Data-NLP/scripts/12.txt  \n",
       "2                 Data-NLP/scripts/12-and-Holding.txt  \n",
       "3                     Data-NLP/scripts/12-Monkeys.txt  \n",
       "4               Data-NLP/scripts/12-Years-a-Slave.txt  \n",
       "...                                               ...  \n",
       "1210                                              NaN  \n",
       "1211                                              NaN  \n",
       "1212                                              NaN  \n",
       "1213                                              NaN  \n",
       "1214                                              NaN  \n",
       "\n",
       "[1215 rows x 7 columns]"
      ]
     },
     "execution_count": 77,
     "metadata": {},
     "output_type": "execute_result"
    }
   ],
   "source": [
    "df"
   ]
  },
  {
   "cell_type": "code",
   "execution_count": 78,
   "id": "b6a8f645-c96a-4bdc-b8bb-81acf624444b",
   "metadata": {
    "execution": {
     "iopub.execute_input": "2024-01-16T22:44:15.107691Z",
     "iopub.status.busy": "2024-01-16T22:44:15.107483Z",
     "iopub.status.idle": "2024-01-16T22:44:15.111394Z",
     "shell.execute_reply": "2024-01-16T22:44:15.110786Z",
     "shell.execute_reply.started": "2024-01-16T22:44:15.107680Z"
    }
   },
   "outputs": [
    {
     "data": {
      "text/plain": [
       "1210"
      ]
     },
     "execution_count": 78,
     "metadata": {},
     "output_type": "execute_result"
    }
   ],
   "source": [
    "df['script fpath'].isna().sum()"
   ]
  },
  {
   "cell_type": "code",
   "execution_count": 79,
   "id": "5bc59402-e019-4ffb-8417-c89027bad99d",
   "metadata": {
    "execution": {
     "iopub.execute_input": "2024-01-16T22:44:15.112218Z",
     "iopub.status.busy": "2024-01-16T22:44:15.112105Z",
     "iopub.status.idle": "2024-01-16T22:44:15.119780Z",
     "shell.execute_reply": "2024-01-16T22:44:15.119124Z",
     "shell.execute_reply.started": "2024-01-16T22:44:15.112208Z"
    }
   },
   "outputs": [],
   "source": [
    "# df['script fpath'].str.contains(',').sum()"
   ]
  },
  {
   "cell_type": "code",
   "execution_count": 80,
   "id": "b103e8e7-4a49-4d44-bd5a-d2a36b9a6fca",
   "metadata": {
    "execution": {
     "iopub.execute_input": "2024-01-16T22:44:15.120641Z",
     "iopub.status.busy": "2024-01-16T22:44:15.120530Z",
     "iopub.status.idle": "2024-01-16T22:44:15.122650Z",
     "shell.execute_reply": "2024-01-16T22:44:15.122341Z",
     "shell.execute_reply.started": "2024-01-16T22:44:15.120632Z"
    }
   },
   "outputs": [],
   "source": [
    "fname_out = FOLDER + 'all-scripts-info-files.csv'"
   ]
  },
  {
   "cell_type": "code",
   "execution_count": 81,
   "id": "3fc6f9d0-3cff-427b-ba6e-d144b58522e2",
   "metadata": {
    "execution": {
     "iopub.execute_input": "2024-01-16T22:44:15.123170Z",
     "iopub.status.busy": "2024-01-16T22:44:15.123085Z",
     "iopub.status.idle": "2024-01-16T22:44:15.131154Z",
     "shell.execute_reply": "2024-01-16T22:44:15.130622Z",
     "shell.execute_reply.started": "2024-01-16T22:44:15.123162Z"
    }
   },
   "outputs": [],
   "source": [
    "df.to_csv(fname_out, index=False)"
   ]
  },
  {
   "cell_type": "code",
   "execution_count": 82,
   "id": "56d7fe03-954d-44df-9227-a50fa67ca9de",
   "metadata": {
    "execution": {
     "iopub.execute_input": "2024-01-16T22:44:15.131821Z",
     "iopub.status.busy": "2024-01-16T22:44:15.131715Z",
     "iopub.status.idle": "2024-01-16T22:44:15.143940Z",
     "shell.execute_reply": "2024-01-16T22:44:15.143439Z",
     "shell.execute_reply.started": "2024-01-16T22:44:15.131812Z"
    }
   },
   "outputs": [
    {
     "data": {
      "text/html": [
       "<div>\n",
       "<style scoped>\n",
       "    .dataframe tbody tr th:only-of-type {\n",
       "        vertical-align: middle;\n",
       "    }\n",
       "\n",
       "    .dataframe tbody tr th {\n",
       "        vertical-align: top;\n",
       "    }\n",
       "\n",
       "    .dataframe thead th {\n",
       "        text-align: right;\n",
       "    }\n",
       "</style>\n",
       "<table border=\"1\" class=\"dataframe\">\n",
       "  <thead>\n",
       "    <tr style=\"text-align: right;\">\n",
       "      <th></th>\n",
       "      <th>title</th>\n",
       "      <th>author</th>\n",
       "      <th>scipt date</th>\n",
       "      <th>script type</th>\n",
       "      <th>movie url</th>\n",
       "      <th>script url</th>\n",
       "      <th>script fpath</th>\n",
       "    </tr>\n",
       "  </thead>\n",
       "  <tbody>\n",
       "    <tr>\n",
       "      <th>0</th>\n",
       "      <td>10 Things I Hate About You</td>\n",
       "      <td>Karen McCullah Lutz,Kirsten Smith,William Shak...</td>\n",
       "      <td>1997-11</td>\n",
       "      <td>Draft</td>\n",
       "      <td>https://imsdb.com/Movie%20Scripts/10%20Things%...</td>\n",
       "      <td>https://imsdb.com/scripts/10-Things-I-Hate-Abo...</td>\n",
       "      <td>Data-NLP/scripts/10-Things-I-Hate-About-You.txt</td>\n",
       "    </tr>\n",
       "    <tr>\n",
       "      <th>1</th>\n",
       "      <td>12</td>\n",
       "      <td>Lawrence Bridges</td>\n",
       "      <td>Undated</td>\n",
       "      <td>Draft</td>\n",
       "      <td>https://imsdb.com/Movie%20Scripts/12%20Script....</td>\n",
       "      <td>https://imsdb.com/scripts/12.html</td>\n",
       "      <td>Data-NLP/scripts/12.txt</td>\n",
       "    </tr>\n",
       "    <tr>\n",
       "      <th>2</th>\n",
       "      <td>12 and Holding</td>\n",
       "      <td>Anthony Cipriano</td>\n",
       "      <td>2004-04</td>\n",
       "      <td>Draft</td>\n",
       "      <td>https://imsdb.com/Movie%20Scripts/12%20and%20H...</td>\n",
       "      <td>https://imsdb.com/scripts/12-and-Holding.html</td>\n",
       "      <td>Data-NLP/scripts/12-and-Holding.txt</td>\n",
       "    </tr>\n",
       "    <tr>\n",
       "      <th>3</th>\n",
       "      <td>12 Monkeys</td>\n",
       "      <td>David Peoples,Janet Peoples</td>\n",
       "      <td>1994-06</td>\n",
       "      <td>Draft</td>\n",
       "      <td>https://imsdb.com/Movie%20Scripts/12%20Monkeys...</td>\n",
       "      <td>https://imsdb.com/scripts/12-Monkeys.html</td>\n",
       "      <td>Data-NLP/scripts/12-Monkeys.txt</td>\n",
       "    </tr>\n",
       "    <tr>\n",
       "      <th>4</th>\n",
       "      <td>12 Years a Slave</td>\n",
       "      <td>John Ridley</td>\n",
       "      <td>Undated</td>\n",
       "      <td>Draft</td>\n",
       "      <td>https://imsdb.com/Movie%20Scripts/12%20Years%2...</td>\n",
       "      <td>https://imsdb.com/scripts/12-Years-a-Slave.html</td>\n",
       "      <td>Data-NLP/scripts/12-Years-a-Slave.txt</td>\n",
       "    </tr>\n",
       "    <tr>\n",
       "      <th>...</th>\n",
       "      <td>...</td>\n",
       "      <td>...</td>\n",
       "      <td>...</td>\n",
       "      <td>...</td>\n",
       "      <td>...</td>\n",
       "      <td>...</td>\n",
       "      <td>...</td>\n",
       "    </tr>\n",
       "    <tr>\n",
       "      <th>1210</th>\n",
       "      <td>You've Got Mail</td>\n",
       "      <td>Nora Ephron,Delia Ephron</td>\n",
       "      <td>1998-02</td>\n",
       "      <td>Draft</td>\n",
       "      <td>https://imsdb.com/Movie%20Scripts/You%27ve%20G...</td>\n",
       "      <td>https://imsdb.com/scripts/You've-Got-Mail.html</td>\n",
       "      <td>NaN</td>\n",
       "    </tr>\n",
       "    <tr>\n",
       "      <th>1211</th>\n",
       "      <td>Youth in Revolt</td>\n",
       "      <td>Gustin Nash</td>\n",
       "      <td>2007-07</td>\n",
       "      <td>Draft</td>\n",
       "      <td>https://imsdb.com/Movie%20Scripts/Youth%20in%2...</td>\n",
       "      <td>https://imsdb.com/scripts/Youth-in-Revolt.html</td>\n",
       "      <td>NaN</td>\n",
       "    </tr>\n",
       "    <tr>\n",
       "      <th>1212</th>\n",
       "      <td>Zero Dark Thirty</td>\n",
       "      <td>Mark Boal</td>\n",
       "      <td>2011-10</td>\n",
       "      <td>Draft</td>\n",
       "      <td>https://imsdb.com/Movie%20Scripts/Zero%20Dark%...</td>\n",
       "      <td>https://imsdb.com/scripts/Zero-Dark-Thirty.html</td>\n",
       "      <td>NaN</td>\n",
       "    </tr>\n",
       "    <tr>\n",
       "      <th>1213</th>\n",
       "      <td>Zerophilia</td>\n",
       "      <td>Martin Curland</td>\n",
       "      <td>2004-03</td>\n",
       "      <td>Draft</td>\n",
       "      <td>https://imsdb.com/Movie%20Scripts/Zerophilia%2...</td>\n",
       "      <td>https://imsdb.com/scripts/Zerophilia.html</td>\n",
       "      <td>NaN</td>\n",
       "    </tr>\n",
       "    <tr>\n",
       "      <th>1214</th>\n",
       "      <td>Zootopia</td>\n",
       "      <td>Jared Bush,Phil Johnston</td>\n",
       "      <td>Undated</td>\n",
       "      <td>Draft</td>\n",
       "      <td>https://imsdb.com/Movie%20Scripts/Zootopia%20S...</td>\n",
       "      <td>https://imsdb.com/scripts/Zootopia.html</td>\n",
       "      <td>NaN</td>\n",
       "    </tr>\n",
       "  </tbody>\n",
       "</table>\n",
       "<p>1215 rows × 7 columns</p>\n",
       "</div>"
      ],
      "text/plain": [
       "                           title  \\\n",
       "0     10 Things I Hate About You   \n",
       "1                             12   \n",
       "2                 12 and Holding   \n",
       "3                     12 Monkeys   \n",
       "4               12 Years a Slave   \n",
       "...                          ...   \n",
       "1210             You've Got Mail   \n",
       "1211             Youth in Revolt   \n",
       "1212            Zero Dark Thirty   \n",
       "1213                  Zerophilia   \n",
       "1214                    Zootopia   \n",
       "\n",
       "                                                 author scipt date  \\\n",
       "0     Karen McCullah Lutz,Kirsten Smith,William Shak...    1997-11   \n",
       "1                                      Lawrence Bridges    Undated   \n",
       "2                                      Anthony Cipriano    2004-04   \n",
       "3                           David Peoples,Janet Peoples    1994-06   \n",
       "4                                           John Ridley    Undated   \n",
       "...                                                 ...        ...   \n",
       "1210                           Nora Ephron,Delia Ephron    1998-02   \n",
       "1211                                        Gustin Nash    2007-07   \n",
       "1212                                          Mark Boal    2011-10   \n",
       "1213                                     Martin Curland    2004-03   \n",
       "1214                           Jared Bush,Phil Johnston    Undated   \n",
       "\n",
       "     script type                                          movie url  \\\n",
       "0          Draft  https://imsdb.com/Movie%20Scripts/10%20Things%...   \n",
       "1          Draft  https://imsdb.com/Movie%20Scripts/12%20Script....   \n",
       "2          Draft  https://imsdb.com/Movie%20Scripts/12%20and%20H...   \n",
       "3          Draft  https://imsdb.com/Movie%20Scripts/12%20Monkeys...   \n",
       "4          Draft  https://imsdb.com/Movie%20Scripts/12%20Years%2...   \n",
       "...          ...                                                ...   \n",
       "1210       Draft  https://imsdb.com/Movie%20Scripts/You%27ve%20G...   \n",
       "1211       Draft  https://imsdb.com/Movie%20Scripts/Youth%20in%2...   \n",
       "1212       Draft  https://imsdb.com/Movie%20Scripts/Zero%20Dark%...   \n",
       "1213       Draft  https://imsdb.com/Movie%20Scripts/Zerophilia%2...   \n",
       "1214       Draft  https://imsdb.com/Movie%20Scripts/Zootopia%20S...   \n",
       "\n",
       "                                             script url  \\\n",
       "0     https://imsdb.com/scripts/10-Things-I-Hate-Abo...   \n",
       "1                     https://imsdb.com/scripts/12.html   \n",
       "2         https://imsdb.com/scripts/12-and-Holding.html   \n",
       "3             https://imsdb.com/scripts/12-Monkeys.html   \n",
       "4       https://imsdb.com/scripts/12-Years-a-Slave.html   \n",
       "...                                                 ...   \n",
       "1210     https://imsdb.com/scripts/You've-Got-Mail.html   \n",
       "1211     https://imsdb.com/scripts/Youth-in-Revolt.html   \n",
       "1212    https://imsdb.com/scripts/Zero-Dark-Thirty.html   \n",
       "1213          https://imsdb.com/scripts/Zerophilia.html   \n",
       "1214            https://imsdb.com/scripts/Zootopia.html   \n",
       "\n",
       "                                         script fpath  \n",
       "0     Data-NLP/scripts/10-Things-I-Hate-About-You.txt  \n",
       "1                             Data-NLP/scripts/12.txt  \n",
       "2                 Data-NLP/scripts/12-and-Holding.txt  \n",
       "3                     Data-NLP/scripts/12-Monkeys.txt  \n",
       "4               Data-NLP/scripts/12-Years-a-Slave.txt  \n",
       "...                                               ...  \n",
       "1210                                              NaN  \n",
       "1211                                              NaN  \n",
       "1212                                              NaN  \n",
       "1213                                              NaN  \n",
       "1214                                              NaN  \n",
       "\n",
       "[1215 rows x 7 columns]"
      ]
     },
     "execution_count": 82,
     "metadata": {},
     "output_type": "execute_result"
    }
   ],
   "source": [
    "pd.read_csv(fname_out)"
   ]
  },
  {
   "cell_type": "code",
   "execution_count": null,
   "id": "01b8a54c-a7bf-4a66-b206-b8264abd6f06",
   "metadata": {},
   "outputs": [],
   "source": []
  }
 ],
 "metadata": {
  "kernelspec": {
   "display_name": "Python 3 (ipykernel)",
   "language": "python",
   "name": "python3"
  },
  "language_info": {
   "codemirror_mode": {
    "name": "ipython",
    "version": 3
   },
   "file_extension": ".py",
   "mimetype": "text/x-python",
   "name": "python",
   "nbconvert_exporter": "python",
   "pygments_lexer": "ipython3",
   "version": "3.10.10"
  }
 },
 "nbformat": 4,
 "nbformat_minor": 5
}
