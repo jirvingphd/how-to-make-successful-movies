{
 "cells": [
  {
   "cell_type": "markdown",
   "id": "913a72d3-e087-4b21-aed4-9bb8d94accb0",
   "metadata": {},
   "source": [
    "# Part 6A - NLP Preprocessing - Movie Reviews"
   ]
  },
  {
   "cell_type": "markdown",
   "id": "032e67bf-c716-436a-bf6b-19723b063423",
   "metadata": {},
   "source": [
    "## Sentiment Analysis and Rating Prediction of Movie Reviews"
   ]
  },
  {
   "cell_type": "markdown",
   "id": "48a3e625-1dd3-468f-bf2c-036a63f6a1c4",
   "metadata": {},
   "source": [
    "#### Overview:\n",
    "\n",
    "This project is an extension of the movies project. This portion focuses on applying Natural Language Processing (NLP) techniques to analyze a dataset of movie reviews. Students will leverage NLP tools such as NLTK, SpaCy, wordcloud, and Scikit-Learn to explore, analyze, and model text data. The ultimate goal is to establish a relationship between the textual content of the reviews and their associated ratings and subsequently predict these ratings.\n",
    "\n",
    "#### Dataset: TMDB Movie Reviews\n",
    "\n",
    "[![Image](https://assets.codingdojo.com/boomyeah2015/codingdojo/curriculum/content/chapter/1700174921__pastedimage0.png)](https://drive.google.com/file/d/10XnBycJ2bGStZJ2kWoyzZRrInKJlaiYZ/view?usp=sharing)\n",
    "\n",
    "[TMDB movie reviews](https://drive.google.com/file/d/1vLUzSYleJXqsjNMsq76yTQ5fmNlSHFJI/view?usp=sharing). Ratings range from 1 to 10\n",
    "\n",
    "- Gathered through the tmdbsimple python wrapper for the TMDB API. To legally cite TMDB, please follow their attribution requirements, which we have [summarized here](https://docs.google.com/document/d/1LzFQDulDdQjiMuZ8sBYeDbHnN62ZWjFU_xt_4eSwVIw/edit?usp=sharing).\n",
    "\n",
    "\n",
    "\n",
    "- Note: if you have an alternative text classification dataset that you would like to use for this project, **please contact your instructor immediately for approval.**\n",
    "\n",
    "## Tasks:\n",
    "\n",
    "**0) Update Your Project 2 Repo**\n",
    "\n",
    "- Create a new \"Data-NLP/\" folder in your Project 2 repository.\n",
    "- Add the downloaded review file to this new Data-NLP folder.\n",
    "\n",
    "- Make sure you have an \"Images/\" folder. If not, create one.\n",
    "\n",
    "\n",
    "\n",
    "**1) Data Preprocessing:**\n",
    "\n",
    "- Load and inspect the dataset.\n",
    "    - How many reviews?\n",
    "    - What does the distribution of ratings look like?\n",
    "    - Any null values?\n",
    "\n",
    "\n",
    "\n",
    "- Use the rating column to create a new target column with two groups: high-rating and low-rating groups.\n",
    "    - We recommend defining \"High-rating\" reviews as any review with a rating >=9; and \"Low-rating\" reviews as any review with a rating <=4. The middle ratings between 4 and 9 will be excluded from the analysis.\n",
    "    - You may use an alternative definition for High and Low reviews, but justify your choice in your notebook/README.\n",
    "\n",
    "\n",
    "\n",
    "- Utilize NLTK and SpaCy for basic text processing, including:\n",
    "\n",
    "    - removing stopwords\n",
    "    - tokenization\n",
    "    - lemmatization\n",
    "    - Tips:\n",
    "        - Be sure to create a custom nlp object and disable the named entity recognizer. Otherwise, processing will take a very long time!\n",
    "        - **You will want to create several versions of the data, lemmatized, tokenized, lemmatized, and joined back to one string per review, and tokenized and joined back to one string per review.** This will be useful for different analysis and modeling techniques.\n",
    "\n",
    "    \n",
    "\n",
    "- Save your processed data frame in a **joblib** file saved in the \"Data-NLP/\" folder for future modeling.\n",
    "\n",
    "    \n",
    "\n",
    "**2) EDA and Visualization:**\n",
    "\n",
    "- Create word clouds to visualize the most frequent and significant words in each group.\n",
    "    - Remember, you can use this analysis to identify additional custom EDA stop words to use for visualization. (e.g., if the words are common in both groups)\n",
    "    - **Save your wordclouds as .png files in the \"Images/\" folder in your repo.**\n",
    "\n",
    "\n",
    "\n",
    "- Apply nltk's `FreqDist` class to compare the frequency distribution of words in the review groups.\n",
    "    - Remember, you can use this analysis to identify additional custom EDA stop words to use for visualization. (e.g., if the words are common in both groups)\n",
    "    - **Save your freq dist plots as .png files in the \"Images/\" folder in your repo.**\n",
    "\n",
    "\n",
    "\n",
    "- Perform n-grams analysis (bigrams and trigrams),\n",
    "    - Remember, you can use this analysis to identify additional custom stop words to use for EDA. (e.g., if the words are common in both groups)\n",
    "    - Focus on bigrams or trigrams, using NLTK's `BigramCollocationFinder` and BigramAssocMeasures classes (or the Trigram equivalent Finder and Measures) to explore commonly used groups of words for each rating-group.\n",
    "    - Describe any differences. What do these differences tell you?\n",
    "    - Save your\n",
    "\n",
    "\n",
    "\n",
    "- Perform sentiment analysis to create polarity scores according to VADERS's sentiment lexicon.\n",
    "\n",
    "    - Compare the sentiments of high-rating and low-rating texts.\n",
    "\n",
    "    - Compare the average sentiment scores for high and low-rating reviews.\n",
    "\n",
    "    - Which review polarity scores don't match the ratings? Why do you think this is?\n",
    "\n",
    "        \n",
    "\n",
    "**3) Evaluation and Reporting:**\n",
    "\n",
    "- Based on your analyses, what should someone do (or not do) if they want to make a highly-rated movie?\n",
    "    - List 3 things associated with high-rating reviews\n",
    "    - List 3 things associated with low-rating reviews."
   ]
  },
  {
   "cell_type": "markdown",
   "id": "bf68a627-2d93-4e3d-9574-5b3211f71f97",
   "metadata": {},
   "source": [
    "## Project Organization"
   ]
  },
  {
   "cell_type": "markdown",
   "id": "a73e6c37-a58f-4045-96f9-8d5a95219a81",
   "metadata": {},
   "source": [
    "\n",
    "### Files to Track"
   ]
  },
  {
   "cell_type": "markdown",
   "id": "d0fb73d4-a12e-4d22-a930-28901b5f8044",
   "metadata": {},
   "source": [
    "-  `data`:\n",
    "    -  Full dataframe of dataset used\n",
    "    -  EDA/preview DataFrame\n",
    "    -  Data from Machine Learning (ML) Models (if applicable):\n",
    "        -  train-data.joblib (X_train, y_train)\n",
    "        -  test-data.joblib (X_test, y_test)\n",
    "    -  Data from Neural Network (NN) Models (if applicable):\n",
    "        -  TF records (saving Tensorflow Datasets)\n",
    "     \n",
    "-  `models`:\n",
    "    -  for Machine Learning (ML): joblib file or tensorflow model folder)\n",
    "    -  for Neural Networks (NN): saved keras model folder.\n",
    " \n",
    "- `images`:\n",
    "    - App assets (e.g. banner png image)\n",
    "    - Saved Figures\n",
    "    - scattertext (for now)\n",
    "    \n",
    "- `config`:\n",
    "    - a file for tracking all of the filepaths above."
   ]
  },
  {
   "cell_type": "code",
   "execution_count": 1,
   "id": "abc1fcfc-cbc6-4490-a2ad-6e781e86c948",
   "metadata": {
    "execution": {
     "iopub.execute_input": "2024-01-23T05:14:15.350118Z",
     "iopub.status.busy": "2024-01-23T05:14:15.349996Z",
     "iopub.status.idle": "2024-01-23T05:14:15.498514Z",
     "shell.execute_reply": "2024-01-23T05:14:15.498137Z",
     "shell.execute_reply.started": "2024-01-23T05:14:15.350108Z"
    }
   },
   "outputs": [],
   "source": [
    "import os, sys, joblib\n",
    "# sys.path.append(os.path.abspath(\"../NLP/\"))\n",
    "# sys.path.append(os.path.abspath(\"../\"))\n",
    "# sys.path.append(os.path.abspath(\"../../\"))\n",
    "%load_ext autoreload\n",
    "%autoreload 2\n",
    "    \n",
    "# import custom_functions as fn\n",
    "import project_functions as pf"
   ]
  },
  {
   "cell_type": "code",
   "execution_count": 2,
   "id": "5b0bf473-0450-45ed-a751-48a440f972ea",
   "metadata": {
    "execution": {
     "iopub.execute_input": "2024-01-23T05:14:15.500095Z",
     "iopub.status.busy": "2024-01-23T05:14:15.499961Z",
     "iopub.status.idle": "2024-01-23T05:14:16.639659Z",
     "shell.execute_reply": "2024-01-23T05:14:16.639314Z",
     "shell.execute_reply.started": "2024-01-23T05:14:15.500086Z"
    }
   },
   "outputs": [
    {
     "data": {
      "text/plain": [
       "'1.0.0'"
      ]
     },
     "execution_count": 2,
     "metadata": {},
     "output_type": "execute_result"
    }
   ],
   "source": [
    "# !pip install -U dojo_ds -q\n",
    "import dojo_ds as ds\n",
    "ds.__version__"
   ]
  },
  {
   "cell_type": "code",
   "execution_count": 3,
   "id": "1b2e1204-f584-452d-b433-69b67e43e694",
   "metadata": {
    "execution": {
     "iopub.execute_input": "2024-01-23T05:14:16.640400Z",
     "iopub.status.busy": "2024-01-23T05:14:16.640245Z",
     "iopub.status.idle": "2024-01-23T05:14:16.660841Z",
     "shell.execute_reply": "2024-01-23T05:14:16.660487Z",
     "shell.execute_reply.started": "2024-01-23T05:14:16.640390Z"
    }
   },
   "outputs": [],
   "source": [
    "import matplotlib.pyplot as plt\n",
    "import missingno\n",
    "import matplotlib as mpl\n",
    "import seaborn as sns\n",
    "import numpy as np\n",
    "import pandas as pd\n",
    "\n",
    "pd.set_option(\"display.max_columns\",50)\n",
    "# pd.set_option('display.max_colwidth', 250)\n",
    "\n",
    "fav_style = ('ggplot','tableau-colorblind10')\n",
    "fav_context  ={'context':'notebook', 'font_scale':1.1}\n",
    "plt.style.use(fav_style)\n",
    "sns.set_context(**fav_context)\n",
    "plt.rcParams['savefig.transparent'] = False\n",
    "plt.rcParams['savefig.bbox'] = 'tight'"
   ]
  },
  {
   "cell_type": "code",
   "execution_count": 4,
   "id": "cc594648-fd37-48cb-8e66-a271db41166e",
   "metadata": {
    "execution": {
     "iopub.execute_input": "2024-01-23T05:14:16.661377Z",
     "iopub.status.busy": "2024-01-23T05:14:16.661290Z",
     "iopub.status.idle": "2024-01-23T05:14:16.682650Z",
     "shell.execute_reply": "2024-01-23T05:14:16.682291Z",
     "shell.execute_reply.started": "2024-01-23T05:14:16.661369Z"
    }
   },
   "outputs": [
    {
     "name": "stdout",
     "output_type": "stream",
     "text": [
      "{'data': {'ml': {'test': 'Data-NLP/testing-data.joblib',\n",
      "                 'train': 'Data-NLP/training-data.joblib'},\n",
      "          'nn': {'test': 'data/testing-data-tf/',\n",
      "                 'train': 'data/training-data-tf/'},\n",
      "          'raw': {'eda': 'Data-NLP/eda-movie-reviews.csv.gz',\n",
      "                  'movie-info': 'Data-NLP/tmdb-movie-info.csv.gz',\n",
      "                  'movie-reviews': 'Data-NLP/tmdb-movie-reviews.csv.gz',\n",
      "                  'processed-joblib': 'Data-NLP/processed-nlp-data.joblib',\n",
      "                  'processed-json': 'Data-NLP/processed-nlp-data.json'}},\n",
      " 'eda': {'scattertext': 'EDA/scattertext.html',\n",
      "         'wordclouds': 'EDA/wordcloud-comparison.png'},\n",
      " 'images': {'banner': 'images/app-banner.png'},\n",
      " 'metadata': {'target_lookup': 'Data-NLP/target-lookup.json'},\n",
      " 'models': {'ml': {'bayes': 'Models/bayes-clf.joblib',\n",
      "                   'logreg': 'Models/log-reg.joblib',\n",
      "                   'random_forest': 'Models/random-forest.joblib'},\n",
      "            'nn': {'Attention': 'Models/keras/attn/',\n",
      "                   'GRU': 'Models/keras/gru/',\n",
      "                   'LSTM': 'Models/keras/lstm/'}}}\n"
     ]
    }
   ],
   "source": [
    "from pprint import pprint\n",
    "\n",
    "FPATHS = dict(\n",
    "    data={\n",
    "        \"raw\": {\n",
    "            \"movie-reviews\": \"Data-NLP/tmdb-movie-reviews.csv.gz\",\n",
    "            'movie-info': \"Data-NLP/tmdb-movie-info.csv.gz\",\n",
    "            \"eda\": \"Data-NLP/eda-movie-reviews.csv.gz\",\n",
    "            \"processed-joblib\": \"Data-NLP/processed-nlp-data.joblib\",\n",
    "            'processed-json':  \"Data-NLP/processed-nlp-data.json\",\n",
    "            # \"groups-dict\": \"Data-NLP/grouped-data-dict.joblib\",\n",
    "        },\n",
    "        \"ml\": {\n",
    "            \"train\": \"Data-NLP/training-data.joblib\",  # (X_train,y_train)\n",
    "            \"test\": \"Data-NLP/testing-data.joblib\",  # (X_test,y_test)\n",
    "        },\n",
    "        \"nn\": {\n",
    "            \"train\": \"data/training-data-tf/\",  # train_ds\n",
    "            \"test\": \"data/testing-data-tf/\",  # test_ds\n",
    "        },\n",
    "    },\n",
    "    models={\n",
    "        # Machine Learning Models and results\n",
    "        \"ml\": {\n",
    "            \"bayes\":\"Models/bayes-clf.joblib\",\n",
    "            \"random_forest\": \"Models/random-forest.joblib\",\n",
    "            \"logreg\":\"Models/log-reg.joblib\",\n",
    "        },\n",
    "        # Neural networks and results\n",
    "        \"nn\": {\n",
    "            \"LSTM\":  \"Models/keras/lstm/\",\n",
    "            \"GRU\":   \"Models/keras/gru/\",\n",
    "            \"Attention\": \"Models/keras/attn/\",\n",
    "            },\n",
    "        },\n",
    "    images={\n",
    "        \"banner\": \"images/app-banner.png\",\n",
    "    },\n",
    "    # # Additional metadata (target lookup,etc.)\n",
    "    metadata={\n",
    "        \"target_lookup\": \"Data-NLP/target-lookup.json\",\n",
    "    },\n",
    "    # Any images to be displayed in the app\n",
    "    eda={\n",
    "        \"wordclouds\": \"EDA/wordcloud-comparison.png\",\n",
    "        \n",
    "        \"scattertext\": \"EDA/scattertext.html\",\n",
    "    }\n",
    "    \n",
    ")\n",
    "# fn.utils.create_directories_from_paths(FPATHS)\n",
    "ds.utils.create_directories_from_paths(FPATHS)\n",
    "\n",
    "pprint(FPATHS)\n",
    "\n",
    "# fn.deploy.save_filepath_config(FPATHS)\n",
    "# pprint(FPATHS)\n",
    "\n",
    "import json\n",
    "\n",
    "## Save the filepaths\n",
    "import os\n",
    "\n",
    "os.makedirs(\"config/\", exist_ok=True)\n",
    "FPATHS_FILE = \"config/filepaths.json\"\n",
    "with open(FPATHS_FILE, \"w\") as f:\n",
    "    json.dump(FPATHS, f)"
   ]
  },
  {
   "cell_type": "code",
   "execution_count": 5,
   "id": "32b63950-389a-449a-9983-c38bc6d542fd",
   "metadata": {
    "execution": {
     "iopub.execute_input": "2024-01-23T05:14:16.683329Z",
     "iopub.status.busy": "2024-01-23T05:14:16.683228Z",
     "iopub.status.idle": "2024-01-23T05:14:16.702482Z",
     "shell.execute_reply": "2024-01-23T05:14:16.702160Z",
     "shell.execute_reply.started": "2024-01-23T05:14:16.683320Z"
    }
   },
   "outputs": [
    {
     "data": {
      "text/plain": [
       "{'data': {'raw': {'movie-reviews': 'Data-NLP/tmdb-movie-reviews.csv.gz',\n",
       "   'movie-info': 'Data-NLP/tmdb-movie-info.csv.gz',\n",
       "   'eda': 'Data-NLP/eda-movie-reviews.csv.gz',\n",
       "   'processed-joblib': 'Data-NLP/processed-nlp-data.joblib',\n",
       "   'processed-json': 'Data-NLP/processed-nlp-data.json'},\n",
       "  'ml': {'train': 'Data-NLP/training-data.joblib',\n",
       "   'test': 'Data-NLP/testing-data.joblib'},\n",
       "  'nn': {'train': 'data/training-data-tf/', 'test': 'data/testing-data-tf/'}},\n",
       " 'models': {'ml': {'bayes': 'Models/bayes-clf.joblib',\n",
       "   'random_forest': 'Models/random-forest.joblib',\n",
       "   'logreg': 'Models/log-reg.joblib'},\n",
       "  'nn': {'LSTM': 'Models/keras/lstm/',\n",
       "   'GRU': 'Models/keras/gru/',\n",
       "   'Attention': 'Models/keras/attn/'}},\n",
       " 'images': {'banner': 'images/app-banner.png'},\n",
       " 'metadata': {'target_lookup': 'Data-NLP/target-lookup.json'},\n",
       " 'eda': {'wordclouds': 'EDA/wordcloud-comparison.png',\n",
       "  'scattertext': 'EDA/scattertext.html'}}"
      ]
     },
     "execution_count": 5,
     "metadata": {},
     "output_type": "execute_result"
    }
   ],
   "source": [
    "with open(FPATHS_FILE) as f:\n",
    "    FPATHS = json.load(f)\n",
    "FPATHS"
   ]
  },
  {
   "cell_type": "markdown",
   "id": "a7d02732-a46e-4dfb-b8a9-6ce386329281",
   "metadata": {},
   "source": [
    "## Load Data (Options)"
   ]
  },
  {
   "cell_type": "code",
   "execution_count": null,
   "id": "0c691bbb-55d2-4306-b6ab-5be68aea2e9d",
   "metadata": {},
   "outputs": [],
   "source": []
  },
  {
   "cell_type": "markdown",
   "id": "88108c00-684b-4e5b-852b-78767b45f1a7",
   "metadata": {},
   "source": [
    "### Opt A) Combine Downloaded Review Folders"
   ]
  },
  {
   "cell_type": "markdown",
   "id": "ab84e970-4fbf-4282-a02e-2c575079d0dc",
   "metadata": {},
   "source": [
    "- Unsure as to which approach for load download files - from glob or from movie data csv"
   ]
  },
  {
   "cell_type": "markdown",
   "id": "cf679cac-44c4-4e3f-881b-1e1f18f12126",
   "metadata": {},
   "source": [
    "#### A1) From Folders"
   ]
  },
  {
   "cell_type": "code",
   "execution_count": 6,
   "id": "126257b3-ca3c-43d3-ab97-6db62eeca2db",
   "metadata": {
    "execution": {
     "iopub.execute_input": "2024-01-23T05:14:16.703175Z",
     "iopub.status.busy": "2024-01-23T05:14:16.703075Z",
     "iopub.status.idle": "2024-01-23T05:14:16.722170Z",
     "shell.execute_reply": "2024-01-23T05:14:16.721822Z",
     "shell.execute_reply.started": "2024-01-23T05:14:16.703166Z"
    }
   },
   "outputs": [],
   "source": [
    "import glob\n",
    "FOLDER = \"Data-NLP/reviews/\""
   ]
  },
  {
   "cell_type": "code",
   "execution_count": 7,
   "id": "1a119c51-4316-40a6-a2a4-95bfd6203bbb",
   "metadata": {
    "execution": {
     "iopub.execute_input": "2024-01-23T05:14:16.724547Z",
     "iopub.status.busy": "2024-01-23T05:14:16.724325Z",
     "iopub.status.idle": "2024-01-23T05:14:16.752927Z",
     "shell.execute_reply": "2024-01-23T05:14:16.752613Z",
     "shell.execute_reply.started": "2024-01-23T05:14:16.724533Z"
    }
   },
   "outputs": [
    {
     "data": {
      "text/plain": [
       "6130"
      ]
     },
     "execution_count": 7,
     "metadata": {},
     "output_type": "execute_result"
    }
   ],
   "source": [
    "review_files_dir = sorted(glob.glob(FOLDER+\"*review*.json\"))\n",
    "# review_files = df['reviews_file'].dropna().to_list()\n",
    "# review_files = reviews_files_df['filename'].to_list()\n",
    "len(review_files_dir)"
   ]
  },
  {
   "cell_type": "code",
   "execution_count": 8,
   "id": "95d029db-301a-4575-83fc-f7256e0e6afc",
   "metadata": {
    "execution": {
     "iopub.execute_input": "2024-01-23T05:14:16.753694Z",
     "iopub.status.busy": "2024-01-23T05:14:16.753503Z",
     "iopub.status.idle": "2024-01-23T05:14:26.423345Z",
     "shell.execute_reply": "2024-01-23T05:14:26.423074Z",
     "shell.execute_reply.started": "2024-01-23T05:14:16.753682Z"
    }
   },
   "outputs": [
    {
     "name": "stdout",
     "output_type": "stream",
     "text": [
      "<class 'pandas.core.frame.DataFrame'>\n",
      "RangeIndex: 12051 entries, 0 to 12050\n",
      "Data columns (total 5 columns):\n",
      " #   Column       Non-Null Count  Dtype              \n",
      "---  ------       --------------  -----              \n",
      " 0   movie_id     12051 non-null  int64              \n",
      " 1   review_id    9024 non-null   object             \n",
      " 2   rating       7791 non-null   float64            \n",
      " 3   review_text  9024 non-null   object             \n",
      " 4   created_at   9024 non-null   datetime64[ns, UTC]\n",
      "dtypes: datetime64[ns, UTC](1), float64(1), int64(1), object(2)\n",
      "memory usage: 470.9+ KB\n"
     ]
    },
    {
     "data": {
      "text/html": [
       "<div>\n",
       "<style scoped>\n",
       "    .dataframe tbody tr th:only-of-type {\n",
       "        vertical-align: middle;\n",
       "    }\n",
       "\n",
       "    .dataframe tbody tr th {\n",
       "        vertical-align: top;\n",
       "    }\n",
       "\n",
       "    .dataframe thead th {\n",
       "        text-align: right;\n",
       "    }\n",
       "</style>\n",
       "<table border=\"1\" class=\"dataframe\">\n",
       "  <thead>\n",
       "    <tr style=\"text-align: right;\">\n",
       "      <th></th>\n",
       "      <th>movie_id</th>\n",
       "      <th>review_id</th>\n",
       "      <th>rating</th>\n",
       "      <th>review_text</th>\n",
       "      <th>created_at</th>\n",
       "    </tr>\n",
       "  </thead>\n",
       "  <tbody>\n",
       "    <tr>\n",
       "      <th>0</th>\n",
       "      <td>100042</td>\n",
       "      <td>64a3999fe9da6900c763aa8d</td>\n",
       "      <td>7.0</td>\n",
       "      <td>Better then the original I think. Was pretty f...</td>\n",
       "      <td>2023-07-04 04:01:35.517000+00:00</td>\n",
       "    </tr>\n",
       "    <tr>\n",
       "      <th>1</th>\n",
       "      <td>10007</td>\n",
       "      <td>NaN</td>\n",
       "      <td>NaN</td>\n",
       "      <td>NaN</td>\n",
       "      <td>NaT</td>\n",
       "    </tr>\n",
       "    <tr>\n",
       "      <th>2</th>\n",
       "      <td>10008</td>\n",
       "      <td>643d44864d67910469d853a2</td>\n",
       "      <td>5.0</td>\n",
       "      <td>Kind of boring. It's a good plot and storyline...</td>\n",
       "      <td>2023-04-17 13:07:18.832000+00:00</td>\n",
       "    </tr>\n",
       "    <tr>\n",
       "      <th>3</th>\n",
       "      <td>10009</td>\n",
       "      <td>5f22bd2b43999b00355b26a6</td>\n",
       "      <td>7.0</td>\n",
       "      <td>Heartwarming, if not as impactful as it intend...</td>\n",
       "      <td>2020-07-30 12:29:31.310000+00:00</td>\n",
       "    </tr>\n",
       "    <tr>\n",
       "      <th>4</th>\n",
       "      <td>10009</td>\n",
       "      <td>6592736214956560f7da631f</td>\n",
       "      <td>7.0</td>\n",
       "      <td>\"Kenai\" is a young Inuit warrior who disturbs ...</td>\n",
       "      <td>2024-01-01 08:10:10.033000+00:00</td>\n",
       "    </tr>\n",
       "  </tbody>\n",
       "</table>\n",
       "</div>"
      ],
      "text/plain": [
       "   movie_id                 review_id  rating  \\\n",
       "0    100042  64a3999fe9da6900c763aa8d     7.0   \n",
       "1     10007                       NaN     NaN   \n",
       "2     10008  643d44864d67910469d853a2     5.0   \n",
       "3     10009  5f22bd2b43999b00355b26a6     7.0   \n",
       "4     10009  6592736214956560f7da631f     7.0   \n",
       "\n",
       "                                         review_text  \\\n",
       "0  Better then the original I think. Was pretty f...   \n",
       "1                                                NaN   \n",
       "2  Kind of boring. It's a good plot and storyline...   \n",
       "3  Heartwarming, if not as impactful as it intend...   \n",
       "4  \"Kenai\" is a young Inuit warrior who disturbs ...   \n",
       "\n",
       "                        created_at  \n",
       "0 2023-07-04 04:01:35.517000+00:00  \n",
       "1                              NaT  \n",
       "2 2023-04-17 13:07:18.832000+00:00  \n",
       "3 2020-07-30 12:29:31.310000+00:00  \n",
       "4 2024-01-01 08:10:10.033000+00:00  "
      ]
     },
     "execution_count": 8,
     "metadata": {},
     "output_type": "execute_result"
    }
   ],
   "source": [
    "# Loading all reviews from json \n",
    "loaded = []\n",
    "\n",
    "for file in review_files_dir:\n",
    "    temp = pd.read_json(file)\n",
    "    loaded.append(temp)\n",
    "\n",
    "df_reviews_dirs = pd.concat(loaded)\n",
    "df_reviews_dirs = df_reviews_dirs.reset_index(drop=True)\n",
    "\n",
    "df_reviews_dirs.info()\n",
    "df_reviews_dirs.head()"
   ]
  },
  {
   "cell_type": "code",
   "execution_count": 9,
   "id": "d57ffaa8-c82f-4b26-ac23-fcc69e3c7c41",
   "metadata": {
    "execution": {
     "iopub.execute_input": "2024-01-23T05:14:26.423918Z",
     "iopub.status.busy": "2024-01-23T05:14:26.423829Z",
     "iopub.status.idle": "2024-01-23T05:14:26.443962Z",
     "shell.execute_reply": "2024-01-23T05:14:26.443648Z",
     "shell.execute_reply.started": "2024-01-23T05:14:26.423910Z"
    }
   },
   "outputs": [
    {
     "data": {
      "text/plain": [
       "3027"
      ]
     },
     "execution_count": 9,
     "metadata": {},
     "output_type": "execute_result"
    }
   ],
   "source": [
    "df_reviews_dirs['review_text'].isna().sum()"
   ]
  },
  {
   "cell_type": "code",
   "execution_count": 10,
   "id": "3cd52f0d-593a-4e4f-9c27-c1067bdc8e47",
   "metadata": {
    "execution": {
     "iopub.execute_input": "2024-01-23T05:14:26.444618Z",
     "iopub.status.busy": "2024-01-23T05:14:26.444523Z",
     "iopub.status.idle": "2024-01-23T05:14:26.469096Z",
     "shell.execute_reply": "2024-01-23T05:14:26.468758Z",
     "shell.execute_reply.started": "2024-01-23T05:14:26.444610Z"
    },
    "scrolled": true
   },
   "outputs": [
    {
     "data": {
      "text/html": [
       "<div>\n",
       "<style scoped>\n",
       "    .dataframe tbody tr th:only-of-type {\n",
       "        vertical-align: middle;\n",
       "    }\n",
       "\n",
       "    .dataframe tbody tr th {\n",
       "        vertical-align: top;\n",
       "    }\n",
       "\n",
       "    .dataframe thead th {\n",
       "        text-align: right;\n",
       "    }\n",
       "</style>\n",
       "<table border=\"1\" class=\"dataframe\">\n",
       "  <thead>\n",
       "    <tr style=\"text-align: right;\">\n",
       "      <th></th>\n",
       "      <th>movie_id</th>\n",
       "      <th>review_id</th>\n",
       "      <th>rating</th>\n",
       "      <th>review_text</th>\n",
       "      <th>created_at</th>\n",
       "    </tr>\n",
       "  </thead>\n",
       "  <tbody>\n",
       "    <tr>\n",
       "      <th>0</th>\n",
       "      <td>100042</td>\n",
       "      <td>64a3999fe9da6900c763aa8d</td>\n",
       "      <td>7.0</td>\n",
       "      <td>Better then the original I think. Was pretty f...</td>\n",
       "      <td>2023-07-04 04:01:35.517000+00:00</td>\n",
       "    </tr>\n",
       "    <tr>\n",
       "      <th>1</th>\n",
       "      <td>10008</td>\n",
       "      <td>643d44864d67910469d853a2</td>\n",
       "      <td>5.0</td>\n",
       "      <td>Kind of boring. It's a good plot and storyline...</td>\n",
       "      <td>2023-04-17 13:07:18.832000+00:00</td>\n",
       "    </tr>\n",
       "    <tr>\n",
       "      <th>2</th>\n",
       "      <td>10009</td>\n",
       "      <td>5f22bd2b43999b00355b26a6</td>\n",
       "      <td>7.0</td>\n",
       "      <td>Heartwarming, if not as impactful as it intend...</td>\n",
       "      <td>2020-07-30 12:29:31.310000+00:00</td>\n",
       "    </tr>\n",
       "    <tr>\n",
       "      <th>3</th>\n",
       "      <td>10009</td>\n",
       "      <td>6592736214956560f7da631f</td>\n",
       "      <td>7.0</td>\n",
       "      <td>\"Kenai\" is a young Inuit warrior who disturbs ...</td>\n",
       "      <td>2024-01-01 08:10:10.033000+00:00</td>\n",
       "    </tr>\n",
       "    <tr>\n",
       "      <th>4</th>\n",
       "      <td>10012</td>\n",
       "      <td>628159c8caa50850dcf93d33</td>\n",
       "      <td>5.0</td>\n",
       "      <td>Seems like an apt title for everything that ha...</td>\n",
       "      <td>2022-05-15 19:51:36.244000+00:00</td>\n",
       "    </tr>\n",
       "    <tr>\n",
       "      <th>...</th>\n",
       "      <td>...</td>\n",
       "      <td>...</td>\n",
       "      <td>...</td>\n",
       "      <td>...</td>\n",
       "      <td>...</td>\n",
       "    </tr>\n",
       "    <tr>\n",
       "      <th>9019</th>\n",
       "      <td>99861</td>\n",
       "      <td>5e20dedc397df000129666b8</td>\n",
       "      <td>NaN</td>\n",
       "      <td>It's just what I feared. Marvel has gotten so ...</td>\n",
       "      <td>2020-01-16 22:08:28.630000+00:00</td>\n",
       "    </tr>\n",
       "    <tr>\n",
       "      <th>9020</th>\n",
       "      <td>99861</td>\n",
       "      <td>5ef819bba284eb00398dc810</td>\n",
       "      <td>7.0</td>\n",
       "      <td>Third viewing of this and while not the strong...</td>\n",
       "      <td>2020-06-28 04:16:59.341000+00:00</td>\n",
       "    </tr>\n",
       "    <tr>\n",
       "      <th>9021</th>\n",
       "      <td>99861</td>\n",
       "      <td>600616349a358d0040c2ecad</td>\n",
       "      <td>7.0</td>\n",
       "      <td>Cool seeing them all together again, even if I...</td>\n",
       "      <td>2021-01-18 23:13:56.078000+00:00</td>\n",
       "    </tr>\n",
       "    <tr>\n",
       "      <th>9022</th>\n",
       "      <td>9988</td>\n",
       "      <td>5a6940bc9251414a2e009179</td>\n",
       "      <td>5.0</td>\n",
       "      <td>Not one of Broken Lizard's strongest entries, ...</td>\n",
       "      <td>2018-01-25 02:28:12.494000+00:00</td>\n",
       "    </tr>\n",
       "    <tr>\n",
       "      <th>9023</th>\n",
       "      <td>9988</td>\n",
       "      <td>6449359c2fdec602fca107cb</td>\n",
       "      <td>8.0</td>\n",
       "      <td>This was a awesome movie. I love these guys ju...</td>\n",
       "      <td>2023-04-26 14:30:52.951000+00:00</td>\n",
       "    </tr>\n",
       "  </tbody>\n",
       "</table>\n",
       "<p>9024 rows × 5 columns</p>\n",
       "</div>"
      ],
      "text/plain": [
       "      movie_id                 review_id  rating  \\\n",
       "0       100042  64a3999fe9da6900c763aa8d     7.0   \n",
       "1        10008  643d44864d67910469d853a2     5.0   \n",
       "2        10009  5f22bd2b43999b00355b26a6     7.0   \n",
       "3        10009  6592736214956560f7da631f     7.0   \n",
       "4        10012  628159c8caa50850dcf93d33     5.0   \n",
       "...        ...                       ...     ...   \n",
       "9019     99861  5e20dedc397df000129666b8     NaN   \n",
       "9020     99861  5ef819bba284eb00398dc810     7.0   \n",
       "9021     99861  600616349a358d0040c2ecad     7.0   \n",
       "9022      9988  5a6940bc9251414a2e009179     5.0   \n",
       "9023      9988  6449359c2fdec602fca107cb     8.0   \n",
       "\n",
       "                                            review_text  \\\n",
       "0     Better then the original I think. Was pretty f...   \n",
       "1     Kind of boring. It's a good plot and storyline...   \n",
       "2     Heartwarming, if not as impactful as it intend...   \n",
       "3     \"Kenai\" is a young Inuit warrior who disturbs ...   \n",
       "4     Seems like an apt title for everything that ha...   \n",
       "...                                                 ...   \n",
       "9019  It's just what I feared. Marvel has gotten so ...   \n",
       "9020  Third viewing of this and while not the strong...   \n",
       "9021  Cool seeing them all together again, even if I...   \n",
       "9022  Not one of Broken Lizard's strongest entries, ...   \n",
       "9023  This was a awesome movie. I love these guys ju...   \n",
       "\n",
       "                           created_at  \n",
       "0    2023-07-04 04:01:35.517000+00:00  \n",
       "1    2023-04-17 13:07:18.832000+00:00  \n",
       "2    2020-07-30 12:29:31.310000+00:00  \n",
       "3    2024-01-01 08:10:10.033000+00:00  \n",
       "4    2022-05-15 19:51:36.244000+00:00  \n",
       "...                               ...  \n",
       "9019 2020-01-16 22:08:28.630000+00:00  \n",
       "9020 2020-06-28 04:16:59.341000+00:00  \n",
       "9021 2021-01-18 23:13:56.078000+00:00  \n",
       "9022 2018-01-25 02:28:12.494000+00:00  \n",
       "9023 2023-04-26 14:30:52.951000+00:00  \n",
       "\n",
       "[9024 rows x 5 columns]"
      ]
     },
     "execution_count": 10,
     "metadata": {},
     "output_type": "execute_result"
    }
   ],
   "source": [
    "df_reviews_dirs = df_reviews_dirs.dropna(subset=['review_text'])\n",
    "df_reviews_dirs = df_reviews_dirs.reset_index(drop=True)\n",
    "df_reviews_dirs"
   ]
  },
  {
   "cell_type": "code",
   "execution_count": 11,
   "id": "bc895eae-245d-4735-b09a-ebfebc3f2587",
   "metadata": {
    "execution": {
     "iopub.execute_input": "2024-01-23T05:14:26.469662Z",
     "iopub.status.busy": "2024-01-23T05:14:26.469565Z",
     "iopub.status.idle": "2024-01-23T05:14:26.492802Z",
     "shell.execute_reply": "2024-01-23T05:14:26.492492Z",
     "shell.execute_reply.started": "2024-01-23T05:14:26.469653Z"
    }
   },
   "outputs": [
    {
     "data": {
      "text/plain": [
       "movie_id          0\n",
       "review_id         0\n",
       "rating         1233\n",
       "review_text       0\n",
       "created_at        0\n",
       "dtype: int64"
      ]
     },
     "execution_count": 11,
     "metadata": {},
     "output_type": "execute_result"
    }
   ],
   "source": [
    "df_reviews_dirs.isna().sum()"
   ]
  },
  {
   "cell_type": "code",
   "execution_count": 12,
   "id": "86163d10-cd82-4234-9831-43f1908f725f",
   "metadata": {
    "execution": {
     "iopub.execute_input": "2024-01-23T05:14:26.493349Z",
     "iopub.status.busy": "2024-01-23T05:14:26.493260Z",
     "iopub.status.idle": "2024-01-23T05:14:26.513425Z",
     "shell.execute_reply": "2024-01-23T05:14:26.513077Z",
     "shell.execute_reply.started": "2024-01-23T05:14:26.493340Z"
    }
   },
   "outputs": [
    {
     "data": {
      "text/plain": [
       "0"
      ]
     },
     "execution_count": 12,
     "metadata": {},
     "output_type": "execute_result"
    }
   ],
   "source": [
    "# Check for duplciate review ids\n",
    "df_reviews_dirs.duplicated(subset=['review_id']).sum()"
   ]
  },
  {
   "cell_type": "code",
   "execution_count": 13,
   "id": "06194fec-d2f2-489c-9824-8ac451031070",
   "metadata": {
    "execution": {
     "iopub.execute_input": "2024-01-23T05:14:26.514248Z",
     "iopub.status.busy": "2024-01-23T05:14:26.514138Z",
     "iopub.status.idle": "2024-01-23T05:14:26.544047Z",
     "shell.execute_reply": "2024-01-23T05:14:26.543732Z",
     "shell.execute_reply.started": "2024-01-23T05:14:26.514238Z"
    }
   },
   "outputs": [
    {
     "data": {
      "text/plain": [
       "63"
      ]
     },
     "execution_count": 13,
     "metadata": {},
     "output_type": "execute_result"
    }
   ],
   "source": [
    "# Check for duplicated review text\n",
    "df_reviews_dirs.duplicated(subset=['review_text']).sum()"
   ]
  },
  {
   "cell_type": "code",
   "execution_count": 14,
   "id": "5f3877a2-0dbf-41ce-a6f0-0e0d059ef304",
   "metadata": {
    "execution": {
     "iopub.execute_input": "2024-01-23T05:14:26.544575Z",
     "iopub.status.busy": "2024-01-23T05:14:26.544480Z",
     "iopub.status.idle": "2024-01-23T05:14:26.601892Z",
     "shell.execute_reply": "2024-01-23T05:14:26.601588Z",
     "shell.execute_reply.started": "2024-01-23T05:14:26.544566Z"
    }
   },
   "outputs": [
    {
     "data": {
      "text/plain": [
       "59"
      ]
     },
     "execution_count": 14,
     "metadata": {},
     "output_type": "execute_result"
    }
   ],
   "source": [
    "dup_cols = ['review_text','rating']\n",
    "df_reviews_dirs.duplicated(subset=dup_cols).sum()"
   ]
  },
  {
   "cell_type": "code",
   "execution_count": 15,
   "id": "5299c69a-8a2d-456a-bf30-b152e27d04fd",
   "metadata": {
    "execution": {
     "iopub.execute_input": "2024-01-23T05:14:26.602741Z",
     "iopub.status.busy": "2024-01-23T05:14:26.602629Z",
     "iopub.status.idle": "2024-01-23T05:14:26.659475Z",
     "shell.execute_reply": "2024-01-23T05:14:26.659162Z",
     "shell.execute_reply.started": "2024-01-23T05:14:26.602732Z"
    },
    "scrolled": true
   },
   "outputs": [
    {
     "data": {
      "text/html": [
       "<div>\n",
       "<style scoped>\n",
       "    .dataframe tbody tr th:only-of-type {\n",
       "        vertical-align: middle;\n",
       "    }\n",
       "\n",
       "    .dataframe tbody tr th {\n",
       "        vertical-align: top;\n",
       "    }\n",
       "\n",
       "    .dataframe thead th {\n",
       "        text-align: right;\n",
       "    }\n",
       "</style>\n",
       "<table border=\"1\" class=\"dataframe\">\n",
       "  <thead>\n",
       "    <tr style=\"text-align: right;\">\n",
       "      <th></th>\n",
       "      <th>movie_id</th>\n",
       "      <th>review_id</th>\n",
       "      <th>rating</th>\n",
       "      <th>review_text</th>\n",
       "      <th>created_at</th>\n",
       "    </tr>\n",
       "  </thead>\n",
       "  <tbody>\n",
       "    <tr>\n",
       "      <th>0</th>\n",
       "      <td>100042</td>\n",
       "      <td>64a3999fe9da6900c763aa8d</td>\n",
       "      <td>7.0</td>\n",
       "      <td>Better then the original I think. Was pretty f...</td>\n",
       "      <td>2023-07-04 04:01:35.517000+00:00</td>\n",
       "    </tr>\n",
       "    <tr>\n",
       "      <th>1</th>\n",
       "      <td>10008</td>\n",
       "      <td>643d44864d67910469d853a2</td>\n",
       "      <td>5.0</td>\n",
       "      <td>Kind of boring. It's a good plot and storyline...</td>\n",
       "      <td>2023-04-17 13:07:18.832000+00:00</td>\n",
       "    </tr>\n",
       "    <tr>\n",
       "      <th>2</th>\n",
       "      <td>10009</td>\n",
       "      <td>5f22bd2b43999b00355b26a6</td>\n",
       "      <td>7.0</td>\n",
       "      <td>Heartwarming, if not as impactful as it intend...</td>\n",
       "      <td>2020-07-30 12:29:31.310000+00:00</td>\n",
       "    </tr>\n",
       "    <tr>\n",
       "      <th>3</th>\n",
       "      <td>10009</td>\n",
       "      <td>6592736214956560f7da631f</td>\n",
       "      <td>7.0</td>\n",
       "      <td>\"Kenai\" is a young Inuit warrior who disturbs ...</td>\n",
       "      <td>2024-01-01 08:10:10.033000+00:00</td>\n",
       "    </tr>\n",
       "    <tr>\n",
       "      <th>4</th>\n",
       "      <td>10012</td>\n",
       "      <td>628159c8caa50850dcf93d33</td>\n",
       "      <td>5.0</td>\n",
       "      <td>Seems like an apt title for everything that ha...</td>\n",
       "      <td>2022-05-15 19:51:36.244000+00:00</td>\n",
       "    </tr>\n",
       "    <tr>\n",
       "      <th>...</th>\n",
       "      <td>...</td>\n",
       "      <td>...</td>\n",
       "      <td>...</td>\n",
       "      <td>...</td>\n",
       "      <td>...</td>\n",
       "    </tr>\n",
       "    <tr>\n",
       "      <th>9019</th>\n",
       "      <td>99861</td>\n",
       "      <td>5e20dedc397df000129666b8</td>\n",
       "      <td>NaN</td>\n",
       "      <td>It's just what I feared. Marvel has gotten so ...</td>\n",
       "      <td>2020-01-16 22:08:28.630000+00:00</td>\n",
       "    </tr>\n",
       "    <tr>\n",
       "      <th>9020</th>\n",
       "      <td>99861</td>\n",
       "      <td>5ef819bba284eb00398dc810</td>\n",
       "      <td>7.0</td>\n",
       "      <td>Third viewing of this and while not the strong...</td>\n",
       "      <td>2020-06-28 04:16:59.341000+00:00</td>\n",
       "    </tr>\n",
       "    <tr>\n",
       "      <th>9021</th>\n",
       "      <td>99861</td>\n",
       "      <td>600616349a358d0040c2ecad</td>\n",
       "      <td>7.0</td>\n",
       "      <td>Cool seeing them all together again, even if I...</td>\n",
       "      <td>2021-01-18 23:13:56.078000+00:00</td>\n",
       "    </tr>\n",
       "    <tr>\n",
       "      <th>9022</th>\n",
       "      <td>9988</td>\n",
       "      <td>5a6940bc9251414a2e009179</td>\n",
       "      <td>5.0</td>\n",
       "      <td>Not one of Broken Lizard's strongest entries, ...</td>\n",
       "      <td>2018-01-25 02:28:12.494000+00:00</td>\n",
       "    </tr>\n",
       "    <tr>\n",
       "      <th>9023</th>\n",
       "      <td>9988</td>\n",
       "      <td>6449359c2fdec602fca107cb</td>\n",
       "      <td>8.0</td>\n",
       "      <td>This was a awesome movie. I love these guys ju...</td>\n",
       "      <td>2023-04-26 14:30:52.951000+00:00</td>\n",
       "    </tr>\n",
       "  </tbody>\n",
       "</table>\n",
       "<p>8965 rows × 5 columns</p>\n",
       "</div>"
      ],
      "text/plain": [
       "      movie_id                 review_id  rating  \\\n",
       "0       100042  64a3999fe9da6900c763aa8d     7.0   \n",
       "1        10008  643d44864d67910469d853a2     5.0   \n",
       "2        10009  5f22bd2b43999b00355b26a6     7.0   \n",
       "3        10009  6592736214956560f7da631f     7.0   \n",
       "4        10012  628159c8caa50850dcf93d33     5.0   \n",
       "...        ...                       ...     ...   \n",
       "9019     99861  5e20dedc397df000129666b8     NaN   \n",
       "9020     99861  5ef819bba284eb00398dc810     7.0   \n",
       "9021     99861  600616349a358d0040c2ecad     7.0   \n",
       "9022      9988  5a6940bc9251414a2e009179     5.0   \n",
       "9023      9988  6449359c2fdec602fca107cb     8.0   \n",
       "\n",
       "                                            review_text  \\\n",
       "0     Better then the original I think. Was pretty f...   \n",
       "1     Kind of boring. It's a good plot and storyline...   \n",
       "2     Heartwarming, if not as impactful as it intend...   \n",
       "3     \"Kenai\" is a young Inuit warrior who disturbs ...   \n",
       "4     Seems like an apt title for everything that ha...   \n",
       "...                                                 ...   \n",
       "9019  It's just what I feared. Marvel has gotten so ...   \n",
       "9020  Third viewing of this and while not the strong...   \n",
       "9021  Cool seeing them all together again, even if I...   \n",
       "9022  Not one of Broken Lizard's strongest entries, ...   \n",
       "9023  This was a awesome movie. I love these guys ju...   \n",
       "\n",
       "                           created_at  \n",
       "0    2023-07-04 04:01:35.517000+00:00  \n",
       "1    2023-04-17 13:07:18.832000+00:00  \n",
       "2    2020-07-30 12:29:31.310000+00:00  \n",
       "3    2024-01-01 08:10:10.033000+00:00  \n",
       "4    2022-05-15 19:51:36.244000+00:00  \n",
       "...                               ...  \n",
       "9019 2020-01-16 22:08:28.630000+00:00  \n",
       "9020 2020-06-28 04:16:59.341000+00:00  \n",
       "9021 2021-01-18 23:13:56.078000+00:00  \n",
       "9022 2018-01-25 02:28:12.494000+00:00  \n",
       "9023 2023-04-26 14:30:52.951000+00:00  \n",
       "\n",
       "[8965 rows x 5 columns]"
      ]
     },
     "execution_count": 15,
     "metadata": {},
     "output_type": "execute_result"
    }
   ],
   "source": [
    "df_reviews_dirs = df_reviews_dirs.drop_duplicates(subset=dup_cols)\n",
    "df_reviews_dirs"
   ]
  },
  {
   "cell_type": "markdown",
   "id": "486c9873-8957-4a95-9d03-8d002987d3d8",
   "metadata": {},
   "source": [
    "#### A2) From Filename Column in ` \"Data-NLP/tmdb-movie-info.csv.gz\"`\n"
   ]
  },
  {
   "cell_type": "code",
   "execution_count": 16,
   "id": "dc5dc43e-039f-475e-a92f-26ba46afbe3d",
   "metadata": {
    "execution": {
     "iopub.execute_input": "2024-01-23T05:14:26.660254Z",
     "iopub.status.busy": "2024-01-23T05:14:26.660127Z",
     "iopub.status.idle": "2024-01-23T05:14:26.678706Z",
     "shell.execute_reply": "2024-01-23T05:14:26.678383Z",
     "shell.execute_reply.started": "2024-01-23T05:14:26.660244Z"
    }
   },
   "outputs": [
    {
     "data": {
      "text/plain": [
       "'Data-NLP/tmdb-movie-info.csv.gz'"
      ]
     },
     "execution_count": 16,
     "metadata": {},
     "output_type": "execute_result"
    }
   ],
   "source": [
    "fname_movie_data = FPATHS['data']['raw']['movie-info']\n",
    "# fname_movie_data = \"Data-NLP/tmdb-movie-info.csv.gz\"\n",
    "fname_movie_data"
   ]
  },
  {
   "cell_type": "code",
   "execution_count": 17,
   "id": "43441d99-d50d-48f8-b881-c21cd28834f4",
   "metadata": {
    "execution": {
     "iopub.execute_input": "2024-01-23T05:14:26.679276Z",
     "iopub.status.busy": "2024-01-23T05:14:26.679193Z",
     "iopub.status.idle": "2024-01-23T05:14:26.792512Z",
     "shell.execute_reply": "2024-01-23T05:14:26.792038Z",
     "shell.execute_reply.started": "2024-01-23T05:14:26.679268Z"
    }
   },
   "outputs": [
    {
     "data": {
      "text/html": [
       "<div>\n",
       "<style scoped>\n",
       "    .dataframe tbody tr th:only-of-type {\n",
       "        vertical-align: middle;\n",
       "    }\n",
       "\n",
       "    .dataframe tbody tr th {\n",
       "        vertical-align: top;\n",
       "    }\n",
       "\n",
       "    .dataframe thead th {\n",
       "        text-align: right;\n",
       "    }\n",
       "</style>\n",
       "<table border=\"1\" class=\"dataframe\">\n",
       "  <thead>\n",
       "    <tr style=\"text-align: right;\">\n",
       "      <th></th>\n",
       "      <th>imdb_id</th>\n",
       "      <th>adult</th>\n",
       "      <th>backdrop_path</th>\n",
       "      <th>belongs_to_collection</th>\n",
       "      <th>budget</th>\n",
       "      <th>genres</th>\n",
       "      <th>homepage</th>\n",
       "      <th>id</th>\n",
       "      <th>original_language</th>\n",
       "      <th>original_title</th>\n",
       "      <th>overview</th>\n",
       "      <th>popularity</th>\n",
       "      <th>poster_path</th>\n",
       "      <th>production_companies</th>\n",
       "      <th>production_countries</th>\n",
       "      <th>release_date</th>\n",
       "      <th>revenue</th>\n",
       "      <th>runtime</th>\n",
       "      <th>spoken_languages</th>\n",
       "      <th>status</th>\n",
       "      <th>tagline</th>\n",
       "      <th>title</th>\n",
       "      <th>video</th>\n",
       "      <th>vote_average</th>\n",
       "      <th>vote_count</th>\n",
       "      <th>certification</th>\n",
       "      <th>reviews_file</th>\n",
       "    </tr>\n",
       "  </thead>\n",
       "  <tbody>\n",
       "    <tr>\n",
       "      <th>0</th>\n",
       "      <td>tt0118694</td>\n",
       "      <td>False</td>\n",
       "      <td>/n4GJFGzsc7NinI1VeGDXIcQjtU2.jpg</td>\n",
       "      <td>NaN</td>\n",
       "      <td>150000</td>\n",
       "      <td>[{'id': 18, 'name': 'Drama'}, {'id': 10749, 'n...</td>\n",
       "      <td>NaN</td>\n",
       "      <td>843</td>\n",
       "      <td>cn</td>\n",
       "      <td>花樣年華</td>\n",
       "      <td>Two neighbors become intimate after discoverin...</td>\n",
       "      <td>27.940</td>\n",
       "      <td>/iYypPT4bhqXfq1b6EnmxvRt6b2Y.jpg</td>\n",
       "      <td>[{'id': 539, 'logo_path': '/iPLtePguIzOPNtAWfT...</td>\n",
       "      <td>[{'iso_3166_1': 'FR', 'name': 'France'}, {'iso...</td>\n",
       "      <td>2000-09-29</td>\n",
       "      <td>14204632</td>\n",
       "      <td>99</td>\n",
       "      <td>[{'english_name': 'Cantonese', 'iso_639_1': 'c...</td>\n",
       "      <td>Released</td>\n",
       "      <td>Feel the heat, keep the feeling burning, let t...</td>\n",
       "      <td>In the Mood for Love</td>\n",
       "      <td>False</td>\n",
       "      <td>8.109</td>\n",
       "      <td>2433</td>\n",
       "      <td>PG</td>\n",
       "      <td>Data-NLP/reviews/tmdb_reviews_843.json</td>\n",
       "    </tr>\n",
       "    <tr>\n",
       "      <th>1</th>\n",
       "      <td>tt0120467</td>\n",
       "      <td>False</td>\n",
       "      <td>/knok3mNReKqPTplnnqz7E4dd7mD.jpg</td>\n",
       "      <td>NaN</td>\n",
       "      <td>120000</td>\n",
       "      <td>[{'id': 18, 'name': 'Drama'}, {'id': 27, 'name...</td>\n",
       "      <td>NaN</td>\n",
       "      <td>19085</td>\n",
       "      <td>en</td>\n",
       "      <td>Vulgar</td>\n",
       "      <td>Vulgar is about a man who is a children's clow...</td>\n",
       "      <td>7.887</td>\n",
       "      <td>/aLdezroGbHDP0w0jOLwxXjgrgma.jpg</td>\n",
       "      <td>[{'id': 102045, 'logo_path': None, 'name': 'Ch...</td>\n",
       "      <td>[{'iso_3166_1': 'US', 'name': 'United States o...</td>\n",
       "      <td>2002-04-26</td>\n",
       "      <td>14904</td>\n",
       "      <td>87</td>\n",
       "      <td>[{'english_name': 'English', 'iso_639_1': 'en'...</td>\n",
       "      <td>Released</td>\n",
       "      <td>Everyone loves a clown... some more than others.</td>\n",
       "      <td>Vulgar</td>\n",
       "      <td>False</td>\n",
       "      <td>5.444</td>\n",
       "      <td>45</td>\n",
       "      <td>R</td>\n",
       "      <td>NaN</td>\n",
       "    </tr>\n",
       "    <tr>\n",
       "      <th>2</th>\n",
       "      <td>tt0120630</td>\n",
       "      <td>False</td>\n",
       "      <td>/t7aJ7hqsMLEoqBJk7yAXxcAVvcz.jpg</td>\n",
       "      <td>{'id': 718551, 'name': 'Chicken Run Collection...</td>\n",
       "      <td>45000000</td>\n",
       "      <td>[{'id': 16, 'name': 'Animation'}, {'id': 35, '...</td>\n",
       "      <td>NaN</td>\n",
       "      <td>7443</td>\n",
       "      <td>en</td>\n",
       "      <td>Chicken Run</td>\n",
       "      <td>The creators of Wallace &amp; Gromit bring you an ...</td>\n",
       "      <td>91.080</td>\n",
       "      <td>/oYbVT9e0k2ZSrRhDSCw2Yqshe1n.jpg</td>\n",
       "      <td>[{'id': 297, 'logo_path': '/58TnhYZqbMYgkHM6lg...</td>\n",
       "      <td>[{'iso_3166_1': 'GB', 'name': 'United Kingdom'...</td>\n",
       "      <td>2000-06-23</td>\n",
       "      <td>224834564</td>\n",
       "      <td>84</td>\n",
       "      <td>[{'english_name': 'English', 'iso_639_1': 'en'...</td>\n",
       "      <td>Released</td>\n",
       "      <td>There's nothing more determined than poultry w...</td>\n",
       "      <td>Chicken Run</td>\n",
       "      <td>False</td>\n",
       "      <td>6.800</td>\n",
       "      <td>4704</td>\n",
       "      <td>G</td>\n",
       "      <td>Data-NLP/reviews/tmdb_reviews_7443.json</td>\n",
       "    </tr>\n",
       "    <tr>\n",
       "      <th>3</th>\n",
       "      <td>tt0120753</td>\n",
       "      <td>False</td>\n",
       "      <td>/3vUkQpnwbsFEQlMh9EORpvKJfpo.jpg</td>\n",
       "      <td>NaN</td>\n",
       "      <td>8000000</td>\n",
       "      <td>[{'id': 18, 'name': 'Drama'}, {'id': 53, 'name...</td>\n",
       "      <td>NaN</td>\n",
       "      <td>318</td>\n",
       "      <td>en</td>\n",
       "      <td>The Million Dollar Hotel</td>\n",
       "      <td>The Million Dollar Hotel starts with a jump fr...</td>\n",
       "      <td>11.473</td>\n",
       "      <td>/iGRyPsZF0lfIL3IadmBdoAsYzyn.jpg</td>\n",
       "      <td>[{'id': 1490, 'logo_path': None, 'name': 'Kint...</td>\n",
       "      <td>[{'iso_3166_1': 'DE', 'name': 'Germany'}, {'is...</td>\n",
       "      <td>2000-02-09</td>\n",
       "      <td>105983</td>\n",
       "      <td>122</td>\n",
       "      <td>[{'english_name': 'English', 'iso_639_1': 'en'...</td>\n",
       "      <td>Released</td>\n",
       "      <td>Everyone has something to hide.</td>\n",
       "      <td>The Million Dollar Hotel</td>\n",
       "      <td>False</td>\n",
       "      <td>5.893</td>\n",
       "      <td>303</td>\n",
       "      <td>R</td>\n",
       "      <td>NaN</td>\n",
       "    </tr>\n",
       "    <tr>\n",
       "      <th>4</th>\n",
       "      <td>tt0120755</td>\n",
       "      <td>False</td>\n",
       "      <td>/24DZfupDlhXeTchmcOkoGRhP5Vg.jpg</td>\n",
       "      <td>{'id': 87359, 'name': 'Mission: Impossible Col...</td>\n",
       "      <td>125000000</td>\n",
       "      <td>[{'id': 12, 'name': 'Adventure'}, {'id': 28, '...</td>\n",
       "      <td>NaN</td>\n",
       "      <td>955</td>\n",
       "      <td>en</td>\n",
       "      <td>Mission: Impossible II</td>\n",
       "      <td>With computer genius Luther Stickell at his si...</td>\n",
       "      <td>43.305</td>\n",
       "      <td>/1VMWLpk9VXyYcEZ8w3uUhp0OF1v.jpg</td>\n",
       "      <td>[{'id': 4, 'logo_path': '/gz66EfNoYPqHTYI4q9UE...</td>\n",
       "      <td>[{'iso_3166_1': 'US', 'name': 'United States o...</td>\n",
       "      <td>2000-05-24</td>\n",
       "      <td>546400000</td>\n",
       "      <td>123</td>\n",
       "      <td>[{'english_name': 'English', 'iso_639_1': 'en'...</td>\n",
       "      <td>Released</td>\n",
       "      <td>Expect the impossible again.</td>\n",
       "      <td>Mission: Impossible II</td>\n",
       "      <td>False</td>\n",
       "      <td>6.123</td>\n",
       "      <td>6299</td>\n",
       "      <td>NaN</td>\n",
       "      <td>Data-NLP/reviews/tmdb_reviews_955.json</td>\n",
       "    </tr>\n",
       "    <tr>\n",
       "      <th>...</th>\n",
       "      <td>...</td>\n",
       "      <td>...</td>\n",
       "      <td>...</td>\n",
       "      <td>...</td>\n",
       "      <td>...</td>\n",
       "      <td>...</td>\n",
       "      <td>...</td>\n",
       "      <td>...</td>\n",
       "      <td>...</td>\n",
       "      <td>...</td>\n",
       "      <td>...</td>\n",
       "      <td>...</td>\n",
       "      <td>...</td>\n",
       "      <td>...</td>\n",
       "      <td>...</td>\n",
       "      <td>...</td>\n",
       "      <td>...</td>\n",
       "      <td>...</td>\n",
       "      <td>...</td>\n",
       "      <td>...</td>\n",
       "      <td>...</td>\n",
       "      <td>...</td>\n",
       "      <td>...</td>\n",
       "      <td>...</td>\n",
       "      <td>...</td>\n",
       "      <td>...</td>\n",
       "      <td>...</td>\n",
       "    </tr>\n",
       "    <tr>\n",
       "      <th>6125</th>\n",
       "      <td>tt9663764</td>\n",
       "      <td>False</td>\n",
       "      <td>/jXJxMcVoEuXzym3vFnjqDW4ifo6.jpg</td>\n",
       "      <td>{'id': 573693, 'name': 'Aquaman Collection', '...</td>\n",
       "      <td>205000000</td>\n",
       "      <td>[{'id': 28, 'name': 'Action'}, {'id': 12, 'nam...</td>\n",
       "      <td>http://www.aquamanmovie.com</td>\n",
       "      <td>572802</td>\n",
       "      <td>en</td>\n",
       "      <td>Aquaman and the Lost Kingdom</td>\n",
       "      <td>Black Manta, still driven by the need to aveng...</td>\n",
       "      <td>1139.841</td>\n",
       "      <td>/8xV47NDrjdZDpkVcCFqkdHa3T0C.jpg</td>\n",
       "      <td>[{'id': 174, 'logo_path': '/2Jeytq7R4CBLGsHKtR...</td>\n",
       "      <td>[{'iso_3166_1': 'US', 'name': 'United States o...</td>\n",
       "      <td>2023-12-20</td>\n",
       "      <td>375063347</td>\n",
       "      <td>124</td>\n",
       "      <td>[{'english_name': 'English', 'iso_639_1': 'en'...</td>\n",
       "      <td>Released</td>\n",
       "      <td>The tide is turning.</td>\n",
       "      <td>Aquaman and the Lost Kingdom</td>\n",
       "      <td>False</td>\n",
       "      <td>6.531</td>\n",
       "      <td>509</td>\n",
       "      <td>PG-13</td>\n",
       "      <td>Data-NLP/reviews/tmdb_reviews_572802.json</td>\n",
       "    </tr>\n",
       "    <tr>\n",
       "      <th>6126</th>\n",
       "      <td>tt11762114</td>\n",
       "      <td>False</td>\n",
       "      <td>/u9x18arVbh9VRY05aeJ43eaiI3t.jpg</td>\n",
       "      <td>NaN</td>\n",
       "      <td>36000000</td>\n",
       "      <td>[{'id': 35, 'name': 'Comedy'}]</td>\n",
       "      <td>https://www.meangirls.com</td>\n",
       "      <td>673593</td>\n",
       "      <td>en</td>\n",
       "      <td>Mean Girls</td>\n",
       "      <td>New student Cady Heron is welcomed into the to...</td>\n",
       "      <td>276.559</td>\n",
       "      <td>/fbbj3viSUDEGT1fFFMNpHP1iUjw.jpg</td>\n",
       "      <td>[{'id': 26402, 'logo_path': '/1BFbFgEhD1tJShFT...</td>\n",
       "      <td>[{'iso_3166_1': 'US', 'name': 'United States o...</td>\n",
       "      <td>2024-01-10</td>\n",
       "      <td>33200000</td>\n",
       "      <td>113</td>\n",
       "      <td>[{'english_name': 'English', 'iso_639_1': 'en'...</td>\n",
       "      <td>Released</td>\n",
       "      <td>Plastic is forever.</td>\n",
       "      <td>Mean Girls</td>\n",
       "      <td>False</td>\n",
       "      <td>6.800</td>\n",
       "      <td>53</td>\n",
       "      <td>PG-13</td>\n",
       "      <td>NaN</td>\n",
       "    </tr>\n",
       "    <tr>\n",
       "      <th>6127</th>\n",
       "      <td>tt14564000</td>\n",
       "      <td>False</td>\n",
       "      <td>/pRb9zpNXH1u6Fd4Da9H8PaIDwoY.jpg</td>\n",
       "      <td>NaN</td>\n",
       "      <td>24066000</td>\n",
       "      <td>[{'id': 28, 'name': 'Action'}, {'id': 18, 'nam...</td>\n",
       "      <td>NaN</td>\n",
       "      <td>868660</td>\n",
       "      <td>te</td>\n",
       "      <td>గుంటూరు కారం</td>\n",
       "      <td>In 1998, Marx and Lenin in Guntur, both decide...</td>\n",
       "      <td>40.886</td>\n",
       "      <td>/rKzkysQNX9gQIONlMcmz4QvW0Nv.jpg</td>\n",
       "      <td>[{'id': 69898, 'logo_path': '/bvPo07eG1gz3r6OC...</td>\n",
       "      <td>[{'iso_3166_1': 'IN', 'name': 'India'}]</td>\n",
       "      <td>2024-01-11</td>\n",
       "      <td>15323439</td>\n",
       "      <td>159</td>\n",
       "      <td>[{'english_name': 'Telugu', 'iso_639_1': 'te',...</td>\n",
       "      <td>Released</td>\n",
       "      <td>Highly Inflammable</td>\n",
       "      <td>Guntur Kaaram</td>\n",
       "      <td>False</td>\n",
       "      <td>6.000</td>\n",
       "      <td>3</td>\n",
       "      <td>NaN</td>\n",
       "      <td>NaN</td>\n",
       "    </tr>\n",
       "    <tr>\n",
       "      <th>6128</th>\n",
       "      <td>tt28630947</td>\n",
       "      <td>False</td>\n",
       "      <td>NaN</td>\n",
       "      <td>NaN</td>\n",
       "      <td>1000</td>\n",
       "      <td>[{'id': 27, 'name': 'Horror'}, {'id': 99, 'nam...</td>\n",
       "      <td>https://app.filmhub.com/titles/28d7-302a</td>\n",
       "      <td>1185432</td>\n",
       "      <td>en</td>\n",
       "      <td>The haunting in rosemary lane</td>\n",
       "      <td>A story of two men doing a documentary of a ne...</td>\n",
       "      <td>1.004</td>\n",
       "      <td>/naiFu3fbD3cNHRrx3ExOv4KNK9I.jpg</td>\n",
       "      <td>[{'id': 209845, 'logo_path': None, 'name': 'Cr...</td>\n",
       "      <td>[{'iso_3166_1': 'GB', 'name': 'United Kingdom'}]</td>\n",
       "      <td>2023-01-10</td>\n",
       "      <td>100</td>\n",
       "      <td>58</td>\n",
       "      <td>[{'english_name': 'English', 'iso_639_1': 'en'...</td>\n",
       "      <td>Released</td>\n",
       "      <td>The haunting in rosemary lane</td>\n",
       "      <td>The haunting in rosemary lane</td>\n",
       "      <td>False</td>\n",
       "      <td>0.000</td>\n",
       "      <td>0</td>\n",
       "      <td>NaN</td>\n",
       "      <td>NaN</td>\n",
       "    </tr>\n",
       "    <tr>\n",
       "      <th>6129</th>\n",
       "      <td>tt9682428</td>\n",
       "      <td>False</td>\n",
       "      <td>/klb3yODwKMRle19EcvdeSatEZL7.jpg</td>\n",
       "      <td>NaN</td>\n",
       "      <td>15000000</td>\n",
       "      <td>[{'id': 27, 'name': 'Horror'}, {'id': 53, 'nam...</td>\n",
       "      <td>https://www.nightswim.movie</td>\n",
       "      <td>1072342</td>\n",
       "      <td>en</td>\n",
       "      <td>Night Swim</td>\n",
       "      <td>Forced into early retirement by a degenerative...</td>\n",
       "      <td>168.637</td>\n",
       "      <td>/gSkfBGdxdialBMM7P02V4hcI6Ij.jpg</td>\n",
       "      <td>[{'id': 76907, 'logo_path': '/ygMQtjsKX7BZkCQh...</td>\n",
       "      <td>[{'iso_3166_1': 'US', 'name': 'United States o...</td>\n",
       "      <td>2024-01-03</td>\n",
       "      <td>30600000</td>\n",
       "      <td>98</td>\n",
       "      <td>[{'english_name': 'English', 'iso_639_1': 'en'...</td>\n",
       "      <td>Released</td>\n",
       "      <td>Everything you fear is under the surface.</td>\n",
       "      <td>Night Swim</td>\n",
       "      <td>False</td>\n",
       "      <td>5.095</td>\n",
       "      <td>41</td>\n",
       "      <td>PG-13</td>\n",
       "      <td>Data-NLP/reviews/tmdb_reviews_1072342.json</td>\n",
       "    </tr>\n",
       "  </tbody>\n",
       "</table>\n",
       "<p>6130 rows × 27 columns</p>\n",
       "</div>"
      ],
      "text/plain": [
       "         imdb_id  adult                     backdrop_path  \\\n",
       "0      tt0118694  False  /n4GJFGzsc7NinI1VeGDXIcQjtU2.jpg   \n",
       "1      tt0120467  False  /knok3mNReKqPTplnnqz7E4dd7mD.jpg   \n",
       "2      tt0120630  False  /t7aJ7hqsMLEoqBJk7yAXxcAVvcz.jpg   \n",
       "3      tt0120753  False  /3vUkQpnwbsFEQlMh9EORpvKJfpo.jpg   \n",
       "4      tt0120755  False  /24DZfupDlhXeTchmcOkoGRhP5Vg.jpg   \n",
       "...          ...    ...                               ...   \n",
       "6125   tt9663764  False  /jXJxMcVoEuXzym3vFnjqDW4ifo6.jpg   \n",
       "6126  tt11762114  False  /u9x18arVbh9VRY05aeJ43eaiI3t.jpg   \n",
       "6127  tt14564000  False  /pRb9zpNXH1u6Fd4Da9H8PaIDwoY.jpg   \n",
       "6128  tt28630947  False                               NaN   \n",
       "6129   tt9682428  False  /klb3yODwKMRle19EcvdeSatEZL7.jpg   \n",
       "\n",
       "                                  belongs_to_collection     budget  \\\n",
       "0                                                   NaN     150000   \n",
       "1                                                   NaN     120000   \n",
       "2     {'id': 718551, 'name': 'Chicken Run Collection...   45000000   \n",
       "3                                                   NaN    8000000   \n",
       "4     {'id': 87359, 'name': 'Mission: Impossible Col...  125000000   \n",
       "...                                                 ...        ...   \n",
       "6125  {'id': 573693, 'name': 'Aquaman Collection', '...  205000000   \n",
       "6126                                                NaN   36000000   \n",
       "6127                                                NaN   24066000   \n",
       "6128                                                NaN       1000   \n",
       "6129                                                NaN   15000000   \n",
       "\n",
       "                                                 genres  \\\n",
       "0     [{'id': 18, 'name': 'Drama'}, {'id': 10749, 'n...   \n",
       "1     [{'id': 18, 'name': 'Drama'}, {'id': 27, 'name...   \n",
       "2     [{'id': 16, 'name': 'Animation'}, {'id': 35, '...   \n",
       "3     [{'id': 18, 'name': 'Drama'}, {'id': 53, 'name...   \n",
       "4     [{'id': 12, 'name': 'Adventure'}, {'id': 28, '...   \n",
       "...                                                 ...   \n",
       "6125  [{'id': 28, 'name': 'Action'}, {'id': 12, 'nam...   \n",
       "6126                     [{'id': 35, 'name': 'Comedy'}]   \n",
       "6127  [{'id': 28, 'name': 'Action'}, {'id': 18, 'nam...   \n",
       "6128  [{'id': 27, 'name': 'Horror'}, {'id': 99, 'nam...   \n",
       "6129  [{'id': 27, 'name': 'Horror'}, {'id': 53, 'nam...   \n",
       "\n",
       "                                      homepage       id original_language  \\\n",
       "0                                          NaN      843                cn   \n",
       "1                                          NaN    19085                en   \n",
       "2                                          NaN     7443                en   \n",
       "3                                          NaN      318                en   \n",
       "4                                          NaN      955                en   \n",
       "...                                        ...      ...               ...   \n",
       "6125               http://www.aquamanmovie.com   572802                en   \n",
       "6126                 https://www.meangirls.com   673593                en   \n",
       "6127                                       NaN   868660                te   \n",
       "6128  https://app.filmhub.com/titles/28d7-302a  1185432                en   \n",
       "6129               https://www.nightswim.movie  1072342                en   \n",
       "\n",
       "                     original_title  \\\n",
       "0                              花樣年華   \n",
       "1                            Vulgar   \n",
       "2                       Chicken Run   \n",
       "3          The Million Dollar Hotel   \n",
       "4            Mission: Impossible II   \n",
       "...                             ...   \n",
       "6125   Aquaman and the Lost Kingdom   \n",
       "6126                     Mean Girls   \n",
       "6127                   గుంటూరు కారం   \n",
       "6128  The haunting in rosemary lane   \n",
       "6129                     Night Swim   \n",
       "\n",
       "                                               overview  popularity  \\\n",
       "0     Two neighbors become intimate after discoverin...      27.940   \n",
       "1     Vulgar is about a man who is a children's clow...       7.887   \n",
       "2     The creators of Wallace & Gromit bring you an ...      91.080   \n",
       "3     The Million Dollar Hotel starts with a jump fr...      11.473   \n",
       "4     With computer genius Luther Stickell at his si...      43.305   \n",
       "...                                                 ...         ...   \n",
       "6125  Black Manta, still driven by the need to aveng...    1139.841   \n",
       "6126  New student Cady Heron is welcomed into the to...     276.559   \n",
       "6127  In 1998, Marx and Lenin in Guntur, both decide...      40.886   \n",
       "6128  A story of two men doing a documentary of a ne...       1.004   \n",
       "6129  Forced into early retirement by a degenerative...     168.637   \n",
       "\n",
       "                           poster_path  \\\n",
       "0     /iYypPT4bhqXfq1b6EnmxvRt6b2Y.jpg   \n",
       "1     /aLdezroGbHDP0w0jOLwxXjgrgma.jpg   \n",
       "2     /oYbVT9e0k2ZSrRhDSCw2Yqshe1n.jpg   \n",
       "3     /iGRyPsZF0lfIL3IadmBdoAsYzyn.jpg   \n",
       "4     /1VMWLpk9VXyYcEZ8w3uUhp0OF1v.jpg   \n",
       "...                                ...   \n",
       "6125  /8xV47NDrjdZDpkVcCFqkdHa3T0C.jpg   \n",
       "6126  /fbbj3viSUDEGT1fFFMNpHP1iUjw.jpg   \n",
       "6127  /rKzkysQNX9gQIONlMcmz4QvW0Nv.jpg   \n",
       "6128  /naiFu3fbD3cNHRrx3ExOv4KNK9I.jpg   \n",
       "6129  /gSkfBGdxdialBMM7P02V4hcI6Ij.jpg   \n",
       "\n",
       "                                   production_companies  \\\n",
       "0     [{'id': 539, 'logo_path': '/iPLtePguIzOPNtAWfT...   \n",
       "1     [{'id': 102045, 'logo_path': None, 'name': 'Ch...   \n",
       "2     [{'id': 297, 'logo_path': '/58TnhYZqbMYgkHM6lg...   \n",
       "3     [{'id': 1490, 'logo_path': None, 'name': 'Kint...   \n",
       "4     [{'id': 4, 'logo_path': '/gz66EfNoYPqHTYI4q9UE...   \n",
       "...                                                 ...   \n",
       "6125  [{'id': 174, 'logo_path': '/2Jeytq7R4CBLGsHKtR...   \n",
       "6126  [{'id': 26402, 'logo_path': '/1BFbFgEhD1tJShFT...   \n",
       "6127  [{'id': 69898, 'logo_path': '/bvPo07eG1gz3r6OC...   \n",
       "6128  [{'id': 209845, 'logo_path': None, 'name': 'Cr...   \n",
       "6129  [{'id': 76907, 'logo_path': '/ygMQtjsKX7BZkCQh...   \n",
       "\n",
       "                                   production_countries release_date  \\\n",
       "0     [{'iso_3166_1': 'FR', 'name': 'France'}, {'iso...   2000-09-29   \n",
       "1     [{'iso_3166_1': 'US', 'name': 'United States o...   2002-04-26   \n",
       "2     [{'iso_3166_1': 'GB', 'name': 'United Kingdom'...   2000-06-23   \n",
       "3     [{'iso_3166_1': 'DE', 'name': 'Germany'}, {'is...   2000-02-09   \n",
       "4     [{'iso_3166_1': 'US', 'name': 'United States o...   2000-05-24   \n",
       "...                                                 ...          ...   \n",
       "6125  [{'iso_3166_1': 'US', 'name': 'United States o...   2023-12-20   \n",
       "6126  [{'iso_3166_1': 'US', 'name': 'United States o...   2024-01-10   \n",
       "6127            [{'iso_3166_1': 'IN', 'name': 'India'}]   2024-01-11   \n",
       "6128   [{'iso_3166_1': 'GB', 'name': 'United Kingdom'}]   2023-01-10   \n",
       "6129  [{'iso_3166_1': 'US', 'name': 'United States o...   2024-01-03   \n",
       "\n",
       "        revenue  runtime                                   spoken_languages  \\\n",
       "0      14204632       99  [{'english_name': 'Cantonese', 'iso_639_1': 'c...   \n",
       "1         14904       87  [{'english_name': 'English', 'iso_639_1': 'en'...   \n",
       "2     224834564       84  [{'english_name': 'English', 'iso_639_1': 'en'...   \n",
       "3        105983      122  [{'english_name': 'English', 'iso_639_1': 'en'...   \n",
       "4     546400000      123  [{'english_name': 'English', 'iso_639_1': 'en'...   \n",
       "...         ...      ...                                                ...   \n",
       "6125  375063347      124  [{'english_name': 'English', 'iso_639_1': 'en'...   \n",
       "6126   33200000      113  [{'english_name': 'English', 'iso_639_1': 'en'...   \n",
       "6127   15323439      159  [{'english_name': 'Telugu', 'iso_639_1': 'te',...   \n",
       "6128        100       58  [{'english_name': 'English', 'iso_639_1': 'en'...   \n",
       "6129   30600000       98  [{'english_name': 'English', 'iso_639_1': 'en'...   \n",
       "\n",
       "        status                                            tagline  \\\n",
       "0     Released  Feel the heat, keep the feeling burning, let t...   \n",
       "1     Released   Everyone loves a clown... some more than others.   \n",
       "2     Released  There's nothing more determined than poultry w...   \n",
       "3     Released                    Everyone has something to hide.   \n",
       "4     Released                       Expect the impossible again.   \n",
       "...        ...                                                ...   \n",
       "6125  Released                               The tide is turning.   \n",
       "6126  Released                                Plastic is forever.   \n",
       "6127  Released                                 Highly Inflammable   \n",
       "6128  Released                      The haunting in rosemary lane   \n",
       "6129  Released          Everything you fear is under the surface.   \n",
       "\n",
       "                              title  video  vote_average  vote_count  \\\n",
       "0              In the Mood for Love  False         8.109        2433   \n",
       "1                            Vulgar  False         5.444          45   \n",
       "2                       Chicken Run  False         6.800        4704   \n",
       "3          The Million Dollar Hotel  False         5.893         303   \n",
       "4            Mission: Impossible II  False         6.123        6299   \n",
       "...                             ...    ...           ...         ...   \n",
       "6125   Aquaman and the Lost Kingdom  False         6.531         509   \n",
       "6126                     Mean Girls  False         6.800          53   \n",
       "6127                  Guntur Kaaram  False         6.000           3   \n",
       "6128  The haunting in rosemary lane  False         0.000           0   \n",
       "6129                     Night Swim  False         5.095          41   \n",
       "\n",
       "     certification                                reviews_file  \n",
       "0               PG      Data-NLP/reviews/tmdb_reviews_843.json  \n",
       "1                R                                         NaN  \n",
       "2                G     Data-NLP/reviews/tmdb_reviews_7443.json  \n",
       "3                R                                         NaN  \n",
       "4              NaN      Data-NLP/reviews/tmdb_reviews_955.json  \n",
       "...            ...                                         ...  \n",
       "6125         PG-13   Data-NLP/reviews/tmdb_reviews_572802.json  \n",
       "6126         PG-13                                         NaN  \n",
       "6127           NaN                                         NaN  \n",
       "6128           NaN                                         NaN  \n",
       "6129         PG-13  Data-NLP/reviews/tmdb_reviews_1072342.json  \n",
       "\n",
       "[6130 rows x 27 columns]"
      ]
     },
     "execution_count": 17,
     "metadata": {},
     "output_type": "execute_result"
    }
   ],
   "source": [
    "df_movies = pd.read_csv(fname_movie_data)\n",
    "df_movies"
   ]
  },
  {
   "cell_type": "code",
   "execution_count": 18,
   "id": "210fd46d-2b91-494d-a68c-86ec07b8e5ce",
   "metadata": {
    "execution": {
     "iopub.execute_input": "2024-01-23T05:14:26.793371Z",
     "iopub.status.busy": "2024-01-23T05:14:26.793107Z",
     "iopub.status.idle": "2024-01-23T05:14:26.813056Z",
     "shell.execute_reply": "2024-01-23T05:14:26.812728Z",
     "shell.execute_reply.started": "2024-01-23T05:14:26.793353Z"
    }
   },
   "outputs": [
    {
     "data": {
      "text/plain": [
       "3103"
      ]
     },
     "execution_count": 18,
     "metadata": {},
     "output_type": "execute_result"
    }
   ],
   "source": [
    "review_files_from_df = df_movies.loc[df_movies['reviews_file'].notna(),'reviews_file'].to_list()\n",
    "len(review_files_from_df)"
   ]
  },
  {
   "cell_type": "code",
   "execution_count": 19,
   "id": "3dba3366-3d6b-49e4-9c57-14cb47469c34",
   "metadata": {
    "execution": {
     "iopub.execute_input": "2024-01-23T05:14:26.813590Z",
     "iopub.status.busy": "2024-01-23T05:14:26.813491Z",
     "iopub.status.idle": "2024-01-23T05:14:33.183127Z",
     "shell.execute_reply": "2024-01-23T05:14:33.182829Z",
     "shell.execute_reply.started": "2024-01-23T05:14:26.813582Z"
    }
   },
   "outputs": [
    {
     "name": "stdout",
     "output_type": "stream",
     "text": [
      "<class 'pandas.core.frame.DataFrame'>\n",
      "RangeIndex: 9024 entries, 0 to 9023\n",
      "Data columns (total 5 columns):\n",
      " #   Column       Non-Null Count  Dtype              \n",
      "---  ------       --------------  -----              \n",
      " 0   movie_id     9024 non-null   int64              \n",
      " 1   review_id    9024 non-null   object             \n",
      " 2   rating       7791 non-null   float64            \n",
      " 3   review_text  9024 non-null   object             \n",
      " 4   created_at   9024 non-null   datetime64[ns, UTC]\n",
      "dtypes: datetime64[ns, UTC](1), float64(1), int64(1), object(2)\n",
      "memory usage: 352.6+ KB\n"
     ]
    },
    {
     "data": {
      "text/html": [
       "<div>\n",
       "<style scoped>\n",
       "    .dataframe tbody tr th:only-of-type {\n",
       "        vertical-align: middle;\n",
       "    }\n",
       "\n",
       "    .dataframe tbody tr th {\n",
       "        vertical-align: top;\n",
       "    }\n",
       "\n",
       "    .dataframe thead th {\n",
       "        text-align: right;\n",
       "    }\n",
       "</style>\n",
       "<table border=\"1\" class=\"dataframe\">\n",
       "  <thead>\n",
       "    <tr style=\"text-align: right;\">\n",
       "      <th></th>\n",
       "      <th>movie_id</th>\n",
       "      <th>review_id</th>\n",
       "      <th>rating</th>\n",
       "      <th>review_text</th>\n",
       "      <th>created_at</th>\n",
       "    </tr>\n",
       "  </thead>\n",
       "  <tbody>\n",
       "    <tr>\n",
       "      <th>0</th>\n",
       "      <td>843</td>\n",
       "      <td>64ecc16e83901800af821d50</td>\n",
       "      <td>7.0</td>\n",
       "      <td>This is a fine piece of cinema from Wong Kar-W...</td>\n",
       "      <td>2023-08-28 15:46:55.026000+00:00</td>\n",
       "    </tr>\n",
       "    <tr>\n",
       "      <th>1</th>\n",
       "      <td>7443</td>\n",
       "      <td>57086ff5c3a3681d29001512</td>\n",
       "      <td>9.0</td>\n",
       "      <td>A guilty pleasure for me personally, as I love...</td>\n",
       "      <td>2016-04-09 02:59:01.116000+00:00</td>\n",
       "    </tr>\n",
       "    <tr>\n",
       "      <th>2</th>\n",
       "      <td>7443</td>\n",
       "      <td>5bb5ac829251410dcb00810c</td>\n",
       "      <td>6.0</td>\n",
       "      <td>Made my roommate who hates stop-motion animati...</td>\n",
       "      <td>2018-10-04 06:00:34.227000+00:00</td>\n",
       "    </tr>\n",
       "    <tr>\n",
       "      <th>3</th>\n",
       "      <td>7443</td>\n",
       "      <td>5f0c53a013a32000357ec505</td>\n",
       "      <td>8.0</td>\n",
       "      <td>A very good stop-motion animation!\\r\\n\\r\\n&lt;em&gt;...</td>\n",
       "      <td>2020-07-13 12:29:20.853000+00:00</td>\n",
       "    </tr>\n",
       "    <tr>\n",
       "      <th>4</th>\n",
       "      <td>7443</td>\n",
       "      <td>64ecc027594c9400ffe77c91</td>\n",
       "      <td>7.0</td>\n",
       "      <td>Ok, there is an huge temptation to riddle this...</td>\n",
       "      <td>2023-08-28 15:41:27.525000+00:00</td>\n",
       "    </tr>\n",
       "  </tbody>\n",
       "</table>\n",
       "</div>"
      ],
      "text/plain": [
       "   movie_id                 review_id  rating  \\\n",
       "0       843  64ecc16e83901800af821d50     7.0   \n",
       "1      7443  57086ff5c3a3681d29001512     9.0   \n",
       "2      7443  5bb5ac829251410dcb00810c     6.0   \n",
       "3      7443  5f0c53a013a32000357ec505     8.0   \n",
       "4      7443  64ecc027594c9400ffe77c91     7.0   \n",
       "\n",
       "                                         review_text  \\\n",
       "0  This is a fine piece of cinema from Wong Kar-W...   \n",
       "1  A guilty pleasure for me personally, as I love...   \n",
       "2  Made my roommate who hates stop-motion animati...   \n",
       "3  A very good stop-motion animation!\\r\\n\\r\\n<em>...   \n",
       "4  Ok, there is an huge temptation to riddle this...   \n",
       "\n",
       "                        created_at  \n",
       "0 2023-08-28 15:46:55.026000+00:00  \n",
       "1 2016-04-09 02:59:01.116000+00:00  \n",
       "2 2018-10-04 06:00:34.227000+00:00  \n",
       "3 2020-07-13 12:29:20.853000+00:00  \n",
       "4 2023-08-28 15:41:27.525000+00:00  "
      ]
     },
     "execution_count": 19,
     "metadata": {},
     "output_type": "execute_result"
    }
   ],
   "source": [
    "# Loading all reviews from json \n",
    "loaded = []\n",
    "\n",
    "for file in review_files_from_df:\n",
    "    temp = pd.read_json(file)\n",
    "    loaded.append(temp)\n",
    "\n",
    "df_reviews_from_df = pd.concat(loaded)\n",
    "df_reviews_from_df = df_reviews_from_df.reset_index(drop=True)\n",
    "df_reviews_from_df.info()\n",
    "df_reviews_from_df.head()"
   ]
  },
  {
   "cell_type": "code",
   "execution_count": 20,
   "id": "6bdc872f-6926-4547-8d25-4f567c164441",
   "metadata": {
    "execution": {
     "iopub.execute_input": "2024-01-23T05:14:33.183703Z",
     "iopub.status.busy": "2024-01-23T05:14:33.183605Z",
     "iopub.status.idle": "2024-01-23T05:14:33.206002Z",
     "shell.execute_reply": "2024-01-23T05:14:33.205657Z",
     "shell.execute_reply.started": "2024-01-23T05:14:33.183693Z"
    }
   },
   "outputs": [
    {
     "data": {
      "text/plain": [
       "movie_id          0\n",
       "review_id         0\n",
       "rating         1233\n",
       "review_text       0\n",
       "created_at        0\n",
       "dtype: int64"
      ]
     },
     "execution_count": 20,
     "metadata": {},
     "output_type": "execute_result"
    }
   ],
   "source": [
    "df_reviews_from_df.isna().sum()"
   ]
  },
  {
   "cell_type": "code",
   "execution_count": 21,
   "id": "24c1e56d-a2e2-42a8-95fa-22bf3c360b84",
   "metadata": {
    "execution": {
     "iopub.execute_input": "2024-01-23T05:14:33.206628Z",
     "iopub.status.busy": "2024-01-23T05:14:33.206510Z",
     "iopub.status.idle": "2024-01-23T05:14:33.226258Z",
     "shell.execute_reply": "2024-01-23T05:14:33.225916Z",
     "shell.execute_reply.started": "2024-01-23T05:14:33.206616Z"
    }
   },
   "outputs": [
    {
     "data": {
      "text/plain": [
       "0"
      ]
     },
     "execution_count": 21,
     "metadata": {},
     "output_type": "execute_result"
    }
   ],
   "source": [
    "df_reviews_from_df['review_text'].isna().sum()"
   ]
  },
  {
   "cell_type": "code",
   "execution_count": 22,
   "id": "4ecca8b6-4420-45f4-8e4f-d56458e1a940",
   "metadata": {
    "execution": {
     "iopub.execute_input": "2024-01-23T05:14:33.231131Z",
     "iopub.status.busy": "2024-01-23T05:14:33.230957Z",
     "iopub.status.idle": "2024-01-23T05:14:33.263042Z",
     "shell.execute_reply": "2024-01-23T05:14:33.262656Z",
     "shell.execute_reply.started": "2024-01-23T05:14:33.231119Z"
    }
   },
   "outputs": [
    {
     "data": {
      "text/plain": [
       "63"
      ]
     },
     "execution_count": 22,
     "metadata": {},
     "output_type": "execute_result"
    }
   ],
   "source": [
    "df_reviews_from_df['review_text'].duplicated().sum()"
   ]
  },
  {
   "cell_type": "code",
   "execution_count": 23,
   "id": "d1ec6c00-6585-4584-a786-9813e878d603",
   "metadata": {
    "execution": {
     "iopub.execute_input": "2024-01-23T05:14:33.263663Z",
     "iopub.status.busy": "2024-01-23T05:14:33.263498Z",
     "iopub.status.idle": "2024-01-23T05:14:33.287872Z",
     "shell.execute_reply": "2024-01-23T05:14:33.287524Z",
     "shell.execute_reply.started": "2024-01-23T05:14:33.263653Z"
    },
    "scrolled": true
   },
   "outputs": [
    {
     "data": {
      "text/html": [
       "<div>\n",
       "<style scoped>\n",
       "    .dataframe tbody tr th:only-of-type {\n",
       "        vertical-align: middle;\n",
       "    }\n",
       "\n",
       "    .dataframe tbody tr th {\n",
       "        vertical-align: top;\n",
       "    }\n",
       "\n",
       "    .dataframe thead th {\n",
       "        text-align: right;\n",
       "    }\n",
       "</style>\n",
       "<table border=\"1\" class=\"dataframe\">\n",
       "  <thead>\n",
       "    <tr style=\"text-align: right;\">\n",
       "      <th></th>\n",
       "      <th>movie_id</th>\n",
       "      <th>review_id</th>\n",
       "      <th>rating</th>\n",
       "      <th>review_text</th>\n",
       "      <th>created_at</th>\n",
       "    </tr>\n",
       "  </thead>\n",
       "  <tbody>\n",
       "    <tr>\n",
       "      <th>0</th>\n",
       "      <td>843</td>\n",
       "      <td>64ecc16e83901800af821d50</td>\n",
       "      <td>7.0</td>\n",
       "      <td>This is a fine piece of cinema from Wong Kar-W...</td>\n",
       "      <td>2023-08-28 15:46:55.026000+00:00</td>\n",
       "    </tr>\n",
       "    <tr>\n",
       "      <th>1</th>\n",
       "      <td>7443</td>\n",
       "      <td>57086ff5c3a3681d29001512</td>\n",
       "      <td>9.0</td>\n",
       "      <td>A guilty pleasure for me personally, as I love...</td>\n",
       "      <td>2016-04-09 02:59:01.116000+00:00</td>\n",
       "    </tr>\n",
       "    <tr>\n",
       "      <th>2</th>\n",
       "      <td>7443</td>\n",
       "      <td>5bb5ac829251410dcb00810c</td>\n",
       "      <td>6.0</td>\n",
       "      <td>Made my roommate who hates stop-motion animati...</td>\n",
       "      <td>2018-10-04 06:00:34.227000+00:00</td>\n",
       "    </tr>\n",
       "    <tr>\n",
       "      <th>3</th>\n",
       "      <td>7443</td>\n",
       "      <td>5f0c53a013a32000357ec505</td>\n",
       "      <td>8.0</td>\n",
       "      <td>A very good stop-motion animation!\\r\\n\\r\\n&lt;em&gt;...</td>\n",
       "      <td>2020-07-13 12:29:20.853000+00:00</td>\n",
       "    </tr>\n",
       "    <tr>\n",
       "      <th>4</th>\n",
       "      <td>7443</td>\n",
       "      <td>64ecc027594c9400ffe77c91</td>\n",
       "      <td>7.0</td>\n",
       "      <td>Ok, there is an huge temptation to riddle this...</td>\n",
       "      <td>2023-08-28 15:41:27.525000+00:00</td>\n",
       "    </tr>\n",
       "    <tr>\n",
       "      <th>...</th>\n",
       "      <td>...</td>\n",
       "      <td>...</td>\n",
       "      <td>...</td>\n",
       "      <td>...</td>\n",
       "      <td>...</td>\n",
       "    </tr>\n",
       "    <tr>\n",
       "      <th>9019</th>\n",
       "      <td>572802</td>\n",
       "      <td>6584672cf1759c3f51118a1e</td>\n",
       "      <td>6.0</td>\n",
       "      <td>FULL SPOILER-FREE REVIEW @ https://fandomwire....</td>\n",
       "      <td>2023-12-21 16:26:21.038000+00:00</td>\n",
       "    </tr>\n",
       "    <tr>\n",
       "      <th>9020</th>\n",
       "      <td>572802</td>\n",
       "      <td>65882401688cd057b284dd8f</td>\n",
       "      <td>6.0</td>\n",
       "      <td>So here's good old \"Arthur\" (Jason Momoa) sitt...</td>\n",
       "      <td>2023-12-24 12:28:49.987000+00:00</td>\n",
       "    </tr>\n",
       "    <tr>\n",
       "      <th>9021</th>\n",
       "      <td>1072342</td>\n",
       "      <td>659750cfea37e006fa4d0ab1</td>\n",
       "      <td>NaN</td>\n",
       "      <td>The first major release of 2024 has arrived in...</td>\n",
       "      <td>2024-01-05 00:43:59.378000+00:00</td>\n",
       "    </tr>\n",
       "    <tr>\n",
       "      <th>9022</th>\n",
       "      <td>1072342</td>\n",
       "      <td>659af41eca4f6701fe77183c</td>\n",
       "      <td>3.0</td>\n",
       "      <td>FULL SPOILER-FREE REVIEW @ https://fandomwire....</td>\n",
       "      <td>2024-01-07 18:57:34.390000+00:00</td>\n",
       "    </tr>\n",
       "    <tr>\n",
       "      <th>9023</th>\n",
       "      <td>1072342</td>\n",
       "      <td>659f9ff9efea7a012edb799e</td>\n",
       "      <td>6.0</td>\n",
       "      <td>Wyatt Russell is former baseball star \"Ray\" wh...</td>\n",
       "      <td>2024-01-11 07:59:53.660000+00:00</td>\n",
       "    </tr>\n",
       "  </tbody>\n",
       "</table>\n",
       "<p>9024 rows × 5 columns</p>\n",
       "</div>"
      ],
      "text/plain": [
       "      movie_id                 review_id  rating  \\\n",
       "0          843  64ecc16e83901800af821d50     7.0   \n",
       "1         7443  57086ff5c3a3681d29001512     9.0   \n",
       "2         7443  5bb5ac829251410dcb00810c     6.0   \n",
       "3         7443  5f0c53a013a32000357ec505     8.0   \n",
       "4         7443  64ecc027594c9400ffe77c91     7.0   \n",
       "...        ...                       ...     ...   \n",
       "9019    572802  6584672cf1759c3f51118a1e     6.0   \n",
       "9020    572802  65882401688cd057b284dd8f     6.0   \n",
       "9021   1072342  659750cfea37e006fa4d0ab1     NaN   \n",
       "9022   1072342  659af41eca4f6701fe77183c     3.0   \n",
       "9023   1072342  659f9ff9efea7a012edb799e     6.0   \n",
       "\n",
       "                                            review_text  \\\n",
       "0     This is a fine piece of cinema from Wong Kar-W...   \n",
       "1     A guilty pleasure for me personally, as I love...   \n",
       "2     Made my roommate who hates stop-motion animati...   \n",
       "3     A very good stop-motion animation!\\r\\n\\r\\n<em>...   \n",
       "4     Ok, there is an huge temptation to riddle this...   \n",
       "...                                                 ...   \n",
       "9019  FULL SPOILER-FREE REVIEW @ https://fandomwire....   \n",
       "9020  So here's good old \"Arthur\" (Jason Momoa) sitt...   \n",
       "9021  The first major release of 2024 has arrived in...   \n",
       "9022  FULL SPOILER-FREE REVIEW @ https://fandomwire....   \n",
       "9023  Wyatt Russell is former baseball star \"Ray\" wh...   \n",
       "\n",
       "                           created_at  \n",
       "0    2023-08-28 15:46:55.026000+00:00  \n",
       "1    2016-04-09 02:59:01.116000+00:00  \n",
       "2    2018-10-04 06:00:34.227000+00:00  \n",
       "3    2020-07-13 12:29:20.853000+00:00  \n",
       "4    2023-08-28 15:41:27.525000+00:00  \n",
       "...                               ...  \n",
       "9019 2023-12-21 16:26:21.038000+00:00  \n",
       "9020 2023-12-24 12:28:49.987000+00:00  \n",
       "9021 2024-01-05 00:43:59.378000+00:00  \n",
       "9022 2024-01-07 18:57:34.390000+00:00  \n",
       "9023 2024-01-11 07:59:53.660000+00:00  \n",
       "\n",
       "[9024 rows x 5 columns]"
      ]
     },
     "execution_count": 23,
     "metadata": {},
     "output_type": "execute_result"
    }
   ],
   "source": [
    "df_reviews_from_df = df_reviews_from_df.dropna(subset=['review_text'])\n",
    "# df_reviews_from_df = df_reviews_from_df.reset_index(drop=True)\n",
    "df_reviews_from_df"
   ]
  },
  {
   "cell_type": "code",
   "execution_count": 24,
   "id": "ade5c99a-d40d-40f8-9eca-2125679433dc",
   "metadata": {
    "execution": {
     "iopub.execute_input": "2024-01-23T05:14:33.288575Z",
     "iopub.status.busy": "2024-01-23T05:14:33.288462Z",
     "iopub.status.idle": "2024-01-23T05:14:33.310964Z",
     "shell.execute_reply": "2024-01-23T05:14:33.310649Z",
     "shell.execute_reply.started": "2024-01-23T05:14:33.288559Z"
    }
   },
   "outputs": [
    {
     "data": {
      "text/plain": [
       "movie_id          0\n",
       "review_id         0\n",
       "rating         1233\n",
       "review_text       0\n",
       "created_at        0\n",
       "dtype: int64"
      ]
     },
     "execution_count": 24,
     "metadata": {},
     "output_type": "execute_result"
    }
   ],
   "source": [
    "df_reviews_from_df.isna().sum()"
   ]
  },
  {
   "cell_type": "code",
   "execution_count": 25,
   "id": "adcc8260-eda7-4dd7-bc7c-f0ed6fc13900",
   "metadata": {
    "execution": {
     "iopub.execute_input": "2024-01-23T05:14:33.311628Z",
     "iopub.status.busy": "2024-01-23T05:14:33.311529Z",
     "iopub.status.idle": "2024-01-23T05:14:33.331345Z",
     "shell.execute_reply": "2024-01-23T05:14:33.331049Z",
     "shell.execute_reply.started": "2024-01-23T05:14:33.311618Z"
    }
   },
   "outputs": [
    {
     "data": {
      "text/plain": [
       "0"
      ]
     },
     "execution_count": 25,
     "metadata": {},
     "output_type": "execute_result"
    }
   ],
   "source": [
    "# Check for duplciate review ids\n",
    "df_reviews_from_df.duplicated(subset=['review_id']).sum()"
   ]
  },
  {
   "cell_type": "code",
   "execution_count": 26,
   "id": "40a8d75c-a6f0-4ceb-b7dc-71dae5890ea7",
   "metadata": {
    "execution": {
     "iopub.execute_input": "2024-01-23T05:14:33.331959Z",
     "iopub.status.busy": "2024-01-23T05:14:33.331850Z",
     "iopub.status.idle": "2024-01-23T05:14:33.351164Z",
     "shell.execute_reply": "2024-01-23T05:14:33.350723Z",
     "shell.execute_reply.started": "2024-01-23T05:14:33.331951Z"
    }
   },
   "outputs": [
    {
     "data": {
      "text/plain": [
       "63"
      ]
     },
     "execution_count": 26,
     "metadata": {},
     "output_type": "execute_result"
    }
   ],
   "source": [
    "# Check for duplicated review text\n",
    "df_reviews_from_df.duplicated(subset=['review_text']).sum()"
   ]
  },
  {
   "cell_type": "code",
   "execution_count": 27,
   "id": "e338a554-3f5c-4e07-9dac-909c04a35566",
   "metadata": {
    "execution": {
     "iopub.execute_input": "2024-01-23T05:14:33.351916Z",
     "iopub.status.busy": "2024-01-23T05:14:33.351800Z",
     "iopub.status.idle": "2024-01-23T05:14:33.410338Z",
     "shell.execute_reply": "2024-01-23T05:14:33.410011Z",
     "shell.execute_reply.started": "2024-01-23T05:14:33.351906Z"
    }
   },
   "outputs": [
    {
     "data": {
      "text/plain": [
       "59"
      ]
     },
     "execution_count": 27,
     "metadata": {},
     "output_type": "execute_result"
    }
   ],
   "source": [
    "dup_cols = ['review_text','rating']\n",
    "df_reviews_from_df.duplicated(subset=dup_cols).sum()"
   ]
  },
  {
   "cell_type": "code",
   "execution_count": 28,
   "id": "00b345ea-6638-43e7-9806-7f070fee912e",
   "metadata": {
    "execution": {
     "iopub.execute_input": "2024-01-23T05:14:33.411013Z",
     "iopub.status.busy": "2024-01-23T05:14:33.410914Z",
     "iopub.status.idle": "2024-01-23T05:14:33.467599Z",
     "shell.execute_reply": "2024-01-23T05:14:33.467269Z",
     "shell.execute_reply.started": "2024-01-23T05:14:33.411003Z"
    },
    "scrolled": true
   },
   "outputs": [
    {
     "data": {
      "text/html": [
       "<div>\n",
       "<style scoped>\n",
       "    .dataframe tbody tr th:only-of-type {\n",
       "        vertical-align: middle;\n",
       "    }\n",
       "\n",
       "    .dataframe tbody tr th {\n",
       "        vertical-align: top;\n",
       "    }\n",
       "\n",
       "    .dataframe thead th {\n",
       "        text-align: right;\n",
       "    }\n",
       "</style>\n",
       "<table border=\"1\" class=\"dataframe\">\n",
       "  <thead>\n",
       "    <tr style=\"text-align: right;\">\n",
       "      <th></th>\n",
       "      <th>movie_id</th>\n",
       "      <th>review_id</th>\n",
       "      <th>rating</th>\n",
       "      <th>review_text</th>\n",
       "      <th>created_at</th>\n",
       "    </tr>\n",
       "  </thead>\n",
       "  <tbody>\n",
       "    <tr>\n",
       "      <th>0</th>\n",
       "      <td>843</td>\n",
       "      <td>64ecc16e83901800af821d50</td>\n",
       "      <td>7.0</td>\n",
       "      <td>This is a fine piece of cinema from Wong Kar-W...</td>\n",
       "      <td>2023-08-28 15:46:55.026000+00:00</td>\n",
       "    </tr>\n",
       "    <tr>\n",
       "      <th>1</th>\n",
       "      <td>7443</td>\n",
       "      <td>57086ff5c3a3681d29001512</td>\n",
       "      <td>9.0</td>\n",
       "      <td>A guilty pleasure for me personally, as I love...</td>\n",
       "      <td>2016-04-09 02:59:01.116000+00:00</td>\n",
       "    </tr>\n",
       "    <tr>\n",
       "      <th>2</th>\n",
       "      <td>7443</td>\n",
       "      <td>5bb5ac829251410dcb00810c</td>\n",
       "      <td>6.0</td>\n",
       "      <td>Made my roommate who hates stop-motion animati...</td>\n",
       "      <td>2018-10-04 06:00:34.227000+00:00</td>\n",
       "    </tr>\n",
       "    <tr>\n",
       "      <th>3</th>\n",
       "      <td>7443</td>\n",
       "      <td>5f0c53a013a32000357ec505</td>\n",
       "      <td>8.0</td>\n",
       "      <td>A very good stop-motion animation!\\r\\n\\r\\n&lt;em&gt;...</td>\n",
       "      <td>2020-07-13 12:29:20.853000+00:00</td>\n",
       "    </tr>\n",
       "    <tr>\n",
       "      <th>4</th>\n",
       "      <td>7443</td>\n",
       "      <td>64ecc027594c9400ffe77c91</td>\n",
       "      <td>7.0</td>\n",
       "      <td>Ok, there is an huge temptation to riddle this...</td>\n",
       "      <td>2023-08-28 15:41:27.525000+00:00</td>\n",
       "    </tr>\n",
       "    <tr>\n",
       "      <th>...</th>\n",
       "      <td>...</td>\n",
       "      <td>...</td>\n",
       "      <td>...</td>\n",
       "      <td>...</td>\n",
       "      <td>...</td>\n",
       "    </tr>\n",
       "    <tr>\n",
       "      <th>9019</th>\n",
       "      <td>572802</td>\n",
       "      <td>6584672cf1759c3f51118a1e</td>\n",
       "      <td>6.0</td>\n",
       "      <td>FULL SPOILER-FREE REVIEW @ https://fandomwire....</td>\n",
       "      <td>2023-12-21 16:26:21.038000+00:00</td>\n",
       "    </tr>\n",
       "    <tr>\n",
       "      <th>9020</th>\n",
       "      <td>572802</td>\n",
       "      <td>65882401688cd057b284dd8f</td>\n",
       "      <td>6.0</td>\n",
       "      <td>So here's good old \"Arthur\" (Jason Momoa) sitt...</td>\n",
       "      <td>2023-12-24 12:28:49.987000+00:00</td>\n",
       "    </tr>\n",
       "    <tr>\n",
       "      <th>9021</th>\n",
       "      <td>1072342</td>\n",
       "      <td>659750cfea37e006fa4d0ab1</td>\n",
       "      <td>NaN</td>\n",
       "      <td>The first major release of 2024 has arrived in...</td>\n",
       "      <td>2024-01-05 00:43:59.378000+00:00</td>\n",
       "    </tr>\n",
       "    <tr>\n",
       "      <th>9022</th>\n",
       "      <td>1072342</td>\n",
       "      <td>659af41eca4f6701fe77183c</td>\n",
       "      <td>3.0</td>\n",
       "      <td>FULL SPOILER-FREE REVIEW @ https://fandomwire....</td>\n",
       "      <td>2024-01-07 18:57:34.390000+00:00</td>\n",
       "    </tr>\n",
       "    <tr>\n",
       "      <th>9023</th>\n",
       "      <td>1072342</td>\n",
       "      <td>659f9ff9efea7a012edb799e</td>\n",
       "      <td>6.0</td>\n",
       "      <td>Wyatt Russell is former baseball star \"Ray\" wh...</td>\n",
       "      <td>2024-01-11 07:59:53.660000+00:00</td>\n",
       "    </tr>\n",
       "  </tbody>\n",
       "</table>\n",
       "<p>8965 rows × 5 columns</p>\n",
       "</div>"
      ],
      "text/plain": [
       "      movie_id                 review_id  rating  \\\n",
       "0          843  64ecc16e83901800af821d50     7.0   \n",
       "1         7443  57086ff5c3a3681d29001512     9.0   \n",
       "2         7443  5bb5ac829251410dcb00810c     6.0   \n",
       "3         7443  5f0c53a013a32000357ec505     8.0   \n",
       "4         7443  64ecc027594c9400ffe77c91     7.0   \n",
       "...        ...                       ...     ...   \n",
       "9019    572802  6584672cf1759c3f51118a1e     6.0   \n",
       "9020    572802  65882401688cd057b284dd8f     6.0   \n",
       "9021   1072342  659750cfea37e006fa4d0ab1     NaN   \n",
       "9022   1072342  659af41eca4f6701fe77183c     3.0   \n",
       "9023   1072342  659f9ff9efea7a012edb799e     6.0   \n",
       "\n",
       "                                            review_text  \\\n",
       "0     This is a fine piece of cinema from Wong Kar-W...   \n",
       "1     A guilty pleasure for me personally, as I love...   \n",
       "2     Made my roommate who hates stop-motion animati...   \n",
       "3     A very good stop-motion animation!\\r\\n\\r\\n<em>...   \n",
       "4     Ok, there is an huge temptation to riddle this...   \n",
       "...                                                 ...   \n",
       "9019  FULL SPOILER-FREE REVIEW @ https://fandomwire....   \n",
       "9020  So here's good old \"Arthur\" (Jason Momoa) sitt...   \n",
       "9021  The first major release of 2024 has arrived in...   \n",
       "9022  FULL SPOILER-FREE REVIEW @ https://fandomwire....   \n",
       "9023  Wyatt Russell is former baseball star \"Ray\" wh...   \n",
       "\n",
       "                           created_at  \n",
       "0    2023-08-28 15:46:55.026000+00:00  \n",
       "1    2016-04-09 02:59:01.116000+00:00  \n",
       "2    2018-10-04 06:00:34.227000+00:00  \n",
       "3    2020-07-13 12:29:20.853000+00:00  \n",
       "4    2023-08-28 15:41:27.525000+00:00  \n",
       "...                               ...  \n",
       "9019 2023-12-21 16:26:21.038000+00:00  \n",
       "9020 2023-12-24 12:28:49.987000+00:00  \n",
       "9021 2024-01-05 00:43:59.378000+00:00  \n",
       "9022 2024-01-07 18:57:34.390000+00:00  \n",
       "9023 2024-01-11 07:59:53.660000+00:00  \n",
       "\n",
       "[8965 rows x 5 columns]"
      ]
     },
     "execution_count": 28,
     "metadata": {},
     "output_type": "execute_result"
    }
   ],
   "source": [
    "df_reviews_from_df = df_reviews_from_df.drop_duplicates(subset=dup_cols)\n",
    "df_reviews_from_df"
   ]
  },
  {
   "cell_type": "code",
   "execution_count": 29,
   "id": "d5bb083d-3892-453a-8c53-4f3bfeedd867",
   "metadata": {
    "execution": {
     "iopub.execute_input": "2024-01-23T05:14:33.468119Z",
     "iopub.status.busy": "2024-01-23T05:14:33.468031Z",
     "iopub.status.idle": "2024-01-23T05:14:33.486195Z",
     "shell.execute_reply": "2024-01-23T05:14:33.485840Z",
     "shell.execute_reply.started": "2024-01-23T05:14:33.468110Z"
    }
   },
   "outputs": [],
   "source": [
    "# # Saving combined reviews to main folder (not script subdfolder)\n",
    "# combined_reviews_fname = \"Data-NLP/combined-tmdb-movie-reviews.csv.gz\"\n",
    "# # pd.read_csv(combined_reviews_fname)\n",
    "# df_reviews_from_df.to_csv(combined_reviews_fname, index=False, compression='gzip')"
   ]
  },
  {
   "cell_type": "markdown",
   "id": "cb93d505-b87b-46a5-a82f-1c5eabeeead4",
   "metadata": {},
   "source": [
    "### Saving New Version"
   ]
  },
  {
   "cell_type": "code",
   "execution_count": 30,
   "id": "a0bf6b8c-5108-4711-a0fb-3df1afddf710",
   "metadata": {
    "execution": {
     "iopub.execute_input": "2024-01-23T05:14:33.486795Z",
     "iopub.status.busy": "2024-01-23T05:14:33.486707Z",
     "iopub.status.idle": "2024-01-23T05:14:33.505572Z",
     "shell.execute_reply": "2024-01-23T05:14:33.505251Z",
     "shell.execute_reply.started": "2024-01-23T05:14:33.486787Z"
    }
   },
   "outputs": [
    {
     "data": {
      "text/plain": [
       "'Data-NLP/reviews/'"
      ]
     },
     "execution_count": 30,
     "metadata": {},
     "output_type": "execute_result"
    }
   ],
   "source": [
    "FOLDER"
   ]
  },
  {
   "cell_type": "markdown",
   "id": "3b2f8179-9c0b-497b-8174-06ace479ee3d",
   "metadata": {},
   "source": [
    "##### Compare Opt A1 A2"
   ]
  },
  {
   "cell_type": "code",
   "execution_count": 31,
   "id": "cc075e22-4c87-44a5-9e06-868c0f09a4cb",
   "metadata": {
    "execution": {
     "iopub.execute_input": "2024-01-23T05:14:33.506280Z",
     "iopub.status.busy": "2024-01-23T05:14:33.506132Z",
     "iopub.status.idle": "2024-01-23T05:14:33.525213Z",
     "shell.execute_reply": "2024-01-23T05:14:33.524773Z",
     "shell.execute_reply.started": "2024-01-23T05:14:33.506271Z"
    }
   },
   "outputs": [
    {
     "data": {
      "text/plain": [
       "((8965, 5), (8965, 5))"
      ]
     },
     "execution_count": 31,
     "metadata": {},
     "output_type": "execute_result"
    }
   ],
   "source": [
    "df_reviews_dirs.shape, df_reviews_from_df.shape"
   ]
  },
  {
   "cell_type": "code",
   "execution_count": 32,
   "id": "ea4f58bf-5ef8-408d-b7a9-53aa0f00137a",
   "metadata": {
    "execution": {
     "iopub.execute_input": "2024-01-23T05:14:33.525962Z",
     "iopub.status.busy": "2024-01-23T05:14:33.525848Z",
     "iopub.status.idle": "2024-01-23T05:14:33.547039Z",
     "shell.execute_reply": "2024-01-23T05:14:33.546663Z",
     "shell.execute_reply.started": "2024-01-23T05:14:33.525953Z"
    }
   },
   "outputs": [
    {
     "data": {
      "text/html": [
       "<div>\n",
       "<style scoped>\n",
       "    .dataframe tbody tr th:only-of-type {\n",
       "        vertical-align: middle;\n",
       "    }\n",
       "\n",
       "    .dataframe tbody tr th {\n",
       "        vertical-align: top;\n",
       "    }\n",
       "\n",
       "    .dataframe thead th {\n",
       "        text-align: right;\n",
       "    }\n",
       "</style>\n",
       "<table border=\"1\" class=\"dataframe\">\n",
       "  <thead>\n",
       "    <tr style=\"text-align: right;\">\n",
       "      <th></th>\n",
       "      <th>movie_id</th>\n",
       "      <th>review_id</th>\n",
       "      <th>rating</th>\n",
       "      <th>review_text</th>\n",
       "      <th>created_at</th>\n",
       "    </tr>\n",
       "  </thead>\n",
       "  <tbody>\n",
       "    <tr>\n",
       "      <th>9019</th>\n",
       "      <td>99861</td>\n",
       "      <td>5e20dedc397df000129666b8</td>\n",
       "      <td>NaN</td>\n",
       "      <td>It's just what I feared. Marvel has gotten so ...</td>\n",
       "      <td>2020-01-16 22:08:28.630000+00:00</td>\n",
       "    </tr>\n",
       "    <tr>\n",
       "      <th>9020</th>\n",
       "      <td>99861</td>\n",
       "      <td>5ef819bba284eb00398dc810</td>\n",
       "      <td>7.0</td>\n",
       "      <td>Third viewing of this and while not the strong...</td>\n",
       "      <td>2020-06-28 04:16:59.341000+00:00</td>\n",
       "    </tr>\n",
       "    <tr>\n",
       "      <th>9021</th>\n",
       "      <td>99861</td>\n",
       "      <td>600616349a358d0040c2ecad</td>\n",
       "      <td>7.0</td>\n",
       "      <td>Cool seeing them all together again, even if I...</td>\n",
       "      <td>2021-01-18 23:13:56.078000+00:00</td>\n",
       "    </tr>\n",
       "    <tr>\n",
       "      <th>9022</th>\n",
       "      <td>9988</td>\n",
       "      <td>5a6940bc9251414a2e009179</td>\n",
       "      <td>5.0</td>\n",
       "      <td>Not one of Broken Lizard's strongest entries, ...</td>\n",
       "      <td>2018-01-25 02:28:12.494000+00:00</td>\n",
       "    </tr>\n",
       "    <tr>\n",
       "      <th>9023</th>\n",
       "      <td>9988</td>\n",
       "      <td>6449359c2fdec602fca107cb</td>\n",
       "      <td>8.0</td>\n",
       "      <td>This was a awesome movie. I love these guys ju...</td>\n",
       "      <td>2023-04-26 14:30:52.951000+00:00</td>\n",
       "    </tr>\n",
       "  </tbody>\n",
       "</table>\n",
       "</div>"
      ],
      "text/plain": [
       "      movie_id                 review_id  rating  \\\n",
       "9019     99861  5e20dedc397df000129666b8     NaN   \n",
       "9020     99861  5ef819bba284eb00398dc810     7.0   \n",
       "9021     99861  600616349a358d0040c2ecad     7.0   \n",
       "9022      9988  5a6940bc9251414a2e009179     5.0   \n",
       "9023      9988  6449359c2fdec602fca107cb     8.0   \n",
       "\n",
       "                                            review_text  \\\n",
       "9019  It's just what I feared. Marvel has gotten so ...   \n",
       "9020  Third viewing of this and while not the strong...   \n",
       "9021  Cool seeing them all together again, even if I...   \n",
       "9022  Not one of Broken Lizard's strongest entries, ...   \n",
       "9023  This was a awesome movie. I love these guys ju...   \n",
       "\n",
       "                           created_at  \n",
       "9019 2020-01-16 22:08:28.630000+00:00  \n",
       "9020 2020-06-28 04:16:59.341000+00:00  \n",
       "9021 2021-01-18 23:13:56.078000+00:00  \n",
       "9022 2018-01-25 02:28:12.494000+00:00  \n",
       "9023 2023-04-26 14:30:52.951000+00:00  "
      ]
     },
     "execution_count": 32,
     "metadata": {},
     "output_type": "execute_result"
    }
   ],
   "source": [
    "df_reviews_dirs.tail()"
   ]
  },
  {
   "cell_type": "code",
   "execution_count": 33,
   "id": "c437a8bf-ca8a-4922-aae9-9b2e64b21176",
   "metadata": {
    "execution": {
     "iopub.execute_input": "2024-01-23T05:14:33.547677Z",
     "iopub.status.busy": "2024-01-23T05:14:33.547559Z",
     "iopub.status.idle": "2024-01-23T05:14:33.568505Z",
     "shell.execute_reply": "2024-01-23T05:14:33.568184Z",
     "shell.execute_reply.started": "2024-01-23T05:14:33.547668Z"
    }
   },
   "outputs": [
    {
     "data": {
      "text/html": [
       "<div>\n",
       "<style scoped>\n",
       "    .dataframe tbody tr th:only-of-type {\n",
       "        vertical-align: middle;\n",
       "    }\n",
       "\n",
       "    .dataframe tbody tr th {\n",
       "        vertical-align: top;\n",
       "    }\n",
       "\n",
       "    .dataframe thead th {\n",
       "        text-align: right;\n",
       "    }\n",
       "</style>\n",
       "<table border=\"1\" class=\"dataframe\">\n",
       "  <thead>\n",
       "    <tr style=\"text-align: right;\">\n",
       "      <th></th>\n",
       "      <th>movie_id</th>\n",
       "      <th>review_id</th>\n",
       "      <th>rating</th>\n",
       "      <th>review_text</th>\n",
       "      <th>created_at</th>\n",
       "    </tr>\n",
       "  </thead>\n",
       "  <tbody>\n",
       "    <tr>\n",
       "      <th>9019</th>\n",
       "      <td>572802</td>\n",
       "      <td>6584672cf1759c3f51118a1e</td>\n",
       "      <td>6.0</td>\n",
       "      <td>FULL SPOILER-FREE REVIEW @ https://fandomwire....</td>\n",
       "      <td>2023-12-21 16:26:21.038000+00:00</td>\n",
       "    </tr>\n",
       "    <tr>\n",
       "      <th>9020</th>\n",
       "      <td>572802</td>\n",
       "      <td>65882401688cd057b284dd8f</td>\n",
       "      <td>6.0</td>\n",
       "      <td>So here's good old \"Arthur\" (Jason Momoa) sitt...</td>\n",
       "      <td>2023-12-24 12:28:49.987000+00:00</td>\n",
       "    </tr>\n",
       "    <tr>\n",
       "      <th>9021</th>\n",
       "      <td>1072342</td>\n",
       "      <td>659750cfea37e006fa4d0ab1</td>\n",
       "      <td>NaN</td>\n",
       "      <td>The first major release of 2024 has arrived in...</td>\n",
       "      <td>2024-01-05 00:43:59.378000+00:00</td>\n",
       "    </tr>\n",
       "    <tr>\n",
       "      <th>9022</th>\n",
       "      <td>1072342</td>\n",
       "      <td>659af41eca4f6701fe77183c</td>\n",
       "      <td>3.0</td>\n",
       "      <td>FULL SPOILER-FREE REVIEW @ https://fandomwire....</td>\n",
       "      <td>2024-01-07 18:57:34.390000+00:00</td>\n",
       "    </tr>\n",
       "    <tr>\n",
       "      <th>9023</th>\n",
       "      <td>1072342</td>\n",
       "      <td>659f9ff9efea7a012edb799e</td>\n",
       "      <td>6.0</td>\n",
       "      <td>Wyatt Russell is former baseball star \"Ray\" wh...</td>\n",
       "      <td>2024-01-11 07:59:53.660000+00:00</td>\n",
       "    </tr>\n",
       "  </tbody>\n",
       "</table>\n",
       "</div>"
      ],
      "text/plain": [
       "      movie_id                 review_id  rating  \\\n",
       "9019    572802  6584672cf1759c3f51118a1e     6.0   \n",
       "9020    572802  65882401688cd057b284dd8f     6.0   \n",
       "9021   1072342  659750cfea37e006fa4d0ab1     NaN   \n",
       "9022   1072342  659af41eca4f6701fe77183c     3.0   \n",
       "9023   1072342  659f9ff9efea7a012edb799e     6.0   \n",
       "\n",
       "                                            review_text  \\\n",
       "9019  FULL SPOILER-FREE REVIEW @ https://fandomwire....   \n",
       "9020  So here's good old \"Arthur\" (Jason Momoa) sitt...   \n",
       "9021  The first major release of 2024 has arrived in...   \n",
       "9022  FULL SPOILER-FREE REVIEW @ https://fandomwire....   \n",
       "9023  Wyatt Russell is former baseball star \"Ray\" wh...   \n",
       "\n",
       "                           created_at  \n",
       "9019 2023-12-21 16:26:21.038000+00:00  \n",
       "9020 2023-12-24 12:28:49.987000+00:00  \n",
       "9021 2024-01-05 00:43:59.378000+00:00  \n",
       "9022 2024-01-07 18:57:34.390000+00:00  \n",
       "9023 2024-01-11 07:59:53.660000+00:00  "
      ]
     },
     "execution_count": 33,
     "metadata": {},
     "output_type": "execute_result"
    }
   ],
   "source": [
    "df_reviews_from_df.tail()"
   ]
  },
  {
   "cell_type": "markdown",
   "id": "6f124cee-48ed-42be-be9c-126c79a70749",
   "metadata": {},
   "source": [
    "# 📌BOOKMARK 01/22/24"
   ]
  },
  {
   "cell_type": "code",
   "execution_count": 34,
   "id": "f1b2725e-5a98-4eff-a08f-ee2deb09568d",
   "metadata": {
    "execution": {
     "iopub.execute_input": "2024-01-23T05:14:33.569021Z",
     "iopub.status.busy": "2024-01-23T05:14:33.568931Z",
     "iopub.status.idle": "2024-01-23T05:14:33.587595Z",
     "shell.execute_reply": "2024-01-23T05:14:33.587304Z",
     "shell.execute_reply.started": "2024-01-23T05:14:33.569012Z"
    }
   },
   "outputs": [
    {
     "data": {
      "text/plain": [
       "{'movie-reviews': 'Data-NLP/tmdb-movie-reviews.csv.gz',\n",
       " 'movie-info': 'Data-NLP/tmdb-movie-info.csv.gz',\n",
       " 'eda': 'Data-NLP/eda-movie-reviews.csv.gz',\n",
       " 'processed-joblib': 'Data-NLP/processed-nlp-data.joblib',\n",
       " 'processed-json': 'Data-NLP/processed-nlp-data.json'}"
      ]
     },
     "execution_count": 34,
     "metadata": {},
     "output_type": "execute_result"
    }
   ],
   "source": [
    "FPATHS['data']['raw']"
   ]
  },
  {
   "cell_type": "code",
   "execution_count": 35,
   "id": "a9559c5d-5bec-41c2-a169-91282cf34da4",
   "metadata": {
    "execution": {
     "iopub.execute_input": "2024-01-23T05:14:33.588166Z",
     "iopub.status.busy": "2024-01-23T05:14:33.588067Z",
     "iopub.status.idle": "2024-01-23T05:14:33.607433Z",
     "shell.execute_reply": "2024-01-23T05:14:33.607119Z",
     "shell.execute_reply.started": "2024-01-23T05:14:33.588157Z"
    }
   },
   "outputs": [
    {
     "data": {
      "text/plain": [
       "'Data-NLP/tmdb-movie-reviews.csv.gz'"
      ]
     },
     "execution_count": 35,
     "metadata": {},
     "output_type": "execute_result"
    }
   ],
   "source": [
    "# Saving combined reviews to main folder (not script subdfolder)\n",
    "# combined_reviews_fname = \"Data-NLP/combined-tmdb-movie-reviews.csv.gz\"\n",
    "combined_reviews_fname = FPATHS['data']['raw']['movie-reviews']\n",
    "combined_reviews_fname\n",
    "# pd.read_csv(combined_reviews_fname)"
   ]
  },
  {
   "cell_type": "code",
   "execution_count": 36,
   "id": "944080b3-a82e-405f-840e-f191f96170a2",
   "metadata": {
    "execution": {
     "iopub.execute_input": "2024-01-23T05:14:33.608171Z",
     "iopub.status.busy": "2024-01-23T05:14:33.608060Z",
     "iopub.status.idle": "2024-01-23T05:14:34.463911Z",
     "shell.execute_reply": "2024-01-23T05:14:34.463502Z",
     "shell.execute_reply.started": "2024-01-23T05:14:33.608161Z"
    }
   },
   "outputs": [],
   "source": [
    "reviews_df = df_reviews_dirs.copy()\n",
    "# reviews_df = df_reviews_from_df.copy()\n",
    "reviews_df.to_csv(combined_reviews_fname, index=False, compression='gzip')"
   ]
  },
  {
   "cell_type": "code",
   "execution_count": 37,
   "id": "826c759b-926b-4d84-8871-d15ab1e57298",
   "metadata": {
    "execution": {
     "iopub.execute_input": "2024-01-23T05:14:34.464636Z",
     "iopub.status.busy": "2024-01-23T05:14:34.464539Z",
     "iopub.status.idle": "2024-01-23T05:14:34.484625Z",
     "shell.execute_reply": "2024-01-23T05:14:34.484010Z",
     "shell.execute_reply.started": "2024-01-23T05:14:34.464627Z"
    }
   },
   "outputs": [],
   "source": [
    "# raise Exception(\"stop and resolve above\")"
   ]
  },
  {
   "cell_type": "markdown",
   "id": "7c86a656-a6f2-4a84-96f7-fd87c9d46127",
   "metadata": {},
   "source": [
    "## B) Load Combined CSV"
   ]
  },
  {
   "cell_type": "code",
   "execution_count": 38,
   "id": "de46d2d4-9f5b-4a02-a6c1-096de6df5a2b",
   "metadata": {
    "execution": {
     "iopub.execute_input": "2024-01-23T05:14:34.485272Z",
     "iopub.status.busy": "2024-01-23T05:14:34.485162Z",
     "iopub.status.idle": "2024-01-23T05:14:34.669346Z",
     "shell.execute_reply": "2024-01-23T05:14:34.669017Z",
     "shell.execute_reply.started": "2024-01-23T05:14:34.485262Z"
    },
    "scrolled": true
   },
   "outputs": [
    {
     "data": {
      "text/html": [
       "<div>\n",
       "<style scoped>\n",
       "    .dataframe tbody tr th:only-of-type {\n",
       "        vertical-align: middle;\n",
       "    }\n",
       "\n",
       "    .dataframe tbody tr th {\n",
       "        vertical-align: top;\n",
       "    }\n",
       "\n",
       "    .dataframe thead th {\n",
       "        text-align: right;\n",
       "    }\n",
       "</style>\n",
       "<table border=\"1\" class=\"dataframe\">\n",
       "  <thead>\n",
       "    <tr style=\"text-align: right;\">\n",
       "      <th></th>\n",
       "      <th>movie_id</th>\n",
       "      <th>review_id</th>\n",
       "      <th>rating</th>\n",
       "      <th>review_text</th>\n",
       "      <th>created_at</th>\n",
       "    </tr>\n",
       "  </thead>\n",
       "  <tbody>\n",
       "    <tr>\n",
       "      <th>0</th>\n",
       "      <td>100042</td>\n",
       "      <td>64a3999fe9da6900c763aa8d</td>\n",
       "      <td>7.0</td>\n",
       "      <td>Better then the original I think. Was pretty f...</td>\n",
       "      <td>2023-07-04 04:01:35.517000+00:00</td>\n",
       "    </tr>\n",
       "    <tr>\n",
       "      <th>1</th>\n",
       "      <td>10008</td>\n",
       "      <td>643d44864d67910469d853a2</td>\n",
       "      <td>5.0</td>\n",
       "      <td>Kind of boring. It's a good plot and storyline...</td>\n",
       "      <td>2023-04-17 13:07:18.832000+00:00</td>\n",
       "    </tr>\n",
       "    <tr>\n",
       "      <th>2</th>\n",
       "      <td>10009</td>\n",
       "      <td>5f22bd2b43999b00355b26a6</td>\n",
       "      <td>7.0</td>\n",
       "      <td>Heartwarming, if not as impactful as it intend...</td>\n",
       "      <td>2020-07-30 12:29:31.310000+00:00</td>\n",
       "    </tr>\n",
       "    <tr>\n",
       "      <th>3</th>\n",
       "      <td>10009</td>\n",
       "      <td>6592736214956560f7da631f</td>\n",
       "      <td>7.0</td>\n",
       "      <td>\"Kenai\" is a young Inuit warrior who disturbs ...</td>\n",
       "      <td>2024-01-01 08:10:10.033000+00:00</td>\n",
       "    </tr>\n",
       "    <tr>\n",
       "      <th>4</th>\n",
       "      <td>10012</td>\n",
       "      <td>628159c8caa50850dcf93d33</td>\n",
       "      <td>5.0</td>\n",
       "      <td>Seems like an apt title for everything that ha...</td>\n",
       "      <td>2022-05-15 19:51:36.244000+00:00</td>\n",
       "    </tr>\n",
       "    <tr>\n",
       "      <th>...</th>\n",
       "      <td>...</td>\n",
       "      <td>...</td>\n",
       "      <td>...</td>\n",
       "      <td>...</td>\n",
       "      <td>...</td>\n",
       "    </tr>\n",
       "    <tr>\n",
       "      <th>8960</th>\n",
       "      <td>99861</td>\n",
       "      <td>5e20dedc397df000129666b8</td>\n",
       "      <td>NaN</td>\n",
       "      <td>It's just what I feared. Marvel has gotten so ...</td>\n",
       "      <td>2020-01-16 22:08:28.630000+00:00</td>\n",
       "    </tr>\n",
       "    <tr>\n",
       "      <th>8961</th>\n",
       "      <td>99861</td>\n",
       "      <td>5ef819bba284eb00398dc810</td>\n",
       "      <td>7.0</td>\n",
       "      <td>Third viewing of this and while not the strong...</td>\n",
       "      <td>2020-06-28 04:16:59.341000+00:00</td>\n",
       "    </tr>\n",
       "    <tr>\n",
       "      <th>8962</th>\n",
       "      <td>99861</td>\n",
       "      <td>600616349a358d0040c2ecad</td>\n",
       "      <td>7.0</td>\n",
       "      <td>Cool seeing them all together again, even if I...</td>\n",
       "      <td>2021-01-18 23:13:56.078000+00:00</td>\n",
       "    </tr>\n",
       "    <tr>\n",
       "      <th>8963</th>\n",
       "      <td>9988</td>\n",
       "      <td>5a6940bc9251414a2e009179</td>\n",
       "      <td>5.0</td>\n",
       "      <td>Not one of Broken Lizard's strongest entries, ...</td>\n",
       "      <td>2018-01-25 02:28:12.494000+00:00</td>\n",
       "    </tr>\n",
       "    <tr>\n",
       "      <th>8964</th>\n",
       "      <td>9988</td>\n",
       "      <td>6449359c2fdec602fca107cb</td>\n",
       "      <td>8.0</td>\n",
       "      <td>This was a awesome movie. I love these guys ju...</td>\n",
       "      <td>2023-04-26 14:30:52.951000+00:00</td>\n",
       "    </tr>\n",
       "  </tbody>\n",
       "</table>\n",
       "<p>8965 rows × 5 columns</p>\n",
       "</div>"
      ],
      "text/plain": [
       "      movie_id                 review_id  rating  \\\n",
       "0       100042  64a3999fe9da6900c763aa8d     7.0   \n",
       "1        10008  643d44864d67910469d853a2     5.0   \n",
       "2        10009  5f22bd2b43999b00355b26a6     7.0   \n",
       "3        10009  6592736214956560f7da631f     7.0   \n",
       "4        10012  628159c8caa50850dcf93d33     5.0   \n",
       "...        ...                       ...     ...   \n",
       "8960     99861  5e20dedc397df000129666b8     NaN   \n",
       "8961     99861  5ef819bba284eb00398dc810     7.0   \n",
       "8962     99861  600616349a358d0040c2ecad     7.0   \n",
       "8963      9988  5a6940bc9251414a2e009179     5.0   \n",
       "8964      9988  6449359c2fdec602fca107cb     8.0   \n",
       "\n",
       "                                            review_text  \\\n",
       "0     Better then the original I think. Was pretty f...   \n",
       "1     Kind of boring. It's a good plot and storyline...   \n",
       "2     Heartwarming, if not as impactful as it intend...   \n",
       "3     \"Kenai\" is a young Inuit warrior who disturbs ...   \n",
       "4     Seems like an apt title for everything that ha...   \n",
       "...                                                 ...   \n",
       "8960  It's just what I feared. Marvel has gotten so ...   \n",
       "8961  Third viewing of this and while not the strong...   \n",
       "8962  Cool seeing them all together again, even if I...   \n",
       "8963  Not one of Broken Lizard's strongest entries, ...   \n",
       "8964  This was a awesome movie. I love these guys ju...   \n",
       "\n",
       "                            created_at  \n",
       "0     2023-07-04 04:01:35.517000+00:00  \n",
       "1     2023-04-17 13:07:18.832000+00:00  \n",
       "2     2020-07-30 12:29:31.310000+00:00  \n",
       "3     2024-01-01 08:10:10.033000+00:00  \n",
       "4     2022-05-15 19:51:36.244000+00:00  \n",
       "...                                ...  \n",
       "8960  2020-01-16 22:08:28.630000+00:00  \n",
       "8961  2020-06-28 04:16:59.341000+00:00  \n",
       "8962  2021-01-18 23:13:56.078000+00:00  \n",
       "8963  2018-01-25 02:28:12.494000+00:00  \n",
       "8964  2023-04-26 14:30:52.951000+00:00  \n",
       "\n",
       "[8965 rows x 5 columns]"
      ]
     },
     "execution_count": 38,
     "metadata": {},
     "output_type": "execute_result"
    }
   ],
   "source": [
    "# combined_reviews_fname = \"Data-NLP/combined-tmdb-movie-reviews.csv.gz\")\n",
    "combined_reviews_fname = FPATHS['data']['raw']['movie-reviews']\n",
    "reviews_df = pd.read_csv(combined_reviews_fname)\n",
    "reviews_df"
   ]
  },
  {
   "cell_type": "code",
   "execution_count": 39,
   "id": "638d553e-3cef-43e3-a2e5-abc8a723a156",
   "metadata": {
    "execution": {
     "iopub.execute_input": "2024-01-23T05:14:34.670051Z",
     "iopub.status.busy": "2024-01-23T05:14:34.669961Z",
     "iopub.status.idle": "2024-01-23T05:14:34.690010Z",
     "shell.execute_reply": "2024-01-23T05:14:34.689715Z",
     "shell.execute_reply.started": "2024-01-23T05:14:34.670042Z"
    }
   },
   "outputs": [
    {
     "data": {
      "text/plain": [
       "0"
      ]
     },
     "execution_count": 39,
     "metadata": {},
     "output_type": "execute_result"
    }
   ],
   "source": [
    "# Check for duplciate review ids\n",
    "reviews_df.duplicated(subset=['review_id']).sum()"
   ]
  },
  {
   "cell_type": "code",
   "execution_count": 40,
   "id": "5b3947fb-f36d-40f8-9eaa-eddeef3e907f",
   "metadata": {
    "execution": {
     "iopub.execute_input": "2024-01-23T05:14:34.690725Z",
     "iopub.status.busy": "2024-01-23T05:14:34.690580Z",
     "iopub.status.idle": "2024-01-23T05:14:34.721228Z",
     "shell.execute_reply": "2024-01-23T05:14:34.720892Z",
     "shell.execute_reply.started": "2024-01-23T05:14:34.690716Z"
    }
   },
   "outputs": [
    {
     "data": {
      "text/plain": [
       "4"
      ]
     },
     "execution_count": 40,
     "metadata": {},
     "output_type": "execute_result"
    }
   ],
   "source": [
    "# Check for duplicated review text\n",
    "reviews_df.duplicated(subset=['review_text']).sum()"
   ]
  },
  {
   "cell_type": "code",
   "execution_count": 41,
   "id": "09a98539-b55a-4ce1-92b9-a7d5d02aa110",
   "metadata": {
    "execution": {
     "iopub.execute_input": "2024-01-23T05:14:34.721842Z",
     "iopub.status.busy": "2024-01-23T05:14:34.721747Z",
     "iopub.status.idle": "2024-01-23T05:14:34.779800Z",
     "shell.execute_reply": "2024-01-23T05:14:34.779525Z",
     "shell.execute_reply.started": "2024-01-23T05:14:34.721833Z"
    }
   },
   "outputs": [
    {
     "data": {
      "text/plain": [
       "0"
      ]
     },
     "execution_count": 41,
     "metadata": {},
     "output_type": "execute_result"
    }
   ],
   "source": [
    "dup_cols = ['review_text','rating']\n",
    "reviews_df.duplicated(subset=dup_cols).sum()"
   ]
  },
  {
   "cell_type": "code",
   "execution_count": 42,
   "id": "c6b0d743-75a6-4fff-b04e-96a6088ba04a",
   "metadata": {
    "execution": {
     "iopub.execute_input": "2024-01-23T05:14:34.780378Z",
     "iopub.status.busy": "2024-01-23T05:14:34.780282Z",
     "iopub.status.idle": "2024-01-23T05:14:34.835514Z",
     "shell.execute_reply": "2024-01-23T05:14:34.835206Z",
     "shell.execute_reply.started": "2024-01-23T05:14:34.780369Z"
    },
    "scrolled": true
   },
   "outputs": [
    {
     "data": {
      "text/html": [
       "<div>\n",
       "<style scoped>\n",
       "    .dataframe tbody tr th:only-of-type {\n",
       "        vertical-align: middle;\n",
       "    }\n",
       "\n",
       "    .dataframe tbody tr th {\n",
       "        vertical-align: top;\n",
       "    }\n",
       "\n",
       "    .dataframe thead th {\n",
       "        text-align: right;\n",
       "    }\n",
       "</style>\n",
       "<table border=\"1\" class=\"dataframe\">\n",
       "  <thead>\n",
       "    <tr style=\"text-align: right;\">\n",
       "      <th></th>\n",
       "      <th>movie_id</th>\n",
       "      <th>review_id</th>\n",
       "      <th>rating</th>\n",
       "      <th>review_text</th>\n",
       "      <th>created_at</th>\n",
       "    </tr>\n",
       "  </thead>\n",
       "  <tbody>\n",
       "    <tr>\n",
       "      <th>0</th>\n",
       "      <td>100042</td>\n",
       "      <td>64a3999fe9da6900c763aa8d</td>\n",
       "      <td>7.0</td>\n",
       "      <td>Better then the original I think. Was pretty f...</td>\n",
       "      <td>2023-07-04 04:01:35.517000+00:00</td>\n",
       "    </tr>\n",
       "    <tr>\n",
       "      <th>1</th>\n",
       "      <td>10008</td>\n",
       "      <td>643d44864d67910469d853a2</td>\n",
       "      <td>5.0</td>\n",
       "      <td>Kind of boring. It's a good plot and storyline...</td>\n",
       "      <td>2023-04-17 13:07:18.832000+00:00</td>\n",
       "    </tr>\n",
       "    <tr>\n",
       "      <th>2</th>\n",
       "      <td>10009</td>\n",
       "      <td>5f22bd2b43999b00355b26a6</td>\n",
       "      <td>7.0</td>\n",
       "      <td>Heartwarming, if not as impactful as it intend...</td>\n",
       "      <td>2020-07-30 12:29:31.310000+00:00</td>\n",
       "    </tr>\n",
       "    <tr>\n",
       "      <th>3</th>\n",
       "      <td>10009</td>\n",
       "      <td>6592736214956560f7da631f</td>\n",
       "      <td>7.0</td>\n",
       "      <td>\"Kenai\" is a young Inuit warrior who disturbs ...</td>\n",
       "      <td>2024-01-01 08:10:10.033000+00:00</td>\n",
       "    </tr>\n",
       "    <tr>\n",
       "      <th>4</th>\n",
       "      <td>10012</td>\n",
       "      <td>628159c8caa50850dcf93d33</td>\n",
       "      <td>5.0</td>\n",
       "      <td>Seems like an apt title for everything that ha...</td>\n",
       "      <td>2022-05-15 19:51:36.244000+00:00</td>\n",
       "    </tr>\n",
       "    <tr>\n",
       "      <th>...</th>\n",
       "      <td>...</td>\n",
       "      <td>...</td>\n",
       "      <td>...</td>\n",
       "      <td>...</td>\n",
       "      <td>...</td>\n",
       "    </tr>\n",
       "    <tr>\n",
       "      <th>8960</th>\n",
       "      <td>99861</td>\n",
       "      <td>5e20dedc397df000129666b8</td>\n",
       "      <td>NaN</td>\n",
       "      <td>It's just what I feared. Marvel has gotten so ...</td>\n",
       "      <td>2020-01-16 22:08:28.630000+00:00</td>\n",
       "    </tr>\n",
       "    <tr>\n",
       "      <th>8961</th>\n",
       "      <td>99861</td>\n",
       "      <td>5ef819bba284eb00398dc810</td>\n",
       "      <td>7.0</td>\n",
       "      <td>Third viewing of this and while not the strong...</td>\n",
       "      <td>2020-06-28 04:16:59.341000+00:00</td>\n",
       "    </tr>\n",
       "    <tr>\n",
       "      <th>8962</th>\n",
       "      <td>99861</td>\n",
       "      <td>600616349a358d0040c2ecad</td>\n",
       "      <td>7.0</td>\n",
       "      <td>Cool seeing them all together again, even if I...</td>\n",
       "      <td>2021-01-18 23:13:56.078000+00:00</td>\n",
       "    </tr>\n",
       "    <tr>\n",
       "      <th>8963</th>\n",
       "      <td>9988</td>\n",
       "      <td>5a6940bc9251414a2e009179</td>\n",
       "      <td>5.0</td>\n",
       "      <td>Not one of Broken Lizard's strongest entries, ...</td>\n",
       "      <td>2018-01-25 02:28:12.494000+00:00</td>\n",
       "    </tr>\n",
       "    <tr>\n",
       "      <th>8964</th>\n",
       "      <td>9988</td>\n",
       "      <td>6449359c2fdec602fca107cb</td>\n",
       "      <td>8.0</td>\n",
       "      <td>This was a awesome movie. I love these guys ju...</td>\n",
       "      <td>2023-04-26 14:30:52.951000+00:00</td>\n",
       "    </tr>\n",
       "  </tbody>\n",
       "</table>\n",
       "<p>8965 rows × 5 columns</p>\n",
       "</div>"
      ],
      "text/plain": [
       "      movie_id                 review_id  rating  \\\n",
       "0       100042  64a3999fe9da6900c763aa8d     7.0   \n",
       "1        10008  643d44864d67910469d853a2     5.0   \n",
       "2        10009  5f22bd2b43999b00355b26a6     7.0   \n",
       "3        10009  6592736214956560f7da631f     7.0   \n",
       "4        10012  628159c8caa50850dcf93d33     5.0   \n",
       "...        ...                       ...     ...   \n",
       "8960     99861  5e20dedc397df000129666b8     NaN   \n",
       "8961     99861  5ef819bba284eb00398dc810     7.0   \n",
       "8962     99861  600616349a358d0040c2ecad     7.0   \n",
       "8963      9988  5a6940bc9251414a2e009179     5.0   \n",
       "8964      9988  6449359c2fdec602fca107cb     8.0   \n",
       "\n",
       "                                            review_text  \\\n",
       "0     Better then the original I think. Was pretty f...   \n",
       "1     Kind of boring. It's a good plot and storyline...   \n",
       "2     Heartwarming, if not as impactful as it intend...   \n",
       "3     \"Kenai\" is a young Inuit warrior who disturbs ...   \n",
       "4     Seems like an apt title for everything that ha...   \n",
       "...                                                 ...   \n",
       "8960  It's just what I feared. Marvel has gotten so ...   \n",
       "8961  Third viewing of this and while not the strong...   \n",
       "8962  Cool seeing them all together again, even if I...   \n",
       "8963  Not one of Broken Lizard's strongest entries, ...   \n",
       "8964  This was a awesome movie. I love these guys ju...   \n",
       "\n",
       "                            created_at  \n",
       "0     2023-07-04 04:01:35.517000+00:00  \n",
       "1     2023-04-17 13:07:18.832000+00:00  \n",
       "2     2020-07-30 12:29:31.310000+00:00  \n",
       "3     2024-01-01 08:10:10.033000+00:00  \n",
       "4     2022-05-15 19:51:36.244000+00:00  \n",
       "...                                ...  \n",
       "8960  2020-01-16 22:08:28.630000+00:00  \n",
       "8961  2020-06-28 04:16:59.341000+00:00  \n",
       "8962  2021-01-18 23:13:56.078000+00:00  \n",
       "8963  2018-01-25 02:28:12.494000+00:00  \n",
       "8964  2023-04-26 14:30:52.951000+00:00  \n",
       "\n",
       "[8965 rows x 5 columns]"
      ]
     },
     "execution_count": 42,
     "metadata": {},
     "output_type": "execute_result"
    }
   ],
   "source": [
    "reviews_df = reviews_df.drop_duplicates(subset=dup_cols)\n",
    "reviews_df"
   ]
  },
  {
   "cell_type": "code",
   "execution_count": 43,
   "id": "f9b98248-2c68-4271-aca6-e1c4d77a174a",
   "metadata": {
    "execution": {
     "iopub.execute_input": "2024-01-23T05:14:34.836144Z",
     "iopub.status.busy": "2024-01-23T05:14:34.836038Z",
     "iopub.status.idle": "2024-01-23T05:14:34.855224Z",
     "shell.execute_reply": "2024-01-23T05:14:34.854897Z",
     "shell.execute_reply.started": "2024-01-23T05:14:34.836135Z"
    }
   },
   "outputs": [
    {
     "data": {
      "text/plain": [
       "(8965, 5)"
      ]
     },
     "execution_count": 43,
     "metadata": {},
     "output_type": "execute_result"
    }
   ],
   "source": [
    "reviews_df.shape"
   ]
  },
  {
   "cell_type": "code",
   "execution_count": 44,
   "id": "90cd2783-7931-4e8a-8500-e28e971f1b69",
   "metadata": {
    "execution": {
     "iopub.execute_input": "2024-01-23T05:14:34.855892Z",
     "iopub.status.busy": "2024-01-23T05:14:34.855763Z",
     "iopub.status.idle": "2024-01-23T05:14:34.878450Z",
     "shell.execute_reply": "2024-01-23T05:14:34.878129Z",
     "shell.execute_reply.started": "2024-01-23T05:14:34.855882Z"
    }
   },
   "outputs": [
    {
     "data": {
      "text/plain": [
       "movie_id          0\n",
       "review_id         0\n",
       "rating         1215\n",
       "review_text       0\n",
       "created_at        0\n",
       "dtype: int64"
      ]
     },
     "execution_count": 44,
     "metadata": {},
     "output_type": "execute_result"
    }
   ],
   "source": [
    "reviews_df.isna().sum()"
   ]
  },
  {
   "cell_type": "code",
   "execution_count": null,
   "id": "150e35dd-99ef-46c6-bf16-886b71293849",
   "metadata": {},
   "outputs": [],
   "source": []
  },
  {
   "cell_type": "markdown",
   "id": "c3a9b6cc-41da-4694-b3f0-c8c52d2bd849",
   "metadata": {},
   "source": [
    "### Opt C) Load Reviews from AWS RDS"
   ]
  },
  {
   "cell_type": "code",
   "execution_count": 45,
   "id": "a578d77a-d733-43c3-916b-152bd3e1ae44",
   "metadata": {
    "execution": {
     "iopub.execute_input": "2024-01-23T05:14:34.879064Z",
     "iopub.status.busy": "2024-01-23T05:14:34.878972Z",
     "iopub.status.idle": "2024-01-23T05:14:34.897386Z",
     "shell.execute_reply": "2024-01-23T05:14:34.896987Z",
     "shell.execute_reply.started": "2024-01-23T05:14:34.879055Z"
    }
   },
   "outputs": [],
   "source": [
    "# from custom_functions import aws_mysql\n",
    "# conn, engine = aws_mysql.connect_to_aws_rds(include_engine=True)\n",
    "# conn, engine"
   ]
  },
  {
   "cell_type": "code",
   "execution_count": 46,
   "id": "69249062-6c0b-4b15-8367-098e89d253ec",
   "metadata": {
    "execution": {
     "iopub.execute_input": "2024-01-23T05:14:34.898057Z",
     "iopub.status.busy": "2024-01-23T05:14:34.897962Z",
     "iopub.status.idle": "2024-01-23T05:14:34.934373Z",
     "shell.execute_reply": "2024-01-23T05:14:34.932797Z",
     "shell.execute_reply.started": "2024-01-23T05:14:34.898048Z"
    }
   },
   "outputs": [],
   "source": [
    "# ## Test your connection by checking for any tables that exist (there should be none at this point)\n",
    "# q = \"\"\"SHOW TABLES;\"\"\"\n",
    "# tables = pd.read_sql(q, conn)\n",
    "# tables"
   ]
  },
  {
   "cell_type": "code",
   "execution_count": 47,
   "id": "f525d459-59f1-4a72-a706-eed2a1bf0539",
   "metadata": {
    "execution": {
     "iopub.execute_input": "2024-01-23T05:14:34.935175Z",
     "iopub.status.busy": "2024-01-23T05:14:34.935068Z",
     "iopub.status.idle": "2024-01-23T05:14:34.958893Z",
     "shell.execute_reply": "2024-01-23T05:14:34.957947Z",
     "shell.execute_reply.started": "2024-01-23T05:14:34.935165Z"
    }
   },
   "outputs": [],
   "source": [
    "# q = \"SELECT * FROM reviews\"\n",
    "# reviews_sql_df = pd.read_sql(q, conn)\n",
    "# reviews_sql_df"
   ]
  },
  {
   "cell_type": "code",
   "execution_count": 48,
   "id": "c1e22254-6204-4f92-a947-14ffa064153a",
   "metadata": {
    "execution": {
     "iopub.execute_input": "2024-01-23T05:14:34.960670Z",
     "iopub.status.busy": "2024-01-23T05:14:34.960071Z",
     "iopub.status.idle": "2024-01-23T05:14:34.981311Z",
     "shell.execute_reply": "2024-01-23T05:14:34.980970Z",
     "shell.execute_reply.started": "2024-01-23T05:14:34.960523Z"
    }
   },
   "outputs": [],
   "source": [
    "# reviews_sql_df.duplicated(subset=dup_cols).sum() "
   ]
  },
  {
   "cell_type": "code",
   "execution_count": 49,
   "id": "f9344f65-abd2-4904-b210-e5f7fa79a87c",
   "metadata": {
    "execution": {
     "iopub.execute_input": "2024-01-23T05:14:34.981945Z",
     "iopub.status.busy": "2024-01-23T05:14:34.981856Z",
     "iopub.status.idle": "2024-01-23T05:14:35.000120Z",
     "shell.execute_reply": "2024-01-23T05:14:34.999704Z",
     "shell.execute_reply.started": "2024-01-23T05:14:34.981936Z"
    }
   },
   "outputs": [],
   "source": [
    "# reviews_sql_df = reviews_sql_df.drop_duplicates(subset=dup_cols)\n",
    "# reviews_sql_df"
   ]
  },
  {
   "cell_type": "markdown",
   "id": "2a992d10-ca73-4012-b569-1e43981e9d16",
   "metadata": {},
   "source": [
    "> NOTE: Now that done with selecting workflow, should prob move duplciate checking code below selecting final df"
   ]
  },
  {
   "cell_type": "markdown",
   "id": "d1ec3d90-2960-4194-add6-bb9d869498de",
   "metadata": {},
   "source": [
    "## Select Final DF"
   ]
  },
  {
   "cell_type": "code",
   "execution_count": 50,
   "id": "ce7af547-6dd7-4ce0-a8f7-1084f17d4bb5",
   "metadata": {
    "execution": {
     "iopub.execute_input": "2024-01-23T05:14:35.000864Z",
     "iopub.status.busy": "2024-01-23T05:14:35.000714Z",
     "iopub.status.idle": "2024-01-23T05:14:35.022595Z",
     "shell.execute_reply": "2024-01-23T05:14:35.022281Z",
     "shell.execute_reply.started": "2024-01-23T05:14:35.000854Z"
    }
   },
   "outputs": [
    {
     "data": {
      "text/html": [
       "<div>\n",
       "<style scoped>\n",
       "    .dataframe tbody tr th:only-of-type {\n",
       "        vertical-align: middle;\n",
       "    }\n",
       "\n",
       "    .dataframe tbody tr th {\n",
       "        vertical-align: top;\n",
       "    }\n",
       "\n",
       "    .dataframe thead th {\n",
       "        text-align: right;\n",
       "    }\n",
       "</style>\n",
       "<table border=\"1\" class=\"dataframe\">\n",
       "  <thead>\n",
       "    <tr style=\"text-align: right;\">\n",
       "      <th></th>\n",
       "      <th>movie_id</th>\n",
       "      <th>review_id</th>\n",
       "      <th>rating</th>\n",
       "      <th>review_text</th>\n",
       "      <th>created_at</th>\n",
       "    </tr>\n",
       "  </thead>\n",
       "  <tbody>\n",
       "    <tr>\n",
       "      <th>0</th>\n",
       "      <td>100042</td>\n",
       "      <td>64a3999fe9da6900c763aa8d</td>\n",
       "      <td>7.0</td>\n",
       "      <td>Better then the original I think. Was pretty f...</td>\n",
       "      <td>2023-07-04 04:01:35.517000+00:00</td>\n",
       "    </tr>\n",
       "    <tr>\n",
       "      <th>1</th>\n",
       "      <td>10008</td>\n",
       "      <td>643d44864d67910469d853a2</td>\n",
       "      <td>5.0</td>\n",
       "      <td>Kind of boring. It's a good plot and storyline...</td>\n",
       "      <td>2023-04-17 13:07:18.832000+00:00</td>\n",
       "    </tr>\n",
       "    <tr>\n",
       "      <th>2</th>\n",
       "      <td>10009</td>\n",
       "      <td>5f22bd2b43999b00355b26a6</td>\n",
       "      <td>7.0</td>\n",
       "      <td>Heartwarming, if not as impactful as it intend...</td>\n",
       "      <td>2020-07-30 12:29:31.310000+00:00</td>\n",
       "    </tr>\n",
       "    <tr>\n",
       "      <th>3</th>\n",
       "      <td>10009</td>\n",
       "      <td>6592736214956560f7da631f</td>\n",
       "      <td>7.0</td>\n",
       "      <td>\"Kenai\" is a young Inuit warrior who disturbs ...</td>\n",
       "      <td>2024-01-01 08:10:10.033000+00:00</td>\n",
       "    </tr>\n",
       "    <tr>\n",
       "      <th>4</th>\n",
       "      <td>10012</td>\n",
       "      <td>628159c8caa50850dcf93d33</td>\n",
       "      <td>5.0</td>\n",
       "      <td>Seems like an apt title for everything that ha...</td>\n",
       "      <td>2022-05-15 19:51:36.244000+00:00</td>\n",
       "    </tr>\n",
       "    <tr>\n",
       "      <th>...</th>\n",
       "      <td>...</td>\n",
       "      <td>...</td>\n",
       "      <td>...</td>\n",
       "      <td>...</td>\n",
       "      <td>...</td>\n",
       "    </tr>\n",
       "    <tr>\n",
       "      <th>8960</th>\n",
       "      <td>99861</td>\n",
       "      <td>5e20dedc397df000129666b8</td>\n",
       "      <td>NaN</td>\n",
       "      <td>It's just what I feared. Marvel has gotten so ...</td>\n",
       "      <td>2020-01-16 22:08:28.630000+00:00</td>\n",
       "    </tr>\n",
       "    <tr>\n",
       "      <th>8961</th>\n",
       "      <td>99861</td>\n",
       "      <td>5ef819bba284eb00398dc810</td>\n",
       "      <td>7.0</td>\n",
       "      <td>Third viewing of this and while not the strong...</td>\n",
       "      <td>2020-06-28 04:16:59.341000+00:00</td>\n",
       "    </tr>\n",
       "    <tr>\n",
       "      <th>8962</th>\n",
       "      <td>99861</td>\n",
       "      <td>600616349a358d0040c2ecad</td>\n",
       "      <td>7.0</td>\n",
       "      <td>Cool seeing them all together again, even if I...</td>\n",
       "      <td>2021-01-18 23:13:56.078000+00:00</td>\n",
       "    </tr>\n",
       "    <tr>\n",
       "      <th>8963</th>\n",
       "      <td>9988</td>\n",
       "      <td>5a6940bc9251414a2e009179</td>\n",
       "      <td>5.0</td>\n",
       "      <td>Not one of Broken Lizard's strongest entries, ...</td>\n",
       "      <td>2018-01-25 02:28:12.494000+00:00</td>\n",
       "    </tr>\n",
       "    <tr>\n",
       "      <th>8964</th>\n",
       "      <td>9988</td>\n",
       "      <td>6449359c2fdec602fca107cb</td>\n",
       "      <td>8.0</td>\n",
       "      <td>This was a awesome movie. I love these guys ju...</td>\n",
       "      <td>2023-04-26 14:30:52.951000+00:00</td>\n",
       "    </tr>\n",
       "  </tbody>\n",
       "</table>\n",
       "<p>8965 rows × 5 columns</p>\n",
       "</div>"
      ],
      "text/plain": [
       "      movie_id                 review_id  rating  \\\n",
       "0       100042  64a3999fe9da6900c763aa8d     7.0   \n",
       "1        10008  643d44864d67910469d853a2     5.0   \n",
       "2        10009  5f22bd2b43999b00355b26a6     7.0   \n",
       "3        10009  6592736214956560f7da631f     7.0   \n",
       "4        10012  628159c8caa50850dcf93d33     5.0   \n",
       "...        ...                       ...     ...   \n",
       "8960     99861  5e20dedc397df000129666b8     NaN   \n",
       "8961     99861  5ef819bba284eb00398dc810     7.0   \n",
       "8962     99861  600616349a358d0040c2ecad     7.0   \n",
       "8963      9988  5a6940bc9251414a2e009179     5.0   \n",
       "8964      9988  6449359c2fdec602fca107cb     8.0   \n",
       "\n",
       "                                            review_text  \\\n",
       "0     Better then the original I think. Was pretty f...   \n",
       "1     Kind of boring. It's a good plot and storyline...   \n",
       "2     Heartwarming, if not as impactful as it intend...   \n",
       "3     \"Kenai\" is a young Inuit warrior who disturbs ...   \n",
       "4     Seems like an apt title for everything that ha...   \n",
       "...                                                 ...   \n",
       "8960  It's just what I feared. Marvel has gotten so ...   \n",
       "8961  Third viewing of this and while not the strong...   \n",
       "8962  Cool seeing them all together again, even if I...   \n",
       "8963  Not one of Broken Lizard's strongest entries, ...   \n",
       "8964  This was a awesome movie. I love these guys ju...   \n",
       "\n",
       "                            created_at  \n",
       "0     2023-07-04 04:01:35.517000+00:00  \n",
       "1     2023-04-17 13:07:18.832000+00:00  \n",
       "2     2020-07-30 12:29:31.310000+00:00  \n",
       "3     2024-01-01 08:10:10.033000+00:00  \n",
       "4     2022-05-15 19:51:36.244000+00:00  \n",
       "...                                ...  \n",
       "8960  2020-01-16 22:08:28.630000+00:00  \n",
       "8961  2020-06-28 04:16:59.341000+00:00  \n",
       "8962  2021-01-18 23:13:56.078000+00:00  \n",
       "8963  2018-01-25 02:28:12.494000+00:00  \n",
       "8964  2023-04-26 14:30:52.951000+00:00  \n",
       "\n",
       "[8965 rows x 5 columns]"
      ]
     },
     "execution_count": 50,
     "metadata": {},
     "output_type": "execute_result"
    }
   ],
   "source": [
    "df  = reviews_df.copy()\n",
    "df"
   ]
  },
  {
   "cell_type": "code",
   "execution_count": 51,
   "id": "1df1a93d-bef2-455a-a927-30c6793f2dc7",
   "metadata": {
    "execution": {
     "iopub.execute_input": "2024-01-23T05:14:35.023309Z",
     "iopub.status.busy": "2024-01-23T05:14:35.023188Z",
     "iopub.status.idle": "2024-01-23T05:14:35.041642Z",
     "shell.execute_reply": "2024-01-23T05:14:35.041264Z",
     "shell.execute_reply.started": "2024-01-23T05:14:35.023300Z"
    }
   },
   "outputs": [],
   "source": [
    "df_movies = None\n",
    "df_reviews_dirs = None\n",
    "df_reviews_from_df = None\n",
    "reviews_df = None\n",
    "reviews_sql_df = None\n",
    "del df_movies, df_reviews_dirs, df_reviews_from_df, reviews_df, reviews_sql_df"
   ]
  },
  {
   "cell_type": "code",
   "execution_count": 52,
   "id": "5aa2df62-d2dc-43a9-825a-54863c9fe60b",
   "metadata": {
    "execution": {
     "iopub.execute_input": "2024-01-23T05:14:35.042433Z",
     "iopub.status.busy": "2024-01-23T05:14:35.042327Z",
     "iopub.status.idle": "2024-01-23T05:14:35.265138Z",
     "shell.execute_reply": "2024-01-23T05:14:35.264729Z",
     "shell.execute_reply.started": "2024-01-23T05:14:35.042423Z"
    }
   },
   "outputs": [
    {
     "data": {
      "text/plain": [
       "<Axes: >"
      ]
     },
     "execution_count": 52,
     "metadata": {},
     "output_type": "execute_result"
    },
    {
     "data": {
      "image/png": "[encoded data removed]",
      "text/plain": [
       "<Figure size 2500x1000 with 2 Axes>"
      ]
     },
     "metadata": {},
     "output_type": "display_data"
    }
   ],
   "source": [
    "import missingno\n",
    "missingno.matrix(df)"
   ]
  },
  {
   "cell_type": "code",
   "execution_count": 53,
   "id": "412519aa-0f05-4a94-a182-0edd45774300",
   "metadata": {
    "execution": {
     "iopub.execute_input": "2024-01-23T05:14:35.266118Z",
     "iopub.status.busy": "2024-01-23T05:14:35.266006Z",
     "iopub.status.idle": "2024-01-23T05:14:35.286649Z",
     "shell.execute_reply": "2024-01-23T05:14:35.286278Z",
     "shell.execute_reply.started": "2024-01-23T05:14:35.266109Z"
    }
   },
   "outputs": [
    {
     "data": {
      "text/plain": [
       "4"
      ]
     },
     "execution_count": 53,
     "metadata": {},
     "output_type": "execute_result"
    }
   ],
   "source": [
    "df.duplicated('review_text').sum()"
   ]
  },
  {
   "cell_type": "code",
   "execution_count": 54,
   "id": "3f5a6897-140c-4ea8-91be-993a48f75f84",
   "metadata": {
    "execution": {
     "iopub.execute_input": "2024-01-23T05:14:35.287186Z",
     "iopub.status.busy": "2024-01-23T05:14:35.287094Z",
     "iopub.status.idle": "2024-01-23T05:14:35.312844Z",
     "shell.execute_reply": "2024-01-23T05:14:35.312447Z",
     "shell.execute_reply.started": "2024-01-23T05:14:35.287177Z"
    }
   },
   "outputs": [
    {
     "data": {
      "text/html": [
       "<div>\n",
       "<style scoped>\n",
       "    .dataframe tbody tr th:only-of-type {\n",
       "        vertical-align: middle;\n",
       "    }\n",
       "\n",
       "    .dataframe tbody tr th {\n",
       "        vertical-align: top;\n",
       "    }\n",
       "\n",
       "    .dataframe thead th {\n",
       "        text-align: right;\n",
       "    }\n",
       "</style>\n",
       "<table border=\"1\" class=\"dataframe\">\n",
       "  <thead>\n",
       "    <tr style=\"text-align: right;\">\n",
       "      <th></th>\n",
       "      <th>movie_id</th>\n",
       "      <th>review_id</th>\n",
       "      <th>rating</th>\n",
       "      <th>review_text</th>\n",
       "      <th>created_at</th>\n",
       "    </tr>\n",
       "  </thead>\n",
       "  <tbody>\n",
       "    <tr>\n",
       "      <th>0</th>\n",
       "      <td>100042</td>\n",
       "      <td>64a3999fe9da6900c763aa8d</td>\n",
       "      <td>7.0</td>\n",
       "      <td>Better then the original I think. Was pretty f...</td>\n",
       "      <td>2023-07-04 04:01:35.517000+00:00</td>\n",
       "    </tr>\n",
       "    <tr>\n",
       "      <th>1</th>\n",
       "      <td>10008</td>\n",
       "      <td>643d44864d67910469d853a2</td>\n",
       "      <td>5.0</td>\n",
       "      <td>Kind of boring. It's a good plot and storyline...</td>\n",
       "      <td>2023-04-17 13:07:18.832000+00:00</td>\n",
       "    </tr>\n",
       "    <tr>\n",
       "      <th>2</th>\n",
       "      <td>10009</td>\n",
       "      <td>5f22bd2b43999b00355b26a6</td>\n",
       "      <td>7.0</td>\n",
       "      <td>Heartwarming, if not as impactful as it intend...</td>\n",
       "      <td>2020-07-30 12:29:31.310000+00:00</td>\n",
       "    </tr>\n",
       "    <tr>\n",
       "      <th>3</th>\n",
       "      <td>10009</td>\n",
       "      <td>6592736214956560f7da631f</td>\n",
       "      <td>7.0</td>\n",
       "      <td>\"Kenai\" is a young Inuit warrior who disturbs ...</td>\n",
       "      <td>2024-01-01 08:10:10.033000+00:00</td>\n",
       "    </tr>\n",
       "    <tr>\n",
       "      <th>4</th>\n",
       "      <td>10012</td>\n",
       "      <td>628159c8caa50850dcf93d33</td>\n",
       "      <td>5.0</td>\n",
       "      <td>Seems like an apt title for everything that ha...</td>\n",
       "      <td>2022-05-15 19:51:36.244000+00:00</td>\n",
       "    </tr>\n",
       "    <tr>\n",
       "      <th>...</th>\n",
       "      <td>...</td>\n",
       "      <td>...</td>\n",
       "      <td>...</td>\n",
       "      <td>...</td>\n",
       "      <td>...</td>\n",
       "    </tr>\n",
       "    <tr>\n",
       "      <th>8960</th>\n",
       "      <td>99861</td>\n",
       "      <td>5e20dedc397df000129666b8</td>\n",
       "      <td>NaN</td>\n",
       "      <td>It's just what I feared. Marvel has gotten so ...</td>\n",
       "      <td>2020-01-16 22:08:28.630000+00:00</td>\n",
       "    </tr>\n",
       "    <tr>\n",
       "      <th>8961</th>\n",
       "      <td>99861</td>\n",
       "      <td>5ef819bba284eb00398dc810</td>\n",
       "      <td>7.0</td>\n",
       "      <td>Third viewing of this and while not the strong...</td>\n",
       "      <td>2020-06-28 04:16:59.341000+00:00</td>\n",
       "    </tr>\n",
       "    <tr>\n",
       "      <th>8962</th>\n",
       "      <td>99861</td>\n",
       "      <td>600616349a358d0040c2ecad</td>\n",
       "      <td>7.0</td>\n",
       "      <td>Cool seeing them all together again, even if I...</td>\n",
       "      <td>2021-01-18 23:13:56.078000+00:00</td>\n",
       "    </tr>\n",
       "    <tr>\n",
       "      <th>8963</th>\n",
       "      <td>9988</td>\n",
       "      <td>5a6940bc9251414a2e009179</td>\n",
       "      <td>5.0</td>\n",
       "      <td>Not one of Broken Lizard's strongest entries, ...</td>\n",
       "      <td>2018-01-25 02:28:12.494000+00:00</td>\n",
       "    </tr>\n",
       "    <tr>\n",
       "      <th>8964</th>\n",
       "      <td>9988</td>\n",
       "      <td>6449359c2fdec602fca107cb</td>\n",
       "      <td>8.0</td>\n",
       "      <td>This was a awesome movie. I love these guys ju...</td>\n",
       "      <td>2023-04-26 14:30:52.951000+00:00</td>\n",
       "    </tr>\n",
       "  </tbody>\n",
       "</table>\n",
       "<p>8965 rows × 5 columns</p>\n",
       "</div>"
      ],
      "text/plain": [
       "      movie_id                 review_id  rating  \\\n",
       "0       100042  64a3999fe9da6900c763aa8d     7.0   \n",
       "1        10008  643d44864d67910469d853a2     5.0   \n",
       "2        10009  5f22bd2b43999b00355b26a6     7.0   \n",
       "3        10009  6592736214956560f7da631f     7.0   \n",
       "4        10012  628159c8caa50850dcf93d33     5.0   \n",
       "...        ...                       ...     ...   \n",
       "8960     99861  5e20dedc397df000129666b8     NaN   \n",
       "8961     99861  5ef819bba284eb00398dc810     7.0   \n",
       "8962     99861  600616349a358d0040c2ecad     7.0   \n",
       "8963      9988  5a6940bc9251414a2e009179     5.0   \n",
       "8964      9988  6449359c2fdec602fca107cb     8.0   \n",
       "\n",
       "                                            review_text  \\\n",
       "0     Better then the original I think. Was pretty f...   \n",
       "1     Kind of boring. It's a good plot and storyline...   \n",
       "2     Heartwarming, if not as impactful as it intend...   \n",
       "3     \"Kenai\" is a young Inuit warrior who disturbs ...   \n",
       "4     Seems like an apt title for everything that ha...   \n",
       "...                                                 ...   \n",
       "8960  It's just what I feared. Marvel has gotten so ...   \n",
       "8961  Third viewing of this and while not the strong...   \n",
       "8962  Cool seeing them all together again, even if I...   \n",
       "8963  Not one of Broken Lizard's strongest entries, ...   \n",
       "8964  This was a awesome movie. I love these guys ju...   \n",
       "\n",
       "                            created_at  \n",
       "0     2023-07-04 04:01:35.517000+00:00  \n",
       "1     2023-04-17 13:07:18.832000+00:00  \n",
       "2     2020-07-30 12:29:31.310000+00:00  \n",
       "3     2024-01-01 08:10:10.033000+00:00  \n",
       "4     2022-05-15 19:51:36.244000+00:00  \n",
       "...                                ...  \n",
       "8960  2020-01-16 22:08:28.630000+00:00  \n",
       "8961  2020-06-28 04:16:59.341000+00:00  \n",
       "8962  2021-01-18 23:13:56.078000+00:00  \n",
       "8963  2018-01-25 02:28:12.494000+00:00  \n",
       "8964  2023-04-26 14:30:52.951000+00:00  \n",
       "\n",
       "[8965 rows x 5 columns]"
      ]
     },
     "execution_count": 54,
     "metadata": {},
     "output_type": "execute_result"
    }
   ],
   "source": [
    "# Dropna and rename columns\n",
    "df = df.dropna(subset=['review_text'])\n",
    "df = df.rename({'author_rating':'rating'},axis=1)\n",
    "df"
   ]
  },
  {
   "cell_type": "markdown",
   "id": "e2d5fc8e-8c52-47e8-9232-b4f656feceb7",
   "metadata": {},
   "source": [
    "### Removing HTML/HTTPS (Orig From Notebook 6B)"
   ]
  },
  {
   "cell_type": "code",
   "execution_count": 55,
   "id": "9ac9bc73-d798-47ec-94d6-9e478f7b6dd7",
   "metadata": {
    "execution": {
     "iopub.execute_input": "2024-01-23T05:14:35.313560Z",
     "iopub.status.busy": "2024-01-23T05:14:35.313438Z",
     "iopub.status.idle": "2024-01-23T05:14:35.337440Z",
     "shell.execute_reply": "2024-01-23T05:14:35.337083Z",
     "shell.execute_reply.started": "2024-01-23T05:14:35.313548Z"
    }
   },
   "outputs": [
    {
     "data": {
      "text/html": [
       "<div>\n",
       "<style scoped>\n",
       "    .dataframe tbody tr th:only-of-type {\n",
       "        vertical-align: middle;\n",
       "    }\n",
       "\n",
       "    .dataframe tbody tr th {\n",
       "        vertical-align: top;\n",
       "    }\n",
       "\n",
       "    .dataframe thead th {\n",
       "        text-align: right;\n",
       "    }\n",
       "</style>\n",
       "<table border=\"1\" class=\"dataframe\">\n",
       "  <thead>\n",
       "    <tr style=\"text-align: right;\">\n",
       "      <th></th>\n",
       "      <th>movie_id</th>\n",
       "      <th>review_id</th>\n",
       "      <th>rating</th>\n",
       "      <th>review_text</th>\n",
       "      <th>created_at</th>\n",
       "      <th>review_text_raw</th>\n",
       "    </tr>\n",
       "  </thead>\n",
       "  <tbody>\n",
       "    <tr>\n",
       "      <th>0</th>\n",
       "      <td>100042</td>\n",
       "      <td>64a3999fe9da6900c763aa8d</td>\n",
       "      <td>7.0</td>\n",
       "      <td>Better then the original I think. Was pretty f...</td>\n",
       "      <td>2023-07-04 04:01:35.517000+00:00</td>\n",
       "      <td>Better then the original I think. Was pretty f...</td>\n",
       "    </tr>\n",
       "    <tr>\n",
       "      <th>1</th>\n",
       "      <td>10008</td>\n",
       "      <td>643d44864d67910469d853a2</td>\n",
       "      <td>5.0</td>\n",
       "      <td>Kind of boring. It's a good plot and storyline...</td>\n",
       "      <td>2023-04-17 13:07:18.832000+00:00</td>\n",
       "      <td>Kind of boring. It's a good plot and storyline...</td>\n",
       "    </tr>\n",
       "    <tr>\n",
       "      <th>2</th>\n",
       "      <td>10009</td>\n",
       "      <td>5f22bd2b43999b00355b26a6</td>\n",
       "      <td>7.0</td>\n",
       "      <td>Heartwarming, if not as impactful as it intend...</td>\n",
       "      <td>2020-07-30 12:29:31.310000+00:00</td>\n",
       "      <td>Heartwarming, if not as impactful as it intend...</td>\n",
       "    </tr>\n",
       "    <tr>\n",
       "      <th>3</th>\n",
       "      <td>10009</td>\n",
       "      <td>6592736214956560f7da631f</td>\n",
       "      <td>7.0</td>\n",
       "      <td>\"Kenai\" is a young Inuit warrior who disturbs ...</td>\n",
       "      <td>2024-01-01 08:10:10.033000+00:00</td>\n",
       "      <td>\"Kenai\" is a young Inuit warrior who disturbs ...</td>\n",
       "    </tr>\n",
       "    <tr>\n",
       "      <th>4</th>\n",
       "      <td>10012</td>\n",
       "      <td>628159c8caa50850dcf93d33</td>\n",
       "      <td>5.0</td>\n",
       "      <td>Seems like an apt title for everything that ha...</td>\n",
       "      <td>2022-05-15 19:51:36.244000+00:00</td>\n",
       "      <td>Seems like an apt title for everything that ha...</td>\n",
       "    </tr>\n",
       "    <tr>\n",
       "      <th>...</th>\n",
       "      <td>...</td>\n",
       "      <td>...</td>\n",
       "      <td>...</td>\n",
       "      <td>...</td>\n",
       "      <td>...</td>\n",
       "      <td>...</td>\n",
       "    </tr>\n",
       "    <tr>\n",
       "      <th>8960</th>\n",
       "      <td>99861</td>\n",
       "      <td>5e20dedc397df000129666b8</td>\n",
       "      <td>NaN</td>\n",
       "      <td>It's just what I feared. Marvel has gotten so ...</td>\n",
       "      <td>2020-01-16 22:08:28.630000+00:00</td>\n",
       "      <td>It's just what I feared. Marvel has gotten so ...</td>\n",
       "    </tr>\n",
       "    <tr>\n",
       "      <th>8961</th>\n",
       "      <td>99861</td>\n",
       "      <td>5ef819bba284eb00398dc810</td>\n",
       "      <td>7.0</td>\n",
       "      <td>Third viewing of this and while not the strong...</td>\n",
       "      <td>2020-06-28 04:16:59.341000+00:00</td>\n",
       "      <td>Third viewing of this and while not the strong...</td>\n",
       "    </tr>\n",
       "    <tr>\n",
       "      <th>8962</th>\n",
       "      <td>99861</td>\n",
       "      <td>600616349a358d0040c2ecad</td>\n",
       "      <td>7.0</td>\n",
       "      <td>Cool seeing them all together again, even if I...</td>\n",
       "      <td>2021-01-18 23:13:56.078000+00:00</td>\n",
       "      <td>Cool seeing them all together again, even if I...</td>\n",
       "    </tr>\n",
       "    <tr>\n",
       "      <th>8963</th>\n",
       "      <td>9988</td>\n",
       "      <td>5a6940bc9251414a2e009179</td>\n",
       "      <td>5.0</td>\n",
       "      <td>Not one of Broken Lizard's strongest entries, ...</td>\n",
       "      <td>2018-01-25 02:28:12.494000+00:00</td>\n",
       "      <td>Not one of Broken Lizard's strongest entries, ...</td>\n",
       "    </tr>\n",
       "    <tr>\n",
       "      <th>8964</th>\n",
       "      <td>9988</td>\n",
       "      <td>6449359c2fdec602fca107cb</td>\n",
       "      <td>8.0</td>\n",
       "      <td>This was a awesome movie. I love these guys ju...</td>\n",
       "      <td>2023-04-26 14:30:52.951000+00:00</td>\n",
       "      <td>This was a awesome movie. I love these guys ju...</td>\n",
       "    </tr>\n",
       "  </tbody>\n",
       "</table>\n",
       "<p>8965 rows × 6 columns</p>\n",
       "</div>"
      ],
      "text/plain": [
       "      movie_id                 review_id  rating  \\\n",
       "0       100042  64a3999fe9da6900c763aa8d     7.0   \n",
       "1        10008  643d44864d67910469d853a2     5.0   \n",
       "2        10009  5f22bd2b43999b00355b26a6     7.0   \n",
       "3        10009  6592736214956560f7da631f     7.0   \n",
       "4        10012  628159c8caa50850dcf93d33     5.0   \n",
       "...        ...                       ...     ...   \n",
       "8960     99861  5e20dedc397df000129666b8     NaN   \n",
       "8961     99861  5ef819bba284eb00398dc810     7.0   \n",
       "8962     99861  600616349a358d0040c2ecad     7.0   \n",
       "8963      9988  5a6940bc9251414a2e009179     5.0   \n",
       "8964      9988  6449359c2fdec602fca107cb     8.0   \n",
       "\n",
       "                                            review_text  \\\n",
       "0     Better then the original I think. Was pretty f...   \n",
       "1     Kind of boring. It's a good plot and storyline...   \n",
       "2     Heartwarming, if not as impactful as it intend...   \n",
       "3     \"Kenai\" is a young Inuit warrior who disturbs ...   \n",
       "4     Seems like an apt title for everything that ha...   \n",
       "...                                                 ...   \n",
       "8960  It's just what I feared. Marvel has gotten so ...   \n",
       "8961  Third viewing of this and while not the strong...   \n",
       "8962  Cool seeing them all together again, even if I...   \n",
       "8963  Not one of Broken Lizard's strongest entries, ...   \n",
       "8964  This was a awesome movie. I love these guys ju...   \n",
       "\n",
       "                            created_at  \\\n",
       "0     2023-07-04 04:01:35.517000+00:00   \n",
       "1     2023-04-17 13:07:18.832000+00:00   \n",
       "2     2020-07-30 12:29:31.310000+00:00   \n",
       "3     2024-01-01 08:10:10.033000+00:00   \n",
       "4     2022-05-15 19:51:36.244000+00:00   \n",
       "...                                ...   \n",
       "8960  2020-01-16 22:08:28.630000+00:00   \n",
       "8961  2020-06-28 04:16:59.341000+00:00   \n",
       "8962  2021-01-18 23:13:56.078000+00:00   \n",
       "8963  2018-01-25 02:28:12.494000+00:00   \n",
       "8964  2023-04-26 14:30:52.951000+00:00   \n",
       "\n",
       "                                        review_text_raw  \n",
       "0     Better then the original I think. Was pretty f...  \n",
       "1     Kind of boring. It's a good plot and storyline...  \n",
       "2     Heartwarming, if not as impactful as it intend...  \n",
       "3     \"Kenai\" is a young Inuit warrior who disturbs ...  \n",
       "4     Seems like an apt title for everything that ha...  \n",
       "...                                                 ...  \n",
       "8960  It's just what I feared. Marvel has gotten so ...  \n",
       "8961  Third viewing of this and while not the strong...  \n",
       "8962  Cool seeing them all together again, even if I...  \n",
       "8963  Not one of Broken Lizard's strongest entries, ...  \n",
       "8964  This was a awesome movie. I love these guys ju...  \n",
       "\n",
       "[8965 rows x 6 columns]"
      ]
     },
     "execution_count": 55,
     "metadata": {},
     "output_type": "execute_result"
    }
   ],
   "source": [
    "df['review_text_raw'] = df['review_text'].copy()\n",
    "df"
   ]
  },
  {
   "cell_type": "code",
   "execution_count": 56,
   "id": "708c5c41-be4f-43ad-988a-883dafe8afdc",
   "metadata": {
    "execution": {
     "iopub.execute_input": "2024-01-23T05:14:35.338085Z",
     "iopub.status.busy": "2024-01-23T05:14:35.337993Z",
     "iopub.status.idle": "2024-01-23T05:14:35.374005Z",
     "shell.execute_reply": "2024-01-23T05:14:35.373648Z",
     "shell.execute_reply.started": "2024-01-23T05:14:35.338076Z"
    }
   },
   "outputs": [
    {
     "data": {
      "text/html": [
       "<div>\n",
       "<style scoped>\n",
       "    .dataframe tbody tr th:only-of-type {\n",
       "        vertical-align: middle;\n",
       "    }\n",
       "\n",
       "    .dataframe tbody tr th {\n",
       "        vertical-align: top;\n",
       "    }\n",
       "\n",
       "    .dataframe thead th {\n",
       "        text-align: right;\n",
       "    }\n",
       "</style>\n",
       "<table border=\"1\" class=\"dataframe\">\n",
       "  <thead>\n",
       "    <tr style=\"text-align: right;\">\n",
       "      <th></th>\n",
       "      <th>movie_id</th>\n",
       "      <th>review_id</th>\n",
       "      <th>rating</th>\n",
       "      <th>review_text</th>\n",
       "      <th>created_at</th>\n",
       "      <th>review_text_raw</th>\n",
       "    </tr>\n",
       "  </thead>\n",
       "  <tbody>\n",
       "    <tr>\n",
       "      <th>32</th>\n",
       "      <td>1008042</td>\n",
       "      <td>64c05242df86a800e77f984d</td>\n",
       "      <td>8.0</td>\n",
       "      <td>_Talk to Me_ is a brilliant and spine tingling...</td>\n",
       "      <td>2023-07-25 22:52:50.439000+00:00</td>\n",
       "      <td>_Talk to Me_ is a brilliant and spine tingling...</td>\n",
       "    </tr>\n",
       "    <tr>\n",
       "      <th>134</th>\n",
       "      <td>1020006</td>\n",
       "      <td>656ce4b88ee0a900ae84b97e</td>\n",
       "      <td>6.0</td>\n",
       "      <td>FULL SPOILER-FREE REVIEW @ https://www.msbrevi...</td>\n",
       "      <td>2023-12-03 20:27:36.869000+00:00</td>\n",
       "      <td>FULL SPOILER-FREE REVIEW @ https://www.msbrevi...</td>\n",
       "    </tr>\n",
       "    <tr>\n",
       "      <th>135</th>\n",
       "      <td>1020006</td>\n",
       "      <td>65974320726fb171a0ab22c4</td>\n",
       "      <td>6.0</td>\n",
       "      <td>Just rather uninteresting, on film terms at le...</td>\n",
       "      <td>2024-01-04 23:45:36.053000+00:00</td>\n",
       "      <td>Just rather uninteresting, on film terms at le...</td>\n",
       "    </tr>\n",
       "    <tr>\n",
       "      <th>139</th>\n",
       "      <td>1022796</td>\n",
       "      <td>6576df5e7a3c52010cde5f6e</td>\n",
       "      <td>7.0</td>\n",
       "      <td>FULL SPOILER-FREE REVIEW @ https://www.firstsh...</td>\n",
       "      <td>2023-12-11 10:07:26.814000+00:00</td>\n",
       "      <td>FULL SPOILER-FREE REVIEW @ https://www.firstsh...</td>\n",
       "    </tr>\n",
       "    <tr>\n",
       "      <th>259</th>\n",
       "      <td>1071215</td>\n",
       "      <td>655803f10816c7011a0d10e9</td>\n",
       "      <td>4.0</td>\n",
       "      <td>There is a void to fill regarding a yearly _Th...</td>\n",
       "      <td>2023-11-18 00:23:13.374000+00:00</td>\n",
       "      <td>There is a void to fill regarding a yearly _Th...</td>\n",
       "    </tr>\n",
       "    <tr>\n",
       "      <th>...</th>\n",
       "      <td>...</td>\n",
       "      <td>...</td>\n",
       "      <td>...</td>\n",
       "      <td>...</td>\n",
       "      <td>...</td>\n",
       "      <td>...</td>\n",
       "    </tr>\n",
       "    <tr>\n",
       "      <th>8797</th>\n",
       "      <td>9722</td>\n",
       "      <td>62dc0acdc998260440dd8ebb</td>\n",
       "      <td>4.0</td>\n",
       "      <td>Jack Wyatt (Will Ferrell), a Hollywood star re...</td>\n",
       "      <td>2022-07-23 14:50:53.377000+00:00</td>\n",
       "      <td>Jack Wyatt (Will Ferrell), a Hollywood star re...</td>\n",
       "    </tr>\n",
       "    <tr>\n",
       "      <th>8821</th>\n",
       "      <td>976573</td>\n",
       "      <td>64b8fbdb3009aa013967a867</td>\n",
       "      <td>8.0</td>\n",
       "      <td>FULL SPOILER-FREE REVIEW @ https://www.firstsh...</td>\n",
       "      <td>2023-07-20 09:18:19.199000+00:00</td>\n",
       "      <td>FULL SPOILER-FREE REVIEW @ https://www.firstsh...</td>\n",
       "    </tr>\n",
       "    <tr>\n",
       "      <th>8824</th>\n",
       "      <td>976584</td>\n",
       "      <td>65294309ea84c7010c1af5ab</td>\n",
       "      <td>7.0</td>\n",
       "      <td>FULL SPOILER-FREE REVIEW @ https://fandomwire....</td>\n",
       "      <td>2023-10-13 13:15:53.147000+00:00</td>\n",
       "      <td>FULL SPOILER-FREE REVIEW @ https://fandomwire....</td>\n",
       "    </tr>\n",
       "    <tr>\n",
       "      <th>8855</th>\n",
       "      <td>980489</td>\n",
       "      <td>64e650d9c3c89100aed82433</td>\n",
       "      <td>8.0</td>\n",
       "      <td>FULL SPOILER-FREE REVIEW @ https://www.firstsh...</td>\n",
       "      <td>2023-08-23 18:32:57.943000+00:00</td>\n",
       "      <td>FULL SPOILER-FREE REVIEW @ https://www.firstsh...</td>\n",
       "    </tr>\n",
       "    <tr>\n",
       "      <th>8877</th>\n",
       "      <td>985939</td>\n",
       "      <td>6352876d84448e007a5d1ddf</td>\n",
       "      <td>7.0</td>\n",
       "      <td>MORE SPOILER-FREE REVIEWS @ https://www.msbrev...</td>\n",
       "      <td>2022-10-21 11:50:05.528000+00:00</td>\n",
       "      <td>MORE SPOILER-FREE REVIEWS @ https://www.msbrev...</td>\n",
       "    </tr>\n",
       "  </tbody>\n",
       "</table>\n",
       "<p>603 rows × 6 columns</p>\n",
       "</div>"
      ],
      "text/plain": [
       "      movie_id                 review_id  rating  \\\n",
       "32     1008042  64c05242df86a800e77f984d     8.0   \n",
       "134    1020006  656ce4b88ee0a900ae84b97e     6.0   \n",
       "135    1020006  65974320726fb171a0ab22c4     6.0   \n",
       "139    1022796  6576df5e7a3c52010cde5f6e     7.0   \n",
       "259    1071215  655803f10816c7011a0d10e9     4.0   \n",
       "...        ...                       ...     ...   \n",
       "8797      9722  62dc0acdc998260440dd8ebb     4.0   \n",
       "8821    976573  64b8fbdb3009aa013967a867     8.0   \n",
       "8824    976584  65294309ea84c7010c1af5ab     7.0   \n",
       "8855    980489  64e650d9c3c89100aed82433     8.0   \n",
       "8877    985939  6352876d84448e007a5d1ddf     7.0   \n",
       "\n",
       "                                            review_text  \\\n",
       "32    _Talk to Me_ is a brilliant and spine tingling...   \n",
       "134   FULL SPOILER-FREE REVIEW @ https://www.msbrevi...   \n",
       "135   Just rather uninteresting, on film terms at le...   \n",
       "139   FULL SPOILER-FREE REVIEW @ https://www.firstsh...   \n",
       "259   There is a void to fill regarding a yearly _Th...   \n",
       "...                                                 ...   \n",
       "8797  Jack Wyatt (Will Ferrell), a Hollywood star re...   \n",
       "8821  FULL SPOILER-FREE REVIEW @ https://www.firstsh...   \n",
       "8824  FULL SPOILER-FREE REVIEW @ https://fandomwire....   \n",
       "8855  FULL SPOILER-FREE REVIEW @ https://www.firstsh...   \n",
       "8877  MORE SPOILER-FREE REVIEWS @ https://www.msbrev...   \n",
       "\n",
       "                            created_at  \\\n",
       "32    2023-07-25 22:52:50.439000+00:00   \n",
       "134   2023-12-03 20:27:36.869000+00:00   \n",
       "135   2024-01-04 23:45:36.053000+00:00   \n",
       "139   2023-12-11 10:07:26.814000+00:00   \n",
       "259   2023-11-18 00:23:13.374000+00:00   \n",
       "...                                ...   \n",
       "8797  2022-07-23 14:50:53.377000+00:00   \n",
       "8821  2023-07-20 09:18:19.199000+00:00   \n",
       "8824  2023-10-13 13:15:53.147000+00:00   \n",
       "8855  2023-08-23 18:32:57.943000+00:00   \n",
       "8877  2022-10-21 11:50:05.528000+00:00   \n",
       "\n",
       "                                        review_text_raw  \n",
       "32    _Talk to Me_ is a brilliant and spine tingling...  \n",
       "134   FULL SPOILER-FREE REVIEW @ https://www.msbrevi...  \n",
       "135   Just rather uninteresting, on film terms at le...  \n",
       "139   FULL SPOILER-FREE REVIEW @ https://www.firstsh...  \n",
       "259   There is a void to fill regarding a yearly _Th...  \n",
       "...                                                 ...  \n",
       "8797  Jack Wyatt (Will Ferrell), a Hollywood star re...  \n",
       "8821  FULL SPOILER-FREE REVIEW @ https://www.firstsh...  \n",
       "8824  FULL SPOILER-FREE REVIEW @ https://fandomwire....  \n",
       "8855  FULL SPOILER-FREE REVIEW @ https://www.firstsh...  \n",
       "8877  MORE SPOILER-FREE REVIEWS @ https://www.msbrev...  \n",
       "\n",
       "[603 rows x 6 columns]"
      ]
     },
     "execution_count": 56,
     "metadata": {},
     "output_type": "execute_result"
    }
   ],
   "source": [
    "# Checking for links\n",
    "df.loc[df['review_text'].str.contains('http')]\n"
   ]
  },
  {
   "cell_type": "code",
   "execution_count": 57,
   "id": "0d77fd8c-d5f1-498b-b7fb-b86b0da47913",
   "metadata": {
    "execution": {
     "iopub.execute_input": "2024-01-23T05:14:35.374617Z",
     "iopub.status.busy": "2024-01-23T05:14:35.374525Z",
     "iopub.status.idle": "2024-01-23T05:14:35.403212Z",
     "shell.execute_reply": "2024-01-23T05:14:35.402917Z",
     "shell.execute_reply.started": "2024-01-23T05:14:35.374608Z"
    }
   },
   "outputs": [
    {
     "data": {
      "text/html": [
       "<div>\n",
       "<style scoped>\n",
       "    .dataframe tbody tr th:only-of-type {\n",
       "        vertical-align: middle;\n",
       "    }\n",
       "\n",
       "    .dataframe tbody tr th {\n",
       "        vertical-align: top;\n",
       "    }\n",
       "\n",
       "    .dataframe thead th {\n",
       "        text-align: right;\n",
       "    }\n",
       "</style>\n",
       "<table border=\"1\" class=\"dataframe\">\n",
       "  <thead>\n",
       "    <tr style=\"text-align: right;\">\n",
       "      <th></th>\n",
       "      <th>movie_id</th>\n",
       "      <th>review_id</th>\n",
       "      <th>rating</th>\n",
       "      <th>review_text</th>\n",
       "      <th>created_at</th>\n",
       "      <th>review_text_raw</th>\n",
       "    </tr>\n",
       "  </thead>\n",
       "  <tbody>\n",
       "    <tr>\n",
       "      <th>2</th>\n",
       "      <td>10009</td>\n",
       "      <td>5f22bd2b43999b00355b26a6</td>\n",
       "      <td>7.0</td>\n",
       "      <td>Heartwarming, if not as impactful as it intend...</td>\n",
       "      <td>2020-07-30 12:29:31.310000+00:00</td>\n",
       "      <td>Heartwarming, if not as impactful as it intend...</td>\n",
       "    </tr>\n",
       "    <tr>\n",
       "      <th>18</th>\n",
       "      <td>100402</td>\n",
       "      <td>6004c3c97f6c8d003d747950</td>\n",
       "      <td>8.0</td>\n",
       "      <td>Entertaining!\\r\\n\\r\\n&lt;em&gt;'Captain America: The...</td>\n",
       "      <td>2021-01-17 23:10:01.623000+00:00</td>\n",
       "      <td>Entertaining!\\r\\n\\r\\n&lt;em&gt;'Captain America: The...</td>\n",
       "    </tr>\n",
       "    <tr>\n",
       "      <th>28</th>\n",
       "      <td>10067</td>\n",
       "      <td>5fa3ff82c68b69003d9e1bb6</td>\n",
       "      <td>5.0</td>\n",
       "      <td>The most absurd thing about this is that Akon ...</td>\n",
       "      <td>2020-11-05 13:34:58.334000+00:00</td>\n",
       "      <td>The most absurd thing about this is that Akon ...</td>\n",
       "    </tr>\n",
       "    <tr>\n",
       "      <th>56</th>\n",
       "      <td>10138</td>\n",
       "      <td>600234dc2f7915003e99efc3</td>\n",
       "      <td>7.0</td>\n",
       "      <td>&lt;em&gt;'Iron Man 2'&lt;/em&gt; is good, nothing special...</td>\n",
       "      <td>2021-01-16 00:35:40.244000+00:00</td>\n",
       "      <td>&lt;em&gt;'Iron Man 2'&lt;/em&gt; is good, nothing special...</td>\n",
       "    </tr>\n",
       "    <tr>\n",
       "      <th>64</th>\n",
       "      <td>10140</td>\n",
       "      <td>5fa2c2236782590035a0d722</td>\n",
       "      <td>6.0</td>\n",
       "      <td>I wouldn't class this as a good or bad film, i...</td>\n",
       "      <td>2020-11-04 15:00:51.184000+00:00</td>\n",
       "      <td>I wouldn't class this as a good or bad film, i...</td>\n",
       "    </tr>\n",
       "    <tr>\n",
       "      <th>...</th>\n",
       "      <td>...</td>\n",
       "      <td>...</td>\n",
       "      <td>...</td>\n",
       "      <td>...</td>\n",
       "      <td>...</td>\n",
       "      <td>...</td>\n",
       "    </tr>\n",
       "    <tr>\n",
       "      <th>8902</th>\n",
       "      <td>9904</td>\n",
       "      <td>5f2ee202cdf2e600391dd79d</td>\n",
       "      <td>5.0</td>\n",
       "      <td>Very poor.\\r\\n\\r\\nI couldn't tell you one thin...</td>\n",
       "      <td>2020-08-08 17:33:54.764000+00:00</td>\n",
       "      <td>Very poor.\\r\\n\\r\\nI couldn't tell you one thin...</td>\n",
       "    </tr>\n",
       "    <tr>\n",
       "      <th>8920</th>\n",
       "      <td>9969</td>\n",
       "      <td>5fdd583a4a4bf6003f87d8af</td>\n",
       "      <td>7.0</td>\n",
       "      <td>Stupid, whacky and bonkers... yet enjoyable. I...</td>\n",
       "      <td>2020-12-19 01:32:42.942000+00:00</td>\n",
       "      <td>Stupid, whacky and bonkers... yet enjoyable. I...</td>\n",
       "    </tr>\n",
       "    <tr>\n",
       "      <th>8922</th>\n",
       "      <td>9982</td>\n",
       "      <td>5f2acfc14b6d9d00368379c8</td>\n",
       "      <td>7.0</td>\n",
       "      <td>Harmless fun. &lt;em&gt;'Chicken Little'&lt;/em&gt; isn't ...</td>\n",
       "      <td>2020-08-05 15:26:57.552000+00:00</td>\n",
       "      <td>Harmless fun. &lt;em&gt;'Chicken Little'&lt;/em&gt; isn't ...</td>\n",
       "    </tr>\n",
       "    <tr>\n",
       "      <th>8923</th>\n",
       "      <td>9986</td>\n",
       "      <td>58ebb44c925141351f04e15b</td>\n",
       "      <td>9.0</td>\n",
       "      <td>This is a lovely film :) Julia Roberts is love...</td>\n",
       "      <td>2017-04-10 16:35:24.892000+00:00</td>\n",
       "      <td>This is a lovely film :) Julia Roberts is love...</td>\n",
       "    </tr>\n",
       "    <tr>\n",
       "      <th>8962</th>\n",
       "      <td>99861</td>\n",
       "      <td>600616349a358d0040c2ecad</td>\n",
       "      <td>7.0</td>\n",
       "      <td>Cool seeing them all together again, even if I...</td>\n",
       "      <td>2021-01-18 23:13:56.078000+00:00</td>\n",
       "      <td>Cool seeing them all together again, even if I...</td>\n",
       "    </tr>\n",
       "  </tbody>\n",
       "</table>\n",
       "<p>471 rows × 6 columns</p>\n",
       "</div>"
      ],
      "text/plain": [
       "      movie_id                 review_id  rating  \\\n",
       "2        10009  5f22bd2b43999b00355b26a6     7.0   \n",
       "18      100402  6004c3c97f6c8d003d747950     8.0   \n",
       "28       10067  5fa3ff82c68b69003d9e1bb6     5.0   \n",
       "56       10138  600234dc2f7915003e99efc3     7.0   \n",
       "64       10140  5fa2c2236782590035a0d722     6.0   \n",
       "...        ...                       ...     ...   \n",
       "8902      9904  5f2ee202cdf2e600391dd79d     5.0   \n",
       "8920      9969  5fdd583a4a4bf6003f87d8af     7.0   \n",
       "8922      9982  5f2acfc14b6d9d00368379c8     7.0   \n",
       "8923      9986  58ebb44c925141351f04e15b     9.0   \n",
       "8962     99861  600616349a358d0040c2ecad     7.0   \n",
       "\n",
       "                                            review_text  \\\n",
       "2     Heartwarming, if not as impactful as it intend...   \n",
       "18    Entertaining!\\r\\n\\r\\n<em>'Captain America: The...   \n",
       "28    The most absurd thing about this is that Akon ...   \n",
       "56    <em>'Iron Man 2'</em> is good, nothing special...   \n",
       "64    I wouldn't class this as a good or bad film, i...   \n",
       "...                                                 ...   \n",
       "8902  Very poor.\\r\\n\\r\\nI couldn't tell you one thin...   \n",
       "8920  Stupid, whacky and bonkers... yet enjoyable. I...   \n",
       "8922  Harmless fun. <em>'Chicken Little'</em> isn't ...   \n",
       "8923  This is a lovely film :) Julia Roberts is love...   \n",
       "8962  Cool seeing them all together again, even if I...   \n",
       "\n",
       "                            created_at  \\\n",
       "2     2020-07-30 12:29:31.310000+00:00   \n",
       "18    2021-01-17 23:10:01.623000+00:00   \n",
       "28    2020-11-05 13:34:58.334000+00:00   \n",
       "56    2021-01-16 00:35:40.244000+00:00   \n",
       "64    2020-11-04 15:00:51.184000+00:00   \n",
       "...                                ...   \n",
       "8902  2020-08-08 17:33:54.764000+00:00   \n",
       "8920  2020-12-19 01:32:42.942000+00:00   \n",
       "8922  2020-08-05 15:26:57.552000+00:00   \n",
       "8923  2017-04-10 16:35:24.892000+00:00   \n",
       "8962  2021-01-18 23:13:56.078000+00:00   \n",
       "\n",
       "                                        review_text_raw  \n",
       "2     Heartwarming, if not as impactful as it intend...  \n",
       "18    Entertaining!\\r\\n\\r\\n<em>'Captain America: The...  \n",
       "28    The most absurd thing about this is that Akon ...  \n",
       "56    <em>'Iron Man 2'</em> is good, nothing special...  \n",
       "64    I wouldn't class this as a good or bad film, i...  \n",
       "...                                                 ...  \n",
       "8902  Very poor.\\r\\n\\r\\nI couldn't tell you one thin...  \n",
       "8920  Stupid, whacky and bonkers... yet enjoyable. I...  \n",
       "8922  Harmless fun. <em>'Chicken Little'</em> isn't ...  \n",
       "8923  This is a lovely film :) Julia Roberts is love...  \n",
       "8962  Cool seeing them all together again, even if I...  \n",
       "\n",
       "[471 rows x 6 columns]"
      ]
     },
     "execution_count": 57,
     "metadata": {},
     "output_type": "execute_result"
    }
   ],
   "source": [
    "# Checking for raw html\n",
    "df.loc[df['review_text'].str.contains('<')]"
   ]
  },
  {
   "cell_type": "markdown",
   "id": "3bfe757b-aec6-4a05-a4da-f5369b378a01",
   "metadata": {},
   "source": [
    "### Remove HTML Tags"
   ]
  },
  {
   "cell_type": "code",
   "execution_count": 58,
   "id": "eb27f5e0-31e3-4b42-b9e0-f0ff5ed45bce",
   "metadata": {
    "execution": {
     "iopub.execute_input": "2024-01-23T05:14:35.403858Z",
     "iopub.status.busy": "2024-01-23T05:14:35.403771Z",
     "iopub.status.idle": "2024-01-23T05:14:35.433625Z",
     "shell.execute_reply": "2024-01-23T05:14:35.433318Z",
     "shell.execute_reply.started": "2024-01-23T05:14:35.403848Z"
    }
   },
   "outputs": [
    {
     "data": {
      "text/html": [
       "<div>\n",
       "<style scoped>\n",
       "    .dataframe tbody tr th:only-of-type {\n",
       "        vertical-align: middle;\n",
       "    }\n",
       "\n",
       "    .dataframe tbody tr th {\n",
       "        vertical-align: top;\n",
       "    }\n",
       "\n",
       "    .dataframe thead th {\n",
       "        text-align: right;\n",
       "    }\n",
       "</style>\n",
       "<table border=\"1\" class=\"dataframe\">\n",
       "  <thead>\n",
       "    <tr style=\"text-align: right;\">\n",
       "      <th></th>\n",
       "      <th>movie_id</th>\n",
       "      <th>review_id</th>\n",
       "      <th>rating</th>\n",
       "      <th>review_text</th>\n",
       "      <th>created_at</th>\n",
       "      <th>review_text_raw</th>\n",
       "    </tr>\n",
       "  </thead>\n",
       "  <tbody>\n",
       "    <tr>\n",
       "      <th>0</th>\n",
       "      <td>100042</td>\n",
       "      <td>64a3999fe9da6900c763aa8d</td>\n",
       "      <td>7.0</td>\n",
       "      <td>Better then the original I think. Was pretty f...</td>\n",
       "      <td>2023-07-04 04:01:35.517000+00:00</td>\n",
       "      <td>Better then the original I think. Was pretty f...</td>\n",
       "    </tr>\n",
       "    <tr>\n",
       "      <th>1</th>\n",
       "      <td>10008</td>\n",
       "      <td>643d44864d67910469d853a2</td>\n",
       "      <td>5.0</td>\n",
       "      <td>Kind of boring. It's a good plot and storyline...</td>\n",
       "      <td>2023-04-17 13:07:18.832000+00:00</td>\n",
       "      <td>Kind of boring. It's a good plot and storyline...</td>\n",
       "    </tr>\n",
       "    <tr>\n",
       "      <th>2</th>\n",
       "      <td>10009</td>\n",
       "      <td>5f22bd2b43999b00355b26a6</td>\n",
       "      <td>7.0</td>\n",
       "      <td>Heartwarming, if not as impactful as it intend...</td>\n",
       "      <td>2020-07-30 12:29:31.310000+00:00</td>\n",
       "      <td>Heartwarming, if not as impactful as it intend...</td>\n",
       "    </tr>\n",
       "    <tr>\n",
       "      <th>3</th>\n",
       "      <td>10009</td>\n",
       "      <td>6592736214956560f7da631f</td>\n",
       "      <td>7.0</td>\n",
       "      <td>\"Kenai\" is a young Inuit warrior who disturbs ...</td>\n",
       "      <td>2024-01-01 08:10:10.033000+00:00</td>\n",
       "      <td>\"Kenai\" is a young Inuit warrior who disturbs ...</td>\n",
       "    </tr>\n",
       "    <tr>\n",
       "      <th>4</th>\n",
       "      <td>10012</td>\n",
       "      <td>628159c8caa50850dcf93d33</td>\n",
       "      <td>5.0</td>\n",
       "      <td>Seems like an apt title for everything that ha...</td>\n",
       "      <td>2022-05-15 19:51:36.244000+00:00</td>\n",
       "      <td>Seems like an apt title for everything that ha...</td>\n",
       "    </tr>\n",
       "    <tr>\n",
       "      <th>...</th>\n",
       "      <td>...</td>\n",
       "      <td>...</td>\n",
       "      <td>...</td>\n",
       "      <td>...</td>\n",
       "      <td>...</td>\n",
       "      <td>...</td>\n",
       "    </tr>\n",
       "    <tr>\n",
       "      <th>8960</th>\n",
       "      <td>99861</td>\n",
       "      <td>5e20dedc397df000129666b8</td>\n",
       "      <td>NaN</td>\n",
       "      <td>It's just what I feared. Marvel has gotten so ...</td>\n",
       "      <td>2020-01-16 22:08:28.630000+00:00</td>\n",
       "      <td>It's just what I feared. Marvel has gotten so ...</td>\n",
       "    </tr>\n",
       "    <tr>\n",
       "      <th>8961</th>\n",
       "      <td>99861</td>\n",
       "      <td>5ef819bba284eb00398dc810</td>\n",
       "      <td>7.0</td>\n",
       "      <td>Third viewing of this and while not the strong...</td>\n",
       "      <td>2020-06-28 04:16:59.341000+00:00</td>\n",
       "      <td>Third viewing of this and while not the strong...</td>\n",
       "    </tr>\n",
       "    <tr>\n",
       "      <th>8962</th>\n",
       "      <td>99861</td>\n",
       "      <td>600616349a358d0040c2ecad</td>\n",
       "      <td>7.0</td>\n",
       "      <td>Cool seeing them all together again, even if I...</td>\n",
       "      <td>2021-01-18 23:13:56.078000+00:00</td>\n",
       "      <td>Cool seeing them all together again, even if I...</td>\n",
       "    </tr>\n",
       "    <tr>\n",
       "      <th>8963</th>\n",
       "      <td>9988</td>\n",
       "      <td>5a6940bc9251414a2e009179</td>\n",
       "      <td>5.0</td>\n",
       "      <td>Not one of Broken Lizard's strongest entries, ...</td>\n",
       "      <td>2018-01-25 02:28:12.494000+00:00</td>\n",
       "      <td>Not one of Broken Lizard's strongest entries, ...</td>\n",
       "    </tr>\n",
       "    <tr>\n",
       "      <th>8964</th>\n",
       "      <td>9988</td>\n",
       "      <td>6449359c2fdec602fca107cb</td>\n",
       "      <td>8.0</td>\n",
       "      <td>This was a awesome movie. I love these guys ju...</td>\n",
       "      <td>2023-04-26 14:30:52.951000+00:00</td>\n",
       "      <td>This was a awesome movie. I love these guys ju...</td>\n",
       "    </tr>\n",
       "  </tbody>\n",
       "</table>\n",
       "<p>8965 rows × 6 columns</p>\n",
       "</div>"
      ],
      "text/plain": [
       "      movie_id                 review_id  rating  \\\n",
       "0       100042  64a3999fe9da6900c763aa8d     7.0   \n",
       "1        10008  643d44864d67910469d853a2     5.0   \n",
       "2        10009  5f22bd2b43999b00355b26a6     7.0   \n",
       "3        10009  6592736214956560f7da631f     7.0   \n",
       "4        10012  628159c8caa50850dcf93d33     5.0   \n",
       "...        ...                       ...     ...   \n",
       "8960     99861  5e20dedc397df000129666b8     NaN   \n",
       "8961     99861  5ef819bba284eb00398dc810     7.0   \n",
       "8962     99861  600616349a358d0040c2ecad     7.0   \n",
       "8963      9988  5a6940bc9251414a2e009179     5.0   \n",
       "8964      9988  6449359c2fdec602fca107cb     8.0   \n",
       "\n",
       "                                            review_text  \\\n",
       "0     Better then the original I think. Was pretty f...   \n",
       "1     Kind of boring. It's a good plot and storyline...   \n",
       "2     Heartwarming, if not as impactful as it intend...   \n",
       "3     \"Kenai\" is a young Inuit warrior who disturbs ...   \n",
       "4     Seems like an apt title for everything that ha...   \n",
       "...                                                 ...   \n",
       "8960  It's just what I feared. Marvel has gotten so ...   \n",
       "8961  Third viewing of this and while not the strong...   \n",
       "8962  Cool seeing them all together again, even if I...   \n",
       "8963  Not one of Broken Lizard's strongest entries, ...   \n",
       "8964  This was a awesome movie. I love these guys ju...   \n",
       "\n",
       "                            created_at  \\\n",
       "0     2023-07-04 04:01:35.517000+00:00   \n",
       "1     2023-04-17 13:07:18.832000+00:00   \n",
       "2     2020-07-30 12:29:31.310000+00:00   \n",
       "3     2024-01-01 08:10:10.033000+00:00   \n",
       "4     2022-05-15 19:51:36.244000+00:00   \n",
       "...                                ...   \n",
       "8960  2020-01-16 22:08:28.630000+00:00   \n",
       "8961  2020-06-28 04:16:59.341000+00:00   \n",
       "8962  2021-01-18 23:13:56.078000+00:00   \n",
       "8963  2018-01-25 02:28:12.494000+00:00   \n",
       "8964  2023-04-26 14:30:52.951000+00:00   \n",
       "\n",
       "                                        review_text_raw  \n",
       "0     Better then the original I think. Was pretty f...  \n",
       "1     Kind of boring. It's a good plot and storyline...  \n",
       "2     Heartwarming, if not as impactful as it intend...  \n",
       "3     \"Kenai\" is a young Inuit warrior who disturbs ...  \n",
       "4     Seems like an apt title for everything that ha...  \n",
       "...                                                 ...  \n",
       "8960  It's just what I feared. Marvel has gotten so ...  \n",
       "8961  Third viewing of this and while not the strong...  \n",
       "8962  Cool seeing them all together again, even if I...  \n",
       "8963  Not one of Broken Lizard's strongest entries, ...  \n",
       "8964  This was a awesome movie. I love these guys ju...  \n",
       "\n",
       "[8965 rows x 6 columns]"
      ]
     },
     "execution_count": 58,
     "metadata": {},
     "output_type": "execute_result"
    }
   ],
   "source": [
    "import re\n",
    "\n",
    "# Regular expression to match HTML tags\n",
    "regex_html = r\"<[^>]*>\"\n",
    "\n",
    "# Apply the regex to the DataFrame column using str.replace\n",
    "df['review_text'] = df['review_text'].str.replace(regex_html, '', regex=True)\n",
    "df"
   ]
  },
  {
   "cell_type": "code",
   "execution_count": 59,
   "id": "38b03fb6-6cf2-43d6-9372-83dbd5286ce0",
   "metadata": {
    "execution": {
     "iopub.execute_input": "2024-01-23T05:14:35.434455Z",
     "iopub.status.busy": "2024-01-23T05:14:35.434326Z",
     "iopub.status.idle": "2024-01-23T05:14:35.453471Z",
     "shell.execute_reply": "2024-01-23T05:14:35.453149Z",
     "shell.execute_reply.started": "2024-01-23T05:14:35.434434Z"
    }
   },
   "outputs": [],
   "source": [
    "# Compare original with cleaned\n",
    "compare_cols = ['review_text_raw','review_text']\n",
    "\n",
    "pd.set_option('display.max_colwidth',250)"
   ]
  },
  {
   "cell_type": "code",
   "execution_count": 60,
   "id": "128d6a22-fca2-4d42-81e5-a4bbfc9ecdc9",
   "metadata": {
    "execution": {
     "iopub.execute_input": "2024-01-23T05:14:35.454112Z",
     "iopub.status.busy": "2024-01-23T05:14:35.454027Z",
     "iopub.status.idle": "2024-01-23T05:14:35.482183Z",
     "shell.execute_reply": "2024-01-23T05:14:35.481878Z",
     "shell.execute_reply.started": "2024-01-23T05:14:35.454104Z"
    }
   },
   "outputs": [
    {
     "data": {
      "text/html": [
       "<div>\n",
       "<style scoped>\n",
       "    .dataframe tbody tr th:only-of-type {\n",
       "        vertical-align: middle;\n",
       "    }\n",
       "\n",
       "    .dataframe tbody tr th {\n",
       "        vertical-align: top;\n",
       "    }\n",
       "\n",
       "    .dataframe thead th {\n",
       "        text-align: right;\n",
       "    }\n",
       "</style>\n",
       "<table border=\"1\" class=\"dataframe\">\n",
       "  <thead>\n",
       "    <tr style=\"text-align: right;\">\n",
       "      <th></th>\n",
       "      <th>review_text_raw</th>\n",
       "      <th>review_text</th>\n",
       "    </tr>\n",
       "  </thead>\n",
       "  <tbody>\n",
       "    <tr>\n",
       "      <th>2</th>\n",
       "      <td>Heartwarming, if not as impactful as it intends to be.\\r\\n\\r\\n&lt;em&gt;'Brother Bear'&lt;/em&gt; leaves heartfelt feelings and features a cute story. It does get a bit too melancholic in moments where it doesn't need to be or where it's not set up perfectly...</td>\n",
       "      <td>Heartwarming, if not as impactful as it intends to be.\\r\\n\\r\\n'Brother Bear' leaves heartfelt feelings and features a cute story. It does get a bit too melancholic in moments where it doesn't need to be or where it's not set up perfectly. It can ...</td>\n",
       "    </tr>\n",
       "    <tr>\n",
       "      <th>18</th>\n",
       "      <td>Entertaining!\\r\\n\\r\\n&lt;em&gt;'Captain America: The Winter Soldier'&lt;/em&gt; makes for an enjoyable flick. Chris Evans does great work as the lead character, while Scarlett Johansson gives her most fun to watch performance in the MCU up until this point; ...</td>\n",
       "      <td>Entertaining!\\r\\n\\r\\n'Captain America: The Winter Soldier' makes for an enjoyable flick. Chris Evans does great work as the lead character, while Scarlett Johansson gives her most fun to watch performance in the MCU up until this point; it would'...</td>\n",
       "    </tr>\n",
       "    <tr>\n",
       "      <th>28</th>\n",
       "      <td>The most absurd thing about this is that Akon did a song for it.\\r\\n\\r\\nThis 2006 remake of 1959's &lt;em&gt;'The Shaggy Dog'&lt;/em&gt; is very bad. That's thanks to some lazy writing and humour, none of the jokes land while the plot - while I praise them f...</td>\n",
       "      <td>The most absurd thing about this is that Akon did a song for it.\\r\\n\\r\\nThis 2006 remake of 1959's 'The Shaggy Dog' is very bad. That's thanks to some lazy writing and humour, none of the jokes land while the plot - while I praise them for changi...</td>\n",
       "    </tr>\n",
       "    <tr>\n",
       "      <th>56</th>\n",
       "      <td>&lt;em&gt;'Iron Man 2'&lt;/em&gt; is good, nothing special, but good.\\r\\n\\r\\nRobert Downey Jr. is just as entertaining in the lead role, while the specials efforts are again pleasing. The score, which I found slightly lacking in &lt;em&gt;'Iron Man'&lt;/em&gt;, is impro...</td>\n",
       "      <td>'Iron Man 2' is good, nothing special, but good.\\r\\n\\r\\nRobert Downey Jr. is just as entertaining in the lead role, while the specials efforts are again pleasing. The score, which I found slightly lacking in 'Iron Man', is improved. The plot isn'...</td>\n",
       "    </tr>\n",
       "    <tr>\n",
       "      <th>64</th>\n",
       "      <td>I wouldn't class this as a good or bad film, it's in a weird sorta in-between to me.\\r\\n\\r\\n&lt;em&gt;'The Chronicles of Narnia: The Voyage of the Dawn Treader'&lt;/em&gt; is, comparatively, bad. It loses the vibe and all the intrigue that the first film has...</td>\n",
       "      <td>I wouldn't class this as a good or bad film, it's in a weird sorta in-between to me.\\r\\n\\r\\n'The Chronicles of Narnia: The Voyage of the Dawn Treader' is, comparatively, bad. It loses the vibe and all the intrigue that the first film has, as it c...</td>\n",
       "    </tr>\n",
       "    <tr>\n",
       "      <th>...</th>\n",
       "      <td>...</td>\n",
       "      <td>...</td>\n",
       "    </tr>\n",
       "    <tr>\n",
       "      <th>8902</th>\n",
       "      <td>Very poor.\\r\\n\\r\\nI couldn't tell you one thing I enjoyed about this. To be ultra fair, there isn't anything truly diabolical about it either - hence the (generous?) rating. It's just so basic and limp that it struggles to entertain at all, I'd e...</td>\n",
       "      <td>Very poor.\\r\\n\\r\\nI couldn't tell you one thing I enjoyed about this. To be ultra fair, there isn't anything truly diabolical about it either - hence the (generous?) rating. It's just so basic and limp that it struggles to entertain at all, I'd e...</td>\n",
       "    </tr>\n",
       "    <tr>\n",
       "      <th>8920</th>\n",
       "      <td>Stupid, whacky and bonkers... yet enjoyable. I found &lt;em&gt;'Deck the Halls'&lt;/em&gt; fun.\\r\\n\\r\\nDanny DeVito is the film's star, no question. If it wasn't for him I'd potentially be rating this lower, I admit. He gives an amusing performance, while th...</td>\n",
       "      <td>Stupid, whacky and bonkers... yet enjoyable. I found 'Deck the Halls' fun.\\r\\n\\r\\nDanny DeVito is the film's star, no question. If it wasn't for him I'd potentially be rating this lower, I admit. He gives an amusing performance, while the hearty ...</td>\n",
       "    </tr>\n",
       "    <tr>\n",
       "      <th>8922</th>\n",
       "      <td>Harmless fun. &lt;em&gt;'Chicken Little'&lt;/em&gt; isn't anything standout, but there is solid humour and a satisfactory premise to follow.\\r\\n\\r\\nI like the references to pop culture, Zach Braff is enjoyable in the titular role and the run time is nice and...</td>\n",
       "      <td>Harmless fun. 'Chicken Little' isn't anything standout, but there is solid humour and a satisfactory premise to follow.\\r\\n\\r\\nI like the references to pop culture, Zach Braff is enjoyable in the titular role and the run time is nice and short. I...</td>\n",
       "    </tr>\n",
       "    <tr>\n",
       "      <th>8923</th>\n",
       "      <td>This is a lovely film :) Julia Roberts is lovely as the eponymous character, Dakota Fanning is a delightful Fern, and Dominic Scott Kay is an adorable Wilbur- if you see the special features, he does come across as quite a shy little boy\\r\\n\\r\\nL...</td>\n",
       "      <td>This is a lovely film :) Julia Roberts is lovely as the eponymous character, Dakota Fanning is a delightful Fern, and Dominic Scott Kay is an adorable Wilbur- if you see the special features, he does come across as quite a shy little boy\\r\\n\\r\\nL...</td>\n",
       "    </tr>\n",
       "    <tr>\n",
       "      <th>8962</th>\n",
       "      <td>Cool seeing them all together again, even if I didn't massively enjoy it. It's good, nothing more or less in my opinion.\\r\\n\\r\\n&lt;em&gt;'Avengers: Age of Ultron'&lt;/em&gt; isn't too far off 2012's &lt;em&gt;'The Avengers'&lt;/em&gt;, especially in terms of how I fell...</td>\n",
       "      <td>Cool seeing them all together again, even if I didn't massively enjoy it. It's good, nothing more or less in my opinion.\\r\\n\\r\\n'Avengers: Age of Ultron' isn't too far off 2012's 'The Avengers', especially in terms of how I fell about it. I defin...</td>\n",
       "    </tr>\n",
       "  </tbody>\n",
       "</table>\n",
       "<p>471 rows × 2 columns</p>\n",
       "</div>"
      ],
      "text/plain": [
       "                                                                                                                                                                                                                                                review_text_raw  \\\n",
       "2     Heartwarming, if not as impactful as it intends to be.\\r\\n\\r\\n<em>'Brother Bear'</em> leaves heartfelt feelings and features a cute story. It does get a bit too melancholic in moments where it doesn't need to be or where it's not set up perfectly...   \n",
       "18    Entertaining!\\r\\n\\r\\n<em>'Captain America: The Winter Soldier'</em> makes for an enjoyable flick. Chris Evans does great work as the lead character, while Scarlett Johansson gives her most fun to watch performance in the MCU up until this point; ...   \n",
       "28    The most absurd thing about this is that Akon did a song for it.\\r\\n\\r\\nThis 2006 remake of 1959's <em>'The Shaggy Dog'</em> is very bad. That's thanks to some lazy writing and humour, none of the jokes land while the plot - while I praise them f...   \n",
       "56    <em>'Iron Man 2'</em> is good, nothing special, but good.\\r\\n\\r\\nRobert Downey Jr. is just as entertaining in the lead role, while the specials efforts are again pleasing. The score, which I found slightly lacking in <em>'Iron Man'</em>, is impro...   \n",
       "64    I wouldn't class this as a good or bad film, it's in a weird sorta in-between to me.\\r\\n\\r\\n<em>'The Chronicles of Narnia: The Voyage of the Dawn Treader'</em> is, comparatively, bad. It loses the vibe and all the intrigue that the first film has...   \n",
       "...                                                                                                                                                                                                                                                         ...   \n",
       "8902  Very poor.\\r\\n\\r\\nI couldn't tell you one thing I enjoyed about this. To be ultra fair, there isn't anything truly diabolical about it either - hence the (generous?) rating. It's just so basic and limp that it struggles to entertain at all, I'd e...   \n",
       "8920  Stupid, whacky and bonkers... yet enjoyable. I found <em>'Deck the Halls'</em> fun.\\r\\n\\r\\nDanny DeVito is the film's star, no question. If it wasn't for him I'd potentially be rating this lower, I admit. He gives an amusing performance, while th...   \n",
       "8922  Harmless fun. <em>'Chicken Little'</em> isn't anything standout, but there is solid humour and a satisfactory premise to follow.\\r\\n\\r\\nI like the references to pop culture, Zach Braff is enjoyable in the titular role and the run time is nice and...   \n",
       "8923  This is a lovely film :) Julia Roberts is lovely as the eponymous character, Dakota Fanning is a delightful Fern, and Dominic Scott Kay is an adorable Wilbur- if you see the special features, he does come across as quite a shy little boy\\r\\n\\r\\nL...   \n",
       "8962  Cool seeing them all together again, even if I didn't massively enjoy it. It's good, nothing more or less in my opinion.\\r\\n\\r\\n<em>'Avengers: Age of Ultron'</em> isn't too far off 2012's <em>'The Avengers'</em>, especially in terms of how I fell...   \n",
       "\n",
       "                                                                                                                                                                                                                                                    review_text  \n",
       "2     Heartwarming, if not as impactful as it intends to be.\\r\\n\\r\\n'Brother Bear' leaves heartfelt feelings and features a cute story. It does get a bit too melancholic in moments where it doesn't need to be or where it's not set up perfectly. It can ...  \n",
       "18    Entertaining!\\r\\n\\r\\n'Captain America: The Winter Soldier' makes for an enjoyable flick. Chris Evans does great work as the lead character, while Scarlett Johansson gives her most fun to watch performance in the MCU up until this point; it would'...  \n",
       "28    The most absurd thing about this is that Akon did a song for it.\\r\\n\\r\\nThis 2006 remake of 1959's 'The Shaggy Dog' is very bad. That's thanks to some lazy writing and humour, none of the jokes land while the plot - while I praise them for changi...  \n",
       "56    'Iron Man 2' is good, nothing special, but good.\\r\\n\\r\\nRobert Downey Jr. is just as entertaining in the lead role, while the specials efforts are again pleasing. The score, which I found slightly lacking in 'Iron Man', is improved. The plot isn'...  \n",
       "64    I wouldn't class this as a good or bad film, it's in a weird sorta in-between to me.\\r\\n\\r\\n'The Chronicles of Narnia: The Voyage of the Dawn Treader' is, comparatively, bad. It loses the vibe and all the intrigue that the first film has, as it c...  \n",
       "...                                                                                                                                                                                                                                                         ...  \n",
       "8902  Very poor.\\r\\n\\r\\nI couldn't tell you one thing I enjoyed about this. To be ultra fair, there isn't anything truly diabolical about it either - hence the (generous?) rating. It's just so basic and limp that it struggles to entertain at all, I'd e...  \n",
       "8920  Stupid, whacky and bonkers... yet enjoyable. I found 'Deck the Halls' fun.\\r\\n\\r\\nDanny DeVito is the film's star, no question. If it wasn't for him I'd potentially be rating this lower, I admit. He gives an amusing performance, while the hearty ...  \n",
       "8922  Harmless fun. 'Chicken Little' isn't anything standout, but there is solid humour and a satisfactory premise to follow.\\r\\n\\r\\nI like the references to pop culture, Zach Braff is enjoyable in the titular role and the run time is nice and short. I...  \n",
       "8923  This is a lovely film :) Julia Roberts is lovely as the eponymous character, Dakota Fanning is a delightful Fern, and Dominic Scott Kay is an adorable Wilbur- if you see the special features, he does come across as quite a shy little boy\\r\\n\\r\\nL...  \n",
       "8962  Cool seeing them all together again, even if I didn't massively enjoy it. It's good, nothing more or less in my opinion.\\r\\n\\r\\n'Avengers: Age of Ultron' isn't too far off 2012's 'The Avengers', especially in terms of how I fell about it. I defin...  \n",
       "\n",
       "[471 rows x 2 columns]"
      ]
     },
     "execution_count": 60,
     "metadata": {},
     "output_type": "execute_result"
    }
   ],
   "source": [
    "df.loc[df['review_text_raw'].str.contains('<'), compare_cols]"
   ]
  },
  {
   "cell_type": "markdown",
   "id": "78783d21-a658-4f2a-b827-5f5a0974e118",
   "metadata": {},
   "source": [
    "### Replace Links with `[LINK]`"
   ]
  },
  {
   "cell_type": "code",
   "execution_count": 61,
   "id": "81c6cb0f-c40c-486b-a0e0-c7578ebad2fb",
   "metadata": {
    "execution": {
     "iopub.execute_input": "2024-01-23T05:14:35.482983Z",
     "iopub.status.busy": "2024-01-23T05:14:35.482829Z",
     "iopub.status.idle": "2024-01-23T05:14:35.516417Z",
     "shell.execute_reply": "2024-01-23T05:14:35.516083Z",
     "shell.execute_reply.started": "2024-01-23T05:14:35.482974Z"
    }
   },
   "outputs": [
    {
     "data": {
      "text/html": [
       "<div>\n",
       "<style scoped>\n",
       "    .dataframe tbody tr th:only-of-type {\n",
       "        vertical-align: middle;\n",
       "    }\n",
       "\n",
       "    .dataframe tbody tr th {\n",
       "        vertical-align: top;\n",
       "    }\n",
       "\n",
       "    .dataframe thead th {\n",
       "        text-align: right;\n",
       "    }\n",
       "</style>\n",
       "<table border=\"1\" class=\"dataframe\">\n",
       "  <thead>\n",
       "    <tr style=\"text-align: right;\">\n",
       "      <th></th>\n",
       "      <th>review_text_raw</th>\n",
       "      <th>review_text</th>\n",
       "    </tr>\n",
       "  </thead>\n",
       "  <tbody>\n",
       "    <tr>\n",
       "      <th>32</th>\n",
       "      <td>_Talk to Me_ is a brilliant and spine tingling evolution of _The Monkey’s Paw_ short story with an incredibly satisfying ending and a scene stealing performance from Sophie Wilde. Aaron McLisky’s cinematography featuring a ghoulish incline at jus...</td>\n",
       "      <td>_Talk to Me_ is a brilliant and spine tingling evolution of _The Monkey’s Paw_ short story with an incredibly satisfying ending and a scene stealing performance from Sophie Wilde. Aaron McLisky’s cinematography featuring a ghoulish incline at jus...</td>\n",
       "    </tr>\n",
       "    <tr>\n",
       "      <th>134</th>\n",
       "      <td>FULL SPOILER-FREE REVIEW @ https://www.msbreviews.com/movie-reviews/priscilla-mini-review\\r\\n\\r\\n\"Priscilla navigates the familiar territory of biographical storytelling, offering a nuanced exploration of Priscilla Presley's life.\\r\\n\\r\\nCailee S...</td>\n",
       "      <td>FULL SPOILER-FREE REVIEW @ https://www.msbreviews.com/movie-reviews/priscilla-mini-review\\r\\n\\r\\n\"Priscilla navigates the familiar territory of biographical storytelling, offering a nuanced exploration of Priscilla Presley's life.\\r\\n\\r\\nCailee S...</td>\n",
       "    </tr>\n",
       "    <tr>\n",
       "      <th>139</th>\n",
       "      <td>FULL SPOILER-FREE REVIEW @ https://www.firstshowing.net/2023/review-disney-animations-wish-ariana-debose/\\r\\n\\r\\n\"Wish is a magical journey about the vitality of personal wishes and the importance of pursuing those same dreams. Although the narra...</td>\n",
       "      <td>FULL SPOILER-FREE REVIEW @ https://www.firstshowing.net/2023/review-disney-animations-wish-ariana-debose/\\r\\n\\r\\n\"Wish is a magical journey about the vitality of personal wishes and the importance of pursuing those same dreams. Although the narra...</td>\n",
       "    </tr>\n",
       "    <tr>\n",
       "      <th>259</th>\n",
       "      <td>There is a void to fill regarding a yearly _Thanksgiving_ franchise. The Carver is outrageous enough to be more enjoyable if Eli Roth allows other directors to play in his grotesque cornbread-stuffing-filled sandbox in future installments. As a s...</td>\n",
       "      <td>There is a void to fill regarding a yearly _Thanksgiving_ franchise. The Carver is outrageous enough to be more enjoyable if Eli Roth allows other directors to play in his grotesque cornbread-stuffing-filled sandbox in future installments. As a s...</td>\n",
       "    </tr>\n",
       "    <tr>\n",
       "      <th>272</th>\n",
       "      <td>FULL SPOILER-FREE REVIEW @ https://fandomwire.com/night-swim-review-yet-another-forgettable-january-horror-flick/\\r\\n\\r\\n\"Night Swim fails to rise above the limitations of its generic horror foundation.\\r\\n\\r\\nDespite commendable performances fro...</td>\n",
       "      <td>FULL SPOILER-FREE REVIEW @ https://fandomwire.com/night-swim-review-yet-another-forgettable-january-horror-flick/\\r\\n\\r\\n\"Night Swim fails to rise above the limitations of its generic horror foundation.\\r\\n\\r\\nDespite commendable performances fro...</td>\n",
       "    </tr>\n",
       "    <tr>\n",
       "      <th>...</th>\n",
       "      <td>...</td>\n",
       "      <td>...</td>\n",
       "    </tr>\n",
       "    <tr>\n",
       "      <th>8797</th>\n",
       "      <td>Jack Wyatt (Will Ferrell), a Hollywood star recovering from a couple of box office bombs, is talked into starring in a reboot of the 1964 television series, Bewitched. Desperate to regain his fame, he insists on hiring an unknown actress to play ...</td>\n",
       "      <td>Jack Wyatt (Will Ferrell), a Hollywood star recovering from a couple of box office bombs, is talked into starring in a reboot of the 1964 television series, Bewitched. Desperate to regain his fame, he insists on hiring an unknown actress to play ...</td>\n",
       "    </tr>\n",
       "    <tr>\n",
       "      <th>8821</th>\n",
       "      <td>FULL SPOILER-FREE REVIEW @ https://www.firstshowing.net/2023/review-elemental-is-a-thematically-rich-inter-element-love-story/\\r\\n\\r\\n\"Pixar's Elemental may be straightforward and predictable, but it's so thematically rich and features such emoti...</td>\n",
       "      <td>FULL SPOILER-FREE REVIEW @ https://www.firstshowing.net/2023/review-elemental-is-a-thematically-rich-inter-element-love-story/\\r\\n\\r\\n\"Pixar's Elemental may be straightforward and predictable, but it's so thematically rich and features such emoti...</td>\n",
       "    </tr>\n",
       "    <tr>\n",
       "      <th>8824</th>\n",
       "      <td>FULL SPOILER-FREE REVIEW @ https://fandomwire.com/the-book-of-clarence-bfi-london-film-festival-review-hilarious-thought-provoking-biblical-satire/\\r\\n\\r\\n\"The Book of Clarence certifies Jeymes Samuel as a do-it-all in filmmaking. Whether through...</td>\n",
       "      <td>FULL SPOILER-FREE REVIEW @ https://fandomwire.com/the-book-of-clarence-bfi-london-film-festival-review-hilarious-thought-provoking-biblical-satire/\\r\\n\\r\\n\"The Book of Clarence certifies Jeymes Samuel as a do-it-all in filmmaking. Whether through...</td>\n",
       "    </tr>\n",
       "    <tr>\n",
       "      <th>8855</th>\n",
       "      <td>FULL SPOILER-FREE REVIEW @ https://www.firstshowing.net/2023/review-neill-blomkamps-gran-turismo-is-such-an-enjoyable-surprise/\\r\\n\\r\\n\"Gran Turismo is one of the most exciting surprises of the year! Being completely unaware of the inspirational ...</td>\n",
       "      <td>FULL SPOILER-FREE REVIEW @ https://www.firstshowing.net/2023/review-neill-blomkamps-gran-turismo-is-such-an-enjoyable-surprise/\\r\\n\\r\\n\"Gran Turismo is one of the most exciting surprises of the year! Being completely unaware of the inspirational ...</td>\n",
       "    </tr>\n",
       "    <tr>\n",
       "      <th>8877</th>\n",
       "      <td>MORE SPOILER-FREE REVIEWS @ https://www.msbreviews.com/\\r\\n\\r\\n\"Fall is one of the biggest surprises of the year! Its premise automatically brings high levels of adrenaline, suspense, and tension - especially for acrophobes - and Scott Mann achie...</td>\n",
       "      <td>MORE SPOILER-FREE REVIEWS @ https://www.msbreviews.com/\\r\\n\\r\\n\"Fall is one of the biggest surprises of the year! Its premise automatically brings high levels of adrenaline, suspense, and tension - especially for acrophobes - and Scott Mann achie...</td>\n",
       "    </tr>\n",
       "  </tbody>\n",
       "</table>\n",
       "<p>534 rows × 2 columns</p>\n",
       "</div>"
      ],
      "text/plain": [
       "                                                                                                                                                                                                                                                review_text_raw  \\\n",
       "32    _Talk to Me_ is a brilliant and spine tingling evolution of _The Monkey’s Paw_ short story with an incredibly satisfying ending and a scene stealing performance from Sophie Wilde. Aaron McLisky’s cinematography featuring a ghoulish incline at jus...   \n",
       "134   FULL SPOILER-FREE REVIEW @ https://www.msbreviews.com/movie-reviews/priscilla-mini-review\\r\\n\\r\\n\"Priscilla navigates the familiar territory of biographical storytelling, offering a nuanced exploration of Priscilla Presley's life.\\r\\n\\r\\nCailee S...   \n",
       "139   FULL SPOILER-FREE REVIEW @ https://www.firstshowing.net/2023/review-disney-animations-wish-ariana-debose/\\r\\n\\r\\n\"Wish is a magical journey about the vitality of personal wishes and the importance of pursuing those same dreams. Although the narra...   \n",
       "259   There is a void to fill regarding a yearly _Thanksgiving_ franchise. The Carver is outrageous enough to be more enjoyable if Eli Roth allows other directors to play in his grotesque cornbread-stuffing-filled sandbox in future installments. As a s...   \n",
       "272   FULL SPOILER-FREE REVIEW @ https://fandomwire.com/night-swim-review-yet-another-forgettable-january-horror-flick/\\r\\n\\r\\n\"Night Swim fails to rise above the limitations of its generic horror foundation.\\r\\n\\r\\nDespite commendable performances fro...   \n",
       "...                                                                                                                                                                                                                                                         ...   \n",
       "8797  Jack Wyatt (Will Ferrell), a Hollywood star recovering from a couple of box office bombs, is talked into starring in a reboot of the 1964 television series, Bewitched. Desperate to regain his fame, he insists on hiring an unknown actress to play ...   \n",
       "8821  FULL SPOILER-FREE REVIEW @ https://www.firstshowing.net/2023/review-elemental-is-a-thematically-rich-inter-element-love-story/\\r\\n\\r\\n\"Pixar's Elemental may be straightforward and predictable, but it's so thematically rich and features such emoti...   \n",
       "8824  FULL SPOILER-FREE REVIEW @ https://fandomwire.com/the-book-of-clarence-bfi-london-film-festival-review-hilarious-thought-provoking-biblical-satire/\\r\\n\\r\\n\"The Book of Clarence certifies Jeymes Samuel as a do-it-all in filmmaking. Whether through...   \n",
       "8855  FULL SPOILER-FREE REVIEW @ https://www.firstshowing.net/2023/review-neill-blomkamps-gran-turismo-is-such-an-enjoyable-surprise/\\r\\n\\r\\n\"Gran Turismo is one of the most exciting surprises of the year! Being completely unaware of the inspirational ...   \n",
       "8877  MORE SPOILER-FREE REVIEWS @ https://www.msbreviews.com/\\r\\n\\r\\n\"Fall is one of the biggest surprises of the year! Its premise automatically brings high levels of adrenaline, suspense, and tension - especially for acrophobes - and Scott Mann achie...   \n",
       "\n",
       "                                                                                                                                                                                                                                                    review_text  \n",
       "32    _Talk to Me_ is a brilliant and spine tingling evolution of _The Monkey’s Paw_ short story with an incredibly satisfying ending and a scene stealing performance from Sophie Wilde. Aaron McLisky’s cinematography featuring a ghoulish incline at jus...  \n",
       "134   FULL SPOILER-FREE REVIEW @ https://www.msbreviews.com/movie-reviews/priscilla-mini-review\\r\\n\\r\\n\"Priscilla navigates the familiar territory of biographical storytelling, offering a nuanced exploration of Priscilla Presley's life.\\r\\n\\r\\nCailee S...  \n",
       "139   FULL SPOILER-FREE REVIEW @ https://www.firstshowing.net/2023/review-disney-animations-wish-ariana-debose/\\r\\n\\r\\n\"Wish is a magical journey about the vitality of personal wishes and the importance of pursuing those same dreams. Although the narra...  \n",
       "259   There is a void to fill regarding a yearly _Thanksgiving_ franchise. The Carver is outrageous enough to be more enjoyable if Eli Roth allows other directors to play in his grotesque cornbread-stuffing-filled sandbox in future installments. As a s...  \n",
       "272   FULL SPOILER-FREE REVIEW @ https://fandomwire.com/night-swim-review-yet-another-forgettable-january-horror-flick/\\r\\n\\r\\n\"Night Swim fails to rise above the limitations of its generic horror foundation.\\r\\n\\r\\nDespite commendable performances fro...  \n",
       "...                                                                                                                                                                                                                                                         ...  \n",
       "8797  Jack Wyatt (Will Ferrell), a Hollywood star recovering from a couple of box office bombs, is talked into starring in a reboot of the 1964 television series, Bewitched. Desperate to regain his fame, he insists on hiring an unknown actress to play ...  \n",
       "8821  FULL SPOILER-FREE REVIEW @ https://www.firstshowing.net/2023/review-elemental-is-a-thematically-rich-inter-element-love-story/\\r\\n\\r\\n\"Pixar's Elemental may be straightforward and predictable, but it's so thematically rich and features such emoti...  \n",
       "8824  FULL SPOILER-FREE REVIEW @ https://fandomwire.com/the-book-of-clarence-bfi-london-film-festival-review-hilarious-thought-provoking-biblical-satire/\\r\\n\\r\\n\"The Book of Clarence certifies Jeymes Samuel as a do-it-all in filmmaking. Whether through...  \n",
       "8855  FULL SPOILER-FREE REVIEW @ https://www.firstshowing.net/2023/review-neill-blomkamps-gran-turismo-is-such-an-enjoyable-surprise/\\r\\n\\r\\n\"Gran Turismo is one of the most exciting surprises of the year! Being completely unaware of the inspirational ...  \n",
       "8877  MORE SPOILER-FREE REVIEWS @ https://www.msbreviews.com/\\r\\n\\r\\n\"Fall is one of the biggest surprises of the year! Its premise automatically brings high levels of adrenaline, suspense, and tension - especially for acrophobes - and Scott Mann achie...  \n",
       "\n",
       "[534 rows x 2 columns]"
      ]
     },
     "execution_count": 61,
     "metadata": {},
     "output_type": "execute_result"
    }
   ],
   "source": [
    "regex_url = \"https?:\\/\\/(?:www\\.)?[^\\s]+\"\n",
    "df.loc[df['review_text'].str.contains(regex_url), compare_cols]"
   ]
  },
  {
   "cell_type": "code",
   "execution_count": 62,
   "id": "5da6fc3e-2d97-414f-b37b-ac4f1d7fa0f1",
   "metadata": {
    "execution": {
     "iopub.execute_input": "2024-01-23T05:14:35.517141Z",
     "iopub.status.busy": "2024-01-23T05:14:35.517019Z",
     "iopub.status.idle": "2024-01-23T05:14:35.553740Z",
     "shell.execute_reply": "2024-01-23T05:14:35.553398Z",
     "shell.execute_reply.started": "2024-01-23T05:14:35.517132Z"
    }
   },
   "outputs": [
    {
     "data": {
      "text/html": [
       "<div>\n",
       "<style scoped>\n",
       "    .dataframe tbody tr th:only-of-type {\n",
       "        vertical-align: middle;\n",
       "    }\n",
       "\n",
       "    .dataframe tbody tr th {\n",
       "        vertical-align: top;\n",
       "    }\n",
       "\n",
       "    .dataframe thead th {\n",
       "        text-align: right;\n",
       "    }\n",
       "</style>\n",
       "<table border=\"1\" class=\"dataframe\">\n",
       "  <thead>\n",
       "    <tr style=\"text-align: right;\">\n",
       "      <th></th>\n",
       "      <th>movie_id</th>\n",
       "      <th>review_id</th>\n",
       "      <th>rating</th>\n",
       "      <th>review_text</th>\n",
       "      <th>created_at</th>\n",
       "      <th>review_text_raw</th>\n",
       "    </tr>\n",
       "  </thead>\n",
       "  <tbody>\n",
       "    <tr>\n",
       "      <th>0</th>\n",
       "      <td>100042</td>\n",
       "      <td>64a3999fe9da6900c763aa8d</td>\n",
       "      <td>7.0</td>\n",
       "      <td>Better then the original I think. Was pretty funny. I thought the comedy was better then the original too.</td>\n",
       "      <td>2023-07-04 04:01:35.517000+00:00</td>\n",
       "      <td>Better then the original I think. Was pretty funny. I thought the comedy was better then the original too.</td>\n",
       "    </tr>\n",
       "    <tr>\n",
       "      <th>1</th>\n",
       "      <td>10008</td>\n",
       "      <td>643d44864d67910469d853a2</td>\n",
       "      <td>5.0</td>\n",
       "      <td>Kind of boring. It's a good plot and storyline. Nothing really to keep you interested.</td>\n",
       "      <td>2023-04-17 13:07:18.832000+00:00</td>\n",
       "      <td>Kind of boring. It's a good plot and storyline. Nothing really to keep you interested.</td>\n",
       "    </tr>\n",
       "    <tr>\n",
       "      <th>2</th>\n",
       "      <td>10009</td>\n",
       "      <td>5f22bd2b43999b00355b26a6</td>\n",
       "      <td>7.0</td>\n",
       "      <td>Heartwarming, if not as impactful as it intends to be.\\r\\n\\r\\n'Brother Bear' leaves heartfelt feelings and features a cute story. It does get a bit too melancholic in moments where it doesn't need to be or where it's not set up perfectly. It can ...</td>\n",
       "      <td>2020-07-30 12:29:31.310000+00:00</td>\n",
       "      <td>Heartwarming, if not as impactful as it intends to be.\\r\\n\\r\\n&lt;em&gt;'Brother Bear'&lt;/em&gt; leaves heartfelt feelings and features a cute story. It does get a bit too melancholic in moments where it doesn't need to be or where it's not set up perfectly...</td>\n",
       "    </tr>\n",
       "    <tr>\n",
       "      <th>3</th>\n",
       "      <td>10009</td>\n",
       "      <td>6592736214956560f7da631f</td>\n",
       "      <td>7.0</td>\n",
       "      <td>\"Kenai\" is a young Inuit warrior who disturbs the spirits when he kills a bear. His punishment is to be turned into one himself, and be left to wander the wilderness alone. Luckily, he encounters the young cub \"Koda\" who thinks he might know the ...</td>\n",
       "      <td>2024-01-01 08:10:10.033000+00:00</td>\n",
       "      <td>\"Kenai\" is a young Inuit warrior who disturbs the spirits when he kills a bear. His punishment is to be turned into one himself, and be left to wander the wilderness alone. Luckily, he encounters the young cub \"Koda\" who thinks he might know the ...</td>\n",
       "    </tr>\n",
       "    <tr>\n",
       "      <th>4</th>\n",
       "      <td>10012</td>\n",
       "      <td>628159c8caa50850dcf93d33</td>\n",
       "      <td>5.0</td>\n",
       "      <td>Seems like an apt title for everything that happened behind the scenes. If not for Justice League (which cost $250M+), this might be the poster child of what happens when a studio messes around with a project. Honestly I really hope one day we ge...</td>\n",
       "      <td>2022-05-15 19:51:36.244000+00:00</td>\n",
       "      <td>Seems like an apt title for everything that happened behind the scenes. If not for Justice League (which cost $250M+), this might be the poster child of what happens when a studio messes around with a project. Honestly I really hope one day we ge...</td>\n",
       "    </tr>\n",
       "    <tr>\n",
       "      <th>...</th>\n",
       "      <td>...</td>\n",
       "      <td>...</td>\n",
       "      <td>...</td>\n",
       "      <td>...</td>\n",
       "      <td>...</td>\n",
       "      <td>...</td>\n",
       "    </tr>\n",
       "    <tr>\n",
       "      <th>8960</th>\n",
       "      <td>99861</td>\n",
       "      <td>5e20dedc397df000129666b8</td>\n",
       "      <td>NaN</td>\n",
       "      <td>It's just what I feared. Marvel has gotten so caught up in making sure that each character gets some action time that there's no room now for character development. They need to tone it down a bit.</td>\n",
       "      <td>2020-01-16 22:08:28.630000+00:00</td>\n",
       "      <td>It's just what I feared. Marvel has gotten so caught up in making sure that each character gets some action time that there's no room now for character development. They need to tone it down a bit.</td>\n",
       "    </tr>\n",
       "    <tr>\n",
       "      <th>8961</th>\n",
       "      <td>99861</td>\n",
       "      <td>5ef819bba284eb00398dc810</td>\n",
       "      <td>7.0</td>\n",
       "      <td>Third viewing of this and while not the strongest within the MCU, or of the other Avenger movies, still has some good parts (introduction to Elizabeth Olsen's Scarlet Witch and Paul Bettany's Vision; further setting into motion the infinity stone...</td>\n",
       "      <td>2020-06-28 04:16:59.341000+00:00</td>\n",
       "      <td>Third viewing of this and while not the strongest within the MCU, or of the other Avenger movies, still has some good parts (introduction to Elizabeth Olsen's Scarlet Witch and Paul Bettany's Vision; further setting into motion the infinity stone...</td>\n",
       "    </tr>\n",
       "    <tr>\n",
       "      <th>8962</th>\n",
       "      <td>99861</td>\n",
       "      <td>600616349a358d0040c2ecad</td>\n",
       "      <td>7.0</td>\n",
       "      <td>Cool seeing them all together again, even if I didn't massively enjoy it. It's good, nothing more or less in my opinion.\\r\\n\\r\\n'Avengers: Age of Ultron' isn't too far off 2012's 'The Avengers', especially in terms of how I fell about it. I defin...</td>\n",
       "      <td>2021-01-18 23:13:56.078000+00:00</td>\n",
       "      <td>Cool seeing them all together again, even if I didn't massively enjoy it. It's good, nothing more or less in my opinion.\\r\\n\\r\\n&lt;em&gt;'Avengers: Age of Ultron'&lt;/em&gt; isn't too far off 2012's &lt;em&gt;'The Avengers'&lt;/em&gt;, especially in terms of how I fell...</td>\n",
       "    </tr>\n",
       "    <tr>\n",
       "      <th>8963</th>\n",
       "      <td>9988</td>\n",
       "      <td>5a6940bc9251414a2e009179</td>\n",
       "      <td>5.0</td>\n",
       "      <td>Not one of Broken Lizard's strongest entries, but perhaps classic viewing for those in the state that it's characters are: Drunk.\\r\\n\\r\\n_Final rating:★★½ - Not quite for me, but I definitely get the appeal._</td>\n",
       "      <td>2018-01-25 02:28:12.494000+00:00</td>\n",
       "      <td>Not one of Broken Lizard's strongest entries, but perhaps classic viewing for those in the state that it's characters are: Drunk.\\r\\n\\r\\n_Final rating:★★½ - Not quite for me, but I definitely get the appeal._</td>\n",
       "    </tr>\n",
       "    <tr>\n",
       "      <th>8964</th>\n",
       "      <td>9988</td>\n",
       "      <td>6449359c2fdec602fca107cb</td>\n",
       "      <td>8.0</td>\n",
       "      <td>This was a awesome movie. I love these guys just as good as they were in super troopers. I would definitely like to try this in real life myself sometime. It would be sweet.</td>\n",
       "      <td>2023-04-26 14:30:52.951000+00:00</td>\n",
       "      <td>This was a awesome movie. I love these guys just as good as they were in super troopers. I would definitely like to try this in real life myself sometime. It would be sweet.</td>\n",
       "    </tr>\n",
       "  </tbody>\n",
       "</table>\n",
       "<p>8965 rows × 6 columns</p>\n",
       "</div>"
      ],
      "text/plain": [
       "      movie_id                 review_id  rating  \\\n",
       "0       100042  64a3999fe9da6900c763aa8d     7.0   \n",
       "1        10008  643d44864d67910469d853a2     5.0   \n",
       "2        10009  5f22bd2b43999b00355b26a6     7.0   \n",
       "3        10009  6592736214956560f7da631f     7.0   \n",
       "4        10012  628159c8caa50850dcf93d33     5.0   \n",
       "...        ...                       ...     ...   \n",
       "8960     99861  5e20dedc397df000129666b8     NaN   \n",
       "8961     99861  5ef819bba284eb00398dc810     7.0   \n",
       "8962     99861  600616349a358d0040c2ecad     7.0   \n",
       "8963      9988  5a6940bc9251414a2e009179     5.0   \n",
       "8964      9988  6449359c2fdec602fca107cb     8.0   \n",
       "\n",
       "                                                                                                                                                                                                                                                    review_text  \\\n",
       "0                                                                                                                                                    Better then the original I think. Was pretty funny. I thought the comedy was better then the original too.   \n",
       "1                                                                                                                                                                        Kind of boring. It's a good plot and storyline. Nothing really to keep you interested.   \n",
       "2     Heartwarming, if not as impactful as it intends to be.\\r\\n\\r\\n'Brother Bear' leaves heartfelt feelings and features a cute story. It does get a bit too melancholic in moments where it doesn't need to be or where it's not set up perfectly. It can ...   \n",
       "3     \"Kenai\" is a young Inuit warrior who disturbs the spirits when he kills a bear. His punishment is to be turned into one himself, and be left to wander the wilderness alone. Luckily, he encounters the young cub \"Koda\" who thinks he might know the ...   \n",
       "4     Seems like an apt title for everything that happened behind the scenes. If not for Justice League (which cost $250M+), this might be the poster child of what happens when a studio messes around with a project. Honestly I really hope one day we ge...   \n",
       "...                                                                                                                                                                                                                                                         ...   \n",
       "8960                                                      It's just what I feared. Marvel has gotten so caught up in making sure that each character gets some action time that there's no room now for character development. They need to tone it down a bit.   \n",
       "8961  Third viewing of this and while not the strongest within the MCU, or of the other Avenger movies, still has some good parts (introduction to Elizabeth Olsen's Scarlet Witch and Paul Bettany's Vision; further setting into motion the infinity stone...   \n",
       "8962  Cool seeing them all together again, even if I didn't massively enjoy it. It's good, nothing more or less in my opinion.\\r\\n\\r\\n'Avengers: Age of Ultron' isn't too far off 2012's 'The Avengers', especially in terms of how I fell about it. I defin...   \n",
       "8963                                           Not one of Broken Lizard's strongest entries, but perhaps classic viewing for those in the state that it's characters are: Drunk.\\r\\n\\r\\n_Final rating:★★½ - Not quite for me, but I definitely get the appeal._   \n",
       "8964                                                                              This was a awesome movie. I love these guys just as good as they were in super troopers. I would definitely like to try this in real life myself sometime. It would be sweet.   \n",
       "\n",
       "                            created_at  \\\n",
       "0     2023-07-04 04:01:35.517000+00:00   \n",
       "1     2023-04-17 13:07:18.832000+00:00   \n",
       "2     2020-07-30 12:29:31.310000+00:00   \n",
       "3     2024-01-01 08:10:10.033000+00:00   \n",
       "4     2022-05-15 19:51:36.244000+00:00   \n",
       "...                                ...   \n",
       "8960  2020-01-16 22:08:28.630000+00:00   \n",
       "8961  2020-06-28 04:16:59.341000+00:00   \n",
       "8962  2021-01-18 23:13:56.078000+00:00   \n",
       "8963  2018-01-25 02:28:12.494000+00:00   \n",
       "8964  2023-04-26 14:30:52.951000+00:00   \n",
       "\n",
       "                                                                                                                                                                                                                                                review_text_raw  \n",
       "0                                                                                                                                                    Better then the original I think. Was pretty funny. I thought the comedy was better then the original too.  \n",
       "1                                                                                                                                                                        Kind of boring. It's a good plot and storyline. Nothing really to keep you interested.  \n",
       "2     Heartwarming, if not as impactful as it intends to be.\\r\\n\\r\\n<em>'Brother Bear'</em> leaves heartfelt feelings and features a cute story. It does get a bit too melancholic in moments where it doesn't need to be or where it's not set up perfectly...  \n",
       "3     \"Kenai\" is a young Inuit warrior who disturbs the spirits when he kills a bear. His punishment is to be turned into one himself, and be left to wander the wilderness alone. Luckily, he encounters the young cub \"Koda\" who thinks he might know the ...  \n",
       "4     Seems like an apt title for everything that happened behind the scenes. If not for Justice League (which cost $250M+), this might be the poster child of what happens when a studio messes around with a project. Honestly I really hope one day we ge...  \n",
       "...                                                                                                                                                                                                                                                         ...  \n",
       "8960                                                      It's just what I feared. Marvel has gotten so caught up in making sure that each character gets some action time that there's no room now for character development. They need to tone it down a bit.  \n",
       "8961  Third viewing of this and while not the strongest within the MCU, or of the other Avenger movies, still has some good parts (introduction to Elizabeth Olsen's Scarlet Witch and Paul Bettany's Vision; further setting into motion the infinity stone...  \n",
       "8962  Cool seeing them all together again, even if I didn't massively enjoy it. It's good, nothing more or less in my opinion.\\r\\n\\r\\n<em>'Avengers: Age of Ultron'</em> isn't too far off 2012's <em>'The Avengers'</em>, especially in terms of how I fell...  \n",
       "8963                                           Not one of Broken Lizard's strongest entries, but perhaps classic viewing for those in the state that it's characters are: Drunk.\\r\\n\\r\\n_Final rating:★★½ - Not quite for me, but I definitely get the appeal._  \n",
       "8964                                                                              This was a awesome movie. I love these guys just as good as they were in super troopers. I would definitely like to try this in real life myself sometime. It would be sweet.  \n",
       "\n",
       "[8965 rows x 6 columns]"
      ]
     },
     "execution_count": 62,
     "metadata": {},
     "output_type": "execute_result"
    }
   ],
   "source": [
    "df['review_text'] = df['review_text'].str.replace(regex_url, '[LINK]', regex=True)\n",
    "df"
   ]
  },
  {
   "cell_type": "code",
   "execution_count": 63,
   "id": "da0d71bc-c1f6-4947-bf45-a8635e48533a",
   "metadata": {
    "execution": {
     "iopub.execute_input": "2024-01-23T05:14:35.554476Z",
     "iopub.status.busy": "2024-01-23T05:14:35.554326Z",
     "iopub.status.idle": "2024-01-23T05:14:35.587631Z",
     "shell.execute_reply": "2024-01-23T05:14:35.587336Z",
     "shell.execute_reply.started": "2024-01-23T05:14:35.554467Z"
    }
   },
   "outputs": [
    {
     "data": {
      "text/html": [
       "<div>\n",
       "<style scoped>\n",
       "    .dataframe tbody tr th:only-of-type {\n",
       "        vertical-align: middle;\n",
       "    }\n",
       "\n",
       "    .dataframe tbody tr th {\n",
       "        vertical-align: top;\n",
       "    }\n",
       "\n",
       "    .dataframe thead th {\n",
       "        text-align: right;\n",
       "    }\n",
       "</style>\n",
       "<table border=\"1\" class=\"dataframe\">\n",
       "  <thead>\n",
       "    <tr style=\"text-align: right;\">\n",
       "      <th></th>\n",
       "      <th>review_text_raw</th>\n",
       "      <th>review_text</th>\n",
       "    </tr>\n",
       "  </thead>\n",
       "  <tbody>\n",
       "    <tr>\n",
       "      <th>32</th>\n",
       "      <td>_Talk to Me_ is a brilliant and spine tingling evolution of _The Monkey’s Paw_ short story with an incredibly satisfying ending and a scene stealing performance from Sophie Wilde. Aaron McLisky’s cinematography featuring a ghoulish incline at jus...</td>\n",
       "      <td>_Talk to Me_ is a brilliant and spine tingling evolution of _The Monkey’s Paw_ short story with an incredibly satisfying ending and a scene stealing performance from Sophie Wilde. Aaron McLisky’s cinematography featuring a ghoulish incline at jus...</td>\n",
       "    </tr>\n",
       "    <tr>\n",
       "      <th>134</th>\n",
       "      <td>FULL SPOILER-FREE REVIEW @ https://www.msbreviews.com/movie-reviews/priscilla-mini-review\\r\\n\\r\\n\"Priscilla navigates the familiar territory of biographical storytelling, offering a nuanced exploration of Priscilla Presley's life.\\r\\n\\r\\nCailee S...</td>\n",
       "      <td>FULL SPOILER-FREE REVIEW @ [LINK]\\r\\n\\r\\n\"Priscilla navigates the familiar territory of biographical storytelling, offering a nuanced exploration of Priscilla Presley's life.\\r\\n\\r\\nCailee Spaeny's career-best performance skillfully delves into t...</td>\n",
       "    </tr>\n",
       "    <tr>\n",
       "      <th>135</th>\n",
       "      <td>Just rather uninteresting, on film terms at least.\\r\\n\\r\\nIt &lt;em&gt;is&lt;/em&gt; interesting seeing the film portray a different type of version of Elvis Presley, one that is uncomfortable to watch unfold but one that ought to be told. That's where anyth...</td>\n",
       "      <td>Just rather uninteresting, on film terms at least.\\r\\n\\r\\nIt is interesting seeing the film portray a different type of version of Elvis Presley, one that is uncomfortable to watch unfold but one that ought to be told. That's where anything notew...</td>\n",
       "    </tr>\n",
       "    <tr>\n",
       "      <th>139</th>\n",
       "      <td>FULL SPOILER-FREE REVIEW @ https://www.firstshowing.net/2023/review-disney-animations-wish-ariana-debose/\\r\\n\\r\\n\"Wish is a magical journey about the vitality of personal wishes and the importance of pursuing those same dreams. Although the narra...</td>\n",
       "      <td>FULL SPOILER-FREE REVIEW @ [LINK]\\r\\n\\r\\n\"Wish is a magical journey about the vitality of personal wishes and the importance of pursuing those same dreams. Although the narrative follows a familiar structure and doesn't delve beyond the central t...</td>\n",
       "    </tr>\n",
       "    <tr>\n",
       "      <th>259</th>\n",
       "      <td>There is a void to fill regarding a yearly _Thanksgiving_ franchise. The Carver is outrageous enough to be more enjoyable if Eli Roth allows other directors to play in his grotesque cornbread-stuffing-filled sandbox in future installments. As a s...</td>\n",
       "      <td>There is a void to fill regarding a yearly _Thanksgiving_ franchise. The Carver is outrageous enough to be more enjoyable if Eli Roth allows other directors to play in his grotesque cornbread-stuffing-filled sandbox in future installments. As a s...</td>\n",
       "    </tr>\n",
       "    <tr>\n",
       "      <th>...</th>\n",
       "      <td>...</td>\n",
       "      <td>...</td>\n",
       "    </tr>\n",
       "    <tr>\n",
       "      <th>8797</th>\n",
       "      <td>Jack Wyatt (Will Ferrell), a Hollywood star recovering from a couple of box office bombs, is talked into starring in a reboot of the 1964 television series, Bewitched. Desperate to regain his fame, he insists on hiring an unknown actress to play ...</td>\n",
       "      <td>Jack Wyatt (Will Ferrell), a Hollywood star recovering from a couple of box office bombs, is talked into starring in a reboot of the 1964 television series, Bewitched. Desperate to regain his fame, he insists on hiring an unknown actress to play ...</td>\n",
       "    </tr>\n",
       "    <tr>\n",
       "      <th>8821</th>\n",
       "      <td>FULL SPOILER-FREE REVIEW @ https://www.firstshowing.net/2023/review-elemental-is-a-thematically-rich-inter-element-love-story/\\r\\n\\r\\n\"Pixar's Elemental may be straightforward and predictable, but it's so thematically rich and features such emoti...</td>\n",
       "      <td>FULL SPOILER-FREE REVIEW @ [LINK]\\r\\n\\r\\n\"Pixar's Elemental may be straightforward and predictable, but it's so thematically rich and features such emotionally relatable characters that, by the end, I found myself fighting back tears. It features...</td>\n",
       "    </tr>\n",
       "    <tr>\n",
       "      <th>8824</th>\n",
       "      <td>FULL SPOILER-FREE REVIEW @ https://fandomwire.com/the-book-of-clarence-bfi-london-film-festival-review-hilarious-thought-provoking-biblical-satire/\\r\\n\\r\\n\"The Book of Clarence certifies Jeymes Samuel as a do-it-all in filmmaking. Whether through...</td>\n",
       "      <td>FULL SPOILER-FREE REVIEW @ [LINK]\\r\\n\\r\\n\"The Book of Clarence certifies Jeymes Samuel as a do-it-all in filmmaking. Whether through his stylized direction, thought-provoking satirical screenplay, or bold soundtrack, the filmmaker once again deli...</td>\n",
       "    </tr>\n",
       "    <tr>\n",
       "      <th>8855</th>\n",
       "      <td>FULL SPOILER-FREE REVIEW @ https://www.firstshowing.net/2023/review-neill-blomkamps-gran-turismo-is-such-an-enjoyable-surprise/\\r\\n\\r\\n\"Gran Turismo is one of the most exciting surprises of the year! Being completely unaware of the inspirational ...</td>\n",
       "      <td>FULL SPOILER-FREE REVIEW @ [LINK]\\r\\n\\r\\n\"Gran Turismo is one of the most exciting surprises of the year! Being completely unaware of the inspirational true story on which the movie is based made it even more fascinating, engaging, and wildly exh...</td>\n",
       "    </tr>\n",
       "    <tr>\n",
       "      <th>8877</th>\n",
       "      <td>MORE SPOILER-FREE REVIEWS @ https://www.msbreviews.com/\\r\\n\\r\\n\"Fall is one of the biggest surprises of the year! Its premise automatically brings high levels of adrenaline, suspense, and tension - especially for acrophobes - and Scott Mann achie...</td>\n",
       "      <td>MORE SPOILER-FREE REVIEWS @ [LINK]\\r\\n\\r\\n\"Fall is one of the biggest surprises of the year! Its premise automatically brings high levels of adrenaline, suspense, and tension - especially for acrophobes - and Scott Mann achieves the ideal mix of ...</td>\n",
       "    </tr>\n",
       "  </tbody>\n",
       "</table>\n",
       "<p>603 rows × 2 columns</p>\n",
       "</div>"
      ],
      "text/plain": [
       "                                                                                                                                                                                                                                                review_text_raw  \\\n",
       "32    _Talk to Me_ is a brilliant and spine tingling evolution of _The Monkey’s Paw_ short story with an incredibly satisfying ending and a scene stealing performance from Sophie Wilde. Aaron McLisky’s cinematography featuring a ghoulish incline at jus...   \n",
       "134   FULL SPOILER-FREE REVIEW @ https://www.msbreviews.com/movie-reviews/priscilla-mini-review\\r\\n\\r\\n\"Priscilla navigates the familiar territory of biographical storytelling, offering a nuanced exploration of Priscilla Presley's life.\\r\\n\\r\\nCailee S...   \n",
       "135   Just rather uninteresting, on film terms at least.\\r\\n\\r\\nIt <em>is</em> interesting seeing the film portray a different type of version of Elvis Presley, one that is uncomfortable to watch unfold but one that ought to be told. That's where anyth...   \n",
       "139   FULL SPOILER-FREE REVIEW @ https://www.firstshowing.net/2023/review-disney-animations-wish-ariana-debose/\\r\\n\\r\\n\"Wish is a magical journey about the vitality of personal wishes and the importance of pursuing those same dreams. Although the narra...   \n",
       "259   There is a void to fill regarding a yearly _Thanksgiving_ franchise. The Carver is outrageous enough to be more enjoyable if Eli Roth allows other directors to play in his grotesque cornbread-stuffing-filled sandbox in future installments. As a s...   \n",
       "...                                                                                                                                                                                                                                                         ...   \n",
       "8797  Jack Wyatt (Will Ferrell), a Hollywood star recovering from a couple of box office bombs, is talked into starring in a reboot of the 1964 television series, Bewitched. Desperate to regain his fame, he insists on hiring an unknown actress to play ...   \n",
       "8821  FULL SPOILER-FREE REVIEW @ https://www.firstshowing.net/2023/review-elemental-is-a-thematically-rich-inter-element-love-story/\\r\\n\\r\\n\"Pixar's Elemental may be straightforward and predictable, but it's so thematically rich and features such emoti...   \n",
       "8824  FULL SPOILER-FREE REVIEW @ https://fandomwire.com/the-book-of-clarence-bfi-london-film-festival-review-hilarious-thought-provoking-biblical-satire/\\r\\n\\r\\n\"The Book of Clarence certifies Jeymes Samuel as a do-it-all in filmmaking. Whether through...   \n",
       "8855  FULL SPOILER-FREE REVIEW @ https://www.firstshowing.net/2023/review-neill-blomkamps-gran-turismo-is-such-an-enjoyable-surprise/\\r\\n\\r\\n\"Gran Turismo is one of the most exciting surprises of the year! Being completely unaware of the inspirational ...   \n",
       "8877  MORE SPOILER-FREE REVIEWS @ https://www.msbreviews.com/\\r\\n\\r\\n\"Fall is one of the biggest surprises of the year! Its premise automatically brings high levels of adrenaline, suspense, and tension - especially for acrophobes - and Scott Mann achie...   \n",
       "\n",
       "                                                                                                                                                                                                                                                    review_text  \n",
       "32    _Talk to Me_ is a brilliant and spine tingling evolution of _The Monkey’s Paw_ short story with an incredibly satisfying ending and a scene stealing performance from Sophie Wilde. Aaron McLisky’s cinematography featuring a ghoulish incline at jus...  \n",
       "134   FULL SPOILER-FREE REVIEW @ [LINK]\\r\\n\\r\\n\"Priscilla navigates the familiar territory of biographical storytelling, offering a nuanced exploration of Priscilla Presley's life.\\r\\n\\r\\nCailee Spaeny's career-best performance skillfully delves into t...  \n",
       "135   Just rather uninteresting, on film terms at least.\\r\\n\\r\\nIt is interesting seeing the film portray a different type of version of Elvis Presley, one that is uncomfortable to watch unfold but one that ought to be told. That's where anything notew...  \n",
       "139   FULL SPOILER-FREE REVIEW @ [LINK]\\r\\n\\r\\n\"Wish is a magical journey about the vitality of personal wishes and the importance of pursuing those same dreams. Although the narrative follows a familiar structure and doesn't delve beyond the central t...  \n",
       "259   There is a void to fill regarding a yearly _Thanksgiving_ franchise. The Carver is outrageous enough to be more enjoyable if Eli Roth allows other directors to play in his grotesque cornbread-stuffing-filled sandbox in future installments. As a s...  \n",
       "...                                                                                                                                                                                                                                                         ...  \n",
       "8797  Jack Wyatt (Will Ferrell), a Hollywood star recovering from a couple of box office bombs, is talked into starring in a reboot of the 1964 television series, Bewitched. Desperate to regain his fame, he insists on hiring an unknown actress to play ...  \n",
       "8821  FULL SPOILER-FREE REVIEW @ [LINK]\\r\\n\\r\\n\"Pixar's Elemental may be straightforward and predictable, but it's so thematically rich and features such emotionally relatable characters that, by the end, I found myself fighting back tears. It features...  \n",
       "8824  FULL SPOILER-FREE REVIEW @ [LINK]\\r\\n\\r\\n\"The Book of Clarence certifies Jeymes Samuel as a do-it-all in filmmaking. Whether through his stylized direction, thought-provoking satirical screenplay, or bold soundtrack, the filmmaker once again deli...  \n",
       "8855  FULL SPOILER-FREE REVIEW @ [LINK]\\r\\n\\r\\n\"Gran Turismo is one of the most exciting surprises of the year! Being completely unaware of the inspirational true story on which the movie is based made it even more fascinating, engaging, and wildly exh...  \n",
       "8877  MORE SPOILER-FREE REVIEWS @ [LINK]\\r\\n\\r\\n\"Fall is one of the biggest surprises of the year! Its premise automatically brings high levels of adrenaline, suspense, and tension - especially for acrophobes - and Scott Mann achieves the ideal mix of ...  \n",
       "\n",
       "[603 rows x 2 columns]"
      ]
     },
     "execution_count": 63,
     "metadata": {},
     "output_type": "execute_result"
    }
   ],
   "source": [
    "df.loc[df['review_text_raw'].str.contains('http'), compare_cols]"
   ]
  },
  {
   "cell_type": "code",
   "execution_count": null,
   "id": "94f23e2a-f590-4fca-8d5c-f82c122a2486",
   "metadata": {},
   "outputs": [],
   "source": []
  },
  {
   "cell_type": "markdown",
   "id": "9deae446-ed8d-4663-a246-6d56fef6ac70",
   "metadata": {},
   "source": [
    "## Part 2) Spacy Preprocessing for EDA"
   ]
  },
  {
   "cell_type": "code",
   "execution_count": 64,
   "id": "fbf2a7f1-4ad9-4de5-be28-88c7bde57d72",
   "metadata": {
    "execution": {
     "iopub.execute_input": "2024-01-23T05:14:35.588319Z",
     "iopub.status.busy": "2024-01-23T05:14:35.588201Z",
     "iopub.status.idle": "2024-01-23T05:14:35.606853Z",
     "shell.execute_reply": "2024-01-23T05:14:35.606452Z",
     "shell.execute_reply.started": "2024-01-23T05:14:35.588309Z"
    }
   },
   "outputs": [],
   "source": [
    "# combined_reviews_fname = FPATHS['data']['raw']['movie-reviews']\n",
    "# reviews.to_csv(combined_reviews_fname, index=False, compression='gzip')"
   ]
  },
  {
   "cell_type": "code",
   "execution_count": 65,
   "id": "ba8df894-3fff-4713-9a1e-9e9e59e75a58",
   "metadata": {
    "execution": {
     "iopub.execute_input": "2024-01-23T05:14:35.607441Z",
     "iopub.status.busy": "2024-01-23T05:14:35.607341Z",
     "iopub.status.idle": "2024-01-23T05:14:35.626565Z",
     "shell.execute_reply": "2024-01-23T05:14:35.626252Z",
     "shell.execute_reply.started": "2024-01-23T05:14:35.607431Z"
    }
   },
   "outputs": [],
   "source": [
    "# del reviews"
   ]
  },
  {
   "cell_type": "markdown",
   "id": "8afd8b4e-99a7-4aa9-9aae-a7e8b5444823",
   "metadata": {},
   "source": [
    "**1) Data Preprocessing:**\n",
    "\n",
    "- Load and inspect the dataset.\n",
    "    - How many reviews?\n",
    "    - What does the distribution of ratings look like?\n",
    "    - Any null values?\n",
    "\n",
    "\n",
    "\n",
    "- Use the rating column to create a new target column with two groups: high-rating and low-rating groups.\n",
    "    - We recommend defining \"High-rating\" reviews as any review with a rating >=9; and \"Low-rating\" reviews as any review with a rating <=4. The middle ratings between 4 and 9 will be excluded from the analysis.\n",
    "    - You may use an alternative definition for High and Low reviews, but justify your choice in your notebook/README.\n",
    "\n",
    "\n",
    "\n",
    "- Utilize NLTK and SpaCy for basic text processing, including:\n",
    "\n",
    "    - removing stopwords\n",
    "    - tokenization\n",
    "    - lemmatization\n",
    "    - Tips:\n",
    "        - Be sure to create a custom nlp object and disable the named entity recognizer. Otherwise, processing will take a very long time!\n",
    "        - **You will want to create several versions of the data, lemmatized, tokenized, lemmatized, and joined back to one string per review, and tokenized and joined back to one string per review.** This will be useful for different analysis and modeling techniques.\n",
    "\n",
    "    \n",
    "\n",
    "- Save your processed data frame in a **joblib** file saved in the \"Data-NLP/\" folder for future modeling.\n",
    "\n",
    "    "
   ]
  },
  {
   "cell_type": "code",
   "execution_count": 66,
   "id": "c350a35a-4d62-4250-9a57-e8fb3f15b56a",
   "metadata": {
    "execution": {
     "iopub.execute_input": "2024-01-23T05:14:35.627048Z",
     "iopub.status.busy": "2024-01-23T05:14:35.626962Z",
     "iopub.status.idle": "2024-01-23T05:14:35.645933Z",
     "shell.execute_reply": "2024-01-23T05:14:35.645620Z",
     "shell.execute_reply.started": "2024-01-23T05:14:35.627039Z"
    }
   },
   "outputs": [],
   "source": [
    "# import spacy\n",
    "# # Disable parser and ner\n",
    "# nlp_light = spacy.load(\"en_core_web_sm\", disable=['parser','ner'])\n",
    "# # Print active components\n",
    "# nlp_light.pipe_names"
   ]
  },
  {
   "cell_type": "code",
   "execution_count": 67,
   "id": "831fc6e9-43e7-4dc0-a4fa-739805b490c0",
   "metadata": {
    "execution": {
     "iopub.execute_input": "2024-01-23T05:14:35.655541Z",
     "iopub.status.busy": "2024-01-23T05:14:35.655370Z",
     "iopub.status.idle": "2024-01-23T05:14:39.699871Z",
     "shell.execute_reply": "2024-01-23T05:14:39.699522Z",
     "shell.execute_reply.started": "2024-01-23T05:14:35.655528Z"
    }
   },
   "outputs": [
    {
     "data": {
      "text/plain": [
       "<spacy.lang.en.English at 0x2aba6ffd0>"
      ]
     },
     "execution_count": 67,
     "metadata": {},
     "output_type": "execute_result"
    }
   ],
   "source": [
    "import spacy\n",
    "# Custom NLP Object\n",
    "nlp_custom = ds.nlp.make_custom_nlp(disable=['ner'],#'parser'],\n",
    "                                contractions=[],\n",
    "                            stopwords_to_add=[\"★\"])\n",
    "nlp_custom"
   ]
  },
  {
   "cell_type": "markdown",
   "id": "32b3f1d9-5f5f-4f0d-9e4c-b3d4e0b67e09",
   "metadata": {},
   "source": [
    "> Changed review_text column to remove HTML and URLs as of 01/22/24"
   ]
  },
  {
   "cell_type": "code",
   "execution_count": 68,
   "id": "0b815db5-f4fe-40c1-a7e1-c87f2e4e0672",
   "metadata": {
    "execution": {
     "iopub.execute_input": "2024-01-23T05:14:39.700506Z",
     "iopub.status.busy": "2024-01-23T05:14:39.700298Z",
     "iopub.status.idle": "2024-01-23T05:17:32.969851Z",
     "shell.execute_reply": "2024-01-23T05:17:32.969503Z",
     "shell.execute_reply.started": "2024-01-23T05:14:39.700497Z"
    }
   },
   "outputs": [
    {
     "name": "stdout",
     "output_type": "stream",
     "text": [
      "- Running full spacy preprocessing code (this will take several minutes).\n"
     ]
    },
    {
     "name": "stderr",
     "output_type": "stream",
     "text": [
      "8965it [00:58, 153.52it/s]\n",
      "8965it [00:57, 156.01it/s]\n",
      "8965it [00:57, 156.91it/s]\n"
     ]
    },
    {
     "name": "stdout",
     "output_type": "stream",
     "text": [
      "CPU times: user 36.7 s, sys: 8.03 s, total: 44.8 s\n",
      "Wall time: 2min 53s\n"
     ]
    },
    {
     "data": {
      "text/html": [
       "<div>\n",
       "<style scoped>\n",
       "    .dataframe tbody tr th:only-of-type {\n",
       "        vertical-align: middle;\n",
       "    }\n",
       "\n",
       "    .dataframe tbody tr th {\n",
       "        vertical-align: top;\n",
       "    }\n",
       "\n",
       "    .dataframe thead th {\n",
       "        text-align: right;\n",
       "    }\n",
       "</style>\n",
       "<table border=\"1\" class=\"dataframe\">\n",
       "  <thead>\n",
       "    <tr style=\"text-align: right;\">\n",
       "      <th></th>\n",
       "      <th>movie_id</th>\n",
       "      <th>review_id</th>\n",
       "      <th>rating</th>\n",
       "      <th>review_text</th>\n",
       "      <th>created_at</th>\n",
       "      <th>review_text_raw</th>\n",
       "      <th>tokens-dirty</th>\n",
       "      <th>tokens</th>\n",
       "      <th>lemmas</th>\n",
       "      <th>tokens-dirty-joined</th>\n",
       "      <th>tokens-joined</th>\n",
       "      <th>lemmas-joined</th>\n",
       "    </tr>\n",
       "  </thead>\n",
       "  <tbody>\n",
       "    <tr>\n",
       "      <th>0</th>\n",
       "      <td>100042</td>\n",
       "      <td>64a3999fe9da6900c763aa8d</td>\n",
       "      <td>7.0</td>\n",
       "      <td>Better then the original I think. Was pretty funny. I thought the comedy was better then the original too.</td>\n",
       "      <td>2023-07-04 04:01:35.517000+00:00</td>\n",
       "      <td>Better then the original I think. Was pretty funny. I thought the comedy was better then the original too.</td>\n",
       "      <td>[better, then, the, original, i, think, was, pretty, funny, i, thought, the, comedy, was, better, then, the, original, too]</td>\n",
       "      <td>[better, original, think, pretty, funny, thought, comedy, better, original]</td>\n",
       "      <td>[well, original, think, pretty, funny, think, comedy, well, original]</td>\n",
       "      <td>better then the original i think was pretty funny i thought the comedy was better then the original too</td>\n",
       "      <td>better original think pretty funny thought comedy better original</td>\n",
       "      <td>well original think pretty funny think comedy well original</td>\n",
       "    </tr>\n",
       "    <tr>\n",
       "      <th>1</th>\n",
       "      <td>10008</td>\n",
       "      <td>643d44864d67910469d853a2</td>\n",
       "      <td>5.0</td>\n",
       "      <td>Kind of boring. It's a good plot and storyline. Nothing really to keep you interested.</td>\n",
       "      <td>2023-04-17 13:07:18.832000+00:00</td>\n",
       "      <td>Kind of boring. It's a good plot and storyline. Nothing really to keep you interested.</td>\n",
       "      <td>[kind, of, boring, it, 's, a, good, plot, and, storyline, nothing, really, to, keep, you, interested]</td>\n",
       "      <td>[kind, boring, good, plot, storyline, interested]</td>\n",
       "      <td>[kind, boring, good, plot, storyline, interested]</td>\n",
       "      <td>kind of boring it 's a good plot and storyline nothing really to keep you interested</td>\n",
       "      <td>kind boring good plot storyline interested</td>\n",
       "      <td>kind boring good plot storyline interested</td>\n",
       "    </tr>\n",
       "    <tr>\n",
       "      <th>2</th>\n",
       "      <td>10009</td>\n",
       "      <td>5f22bd2b43999b00355b26a6</td>\n",
       "      <td>7.0</td>\n",
       "      <td>Heartwarming, if not as impactful as it intends to be.\\r\\n\\r\\n'Brother Bear' leaves heartfelt feelings and features a cute story. It does get a bit too melancholic in moments where it doesn't need to be or where it's not set up perfectly. It can ...</td>\n",
       "      <td>2020-07-30 12:29:31.310000+00:00</td>\n",
       "      <td>Heartwarming, if not as impactful as it intends to be.\\r\\n\\r\\n&lt;em&gt;'Brother Bear'&lt;/em&gt; leaves heartfelt feelings and features a cute story. It does get a bit too melancholic in moments where it doesn't need to be or where it's not set up perfectly...</td>\n",
       "      <td>[heartwarming, if, not, as, impactful, as, it, intends, to, be, brother, bear, leaves, heartfelt, feelings, and, features, a, cute, story, it, does, get, a, bit, too, melancholic, in, moments, where, it, does, n't, need, to, be, or, where, it, 's...</td>\n",
       "      <td>[heartwarming, impactful, intends, brother, bear, leaves, heartfelt, feelings, features, cute, story, bit, melancholic, moments, need, set, perfectly, feel, little, predictable, twist, decent, animation, wise, fine, early, aspect, ratio, stuff, o...</td>\n",
       "      <td>[heartwarme, impactful, intend, brother, bear, leave, heartfelt, feeling, feature, cute, story, bit, melancholic, moment, need, set, perfectly, feel, little, predictable, twist, decent, animation, wise, fine, early, aspect, ratio, stuff, oddly, v...</td>\n",
       "      <td>heartwarming if not as impactful as it intends to be brother bear leaves heartfelt feelings and features a cute story it does get a bit too melancholic in moments where it does n't need to be or where it 's not set up perfectly it can also feel a...</td>\n",
       "      <td>heartwarming impactful intends brother bear leaves heartfelt feelings features cute story bit melancholic moments need set perfectly feel little predictable twist decent animation wise fine early aspect ratio stuff oddly voice cast amazing despit...</td>\n",
       "      <td>heartwarme impactful intend brother bear leave heartfelt feeling feature cute story bit melancholic moment need set perfectly feel little predictable twist decent animation wise fine early aspect ratio stuff oddly voice cast amazing despite talen...</td>\n",
       "    </tr>\n",
       "    <tr>\n",
       "      <th>3</th>\n",
       "      <td>10009</td>\n",
       "      <td>6592736214956560f7da631f</td>\n",
       "      <td>7.0</td>\n",
       "      <td>\"Kenai\" is a young Inuit warrior who disturbs the spirits when he kills a bear. His punishment is to be turned into one himself, and be left to wander the wilderness alone. Luckily, he encounters the young cub \"Koda\" who thinks he might know the ...</td>\n",
       "      <td>2024-01-01 08:10:10.033000+00:00</td>\n",
       "      <td>\"Kenai\" is a young Inuit warrior who disturbs the spirits when he kills a bear. His punishment is to be turned into one himself, and be left to wander the wilderness alone. Luckily, he encounters the young cub \"Koda\" who thinks he might know the ...</td>\n",
       "      <td>[kenai, is, a, young, inuit, warrior, who, disturbs, the, spirits, when, he, kills, a, bear, his, punishment, is, to, be, turned, into, one, himself, and, be, left, to, wander, the, wilderness, alone, luckily, he, encounters, the, young, cub, kod...</td>\n",
       "      <td>[kenai, young, inuit, warrior, disturbs, spirits, kills, bear, punishment, turned, left, wander, wilderness, luckily, encounters, young, cub, koda, thinks, know, exact, spot, kenai, restored, humanity, help, quest, human, brother, denahi, thinks,...</td>\n",
       "      <td>[kenai, young, inuit, warrior, disturb, spirit, kill, bear, punishment, turn, leave, wander, wilderness, luckily, encounter, young, cub, koda, think, know, exact, spot, kenai, restore, humanity, help, quest, human, brother, denahi, think, kenai, ...</td>\n",
       "      <td>kenai is a young inuit warrior who disturbs the spirits when he kills a bear his punishment is to be turned into one himself and be left to wander the wilderness alone luckily he encounters the young cub koda who thinks he might know the exact sp...</td>\n",
       "      <td>kenai young inuit warrior disturbs spirits kills bear punishment turned left wander wilderness luckily encounters young cub koda thinks know exact spot kenai restored humanity help quest human brother denahi thinks kenai killed bear chasing new f...</td>\n",
       "      <td>kenai young inuit warrior disturb spirit kill bear punishment turn leave wander wilderness luckily encounter young cub koda think know exact spot kenai restore humanity help quest human brother denahi think kenai kill bear chase new form lethal i...</td>\n",
       "    </tr>\n",
       "    <tr>\n",
       "      <th>4</th>\n",
       "      <td>10012</td>\n",
       "      <td>628159c8caa50850dcf93d33</td>\n",
       "      <td>5.0</td>\n",
       "      <td>Seems like an apt title for everything that happened behind the scenes. If not for Justice League (which cost $250M+), this might be the poster child of what happens when a studio messes around with a project. Honestly I really hope one day we ge...</td>\n",
       "      <td>2022-05-15 19:51:36.244000+00:00</td>\n",
       "      <td>Seems like an apt title for everything that happened behind the scenes. If not for Justice League (which cost $250M+), this might be the poster child of what happens when a studio messes around with a project. Honestly I really hope one day we ge...</td>\n",
       "      <td>[seems, like, an, apt, title, for, everything, that, happened, behind, the, scenes, if, not, for, justice, league, which, cost, $, 250m+, this, might, be, the, poster, child, of, what, happens, when, a, studio, messes, around, with, a, project, h...</td>\n",
       "      <td>[like, apt, title, happened, scenes, justice, league, cost, $, 250m+, poster, child, happens, studio, messes, project, honestly, hope, day, documentary, footage, cuts, actors, removed, movie, surprising, watchable, hardly, good, 2.5/5]</td>\n",
       "      <td>[like, apt, title, happen, scene, justice, league, cost, $, 250m+, poster, child, happen, studio, mess, project, honestly, hope, day, documentary, footage, cut, actor, remove, movie, surprising, watchable, hardly, good, 2.5/5]</td>\n",
       "      <td>seems like an apt title for everything that happened behind the scenes if not for justice league which cost $ 250m+ this might be the poster child of what happens when a studio messes around with a project honestly i really hope one day we get a ...</td>\n",
       "      <td>like apt title happened scenes justice league cost $ 250m+ poster child happens studio messes project honestly hope day documentary footage cuts actors removed movie surprising watchable hardly good 2.5/5</td>\n",
       "      <td>like apt title happen scene justice league cost $ 250m+ poster child happen studio mess project honestly hope day documentary footage cut actor remove movie surprising watchable hardly good 2.5/5</td>\n",
       "    </tr>\n",
       "  </tbody>\n",
       "</table>\n",
       "</div>"
      ],
      "text/plain": [
       "   movie_id                 review_id  rating  \\\n",
       "0    100042  64a3999fe9da6900c763aa8d     7.0   \n",
       "1     10008  643d44864d67910469d853a2     5.0   \n",
       "2     10009  5f22bd2b43999b00355b26a6     7.0   \n",
       "3     10009  6592736214956560f7da631f     7.0   \n",
       "4     10012  628159c8caa50850dcf93d33     5.0   \n",
       "\n",
       "                                                                                                                                                                                                                                                 review_text  \\\n",
       "0                                                                                                                                                 Better then the original I think. Was pretty funny. I thought the comedy was better then the original too.   \n",
       "1                                                                                                                                                                     Kind of boring. It's a good plot and storyline. Nothing really to keep you interested.   \n",
       "2  Heartwarming, if not as impactful as it intends to be.\\r\\n\\r\\n'Brother Bear' leaves heartfelt feelings and features a cute story. It does get a bit too melancholic in moments where it doesn't need to be or where it's not set up perfectly. It can ...   \n",
       "3  \"Kenai\" is a young Inuit warrior who disturbs the spirits when he kills a bear. His punishment is to be turned into one himself, and be left to wander the wilderness alone. Luckily, he encounters the young cub \"Koda\" who thinks he might know the ...   \n",
       "4  Seems like an apt title for everything that happened behind the scenes. If not for Justice League (which cost $250M+), this might be the poster child of what happens when a studio messes around with a project. Honestly I really hope one day we ge...   \n",
       "\n",
       "                         created_at  \\\n",
       "0  2023-07-04 04:01:35.517000+00:00   \n",
       "1  2023-04-17 13:07:18.832000+00:00   \n",
       "2  2020-07-30 12:29:31.310000+00:00   \n",
       "3  2024-01-01 08:10:10.033000+00:00   \n",
       "4  2022-05-15 19:51:36.244000+00:00   \n",
       "\n",
       "                                                                                                                                                                                                                                             review_text_raw  \\\n",
       "0                                                                                                                                                 Better then the original I think. Was pretty funny. I thought the comedy was better then the original too.   \n",
       "1                                                                                                                                                                     Kind of boring. It's a good plot and storyline. Nothing really to keep you interested.   \n",
       "2  Heartwarming, if not as impactful as it intends to be.\\r\\n\\r\\n<em>'Brother Bear'</em> leaves heartfelt feelings and features a cute story. It does get a bit too melancholic in moments where it doesn't need to be or where it's not set up perfectly...   \n",
       "3  \"Kenai\" is a young Inuit warrior who disturbs the spirits when he kills a bear. His punishment is to be turned into one himself, and be left to wander the wilderness alone. Luckily, he encounters the young cub \"Koda\" who thinks he might know the ...   \n",
       "4  Seems like an apt title for everything that happened behind the scenes. If not for Justice League (which cost $250M+), this might be the poster child of what happens when a studio messes around with a project. Honestly I really hope one day we ge...   \n",
       "\n",
       "                                                                                                                                                                                                                                                tokens-dirty  \\\n",
       "0                                                                                                                                [better, then, the, original, i, think, was, pretty, funny, i, thought, the, comedy, was, better, then, the, original, too]   \n",
       "1                                                                                                                                                      [kind, of, boring, it, 's, a, good, plot, and, storyline, nothing, really, to, keep, you, interested]   \n",
       "2  [heartwarming, if, not, as, impactful, as, it, intends, to, be, brother, bear, leaves, heartfelt, feelings, and, features, a, cute, story, it, does, get, a, bit, too, melancholic, in, moments, where, it, does, n't, need, to, be, or, where, it, 's...   \n",
       "3  [kenai, is, a, young, inuit, warrior, who, disturbs, the, spirits, when, he, kills, a, bear, his, punishment, is, to, be, turned, into, one, himself, and, be, left, to, wander, the, wilderness, alone, luckily, he, encounters, the, young, cub, kod...   \n",
       "4  [seems, like, an, apt, title, for, everything, that, happened, behind, the, scenes, if, not, for, justice, league, which, cost, $, 250m+, this, might, be, the, poster, child, of, what, happens, when, a, studio, messes, around, with, a, project, h...   \n",
       "\n",
       "                                                                                                                                                                                                                                                      tokens  \\\n",
       "0                                                                                                                                                                                [better, original, think, pretty, funny, thought, comedy, better, original]   \n",
       "1                                                                                                                                                                                                          [kind, boring, good, plot, storyline, interested]   \n",
       "2  [heartwarming, impactful, intends, brother, bear, leaves, heartfelt, feelings, features, cute, story, bit, melancholic, moments, need, set, perfectly, feel, little, predictable, twist, decent, animation, wise, fine, early, aspect, ratio, stuff, o...   \n",
       "3  [kenai, young, inuit, warrior, disturbs, spirits, kills, bear, punishment, turned, left, wander, wilderness, luckily, encounters, young, cub, koda, thinks, know, exact, spot, kenai, restored, humanity, help, quest, human, brother, denahi, thinks,...   \n",
       "4                [like, apt, title, happened, scenes, justice, league, cost, $, 250m+, poster, child, happens, studio, messes, project, honestly, hope, day, documentary, footage, cuts, actors, removed, movie, surprising, watchable, hardly, good, 2.5/5]   \n",
       "\n",
       "                                                                                                                                                                                                                                                      lemmas  \\\n",
       "0                                                                                                                                                                                      [well, original, think, pretty, funny, think, comedy, well, original]   \n",
       "1                                                                                                                                                                                                          [kind, boring, good, plot, storyline, interested]   \n",
       "2  [heartwarme, impactful, intend, brother, bear, leave, heartfelt, feeling, feature, cute, story, bit, melancholic, moment, need, set, perfectly, feel, little, predictable, twist, decent, animation, wise, fine, early, aspect, ratio, stuff, oddly, v...   \n",
       "3  [kenai, young, inuit, warrior, disturb, spirit, kill, bear, punishment, turn, leave, wander, wilderness, luckily, encounter, young, cub, koda, think, know, exact, spot, kenai, restore, humanity, help, quest, human, brother, denahi, think, kenai, ...   \n",
       "4                         [like, apt, title, happen, scene, justice, league, cost, $, 250m+, poster, child, happen, studio, mess, project, honestly, hope, day, documentary, footage, cut, actor, remove, movie, surprising, watchable, hardly, good, 2.5/5]   \n",
       "\n",
       "                                                                                                                                                                                                                                         tokens-dirty-joined  \\\n",
       "0                                                                                                                                                    better then the original i think was pretty funny i thought the comedy was better then the original too   \n",
       "1                                                                                                                                                                       kind of boring it 's a good plot and storyline nothing really to keep you interested   \n",
       "2  heartwarming if not as impactful as it intends to be brother bear leaves heartfelt feelings and features a cute story it does get a bit too melancholic in moments where it does n't need to be or where it 's not set up perfectly it can also feel a...   \n",
       "3  kenai is a young inuit warrior who disturbs the spirits when he kills a bear his punishment is to be turned into one himself and be left to wander the wilderness alone luckily he encounters the young cub koda who thinks he might know the exact sp...   \n",
       "4  seems like an apt title for everything that happened behind the scenes if not for justice league which cost $ 250m+ this might be the poster child of what happens when a studio messes around with a project honestly i really hope one day we get a ...   \n",
       "\n",
       "                                                                                                                                                                                                                                               tokens-joined  \\\n",
       "0                                                                                                                                                                                          better original think pretty funny thought comedy better original   \n",
       "1                                                                                                                                                                                                                 kind boring good plot storyline interested   \n",
       "2  heartwarming impactful intends brother bear leaves heartfelt feelings features cute story bit melancholic moments need set perfectly feel little predictable twist decent animation wise fine early aspect ratio stuff oddly voice cast amazing despit...   \n",
       "3  kenai young inuit warrior disturbs spirits kills bear punishment turned left wander wilderness luckily encounters young cub koda thinks know exact spot kenai restored humanity help quest human brother denahi thinks kenai killed bear chasing new f...   \n",
       "4                                               like apt title happened scenes justice league cost $ 250m+ poster child happens studio messes project honestly hope day documentary footage cuts actors removed movie surprising watchable hardly good 2.5/5   \n",
       "\n",
       "                                                                                                                                                                                                                                               lemmas-joined  \n",
       "0                                                                                                                                                                                                well original think pretty funny think comedy well original  \n",
       "1                                                                                                                                                                                                                 kind boring good plot storyline interested  \n",
       "2  heartwarme impactful intend brother bear leave heartfelt feeling feature cute story bit melancholic moment need set perfectly feel little predictable twist decent animation wise fine early aspect ratio stuff oddly voice cast amazing despite talen...  \n",
       "3  kenai young inuit warrior disturb spirit kill bear punishment turn leave wander wilderness luckily encounter young cub koda think know exact spot kenai restore humanity help quest human brother denahi think kenai kill bear chase new form lethal i...  \n",
       "4                                                        like apt title happen scene justice league cost $ 250m+ poster child happen studio mess project honestly hope day documentary footage cut actor remove movie surprising watchable hardly good 2.5/5  "
      ]
     },
     "execution_count": 68,
     "metadata": {},
     "output_type": "execute_result"
    }
   ],
   "source": [
    "%%time\n",
    "print(f\"- Running full spacy preprocessing code (this will take several minutes).\")\n",
    "df = df.copy()\n",
    "df[\"tokens-dirty\"] = ds.nlp.batch_preprocess_texts(\n",
    "    df[\"review_text\"],\n",
    "    remove_stopwords=False,\n",
    "    remove_punct=True,\n",
    "    use_lemmas=False,\n",
    "    nlp=nlp_custom,\n",
    ")\n",
    "df[\"tokens\"] = ds.nlp.batch_preprocess_texts(\n",
    "    df[\"review_text\"],\n",
    "    remove_stopwords=True,\n",
    "    remove_punct=True,\n",
    "    use_lemmas=False,\n",
    "    nlp=nlp_custom,\n",
    ")\n",
    "df[\"lemmas\"] = ds.nlp.batch_preprocess_texts(\n",
    "    df[\"review_text\"],\n",
    "    remove_stopwords=True,\n",
    "    remove_punct=True,\n",
    "    use_lemmas=True,\n",
    "    nlp=nlp_custom,\n",
    ")\n",
    "\n",
    "## Make string versions of processed text\n",
    "df[\"tokens-dirty-joined\"] = df[\"tokens-dirty\"].map(lambda x: \" \".join(x))\n",
    "df[\"tokens-joined\"] = df[\"tokens\"].map(lambda x: \" \".join(x))\n",
    "df[\"lemmas-joined\"] = df[\"lemmas\"].map(lambda x: \" \".join(x))\n",
    "\n",
    "df.head()"
   ]
  },
  {
   "cell_type": "markdown",
   "id": "bb964287-77d1-4dc0-a58f-7a02d861197a",
   "metadata": {},
   "source": [
    "## Save Preprocessed Reviews"
   ]
  },
  {
   "cell_type": "markdown",
   "id": "c0e15a9c-9b9b-4cc6-96d2-73b05eabfa71",
   "metadata": {},
   "source": [
    "### Saving a JSON file"
   ]
  },
  {
   "cell_type": "code",
   "execution_count": 69,
   "id": "0ab139d9-e47d-4369-b956-800fa9cb7c89",
   "metadata": {
    "execution": {
     "iopub.execute_input": "2024-01-23T05:17:32.970769Z",
     "iopub.status.busy": "2024-01-23T05:17:32.970629Z",
     "iopub.status.idle": "2024-01-23T05:17:33.022962Z",
     "shell.execute_reply": "2024-01-23T05:17:33.022589Z",
     "shell.execute_reply.started": "2024-01-23T05:17:32.970757Z"
    }
   },
   "outputs": [],
   "source": [
    "# df = df.set_index(\"review_id\")#, errors='ignore')\n",
    "# df"
   ]
  },
  {
   "cell_type": "code",
   "execution_count": 70,
   "id": "6b61bd7b-77dd-4ff9-88fb-57c0ef01be5b",
   "metadata": {
    "execution": {
     "iopub.execute_input": "2024-01-23T05:17:33.023814Z",
     "iopub.status.busy": "2024-01-23T05:17:33.023667Z",
     "iopub.status.idle": "2024-01-23T05:17:33.068961Z",
     "shell.execute_reply": "2024-01-23T05:17:33.068339Z",
     "shell.execute_reply.started": "2024-01-23T05:17:33.023806Z"
    }
   },
   "outputs": [
    {
     "data": {
      "text/html": [
       "<div>\n",
       "<style scoped>\n",
       "    .dataframe tbody tr th:only-of-type {\n",
       "        vertical-align: middle;\n",
       "    }\n",
       "\n",
       "    .dataframe tbody tr th {\n",
       "        vertical-align: top;\n",
       "    }\n",
       "\n",
       "    .dataframe thead th {\n",
       "        text-align: right;\n",
       "    }\n",
       "</style>\n",
       "<table border=\"1\" class=\"dataframe\">\n",
       "  <thead>\n",
       "    <tr style=\"text-align: right;\">\n",
       "      <th></th>\n",
       "      <th>movie_id</th>\n",
       "      <th>review_id</th>\n",
       "      <th>rating</th>\n",
       "      <th>review_text</th>\n",
       "      <th>created_at</th>\n",
       "      <th>review_text_raw</th>\n",
       "      <th>tokens-dirty</th>\n",
       "      <th>tokens</th>\n",
       "      <th>lemmas</th>\n",
       "      <th>tokens-dirty-joined</th>\n",
       "      <th>tokens-joined</th>\n",
       "      <th>lemmas-joined</th>\n",
       "    </tr>\n",
       "  </thead>\n",
       "  <tbody>\n",
       "    <tr>\n",
       "      <th>0</th>\n",
       "      <td>100042</td>\n",
       "      <td>64a3999fe9da6900c763aa8d</td>\n",
       "      <td>7.0</td>\n",
       "      <td>Better then the original I think. Was pretty funny. I thought the comedy was better then the original too.</td>\n",
       "      <td>2023-07-04 04:01:35.517000+00:00</td>\n",
       "      <td>Better then the original I think. Was pretty funny. I thought the comedy was better then the original too.</td>\n",
       "      <td>[better, then, the, original, i, think, was, pretty, funny, i, thought, the, comedy, was, better, then, the, original, too]</td>\n",
       "      <td>[better, original, think, pretty, funny, thought, comedy, better, original]</td>\n",
       "      <td>[well, original, think, pretty, funny, think, comedy, well, original]</td>\n",
       "      <td>better then the original i think was pretty funny i thought the comedy was better then the original too</td>\n",
       "      <td>better original think pretty funny thought comedy better original</td>\n",
       "      <td>well original think pretty funny think comedy well original</td>\n",
       "    </tr>\n",
       "    <tr>\n",
       "      <th>1</th>\n",
       "      <td>10008</td>\n",
       "      <td>643d44864d67910469d853a2</td>\n",
       "      <td>5.0</td>\n",
       "      <td>Kind of boring. It's a good plot and storyline. Nothing really to keep you interested.</td>\n",
       "      <td>2023-04-17 13:07:18.832000+00:00</td>\n",
       "      <td>Kind of boring. It's a good plot and storyline. Nothing really to keep you interested.</td>\n",
       "      <td>[kind, of, boring, it, 's, a, good, plot, and, storyline, nothing, really, to, keep, you, interested]</td>\n",
       "      <td>[kind, boring, good, plot, storyline, interested]</td>\n",
       "      <td>[kind, boring, good, plot, storyline, interested]</td>\n",
       "      <td>kind of boring it 's a good plot and storyline nothing really to keep you interested</td>\n",
       "      <td>kind boring good plot storyline interested</td>\n",
       "      <td>kind boring good plot storyline interested</td>\n",
       "    </tr>\n",
       "    <tr>\n",
       "      <th>2</th>\n",
       "      <td>10009</td>\n",
       "      <td>5f22bd2b43999b00355b26a6</td>\n",
       "      <td>7.0</td>\n",
       "      <td>Heartwarming, if not as impactful as it intends to be.\\r\\n\\r\\n'Brother Bear' leaves heartfelt feelings and features a cute story. It does get a bit too melancholic in moments where it doesn't need to be or where it's not set up perfectly. It can ...</td>\n",
       "      <td>2020-07-30 12:29:31.310000+00:00</td>\n",
       "      <td>Heartwarming, if not as impactful as it intends to be.\\r\\n\\r\\n&lt;em&gt;'Brother Bear'&lt;/em&gt; leaves heartfelt feelings and features a cute story. It does get a bit too melancholic in moments where it doesn't need to be or where it's not set up perfectly...</td>\n",
       "      <td>[heartwarming, if, not, as, impactful, as, it, intends, to, be, brother, bear, leaves, heartfelt, feelings, and, features, a, cute, story, it, does, get, a, bit, too, melancholic, in, moments, where, it, does, n't, need, to, be, or, where, it, 's...</td>\n",
       "      <td>[heartwarming, impactful, intends, brother, bear, leaves, heartfelt, feelings, features, cute, story, bit, melancholic, moments, need, set, perfectly, feel, little, predictable, twist, decent, animation, wise, fine, early, aspect, ratio, stuff, o...</td>\n",
       "      <td>[heartwarme, impactful, intend, brother, bear, leave, heartfelt, feeling, feature, cute, story, bit, melancholic, moment, need, set, perfectly, feel, little, predictable, twist, decent, animation, wise, fine, early, aspect, ratio, stuff, oddly, v...</td>\n",
       "      <td>heartwarming if not as impactful as it intends to be brother bear leaves heartfelt feelings and features a cute story it does get a bit too melancholic in moments where it does n't need to be or where it 's not set up perfectly it can also feel a...</td>\n",
       "      <td>heartwarming impactful intends brother bear leaves heartfelt feelings features cute story bit melancholic moments need set perfectly feel little predictable twist decent animation wise fine early aspect ratio stuff oddly voice cast amazing despit...</td>\n",
       "      <td>heartwarme impactful intend brother bear leave heartfelt feeling feature cute story bit melancholic moment need set perfectly feel little predictable twist decent animation wise fine early aspect ratio stuff oddly voice cast amazing despite talen...</td>\n",
       "    </tr>\n",
       "    <tr>\n",
       "      <th>3</th>\n",
       "      <td>10009</td>\n",
       "      <td>6592736214956560f7da631f</td>\n",
       "      <td>7.0</td>\n",
       "      <td>\"Kenai\" is a young Inuit warrior who disturbs the spirits when he kills a bear. His punishment is to be turned into one himself, and be left to wander the wilderness alone. Luckily, he encounters the young cub \"Koda\" who thinks he might know the ...</td>\n",
       "      <td>2024-01-01 08:10:10.033000+00:00</td>\n",
       "      <td>\"Kenai\" is a young Inuit warrior who disturbs the spirits when he kills a bear. His punishment is to be turned into one himself, and be left to wander the wilderness alone. Luckily, he encounters the young cub \"Koda\" who thinks he might know the ...</td>\n",
       "      <td>[kenai, is, a, young, inuit, warrior, who, disturbs, the, spirits, when, he, kills, a, bear, his, punishment, is, to, be, turned, into, one, himself, and, be, left, to, wander, the, wilderness, alone, luckily, he, encounters, the, young, cub, kod...</td>\n",
       "      <td>[kenai, young, inuit, warrior, disturbs, spirits, kills, bear, punishment, turned, left, wander, wilderness, luckily, encounters, young, cub, koda, thinks, know, exact, spot, kenai, restored, humanity, help, quest, human, brother, denahi, thinks,...</td>\n",
       "      <td>[kenai, young, inuit, warrior, disturb, spirit, kill, bear, punishment, turn, leave, wander, wilderness, luckily, encounter, young, cub, koda, think, know, exact, spot, kenai, restore, humanity, help, quest, human, brother, denahi, think, kenai, ...</td>\n",
       "      <td>kenai is a young inuit warrior who disturbs the spirits when he kills a bear his punishment is to be turned into one himself and be left to wander the wilderness alone luckily he encounters the young cub koda who thinks he might know the exact sp...</td>\n",
       "      <td>kenai young inuit warrior disturbs spirits kills bear punishment turned left wander wilderness luckily encounters young cub koda thinks know exact spot kenai restored humanity help quest human brother denahi thinks kenai killed bear chasing new f...</td>\n",
       "      <td>kenai young inuit warrior disturb spirit kill bear punishment turn leave wander wilderness luckily encounter young cub koda think know exact spot kenai restore humanity help quest human brother denahi think kenai kill bear chase new form lethal i...</td>\n",
       "    </tr>\n",
       "    <tr>\n",
       "      <th>4</th>\n",
       "      <td>10012</td>\n",
       "      <td>628159c8caa50850dcf93d33</td>\n",
       "      <td>5.0</td>\n",
       "      <td>Seems like an apt title for everything that happened behind the scenes. If not for Justice League (which cost $250M+), this might be the poster child of what happens when a studio messes around with a project. Honestly I really hope one day we ge...</td>\n",
       "      <td>2022-05-15 19:51:36.244000+00:00</td>\n",
       "      <td>Seems like an apt title for everything that happened behind the scenes. If not for Justice League (which cost $250M+), this might be the poster child of what happens when a studio messes around with a project. Honestly I really hope one day we ge...</td>\n",
       "      <td>[seems, like, an, apt, title, for, everything, that, happened, behind, the, scenes, if, not, for, justice, league, which, cost, $, 250m+, this, might, be, the, poster, child, of, what, happens, when, a, studio, messes, around, with, a, project, h...</td>\n",
       "      <td>[like, apt, title, happened, scenes, justice, league, cost, $, 250m+, poster, child, happens, studio, messes, project, honestly, hope, day, documentary, footage, cuts, actors, removed, movie, surprising, watchable, hardly, good, 2.5/5]</td>\n",
       "      <td>[like, apt, title, happen, scene, justice, league, cost, $, 250m+, poster, child, happen, studio, mess, project, honestly, hope, day, documentary, footage, cut, actor, remove, movie, surprising, watchable, hardly, good, 2.5/5]</td>\n",
       "      <td>seems like an apt title for everything that happened behind the scenes if not for justice league which cost $ 250m+ this might be the poster child of what happens when a studio messes around with a project honestly i really hope one day we get a ...</td>\n",
       "      <td>like apt title happened scenes justice league cost $ 250m+ poster child happens studio messes project honestly hope day documentary footage cuts actors removed movie surprising watchable hardly good 2.5/5</td>\n",
       "      <td>like apt title happen scene justice league cost $ 250m+ poster child happen studio mess project honestly hope day documentary footage cut actor remove movie surprising watchable hardly good 2.5/5</td>\n",
       "    </tr>\n",
       "    <tr>\n",
       "      <th>...</th>\n",
       "      <td>...</td>\n",
       "      <td>...</td>\n",
       "      <td>...</td>\n",
       "      <td>...</td>\n",
       "      <td>...</td>\n",
       "      <td>...</td>\n",
       "      <td>...</td>\n",
       "      <td>...</td>\n",
       "      <td>...</td>\n",
       "      <td>...</td>\n",
       "      <td>...</td>\n",
       "      <td>...</td>\n",
       "    </tr>\n",
       "    <tr>\n",
       "      <th>8960</th>\n",
       "      <td>99861</td>\n",
       "      <td>5e20dedc397df000129666b8</td>\n",
       "      <td>NaN</td>\n",
       "      <td>It's just what I feared. Marvel has gotten so caught up in making sure that each character gets some action time that there's no room now for character development. They need to tone it down a bit.</td>\n",
       "      <td>2020-01-16 22:08:28.630000+00:00</td>\n",
       "      <td>It's just what I feared. Marvel has gotten so caught up in making sure that each character gets some action time that there's no room now for character development. They need to tone it down a bit.</td>\n",
       "      <td>[it, 's, just, what, i, feared, marvel, has, gotten, so, caught, up, in, making, sure, that, each, character, gets, some, action, time, that, there, 's, no, room, now, for, character, development, they, need, to, tone, it, down, a, bit]</td>\n",
       "      <td>[feared, marvel, gotten, caught, making, sure, character, gets, action, time, room, character, development, need, tone, bit]</td>\n",
       "      <td>[fear, marvel, get, catch, make, sure, character, get, action, time, room, character, development, need, tone, bit]</td>\n",
       "      <td>it 's just what i feared marvel has gotten so caught up in making sure that each character gets some action time that there 's no room now for character development they need to tone it down a bit</td>\n",
       "      <td>feared marvel gotten caught making sure character gets action time room character development need tone bit</td>\n",
       "      <td>fear marvel get catch make sure character get action time room character development need tone bit</td>\n",
       "    </tr>\n",
       "    <tr>\n",
       "      <th>8961</th>\n",
       "      <td>99861</td>\n",
       "      <td>5ef819bba284eb00398dc810</td>\n",
       "      <td>7.0</td>\n",
       "      <td>Third viewing of this and while not the strongest within the MCU, or of the other Avenger movies, still has some good parts (introduction to Elizabeth Olsen's Scarlet Witch and Paul Bettany's Vision; further setting into motion the infinity stone...</td>\n",
       "      <td>2020-06-28 04:16:59.341000+00:00</td>\n",
       "      <td>Third viewing of this and while not the strongest within the MCU, or of the other Avenger movies, still has some good parts (introduction to Elizabeth Olsen's Scarlet Witch and Paul Bettany's Vision; further setting into motion the infinity stone...</td>\n",
       "      <td>[third, viewing, of, this, and, while, not, the, strongest, within, the, mcu, or, of, the, other, avenger, movies, still, has, some, good, parts, introduction, to, elizabeth, olsen, 's, scarlet, witch, and, paul, bettany, 's, vision, further, set...</td>\n",
       "      <td>[viewing, strongest, mcu, avenger, movies, good, parts, introduction, elizabeth, olsen, scarlet, witch, paul, bettany, vision, setting, motion, infinity, stones, new, avengers, etc, plot, felt, messy, times, found, entertaining, especially, seein...</td>\n",
       "      <td>[viewing, strong, mcu, avenger, movie, good, part, introduction, elizabeth, olsen, scarlet, witch, paul, bettany, vision, set, motion, infinity, stone, new, avengers, etc, plot, feel, messy, time, find, entertain, especially, see, mcu, go, 3.5/5]</td>\n",
       "      <td>third viewing of this and while not the strongest within the mcu or of the other avenger movies still has some good parts introduction to elizabeth olsen 's scarlet witch and paul bettany 's vision further setting into motion the infinity stones ...</td>\n",
       "      <td>viewing strongest mcu avenger movies good parts introduction elizabeth olsen scarlet witch paul bettany vision setting motion infinity stones new avengers etc plot felt messy times found entertaining especially seeing mcu going 3.5/5</td>\n",
       "      <td>viewing strong mcu avenger movie good part introduction elizabeth olsen scarlet witch paul bettany vision set motion infinity stone new avengers etc plot feel messy time find entertain especially see mcu go 3.5/5</td>\n",
       "    </tr>\n",
       "    <tr>\n",
       "      <th>8962</th>\n",
       "      <td>99861</td>\n",
       "      <td>600616349a358d0040c2ecad</td>\n",
       "      <td>7.0</td>\n",
       "      <td>Cool seeing them all together again, even if I didn't massively enjoy it. It's good, nothing more or less in my opinion.\\r\\n\\r\\n'Avengers: Age of Ultron' isn't too far off 2012's 'The Avengers', especially in terms of how I fell about it. I defin...</td>\n",
       "      <td>2021-01-18 23:13:56.078000+00:00</td>\n",
       "      <td>Cool seeing them all together again, even if I didn't massively enjoy it. It's good, nothing more or less in my opinion.\\r\\n\\r\\n&lt;em&gt;'Avengers: Age of Ultron'&lt;/em&gt; isn't too far off 2012's &lt;em&gt;'The Avengers'&lt;/em&gt;, especially in terms of how I fell...</td>\n",
       "      <td>[cool, seeing, them, all, together, again, even, if, i, did, n't, massively, enjoy, it, it, 's, good, nothing, more, or, less, in, my, opinion, avengers, age, of, ultron, is, n't, too, far, off, 2012, 's, the, avengers, especially, in, terms, of,...</td>\n",
       "      <td>[cool, seeing, massively, enjoy, good, opinion, avengers, age, ultron, far, 2012, avengers, especially, terms, fell, definitely, wanted, satisfying, superhero, action, flicks, rank, narrowly, aforementioned, robert, downey, jr., felt, little, fla...</td>\n",
       "      <td>[cool, see, massively, enjoy, good, opinion, avenger, age, ultron, far, 2012, avengers, especially, term, fall, definitely, want, satisfy, superhero, action, flick, rank, narrowly, aforementione, robert, downey, jr., feel, little, flat, iron, man...</td>\n",
       "      <td>cool seeing them all together again even if i did n't massively enjoy it it 's good nothing more or less in my opinion avengers age of ultron is n't too far off 2012 's the avengers especially in terms of how i fell about it i definitely wanted m...</td>\n",
       "      <td>cool seeing massively enjoy good opinion avengers age ultron far 2012 avengers especially terms fell definitely wanted satisfying superhero action flicks rank narrowly aforementioned robert downey jr. felt little flat iron man decent moments indi...</td>\n",
       "      <td>cool see massively enjoy good opinion avenger age ultron far 2012 avengers especially term fall definitely want satisfy superhero action flick rank narrowly aforementione robert downey jr. feel little flat iron man decent moment individual film c...</td>\n",
       "    </tr>\n",
       "    <tr>\n",
       "      <th>8963</th>\n",
       "      <td>9988</td>\n",
       "      <td>5a6940bc9251414a2e009179</td>\n",
       "      <td>5.0</td>\n",
       "      <td>Not one of Broken Lizard's strongest entries, but perhaps classic viewing for those in the state that it's characters are: Drunk.\\r\\n\\r\\n_Final rating:★★½ - Not quite for me, but I definitely get the appeal._</td>\n",
       "      <td>2018-01-25 02:28:12.494000+00:00</td>\n",
       "      <td>Not one of Broken Lizard's strongest entries, but perhaps classic viewing for those in the state that it's characters are: Drunk.\\r\\n\\r\\n_Final rating:★★½ - Not quite for me, but I definitely get the appeal._</td>\n",
       "      <td>[not, one, of, broken, lizard, 's, strongest, entries, but, perhaps, classic, viewing, for, those, in, the, state, that, it, 's, characters, are, drunk, final, rating:, ★, ★, ½, not, quite, for, me, but, i, definitely, get, the, appeal]</td>\n",
       "      <td>[broken, lizard, strongest, entries, classic, viewing, state, characters, drunk, final, rating:, ½, definitely, appeal]</td>\n",
       "      <td>[broken, lizard, strong, entry, classic, viewing, state, character, drunk, final, rating:, ½, definitely, appeal]</td>\n",
       "      <td>not one of broken lizard 's strongest entries but perhaps classic viewing for those in the state that it 's characters are drunk final rating: ★ ★ ½ not quite for me but i definitely get the appeal</td>\n",
       "      <td>broken lizard strongest entries classic viewing state characters drunk final rating: ½ definitely appeal</td>\n",
       "      <td>broken lizard strong entry classic viewing state character drunk final rating: ½ definitely appeal</td>\n",
       "    </tr>\n",
       "    <tr>\n",
       "      <th>8964</th>\n",
       "      <td>9988</td>\n",
       "      <td>6449359c2fdec602fca107cb</td>\n",
       "      <td>8.0</td>\n",
       "      <td>This was a awesome movie. I love these guys just as good as they were in super troopers. I would definitely like to try this in real life myself sometime. It would be sweet.</td>\n",
       "      <td>2023-04-26 14:30:52.951000+00:00</td>\n",
       "      <td>This was a awesome movie. I love these guys just as good as they were in super troopers. I would definitely like to try this in real life myself sometime. It would be sweet.</td>\n",
       "      <td>[this, was, a, awesome, movie, i, love, these, guys, just, as, good, as, they, were, in, super, troopers, i, would, definitely, like, to, try, this, in, real, life, myself, sometime, it, would, be, sweet]</td>\n",
       "      <td>[awesome, movie, love, guys, good, super, troopers, definitely, like, try, real, life, sweet]</td>\n",
       "      <td>[awesome, movie, love, guy, good, super, trooper, definitely, like, try, real, life, sweet]</td>\n",
       "      <td>this was a awesome movie i love these guys just as good as they were in super troopers i would definitely like to try this in real life myself sometime it would be sweet</td>\n",
       "      <td>awesome movie love guys good super troopers definitely like try real life sweet</td>\n",
       "      <td>awesome movie love guy good super trooper definitely like try real life sweet</td>\n",
       "    </tr>\n",
       "  </tbody>\n",
       "</table>\n",
       "<p>8965 rows × 12 columns</p>\n",
       "</div>"
      ],
      "text/plain": [
       "      movie_id                 review_id  rating  \\\n",
       "0       100042  64a3999fe9da6900c763aa8d     7.0   \n",
       "1        10008  643d44864d67910469d853a2     5.0   \n",
       "2        10009  5f22bd2b43999b00355b26a6     7.0   \n",
       "3        10009  6592736214956560f7da631f     7.0   \n",
       "4        10012  628159c8caa50850dcf93d33     5.0   \n",
       "...        ...                       ...     ...   \n",
       "8960     99861  5e20dedc397df000129666b8     NaN   \n",
       "8961     99861  5ef819bba284eb00398dc810     7.0   \n",
       "8962     99861  600616349a358d0040c2ecad     7.0   \n",
       "8963      9988  5a6940bc9251414a2e009179     5.0   \n",
       "8964      9988  6449359c2fdec602fca107cb     8.0   \n",
       "\n",
       "                                                                                                                                                                                                                                                    review_text  \\\n",
       "0                                                                                                                                                    Better then the original I think. Was pretty funny. I thought the comedy was better then the original too.   \n",
       "1                                                                                                                                                                        Kind of boring. It's a good plot and storyline. Nothing really to keep you interested.   \n",
       "2     Heartwarming, if not as impactful as it intends to be.\\r\\n\\r\\n'Brother Bear' leaves heartfelt feelings and features a cute story. It does get a bit too melancholic in moments where it doesn't need to be or where it's not set up perfectly. It can ...   \n",
       "3     \"Kenai\" is a young Inuit warrior who disturbs the spirits when he kills a bear. His punishment is to be turned into one himself, and be left to wander the wilderness alone. Luckily, he encounters the young cub \"Koda\" who thinks he might know the ...   \n",
       "4     Seems like an apt title for everything that happened behind the scenes. If not for Justice League (which cost $250M+), this might be the poster child of what happens when a studio messes around with a project. Honestly I really hope one day we ge...   \n",
       "...                                                                                                                                                                                                                                                         ...   \n",
       "8960                                                      It's just what I feared. Marvel has gotten so caught up in making sure that each character gets some action time that there's no room now for character development. They need to tone it down a bit.   \n",
       "8961  Third viewing of this and while not the strongest within the MCU, or of the other Avenger movies, still has some good parts (introduction to Elizabeth Olsen's Scarlet Witch and Paul Bettany's Vision; further setting into motion the infinity stone...   \n",
       "8962  Cool seeing them all together again, even if I didn't massively enjoy it. It's good, nothing more or less in my opinion.\\r\\n\\r\\n'Avengers: Age of Ultron' isn't too far off 2012's 'The Avengers', especially in terms of how I fell about it. I defin...   \n",
       "8963                                           Not one of Broken Lizard's strongest entries, but perhaps classic viewing for those in the state that it's characters are: Drunk.\\r\\n\\r\\n_Final rating:★★½ - Not quite for me, but I definitely get the appeal._   \n",
       "8964                                                                              This was a awesome movie. I love these guys just as good as they were in super troopers. I would definitely like to try this in real life myself sometime. It would be sweet.   \n",
       "\n",
       "                            created_at  \\\n",
       "0     2023-07-04 04:01:35.517000+00:00   \n",
       "1     2023-04-17 13:07:18.832000+00:00   \n",
       "2     2020-07-30 12:29:31.310000+00:00   \n",
       "3     2024-01-01 08:10:10.033000+00:00   \n",
       "4     2022-05-15 19:51:36.244000+00:00   \n",
       "...                                ...   \n",
       "8960  2020-01-16 22:08:28.630000+00:00   \n",
       "8961  2020-06-28 04:16:59.341000+00:00   \n",
       "8962  2021-01-18 23:13:56.078000+00:00   \n",
       "8963  2018-01-25 02:28:12.494000+00:00   \n",
       "8964  2023-04-26 14:30:52.951000+00:00   \n",
       "\n",
       "                                                                                                                                                                                                                                                review_text_raw  \\\n",
       "0                                                                                                                                                    Better then the original I think. Was pretty funny. I thought the comedy was better then the original too.   \n",
       "1                                                                                                                                                                        Kind of boring. It's a good plot and storyline. Nothing really to keep you interested.   \n",
       "2     Heartwarming, if not as impactful as it intends to be.\\r\\n\\r\\n<em>'Brother Bear'</em> leaves heartfelt feelings and features a cute story. It does get a bit too melancholic in moments where it doesn't need to be or where it's not set up perfectly...   \n",
       "3     \"Kenai\" is a young Inuit warrior who disturbs the spirits when he kills a bear. His punishment is to be turned into one himself, and be left to wander the wilderness alone. Luckily, he encounters the young cub \"Koda\" who thinks he might know the ...   \n",
       "4     Seems like an apt title for everything that happened behind the scenes. If not for Justice League (which cost $250M+), this might be the poster child of what happens when a studio messes around with a project. Honestly I really hope one day we ge...   \n",
       "...                                                                                                                                                                                                                                                         ...   \n",
       "8960                                                      It's just what I feared. Marvel has gotten so caught up in making sure that each character gets some action time that there's no room now for character development. They need to tone it down a bit.   \n",
       "8961  Third viewing of this and while not the strongest within the MCU, or of the other Avenger movies, still has some good parts (introduction to Elizabeth Olsen's Scarlet Witch and Paul Bettany's Vision; further setting into motion the infinity stone...   \n",
       "8962  Cool seeing them all together again, even if I didn't massively enjoy it. It's good, nothing more or less in my opinion.\\r\\n\\r\\n<em>'Avengers: Age of Ultron'</em> isn't too far off 2012's <em>'The Avengers'</em>, especially in terms of how I fell...   \n",
       "8963                                           Not one of Broken Lizard's strongest entries, but perhaps classic viewing for those in the state that it's characters are: Drunk.\\r\\n\\r\\n_Final rating:★★½ - Not quite for me, but I definitely get the appeal._   \n",
       "8964                                                                              This was a awesome movie. I love these guys just as good as they were in super troopers. I would definitely like to try this in real life myself sometime. It would be sweet.   \n",
       "\n",
       "                                                                                                                                                                                                                                                   tokens-dirty  \\\n",
       "0                                                                                                                                   [better, then, the, original, i, think, was, pretty, funny, i, thought, the, comedy, was, better, then, the, original, too]   \n",
       "1                                                                                                                                                         [kind, of, boring, it, 's, a, good, plot, and, storyline, nothing, really, to, keep, you, interested]   \n",
       "2     [heartwarming, if, not, as, impactful, as, it, intends, to, be, brother, bear, leaves, heartfelt, feelings, and, features, a, cute, story, it, does, get, a, bit, too, melancholic, in, moments, where, it, does, n't, need, to, be, or, where, it, 's...   \n",
       "3     [kenai, is, a, young, inuit, warrior, who, disturbs, the, spirits, when, he, kills, a, bear, his, punishment, is, to, be, turned, into, one, himself, and, be, left, to, wander, the, wilderness, alone, luckily, he, encounters, the, young, cub, kod...   \n",
       "4     [seems, like, an, apt, title, for, everything, that, happened, behind, the, scenes, if, not, for, justice, league, which, cost, $, 250m+, this, might, be, the, poster, child, of, what, happens, when, a, studio, messes, around, with, a, project, h...   \n",
       "...                                                                                                                                                                                                                                                         ...   \n",
       "8960               [it, 's, just, what, i, feared, marvel, has, gotten, so, caught, up, in, making, sure, that, each, character, gets, some, action, time, that, there, 's, no, room, now, for, character, development, they, need, to, tone, it, down, a, bit]   \n",
       "8961  [third, viewing, of, this, and, while, not, the, strongest, within, the, mcu, or, of, the, other, avenger, movies, still, has, some, good, parts, introduction, to, elizabeth, olsen, 's, scarlet, witch, and, paul, bettany, 's, vision, further, set...   \n",
       "8962  [cool, seeing, them, all, together, again, even, if, i, did, n't, massively, enjoy, it, it, 's, good, nothing, more, or, less, in, my, opinion, avengers, age, of, ultron, is, n't, too, far, off, 2012, 's, the, avengers, especially, in, terms, of,...   \n",
       "8963               [not, one, of, broken, lizard, 's, strongest, entries, but, perhaps, classic, viewing, for, those, in, the, state, that, it, 's, characters, are, drunk, final, rating:, ★, ★, ½, not, quite, for, me, but, i, definitely, get, the, appeal]   \n",
       "8964                                               [this, was, a, awesome, movie, i, love, these, guys, just, as, good, as, they, were, in, super, troopers, i, would, definitely, like, to, try, this, in, real, life, myself, sometime, it, would, be, sweet]   \n",
       "\n",
       "                                                                                                                                                                                                                                                         tokens  \\\n",
       "0                                                                                                                                                                                   [better, original, think, pretty, funny, thought, comedy, better, original]   \n",
       "1                                                                                                                                                                                                             [kind, boring, good, plot, storyline, interested]   \n",
       "2     [heartwarming, impactful, intends, brother, bear, leaves, heartfelt, feelings, features, cute, story, bit, melancholic, moments, need, set, perfectly, feel, little, predictable, twist, decent, animation, wise, fine, early, aspect, ratio, stuff, o...   \n",
       "3     [kenai, young, inuit, warrior, disturbs, spirits, kills, bear, punishment, turned, left, wander, wilderness, luckily, encounters, young, cub, koda, thinks, know, exact, spot, kenai, restored, humanity, help, quest, human, brother, denahi, thinks,...   \n",
       "4                   [like, apt, title, happened, scenes, justice, league, cost, $, 250m+, poster, child, happens, studio, messes, project, honestly, hope, day, documentary, footage, cuts, actors, removed, movie, surprising, watchable, hardly, good, 2.5/5]   \n",
       "...                                                                                                                                                                                                                                                         ...   \n",
       "8960                                                                                                                               [feared, marvel, gotten, caught, making, sure, character, gets, action, time, room, character, development, need, tone, bit]   \n",
       "8961  [viewing, strongest, mcu, avenger, movies, good, parts, introduction, elizabeth, olsen, scarlet, witch, paul, bettany, vision, setting, motion, infinity, stones, new, avengers, etc, plot, felt, messy, times, found, entertaining, especially, seein...   \n",
       "8962  [cool, seeing, massively, enjoy, good, opinion, avengers, age, ultron, far, 2012, avengers, especially, terms, fell, definitely, wanted, satisfying, superhero, action, flicks, rank, narrowly, aforementioned, robert, downey, jr., felt, little, fla...   \n",
       "8963                                                                                                                                    [broken, lizard, strongest, entries, classic, viewing, state, characters, drunk, final, rating:, ½, definitely, appeal]   \n",
       "8964                                                                                                                                                              [awesome, movie, love, guys, good, super, troopers, definitely, like, try, real, life, sweet]   \n",
       "\n",
       "                                                                                                                                                                                                                                                         lemmas  \\\n",
       "0                                                                                                                                                                                         [well, original, think, pretty, funny, think, comedy, well, original]   \n",
       "1                                                                                                                                                                                                             [kind, boring, good, plot, storyline, interested]   \n",
       "2     [heartwarme, impactful, intend, brother, bear, leave, heartfelt, feeling, feature, cute, story, bit, melancholic, moment, need, set, perfectly, feel, little, predictable, twist, decent, animation, wise, fine, early, aspect, ratio, stuff, oddly, v...   \n",
       "3     [kenai, young, inuit, warrior, disturb, spirit, kill, bear, punishment, turn, leave, wander, wilderness, luckily, encounter, young, cub, koda, think, know, exact, spot, kenai, restore, humanity, help, quest, human, brother, denahi, think, kenai, ...   \n",
       "4                            [like, apt, title, happen, scene, justice, league, cost, $, 250m+, poster, child, happen, studio, mess, project, honestly, hope, day, documentary, footage, cut, actor, remove, movie, surprising, watchable, hardly, good, 2.5/5]   \n",
       "...                                                                                                                                                                                                                                                         ...   \n",
       "8960                                                                                                                                        [fear, marvel, get, catch, make, sure, character, get, action, time, room, character, development, need, tone, bit]   \n",
       "8961     [viewing, strong, mcu, avenger, movie, good, part, introduction, elizabeth, olsen, scarlet, witch, paul, bettany, vision, set, motion, infinity, stone, new, avengers, etc, plot, feel, messy, time, find, entertain, especially, see, mcu, go, 3.5/5]   \n",
       "8962  [cool, see, massively, enjoy, good, opinion, avenger, age, ultron, far, 2012, avengers, especially, term, fall, definitely, want, satisfy, superhero, action, flick, rank, narrowly, aforementione, robert, downey, jr., feel, little, flat, iron, man...   \n",
       "8963                                                                                                                                          [broken, lizard, strong, entry, classic, viewing, state, character, drunk, final, rating:, ½, definitely, appeal]   \n",
       "8964                                                                                                                                                                [awesome, movie, love, guy, good, super, trooper, definitely, like, try, real, life, sweet]   \n",
       "\n",
       "                                                                                                                                                                                                                                            tokens-dirty-joined  \\\n",
       "0                                                                                                                                                       better then the original i think was pretty funny i thought the comedy was better then the original too   \n",
       "1                                                                                                                                                                          kind of boring it 's a good plot and storyline nothing really to keep you interested   \n",
       "2     heartwarming if not as impactful as it intends to be brother bear leaves heartfelt feelings and features a cute story it does get a bit too melancholic in moments where it does n't need to be or where it 's not set up perfectly it can also feel a...   \n",
       "3     kenai is a young inuit warrior who disturbs the spirits when he kills a bear his punishment is to be turned into one himself and be left to wander the wilderness alone luckily he encounters the young cub koda who thinks he might know the exact sp...   \n",
       "4     seems like an apt title for everything that happened behind the scenes if not for justice league which cost $ 250m+ this might be the poster child of what happens when a studio messes around with a project honestly i really hope one day we get a ...   \n",
       "...                                                                                                                                                                                                                                                         ...   \n",
       "8960                                                       it 's just what i feared marvel has gotten so caught up in making sure that each character gets some action time that there 's no room now for character development they need to tone it down a bit   \n",
       "8961  third viewing of this and while not the strongest within the mcu or of the other avenger movies still has some good parts introduction to elizabeth olsen 's scarlet witch and paul bettany 's vision further setting into motion the infinity stones ...   \n",
       "8962  cool seeing them all together again even if i did n't massively enjoy it it 's good nothing more or less in my opinion avengers age of ultron is n't too far off 2012 's the avengers especially in terms of how i fell about it i definitely wanted m...   \n",
       "8963                                                      not one of broken lizard 's strongest entries but perhaps classic viewing for those in the state that it 's characters are drunk final rating: ★ ★ ½ not quite for me but i definitely get the appeal   \n",
       "8964                                                                                  this was a awesome movie i love these guys just as good as they were in super troopers i would definitely like to try this in real life myself sometime it would be sweet   \n",
       "\n",
       "                                                                                                                                                                                                                                                  tokens-joined  \\\n",
       "0                                                                                                                                                                                             better original think pretty funny thought comedy better original   \n",
       "1                                                                                                                                                                                                                    kind boring good plot storyline interested   \n",
       "2     heartwarming impactful intends brother bear leaves heartfelt feelings features cute story bit melancholic moments need set perfectly feel little predictable twist decent animation wise fine early aspect ratio stuff oddly voice cast amazing despit...   \n",
       "3     kenai young inuit warrior disturbs spirits kills bear punishment turned left wander wilderness luckily encounters young cub koda thinks know exact spot kenai restored humanity help quest human brother denahi thinks kenai killed bear chasing new f...   \n",
       "4                                                  like apt title happened scenes justice league cost $ 250m+ poster child happens studio messes project honestly hope day documentary footage cuts actors removed movie surprising watchable hardly good 2.5/5   \n",
       "...                                                                                                                                                                                                                                                         ...   \n",
       "8960                                                                                                                                                feared marvel gotten caught making sure character gets action time room character development need tone bit   \n",
       "8961                  viewing strongest mcu avenger movies good parts introduction elizabeth olsen scarlet witch paul bettany vision setting motion infinity stones new avengers etc plot felt messy times found entertaining especially seeing mcu going 3.5/5   \n",
       "8962  cool seeing massively enjoy good opinion avengers age ultron far 2012 avengers especially terms fell definitely wanted satisfying superhero action flicks rank narrowly aforementioned robert downey jr. felt little flat iron man decent moments indi...   \n",
       "8963                                                                                                                                                   broken lizard strongest entries classic viewing state characters drunk final rating: ½ definitely appeal   \n",
       "8964                                                                                                                                                                            awesome movie love guys good super troopers definitely like try real life sweet   \n",
       "\n",
       "                                                                                                                                                                                                                                                  lemmas-joined  \n",
       "0                                                                                                                                                                                                   well original think pretty funny think comedy well original  \n",
       "1                                                                                                                                                                                                                    kind boring good plot storyline interested  \n",
       "2     heartwarme impactful intend brother bear leave heartfelt feeling feature cute story bit melancholic moment need set perfectly feel little predictable twist decent animation wise fine early aspect ratio stuff oddly voice cast amazing despite talen...  \n",
       "3     kenai young inuit warrior disturb spirit kill bear punishment turn leave wander wilderness luckily encounter young cub koda think know exact spot kenai restore humanity help quest human brother denahi think kenai kill bear chase new form lethal i...  \n",
       "4                                                           like apt title happen scene justice league cost $ 250m+ poster child happen studio mess project honestly hope day documentary footage cut actor remove movie surprising watchable hardly good 2.5/5  \n",
       "...                                                                                                                                                                                                                                                         ...  \n",
       "8960                                                                                                                                                         fear marvel get catch make sure character get action time room character development need tone bit  \n",
       "8961                                       viewing strong mcu avenger movie good part introduction elizabeth olsen scarlet witch paul bettany vision set motion infinity stone new avengers etc plot feel messy time find entertain especially see mcu go 3.5/5  \n",
       "8962  cool see massively enjoy good opinion avenger age ultron far 2012 avengers especially term fall definitely want satisfy superhero action flick rank narrowly aforementione robert downey jr. feel little flat iron man decent moment individual film c...  \n",
       "8963                                                                                                                                                         broken lizard strong entry classic viewing state character drunk final rating: ½ definitely appeal  \n",
       "8964                                                                                                                                                                              awesome movie love guy good super trooper definitely like try real life sweet  \n",
       "\n",
       "[8965 rows x 12 columns]"
      ]
     },
     "execution_count": 70,
     "metadata": {},
     "output_type": "execute_result"
    }
   ],
   "source": [
    "df"
   ]
  },
  {
   "cell_type": "code",
   "execution_count": 71,
   "id": "b1ad9331-1502-492c-b10c-f68344b43679",
   "metadata": {
    "execution": {
     "iopub.execute_input": "2024-01-23T05:17:33.069615Z",
     "iopub.status.busy": "2024-01-23T05:17:33.069494Z",
     "iopub.status.idle": "2024-01-23T05:17:33.102838Z",
     "shell.execute_reply": "2024-01-23T05:17:33.102505Z",
     "shell.execute_reply.started": "2024-01-23T05:17:33.069607Z"
    }
   },
   "outputs": [
    {
     "data": {
      "text/plain": [
       "'Data-NLP/processed-nlp-data.json'"
      ]
     },
     "execution_count": 71,
     "metadata": {},
     "output_type": "execute_result"
    }
   ],
   "source": [
    "# fpath_json = \"Data-NLP/processed-nlp-data.json\"\n",
    "fpath_json = FPATHS['data']['raw']['processed-json']\n",
    "fpath_json"
   ]
  },
  {
   "cell_type": "code",
   "execution_count": 72,
   "id": "6a06e734-c262-413d-9db3-cd661e08e7f0",
   "metadata": {
    "execution": {
     "iopub.execute_input": "2024-01-23T05:17:33.103691Z",
     "iopub.status.busy": "2024-01-23T05:17:33.103520Z",
     "iopub.status.idle": "2024-01-23T05:17:33.136551Z",
     "shell.execute_reply": "2024-01-23T05:17:33.135929Z",
     "shell.execute_reply.started": "2024-01-23T05:17:33.103679Z"
    }
   },
   "outputs": [
    {
     "data": {
      "text/plain": [
       "'{\"0\":{\"movie_id\":100042,\"review_id\":\"64a3999fe9da6900c763aa8d\",\"rating\":7.0,\"review_text\":\"Better then the original I think. Was pretty funny. I thought the comedy was better then the original too.\",\"created_at\":\"2023-07-04 04:01:35.517000+00:00\",\"review_text_raw\":\"Better then the original I think. Was pretty funny. I thought the comedy was better then the original too.\",\"tokens-dirty\":[\"better\",\"then\",\"the\",\"original\",\"i\",\"think\",\"was\",\"pretty\",\"funny\",\"i\",\"thought\",\"the\",\"comedy\",\"was\",\"better\",\"then\",\"the\",\"original\",\"too\"],\"tokens\":[\"better\",\"original\",\"think\",\"pretty\",\"funny\",\"thought\",\"comedy\",\"better\",\"original\"],\"lemmas\":[\"well\",\"original\",\"think\",\"pretty\",\"funny\",\"think\",\"comedy\",\"well\",\"original\"],\"tokens-dirty-joined\":\"better then the original i think was pretty funny i thought the comedy was better then the original too\",\"tokens-joined\":\"better original think pretty funny thought comedy better original\",\"lemmas-joined\":\"well original think pretty funny think comedy well original\"},\"1\":{\"movie_id\":10008,\"review_id\":\"643d44864d67910469d853a2\",\"rating\":5.0,\"review_text\":\"Kind of boring. It\\'s a good plot and storyline. Nothing really to keep you interested.\",\"created_at\":\"2023-04-17 13:07:18.832000+00:00\",\"review_text_raw\":\"Kind of boring. It\\'s a good plot and storyline. Nothing really to keep you interested.\",\"tokens-dirty\":[\"kind\",\"of\",\"boring\",\"it\",\"\\'s\",\"a\",\"good\",\"plot\",\"and\",\"storyline\",\"nothing\",\"really\",\"to\",\"keep\",\"you\",\"interested\"],\"tokens\":[\"kind\",\"boring\",\"good\",\"plot\",\"storyline\",\"interested\"],\"lemmas\":[\"kind\",\"boring\",\"good\",\"plot\",\"storyline\",\"interested\"],\"tokens-dirty-joined\":\"kind of boring it \\'s a good plot and storyline nothing really to keep you interested\",\"tokens-joined\":\"kind boring good plot storyline interested\",\"lemmas-joined\":\"kind boring good plot storyline interested\"}}'"
      ]
     },
     "execution_count": 72,
     "metadata": {},
     "output_type": "execute_result"
    }
   ],
   "source": [
    "df.head(2).to_json(orient='index')"
   ]
  },
  {
   "cell_type": "code",
   "execution_count": 73,
   "id": "1e164b39-0474-4ca3-9b91-7fed4ffe5b1c",
   "metadata": {
    "execution": {
     "iopub.execute_input": "2024-01-23T05:17:33.137145Z",
     "iopub.status.busy": "2024-01-23T05:17:33.137055Z",
     "iopub.status.idle": "2024-01-23T05:17:33.469710Z",
     "shell.execute_reply": "2024-01-23T05:17:33.469380Z",
     "shell.execute_reply.started": "2024-01-23T05:17:33.137136Z"
    }
   },
   "outputs": [],
   "source": [
    "# Save to json\n",
    "df.to_json(fpath_json)"
   ]
  },
  {
   "cell_type": "code",
   "execution_count": 74,
   "id": "31ae5674-8d5e-47cc-ad11-0d85f224cd34",
   "metadata": {
    "execution": {
     "iopub.execute_input": "2024-01-23T05:17:33.470279Z",
     "iopub.status.busy": "2024-01-23T05:17:33.470189Z",
     "iopub.status.idle": "2024-01-23T05:17:33.925994Z",
     "shell.execute_reply": "2024-01-23T05:17:33.925679Z",
     "shell.execute_reply.started": "2024-01-23T05:17:33.470270Z"
    }
   },
   "outputs": [
    {
     "data": {
      "text/html": [
       "<div>\n",
       "<style scoped>\n",
       "    .dataframe tbody tr th:only-of-type {\n",
       "        vertical-align: middle;\n",
       "    }\n",
       "\n",
       "    .dataframe tbody tr th {\n",
       "        vertical-align: top;\n",
       "    }\n",
       "\n",
       "    .dataframe thead th {\n",
       "        text-align: right;\n",
       "    }\n",
       "</style>\n",
       "<table border=\"1\" class=\"dataframe\">\n",
       "  <thead>\n",
       "    <tr style=\"text-align: right;\">\n",
       "      <th></th>\n",
       "      <th>movie_id</th>\n",
       "      <th>review_id</th>\n",
       "      <th>rating</th>\n",
       "      <th>review_text</th>\n",
       "      <th>created_at</th>\n",
       "      <th>review_text_raw</th>\n",
       "      <th>tokens-dirty</th>\n",
       "      <th>tokens</th>\n",
       "      <th>lemmas</th>\n",
       "      <th>tokens-dirty-joined</th>\n",
       "      <th>tokens-joined</th>\n",
       "      <th>lemmas-joined</th>\n",
       "    </tr>\n",
       "  </thead>\n",
       "  <tbody>\n",
       "    <tr>\n",
       "      <th>0</th>\n",
       "      <td>100042</td>\n",
       "      <td>64a3999fe9da6900c763aa8d</td>\n",
       "      <td>7.0</td>\n",
       "      <td>Better then the original I think. Was pretty funny. I thought the comedy was better then the original too.</td>\n",
       "      <td>2023-07-04 04:01:35.517000+00:00</td>\n",
       "      <td>Better then the original I think. Was pretty funny. I thought the comedy was better then the original too.</td>\n",
       "      <td>[better, then, the, original, i, think, was, pretty, funny, i, thought, the, comedy, was, better, then, the, original, too]</td>\n",
       "      <td>[better, original, think, pretty, funny, thought, comedy, better, original]</td>\n",
       "      <td>[well, original, think, pretty, funny, think, comedy, well, original]</td>\n",
       "      <td>better then the original i think was pretty funny i thought the comedy was better then the original too</td>\n",
       "      <td>better original think pretty funny thought comedy better original</td>\n",
       "      <td>well original think pretty funny think comedy well original</td>\n",
       "    </tr>\n",
       "    <tr>\n",
       "      <th>1</th>\n",
       "      <td>10008</td>\n",
       "      <td>643d44864d67910469d853a2</td>\n",
       "      <td>5.0</td>\n",
       "      <td>Kind of boring. It's a good plot and storyline. Nothing really to keep you interested.</td>\n",
       "      <td>2023-04-17 13:07:18.832000+00:00</td>\n",
       "      <td>Kind of boring. It's a good plot and storyline. Nothing really to keep you interested.</td>\n",
       "      <td>[kind, of, boring, it, 's, a, good, plot, and, storyline, nothing, really, to, keep, you, interested]</td>\n",
       "      <td>[kind, boring, good, plot, storyline, interested]</td>\n",
       "      <td>[kind, boring, good, plot, storyline, interested]</td>\n",
       "      <td>kind of boring it 's a good plot and storyline nothing really to keep you interested</td>\n",
       "      <td>kind boring good plot storyline interested</td>\n",
       "      <td>kind boring good plot storyline interested</td>\n",
       "    </tr>\n",
       "    <tr>\n",
       "      <th>2</th>\n",
       "      <td>10009</td>\n",
       "      <td>5f22bd2b43999b00355b26a6</td>\n",
       "      <td>7.0</td>\n",
       "      <td>Heartwarming, if not as impactful as it intends to be.\\r\\n\\r\\n'Brother Bear' leaves heartfelt feelings and features a cute story. It does get a bit too melancholic in moments where it doesn't need to be or where it's not set up perfectly. It can ...</td>\n",
       "      <td>2020-07-30 12:29:31.310000+00:00</td>\n",
       "      <td>Heartwarming, if not as impactful as it intends to be.\\r\\n\\r\\n&lt;em&gt;'Brother Bear'&lt;/em&gt; leaves heartfelt feelings and features a cute story. It does get a bit too melancholic in moments where it doesn't need to be or where it's not set up perfectly...</td>\n",
       "      <td>[heartwarming, if, not, as, impactful, as, it, intends, to, be, brother, bear, leaves, heartfelt, feelings, and, features, a, cute, story, it, does, get, a, bit, too, melancholic, in, moments, where, it, does, n't, need, to, be, or, where, it, 's...</td>\n",
       "      <td>[heartwarming, impactful, intends, brother, bear, leaves, heartfelt, feelings, features, cute, story, bit, melancholic, moments, need, set, perfectly, feel, little, predictable, twist, decent, animation, wise, fine, early, aspect, ratio, stuff, o...</td>\n",
       "      <td>[heartwarme, impactful, intend, brother, bear, leave, heartfelt, feeling, feature, cute, story, bit, melancholic, moment, need, set, perfectly, feel, little, predictable, twist, decent, animation, wise, fine, early, aspect, ratio, stuff, oddly, v...</td>\n",
       "      <td>heartwarming if not as impactful as it intends to be brother bear leaves heartfelt feelings and features a cute story it does get a bit too melancholic in moments where it does n't need to be or where it 's not set up perfectly it can also feel a...</td>\n",
       "      <td>heartwarming impactful intends brother bear leaves heartfelt feelings features cute story bit melancholic moments need set perfectly feel little predictable twist decent animation wise fine early aspect ratio stuff oddly voice cast amazing despit...</td>\n",
       "      <td>heartwarme impactful intend brother bear leave heartfelt feeling feature cute story bit melancholic moment need set perfectly feel little predictable twist decent animation wise fine early aspect ratio stuff oddly voice cast amazing despite talen...</td>\n",
       "    </tr>\n",
       "    <tr>\n",
       "      <th>3</th>\n",
       "      <td>10009</td>\n",
       "      <td>6592736214956560f7da631f</td>\n",
       "      <td>7.0</td>\n",
       "      <td>\"Kenai\" is a young Inuit warrior who disturbs the spirits when he kills a bear. His punishment is to be turned into one himself, and be left to wander the wilderness alone. Luckily, he encounters the young cub \"Koda\" who thinks he might know the ...</td>\n",
       "      <td>2024-01-01 08:10:10.033000+00:00</td>\n",
       "      <td>\"Kenai\" is a young Inuit warrior who disturbs the spirits when he kills a bear. His punishment is to be turned into one himself, and be left to wander the wilderness alone. Luckily, he encounters the young cub \"Koda\" who thinks he might know the ...</td>\n",
       "      <td>[kenai, is, a, young, inuit, warrior, who, disturbs, the, spirits, when, he, kills, a, bear, his, punishment, is, to, be, turned, into, one, himself, and, be, left, to, wander, the, wilderness, alone, luckily, he, encounters, the, young, cub, kod...</td>\n",
       "      <td>[kenai, young, inuit, warrior, disturbs, spirits, kills, bear, punishment, turned, left, wander, wilderness, luckily, encounters, young, cub, koda, thinks, know, exact, spot, kenai, restored, humanity, help, quest, human, brother, denahi, thinks,...</td>\n",
       "      <td>[kenai, young, inuit, warrior, disturb, spirit, kill, bear, punishment, turn, leave, wander, wilderness, luckily, encounter, young, cub, koda, think, know, exact, spot, kenai, restore, humanity, help, quest, human, brother, denahi, think, kenai, ...</td>\n",
       "      <td>kenai is a young inuit warrior who disturbs the spirits when he kills a bear his punishment is to be turned into one himself and be left to wander the wilderness alone luckily he encounters the young cub koda who thinks he might know the exact sp...</td>\n",
       "      <td>kenai young inuit warrior disturbs spirits kills bear punishment turned left wander wilderness luckily encounters young cub koda thinks know exact spot kenai restored humanity help quest human brother denahi thinks kenai killed bear chasing new f...</td>\n",
       "      <td>kenai young inuit warrior disturb spirit kill bear punishment turn leave wander wilderness luckily encounter young cub koda think know exact spot kenai restore humanity help quest human brother denahi think kenai kill bear chase new form lethal i...</td>\n",
       "    </tr>\n",
       "    <tr>\n",
       "      <th>4</th>\n",
       "      <td>10012</td>\n",
       "      <td>628159c8caa50850dcf93d33</td>\n",
       "      <td>5.0</td>\n",
       "      <td>Seems like an apt title for everything that happened behind the scenes. If not for Justice League (which cost $250M+), this might be the poster child of what happens when a studio messes around with a project. Honestly I really hope one day we ge...</td>\n",
       "      <td>2022-05-15 19:51:36.244000+00:00</td>\n",
       "      <td>Seems like an apt title for everything that happened behind the scenes. If not for Justice League (which cost $250M+), this might be the poster child of what happens when a studio messes around with a project. Honestly I really hope one day we ge...</td>\n",
       "      <td>[seems, like, an, apt, title, for, everything, that, happened, behind, the, scenes, if, not, for, justice, league, which, cost, $, 250m+, this, might, be, the, poster, child, of, what, happens, when, a, studio, messes, around, with, a, project, h...</td>\n",
       "      <td>[like, apt, title, happened, scenes, justice, league, cost, $, 250m+, poster, child, happens, studio, messes, project, honestly, hope, day, documentary, footage, cuts, actors, removed, movie, surprising, watchable, hardly, good, 2.5/5]</td>\n",
       "      <td>[like, apt, title, happen, scene, justice, league, cost, $, 250m+, poster, child, happen, studio, mess, project, honestly, hope, day, documentary, footage, cut, actor, remove, movie, surprising, watchable, hardly, good, 2.5/5]</td>\n",
       "      <td>seems like an apt title for everything that happened behind the scenes if not for justice league which cost $ 250m+ this might be the poster child of what happens when a studio messes around with a project honestly i really hope one day we get a ...</td>\n",
       "      <td>like apt title happened scenes justice league cost $ 250m+ poster child happens studio messes project honestly hope day documentary footage cuts actors removed movie surprising watchable hardly good 2.5/5</td>\n",
       "      <td>like apt title happen scene justice league cost $ 250m+ poster child happen studio mess project honestly hope day documentary footage cut actor remove movie surprising watchable hardly good 2.5/5</td>\n",
       "    </tr>\n",
       "    <tr>\n",
       "      <th>...</th>\n",
       "      <td>...</td>\n",
       "      <td>...</td>\n",
       "      <td>...</td>\n",
       "      <td>...</td>\n",
       "      <td>...</td>\n",
       "      <td>...</td>\n",
       "      <td>...</td>\n",
       "      <td>...</td>\n",
       "      <td>...</td>\n",
       "      <td>...</td>\n",
       "      <td>...</td>\n",
       "      <td>...</td>\n",
       "    </tr>\n",
       "    <tr>\n",
       "      <th>8960</th>\n",
       "      <td>99861</td>\n",
       "      <td>5e20dedc397df000129666b8</td>\n",
       "      <td>NaN</td>\n",
       "      <td>It's just what I feared. Marvel has gotten so caught up in making sure that each character gets some action time that there's no room now for character development. They need to tone it down a bit.</td>\n",
       "      <td>2020-01-16 22:08:28.630000+00:00</td>\n",
       "      <td>It's just what I feared. Marvel has gotten so caught up in making sure that each character gets some action time that there's no room now for character development. They need to tone it down a bit.</td>\n",
       "      <td>[it, 's, just, what, i, feared, marvel, has, gotten, so, caught, up, in, making, sure, that, each, character, gets, some, action, time, that, there, 's, no, room, now, for, character, development, they, need, to, tone, it, down, a, bit]</td>\n",
       "      <td>[feared, marvel, gotten, caught, making, sure, character, gets, action, time, room, character, development, need, tone, bit]</td>\n",
       "      <td>[fear, marvel, get, catch, make, sure, character, get, action, time, room, character, development, need, tone, bit]</td>\n",
       "      <td>it 's just what i feared marvel has gotten so caught up in making sure that each character gets some action time that there 's no room now for character development they need to tone it down a bit</td>\n",
       "      <td>feared marvel gotten caught making sure character gets action time room character development need tone bit</td>\n",
       "      <td>fear marvel get catch make sure character get action time room character development need tone bit</td>\n",
       "    </tr>\n",
       "    <tr>\n",
       "      <th>8961</th>\n",
       "      <td>99861</td>\n",
       "      <td>5ef819bba284eb00398dc810</td>\n",
       "      <td>7.0</td>\n",
       "      <td>Third viewing of this and while not the strongest within the MCU, or of the other Avenger movies, still has some good parts (introduction to Elizabeth Olsen's Scarlet Witch and Paul Bettany's Vision; further setting into motion the infinity stone...</td>\n",
       "      <td>2020-06-28 04:16:59.341000+00:00</td>\n",
       "      <td>Third viewing of this and while not the strongest within the MCU, or of the other Avenger movies, still has some good parts (introduction to Elizabeth Olsen's Scarlet Witch and Paul Bettany's Vision; further setting into motion the infinity stone...</td>\n",
       "      <td>[third, viewing, of, this, and, while, not, the, strongest, within, the, mcu, or, of, the, other, avenger, movies, still, has, some, good, parts, introduction, to, elizabeth, olsen, 's, scarlet, witch, and, paul, bettany, 's, vision, further, set...</td>\n",
       "      <td>[viewing, strongest, mcu, avenger, movies, good, parts, introduction, elizabeth, olsen, scarlet, witch, paul, bettany, vision, setting, motion, infinity, stones, new, avengers, etc, plot, felt, messy, times, found, entertaining, especially, seein...</td>\n",
       "      <td>[viewing, strong, mcu, avenger, movie, good, part, introduction, elizabeth, olsen, scarlet, witch, paul, bettany, vision, set, motion, infinity, stone, new, avengers, etc, plot, feel, messy, time, find, entertain, especially, see, mcu, go, 3.5/5]</td>\n",
       "      <td>third viewing of this and while not the strongest within the mcu or of the other avenger movies still has some good parts introduction to elizabeth olsen 's scarlet witch and paul bettany 's vision further setting into motion the infinity stones ...</td>\n",
       "      <td>viewing strongest mcu avenger movies good parts introduction elizabeth olsen scarlet witch paul bettany vision setting motion infinity stones new avengers etc plot felt messy times found entertaining especially seeing mcu going 3.5/5</td>\n",
       "      <td>viewing strong mcu avenger movie good part introduction elizabeth olsen scarlet witch paul bettany vision set motion infinity stone new avengers etc plot feel messy time find entertain especially see mcu go 3.5/5</td>\n",
       "    </tr>\n",
       "    <tr>\n",
       "      <th>8962</th>\n",
       "      <td>99861</td>\n",
       "      <td>600616349a358d0040c2ecad</td>\n",
       "      <td>7.0</td>\n",
       "      <td>Cool seeing them all together again, even if I didn't massively enjoy it. It's good, nothing more or less in my opinion.\\r\\n\\r\\n'Avengers: Age of Ultron' isn't too far off 2012's 'The Avengers', especially in terms of how I fell about it. I defin...</td>\n",
       "      <td>2021-01-18 23:13:56.078000+00:00</td>\n",
       "      <td>Cool seeing them all together again, even if I didn't massively enjoy it. It's good, nothing more or less in my opinion.\\r\\n\\r\\n&lt;em&gt;'Avengers: Age of Ultron'&lt;/em&gt; isn't too far off 2012's &lt;em&gt;'The Avengers'&lt;/em&gt;, especially in terms of how I fell...</td>\n",
       "      <td>[cool, seeing, them, all, together, again, even, if, i, did, n't, massively, enjoy, it, it, 's, good, nothing, more, or, less, in, my, opinion, avengers, age, of, ultron, is, n't, too, far, off, 2012, 's, the, avengers, especially, in, terms, of,...</td>\n",
       "      <td>[cool, seeing, massively, enjoy, good, opinion, avengers, age, ultron, far, 2012, avengers, especially, terms, fell, definitely, wanted, satisfying, superhero, action, flicks, rank, narrowly, aforementioned, robert, downey, jr., felt, little, fla...</td>\n",
       "      <td>[cool, see, massively, enjoy, good, opinion, avenger, age, ultron, far, 2012, avengers, especially, term, fall, definitely, want, satisfy, superhero, action, flick, rank, narrowly, aforementione, robert, downey, jr., feel, little, flat, iron, man...</td>\n",
       "      <td>cool seeing them all together again even if i did n't massively enjoy it it 's good nothing more or less in my opinion avengers age of ultron is n't too far off 2012 's the avengers especially in terms of how i fell about it i definitely wanted m...</td>\n",
       "      <td>cool seeing massively enjoy good opinion avengers age ultron far 2012 avengers especially terms fell definitely wanted satisfying superhero action flicks rank narrowly aforementioned robert downey jr. felt little flat iron man decent moments indi...</td>\n",
       "      <td>cool see massively enjoy good opinion avenger age ultron far 2012 avengers especially term fall definitely want satisfy superhero action flick rank narrowly aforementione robert downey jr. feel little flat iron man decent moment individual film c...</td>\n",
       "    </tr>\n",
       "    <tr>\n",
       "      <th>8963</th>\n",
       "      <td>9988</td>\n",
       "      <td>5a6940bc9251414a2e009179</td>\n",
       "      <td>5.0</td>\n",
       "      <td>Not one of Broken Lizard's strongest entries, but perhaps classic viewing for those in the state that it's characters are: Drunk.\\r\\n\\r\\n_Final rating:★★½ - Not quite for me, but I definitely get the appeal._</td>\n",
       "      <td>2018-01-25 02:28:12.494000+00:00</td>\n",
       "      <td>Not one of Broken Lizard's strongest entries, but perhaps classic viewing for those in the state that it's characters are: Drunk.\\r\\n\\r\\n_Final rating:★★½ - Not quite for me, but I definitely get the appeal._</td>\n",
       "      <td>[not, one, of, broken, lizard, 's, strongest, entries, but, perhaps, classic, viewing, for, those, in, the, state, that, it, 's, characters, are, drunk, final, rating:, ★, ★, ½, not, quite, for, me, but, i, definitely, get, the, appeal]</td>\n",
       "      <td>[broken, lizard, strongest, entries, classic, viewing, state, characters, drunk, final, rating:, ½, definitely, appeal]</td>\n",
       "      <td>[broken, lizard, strong, entry, classic, viewing, state, character, drunk, final, rating:, ½, definitely, appeal]</td>\n",
       "      <td>not one of broken lizard 's strongest entries but perhaps classic viewing for those in the state that it 's characters are drunk final rating: ★ ★ ½ not quite for me but i definitely get the appeal</td>\n",
       "      <td>broken lizard strongest entries classic viewing state characters drunk final rating: ½ definitely appeal</td>\n",
       "      <td>broken lizard strong entry classic viewing state character drunk final rating: ½ definitely appeal</td>\n",
       "    </tr>\n",
       "    <tr>\n",
       "      <th>8964</th>\n",
       "      <td>9988</td>\n",
       "      <td>6449359c2fdec602fca107cb</td>\n",
       "      <td>8.0</td>\n",
       "      <td>This was a awesome movie. I love these guys just as good as they were in super troopers. I would definitely like to try this in real life myself sometime. It would be sweet.</td>\n",
       "      <td>2023-04-26 14:30:52.951000+00:00</td>\n",
       "      <td>This was a awesome movie. I love these guys just as good as they were in super troopers. I would definitely like to try this in real life myself sometime. It would be sweet.</td>\n",
       "      <td>[this, was, a, awesome, movie, i, love, these, guys, just, as, good, as, they, were, in, super, troopers, i, would, definitely, like, to, try, this, in, real, life, myself, sometime, it, would, be, sweet]</td>\n",
       "      <td>[awesome, movie, love, guys, good, super, troopers, definitely, like, try, real, life, sweet]</td>\n",
       "      <td>[awesome, movie, love, guy, good, super, trooper, definitely, like, try, real, life, sweet]</td>\n",
       "      <td>this was a awesome movie i love these guys just as good as they were in super troopers i would definitely like to try this in real life myself sometime it would be sweet</td>\n",
       "      <td>awesome movie love guys good super troopers definitely like try real life sweet</td>\n",
       "      <td>awesome movie love guy good super trooper definitely like try real life sweet</td>\n",
       "    </tr>\n",
       "  </tbody>\n",
       "</table>\n",
       "<p>8965 rows × 12 columns</p>\n",
       "</div>"
      ],
      "text/plain": [
       "      movie_id                 review_id  rating  \\\n",
       "0       100042  64a3999fe9da6900c763aa8d     7.0   \n",
       "1        10008  643d44864d67910469d853a2     5.0   \n",
       "2        10009  5f22bd2b43999b00355b26a6     7.0   \n",
       "3        10009  6592736214956560f7da631f     7.0   \n",
       "4        10012  628159c8caa50850dcf93d33     5.0   \n",
       "...        ...                       ...     ...   \n",
       "8960     99861  5e20dedc397df000129666b8     NaN   \n",
       "8961     99861  5ef819bba284eb00398dc810     7.0   \n",
       "8962     99861  600616349a358d0040c2ecad     7.0   \n",
       "8963      9988  5a6940bc9251414a2e009179     5.0   \n",
       "8964      9988  6449359c2fdec602fca107cb     8.0   \n",
       "\n",
       "                                                                                                                                                                                                                                                    review_text  \\\n",
       "0                                                                                                                                                    Better then the original I think. Was pretty funny. I thought the comedy was better then the original too.   \n",
       "1                                                                                                                                                                        Kind of boring. It's a good plot and storyline. Nothing really to keep you interested.   \n",
       "2     Heartwarming, if not as impactful as it intends to be.\\r\\n\\r\\n'Brother Bear' leaves heartfelt feelings and features a cute story. It does get a bit too melancholic in moments where it doesn't need to be or where it's not set up perfectly. It can ...   \n",
       "3     \"Kenai\" is a young Inuit warrior who disturbs the spirits when he kills a bear. His punishment is to be turned into one himself, and be left to wander the wilderness alone. Luckily, he encounters the young cub \"Koda\" who thinks he might know the ...   \n",
       "4     Seems like an apt title for everything that happened behind the scenes. If not for Justice League (which cost $250M+), this might be the poster child of what happens when a studio messes around with a project. Honestly I really hope one day we ge...   \n",
       "...                                                                                                                                                                                                                                                         ...   \n",
       "8960                                                      It's just what I feared. Marvel has gotten so caught up in making sure that each character gets some action time that there's no room now for character development. They need to tone it down a bit.   \n",
       "8961  Third viewing of this and while not the strongest within the MCU, or of the other Avenger movies, still has some good parts (introduction to Elizabeth Olsen's Scarlet Witch and Paul Bettany's Vision; further setting into motion the infinity stone...   \n",
       "8962  Cool seeing them all together again, even if I didn't massively enjoy it. It's good, nothing more or less in my opinion.\\r\\n\\r\\n'Avengers: Age of Ultron' isn't too far off 2012's 'The Avengers', especially in terms of how I fell about it. I defin...   \n",
       "8963                                           Not one of Broken Lizard's strongest entries, but perhaps classic viewing for those in the state that it's characters are: Drunk.\\r\\n\\r\\n_Final rating:★★½ - Not quite for me, but I definitely get the appeal._   \n",
       "8964                                                                              This was a awesome movie. I love these guys just as good as they were in super troopers. I would definitely like to try this in real life myself sometime. It would be sweet.   \n",
       "\n",
       "                           created_at  \\\n",
       "0    2023-07-04 04:01:35.517000+00:00   \n",
       "1    2023-04-17 13:07:18.832000+00:00   \n",
       "2    2020-07-30 12:29:31.310000+00:00   \n",
       "3    2024-01-01 08:10:10.033000+00:00   \n",
       "4    2022-05-15 19:51:36.244000+00:00   \n",
       "...                               ...   \n",
       "8960 2020-01-16 22:08:28.630000+00:00   \n",
       "8961 2020-06-28 04:16:59.341000+00:00   \n",
       "8962 2021-01-18 23:13:56.078000+00:00   \n",
       "8963 2018-01-25 02:28:12.494000+00:00   \n",
       "8964 2023-04-26 14:30:52.951000+00:00   \n",
       "\n",
       "                                                                                                                                                                                                                                                review_text_raw  \\\n",
       "0                                                                                                                                                    Better then the original I think. Was pretty funny. I thought the comedy was better then the original too.   \n",
       "1                                                                                                                                                                        Kind of boring. It's a good plot and storyline. Nothing really to keep you interested.   \n",
       "2     Heartwarming, if not as impactful as it intends to be.\\r\\n\\r\\n<em>'Brother Bear'</em> leaves heartfelt feelings and features a cute story. It does get a bit too melancholic in moments where it doesn't need to be or where it's not set up perfectly...   \n",
       "3     \"Kenai\" is a young Inuit warrior who disturbs the spirits when he kills a bear. His punishment is to be turned into one himself, and be left to wander the wilderness alone. Luckily, he encounters the young cub \"Koda\" who thinks he might know the ...   \n",
       "4     Seems like an apt title for everything that happened behind the scenes. If not for Justice League (which cost $250M+), this might be the poster child of what happens when a studio messes around with a project. Honestly I really hope one day we ge...   \n",
       "...                                                                                                                                                                                                                                                         ...   \n",
       "8960                                                      It's just what I feared. Marvel has gotten so caught up in making sure that each character gets some action time that there's no room now for character development. They need to tone it down a bit.   \n",
       "8961  Third viewing of this and while not the strongest within the MCU, or of the other Avenger movies, still has some good parts (introduction to Elizabeth Olsen's Scarlet Witch and Paul Bettany's Vision; further setting into motion the infinity stone...   \n",
       "8962  Cool seeing them all together again, even if I didn't massively enjoy it. It's good, nothing more or less in my opinion.\\r\\n\\r\\n<em>'Avengers: Age of Ultron'</em> isn't too far off 2012's <em>'The Avengers'</em>, especially in terms of how I fell...   \n",
       "8963                                           Not one of Broken Lizard's strongest entries, but perhaps classic viewing for those in the state that it's characters are: Drunk.\\r\\n\\r\\n_Final rating:★★½ - Not quite for me, but I definitely get the appeal._   \n",
       "8964                                                                              This was a awesome movie. I love these guys just as good as they were in super troopers. I would definitely like to try this in real life myself sometime. It would be sweet.   \n",
       "\n",
       "                                                                                                                                                                                                                                                   tokens-dirty  \\\n",
       "0                                                                                                                                   [better, then, the, original, i, think, was, pretty, funny, i, thought, the, comedy, was, better, then, the, original, too]   \n",
       "1                                                                                                                                                         [kind, of, boring, it, 's, a, good, plot, and, storyline, nothing, really, to, keep, you, interested]   \n",
       "2     [heartwarming, if, not, as, impactful, as, it, intends, to, be, brother, bear, leaves, heartfelt, feelings, and, features, a, cute, story, it, does, get, a, bit, too, melancholic, in, moments, where, it, does, n't, need, to, be, or, where, it, 's...   \n",
       "3     [kenai, is, a, young, inuit, warrior, who, disturbs, the, spirits, when, he, kills, a, bear, his, punishment, is, to, be, turned, into, one, himself, and, be, left, to, wander, the, wilderness, alone, luckily, he, encounters, the, young, cub, kod...   \n",
       "4     [seems, like, an, apt, title, for, everything, that, happened, behind, the, scenes, if, not, for, justice, league, which, cost, $, 250m+, this, might, be, the, poster, child, of, what, happens, when, a, studio, messes, around, with, a, project, h...   \n",
       "...                                                                                                                                                                                                                                                         ...   \n",
       "8960               [it, 's, just, what, i, feared, marvel, has, gotten, so, caught, up, in, making, sure, that, each, character, gets, some, action, time, that, there, 's, no, room, now, for, character, development, they, need, to, tone, it, down, a, bit]   \n",
       "8961  [third, viewing, of, this, and, while, not, the, strongest, within, the, mcu, or, of, the, other, avenger, movies, still, has, some, good, parts, introduction, to, elizabeth, olsen, 's, scarlet, witch, and, paul, bettany, 's, vision, further, set...   \n",
       "8962  [cool, seeing, them, all, together, again, even, if, i, did, n't, massively, enjoy, it, it, 's, good, nothing, more, or, less, in, my, opinion, avengers, age, of, ultron, is, n't, too, far, off, 2012, 's, the, avengers, especially, in, terms, of,...   \n",
       "8963               [not, one, of, broken, lizard, 's, strongest, entries, but, perhaps, classic, viewing, for, those, in, the, state, that, it, 's, characters, are, drunk, final, rating:, ★, ★, ½, not, quite, for, me, but, i, definitely, get, the, appeal]   \n",
       "8964                                               [this, was, a, awesome, movie, i, love, these, guys, just, as, good, as, they, were, in, super, troopers, i, would, definitely, like, to, try, this, in, real, life, myself, sometime, it, would, be, sweet]   \n",
       "\n",
       "                                                                                                                                                                                                                                                         tokens  \\\n",
       "0                                                                                                                                                                                   [better, original, think, pretty, funny, thought, comedy, better, original]   \n",
       "1                                                                                                                                                                                                             [kind, boring, good, plot, storyline, interested]   \n",
       "2     [heartwarming, impactful, intends, brother, bear, leaves, heartfelt, feelings, features, cute, story, bit, melancholic, moments, need, set, perfectly, feel, little, predictable, twist, decent, animation, wise, fine, early, aspect, ratio, stuff, o...   \n",
       "3     [kenai, young, inuit, warrior, disturbs, spirits, kills, bear, punishment, turned, left, wander, wilderness, luckily, encounters, young, cub, koda, thinks, know, exact, spot, kenai, restored, humanity, help, quest, human, brother, denahi, thinks,...   \n",
       "4                   [like, apt, title, happened, scenes, justice, league, cost, $, 250m+, poster, child, happens, studio, messes, project, honestly, hope, day, documentary, footage, cuts, actors, removed, movie, surprising, watchable, hardly, good, 2.5/5]   \n",
       "...                                                                                                                                                                                                                                                         ...   \n",
       "8960                                                                                                                               [feared, marvel, gotten, caught, making, sure, character, gets, action, time, room, character, development, need, tone, bit]   \n",
       "8961  [viewing, strongest, mcu, avenger, movies, good, parts, introduction, elizabeth, olsen, scarlet, witch, paul, bettany, vision, setting, motion, infinity, stones, new, avengers, etc, plot, felt, messy, times, found, entertaining, especially, seein...   \n",
       "8962  [cool, seeing, massively, enjoy, good, opinion, avengers, age, ultron, far, 2012, avengers, especially, terms, fell, definitely, wanted, satisfying, superhero, action, flicks, rank, narrowly, aforementioned, robert, downey, jr., felt, little, fla...   \n",
       "8963                                                                                                                                    [broken, lizard, strongest, entries, classic, viewing, state, characters, drunk, final, rating:, ½, definitely, appeal]   \n",
       "8964                                                                                                                                                              [awesome, movie, love, guys, good, super, troopers, definitely, like, try, real, life, sweet]   \n",
       "\n",
       "                                                                                                                                                                                                                                                         lemmas  \\\n",
       "0                                                                                                                                                                                         [well, original, think, pretty, funny, think, comedy, well, original]   \n",
       "1                                                                                                                                                                                                             [kind, boring, good, plot, storyline, interested]   \n",
       "2     [heartwarme, impactful, intend, brother, bear, leave, heartfelt, feeling, feature, cute, story, bit, melancholic, moment, need, set, perfectly, feel, little, predictable, twist, decent, animation, wise, fine, early, aspect, ratio, stuff, oddly, v...   \n",
       "3     [kenai, young, inuit, warrior, disturb, spirit, kill, bear, punishment, turn, leave, wander, wilderness, luckily, encounter, young, cub, koda, think, know, exact, spot, kenai, restore, humanity, help, quest, human, brother, denahi, think, kenai, ...   \n",
       "4                            [like, apt, title, happen, scene, justice, league, cost, $, 250m+, poster, child, happen, studio, mess, project, honestly, hope, day, documentary, footage, cut, actor, remove, movie, surprising, watchable, hardly, good, 2.5/5]   \n",
       "...                                                                                                                                                                                                                                                         ...   \n",
       "8960                                                                                                                                        [fear, marvel, get, catch, make, sure, character, get, action, time, room, character, development, need, tone, bit]   \n",
       "8961     [viewing, strong, mcu, avenger, movie, good, part, introduction, elizabeth, olsen, scarlet, witch, paul, bettany, vision, set, motion, infinity, stone, new, avengers, etc, plot, feel, messy, time, find, entertain, especially, see, mcu, go, 3.5/5]   \n",
       "8962  [cool, see, massively, enjoy, good, opinion, avenger, age, ultron, far, 2012, avengers, especially, term, fall, definitely, want, satisfy, superhero, action, flick, rank, narrowly, aforementione, robert, downey, jr., feel, little, flat, iron, man...   \n",
       "8963                                                                                                                                          [broken, lizard, strong, entry, classic, viewing, state, character, drunk, final, rating:, ½, definitely, appeal]   \n",
       "8964                                                                                                                                                                [awesome, movie, love, guy, good, super, trooper, definitely, like, try, real, life, sweet]   \n",
       "\n",
       "                                                                                                                                                                                                                                            tokens-dirty-joined  \\\n",
       "0                                                                                                                                                       better then the original i think was pretty funny i thought the comedy was better then the original too   \n",
       "1                                                                                                                                                                          kind of boring it 's a good plot and storyline nothing really to keep you interested   \n",
       "2     heartwarming if not as impactful as it intends to be brother bear leaves heartfelt feelings and features a cute story it does get a bit too melancholic in moments where it does n't need to be or where it 's not set up perfectly it can also feel a...   \n",
       "3     kenai is a young inuit warrior who disturbs the spirits when he kills a bear his punishment is to be turned into one himself and be left to wander the wilderness alone luckily he encounters the young cub koda who thinks he might know the exact sp...   \n",
       "4     seems like an apt title for everything that happened behind the scenes if not for justice league which cost $ 250m+ this might be the poster child of what happens when a studio messes around with a project honestly i really hope one day we get a ...   \n",
       "...                                                                                                                                                                                                                                                         ...   \n",
       "8960                                                       it 's just what i feared marvel has gotten so caught up in making sure that each character gets some action time that there 's no room now for character development they need to tone it down a bit   \n",
       "8961  third viewing of this and while not the strongest within the mcu or of the other avenger movies still has some good parts introduction to elizabeth olsen 's scarlet witch and paul bettany 's vision further setting into motion the infinity stones ...   \n",
       "8962  cool seeing them all together again even if i did n't massively enjoy it it 's good nothing more or less in my opinion avengers age of ultron is n't too far off 2012 's the avengers especially in terms of how i fell about it i definitely wanted m...   \n",
       "8963                                                      not one of broken lizard 's strongest entries but perhaps classic viewing for those in the state that it 's characters are drunk final rating: ★ ★ ½ not quite for me but i definitely get the appeal   \n",
       "8964                                                                                  this was a awesome movie i love these guys just as good as they were in super troopers i would definitely like to try this in real life myself sometime it would be sweet   \n",
       "\n",
       "                                                                                                                                                                                                                                                  tokens-joined  \\\n",
       "0                                                                                                                                                                                             better original think pretty funny thought comedy better original   \n",
       "1                                                                                                                                                                                                                    kind boring good plot storyline interested   \n",
       "2     heartwarming impactful intends brother bear leaves heartfelt feelings features cute story bit melancholic moments need set perfectly feel little predictable twist decent animation wise fine early aspect ratio stuff oddly voice cast amazing despit...   \n",
       "3     kenai young inuit warrior disturbs spirits kills bear punishment turned left wander wilderness luckily encounters young cub koda thinks know exact spot kenai restored humanity help quest human brother denahi thinks kenai killed bear chasing new f...   \n",
       "4                                                  like apt title happened scenes justice league cost $ 250m+ poster child happens studio messes project honestly hope day documentary footage cuts actors removed movie surprising watchable hardly good 2.5/5   \n",
       "...                                                                                                                                                                                                                                                         ...   \n",
       "8960                                                                                                                                                feared marvel gotten caught making sure character gets action time room character development need tone bit   \n",
       "8961                  viewing strongest mcu avenger movies good parts introduction elizabeth olsen scarlet witch paul bettany vision setting motion infinity stones new avengers etc plot felt messy times found entertaining especially seeing mcu going 3.5/5   \n",
       "8962  cool seeing massively enjoy good opinion avengers age ultron far 2012 avengers especially terms fell definitely wanted satisfying superhero action flicks rank narrowly aforementioned robert downey jr. felt little flat iron man decent moments indi...   \n",
       "8963                                                                                                                                                   broken lizard strongest entries classic viewing state characters drunk final rating: ½ definitely appeal   \n",
       "8964                                                                                                                                                                            awesome movie love guys good super troopers definitely like try real life sweet   \n",
       "\n",
       "                                                                                                                                                                                                                                                  lemmas-joined  \n",
       "0                                                                                                                                                                                                   well original think pretty funny think comedy well original  \n",
       "1                                                                                                                                                                                                                    kind boring good plot storyline interested  \n",
       "2     heartwarme impactful intend brother bear leave heartfelt feeling feature cute story bit melancholic moment need set perfectly feel little predictable twist decent animation wise fine early aspect ratio stuff oddly voice cast amazing despite talen...  \n",
       "3     kenai young inuit warrior disturb spirit kill bear punishment turn leave wander wilderness luckily encounter young cub koda think know exact spot kenai restore humanity help quest human brother denahi think kenai kill bear chase new form lethal i...  \n",
       "4                                                           like apt title happen scene justice league cost $ 250m+ poster child happen studio mess project honestly hope day documentary footage cut actor remove movie surprising watchable hardly good 2.5/5  \n",
       "...                                                                                                                                                                                                                                                         ...  \n",
       "8960                                                                                                                                                         fear marvel get catch make sure character get action time room character development need tone bit  \n",
       "8961                                       viewing strong mcu avenger movie good part introduction elizabeth olsen scarlet witch paul bettany vision set motion infinity stone new avengers etc plot feel messy time find entertain especially see mcu go 3.5/5  \n",
       "8962  cool see massively enjoy good opinion avenger age ultron far 2012 avengers especially term fall definitely want satisfy superhero action flick rank narrowly aforementione robert downey jr. feel little flat iron man decent moment individual film c...  \n",
       "8963                                                                                                                                                         broken lizard strong entry classic viewing state character drunk final rating: ½ definitely appeal  \n",
       "8964                                                                                                                                                                              awesome movie love guy good super trooper definitely like try real life sweet  \n",
       "\n",
       "[8965 rows x 12 columns]"
      ]
     },
     "execution_count": 74,
     "metadata": {},
     "output_type": "execute_result"
    }
   ],
   "source": [
    "temp_df = pd.read_json(fpath_json)#.reset_index(drop=False)\n",
    "temp_df"
   ]
  },
  {
   "cell_type": "code",
   "execution_count": 75,
   "id": "e7ff7a9a-ae08-42fc-bd54-86fb1172641d",
   "metadata": {
    "execution": {
     "iopub.execute_input": "2024-01-23T05:17:33.926698Z",
     "iopub.status.busy": "2024-01-23T05:17:33.926574Z",
     "iopub.status.idle": "2024-01-23T05:17:33.959947Z",
     "shell.execute_reply": "2024-01-23T05:17:33.959616Z",
     "shell.execute_reply.started": "2024-01-23T05:17:33.926688Z"
    }
   },
   "outputs": [
    {
     "data": {
      "text/plain": [
       "list"
      ]
     },
     "execution_count": 75,
     "metadata": {},
     "output_type": "execute_result"
    }
   ],
   "source": [
    "type(temp_df.loc[0, 'tokens'])"
   ]
  },
  {
   "cell_type": "markdown",
   "id": "eda02ad2-3d70-4513-9261-7e3521463e7a",
   "metadata": {},
   "source": [
    "### Save Joblib"
   ]
  },
  {
   "cell_type": "code",
   "execution_count": 76,
   "id": "8e85a4fa-357b-49f0-9721-05afbd377a9b",
   "metadata": {
    "execution": {
     "iopub.execute_input": "2024-01-23T05:17:33.960615Z",
     "iopub.status.busy": "2024-01-23T05:17:33.960508Z",
     "iopub.status.idle": "2024-01-23T05:17:34.659181Z",
     "shell.execute_reply": "2024-01-23T05:17:34.658895Z",
     "shell.execute_reply.started": "2024-01-23T05:17:33.960605Z"
    }
   },
   "outputs": [
    {
     "data": {
      "text/plain": [
       "['Data-NLP/processed-nlp-data.joblib']"
      ]
     },
     "execution_count": 76,
     "metadata": {},
     "output_type": "execute_result"
    }
   ],
   "source": [
    "import joblib\n",
    "fpath = FPATHS['data']['raw']['processed-joblib']\n",
    "joblib.dump(df, fpath)"
   ]
  },
  {
   "cell_type": "code",
   "execution_count": 77,
   "id": "16279ffe-01b4-45b0-b5a8-2b1cbd934db3",
   "metadata": {
    "execution": {
     "iopub.execute_input": "2024-01-23T05:17:34.659937Z",
     "iopub.status.busy": "2024-01-23T05:17:34.659814Z",
     "iopub.status.idle": "2024-01-23T05:17:35.006988Z",
     "shell.execute_reply": "2024-01-23T05:17:35.006621Z",
     "shell.execute_reply.started": "2024-01-23T05:17:34.659926Z"
    }
   },
   "outputs": [
    {
     "data": {
      "text/html": [
       "<div>\n",
       "<style scoped>\n",
       "    .dataframe tbody tr th:only-of-type {\n",
       "        vertical-align: middle;\n",
       "    }\n",
       "\n",
       "    .dataframe tbody tr th {\n",
       "        vertical-align: top;\n",
       "    }\n",
       "\n",
       "    .dataframe thead th {\n",
       "        text-align: right;\n",
       "    }\n",
       "</style>\n",
       "<table border=\"1\" class=\"dataframe\">\n",
       "  <thead>\n",
       "    <tr style=\"text-align: right;\">\n",
       "      <th></th>\n",
       "      <th>movie_id</th>\n",
       "      <th>review_id</th>\n",
       "      <th>rating</th>\n",
       "      <th>review_text</th>\n",
       "      <th>created_at</th>\n",
       "      <th>review_text_raw</th>\n",
       "      <th>tokens-dirty</th>\n",
       "      <th>tokens</th>\n",
       "      <th>lemmas</th>\n",
       "      <th>tokens-dirty-joined</th>\n",
       "      <th>tokens-joined</th>\n",
       "      <th>lemmas-joined</th>\n",
       "    </tr>\n",
       "  </thead>\n",
       "  <tbody>\n",
       "    <tr>\n",
       "      <th>0</th>\n",
       "      <td>100042</td>\n",
       "      <td>64a3999fe9da6900c763aa8d</td>\n",
       "      <td>7.0</td>\n",
       "      <td>Better then the original I think. Was pretty funny. I thought the comedy was better then the original too.</td>\n",
       "      <td>2023-07-04 04:01:35.517000+00:00</td>\n",
       "      <td>Better then the original I think. Was pretty funny. I thought the comedy was better then the original too.</td>\n",
       "      <td>[better, then, the, original, i, think, was, pretty, funny, i, thought, the, comedy, was, better, then, the, original, too]</td>\n",
       "      <td>[better, original, think, pretty, funny, thought, comedy, better, original]</td>\n",
       "      <td>[well, original, think, pretty, funny, think, comedy, well, original]</td>\n",
       "      <td>better then the original i think was pretty funny i thought the comedy was better then the original too</td>\n",
       "      <td>better original think pretty funny thought comedy better original</td>\n",
       "      <td>well original think pretty funny think comedy well original</td>\n",
       "    </tr>\n",
       "    <tr>\n",
       "      <th>1</th>\n",
       "      <td>10008</td>\n",
       "      <td>643d44864d67910469d853a2</td>\n",
       "      <td>5.0</td>\n",
       "      <td>Kind of boring. It's a good plot and storyline. Nothing really to keep you interested.</td>\n",
       "      <td>2023-04-17 13:07:18.832000+00:00</td>\n",
       "      <td>Kind of boring. It's a good plot and storyline. Nothing really to keep you interested.</td>\n",
       "      <td>[kind, of, boring, it, 's, a, good, plot, and, storyline, nothing, really, to, keep, you, interested]</td>\n",
       "      <td>[kind, boring, good, plot, storyline, interested]</td>\n",
       "      <td>[kind, boring, good, plot, storyline, interested]</td>\n",
       "      <td>kind of boring it 's a good plot and storyline nothing really to keep you interested</td>\n",
       "      <td>kind boring good plot storyline interested</td>\n",
       "      <td>kind boring good plot storyline interested</td>\n",
       "    </tr>\n",
       "    <tr>\n",
       "      <th>2</th>\n",
       "      <td>10009</td>\n",
       "      <td>5f22bd2b43999b00355b26a6</td>\n",
       "      <td>7.0</td>\n",
       "      <td>Heartwarming, if not as impactful as it intends to be.\\r\\n\\r\\n'Brother Bear' leaves heartfelt feelings and features a cute story. It does get a bit too melancholic in moments where it doesn't need to be or where it's not set up perfectly. It can ...</td>\n",
       "      <td>2020-07-30 12:29:31.310000+00:00</td>\n",
       "      <td>Heartwarming, if not as impactful as it intends to be.\\r\\n\\r\\n&lt;em&gt;'Brother Bear'&lt;/em&gt; leaves heartfelt feelings and features a cute story. It does get a bit too melancholic in moments where it doesn't need to be or where it's not set up perfectly...</td>\n",
       "      <td>[heartwarming, if, not, as, impactful, as, it, intends, to, be, brother, bear, leaves, heartfelt, feelings, and, features, a, cute, story, it, does, get, a, bit, too, melancholic, in, moments, where, it, does, n't, need, to, be, or, where, it, 's...</td>\n",
       "      <td>[heartwarming, impactful, intends, brother, bear, leaves, heartfelt, feelings, features, cute, story, bit, melancholic, moments, need, set, perfectly, feel, little, predictable, twist, decent, animation, wise, fine, early, aspect, ratio, stuff, o...</td>\n",
       "      <td>[heartwarme, impactful, intend, brother, bear, leave, heartfelt, feeling, feature, cute, story, bit, melancholic, moment, need, set, perfectly, feel, little, predictable, twist, decent, animation, wise, fine, early, aspect, ratio, stuff, oddly, v...</td>\n",
       "      <td>heartwarming if not as impactful as it intends to be brother bear leaves heartfelt feelings and features a cute story it does get a bit too melancholic in moments where it does n't need to be or where it 's not set up perfectly it can also feel a...</td>\n",
       "      <td>heartwarming impactful intends brother bear leaves heartfelt feelings features cute story bit melancholic moments need set perfectly feel little predictable twist decent animation wise fine early aspect ratio stuff oddly voice cast amazing despit...</td>\n",
       "      <td>heartwarme impactful intend brother bear leave heartfelt feeling feature cute story bit melancholic moment need set perfectly feel little predictable twist decent animation wise fine early aspect ratio stuff oddly voice cast amazing despite talen...</td>\n",
       "    </tr>\n",
       "    <tr>\n",
       "      <th>3</th>\n",
       "      <td>10009</td>\n",
       "      <td>6592736214956560f7da631f</td>\n",
       "      <td>7.0</td>\n",
       "      <td>\"Kenai\" is a young Inuit warrior who disturbs the spirits when he kills a bear. His punishment is to be turned into one himself, and be left to wander the wilderness alone. Luckily, he encounters the young cub \"Koda\" who thinks he might know the ...</td>\n",
       "      <td>2024-01-01 08:10:10.033000+00:00</td>\n",
       "      <td>\"Kenai\" is a young Inuit warrior who disturbs the spirits when he kills a bear. His punishment is to be turned into one himself, and be left to wander the wilderness alone. Luckily, he encounters the young cub \"Koda\" who thinks he might know the ...</td>\n",
       "      <td>[kenai, is, a, young, inuit, warrior, who, disturbs, the, spirits, when, he, kills, a, bear, his, punishment, is, to, be, turned, into, one, himself, and, be, left, to, wander, the, wilderness, alone, luckily, he, encounters, the, young, cub, kod...</td>\n",
       "      <td>[kenai, young, inuit, warrior, disturbs, spirits, kills, bear, punishment, turned, left, wander, wilderness, luckily, encounters, young, cub, koda, thinks, know, exact, spot, kenai, restored, humanity, help, quest, human, brother, denahi, thinks,...</td>\n",
       "      <td>[kenai, young, inuit, warrior, disturb, spirit, kill, bear, punishment, turn, leave, wander, wilderness, luckily, encounter, young, cub, koda, think, know, exact, spot, kenai, restore, humanity, help, quest, human, brother, denahi, think, kenai, ...</td>\n",
       "      <td>kenai is a young inuit warrior who disturbs the spirits when he kills a bear his punishment is to be turned into one himself and be left to wander the wilderness alone luckily he encounters the young cub koda who thinks he might know the exact sp...</td>\n",
       "      <td>kenai young inuit warrior disturbs spirits kills bear punishment turned left wander wilderness luckily encounters young cub koda thinks know exact spot kenai restored humanity help quest human brother denahi thinks kenai killed bear chasing new f...</td>\n",
       "      <td>kenai young inuit warrior disturb spirit kill bear punishment turn leave wander wilderness luckily encounter young cub koda think know exact spot kenai restore humanity help quest human brother denahi think kenai kill bear chase new form lethal i...</td>\n",
       "    </tr>\n",
       "    <tr>\n",
       "      <th>4</th>\n",
       "      <td>10012</td>\n",
       "      <td>628159c8caa50850dcf93d33</td>\n",
       "      <td>5.0</td>\n",
       "      <td>Seems like an apt title for everything that happened behind the scenes. If not for Justice League (which cost $250M+), this might be the poster child of what happens when a studio messes around with a project. Honestly I really hope one day we ge...</td>\n",
       "      <td>2022-05-15 19:51:36.244000+00:00</td>\n",
       "      <td>Seems like an apt title for everything that happened behind the scenes. If not for Justice League (which cost $250M+), this might be the poster child of what happens when a studio messes around with a project. Honestly I really hope one day we ge...</td>\n",
       "      <td>[seems, like, an, apt, title, for, everything, that, happened, behind, the, scenes, if, not, for, justice, league, which, cost, $, 250m+, this, might, be, the, poster, child, of, what, happens, when, a, studio, messes, around, with, a, project, h...</td>\n",
       "      <td>[like, apt, title, happened, scenes, justice, league, cost, $, 250m+, poster, child, happens, studio, messes, project, honestly, hope, day, documentary, footage, cuts, actors, removed, movie, surprising, watchable, hardly, good, 2.5/5]</td>\n",
       "      <td>[like, apt, title, happen, scene, justice, league, cost, $, 250m+, poster, child, happen, studio, mess, project, honestly, hope, day, documentary, footage, cut, actor, remove, movie, surprising, watchable, hardly, good, 2.5/5]</td>\n",
       "      <td>seems like an apt title for everything that happened behind the scenes if not for justice league which cost $ 250m+ this might be the poster child of what happens when a studio messes around with a project honestly i really hope one day we get a ...</td>\n",
       "      <td>like apt title happened scenes justice league cost $ 250m+ poster child happens studio messes project honestly hope day documentary footage cuts actors removed movie surprising watchable hardly good 2.5/5</td>\n",
       "      <td>like apt title happen scene justice league cost $ 250m+ poster child happen studio mess project honestly hope day documentary footage cut actor remove movie surprising watchable hardly good 2.5/5</td>\n",
       "    </tr>\n",
       "  </tbody>\n",
       "</table>\n",
       "</div>"
      ],
      "text/plain": [
       "   movie_id                 review_id  rating  \\\n",
       "0    100042  64a3999fe9da6900c763aa8d     7.0   \n",
       "1     10008  643d44864d67910469d853a2     5.0   \n",
       "2     10009  5f22bd2b43999b00355b26a6     7.0   \n",
       "3     10009  6592736214956560f7da631f     7.0   \n",
       "4     10012  628159c8caa50850dcf93d33     5.0   \n",
       "\n",
       "                                                                                                                                                                                                                                                 review_text  \\\n",
       "0                                                                                                                                                 Better then the original I think. Was pretty funny. I thought the comedy was better then the original too.   \n",
       "1                                                                                                                                                                     Kind of boring. It's a good plot and storyline. Nothing really to keep you interested.   \n",
       "2  Heartwarming, if not as impactful as it intends to be.\\r\\n\\r\\n'Brother Bear' leaves heartfelt feelings and features a cute story. It does get a bit too melancholic in moments where it doesn't need to be or where it's not set up perfectly. It can ...   \n",
       "3  \"Kenai\" is a young Inuit warrior who disturbs the spirits when he kills a bear. His punishment is to be turned into one himself, and be left to wander the wilderness alone. Luckily, he encounters the young cub \"Koda\" who thinks he might know the ...   \n",
       "4  Seems like an apt title for everything that happened behind the scenes. If not for Justice League (which cost $250M+), this might be the poster child of what happens when a studio messes around with a project. Honestly I really hope one day we ge...   \n",
       "\n",
       "                         created_at  \\\n",
       "0  2023-07-04 04:01:35.517000+00:00   \n",
       "1  2023-04-17 13:07:18.832000+00:00   \n",
       "2  2020-07-30 12:29:31.310000+00:00   \n",
       "3  2024-01-01 08:10:10.033000+00:00   \n",
       "4  2022-05-15 19:51:36.244000+00:00   \n",
       "\n",
       "                                                                                                                                                                                                                                             review_text_raw  \\\n",
       "0                                                                                                                                                 Better then the original I think. Was pretty funny. I thought the comedy was better then the original too.   \n",
       "1                                                                                                                                                                     Kind of boring. It's a good plot and storyline. Nothing really to keep you interested.   \n",
       "2  Heartwarming, if not as impactful as it intends to be.\\r\\n\\r\\n<em>'Brother Bear'</em> leaves heartfelt feelings and features a cute story. It does get a bit too melancholic in moments where it doesn't need to be or where it's not set up perfectly...   \n",
       "3  \"Kenai\" is a young Inuit warrior who disturbs the spirits when he kills a bear. His punishment is to be turned into one himself, and be left to wander the wilderness alone. Luckily, he encounters the young cub \"Koda\" who thinks he might know the ...   \n",
       "4  Seems like an apt title for everything that happened behind the scenes. If not for Justice League (which cost $250M+), this might be the poster child of what happens when a studio messes around with a project. Honestly I really hope one day we ge...   \n",
       "\n",
       "                                                                                                                                                                                                                                                tokens-dirty  \\\n",
       "0                                                                                                                                [better, then, the, original, i, think, was, pretty, funny, i, thought, the, comedy, was, better, then, the, original, too]   \n",
       "1                                                                                                                                                      [kind, of, boring, it, 's, a, good, plot, and, storyline, nothing, really, to, keep, you, interested]   \n",
       "2  [heartwarming, if, not, as, impactful, as, it, intends, to, be, brother, bear, leaves, heartfelt, feelings, and, features, a, cute, story, it, does, get, a, bit, too, melancholic, in, moments, where, it, does, n't, need, to, be, or, where, it, 's...   \n",
       "3  [kenai, is, a, young, inuit, warrior, who, disturbs, the, spirits, when, he, kills, a, bear, his, punishment, is, to, be, turned, into, one, himself, and, be, left, to, wander, the, wilderness, alone, luckily, he, encounters, the, young, cub, kod...   \n",
       "4  [seems, like, an, apt, title, for, everything, that, happened, behind, the, scenes, if, not, for, justice, league, which, cost, $, 250m+, this, might, be, the, poster, child, of, what, happens, when, a, studio, messes, around, with, a, project, h...   \n",
       "\n",
       "                                                                                                                                                                                                                                                      tokens  \\\n",
       "0                                                                                                                                                                                [better, original, think, pretty, funny, thought, comedy, better, original]   \n",
       "1                                                                                                                                                                                                          [kind, boring, good, plot, storyline, interested]   \n",
       "2  [heartwarming, impactful, intends, brother, bear, leaves, heartfelt, feelings, features, cute, story, bit, melancholic, moments, need, set, perfectly, feel, little, predictable, twist, decent, animation, wise, fine, early, aspect, ratio, stuff, o...   \n",
       "3  [kenai, young, inuit, warrior, disturbs, spirits, kills, bear, punishment, turned, left, wander, wilderness, luckily, encounters, young, cub, koda, thinks, know, exact, spot, kenai, restored, humanity, help, quest, human, brother, denahi, thinks,...   \n",
       "4                [like, apt, title, happened, scenes, justice, league, cost, $, 250m+, poster, child, happens, studio, messes, project, honestly, hope, day, documentary, footage, cuts, actors, removed, movie, surprising, watchable, hardly, good, 2.5/5]   \n",
       "\n",
       "                                                                                                                                                                                                                                                      lemmas  \\\n",
       "0                                                                                                                                                                                      [well, original, think, pretty, funny, think, comedy, well, original]   \n",
       "1                                                                                                                                                                                                          [kind, boring, good, plot, storyline, interested]   \n",
       "2  [heartwarme, impactful, intend, brother, bear, leave, heartfelt, feeling, feature, cute, story, bit, melancholic, moment, need, set, perfectly, feel, little, predictable, twist, decent, animation, wise, fine, early, aspect, ratio, stuff, oddly, v...   \n",
       "3  [kenai, young, inuit, warrior, disturb, spirit, kill, bear, punishment, turn, leave, wander, wilderness, luckily, encounter, young, cub, koda, think, know, exact, spot, kenai, restore, humanity, help, quest, human, brother, denahi, think, kenai, ...   \n",
       "4                         [like, apt, title, happen, scene, justice, league, cost, $, 250m+, poster, child, happen, studio, mess, project, honestly, hope, day, documentary, footage, cut, actor, remove, movie, surprising, watchable, hardly, good, 2.5/5]   \n",
       "\n",
       "                                                                                                                                                                                                                                         tokens-dirty-joined  \\\n",
       "0                                                                                                                                                    better then the original i think was pretty funny i thought the comedy was better then the original too   \n",
       "1                                                                                                                                                                       kind of boring it 's a good plot and storyline nothing really to keep you interested   \n",
       "2  heartwarming if not as impactful as it intends to be brother bear leaves heartfelt feelings and features a cute story it does get a bit too melancholic in moments where it does n't need to be or where it 's not set up perfectly it can also feel a...   \n",
       "3  kenai is a young inuit warrior who disturbs the spirits when he kills a bear his punishment is to be turned into one himself and be left to wander the wilderness alone luckily he encounters the young cub koda who thinks he might know the exact sp...   \n",
       "4  seems like an apt title for everything that happened behind the scenes if not for justice league which cost $ 250m+ this might be the poster child of what happens when a studio messes around with a project honestly i really hope one day we get a ...   \n",
       "\n",
       "                                                                                                                                                                                                                                               tokens-joined  \\\n",
       "0                                                                                                                                                                                          better original think pretty funny thought comedy better original   \n",
       "1                                                                                                                                                                                                                 kind boring good plot storyline interested   \n",
       "2  heartwarming impactful intends brother bear leaves heartfelt feelings features cute story bit melancholic moments need set perfectly feel little predictable twist decent animation wise fine early aspect ratio stuff oddly voice cast amazing despit...   \n",
       "3  kenai young inuit warrior disturbs spirits kills bear punishment turned left wander wilderness luckily encounters young cub koda thinks know exact spot kenai restored humanity help quest human brother denahi thinks kenai killed bear chasing new f...   \n",
       "4                                               like apt title happened scenes justice league cost $ 250m+ poster child happens studio messes project honestly hope day documentary footage cuts actors removed movie surprising watchable hardly good 2.5/5   \n",
       "\n",
       "                                                                                                                                                                                                                                               lemmas-joined  \n",
       "0                                                                                                                                                                                                well original think pretty funny think comedy well original  \n",
       "1                                                                                                                                                                                                                 kind boring good plot storyline interested  \n",
       "2  heartwarme impactful intend brother bear leave heartfelt feeling feature cute story bit melancholic moment need set perfectly feel little predictable twist decent animation wise fine early aspect ratio stuff oddly voice cast amazing despite talen...  \n",
       "3  kenai young inuit warrior disturb spirit kill bear punishment turn leave wander wilderness luckily encounter young cub koda think know exact spot kenai restore humanity help quest human brother denahi think kenai kill bear chase new form lethal i...  \n",
       "4                                                        like apt title happen scene justice league cost $ 250m+ poster child happen studio mess project honestly hope day documentary footage cut actor remove movie surprising watchable hardly good 2.5/5  "
      ]
     },
     "execution_count": 77,
     "metadata": {},
     "output_type": "execute_result"
    }
   ],
   "source": [
    "# confirming saved properly\n",
    "loaded = joblib.load(FPATHS['data']['raw']['processed-joblib'])\n",
    "loaded.head()"
   ]
  },
  {
   "cell_type": "markdown",
   "id": "d93dac43-56ab-4c7f-b2e4-41dd3c1432ab",
   "metadata": {
    "jp-MarkdownHeadingCollapsed": true
   },
   "source": [
    "# NEW NOTEBOOK: Part 6B - NLP EDA\n"
   ]
  },
  {
   "cell_type": "code",
   "execution_count": 78,
   "id": "2ba5db2c-7a84-453d-95d2-e04503413c70",
   "metadata": {
    "execution": {
     "iopub.execute_input": "2024-01-23T05:17:35.007672Z",
     "iopub.status.busy": "2024-01-23T05:17:35.007576Z",
     "iopub.status.idle": "2024-01-23T05:17:35.506044Z",
     "shell.execute_reply": "2024-01-23T05:17:35.505531Z",
     "shell.execute_reply.started": "2024-01-23T05:17:35.007663Z"
    }
   },
   "outputs": [
    {
     "ename": "Exception",
     "evalue": "Split below into new notebook",
     "output_type": "error",
     "traceback": [
      "\u001b[0;31m---------------------------------------------------------------------------\u001b[0m",
      "\u001b[0;31mException\u001b[0m                                 Traceback (most recent call last)",
      "Cell \u001b[0;32mIn[78], line 1\u001b[0m\n\u001b[0;32m----> 1\u001b[0m \u001b[38;5;28;01mraise\u001b[39;00m \u001b[38;5;167;01mException\u001b[39;00m(\u001b[38;5;124m\"\u001b[39m\u001b[38;5;124mSplit below into new notebook\u001b[39m\u001b[38;5;124m\"\u001b[39m)\n",
      "\u001b[0;31mException\u001b[0m: Split below into new notebook"
     ]
    }
   ],
   "source": [
    "raise Exception(\"Split below into new notebook\")"
   ]
  },
  {
   "cell_type": "code",
   "execution_count": null,
   "id": "af256eeb-4f64-40d0-89a6-eacdd629096d",
   "metadata": {},
   "outputs": [],
   "source": []
  },
  {
   "cell_type": "markdown",
   "id": "2ce759ef-bfd5-43ab-95d9-8e8d7c489992",
   "metadata": {},
   "source": [
    "## Load Data"
   ]
  },
  {
   "cell_type": "code",
   "execution_count": null,
   "id": "e1bbfd8a-4178-43e2-856a-450dcbaf802f",
   "metadata": {
    "execution": {
     "iopub.status.busy": "2024-01-23T05:17:35.506280Z",
     "iopub.status.idle": "2024-01-23T05:17:35.506396Z",
     "shell.execute_reply": "2024-01-23T05:17:35.506337Z",
     "shell.execute_reply.started": "2024-01-23T05:17:35.506331Z"
    }
   },
   "outputs": [],
   "source": [
    "LOAD_PREVIOUS = False"
   ]
  },
  {
   "cell_type": "code",
   "execution_count": null,
   "id": "421395db-0b09-42c2-8eb6-4d1530768e93",
   "metadata": {
    "execution": {
     "iopub.status.busy": "2024-01-23T05:17:35.506758Z",
     "iopub.status.idle": "2024-01-23T05:17:35.506917Z",
     "shell.execute_reply": "2024-01-23T05:17:35.506855Z",
     "shell.execute_reply.started": "2024-01-23T05:17:35.506849Z"
    }
   },
   "outputs": [],
   "source": [
    "# combined_reviews_fname = FPATHS['data']['raw']['movie-reviews']\n",
    "combined_reviews_fname = 'Data-NLP/combined-tmdb-movie-reviews.csv.gz'"
   ]
  },
  {
   "cell_type": "code",
   "execution_count": null,
   "id": "2b79b0f3-efcf-47e7-b2ec-d5b74da15fc7",
   "metadata": {
    "execution": {
     "iopub.status.busy": "2024-01-23T05:17:35.507242Z",
     "iopub.status.idle": "2024-01-23T05:17:35.507352Z",
     "shell.execute_reply": "2024-01-23T05:17:35.507295Z",
     "shell.execute_reply.started": "2024-01-23T05:17:35.507290Z"
    }
   },
   "outputs": [],
   "source": [
    "# fpath = FPATHS['data']['raw']['movie-info']\n",
    "# movies_df = pd.read_csv(fpath)\n",
    "# movies_df.head()"
   ]
  },
  {
   "cell_type": "code",
   "execution_count": null,
   "id": "991c6e9c-ae54-4da7-bbf2-71e0e72675ec",
   "metadata": {
    "execution": {
     "iopub.status.busy": "2024-01-23T05:17:35.507717Z",
     "iopub.status.idle": "2024-01-23T05:17:35.507824Z",
     "shell.execute_reply": "2024-01-23T05:17:35.507767Z",
     "shell.execute_reply.started": "2024-01-23T05:17:35.507762Z"
    }
   },
   "outputs": [],
   "source": [
    "import joblib\n",
    "if LOAD_PREVIOUS==False:\n",
    "    print(\"[i] Loading raw data from csv.\\n\")\n",
    "    # fpath = FPATHS['data']['raw']['movie-reviews']\n",
    "    fpath = combined_reviews_fname\n",
    "    df = pd.read_csv(fpath)\n",
    "else:\n",
    "    print(\"[i] Loading preprocessed data from joblib.\\n\")\n",
    "    fpath = FPATHS['data']['raw']['processed-joblib']\n",
    "    df=  joblib.load(fpath)\n",
    "    \n",
    "df.info()\n",
    "display(df.head())"
   ]
  },
  {
   "cell_type": "code",
   "execution_count": null,
   "id": "f25a2ed8-8793-460e-ad08-c02cf9360a9f",
   "metadata": {
    "execution": {
     "iopub.status.busy": "2024-01-23T05:17:35.508237Z",
     "iopub.status.idle": "2024-01-23T05:17:35.508332Z",
     "shell.execute_reply": "2024-01-23T05:17:35.508285Z",
     "shell.execute_reply.started": "2024-01-23T05:17:35.508280Z"
    }
   },
   "outputs": [],
   "source": [
    "# Check for null values\n",
    "missingno.matrix(df)\n",
    "df.isna().sum()"
   ]
  },
  {
   "cell_type": "code",
   "execution_count": null,
   "id": "64e8b45f-c7ae-4e47-af66-722183117da1",
   "metadata": {
    "execution": {
     "iopub.status.busy": "2024-01-23T05:17:35.508645Z",
     "iopub.status.idle": "2024-01-23T05:17:35.508747Z",
     "shell.execute_reply": "2024-01-23T05:17:35.508692Z",
     "shell.execute_reply.started": "2024-01-23T05:17:35.508687Z"
    }
   },
   "outputs": [],
   "source": [
    "# Dropping reviews without a rating\n",
    "df_ml = df.dropna(subset=['rating'])\n",
    "missingno.matrix(df_ml)"
   ]
  },
  {
   "cell_type": "markdown",
   "id": "a8f386d4-e6be-4c7d-bdf2-ceba693404a5",
   "metadata": {
    "jp-MarkdownHeadingCollapsed": true
   },
   "source": [
    "# Predict Ratings"
   ]
  },
  {
   "cell_type": "markdown",
   "id": "87eab6b9-2d5b-49e8-a902-f4e85a58bb24",
   "metadata": {},
   "source": [
    "### Define Groups"
   ]
  },
  {
   "cell_type": "code",
   "execution_count": null,
   "id": "49a40cca-a70c-4b53-97ad-242cf50beb8a",
   "metadata": {
    "execution": {
     "iopub.status.busy": "2024-01-23T05:17:35.509164Z",
     "iopub.status.idle": "2024-01-23T05:17:35.509289Z",
     "shell.execute_reply": "2024-01-23T05:17:35.509228Z",
     "shell.execute_reply.started": "2024-01-23T05:17:35.509221Z"
    }
   },
   "outputs": [],
   "source": [
    "sns.histplot(df_ml['rating'])"
   ]
  },
  {
   "cell_type": "markdown",
   "id": "64f7afea-9d26-410e-8674-777fcef0320c",
   "metadata": {},
   "source": [
    "- \"High Rating\": >= 9\n",
    "- \"Low Rating\": <= 4"
   ]
  },
  {
   "cell_type": "code",
   "execution_count": null,
   "id": "2e1cfbe0-b8d4-440c-85b1-9e2539a0c0ae",
   "metadata": {
    "execution": {
     "iopub.status.busy": "2024-01-23T05:17:35.509927Z",
     "iopub.status.idle": "2024-01-23T05:17:35.510102Z",
     "shell.execute_reply": "2024-01-23T05:17:35.510041Z",
     "shell.execute_reply.started": "2024-01-23T05:17:35.510035Z"
    }
   },
   "outputs": [],
   "source": [
    "# def set_groups(x):\n",
    "#     if x >= 7:\n",
    "#         group = \"High\"\n",
    "#     elif x>=5:\n",
    "#         group=\"Mid\"\n",
    "#     else:\n",
    "#         group= \"Low'\"\n",
    "#     return group"
   ]
  },
  {
   "cell_type": "code",
   "execution_count": null,
   "id": "01cf5245-d14b-4a08-8a3c-4b5b1147e323",
   "metadata": {
    "execution": {
     "iopub.status.busy": "2024-01-23T05:17:35.510826Z",
     "iopub.status.idle": "2024-01-23T05:17:35.510970Z",
     "shell.execute_reply": "2024-01-23T05:17:35.510894Z",
     "shell.execute_reply.started": "2024-01-23T05:17:35.510888Z"
    }
   },
   "outputs": [],
   "source": [
    "def set_group_binary(x):\n",
    "    if x >= 9:\n",
    "        group = \"High\"\n",
    "    elif x<=4:\n",
    "        group=\"Low\"\n",
    "    else:\n",
    "        group = pd.NA\n",
    "    return group"
   ]
  },
  {
   "cell_type": "code",
   "execution_count": null,
   "id": "a4017876-3aea-4e4e-9a3e-3626c6cc6d5d",
   "metadata": {
    "execution": {
     "iopub.status.busy": "2024-01-23T05:17:35.511450Z",
     "iopub.status.idle": "2024-01-23T05:17:35.511578Z",
     "shell.execute_reply": "2024-01-23T05:17:35.511513Z",
     "shell.execute_reply.started": "2024-01-23T05:17:35.511507Z"
    }
   },
   "outputs": [],
   "source": [
    "# df_ml = df.copy()\n",
    "df_ml['target'] = df_ml['rating'].map(set_group_binary)\n",
    "df_ml['target'].value_counts(dropna=True, normalize=True)"
   ]
  },
  {
   "cell_type": "code",
   "execution_count": null,
   "id": "c4cfb390-c3b3-4d48-949f-86992ff31833",
   "metadata": {
    "execution": {
     "iopub.status.busy": "2024-01-23T05:17:35.512076Z",
     "iopub.status.idle": "2024-01-23T05:17:35.512193Z",
     "shell.execute_reply": "2024-01-23T05:17:35.512133Z",
     "shell.execute_reply.started": "2024-01-23T05:17:35.512128Z"
    }
   },
   "outputs": [],
   "source": [
    "fig, axes =  plt.subplots(ncols=2, figsize=(10,5))\n",
    "sns.histplot(data=df_ml, x='rating', hue='target', ax=axes[0])\n",
    "sns.countplot(data=df_ml, x='target', ax=axes[1])\n",
    "fig.tight_layout()"
   ]
  },
  {
   "cell_type": "markdown",
   "id": "9eda8f93-c8a7-429f-986b-8c9fffccde22",
   "metadata": {},
   "source": [
    "### NLP Preprocessing"
   ]
  },
  {
   "cell_type": "code",
   "execution_count": null,
   "id": "d2dc13dc-8e99-45aa-8101-4d03bdb433b3",
   "metadata": {
    "execution": {
     "iopub.status.busy": "2024-01-23T05:17:35.512890Z",
     "iopub.status.idle": "2024-01-23T05:17:35.513028Z",
     "shell.execute_reply": "2024-01-23T05:17:35.512964Z",
     "shell.execute_reply.started": "2024-01-23T05:17:35.512958Z"
    }
   },
   "outputs": [],
   "source": [
    "THRESH = 1000\n",
    "df_ml['length'] = df_ml['review_text'].map(lambda x: len(x.split()))\n",
    "ax = sns.histplot(data=df_ml, x='length')\n",
    "ax.axvline(THRESH, color='red', ls=':');\n",
    "ax.set(title='Review Lengths (Whitespace Tokens)')"
   ]
  },
  {
   "cell_type": "code",
   "execution_count": null,
   "id": "2622c745-0b41-41a3-a30a-f883258258d3",
   "metadata": {
    "execution": {
     "iopub.status.busy": "2024-01-23T05:17:35.513824Z",
     "iopub.status.idle": "2024-01-23T05:17:35.513970Z",
     "shell.execute_reply": "2024-01-23T05:17:35.513895Z",
     "shell.execute_reply.started": "2024-01-23T05:17:35.513889Z"
    }
   },
   "outputs": [],
   "source": [
    "# import spacy\n",
    "# # Disable parser and ner\n",
    "# nlp_light = spacy.load(\"en_core_web_sm\", disable=['parser','ner'])\n",
    "# # Print active components\n",
    "# nlp_light.pipe_names"
   ]
  },
  {
   "cell_type": "code",
   "execution_count": null,
   "id": "b3681d8c-5949-4089-adb7-0299e92b9d66",
   "metadata": {
    "execution": {
     "iopub.status.busy": "2024-01-23T05:17:35.514582Z",
     "iopub.status.idle": "2024-01-23T05:17:35.514810Z",
     "shell.execute_reply": "2024-01-23T05:17:35.514717Z",
     "shell.execute_reply.started": "2024-01-23T05:17:35.514706Z"
    }
   },
   "outputs": [],
   "source": [
    "import spacy\n",
    "# Custom NLP Object\n",
    "nlp_custom = fn.nlp.make_custom_nlp(disable=['ner'],#'parser'],\n",
    "                                contractions=[],\n",
    "                            stopwords_to_add=[\"★\"])\n",
    "nlp_custom"
   ]
  },
  {
   "cell_type": "code",
   "execution_count": null,
   "id": "6a60ee31-35c2-4028-88cf-d9e99bd81cb7",
   "metadata": {
    "execution": {
     "iopub.status.busy": "2024-01-23T05:17:35.515563Z",
     "iopub.status.idle": "2024-01-23T05:17:35.515719Z",
     "shell.execute_reply": "2024-01-23T05:17:35.515644Z",
     "shell.execute_reply.started": "2024-01-23T05:17:35.515638Z"
    }
   },
   "outputs": [],
   "source": [
    "%%time\n",
    "if LOAD_PREVIOUS == False:\n",
    "    print(f\"- Running full spacy preprocessing code (this will take several minutes).\")\n",
    "    df = df.copy()\n",
    "    df[\"tokens-dirty\"] = fn.nlp.batch_preprocess_texts(\n",
    "        df[\"review_text\"],\n",
    "        remove_stopwords=False,\n",
    "        remove_punct=True,\n",
    "        use_lemmas=False,\n",
    "        nlp=nlp_custom,\n",
    "    )\n",
    "    df[\"tokens\"] = fn.nlp.batch_preprocess_texts(\n",
    "        df[\"review_text\"],\n",
    "        remove_stopwords=True,\n",
    "        remove_punct=True,\n",
    "        use_lemmas=False,\n",
    "        nlp=nlp_custom,\n",
    "    )\n",
    "    df[\"lemmas\"] = fn.nlp.batch_preprocess_texts(\n",
    "        df[\"review_text\"],\n",
    "        remove_stopwords=True,\n",
    "        remove_punct=True,\n",
    "        use_lemmas=True,\n",
    "        nlp=nlp_custom,\n",
    "    )\n",
    "\n",
    "    ## Make string versions of processed text\n",
    "    df[\"tokens-dirty-joined\"] = df[\"tokens-dirty\"].map(lambda x: \" \".join(x))\n",
    "    df[\"tokens-joined\"] = df[\"tokens\"].map(lambda x: \" \".join(x))\n",
    "    df[\"lemmas-joined\"] = df[\"lemmas\"].map(lambda x: \" \".join(x))\n",
    "else:\n",
    "    print(f\"- Skipped preprocessing code (since LOADED_PREVIOUS == True).\")\n",
    "df.head()"
   ]
  },
  {
   "cell_type": "markdown",
   "id": "32a5d360-1b88-49d9-9156-02d2566fbac1",
   "metadata": {},
   "source": [
    "- %%time for .map approach:\n",
    "```\n",
    "CPU times: user 3min 56s, sys: 7.99 s, total: 4min 4s\n",
    "Wall time: 4min 6s\n",
    "```"
   ]
  },
  {
   "cell_type": "markdown",
   "id": "2c972712-c47e-4420-868d-61f0b70f9d0e",
   "metadata": {},
   "source": [
    "### Save Joblib"
   ]
  },
  {
   "cell_type": "code",
   "execution_count": null,
   "id": "8b362abd-e9f1-4a61-abd8-eb1a5291ea90",
   "metadata": {
    "execution": {
     "iopub.status.busy": "2024-01-23T05:17:35.517066Z",
     "iopub.status.idle": "2024-01-23T05:17:35.517611Z",
     "shell.execute_reply": "2024-01-23T05:17:35.517485Z",
     "shell.execute_reply.started": "2024-01-23T05:17:35.517473Z"
    }
   },
   "outputs": [],
   "source": [
    "import joblib\n",
    "fpath = FPATHS['data']['raw']['processed-joblib']\n",
    "joblib.dump(df, fpath)"
   ]
  },
  {
   "cell_type": "code",
   "execution_count": null,
   "id": "7cceb993-8940-4ead-b935-e9201fa0fa1e",
   "metadata": {
    "execution": {
     "iopub.status.busy": "2024-01-23T05:17:35.518441Z",
     "iopub.status.idle": "2024-01-23T05:17:35.518665Z",
     "shell.execute_reply": "2024-01-23T05:17:35.518523Z",
     "shell.execute_reply.started": "2024-01-23T05:17:35.518517Z"
    }
   },
   "outputs": [],
   "source": [
    "# confirming saved properly\n",
    "loaded = joblib.load(FPATHS['data']['raw']['processed-joblib'])\n",
    "loaded.head()"
   ]
  },
  {
   "cell_type": "markdown",
   "id": "c95e30c6-a531-4582-a8f8-621be53d8917",
   "metadata": {
    "jp-MarkdownHeadingCollapsed": true
   },
   "source": [
    "# Part 2) EDA and Visualization"
   ]
  },
  {
   "cell_type": "markdown",
   "id": "d3b011c1-3106-42ca-aa16-240d4306a2aa",
   "metadata": {},
   "source": [
    "**2) EDA and Visualization:**\n",
    "\n",
    "- Create word clouds to visualize the most frequent and significant words in each group.\n",
    "    - Remember, you can use this analysis to identify additional custom EDA stop words to use for visualization. (e.g., if the words are common in both groups)\n",
    "    - **Save your wordclouds as .png files in the \"Images/\" folder in your repo.**\n",
    "\n",
    "\n",
    "\n",
    "- Apply nltk's `FreqDist` class to compare the frequency distribution of words in the review groups.\n",
    "    - Remember, you can use this analysis to identify additional custom EDA stop words to use for visualization. (e.g., if the words are common in both groups)\n",
    "    - **Save your freq dist plots as .png files in the \"Images/\" folder in your repo.**\n",
    "\n",
    "\n",
    "\n",
    "- Perform n-grams analysis (bigrams and trigrams),\n",
    "    - Remember, you can use this analysis to identify additional custom stop words to use for EDA. (e.g., if the words are common in both groups)\n",
    "    - Focus on bigrams or trigrams, using NLTK's `BigramCollocationFinder` and BigramAssocMeasures classes (or the Trigram equivalent Finder and Measures) to explore commonly used groups of words for each rating-group.\n",
    "    - Describe any differences. What do these differences tell you?\n",
    "    - `Save your...`?\n",
    "\n",
    "\n",
    "\n",
    "- Perform sentiment analysis to create polarity scores according to VADERS's sentiment lexicon.\n",
    "\n",
    "    - Compare the sentiments of high-rating and low-rating texts.\n",
    "\n",
    "    - Compare the average sentiment scores for high and low-rating reviews.\n",
    "\n",
    "    - Which review polarity scores don't match the ratings? Why do you think this is?\n",
    "\n",
    "        \n",
    "\n",
    "**3) Evaluation and Reporting:**\n",
    "\n",
    "- Based on your analyses, what should someone do (or not do) if they want to make a highly-rated movie?\n",
    "    - List 3 things associated with high-rating reviews\n",
    "    - List 3 things associated with low-rating reviews."
   ]
  },
  {
   "cell_type": "markdown",
   "id": "ebee29ae-1b9b-4d0a-a685-094462a123b4",
   "metadata": {},
   "source": [
    "> Adding imports as-if standalone notebook"
   ]
  },
  {
   "cell_type": "code",
   "execution_count": null,
   "id": "54bf32a6-73c4-48df-bfd8-a4a69de471c9",
   "metadata": {
    "execution": {
     "iopub.status.busy": "2024-01-23T05:17:35.519342Z",
     "iopub.status.idle": "2024-01-23T05:17:35.519526Z",
     "shell.execute_reply": "2024-01-23T05:17:35.519423Z",
     "shell.execute_reply.started": "2024-01-23T05:17:35.519417Z"
    }
   },
   "outputs": [],
   "source": [
    "import matplotlib.pyplot as plt\n",
    "import missingno\n",
    "import matplotlib as mpl\n",
    "import seaborn as sns\n",
    "import numpy as np\n",
    "import pandas as pd\n",
    "\n",
    "import spacy\n",
    "nlp_custom = fn.nlp.make_custom_nlp(disable=['ner','parser'],contractions=[],\n",
    "                            stopwords_to_add=[\"★\"])\n",
    "nlp_custom\n",
    "# Disable parser and ner\n",
    "# nlp_light = spacy.load(\"en_core_web_sm\", disable=['parser','ner'])"
   ]
  },
  {
   "cell_type": "code",
   "execution_count": null,
   "id": "8ede3ce8-95a7-4300-90fc-1f82239f1a58",
   "metadata": {
    "execution": {
     "iopub.status.busy": "2024-01-23T05:17:35.520281Z",
     "iopub.status.idle": "2024-01-23T05:17:35.520592Z",
     "shell.execute_reply": "2024-01-23T05:17:35.520501Z",
     "shell.execute_reply.started": "2024-01-23T05:17:35.520491Z"
    }
   },
   "outputs": [],
   "source": [
    "import joblib\n",
    "# fname_data_joblib = \"Data/processed-nlp-data.joblib\"\n",
    "fname_data_joblib = FPATHS['data']['raw']['processed-joblib']\n",
    "df = joblib.load(fname_data_joblib)\n",
    "df"
   ]
  },
  {
   "cell_type": "markdown",
   "id": "51a64bb1-bba6-44bf-b455-122123323726",
   "metadata": {},
   "source": [
    "## Checking for Bad Reviews (HTML)"
   ]
  },
  {
   "cell_type": "markdown",
   "id": "5714ed49-1952-43d3-bc7a-1d1add350aba",
   "metadata": {},
   "source": [
    "- There were URLs and html tags in the bigrams/trigrams (PMI).\n",
    "- Checking for and removing reviews that contain these artificats (if we can afford to drop)"
   ]
  },
  {
   "cell_type": "markdown",
   "id": "9e175fdc-accd-446e-8ae5-539326671aa0",
   "metadata": {},
   "source": [
    "### `ADMIN TO DO`:\n",
    ">- Discuss with Brenda if should warn students."
   ]
  },
  {
   "cell_type": "code",
   "execution_count": null,
   "id": "434823fe-c2ae-4c1d-9c15-a89b7436c09d",
   "metadata": {
    "execution": {
     "iopub.status.busy": "2024-01-23T05:17:35.521401Z",
     "iopub.status.idle": "2024-01-23T05:17:35.521564Z",
     "shell.execute_reply": "2024-01-23T05:17:35.521495Z",
     "shell.execute_reply.started": "2024-01-23T05:17:35.521488Z"
    }
   },
   "outputs": [],
   "source": [
    "filter_http = df['review_text'].str.contains('http')\n",
    "filter_http.sum()"
   ]
  },
  {
   "cell_type": "code",
   "execution_count": null,
   "id": "59743e70-494b-4304-823c-33add02a9876",
   "metadata": {
    "execution": {
     "iopub.status.busy": "2024-01-23T05:17:35.522227Z",
     "iopub.status.idle": "2024-01-23T05:17:35.522368Z",
     "shell.execute_reply": "2024-01-23T05:17:35.522303Z",
     "shell.execute_reply.started": "2024-01-23T05:17:35.522298Z"
    }
   },
   "outputs": [],
   "source": [
    "filter_hrefs = df['review_text'].str.contains('href')\n",
    "filter_hrefs.sum()"
   ]
  },
  {
   "cell_type": "code",
   "execution_count": null,
   "id": "dbcc3c15-a465-450e-b5dd-71b9eac9218b",
   "metadata": {
    "execution": {
     "iopub.status.busy": "2024-01-23T05:17:35.522877Z",
     "iopub.status.idle": "2024-01-23T05:17:35.523071Z",
     "shell.execute_reply": "2024-01-23T05:17:35.522950Z",
     "shell.execute_reply.started": "2024-01-23T05:17:35.522944Z"
    }
   },
   "outputs": [],
   "source": [
    "(filter_http | filter_hrefs).sum()"
   ]
  },
  {
   "cell_type": "code",
   "execution_count": null,
   "id": "42af6489-de26-4d68-8888-e10b480377bf",
   "metadata": {},
   "outputs": [],
   "source": []
  },
  {
   "cell_type": "code",
   "execution_count": null,
   "id": "2510eaba-97af-4f28-b3bc-943509537e1a",
   "metadata": {
    "execution": {
     "iopub.status.busy": "2024-01-23T05:17:35.523941Z",
     "iopub.status.idle": "2024-01-23T05:17:35.524198Z",
     "shell.execute_reply": "2024-01-23T05:17:35.524078Z",
     "shell.execute_reply.started": "2024-01-23T05:17:35.524065Z"
    }
   },
   "outputs": [],
   "source": [
    "## Removing reviews with 'href' in review\n",
    "df = df.loc[~(filter_http | filter_hrefs)]\n",
    "df"
   ]
  },
  {
   "cell_type": "code",
   "execution_count": null,
   "id": "e41158a5-7fb1-41a1-b326-def170ffb9f7",
   "metadata": {
    "execution": {
     "iopub.status.busy": "2024-01-23T05:17:35.525073Z",
     "iopub.status.idle": "2024-01-23T05:17:35.525315Z",
     "shell.execute_reply": "2024-01-23T05:17:35.525177Z",
     "shell.execute_reply.started": "2024-01-23T05:17:35.525170Z"
    }
   },
   "outputs": [],
   "source": [
    "filter_hrefs = df['review_text'].str.contains('href')\n",
    "filter_hrefs.sum()"
   ]
  },
  {
   "cell_type": "code",
   "execution_count": null,
   "id": "9f7a4fe3-dcd2-4f68-998d-cafdd3f366ff",
   "metadata": {
    "execution": {
     "iopub.status.busy": "2024-01-23T05:17:35.525939Z",
     "iopub.status.idle": "2024-01-23T05:17:35.526124Z",
     "shell.execute_reply": "2024-01-23T05:17:35.526013Z",
     "shell.execute_reply.started": "2024-01-23T05:17:35.526007Z"
    }
   },
   "outputs": [],
   "source": [
    "filter_http = df['review_text'].str.contains('http')\n",
    "filter_http.sum()"
   ]
  },
  {
   "cell_type": "code",
   "execution_count": null,
   "id": "815c8dbe-821a-4b5d-b6e1-876e1e9c5c6b",
   "metadata": {
    "execution": {
     "iopub.status.busy": "2024-01-23T05:17:35.527004Z",
     "iopub.status.idle": "2024-01-23T05:17:35.527451Z",
     "shell.execute_reply": "2024-01-23T05:17:35.527331Z",
     "shell.execute_reply.started": "2024-01-23T05:17:35.527322Z"
    }
   },
   "outputs": [],
   "source": [
    "joblib.dump(df, fname_data_joblib)"
   ]
  },
  {
   "cell_type": "markdown",
   "id": "74d80017-ef0b-469b-bd94-4d56c329d01d",
   "metadata": {},
   "source": [
    "## WordClouds"
   ]
  },
  {
   "cell_type": "code",
   "execution_count": null,
   "id": "d5936f68-a08a-4657-86af-622278f17756",
   "metadata": {
    "execution": {
     "iopub.status.busy": "2024-01-23T05:17:35.528208Z",
     "iopub.status.idle": "2024-01-23T05:17:35.528431Z",
     "shell.execute_reply": "2024-01-23T05:17:35.528292Z",
     "shell.execute_reply.started": "2024-01-23T05:17:35.528285Z"
    }
   },
   "outputs": [],
   "source": [
    "df['target'].value_counts(1)"
   ]
  },
  {
   "cell_type": "code",
   "execution_count": null,
   "id": "92464aff-255d-4e8c-b136-c5796c0ca24d",
   "metadata": {
    "execution": {
     "iopub.status.busy": "2024-01-23T05:17:35.529778Z",
     "iopub.status.idle": "2024-01-23T05:17:35.529973Z",
     "shell.execute_reply": "2024-01-23T05:17:35.529859Z",
     "shell.execute_reply.started": "2024-01-23T05:17:35.529853Z"
    }
   },
   "outputs": [],
   "source": [
    "filter_low = df['target'] == \"Low\"\n",
    "filter_high = df['target'] == \"High\"\n",
    "filter_low.sum(), filter_high.sum()"
   ]
  },
  {
   "cell_type": "code",
   "execution_count": null,
   "id": "bd2e92a9-4bcf-4ab4-9fae-3a7425a4a949",
   "metadata": {
    "execution": {
     "iopub.status.busy": "2024-01-23T05:17:35.530764Z",
     "iopub.status.idle": "2024-01-23T05:17:35.530986Z",
     "shell.execute_reply": "2024-01-23T05:17:35.530863Z",
     "shell.execute_reply.started": "2024-01-23T05:17:35.530855Z"
    }
   },
   "outputs": [],
   "source": [
    "high_reviews_text = \" \".join( df.loc[filter_high, 'review_text'])\n",
    "high_reviews_text[:100]"
   ]
  },
  {
   "cell_type": "code",
   "execution_count": null,
   "id": "f1f01402-ea1b-4dc1-91e3-0af608dac011",
   "metadata": {
    "execution": {
     "iopub.status.busy": "2024-01-23T05:17:35.532056Z",
     "iopub.status.idle": "2024-01-23T05:17:35.532407Z",
     "shell.execute_reply": "2024-01-23T05:17:35.532161Z",
     "shell.execute_reply.started": "2024-01-23T05:17:35.532155Z"
    }
   },
   "outputs": [],
   "source": [
    "low_reviews_text = \" \".join( df.loc[filter_low, 'review_text'])\n",
    "low_reviews_text[:100]"
   ]
  },
  {
   "cell_type": "code",
   "execution_count": null,
   "id": "d17d0511-3bc3-464c-926e-e98cb282df3b",
   "metadata": {
    "execution": {
     "iopub.status.busy": "2024-01-23T05:17:35.533793Z",
     "iopub.status.idle": "2024-01-23T05:17:35.534423Z",
     "shell.execute_reply": "2024-01-23T05:17:35.534325Z",
     "shell.execute_reply.started": "2024-01-23T05:17:35.534314Z"
    }
   },
   "outputs": [],
   "source": [
    "# df.head()"
   ]
  },
  {
   "cell_type": "code",
   "execution_count": null,
   "id": "c2ac7047-209b-4fdd-ba50-e5169427dca9",
   "metadata": {
    "execution": {
     "iopub.status.busy": "2024-01-23T05:17:35.535184Z",
     "iopub.status.idle": "2024-01-23T05:17:35.535367Z",
     "shell.execute_reply": "2024-01-23T05:17:35.535283Z",
     "shell.execute_reply.started": "2024-01-23T05:17:35.535276Z"
    }
   },
   "outputs": [],
   "source": [
    "\n",
    "# Make a single giant string with entire groups tokens\n",
    "high_reviews_tokens = \" \".join( df.loc[filter_high, 'tokens-joined'])\n",
    "low_reviews_tokens = \" \".join( df.loc[filter_low, 'tokens-joined'])\n",
    "\n",
    "high_reviews_lemmas =  \" \".join( df.loc[filter_high, 'lemmas-joined'])\n",
    "low_reviews_lemmas =  \" \".join( df.loc[filter_low, 'lemmas-joined'])"
   ]
  },
  {
   "cell_type": "code",
   "execution_count": null,
   "id": "93e27a2a-10f9-4c42-a467-71c17b0fc99f",
   "metadata": {
    "execution": {
     "iopub.status.busy": "2024-01-23T05:17:35.536190Z",
     "iopub.status.idle": "2024-01-23T05:17:35.536409Z",
     "shell.execute_reply": "2024-01-23T05:17:35.536315Z",
     "shell.execute_reply.started": "2024-01-23T05:17:35.536304Z"
    }
   },
   "outputs": [],
   "source": [
    "# Create lists of all lemmas in both high and low review groups\n",
    "# Create lists of all lemmas in both high and low review groups\n",
    "high_review_tokens_list = df.loc[filter_high, 'tokens'].explode().to_list()\n",
    "low_review_tokens_list = df.loc[filter_low, 'tokens'].explode().to_list()\n",
    "\n",
    "high_review_lemmas_list = df.loc[filter_high, 'lemmas'].explode().to_list()\n",
    "low_review_lemmas_list = df.loc[filter_low, 'lemmas'].explode().to_list()"
   ]
  },
  {
   "cell_type": "code",
   "execution_count": null,
   "id": "90493c5d-4549-4349-9d50-ed983dd60234",
   "metadata": {
    "execution": {
     "iopub.status.busy": "2024-01-23T05:17:35.537499Z",
     "iopub.status.idle": "2024-01-23T05:17:35.537877Z",
     "shell.execute_reply": "2024-01-23T05:17:35.537797Z",
     "shell.execute_reply.started": "2024-01-23T05:17:35.537790Z"
    }
   },
   "outputs": [],
   "source": [
    "from wordcloud import WordCloud, STOPWORDS"
   ]
  },
  {
   "cell_type": "code",
   "execution_count": null,
   "id": "04ef77ce-6f87-4052-9e50-59658af209c5",
   "metadata": {
    "execution": {
     "iopub.status.busy": "2024-01-23T05:17:35.538482Z",
     "iopub.status.idle": "2024-01-23T05:17:35.538638Z",
     "shell.execute_reply": "2024-01-23T05:17:35.538561Z",
     "shell.execute_reply.started": "2024-01-23T05:17:35.538555Z"
    }
   },
   "outputs": [],
   "source": [
    "# Make word clouds of raw text\n",
    "custom_stopwords = [*STOPWORDS]#, 'film','movie']\n",
    "# Create an instance of a WordCloud and use the generate method\n",
    "low_cloud = WordCloud(random_state = 42,\n",
    "                      width = 800,\n",
    "                      height = 1000,\n",
    "                      min_word_length = 2, colormap=\"Reds\",\n",
    "                      stopwords=custom_stopwords,\n",
    "                     ).generate(low_reviews_text)\n",
    "high_cloud = WordCloud(random_state = 42,\n",
    "                       width = 800,\n",
    "                       height= 1000,\n",
    "                       min_word_length = 2,\n",
    "                       colormap=\"Greens\",\n",
    "                       stopwords=custom_stopwords,\n",
    "                      ).generate(high_reviews_text)\n",
    "# Plot the wordclouds side by side\n",
    "fig, axes = plt.subplots(ncols=2, figsize=(10, 7))\n",
    "axes[0].imshow(low_cloud, interpolation='bilinear')\n",
    "axes[0].set_title(\"Low Ratings\")\n",
    "axes[1].imshow(high_cloud, interpolation='bilinear')\n",
    "axes[1].set_title(\"High Ratings\")\n",
    "[ax.axis('off') for ax in axes]\n",
    "fig.tight_layout();\n",
    "fig.suptitle('Word Clouds - Raw Reviews', fontsize=20, y=1.05);\n",
    "fig.savefig(FPATHS['eda']['wordclouds'], dpi=300, transparent=False, bbox_inches='tight')"
   ]
  },
  {
   "cell_type": "code",
   "execution_count": null,
   "id": "0a364dc1-9077-4dbd-b813-5024ad0fa901",
   "metadata": {},
   "outputs": [],
   "source": []
  },
  {
   "cell_type": "markdown",
   "id": "94e2eb98-8355-4f71-9996-fde142c81e02",
   "metadata": {},
   "source": [
    "## FreqDist"
   ]
  },
  {
   "cell_type": "code",
   "execution_count": null,
   "id": "08dd67dd-aeb3-43d7-95bc-ef2d214e068f",
   "metadata": {
    "execution": {
     "iopub.status.busy": "2024-01-23T05:17:35.539278Z",
     "iopub.status.idle": "2024-01-23T05:17:35.539450Z",
     "shell.execute_reply": "2024-01-23T05:17:35.539350Z",
     "shell.execute_reply.started": "2024-01-23T05:17:35.539344Z"
    }
   },
   "outputs": [],
   "source": [
    "from nltk import FreqDist"
   ]
  },
  {
   "cell_type": "code",
   "execution_count": null,
   "id": "f59d009d-f7d8-4f39-9465-3143575d8df8",
   "metadata": {
    "execution": {
     "iopub.status.busy": "2024-01-23T05:17:35.540164Z",
     "iopub.status.idle": "2024-01-23T05:17:35.540332Z",
     "shell.execute_reply": "2024-01-23T05:17:35.540234Z",
     "shell.execute_reply.started": "2024-01-23T05:17:35.540226Z"
    }
   },
   "outputs": [],
   "source": [
    "# Split the lemmas into individual token words\n",
    "# low_review_lemmas_split = low_reviews_lemmas.split()\n",
    "# Pass the tokenized lemmas to the class constructor and plot the distribution \n",
    "low_dist = FreqDist(high_review_lemmas_list)#(low_review_lemmas_split)\n",
    "ax = low_dist.plot(20, show = False, title='Distribution of Words in Low-Rating Reviews')\n",
    "plt.tight_layout()\n",
    "# plt.savefig('Images/freq_dist_low_ratings.png')\n",
    "\n"
   ]
  },
  {
   "cell_type": "code",
   "execution_count": null,
   "id": "ac659f91-2678-474a-b963-d5d3bb498d7d",
   "metadata": {
    "execution": {
     "iopub.status.busy": "2024-01-23T05:17:35.541039Z",
     "iopub.status.idle": "2024-01-23T05:17:35.541426Z",
     "shell.execute_reply": "2024-01-23T05:17:35.541340Z",
     "shell.execute_reply.started": "2024-01-23T05:17:35.541332Z"
    }
   },
   "outputs": [],
   "source": [
    "# Split the lemmas into individual token words\n",
    "# high_review_lemmas_split = high_reviews_lemmas.split()\n",
    "# Pass the tokenized lemmas to the class constructor and plot the distribution \n",
    "high_dist = FreqDist(high_review_lemmas_list)#high_review_lemmas_split)\n",
    "ax = high_dist.plot(20, show = False, title='Distribution of Words in High-Rating Reviews')\n",
    "plt.tight_layout()\n",
    "# plt.savefig('Images/freq_dist_high_ratings.png')"
   ]
  },
  {
   "cell_type": "markdown",
   "id": "2c6977e4-7199-436c-bb7a-f90e60d21013",
   "metadata": {},
   "source": [
    "### Admin Q: What would students do when they saw this?"
   ]
  },
  {
   "cell_type": "markdown",
   "id": "728b59ca-c5b9-434a-b08c-718d44023e4a",
   "metadata": {},
   "source": [
    "- Would they want to go back and change their stopwords, if so, need to re-process all of the NLP text."
   ]
  },
  {
   "cell_type": "code",
   "execution_count": null,
   "id": "2748d3cb-cb8b-4746-a9d2-6d7b22ce2275",
   "metadata": {},
   "outputs": [],
   "source": []
  },
  {
   "cell_type": "code",
   "execution_count": null,
   "id": "d44343b4-6629-4f47-8c01-93eea8be5f96",
   "metadata": {
    "execution": {
     "iopub.status.busy": "2024-01-23T05:17:35.542141Z",
     "iopub.status.idle": "2024-01-23T05:17:35.542339Z",
     "shell.execute_reply": "2024-01-23T05:17:35.542250Z",
     "shell.execute_reply.started": "2024-01-23T05:17:35.542243Z"
    }
   },
   "outputs": [],
   "source": [
    "fig"
   ]
  },
  {
   "cell_type": "markdown",
   "id": "656b0db8-17a6-4468-9fcb-e30d9bf42a98",
   "metadata": {},
   "source": [
    "## Ngram Analysis"
   ]
  },
  {
   "cell_type": "markdown",
   "id": "65a27179-0ac3-4e1c-a907-603924273f2f",
   "metadata": {},
   "source": [
    "### ✅TO DO: Remove Pre-function bigram code"
   ]
  },
  {
   "cell_type": "code",
   "execution_count": null,
   "id": "82e364e8-42e8-4364-b555-97c6ce42aae0",
   "metadata": {
    "execution": {
     "iopub.status.busy": "2024-01-23T05:17:35.543164Z",
     "iopub.status.idle": "2024-01-23T05:17:35.543379Z",
     "shell.execute_reply": "2024-01-23T05:17:35.543274Z",
     "shell.execute_reply.started": "2024-01-23T05:17:35.543257Z"
    }
   },
   "outputs": [],
   "source": [
    "import pandas as pd\n",
    "import nltk\n",
    "def get_ngram_measures_finder(tokens, ngrams=2, get_scores_df=False, measure='raw_freq', top_n=None, min_freq = 1,\n",
    "                             words_colname='Words'):\n",
    "    import nltk\n",
    "    if ngrams == 4:\n",
    "        MeasuresClass = nltk.collocations.QuadgramAssocMeasures\n",
    "        FinderClass = nltk.collocations.QuadgramCollocationFinder\n",
    "        \n",
    "    elif ngrams == 3: \n",
    "        MeasuresClass = nltk.collocations.TrigramAssocMeasures\n",
    "        FinderClass = nltk.collocations.TrigramCollocationFinder\n",
    "    else:\n",
    "        MeasuresClass = nltk.collocations.BigramAssocMeasures\n",
    "        FinderClass = nltk.collocations.BigramCollocationFinder\n",
    "\n",
    "    measures = MeasuresClass()\n",
    "    \n",
    "   \n",
    "    finder = FinderClass.from_words(tokens)\n",
    "    finder.apply_freq_filter(min_freq)\n",
    "    if measure=='pmi':\n",
    "        scored_ngrams = finder.score_ngrams(measures.pmi)\n",
    "    else:\n",
    "        measure='raw_freq'\n",
    "        scored_ngrams = finder.score_ngrams(measures.raw_freq)\n",
    "\n",
    "    df_ngrams = pd.DataFrame(scored_ngrams, columns=[words_colname, measure.replace(\"_\",' ').title()])\n",
    "    if top_n is not None:\n",
    "        return df_ngrams.head(top_n)\n",
    "    else:\n",
    "        return df_ngrams\n",
    "\n"
   ]
  },
  {
   "cell_type": "markdown",
   "id": "3ad1d2ea-71b6-432f-b81c-7298dea840f8",
   "metadata": {},
   "source": [
    "### Bigrams - Raw Frequency"
   ]
  },
  {
   "cell_type": "markdown",
   "id": "37828adc-847f-4608-90c2-f8c50710d081",
   "metadata": {},
   "source": [
    "- Doing the first set manually for demonstration."
   ]
  },
  {
   "cell_type": "code",
   "execution_count": null,
   "id": "dc45d913-9b5f-4d01-9565-2a1dd8e274a4",
   "metadata": {
    "execution": {
     "iopub.status.busy": "2024-01-23T05:17:35.544545Z",
     "iopub.status.idle": "2024-01-23T05:17:35.544913Z",
     "shell.execute_reply": "2024-01-23T05:17:35.544783Z",
     "shell.execute_reply.started": "2024-01-23T05:17:35.544771Z"
    }
   },
   "outputs": [],
   "source": [
    "# Getting bigrams low-reviews\n",
    "bigram_measures = nltk.collocations.BigramAssocMeasures()\n",
    "finder_low = nltk.collocations.BigramCollocationFinder.from_words(low_review_tokens_list)\n",
    "low_scored_ngrams = finder_low.score_ngrams( bigram_measures.raw_freq)\n",
    "\n",
    "# Convert list of tuples to dataframe\n",
    "df_bigram_scores_low = pd.DataFrame(low_scored_ngrams, columns=['Words','Frequency'])\n",
    "df_bigram_scores_low.head(10)\n",
    "\n",
    "# low_scored_ngrams[:10]"
   ]
  },
  {
   "cell_type": "code",
   "execution_count": null,
   "id": "4005dd3b-f27d-48df-9dfa-482810b61b6b",
   "metadata": {
    "execution": {
     "iopub.status.busy": "2024-01-23T05:17:35.545732Z",
     "iopub.status.idle": "2024-01-23T05:17:35.545953Z",
     "shell.execute_reply": "2024-01-23T05:17:35.545829Z",
     "shell.execute_reply.started": "2024-01-23T05:17:35.545822Z"
    }
   },
   "outputs": [],
   "source": [
    "# Getting bigrams low-reviews\n",
    "# measures = nltk.collocations.BigramAssocMeasures()\n",
    "finder_high = nltk.collocations.BigramCollocationFinder.from_words(high_review_tokens_list)\n",
    "high_scored_ngrams = finder_high.score_ngrams( bigram_measures.raw_freq)\n",
    "\n",
    "# Convert list of tuples to dataframe\n",
    "df_bigram_scores_high = pd.DataFrame(high_scored_ngrams, columns=['Words','Frequency'])\n",
    "df_bigram_scores_high.head(10)\n",
    "# high_scored_ngrams[:10]"
   ]
  },
  {
   "cell_type": "code",
   "execution_count": null,
   "id": "0c326713-9843-41db-9a88-d56aa5de5780",
   "metadata": {
    "execution": {
     "iopub.status.busy": "2024-01-23T05:17:35.546795Z",
     "iopub.status.idle": "2024-01-23T05:17:35.547014Z",
     "shell.execute_reply": "2024-01-23T05:17:35.546890Z",
     "shell.execute_reply.started": "2024-01-23T05:17:35.546883Z"
    }
   },
   "outputs": [],
   "source": [
    "# Combine low and high reviews score dfs and add a group name as multi-index\n",
    "df_compare_bigrams = pd.concat(\n",
    "    [df_bigram_scores_high, df_bigram_scores_low],\n",
    "    axis=1,\n",
    "    keys=[\"High Rating Reviews\", \"Low Rating Reviews\"],\n",
    ")\n",
    "top10_bigrams = df_compare_bigrams.head(10)\n",
    "top10_bigrams"
   ]
  },
  {
   "cell_type": "markdown",
   "id": "f3ee191e-b835-4a7d-ab63-1451740616a4",
   "metadata": {},
   "source": [
    "> Using df.to_markdown() to get a string with a Markdown table."
   ]
  },
  {
   "cell_type": "code",
   "execution_count": null,
   "id": "20d01949-2353-4add-8536-4ceb2d1e4262",
   "metadata": {
    "execution": {
     "iopub.status.busy": "2024-01-23T05:17:35.547611Z",
     "iopub.status.idle": "2024-01-23T05:17:35.547813Z",
     "shell.execute_reply": "2024-01-23T05:17:35.547719Z",
     "shell.execute_reply.started": "2024-01-23T05:17:35.547713Z"
    }
   },
   "outputs": [],
   "source": [
    "# Generating string table to insert into a Markdown cell or file\n",
    "md_table_bigrams = df_compare_bigrams.head(10).to_markdown(index=False)\n",
    "print(md_table_bigrams)"
   ]
  },
  {
   "cell_type": "markdown",
   "id": "d7c34a18-71ab-476a-b38a-851bda7e10d8",
   "metadata": {},
   "source": [
    "| ('High Rating Reviews', 'Words')   |   ('High Rating Reviews', 'Frequency') | ('Low Rating Reviews', 'Words')   |   ('Low Rating Reviews', 'Frequency') |\n",
    "|:-----------------------------------|---------------------------------------:|:----------------------------------|--------------------------------------:|\n",
    "| ('special', 'effects')             |                            0.000486304 | ('final', 'rating')               |                           0.00123491  |\n",
    "| ('comic', 'book')                  |                            0.000470359 | ('finished', 'product')           |                           0.000926185 |\n",
    "| ('sci', 'fi')                      |                            0.00039861  | ('appeal', 'poor')                |                           0.000916537 |\n",
    "| ('star', 'wars')                   |                            0.000390637 | ('poor', 'finished')              |                           0.000916537 |\n",
    "| ('action', 'movie')                |                            0.000366721 | ('rating', 'things')              |                           0.000916537 |\n",
    "| ('feel', 'like')                   |                            0.000358749 | ('things', 'appeal')              |                           0.000916537 |\n",
    "| ('john', 'wick')                   |                            0.000342804 | ('special', 'effects')            |                           0.000627104 |\n",
    "| ('watch', 'movie')                 |                            0.00032686  | ('avoid', 'possible')             |                           0.00055957  |\n",
    "| ('long', 'time')                   |                            0.000302943 | ('boring', 'disappointing')       |                           0.00055957  |\n",
    "| ('real', 'life')                   |                            0.000302943 | ('disappointing', 'avoid')        |                           0.00055957  |"
   ]
  },
  {
   "cell_type": "code",
   "execution_count": null,
   "id": "09d23aed-2ee4-4483-8edc-f1edbac4b4da",
   "metadata": {
    "execution": {
     "iopub.status.busy": "2024-01-23T05:17:35.548993Z",
     "iopub.status.idle": "2024-01-23T05:17:35.549218Z",
     "shell.execute_reply": "2024-01-23T05:17:35.549104Z",
     "shell.execute_reply.started": "2024-01-23T05:17:35.549092Z"
    }
   },
   "outputs": [],
   "source": [
    "# Demonstrating how the string will display in markdown:\n",
    "from IPython.display import Markdown\n",
    "Markdown(md_table_bigrams)"
   ]
  },
  {
   "cell_type": "code",
   "execution_count": null,
   "id": "2c667864-61a3-4ad8-a8b2-295c4a0dfb04",
   "metadata": {
    "execution": {
     "iopub.status.busy": "2024-01-23T05:17:35.549914Z",
     "iopub.status.idle": "2024-01-23T05:17:35.550143Z",
     "shell.execute_reply": "2024-01-23T05:17:35.550030Z",
     "shell.execute_reply.started": "2024-01-23T05:17:35.550023Z"
    }
   },
   "outputs": [],
   "source": [
    "# saving the markdown table to a .md file\n",
    "fname_bigram_freq = \"Images/bigrams-raw-freq.md\"\n",
    "with open(fname_bigram_freq, 'w') as f:\n",
    "    f.write(md_table_bigrams)"
   ]
  },
  {
   "cell_type": "code",
   "execution_count": null,
   "id": "22d74fa6-c39c-4ba0-9a61-87374fc37839",
   "metadata": {
    "execution": {
     "iopub.status.busy": "2024-01-23T05:17:35.550710Z",
     "iopub.status.idle": "2024-01-23T05:17:35.550985Z",
     "shell.execute_reply": "2024-01-23T05:17:35.550878Z",
     "shell.execute_reply.started": "2024-01-23T05:17:35.550867Z"
    }
   },
   "outputs": [],
   "source": [
    "# Testing the saved table\n",
    "with open(fname_bigram_freq) as f:\n",
    "    display(Markdown(f.read()))"
   ]
  },
  {
   "cell_type": "markdown",
   "id": "52c9c313-83eb-41ec-ae66-b2059a397b29",
   "metadata": {},
   "source": [
    "### Bigrams - PMI"
   ]
  },
  {
   "cell_type": "code",
   "execution_count": null,
   "id": "4eaea751-82b7-410a-a6c7-4de527be824c",
   "metadata": {
    "execution": {
     "iopub.status.busy": "2024-01-23T05:17:35.551529Z",
     "iopub.status.idle": "2024-01-23T05:17:35.551685Z",
     "shell.execute_reply": "2024-01-23T05:17:35.551595Z",
     "shell.execute_reply.started": "2024-01-23T05:17:35.551589Z"
    }
   },
   "outputs": [],
   "source": [
    "# Set the desired minimum frequency value, top-n and measure\n",
    "bigram_kws = dict(measure='pmi',top_n =10 , min_freq=10)\n",
    "\n",
    "# Get group bigrams\n",
    "df_bigrams_high_pmi =  get_ngram_measures_finder(high_review_tokens_list,**bigram_kws,\n",
    "                                                words_colname=\"Bigrams (High Ratings)\")\n",
    "df_bigrams_low_pmi = get_ngram_measures_finder(low_review_tokens_list,**bigram_kws,\n",
    "                                              words_colname= \"Bigrams (Low Ratings)\")\n",
    "\n",
    "# Concatenate and save top 10\n",
    "df_compare_bigrams = pd.concat(\n",
    "    [df_bigrams_low_pmi,df_bigrams_high_pmi, ],\n",
    "    axis=1,\n",
    "    # keys=[\"High Rating Reviews\", \"Low Rating Reviews\"],\n",
    ")\n",
    "top10_bigrams_pmi = df_compare_bigrams.head(10)\n",
    "display(top10_bigrams_pmi)\n",
    "\n",
    "md_table_bigrams_pmi = top10_bigrams_pmi.to_markdown(index=False)\n",
    "\n",
    "# saving the markdown table to a .md file\n",
    "fname_bigram_pmi = \"Images/bigrams-pmi.md\"\n",
    "with open(fname_bigram_pmi, 'w') as f:\n",
    "    f.write(md_table_bigrams_pmi)\n",
    "\n",
    "with open(fname_bigram_pmi) as f:\n",
    "    display(Markdown(f.read()))"
   ]
  },
  {
   "cell_type": "markdown",
   "id": "840fa2d0-bd09-456b-92bb-7ac3803d86e3",
   "metadata": {},
   "source": [
    "### Trigrams - Raw Freq"
   ]
  },
  {
   "cell_type": "code",
   "execution_count": null,
   "id": "7827046c-3ac3-4e13-ab50-906f77387d4c",
   "metadata": {
    "execution": {
     "iopub.status.busy": "2024-01-23T05:17:35.552688Z",
     "iopub.status.idle": "2024-01-23T05:17:35.552898Z",
     "shell.execute_reply": "2024-01-23T05:17:35.552777Z",
     "shell.execute_reply.started": "2024-01-23T05:17:35.552770Z"
    }
   },
   "outputs": [],
   "source": [
    "# Set the desired minimum frequency value, top-n and measure\n",
    "trigram_kws = dict(measure='raw_freq',top_n =10 , min_freq=10,\n",
    "                  ngrams=3)\n",
    "df_bigrams_high_pmi =  get_ngram_measures_finder(high_review_tokens_list,**trigram_kws,\n",
    "                                                words_colname=\"Trigrams (High Ratings)\")\n",
    "df_bigrams_low_pmi = get_ngram_measures_finder(low_review_tokens_list,**trigram_kws,\n",
    "                                              words_colname= \"Trigrams (Low Ratings)\")\n",
    "\n",
    "df_compare_bigrams = pd.concat(\n",
    "    [ df_bigrams_low_pmi,df_bigrams_high_pmi],\n",
    "    axis=1,\n",
    "    # keys=[\"High Rating Reviews\", \"Low Rating Reviews\"],\n",
    ")\n",
    "df_compare_bigrams.head(10)\n"
   ]
  },
  {
   "cell_type": "markdown",
   "id": "290b874e-0c51-4194-8eae-180fc9cfdb05",
   "metadata": {},
   "source": [
    "### Trigrams - PMI"
   ]
  },
  {
   "cell_type": "code",
   "execution_count": null,
   "id": "6c9e26cf-6941-46f6-874c-d064a73a34e1",
   "metadata": {
    "execution": {
     "iopub.status.busy": "2024-01-23T05:17:35.553699Z",
     "iopub.status.idle": "2024-01-23T05:17:35.554073Z",
     "shell.execute_reply": "2024-01-23T05:17:35.553926Z",
     "shell.execute_reply.started": "2024-01-23T05:17:35.553915Z"
    }
   },
   "outputs": [],
   "source": [
    "# Set the desired minimum frequency value, top-n and measure\n",
    "trigram_kws = dict(measure='pmi',top_n =10 , min_freq=10,\n",
    "                  ngrams=3)\n",
    "df_bigrams_high_pmi =  get_ngram_measures_finder(high_review_tokens_list,**trigram_kws,\n",
    "                                                words_colname=\"Trigrams (High Ratings)\")\n",
    "df_bigrams_low_pmi = get_ngram_measures_finder(low_review_tokens_list,**trigram_kws,\n",
    "                                              words_colname= \"Trigrams (Low Ratings)\")\n",
    "\n",
    "df_compare_bigrams = pd.concat(\n",
    "    [ df_bigrams_low_pmi,df_bigrams_high_pmi],\n",
    "    axis=1,\n",
    "    # keys=[\"High Rating Reviews\", \"Low Rating Reviews\"],\n",
    ")\n",
    "df_compare_bigrams.head(10)\n"
   ]
  },
  {
   "cell_type": "markdown",
   "id": "85986a5f-b0a8-4d79-ab83-84fb411afdf5",
   "metadata": {},
   "source": [
    "## Sentiment Analysis"
   ]
  },
  {
   "cell_type": "markdown",
   "id": "2f3a5bec-266e-4553-8274-6a24fbfb6ed5",
   "metadata": {},
   "source": [
    "Perform sentiment analysis to create polarity scores according to VADERS's sentiment lexicon.  \n",
    "- Compare the sentiments of high-rating and low-rating texts.  \n",
    "- Compare the average scores for high and low-rating reviews.  \n",
    "- Which review polarity scores don't match the ratings?  Why do you think this is?"
   ]
  },
  {
   "cell_type": "code",
   "execution_count": null,
   "id": "c802d77a-ec81-4a43-8cf5-1c6c04d3b68e",
   "metadata": {
    "execution": {
     "iopub.status.busy": "2024-01-23T05:17:35.554729Z",
     "iopub.status.idle": "2024-01-23T05:17:35.554935Z",
     "shell.execute_reply": "2024-01-23T05:17:35.554826Z",
     "shell.execute_reply.started": "2024-01-23T05:17:35.554818Z"
    }
   },
   "outputs": [],
   "source": [
    "from nltk.sentiment.vader import SentimentIntensityAnalyzer\n",
    "nltk.download('vader_lexicon')"
   ]
  },
  {
   "cell_type": "code",
   "execution_count": null,
   "id": "365ec383-e248-4057-8b31-bd00d4de7ca2",
   "metadata": {
    "execution": {
     "iopub.status.busy": "2024-01-23T05:17:35.555620Z",
     "iopub.status.idle": "2024-01-23T05:17:35.555822Z",
     "shell.execute_reply": "2024-01-23T05:17:35.555716Z",
     "shell.execute_reply.started": "2024-01-23T05:17:35.555710Z"
    }
   },
   "outputs": [],
   "source": [
    "# Initialize the VADER sentiment analyzer\n",
    "sia = SentimentIntensityAnalyzer()"
   ]
  },
  {
   "cell_type": "code",
   "execution_count": null,
   "id": "ca8e0a7a-66a6-4aec-96ae-3e3b92503a18",
   "metadata": {
    "execution": {
     "iopub.status.busy": "2024-01-23T05:17:35.556604Z",
     "iopub.status.idle": "2024-01-23T05:17:35.556834Z",
     "shell.execute_reply": "2024-01-23T05:17:35.556715Z",
     "shell.execute_reply.started": "2024-01-23T05:17:35.556700Z"
    }
   },
   "outputs": [],
   "source": [
    "df.head(2)"
   ]
  },
  {
   "cell_type": "code",
   "execution_count": null,
   "id": "e7816624-8a84-4cdd-bf88-81c8d4a50617",
   "metadata": {
    "execution": {
     "iopub.status.busy": "2024-01-23T05:17:35.557674Z",
     "iopub.status.idle": "2024-01-23T05:17:35.557865Z",
     "shell.execute_reply": "2024-01-23T05:17:35.557756Z",
     "shell.execute_reply.started": "2024-01-23T05:17:35.557750Z"
    }
   },
   "outputs": [],
   "source": [
    "df['sentiment_scores'] = df['review_text'].map(sia.polarity_scores)\n",
    "# Convert the column of dictionaries into separate columns\n",
    "vader_scores = df['sentiment_scores'].apply(pd.Series)\n",
    "# Join the new DataFrame with the original DataFrame\n",
    "df_sentiment = pd.concat([df, vader_scores], axis=1).drop('sentiment_scores', axis=1)\n",
    "df_sentiment"
   ]
  },
  {
   "cell_type": "code",
   "execution_count": null,
   "id": "2432069b-69a0-4153-962a-28a7dae78d12",
   "metadata": {
    "execution": {
     "iopub.status.busy": "2024-01-23T05:17:35.558971Z",
     "iopub.status.idle": "2024-01-23T05:17:35.559155Z",
     "shell.execute_reply": "2024-01-23T05:17:35.559070Z",
     "shell.execute_reply.started": "2024-01-23T05:17:35.559062Z"
    }
   },
   "outputs": [],
   "source": [
    "# Define filter for positive reviews\n",
    "pos_sentiment_reviews = df_sentiment['compound'] > 0\n",
    "pos_sentiment_reviews.sum()"
   ]
  },
  {
   "cell_type": "code",
   "execution_count": null,
   "id": "805abe5d-518f-475f-a237-4b95d8b6b142",
   "metadata": {
    "execution": {
     "iopub.status.busy": "2024-01-23T05:17:35.560190Z",
     "iopub.status.idle": "2024-01-23T05:17:35.560443Z",
     "shell.execute_reply": "2024-01-23T05:17:35.560354Z",
     "shell.execute_reply.started": "2024-01-23T05:17:35.560346Z"
    }
   },
   "outputs": [],
   "source": [
    "filter_mismatch_A = (df['target'] == \"Bad\") & pos_sentiment_reviews\n",
    "filter_mismatch_A.sum()"
   ]
  },
  {
   "cell_type": "code",
   "execution_count": null,
   "id": "79afddb5-4225-470c-921d-0e06f56572c4",
   "metadata": {
    "execution": {
     "iopub.status.busy": "2024-01-23T05:17:35.561158Z",
     "iopub.status.idle": "2024-01-23T05:17:35.561403Z",
     "shell.execute_reply": "2024-01-23T05:17:35.561296Z",
     "shell.execute_reply.started": "2024-01-23T05:17:35.561289Z"
    }
   },
   "outputs": [],
   "source": [
    "# Define filter for negative reviews\n",
    "neg_sentiment_reviews = df_sentiment['compound'] < 0\n",
    "neg_sentiment_reviews.sum()"
   ]
  },
  {
   "cell_type": "code",
   "execution_count": null,
   "id": "0bb53090-1db5-47dc-bb51-301932ab9ff6",
   "metadata": {
    "execution": {
     "iopub.status.busy": "2024-01-23T05:17:35.562627Z",
     "iopub.status.idle": "2024-01-23T05:17:35.562803Z",
     "shell.execute_reply": "2024-01-23T05:17:35.562721Z",
     "shell.execute_reply.started": "2024-01-23T05:17:35.562715Z"
    }
   },
   "outputs": [],
   "source": [
    "filter_mismatch_B = (df['target'] == \"High\") & neg_sentiment_reviews\n",
    "filter_mismatch_B.sum()"
   ]
  },
  {
   "cell_type": "code",
   "execution_count": null,
   "id": "2f5e057a-ad7a-45e8-a7ec-c97815b828a9",
   "metadata": {
    "execution": {
     "iopub.status.busy": "2024-01-23T05:17:35.563812Z",
     "iopub.status.idle": "2024-01-23T05:17:35.564099Z",
     "shell.execute_reply": "2024-01-23T05:17:35.563997Z",
     "shell.execute_reply.started": "2024-01-23T05:17:35.563985Z"
    }
   },
   "outputs": [],
   "source": [
    "df_sentiment.loc[filter_mismatch_B]"
   ]
  },
  {
   "cell_type": "markdown",
   "id": "be744832-1da2-4ab7-a328-f9088b812a25",
   "metadata": {},
   "source": [
    "## Part 3 (coming soon!)"
   ]
  },
  {
   "cell_type": "code",
   "execution_count": null,
   "id": "4a6f5803-f7c7-4c47-9dde-cde859a95f16",
   "metadata": {},
   "outputs": [],
   "source": []
  },
  {
   "cell_type": "markdown",
   "id": "bd87ee02-ae27-47ca-8f6c-b4934c10dd3b",
   "metadata": {},
   "source": [
    "# APPENDIX"
   ]
  }
 ],
 "metadata": {
  "kernelspec": {
   "display_name": "Python (dojo-env)",
   "language": "python",
   "name": "dojo-env"
  },
  "language_info": {
   "codemirror_mode": {
    "name": "ipython",
    "version": 3
   },
   "file_extension": ".py",
   "mimetype": "text/x-python",
   "name": "python",
   "nbconvert_exporter": "python",
   "pygments_lexer": "ipython3",
   "version": "3.10.10"
  }
 },
 "nbformat": 4,
 "nbformat_minor": 5
}
