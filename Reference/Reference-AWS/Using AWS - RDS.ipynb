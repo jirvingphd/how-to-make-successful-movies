{
 "cells": [
  {
   "cell_type": "markdown",
   "id": "b2782b36",
   "metadata": {
    "id": "bdeqfBqUCPRS"
   },
   "source": [
    "## 📚AWS - RDS (Relational Database Services)"
   ]
  },
  {
   "cell_type": "markdown",
   "id": "54ee2306",
   "metadata": {
    "id": "-8gCyI3UCPRS"
   },
   "source": [
    "### Setting Up an RDS via the AWS Console"
   ]
  },
  {
   "cell_type": "markdown",
   "id": "80870719",
   "metadata": {
    "id": "lMniL9-RCPRS"
   },
   "source": [
    "\n",
    ">- **YouTube Video Guide on Using Python + MySQL + AWS-RDS: https://youtu.be/RerDL93sBdY**\n",
    "    - VERY HELPFUL!!!!"
   ]
  },
  {
   "cell_type": "markdown",
   "id": "7a6af72c",
   "metadata": {
    "id": "WrDATNeDCPRS"
   },
   "source": [
    "- Four main steps:\n",
    "    - Step 1: Create the RDS instance\n",
    "    - Step 2: Create the correct VPC Security Group for EC2\n",
    "    - Step 3: Modify RDS instance to use the new VPC Security Group\n",
    "    - Step 4: Saving all of the credentials required to access RDS using MySQL Workbench "
   ]
  },
  {
   "cell_type": "markdown",
   "id": "f31aa5a4",
   "metadata": {
    "id": "NMKf0fHcCPRS"
   },
   "source": [
    "#### Step 1: Creating the RDS Instance"
   ]
  },
  {
   "cell_type": "markdown",
   "id": "ea371bf0-98aa-48ab-ab8d-045a0822de73",
   "metadata": {
    "execution": {
     "iopub.execute_input": "2024-01-08T19:41:14.355253Z",
     "iopub.status.busy": "2024-01-08T19:41:14.354481Z",
     "iopub.status.idle": "2024-01-08T19:41:14.370569Z",
     "shell.execute_reply": "2024-01-08T19:41:14.369619Z",
     "shell.execute_reply.started": "2024-01-08T19:41:14.355219Z"
    }
   },
   "source": [
    ">- ### Note: Any parameter with a 💾 icon is one that we will want to save locally in a .json file (or just a text file for now)"
   ]
  },
  {
   "cell_type": "markdown",
   "id": "a1fd6f96",
   "metadata": {
    "id": "qqk7U0oHCPRS"
   },
   "source": [
    "- Log into AWS console https://us-east-2.console.aws.amazon.com/console/\n",
    "- Search for \"RDS\" and navigate RDS Dashboard.\n",
    "- On RDS Dashboard, Click \"`Create Database`\"\n",
    "\n",
    "- Use the following parameters for your database:\n",
    "    - \"Choose a database creation method\": \n",
    "        - \"Standard create\"\n",
    "    - \"Engine Options\": \n",
    "        - \"MySQL\"\n",
    "    - \"Version\": \n",
    "        - Default is \"MySQL 8.0.23\"\n",
    "        - Could select most recent?\n",
    "            - \"MySQL 8.0.27\"\n",
    "    - **\"Templates\":** \n",
    "        - ***\"Free tier\"***\n",
    "        \n",
    "    - 💾 \"DB instance identifier\": \n",
    "        Unique identifier - determined by you.\n",
    "        - example: \"belt-exam-db\"\n",
    "    - 💾 Master username: \n",
    "        - \"admin\"\n",
    "    - 💾 Master password: \n",
    "        - \"youareaninja!\"\n",
    "    - **\"DB Instance Size\"**: \n",
    "        - \"db.t2.micro\" (Free tier option)\n",
    "    - Default for all \"Storage\" options.\n",
    "    - \"Virtual private cloud (VPC):\"\n",
    "        - Default is fine.\n",
    "    - \"Public Access\":\n",
    "        - \"Yes\"\n",
    "    - \"Existing VPC Security Groups\":\n",
    "        - **Use default for now, but we will make our own shortly.**\n",
    "    - \"Availability Zone\": \n",
    "        - Use default \"No preference\"\n",
    "    - Under \"Additional configuration\":\n",
    "        -  💾\"Database Port\": \n",
    "            - Use default 3306\n",
    "    - \"Database authentication\":\n",
    "        - Use \"Password authentication\"\n",
    "        \n",
    "    - Can skip all Additional Configuration options.\n",
    "- Click \"Create Database\" \n",
    "    - It will take several minutes for the database to be created an be ready to use. \n",
    "\n",
    "        \n",
    "        \n",
    "    \n",
    "        \n",
    "        \n",
    ">- Any parameter with a 💾 icon is one that we will want to save locally in a .json file (or just a text file for now)"
   ]
  },
  {
   "cell_type": "markdown",
   "id": "cba11e73",
   "metadata": {
    "id": "mgCFnXCkCPRS"
   },
   "source": [
    "#### Step 2: Creating the Correct VPC Security Group"
   ]
  },
  {
   "cell_type": "markdown",
   "id": "b3f78ccf",
   "metadata": {
    "id": "frYQjVdFCPRS"
   },
   "source": [
    "- [YouTube Video, righ after \"Create database\"](https://youtu.be/RerDL93sBdY?t=290)\n",
    "\n",
    ">- While waiting for the database to be created, we will create a new security group for our database. We need to make sure the port specified above (3306) is accessible.\n",
    "\n",
    "- Use AWS Console search box to navigate to \"EC2 Dashboard\"\n",
    "- On the EC2 Dashboard, there is a table of \"Resources\"\n",
    "    - Click on \"Security Groups\"\n",
    "- Click \"Create Security Group\".\n",
    "- Use the following parameters for your security group:\n",
    "    - \"Security Group Name\":\n",
    "        - Up to you, but we will use \"rds-python\"\n",
    "    - \"Description\":\n",
    "        - \"rds-python\"\n",
    "    - \"VPC\":\n",
    "        - Default\n",
    "    - ℹ️ \"Inbound Rules\": \n",
    "        - Click Add Rule:\n",
    "            - \"Type\": \n",
    "                - \"All traffic\" \n",
    "            - \"Source\":\n",
    "                - \"Anywhere\"\n",
    "    - \"Outbound Rules\":\n",
    "        - Type:\n",
    "            - \"All traffic\"\n",
    "- Click \"Create security group\" and wait for it to be created. \n",
    "\n",
    "            \n",
    "> ℹ️Note on \"Inbound Rules\": \n",
    "- Options above are insecure. we could choose to select our exact ip address if we wanted to be more secure. \n",
    "- Note: even with the less-secure \"All traffic\" option, someone would need the credentials for the RDS (the parameters marked with a  💾 in the previous section)"
   ]
  },
  {
   "cell_type": "markdown",
   "id": "3e561237",
   "metadata": {
    "id": "6vGCuW1vCPRS"
   },
   "source": [
    "#### Step 3: Modify the RDS Instance's VPC Security Group"
   ]
  },
  {
   "cell_type": "markdown",
   "id": "838a2af9",
   "metadata": {
    "id": "Ig7eVqRVCPRS"
   },
   "source": [
    "- [YouTube Video Timestamp](https://youtu.be/RerDL93sBdY?t=404)\n",
    "\n",
    "- Use the AWS Console search to navigate back to RDS Dashboard.\n",
    "- Click on \"DB Instances\"/\n",
    "- Select the checkbox next to our database\n",
    "    - Click the \"Modify\" button\n",
    "- Scroll down to the \"Connectivity\" section.\n",
    "    - Click on the search box/dropdown menu for \"Security Group\"\n",
    "        - You should see the new \"rds-python\" security group.\n",
    "    - Click on the name of our new security group to add it to the database.\n",
    "        - It should now appear in a tab under the search box\n",
    "- Click \"Continue\" at the bottom.\n",
    "    - For \"Scheduling of modifications\":\n",
    "        - Select \"Apply immediately\"\n",
    "        \n",
    "        \n",
    "        \n",
    "- Finally, click on the DB name from the dashboard again and take note of the \"Endpoint\" under Connectivity and Security\n",
    "    - 💾\"Endpoint\":\n",
    "        - \"belt-exam-db.cjqlsg0fm4rw.us-east-2.rds.amazonaws.com\"\n",
    "    - 💾\"Port\":\n",
    "        - 3306\n",
    "\n",
    "\n"
   ]
  },
  {
   "cell_type": "markdown",
   "id": "88abc38a",
   "metadata": {
    "id": "yhsiCa8GCPRS"
   },
   "source": [
    "#### Step 4: Saving the required credentials to use our RDS"
   ]
  },
  {
   "cell_type": "markdown",
   "id": "5a5db335",
   "metadata": {
    "id": "UeCINs09CPRS"
   },
   "source": [
    "- Any parameter with a 💾 icon in Steps 1-3 will be a key:value pair that we will want to save into a `.json` file on our local machine.\n",
    "\n",
    "- We will save a ~~`aws_rds.json` file~~ dictionary in a our notebook. \n",
    "\n",
    "- The dictionary should have the following keys:\n",
    "    - \"host\": The \"Endpoint\" from Step 3.\n",
    "    - \"port\": The \"Port\" from Steps 1&3\n",
    "    - \"username\": The Master Username from Step 1\n",
    "    - \"password\": the Master Password from Step 1\n",
    "    - \"database\": the DB Instance Identifier From Step 1\n"
   ]
  },
  {
   "cell_type": "markdown",
   "id": "aea8e74f",
   "metadata": {},
   "source": []
  },
  {
   "cell_type": "code",
   "execution_count": null,
   "id": "7797ca88",
   "metadata": {},
   "outputs": [],
   "source": []
  }
 ],
 "metadata": {
  "kernelspec": {
   "display_name": "Python (dojo-env)",
   "language": "python",
   "name": "dojo-env"
  },
  "language_info": {
   "codemirror_mode": {
    "name": "ipython",
    "version": 3
   },
   "file_extension": ".py",
   "mimetype": "text/x-python",
   "name": "python",
   "nbconvert_exporter": "python",
   "pygments_lexer": "ipython3",
   "version": "3.10.10"
  },
  "toc": {
   "base_numbering": 1,
   "nav_menu": {},
   "number_sections": true,
   "sideBar": true,
   "skip_h1_title": false,
   "title_cell": "Table of Contents",
   "title_sidebar": "Contents",
   "toc_cell": false,
   "toc_position": {},
   "toc_section_display": true,
   "toc_window_display": true
  }
 },
 "nbformat": 4,
 "nbformat_minor": 5
}
