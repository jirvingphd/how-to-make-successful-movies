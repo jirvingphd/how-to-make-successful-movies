{
 "cells": [
  {
   "cell_type": "markdown",
   "id": "77f9f7e1-4cd6-4e4a-9c34-57899b273ecd",
   "metadata": {},
   "source": [
    "# Part 2E - Match Scripts to TMDB.ipynb"
   ]
  },
  {
   "cell_type": "code",
   "execution_count": 1,
   "id": "91cf2486-e500-4d05-bb90-3f0525398773",
   "metadata": {
    "execution": {
     "iopub.execute_input": "2024-01-17T01:38:59.639102Z",
     "iopub.status.busy": "2024-01-17T01:38:59.638697Z",
     "iopub.status.idle": "2024-01-17T01:39:00.052008Z",
     "shell.execute_reply": "2024-01-17T01:39:00.051620Z",
     "shell.execute_reply.started": "2024-01-17T01:38:59.639077Z"
    }
   },
   "outputs": [],
   "source": [
    "import pandas as pd\n",
    "import glob"
   ]
  },
  {
   "cell_type": "code",
   "execution_count": 2,
   "id": "064caeaf-b222-4c18-8d22-0618ca39cadf",
   "metadata": {
    "execution": {
     "iopub.execute_input": "2024-01-17T01:58:16.888513Z",
     "iopub.status.busy": "2024-01-17T01:58:16.887807Z",
     "iopub.status.idle": "2024-01-17T01:58:16.908776Z",
     "shell.execute_reply": "2024-01-17T01:58:16.895262Z",
     "shell.execute_reply.started": "2024-01-17T01:58:16.888481Z"
    }
   },
   "outputs": [],
   "source": [
    "# df = pd.read_csv()"
   ]
  },
  {
   "cell_type": "code",
   "execution_count": null,
   "id": "eb36553f-bae9-495e-b73c-4d502528bd2b",
   "metadata": {},
   "outputs": [],
   "source": []
  }
 ],
 "metadata": {
  "kernelspec": {
   "display_name": "Python 3 (ipykernel)",
   "language": "python",
   "name": "python3"
  },
  "language_info": {
   "codemirror_mode": {
    "name": "ipython",
    "version": 3
   },
   "file_extension": ".py",
   "mimetype": "text/x-python",
   "name": "python",
   "nbconvert_exporter": "python",
   "pygments_lexer": "ipython3",
   "version": "3.10.10"
  }
 },
 "nbformat": 4,
 "nbformat_minor": 5
}
