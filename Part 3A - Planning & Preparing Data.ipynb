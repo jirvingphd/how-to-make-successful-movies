{
 "cells": [
  {
   "cell_type": "markdown",
   "id": "dd946865-a456-4f06-8b77-e980c15d24c2",
   "metadata": {},
   "source": [
    "# Part 3A - Planning & Preparing Data"
   ]
  },
  {
   "cell_type": "markdown",
   "id": "9d171a09-f30d-4be4-a9fd-2a27f326ae33",
   "metadata": {},
   "source": [
    "- 01/26/24"
   ]
  },
  {
   "cell_type": "markdown",
   "id": "77ed8ae3-4ed2-4d9e-b115-7422a2efff3b",
   "metadata": {},
   "source": [
    "- NEED TO PREPARE/PLAN FOR FULL APP WITH TABULAR DATA + REVIEWS + MANUSCRIPTS."
   ]
  },
  {
   "cell_type": "markdown",
   "id": "83eae818-23fd-42a3-8e87-4c8e260454b0",
   "metadata": {},
   "source": [
    "### Prep TMDB API Data (Was Split Across Several Notebooks)"
   ]
  },
  {
   "cell_type": "code",
   "execution_count": 24,
   "id": "d46bf414-d601-4f50-8747-b20c73a5319b",
   "metadata": {
    "execution": {
     "iopub.execute_input": "2024-01-26T22:41:03.089990Z",
     "iopub.status.busy": "2024-01-26T22:41:03.088997Z",
     "iopub.status.idle": "2024-01-26T22:41:07.788109Z",
     "shell.execute_reply": "2024-01-26T22:41:07.787774Z",
     "shell.execute_reply.started": "2024-01-26T22:41:03.089942Z"
    }
   },
   "outputs": [
    {
     "name": "stdout",
     "output_type": "stream",
     "text": [
      "The autoreload extension is already loaded. To reload it, use:\n",
      "  %reload_ext autoreload\n"
     ]
    }
   ],
   "source": [
    "## Importing custom function for project\n",
    "%load_ext autoreload\n",
    "%autoreload 2\n",
    "import custom_functions as fn\n",
    "\n",
    "import os,glob,json\n",
    "import pandas as pd\n",
    "from pprint import pprint"
   ]
  },
  {
   "cell_type": "code",
   "execution_count": 3,
   "id": "c0f8378c-63d8-4290-b460-4b0136da212b",
   "metadata": {
    "execution": {
     "iopub.execute_input": "2024-01-26T22:07:34.016087Z",
     "iopub.status.busy": "2024-01-26T22:07:34.015067Z",
     "iopub.status.idle": "2024-01-26T22:07:37.251080Z",
     "shell.execute_reply": "2024-01-26T22:07:37.250704Z",
     "shell.execute_reply.started": "2024-01-26T22:07:34.016031Z"
    }
   },
   "outputs": [
    {
     "data": {
      "text/plain": [
       "'1.0.9'"
      ]
     },
     "execution_count": 3,
     "metadata": {},
     "output_type": "execute_result"
    }
   ],
   "source": [
    "# !pip install -U dojo_ds -q\n",
    "# import dojo_ds as ds\n",
    "# ds.__version__"
   ]
  },
  {
   "cell_type": "markdown",
   "id": "382c05b6-2ac3-40d0-87a9-72c973c94415",
   "metadata": {},
   "source": [
    "## Setting Filepaths Config Files"
   ]
  },
  {
   "cell_type": "code",
   "execution_count": 21,
   "id": "0847aa73-1f5c-4632-ae3d-0cd3da7f6376",
   "metadata": {
    "execution": {
     "iopub.execute_input": "2024-01-26T22:39:35.751365Z",
     "iopub.status.busy": "2024-01-26T22:39:35.750926Z",
     "iopub.status.idle": "2024-01-26T22:39:35.796931Z",
     "shell.execute_reply": "2024-01-26T22:39:35.796593Z",
     "shell.execute_reply.started": "2024-01-26T22:39:35.751339Z"
    }
   },
   "outputs": [
    {
     "name": "stdout",
     "output_type": "stream",
     "text": [
      "[i] FPATHS Dictionary:\n",
      "\n",
      "{'data': {'app': {'movie-data_csv': 'app-assets/movie-data-streamlit.csv'},\n",
      "          'ml-nlp': {'reviews-with-target_json': 'Data-NLP/modeling/processed-nlp-reviews-for-ml.json',\n",
      "                     'test_joblib': 'Data-NLP/modeling/testing-data.joblib',\n",
      "                     'train_joblib': 'Data-NLP/modeling/training-data.joblib'},\n",
      "          'ml-tabular': {'movie-info-with-ml-target_json': 'Data/modeling/processed-movie-data-for-ml.json',\n",
      "                         'test_joblib': 'Data/modeling/testing-data.joblib',\n",
      "                         'train_joblib': 'Data/modeling/training-data.joblib'},\n",
      "          'nn': {'test_dataset': 'Data/modeling/testing-data-tf/',\n",
      "                 'train_dataset': 'Data/modeling/training-data-tf/'},\n",
      "          'raw': {'movie-info-tmdb_csv': 'Data-NLP/tmdb-movie-info.csv.gz',\n",
      "                  'movie-reviews-tmdb_csv': 'Data-NLP/tmdb-movie-reviews.csv.gz',\n",
      "                  'processed-reviews-spacy_joblib': 'Data-NLP/processed-nlp-reviews.joblib',\n",
      "                  'processed-reviews-spacy_json': 'Data-NLP/processed-nlp-reviews.json',\n",
      "                  'reviews-with-movie-info_json': 'Data-NLP/combined-tmdb-movie-reviews-with-info.json'}},\n",
      " 'eda': {'scattertext-by-rating_html': 'app-assets/scattertext-rating.html',\n",
      "         'scattertext-by-roi_html': 'app-assets/scattertext-roi.html',\n",
      "         'wordclouds_by_rating': 'EDA/wordclouds-compare-rating.png',\n",
      "         'wordclouds_by_roi': 'EDA/wordclouds-compare-roi.png'},\n",
      " 'images': {'banner': 'images/app-banner.png'},\n",
      " 'metadata': {'target_lookup': 'Data-NLP/target-lookup.json'},\n",
      " 'models': {'ml': {'bayes_joblib': 'Models/bayes-clf.joblib',\n",
      "                   'logreg_joblib': 'Models/log-reg.joblib',\n",
      "                   'random_forest_joblib': 'Models/random-forest.joblib'},\n",
      "            'nn': {'Attention_model': 'Models/keras/attn/',\n",
      "                   'GRU_model': 'Models/keras/gru/',\n",
      "                   'LSTM_model': 'Models/keras/lstm/'}}}\n",
      "\n",
      "[i] Saved FPATHS to config/filepaths.json\n"
     ]
    }
   ],
   "source": [
    "import json, os\n",
    "from pprint import pprint\n",
    "\n",
    "# Define filename for project config filepaths json file\n",
    "FPATHS_FILE = \"config/filepaths.json\"\n",
    "os.makedirs(os.path.dirname(FPATHS_FILE), exist_ok=True)\n",
    "\n",
    "# Define Filepaths\n",
    "FPATHS = dict(\n",
    "    data={\n",
    "        \"raw\": {\n",
    "            # Movie Reviews (no movie data or categories\n",
    "            \"movie-reviews-tmdb_csv\": \"Data-NLP/tmdb-movie-reviews.csv.gz\",\n",
    "            # TMDB Movie Info to Use for...NLP? (Why save this separate? )\n",
    "            \"movie-info-tmdb_csv\": \"Data-NLP/tmdb-movie-info.csv.gz\", \n",
    "            # Combined Movie Reviews with financial data\n",
    "            \"reviews-with-movie-info_json\": \"Data-NLP/combined-tmdb-movie-reviews-with-info.json\", \n",
    "            # \"movie-reviews-with-info_json\":\n",
    "            # ...??\n",
    "            # \"eda\": \"Data-NLP/eda-movie-reviews.csv.gz\",\n",
    "            \"processed-reviews-spacy_joblib\": \"Data-NLP/processed-nlp-reviews.joblib\",\n",
    "            \"processed-reviews-spacy_json\": \"Data-NLP/processed-nlp-reviews.json\",\n",
    "        },\n",
    "        \"app\": {\n",
    "            # Version of tabular data to load into streamlit app (unless decide to do AWS)\n",
    "            \"movie-data_csv\": \"app-assets/movie-data-streamlit.csv\", \n",
    "            # \"movie-reviews\": ???:\n",
    "                # Same as raw>movie-reviews-with-info-json?\n",
    "                # or Same as ml>'reviews-with-target-json'?? \n",
    "        },\n",
    "        \"ml-nlp\": {\n",
    "            # Final dataframe of machine learning for NLP ( Use Data-NLP Folder for these models)\n",
    "            \"reviews-with-target_json\": \"Data-NLP/modeling/processed-nlp-reviews-for-ml.json\",\n",
    "            \"train_joblib\": \"Data-NLP/modeling/training-data.joblib\",  # (X_train,y_train)\n",
    "            \"test_joblib\": \"Data-NLP/modeling/testing-data.joblib\",  # (X_test,y_test)\n",
    "        },\n",
    "        \"ml-tabular\": {\n",
    "            # Final dataframe of machine learning ( Use Data Folder for these models)\n",
    "            \"movie-info-with-ml-target_json\": \"Data/modeling/processed-movie-data-for-ml.json\", # \"Data-NLP/modeling/processed-nlp-reviews-for-ml.json\",\n",
    "            \"train_joblib\": \"Data/modeling/training-data.joblib\",  # (X_train,y_train)\n",
    "            \"test_joblib\": \"Data/modeling/testing-data.joblib\",  # (X_test,y_test)\n",
    "        },\n",
    "        \"nn\": {\n",
    "            \"train_dir\": \"Data/modeling/training-data-tf/\",  # train_ds\n",
    "            \"test_dir\": \"Data/modeling/testing-data-tf/\",  # test_ds\n",
    "        },\n",
    "    },\n",
    "    images={\n",
    "        \"banner\": \"images/app-banner.png\",\n",
    "    },\n",
    "    # # Additional metadata (target lookup,etc.)\n",
    "    metadata={\n",
    "        \"target_lookup\": \"Data-NLP/target-lookup.json\",\n",
    "    },\n",
    "    # Any images to be displayed in the app\n",
    "    eda={\n",
    "        \"wordclouds-by-roi_png\": \"images/wordclouds-compare-roi.png\",\n",
    "        \"wordclouds-by-rating_png\": \"images/wordclouds-compare-rating.png\",\n",
    "        \"scattertext-by-roi_html\": \"app-assets/scattertext-roi.html\",\n",
    "        \"scattertext-by-rating_html\": \"app-assets/scattertext-rating.html\",\n",
    "\n",
    "    },\n",
    "    models={\n",
    "        # Machine Learning Models and results\n",
    "        \"ml\": {\n",
    "            \"bayes_joblib\": \"Models/bayes-clf.joblib\",\n",
    "            \"random_forest_joblib\": \"Models/random-forest.joblib\",\n",
    "            \"logreg_joblib\": \"Models/log-reg.joblib\",\n",
    "        },\n",
    "        # Neural networks and results\n",
    "        \"nn\": {\n",
    "            \"LSTM_dir\": \"Models/keras/lstm/\",\n",
    "            \"GRU_dir\": \"Models/keras/gru/\",\n",
    "            \"Attention_model_dir\": \"Models/keras/attn/\",\n",
    "        },\n",
    "    },\n",
    ")\n",
    "# Use fn for local package, ds for pip version\n",
    "fn.utils.create_directories_from_paths(FPATHS)\n",
    "# ds.utils.create_directories_from_paths(FPATHS)\n",
    "\n",
    "print('[i] FPATHS Dictionary:\\n')\n",
    "pprint(FPATHS)\n",
    "\n",
    "## Save the filepaths\n",
    "with open(FPATHS_FILE, \"w\") as f:\n",
    "    json.dump(FPATHS, f)\n",
    "    print(f\"\\n[i] Saved FPATHS to {FPATHS_FILE}\")"
   ]
  },
  {
   "cell_type": "code",
   "execution_count": 22,
   "id": "d7ee5bc9-d304-439f-9446-736e5e404f48",
   "metadata": {
    "execution": {
     "iopub.execute_input": "2024-01-26T22:39:37.207269Z",
     "iopub.status.busy": "2024-01-26T22:39:37.206863Z",
     "iopub.status.idle": "2024-01-26T22:39:37.249712Z",
     "shell.execute_reply": "2024-01-26T22:39:37.249384Z",
     "shell.execute_reply.started": "2024-01-26T22:39:37.207244Z"
    }
   },
   "outputs": [
    {
     "data": {
      "text/plain": [
       "{'data': {'raw': {'movie-reviews-tmdb_csv': 'Data-NLP/tmdb-movie-reviews.csv.gz',\n",
       "   'movie-info-tmdb_csv': 'Data-NLP/tmdb-movie-info.csv.gz',\n",
       "   'reviews-with-movie-info_json': 'Data-NLP/combined-tmdb-movie-reviews-with-info.json',\n",
       "   'processed-reviews-spacy_joblib': 'Data-NLP/processed-nlp-reviews.joblib',\n",
       "   'processed-reviews-spacy_json': 'Data-NLP/processed-nlp-reviews.json'},\n",
       "  'app': {'movie-data_csv': 'app-assets/movie-data-streamlit.csv'},\n",
       "  'ml-nlp': {'reviews-with-target_json': 'Data-NLP/modeling/processed-nlp-reviews-for-ml.json',\n",
       "   'train_joblib': 'Data-NLP/modeling/training-data.joblib',\n",
       "   'test_joblib': 'Data-NLP/modeling/testing-data.joblib'},\n",
       "  'ml-tabular': {'movie-info-with-ml-target_json': 'Data/modeling/processed-movie-data-for-ml.json',\n",
       "   'train_joblib': 'Data/modeling/training-data.joblib',\n",
       "   'test_joblib': 'Data/modeling/testing-data.joblib'},\n",
       "  'nn': {'train_dataset': 'Data/modeling/training-data-tf/',\n",
       "   'test_dataset': 'Data/modeling/testing-data-tf/'}},\n",
       " 'images': {'banner': 'images/app-banner.png'},\n",
       " 'metadata': {'target_lookup': 'Data-NLP/target-lookup.json'},\n",
       " 'eda': {'wordclouds_by_roi': 'EDA/wordclouds-compare-roi.png',\n",
       "  'wordclouds_by_rating': 'EDA/wordclouds-compare-rating.png',\n",
       "  'scattertext-by-roi_html': 'app-assets/scattertext-roi.html',\n",
       "  'scattertext-by-rating_html': 'app-assets/scattertext-rating.html'},\n",
       " 'models': {'ml': {'bayes_joblib': 'Models/bayes-clf.joblib',\n",
       "   'random_forest_joblib': 'Models/random-forest.joblib',\n",
       "   'logreg_joblib': 'Models/log-reg.joblib'},\n",
       "  'nn': {'LSTM_model': 'Models/keras/lstm/',\n",
       "   'GRU_model': 'Models/keras/gru/',\n",
       "   'Attention_model': 'Models/keras/attn/'}}}"
      ]
     },
     "execution_count": 22,
     "metadata": {},
     "output_type": "execute_result"
    }
   ],
   "source": [
    "with open(FPATHS_FILE) as f:\n",
    "    TEST = json.load(f)\n",
    "# pprint(TEST)\n",
    "TEST"
   ]
  },
  {
   "cell_type": "code",
   "execution_count": 23,
   "id": "86a2e563-74ea-4e81-960c-8e5fc04285ea",
   "metadata": {
    "execution": {
     "iopub.execute_input": "2024-01-26T22:39:40.590936Z",
     "iopub.status.busy": "2024-01-26T22:39:40.590538Z",
     "iopub.status.idle": "2024-01-26T22:39:40.634416Z",
     "shell.execute_reply": "2024-01-26T22:39:40.634065Z",
     "shell.execute_reply.started": "2024-01-26T22:39:40.590911Z"
    }
   },
   "outputs": [
    {
     "data": {
      "text/plain": [
       "dict_keys(['raw', 'app', 'ml-nlp', 'ml-tabular', 'nn'])"
      ]
     },
     "execution_count": 23,
     "metadata": {},
     "output_type": "execute_result"
    }
   ],
   "source": [
    "TEST['data'].keys()"
   ]
  },
  {
   "cell_type": "markdown",
   "id": "25a73590-81b7-4d0e-9081-3128b4c08717",
   "metadata": {},
   "source": [
    "## Combining and Cleaning TMDB API Data \n",
    "**(Also Done @ End of API Calls in Notebook 2A))**"
   ]
  },
  {
   "cell_type": "code",
   "execution_count": null,
   "id": "20c4e22d-668c-4050-bbf4-bb2e72475270",
   "metadata": {},
   "outputs": [],
   "source": []
  }
 ],
 "metadata": {
  "kernelspec": {
   "display_name": "Python 3 (ipykernel)",
   "language": "python",
   "name": "python3"
  },
  "language_info": {
   "codemirror_mode": {
    "name": "ipython",
    "version": 3
   },
   "file_extension": ".py",
   "mimetype": "text/x-python",
   "name": "python",
   "nbconvert_exporter": "python",
   "pygments_lexer": "ipython3",
   "version": "3.10.10"
  }
 },
 "nbformat": 4,
 "nbformat_minor": 5
}
