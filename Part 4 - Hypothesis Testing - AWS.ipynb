{
 "cells": [
  {
   "cell_type": "markdown",
   "id": "ed7136cb",
   "metadata": {},
   "source": [
    "# Part 4 - Hypothesis Testing"
   ]
  },
  {
   "cell_type": "markdown",
   "id": "cc31f7af",
   "metadata": {},
   "source": [
    "For part 4 of the project, I will be using my MySQL database from part 3 to answer meaningful questions for your stakeholder.\n",
    "\n",
    "They want me to use your hypothesis testing and statistics knowledge to answer 3 questions about what makes a successful movie.\n",
    "\n",
    "## Questions to Answer\n",
    "- Q1: Does the MPAA rating of a movie (G/PG/PG-13/R) affect how much revenue the movie generates? If so, which rating earns the most revenue?\n",
    "    - Q1B: What if compare ROI instead of revenue?\n",
    "- Q2; Do movies that are over 2.5 hours long earn more revenue than movies that are 1.5 hours long (or less)?\n",
    "\n",
    "- Q3: Do movies released in 2020 earn less revenue than movies released in 2018?\n",
    "\n",
    "- Q4: Do some movie genres earn more revenue than others?\n",
    "- Q5: Are some genres more highly rated than others?"
   ]
  },
  {
   "cell_type": "markdown",
   "id": "64f1a27f-039b-48bb-8dc5-087a09f91a41",
   "metadata": {},
   "source": [
    "## Hypothesis Testing Workflow"
   ]
  },
  {
   "cell_type": "code",
   "execution_count": 63,
   "id": "14e5022b-62b8-4436-b7c0-392246aed946",
   "metadata": {
    "execution": {
     "iopub.execute_input": "2024-02-02T02:57:13.441756Z",
     "iopub.status.busy": "2024-02-02T02:57:13.441054Z",
     "iopub.status.idle": "2024-02-02T02:57:13.485198Z",
     "shell.execute_reply": "2024-02-02T02:57:13.484819Z",
     "shell.execute_reply.started": "2024-02-02T02:57:13.441708Z"
    }
   },
   "outputs": [],
   "source": [
    "from IPython.display import Markdown\n",
    "with open(\"Reference/hypothesis_testing_workflow.md\") as f:\n",
    "    how_to = f.read()\n",
    "# Markdown(how_to)"
   ]
  },
  {
   "cell_type": "markdown",
   "id": "7fdfd32c",
   "metadata": {},
   "source": [
    "# Imports and Loading"
   ]
  },
  {
   "cell_type": "code",
   "execution_count": 7,
   "id": "cd2d48db",
   "metadata": {
    "execution": {
     "iopub.execute_input": "2024-02-02T02:33:53.394385Z",
     "iopub.status.busy": "2024-02-02T02:33:53.392764Z",
     "iopub.status.idle": "2024-02-02T02:33:53.501544Z",
     "shell.execute_reply": "2024-02-02T02:33:53.501248Z",
     "shell.execute_reply.started": "2024-02-02T02:33:53.394334Z"
    }
   },
   "outputs": [],
   "source": [
    "# Importing custom function for project\n",
    "%load_ext autoreload\n",
    "%autoreload 2\n",
    "import project_functions as pf"
   ]
  },
  {
   "cell_type": "code",
   "execution_count": 8,
   "id": "bf6d398c-5e38-44b2-b159-d1aae3c4ed39",
   "metadata": {
    "execution": {
     "iopub.execute_input": "2024-02-02T02:33:53.582549Z",
     "iopub.status.busy": "2024-02-02T02:33:53.582294Z",
     "iopub.status.idle": "2024-02-02T02:33:56.560228Z",
     "shell.execute_reply": "2024-02-02T02:33:56.559923Z",
     "shell.execute_reply.started": "2024-02-02T02:33:53.582531Z"
    }
   },
   "outputs": [
    {
     "data": {
      "text/plain": [
       "'1.0.9'"
      ]
     },
     "execution_count": 8,
     "metadata": {},
     "output_type": "execute_result"
    }
   ],
   "source": [
    "!pip install -U dojo_ds -q\n",
    "import dojo_ds as ds\n",
    "ds.__version__"
   ]
  },
  {
   "cell_type": "code",
   "execution_count": 9,
   "id": "9bd8f198-8ee1-43eb-90c2-e25950197faf",
   "metadata": {
    "execution": {
     "iopub.execute_input": "2024-02-02T02:33:56.561117Z",
     "iopub.status.busy": "2024-02-02T02:33:56.560991Z",
     "iopub.status.idle": "2024-02-02T02:33:56.582134Z",
     "shell.execute_reply": "2024-02-02T02:33:56.581769Z",
     "shell.execute_reply.started": "2024-02-02T02:33:56.561108Z"
    }
   },
   "outputs": [],
   "source": [
    "import json\n",
    "import pandas as pd\n",
    "import numpy as np\n",
    "import seaborn as sns\n",
    "from scipy import stats\n",
    "import matplotlib.pyplot as plt\n",
    "\n",
    "fav_style = ('ggplot','fivethirtyeight')#,'tableau-colorblind10')\n",
    "fav_context  ={'context':'notebook', 'font_scale':1.1}\n",
    "plt.style.use(fav_style)\n",
    "sns.set_context(**fav_context)\n",
    "plt.rcParams['savefig.transparent'] = False\n",
    "plt.rcParams['savefig.bbox'] = 'tight'"
   ]
  },
  {
   "cell_type": "code",
   "execution_count": 17,
   "id": "92b97bf8-07d5-46b6-8c56-8e9c9e7895a7",
   "metadata": {
    "execution": {
     "iopub.execute_input": "2024-02-02T02:38:21.694076Z",
     "iopub.status.busy": "2024-02-02T02:38:21.693285Z",
     "iopub.status.idle": "2024-02-02T02:38:21.740853Z",
     "shell.execute_reply": "2024-02-02T02:38:21.740376Z",
     "shell.execute_reply.started": "2024-02-02T02:38:21.694035Z"
    }
   },
   "outputs": [
    {
     "data": {
      "text/plain": [
       "'1.4.49'"
      ]
     },
     "execution_count": 17,
     "metadata": {},
     "output_type": "execute_result"
    }
   ],
   "source": [
    "import sqlalchemy \n",
    "sqlalchemy.__version__"
   ]
  },
  {
   "cell_type": "code",
   "execution_count": 18,
   "id": "efb49210-c84a-43ea-87ce-67f723e2a084",
   "metadata": {
    "execution": {
     "iopub.execute_input": "2024-02-02T02:38:53.369562Z",
     "iopub.status.busy": "2024-02-02T02:38:53.368762Z",
     "iopub.status.idle": "2024-02-02T02:38:53.423030Z",
     "shell.execute_reply": "2024-02-02T02:38:53.422481Z",
     "shell.execute_reply.started": "2024-02-02T02:38:53.369532Z"
    }
   },
   "outputs": [
    {
     "data": {
      "text/plain": [
       "dict_keys(['user', 'password', 'port', 'host', 'database'])"
      ]
     },
     "execution_count": 18,
     "metadata": {},
     "output_type": "execute_result"
    }
   ],
   "source": [
    "# !pip install pymysql\n",
    "import pymysql\n",
    "pymysql.install_as_MySQLdb()\n",
    "from sqlalchemy import create_engine\n",
    "from sqlalchemy import text\n",
    "from sqlalchemy_utils import create_database, database_exists\n",
    "from urllib.parse import quote_plus\n",
    "\n",
    "## Getting mysql server password\n",
    "import json\n",
    "with open('/Users/codingdojo/.secret/mysql.json') as f:\n",
    "    login = json.load(f)\n",
    "\n",
    "login.keys()"
   ]
  },
  {
   "cell_type": "code",
   "execution_count": 6,
   "id": "e8f7512c-c58a-45e1-9fd0-e5f79dc486c4",
   "metadata": {
    "execution": {
     "iopub.execute_input": "2024-02-02T02:33:12.707041Z",
     "iopub.status.busy": "2024-02-02T02:33:12.705419Z",
     "iopub.status.idle": "2024-02-02T02:33:12.750071Z",
     "shell.execute_reply": "2024-02-02T02:33:12.749696Z",
     "shell.execute_reply.started": "2024-02-02T02:33:12.706969Z"
    }
   },
   "outputs": [
    {
     "name": "stdout",
     "output_type": "stream",
     "text": [
      "[i] Successfully connected to database.\n"
     ]
    }
   ],
   "source": [
    "# from custom_functions import aws_mysql\n",
    "# conn = aws_mysql.connect_to_aws_rds(creds_file=\"/Users/codingdojo/.secret/aws-personal.json\")\n",
    "# conn\n",
    "connect_str = f\"mysql+pymysql://{login['user']}:{quote_plus(login['password'])}@{login['host']}/{login['database']}\"\n",
    "\n",
    "## Check if database exists\n",
    "if database_exists(connect_str) == False:\n",
    "    raise Exception(\"Database doesn't exist!\")\n",
    "    # create_database(connect_str)\n",
    "else:\n",
    "    ## create engine\n",
    "    engine = create_engine(connect_str)\n",
    "    conn = engine.connect()\n",
    "    print(\"[i] Successfully connected to database.\")"
   ]
  },
  {
   "cell_type": "markdown",
   "id": "40c7dfc8",
   "metadata": {},
   "source": [
    "# Q1: Does MPAA rating affect revenue?"
   ]
  },
  {
   "cell_type": "markdown",
   "id": "a0ba9dc8",
   "metadata": {},
   "source": [
    "## Hypothesis\n",
    "- $H_0$ (Null Hypothesis): All MPAA ratings generate have equal average revenue. \n",
    "- $H_A$ (Alternative Hypothesis):  Some MPAA ratings earn significantly more/less revenue than others.\n",
    "\n",
    "### Selecting the Right Test\n",
    "- We have Numerical Data\n",
    "- with more than 2 groups\n",
    "- We want a One way ANOVA\n",
    "\n",
    "### ANOVA Assumptions\n",
    "- No significant outliers\n",
    "- Normality\n",
    "- Equal Variance"
   ]
  },
  {
   "cell_type": "markdown",
   "id": "16ec1b71",
   "metadata": {},
   "source": [
    "## Getting the Data"
   ]
  },
  {
   "cell_type": "code",
   "execution_count": 49,
   "id": "8406f8d6-db00-4942-a05d-b2bc4e754419",
   "metadata": {
    "execution": {
     "iopub.execute_input": "2024-02-02T02:54:51.050538Z",
     "iopub.status.busy": "2024-02-02T02:54:51.050124Z",
     "iopub.status.idle": "2024-02-02T02:54:51.323488Z",
     "shell.execute_reply": "2024-02-02T02:54:51.323178Z",
     "shell.execute_reply.started": "2024-02-02T02:54:51.050513Z"
    }
   },
   "outputs": [
    {
     "data": {
      "text/html": [
       "<div>\n",
       "<style scoped>\n",
       "    .dataframe tbody tr th:only-of-type {\n",
       "        vertical-align: middle;\n",
       "    }\n",
       "\n",
       "    .dataframe tbody tr th {\n",
       "        vertical-align: top;\n",
       "    }\n",
       "\n",
       "    .dataframe thead th {\n",
       "        text-align: right;\n",
       "    }\n",
       "</style>\n",
       "<table border=\"1\" class=\"dataframe\">\n",
       "  <thead>\n",
       "    <tr style=\"text-align: right;\">\n",
       "      <th></th>\n",
       "      <th>imdb_id</th>\n",
       "      <th>id</th>\n",
       "      <th>budget</th>\n",
       "      <th>revenue</th>\n",
       "      <th>certification</th>\n",
       "      <th>original_title</th>\n",
       "      <th>poster_path</th>\n",
       "      <th>tagline</th>\n",
       "      <th>original_language</th>\n",
       "      <th>release_date</th>\n",
       "      <th>popularity</th>\n",
       "      <th>vote_average</th>\n",
       "      <th>vote_count</th>\n",
       "    </tr>\n",
       "  </thead>\n",
       "  <tbody>\n",
       "    <tr>\n",
       "      <th>0</th>\n",
       "      <td>tt0266543</td>\n",
       "      <td>12</td>\n",
       "      <td>94000000</td>\n",
       "      <td>940335536</td>\n",
       "      <td>None</td>\n",
       "      <td>Finding Nemo</td>\n",
       "      <td>/eHuGQ10FUzK1mdOY69wF5pGgEf5.jpg</td>\n",
       "      <td>There are 3.7 trillion fish in the ocean. They...</td>\n",
       "      <td>en</td>\n",
       "      <td>2003-05-30</td>\n",
       "      <td>109.171</td>\n",
       "      <td>7.823</td>\n",
       "      <td>18368</td>\n",
       "    </tr>\n",
       "    <tr>\n",
       "      <th>1</th>\n",
       "      <td>tt0168629</td>\n",
       "      <td>16</td>\n",
       "      <td>12500000</td>\n",
       "      <td>45600000</td>\n",
       "      <td>R</td>\n",
       "      <td>Dancer in the Dark</td>\n",
       "      <td>/8Wdd3fQfbbQeoSfWpHrDfaFNhBU.jpg</td>\n",
       "      <td>You don't need eyes to see.</td>\n",
       "      <td>en</td>\n",
       "      <td>2000-06-30</td>\n",
       "      <td>17.001</td>\n",
       "      <td>7.863</td>\n",
       "      <td>1664</td>\n",
       "    </tr>\n",
       "  </tbody>\n",
       "</table>\n",
       "</div>"
      ],
      "text/plain": [
       "     imdb_id  id    budget    revenue certification      original_title  \\\n",
       "0  tt0266543  12  94000000  940335536          None        Finding Nemo   \n",
       "1  tt0168629  16  12500000   45600000             R  Dancer in the Dark   \n",
       "\n",
       "                        poster_path  \\\n",
       "0  /eHuGQ10FUzK1mdOY69wF5pGgEf5.jpg   \n",
       "1  /8Wdd3fQfbbQeoSfWpHrDfaFNhBU.jpg   \n",
       "\n",
       "                                             tagline original_language  \\\n",
       "0  There are 3.7 trillion fish in the ocean. They...                en   \n",
       "1                        You don't need eyes to see.                en   \n",
       "\n",
       "  release_date  popularity  vote_average  vote_count  \n",
       "0   2003-05-30     109.171         7.823       18368  \n",
       "1   2000-06-30      17.001         7.863        1664  "
      ]
     },
     "execution_count": 49,
     "metadata": {},
     "output_type": "execute_result"
    }
   ],
   "source": [
    "q = \"\"\"SELECT * FROM tmdb LIMIT 2\"\"\"\n",
    "pd.read_sql(q,conn)"
   ]
  },
  {
   "cell_type": "code",
   "execution_count": 50,
   "id": "75b7e612",
   "metadata": {
    "execution": {
     "iopub.execute_input": "2024-02-02T02:54:51.615462Z",
     "iopub.status.busy": "2024-02-02T02:54:51.614769Z",
     "iopub.status.idle": "2024-02-02T02:54:51.712859Z",
     "shell.execute_reply": "2024-02-02T02:54:51.712267Z",
     "shell.execute_reply.started": "2024-02-02T02:54:51.615428Z"
    }
   },
   "outputs": [
    {
     "data": {
      "text/html": [
       "<div>\n",
       "<style scoped>\n",
       "    .dataframe tbody tr th:only-of-type {\n",
       "        vertical-align: middle;\n",
       "    }\n",
       "\n",
       "    .dataframe tbody tr th {\n",
       "        vertical-align: top;\n",
       "    }\n",
       "\n",
       "    .dataframe thead th {\n",
       "        text-align: right;\n",
       "    }\n",
       "</style>\n",
       "<table border=\"1\" class=\"dataframe\">\n",
       "  <thead>\n",
       "    <tr style=\"text-align: right;\">\n",
       "      <th></th>\n",
       "      <th>imdb_id</th>\n",
       "      <th>original_title</th>\n",
       "      <th>release_date</th>\n",
       "      <th>budget</th>\n",
       "      <th>revenue</th>\n",
       "      <th>certification</th>\n",
       "    </tr>\n",
       "  </thead>\n",
       "  <tbody>\n",
       "    <tr>\n",
       "      <th>0</th>\n",
       "      <td>tt0168629</td>\n",
       "      <td>Dancer in the Dark</td>\n",
       "      <td>2000-06-30</td>\n",
       "      <td>12500000</td>\n",
       "      <td>45600000</td>\n",
       "      <td>R</td>\n",
       "    </tr>\n",
       "    <tr>\n",
       "      <th>1</th>\n",
       "      <td>tt0314412</td>\n",
       "      <td>My Life Without Me</td>\n",
       "      <td>2003-03-07</td>\n",
       "      <td>2500000</td>\n",
       "      <td>12300000</td>\n",
       "      <td>R</td>\n",
       "    </tr>\n",
       "    <tr>\n",
       "      <th>2</th>\n",
       "      <td>tt0325980</td>\n",
       "      <td>Pirates of the Caribbean: The Curse of the Bla...</td>\n",
       "      <td>2003-07-09</td>\n",
       "      <td>140000000</td>\n",
       "      <td>655011224</td>\n",
       "      <td>PG-13</td>\n",
       "    </tr>\n",
       "    <tr>\n",
       "      <th>3</th>\n",
       "      <td>tt0266697</td>\n",
       "      <td>Kill Bill: Vol. 1</td>\n",
       "      <td>2003-10-10</td>\n",
       "      <td>30000000</td>\n",
       "      <td>180906076</td>\n",
       "      <td>R</td>\n",
       "    </tr>\n",
       "    <tr>\n",
       "      <th>4</th>\n",
       "      <td>tt0338013</td>\n",
       "      <td>Eternal Sunshine of the Spotless Mind</td>\n",
       "      <td>2004-03-19</td>\n",
       "      <td>20000000</td>\n",
       "      <td>72258126</td>\n",
       "      <td>R</td>\n",
       "    </tr>\n",
       "    <tr>\n",
       "      <th>...</th>\n",
       "      <td>...</td>\n",
       "      <td>...</td>\n",
       "      <td>...</td>\n",
       "      <td>...</td>\n",
       "      <td>...</td>\n",
       "      <td>...</td>\n",
       "    </tr>\n",
       "    <tr>\n",
       "      <th>3575</th>\n",
       "      <td>tt27439070</td>\n",
       "      <td>MIRACULUM</td>\n",
       "      <td>2022-06-15</td>\n",
       "      <td>1000</td>\n",
       "      <td>1000</td>\n",
       "      <td>PG-13</td>\n",
       "    </tr>\n",
       "    <tr>\n",
       "      <th>3576</th>\n",
       "      <td>tt19406606</td>\n",
       "      <td>The Shift</td>\n",
       "      <td>2023-11-30</td>\n",
       "      <td>6500000</td>\n",
       "      <td>8500000</td>\n",
       "      <td>PG-13</td>\n",
       "    </tr>\n",
       "    <tr>\n",
       "      <th>3577</th>\n",
       "      <td>tt21191906</td>\n",
       "      <td>After Death</td>\n",
       "      <td>2023-10-26</td>\n",
       "      <td>40000000</td>\n",
       "      <td>11400000</td>\n",
       "      <td>PG-13</td>\n",
       "    </tr>\n",
       "    <tr>\n",
       "      <th>3578</th>\n",
       "      <td>tt26459268</td>\n",
       "      <td>The Rise Of Serio</td>\n",
       "      <td>2010-01-19</td>\n",
       "      <td>97000</td>\n",
       "      <td>1300000</td>\n",
       "      <td>R</td>\n",
       "    </tr>\n",
       "    <tr>\n",
       "      <th>3579</th>\n",
       "      <td>tt26598421</td>\n",
       "      <td>Gansterism Part 3</td>\n",
       "      <td>2011-04-20</td>\n",
       "      <td>120000</td>\n",
       "      <td>3700000</td>\n",
       "      <td>R</td>\n",
       "    </tr>\n",
       "  </tbody>\n",
       "</table>\n",
       "<p>3580 rows × 6 columns</p>\n",
       "</div>"
      ],
      "text/plain": [
       "         imdb_id                                     original_title  \\\n",
       "0      tt0168629                                 Dancer in the Dark   \n",
       "1      tt0314412                                 My Life Without Me   \n",
       "2      tt0325980  Pirates of the Caribbean: The Curse of the Bla...   \n",
       "3      tt0266697                                  Kill Bill: Vol. 1   \n",
       "4      tt0338013              Eternal Sunshine of the Spotless Mind   \n",
       "...          ...                                                ...   \n",
       "3575  tt27439070                                          MIRACULUM   \n",
       "3576  tt19406606                                          The Shift   \n",
       "3577  tt21191906                                        After Death   \n",
       "3578  tt26459268                                  The Rise Of Serio   \n",
       "3579  tt26598421                                  Gansterism Part 3   \n",
       "\n",
       "     release_date     budget    revenue certification  \n",
       "0      2000-06-30   12500000   45600000             R  \n",
       "1      2003-03-07    2500000   12300000             R  \n",
       "2      2003-07-09  140000000  655011224         PG-13  \n",
       "3      2003-10-10   30000000  180906076             R  \n",
       "4      2004-03-19   20000000   72258126             R  \n",
       "...           ...        ...        ...           ...  \n",
       "3575   2022-06-15       1000       1000         PG-13  \n",
       "3576   2023-11-30    6500000    8500000         PG-13  \n",
       "3577   2023-10-26   40000000   11400000         PG-13  \n",
       "3578   2010-01-19      97000    1300000             R  \n",
       "3579   2011-04-20     120000    3700000             R  \n",
       "\n",
       "[3580 rows x 6 columns]"
      ]
     },
     "execution_count": 50,
     "metadata": {},
     "output_type": "execute_result"
    }
   ],
   "source": [
    "# Full Query\n",
    "q = \"\"\"SELECT \n",
    "    imdb_id,\n",
    "    original_title,\n",
    "    release_date,\n",
    "    budget,\n",
    "    revenue,\n",
    "    certification\n",
    "FROM\n",
    "    tmdb\n",
    "WHERE\n",
    "    tmdb.budget > 0 AND tmdb.revenue > 0\n",
    "        AND tmdb.certification IS NOT NULL\n",
    "        AND tmdb.certification NOT LIKE 'NR'\n",
    "        AND tmdb.certification NOT LIKE 'NC%';\n",
    "\"\"\"\n",
    "df =pd.read_sql(text(q),conn)\n",
    "df"
   ]
  },
  {
   "cell_type": "code",
   "execution_count": 51,
   "id": "8790539d-4f8d-432e-9696-632c05439eb7",
   "metadata": {
    "execution": {
     "iopub.execute_input": "2024-02-02T02:54:53.365075Z",
     "iopub.status.busy": "2024-02-02T02:54:53.364552Z",
     "iopub.status.idle": "2024-02-02T02:54:53.410592Z",
     "shell.execute_reply": "2024-02-02T02:54:53.410155Z",
     "shell.execute_reply.started": "2024-02-02T02:54:53.365046Z"
    }
   },
   "outputs": [
    {
     "data": {
      "text/plain": [
       "0"
      ]
     },
     "execution_count": 51,
     "metadata": {},
     "output_type": "execute_result"
    }
   ],
   "source": [
    "df.duplicated(subset=['imdb_id']).sum()"
   ]
  },
  {
   "cell_type": "code",
   "execution_count": 52,
   "id": "876f2d0b-c18b-46d3-bad1-11ca421ef3fe",
   "metadata": {
    "execution": {
     "iopub.execute_input": "2024-02-02T02:54:53.558531Z",
     "iopub.status.busy": "2024-02-02T02:54:53.557769Z",
     "iopub.status.idle": "2024-02-02T02:54:53.603618Z",
     "shell.execute_reply": "2024-02-02T02:54:53.603219Z",
     "shell.execute_reply.started": "2024-02-02T02:54:53.558493Z"
    }
   },
   "outputs": [
    {
     "name": "stdout",
     "output_type": "stream",
     "text": [
      "<class 'pandas.core.frame.DataFrame'>\n",
      "RangeIndex: 3580 entries, 0 to 3579\n",
      "Data columns (total 6 columns):\n",
      " #   Column          Non-Null Count  Dtype \n",
      "---  ------          --------------  ----- \n",
      " 0   imdb_id         3580 non-null   object\n",
      " 1   original_title  3580 non-null   object\n",
      " 2   release_date    3580 non-null   object\n",
      " 3   budget          3580 non-null   int64 \n",
      " 4   revenue         3580 non-null   int64 \n",
      " 5   certification   3580 non-null   object\n",
      "dtypes: int64(2), object(4)\n",
      "memory usage: 167.9+ KB\n"
     ]
    }
   ],
   "source": [
    "df.info()"
   ]
  },
  {
   "cell_type": "markdown",
   "id": "d1d4b325-877e-4b36-8641-0fa87be46c5f",
   "metadata": {},
   "source": [
    "### Checking for Box Office Earnings"
   ]
  },
  {
   "cell_type": "code",
   "execution_count": 53,
   "id": "09c78818",
   "metadata": {
    "execution": {
     "iopub.execute_input": "2024-02-02T02:54:54.082744Z",
     "iopub.status.busy": "2024-02-02T02:54:54.081742Z",
     "iopub.status.idle": "2024-02-02T02:54:54.128851Z",
     "shell.execute_reply": "2024-02-02T02:54:54.128324Z",
     "shell.execute_reply.started": "2024-02-02T02:54:54.082588Z"
    }
   },
   "outputs": [
    {
     "data": {
      "text/plain": [
       "R        1602\n",
       "PG-13    1374\n",
       "PG        528\n",
       "G          76\n",
       "Name: certification, dtype: int64"
      ]
     },
     "execution_count": 53,
     "metadata": {},
     "output_type": "execute_result"
    }
   ],
   "source": [
    "df['certification'].value_counts(dropna=False)"
   ]
  },
  {
   "cell_type": "code",
   "execution_count": 54,
   "id": "29449fce",
   "metadata": {
    "execution": {
     "iopub.execute_input": "2024-02-02T02:54:54.558784Z",
     "iopub.status.busy": "2024-02-02T02:54:54.558376Z",
     "iopub.status.idle": "2024-02-02T02:54:54.608878Z",
     "shell.execute_reply": "2024-02-02T02:54:54.608513Z",
     "shell.execute_reply.started": "2024-02-02T02:54:54.558759Z"
    }
   },
   "outputs": [
    {
     "data": {
      "text/plain": [
       "imdb_id           0\n",
       "original_title    0\n",
       "release_date      0\n",
       "budget            0\n",
       "revenue           0\n",
       "certification     0\n",
       "dtype: int64"
      ]
     },
     "execution_count": 54,
     "metadata": {},
     "output_type": "execute_result"
    }
   ],
   "source": [
    "## checking for null values\n",
    "df.isna().sum()"
   ]
  },
  {
   "cell_type": "markdown",
   "id": "13674f47",
   "metadata": {},
   "source": [
    "## Visualizing & Separating Groups"
   ]
  },
  {
   "cell_type": "code",
   "execution_count": 55,
   "id": "ee11f064-f8b3-46f5-897e-9c5095974dd7",
   "metadata": {
    "execution": {
     "iopub.execute_input": "2024-02-02T02:54:56.405347Z",
     "iopub.status.busy": "2024-02-02T02:54:56.404955Z",
     "iopub.status.idle": "2024-02-02T02:54:56.450899Z",
     "shell.execute_reply": "2024-02-02T02:54:56.450551Z",
     "shell.execute_reply.started": "2024-02-02T02:54:56.405322Z"
    }
   },
   "outputs": [
    {
     "data": {
      "text/html": [
       "<div>\n",
       "<style scoped>\n",
       "    .dataframe tbody tr th:only-of-type {\n",
       "        vertical-align: middle;\n",
       "    }\n",
       "\n",
       "    .dataframe tbody tr th {\n",
       "        vertical-align: top;\n",
       "    }\n",
       "\n",
       "    .dataframe thead th {\n",
       "        text-align: right;\n",
       "    }\n",
       "</style>\n",
       "<table border=\"1\" class=\"dataframe\">\n",
       "  <thead>\n",
       "    <tr style=\"text-align: right;\">\n",
       "      <th></th>\n",
       "      <th>Imdb Id</th>\n",
       "      <th>Original Title</th>\n",
       "      <th>Release Date</th>\n",
       "      <th>Budget</th>\n",
       "      <th>Revenue</th>\n",
       "      <th>Certification</th>\n",
       "    </tr>\n",
       "  </thead>\n",
       "  <tbody>\n",
       "    <tr>\n",
       "      <th>0</th>\n",
       "      <td>tt0168629</td>\n",
       "      <td>Dancer in the Dark</td>\n",
       "      <td>2000-06-30</td>\n",
       "      <td>12500000</td>\n",
       "      <td>45600000</td>\n",
       "      <td>R</td>\n",
       "    </tr>\n",
       "    <tr>\n",
       "      <th>1</th>\n",
       "      <td>tt0314412</td>\n",
       "      <td>My Life Without Me</td>\n",
       "      <td>2003-03-07</td>\n",
       "      <td>2500000</td>\n",
       "      <td>12300000</td>\n",
       "      <td>R</td>\n",
       "    </tr>\n",
       "    <tr>\n",
       "      <th>2</th>\n",
       "      <td>tt0325980</td>\n",
       "      <td>Pirates of the Caribbean: The Curse of the Bla...</td>\n",
       "      <td>2003-07-09</td>\n",
       "      <td>140000000</td>\n",
       "      <td>655011224</td>\n",
       "      <td>PG-13</td>\n",
       "    </tr>\n",
       "    <tr>\n",
       "      <th>3</th>\n",
       "      <td>tt0266697</td>\n",
       "      <td>Kill Bill: Vol. 1</td>\n",
       "      <td>2003-10-10</td>\n",
       "      <td>30000000</td>\n",
       "      <td>180906076</td>\n",
       "      <td>R</td>\n",
       "    </tr>\n",
       "    <tr>\n",
       "      <th>4</th>\n",
       "      <td>tt0338013</td>\n",
       "      <td>Eternal Sunshine of the Spotless Mind</td>\n",
       "      <td>2004-03-19</td>\n",
       "      <td>20000000</td>\n",
       "      <td>72258126</td>\n",
       "      <td>R</td>\n",
       "    </tr>\n",
       "    <tr>\n",
       "      <th>...</th>\n",
       "      <td>...</td>\n",
       "      <td>...</td>\n",
       "      <td>...</td>\n",
       "      <td>...</td>\n",
       "      <td>...</td>\n",
       "      <td>...</td>\n",
       "    </tr>\n",
       "    <tr>\n",
       "      <th>3575</th>\n",
       "      <td>tt27439070</td>\n",
       "      <td>MIRACULUM</td>\n",
       "      <td>2022-06-15</td>\n",
       "      <td>1000</td>\n",
       "      <td>1000</td>\n",
       "      <td>PG-13</td>\n",
       "    </tr>\n",
       "    <tr>\n",
       "      <th>3576</th>\n",
       "      <td>tt19406606</td>\n",
       "      <td>The Shift</td>\n",
       "      <td>2023-11-30</td>\n",
       "      <td>6500000</td>\n",
       "      <td>8500000</td>\n",
       "      <td>PG-13</td>\n",
       "    </tr>\n",
       "    <tr>\n",
       "      <th>3577</th>\n",
       "      <td>tt21191906</td>\n",
       "      <td>After Death</td>\n",
       "      <td>2023-10-26</td>\n",
       "      <td>40000000</td>\n",
       "      <td>11400000</td>\n",
       "      <td>PG-13</td>\n",
       "    </tr>\n",
       "    <tr>\n",
       "      <th>3578</th>\n",
       "      <td>tt26459268</td>\n",
       "      <td>The Rise Of Serio</td>\n",
       "      <td>2010-01-19</td>\n",
       "      <td>97000</td>\n",
       "      <td>1300000</td>\n",
       "      <td>R</td>\n",
       "    </tr>\n",
       "    <tr>\n",
       "      <th>3579</th>\n",
       "      <td>tt26598421</td>\n",
       "      <td>Gansterism Part 3</td>\n",
       "      <td>2011-04-20</td>\n",
       "      <td>120000</td>\n",
       "      <td>3700000</td>\n",
       "      <td>R</td>\n",
       "    </tr>\n",
       "  </tbody>\n",
       "</table>\n",
       "<p>3580 rows × 6 columns</p>\n",
       "</div>"
      ],
      "text/plain": [
       "         Imdb Id                                     Original Title  \\\n",
       "0      tt0168629                                 Dancer in the Dark   \n",
       "1      tt0314412                                 My Life Without Me   \n",
       "2      tt0325980  Pirates of the Caribbean: The Curse of the Bla...   \n",
       "3      tt0266697                                  Kill Bill: Vol. 1   \n",
       "4      tt0338013              Eternal Sunshine of the Spotless Mind   \n",
       "...          ...                                                ...   \n",
       "3575  tt27439070                                          MIRACULUM   \n",
       "3576  tt19406606                                          The Shift   \n",
       "3577  tt21191906                                        After Death   \n",
       "3578  tt26459268                                  The Rise Of Serio   \n",
       "3579  tt26598421                                  Gansterism Part 3   \n",
       "\n",
       "     Release Date     Budget    Revenue Certification  \n",
       "0      2000-06-30   12500000   45600000             R  \n",
       "1      2003-03-07    2500000   12300000             R  \n",
       "2      2003-07-09  140000000  655011224         PG-13  \n",
       "3      2003-10-10   30000000  180906076             R  \n",
       "4      2004-03-19   20000000   72258126             R  \n",
       "...           ...        ...        ...           ...  \n",
       "3575   2022-06-15       1000       1000         PG-13  \n",
       "3576   2023-11-30    6500000    8500000         PG-13  \n",
       "3577   2023-10-26   40000000   11400000         PG-13  \n",
       "3578   2010-01-19      97000    1300000             R  \n",
       "3579   2011-04-20     120000    3700000             R  \n",
       "\n",
       "[3580 rows x 6 columns]"
      ]
     },
     "execution_count": 55,
     "metadata": {},
     "output_type": "execute_result"
    }
   ],
   "source": [
    "df_eda = df.copy()\n",
    "df_eda.columns = [c.replace(\"_\",\" \").title() for c in df.columns]\n",
    "df_eda"
   ]
  },
  {
   "cell_type": "code",
   "execution_count": 56,
   "id": "c5cbc4b0",
   "metadata": {
    "execution": {
     "iopub.execute_input": "2024-02-02T02:54:57.501386Z",
     "iopub.status.busy": "2024-02-02T02:54:57.500990Z",
     "iopub.status.idle": "2024-02-02T02:54:57.546095Z",
     "shell.execute_reply": "2024-02-02T02:54:57.545781Z",
     "shell.execute_reply.started": "2024-02-02T02:54:57.501361Z"
    }
   },
   "outputs": [
    {
     "data": {
      "text/plain": [
       "array(['R', 'PG-13', 'PG', 'G'], dtype=object)"
      ]
     },
     "execution_count": 56,
     "metadata": {},
     "output_type": "execute_result"
    }
   ],
   "source": [
    "df_eda['Certification'].unique()"
   ]
  },
  {
   "cell_type": "code",
   "execution_count": 57,
   "id": "5990ebdb-9088-4d61-8c8d-fbf89a7ba651",
   "metadata": {
    "execution": {
     "iopub.execute_input": "2024-02-02T02:54:57.775094Z",
     "iopub.status.busy": "2024-02-02T02:54:57.774562Z",
     "iopub.status.idle": "2024-02-02T02:54:57.824815Z",
     "shell.execute_reply": "2024-02-02T02:54:57.824286Z",
     "shell.execute_reply.started": "2024-02-02T02:54:57.775069Z"
    }
   },
   "outputs": [],
   "source": [
    "mill_fmt = pf.get_funcformatter(kind='m',prefix=\"$\",float_fmt=',.0f')"
   ]
  },
  {
   "cell_type": "code",
   "execution_count": 58,
   "id": "aa778e07",
   "metadata": {
    "execution": {
     "iopub.execute_input": "2024-02-02T02:54:58.143936Z",
     "iopub.status.busy": "2024-02-02T02:54:58.143520Z",
     "iopub.status.idle": "2024-02-02T02:54:58.312213Z",
     "shell.execute_reply": "2024-02-02T02:54:58.311876Z",
     "shell.execute_reply.started": "2024-02-02T02:54:58.143911Z"
    }
   },
   "outputs": [
    {
     "data": {
      "image/png": "[encoded data removed]",
      "text/plain": [
       "<Figure size 640x480 with 1 Axes>"
      ]
     },
     "metadata": {},
     "output_type": "display_data"
    }
   ],
   "source": [
    "cert_order = ['G','PG','PG-13','R']\n",
    "ax = sns.barplot(data=df_eda, x='Certification', y='Revenue', errorbar=('ci',68), order=cert_order)\n",
    "ax.set_title(\"Average Revenue by Certification\");\n",
    "ax.yaxis.set_major_formatter(mill_fmt)"
   ]
  },
  {
   "cell_type": "code",
   "execution_count": 59,
   "id": "6948b665",
   "metadata": {
    "execution": {
     "iopub.execute_input": "2024-02-02T02:54:59.282398Z",
     "iopub.status.busy": "2024-02-02T02:54:59.281707Z",
     "iopub.status.idle": "2024-02-02T02:54:59.327769Z",
     "shell.execute_reply": "2024-02-02T02:54:59.327111Z",
     "shell.execute_reply.started": "2024-02-02T02:54:59.282349Z"
    }
   },
   "outputs": [
    {
     "data": {
      "text/plain": [
       "dict_keys(['R', 'PG-13', 'PG', 'G'])"
      ]
     },
     "execution_count": 59,
     "metadata": {},
     "output_type": "execute_result"
    }
   ],
   "source": [
    "## Save certification groups revenue as dictonary\n",
    "groups ={}\n",
    "\n",
    "for cert in df_eda['Certification'].unique():\n",
    "    temp = df_eda.loc[df_eda['Certification']== cert, 'Revenue']\n",
    "    groups[cert] = temp\n",
    "\n",
    "groups.keys()"
   ]
  },
  {
   "cell_type": "code",
   "execution_count": 60,
   "id": "5ca4c45d-97e5-4781-9dfd-6307c60d5931",
   "metadata": {
    "execution": {
     "iopub.execute_input": "2024-02-02T02:55:00.667390Z",
     "iopub.status.busy": "2024-02-02T02:55:00.666953Z",
     "iopub.status.idle": "2024-02-02T02:55:00.715982Z",
     "shell.execute_reply": "2024-02-02T02:55:00.715606Z",
     "shell.execute_reply.started": "2024-02-02T02:55:00.667354Z"
    }
   },
   "outputs": [
    {
     "data": {
      "text/plain": [
       "67      192610372\n",
       "77      579700000\n",
       "128     169332978\n",
       "129     232225908\n",
       "269      69500000\n",
       "          ...    \n",
       "2772       769028\n",
       "3426    144327371\n",
       "3430        50000\n",
       "3442     10855626\n",
       "3443         5000\n",
       "Name: Revenue, Length: 76, dtype: int64"
      ]
     },
     "execution_count": 60,
     "metadata": {},
     "output_type": "execute_result"
    }
   ],
   "source": [
    "groups['G']"
   ]
  },
  {
   "cell_type": "markdown",
   "id": "6b7a09e6",
   "metadata": {},
   "source": [
    "## Testing Assumptions"
   ]
  },
  {
   "cell_type": "code",
   "execution_count": null,
   "id": "4f11d919-3205-44d4-9d43-7caa85c3bee1",
   "metadata": {},
   "outputs": [],
   "source": []
  },
  {
   "cell_type": "markdown",
   "id": "324fadbc",
   "metadata": {},
   "source": [
    "### Check for Normality"
   ]
  },
  {
   "cell_type": "code",
   "execution_count": 132,
   "id": "b6bef572-390b-4d6b-882f-6006dc9a82a0",
   "metadata": {
    "execution": {
     "iopub.execute_input": "2024-02-02T03:12:29.835153Z",
     "iopub.status.busy": "2024-02-02T03:12:29.833981Z",
     "iopub.status.idle": "2024-02-02T03:12:29.871775Z",
     "shell.execute_reply": "2024-02-02T03:12:29.871146Z",
     "shell.execute_reply.started": "2024-02-02T03:12:29.835104Z"
    }
   },
   "outputs": [],
   "source": [
    "def check_assumptions_normality(groups_dict, alpha=.05):\n",
    "    \"\"\"\n",
    "    The Shapiro-Wilk test tests the null hypothesis that the\n",
    "    data was drawn from a normal distribution.\n",
    "    \"\"\"\n",
    "    ## Running normal test on each group and confirming there are >20 in each group\n",
    "    results = []\n",
    "    for group_name, group_data in groups_dict.items():\n",
    "        try:\n",
    "            stat, p = stats.shapiro(group_data)\n",
    "            test_name = 'Shapiro-Wilk (Normality)'\n",
    "        except:\n",
    "            print(f'[!] Error with {i}')\n",
    "            p = np.nan\n",
    "            \n",
    "        ## save the p val, test statistic, and the size of the group\n",
    "        results.append({'stat test':test_name, 'group':group_name, \n",
    "                        'n': len(group_data),\n",
    "                         'stat':f\"{stat:.5f}\",\n",
    "                        'p':p,#f\"{p:.10f}\",\n",
    "                        'p (.4)':f\"{p:.4f}\",\n",
    "                        'sig?': p<alpha})\n",
    "        \n",
    "    return pd.DataFrame(results).set_index(['stat test',\"group\"])\n"
   ]
  },
  {
   "cell_type": "code",
   "execution_count": 133,
   "id": "968b72bb-95d6-4dd2-8860-f4a54a2741db",
   "metadata": {
    "execution": {
     "iopub.execute_input": "2024-02-02T03:12:30.119930Z",
     "iopub.status.busy": "2024-02-02T03:12:30.119443Z",
     "iopub.status.idle": "2024-02-02T03:12:30.162048Z",
     "shell.execute_reply": "2024-02-02T03:12:30.161624Z",
     "shell.execute_reply.started": "2024-02-02T03:12:30.119901Z"
    }
   },
   "outputs": [
    {
     "data": {
      "text/html": [
       "<div>\n",
       "<style scoped>\n",
       "    .dataframe tbody tr th:only-of-type {\n",
       "        vertical-align: middle;\n",
       "    }\n",
       "\n",
       "    .dataframe tbody tr th {\n",
       "        vertical-align: top;\n",
       "    }\n",
       "\n",
       "    .dataframe thead th {\n",
       "        text-align: right;\n",
       "    }\n",
       "</style>\n",
       "<table border=\"1\" class=\"dataframe\">\n",
       "  <thead>\n",
       "    <tr style=\"text-align: right;\">\n",
       "      <th></th>\n",
       "      <th></th>\n",
       "      <th>n</th>\n",
       "      <th>stat</th>\n",
       "      <th>p</th>\n",
       "      <th>p (.4)</th>\n",
       "      <th>sig?</th>\n",
       "    </tr>\n",
       "    <tr>\n",
       "      <th>stat test</th>\n",
       "      <th>group</th>\n",
       "      <th></th>\n",
       "      <th></th>\n",
       "      <th></th>\n",
       "      <th></th>\n",
       "      <th></th>\n",
       "    </tr>\n",
       "  </thead>\n",
       "  <tbody>\n",
       "    <tr>\n",
       "      <th rowspan=\"4\" valign=\"top\">Shapiro-Wilk (Normality)</th>\n",
       "      <th>R</th>\n",
       "      <td>1602</td>\n",
       "      <td>0.57287</td>\n",
       "      <td>0.000000e+00</td>\n",
       "      <td>0.0000</td>\n",
       "      <td>True</td>\n",
       "    </tr>\n",
       "    <tr>\n",
       "      <th>PG-13</th>\n",
       "      <td>1374</td>\n",
       "      <td>0.58601</td>\n",
       "      <td>0.000000e+00</td>\n",
       "      <td>0.0000</td>\n",
       "      <td>True</td>\n",
       "    </tr>\n",
       "    <tr>\n",
       "      <th>PG</th>\n",
       "      <td>528</td>\n",
       "      <td>0.68657</td>\n",
       "      <td>4.011007e-30</td>\n",
       "      <td>0.0000</td>\n",
       "      <td>True</td>\n",
       "    </tr>\n",
       "    <tr>\n",
       "      <th>G</th>\n",
       "      <td>76</td>\n",
       "      <td>0.71435</td>\n",
       "      <td>7.282728e-11</td>\n",
       "      <td>0.0000</td>\n",
       "      <td>True</td>\n",
       "    </tr>\n",
       "  </tbody>\n",
       "</table>\n",
       "</div>"
      ],
      "text/plain": [
       "                                   n     stat             p  p (.4)  sig?\n",
       "stat test                group                                           \n",
       "Shapiro-Wilk (Normality) R      1602  0.57287  0.000000e+00  0.0000  True\n",
       "                         PG-13  1374  0.58601  0.000000e+00  0.0000  True\n",
       "                         PG      528  0.68657  4.011007e-30  0.0000  True\n",
       "                         G        76  0.71435  7.282728e-11  0.0000  True"
      ]
     },
     "execution_count": 133,
     "metadata": {},
     "output_type": "execute_result"
    }
   ],
   "source": [
    "check_assumptions_normality(groups)"
   ]
  },
  {
   "cell_type": "markdown",
   "id": "9637f41b",
   "metadata": {},
   "source": [
    "- Didn't meet assumption of normality, but n is sufficiently large to disregard assumption of normality.\n"
   ]
  },
  {
   "cell_type": "markdown",
   "id": "5ec9bed0",
   "metadata": {},
   "source": [
    "### No Outliers"
   ]
  },
  {
   "cell_type": "code",
   "execution_count": 142,
   "id": "071a00f7-0fca-42cd-aa81-10e50a36cd71",
   "metadata": {
    "execution": {
     "iopub.execute_input": "2024-02-02T03:15:16.241112Z",
     "iopub.status.busy": "2024-02-02T03:15:16.240392Z",
     "iopub.status.idle": "2024-02-02T03:15:16.355533Z",
     "shell.execute_reply": "2024-02-02T03:15:16.355176Z",
     "shell.execute_reply.started": "2024-02-02T03:15:16.241064Z"
    }
   },
   "outputs": [
    {
     "data": {
      "image/png": "[encoded data removed]",
      "text/plain": [
       "<Figure size 640x480 with 1 Axes>"
      ]
     },
     "metadata": {},
     "output_type": "display_data"
    }
   ],
   "source": [
    "ax = sns.boxplot(data=df_eda,y='Revenue' , x='Certification', order=cert_order);\n",
    "ax.yaxis.set_major_formatter(mill_fmt)"
   ]
  },
  {
   "cell_type": "code",
   "execution_count": 143,
   "id": "a1876f25",
   "metadata": {
    "execution": {
     "iopub.execute_input": "2024-02-02T03:15:19.294809Z",
     "iopub.status.busy": "2024-02-02T03:15:19.294331Z",
     "iopub.status.idle": "2024-02-02T03:15:19.341961Z",
     "shell.execute_reply": "2024-02-02T03:15:19.341503Z",
     "shell.execute_reply.started": "2024-02-02T03:15:19.294783Z"
    }
   },
   "outputs": [
    {
     "name": "stdout",
     "output_type": "stream",
     "text": [
      "There were 36 (2.25%) outliers in the R group.\n",
      "There were 30 (2.18%) outliers in the PG-13 group.\n",
      "There were 13 (2.46%) outliers in the PG group.\n",
      "There were 2 (2.63%) outliers in the G group.\n"
     ]
    }
   ],
   "source": [
    "groups_cleaned = {}\n",
    "\n",
    "for sector, data in groups.items():\n",
    "\n",
    "    outliers = np.abs(stats.zscore(data)) > 3\n",
    "    print(f\"There were {outliers.sum()} ({outliers.sum()/len(outliers)*100:.2f}%) outliers in the {sector} group.\")\n",
    "\n",
    "    group_data = data.loc[~outliers]\n",
    "    groups_cleaned[sector] = group_data"
   ]
  },
  {
   "cell_type": "markdown",
   "id": "fabf7da1-e40a-46a1-a66e-8679dc15e5e5",
   "metadata": {},
   "source": [
    "> I am torn about outlier removal. It may be best to leave in outliers and perform the non-parametric test instead."
   ]
  },
  {
   "cell_type": "markdown",
   "id": "9ce9a635",
   "metadata": {},
   "source": [
    "### Checking for Equal Var"
   ]
  },
  {
   "cell_type": "code",
   "execution_count": 139,
   "id": "b4e786b4",
   "metadata": {
    "execution": {
     "iopub.execute_input": "2024-02-02T03:14:45.570618Z",
     "iopub.status.busy": "2024-02-02T03:14:45.569934Z",
     "iopub.status.idle": "2024-02-02T03:14:45.619519Z",
     "shell.execute_reply": "2024-02-02T03:14:45.619177Z",
     "shell.execute_reply.started": "2024-02-02T03:14:45.570569Z"
    }
   },
   "outputs": [
    {
     "name": "stdout",
     "output_type": "stream",
     "text": [
      "LeveneResult(statistic=76.09451301546683, pvalue=1.0388715311270899e-47)\n",
      "- The groups do NOT have equal variance.\n"
     ]
    }
   ],
   "source": [
    "## Check for equal variance\n",
    "result = stats.levene(*groups.values())\n",
    "print(result)\n",
    "if result.pvalue < .05:\n",
    "    print(f\"- The groups do NOT have equal variance.\")\n",
    "else:\n",
    "    print(f\"- The groups DO have equal variance.\")"
   ]
  },
  {
   "cell_type": "markdown",
   "id": "2dd56db0-6035-494b-a94f-0f337a7577e2",
   "metadata": {},
   "source": [
    "-  Groups do not have equal variance. Therefore, use Kruskal Wallace instead of one-way ANOVA."
   ]
  },
  {
   "cell_type": "markdown",
   "id": "b81cb2ab",
   "metadata": {},
   "source": [
    "### Kruskal Wallis Test"
   ]
  },
  {
   "cell_type": "code",
   "execution_count": 140,
   "id": "8eda07d9",
   "metadata": {
    "execution": {
     "iopub.execute_input": "2024-02-02T03:14:56.506580Z",
     "iopub.status.busy": "2024-02-02T03:14:56.505990Z",
     "iopub.status.idle": "2024-02-02T03:14:56.553325Z",
     "shell.execute_reply": "2024-02-02T03:14:56.552993Z",
     "shell.execute_reply.started": "2024-02-02T03:14:56.506553Z"
    }
   },
   "outputs": [
    {
     "name": "stdout",
     "output_type": "stream",
     "text": [
      "KruskalResult(statistic=453.5889123145245, pvalue=5.440574448481798e-98)\n"
     ]
    },
    {
     "data": {
      "text/plain": [
       "True"
      ]
     },
     "execution_count": 140,
     "metadata": {},
     "output_type": "execute_result"
    }
   ],
   "source": [
    "## Running Krukal Test for Original Hypothesis\n",
    "result = stats.kruskal(*groups.values())\n",
    "# result = stats.f_oneway(*groups.values())\n",
    "print(result)\n",
    "result.pvalue<.05"
   ]
  },
  {
   "cell_type": "markdown",
   "id": "4af50a25",
   "metadata": {},
   "source": [
    "- Our Kruskal Wallis test returned a p-value <.0001. \n",
    "- There is a significant difference in the average revenue for different movie certifications.\n",
    "- A post-hoc test is needed to determine which ratings were different."
   ]
  },
  {
   "cell_type": "markdown",
   "id": "bdffc8eb",
   "metadata": {},
   "source": [
    "### Post-Hoc Tukey's Multiple Comparison"
   ]
  },
  {
   "cell_type": "code",
   "execution_count": 144,
   "id": "53835a22",
   "metadata": {
    "execution": {
     "iopub.execute_input": "2024-02-02T03:15:48.601399Z",
     "iopub.status.busy": "2024-02-02T03:15:48.601011Z",
     "iopub.status.idle": "2024-02-02T03:15:48.645941Z",
     "shell.execute_reply": "2024-02-02T03:15:48.645592Z",
     "shell.execute_reply.started": "2024-02-02T03:15:48.601374Z"
    }
   },
   "outputs": [
    {
     "data": {
      "text/html": [
       "<div>\n",
       "<style scoped>\n",
       "    .dataframe tbody tr th:only-of-type {\n",
       "        vertical-align: middle;\n",
       "    }\n",
       "\n",
       "    .dataframe tbody tr th {\n",
       "        vertical-align: top;\n",
       "    }\n",
       "\n",
       "    .dataframe thead th {\n",
       "        text-align: right;\n",
       "    }\n",
       "</style>\n",
       "<table border=\"1\" class=\"dataframe\">\n",
       "  <thead>\n",
       "    <tr style=\"text-align: right;\">\n",
       "      <th></th>\n",
       "      <th>Revenue</th>\n",
       "      <th>Certification</th>\n",
       "    </tr>\n",
       "  </thead>\n",
       "  <tbody>\n",
       "    <tr>\n",
       "      <th>0</th>\n",
       "      <td>45600000</td>\n",
       "      <td>R</td>\n",
       "    </tr>\n",
       "    <tr>\n",
       "      <th>1</th>\n",
       "      <td>12300000</td>\n",
       "      <td>R</td>\n",
       "    </tr>\n",
       "    <tr>\n",
       "      <th>3</th>\n",
       "      <td>180906076</td>\n",
       "      <td>R</td>\n",
       "    </tr>\n",
       "    <tr>\n",
       "      <th>4</th>\n",
       "      <td>72258126</td>\n",
       "      <td>R</td>\n",
       "    </tr>\n",
       "    <tr>\n",
       "      <th>5</th>\n",
       "      <td>60740827</td>\n",
       "      <td>R</td>\n",
       "    </tr>\n",
       "    <tr>\n",
       "      <th>...</th>\n",
       "      <td>...</td>\n",
       "      <td>...</td>\n",
       "    </tr>\n",
       "    <tr>\n",
       "      <th>2772</th>\n",
       "      <td>769028</td>\n",
       "      <td>G</td>\n",
       "    </tr>\n",
       "    <tr>\n",
       "      <th>3426</th>\n",
       "      <td>144327371</td>\n",
       "      <td>G</td>\n",
       "    </tr>\n",
       "    <tr>\n",
       "      <th>3430</th>\n",
       "      <td>50000</td>\n",
       "      <td>G</td>\n",
       "    </tr>\n",
       "    <tr>\n",
       "      <th>3442</th>\n",
       "      <td>10855626</td>\n",
       "      <td>G</td>\n",
       "    </tr>\n",
       "    <tr>\n",
       "      <th>3443</th>\n",
       "      <td>5000</td>\n",
       "      <td>G</td>\n",
       "    </tr>\n",
       "  </tbody>\n",
       "</table>\n",
       "<p>3580 rows × 2 columns</p>\n",
       "</div>"
      ],
      "text/plain": [
       "        Revenue Certification\n",
       "0      45600000             R\n",
       "1      12300000             R\n",
       "3     180906076             R\n",
       "4      72258126             R\n",
       "5      60740827             R\n",
       "...         ...           ...\n",
       "2772     769028             G\n",
       "3426  144327371             G\n",
       "3430      50000             G\n",
       "3442   10855626             G\n",
       "3443       5000             G\n",
       "\n",
       "[3580 rows x 2 columns]"
      ]
     },
     "execution_count": 144,
     "metadata": {},
     "output_type": "execute_result"
    }
   ],
   "source": [
    "## make a list for saving the dataframes to\n",
    "tukeys_dfs = []\n",
    "for cert, temp in groups.items():\n",
    "    temp_df = pd.DataFrame({'Revenue':temp, 'Certification':cert})\n",
    "    tukeys_dfs.append(temp_df)\n",
    "    \n",
    "## concatenate them into 1 dataframe    \n",
    "tukeys_data = pd.concat(tukeys_dfs)\n",
    "tukeys_data"
   ]
  },
  {
   "cell_type": "code",
   "execution_count": 146,
   "id": "1e694fc6",
   "metadata": {
    "execution": {
     "iopub.execute_input": "2024-02-02T03:15:53.741108Z",
     "iopub.status.busy": "2024-02-02T03:15:53.740483Z",
     "iopub.status.idle": "2024-02-02T03:15:53.786892Z",
     "shell.execute_reply": "2024-02-02T03:15:53.786387Z",
     "shell.execute_reply.started": "2024-02-02T03:15:53.741081Z"
    }
   },
   "outputs": [
    {
     "data": {
      "text/plain": [
       "R        1602\n",
       "PG-13    1374\n",
       "PG        528\n",
       "G          76\n",
       "Name: Certification, dtype: int64"
      ]
     },
     "execution_count": 146,
     "metadata": {},
     "output_type": "execute_result"
    }
   ],
   "source": [
    "tukeys_data['Certification'].value_counts()"
   ]
  },
  {
   "cell_type": "code",
   "execution_count": 150,
   "id": "cb84b244-27cd-4861-8786-ae402d8b0562",
   "metadata": {
    "execution": {
     "iopub.execute_input": "2024-02-02T03:17:40.676994Z",
     "iopub.status.busy": "2024-02-02T03:17:40.676472Z",
     "iopub.status.idle": "2024-02-02T03:17:40.960247Z",
     "shell.execute_reply": "2024-02-02T03:17:40.959891Z",
     "shell.execute_reply.started": "2024-02-02T03:17:40.676965Z"
    }
   },
   "outputs": [
    {
     "name": "stdout",
     "output_type": "stream",
     "text": [
      "- Figure saved as Images/hypothesis_revnue_mpaa_rating.png\n"
     ]
    },
    {
     "data": {
      "image/png": "[encoded data removed]",
      "text/plain": [
       "<Figure size 640x480 with 1 Axes>"
      ]
     },
     "metadata": {},
     "output_type": "display_data"
    }
   ],
   "source": [
    "## Post Hoc\n",
    "from statsmodels.stats.multicomp import pairwise_tukeyhsd\n",
    "\n",
    "# values = tukeys_data['revenue']\n",
    "# labels = tukeys_data['certification']\n",
    "\n",
    "ax = sns.barplot(data=tukeys_data, x='Certification',y='Revenue',\n",
    "                 errorbar=('ci',68),\n",
    "           order=cert_order)#[*cert_order,'NC-17'])\n",
    "ax.yaxis.set_major_formatter(pf.get_funcformatter(kind='m'))\n",
    "ax.set_title(\"Final Averge Revenue per MPAA Rating\")\n",
    "pf.savefig('Images/hypothesis_revnue_mpaa_rating.png',ax=ax,facecolor='white');"
   ]
  },
  {
   "cell_type": "code",
   "execution_count": 151,
   "id": "02bdf080-77e1-486f-82d8-a0ba47b62f05",
   "metadata": {
    "execution": {
     "iopub.execute_input": "2024-02-02T03:17:50.120283Z",
     "iopub.status.busy": "2024-02-02T03:17:50.119398Z",
     "iopub.status.idle": "2024-02-02T03:17:50.542207Z",
     "shell.execute_reply": "2024-02-02T03:17:50.541699Z",
     "shell.execute_reply.started": "2024-02-02T03:17:50.120238Z"
    }
   },
   "outputs": [
    {
     "data": {
      "text/html": [
       "<table class=\"simpletable\">\n",
       "<caption>Multiple Comparison of Means - Tukey HSD, FWER=0.05</caption>\n",
       "<tr>\n",
       "  <th>group1</th> <th>group2</th>    <th>meandiff</th>      <th>p-adj</th>      <th>lower</th>           <th>upper</th>      <th>reject</th>\n",
       "</tr>\n",
       "<tr>\n",
       "     <td>G</td>     <td>PG</td>    <td>25904052.0687</td>  <td>0.7429</td> <td>-39937983.2603</td>   <td>91746087.3977</td>   <td>False</td>\n",
       "</tr>\n",
       "<tr>\n",
       "     <td>G</td>    <td>PG-13</td> <td>-10758323.7852</td>   <td>0.972</td> <td>-73998398.4724</td>   <td>52481750.9019</td>   <td>False</td>\n",
       "</tr>\n",
       "<tr>\n",
       "     <td>G</td>      <td>R</td>   <td>-117339542.4525</td>   <td>0.0</td>  <td>-180343301.4813</td> <td>-54335783.4237</td>   <td>True</td> \n",
       "</tr>\n",
       "<tr>\n",
       "    <td>PG</td>    <td>PG-13</td> <td>-36662375.8539</td>  <td>0.0034</td> <td>-64141536.5762</td>   <td>-9183215.1316</td>   <td>True</td> \n",
       "</tr>\n",
       "<tr>\n",
       "    <td>PG</td>      <td>R</td>   <td>-143243594.5212</td>   <td>0.0</td>  <td>-170174448.1898</td> <td>-116312740.8525</td>  <td>True</td> \n",
       "</tr>\n",
       "<tr>\n",
       "   <td>PG-13</td>    <td>R</td>   <td>-106581218.6673</td>   <td>0.0</td>  <td>-126314548.5814</td> <td>-86847888.7532</td>   <td>True</td> \n",
       "</tr>\n",
       "</table>"
      ],
      "text/latex": [
       "\\begin{center}\n",
       "\\begin{tabular}{ccccccc}\n",
       "\\toprule\n",
       "\\textbf{group1} & \\textbf{group2} & \\textbf{meandiff} & \\textbf{p-adj} &  \\textbf{lower} &  \\textbf{upper} & \\textbf{reject}  \\\\\n",
       "\\midrule\n",
       "       G        &        PG       &   25904052.0687   &     0.7429     &  -39937983.2603 &  91746087.3977  &      False       \\\\\n",
       "       G        &      PG-13      &   -10758323.7852  &     0.972      &  -73998398.4724 &  52481750.9019  &      False       \\\\\n",
       "       G        &        R        &  -117339542.4525  &      0.0       & -180343301.4813 &  -54335783.4237 &       True       \\\\\n",
       "       PG       &      PG-13      &   -36662375.8539  &     0.0034     &  -64141536.5762 &  -9183215.1316  &       True       \\\\\n",
       "       PG       &        R        &  -143243594.5212  &      0.0       & -170174448.1898 & -116312740.8525 &       True       \\\\\n",
       "     PG-13      &        R        &  -106581218.6673  &      0.0       & -126314548.5814 &  -86847888.7532 &       True       \\\\\n",
       "\\bottomrule\n",
       "\\end{tabular}\n",
       "%\\caption{Multiple Comparison of Means - Tukey HSD, FWER=0.05}\n",
       "\\end{center}"
      ],
      "text/plain": [
       "<class 'statsmodels.iolib.table.SimpleTable'>"
      ]
     },
     "metadata": {},
     "output_type": "display_data"
    },
    {
     "data": {
      "image/png": "[encoded data removed]",
      "text/plain": [
       "<Figure size 1000x600 with 1 Axes>"
      ]
     },
     "metadata": {},
     "output_type": "display_data"
    }
   ],
   "source": [
    "## perform tukey's multiple comparison test and display the summary\n",
    "tukeys_results = pairwise_tukeyhsd(tukeys_data['Revenue'],tukeys_data['Certification'])\n",
    "display(tukeys_results.summary())\n",
    "\n",
    "tukeys_results.plot_simultaneous();"
   ]
  },
  {
   "cell_type": "markdown",
   "id": "41ccd623",
   "metadata": {},
   "source": [
    "> According to the post-hoc Tukey's tests, G/PG/PG-13 movies make similar average revenue than all other ratings. PG movies make more money than PG-13.\n",
    "> R-rated movied make significantly less revenue than every other genre."
   ]
  },
  {
   "cell_type": "markdown",
   "id": "9051780a-58dd-4636-9a30-47cf74056c81",
   "metadata": {},
   "source": [
    "# BOOKMARK: CONTINUE HERE"
   ]
  },
  {
   "cell_type": "markdown",
   "id": "acf8dbb7-ad90-4164-8854-7ad896e3d3c7",
   "metadata": {},
   "source": [
    "## Q2: Do movies that are over 2.5 hours long earn more revenue than movies that are 1.5 hours long (or less)?\n"
   ]
  },
  {
   "cell_type": "code",
   "execution_count": null,
   "id": "d6571efe-7a78-4eb1-a2ab-e41ebcda3214",
   "metadata": {},
   "outputs": [],
   "source": []
  },
  {
   "cell_type": "markdown",
   "id": "cf523915-2702-4c83-bf9a-fe7f54442c2e",
   "metadata": {},
   "source": [
    "## Hypothesis\n",
    "- $H_0$ (Null Hypothesis): Movies longer tha 2.4 hours generate the same average revenue as shorter movies.\n",
    "- $H_A$ (Alternative Hypothesis):  Movies longer tha 2.4 hours generate more/less average revenue than shorter movies.\n",
    "\n",
    "### Selecting the Right Test\n",
    "- We have Numerical Data\n",
    "- with 2 groups\n",
    "- 2-sample t-test A.K.A. Independent T-Test\n",
    "\n",
    "### ANOVA Assumptions\n",
    "- No significant outliers\n",
    "- Normality\n",
    "- Equal Variance"
   ]
  },
  {
   "cell_type": "code",
   "execution_count": null,
   "id": "d3f543cf-1fdb-4fb8-9843-63d2988d0b07",
   "metadata": {},
   "outputs": [],
   "source": []
  }
 ],
 "metadata": {
  "kernelspec": {
   "display_name": "Python (dojo-env)",
   "language": "python",
   "name": "dojo-env"
  },
  "language_info": {
   "codemirror_mode": {
    "name": "ipython",
    "version": 3
   },
   "file_extension": ".py",
   "mimetype": "text/x-python",
   "name": "python",
   "nbconvert_exporter": "python",
   "pygments_lexer": "ipython3",
   "version": "3.10.10"
  },
  "toc": {
   "base_numbering": 1,
   "nav_menu": {},
   "number_sections": false,
   "sideBar": true,
   "skip_h1_title": false,
   "title_cell": "Table of Contents",
   "title_sidebar": "Contents",
   "toc_cell": false,
   "toc_position": {
    "height": "calc(100% - 180px)",
    "left": "10px",
    "top": "150px",
    "width": "271.996px"
   },
   "toc_section_display": true,
   "toc_window_display": true
  }
 },
 "nbformat": 4,
 "nbformat_minor": 5
}
