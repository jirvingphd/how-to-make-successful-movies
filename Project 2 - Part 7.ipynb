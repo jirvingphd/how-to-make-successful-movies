{
 "cells": [
  {
   "cell_type": "markdown",
   "id": "0044fcd1-4cb1-48f6-84f3-c28efdc8077d",
   "metadata": {},
   "source": [
    "# Preparing for Streamlit Deployment"
   ]
  },
  {
   "cell_type": "markdown",
   "id": "611d3467-10a8-4b3b-8049-4d17b975ed56",
   "metadata": {},
   "source": [
    "## Tracking Files "
   ]
  },
  {
   "cell_type": "markdown",
   "id": "1ac0e4b1-2bab-41aa-a355-b05c07e000fc",
   "metadata": {},
   "source": [
    "- Create a config/filepaths.json file.\n",
    "- Define the following `filepaths` in your FPATHS dictionary/flepaths.json:\n",
    "    - \"data\":\n",
    "        - which should have a \"full\"/\"ml\"/\"nn\"\n",
    "    - `...` **RETURN TO THIS LATER**, include: 'images','meta','?'\n",
    "\n",
    "- **Produce a wordcloud** figure comparing the Low vs. High Ratings groups\n",
    "    - Save the wordcloud figure to the filepath using your FPATHS dictionary.\n",
    "- [Optional?] Produce a Scattertext Explorer comparing the two groups.\n",
    "    -  and save as HTML using the filepath in your FPATHS dictionary.\n"
   ]
  },
  {
   "cell_type": "markdown",
   "id": "6fb89a8b-b08a-4851-88c5-5c38fd0170fe",
   "metadata": {},
   "source": [
    "## Example Code Snippets I'd Like to Add in an NLP Streamlit Lesson"
   ]
  },
  {
   "cell_type": "code",
   "execution_count": 1,
   "id": "95179a9f-39e4-4479-a9dc-b595f2d8b58f",
   "metadata": {
    "execution": {
     "iopub.execute_input": "2023-11-30T21:39:05.831717Z",
     "iopub.status.busy": "2023-11-30T21:39:05.830548Z",
     "iopub.status.idle": "2023-11-30T21:39:06.186081Z",
     "shell.execute_reply": "2023-11-30T21:39:06.185741Z",
     "shell.execute_reply.started": "2023-11-30T21:39:05.831648Z"
    }
   },
   "outputs": [],
   "source": [
    "## our pre-exting ngram df function https://login.codingdojo.com/m/692/16501/124388\n",
    "\n",
    "import pandas as pd\n",
    "def get_ngram_measures_finder(tokens, ngrams=2, get_scores_df=False, measure='raw_freq', top_n=None, min_freq = 1,\n",
    "                             words_colname='Words'):\n",
    "    import nltk\n",
    "    if ngrams == 4:\n",
    "        MeasuresClass = nltk.collocations.QuadgramAssocMeasures\n",
    "        FinderClass = nltk.collocations.QuadgramCollocationFinder\n",
    "        \n",
    "    elif ngrams == 3: \n",
    "        MeasuresClass = nltk.collocations.TrigramAssocMeasures\n",
    "        FinderClass = nltk.collocations.TrigramCollocationFinder\n",
    "    else:\n",
    "        MeasuresClass = nltk.collocations.BigramAssocMeasures\n",
    "        FinderClass = nltk.collocations.BigramCollocationFinder\n",
    "\n",
    "    measures = MeasuresClass()\n",
    "    \n",
    "   \n",
    "    finder = FinderClass.from_words(tokens)\n",
    "    finder.apply_freq_filter(min_freq)\n",
    "    if measure=='pmi':\n",
    "        scored_ngrams = finder.score_ngrams(measures.pmi)\n",
    "    else:\n",
    "        measure='raw_freq'\n",
    "        scored_ngrams = finder.score_ngrams(measures.raw_freq)\n",
    "\n",
    "    df_ngrams = pd.DataFrame(scored_ngrams, columns=[words_colname, measure.replace(\"_\",' ').title()])\n",
    "    if top_n is not None:\n",
    "        return df_ngrams.head(top_n)\n",
    "    else:\n",
    "        return df_ngrams\n",
    "\n"
   ]
  },
  {
   "cell_type": "code",
   "execution_count": null,
   "id": "00dbf156-8636-4590-968a-acd2654f96a2",
   "metadata": {},
   "outputs": [],
   "source": [
    "# Set the desired minimum frequency value, top-n and measure\n",
    "ngram_kws = dict(measure='pmi',top_n =10 , min_freq=10)\n",
    "\n",
    "# Get group bigrams\n",
    "df_ngrams_high =  get_ngram_measures_finder(high_review_tokens_list,**ngram_kws,\n",
    "                                                words_colname=\"ngrams (High Ratings)\")\n",
    "df_ngrams_low = get_ngram_measures_finder(low_review_tokens_list,**ngram_kws,\n",
    "                                              words_colname= \"ngrams (Low Ratings)\")\n",
    "\n",
    "# Concatenate and save top 10\n",
    "df_compare_nrams = pd.concat(\n",
    "    [df_ngrams_low,df_ngrams_high, ], axis=1,\n",
    "    # keys=[\"High Rating Reviews\", \"Low Rating Reviews\"],\n",
    ")\n",
    "df_compare_ngrams"
   ]
  },
  {
   "cell_type": "markdown",
   "id": "84908178-9a16-4ac1-bcfb-72cf8af649ed",
   "metadata": {},
   "source": [
    "Streamlit implementation:"
   ]
  },
  {
   "cell_type": "code",
   "execution_count": null,
   "id": "330fe70f-52dc-41e1-8c63-bf56ee0400b8",
   "metadata": {},
   "outputs": [],
   "source": [
    "## NOTE: needs the measure added and freq_filter added (already in our function)\n",
    "\n",
    "## Add creating ngrams\n",
    "st.subheader('N-Grams')\n",
    "\n",
    "\n",
    "ngrams = st.radio('n-grams', [2,3,4],horizontal=True,index=1)\n",
    "top_n = st.selectbox('Compare Top # Ngrams',[10,15,20,25],index=2)\n",
    "\n",
    "## Test Code for Making New Trigrams for both groups\n",
    "\n",
    "@st.cache_data\n",
    "def show_group_ngrams(GROUPS, col='tokens_nostop-combined-list', ngrams=3, top_n=20):\n",
    "\tngram_kws = dict(ngrams=ngrams,  get_scores_df=True, top_n=top_n)\n",
    "\t\n",
    "\tdf_ngrams_1star = get_ngram_measures_finder(tokens=GROUPS[1][col], words_colname=f\"1 Star n-grams\", **ngram_kws)\n",
    "\tdf_ngrams_1star.columns =[ \"1 Star n-grams\", \"1 Star-Freq\"]\n",
    "\t\t\t\t\t\t\t  \n",
    "\tdf_ngrams_5star= get_ngram_measures_finder(tokens=GROUPS[5][col], words_colname=f\"5 Star n-grams\", **ngram_kws)\n",
    "\tdf_ngrams_5star.columns =[ \"5 Star n-grams\", \"5 Star-Freq\"]\n",
    "\t\n",
    "\tcombined_ngrams = pd.concat([df_ngrams_1star,df_ngrams_5star],axis=1)\n",
    "\treturn combined_ngrams\n",
    "\n",
    "ngrams_df = show_group_ngrams(GROUPS=GROUPS,ngrams=ngrams,top_n=top_n)\n",
    "st.dataframe(ngrams_df, hide_index=True, width=1000, height=None)"
   ]
  },
  {
   "cell_type": "code",
   "execution_count": null,
   "id": "fe26ec35-cdc1-4a01-8b07-25f24e874947",
   "metadata": {},
   "outputs": [],
   "source": [
    "from lime.lime_text import LimeTextExplainer\n",
    "explainer = LimeTextExplainer(class_names=y.unique())\n",
    "explanation = explainer.explain_instance(X_to_pred, clf_bayes.predict_proba)\n",
    "explanation.show_in_notebook()"
   ]
  },
  {
   "cell_type": "code",
   "execution_count": null,
   "id": "fe3e49ae-5449-4a95-b1ed-00d81a962cfe",
   "metadata": {},
   "outputs": [],
   "source": []
  }
 ],
 "metadata": {
  "kernelspec": {
   "display_name": "Python 3 (ipykernel)",
   "language": "python",
   "name": "python3"
  },
  "language_info": {
   "codemirror_mode": {
    "name": "ipython",
    "version": 3
   },
   "file_extension": ".py",
   "mimetype": "text/x-python",
   "name": "python",
   "nbconvert_exporter": "python",
   "pygments_lexer": "ipython3",
   "version": "3.10.10"
  }
 },
 "nbformat": 4,
 "nbformat_minor": 5
}
