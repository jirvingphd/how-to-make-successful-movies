{
 "cells": [
  {
   "cell_type": "markdown",
   "id": "393a81cd",
   "metadata": {},
   "source": [
    "# Part 2: Extract from TMDB API"
   ]
  },
  {
   "cell_type": "markdown",
   "id": "b50fcbb1",
   "metadata": {},
   "source": [
    "## Methods"
   ]
  },
  {
   "cell_type": "markdown",
   "id": "3ca36157",
   "metadata": {},
   "source": [
    "- Load in the cleaned title basics data from part 1. \n",
    "- Use the `tconst` values to extract movie data from The Movie Database's API.\n",
    "- Keep the data sorted in files by startyear to ensure data remains under the git filesize limit.\n",
    "- Combine all years into 1 final CSV and then perform some quick EDA to get overview of data collected (next notebook: Part 2B)|"
   ]
  },
  {
   "cell_type": "markdown",
   "id": "5ee2510f",
   "metadata": {},
   "source": [
    "# Loading the Data "
   ]
  },
  {
   "cell_type": "code",
   "execution_count": null,
   "id": "d3a2ef2b",
   "metadata": {},
   "outputs": [],
   "source": [
    "%load_ext autoreload\n",
    "%autoreload 2\n",
    "import project_functions as pf\n"
   ]
  },
  {
   "cell_type": "code",
   "execution_count": 1,
   "id": "9219c87f",
   "metadata": {},
   "outputs": [],
   "source": [
    "# Install tmdbsimple (only need to run once)\n",
    "# !pip install tmdbsimple"
   ]
  },
  {
   "cell_type": "code",
   "execution_count": 2,
   "id": "d96ce7c4",
   "metadata": {},
   "outputs": [
    {
     "data": {
      "text/plain": [
       "dict_keys(['api-key'])"
      ]
     },
     "execution_count": 2,
     "metadata": {},
     "output_type": "execute_result"
    }
   ],
   "source": [
    "import json\n",
    "with open('/Users/codingdojo/.secret/tmdb_api.json', 'r') as f:\n",
    "    login = json.load(f)\n",
    "## Display the keys of the loaded dict\n",
    "login.keys()"
   ]
  },
  {
   "cell_type": "code",
   "execution_count": 3,
   "id": "75c1597e",
   "metadata": {},
   "outputs": [],
   "source": [
    "import tmdbsimple as tmdb\n",
    "tmdb.API_KEY =  login['api-key']"
   ]
  },
  {
   "cell_type": "code",
   "execution_count": 18,
   "id": "cfd5ff54",
   "metadata": {},
   "outputs": [
    {
     "name": "stdout",
     "output_type": "stream",
     "text": [
      "Defaulting to user installation because normal site-packages is not writeable\n",
      "Requirement already satisfied: tzlocal in /Users/codingdojo/.local/lib/python3.8/site-packages (4.2)\n",
      "Requirement already satisfied: backports.zoneinfo in /Users/codingdojo/.local/lib/python3.8/site-packages (from tzlocal) (0.2.1)\n",
      "Requirement already satisfied: pytz-deprecation-shim in /Users/codingdojo/.local/lib/python3.8/site-packages (from tzlocal) (0.1.0.post0)\n",
      "Requirement already satisfied: tzdata in /Users/codingdojo/.local/lib/python3.8/site-packages (from pytz-deprecation-shim->tzlocal) (2022.1)\n"
     ]
    }
   ],
   "source": [
    "# !pip install tzlocal"
   ]
  },
  {
   "cell_type": "code",
   "execution_count": 19,
   "id": "4adcd550",
   "metadata": {},
   "outputs": [
    {
     "data": {
      "text/plain": [
       "['title_basics_cleaned.csv.gz',\n",
       " 'title_ratings_cleaned.csv.gz',\n",
       " 'tmdb_api_results_2000.json',\n",
       " 'title_akas_cleaned.csv.gz']"
      ]
     },
     "execution_count": 19,
     "metadata": {},
     "output_type": "execute_result"
    }
   ],
   "source": [
    "import os\n",
    "import pandas as pd\n",
    "import time\n",
    "import datetime as dt\n",
    "import tzlocal\n",
    "\n",
    "from tqdm.notebook import tqdm_notebook\n",
    "FOLDER = \"Data/\"\n",
    "# os.makedirs(FOLDER, exist_ok=True)\n",
    "os.listdir(FOLDER)"
   ]
  },
  {
   "cell_type": "code",
   "execution_count": 6,
   "id": "7000224e",
   "metadata": {},
   "outputs": [
    {
     "name": "stdout",
     "output_type": "stream",
     "text": [
      "<class 'pandas.core.frame.DataFrame'>\n",
      "RangeIndex: 112878 entries, 0 to 112877\n",
      "Data columns (total 8 columns):\n",
      " #   Column          Non-Null Count   Dtype  \n",
      "---  ------          --------------   -----  \n",
      " 0   tconst          112878 non-null  object \n",
      " 1   titleType       112878 non-null  object \n",
      " 2   primaryTitle    112878 non-null  object \n",
      " 3   originalTitle   112878 non-null  object \n",
      " 4   isAdult         112878 non-null  int64  \n",
      " 5   startYear       112878 non-null  float64\n",
      " 6   runtimeMinutes  112878 non-null  int64  \n",
      " 7   genres          112878 non-null  object \n",
      "dtypes: float64(1), int64(2), object(5)\n",
      "memory usage: 6.9+ MB\n"
     ]
    },
    {
     "data": {
      "text/html": [
       "<div>\n",
       "<style scoped>\n",
       "    .dataframe tbody tr th:only-of-type {\n",
       "        vertical-align: middle;\n",
       "    }\n",
       "\n",
       "    .dataframe tbody tr th {\n",
       "        vertical-align: top;\n",
       "    }\n",
       "\n",
       "    .dataframe thead th {\n",
       "        text-align: right;\n",
       "    }\n",
       "</style>\n",
       "<table border=\"1\" class=\"dataframe\">\n",
       "  <thead>\n",
       "    <tr style=\"text-align: right;\">\n",
       "      <th></th>\n",
       "      <th>tconst</th>\n",
       "      <th>titleType</th>\n",
       "      <th>primaryTitle</th>\n",
       "      <th>originalTitle</th>\n",
       "      <th>isAdult</th>\n",
       "      <th>startYear</th>\n",
       "      <th>runtimeMinutes</th>\n",
       "      <th>genres</th>\n",
       "    </tr>\n",
       "  </thead>\n",
       "  <tbody>\n",
       "    <tr>\n",
       "      <th>0</th>\n",
       "      <td>tt0035423</td>\n",
       "      <td>movie</td>\n",
       "      <td>Kate &amp; Leopold</td>\n",
       "      <td>Kate &amp; Leopold</td>\n",
       "      <td>0</td>\n",
       "      <td>2001.0</td>\n",
       "      <td>118</td>\n",
       "      <td>Comedy,Fantasy,Romance</td>\n",
       "    </tr>\n",
       "    <tr>\n",
       "      <th>1</th>\n",
       "      <td>tt0062336</td>\n",
       "      <td>movie</td>\n",
       "      <td>The Tango of the Widower and Its Distorting Mi...</td>\n",
       "      <td>El Tango del Viudo y Su Espejo Deformante</td>\n",
       "      <td>0</td>\n",
       "      <td>2020.0</td>\n",
       "      <td>70</td>\n",
       "      <td>Drama</td>\n",
       "    </tr>\n",
       "    <tr>\n",
       "      <th>2</th>\n",
       "      <td>tt0069049</td>\n",
       "      <td>movie</td>\n",
       "      <td>The Other Side of the Wind</td>\n",
       "      <td>The Other Side of the Wind</td>\n",
       "      <td>0</td>\n",
       "      <td>2018.0</td>\n",
       "      <td>122</td>\n",
       "      <td>Drama</td>\n",
       "    </tr>\n",
       "    <tr>\n",
       "      <th>3</th>\n",
       "      <td>tt0088751</td>\n",
       "      <td>movie</td>\n",
       "      <td>The Naked Monster</td>\n",
       "      <td>The Naked Monster</td>\n",
       "      <td>0</td>\n",
       "      <td>2005.0</td>\n",
       "      <td>100</td>\n",
       "      <td>Comedy,Horror,Sci-Fi</td>\n",
       "    </tr>\n",
       "    <tr>\n",
       "      <th>4</th>\n",
       "      <td>tt0093119</td>\n",
       "      <td>movie</td>\n",
       "      <td>Grizzly II: Revenge</td>\n",
       "      <td>Grizzly II: The Predator</td>\n",
       "      <td>0</td>\n",
       "      <td>2020.0</td>\n",
       "      <td>74</td>\n",
       "      <td>Horror,Music,Thriller</td>\n",
       "    </tr>\n",
       "  </tbody>\n",
       "</table>\n",
       "</div>"
      ],
      "text/plain": [
       "      tconst titleType                                       primaryTitle  \\\n",
       "0  tt0035423     movie                                     Kate & Leopold   \n",
       "1  tt0062336     movie  The Tango of the Widower and Its Distorting Mi...   \n",
       "2  tt0069049     movie                         The Other Side of the Wind   \n",
       "3  tt0088751     movie                                  The Naked Monster   \n",
       "4  tt0093119     movie                                Grizzly II: Revenge   \n",
       "\n",
       "                               originalTitle  isAdult  startYear  \\\n",
       "0                             Kate & Leopold        0     2001.0   \n",
       "1  El Tango del Viudo y Su Espejo Deformante        0     2020.0   \n",
       "2                 The Other Side of the Wind        0     2018.0   \n",
       "3                          The Naked Monster        0     2005.0   \n",
       "4                   Grizzly II: The Predator        0     2020.0   \n",
       "\n",
       "   runtimeMinutes                  genres  \n",
       "0             118  Comedy,Fantasy,Romance  \n",
       "1              70                   Drama  \n",
       "2             122                   Drama  \n",
       "3             100    Comedy,Horror,Sci-Fi  \n",
       "4              74   Horror,Music,Thriller  "
      ]
     },
     "execution_count": 6,
     "metadata": {},
     "output_type": "execute_result"
    }
   ],
   "source": [
    "# Load in the dataframe from project part 1 as basics:\n",
    "basics = pd.read_csv('Data/title_basics_cleaned.csv.gz')\n",
    "basics.info()\n",
    "basics.head()"
   ]
  },
  {
   "cell_type": "markdown",
   "id": "a74fa375",
   "metadata": {},
   "source": [
    "### Functions for API Extraction"
   ]
  },
  {
   "cell_type": "code",
   "execution_count": 7,
   "id": "b21e3fff",
   "metadata": {},
   "outputs": [],
   "source": [
    "def get_movie_with_rating(movie_id):\n",
    "    \"\"\"Retrieve the dictionary of movie data using tmbdbsimple, including MPAA rating.\n",
    "    Args:\n",
    "        movie_id (str): movie-to-retreive's id (from IMDB's tconst column)\n",
    "        \n",
    "    Returns:\n",
    "        dict: dictionary of movie.info() + the certification from movie.releases\"\"\"\n",
    "    # Get the movie object for the current id\n",
    "    movie = tmdb.Movies(movie_id)\n",
    "    # save the .info .releases dictionaries\n",
    "    movie_info = movie.info()\n",
    "    releases = movie.releases()\n",
    "    # Loop through countries in releases\n",
    "    for c in releases['countries']:\n",
    "        # if the country abbreviation==US\n",
    "        if c['iso_3166_1' ] =='US':\n",
    "            ## save a \"certification\" key in the info dict with the certification\n",
    "            movie_info['certification'] = c['certification']\n",
    "    return movie_info"
   ]
  },
  {
   "cell_type": "code",
   "execution_count": 9,
   "id": "977e3f99",
   "metadata": {},
   "outputs": [
    {
     "data": {
      "text/plain": [
       "[2000,\n",
       " 2001,\n",
       " 2002,\n",
       " 2003,\n",
       " 2004,\n",
       " 2005,\n",
       " 2006,\n",
       " 2007,\n",
       " 2008,\n",
       " 2009,\n",
       " 2010,\n",
       " 2011,\n",
       " 2012,\n",
       " 2013,\n",
       " 2014,\n",
       " 2015,\n",
       " 2016,\n",
       " 2017,\n",
       " 2018,\n",
       " 2019,\n",
       " 2020,\n",
       " 2021,\n",
       " 2022]"
      ]
     },
     "execution_count": 9,
     "metadata": {},
     "output_type": "execute_result"
    }
   ],
   "source": [
    "## Define start years\n",
    "YEARS_TO_GET = list(range(2000,2023))#[2000,2001]\n",
    "YEARS_TO_GET"
   ]
  },
  {
   "cell_type": "markdown",
   "id": "baf2ea26",
   "metadata": {},
   "source": [
    "> Note: i should test if removing saving each movie will dramatically speed up API extraction."
   ]
  },
  {
   "cell_type": "code",
   "execution_count": 15,
   "id": "98a20c9f",
   "metadata": {},
   "outputs": [],
   "source": [
    "## Setting booleans to control which method of saving data\n",
    "ADVANCED_MOVIE_ID_WORKFLOW=False\n",
    "ERROR_LOG = \"tmdb_api_errors.json\"\n",
    "with open(ERROR_LOG,'w') as f:\n",
    "    json.dump([{'movie id':'','error':''}],f)"
   ]
  },
  {
   "cell_type": "code",
   "execution_count": null,
   "id": "1df8b987",
   "metadata": {},
   "outputs": [
    {
     "name": "stdout",
     "output_type": "stream",
     "text": [
      "- Since ADVANCED_MOVIE_ID_WORKFLOW is False, will append each movie to list.\n",
      "\n",
      "[i] API Calls started on 05-05/21/22-2022 @ 05:32:13 PM\n"
     ]
    },
    {
     "data": {
      "application/vnd.jupyter.widget-view+json": {
       "model_id": "2ce7888ff3644d3c8d9d7c1073e04b1e",
       "version_major": 2,
       "version_minor": 0
      },
      "text/plain": [
       "YEARS:   0%|          | 0/23 [00:00<?, ?it/s]"
      ]
     },
     "metadata": {},
     "output_type": "display_data"
    },
    {
     "data": {
      "application/vnd.jupyter.widget-view+json": {
       "model_id": "7cac9b8fe91d4a78916d21652daeb5b4",
       "version_major": 2,
       "version_minor": 0
      },
      "text/plain": [
       "Movies from 2000:   0%|          | 0/1725 [00:00<?, ?it/s]"
      ]
     },
     "metadata": {},
     "output_type": "display_data"
    },
    {
     "data": {
      "application/vnd.jupyter.widget-view+json": {
       "model_id": "aa469f7637da44b1a3e26b675ffd50d9",
       "version_major": 2,
       "version_minor": 0
      },
      "text/plain": [
       "Movies from 2001:   0%|          | 0/1859 [00:00<?, ?it/s]"
      ]
     },
     "metadata": {},
     "output_type": "display_data"
    },
    {
     "data": {
      "application/vnd.jupyter.widget-view+json": {
       "model_id": "9f6cb83a564f466e916059195946e65d",
       "version_major": 2,
       "version_minor": 0
      },
      "text/plain": [
       "Movies from 2002:   0%|          | 0/1922 [00:00<?, ?it/s]"
      ]
     },
     "metadata": {},
     "output_type": "display_data"
    },
    {
     "data": {
      "application/vnd.jupyter.widget-view+json": {
       "model_id": "aa3c781b71854175ac90cff58b52b1ba",
       "version_major": 2,
       "version_minor": 0
      },
      "text/plain": [
       "Movies from 2003:   0%|          | 0/2123 [00:00<?, ?it/s]"
      ]
     },
     "metadata": {},
     "output_type": "display_data"
    },
    {
     "data": {
      "application/vnd.jupyter.widget-view+json": {
       "model_id": "72dabc0d812c4c6a9021f92e58a4b1f6",
       "version_major": 2,
       "version_minor": 0
      },
      "text/plain": [
       "Movies from 2004:   0%|          | 0/2435 [00:00<?, ?it/s]"
      ]
     },
     "metadata": {},
     "output_type": "display_data"
    },
    {
     "data": {
      "application/vnd.jupyter.widget-view+json": {
       "model_id": "79057f99f94b435db4deec5f85667074",
       "version_major": 2,
       "version_minor": 0
      },
      "text/plain": [
       "Movies from 2005:   0%|          | 0/2837 [00:00<?, ?it/s]"
      ]
     },
     "metadata": {},
     "output_type": "display_data"
    },
    {
     "data": {
      "application/vnd.jupyter.widget-view+json": {
       "model_id": "3505e0ea291b4732bc2db037a3d85f49",
       "version_major": 2,
       "version_minor": 0
      },
      "text/plain": [
       "Movies from 2006:   0%|          | 0/3224 [00:00<?, ?it/s]"
      ]
     },
     "metadata": {},
     "output_type": "display_data"
    },
    {
     "data": {
      "application/vnd.jupyter.widget-view+json": {
       "model_id": "e0c7e10309d448459bfac199ba294fcc",
       "version_major": 2,
       "version_minor": 0
      },
      "text/plain": [
       "Movies from 2007:   0%|          | 0/3486 [00:00<?, ?it/s]"
      ]
     },
     "metadata": {},
     "output_type": "display_data"
    },
    {
     "data": {
      "application/vnd.jupyter.widget-view+json": {
       "model_id": "b844146e69d649cfb4e29c979eb64638",
       "version_major": 2,
       "version_minor": 0
      },
      "text/plain": [
       "Movies from 2008:   0%|          | 0/4118 [00:00<?, ?it/s]"
      ]
     },
     "metadata": {},
     "output_type": "display_data"
    },
    {
     "data": {
      "application/vnd.jupyter.widget-view+json": {
       "model_id": "df7ca98051e045658f3e19ac85fcab5e",
       "version_major": 2,
       "version_minor": 0
      },
      "text/plain": [
       "Movies from 2009:   0%|          | 0/4932 [00:00<?, ?it/s]"
      ]
     },
     "metadata": {},
     "output_type": "display_data"
    },
    {
     "data": {
      "application/vnd.jupyter.widget-view+json": {
       "model_id": "ff103129a4d641c39f0c9d78b47092e8",
       "version_major": 2,
       "version_minor": 0
      },
      "text/plain": [
       "Movies from 2010:   0%|          | 0/5418 [00:00<?, ?it/s]"
      ]
     },
     "metadata": {},
     "output_type": "display_data"
    },
    {
     "data": {
      "application/vnd.jupyter.widget-view+json": {
       "model_id": "ce2cdb45ca6c454aa7be4c460340902c",
       "version_major": 2,
       "version_minor": 0
      },
      "text/plain": [
       "Movies from 2011:   0%|          | 0/5991 [00:00<?, ?it/s]"
      ]
     },
     "metadata": {},
     "output_type": "display_data"
    },
    {
     "data": {
      "application/vnd.jupyter.widget-view+json": {
       "model_id": "125369999c7b4766aca1160b5afb64e6",
       "version_major": 2,
       "version_minor": 0
      },
      "text/plain": [
       "Movies from 2012:   0%|          | 0/6469 [00:00<?, ?it/s]"
      ]
     },
     "metadata": {},
     "output_type": "display_data"
    },
    {
     "data": {
      "application/vnd.jupyter.widget-view+json": {
       "model_id": "fe54c94ba8e94a79825ffd6c17efe5e1",
       "version_major": 2,
       "version_minor": 0
      },
      "text/plain": [
       "Movies from 2013:   0%|          | 0/6798 [00:00<?, ?it/s]"
      ]
     },
     "metadata": {},
     "output_type": "display_data"
    },
    {
     "data": {
      "application/vnd.jupyter.widget-view+json": {
       "model_id": "9aa903b4f90f404b9d1e53b3935f1c3d",
       "version_major": 2,
       "version_minor": 0
      },
      "text/plain": [
       "Movies from 2014:   0%|          | 0/6962 [00:00<?, ?it/s]"
      ]
     },
     "metadata": {},
     "output_type": "display_data"
    },
    {
     "data": {
      "application/vnd.jupyter.widget-view+json": {
       "model_id": "441d617801f2451286f662e256e5f77a",
       "version_major": 2,
       "version_minor": 0
      },
      "text/plain": [
       "Movies from 2015:   0%|          | 0/7055 [00:00<?, ?it/s]"
      ]
     },
     "metadata": {},
     "output_type": "display_data"
    },
    {
     "data": {
      "application/vnd.jupyter.widget-view+json": {
       "model_id": "58fee3eb393d40cfa38f8733310672ef",
       "version_major": 2,
       "version_minor": 0
      },
      "text/plain": [
       "Movies from 2016:   0%|          | 0/7234 [00:00<?, ?it/s]"
      ]
     },
     "metadata": {},
     "output_type": "display_data"
    }
   ],
   "source": [
    "# Start of OUTER loop\n",
    "if ADVANCED_MOVIE_ID_WORKFLOW==True:\n",
    "    print('- Since ADVANCED_MOVIE_ID_WORKFLOW is True, will save each movie to disk.')\n",
    "else:\n",
    "    print('- Since ADVANCED_MOVIE_ID_WORKFLOW is False, will append each movie to list.')\n",
    "\n",
    "now = dt.datetime.now(tz=tzlocal.get_localzone())\n",
    "print(f\"\\n[i] API Calls started on {now.strftime('%m-%D-%Y')} @ {now.strftime('%I:%M:%S %p')}\")\n",
    "\n",
    "\n",
    "\n",
    "for YEAR in tqdm_notebook(YEARS_TO_GET,desc='YEARS',\n",
    "                          position=0):\n",
    "    \n",
    "\n",
    "    #Saving new year as the current df\n",
    "    df = basics.loc[ basics['startYear']==YEAR].copy()\n",
    "    # saving movie ids to list\n",
    "    movie_ids = df['tconst'].copy()#.to_list()\n",
    "    \n",
    "    \n",
    "   ## if saving each movie to disk\n",
    "    if ADVANCED_MOVIE_ID_WORKFLOW:\n",
    "\n",
    "        #Defining the JSON file to store results for year\n",
    "        JSON_FILE = f'{FOLDER}tmdb_api_results_{YEAR}.json'\n",
    "\n",
    "        # Check if file exists\n",
    "        file_exists = os.path.isfile(JSON_FILE)\n",
    "\n",
    "\n",
    "        # If it does not exist: create it\n",
    "        if file_exists == False:\n",
    "        # save an empty dict with just \"imdb_id\" to the new json file.\n",
    "            with open(JSON_FILE,'w') as f:\n",
    "                json.dump([{'imdb_id':0}],f)\n",
    "\n",
    "\n",
    "        # Load existing data from json into a dataframe called \"previous_df\"\n",
    "        previous_df = pd.read_json(JSON_FILE)\n",
    "\n",
    "\n",
    "        # filter out any ids that are already in the JSON_FILE\n",
    "        movie_ids_to_get = movie_ids[~movie_ids.isin(previous_df['imdb_id'])]\n",
    "\n",
    "    ## if append to list insteead of saving .json\n",
    "    else:\n",
    "        ## Make list to append data to instead of saving to file\n",
    "        year_data = []\n",
    "        ## use all movie_ids from basicsß\n",
    "        movie_ids_to_get = movie_ids\n",
    "        \n",
    "        \n",
    "        \n",
    "    #Get index and movie id from list\n",
    "    # INNER Loop\n",
    "    for movie_id in tqdm_notebook(movie_ids_to_get,\n",
    "                                  desc=f'Movies from {YEAR}',\n",
    "                                  position=1,\n",
    "                                  leave=True):\n",
    "        # Attempt to retrieve then data for the movie id\n",
    "        try:\n",
    "            temp = get_movie_with_rating(movie_id)  #This uses your pre-ma    de function\n",
    "            # Append/extend results to existing file using a pre-made function\n",
    "            \n",
    "            ## Save to json_file if advanced workflow\n",
    "            if ADVANCED_MOVIE_ID_WORKFLOW:\n",
    "                \n",
    "                pf.write_json(temp,JSON_FILE)\n",
    "                \n",
    "            else:\n",
    "                year_data.append(temp)\n",
    "                \n",
    "            \n",
    "            # Short 10 ms sleep to prevent overwhelming server\n",
    "            time.sleep(0.01)\n",
    "\n",
    "        # If it fails,  append error message with id to json\n",
    "        except Exception as e:\n",
    "            temp = {'movie_id':movie_id,'error':str(e)}\n",
    "            pf.write_json(temp, ERROR_LOG)\n",
    "            continue\n",
    "\n",
    "    ## FINAL SAVING OF YEAR DATA\n",
    "    if ADVANCED_MOVIE_ID_WORKFLOW:\n",
    "        final_year_df = pd.read_json(JSON_FILE)\n",
    "        \n",
    "    else:\n",
    "        final_year_df = pd.DataFrame(year_data)\n",
    "    \n",
    "    ## save compressed csv\n",
    "    csv_fname = f\"{FOLDER}final_tmdb_data_{YEAR}.csv.gz\"\n",
    "    final_year_df.to_csv(csv_fname, compression=\"gzip\", index=False)\n"
   ]
  },
  {
   "cell_type": "markdown",
   "id": "9dffd1f2",
   "metadata": {},
   "source": [
    "- Analysis continued in \"Part 2B - EDA Overview of TMDB Data.ipynb\""
   ]
  }
 ],
 "metadata": {
  "kernelspec": {
   "display_name": "Python (dojo-env-m1)",
   "language": "python",
   "name": "dojo-env-m1"
  },
  "language_info": {
   "codemirror_mode": {
    "name": "ipython",
    "version": 3
   },
   "file_extension": ".py",
   "mimetype": "text/x-python",
   "name": "python",
   "nbconvert_exporter": "python",
   "pygments_lexer": "ipython3",
   "version": "3.8.13"
  },
  "toc": {
   "base_numbering": 1,
   "nav_menu": {},
   "number_sections": false,
   "sideBar": true,
   "skip_h1_title": false,
   "title_cell": "Table of Contents",
   "title_sidebar": "Contents",
   "toc_cell": false,
   "toc_position": {},
   "toc_section_display": true,
   "toc_window_display": true
  },
  "widgets": {
   "application/vnd.jupyter.widget-state+json": {
    "state": {
     "04db38ff0ef24b70a1835e49b456d6c1": {
      "model_module": "@jupyter-widgets/controls",
      "model_module_version": "1.5.0",
      "model_name": "DescriptionStyleModel",
      "state": {
       "description_width": ""
      }
     },
     "097c346ed393475785f93917794291ee": {
      "model_module": "@jupyter-widgets/base",
      "model_module_version": "1.2.0",
      "model_name": "LayoutModel",
      "state": {}
     },
     "0f4c172fc2c74e81b7d1245101d2ed01": {
      "model_module": "@jupyter-widgets/base",
      "model_module_version": "1.2.0",
      "model_name": "LayoutModel",
      "state": {}
     },
     "123ad83ce3d24db7811861f9c7101b35": {
      "model_module": "@jupyter-widgets/base",
      "model_module_version": "1.2.0",
      "model_name": "LayoutModel",
      "state": {}
     },
     "137b858200a2445ba50e95431374b898": {
      "model_module": "@jupyter-widgets/controls",
      "model_module_version": "1.5.0",
      "model_name": "HBoxModel",
      "state": {
       "children": [
        "IPY_MODEL_deb82c581bfd4acbb83ccefb42f707a5",
        "IPY_MODEL_1589e5dce27c4c6c82e74f42ef3796f3",
        "IPY_MODEL_556535a5c5ca4bf8aca84e8494edc6fb"
       ],
       "layout": "IPY_MODEL_0f4c172fc2c74e81b7d1245101d2ed01"
      }
     },
     "1589e5dce27c4c6c82e74f42ef3796f3": {
      "model_module": "@jupyter-widgets/controls",
      "model_module_version": "1.5.0",
      "model_name": "FloatProgressModel",
      "state": {
       "bar_style": "success",
       "layout": "IPY_MODEL_479a06220d22450091eebf563e48cf95",
       "max": 2,
       "style": "IPY_MODEL_5cbebd708a754eb19d9d5d1fc901d7d7",
       "value": 2
      }
     },
     "27a0adb8dada498b918a96a90ee963be": {
      "model_module": "@jupyter-widgets/controls",
      "model_module_version": "1.5.0",
      "model_name": "HTMLModel",
      "state": {
       "layout": "IPY_MODEL_87b36da071c94c8f94101e584fe5021a",
       "style": "IPY_MODEL_f3d9dc8ca1694a5ea12916fb23b4cf22",
       "value": "Movies from 2000: 100%"
      }
     },
     "2877c0ebb95e4ed18efa70940ad7ab32": {
      "model_module": "@jupyter-widgets/controls",
      "model_module_version": "1.5.0",
      "model_name": "FloatProgressModel",
      "state": {
       "bar_style": "success",
       "layout": "IPY_MODEL_9712fa9229bb4273b936a254dc79c8f4",
       "max": 1517,
       "style": "IPY_MODEL_c47f01a06eb44c6fb0caf8e305624d94",
       "value": 1517
      }
     },
     "36edf10c9aa2436a983cbbb4d8b20cd6": {
      "model_module": "@jupyter-widgets/controls",
      "model_module_version": "1.5.0",
      "model_name": "HTMLModel",
      "state": {
       "layout": "IPY_MODEL_e1ed1de9ef51406b8f340dbda7ff7773",
       "style": "IPY_MODEL_d388d50376ad42bd9f3fea6ed3ced9b2",
       "value": "Movies from 2001: 100%"
      }
     },
     "3921be5926bc4e39b5e252b46f3680c0": {
      "model_module": "@jupyter-widgets/controls",
      "model_module_version": "1.5.0",
      "model_name": "HBoxModel",
      "state": {
       "children": [
        "IPY_MODEL_27a0adb8dada498b918a96a90ee963be",
        "IPY_MODEL_affc9ffa5ad949a58adf37992d1ce158",
        "IPY_MODEL_43dddfd110f449c8b57edb6301a1d82e"
       ],
       "layout": "IPY_MODEL_097c346ed393475785f93917794291ee"
      }
     },
     "43dddfd110f449c8b57edb6301a1d82e": {
      "model_module": "@jupyter-widgets/controls",
      "model_module_version": "1.5.0",
      "model_name": "HTMLModel",
      "state": {
       "layout": "IPY_MODEL_7e63e3c9829e4aca9d0ac565d5c466ab",
       "style": "IPY_MODEL_04db38ff0ef24b70a1835e49b456d6c1",
       "value": " 1403/1403 [07:54&lt;00:00,  5.88it/s]"
      }
     },
     "462576b98d1a46d48d5892a9f655074b": {
      "model_module": "@jupyter-widgets/controls",
      "model_module_version": "1.5.0",
      "model_name": "HBoxModel",
      "state": {
       "children": [
        "IPY_MODEL_36edf10c9aa2436a983cbbb4d8b20cd6",
        "IPY_MODEL_2877c0ebb95e4ed18efa70940ad7ab32",
        "IPY_MODEL_c7d7833dbe3c490f9a217dca46d99cf3"
       ],
       "layout": "IPY_MODEL_e4ed4c1974f74162a0e1b123dd0fe211"
      }
     },
     "479a06220d22450091eebf563e48cf95": {
      "model_module": "@jupyter-widgets/base",
      "model_module_version": "1.2.0",
      "model_name": "LayoutModel",
      "state": {}
     },
     "4896d90a9ccb4ffaa84af515e95ea00e": {
      "model_module": "@jupyter-widgets/base",
      "model_module_version": "1.2.0",
      "model_name": "LayoutModel",
      "state": {}
     },
     "556535a5c5ca4bf8aca84e8494edc6fb": {
      "model_module": "@jupyter-widgets/controls",
      "model_module_version": "1.5.0",
      "model_name": "HTMLModel",
      "state": {
       "layout": "IPY_MODEL_8f4400897399448a9fd8444fc77b7e00",
       "style": "IPY_MODEL_f89200eed2444830a45d56fd1eb91aab",
       "value": " 2/2 [16:29&lt;00:00, 498.07s/it]"
      }
     },
     "5cbebd708a754eb19d9d5d1fc901d7d7": {
      "model_module": "@jupyter-widgets/controls",
      "model_module_version": "1.5.0",
      "model_name": "ProgressStyleModel",
      "state": {
       "description_width": ""
      }
     },
     "7e63e3c9829e4aca9d0ac565d5c466ab": {
      "model_module": "@jupyter-widgets/base",
      "model_module_version": "1.2.0",
      "model_name": "LayoutModel",
      "state": {}
     },
     "7f791e3814f744f1bbed9519bf0a129b": {
      "model_module": "@jupyter-widgets/controls",
      "model_module_version": "1.5.0",
      "model_name": "DescriptionStyleModel",
      "state": {
       "description_width": ""
      }
     },
     "87b36da071c94c8f94101e584fe5021a": {
      "model_module": "@jupyter-widgets/base",
      "model_module_version": "1.2.0",
      "model_name": "LayoutModel",
      "state": {}
     },
     "8f4400897399448a9fd8444fc77b7e00": {
      "model_module": "@jupyter-widgets/base",
      "model_module_version": "1.2.0",
      "model_name": "LayoutModel",
      "state": {}
     },
     "9712fa9229bb4273b936a254dc79c8f4": {
      "model_module": "@jupyter-widgets/base",
      "model_module_version": "1.2.0",
      "model_name": "LayoutModel",
      "state": {}
     },
     "affc9ffa5ad949a58adf37992d1ce158": {
      "model_module": "@jupyter-widgets/controls",
      "model_module_version": "1.5.0",
      "model_name": "FloatProgressModel",
      "state": {
       "bar_style": "success",
       "layout": "IPY_MODEL_4896d90a9ccb4ffaa84af515e95ea00e",
       "max": 1403,
       "style": "IPY_MODEL_ce9219f8f9774a27848d4dd17ec82ac3",
       "value": 1403
      }
     },
     "b624fa082c3b4b15a36a7839f1407ea6": {
      "model_module": "@jupyter-widgets/controls",
      "model_module_version": "1.5.0",
      "model_name": "DescriptionStyleModel",
      "state": {
       "description_width": ""
      }
     },
     "c47f01a06eb44c6fb0caf8e305624d94": {
      "model_module": "@jupyter-widgets/controls",
      "model_module_version": "1.5.0",
      "model_name": "ProgressStyleModel",
      "state": {
       "description_width": ""
      }
     },
     "c7d7833dbe3c490f9a217dca46d99cf3": {
      "model_module": "@jupyter-widgets/controls",
      "model_module_version": "1.5.0",
      "model_name": "HTMLModel",
      "state": {
       "layout": "IPY_MODEL_d89fe75864084a8282817c1be9a471fe",
       "style": "IPY_MODEL_b624fa082c3b4b15a36a7839f1407ea6",
       "value": " 1517/1517 [08:34&lt;00:00,  5.45it/s]"
      }
     },
     "ce9219f8f9774a27848d4dd17ec82ac3": {
      "model_module": "@jupyter-widgets/controls",
      "model_module_version": "1.5.0",
      "model_name": "ProgressStyleModel",
      "state": {
       "description_width": ""
      }
     },
     "d388d50376ad42bd9f3fea6ed3ced9b2": {
      "model_module": "@jupyter-widgets/controls",
      "model_module_version": "1.5.0",
      "model_name": "DescriptionStyleModel",
      "state": {
       "description_width": ""
      }
     },
     "d89fe75864084a8282817c1be9a471fe": {
      "model_module": "@jupyter-widgets/base",
      "model_module_version": "1.2.0",
      "model_name": "LayoutModel",
      "state": {}
     },
     "deb82c581bfd4acbb83ccefb42f707a5": {
      "model_module": "@jupyter-widgets/controls",
      "model_module_version": "1.5.0",
      "model_name": "HTMLModel",
      "state": {
       "layout": "IPY_MODEL_123ad83ce3d24db7811861f9c7101b35",
       "style": "IPY_MODEL_7f791e3814f744f1bbed9519bf0a129b",
       "value": "YEARS: 100%"
      }
     },
     "e1ed1de9ef51406b8f340dbda7ff7773": {
      "model_module": "@jupyter-widgets/base",
      "model_module_version": "1.2.0",
      "model_name": "LayoutModel",
      "state": {}
     },
     "e4ed4c1974f74162a0e1b123dd0fe211": {
      "model_module": "@jupyter-widgets/base",
      "model_module_version": "1.2.0",
      "model_name": "LayoutModel",
      "state": {}
     },
     "f3d9dc8ca1694a5ea12916fb23b4cf22": {
      "model_module": "@jupyter-widgets/controls",
      "model_module_version": "1.5.0",
      "model_name": "DescriptionStyleModel",
      "state": {
       "description_width": ""
      }
     },
     "f89200eed2444830a45d56fd1eb91aab": {
      "model_module": "@jupyter-widgets/controls",
      "model_module_version": "1.5.0",
      "model_name": "DescriptionStyleModel",
      "state": {
       "description_width": ""
      }
     }
    },
    "version_major": 2,
    "version_minor": 0
   }
  }
 },
 "nbformat": 4,
 "nbformat_minor": 5
}
