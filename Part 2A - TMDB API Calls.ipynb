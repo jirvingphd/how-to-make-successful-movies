{
 "cells": [
  {
   "cell_type": "markdown",
   "id": "393a81cd",
   "metadata": {},
   "source": [
    "# Part 2: Extract from TMDB API"
   ]
  },
  {
   "cell_type": "markdown",
   "id": "d8cc29ba",
   "metadata": {},
   "source": [
    "## Methods"
   ]
  },
  {
   "cell_type": "markdown",
   "id": "aa1590b0",
   "metadata": {},
   "source": [
    "- Load in the cleaned title basics data from part 1. \n",
    "- Use the `tconst` values to extract movie data from The Movie Database's API.\n",
    "- Keep the data sorted in files by startyear to ensure data remains under the git filesize limit.\n",
    "- Combine all years into 1 final CSV and then perform some quick EDA to get overview of data collected (next notebook: Part 2B)|"
   ]
  },
  {
   "cell_type": "markdown",
   "id": "d6810191",
   "metadata": {},
   "source": [
    "# Loading the Data "
   ]
  },
  {
   "cell_type": "code",
   "execution_count": 1,
   "id": "cd74b5a1",
   "metadata": {
    "execution": {
     "iopub.execute_input": "2023-11-23T02:08:33.112210Z",
     "iopub.status.busy": "2023-11-23T02:08:33.111757Z",
     "iopub.status.idle": "2023-11-23T02:08:33.249263Z",
     "shell.execute_reply": "2023-11-23T02:08:33.248885Z",
     "shell.execute_reply.started": "2023-11-23T02:08:33.112167Z"
    }
   },
   "outputs": [],
   "source": [
    "%load_ext autoreload\n",
    "%autoreload 2\n",
    "import project_functions as pf\n"
   ]
  },
  {
   "cell_type": "code",
   "execution_count": 2,
   "id": "9219c87f",
   "metadata": {
    "execution": {
     "iopub.execute_input": "2023-11-23T02:08:33.249845Z",
     "iopub.status.busy": "2023-11-23T02:08:33.249745Z",
     "iopub.status.idle": "2023-11-23T02:08:33.259656Z",
     "shell.execute_reply": "2023-11-23T02:08:33.259221Z",
     "shell.execute_reply.started": "2023-11-23T02:08:33.249836Z"
    }
   },
   "outputs": [],
   "source": [
    "# Install tmdbsimple (only need to run once)\n",
    "# !pip install tmdbsimple"
   ]
  },
  {
   "cell_type": "code",
   "execution_count": 3,
   "id": "d96ce7c4",
   "metadata": {
    "execution": {
     "iopub.execute_input": "2023-11-23T02:08:33.260370Z",
     "iopub.status.busy": "2023-11-23T02:08:33.260245Z",
     "iopub.status.idle": "2023-11-23T02:08:33.272694Z",
     "shell.execute_reply": "2023-11-23T02:08:33.272378Z",
     "shell.execute_reply.started": "2023-11-23T02:08:33.260359Z"
    }
   },
   "outputs": [
    {
     "data": {
      "text/plain": [
       "dict_keys(['api-key', 'api-token'])"
      ]
     },
     "execution_count": 3,
     "metadata": {},
     "output_type": "execute_result"
    }
   ],
   "source": [
    "import json\n",
    "with open('/Users/codingdojo/.secret/tmdb_api.json', 'r') as f:\n",
    "    login = json.load(f)\n",
    "## Display the keys of the loaded dict\n",
    "login.keys()"
   ]
  },
  {
   "cell_type": "code",
   "execution_count": 4,
   "id": "75c1597e",
   "metadata": {
    "execution": {
     "iopub.execute_input": "2023-11-23T02:08:33.274521Z",
     "iopub.status.busy": "2023-11-23T02:08:33.274338Z",
     "iopub.status.idle": "2023-11-23T02:08:33.287540Z",
     "shell.execute_reply": "2023-11-23T02:08:33.287184Z",
     "shell.execute_reply.started": "2023-11-23T02:08:33.274499Z"
    }
   },
   "outputs": [],
   "source": [
    "import tmdbsimple as tmdb\n",
    "tmdb.API_KEY =  login['api-key']"
   ]
  },
  {
   "cell_type": "code",
   "execution_count": 5,
   "id": "a548e8be",
   "metadata": {
    "execution": {
     "iopub.execute_input": "2023-11-23T02:08:33.288197Z",
     "iopub.status.busy": "2023-11-23T02:08:33.288083Z",
     "iopub.status.idle": "2023-11-23T02:08:33.298277Z",
     "shell.execute_reply": "2023-11-23T02:08:33.297931Z",
     "shell.execute_reply.started": "2023-11-23T02:08:33.288189Z"
    }
   },
   "outputs": [],
   "source": [
    "# !pip install tzlocal"
   ]
  },
  {
   "cell_type": "code",
   "execution_count": 6,
   "id": "4adcd550",
   "metadata": {
    "execution": {
     "iopub.execute_input": "2023-11-23T02:08:33.298811Z",
     "iopub.status.busy": "2023-11-23T02:08:33.298715Z",
     "iopub.status.idle": "2023-11-23T02:08:33.605536Z",
     "shell.execute_reply": "2023-11-23T02:08:33.605173Z",
     "shell.execute_reply.started": "2023-11-23T02:08:33.298802Z"
    }
   },
   "outputs": [
    {
     "data": {
      "text/plain": [
       "['final_tmdb_data_2006.csv.gz',\n",
       " 'final_tmdb_data_2018.csv.gz',\n",
       " 'final_tmdb_data_2014.csv.gz',\n",
       " 'final_tmdb_data_2022.csv.gz',\n",
       " 'title_basics_cleaned.csv.gz',\n",
       " 'combined_tmdb_api_data.csv.gz',\n",
       " '.DS_Store',\n",
       " 'final_tmdb_data_2008.csv.gz',\n",
       " 'final_tmdb_data_2016.csv.gz',\n",
       " 'final_tmdb_data_2004.csv.gz',\n",
       " 'final_tmdb_data_2020.csv.gz',\n",
       " 'title_ratings_cleaned.csv.gz',\n",
       " 'tmdb_api_results_2000.json',\n",
       " 'final_tmdb_data_2000.csv.gz',\n",
       " 'final_tmdb_data_2012.csv.gz',\n",
       " 'final_tmdb_data_2010.csv.gz',\n",
       " 'final_tmdb_data_2002.csv.gz',\n",
       " 'final_tmdb_data_2019.csv.gz',\n",
       " 'final_tmdb_data_2007.csv.gz',\n",
       " 'final_tmdb_data_2015.csv.gz',\n",
       " 'For Tableau',\n",
       " 'final_tmdb_data_2021.csv.gz',\n",
       " 'title_crew.csv.gz',\n",
       " 'final_tmdb_data_2017.csv.gz',\n",
       " 'final_tmdb_data_2009.csv.gz',\n",
       " 'final_tmdb_data_2005.csv.gz',\n",
       " 'final_tmdb_data_2001.csv.gz',\n",
       " '.ipynb_checkpoints',\n",
       " 'final_tmdb_data_2013.csv.gz',\n",
       " 'name_basics.csv.gz',\n",
       " 'title_principals.csv.gz',\n",
       " 'title_akas_cleaned.csv.gz',\n",
       " 'final_tmdb_data_2011.csv.gz',\n",
       " 'final_tmdb_data_2003.csv.gz']"
      ]
     },
     "execution_count": 6,
     "metadata": {},
     "output_type": "execute_result"
    }
   ],
   "source": [
    "import os\n",
    "import pandas as pd\n",
    "import time\n",
    "import datetime as dt\n",
    "import tzlocal\n",
    "\n",
    "from tqdm.notebook import tqdm_notebook\n",
    "FOLDER = \"Data/\"\n",
    "# os.makedirs(FOLDER, exist_ok=True)\n",
    "os.listdir(FOLDER)"
   ]
  },
  {
   "cell_type": "code",
   "execution_count": 7,
   "id": "7000224e",
   "metadata": {
    "execution": {
     "iopub.execute_input": "2023-11-23T02:08:33.606221Z",
     "iopub.status.busy": "2023-11-23T02:08:33.606084Z",
     "iopub.status.idle": "2023-11-23T02:08:33.852248Z",
     "shell.execute_reply": "2023-11-23T02:08:33.851921Z",
     "shell.execute_reply.started": "2023-11-23T02:08:33.606212Z"
    }
   },
   "outputs": [
    {
     "name": "stdout",
     "output_type": "stream",
     "text": [
      "<class 'pandas.core.frame.DataFrame'>\n",
      "RangeIndex: 127375 entries, 0 to 127374\n",
      "Data columns (total 8 columns):\n",
      " #   Column          Non-Null Count   Dtype  \n",
      "---  ------          --------------   -----  \n",
      " 0   tconst          127375 non-null  object \n",
      " 1   titleType       127375 non-null  object \n",
      " 2   primaryTitle    127375 non-null  object \n",
      " 3   originalTitle   127375 non-null  object \n",
      " 4   isAdult         127375 non-null  int64  \n",
      " 5   startYear       127375 non-null  float64\n",
      " 6   runtimeMinutes  127375 non-null  int64  \n",
      " 7   genres          127375 non-null  object \n",
      "dtypes: float64(1), int64(2), object(5)\n",
      "memory usage: 7.8+ MB\n"
     ]
    },
    {
     "data": {
      "text/html": [
       "<div>\n",
       "<style scoped>\n",
       "    .dataframe tbody tr th:only-of-type {\n",
       "        vertical-align: middle;\n",
       "    }\n",
       "\n",
       "    .dataframe tbody tr th {\n",
       "        vertical-align: top;\n",
       "    }\n",
       "\n",
       "    .dataframe thead th {\n",
       "        text-align: right;\n",
       "    }\n",
       "</style>\n",
       "<table border=\"1\" class=\"dataframe\">\n",
       "  <thead>\n",
       "    <tr style=\"text-align: right;\">\n",
       "      <th></th>\n",
       "      <th>tconst</th>\n",
       "      <th>titleType</th>\n",
       "      <th>primaryTitle</th>\n",
       "      <th>originalTitle</th>\n",
       "      <th>isAdult</th>\n",
       "      <th>startYear</th>\n",
       "      <th>runtimeMinutes</th>\n",
       "      <th>genres</th>\n",
       "    </tr>\n",
       "  </thead>\n",
       "  <tbody>\n",
       "    <tr>\n",
       "      <th>0</th>\n",
       "      <td>tt0035423</td>\n",
       "      <td>movie</td>\n",
       "      <td>Kate &amp; Leopold</td>\n",
       "      <td>Kate &amp; Leopold</td>\n",
       "      <td>0</td>\n",
       "      <td>2001.0</td>\n",
       "      <td>118</td>\n",
       "      <td>Comedy,Fantasy,Romance</td>\n",
       "    </tr>\n",
       "    <tr>\n",
       "      <th>1</th>\n",
       "      <td>tt0062336</td>\n",
       "      <td>movie</td>\n",
       "      <td>The Tango of the Widower and Its Distorting Mi...</td>\n",
       "      <td>El tango del viudo y su espejo deformante</td>\n",
       "      <td>0</td>\n",
       "      <td>2020.0</td>\n",
       "      <td>70</td>\n",
       "      <td>Drama</td>\n",
       "    </tr>\n",
       "    <tr>\n",
       "      <th>2</th>\n",
       "      <td>tt0069049</td>\n",
       "      <td>movie</td>\n",
       "      <td>The Other Side of the Wind</td>\n",
       "      <td>The Other Side of the Wind</td>\n",
       "      <td>0</td>\n",
       "      <td>2018.0</td>\n",
       "      <td>122</td>\n",
       "      <td>Drama</td>\n",
       "    </tr>\n",
       "    <tr>\n",
       "      <th>3</th>\n",
       "      <td>tt0070596</td>\n",
       "      <td>movie</td>\n",
       "      <td>Socialist Realism</td>\n",
       "      <td>El realismo socialista</td>\n",
       "      <td>0</td>\n",
       "      <td>2023.0</td>\n",
       "      <td>78</td>\n",
       "      <td>Drama</td>\n",
       "    </tr>\n",
       "    <tr>\n",
       "      <th>4</th>\n",
       "      <td>tt0082328</td>\n",
       "      <td>movie</td>\n",
       "      <td>Embodiment of Evil</td>\n",
       "      <td>Encarnação do Demônio</td>\n",
       "      <td>0</td>\n",
       "      <td>2008.0</td>\n",
       "      <td>94</td>\n",
       "      <td>Horror</td>\n",
       "    </tr>\n",
       "  </tbody>\n",
       "</table>\n",
       "</div>"
      ],
      "text/plain": [
       "      tconst titleType                                       primaryTitle  \\\n",
       "0  tt0035423     movie                                     Kate & Leopold   \n",
       "1  tt0062336     movie  The Tango of the Widower and Its Distorting Mi...   \n",
       "2  tt0069049     movie                         The Other Side of the Wind   \n",
       "3  tt0070596     movie                                  Socialist Realism   \n",
       "4  tt0082328     movie                                 Embodiment of Evil   \n",
       "\n",
       "                               originalTitle  isAdult  startYear  \\\n",
       "0                             Kate & Leopold        0     2001.0   \n",
       "1  El tango del viudo y su espejo deformante        0     2020.0   \n",
       "2                 The Other Side of the Wind        0     2018.0   \n",
       "3                     El realismo socialista        0     2023.0   \n",
       "4                      Encarnação do Demônio        0     2008.0   \n",
       "\n",
       "   runtimeMinutes                  genres  \n",
       "0             118  Comedy,Fantasy,Romance  \n",
       "1              70                   Drama  \n",
       "2             122                   Drama  \n",
       "3              78                   Drama  \n",
       "4              94                  Horror  "
      ]
     },
     "execution_count": 7,
     "metadata": {},
     "output_type": "execute_result"
    }
   ],
   "source": [
    "# Load in the dataframe from project part 1 as basics:\n",
    "basics = pd.read_csv('Data/title_basics_cleaned.csv.gz')\n",
    "basics.info()\n",
    "basics.head()"
   ]
  },
  {
   "cell_type": "code",
   "execution_count": 8,
   "id": "beaf207d-7311-49ef-8783-414114b31997",
   "metadata": {
    "execution": {
     "iopub.execute_input": "2023-11-23T02:08:33.852911Z",
     "iopub.status.busy": "2023-11-23T02:08:33.852810Z",
     "iopub.status.idle": "2023-11-23T02:08:33.890866Z",
     "shell.execute_reply": "2023-11-23T02:08:33.890561Z",
     "shell.execute_reply.started": "2023-11-23T02:08:33.852902Z"
    }
   },
   "outputs": [
    {
     "data": {
      "text/html": [
       "<div>\n",
       "<style scoped>\n",
       "    .dataframe tbody tr th:only-of-type {\n",
       "        vertical-align: middle;\n",
       "    }\n",
       "\n",
       "    .dataframe tbody tr th {\n",
       "        vertical-align: top;\n",
       "    }\n",
       "\n",
       "    .dataframe thead th {\n",
       "        text-align: right;\n",
       "    }\n",
       "</style>\n",
       "<table border=\"1\" class=\"dataframe\">\n",
       "  <thead>\n",
       "    <tr style=\"text-align: right;\">\n",
       "      <th></th>\n",
       "      <th>tconst</th>\n",
       "      <th>titleType</th>\n",
       "      <th>primaryTitle</th>\n",
       "      <th>originalTitle</th>\n",
       "      <th>isAdult</th>\n",
       "      <th>startYear</th>\n",
       "      <th>runtimeMinutes</th>\n",
       "      <th>genres</th>\n",
       "    </tr>\n",
       "  </thead>\n",
       "  <tbody>\n",
       "    <tr>\n",
       "      <th>20994</th>\n",
       "      <td>tt10676048</td>\n",
       "      <td>movie</td>\n",
       "      <td>The Marvels</td>\n",
       "      <td>The Marvels</td>\n",
       "      <td>0</td>\n",
       "      <td>2023.0</td>\n",
       "      <td>105</td>\n",
       "      <td>Action,Adventure,Fantasy</td>\n",
       "    </tr>\n",
       "  </tbody>\n",
       "</table>\n",
       "</div>"
      ],
      "text/plain": [
       "           tconst titleType primaryTitle originalTitle  isAdult  startYear  \\\n",
       "20994  tt10676048     movie  The Marvels   The Marvels        0     2023.0   \n",
       "\n",
       "       runtimeMinutes                    genres  \n",
       "20994             105  Action,Adventure,Fantasy  "
      ]
     },
     "execution_count": 8,
     "metadata": {},
     "output_type": "execute_result"
    }
   ],
   "source": [
    "basics[basics['primaryTitle'].str.contains(\"The Marvels\")]"
   ]
  },
  {
   "cell_type": "markdown",
   "id": "0f7a7f93",
   "metadata": {},
   "source": [
    "### Functions for API Extraction"
   ]
  },
  {
   "cell_type": "code",
   "execution_count": 9,
   "id": "b21e3fff",
   "metadata": {
    "execution": {
     "iopub.execute_input": "2023-11-23T02:08:33.891562Z",
     "iopub.status.busy": "2023-11-23T02:08:33.891462Z",
     "iopub.status.idle": "2023-11-23T02:08:33.904948Z",
     "shell.execute_reply": "2023-11-23T02:08:33.904609Z",
     "shell.execute_reply.started": "2023-11-23T02:08:33.891553Z"
    }
   },
   "outputs": [],
   "source": [
    "def get_movie_with_rating(movie_id):\n",
    "    \"\"\"Retrieve the dictionary of movie data using tmbdbsimple, including MPAA rating.\n",
    "    Args:\n",
    "        movie_id (str): movie-to-retreive's id (from IMDB's tconst column)\n",
    "        \n",
    "    Returns:\n",
    "        dict: dictionary of movie.info() + the certification from movie.releases\"\"\"\n",
    "    # Get the movie object for the current id\n",
    "    movie = tmdb.Movies(movie_id)\n",
    "    # save the .info .releases dictionaries\n",
    "    movie_info = movie.info()\n",
    "    releases = movie.releases()\n",
    "    # Loop through countries in releases\n",
    "    for c in releases['countries']:\n",
    "        # if the country abbreviation==US\n",
    "        if c['iso_3166_1' ] =='US':\n",
    "            ## save a \"certification\" key in the info dict with the certification\n",
    "            movie_info['certification'] = c['certification']\n",
    "    return movie_info"
   ]
  },
  {
   "cell_type": "code",
   "execution_count": null,
   "id": "5559c552-269c-4e78-9ab9-9c6f13bfa100",
   "metadata": {},
   "outputs": [],
   "source": []
  },
  {
   "cell_type": "code",
   "execution_count": 10,
   "id": "977e3f99",
   "metadata": {
    "execution": {
     "iopub.execute_input": "2023-11-23T02:08:33.905617Z",
     "iopub.status.busy": "2023-11-23T02:08:33.905510Z",
     "iopub.status.idle": "2023-11-23T02:08:33.920959Z",
     "shell.execute_reply": "2023-11-23T02:08:33.920536Z",
     "shell.execute_reply.started": "2023-11-23T02:08:33.905609Z"
    }
   },
   "outputs": [
    {
     "data": {
      "text/plain": [
       "[2000.0,\n",
       " 2001.0,\n",
       " 2002.0,\n",
       " 2003.0,\n",
       " 2004.0,\n",
       " 2005.0,\n",
       " 2006.0,\n",
       " 2007.0,\n",
       " 2008.0,\n",
       " 2009.0,\n",
       " 2010.0,\n",
       " 2011.0,\n",
       " 2012.0,\n",
       " 2013.0,\n",
       " 2014.0,\n",
       " 2015.0,\n",
       " 2016.0,\n",
       " 2017.0,\n",
       " 2018.0,\n",
       " 2019.0,\n",
       " 2020.0,\n",
       " 2021.0,\n",
       " 2022.0,\n",
       " 2023.0]"
      ]
     },
     "execution_count": 10,
     "metadata": {},
     "output_type": "execute_result"
    }
   ],
   "source": [
    "## Define start years\n",
    "# YEARS_TO_GET = list(range(2000,2023))#[2000,2001]\n",
    "YEARS_TO_GET =  sorted(basics['startYear'].unique())\n",
    "YEARS_TO_GET"
   ]
  },
  {
   "cell_type": "markdown",
   "id": "5fdf58b6",
   "metadata": {},
   "source": [
    "> Note: i should test if removing saving each movie will dramatically speed up API extraction."
   ]
  },
  {
   "cell_type": "code",
   "execution_count": 11,
   "id": "40e0110b",
   "metadata": {
    "execution": {
     "iopub.execute_input": "2023-11-23T02:08:33.922053Z",
     "iopub.status.busy": "2023-11-23T02:08:33.921746Z",
     "iopub.status.idle": "2023-11-23T02:08:33.936215Z",
     "shell.execute_reply": "2023-11-23T02:08:33.935841Z",
     "shell.execute_reply.started": "2023-11-23T02:08:33.922037Z"
    }
   },
   "outputs": [],
   "source": [
    "## Setting booleans to control which method of saving data\n",
    "SAVE_TO_DISK_FIRST=False\n",
    "ERROR_LOG = \"tmdb_api_errors.json\"\n",
    "with open(ERROR_LOG,'w') as f:\n",
    "    json.dump([{'movie id':'','error':''}],f)"
   ]
  },
  {
   "cell_type": "code",
   "execution_count": 12,
   "id": "d132b8ab",
   "metadata": {
    "execution": {
     "iopub.execute_input": "2023-11-23T02:08:33.936768Z",
     "iopub.status.busy": "2023-11-23T02:08:33.936679Z",
     "iopub.status.idle": "2023-11-23T02:08:33.951503Z",
     "shell.execute_reply": "2023-11-23T02:08:33.951113Z",
     "shell.execute_reply.started": "2023-11-23T02:08:33.936759Z"
    }
   },
   "outputs": [
    {
     "data": {
      "text/plain": [
       "[2023.0,\n",
       " 2022.0,\n",
       " 2021.0,\n",
       " 2020.0,\n",
       " 2019.0,\n",
       " 2018.0,\n",
       " 2017.0,\n",
       " 2016.0,\n",
       " 2015.0,\n",
       " 2014.0,\n",
       " 2013.0,\n",
       " 2012.0,\n",
       " 2011.0,\n",
       " 2010.0,\n",
       " 2009.0,\n",
       " 2008.0,\n",
       " 2007.0,\n",
       " 2006.0,\n",
       " 2005.0,\n",
       " 2004.0,\n",
       " 2003.0,\n",
       " 2002.0,\n",
       " 2001.0,\n",
       " 2000.0]"
      ]
     },
     "execution_count": 12,
     "metadata": {},
     "output_type": "execute_result"
    }
   ],
   "source": [
    "## Reversing order of YEARS_TO_GET\n",
    "YEARS_TO_GET = YEARS_TO_GET[::-1]\n",
    "YEARS_TO_GET"
   ]
  },
  {
   "cell_type": "code",
   "execution_count": 13,
   "id": "1df8b987",
   "metadata": {
    "execution": {
     "iopub.execute_input": "2023-11-23T02:08:33.954334Z",
     "iopub.status.busy": "2023-11-23T02:08:33.954134Z",
     "iopub.status.idle": "2023-11-23T05:02:24.083846Z",
     "shell.execute_reply": "2023-11-23T05:02:24.075012Z",
     "shell.execute_reply.started": "2023-11-23T02:08:33.954321Z"
    }
   },
   "outputs": [
    {
     "name": "stdout",
     "output_type": "stream",
     "text": [
      "- Since SAVE_TO_DISK_FIRST is False, will append each movie to list.\n",
      "\n",
      "[i] API Calls started on 11-11/22/23-2023 @ 09:08:33 PM\n"
     ]
    },
    {
     "data": {
      "application/vnd.jupyter.widget-view+json": {
       "model_id": "af55a28b1430495d92b57cdfc3445285",
       "version_major": 2,
       "version_minor": 0
      },
      "text/plain": [
       "YEARS:   0%|          | 0/24 [00:00<?, ?it/s]"
      ]
     },
     "metadata": {},
     "output_type": "display_data"
    },
    {
     "data": {
      "application/vnd.jupyter.widget-view+json": {
       "model_id": "009c341231d34b9b8d6cc204bfcd773c",
       "version_major": 2,
       "version_minor": 0
      },
      "text/plain": [
       "Movies from 2023.0:   0%|          | 0/5537 [00:00<?, ?it/s]"
      ]
     },
     "metadata": {},
     "output_type": "display_data"
    },
    {
     "data": {
      "application/vnd.jupyter.widget-view+json": {
       "model_id": "0a3decbe1a1242e89ff14569a308e8cc",
       "version_major": 2,
       "version_minor": 0
      },
      "text/plain": [
       "Movies from 2022.0:   0%|          | 0/6941 [00:00<?, ?it/s]"
      ]
     },
     "metadata": {},
     "output_type": "display_data"
    },
    {
     "data": {
      "application/vnd.jupyter.widget-view+json": {
       "model_id": "75a3f797921040ccae1866a491229136",
       "version_major": 2,
       "version_minor": 0
      },
      "text/plain": [
       "Movies from 2021.0:   0%|          | 0/6989 [00:00<?, ?it/s]"
      ]
     },
     "metadata": {},
     "output_type": "display_data"
    },
    {
     "data": {
      "application/vnd.jupyter.widget-view+json": {
       "model_id": "979b7127e5e44e77a07c67e5ddbc29b1",
       "version_major": 2,
       "version_minor": 0
      },
      "text/plain": [
       "Movies from 2020.0:   0%|          | 0/7071 [00:00<?, ?it/s]"
      ]
     },
     "metadata": {},
     "output_type": "display_data"
    },
    {
     "data": {
      "application/vnd.jupyter.widget-view+json": {
       "model_id": "3ef12f10713c4efb981ace20eff7bb11",
       "version_major": 2,
       "version_minor": 0
      },
      "text/plain": [
       "Movies from 2019.0:   0%|          | 0/8139 [00:00<?, ?it/s]"
      ]
     },
     "metadata": {},
     "output_type": "display_data"
    },
    {
     "data": {
      "application/vnd.jupyter.widget-view+json": {
       "model_id": "94e34143482b4b4d93fc4f0418d4e6c1",
       "version_major": 2,
       "version_minor": 0
      },
      "text/plain": [
       "Movies from 2018.0:   0%|          | 0/7899 [00:00<?, ?it/s]"
      ]
     },
     "metadata": {},
     "output_type": "display_data"
    },
    {
     "data": {
      "application/vnd.jupyter.widget-view+json": {
       "model_id": "108f54cbcea84abb9548c96ac20d829c",
       "version_major": 2,
       "version_minor": 0
      },
      "text/plain": [
       "Movies from 2017.0:   0%|          | 0/7833 [00:00<?, ?it/s]"
      ]
     },
     "metadata": {},
     "output_type": "display_data"
    },
    {
     "data": {
      "application/vnd.jupyter.widget-view+json": {
       "model_id": "306c8f5b10dd430fb1e5eddb66d97009",
       "version_major": 2,
       "version_minor": 0
      },
      "text/plain": [
       "Movies from 2016.0:   0%|          | 0/7416 [00:00<?, ?it/s]"
      ]
     },
     "metadata": {},
     "output_type": "display_data"
    },
    {
     "data": {
      "application/vnd.jupyter.widget-view+json": {
       "model_id": "b40066ce24f44ab899a6fa1bf569525a",
       "version_major": 2,
       "version_minor": 0
      },
      "text/plain": [
       "Movies from 2015.0:   0%|          | 0/7234 [00:00<?, ?it/s]"
      ]
     },
     "metadata": {},
     "output_type": "display_data"
    },
    {
     "data": {
      "application/vnd.jupyter.widget-view+json": {
       "model_id": "61e1ebb1097b4aedbaf02782f3faf681",
       "version_major": 2,
       "version_minor": 0
      },
      "text/plain": [
       "Movies from 2014.0:   0%|          | 0/7169 [00:00<?, ?it/s]"
      ]
     },
     "metadata": {},
     "output_type": "display_data"
    },
    {
     "ename": "KeyboardInterrupt",
     "evalue": "",
     "output_type": "error",
     "traceback": [
      "\u001b[0;31m---------------------------------------------------------------------------\u001b[0m",
      "\u001b[0;31mKeyboardInterrupt\u001b[0m                         Traceback (most recent call last)",
      "Cell \u001b[0;32mIn[13], line 64\u001b[0m\n\u001b[1;32m     58\u001b[0m \u001b[38;5;28;01mfor\u001b[39;00m movie_id \u001b[38;5;129;01min\u001b[39;00m tqdm_notebook(movie_ids_to_get,\n\u001b[1;32m     59\u001b[0m                               desc\u001b[38;5;241m=\u001b[39m\u001b[38;5;124mf\u001b[39m\u001b[38;5;124m'\u001b[39m\u001b[38;5;124mMovies from \u001b[39m\u001b[38;5;132;01m{\u001b[39;00mYEAR\u001b[38;5;132;01m}\u001b[39;00m\u001b[38;5;124m'\u001b[39m,\n\u001b[1;32m     60\u001b[0m                               position\u001b[38;5;241m=\u001b[39m\u001b[38;5;241m1\u001b[39m,\n\u001b[1;32m     61\u001b[0m                               leave\u001b[38;5;241m=\u001b[39m\u001b[38;5;28;01mTrue\u001b[39;00m):\n\u001b[1;32m     62\u001b[0m     \u001b[38;5;66;03m# Attempt to retrieve then data for the movie id\u001b[39;00m\n\u001b[1;32m     63\u001b[0m     \u001b[38;5;28;01mtry\u001b[39;00m:\n\u001b[0;32m---> 64\u001b[0m         temp \u001b[38;5;241m=\u001b[39m \u001b[43mget_movie_with_rating\u001b[49m\u001b[43m(\u001b[49m\u001b[43mmovie_id\u001b[49m\u001b[43m)\u001b[49m  \u001b[38;5;66;03m#This uses your pre-ma    de function\u001b[39;00m\n\u001b[1;32m     65\u001b[0m         \u001b[38;5;66;03m# Append/extend results to existing file using a pre-made function\u001b[39;00m\n\u001b[1;32m     66\u001b[0m         \n\u001b[1;32m     67\u001b[0m         \u001b[38;5;66;03m## Save to json_file if advanced workflow\u001b[39;00m\n\u001b[1;32m     68\u001b[0m         \u001b[38;5;28;01mif\u001b[39;00m SAVE_TO_DISK_FIRST:\n",
      "Cell \u001b[0;32mIn[9], line 11\u001b[0m, in \u001b[0;36mget_movie_with_rating\u001b[0;34m(movie_id)\u001b[0m\n\u001b[1;32m      9\u001b[0m movie \u001b[38;5;241m=\u001b[39m tmdb\u001b[38;5;241m.\u001b[39mMovies(movie_id)\n\u001b[1;32m     10\u001b[0m \u001b[38;5;66;03m# save the .info .releases dictionaries\u001b[39;00m\n\u001b[0;32m---> 11\u001b[0m movie_info \u001b[38;5;241m=\u001b[39m \u001b[43mmovie\u001b[49m\u001b[38;5;241;43m.\u001b[39;49m\u001b[43minfo\u001b[49m\u001b[43m(\u001b[49m\u001b[43m)\u001b[49m\n\u001b[1;32m     12\u001b[0m releases \u001b[38;5;241m=\u001b[39m movie\u001b[38;5;241m.\u001b[39mreleases()\n\u001b[1;32m     13\u001b[0m \u001b[38;5;66;03m# Loop through countries in releases\u001b[39;00m\n",
      "File \u001b[0;32m/opt/homebrew/Caskroom/miniforge/base/envs/dojo-env/lib/python3.10/site-packages/tmdbsimple/movies.py:73\u001b[0m, in \u001b[0;36mMovies.info\u001b[0;34m(self, **kwargs)\u001b[0m\n\u001b[1;32m     57\u001b[0m \u001b[38;5;250m\u001b[39m\u001b[38;5;124;03m\"\"\"\u001b[39;00m\n\u001b[1;32m     58\u001b[0m \u001b[38;5;124;03mGet the primary information about a movie.\u001b[39;00m\n\u001b[1;32m     59\u001b[0m \n\u001b[0;32m   (...)\u001b[0m\n\u001b[1;32m     69\u001b[0m \u001b[38;5;124;03m    A dict representation of the JSON returned from the API.\u001b[39;00m\n\u001b[1;32m     70\u001b[0m \u001b[38;5;124;03m\"\"\"\u001b[39;00m\n\u001b[1;32m     71\u001b[0m path \u001b[38;5;241m=\u001b[39m \u001b[38;5;28mself\u001b[39m\u001b[38;5;241m.\u001b[39m_get_id_path(\u001b[38;5;124m'\u001b[39m\u001b[38;5;124minfo\u001b[39m\u001b[38;5;124m'\u001b[39m)\n\u001b[0;32m---> 73\u001b[0m response \u001b[38;5;241m=\u001b[39m \u001b[38;5;28;43mself\u001b[39;49m\u001b[38;5;241;43m.\u001b[39;49m\u001b[43m_GET\u001b[49m\u001b[43m(\u001b[49m\u001b[43mpath\u001b[49m\u001b[43m,\u001b[49m\u001b[43m \u001b[49m\u001b[43mkwargs\u001b[49m\u001b[43m)\u001b[49m\n\u001b[1;32m     74\u001b[0m \u001b[38;5;28mself\u001b[39m\u001b[38;5;241m.\u001b[39m_set_attrs_to_values(response)\n\u001b[1;32m     75\u001b[0m \u001b[38;5;28;01mreturn\u001b[39;00m response\n",
      "File \u001b[0;32m/opt/homebrew/Caskroom/miniforge/base/envs/dojo-env/lib/python3.10/site-packages/tmdbsimple/base.py:110\u001b[0m, in \u001b[0;36mTMDB._GET\u001b[0;34m(self, path, params)\u001b[0m\n\u001b[1;32m    109\u001b[0m \u001b[38;5;28;01mdef\u001b[39;00m \u001b[38;5;21m_GET\u001b[39m(\u001b[38;5;28mself\u001b[39m, path, params\u001b[38;5;241m=\u001b[39m\u001b[38;5;28;01mNone\u001b[39;00m):\n\u001b[0;32m--> 110\u001b[0m     \u001b[38;5;28;01mreturn\u001b[39;00m \u001b[38;5;28;43mself\u001b[39;49m\u001b[38;5;241;43m.\u001b[39;49m\u001b[43m_request\u001b[49m\u001b[43m(\u001b[49m\u001b[38;5;124;43m'\u001b[39;49m\u001b[38;5;124;43mGET\u001b[39;49m\u001b[38;5;124;43m'\u001b[39;49m\u001b[43m,\u001b[49m\u001b[43m \u001b[49m\u001b[43mpath\u001b[49m\u001b[43m,\u001b[49m\u001b[43m \u001b[49m\u001b[43mparams\u001b[49m\u001b[38;5;241;43m=\u001b[39;49m\u001b[43mparams\u001b[49m\u001b[43m)\u001b[49m\n",
      "File \u001b[0;32m/opt/homebrew/Caskroom/miniforge/base/envs/dojo-env/lib/python3.10/site-packages/tmdbsimple/base.py:87\u001b[0m, in \u001b[0;36mTMDB._request\u001b[0;34m(self, method, path, params, payload)\u001b[0m\n\u001b[1;32m     85\u001b[0m \u001b[38;5;66;03m# Create a new request session if no global session is defined\u001b[39;00m\n\u001b[1;32m     86\u001b[0m \u001b[38;5;28;01mif\u001b[39;00m \u001b[38;5;28mself\u001b[39m\u001b[38;5;241m.\u001b[39msession \u001b[38;5;129;01mis\u001b[39;00m \u001b[38;5;28;01mNone\u001b[39;00m:\n\u001b[0;32m---> 87\u001b[0m     response \u001b[38;5;241m=\u001b[39m \u001b[43mrequests\u001b[49m\u001b[38;5;241;43m.\u001b[39;49m\u001b[43mrequest\u001b[49m\u001b[43m(\u001b[49m\n\u001b[1;32m     88\u001b[0m \u001b[43m        \u001b[49m\u001b[43mmethod\u001b[49m\u001b[43m,\u001b[49m\n\u001b[1;32m     89\u001b[0m \u001b[43m        \u001b[49m\u001b[43murl\u001b[49m\u001b[43m,\u001b[49m\n\u001b[1;32m     90\u001b[0m \u001b[43m        \u001b[49m\u001b[43mparams\u001b[49m\u001b[38;5;241;43m=\u001b[39;49m\u001b[43mparams\u001b[49m\u001b[43m,\u001b[49m\n\u001b[1;32m     91\u001b[0m \u001b[43m        \u001b[49m\u001b[43mdata\u001b[49m\u001b[38;5;241;43m=\u001b[39;49m\u001b[43mjson\u001b[49m\u001b[38;5;241;43m.\u001b[39;49m\u001b[43mdumps\u001b[49m\u001b[43m(\u001b[49m\u001b[43mpayload\u001b[49m\u001b[43m)\u001b[49m\u001b[43m \u001b[49m\u001b[38;5;28;43;01mif\u001b[39;49;00m\u001b[43m \u001b[49m\u001b[43mpayload\u001b[49m\u001b[43m \u001b[49m\u001b[38;5;28;43;01melse\u001b[39;49;00m\u001b[43m \u001b[49m\u001b[43mpayload\u001b[49m\u001b[43m,\u001b[49m\n\u001b[1;32m     92\u001b[0m \u001b[43m        \u001b[49m\u001b[43mheaders\u001b[49m\u001b[38;5;241;43m=\u001b[39;49m\u001b[38;5;28;43mself\u001b[39;49m\u001b[38;5;241;43m.\u001b[39;49m\u001b[43mheaders\u001b[49m\u001b[43m,\u001b[49m\u001b[43m \u001b[49m\u001b[43mtimeout\u001b[49m\u001b[38;5;241;43m=\u001b[39;49m\u001b[38;5;28;43mself\u001b[39;49m\u001b[38;5;241;43m.\u001b[39;49m\u001b[43mtimeout\u001b[49m\n\u001b[1;32m     93\u001b[0m \u001b[43m    \u001b[49m\u001b[43m)\u001b[49m\n\u001b[1;32m     95\u001b[0m \u001b[38;5;66;03m# Use the global requests session the user provided\u001b[39;00m\n\u001b[1;32m     96\u001b[0m \u001b[38;5;28;01melse\u001b[39;00m:\n\u001b[1;32m     97\u001b[0m     response \u001b[38;5;241m=\u001b[39m \u001b[38;5;28mself\u001b[39m\u001b[38;5;241m.\u001b[39msession\u001b[38;5;241m.\u001b[39mrequest(\n\u001b[1;32m     98\u001b[0m         method,\n\u001b[1;32m     99\u001b[0m         url,\n\u001b[0;32m   (...)\u001b[0m\n\u001b[1;32m    102\u001b[0m         headers\u001b[38;5;241m=\u001b[39m\u001b[38;5;28mself\u001b[39m\u001b[38;5;241m.\u001b[39mheaders, timeout\u001b[38;5;241m=\u001b[39m\u001b[38;5;28mself\u001b[39m\u001b[38;5;241m.\u001b[39mtimeout\n\u001b[1;32m    103\u001b[0m     )\n",
      "File \u001b[0;32m/opt/homebrew/Caskroom/miniforge/base/envs/dojo-env/lib/python3.10/site-packages/requests/api.py:59\u001b[0m, in \u001b[0;36mrequest\u001b[0;34m(method, url, **kwargs)\u001b[0m\n\u001b[1;32m     55\u001b[0m \u001b[38;5;66;03m# By using the 'with' statement we are sure the session is closed, thus we\u001b[39;00m\n\u001b[1;32m     56\u001b[0m \u001b[38;5;66;03m# avoid leaving sockets open which can trigger a ResourceWarning in some\u001b[39;00m\n\u001b[1;32m     57\u001b[0m \u001b[38;5;66;03m# cases, and look like a memory leak in others.\u001b[39;00m\n\u001b[1;32m     58\u001b[0m \u001b[38;5;28;01mwith\u001b[39;00m sessions\u001b[38;5;241m.\u001b[39mSession() \u001b[38;5;28;01mas\u001b[39;00m session:\n\u001b[0;32m---> 59\u001b[0m     \u001b[38;5;28;01mreturn\u001b[39;00m \u001b[43msession\u001b[49m\u001b[38;5;241;43m.\u001b[39;49m\u001b[43mrequest\u001b[49m\u001b[43m(\u001b[49m\u001b[43mmethod\u001b[49m\u001b[38;5;241;43m=\u001b[39;49m\u001b[43mmethod\u001b[49m\u001b[43m,\u001b[49m\u001b[43m \u001b[49m\u001b[43murl\u001b[49m\u001b[38;5;241;43m=\u001b[39;49m\u001b[43murl\u001b[49m\u001b[43m,\u001b[49m\u001b[43m \u001b[49m\u001b[38;5;241;43m*\u001b[39;49m\u001b[38;5;241;43m*\u001b[39;49m\u001b[43mkwargs\u001b[49m\u001b[43m)\u001b[49m\n",
      "File \u001b[0;32m/opt/homebrew/Caskroom/miniforge/base/envs/dojo-env/lib/python3.10/site-packages/requests/sessions.py:587\u001b[0m, in \u001b[0;36mSession.request\u001b[0;34m(self, method, url, params, data, headers, cookies, files, auth, timeout, allow_redirects, proxies, hooks, stream, verify, cert, json)\u001b[0m\n\u001b[1;32m    582\u001b[0m send_kwargs \u001b[38;5;241m=\u001b[39m {\n\u001b[1;32m    583\u001b[0m     \u001b[38;5;124m\"\u001b[39m\u001b[38;5;124mtimeout\u001b[39m\u001b[38;5;124m\"\u001b[39m: timeout,\n\u001b[1;32m    584\u001b[0m     \u001b[38;5;124m\"\u001b[39m\u001b[38;5;124mallow_redirects\u001b[39m\u001b[38;5;124m\"\u001b[39m: allow_redirects,\n\u001b[1;32m    585\u001b[0m }\n\u001b[1;32m    586\u001b[0m send_kwargs\u001b[38;5;241m.\u001b[39mupdate(settings)\n\u001b[0;32m--> 587\u001b[0m resp \u001b[38;5;241m=\u001b[39m \u001b[38;5;28;43mself\u001b[39;49m\u001b[38;5;241;43m.\u001b[39;49m\u001b[43msend\u001b[49m\u001b[43m(\u001b[49m\u001b[43mprep\u001b[49m\u001b[43m,\u001b[49m\u001b[43m \u001b[49m\u001b[38;5;241;43m*\u001b[39;49m\u001b[38;5;241;43m*\u001b[39;49m\u001b[43msend_kwargs\u001b[49m\u001b[43m)\u001b[49m\n\u001b[1;32m    589\u001b[0m \u001b[38;5;28;01mreturn\u001b[39;00m resp\n",
      "File \u001b[0;32m/opt/homebrew/Caskroom/miniforge/base/envs/dojo-env/lib/python3.10/site-packages/requests/sessions.py:701\u001b[0m, in \u001b[0;36mSession.send\u001b[0;34m(self, request, **kwargs)\u001b[0m\n\u001b[1;32m    698\u001b[0m start \u001b[38;5;241m=\u001b[39m preferred_clock()\n\u001b[1;32m    700\u001b[0m \u001b[38;5;66;03m# Send the request\u001b[39;00m\n\u001b[0;32m--> 701\u001b[0m r \u001b[38;5;241m=\u001b[39m \u001b[43madapter\u001b[49m\u001b[38;5;241;43m.\u001b[39;49m\u001b[43msend\u001b[49m\u001b[43m(\u001b[49m\u001b[43mrequest\u001b[49m\u001b[43m,\u001b[49m\u001b[43m \u001b[49m\u001b[38;5;241;43m*\u001b[39;49m\u001b[38;5;241;43m*\u001b[39;49m\u001b[43mkwargs\u001b[49m\u001b[43m)\u001b[49m\n\u001b[1;32m    703\u001b[0m \u001b[38;5;66;03m# Total elapsed time of the request (approximately)\u001b[39;00m\n\u001b[1;32m    704\u001b[0m elapsed \u001b[38;5;241m=\u001b[39m preferred_clock() \u001b[38;5;241m-\u001b[39m start\n",
      "File \u001b[0;32m/opt/homebrew/Caskroom/miniforge/base/envs/dojo-env/lib/python3.10/site-packages/requests/adapters.py:487\u001b[0m, in \u001b[0;36mHTTPAdapter.send\u001b[0;34m(self, request, stream, timeout, verify, cert, proxies)\u001b[0m\n\u001b[1;32m    484\u001b[0m     timeout \u001b[38;5;241m=\u001b[39m TimeoutSauce(connect\u001b[38;5;241m=\u001b[39mtimeout, read\u001b[38;5;241m=\u001b[39mtimeout)\n\u001b[1;32m    486\u001b[0m \u001b[38;5;28;01mtry\u001b[39;00m:\n\u001b[0;32m--> 487\u001b[0m     resp \u001b[38;5;241m=\u001b[39m \u001b[43mconn\u001b[49m\u001b[38;5;241;43m.\u001b[39;49m\u001b[43murlopen\u001b[49m\u001b[43m(\u001b[49m\n\u001b[1;32m    488\u001b[0m \u001b[43m        \u001b[49m\u001b[43mmethod\u001b[49m\u001b[38;5;241;43m=\u001b[39;49m\u001b[43mrequest\u001b[49m\u001b[38;5;241;43m.\u001b[39;49m\u001b[43mmethod\u001b[49m\u001b[43m,\u001b[49m\n\u001b[1;32m    489\u001b[0m \u001b[43m        \u001b[49m\u001b[43murl\u001b[49m\u001b[38;5;241;43m=\u001b[39;49m\u001b[43murl\u001b[49m\u001b[43m,\u001b[49m\n\u001b[1;32m    490\u001b[0m \u001b[43m        \u001b[49m\u001b[43mbody\u001b[49m\u001b[38;5;241;43m=\u001b[39;49m\u001b[43mrequest\u001b[49m\u001b[38;5;241;43m.\u001b[39;49m\u001b[43mbody\u001b[49m\u001b[43m,\u001b[49m\n\u001b[1;32m    491\u001b[0m \u001b[43m        \u001b[49m\u001b[43mheaders\u001b[49m\u001b[38;5;241;43m=\u001b[39;49m\u001b[43mrequest\u001b[49m\u001b[38;5;241;43m.\u001b[39;49m\u001b[43mheaders\u001b[49m\u001b[43m,\u001b[49m\n\u001b[1;32m    492\u001b[0m \u001b[43m        \u001b[49m\u001b[43mredirect\u001b[49m\u001b[38;5;241;43m=\u001b[39;49m\u001b[38;5;28;43;01mFalse\u001b[39;49;00m\u001b[43m,\u001b[49m\n\u001b[1;32m    493\u001b[0m \u001b[43m        \u001b[49m\u001b[43massert_same_host\u001b[49m\u001b[38;5;241;43m=\u001b[39;49m\u001b[38;5;28;43;01mFalse\u001b[39;49;00m\u001b[43m,\u001b[49m\n\u001b[1;32m    494\u001b[0m \u001b[43m        \u001b[49m\u001b[43mpreload_content\u001b[49m\u001b[38;5;241;43m=\u001b[39;49m\u001b[38;5;28;43;01mFalse\u001b[39;49;00m\u001b[43m,\u001b[49m\n\u001b[1;32m    495\u001b[0m \u001b[43m        \u001b[49m\u001b[43mdecode_content\u001b[49m\u001b[38;5;241;43m=\u001b[39;49m\u001b[38;5;28;43;01mFalse\u001b[39;49;00m\u001b[43m,\u001b[49m\n\u001b[1;32m    496\u001b[0m \u001b[43m        \u001b[49m\u001b[43mretries\u001b[49m\u001b[38;5;241;43m=\u001b[39;49m\u001b[38;5;28;43mself\u001b[39;49m\u001b[38;5;241;43m.\u001b[39;49m\u001b[43mmax_retries\u001b[49m\u001b[43m,\u001b[49m\n\u001b[1;32m    497\u001b[0m \u001b[43m        \u001b[49m\u001b[43mtimeout\u001b[49m\u001b[38;5;241;43m=\u001b[39;49m\u001b[43mtimeout\u001b[49m\u001b[43m,\u001b[49m\n\u001b[1;32m    498\u001b[0m \u001b[43m        \u001b[49m\u001b[43mchunked\u001b[49m\u001b[38;5;241;43m=\u001b[39;49m\u001b[43mchunked\u001b[49m\u001b[43m,\u001b[49m\n\u001b[1;32m    499\u001b[0m \u001b[43m    \u001b[49m\u001b[43m)\u001b[49m\n\u001b[1;32m    501\u001b[0m \u001b[38;5;28;01mexcept\u001b[39;00m (ProtocolError, \u001b[38;5;167;01mOSError\u001b[39;00m) \u001b[38;5;28;01mas\u001b[39;00m err:\n\u001b[1;32m    502\u001b[0m     \u001b[38;5;28;01mraise\u001b[39;00m \u001b[38;5;167;01mConnectionError\u001b[39;00m(err, request\u001b[38;5;241m=\u001b[39mrequest)\n",
      "File \u001b[0;32m/opt/homebrew/Caskroom/miniforge/base/envs/dojo-env/lib/python3.10/site-packages/urllib3/connectionpool.py:703\u001b[0m, in \u001b[0;36mHTTPConnectionPool.urlopen\u001b[0;34m(self, method, url, body, headers, retries, redirect, assert_same_host, timeout, pool_timeout, release_conn, chunked, body_pos, **response_kw)\u001b[0m\n\u001b[1;32m    700\u001b[0m     \u001b[38;5;28mself\u001b[39m\u001b[38;5;241m.\u001b[39m_prepare_proxy(conn)\n\u001b[1;32m    702\u001b[0m \u001b[38;5;66;03m# Make the request on the httplib connection object.\u001b[39;00m\n\u001b[0;32m--> 703\u001b[0m httplib_response \u001b[38;5;241m=\u001b[39m \u001b[38;5;28;43mself\u001b[39;49m\u001b[38;5;241;43m.\u001b[39;49m\u001b[43m_make_request\u001b[49m\u001b[43m(\u001b[49m\n\u001b[1;32m    704\u001b[0m \u001b[43m    \u001b[49m\u001b[43mconn\u001b[49m\u001b[43m,\u001b[49m\n\u001b[1;32m    705\u001b[0m \u001b[43m    \u001b[49m\u001b[43mmethod\u001b[49m\u001b[43m,\u001b[49m\n\u001b[1;32m    706\u001b[0m \u001b[43m    \u001b[49m\u001b[43murl\u001b[49m\u001b[43m,\u001b[49m\n\u001b[1;32m    707\u001b[0m \u001b[43m    \u001b[49m\u001b[43mtimeout\u001b[49m\u001b[38;5;241;43m=\u001b[39;49m\u001b[43mtimeout_obj\u001b[49m\u001b[43m,\u001b[49m\n\u001b[1;32m    708\u001b[0m \u001b[43m    \u001b[49m\u001b[43mbody\u001b[49m\u001b[38;5;241;43m=\u001b[39;49m\u001b[43mbody\u001b[49m\u001b[43m,\u001b[49m\n\u001b[1;32m    709\u001b[0m \u001b[43m    \u001b[49m\u001b[43mheaders\u001b[49m\u001b[38;5;241;43m=\u001b[39;49m\u001b[43mheaders\u001b[49m\u001b[43m,\u001b[49m\n\u001b[1;32m    710\u001b[0m \u001b[43m    \u001b[49m\u001b[43mchunked\u001b[49m\u001b[38;5;241;43m=\u001b[39;49m\u001b[43mchunked\u001b[49m\u001b[43m,\u001b[49m\n\u001b[1;32m    711\u001b[0m \u001b[43m\u001b[49m\u001b[43m)\u001b[49m\n\u001b[1;32m    713\u001b[0m \u001b[38;5;66;03m# If we're going to release the connection in ``finally:``, then\u001b[39;00m\n\u001b[1;32m    714\u001b[0m \u001b[38;5;66;03m# the response doesn't need to know about the connection. Otherwise\u001b[39;00m\n\u001b[1;32m    715\u001b[0m \u001b[38;5;66;03m# it will also try to release it and we'll have a double-release\u001b[39;00m\n\u001b[1;32m    716\u001b[0m \u001b[38;5;66;03m# mess.\u001b[39;00m\n\u001b[1;32m    717\u001b[0m response_conn \u001b[38;5;241m=\u001b[39m conn \u001b[38;5;28;01mif\u001b[39;00m \u001b[38;5;129;01mnot\u001b[39;00m release_conn \u001b[38;5;28;01melse\u001b[39;00m \u001b[38;5;28;01mNone\u001b[39;00m\n",
      "File \u001b[0;32m/opt/homebrew/Caskroom/miniforge/base/envs/dojo-env/lib/python3.10/site-packages/urllib3/connectionpool.py:449\u001b[0m, in \u001b[0;36mHTTPConnectionPool._make_request\u001b[0;34m(self, conn, method, url, timeout, chunked, **httplib_request_kw)\u001b[0m\n\u001b[1;32m    444\u001b[0m             httplib_response \u001b[38;5;241m=\u001b[39m conn\u001b[38;5;241m.\u001b[39mgetresponse()\n\u001b[1;32m    445\u001b[0m         \u001b[38;5;28;01mexcept\u001b[39;00m \u001b[38;5;167;01mBaseException\u001b[39;00m \u001b[38;5;28;01mas\u001b[39;00m e:\n\u001b[1;32m    446\u001b[0m             \u001b[38;5;66;03m# Remove the TypeError from the exception chain in\u001b[39;00m\n\u001b[1;32m    447\u001b[0m             \u001b[38;5;66;03m# Python 3 (including for exceptions like SystemExit).\u001b[39;00m\n\u001b[1;32m    448\u001b[0m             \u001b[38;5;66;03m# Otherwise it looks like a bug in the code.\u001b[39;00m\n\u001b[0;32m--> 449\u001b[0m             \u001b[43msix\u001b[49m\u001b[38;5;241;43m.\u001b[39;49m\u001b[43mraise_from\u001b[49m\u001b[43m(\u001b[49m\u001b[43me\u001b[49m\u001b[43m,\u001b[49m\u001b[43m \u001b[49m\u001b[38;5;28;43;01mNone\u001b[39;49;00m\u001b[43m)\u001b[49m\n\u001b[1;32m    450\u001b[0m \u001b[38;5;28;01mexcept\u001b[39;00m (SocketTimeout, BaseSSLError, SocketError) \u001b[38;5;28;01mas\u001b[39;00m e:\n\u001b[1;32m    451\u001b[0m     \u001b[38;5;28mself\u001b[39m\u001b[38;5;241m.\u001b[39m_raise_timeout(err\u001b[38;5;241m=\u001b[39me, url\u001b[38;5;241m=\u001b[39murl, timeout_value\u001b[38;5;241m=\u001b[39mread_timeout)\n",
      "File \u001b[0;32m<string>:3\u001b[0m, in \u001b[0;36mraise_from\u001b[0;34m(value, from_value)\u001b[0m\n",
      "File \u001b[0;32m/opt/homebrew/Caskroom/miniforge/base/envs/dojo-env/lib/python3.10/site-packages/urllib3/connectionpool.py:444\u001b[0m, in \u001b[0;36mHTTPConnectionPool._make_request\u001b[0;34m(self, conn, method, url, timeout, chunked, **httplib_request_kw)\u001b[0m\n\u001b[1;32m    441\u001b[0m \u001b[38;5;28;01mexcept\u001b[39;00m \u001b[38;5;167;01mTypeError\u001b[39;00m:\n\u001b[1;32m    442\u001b[0m     \u001b[38;5;66;03m# Python 3\u001b[39;00m\n\u001b[1;32m    443\u001b[0m     \u001b[38;5;28;01mtry\u001b[39;00m:\n\u001b[0;32m--> 444\u001b[0m         httplib_response \u001b[38;5;241m=\u001b[39m \u001b[43mconn\u001b[49m\u001b[38;5;241;43m.\u001b[39;49m\u001b[43mgetresponse\u001b[49m\u001b[43m(\u001b[49m\u001b[43m)\u001b[49m\n\u001b[1;32m    445\u001b[0m     \u001b[38;5;28;01mexcept\u001b[39;00m \u001b[38;5;167;01mBaseException\u001b[39;00m \u001b[38;5;28;01mas\u001b[39;00m e:\n\u001b[1;32m    446\u001b[0m         \u001b[38;5;66;03m# Remove the TypeError from the exception chain in\u001b[39;00m\n\u001b[1;32m    447\u001b[0m         \u001b[38;5;66;03m# Python 3 (including for exceptions like SystemExit).\u001b[39;00m\n\u001b[1;32m    448\u001b[0m         \u001b[38;5;66;03m# Otherwise it looks like a bug in the code.\u001b[39;00m\n\u001b[1;32m    449\u001b[0m         six\u001b[38;5;241m.\u001b[39mraise_from(e, \u001b[38;5;28;01mNone\u001b[39;00m)\n",
      "File \u001b[0;32m/opt/homebrew/Caskroom/miniforge/base/envs/dojo-env/lib/python3.10/http/client.py:1374\u001b[0m, in \u001b[0;36mHTTPConnection.getresponse\u001b[0;34m(self)\u001b[0m\n\u001b[1;32m   1372\u001b[0m \u001b[38;5;28;01mtry\u001b[39;00m:\n\u001b[1;32m   1373\u001b[0m     \u001b[38;5;28;01mtry\u001b[39;00m:\n\u001b[0;32m-> 1374\u001b[0m         \u001b[43mresponse\u001b[49m\u001b[38;5;241;43m.\u001b[39;49m\u001b[43mbegin\u001b[49m\u001b[43m(\u001b[49m\u001b[43m)\u001b[49m\n\u001b[1;32m   1375\u001b[0m     \u001b[38;5;28;01mexcept\u001b[39;00m \u001b[38;5;167;01mConnectionError\u001b[39;00m:\n\u001b[1;32m   1376\u001b[0m         \u001b[38;5;28mself\u001b[39m\u001b[38;5;241m.\u001b[39mclose()\n",
      "File \u001b[0;32m/opt/homebrew/Caskroom/miniforge/base/envs/dojo-env/lib/python3.10/http/client.py:318\u001b[0m, in \u001b[0;36mHTTPResponse.begin\u001b[0;34m(self)\u001b[0m\n\u001b[1;32m    316\u001b[0m \u001b[38;5;66;03m# read until we get a non-100 response\u001b[39;00m\n\u001b[1;32m    317\u001b[0m \u001b[38;5;28;01mwhile\u001b[39;00m \u001b[38;5;28;01mTrue\u001b[39;00m:\n\u001b[0;32m--> 318\u001b[0m     version, status, reason \u001b[38;5;241m=\u001b[39m \u001b[38;5;28;43mself\u001b[39;49m\u001b[38;5;241;43m.\u001b[39;49m\u001b[43m_read_status\u001b[49m\u001b[43m(\u001b[49m\u001b[43m)\u001b[49m\n\u001b[1;32m    319\u001b[0m     \u001b[38;5;28;01mif\u001b[39;00m status \u001b[38;5;241m!=\u001b[39m CONTINUE:\n\u001b[1;32m    320\u001b[0m         \u001b[38;5;28;01mbreak\u001b[39;00m\n",
      "File \u001b[0;32m/opt/homebrew/Caskroom/miniforge/base/envs/dojo-env/lib/python3.10/http/client.py:279\u001b[0m, in \u001b[0;36mHTTPResponse._read_status\u001b[0;34m(self)\u001b[0m\n\u001b[1;32m    278\u001b[0m \u001b[38;5;28;01mdef\u001b[39;00m \u001b[38;5;21m_read_status\u001b[39m(\u001b[38;5;28mself\u001b[39m):\n\u001b[0;32m--> 279\u001b[0m     line \u001b[38;5;241m=\u001b[39m \u001b[38;5;28mstr\u001b[39m(\u001b[38;5;28;43mself\u001b[39;49m\u001b[38;5;241;43m.\u001b[39;49m\u001b[43mfp\u001b[49m\u001b[38;5;241;43m.\u001b[39;49m\u001b[43mreadline\u001b[49m\u001b[43m(\u001b[49m\u001b[43m_MAXLINE\u001b[49m\u001b[43m \u001b[49m\u001b[38;5;241;43m+\u001b[39;49m\u001b[43m \u001b[49m\u001b[38;5;241;43m1\u001b[39;49m\u001b[43m)\u001b[49m, \u001b[38;5;124m\"\u001b[39m\u001b[38;5;124miso-8859-1\u001b[39m\u001b[38;5;124m\"\u001b[39m)\n\u001b[1;32m    280\u001b[0m     \u001b[38;5;28;01mif\u001b[39;00m \u001b[38;5;28mlen\u001b[39m(line) \u001b[38;5;241m>\u001b[39m _MAXLINE:\n\u001b[1;32m    281\u001b[0m         \u001b[38;5;28;01mraise\u001b[39;00m LineTooLong(\u001b[38;5;124m\"\u001b[39m\u001b[38;5;124mstatus line\u001b[39m\u001b[38;5;124m\"\u001b[39m)\n",
      "File \u001b[0;32m/opt/homebrew/Caskroom/miniforge/base/envs/dojo-env/lib/python3.10/socket.py:705\u001b[0m, in \u001b[0;36mSocketIO.readinto\u001b[0;34m(self, b)\u001b[0m\n\u001b[1;32m    703\u001b[0m \u001b[38;5;28;01mwhile\u001b[39;00m \u001b[38;5;28;01mTrue\u001b[39;00m:\n\u001b[1;32m    704\u001b[0m     \u001b[38;5;28;01mtry\u001b[39;00m:\n\u001b[0;32m--> 705\u001b[0m         \u001b[38;5;28;01mreturn\u001b[39;00m \u001b[38;5;28;43mself\u001b[39;49m\u001b[38;5;241;43m.\u001b[39;49m\u001b[43m_sock\u001b[49m\u001b[38;5;241;43m.\u001b[39;49m\u001b[43mrecv_into\u001b[49m\u001b[43m(\u001b[49m\u001b[43mb\u001b[49m\u001b[43m)\u001b[49m\n\u001b[1;32m    706\u001b[0m     \u001b[38;5;28;01mexcept\u001b[39;00m timeout:\n\u001b[1;32m    707\u001b[0m         \u001b[38;5;28mself\u001b[39m\u001b[38;5;241m.\u001b[39m_timeout_occurred \u001b[38;5;241m=\u001b[39m \u001b[38;5;28;01mTrue\u001b[39;00m\n",
      "File \u001b[0;32m/opt/homebrew/Caskroom/miniforge/base/envs/dojo-env/lib/python3.10/ssl.py:1274\u001b[0m, in \u001b[0;36mSSLSocket.recv_into\u001b[0;34m(self, buffer, nbytes, flags)\u001b[0m\n\u001b[1;32m   1270\u001b[0m     \u001b[38;5;28;01mif\u001b[39;00m flags \u001b[38;5;241m!=\u001b[39m \u001b[38;5;241m0\u001b[39m:\n\u001b[1;32m   1271\u001b[0m         \u001b[38;5;28;01mraise\u001b[39;00m \u001b[38;5;167;01mValueError\u001b[39;00m(\n\u001b[1;32m   1272\u001b[0m           \u001b[38;5;124m\"\u001b[39m\u001b[38;5;124mnon-zero flags not allowed in calls to recv_into() on \u001b[39m\u001b[38;5;132;01m%s\u001b[39;00m\u001b[38;5;124m\"\u001b[39m \u001b[38;5;241m%\u001b[39m\n\u001b[1;32m   1273\u001b[0m           \u001b[38;5;28mself\u001b[39m\u001b[38;5;241m.\u001b[39m\u001b[38;5;18m__class__\u001b[39m)\n\u001b[0;32m-> 1274\u001b[0m     \u001b[38;5;28;01mreturn\u001b[39;00m \u001b[38;5;28;43mself\u001b[39;49m\u001b[38;5;241;43m.\u001b[39;49m\u001b[43mread\u001b[49m\u001b[43m(\u001b[49m\u001b[43mnbytes\u001b[49m\u001b[43m,\u001b[49m\u001b[43m \u001b[49m\u001b[43mbuffer\u001b[49m\u001b[43m)\u001b[49m\n\u001b[1;32m   1275\u001b[0m \u001b[38;5;28;01melse\u001b[39;00m:\n\u001b[1;32m   1276\u001b[0m     \u001b[38;5;28;01mreturn\u001b[39;00m \u001b[38;5;28msuper\u001b[39m()\u001b[38;5;241m.\u001b[39mrecv_into(buffer, nbytes, flags)\n",
      "File \u001b[0;32m/opt/homebrew/Caskroom/miniforge/base/envs/dojo-env/lib/python3.10/ssl.py:1130\u001b[0m, in \u001b[0;36mSSLSocket.read\u001b[0;34m(self, len, buffer)\u001b[0m\n\u001b[1;32m   1128\u001b[0m \u001b[38;5;28;01mtry\u001b[39;00m:\n\u001b[1;32m   1129\u001b[0m     \u001b[38;5;28;01mif\u001b[39;00m buffer \u001b[38;5;129;01mis\u001b[39;00m \u001b[38;5;129;01mnot\u001b[39;00m \u001b[38;5;28;01mNone\u001b[39;00m:\n\u001b[0;32m-> 1130\u001b[0m         \u001b[38;5;28;01mreturn\u001b[39;00m \u001b[38;5;28;43mself\u001b[39;49m\u001b[38;5;241;43m.\u001b[39;49m\u001b[43m_sslobj\u001b[49m\u001b[38;5;241;43m.\u001b[39;49m\u001b[43mread\u001b[49m\u001b[43m(\u001b[49m\u001b[38;5;28;43mlen\u001b[39;49m\u001b[43m,\u001b[49m\u001b[43m \u001b[49m\u001b[43mbuffer\u001b[49m\u001b[43m)\u001b[49m\n\u001b[1;32m   1131\u001b[0m     \u001b[38;5;28;01melse\u001b[39;00m:\n\u001b[1;32m   1132\u001b[0m         \u001b[38;5;28;01mreturn\u001b[39;00m \u001b[38;5;28mself\u001b[39m\u001b[38;5;241m.\u001b[39m_sslobj\u001b[38;5;241m.\u001b[39mread(\u001b[38;5;28mlen\u001b[39m)\n",
      "\u001b[0;31mKeyboardInterrupt\u001b[0m: "
     ]
    }
   ],
   "source": [
    "import os\n",
    "# Start of OUTER loop\n",
    "if SAVE_TO_DISK_FIRST==True:\n",
    "    print('- Since SAVE_TO_DISK_FIRST is True, will save each movie to disk.')\n",
    "else:\n",
    "    print('- Since SAVE_TO_DISK_FIRST is False, will append each movie to list.')\n",
    "\n",
    "now = dt.datetime.now(tz=tzlocal.get_localzone())\n",
    "print(f\"\\n[i] API Calls started on {now.strftime('%m-%D-%Y')} @ {now.strftime('%I:%M:%S %p')}\")\n",
    "\n",
    "\n",
    "\n",
    "for YEAR in tqdm_notebook(YEARS_TO_GET,desc='YEARS',\n",
    "                          position=0):\n",
    "    \n",
    "\n",
    "    #Saving new year as the current df\n",
    "    df = basics.loc[ basics['startYear']==YEAR].copy()\n",
    "    # saving movie ids to list\n",
    "    movie_ids = df['tconst'].copy()#.to_list()\n",
    "    \n",
    "    \n",
    "   ## if saving each movie to disk\n",
    "    if SAVE_TO_DISK_FIRST:\n",
    "\n",
    "        #Defining the JSON file to store results for year\n",
    "        JSON_FILE = f'{FOLDER}tmdb_api_results_{YEAR}.json'\n",
    "\n",
    "        # Check if file exists\n",
    "        file_exists = os.path.isfile(JSON_FILE)\n",
    "\n",
    "\n",
    "        # If it does not exist: create it\n",
    "        if file_exists == False:\n",
    "        # save an empty dict with just \"imdb_id\" to the new json file.\n",
    "            with open(JSON_FILE,'w') as f:\n",
    "                json.dump([{'imdb_id':0}],f)\n",
    "\n",
    "\n",
    "        # Load existing data from json into a dataframe called \"previous_df\"\n",
    "        previous_df = pd.read_json(JSON_FILE)\n",
    "\n",
    "\n",
    "        # filter out any ids that are already in the JSON_FILE\n",
    "        movie_ids_to_get = movie_ids[~movie_ids.isin(previous_df['imdb_id'])]\n",
    "\n",
    "    ## if append to list insteead of saving .json\n",
    "    else:\n",
    "        ## Make list to append data to instead of saving to file\n",
    "        year_data = []\n",
    "        ## use all movie_ids from basicsß\n",
    "        movie_ids_to_get = movie_ids\n",
    "        \n",
    "        \n",
    "        \n",
    "    #Get index and movie id from list\n",
    "    # INNER Loop\n",
    "    for movie_id in tqdm_notebook(movie_ids_to_get,\n",
    "                                  desc=f'Movies from {YEAR}',\n",
    "                                  position=1,\n",
    "                                  leave=True):\n",
    "        # Attempt to retrieve then data for the movie id\n",
    "        try:\n",
    "            temp = get_movie_with_rating(movie_id)  #This uses your pre-ma    de function\n",
    "            # Append/extend results to existing file using a pre-made function\n",
    "            \n",
    "            ## Save to json_file if advanced workflow\n",
    "            if SAVE_TO_DISK_FIRST:\n",
    "                \n",
    "                pf.write_json(temp,JSON_FILE)\n",
    "                \n",
    "            else:\n",
    "                year_data.append(temp)\n",
    "                \n",
    "            \n",
    "            # Short 10 ms sleep to prevent overwhelming server\n",
    "            time.sleep(0.01)\n",
    "\n",
    "        # If it fails,  append error message with id to json\n",
    "        except Exception as e:\n",
    "            temp = {'movie_id':movie_id,'error':str(e)}\n",
    "            pf.write_json(temp, ERROR_LOG)\n",
    "            continue\n",
    "\n",
    "    ## FINAL SAVING OF YEAR DATA\n",
    "    if SAVE_TO_DISK_FIRST:\n",
    "        final_year_df = pd.read_json(JSON_FILE)\n",
    "        \n",
    "    else:\n",
    "        final_year_df = pd.DataFrame(year_data)\n",
    "    \n",
    "    ## save compressed csv\n",
    "    csv_fname = f\"{FOLDER}final_tmdb_data_{YEAR}.csv.gz\"\n",
    "    final_year_df.to_csv(csv_fname, compression=\"gzip\", index=False)\n"
   ]
  },
  {
   "cell_type": "markdown",
   "id": "9dffd1f2",
   "metadata": {},
   "source": [
    "- Analysis continued in \"Part 2B - EDA Overview of TMDB Data.ipynb\""
   ]
  },
  {
   "cell_type": "markdown",
   "id": "15143efe-4be4-4ab9-b25e-9cc017238409",
   "metadata": {},
   "source": [
    "### Future To Do:\n",
    "- Save an entry with just the movie id if there is no information found in the api"
   ]
  }
 ],
 "metadata": {
  "kernelspec": {
   "display_name": "Python (dojo-env)",
   "language": "python",
   "name": "dojo-env"
  },
  "language_info": {
   "codemirror_mode": {
    "name": "ipython",
    "version": 3
   },
   "file_extension": ".py",
   "mimetype": "text/x-python",
   "name": "python",
   "nbconvert_exporter": "python",
   "pygments_lexer": "ipython3",
   "version": "3.10.10"
  },
  "toc": {
   "base_numbering": 1,
   "nav_menu": {},
   "number_sections": false,
   "sideBar": true,
   "skip_h1_title": false,
   "title_cell": "Table of Contents",
   "title_sidebar": "Contents",
   "toc_cell": false,
   "toc_position": {},
   "toc_section_display": true,
   "toc_window_display": true
  },
  "widgets": {
   "application/vnd.jupyter.widget-state+json": {
    "state": {
     "008fc18e526649dab0b24f566371dddf": {
      "model_module": "@jupyter-widgets/controls",
      "model_module_version": "1.5.0",
      "model_name": "ProgressStyleModel",
      "state": {
       "description_width": ""
      }
     },
     "016d727ffb3846dba53a7eaa2b91c1d7": {
      "model_module": "@jupyter-widgets/base",
      "model_module_version": "1.2.0",
      "model_name": "LayoutModel",
      "state": {}
     },
     "01f176ac2f9448a2be44c103e2ec7110": {
      "model_module": "@jupyter-widgets/base",
      "model_module_version": "1.2.0",
      "model_name": "LayoutModel",
      "state": {}
     },
     "0249fc03995f451c85a02f4855ded2d9": {
      "model_module": "@jupyter-widgets/base",
      "model_module_version": "1.2.0",
      "model_name": "LayoutModel",
      "state": {}
     },
     "02d96775e8644272bb1fb1bfdcc92a6d": {
      "model_module": "@jupyter-widgets/controls",
      "model_module_version": "1.5.0",
      "model_name": "DescriptionStyleModel",
      "state": {
       "description_width": ""
      }
     },
     "0353ca127ca64fccbf03a86f72f6574b": {
      "model_module": "@jupyter-widgets/base",
      "model_module_version": "1.2.0",
      "model_name": "LayoutModel",
      "state": {}
     },
     "039d034e89e144e6a72a4a04a9f6fa4f": {
      "model_module": "@jupyter-widgets/controls",
      "model_module_version": "1.5.0",
      "model_name": "DescriptionStyleModel",
      "state": {
       "description_width": ""
      }
     },
     "03bc0c8afea44af2808c4319435632c5": {
      "model_module": "@jupyter-widgets/controls",
      "model_module_version": "1.5.0",
      "model_name": "HTMLModel",
      "state": {
       "layout": "IPY_MODEL_b21a88e6e43943c0b2f01edb3c49f78b",
       "style": "IPY_MODEL_97e9f077f4c446488d9b204a40bba503",
       "value": " 3486/3486 [17:25&lt;00:00,  3.90it/s]"
      }
     },
     "040aab0051f14cad90765dbe57af4b4f": {
      "model_module": "@jupyter-widgets/controls",
      "model_module_version": "1.5.0",
      "model_name": "HTMLModel",
      "state": {
       "layout": "IPY_MODEL_eebbd8ef129442828172e8f0786a6d6e",
       "style": "IPY_MODEL_35aeea69b948454eb3c4a9c32682a13a",
       "value": "Movies from 2007: 100%"
      }
     },
     "042b4a45927f4a5db86907af202d4914": {
      "model_module": "@jupyter-widgets/controls",
      "model_module_version": "1.5.0",
      "model_name": "ProgressStyleModel",
      "state": {
       "description_width": ""
      }
     },
     "0468974265e643caace10d37c9305382": {
      "model_module": "@jupyter-widgets/controls",
      "model_module_version": "1.5.0",
      "model_name": "FloatProgressModel",
      "state": {
       "bar_style": "success",
       "layout": "IPY_MODEL_3fc9cac463b34349bf5cdc123e8ec56a",
       "max": 7055,
       "style": "IPY_MODEL_862fbdeccb474c3eb71d93c2e0e167dd",
       "value": 7055
      }
     },
     "04db38ff0ef24b70a1835e49b456d6c1": {
      "model_module": "@jupyter-widgets/controls",
      "model_module_version": "1.5.0",
      "model_name": "DescriptionStyleModel",
      "state": {
       "description_width": ""
      }
     },
     "058de37a9c1240b9a3c91014477ee208": {
      "model_module": "@jupyter-widgets/controls",
      "model_module_version": "1.5.0",
      "model_name": "DescriptionStyleModel",
      "state": {
       "description_width": ""
      }
     },
     "0597051d72d44a2fa2dc696f46145481": {
      "model_module": "@jupyter-widgets/controls",
      "model_module_version": "1.5.0",
      "model_name": "DescriptionStyleModel",
      "state": {
       "description_width": ""
      }
     },
     "06a2ce5ed2b34e31ab918eb6c17f62be": {
      "model_module": "@jupyter-widgets/controls",
      "model_module_version": "1.5.0",
      "model_name": "HTMLModel",
      "state": {
       "layout": "IPY_MODEL_6a2823d84699415585a0143a81c817da",
       "style": "IPY_MODEL_89414148460c452a8781f141209f4647",
       "value": "Movies from 2016: 100%"
      }
     },
     "07ea0de8d37e4ff4ae3834f1659cb281": {
      "model_module": "@jupyter-widgets/controls",
      "model_module_version": "1.5.0",
      "model_name": "FloatProgressModel",
      "state": {
       "bar_style": "success",
       "layout": "IPY_MODEL_f9d02a79da75426b8504e3bca3eed850",
       "max": 3486,
       "style": "IPY_MODEL_042b4a45927f4a5db86907af202d4914",
       "value": 3486
      }
     },
     "0891c8d630b748a79a365eda77b4c1c0": {
      "model_module": "@jupyter-widgets/controls",
      "model_module_version": "1.5.0",
      "model_name": "HTMLModel",
      "state": {
       "layout": "IPY_MODEL_8f7fd0a79b834b0d99b451ff8c2e7b01",
       "style": "IPY_MODEL_fba7beef427a4a53bd87f731806dbb9e",
       "value": " 7591/7591 [40:15&lt;00:00,  4.40it/s]"
      }
     },
     "09753eb802b84962b84f0f566e8831ec": {
      "model_module": "@jupyter-widgets/controls",
      "model_module_version": "1.5.0",
      "model_name": "FloatProgressModel",
      "state": {
       "bar_style": "danger",
       "layout": "IPY_MODEL_0249fc03995f451c85a02f4855ded2d9",
       "max": 1725,
       "style": "IPY_MODEL_94120160e8284226becaacfac4f24d5a",
       "value": 12
      }
     },
     "097c346ed393475785f93917794291ee": {
      "model_module": "@jupyter-widgets/base",
      "model_module_version": "1.2.0",
      "model_name": "LayoutModel",
      "state": {}
     },
     "09f7475d63d84a64920aa4e3441bb8e1": {
      "model_module": "@jupyter-widgets/base",
      "model_module_version": "1.2.0",
      "model_name": "LayoutModel",
      "state": {}
     },
     "0a806471cd22470bbc5efebf1c513d07": {
      "model_module": "@jupyter-widgets/controls",
      "model_module_version": "1.5.0",
      "model_name": "DescriptionStyleModel",
      "state": {
       "description_width": ""
      }
     },
     "0b57d631428644dab8ca433b6d040545": {
      "model_module": "@jupyter-widgets/controls",
      "model_module_version": "1.5.0",
      "model_name": "HBoxModel",
      "state": {
       "children": [
        "IPY_MODEL_58c58ba1d89d46d99fec6ad889a0f482",
        "IPY_MODEL_b946d7ef700f4a8980213efa54158118",
        "IPY_MODEL_0891c8d630b748a79a365eda77b4c1c0"
       ],
       "layout": "IPY_MODEL_210545e7f77a44e193eaaa20d44d18d3"
      }
     },
     "0bcba19953a24071be48f5b588843b7e": {
      "model_module": "@jupyter-widgets/controls",
      "model_module_version": "1.5.0",
      "model_name": "HTMLModel",
      "state": {
       "layout": "IPY_MODEL_948ef126222e470f8fc2f0cc4da2eadc",
       "style": "IPY_MODEL_69963fcbd2564406920a5397942ac1cf",
       "value": " 1859/1859 [09:29&lt;00:00,  6.00it/s]"
      }
     },
     "0c1b7e8e51534df39e24df438584acec": {
      "model_module": "@jupyter-widgets/base",
      "model_module_version": "1.2.0",
      "model_name": "LayoutModel",
      "state": {}
     },
     "0cf423ba0ea64bcc979b75992e62de27": {
      "model_module": "@jupyter-widgets/controls",
      "model_module_version": "1.5.0",
      "model_name": "HTMLModel",
      "state": {
       "layout": "IPY_MODEL_4f97817dc3c2405ea0aede0b3cafcb74",
       "style": "IPY_MODEL_ffc7f0cb207b4129bdd21989409df39c",
       "value": "YEARS:   0%"
      }
     },
     "0d173fe26cfa4f1aba2d19ddceead846": {
      "model_module": "@jupyter-widgets/controls",
      "model_module_version": "1.5.0",
      "model_name": "DescriptionStyleModel",
      "state": {
       "description_width": ""
      }
     },
     "0d414fd4f94b406f8f7164a3bb33eab0": {
      "model_module": "@jupyter-widgets/controls",
      "model_module_version": "1.5.0",
      "model_name": "HTMLModel",
      "state": {
       "layout": "IPY_MODEL_f250dc67a8c74f219710001243d1d9ee",
       "style": "IPY_MODEL_1852f9d5791a4f5e93b13da756f501d6",
       "value": " 5991/5991 [30:55&lt;00:00,  3.70it/s]"
      }
     },
     "0d7228ce47c342049f1c5033498d987b": {
      "model_module": "@jupyter-widgets/base",
      "model_module_version": "1.2.0",
      "model_name": "LayoutModel",
      "state": {}
     },
     "0dce55e045f747728e0e3a9f519b0061": {
      "model_module": "@jupyter-widgets/controls",
      "model_module_version": "1.5.0",
      "model_name": "ProgressStyleModel",
      "state": {
       "description_width": ""
      }
     },
     "0e253fe576b644c0afb8ab87bc65cf59": {
      "model_module": "@jupyter-widgets/base",
      "model_module_version": "1.2.0",
      "model_name": "LayoutModel",
      "state": {}
     },
     "0e5391677dd94dc3891e5f526cbafacf": {
      "model_module": "@jupyter-widgets/controls",
      "model_module_version": "1.5.0",
      "model_name": "HTMLModel",
      "state": {
       "layout": "IPY_MODEL_b649ea2867dd41a8ad1a1132fa4c05c1",
       "style": "IPY_MODEL_2e590ca24d8844a3b764d43c25e4d7e6",
       "value": " 7234/7234 [37:59&lt;00:00,  4.27it/s]"
      }
     },
     "0e74b07a8a3b4e4f8ee0c14c76bcae43": {
      "model_module": "@jupyter-widgets/base",
      "model_module_version": "1.2.0",
      "model_name": "LayoutModel",
      "state": {}
     },
     "0ec890d2eaf24f14bc2d6c4ebbf05797": {
      "model_module": "@jupyter-widgets/controls",
      "model_module_version": "1.5.0",
      "model_name": "DescriptionStyleModel",
      "state": {
       "description_width": ""
      }
     },
     "0ed50bb85888489abb8223dd1e146154": {
      "model_module": "@jupyter-widgets/controls",
      "model_module_version": "1.5.0",
      "model_name": "HBoxModel",
      "state": {
       "children": [
        "IPY_MODEL_644c819eddf34bd4a29efb08abf346a0",
        "IPY_MODEL_09753eb802b84962b84f0f566e8831ec",
        "IPY_MODEL_553b7b228e9446b5b9c527d8ce3e7d09"
       ],
       "layout": "IPY_MODEL_e87d35ac365d422eaf47f2c2ddeab1fb"
      }
     },
     "0f4c172fc2c74e81b7d1245101d2ed01": {
      "model_module": "@jupyter-widgets/base",
      "model_module_version": "1.2.0",
      "model_name": "LayoutModel",
      "state": {}
     },
     "0fee0f381fa64402b913d64dfb24b411": {
      "model_module": "@jupyter-widgets/base",
      "model_module_version": "1.2.0",
      "model_name": "LayoutModel",
      "state": {}
     },
     "1051e2a9e7bb4231baed790ebdbff70f": {
      "model_module": "@jupyter-widgets/controls",
      "model_module_version": "1.5.0",
      "model_name": "DescriptionStyleModel",
      "state": {
       "description_width": ""
      }
     },
     "105478ed4a5a4fb7a2a44a49a04d7ea9": {
      "model_module": "@jupyter-widgets/base",
      "model_module_version": "1.2.0",
      "model_name": "LayoutModel",
      "state": {}
     },
     "111dd827d5b44a4e8ff55b1908ec9ab6": {
      "model_module": "@jupyter-widgets/base",
      "model_module_version": "1.2.0",
      "model_name": "LayoutModel",
      "state": {}
     },
     "11db85c508eb44d488bd2b06f1b75d95": {
      "model_module": "@jupyter-widgets/base",
      "model_module_version": "1.2.0",
      "model_name": "LayoutModel",
      "state": {}
     },
     "123ad83ce3d24db7811861f9c7101b35": {
      "model_module": "@jupyter-widgets/base",
      "model_module_version": "1.2.0",
      "model_name": "LayoutModel",
      "state": {}
     },
     "125369999c7b4766aca1160b5afb64e6": {
      "model_module": "@jupyter-widgets/controls",
      "model_module_version": "1.5.0",
      "model_name": "HBoxModel",
      "state": {
       "children": [
        "IPY_MODEL_a3d0cb10bde742bf9e0d84ec7385ad9a",
        "IPY_MODEL_87a632f3caa74f97a37614b2cf0cfe20",
        "IPY_MODEL_be073d6b00694e3eb7380cfd6be05777"
       ],
       "layout": "IPY_MODEL_978bdaefdc1649ab92701a4055cdbc9c"
      }
     },
     "137b858200a2445ba50e95431374b898": {
      "model_module": "@jupyter-widgets/controls",
      "model_module_version": "1.5.0",
      "model_name": "HBoxModel",
      "state": {
       "children": [
        "IPY_MODEL_deb82c581bfd4acbb83ccefb42f707a5",
        "IPY_MODEL_1589e5dce27c4c6c82e74f42ef3796f3",
        "IPY_MODEL_556535a5c5ca4bf8aca84e8494edc6fb"
       ],
       "layout": "IPY_MODEL_0f4c172fc2c74e81b7d1245101d2ed01"
      }
     },
     "1399d8c942794438baf84079ae95d8ea": {
      "model_module": "@jupyter-widgets/controls",
      "model_module_version": "1.5.0",
      "model_name": "HTMLModel",
      "state": {
       "layout": "IPY_MODEL_bb4ebf62914c48be9105b105ce812476",
       "style": "IPY_MODEL_748fcb13e4d14044a8da9cbf2f38291b",
       "value": "Movies from 2011: 100%"
      }
     },
     "1428a0ee56584df1bf54f44ebf68f677": {
      "model_module": "@jupyter-widgets/base",
      "model_module_version": "1.2.0",
      "model_name": "LayoutModel",
      "state": {}
     },
     "14a5d96cb7324448bc7ed60a185dc777": {
      "model_module": "@jupyter-widgets/base",
      "model_module_version": "1.2.0",
      "model_name": "LayoutModel",
      "state": {}
     },
     "1589e5dce27c4c6c82e74f42ef3796f3": {
      "model_module": "@jupyter-widgets/controls",
      "model_module_version": "1.5.0",
      "model_name": "FloatProgressModel",
      "state": {
       "bar_style": "success",
       "layout": "IPY_MODEL_479a06220d22450091eebf563e48cf95",
       "max": 2,
       "style": "IPY_MODEL_5cbebd708a754eb19d9d5d1fc901d7d7",
       "value": 2
      }
     },
     "158c15c3006c4738ace546f2f81a6d3d": {
      "model_module": "@jupyter-widgets/controls",
      "model_module_version": "1.5.0",
      "model_name": "FloatProgressModel",
      "state": {
       "bar_style": "danger",
       "layout": "IPY_MODEL_a539c3af62384721af08a3f4cc3cd424",
       "max": 23,
       "style": "IPY_MODEL_cc1224c13941471b8e79bf491350af64"
      }
     },
     "163c47fb252e4a4e9fac60c14def001d": {
      "model_module": "@jupyter-widgets/controls",
      "model_module_version": "1.5.0",
      "model_name": "HTMLModel",
      "state": {
       "layout": "IPY_MODEL_edbd9aca172946a190440da3b86716d8",
       "style": "IPY_MODEL_c24d52c4470f46bf9eb7bbe0257bbb8b",
       "value": "Movies from 2020: 100%"
      }
     },
     "1642cf4d9eec4847af6ce57ea29a8428": {
      "model_module": "@jupyter-widgets/controls",
      "model_module_version": "1.5.0",
      "model_name": "DescriptionStyleModel",
      "state": {
       "description_width": ""
      }
     },
     "165909954cbd4f5abfb364a4471f0bde": {
      "model_module": "@jupyter-widgets/controls",
      "model_module_version": "1.5.0",
      "model_name": "ProgressStyleModel",
      "state": {
       "description_width": ""
      }
     },
     "170aa42bc5d845c88f46d44fee4f0fb1": {
      "model_module": "@jupyter-widgets/base",
      "model_module_version": "1.2.0",
      "model_name": "LayoutModel",
      "state": {}
     },
     "17228ddb3ecc44399d71674e6172486d": {
      "model_module": "@jupyter-widgets/controls",
      "model_module_version": "1.5.0",
      "model_name": "HBoxModel",
      "state": {
       "children": [
        "IPY_MODEL_d5393ae9b58b4194a918c112134eec86",
        "IPY_MODEL_31a323c267f84d6f89b4ade97e494e79",
        "IPY_MODEL_597421918d304f68bd477016d31affc6"
       ],
       "layout": "IPY_MODEL_c7a6de7116f54de79daebd241861a68d"
      }
     },
     "17480d642614471aaed149d48c5780ab": {
      "model_module": "@jupyter-widgets/controls",
      "model_module_version": "1.5.0",
      "model_name": "HBoxModel",
      "state": {
       "children": [
        "IPY_MODEL_163c47fb252e4a4e9fac60c14def001d",
        "IPY_MODEL_f2232f88a2524d6ea2cf84cfcb59822e",
        "IPY_MODEL_cc77626cb64842efbe6dd03d1ede8903"
       ],
       "layout": "IPY_MODEL_e34877bc0e5946169b1720f166c02e90"
      }
     },
     "1796c4128b4e49b78d320e5514a9726f": {
      "model_module": "@jupyter-widgets/controls",
      "model_module_version": "1.5.0",
      "model_name": "HBoxModel",
      "state": {
       "children": [
        "IPY_MODEL_d67b504ade03444cbf0b504b0de9e966",
        "IPY_MODEL_f7b6dea2a1ed4ad18c9bb9fd368740ec",
        "IPY_MODEL_60081fee0e6d4ba6865e4559197ab365"
       ],
       "layout": "IPY_MODEL_beaa8f32f96d4c4d990d3f3212c12de4"
      }
     },
     "1852f9d5791a4f5e93b13da756f501d6": {
      "model_module": "@jupyter-widgets/controls",
      "model_module_version": "1.5.0",
      "model_name": "DescriptionStyleModel",
      "state": {
       "description_width": ""
      }
     },
     "1858ee19313d4bb791512e1a2e58e2ff": {
      "model_module": "@jupyter-widgets/controls",
      "model_module_version": "1.5.0",
      "model_name": "HTMLModel",
      "state": {
       "layout": "IPY_MODEL_0fee0f381fa64402b913d64dfb24b411",
       "style": "IPY_MODEL_3226b4eca834475899fd9e3f83d9b1b5",
       "value": " 2318/2318 [12:28&lt;00:00,  3.45it/s]"
      }
     },
     "18f81cb532294d79864bb69483c5f68a": {
      "model_module": "@jupyter-widgets/base",
      "model_module_version": "1.2.0",
      "model_name": "LayoutModel",
      "state": {}
     },
     "19b5666da6ec479d9ee4b8f6e4fcf65c": {
      "model_module": "@jupyter-widgets/controls",
      "model_module_version": "1.5.0",
      "model_name": "FloatProgressModel",
      "state": {
       "bar_style": "success",
       "layout": "IPY_MODEL_745e853c24c74d3d9e55ab8830fccc26",
       "max": 7648,
       "style": "IPY_MODEL_42f0a6db3a424aeb9748485ec7f9ac96",
       "value": 7648
      }
     },
     "1a40e865230e42328634ca523a297ee6": {
      "model_module": "@jupyter-widgets/controls",
      "model_module_version": "1.5.0",
      "model_name": "HBoxModel",
      "state": {
       "children": [
        "IPY_MODEL_47a6853aab304cb8b07d66c863c33fc2",
        "IPY_MODEL_e8de5458f7fe437eb3dc38046ff39257",
        "IPY_MODEL_b15b034bc1b349bab6f3d509dd73988a"
       ],
       "layout": "IPY_MODEL_a9beb68070684f2bbf734f35a6e7b040"
      }
     },
     "1b7dae76d7e240c8be356dcf429c82a7": {
      "model_module": "@jupyter-widgets/controls",
      "model_module_version": "1.5.0",
      "model_name": "DescriptionStyleModel",
      "state": {
       "description_width": ""
      }
     },
     "1e33bf3beda74ef5b65703c8111ffe98": {
      "model_module": "@jupyter-widgets/controls",
      "model_module_version": "1.5.0",
      "model_name": "HBoxModel",
      "state": {
       "children": [
        "IPY_MODEL_b58922ffa1a145b1b01bfdbd16e4b0c3",
        "IPY_MODEL_e5a8aaaff19f4d9faaf83b9af5327260",
        "IPY_MODEL_d0c7e5db107b439f80ca9882c8539e09"
       ],
       "layout": "IPY_MODEL_3627f1e02d7943d9aa6d86e10914e1db"
      }
     },
     "1e3de8cce9434c6da1c325a5f76eae7b": {
      "model_module": "@jupyter-widgets/controls",
      "model_module_version": "1.5.0",
      "model_name": "ProgressStyleModel",
      "state": {
       "description_width": ""
      }
     },
     "1e8fadfc45234aedb624adb398019713": {
      "model_module": "@jupyter-widgets/base",
      "model_module_version": "1.2.0",
      "model_name": "LayoutModel",
      "state": {}
     },
     "1f4e21ff0fff4d199a8d3fc3d59a9ebd": {
      "model_module": "@jupyter-widgets/controls",
      "model_module_version": "1.5.0",
      "model_name": "HBoxModel",
      "state": {
       "children": [
        "IPY_MODEL_aec07bffdddd4cec87bbb1901a2a602a",
        "IPY_MODEL_c0fcee6ad60a4df58e51efbe283652c3",
        "IPY_MODEL_1858ee19313d4bb791512e1a2e58e2ff"
       ],
       "layout": "IPY_MODEL_369ff856ce274a1bbd18e0b994c92063"
      }
     },
     "207dd889870c47bc84e4db4e56ffdc0d": {
      "model_module": "@jupyter-widgets/base",
      "model_module_version": "1.2.0",
      "model_name": "LayoutModel",
      "state": {}
     },
     "20b0ffa2350d4893b0bddea485981e25": {
      "model_module": "@jupyter-widgets/controls",
      "model_module_version": "1.5.0",
      "model_name": "HBoxModel",
      "state": {
       "children": [
        "IPY_MODEL_32a9b5649e0f4b03b5c4d8aa36aa465d",
        "IPY_MODEL_ce0878fae4a947b09807aee1447eefed",
        "IPY_MODEL_37a87db2cfb448e7a405b23e8547aa8d"
       ],
       "layout": "IPY_MODEL_252df01876ce488da6cd6589c61adf2a"
      }
     },
     "210545e7f77a44e193eaaa20d44d18d3": {
      "model_module": "@jupyter-widgets/base",
      "model_module_version": "1.2.0",
      "model_name": "LayoutModel",
      "state": {}
     },
     "21283bcc08654a0491d12a1335b8d445": {
      "model_module": "@jupyter-widgets/base",
      "model_module_version": "1.2.0",
      "model_name": "LayoutModel",
      "state": {}
     },
     "229e639e648843d998081775630b88e7": {
      "model_module": "@jupyter-widgets/base",
      "model_module_version": "1.2.0",
      "model_name": "LayoutModel",
      "state": {}
     },
     "22be3a3165844ec09eb78bbb06e5ca7d": {
      "model_module": "@jupyter-widgets/controls",
      "model_module_version": "1.5.0",
      "model_name": "DescriptionStyleModel",
      "state": {
       "description_width": ""
      }
     },
     "236f625b118f418c9d6aa6631a907899": {
      "model_module": "@jupyter-widgets/controls",
      "model_module_version": "1.5.0",
      "model_name": "HTMLModel",
      "state": {
       "layout": "IPY_MODEL_bdd36b45e44149e6b6be1c68bbaab483",
       "style": "IPY_MODEL_420481614ffc4c4cb7d65d638a5843cf",
       "value": " 2435/2435 [11:33&lt;00:00,  5.32it/s]"
      }
     },
     "24ec418552984a8d9a37cf259ae1e566": {
      "model_module": "@jupyter-widgets/base",
      "model_module_version": "1.2.0",
      "model_name": "LayoutModel",
      "state": {}
     },
     "252df01876ce488da6cd6589c61adf2a": {
      "model_module": "@jupyter-widgets/base",
      "model_module_version": "1.2.0",
      "model_name": "LayoutModel",
      "state": {}
     },
     "25b7d7c0d179460e964f5c40292f6130": {
      "model_module": "@jupyter-widgets/base",
      "model_module_version": "1.2.0",
      "model_name": "LayoutModel",
      "state": {}
     },
     "25c6f32f72914d19ac26368ebed2b734": {
      "model_module": "@jupyter-widgets/controls",
      "model_module_version": "1.5.0",
      "model_name": "ProgressStyleModel",
      "state": {
       "description_width": ""
      }
     },
     "25c8f1df824648ed8027e35f4c00bba8": {
      "model_module": "@jupyter-widgets/controls",
      "model_module_version": "1.5.0",
      "model_name": "DescriptionStyleModel",
      "state": {
       "description_width": ""
      }
     },
     "26f61065713c43769c63ce3d303bb177": {
      "model_module": "@jupyter-widgets/controls",
      "model_module_version": "1.5.0",
      "model_name": "DescriptionStyleModel",
      "state": {
       "description_width": ""
      }
     },
     "27a0adb8dada498b918a96a90ee963be": {
      "model_module": "@jupyter-widgets/controls",
      "model_module_version": "1.5.0",
      "model_name": "HTMLModel",
      "state": {
       "layout": "IPY_MODEL_87b36da071c94c8f94101e584fe5021a",
       "style": "IPY_MODEL_f3d9dc8ca1694a5ea12916fb23b4cf22",
       "value": "Movies from 2000: 100%"
      }
     },
     "283f815b1866435189c9809d8c0d53d9": {
      "model_module": "@jupyter-widgets/controls",
      "model_module_version": "1.5.0",
      "model_name": "DescriptionStyleModel",
      "state": {
       "description_width": ""
      }
     },
     "2877c0ebb95e4ed18efa70940ad7ab32": {
      "model_module": "@jupyter-widgets/controls",
      "model_module_version": "1.5.0",
      "model_name": "FloatProgressModel",
      "state": {
       "bar_style": "success",
       "layout": "IPY_MODEL_9712fa9229bb4273b936a254dc79c8f4",
       "max": 1517,
       "style": "IPY_MODEL_c47f01a06eb44c6fb0caf8e305624d94",
       "value": 1517
      }
     },
     "29b870a92638453790c344fb145e8889": {
      "model_module": "@jupyter-widgets/base",
      "model_module_version": "1.2.0",
      "model_name": "LayoutModel",
      "state": {}
     },
     "2a1125448e6a403dafe1dab7deea3daa": {
      "model_module": "@jupyter-widgets/controls",
      "model_module_version": "1.5.0",
      "model_name": "DescriptionStyleModel",
      "state": {
       "description_width": ""
      }
     },
     "2af5a9f933c44de69cd9981beaed0fe8": {
      "model_module": "@jupyter-widgets/controls",
      "model_module_version": "1.5.0",
      "model_name": "HBoxModel",
      "state": {
       "children": [
        "IPY_MODEL_5fa711e1110941529ba0b7e8d59eb103",
        "IPY_MODEL_413ad46ea2ff404c9054bbba3689bb3f",
        "IPY_MODEL_ed26d4415f294a6a8b62f807f03e0ed7"
       ],
       "layout": "IPY_MODEL_b4d7ee9a20b84232862fbf57858f768a"
      }
     },
     "2b39889b86684e9e81a40059bec5e7c1": {
      "model_module": "@jupyter-widgets/base",
      "model_module_version": "1.2.0",
      "model_name": "LayoutModel",
      "state": {}
     },
     "2b4c64610d1d424a8551f8191814c8ed": {
      "model_module": "@jupyter-widgets/base",
      "model_module_version": "1.2.0",
      "model_name": "LayoutModel",
      "state": {}
     },
     "2b8fd1c4c4e94b2cba68dc336175c44a": {
      "model_module": "@jupyter-widgets/base",
      "model_module_version": "1.2.0",
      "model_name": "LayoutModel",
      "state": {}
     },
     "2c18cdde5fb74d42b19765fde21aef1f": {
      "model_module": "@jupyter-widgets/controls",
      "model_module_version": "1.5.0",
      "model_name": "HTMLModel",
      "state": {
       "layout": "IPY_MODEL_dbe6422ab80547859f7acf73c5a0a706",
       "style": "IPY_MODEL_dbd8653c75514d5a870ad0634b45be26",
       "value": " 0/23 [00:06&lt;?, ?it/s]"
      }
     },
     "2ce7888ff3644d3c8d9d7c1073e04b1e": {
      "model_module": "@jupyter-widgets/controls",
      "model_module_version": "1.5.0",
      "model_name": "HBoxModel",
      "state": {
       "children": [
        "IPY_MODEL_9ea041dd2f0d4102bb19ecf217c8ff9c",
        "IPY_MODEL_3caa91efbab5482eb52bd07eb57cbcf8",
        "IPY_MODEL_c12f594473bb474c86045eb178dad0e0"
       ],
       "layout": "IPY_MODEL_6212473a82cf40e2bdd0b0ac00b02dea"
      }
     },
     "2d06aa6af9d94e7c8a8df4eeedecc94f": {
      "model_module": "@jupyter-widgets/base",
      "model_module_version": "1.2.0",
      "model_name": "LayoutModel",
      "state": {}
     },
     "2db915d00bfc45a499cfed9fbc622968": {
      "model_module": "@jupyter-widgets/controls",
      "model_module_version": "1.5.0",
      "model_name": "ProgressStyleModel",
      "state": {
       "description_width": ""
      }
     },
     "2dcc0b9dd1b84d63a7ebc4027dcc5107": {
      "model_module": "@jupyter-widgets/base",
      "model_module_version": "1.2.0",
      "model_name": "LayoutModel",
      "state": {}
     },
     "2dd4dae4bbf647d8a1afc1d87bebf930": {
      "model_module": "@jupyter-widgets/controls",
      "model_module_version": "1.5.0",
      "model_name": "FloatProgressModel",
      "state": {
       "bar_style": "danger",
       "layout": "IPY_MODEL_812907b069f540dcad041435c4fd3ba3",
       "max": 1725,
       "style": "IPY_MODEL_611c130f0a144cb781a716efd506ef80",
       "value": 6
      }
     },
     "2e590ca24d8844a3b764d43c25e4d7e6": {
      "model_module": "@jupyter-widgets/controls",
      "model_module_version": "1.5.0",
      "model_name": "DescriptionStyleModel",
      "state": {
       "description_width": ""
      }
     },
     "2f07f6547c944cf88d205e594c4c7c86": {
      "model_module": "@jupyter-widgets/base",
      "model_module_version": "1.2.0",
      "model_name": "LayoutModel",
      "state": {}
     },
     "2f227cfd30e54a80804b12107316f1e4": {
      "model_module": "@jupyter-widgets/base",
      "model_module_version": "1.2.0",
      "model_name": "LayoutModel",
      "state": {}
     },
     "2fa9c59213db48e19771458cfe24b721": {
      "model_module": "@jupyter-widgets/controls",
      "model_module_version": "1.5.0",
      "model_name": "DescriptionStyleModel",
      "state": {
       "description_width": ""
      }
     },
     "2fb01efbf592487f9bbad7e5d0bc6a95": {
      "model_module": "@jupyter-widgets/controls",
      "model_module_version": "1.5.0",
      "model_name": "DescriptionStyleModel",
      "state": {
       "description_width": ""
      }
     },
     "3073adacef4940e8a1872bb541108bf0": {
      "model_module": "@jupyter-widgets/base",
      "model_module_version": "1.2.0",
      "model_name": "LayoutModel",
      "state": {}
     },
     "315b3aad5c874b3cb72788b1926e94b9": {
      "model_module": "@jupyter-widgets/controls",
      "model_module_version": "1.5.0",
      "model_name": "FloatProgressModel",
      "state": {
       "bar_style": "success",
       "layout": "IPY_MODEL_a31021583a244583b4e07f3933a2f59e",
       "max": 1859,
       "style": "IPY_MODEL_c4f6954e723341858ae3ec96e61e71e2",
       "value": 1859
      }
     },
     "31a323c267f84d6f89b4ade97e494e79": {
      "model_module": "@jupyter-widgets/controls",
      "model_module_version": "1.5.0",
      "model_name": "FloatProgressModel",
      "state": {
       "bar_style": "success",
       "layout": "IPY_MODEL_0d7228ce47c342049f1c5033498d987b",
       "max": 6303,
       "style": "IPY_MODEL_dc3d322c5434404bb59e1df77b18eb0f",
       "value": 6303
      }
     },
     "3226b4eca834475899fd9e3f83d9b1b5": {
      "model_module": "@jupyter-widgets/controls",
      "model_module_version": "1.5.0",
      "model_name": "DescriptionStyleModel",
      "state": {
       "description_width": ""
      }
     },
     "32a9b5649e0f4b03b5c4d8aa36aa465d": {
      "model_module": "@jupyter-widgets/controls",
      "model_module_version": "1.5.0",
      "model_name": "HTMLModel",
      "state": {
       "layout": "IPY_MODEL_56dd669f59cf4e34903add5df31fb1e8",
       "style": "IPY_MODEL_26f61065713c43769c63ce3d303bb177",
       "value": "YEARS:   0%"
      }
     },
     "335cac32bb334207b738223771c98ab2": {
      "model_module": "@jupyter-widgets/controls",
      "model_module_version": "1.5.0",
      "model_name": "ProgressStyleModel",
      "state": {
       "description_width": ""
      }
     },
     "338d969e4b50497d9d7c7bd8a6281533": {
      "model_module": "@jupyter-widgets/base",
      "model_module_version": "1.2.0",
      "model_name": "LayoutModel",
      "state": {}
     },
     "347384823e334713bc8a0ed9210c7060": {
      "model_module": "@jupyter-widgets/base",
      "model_module_version": "1.2.0",
      "model_name": "LayoutModel",
      "state": {}
     },
     "3479d00ba8694c30981c80bbeb756b2e": {
      "model_module": "@jupyter-widgets/controls",
      "model_module_version": "1.5.0",
      "model_name": "DescriptionStyleModel",
      "state": {
       "description_width": ""
      }
     },
     "34f1ec1d8f9d4ce5a40fcf4a59cebd03": {
      "model_module": "@jupyter-widgets/controls",
      "model_module_version": "1.5.0",
      "model_name": "DescriptionStyleModel",
      "state": {
       "description_width": ""
      }
     },
     "3501f69446f8485d9a54304345b5eaa1": {
      "model_module": "@jupyter-widgets/base",
      "model_module_version": "1.2.0",
      "model_name": "LayoutModel",
      "state": {}
     },
     "3505e0ea291b4732bc2db037a3d85f49": {
      "model_module": "@jupyter-widgets/controls",
      "model_module_version": "1.5.0",
      "model_name": "HBoxModel",
      "state": {
       "children": [
        "IPY_MODEL_60819361eddb4a04aad27ed0624db8ba",
        "IPY_MODEL_8ab927a85a45409ca05bcb78e85c64f9",
        "IPY_MODEL_a915cc57074242c29b766250257b46f1"
       ],
       "layout": "IPY_MODEL_d6b19c2777da468f90ffbc131b88ce27"
      }
     },
     "35aeea69b948454eb3c4a9c32682a13a": {
      "model_module": "@jupyter-widgets/controls",
      "model_module_version": "1.5.0",
      "model_name": "DescriptionStyleModel",
      "state": {
       "description_width": ""
      }
     },
     "3627f1e02d7943d9aa6d86e10914e1db": {
      "model_module": "@jupyter-widgets/base",
      "model_module_version": "1.2.0",
      "model_name": "LayoutModel",
      "state": {}
     },
     "369ff856ce274a1bbd18e0b994c92063": {
      "model_module": "@jupyter-widgets/base",
      "model_module_version": "1.2.0",
      "model_name": "LayoutModel",
      "state": {}
     },
     "36edf10c9aa2436a983cbbb4d8b20cd6": {
      "model_module": "@jupyter-widgets/controls",
      "model_module_version": "1.5.0",
      "model_name": "HTMLModel",
      "state": {
       "layout": "IPY_MODEL_e1ed1de9ef51406b8f340dbda7ff7773",
       "style": "IPY_MODEL_d388d50376ad42bd9f3fea6ed3ced9b2",
       "value": "Movies from 2001: 100%"
      }
     },
     "373e2dbc70dd4e7195adc4dccb71b0b7": {
      "model_module": "@jupyter-widgets/controls",
      "model_module_version": "1.5.0",
      "model_name": "ProgressStyleModel",
      "state": {
       "description_width": ""
      }
     },
     "3782e88dc0474306af2a9e057a99f925": {
      "model_module": "@jupyter-widgets/controls",
      "model_module_version": "1.5.0",
      "model_name": "HTMLModel",
      "state": {
       "layout": "IPY_MODEL_4b3925a73bc44b44ab823b49035ec300",
       "style": "IPY_MODEL_c3235a26628643869afe4df72fb3ee6c",
       "value": " 7753/7753 [42:12&lt;00:00,  3.17it/s]"
      }
     },
     "37a87db2cfb448e7a405b23e8547aa8d": {
      "model_module": "@jupyter-widgets/controls",
      "model_module_version": "1.5.0",
      "model_name": "HTMLModel",
      "state": {
       "layout": "IPY_MODEL_ba1f50a9a9134b0f9acc064a5f83b7c3",
       "style": "IPY_MODEL_9d6006b0ace6413083a1001032553c76",
       "value": " 0/23 [01:32&lt;?, ?it/s]"
      }
     },
     "37e36534db1f4707a935901a4e3fa791": {
      "model_module": "@jupyter-widgets/controls",
      "model_module_version": "1.5.0",
      "model_name": "HTMLModel",
      "state": {
       "layout": "IPY_MODEL_bec55f8f27934896a0efb49be39202d3",
       "style": "IPY_MODEL_f8e87727732b45b183f4cfc65f909189",
       "value": "Movies from 2003: 100%"
      }
     },
     "389f36d9f45b4b3ca9bc41f0b529cea7": {
      "model_module": "@jupyter-widgets/controls",
      "model_module_version": "1.5.0",
      "model_name": "DescriptionStyleModel",
      "state": {
       "description_width": ""
      }
     },
     "38b41d2b817f4eba99c8aaaf778e1046": {
      "model_module": "@jupyter-widgets/controls",
      "model_module_version": "1.5.0",
      "model_name": "HBoxModel",
      "state": {
       "children": [
        "IPY_MODEL_f7408fafef9240acb4e903937bda0fc1",
        "IPY_MODEL_a54d79ffeccf4b9d9fc334f9c9dba71a",
        "IPY_MODEL_2c18cdde5fb74d42b19765fde21aef1f"
       ],
       "layout": "IPY_MODEL_54a62a78b5e0443d9f6e910bd0226d6c"
      }
     },
     "38b9945d0dde4fa88890f01e946d7d35": {
      "model_module": "@jupyter-widgets/controls",
      "model_module_version": "1.5.0",
      "model_name": "DescriptionStyleModel",
      "state": {
       "description_width": ""
      }
     },
     "38c79921a91645379285a89f39a64d03": {
      "model_module": "@jupyter-widgets/controls",
      "model_module_version": "1.5.0",
      "model_name": "FloatProgressModel",
      "state": {
       "bar_style": "danger",
       "layout": "IPY_MODEL_111dd827d5b44a4e8ff55b1908ec9ab6",
       "max": 23,
       "style": "IPY_MODEL_25c6f32f72914d19ac26368ebed2b734"
      }
     },
     "3918cfa3f50944a5bf64ff3fc73c5375": {
      "model_module": "@jupyter-widgets/controls",
      "model_module_version": "1.5.0",
      "model_name": "HTMLModel",
      "state": {
       "layout": "IPY_MODEL_c064c8ca9e8543a6b151a82a5d7cac42",
       "style": "IPY_MODEL_ae7f6c48a63f4394bcd0efb8d0ed5459",
       "value": "Movies from 2002: 100%"
      }
     },
     "3921be5926bc4e39b5e252b46f3680c0": {
      "model_module": "@jupyter-widgets/controls",
      "model_module_version": "1.5.0",
      "model_name": "HBoxModel",
      "state": {
       "children": [
        "IPY_MODEL_27a0adb8dada498b918a96a90ee963be",
        "IPY_MODEL_affc9ffa5ad949a58adf37992d1ce158",
        "IPY_MODEL_43dddfd110f449c8b57edb6301a1d82e"
       ],
       "layout": "IPY_MODEL_097c346ed393475785f93917794291ee"
      }
     },
     "3a1ad923e56b461c9588bd3d1d88d5cb": {
      "model_module": "@jupyter-widgets/controls",
      "model_module_version": "1.5.0",
      "model_name": "HTMLModel",
      "state": {
       "layout": "IPY_MODEL_2f07f6547c944cf88d205e594c4c7c86",
       "style": "IPY_MODEL_c3fd83f007084af6b92c2b180992b34d",
       "value": " 0/23 [00:23&lt;?, ?it/s]"
      }
     },
     "3a5323499be147799daea62e54a91a3a": {
      "model_module": "@jupyter-widgets/controls",
      "model_module_version": "1.5.0",
      "model_name": "HTMLModel",
      "state": {
       "layout": "IPY_MODEL_2d06aa6af9d94e7c8a8df4eeedecc94f",
       "style": "IPY_MODEL_1051e2a9e7bb4231baed790ebdbff70f",
       "value": " 6798/6798 [34:18&lt;00:00,  4.68it/s]"
      }
     },
     "3a93224a39bb4c2ab6621a984cbac6e6": {
      "model_module": "@jupyter-widgets/base",
      "model_module_version": "1.2.0",
      "model_name": "LayoutModel",
      "state": {}
     },
     "3b699b9421b748d1870103803ae7404c": {
      "model_module": "@jupyter-widgets/base",
      "model_module_version": "1.2.0",
      "model_name": "LayoutModel",
      "state": {}
     },
     "3b79b996a0294e848cfc811abd762a0c": {
      "model_module": "@jupyter-widgets/controls",
      "model_module_version": "1.5.0",
      "model_name": "DescriptionStyleModel",
      "state": {
       "description_width": ""
      }
     },
     "3c881704f88a4f4db278236c07c28472": {
      "model_module": "@jupyter-widgets/base",
      "model_module_version": "1.2.0",
      "model_name": "LayoutModel",
      "state": {}
     },
     "3caa91efbab5482eb52bd07eb57cbcf8": {
      "model_module": "@jupyter-widgets/controls",
      "model_module_version": "1.5.0",
      "model_name": "FloatProgressModel",
      "state": {
       "bar_style": "success",
       "layout": "IPY_MODEL_97af74dea08349f09179957b095ca5da",
       "max": 23,
       "style": "IPY_MODEL_a86b39a24f8c421c9f947dbf56d951aa",
       "value": 23
      }
     },
     "3d93bb1b63b14d4b944868cc0c44980e": {
      "model_module": "@jupyter-widgets/controls",
      "model_module_version": "1.5.0",
      "model_name": "ProgressStyleModel",
      "state": {
       "description_width": ""
      }
     },
     "3d9e3b2fcc57404eb6c66478b09d2c11": {
      "model_module": "@jupyter-widgets/base",
      "model_module_version": "1.2.0",
      "model_name": "LayoutModel",
      "state": {}
     },
     "3e93cbd2a9b7466ea9030eb69a8b5805": {
      "model_module": "@jupyter-widgets/controls",
      "model_module_version": "1.5.0",
      "model_name": "HTMLModel",
      "state": {
       "layout": "IPY_MODEL_eb7eaa13e7f94481bdfca424bd50618d",
       "style": "IPY_MODEL_d7b2c0a1bd534ffca0b1f9e50180a4b0",
       "value": "Movies from 2008: 100%"
      }
     },
     "3f7298afdeee4ee0ba5b4b67e6bb3515": {
      "model_module": "@jupyter-widgets/controls",
      "model_module_version": "1.5.0",
      "model_name": "ProgressStyleModel",
      "state": {
       "description_width": ""
      }
     },
     "3fc9cac463b34349bf5cdc123e8ec56a": {
      "model_module": "@jupyter-widgets/base",
      "model_module_version": "1.2.0",
      "model_name": "LayoutModel",
      "state": {}
     },
     "40b334be3ac448e0a6c59d260fa0aa97": {
      "model_module": "@jupyter-widgets/base",
      "model_module_version": "1.2.0",
      "model_name": "LayoutModel",
      "state": {}
     },
     "4129e981bbdc41818b36b3ae6516f771": {
      "model_module": "@jupyter-widgets/controls",
      "model_module_version": "1.5.0",
      "model_name": "HTMLModel",
      "state": {
       "layout": "IPY_MODEL_a62a370d0dd44421804d4062c0887f57",
       "style": "IPY_MODEL_5d1e375ffed6444ba248b4c8c0afbe86",
       "value": "YEARS:   0%"
      }
     },
     "413ad46ea2ff404c9054bbba3689bb3f": {
      "model_module": "@jupyter-widgets/controls",
      "model_module_version": "1.5.0",
      "model_name": "FloatProgressModel",
      "state": {
       "bar_style": "danger",
       "layout": "IPY_MODEL_b8464403d1044617ad3286cdddccda9b",
       "max": 23,
       "style": "IPY_MODEL_e0e1fdd0bfab46fc94386c58f15f6c97"
      }
     },
     "4162e12b5f6044b38c6d25133e992605": {
      "model_module": "@jupyter-widgets/controls",
      "model_module_version": "1.5.0",
      "model_name": "HTMLModel",
      "state": {
       "layout": "IPY_MODEL_cbb3361703a9498d8339f41af00e0741",
       "style": "IPY_MODEL_2fb01efbf592487f9bbad7e5d0bc6a95",
       "value": "Movies from 2005: 100%"
      }
     },
     "419d45910a794cafb5c7bb7303da2eea": {
      "model_module": "@jupyter-widgets/base",
      "model_module_version": "1.2.0",
      "model_name": "LayoutModel",
      "state": {}
     },
     "420481614ffc4c4cb7d65d638a5843cf": {
      "model_module": "@jupyter-widgets/controls",
      "model_module_version": "1.5.0",
      "model_name": "DescriptionStyleModel",
      "state": {
       "description_width": ""
      }
     },
     "42f0a6db3a424aeb9748485ec7f9ac96": {
      "model_module": "@jupyter-widgets/controls",
      "model_module_version": "1.5.0",
      "model_name": "ProgressStyleModel",
      "state": {
       "description_width": ""
      }
     },
     "436db0850a5e4f028859bc2b9e40d3a9": {
      "model_module": "@jupyter-widgets/controls",
      "model_module_version": "1.5.0",
      "model_name": "HTMLModel",
      "state": {
       "layout": "IPY_MODEL_170aa42bc5d845c88f46d44fee4f0fb1",
       "style": "IPY_MODEL_e3acabfb405644a9823f0ab9a6b6852a",
       "value": "Movies from 2014: 100%"
      }
     },
     "43dddfd110f449c8b57edb6301a1d82e": {
      "model_module": "@jupyter-widgets/controls",
      "model_module_version": "1.5.0",
      "model_name": "HTMLModel",
      "state": {
       "layout": "IPY_MODEL_7e63e3c9829e4aca9d0ac565d5c466ab",
       "style": "IPY_MODEL_04db38ff0ef24b70a1835e49b456d6c1",
       "value": " 1403/1403 [07:54&lt;00:00,  5.88it/s]"
      }
     },
     "441d617801f2451286f662e256e5f77a": {
      "model_module": "@jupyter-widgets/controls",
      "model_module_version": "1.5.0",
      "model_name": "HBoxModel",
      "state": {
       "children": [
        "IPY_MODEL_e937aa2acf1b46479aa1269f4249e559",
        "IPY_MODEL_0468974265e643caace10d37c9305382",
        "IPY_MODEL_819214e9722b4ec880a4a85f8b098e86"
       ],
       "layout": "IPY_MODEL_557ae7ebaeee4618a8095094c81ee6dd"
      }
     },
     "441ed2def8d741f2a69f4d4e73d8b55c": {
      "model_module": "@jupyter-widgets/base",
      "model_module_version": "1.2.0",
      "model_name": "LayoutModel",
      "state": {}
     },
     "44398125a4d048e8bb409412042c13f7": {
      "model_module": "@jupyter-widgets/controls",
      "model_module_version": "1.5.0",
      "model_name": "HBoxModel",
      "state": {
       "children": [
        "IPY_MODEL_4129e981bbdc41818b36b3ae6516f771",
        "IPY_MODEL_589978aef0d1446785148c9dcdaf566f",
        "IPY_MODEL_3a1ad923e56b461c9588bd3d1d88d5cb"
       ],
       "layout": "IPY_MODEL_e3d53deacf344176930eefb16a2ebfbc"
      }
     },
     "45d22407aba44728bd71e0286be1d0a1": {
      "model_module": "@jupyter-widgets/controls",
      "model_module_version": "1.5.0",
      "model_name": "ProgressStyleModel",
      "state": {
       "description_width": ""
      }
     },
     "45deaf72749445d7a1570880acf8ac58": {
      "model_module": "@jupyter-widgets/controls",
      "model_module_version": "1.5.0",
      "model_name": "ProgressStyleModel",
      "state": {
       "description_width": ""
      }
     },
     "46035504e3034e33a3cbdfeaaf4534f1": {
      "model_module": "@jupyter-widgets/base",
      "model_module_version": "1.2.0",
      "model_name": "LayoutModel",
      "state": {}
     },
     "462576b98d1a46d48d5892a9f655074b": {
      "model_module": "@jupyter-widgets/controls",
      "model_module_version": "1.5.0",
      "model_name": "HBoxModel",
      "state": {
       "children": [
        "IPY_MODEL_36edf10c9aa2436a983cbbb4d8b20cd6",
        "IPY_MODEL_2877c0ebb95e4ed18efa70940ad7ab32",
        "IPY_MODEL_c7d7833dbe3c490f9a217dca46d99cf3"
       ],
       "layout": "IPY_MODEL_e4ed4c1974f74162a0e1b123dd0fe211"
      }
     },
     "479a06220d22450091eebf563e48cf95": {
      "model_module": "@jupyter-widgets/base",
      "model_module_version": "1.2.0",
      "model_name": "LayoutModel",
      "state": {}
     },
     "47a6853aab304cb8b07d66c863c33fc2": {
      "model_module": "@jupyter-widgets/controls",
      "model_module_version": "1.5.0",
      "model_name": "HTMLModel",
      "state": {
       "layout": "IPY_MODEL_11db85c508eb44d488bd2b06f1b75d95",
       "style": "IPY_MODEL_c9b624b2fda844c6b21e01b3e5791ccc",
       "value": "YEARS:   0%"
      }
     },
     "4860b82c6fa448d29913ddccb47f2df8": {
      "model_module": "@jupyter-widgets/controls",
      "model_module_version": "1.5.0",
      "model_name": "DescriptionStyleModel",
      "state": {
       "description_width": ""
      }
     },
     "4896d90a9ccb4ffaa84af515e95ea00e": {
      "model_module": "@jupyter-widgets/base",
      "model_module_version": "1.2.0",
      "model_name": "LayoutModel",
      "state": {}
     },
     "496f77326fa24c949a43001cb8c10b4b": {
      "model_module": "@jupyter-widgets/base",
      "model_module_version": "1.2.0",
      "model_name": "LayoutModel",
      "state": {}
     },
     "4a23143404d942a49a5abd716ebccb2f": {
      "model_module": "@jupyter-widgets/controls",
      "model_module_version": "1.5.0",
      "model_name": "DescriptionStyleModel",
      "state": {
       "description_width": ""
      }
     },
     "4a7fe544455e49aa851d3d03afece1ea": {
      "model_module": "@jupyter-widgets/controls",
      "model_module_version": "1.5.0",
      "model_name": "ProgressStyleModel",
      "state": {
       "description_width": ""
      }
     },
     "4ae9c780a4d546a48dddfd39bc07e758": {
      "model_module": "@jupyter-widgets/controls",
      "model_module_version": "1.5.0",
      "model_name": "HTMLModel",
      "state": {
       "layout": "IPY_MODEL_419d45910a794cafb5c7bb7303da2eea",
       "style": "IPY_MODEL_1b7dae76d7e240c8be356dcf429c82a7",
       "value": "Movies from 2010: 100%"
      }
     },
     "4b3925a73bc44b44ab823b49035ec300": {
      "model_module": "@jupyter-widgets/base",
      "model_module_version": "1.2.0",
      "model_name": "LayoutModel",
      "state": {}
     },
     "4bc9b6922bb44ff2939e743042c78430": {
      "model_module": "@jupyter-widgets/controls",
      "model_module_version": "1.5.0",
      "model_name": "HTMLModel",
      "state": {
       "layout": "IPY_MODEL_87913519af624a58b34436eb16613621",
       "style": "IPY_MODEL_97dd569019cf467caa8e9bcd7207c5a4",
       "value": "YEARS:   0%"
      }
     },
     "4bd917a58e2145eaa02b1bebd473817e": {
      "model_module": "@jupyter-widgets/base",
      "model_module_version": "1.2.0",
      "model_name": "LayoutModel",
      "state": {}
     },
     "4cda00570ee84f919c4a6fd657916b62": {
      "model_module": "@jupyter-widgets/controls",
      "model_module_version": "1.5.0",
      "model_name": "DescriptionStyleModel",
      "state": {
       "description_width": ""
      }
     },
     "4d23ffc781be45bebdad87e69b423049": {
      "model_module": "@jupyter-widgets/controls",
      "model_module_version": "1.5.0",
      "model_name": "ProgressStyleModel",
      "state": {
       "description_width": ""
      }
     },
     "4d63b79426f84803b95f1ec5ce4d6e12": {
      "model_module": "@jupyter-widgets/controls",
      "model_module_version": "1.5.0",
      "model_name": "HBoxModel",
      "state": {
       "children": [
        "IPY_MODEL_5e907e5899b1424fad182fe78b5fda51",
        "IPY_MODEL_65fe76048b324842982441fe0b203ee4",
        "IPY_MODEL_95813338b2e848c988ef13dd29b56a4f"
       ],
       "layout": "IPY_MODEL_4ed5fd5be44e4c86aa3b11556b538e92"
      }
     },
     "4d9b4486485f4daaade19424ac210ab2": {
      "model_module": "@jupyter-widgets/controls",
      "model_module_version": "1.5.0",
      "model_name": "DescriptionStyleModel",
      "state": {
       "description_width": ""
      }
     },
     "4ea97b08a8544fee8e5d12737820ade5": {
      "model_module": "@jupyter-widgets/base",
      "model_module_version": "1.2.0",
      "model_name": "LayoutModel",
      "state": {}
     },
     "4ec851554a804cb5b72973c39d4bbb93": {
      "model_module": "@jupyter-widgets/base",
      "model_module_version": "1.2.0",
      "model_name": "LayoutModel",
      "state": {}
     },
     "4ed5fd5be44e4c86aa3b11556b538e92": {
      "model_module": "@jupyter-widgets/base",
      "model_module_version": "1.2.0",
      "model_name": "LayoutModel",
      "state": {}
     },
     "4f97817dc3c2405ea0aede0b3cafcb74": {
      "model_module": "@jupyter-widgets/base",
      "model_module_version": "1.2.0",
      "model_name": "LayoutModel",
      "state": {}
     },
     "516a3795e667437ab4e9155be9436070": {
      "model_module": "@jupyter-widgets/base",
      "model_module_version": "1.2.0",
      "model_name": "LayoutModel",
      "state": {}
     },
     "516dd95bcb1f4508a22d6f500cbc30a3": {
      "model_module": "@jupyter-widgets/controls",
      "model_module_version": "1.5.0",
      "model_name": "HBoxModel",
      "state": {
       "children": [
        "IPY_MODEL_d43b2ea1c46c4b37a3f27eabf0b673b7",
        "IPY_MODEL_dffef8f24dcd44399ec2f4d0f150a49d",
        "IPY_MODEL_3782e88dc0474306af2a9e057a99f925"
       ],
       "layout": "IPY_MODEL_1428a0ee56584df1bf54f44ebf68f677"
      }
     },
     "521da8dcd7e5412d84004063e11f8733": {
      "model_module": "@jupyter-widgets/base",
      "model_module_version": "1.2.0",
      "model_name": "LayoutModel",
      "state": {}
     },
     "52b71dced1fb4a8b93467bb6f2b4ebcb": {
      "model_module": "@jupyter-widgets/base",
      "model_module_version": "1.2.0",
      "model_name": "LayoutModel",
      "state": {}
     },
     "54a3d469b5f1435cb2e61fd64367e254": {
      "model_module": "@jupyter-widgets/base",
      "model_module_version": "1.2.0",
      "model_name": "LayoutModel",
      "state": {}
     },
     "54a62a78b5e0443d9f6e910bd0226d6c": {
      "model_module": "@jupyter-widgets/base",
      "model_module_version": "1.2.0",
      "model_name": "LayoutModel",
      "state": {}
     },
     "553b7b228e9446b5b9c527d8ce3e7d09": {
      "model_module": "@jupyter-widgets/controls",
      "model_module_version": "1.5.0",
      "model_name": "HTMLModel",
      "state": {
       "layout": "IPY_MODEL_c697262cafd94a21b03279896470e216",
       "style": "IPY_MODEL_f740d599c4914fb1bbdc2ec908ca806d",
       "value": " 12/1725 [00:02&lt;06:04,  4.70it/s]"
      }
     },
     "554a61e5572b48daae560508c5b6ff18": {
      "model_module": "@jupyter-widgets/controls",
      "model_module_version": "1.5.0",
      "model_name": "FloatProgressModel",
      "state": {
       "bar_style": "danger",
       "layout": "IPY_MODEL_d401cb6c91b54295808062f70106a533",
       "max": 1725,
       "style": "IPY_MODEL_cb83927f0979477a87bae810dd682b0b",
       "value": 33
      }
     },
     "556535a5c5ca4bf8aca84e8494edc6fb": {
      "model_module": "@jupyter-widgets/controls",
      "model_module_version": "1.5.0",
      "model_name": "HTMLModel",
      "state": {
       "layout": "IPY_MODEL_8f4400897399448a9fd8444fc77b7e00",
       "style": "IPY_MODEL_f89200eed2444830a45d56fd1eb91aab",
       "value": " 2/2 [16:29&lt;00:00, 498.07s/it]"
      }
     },
     "557ae7ebaeee4618a8095094c81ee6dd": {
      "model_module": "@jupyter-widgets/base",
      "model_module_version": "1.2.0",
      "model_name": "LayoutModel",
      "state": {}
     },
     "560dfc254d9a4ffab95e6592649e0154": {
      "model_module": "@jupyter-widgets/base",
      "model_module_version": "1.2.0",
      "model_name": "LayoutModel",
      "state": {}
     },
     "563f5a9cc3e64bd9b1a1efd1c6818658": {
      "model_module": "@jupyter-widgets/controls",
      "model_module_version": "1.5.0",
      "model_name": "ProgressStyleModel",
      "state": {
       "description_width": ""
      }
     },
     "56dd669f59cf4e34903add5df31fb1e8": {
      "model_module": "@jupyter-widgets/base",
      "model_module_version": "1.2.0",
      "model_name": "LayoutModel",
      "state": {}
     },
     "5717fbae8d5948f89697c441a79b9be8": {
      "model_module": "@jupyter-widgets/base",
      "model_module_version": "1.2.0",
      "model_name": "LayoutModel",
      "state": {}
     },
     "589978aef0d1446785148c9dcdaf566f": {
      "model_module": "@jupyter-widgets/controls",
      "model_module_version": "1.5.0",
      "model_name": "FloatProgressModel",
      "state": {
       "bar_style": "danger",
       "layout": "IPY_MODEL_f468b600feaf44cd8e07daa852bde9ce",
       "max": 23,
       "style": "IPY_MODEL_008fc18e526649dab0b24f566371dddf"
      }
     },
     "58c58ba1d89d46d99fec6ad889a0f482": {
      "model_module": "@jupyter-widgets/controls",
      "model_module_version": "1.5.0",
      "model_name": "HTMLModel",
      "state": {
       "layout": "IPY_MODEL_52b71dced1fb4a8b93467bb6f2b4ebcb",
       "style": "IPY_MODEL_a56e03ffb33e478aa3583d27ca2e7a20",
       "value": "Movies from 2017: 100%"
      }
     },
     "58fee3eb393d40cfa38f8733310672ef": {
      "model_module": "@jupyter-widgets/controls",
      "model_module_version": "1.5.0",
      "model_name": "HBoxModel",
      "state": {
       "children": [
        "IPY_MODEL_06a2ce5ed2b34e31ab918eb6c17f62be",
        "IPY_MODEL_600b84b5fe60454599161f4d5a3bfbe4",
        "IPY_MODEL_0e5391677dd94dc3891e5f526cbafacf"
       ],
       "layout": "IPY_MODEL_229e639e648843d998081775630b88e7"
      }
     },
     "597421918d304f68bd477016d31affc6": {
      "model_module": "@jupyter-widgets/controls",
      "model_module_version": "1.5.0",
      "model_name": "HTMLModel",
      "state": {
       "layout": "IPY_MODEL_441ed2def8d741f2a69f4d4e73d8b55c",
       "style": "IPY_MODEL_02d96775e8644272bb1fb1bfdcc92a6d",
       "value": " 6303/6303 [33:15&lt;00:00,  2.84it/s]"
      }
     },
     "5b7b24b07d9744d5bcc6b103d6a0fe99": {
      "model_module": "@jupyter-widgets/base",
      "model_module_version": "1.2.0",
      "model_name": "LayoutModel",
      "state": {}
     },
     "5bb234d5b2644a4790c52f2509565c56": {
      "model_module": "@jupyter-widgets/controls",
      "model_module_version": "1.5.0",
      "model_name": "HTMLModel",
      "state": {
       "layout": "IPY_MODEL_0e253fe576b644c0afb8ab87bc65cf59",
       "style": "IPY_MODEL_3b79b996a0294e848cfc811abd762a0c",
       "value": " 227/1725 [01:32&lt;08:24,  2.97it/s]"
      }
     },
     "5cbebd708a754eb19d9d5d1fc901d7d7": {
      "model_module": "@jupyter-widgets/controls",
      "model_module_version": "1.5.0",
      "model_name": "ProgressStyleModel",
      "state": {
       "description_width": ""
      }
     },
     "5d1e375ffed6444ba248b4c8c0afbe86": {
      "model_module": "@jupyter-widgets/controls",
      "model_module_version": "1.5.0",
      "model_name": "DescriptionStyleModel",
      "state": {
       "description_width": ""
      }
     },
     "5e907e5899b1424fad182fe78b5fda51": {
      "model_module": "@jupyter-widgets/controls",
      "model_module_version": "1.5.0",
      "model_name": "HTMLModel",
      "state": {
       "layout": "IPY_MODEL_2dcc0b9dd1b84d63a7ebc4027dcc5107",
       "style": "IPY_MODEL_92efb1d6409446649dd80f1d059f5309",
       "value": "Movies from 2000:   1%"
      }
     },
     "5ed41ae3af3f4676b0817d8194fa355d": {
      "model_module": "@jupyter-widgets/controls",
      "model_module_version": "1.5.0",
      "model_name": "DescriptionStyleModel",
      "state": {
       "description_width": ""
      }
     },
     "5ed5aafafee34f1dbd012a63f48f03ea": {
      "model_module": "@jupyter-widgets/base",
      "model_module_version": "1.2.0",
      "model_name": "LayoutModel",
      "state": {}
     },
     "5fa711e1110941529ba0b7e8d59eb103": {
      "model_module": "@jupyter-widgets/controls",
      "model_module_version": "1.5.0",
      "model_name": "HTMLModel",
      "state": {
       "layout": "IPY_MODEL_6cb35f436323444cafbbebcbab9356d0",
       "style": "IPY_MODEL_d0fa24a1a73c48a3b79e9c9734d60cb5",
       "value": "YEARS:   0%"
      }
     },
     "5fefe72c91004edf8a45820df307065f": {
      "model_module": "@jupyter-widgets/controls",
      "model_module_version": "1.5.0",
      "model_name": "DescriptionStyleModel",
      "state": {
       "description_width": ""
      }
     },
     "5ff24120d72b4721a89201f26746ecfa": {
      "model_module": "@jupyter-widgets/controls",
      "model_module_version": "1.5.0",
      "model_name": "ProgressStyleModel",
      "state": {
       "description_width": ""
      }
     },
     "60081fee0e6d4ba6865e4559197ab365": {
      "model_module": "@jupyter-widgets/controls",
      "model_module_version": "1.5.0",
      "model_name": "HTMLModel",
      "state": {
       "layout": "IPY_MODEL_a9e42e551176446f8cf4bdd50d577ad2",
       "style": "IPY_MODEL_67a4662c275b4a26bba0789c39981e55",
       "value": " 2/1725 [00:02&lt;28:48,  1.00s/it]"
      }
     },
     "600b84b5fe60454599161f4d5a3bfbe4": {
      "model_module": "@jupyter-widgets/controls",
      "model_module_version": "1.5.0",
      "model_name": "FloatProgressModel",
      "state": {
       "bar_style": "success",
       "layout": "IPY_MODEL_338d969e4b50497d9d7c7bd8a6281533",
       "max": 7234,
       "style": "IPY_MODEL_373e2dbc70dd4e7195adc4dccb71b0b7",
       "value": 7234
      }
     },
     "60535c6eb36244e19cb3d8877851c19a": {
      "model_module": "@jupyter-widgets/base",
      "model_module_version": "1.2.0",
      "model_name": "LayoutModel",
      "state": {}
     },
     "60819361eddb4a04aad27ed0624db8ba": {
      "model_module": "@jupyter-widgets/controls",
      "model_module_version": "1.5.0",
      "model_name": "HTMLModel",
      "state": {
       "layout": "IPY_MODEL_f36f3988aff04d1aac67780fbdb5eca1",
       "style": "IPY_MODEL_f3b91b7ffcf248e193d0afb8a81ba54f",
       "value": "Movies from 2006: 100%"
      }
     },
     "611c130f0a144cb781a716efd506ef80": {
      "model_module": "@jupyter-widgets/controls",
      "model_module_version": "1.5.0",
      "model_name": "ProgressStyleModel",
      "state": {
       "description_width": ""
      }
     },
     "6128a46278604eb3a36ad0bed00344a4": {
      "model_module": "@jupyter-widgets/base",
      "model_module_version": "1.2.0",
      "model_name": "LayoutModel",
      "state": {}
     },
     "6212473a82cf40e2bdd0b0ac00b02dea": {
      "model_module": "@jupyter-widgets/base",
      "model_module_version": "1.2.0",
      "model_name": "LayoutModel",
      "state": {}
     },
     "62f883c4fed84c51ae2abbcba0d80bdb": {
      "model_module": "@jupyter-widgets/controls",
      "model_module_version": "1.5.0",
      "model_name": "DescriptionStyleModel",
      "state": {
       "description_width": ""
      }
     },
     "630967fb34eb43f0a1e0cb1d21cedb7a": {
      "model_module": "@jupyter-widgets/base",
      "model_module_version": "1.2.0",
      "model_name": "LayoutModel",
      "state": {}
     },
     "644c819eddf34bd4a29efb08abf346a0": {
      "model_module": "@jupyter-widgets/controls",
      "model_module_version": "1.5.0",
      "model_name": "HTMLModel",
      "state": {
       "layout": "IPY_MODEL_e85c5c4419c74f8dbef92e67e86a5aa0",
       "style": "IPY_MODEL_9e423f352c8e47e6a052f51bed96a589",
       "value": "Movies from 2000:   1%"
      }
     },
     "64de0c81f327491cb10d20e3f321a511": {
      "model_module": "@jupyter-widgets/controls",
      "model_module_version": "1.5.0",
      "model_name": "FloatProgressModel",
      "state": {
       "bar_style": "success",
       "layout": "IPY_MODEL_fab93c4ea51f4584a410451d40f4dfa6",
       "max": 2435,
       "style": "IPY_MODEL_3f7298afdeee4ee0ba5b4b67e6bb3515",
       "value": 2435
      }
     },
     "65fe76048b324842982441fe0b203ee4": {
      "model_module": "@jupyter-widgets/controls",
      "model_module_version": "1.5.0",
      "model_name": "FloatProgressModel",
      "state": {
       "bar_style": "danger",
       "layout": "IPY_MODEL_9a51d09b10774dc5a7a5b042bead72fb",
       "max": 1725,
       "style": "IPY_MODEL_7f53eb846c9348feb46d5fb599b1ba40",
       "value": 14
      }
     },
     "671ee0f2b1334b7f82d0c519dd93fa8a": {
      "model_module": "@jupyter-widgets/base",
      "model_module_version": "1.2.0",
      "model_name": "LayoutModel",
      "state": {}
     },
     "67a4662c275b4a26bba0789c39981e55": {
      "model_module": "@jupyter-widgets/controls",
      "model_module_version": "1.5.0",
      "model_name": "DescriptionStyleModel",
      "state": {
       "description_width": ""
      }
     },
     "68c1f7150fe74585a745c8107f1e22d0": {
      "model_module": "@jupyter-widgets/controls",
      "model_module_version": "1.5.0",
      "model_name": "HTMLModel",
      "state": {
       "layout": "IPY_MODEL_960ada12f0d44dbfa8e57d2f86bb2724",
       "style": "IPY_MODEL_2fa9c59213db48e19771458cfe24b721",
       "value": " 2837/2837 [13:31&lt;00:00,  7.01it/s]"
      }
     },
     "68e3192495dc4a6583bb28417d7b62fb": {
      "model_module": "@jupyter-widgets/base",
      "model_module_version": "1.2.0",
      "model_name": "LayoutModel",
      "state": {}
     },
     "69963fcbd2564406920a5397942ac1cf": {
      "model_module": "@jupyter-widgets/controls",
      "model_module_version": "1.5.0",
      "model_name": "DescriptionStyleModel",
      "state": {
       "description_width": ""
      }
     },
     "6a2823d84699415585a0143a81c817da": {
      "model_module": "@jupyter-widgets/base",
      "model_module_version": "1.2.0",
      "model_name": "LayoutModel",
      "state": {}
     },
     "6a57dabe928040c5bcc4231b88072f8d": {
      "model_module": "@jupyter-widgets/base",
      "model_module_version": "1.2.0",
      "model_name": "LayoutModel",
      "state": {}
     },
     "6b8b8191947f4d45a8b583cec87a3b24": {
      "model_module": "@jupyter-widgets/controls",
      "model_module_version": "1.5.0",
      "model_name": "DescriptionStyleModel",
      "state": {
       "description_width": ""
      }
     },
     "6bf64e6547fd4623a101e5fdb0920423": {
      "model_module": "@jupyter-widgets/controls",
      "model_module_version": "1.5.0",
      "model_name": "ProgressStyleModel",
      "state": {
       "description_width": ""
      }
     },
     "6c8a9a3772c843ccbb9e4fbf9769af1e": {
      "model_module": "@jupyter-widgets/controls",
      "model_module_version": "1.5.0",
      "model_name": "FloatProgressModel",
      "state": {
       "bar_style": "danger",
       "layout": "IPY_MODEL_b6bffbcc94d64015a28452b39305ce3c",
       "max": 1725,
       "style": "IPY_MODEL_871feeee06c84d1e8aee3e77ec662375",
       "value": 13
      }
     },
     "6cb35f436323444cafbbebcbab9356d0": {
      "model_module": "@jupyter-widgets/base",
      "model_module_version": "1.2.0",
      "model_name": "LayoutModel",
      "state": {}
     },
     "6e6b1fab00ea4f279067031dbc66a0c3": {
      "model_module": "@jupyter-widgets/controls",
      "model_module_version": "1.5.0",
      "model_name": "HBoxModel",
      "state": {
       "children": [
        "IPY_MODEL_80f37027e5784de8aa1fa9a5710ecdc8",
        "IPY_MODEL_e35b8943640d4544ace219d844ee6ccb",
        "IPY_MODEL_5bb234d5b2644a4790c52f2509565c56"
       ],
       "layout": "IPY_MODEL_60535c6eb36244e19cb3d8877851c19a"
      }
     },
     "6edfe4870e914d5ea89e9b8886541268": {
      "model_module": "@jupyter-widgets/controls",
      "model_module_version": "1.5.0",
      "model_name": "HTMLModel",
      "state": {
       "layout": "IPY_MODEL_898dd2c2c32b4ffda2bdc925fac13bd7",
       "style": "IPY_MODEL_34f1ec1d8f9d4ce5a40fcf4a59cebd03",
       "value": " 6962/6962 [35:53&lt;00:00,  4.25it/s]"
      }
     },
     "6f137a90d2f24c19b7f21bce3a838fdf": {
      "model_module": "@jupyter-widgets/controls",
      "model_module_version": "1.5.0",
      "model_name": "HTMLModel",
      "state": {
       "layout": "IPY_MODEL_4ea97b08a8544fee8e5d12737820ade5",
       "style": "IPY_MODEL_f6a4b7479b6c4dd88021fc7f78e33ad7",
       "value": "Movies from 2000:   0%"
      }
     },
     "6f664ad5c0ec4716ad9eeb705f1a3a8d": {
      "model_module": "@jupyter-widgets/controls",
      "model_module_version": "1.5.0",
      "model_name": "FloatProgressModel",
      "state": {
       "bar_style": "success",
       "layout": "IPY_MODEL_85cbdeeb9e5045bab0dff4bcfefd6a90",
       "max": 6798,
       "style": "IPY_MODEL_c5f072b6ca8b403e871b3ca57a43398d",
       "value": 6798
      }
     },
     "702aefdfa58d4a90a3b0f87d386f5461": {
      "model_module": "@jupyter-widgets/controls",
      "model_module_version": "1.5.0",
      "model_name": "HTMLModel",
      "state": {
       "layout": "IPY_MODEL_ebad5574a9554a2482270ec5c6b4d9c2",
       "style": "IPY_MODEL_ee66097877c44e6c891e5568bc5c5a50",
       "value": " 13/1725 [00:06&lt;13:48,  2.07it/s]"
      }
     },
     "72dabc0d812c4c6a9021f92e58a4b1f6": {
      "model_module": "@jupyter-widgets/controls",
      "model_module_version": "1.5.0",
      "model_name": "HBoxModel",
      "state": {
       "children": [
        "IPY_MODEL_bf0f4cf9d4224e12890c7002a3b526c5",
        "IPY_MODEL_64de0c81f327491cb10d20e3f321a511",
        "IPY_MODEL_236f625b118f418c9d6aa6631a907899"
       ],
       "layout": "IPY_MODEL_db8797633e1840aab00eaab3f3b52041"
      }
     },
     "7457f3cd2cf6414da66034f2304f4996": {
      "model_module": "@jupyter-widgets/controls",
      "model_module_version": "1.5.0",
      "model_name": "HBoxModel",
      "state": {
       "children": [
        "IPY_MODEL_6f137a90d2f24c19b7f21bce3a838fdf",
        "IPY_MODEL_ee8cf09c4ec445d0932f71ed2baae1f3",
        "IPY_MODEL_f7f802a877ae4abe8c926dd2720271f5"
       ],
       "layout": "IPY_MODEL_54a3d469b5f1435cb2e61fd64367e254"
      }
     },
     "745e853c24c74d3d9e55ab8830fccc26": {
      "model_module": "@jupyter-widgets/base",
      "model_module_version": "1.2.0",
      "model_name": "LayoutModel",
      "state": {}
     },
     "748fcb13e4d14044a8da9cbf2f38291b": {
      "model_module": "@jupyter-widgets/controls",
      "model_module_version": "1.5.0",
      "model_name": "DescriptionStyleModel",
      "state": {
       "description_width": ""
      }
     },
     "75eb4714b9bc452997f60344c324476b": {
      "model_module": "@jupyter-widgets/controls",
      "model_module_version": "1.5.0",
      "model_name": "FloatProgressModel",
      "state": {
       "bar_style": "success",
       "layout": "IPY_MODEL_c1d9d6f21ce4476e9e9d3676143ff73f",
       "max": 4932,
       "style": "IPY_MODEL_9b8217b0353441838863334c7043c54f",
       "value": 4932
      }
     },
     "7624afe4548c48a09b2808fd34f37e69": {
      "model_module": "@jupyter-widgets/base",
      "model_module_version": "1.2.0",
      "model_name": "LayoutModel",
      "state": {}
     },
     "77aea1c5ab394f41853102891ab37bf8": {
      "model_module": "@jupyter-widgets/controls",
      "model_module_version": "1.5.0",
      "model_name": "HTMLModel",
      "state": {
       "layout": "IPY_MODEL_4bd917a58e2145eaa02b1bebd473817e",
       "style": "IPY_MODEL_ac0e216fed5148489782fd9429f12aba",
       "value": "Movies from 2000:   0%"
      }
     },
     "79057f99f94b435db4deec5f85667074": {
      "model_module": "@jupyter-widgets/controls",
      "model_module_version": "1.5.0",
      "model_name": "HBoxModel",
      "state": {
       "children": [
        "IPY_MODEL_4162e12b5f6044b38c6d25133e992605",
        "IPY_MODEL_b4e13a41b5c54a42b6c015581668c51f",
        "IPY_MODEL_68c1f7150fe74585a745c8107f1e22d0"
       ],
       "layout": "IPY_MODEL_3a93224a39bb4c2ab6621a984cbac6e6"
      }
     },
     "791cfdd75a2d436cacea589f945c0d9d": {
      "model_module": "@jupyter-widgets/base",
      "model_module_version": "1.2.0",
      "model_name": "LayoutModel",
      "state": {}
     },
     "7aab4d8bfc3a4a4791aa6acdda80a2b1": {
      "model_module": "@jupyter-widgets/controls",
      "model_module_version": "1.5.0",
      "model_name": "DescriptionStyleModel",
      "state": {
       "description_width": ""
      }
     },
     "7b311b7b90f14a839ba45be3c1ac31f8": {
      "model_module": "@jupyter-widgets/controls",
      "model_module_version": "1.5.0",
      "model_name": "FloatProgressModel",
      "state": {
       "bar_style": "success",
       "layout": "IPY_MODEL_21283bcc08654a0491d12a1335b8d445",
       "max": 2123,
       "style": "IPY_MODEL_5ff24120d72b4721a89201f26746ecfa",
       "value": 2123
      }
     },
     "7c8e8e540e934663862ea3dc1393b6ce": {
      "model_module": "@jupyter-widgets/controls",
      "model_module_version": "1.5.0",
      "model_name": "ProgressStyleModel",
      "state": {
       "description_width": ""
      }
     },
     "7cac9b8fe91d4a78916d21652daeb5b4": {
      "model_module": "@jupyter-widgets/controls",
      "model_module_version": "1.5.0",
      "model_name": "HBoxModel",
      "state": {
       "children": [
        "IPY_MODEL_81413cd1a423476993a8e5d90e2019ab",
        "IPY_MODEL_da8a80c8018a4386a60a249ce4cf4fc6",
        "IPY_MODEL_ab3599b1f3ce495088837c4fba96ed57"
       ],
       "layout": "IPY_MODEL_14a5d96cb7324448bc7ed60a185dc777"
      }
     },
     "7d84a64144a5401bb007b4d6c2f4d16d": {
      "model_module": "@jupyter-widgets/base",
      "model_module_version": "1.2.0",
      "model_name": "LayoutModel",
      "state": {}
     },
     "7dfbf26b049c485d8ab7a29d3ddcb80b": {
      "model_module": "@jupyter-widgets/controls",
      "model_module_version": "1.5.0",
      "model_name": "DescriptionStyleModel",
      "state": {
       "description_width": ""
      }
     },
     "7e63e3c9829e4aca9d0ac565d5c466ab": {
      "model_module": "@jupyter-widgets/base",
      "model_module_version": "1.2.0",
      "model_name": "LayoutModel",
      "state": {}
     },
     "7eb72396d7da48538588b286ba074611": {
      "model_module": "@jupyter-widgets/base",
      "model_module_version": "1.2.0",
      "model_name": "LayoutModel",
      "state": {}
     },
     "7f53eb846c9348feb46d5fb599b1ba40": {
      "model_module": "@jupyter-widgets/controls",
      "model_module_version": "1.5.0",
      "model_name": "ProgressStyleModel",
      "state": {
       "description_width": ""
      }
     },
     "7f73572956b74f77b8910d115b8589db": {
      "model_module": "@jupyter-widgets/controls",
      "model_module_version": "1.5.0",
      "model_name": "ProgressStyleModel",
      "state": {
       "description_width": ""
      }
     },
     "7f791e3814f744f1bbed9519bf0a129b": {
      "model_module": "@jupyter-widgets/controls",
      "model_module_version": "1.5.0",
      "model_name": "DescriptionStyleModel",
      "state": {
       "description_width": ""
      }
     },
     "7f92c04b41a64c5ba921e43424660b30": {
      "model_module": "@jupyter-widgets/controls",
      "model_module_version": "1.5.0",
      "model_name": "FloatProgressModel",
      "state": {
       "bar_style": "danger",
       "layout": "IPY_MODEL_b06d455ea65947e69e75ee55c2ed4969",
       "max": 23,
       "style": "IPY_MODEL_6bf64e6547fd4623a101e5fdb0920423"
      }
     },
     "80f37027e5784de8aa1fa9a5710ecdc8": {
      "model_module": "@jupyter-widgets/controls",
      "model_module_version": "1.5.0",
      "model_name": "HTMLModel",
      "state": {
       "layout": "IPY_MODEL_bb3b9ffd06064425b43290266fd92244",
       "style": "IPY_MODEL_c22c76cdc2dd49289e4df58063a9b63b",
       "value": "Movies from 2000:  13%"
      }
     },
     "812907b069f540dcad041435c4fd3ba3": {
      "model_module": "@jupyter-widgets/base",
      "model_module_version": "1.2.0",
      "model_name": "LayoutModel",
      "state": {}
     },
     "81413cd1a423476993a8e5d90e2019ab": {
      "model_module": "@jupyter-widgets/controls",
      "model_module_version": "1.5.0",
      "model_name": "HTMLModel",
      "state": {
       "layout": "IPY_MODEL_d8dd83f342b94369a86da918bdb3a470",
       "style": "IPY_MODEL_7aab4d8bfc3a4a4791aa6acdda80a2b1",
       "value": "Movies from 2000: 100%"
      }
     },
     "819214e9722b4ec880a4a85f8b098e86": {
      "model_module": "@jupyter-widgets/controls",
      "model_module_version": "1.5.0",
      "model_name": "HTMLModel",
      "state": {
       "layout": "IPY_MODEL_671ee0f2b1334b7f82d0c519dd93fa8a",
       "style": "IPY_MODEL_2a1125448e6a403dafe1dab7deea3daa",
       "value": " 7055/7055 [35:14&lt;00:00,  3.55it/s]"
      }
     },
     "836a4a49b1834751bd7efd6c1923dbbb": {
      "model_module": "@jupyter-widgets/base",
      "model_module_version": "1.2.0",
      "model_name": "LayoutModel",
      "state": {}
     },
     "83a8de615ea1400ba149f3037815d4f5": {
      "model_module": "@jupyter-widgets/base",
      "model_module_version": "1.2.0",
      "model_name": "LayoutModel",
      "state": {}
     },
     "84421f5560064166a4d7d80f5f393c89": {
      "model_module": "@jupyter-widgets/controls",
      "model_module_version": "1.5.0",
      "model_name": "HTMLModel",
      "state": {
       "layout": "IPY_MODEL_46035504e3034e33a3cbdfeaaf4534f1",
       "style": "IPY_MODEL_8fd0f323f5d14492aedb750cb998433b",
       "value": " 4118/4118 [20:58&lt;00:00,  5.31it/s]"
      }
     },
     "84a286bec43c40d7ad7dd92cc3f76ef4": {
      "model_module": "@jupyter-widgets/controls",
      "model_module_version": "1.5.0",
      "model_name": "HBoxModel",
      "state": {
       "children": [
        "IPY_MODEL_77aea1c5ab394f41853102891ab37bf8",
        "IPY_MODEL_2dd4dae4bbf647d8a1afc1d87bebf930",
        "IPY_MODEL_e4e4dd0a215f4585892795634b9f0d71"
       ],
       "layout": "IPY_MODEL_caf1d86b3f3141bf884678557f6400f0"
      }
     },
     "85cbdeeb9e5045bab0dff4bcfefd6a90": {
      "model_module": "@jupyter-widgets/base",
      "model_module_version": "1.2.0",
      "model_name": "LayoutModel",
      "state": {}
     },
     "862fbdeccb474c3eb71d93c2e0e167dd": {
      "model_module": "@jupyter-widgets/controls",
      "model_module_version": "1.5.0",
      "model_name": "ProgressStyleModel",
      "state": {
       "description_width": ""
      }
     },
     "871feeee06c84d1e8aee3e77ec662375": {
      "model_module": "@jupyter-widgets/controls",
      "model_module_version": "1.5.0",
      "model_name": "ProgressStyleModel",
      "state": {
       "description_width": ""
      }
     },
     "8788114f126c4abc80357a91ee8a7aeb": {
      "model_module": "@jupyter-widgets/base",
      "model_module_version": "1.2.0",
      "model_name": "LayoutModel",
      "state": {}
     },
     "87913519af624a58b34436eb16613621": {
      "model_module": "@jupyter-widgets/base",
      "model_module_version": "1.2.0",
      "model_name": "LayoutModel",
      "state": {}
     },
     "87a632f3caa74f97a37614b2cf0cfe20": {
      "model_module": "@jupyter-widgets/controls",
      "model_module_version": "1.5.0",
      "model_name": "FloatProgressModel",
      "state": {
       "bar_style": "success",
       "layout": "IPY_MODEL_953f6ff2943049e094aa0b745f83550f",
       "max": 6469,
       "style": "IPY_MODEL_7f73572956b74f77b8910d115b8589db",
       "value": 6469
      }
     },
     "87b36da071c94c8f94101e584fe5021a": {
      "model_module": "@jupyter-widgets/base",
      "model_module_version": "1.2.0",
      "model_name": "LayoutModel",
      "state": {}
     },
     "887dba52bd914a8fa334ab97fbb4e5ea": {
      "model_module": "@jupyter-widgets/controls",
      "model_module_version": "1.5.0",
      "model_name": "ProgressStyleModel",
      "state": {
       "description_width": ""
      }
     },
     "89414148460c452a8781f141209f4647": {
      "model_module": "@jupyter-widgets/controls",
      "model_module_version": "1.5.0",
      "model_name": "DescriptionStyleModel",
      "state": {
       "description_width": ""
      }
     },
     "898dd2c2c32b4ffda2bdc925fac13bd7": {
      "model_module": "@jupyter-widgets/base",
      "model_module_version": "1.2.0",
      "model_name": "LayoutModel",
      "state": {}
     },
     "8a53988a3e67483c8d17b9d9b6ad1643": {
      "model_module": "@jupyter-widgets/controls",
      "model_module_version": "1.5.0",
      "model_name": "HBoxModel",
      "state": {
       "children": [
        "IPY_MODEL_0cf423ba0ea64bcc979b75992e62de27",
        "IPY_MODEL_158c15c3006c4738ace546f2f81a6d3d",
        "IPY_MODEL_94d8012e999440adb06ba91c5846ed87"
       ],
       "layout": "IPY_MODEL_aa91ecab18c040caa9e30512c0849cce"
      }
     },
     "8ab927a85a45409ca05bcb78e85c64f9": {
      "model_module": "@jupyter-widgets/controls",
      "model_module_version": "1.5.0",
      "model_name": "FloatProgressModel",
      "state": {
       "bar_style": "success",
       "layout": "IPY_MODEL_83a8de615ea1400ba149f3037815d4f5",
       "max": 3224,
       "style": "IPY_MODEL_db43b788dc974cecb17b9fca3f7e7f27",
       "value": 3224
      }
     },
     "8d28e55e26784d57b386aaac48024c68": {
      "model_module": "@jupyter-widgets/base",
      "model_module_version": "1.2.0",
      "model_name": "LayoutModel",
      "state": {}
     },
     "8f4400897399448a9fd8444fc77b7e00": {
      "model_module": "@jupyter-widgets/base",
      "model_module_version": "1.2.0",
      "model_name": "LayoutModel",
      "state": {}
     },
     "8f7fd0a79b834b0d99b451ff8c2e7b01": {
      "model_module": "@jupyter-widgets/base",
      "model_module_version": "1.2.0",
      "model_name": "LayoutModel",
      "state": {}
     },
     "8fd0f323f5d14492aedb750cb998433b": {
      "model_module": "@jupyter-widgets/controls",
      "model_module_version": "1.5.0",
      "model_name": "DescriptionStyleModel",
      "state": {
       "description_width": ""
      }
     },
     "8ff8ff8ff7c04e518f70a52d3f578f72": {
      "model_module": "@jupyter-widgets/controls",
      "model_module_version": "1.5.0",
      "model_name": "HBoxModel",
      "state": {
       "children": [
        "IPY_MODEL_a8e000906f3f43e28fd83318d783ef66",
        "IPY_MODEL_7f92c04b41a64c5ba921e43424660b30",
        "IPY_MODEL_95b875ecb1b7440db8e3503113531c3f"
       ],
       "layout": "IPY_MODEL_40b334be3ac448e0a6c59d260fa0aa97"
      }
     },
     "90974041e6f5477a99d07b9b0fab9800": {
      "model_module": "@jupyter-widgets/controls",
      "model_module_version": "1.5.0",
      "model_name": "HTMLModel",
      "state": {
       "layout": "IPY_MODEL_25b7d7c0d179460e964f5c40292f6130",
       "style": "IPY_MODEL_0ec890d2eaf24f14bc2d6c4ebbf05797",
       "value": " 2123/2123 [10:18&lt;00:00,  4.88it/s]"
      }
     },
     "92efb1d6409446649dd80f1d059f5309": {
      "model_module": "@jupyter-widgets/controls",
      "model_module_version": "1.5.0",
      "model_name": "DescriptionStyleModel",
      "state": {
       "description_width": ""
      }
     },
     "93b5dab341d74655a181b717affc765d": {
      "model_module": "@jupyter-widgets/controls",
      "model_module_version": "1.5.0",
      "model_name": "DescriptionStyleModel",
      "state": {
       "description_width": ""
      }
     },
     "93d8720b839e4479844d65e4f0d9d772": {
      "model_module": "@jupyter-widgets/base",
      "model_module_version": "1.2.0",
      "model_name": "LayoutModel",
      "state": {}
     },
     "94120160e8284226becaacfac4f24d5a": {
      "model_module": "@jupyter-widgets/controls",
      "model_module_version": "1.5.0",
      "model_name": "ProgressStyleModel",
      "state": {
       "description_width": ""
      }
     },
     "948ef126222e470f8fc2f0cc4da2eadc": {
      "model_module": "@jupyter-widgets/base",
      "model_module_version": "1.2.0",
      "model_name": "LayoutModel",
      "state": {}
     },
     "94d8012e999440adb06ba91c5846ed87": {
      "model_module": "@jupyter-widgets/controls",
      "model_module_version": "1.5.0",
      "model_name": "HTMLModel",
      "state": {
       "layout": "IPY_MODEL_5b7b24b07d9744d5bcc6b103d6a0fe99",
       "style": "IPY_MODEL_9cf3f92202a746448616ffd9d707097a",
       "value": " 0/23 [00:00&lt;?, ?it/s]"
      }
     },
     "953f6ff2943049e094aa0b745f83550f": {
      "model_module": "@jupyter-widgets/base",
      "model_module_version": "1.2.0",
      "model_name": "LayoutModel",
      "state": {}
     },
     "95813338b2e848c988ef13dd29b56a4f": {
      "model_module": "@jupyter-widgets/controls",
      "model_module_version": "1.5.0",
      "model_name": "HTMLModel",
      "state": {
       "layout": "IPY_MODEL_105478ed4a5a4fb7a2a44a49a04d7ea9",
       "style": "IPY_MODEL_1642cf4d9eec4847af6ce57ea29a8428",
       "value": " 14/1725 [00:03&lt;06:44,  4.23it/s]"
      }
     },
     "95b875ecb1b7440db8e3503113531c3f": {
      "model_module": "@jupyter-widgets/controls",
      "model_module_version": "1.5.0",
      "model_name": "HTMLModel",
      "state": {
       "layout": "IPY_MODEL_fcd45615ee93499ca0bc868817ff2c0a",
       "style": "IPY_MODEL_6b8b8191947f4d45a8b583cec87a3b24",
       "value": " 0/23 [00:02&lt;?, ?it/s]"
      }
     },
     "95c6a8895f0f41f484bbca0ea3a8dcea": {
      "model_module": "@jupyter-widgets/base",
      "model_module_version": "1.2.0",
      "model_name": "LayoutModel",
      "state": {}
     },
     "960ada12f0d44dbfa8e57d2f86bb2724": {
      "model_module": "@jupyter-widgets/base",
      "model_module_version": "1.2.0",
      "model_name": "LayoutModel",
      "state": {}
     },
     "9712fa9229bb4273b936a254dc79c8f4": {
      "model_module": "@jupyter-widgets/base",
      "model_module_version": "1.2.0",
      "model_name": "LayoutModel",
      "state": {}
     },
     "971cd9d7796d44fb8c7e7911bdb99402": {
      "model_module": "@jupyter-widgets/controls",
      "model_module_version": "1.5.0",
      "model_name": "DescriptionStyleModel",
      "state": {
       "description_width": ""
      }
     },
     "978bdaefdc1649ab92701a4055cdbc9c": {
      "model_module": "@jupyter-widgets/base",
      "model_module_version": "1.2.0",
      "model_name": "LayoutModel",
      "state": {}
     },
     "97af74dea08349f09179957b095ca5da": {
      "model_module": "@jupyter-widgets/base",
      "model_module_version": "1.2.0",
      "model_name": "LayoutModel",
      "state": {}
     },
     "97dd569019cf467caa8e9bcd7207c5a4": {
      "model_module": "@jupyter-widgets/controls",
      "model_module_version": "1.5.0",
      "model_name": "DescriptionStyleModel",
      "state": {
       "description_width": ""
      }
     },
     "97e9f077f4c446488d9b204a40bba503": {
      "model_module": "@jupyter-widgets/controls",
      "model_module_version": "1.5.0",
      "model_name": "DescriptionStyleModel",
      "state": {
       "description_width": ""
      }
     },
     "993b95efd2ca4d32bcbe7bf7ee8628aa": {
      "model_module": "@jupyter-widgets/base",
      "model_module_version": "1.2.0",
      "model_name": "LayoutModel",
      "state": {}
     },
     "9a51d09b10774dc5a7a5b042bead72fb": {
      "model_module": "@jupyter-widgets/base",
      "model_module_version": "1.2.0",
      "model_name": "LayoutModel",
      "state": {}
     },
     "9aa903b4f90f404b9d1e53b3935f1c3d": {
      "model_module": "@jupyter-widgets/controls",
      "model_module_version": "1.5.0",
      "model_name": "HBoxModel",
      "state": {
       "children": [
        "IPY_MODEL_436db0850a5e4f028859bc2b9e40d3a9",
        "IPY_MODEL_e243edf372d342a690471b7f96c6386e",
        "IPY_MODEL_6edfe4870e914d5ea89e9b8886541268"
       ],
       "layout": "IPY_MODEL_bfd72f95e5e345a6a16b7c70c9fda08d"
      }
     },
     "9b5fac3eb36f4111abdb281de32c4d89": {
      "model_module": "@jupyter-widgets/base",
      "model_module_version": "1.2.0",
      "model_name": "LayoutModel",
      "state": {}
     },
     "9b8217b0353441838863334c7043c54f": {
      "model_module": "@jupyter-widgets/controls",
      "model_module_version": "1.5.0",
      "model_name": "ProgressStyleModel",
      "state": {
       "description_width": ""
      }
     },
     "9c602eeec86a4ccfacd1999d6a0e6c15": {
      "model_module": "@jupyter-widgets/controls",
      "model_module_version": "1.5.0",
      "model_name": "HTMLModel",
      "state": {
       "layout": "IPY_MODEL_630967fb34eb43f0a1e0cb1d21cedb7a",
       "style": "IPY_MODEL_62f883c4fed84c51ae2abbcba0d80bdb",
       "value": " 4932/4932 [23:45&lt;00:00,  5.06it/s]"
      }
     },
     "9cf3f92202a746448616ffd9d707097a": {
      "model_module": "@jupyter-widgets/controls",
      "model_module_version": "1.5.0",
      "model_name": "DescriptionStyleModel",
      "state": {
       "description_width": ""
      }
     },
     "9d6006b0ace6413083a1001032553c76": {
      "model_module": "@jupyter-widgets/controls",
      "model_module_version": "1.5.0",
      "model_name": "DescriptionStyleModel",
      "state": {
       "description_width": ""
      }
     },
     "9e423f352c8e47e6a052f51bed96a589": {
      "model_module": "@jupyter-widgets/controls",
      "model_module_version": "1.5.0",
      "model_name": "DescriptionStyleModel",
      "state": {
       "description_width": ""
      }
     },
     "9ea041dd2f0d4102bb19ecf217c8ff9c": {
      "model_module": "@jupyter-widgets/controls",
      "model_module_version": "1.5.0",
      "model_name": "HTMLModel",
      "state": {
       "layout": "IPY_MODEL_496f77326fa24c949a43001cb8c10b4b",
       "style": "IPY_MODEL_b38c65e176f141e989b07389f4482a9b",
       "value": "YEARS: 100%"
      }
     },
     "9f6cb83a564f466e916059195946e65d": {
      "model_module": "@jupyter-widgets/controls",
      "model_module_version": "1.5.0",
      "model_name": "HBoxModel",
      "state": {
       "children": [
        "IPY_MODEL_3918cfa3f50944a5bf64ff3fc73c5375",
        "IPY_MODEL_e2f4ec4aecd3470a824f671fcd4e359b",
        "IPY_MODEL_ce3efd6cf4b5416295ece0061d3ed161"
       ],
       "layout": "IPY_MODEL_ea171c4fed564a22bb00def946094fc6"
      }
     },
     "a011e9b095d24a24a77c6803d2cfbca8": {
      "model_module": "@jupyter-widgets/controls",
      "model_module_version": "1.5.0",
      "model_name": "DescriptionStyleModel",
      "state": {
       "description_width": ""
      }
     },
     "a050dbf2b7e44edbbbe86c7e95dc99c8": {
      "model_module": "@jupyter-widgets/controls",
      "model_module_version": "1.5.0",
      "model_name": "ProgressStyleModel",
      "state": {
       "description_width": ""
      }
     },
     "a06c10ad84084f2591929626920a5823": {
      "model_module": "@jupyter-widgets/base",
      "model_module_version": "1.2.0",
      "model_name": "LayoutModel",
      "state": {}
     },
     "a138f8556eac44619c22befa68d8c07f": {
      "model_module": "@jupyter-widgets/base",
      "model_module_version": "1.2.0",
      "model_name": "LayoutModel",
      "state": {}
     },
     "a31021583a244583b4e07f3933a2f59e": {
      "model_module": "@jupyter-widgets/base",
      "model_module_version": "1.2.0",
      "model_name": "LayoutModel",
      "state": {}
     },
     "a3d0cb10bde742bf9e0d84ec7385ad9a": {
      "model_module": "@jupyter-widgets/controls",
      "model_module_version": "1.5.0",
      "model_name": "HTMLModel",
      "state": {
       "layout": "IPY_MODEL_993b95efd2ca4d32bcbe7bf7ee8628aa",
       "style": "IPY_MODEL_38b9945d0dde4fa88890f01e946d7d35",
       "value": "Movies from 2012: 100%"
      }
     },
     "a539c3af62384721af08a3f4cc3cd424": {
      "model_module": "@jupyter-widgets/base",
      "model_module_version": "1.2.0",
      "model_name": "LayoutModel",
      "state": {}
     },
     "a54d79ffeccf4b9d9fc334f9c9dba71a": {
      "model_module": "@jupyter-widgets/controls",
      "model_module_version": "1.5.0",
      "model_name": "FloatProgressModel",
      "state": {
       "bar_style": "danger",
       "layout": "IPY_MODEL_f4789f0d070a479183a20ad706668e9f",
       "max": 23,
       "style": "IPY_MODEL_a050dbf2b7e44edbbbe86c7e95dc99c8"
      }
     },
     "a56e03ffb33e478aa3583d27ca2e7a20": {
      "model_module": "@jupyter-widgets/controls",
      "model_module_version": "1.5.0",
      "model_name": "DescriptionStyleModel",
      "state": {
       "description_width": ""
      }
     },
     "a60472ed4d274fe2a4012f3fcbc333e2": {
      "model_module": "@jupyter-widgets/controls",
      "model_module_version": "1.5.0",
      "model_name": "DescriptionStyleModel",
      "state": {
       "description_width": ""
      }
     },
     "a62a370d0dd44421804d4062c0887f57": {
      "model_module": "@jupyter-widgets/base",
      "model_module_version": "1.2.0",
      "model_name": "LayoutModel",
      "state": {}
     },
     "a6a03f66bab744f18ea6101970d54220": {
      "model_module": "@jupyter-widgets/controls",
      "model_module_version": "1.5.0",
      "model_name": "HBoxModel",
      "state": {
       "children": [
        "IPY_MODEL_eee2cd8c68ae47fb9879014e940d96e9",
        "IPY_MODEL_6c8a9a3772c843ccbb9e4fbf9769af1e",
        "IPY_MODEL_702aefdfa58d4a90a3b0f87d386f5461"
       ],
       "layout": "IPY_MODEL_560dfc254d9a4ffab95e6592649e0154"
      }
     },
     "a73bb39cabbd42738990acbb323fa4d5": {
      "model_module": "@jupyter-widgets/controls",
      "model_module_version": "1.5.0",
      "model_name": "HBoxModel",
      "state": {
       "children": [
        "IPY_MODEL_4bc9b6922bb44ff2939e743042c78430",
        "IPY_MODEL_38c79921a91645379285a89f39a64d03",
        "IPY_MODEL_b434b8c70bf74ad4b7164df80f87873f"
       ],
       "layout": "IPY_MODEL_7eb72396d7da48538588b286ba074611"
      }
     },
     "a86b39a24f8c421c9f947dbf56d951aa": {
      "model_module": "@jupyter-widgets/controls",
      "model_module_version": "1.5.0",
      "model_name": "ProgressStyleModel",
      "state": {
       "description_width": ""
      }
     },
     "a8e000906f3f43e28fd83318d783ef66": {
      "model_module": "@jupyter-widgets/controls",
      "model_module_version": "1.5.0",
      "model_name": "HTMLModel",
      "state": {
       "layout": "IPY_MODEL_836a4a49b1834751bd7efd6c1923dbbb",
       "style": "IPY_MODEL_0d173fe26cfa4f1aba2d19ddceead846",
       "value": "YEARS:   0%"
      }
     },
     "a915cc57074242c29b766250257b46f1": {
      "model_module": "@jupyter-widgets/controls",
      "model_module_version": "1.5.0",
      "model_name": "HTMLModel",
      "state": {
       "layout": "IPY_MODEL_207dd889870c47bc84e4db4e56ffdc0d",
       "style": "IPY_MODEL_a011e9b095d24a24a77c6803d2cfbca8",
       "value": " 3224/3224 [14:48&lt;00:00,  5.48it/s]"
      }
     },
     "a9beb68070684f2bbf734f35a6e7b040": {
      "model_module": "@jupyter-widgets/base",
      "model_module_version": "1.2.0",
      "model_name": "LayoutModel",
      "state": {}
     },
     "a9e42e551176446f8cf4bdd50d577ad2": {
      "model_module": "@jupyter-widgets/base",
      "model_module_version": "1.2.0",
      "model_name": "LayoutModel",
      "state": {}
     },
     "aa3c781b71854175ac90cff58b52b1ba": {
      "model_module": "@jupyter-widgets/controls",
      "model_module_version": "1.5.0",
      "model_name": "HBoxModel",
      "state": {
       "children": [
        "IPY_MODEL_37e36534db1f4707a935901a4e3fa791",
        "IPY_MODEL_7b311b7b90f14a839ba45be3c1ac31f8",
        "IPY_MODEL_90974041e6f5477a99d07b9b0fab9800"
       ],
       "layout": "IPY_MODEL_516a3795e667437ab4e9155be9436070"
      }
     },
     "aa469f7637da44b1a3e26b675ffd50d9": {
      "model_module": "@jupyter-widgets/controls",
      "model_module_version": "1.5.0",
      "model_name": "HBoxModel",
      "state": {
       "children": [
        "IPY_MODEL_f4427b7325c44028a6e7f9bdd63d2d45",
        "IPY_MODEL_315b3aad5c874b3cb72788b1926e94b9",
        "IPY_MODEL_0bcba19953a24071be48f5b588843b7e"
       ],
       "layout": "IPY_MODEL_7d84a64144a5401bb007b4d6c2f4d16d"
      }
     },
     "aa91ecab18c040caa9e30512c0849cce": {
      "model_module": "@jupyter-widgets/base",
      "model_module_version": "1.2.0",
      "model_name": "LayoutModel",
      "state": {}
     },
     "ab3599b1f3ce495088837c4fba96ed57": {
      "model_module": "@jupyter-widgets/controls",
      "model_module_version": "1.5.0",
      "model_name": "HTMLModel",
      "state": {
       "layout": "IPY_MODEL_24ec418552984a8d9a37cf259ae1e566",
       "style": "IPY_MODEL_7dfbf26b049c485d8ab7a29d3ddcb80b",
       "value": " 1725/1725 [08:43&lt;00:00,  5.74it/s]"
      }
     },
     "ac0e216fed5148489782fd9429f12aba": {
      "model_module": "@jupyter-widgets/controls",
      "model_module_version": "1.5.0",
      "model_name": "DescriptionStyleModel",
      "state": {
       "description_width": ""
      }
     },
     "ace5c1d71118400a8d14bfb3712d0812": {
      "model_module": "@jupyter-widgets/controls",
      "model_module_version": "1.5.0",
      "model_name": "ProgressStyleModel",
      "state": {
       "description_width": ""
      }
     },
     "acf70cf46b0a402d9064060853ef9b47": {
      "model_module": "@jupyter-widgets/base",
      "model_module_version": "1.2.0",
      "model_name": "LayoutModel",
      "state": {}
     },
     "ae7f6c48a63f4394bcd0efb8d0ed5459": {
      "model_module": "@jupyter-widgets/controls",
      "model_module_version": "1.5.0",
      "model_name": "DescriptionStyleModel",
      "state": {
       "description_width": ""
      }
     },
     "aec07bffdddd4cec87bbb1901a2a602a": {
      "model_module": "@jupyter-widgets/controls",
      "model_module_version": "1.5.0",
      "model_name": "HTMLModel",
      "state": {
       "layout": "IPY_MODEL_18f81cb532294d79864bb69483c5f68a",
       "style": "IPY_MODEL_f38bcb3e6fd54af8897dd8b7be9a970e",
       "value": "Movies from 2022: 100%"
      }
     },
     "aed50480a89b47a0a2742088eed94686": {
      "model_module": "@jupyter-widgets/base",
      "model_module_version": "1.2.0",
      "model_name": "LayoutModel",
      "state": {}
     },
     "affc9ffa5ad949a58adf37992d1ce158": {
      "model_module": "@jupyter-widgets/controls",
      "model_module_version": "1.5.0",
      "model_name": "FloatProgressModel",
      "state": {
       "bar_style": "success",
       "layout": "IPY_MODEL_4896d90a9ccb4ffaa84af515e95ea00e",
       "max": 1403,
       "style": "IPY_MODEL_ce9219f8f9774a27848d4dd17ec82ac3",
       "value": 1403
      }
     },
     "b06d455ea65947e69e75ee55c2ed4969": {
      "model_module": "@jupyter-widgets/base",
      "model_module_version": "1.2.0",
      "model_name": "LayoutModel",
      "state": {}
     },
     "b15b034bc1b349bab6f3d509dd73988a": {
      "model_module": "@jupyter-widgets/controls",
      "model_module_version": "1.5.0",
      "model_name": "HTMLModel",
      "state": {
       "layout": "IPY_MODEL_0e74b07a8a3b4e4f8ee0c14c76bcae43",
       "style": "IPY_MODEL_971cd9d7796d44fb8c7e7911bdb99402",
       "value": " 0/23 [00:03&lt;?, ?it/s]"
      }
     },
     "b21a88e6e43943c0b2f01edb3c49f78b": {
      "model_module": "@jupyter-widgets/base",
      "model_module_version": "1.2.0",
      "model_name": "LayoutModel",
      "state": {}
     },
     "b2e0fee7880e4955822695f883dcbcbd": {
      "model_module": "@jupyter-widgets/base",
      "model_module_version": "1.2.0",
      "model_name": "LayoutModel",
      "state": {}
     },
     "b384274ccaaf49cd92ff1495c5eb5e9a": {
      "model_module": "@jupyter-widgets/controls",
      "model_module_version": "1.5.0",
      "model_name": "ProgressStyleModel",
      "state": {
       "description_width": ""
      }
     },
     "b38c65e176f141e989b07389f4482a9b": {
      "model_module": "@jupyter-widgets/controls",
      "model_module_version": "1.5.0",
      "model_name": "DescriptionStyleModel",
      "state": {
       "description_width": ""
      }
     },
     "b3a41331f06b4e2e912e2f8052f691ae": {
      "model_module": "@jupyter-widgets/base",
      "model_module_version": "1.2.0",
      "model_name": "LayoutModel",
      "state": {}
     },
     "b434b8c70bf74ad4b7164df80f87873f": {
      "model_module": "@jupyter-widgets/controls",
      "model_module_version": "1.5.0",
      "model_name": "HTMLModel",
      "state": {
       "layout": "IPY_MODEL_b57bb77922ef488bae13a00f2ed1bd56",
       "style": "IPY_MODEL_25c8f1df824648ed8027e35f4c00bba8",
       "value": " 0/23 [00:02&lt;?, ?it/s]"
      }
     },
     "b4c69c2937c5445abd67e234f823c865": {
      "model_module": "@jupyter-widgets/controls",
      "model_module_version": "1.5.0",
      "model_name": "FloatProgressModel",
      "state": {
       "bar_style": "success",
       "layout": "IPY_MODEL_3501f69446f8485d9a54304345b5eaa1",
       "max": 5991,
       "style": "IPY_MODEL_c206cab9d54c480c977db5297d01c6c0",
       "value": 5991
      }
     },
     "b4d7ee9a20b84232862fbf57858f768a": {
      "model_module": "@jupyter-widgets/base",
      "model_module_version": "1.2.0",
      "model_name": "LayoutModel",
      "state": {}
     },
     "b4e13a41b5c54a42b6c015581668c51f": {
      "model_module": "@jupyter-widgets/controls",
      "model_module_version": "1.5.0",
      "model_name": "FloatProgressModel",
      "state": {
       "bar_style": "success",
       "layout": "IPY_MODEL_6a57dabe928040c5bcc4231b88072f8d",
       "max": 2837,
       "style": "IPY_MODEL_d205435261fd4bd5801b3b3f75c389b4",
       "value": 2837
      }
     },
     "b51a7dbb22a04fafb34824819d6f7d02": {
      "model_module": "@jupyter-widgets/controls",
      "model_module_version": "1.5.0",
      "model_name": "HBoxModel",
      "state": {
       "children": [
        "IPY_MODEL_d3eb709634a94d06bc5481256ec309a4",
        "IPY_MODEL_19b5666da6ec479d9ee4b8f6e4fcf65c",
        "IPY_MODEL_e297e09feb584ee7ac7b3b6f4f701b3c"
       ],
       "layout": "IPY_MODEL_c2ee351feb174a4598a3f763f75a9ff5"
      }
     },
     "b57bb77922ef488bae13a00f2ed1bd56": {
      "model_module": "@jupyter-widgets/base",
      "model_module_version": "1.2.0",
      "model_name": "LayoutModel",
      "state": {}
     },
     "b58922ffa1a145b1b01bfdbd16e4b0c3": {
      "model_module": "@jupyter-widgets/controls",
      "model_module_version": "1.5.0",
      "model_name": "HTMLModel",
      "state": {
       "layout": "IPY_MODEL_3c881704f88a4f4db278236c07c28472",
       "style": "IPY_MODEL_d22fc73980ed43c2a055bc1a1701a324",
       "value": "Movies from 2000:   5%"
      }
     },
     "b624fa082c3b4b15a36a7839f1407ea6": {
      "model_module": "@jupyter-widgets/controls",
      "model_module_version": "1.5.0",
      "model_name": "DescriptionStyleModel",
      "state": {
       "description_width": ""
      }
     },
     "b649ea2867dd41a8ad1a1132fa4c05c1": {
      "model_module": "@jupyter-widgets/base",
      "model_module_version": "1.2.0",
      "model_name": "LayoutModel",
      "state": {}
     },
     "b6bffbcc94d64015a28452b39305ce3c": {
      "model_module": "@jupyter-widgets/base",
      "model_module_version": "1.2.0",
      "model_name": "LayoutModel",
      "state": {}
     },
     "b844146e69d649cfb4e29c979eb64638": {
      "model_module": "@jupyter-widgets/controls",
      "model_module_version": "1.5.0",
      "model_name": "HBoxModel",
      "state": {
       "children": [
        "IPY_MODEL_3e93cbd2a9b7466ea9030eb69a8b5805",
        "IPY_MODEL_fab1bb7d509a49fdbe2d15eee4bcd80a",
        "IPY_MODEL_84421f5560064166a4d7d80f5f393c89"
       ],
       "layout": "IPY_MODEL_f73b9233f438497890c0bf1b14ec3f60"
      }
     },
     "b8464403d1044617ad3286cdddccda9b": {
      "model_module": "@jupyter-widgets/base",
      "model_module_version": "1.2.0",
      "model_name": "LayoutModel",
      "state": {}
     },
     "b946d7ef700f4a8980213efa54158118": {
      "model_module": "@jupyter-widgets/controls",
      "model_module_version": "1.5.0",
      "model_name": "FloatProgressModel",
      "state": {
       "bar_style": "success",
       "layout": "IPY_MODEL_b9ca9730a1404bf78b060a43f88c987a",
       "max": 7591,
       "style": "IPY_MODEL_1e3de8cce9434c6da1c325a5f76eae7b",
       "value": 7591
      }
     },
     "b9ca9730a1404bf78b060a43f88c987a": {
      "model_module": "@jupyter-widgets/base",
      "model_module_version": "1.2.0",
      "model_name": "LayoutModel",
      "state": {}
     },
     "ba1f50a9a9134b0f9acc064a5f83b7c3": {
      "model_module": "@jupyter-widgets/base",
      "model_module_version": "1.2.0",
      "model_name": "LayoutModel",
      "state": {}
     },
     "bb3b9ffd06064425b43290266fd92244": {
      "model_module": "@jupyter-widgets/base",
      "model_module_version": "1.2.0",
      "model_name": "LayoutModel",
      "state": {}
     },
     "bb4ebf62914c48be9105b105ce812476": {
      "model_module": "@jupyter-widgets/base",
      "model_module_version": "1.2.0",
      "model_name": "LayoutModel",
      "state": {}
     },
     "bcb23f1c96eb446e9b6467c9aa79e013": {
      "model_module": "@jupyter-widgets/controls",
      "model_module_version": "1.5.0",
      "model_name": "HBoxModel",
      "state": {
       "children": [
        "IPY_MODEL_c11fb7e4869644bbb27adfd91ff22f10",
        "IPY_MODEL_c86321f42051493c86712f354cf4ac95",
        "IPY_MODEL_ee42dd3a57224360b609072c9376669d"
       ],
       "layout": "IPY_MODEL_7624afe4548c48a09b2808fd34f37e69"
      }
     },
     "bdd36b45e44149e6b6be1c68bbaab483": {
      "model_module": "@jupyter-widgets/base",
      "model_module_version": "1.2.0",
      "model_name": "LayoutModel",
      "state": {}
     },
     "be073d6b00694e3eb7380cfd6be05777": {
      "model_module": "@jupyter-widgets/controls",
      "model_module_version": "1.5.0",
      "model_name": "HTMLModel",
      "state": {
       "layout": "IPY_MODEL_de1bca47206b4d6ebb0c445221deddeb",
       "style": "IPY_MODEL_f0bd9a84c3d44f9fb8653a9fd1a8eed4",
       "value": " 6469/6469 [33:54&lt;00:00,  3.80it/s]"
      }
     },
     "beaa8f32f96d4c4d990d3f3212c12de4": {
      "model_module": "@jupyter-widgets/base",
      "model_module_version": "1.2.0",
      "model_name": "LayoutModel",
      "state": {}
     },
     "beacf686f786499a9b64a3eea3f6cdcf": {
      "model_module": "@jupyter-widgets/controls",
      "model_module_version": "1.5.0",
      "model_name": "DescriptionStyleModel",
      "state": {
       "description_width": ""
      }
     },
     "bec55f8f27934896a0efb49be39202d3": {
      "model_module": "@jupyter-widgets/base",
      "model_module_version": "1.2.0",
      "model_name": "LayoutModel",
      "state": {}
     },
     "bf0f4cf9d4224e12890c7002a3b526c5": {
      "model_module": "@jupyter-widgets/controls",
      "model_module_version": "1.5.0",
      "model_name": "HTMLModel",
      "state": {
       "layout": "IPY_MODEL_2b39889b86684e9e81a40059bec5e7c1",
       "style": "IPY_MODEL_4d9b4486485f4daaade19424ac210ab2",
       "value": "Movies from 2004: 100%"
      }
     },
     "bfd72f95e5e345a6a16b7c70c9fda08d": {
      "model_module": "@jupyter-widgets/base",
      "model_module_version": "1.2.0",
      "model_name": "LayoutModel",
      "state": {}
     },
     "c064c8ca9e8543a6b151a82a5d7cac42": {
      "model_module": "@jupyter-widgets/base",
      "model_module_version": "1.2.0",
      "model_name": "LayoutModel",
      "state": {}
     },
     "c0fcee6ad60a4df58e51efbe283652c3": {
      "model_module": "@jupyter-widgets/controls",
      "model_module_version": "1.5.0",
      "model_name": "FloatProgressModel",
      "state": {
       "bar_style": "success",
       "layout": "IPY_MODEL_b3a41331f06b4e2e912e2f8052f691ae",
       "max": 2318,
       "style": "IPY_MODEL_b384274ccaaf49cd92ff1495c5eb5e9a",
       "value": 2318
      }
     },
     "c11b3fd4ae3d4b688172264003ecf0b5": {
      "model_module": "@jupyter-widgets/base",
      "model_module_version": "1.2.0",
      "model_name": "LayoutModel",
      "state": {}
     },
     "c11fb7e4869644bbb27adfd91ff22f10": {
      "model_module": "@jupyter-widgets/controls",
      "model_module_version": "1.5.0",
      "model_name": "HTMLModel",
      "state": {
       "layout": "IPY_MODEL_8d28e55e26784d57b386aaac48024c68",
       "style": "IPY_MODEL_beacf686f786499a9b64a3eea3f6cdcf",
       "value": "YEARS:   0%"
      }
     },
     "c12f594473bb474c86045eb178dad0e0": {
      "model_module": "@jupyter-widgets/controls",
      "model_module_version": "1.5.0",
      "model_name": "HTMLModel",
      "state": {
       "layout": "IPY_MODEL_2f227cfd30e54a80804b12107316f1e4",
       "style": "IPY_MODEL_f7e3a5cf1a0445498f52b1f942bf4027",
       "value": " 23/23 [9:41:06&lt;00:00, 1758.00s/it]"
      }
     },
     "c1d9d6f21ce4476e9e9d3676143ff73f": {
      "model_module": "@jupyter-widgets/base",
      "model_module_version": "1.2.0",
      "model_name": "LayoutModel",
      "state": {}
     },
     "c206cab9d54c480c977db5297d01c6c0": {
      "model_module": "@jupyter-widgets/controls",
      "model_module_version": "1.5.0",
      "model_name": "ProgressStyleModel",
      "state": {
       "description_width": ""
      }
     },
     "c22c76cdc2dd49289e4df58063a9b63b": {
      "model_module": "@jupyter-widgets/controls",
      "model_module_version": "1.5.0",
      "model_name": "DescriptionStyleModel",
      "state": {
       "description_width": ""
      }
     },
     "c24d52c4470f46bf9eb7bbe0257bbb8b": {
      "model_module": "@jupyter-widgets/controls",
      "model_module_version": "1.5.0",
      "model_name": "DescriptionStyleModel",
      "state": {
       "description_width": ""
      }
     },
     "c2ee351feb174a4598a3f763f75a9ff5": {
      "model_module": "@jupyter-widgets/base",
      "model_module_version": "1.2.0",
      "model_name": "LayoutModel",
      "state": {}
     },
     "c3235a26628643869afe4df72fb3ee6c": {
      "model_module": "@jupyter-widgets/controls",
      "model_module_version": "1.5.0",
      "model_name": "DescriptionStyleModel",
      "state": {
       "description_width": ""
      }
     },
     "c3fd83f007084af6b92c2b180992b34d": {
      "model_module": "@jupyter-widgets/controls",
      "model_module_version": "1.5.0",
      "model_name": "DescriptionStyleModel",
      "state": {
       "description_width": ""
      }
     },
     "c47f01a06eb44c6fb0caf8e305624d94": {
      "model_module": "@jupyter-widgets/controls",
      "model_module_version": "1.5.0",
      "model_name": "ProgressStyleModel",
      "state": {
       "description_width": ""
      }
     },
     "c4f6954e723341858ae3ec96e61e71e2": {
      "model_module": "@jupyter-widgets/controls",
      "model_module_version": "1.5.0",
      "model_name": "ProgressStyleModel",
      "state": {
       "description_width": ""
      }
     },
     "c5f072b6ca8b403e871b3ca57a43398d": {
      "model_module": "@jupyter-widgets/controls",
      "model_module_version": "1.5.0",
      "model_name": "ProgressStyleModel",
      "state": {
       "description_width": ""
      }
     },
     "c697262cafd94a21b03279896470e216": {
      "model_module": "@jupyter-widgets/base",
      "model_module_version": "1.2.0",
      "model_name": "LayoutModel",
      "state": {}
     },
     "c7a6de7116f54de79daebd241861a68d": {
      "model_module": "@jupyter-widgets/base",
      "model_module_version": "1.2.0",
      "model_name": "LayoutModel",
      "state": {}
     },
     "c7d7833dbe3c490f9a217dca46d99cf3": {
      "model_module": "@jupyter-widgets/controls",
      "model_module_version": "1.5.0",
      "model_name": "HTMLModel",
      "state": {
       "layout": "IPY_MODEL_d89fe75864084a8282817c1be9a471fe",
       "style": "IPY_MODEL_b624fa082c3b4b15a36a7839f1407ea6",
       "value": " 1517/1517 [08:34&lt;00:00,  5.45it/s]"
      }
     },
     "c86321f42051493c86712f354cf4ac95": {
      "model_module": "@jupyter-widgets/controls",
      "model_module_version": "1.5.0",
      "model_name": "FloatProgressModel",
      "state": {
       "bar_style": "danger",
       "layout": "IPY_MODEL_f06c6c1b48c743a6b489cd646e3f3ca4",
       "max": 23,
       "style": "IPY_MODEL_7c8e8e540e934663862ea3dc1393b6ce"
      }
     },
     "c9b624b2fda844c6b21e01b3e5791ccc": {
      "model_module": "@jupyter-widgets/controls",
      "model_module_version": "1.5.0",
      "model_name": "DescriptionStyleModel",
      "state": {
       "description_width": ""
      }
     },
     "caf1d86b3f3141bf884678557f6400f0": {
      "model_module": "@jupyter-widgets/base",
      "model_module_version": "1.2.0",
      "model_name": "LayoutModel",
      "state": {}
     },
     "cb83927f0979477a87bae810dd682b0b": {
      "model_module": "@jupyter-widgets/controls",
      "model_module_version": "1.5.0",
      "model_name": "ProgressStyleModel",
      "state": {
       "description_width": ""
      }
     },
     "cbb3361703a9498d8339f41af00e0741": {
      "model_module": "@jupyter-widgets/base",
      "model_module_version": "1.2.0",
      "model_name": "LayoutModel",
      "state": {}
     },
     "cc1224c13941471b8e79bf491350af64": {
      "model_module": "@jupyter-widgets/controls",
      "model_module_version": "1.5.0",
      "model_name": "ProgressStyleModel",
      "state": {
       "description_width": ""
      }
     },
     "cc77626cb64842efbe6dd03d1ede8903": {
      "model_module": "@jupyter-widgets/controls",
      "model_module_version": "1.5.0",
      "model_name": "HTMLModel",
      "state": {
       "layout": "IPY_MODEL_01f176ac2f9448a2be44c103e2ec7110",
       "style": "IPY_MODEL_5fefe72c91004edf8a45820df307065f",
       "value": " 6677/6677 [35:25&lt;00:00,  3.12it/s]"
      }
     },
     "cdcae311f3e246bbbef34348f9bfe5b1": {
      "model_module": "@jupyter-widgets/base",
      "model_module_version": "1.2.0",
      "model_name": "LayoutModel",
      "state": {}
     },
     "ce0878fae4a947b09807aee1447eefed": {
      "model_module": "@jupyter-widgets/controls",
      "model_module_version": "1.5.0",
      "model_name": "FloatProgressModel",
      "state": {
       "bar_style": "danger",
       "layout": "IPY_MODEL_347384823e334713bc8a0ed9210c7060",
       "max": 23,
       "style": "IPY_MODEL_2db915d00bfc45a499cfed9fbc622968"
      }
     },
     "ce2cdb45ca6c454aa7be4c460340902c": {
      "model_module": "@jupyter-widgets/controls",
      "model_module_version": "1.5.0",
      "model_name": "HBoxModel",
      "state": {
       "children": [
        "IPY_MODEL_1399d8c942794438baf84079ae95d8ea",
        "IPY_MODEL_b4c69c2937c5445abd67e234f823c865",
        "IPY_MODEL_0d414fd4f94b406f8f7164a3bb33eab0"
       ],
       "layout": "IPY_MODEL_3b699b9421b748d1870103803ae7404c"
      }
     },
     "ce3efd6cf4b5416295ece0061d3ed161": {
      "model_module": "@jupyter-widgets/controls",
      "model_module_version": "1.5.0",
      "model_name": "HTMLModel",
      "state": {
       "layout": "IPY_MODEL_6128a46278604eb3a36ad0bed00344a4",
       "style": "IPY_MODEL_5ed41ae3af3f4676b0817d8194fa355d",
       "value": " 1922/1922 [09:48&lt;00:00,  4.12it/s]"
      }
     },
     "ce9219f8f9774a27848d4dd17ec82ac3": {
      "model_module": "@jupyter-widgets/controls",
      "model_module_version": "1.5.0",
      "model_name": "ProgressStyleModel",
      "state": {
       "description_width": ""
      }
     },
     "d0854360462d417881dddee02d35273f": {
      "model_module": "@jupyter-widgets/controls",
      "model_module_version": "1.5.0",
      "model_name": "DescriptionStyleModel",
      "state": {
       "description_width": ""
      }
     },
     "d0c7e5db107b439f80ca9882c8539e09": {
      "model_module": "@jupyter-widgets/controls",
      "model_module_version": "1.5.0",
      "model_name": "HTMLModel",
      "state": {
       "layout": "IPY_MODEL_c11b3fd4ae3d4b688172264003ecf0b5",
       "style": "IPY_MODEL_fe3eda680539461792fdaa41221fbbfe",
       "value": " 85/1725 [00:23&lt;14:52,  1.84it/s]"
      }
     },
     "d0fa24a1a73c48a3b79e9c9734d60cb5": {
      "model_module": "@jupyter-widgets/controls",
      "model_module_version": "1.5.0",
      "model_name": "DescriptionStyleModel",
      "state": {
       "description_width": ""
      }
     },
     "d205435261fd4bd5801b3b3f75c389b4": {
      "model_module": "@jupyter-widgets/controls",
      "model_module_version": "1.5.0",
      "model_name": "ProgressStyleModel",
      "state": {
       "description_width": ""
      }
     },
     "d2223e447d984c62b2d24d14be514316": {
      "model_module": "@jupyter-widgets/controls",
      "model_module_version": "1.5.0",
      "model_name": "HTMLModel",
      "state": {
       "layout": "IPY_MODEL_aed50480a89b47a0a2742088eed94686",
       "style": "IPY_MODEL_4860b82c6fa448d29913ddccb47f2df8",
       "value": " 33/1725 [00:08&lt;07:24,  3.81it/s]"
      }
     },
     "d22fc73980ed43c2a055bc1a1701a324": {
      "model_module": "@jupyter-widgets/controls",
      "model_module_version": "1.5.0",
      "model_name": "DescriptionStyleModel",
      "state": {
       "description_width": ""
      }
     },
     "d388d50376ad42bd9f3fea6ed3ced9b2": {
      "model_module": "@jupyter-widgets/controls",
      "model_module_version": "1.5.0",
      "model_name": "DescriptionStyleModel",
      "state": {
       "description_width": ""
      }
     },
     "d3eb709634a94d06bc5481256ec309a4": {
      "model_module": "@jupyter-widgets/controls",
      "model_module_version": "1.5.0",
      "model_name": "HTMLModel",
      "state": {
       "layout": "IPY_MODEL_0353ca127ca64fccbf03a86f72f6574b",
       "style": "IPY_MODEL_039d034e89e144e6a72a4a04a9f6fa4f",
       "value": "Movies from 2018: 100%"
      }
     },
     "d401cb6c91b54295808062f70106a533": {
      "model_module": "@jupyter-widgets/base",
      "model_module_version": "1.2.0",
      "model_name": "LayoutModel",
      "state": {}
     },
     "d43b2ea1c46c4b37a3f27eabf0b673b7": {
      "model_module": "@jupyter-widgets/controls",
      "model_module_version": "1.5.0",
      "model_name": "HTMLModel",
      "state": {
       "layout": "IPY_MODEL_8788114f126c4abc80357a91ee8a7aeb",
       "style": "IPY_MODEL_22be3a3165844ec09eb78bbb06e5ca7d",
       "value": "Movies from 2019: 100%"
      }
     },
     "d5393ae9b58b4194a918c112134eec86": {
      "model_module": "@jupyter-widgets/controls",
      "model_module_version": "1.5.0",
      "model_name": "HTMLModel",
      "state": {
       "layout": "IPY_MODEL_016d727ffb3846dba53a7eaa2b91c1d7",
       "style": "IPY_MODEL_f89c6997a9da443e93ffe4aa0c0b6845",
       "value": "Movies from 2021: 100%"
      }
     },
     "d67b504ade03444cbf0b504b0de9e966": {
      "model_module": "@jupyter-widgets/controls",
      "model_module_version": "1.5.0",
      "model_name": "HTMLModel",
      "state": {
       "layout": "IPY_MODEL_e9702833520948bdb761d4def8fce3de",
       "style": "IPY_MODEL_dca15aa2ccb74090b7974e07ee061eee",
       "value": "Movies from 2000:   0%"
      }
     },
     "d6b19c2777da468f90ffbc131b88ce27": {
      "model_module": "@jupyter-widgets/base",
      "model_module_version": "1.2.0",
      "model_name": "LayoutModel",
      "state": {}
     },
     "d7b2c0a1bd534ffca0b1f9e50180a4b0": {
      "model_module": "@jupyter-widgets/controls",
      "model_module_version": "1.5.0",
      "model_name": "DescriptionStyleModel",
      "state": {
       "description_width": ""
      }
     },
     "d84381d090fa45ea9cb70dca4b7a5ddb": {
      "model_module": "@jupyter-widgets/controls",
      "model_module_version": "1.5.0",
      "model_name": "ProgressStyleModel",
      "state": {
       "description_width": ""
      }
     },
     "d89fe75864084a8282817c1be9a471fe": {
      "model_module": "@jupyter-widgets/base",
      "model_module_version": "1.2.0",
      "model_name": "LayoutModel",
      "state": {}
     },
     "d8dd83f342b94369a86da918bdb3a470": {
      "model_module": "@jupyter-widgets/base",
      "model_module_version": "1.2.0",
      "model_name": "LayoutModel",
      "state": {}
     },
     "d916819e46c94b4bad880c0d432fecd3": {
      "model_module": "@jupyter-widgets/base",
      "model_module_version": "1.2.0",
      "model_name": "LayoutModel",
      "state": {}
     },
     "d9aa8ede1d924311997a277b07ebb969": {
      "model_module": "@jupyter-widgets/base",
      "model_module_version": "1.2.0",
      "model_name": "LayoutModel",
      "state": {}
     },
     "da8a80c8018a4386a60a249ce4cf4fc6": {
      "model_module": "@jupyter-widgets/controls",
      "model_module_version": "1.5.0",
      "model_name": "FloatProgressModel",
      "state": {
       "bar_style": "success",
       "layout": "IPY_MODEL_2b4c64610d1d424a8551f8191814c8ed",
       "max": 1725,
       "style": "IPY_MODEL_45d22407aba44728bd71e0286be1d0a1",
       "value": 1725
      }
     },
     "db0df0b79c5d49b18cc078abff4f1a11": {
      "model_module": "@jupyter-widgets/base",
      "model_module_version": "1.2.0",
      "model_name": "LayoutModel",
      "state": {}
     },
     "db43b788dc974cecb17b9fca3f7e7f27": {
      "model_module": "@jupyter-widgets/controls",
      "model_module_version": "1.5.0",
      "model_name": "ProgressStyleModel",
      "state": {
       "description_width": ""
      }
     },
     "db8797633e1840aab00eaab3f3b52041": {
      "model_module": "@jupyter-widgets/base",
      "model_module_version": "1.2.0",
      "model_name": "LayoutModel",
      "state": {}
     },
     "dbd8653c75514d5a870ad0634b45be26": {
      "model_module": "@jupyter-widgets/controls",
      "model_module_version": "1.5.0",
      "model_name": "DescriptionStyleModel",
      "state": {
       "description_width": ""
      }
     },
     "dbe6422ab80547859f7acf73c5a0a706": {
      "model_module": "@jupyter-widgets/base",
      "model_module_version": "1.2.0",
      "model_name": "LayoutModel",
      "state": {}
     },
     "dc3d322c5434404bb59e1df77b18eb0f": {
      "model_module": "@jupyter-widgets/controls",
      "model_module_version": "1.5.0",
      "model_name": "ProgressStyleModel",
      "state": {
       "description_width": ""
      }
     },
     "dc9f4fe014254758b5b47c9a5710d348": {
      "model_module": "@jupyter-widgets/controls",
      "model_module_version": "1.5.0",
      "model_name": "HTMLModel",
      "state": {
       "layout": "IPY_MODEL_d9aa8ede1d924311997a277b07ebb969",
       "style": "IPY_MODEL_3479d00ba8694c30981c80bbeb756b2e",
       "value": "Movies from 2000:   2%"
      }
     },
     "dca15aa2ccb74090b7974e07ee061eee": {
      "model_module": "@jupyter-widgets/controls",
      "model_module_version": "1.5.0",
      "model_name": "DescriptionStyleModel",
      "state": {
       "description_width": ""
      }
     },
     "dd46ad497bb24a96a52e67c3a63edc77": {
      "model_module": "@jupyter-widgets/controls",
      "model_module_version": "1.5.0",
      "model_name": "FloatProgressModel",
      "state": {
       "bar_style": "success",
       "layout": "IPY_MODEL_0c1b7e8e51534df39e24df438584acec",
       "max": 5418,
       "style": "IPY_MODEL_d84381d090fa45ea9cb70dca4b7a5ddb",
       "value": 5418
      }
     },
     "ddad812da0f74f2bba1599be6c0783f1": {
      "model_module": "@jupyter-widgets/base",
      "model_module_version": "1.2.0",
      "model_name": "LayoutModel",
      "state": {}
     },
     "de1bca47206b4d6ebb0c445221deddeb": {
      "model_module": "@jupyter-widgets/base",
      "model_module_version": "1.2.0",
      "model_name": "LayoutModel",
      "state": {}
     },
     "deb82c581bfd4acbb83ccefb42f707a5": {
      "model_module": "@jupyter-widgets/controls",
      "model_module_version": "1.5.0",
      "model_name": "HTMLModel",
      "state": {
       "layout": "IPY_MODEL_123ad83ce3d24db7811861f9c7101b35",
       "style": "IPY_MODEL_7f791e3814f744f1bbed9519bf0a129b",
       "value": "YEARS: 100%"
      }
     },
     "df7ca98051e045658f3e19ac85fcab5e": {
      "model_module": "@jupyter-widgets/controls",
      "model_module_version": "1.5.0",
      "model_name": "HBoxModel",
      "state": {
       "children": [
        "IPY_MODEL_fabbcd2ec46948ea9493e08cb8a45e13",
        "IPY_MODEL_75eb4714b9bc452997f60344c324476b",
        "IPY_MODEL_9c602eeec86a4ccfacd1999d6a0e6c15"
       ],
       "layout": "IPY_MODEL_ddad812da0f74f2bba1599be6c0783f1"
      }
     },
     "dffef8f24dcd44399ec2f4d0f150a49d": {
      "model_module": "@jupyter-widgets/controls",
      "model_module_version": "1.5.0",
      "model_name": "FloatProgressModel",
      "state": {
       "bar_style": "success",
       "layout": "IPY_MODEL_09f7475d63d84a64920aa4e3441bb8e1",
       "max": 7753,
       "style": "IPY_MODEL_887dba52bd914a8fa334ab97fbb4e5ea",
       "value": 7753
      }
     },
     "e0c7e10309d448459bfac199ba294fcc": {
      "model_module": "@jupyter-widgets/controls",
      "model_module_version": "1.5.0",
      "model_name": "HBoxModel",
      "state": {
       "children": [
        "IPY_MODEL_040aab0051f14cad90765dbe57af4b4f",
        "IPY_MODEL_07ea0de8d37e4ff4ae3834f1659cb281",
        "IPY_MODEL_03bc0c8afea44af2808c4319435632c5"
       ],
       "layout": "IPY_MODEL_1e8fadfc45234aedb624adb398019713"
      }
     },
     "e0e1fdd0bfab46fc94386c58f15f6c97": {
      "model_module": "@jupyter-widgets/controls",
      "model_module_version": "1.5.0",
      "model_name": "ProgressStyleModel",
      "state": {
       "description_width": ""
      }
     },
     "e1ed1de9ef51406b8f340dbda7ff7773": {
      "model_module": "@jupyter-widgets/base",
      "model_module_version": "1.2.0",
      "model_name": "LayoutModel",
      "state": {}
     },
     "e243edf372d342a690471b7f96c6386e": {
      "model_module": "@jupyter-widgets/controls",
      "model_module_version": "1.5.0",
      "model_name": "FloatProgressModel",
      "state": {
       "bar_style": "success",
       "layout": "IPY_MODEL_cdcae311f3e246bbbef34348f9bfe5b1",
       "max": 6962,
       "style": "IPY_MODEL_335cac32bb334207b738223771c98ab2",
       "value": 6962
      }
     },
     "e297e09feb584ee7ac7b3b6f4f701b3c": {
      "model_module": "@jupyter-widgets/controls",
      "model_module_version": "1.5.0",
      "model_name": "HTMLModel",
      "state": {
       "layout": "IPY_MODEL_f9bdbc896bba4f3cbf32439eccffa1b3",
       "style": "IPY_MODEL_058de37a9c1240b9a3c91014477ee208",
       "value": " 7648/7648 [41:13&lt;00:00,  3.57it/s]"
      }
     },
     "e2f4ec4aecd3470a824f671fcd4e359b": {
      "model_module": "@jupyter-widgets/controls",
      "model_module_version": "1.5.0",
      "model_name": "FloatProgressModel",
      "state": {
       "bar_style": "success",
       "layout": "IPY_MODEL_95c6a8895f0f41f484bbca0ea3a8dcea",
       "max": 1922,
       "style": "IPY_MODEL_4d23ffc781be45bebdad87e69b423049",
       "value": 1922
      }
     },
     "e34877bc0e5946169b1720f166c02e90": {
      "model_module": "@jupyter-widgets/base",
      "model_module_version": "1.2.0",
      "model_name": "LayoutModel",
      "state": {}
     },
     "e35b8943640d4544ace219d844ee6ccb": {
      "model_module": "@jupyter-widgets/controls",
      "model_module_version": "1.5.0",
      "model_name": "FloatProgressModel",
      "state": {
       "bar_style": "danger",
       "layout": "IPY_MODEL_4ec851554a804cb5b72973c39d4bbb93",
       "max": 1725,
       "style": "IPY_MODEL_ace5c1d71118400a8d14bfb3712d0812",
       "value": 227
      }
     },
     "e3acabfb405644a9823f0ab9a6b6852a": {
      "model_module": "@jupyter-widgets/controls",
      "model_module_version": "1.5.0",
      "model_name": "DescriptionStyleModel",
      "state": {
       "description_width": ""
      }
     },
     "e3c75d85bb884d3d93033437dff38388": {
      "model_module": "@jupyter-widgets/base",
      "model_module_version": "1.2.0",
      "model_name": "LayoutModel",
      "state": {}
     },
     "e3d53deacf344176930eefb16a2ebfbc": {
      "model_module": "@jupyter-widgets/base",
      "model_module_version": "1.2.0",
      "model_name": "LayoutModel",
      "state": {}
     },
     "e4e4dd0a215f4585892795634b9f0d71": {
      "model_module": "@jupyter-widgets/controls",
      "model_module_version": "1.5.0",
      "model_name": "HTMLModel",
      "state": {
       "layout": "IPY_MODEL_3d9e3b2fcc57404eb6c66478b09d2c11",
       "style": "IPY_MODEL_e53a4f3d07f14d89854e10499dcb3b0f",
       "value": " 6/1725 [00:02&lt;12:48,  2.24it/s]"
      }
     },
     "e4ed4c1974f74162a0e1b123dd0fe211": {
      "model_module": "@jupyter-widgets/base",
      "model_module_version": "1.2.0",
      "model_name": "LayoutModel",
      "state": {}
     },
     "e53a4f3d07f14d89854e10499dcb3b0f": {
      "model_module": "@jupyter-widgets/controls",
      "model_module_version": "1.5.0",
      "model_name": "DescriptionStyleModel",
      "state": {
       "description_width": ""
      }
     },
     "e5a8aaaff19f4d9faaf83b9af5327260": {
      "model_module": "@jupyter-widgets/controls",
      "model_module_version": "1.5.0",
      "model_name": "FloatProgressModel",
      "state": {
       "bar_style": "danger",
       "layout": "IPY_MODEL_9b5fac3eb36f4111abdb281de32c4d89",
       "max": 1725,
       "style": "IPY_MODEL_0dce55e045f747728e0e3a9f519b0061",
       "value": 85
      }
     },
     "e6343e3adf604fa9a6aeefeb67dfd572": {
      "model_module": "@jupyter-widgets/controls",
      "model_module_version": "1.5.0",
      "model_name": "HTMLModel",
      "state": {
       "layout": "IPY_MODEL_e3c75d85bb884d3d93033437dff38388",
       "style": "IPY_MODEL_0597051d72d44a2fa2dc696f46145481",
       "value": " 5418/5418 [27:32&lt;00:00,  3.76it/s]"
      }
     },
     "e85c5c4419c74f8dbef92e67e86a5aa0": {
      "model_module": "@jupyter-widgets/base",
      "model_module_version": "1.2.0",
      "model_name": "LayoutModel",
      "state": {}
     },
     "e87d35ac365d422eaf47f2c2ddeab1fb": {
      "model_module": "@jupyter-widgets/base",
      "model_module_version": "1.2.0",
      "model_name": "LayoutModel",
      "state": {}
     },
     "e8de5458f7fe437eb3dc38046ff39257": {
      "model_module": "@jupyter-widgets/controls",
      "model_module_version": "1.5.0",
      "model_name": "FloatProgressModel",
      "state": {
       "bar_style": "danger",
       "layout": "IPY_MODEL_29b870a92638453790c344fb145e8889",
       "max": 23,
       "style": "IPY_MODEL_4a7fe544455e49aa851d3d03afece1ea"
      }
     },
     "e937aa2acf1b46479aa1269f4249e559": {
      "model_module": "@jupyter-widgets/controls",
      "model_module_version": "1.5.0",
      "model_name": "HTMLModel",
      "state": {
       "layout": "IPY_MODEL_fd10208330cf4e81b860a6caffaba8ee",
       "style": "IPY_MODEL_283f815b1866435189c9809d8c0d53d9",
       "value": "Movies from 2015: 100%"
      }
     },
     "e9702833520948bdb761d4def8fce3de": {
      "model_module": "@jupyter-widgets/base",
      "model_module_version": "1.2.0",
      "model_name": "LayoutModel",
      "state": {}
     },
     "ea171c4fed564a22bb00def946094fc6": {
      "model_module": "@jupyter-widgets/base",
      "model_module_version": "1.2.0",
      "model_name": "LayoutModel",
      "state": {}
     },
     "eb7eaa13e7f94481bdfca424bd50618d": {
      "model_module": "@jupyter-widgets/base",
      "model_module_version": "1.2.0",
      "model_name": "LayoutModel",
      "state": {}
     },
     "ebad5574a9554a2482270ec5c6b4d9c2": {
      "model_module": "@jupyter-widgets/base",
      "model_module_version": "1.2.0",
      "model_name": "LayoutModel",
      "state": {}
     },
     "ecd0f42670f146a08f712dab3bd7bb6b": {
      "model_module": "@jupyter-widgets/controls",
      "model_module_version": "1.5.0",
      "model_name": "HBoxModel",
      "state": {
       "children": [
        "IPY_MODEL_dc9f4fe014254758b5b47c9a5710d348",
        "IPY_MODEL_554a61e5572b48daae560508c5b6ff18",
        "IPY_MODEL_d2223e447d984c62b2d24d14be514316"
       ],
       "layout": "IPY_MODEL_a06c10ad84084f2591929626920a5823"
      }
     },
     "ed26d4415f294a6a8b62f807f03e0ed7": {
      "model_module": "@jupyter-widgets/controls",
      "model_module_version": "1.5.0",
      "model_name": "HTMLModel",
      "state": {
       "layout": "IPY_MODEL_791cfdd75a2d436cacea589f945c0d9d",
       "style": "IPY_MODEL_389f36d9f45b4b3ca9bc41f0b529cea7",
       "value": " 0/23 [00:08&lt;?, ?it/s]"
      }
     },
     "edbd9aca172946a190440da3b86716d8": {
      "model_module": "@jupyter-widgets/base",
      "model_module_version": "1.2.0",
      "model_name": "LayoutModel",
      "state": {}
     },
     "ede85df4937f4cac928d07256f703584": {
      "model_module": "@jupyter-widgets/controls",
      "model_module_version": "1.5.0",
      "model_name": "DescriptionStyleModel",
      "state": {
       "description_width": ""
      }
     },
     "ee42dd3a57224360b609072c9376669d": {
      "model_module": "@jupyter-widgets/controls",
      "model_module_version": "1.5.0",
      "model_name": "HTMLModel",
      "state": {
       "layout": "IPY_MODEL_b2e0fee7880e4955822695f883dcbcbd",
       "style": "IPY_MODEL_4a23143404d942a49a5abd716ebccb2f",
       "value": " 0/23 [00:02&lt;?, ?it/s]"
      }
     },
     "ee66097877c44e6c891e5568bc5c5a50": {
      "model_module": "@jupyter-widgets/controls",
      "model_module_version": "1.5.0",
      "model_name": "DescriptionStyleModel",
      "state": {
       "description_width": ""
      }
     },
     "ee8cf09c4ec445d0932f71ed2baae1f3": {
      "model_module": "@jupyter-widgets/controls",
      "model_module_version": "1.5.0",
      "model_name": "FloatProgressModel",
      "state": {
       "bar_style": "danger",
       "layout": "IPY_MODEL_a138f8556eac44619c22befa68d8c07f",
       "max": 1723,
       "style": "IPY_MODEL_45deaf72749445d7a1570880acf8ac58"
      }
     },
     "eebbd8ef129442828172e8f0786a6d6e": {
      "model_module": "@jupyter-widgets/base",
      "model_module_version": "1.2.0",
      "model_name": "LayoutModel",
      "state": {}
     },
     "eee2cd8c68ae47fb9879014e940d96e9": {
      "model_module": "@jupyter-widgets/controls",
      "model_module_version": "1.5.0",
      "model_name": "HTMLModel",
      "state": {
       "layout": "IPY_MODEL_acf70cf46b0a402d9064060853ef9b47",
       "style": "IPY_MODEL_d0854360462d417881dddee02d35273f",
       "value": "Movies from 2000:   1%"
      }
     },
     "ef04d0197c96460f893bef8ac944ee46": {
      "model_module": "@jupyter-widgets/base",
      "model_module_version": "1.2.0",
      "model_name": "LayoutModel",
      "state": {}
     },
     "f06c6c1b48c743a6b489cd646e3f3ca4": {
      "model_module": "@jupyter-widgets/base",
      "model_module_version": "1.2.0",
      "model_name": "LayoutModel",
      "state": {}
     },
     "f0bd9a84c3d44f9fb8653a9fd1a8eed4": {
      "model_module": "@jupyter-widgets/controls",
      "model_module_version": "1.5.0",
      "model_name": "DescriptionStyleModel",
      "state": {
       "description_width": ""
      }
     },
     "f2232f88a2524d6ea2cf84cfcb59822e": {
      "model_module": "@jupyter-widgets/controls",
      "model_module_version": "1.5.0",
      "model_name": "FloatProgressModel",
      "state": {
       "bar_style": "success",
       "layout": "IPY_MODEL_5717fbae8d5948f89697c441a79b9be8",
       "max": 6677,
       "style": "IPY_MODEL_3d93bb1b63b14d4b944868cc0c44980e",
       "value": 6677
      }
     },
     "f250dc67a8c74f219710001243d1d9ee": {
      "model_module": "@jupyter-widgets/base",
      "model_module_version": "1.2.0",
      "model_name": "LayoutModel",
      "state": {}
     },
     "f36f3988aff04d1aac67780fbdb5eca1": {
      "model_module": "@jupyter-widgets/base",
      "model_module_version": "1.2.0",
      "model_name": "LayoutModel",
      "state": {}
     },
     "f38bcb3e6fd54af8897dd8b7be9a970e": {
      "model_module": "@jupyter-widgets/controls",
      "model_module_version": "1.5.0",
      "model_name": "DescriptionStyleModel",
      "state": {
       "description_width": ""
      }
     },
     "f3b91b7ffcf248e193d0afb8a81ba54f": {
      "model_module": "@jupyter-widgets/controls",
      "model_module_version": "1.5.0",
      "model_name": "DescriptionStyleModel",
      "state": {
       "description_width": ""
      }
     },
     "f3d9dc8ca1694a5ea12916fb23b4cf22": {
      "model_module": "@jupyter-widgets/controls",
      "model_module_version": "1.5.0",
      "model_name": "DescriptionStyleModel",
      "state": {
       "description_width": ""
      }
     },
     "f416a8fea57344da8ecf7fc4db9f7c00": {
      "model_module": "@jupyter-widgets/controls",
      "model_module_version": "1.5.0",
      "model_name": "HTMLModel",
      "state": {
       "layout": "IPY_MODEL_ef04d0197c96460f893bef8ac944ee46",
       "style": "IPY_MODEL_a60472ed4d274fe2a4012f3fcbc333e2",
       "value": "Movies from 2013: 100%"
      }
     },
     "f4427b7325c44028a6e7f9bdd63d2d45": {
      "model_module": "@jupyter-widgets/controls",
      "model_module_version": "1.5.0",
      "model_name": "HTMLModel",
      "state": {
       "layout": "IPY_MODEL_521da8dcd7e5412d84004063e11f8733",
       "style": "IPY_MODEL_0a806471cd22470bbc5efebf1c513d07",
       "value": "Movies from 2001: 100%"
      }
     },
     "f468b600feaf44cd8e07daa852bde9ce": {
      "model_module": "@jupyter-widgets/base",
      "model_module_version": "1.2.0",
      "model_name": "LayoutModel",
      "state": {}
     },
     "f4789f0d070a479183a20ad706668e9f": {
      "model_module": "@jupyter-widgets/base",
      "model_module_version": "1.2.0",
      "model_name": "LayoutModel",
      "state": {}
     },
     "f6a4b7479b6c4dd88021fc7f78e33ad7": {
      "model_module": "@jupyter-widgets/controls",
      "model_module_version": "1.5.0",
      "model_name": "DescriptionStyleModel",
      "state": {
       "description_width": ""
      }
     },
     "f73b9233f438497890c0bf1b14ec3f60": {
      "model_module": "@jupyter-widgets/base",
      "model_module_version": "1.2.0",
      "model_name": "LayoutModel",
      "state": {}
     },
     "f7408fafef9240acb4e903937bda0fc1": {
      "model_module": "@jupyter-widgets/controls",
      "model_module_version": "1.5.0",
      "model_name": "HTMLModel",
      "state": {
       "layout": "IPY_MODEL_2b8fd1c4c4e94b2cba68dc336175c44a",
       "style": "IPY_MODEL_ede85df4937f4cac928d07256f703584",
       "value": "YEARS:   0%"
      }
     },
     "f740d599c4914fb1bbdc2ec908ca806d": {
      "model_module": "@jupyter-widgets/controls",
      "model_module_version": "1.5.0",
      "model_name": "DescriptionStyleModel",
      "state": {
       "description_width": ""
      }
     },
     "f7b6dea2a1ed4ad18c9bb9fd368740ec": {
      "model_module": "@jupyter-widgets/controls",
      "model_module_version": "1.5.0",
      "model_name": "FloatProgressModel",
      "state": {
       "bar_style": "danger",
       "layout": "IPY_MODEL_d916819e46c94b4bad880c0d432fecd3",
       "max": 1725,
       "style": "IPY_MODEL_563f5a9cc3e64bd9b1a1efd1c6818658",
       "value": 2
      }
     },
     "f7e3a5cf1a0445498f52b1f942bf4027": {
      "model_module": "@jupyter-widgets/controls",
      "model_module_version": "1.5.0",
      "model_name": "DescriptionStyleModel",
      "state": {
       "description_width": ""
      }
     },
     "f7f802a877ae4abe8c926dd2720271f5": {
      "model_module": "@jupyter-widgets/controls",
      "model_module_version": "1.5.0",
      "model_name": "HTMLModel",
      "state": {
       "layout": "IPY_MODEL_68e3192495dc4a6583bb28417d7b62fb",
       "style": "IPY_MODEL_93b5dab341d74655a181b717affc765d",
       "value": " 0/1723 [00:00&lt;?, ?it/s]"
      }
     },
     "f89200eed2444830a45d56fd1eb91aab": {
      "model_module": "@jupyter-widgets/controls",
      "model_module_version": "1.5.0",
      "model_name": "DescriptionStyleModel",
      "state": {
       "description_width": ""
      }
     },
     "f89c6997a9da443e93ffe4aa0c0b6845": {
      "model_module": "@jupyter-widgets/controls",
      "model_module_version": "1.5.0",
      "model_name": "DescriptionStyleModel",
      "state": {
       "description_width": ""
      }
     },
     "f8e87727732b45b183f4cfc65f909189": {
      "model_module": "@jupyter-widgets/controls",
      "model_module_version": "1.5.0",
      "model_name": "DescriptionStyleModel",
      "state": {
       "description_width": ""
      }
     },
     "f9bdbc896bba4f3cbf32439eccffa1b3": {
      "model_module": "@jupyter-widgets/base",
      "model_module_version": "1.2.0",
      "model_name": "LayoutModel",
      "state": {}
     },
     "f9d02a79da75426b8504e3bca3eed850": {
      "model_module": "@jupyter-widgets/base",
      "model_module_version": "1.2.0",
      "model_name": "LayoutModel",
      "state": {}
     },
     "fab1bb7d509a49fdbe2d15eee4bcd80a": {
      "model_module": "@jupyter-widgets/controls",
      "model_module_version": "1.5.0",
      "model_name": "FloatProgressModel",
      "state": {
       "bar_style": "success",
       "layout": "IPY_MODEL_db0df0b79c5d49b18cc078abff4f1a11",
       "max": 4118,
       "style": "IPY_MODEL_165909954cbd4f5abfb364a4471f0bde",
       "value": 4118
      }
     },
     "fab93c4ea51f4584a410451d40f4dfa6": {
      "model_module": "@jupyter-widgets/base",
      "model_module_version": "1.2.0",
      "model_name": "LayoutModel",
      "state": {}
     },
     "fabbcd2ec46948ea9493e08cb8a45e13": {
      "model_module": "@jupyter-widgets/controls",
      "model_module_version": "1.5.0",
      "model_name": "HTMLModel",
      "state": {
       "layout": "IPY_MODEL_5ed5aafafee34f1dbd012a63f48f03ea",
       "style": "IPY_MODEL_4cda00570ee84f919c4a6fd657916b62",
       "value": "Movies from 2009: 100%"
      }
     },
     "fba7beef427a4a53bd87f731806dbb9e": {
      "model_module": "@jupyter-widgets/controls",
      "model_module_version": "1.5.0",
      "model_name": "DescriptionStyleModel",
      "state": {
       "description_width": ""
      }
     },
     "fcd45615ee93499ca0bc868817ff2c0a": {
      "model_module": "@jupyter-widgets/base",
      "model_module_version": "1.2.0",
      "model_name": "LayoutModel",
      "state": {}
     },
     "fd10208330cf4e81b860a6caffaba8ee": {
      "model_module": "@jupyter-widgets/base",
      "model_module_version": "1.2.0",
      "model_name": "LayoutModel",
      "state": {}
     },
     "fe3eda680539461792fdaa41221fbbfe": {
      "model_module": "@jupyter-widgets/controls",
      "model_module_version": "1.5.0",
      "model_name": "DescriptionStyleModel",
      "state": {
       "description_width": ""
      }
     },
     "fe54c94ba8e94a79825ffd6c17efe5e1": {
      "model_module": "@jupyter-widgets/controls",
      "model_module_version": "1.5.0",
      "model_name": "HBoxModel",
      "state": {
       "children": [
        "IPY_MODEL_f416a8fea57344da8ecf7fc4db9f7c00",
        "IPY_MODEL_6f664ad5c0ec4716ad9eeb705f1a3a8d",
        "IPY_MODEL_3a5323499be147799daea62e54a91a3a"
       ],
       "layout": "IPY_MODEL_3073adacef4940e8a1872bb541108bf0"
      }
     },
     "ff103129a4d641c39f0c9d78b47092e8": {
      "model_module": "@jupyter-widgets/controls",
      "model_module_version": "1.5.0",
      "model_name": "HBoxModel",
      "state": {
       "children": [
        "IPY_MODEL_4ae9c780a4d546a48dddfd39bc07e758",
        "IPY_MODEL_dd46ad497bb24a96a52e67c3a63edc77",
        "IPY_MODEL_e6343e3adf604fa9a6aeefeb67dfd572"
       ],
       "layout": "IPY_MODEL_93d8720b839e4479844d65e4f0d9d772"
      }
     },
     "ffc7f0cb207b4129bdd21989409df39c": {
      "model_module": "@jupyter-widgets/controls",
      "model_module_version": "1.5.0",
      "model_name": "DescriptionStyleModel",
      "state": {
       "description_width": ""
      }
     }
    },
    "version_major": 2,
    "version_minor": 0
   }
  }
 },
 "nbformat": 4,
 "nbformat_minor": 5
}
