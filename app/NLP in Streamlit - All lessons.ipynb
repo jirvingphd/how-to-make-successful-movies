{
 "cells": [
  {
   "cell_type": "code",
   "execution_count": 1,
   "id": "3ffc8bee-e4cc-44cc-aeb6-63fc4ca05de7",
   "metadata": {
    "execution": {
     "iopub.execute_input": "2023-12-15T00:03:33.048788Z",
     "iopub.status.busy": "2023-12-15T00:03:33.048663Z",
     "iopub.status.idle": "2023-12-15T00:03:33.055642Z",
     "shell.execute_reply": "2023-12-15T00:03:33.054823Z",
     "shell.execute_reply.started": "2023-12-15T00:03:33.048773Z"
    }
   },
   "outputs": [],
   "source": [
    "STOP_EACH_LESSON = False"
   ]
  },
  {
   "cell_type": "code",
   "execution_count": 2,
   "id": "1e202c8f-c56a-43f0-94c9-49867d213d6e",
   "metadata": {
    "execution": {
     "iopub.execute_input": "2023-12-15T00:03:33.060008Z",
     "iopub.status.busy": "2023-12-15T00:03:33.059568Z",
     "iopub.status.idle": "2023-12-15T00:03:33.063108Z",
     "shell.execute_reply": "2023-12-15T00:03:33.062568Z",
     "shell.execute_reply.started": "2023-12-15T00:03:33.059981Z"
    }
   },
   "outputs": [],
   "source": [
    "# from tensorflow.keras.layers import Embedding\n",
    "# # Create the embedding layer using the embedding matrix\n",
    "# initializer = tf.keras.initializers.Constant(embedding_matrix)\n",
    "# glove_embedding_layer = Embedding(input_dim=vocab_size,\n",
    "#                             output_dim=embedding_dim,\n",
    "#                             embeddings_initializer =initializer,\n",
    "#                             trainable=False,  # Set trainable=False to keep the embeddings fixed\n",
    "#                             input_length=SEQUENCE_LENGTH)\n",
    "\n"
   ]
  },
  {
   "cell_type": "markdown",
   "id": "7eafd499-c609-43e3-9172-7d8e8a7cd2a9",
   "metadata": {},
   "source": [
    "# 📚1) Preparing NLP ML Models for Streamlit\n",
    "- https://learn.codingdojo.com/m/692/16504/125402"
   ]
  },
  {
   "cell_type": "markdown",
   "id": "00a6c2c2-5280-415f-be56-d316669a861f",
   "metadata": {},
   "source": [
    "> 2 NEW FILEPATHS FOR FPATHS:"
   ]
  },
  {
   "cell_type": "code",
   "execution_count": 3,
   "id": "77ac0812-2a7d-4e55-98a9-5256d6c0f2aa",
   "metadata": {
    "execution": {
     "iopub.execute_input": "2023-12-15T00:03:33.064109Z",
     "iopub.status.busy": "2023-12-15T00:03:33.063934Z",
     "iopub.status.idle": "2023-12-15T00:03:33.068694Z",
     "shell.execute_reply": "2023-12-15T00:03:33.068281Z",
     "shell.execute_reply.started": "2023-12-15T00:03:33.064092Z"
    }
   },
   "outputs": [
    {
     "name": "stdout",
     "output_type": "stream",
     "text": [
      "{'data': {'filtered': 'data/yelp-reviews-filtered.csv',\n",
      "          'ml': {'label_encoder': 'data/label-encoder.joblib',\n",
      "                 'target_lookup': 'data/target-lookup-dict.joblib',\n",
      "                 'test': 'data/testing-data.joblib',\n",
      "                 'train': 'data/training-data.joblib'},\n",
      "          'processed': 'data/yelp-reviews-tokenized.joblib',\n",
      "          'tf': {'test_tf': 'data/testing_tf', 'train_tf': 'data/training_tf'}},\n",
      " 'eda': {'scattertext': 'eda/scattertext.html',\n",
      "         'wordclouds-lemmas': 'eda/wordclouds-lemmas.png',\n",
      "         'wordclouds-raw': 'eda/wordclouds-raw-text.png'},\n",
      " 'models': {'gru': 'models/tf/',\n",
      "            'nb': 'models/nb-pipe.joblib',\n",
      "            'rf': 'models/rf-pipe.joblib'}}\n"
     ]
    }
   ],
   "source": [
    "from pprint import pprint\n",
    "FPATHS = dict(\n",
    "    data={\n",
    "        \"filtered\":  \"data/yelp-reviews-filtered.csv\",\n",
    "        \"processed\": \"data/yelp-reviews-tokenized.joblib\",\n",
    "        \"ml\": {\n",
    "            \"train\": \"data/training-data.joblib\",  \n",
    "            \"test\": \"data/testing-data.joblib\",\n",
    "            \n",
    "            # @BRENDA: NEW TO ADD:\n",
    "            \"label_encoder\":\"data/label-encoder.joblib\",\n",
    "            'target_lookup':\"data/target-lookup-dict.joblib\",\n",
    "            \n",
    "        },\n",
    "        \"tf\": {\n",
    "            \"train_tf\": \"data/training_tf\",  \n",
    "            \"test_tf\": \"data/testing_tf\", \n",
    "         },           \n",
    "    },\n",
    "    models={\n",
    "        \"rf\": \"models/rf-pipe.joblib\", \n",
    "        \"nb\": \"models/nb-pipe.joblib\", \n",
    "        \"gru\": \"models/tf/\"\n",
    "    },\n",
    "    eda = {\n",
    "        \"scattertext\": \"eda/scattertext.html\",\n",
    "        \"wordclouds-raw\": \"eda/wordclouds-raw-text.png\",\n",
    "        'wordclouds-lemmas':\"eda/wordclouds-lemmas.png\",\n",
    "    }\n",
    ")\n",
    "pprint(FPATHS)\n"
   ]
  },
  {
   "cell_type": "code",
   "execution_count": 4,
   "id": "72c38bfc-03f3-4214-93a5-931b5d1c32e8",
   "metadata": {
    "execution": {
     "iopub.execute_input": "2023-12-15T00:03:33.069623Z",
     "iopub.status.busy": "2023-12-15T00:03:33.069432Z",
     "iopub.status.idle": "2023-12-15T00:03:33.075229Z",
     "shell.execute_reply": "2023-12-15T00:03:33.074835Z",
     "shell.execute_reply.started": "2023-12-15T00:03:33.069609Z"
    }
   },
   "outputs": [],
   "source": [
    "# Save the filepaths in a config folder\n",
    "import os, json\n",
    "os.makedirs('config/', exist_ok=True)\n",
    "FPATHS_FILE = 'config/filepaths.json'\n",
    "with open(FPATHS_FILE, 'w') as f:\n",
    "    json.dump(FPATHS, f)\n"
   ]
  },
  {
   "cell_type": "code",
   "execution_count": 5,
   "id": "860f9533-93c5-4573-bf36-c0931d697982",
   "metadata": {
    "execution": {
     "iopub.execute_input": "2023-12-15T00:03:33.076213Z",
     "iopub.status.busy": "2023-12-15T00:03:33.076068Z",
     "iopub.status.idle": "2023-12-15T00:03:37.582438Z",
     "shell.execute_reply": "2023-12-15T00:03:37.582079Z",
     "shell.execute_reply.started": "2023-12-15T00:03:33.076198Z"
    }
   },
   "outputs": [],
   "source": [
    "import os, sys\n",
    "%load_ext autoreload \n",
    "%autoreload 2\n",
    "import custom_functions_temp as fn\n"
   ]
  },
  {
   "cell_type": "code",
   "execution_count": 6,
   "id": "5fe7f4e5-dc75-4a54-8930-21e2335ce8ec",
   "metadata": {
    "execution": {
     "iopub.execute_input": "2023-12-15T00:03:37.583085Z",
     "iopub.status.busy": "2023-12-15T00:03:37.582883Z",
     "iopub.status.idle": "2023-12-15T00:03:37.612175Z",
     "shell.execute_reply": "2023-12-15T00:03:37.611766Z",
     "shell.execute_reply.started": "2023-12-15T00:03:37.583075Z"
    }
   },
   "outputs": [],
   "source": [
    "# Using function from Creating a File Structure Lesson\n",
    "fn.create_directories_from_paths(FPATHS)"
   ]
  },
  {
   "cell_type": "code",
   "execution_count": 7,
   "id": "8bd18fdd-e90a-4c37-bbd5-916cc355ae10",
   "metadata": {
    "execution": {
     "iopub.execute_input": "2023-12-15T00:03:37.614142Z",
     "iopub.status.busy": "2023-12-15T00:03:37.613959Z",
     "iopub.status.idle": "2023-12-15T00:03:37.979411Z",
     "shell.execute_reply": "2023-12-15T00:03:37.979073Z",
     "shell.execute_reply.started": "2023-12-15T00:03:37.614130Z"
    }
   },
   "outputs": [],
   "source": [
    "import pandas as pd\n",
    "import joblib\n",
    "import matplotlib.pyplot as plt\n",
    "import matplotlib as mpl\n",
    "import seaborn as sns\n",
    "import numpy as np\n",
    "from imblearn.under_sampling import RandomUnderSampler\n",
    "import spacy\n",
    "from sklearn.model_selection import train_test_split\n",
    "from sklearn.pipeline import Pipeline\n",
    "from sklearn.feature_extraction.text import CountVectorizer, TfidfVectorizer\n",
    "from sklearn.ensemble import RandomForestClassifier\n",
    "from sklearn.naive_bayes import MultinomialNB\n",
    "from sklearn import metrics\n",
    "from sklearn.metrics import ConfusionMatrixDisplay, classification_report\n",
    "import tensorflow as tf\n",
    "# Increase column width\n",
    "pd.set_option('display.max_colwidth', 250)\n",
    "import tensorflow as tf\n"
   ]
  },
  {
   "cell_type": "code",
   "execution_count": 8,
   "id": "b806a455-bfd2-45b4-816c-54db53294c34",
   "metadata": {
    "execution": {
     "iopub.execute_input": "2023-12-15T00:03:37.980042Z",
     "iopub.status.busy": "2023-12-15T00:03:37.979834Z",
     "iopub.status.idle": "2023-12-15T00:03:38.612352Z",
     "shell.execute_reply": "2023-12-15T00:03:38.612036Z",
     "shell.execute_reply.started": "2023-12-15T00:03:37.980032Z"
    }
   },
   "outputs": [
    {
     "data": {
      "text/plain": [
       "89973"
      ]
     },
     "execution_count": 8,
     "metadata": {},
     "output_type": "execute_result"
    }
   ],
   "source": [
    "# Load Data from your path\n",
    "df = pd.read_csv(\"Data/yelp-restaurant-reviews-CA-2015-2018.csv.gz\",\n",
    "                 index_col = 'date', parse_dates=['date'])\n",
    "len(df)\n"
   ]
  },
  {
   "cell_type": "code",
   "execution_count": 9,
   "id": "8d3eaced-9404-4c95-86a0-30280073efbc",
   "metadata": {
    "execution": {
     "iopub.execute_input": "2023-12-15T00:03:38.613106Z",
     "iopub.status.busy": "2023-12-15T00:03:38.612989Z",
     "iopub.status.idle": "2023-12-15T00:03:38.703657Z",
     "shell.execute_reply": "2023-12-15T00:03:38.703393Z",
     "shell.execute_reply.started": "2023-12-15T00:03:38.613096Z"
    }
   },
   "outputs": [
    {
     "data": {
      "text/html": [
       "<div>\n",
       "<style scoped>\n",
       "    .dataframe tbody tr th:only-of-type {\n",
       "        vertical-align: middle;\n",
       "    }\n",
       "\n",
       "    .dataframe tbody tr th {\n",
       "        vertical-align: top;\n",
       "    }\n",
       "\n",
       "    .dataframe thead th {\n",
       "        text-align: right;\n",
       "    }\n",
       "</style>\n",
       "<table border=\"1\" class=\"dataframe\">\n",
       "  <thead>\n",
       "    <tr style=\"text-align: right;\">\n",
       "      <th></th>\n",
       "      <th>text</th>\n",
       "      <th>stars</th>\n",
       "    </tr>\n",
       "    <tr>\n",
       "      <th>review_id</th>\n",
       "      <th></th>\n",
       "      <th></th>\n",
       "    </tr>\n",
       "  </thead>\n",
       "  <tbody>\n",
       "    <tr>\n",
       "      <th>Ebl0LmHkLsQk9hP0rBm3GA</th>\n",
       "      <td>Ate here twice and had both atmosphere and great tapas. The Jamon plate, bravas, Spanish omelette, stuffed date, pork, Brussels sprouts, wine and amazing pear dessert...I could go on and on. If visiting, Please make a reservation as soon as you a...</td>\n",
       "      <td>5</td>\n",
       "    </tr>\n",
       "    <tr>\n",
       "      <th>DBa7PNBoBGJMc2qXXl4pRA</th>\n",
       "      <td>My boyfriend and I got recommended this place by a SB local! We were just amazed! Everything from the look and feel of the place to the appetizer to the main dish, the dessert and the service was just perfect! Our food was just amazing!!!</td>\n",
       "      <td>5</td>\n",
       "    </tr>\n",
       "    <tr>\n",
       "      <th>BMfEah7vUKUvQeUTCR34iQ</th>\n",
       "      <td>I had no expectations being a first time customer, however it didn't live up to the expectations. It being a busy night I'm surprised they did not have enough bartenders at the bar. It also made it hard not knowing who was a bartender and on top ...</td>\n",
       "      <td>1</td>\n",
       "    </tr>\n",
       "    <tr>\n",
       "      <th>hCBnvLjQ18P-j_6XdC6Vqg</th>\n",
       "      <td>It was a pleasant surprise walking into this restaurant from the customer service to the food. If you're ever staying at the Hampton Inns and looking for great tasting Mexican food at walking distance check out El Pollo RICO. I ordered 1/4 of chi...</td>\n",
       "      <td>5</td>\n",
       "    </tr>\n",
       "    <tr>\n",
       "      <th>SCmr3Z6qBnMd_D42YJxElA</th>\n",
       "      <td>Everything we had today at Mesa Burger was great.  Super friendly staff here.  Fries and onion rings were delivered hot!  Ask for some ranch on the side.\\n\\nBoth Mesa Burgers we ordered were cooked perfectly.  One turkey, the other beef.  Both ta...</td>\n",
       "      <td>5</td>\n",
       "    </tr>\n",
       "  </tbody>\n",
       "</table>\n",
       "</div>"
      ],
      "text/plain": [
       "                                                                                                                                                                                                                                                                             text  \\\n",
       "review_id                                                                                                                                                                                                                                                                           \n",
       "Ebl0LmHkLsQk9hP0rBm3GA  Ate here twice and had both atmosphere and great tapas. The Jamon plate, bravas, Spanish omelette, stuffed date, pork, Brussels sprouts, wine and amazing pear dessert...I could go on and on. If visiting, Please make a reservation as soon as you a...   \n",
       "DBa7PNBoBGJMc2qXXl4pRA             My boyfriend and I got recommended this place by a SB local! We were just amazed! Everything from the look and feel of the place to the appetizer to the main dish, the dessert and the service was just perfect! Our food was just amazing!!!   \n",
       "BMfEah7vUKUvQeUTCR34iQ  I had no expectations being a first time customer, however it didn't live up to the expectations. It being a busy night I'm surprised they did not have enough bartenders at the bar. It also made it hard not knowing who was a bartender and on top ...   \n",
       "hCBnvLjQ18P-j_6XdC6Vqg  It was a pleasant surprise walking into this restaurant from the customer service to the food. If you're ever staying at the Hampton Inns and looking for great tasting Mexican food at walking distance check out El Pollo RICO. I ordered 1/4 of chi...   \n",
       "SCmr3Z6qBnMd_D42YJxElA  Everything we had today at Mesa Burger was great.  Super friendly staff here.  Fries and onion rings were delivered hot!  Ask for some ranch on the side.\\n\\nBoth Mesa Burgers we ordered were cooked perfectly.  One turkey, the other beef.  Both ta...   \n",
       "\n",
       "                        stars  \n",
       "review_id                      \n",
       "Ebl0LmHkLsQk9hP0rBm3GA      5  \n",
       "DBa7PNBoBGJMc2qXXl4pRA      5  \n",
       "BMfEah7vUKUvQeUTCR34iQ      1  \n",
       "hCBnvLjQ18P-j_6XdC6Vqg      5  \n",
       "SCmr3Z6qBnMd_D42YJxElA      5  "
      ]
     },
     "execution_count": 9,
     "metadata": {},
     "output_type": "execute_result"
    }
   ],
   "source": [
    "# Remove any non-english reviews\n",
    "df = df.loc[ df['language']=='en'].copy()\n",
    "# Keep only 1 and 5-star reviews (binary classification)\n",
    "df = df.loc[ df['stars'].isin([1,5])]\n",
    "# Take a smaller subset (only reviews from 2018)\n",
    "df = df.loc['2018']\n",
    "# Set the index\n",
    "df = df.set_index('review_id')\n",
    "# We will split on each space, and then get the length\n",
    "df['sequence_length'] =df['text'].map( lambda x: len(x.split(\" \")))\n",
    "# Define a filter to identify reviews less than 400 words\n",
    "filter_short = df['sequence_length']< 400\n",
    "# Keep short reviews (<400 words)\n",
    "df=  df.loc[filter_short]\n",
    "# Drop unnecessary columns\n",
    "df= df.drop(columns = ['business_id', 'language', 'sequence_length'])\n",
    "df.head()\n"
   ]
  },
  {
   "cell_type": "code",
   "execution_count": 10,
   "id": "8562b1a2-21cb-45d8-9330-035a2dc8b8f3",
   "metadata": {
    "execution": {
     "iopub.execute_input": "2023-12-15T00:03:38.704204Z",
     "iopub.status.busy": "2023-12-15T00:03:38.704123Z",
     "iopub.status.idle": "2023-12-15T00:03:38.814764Z",
     "shell.execute_reply": "2023-12-15T00:03:38.814468Z",
     "shell.execute_reply.started": "2023-12-15T00:03:38.704196Z"
    }
   },
   "outputs": [],
   "source": [
    "#We can define the path using our dictionary\n",
    "fpath = FPATHS['data']['filtered']\n",
    "df.to_csv(fpath)\n"
   ]
  },
  {
   "cell_type": "markdown",
   "id": "88af5b67-a37c-4d66-b3a2-cd7d4eb41f12",
   "metadata": {},
   "source": [
    "## 📖New Version to Address class_names\n",
    "- Start at **Train Test Split** header"
   ]
  },
  {
   "cell_type": "markdown",
   "id": "1a3abd22-1863-4aa4-ad52-4c92869f2111",
   "metadata": {},
   "source": [
    "> JMI NOTE - To Address Explainer Class Names Issue, we could:\n",
    "- create the original y with longer (public-facing) labels.\n",
    "- Use (and save) a LabelEncoder to convert y_train y_test to integers\n",
    "- Save encoder as joblib"
   ]
  },
  {
   "cell_type": "markdown",
   "id": "a627bed2-1538-490e-9c77-15784409d52d",
   "metadata": {},
   "source": [
    "> Narrative For lesson:\n",
    "We want to have nicely formatted public-facing labels, so we will replace the integers with full text labels.\n",
    "\n",
    "However, we will need to use integer labels for the neural network, so we will use and save a previously-fit LabelEncoder and a target_lookup dict. "
   ]
  },
  {
   "cell_type": "markdown",
   "id": "ceaaaadd-1c74-40ec-89ec-ce3fc341b834",
   "metadata": {},
   "source": [
    "> `@Brenda`: rest of this lesson has changed."
   ]
  },
  {
   "cell_type": "code",
   "execution_count": 11,
   "id": "8156a93a-df16-43e0-a218-eb74d1a4f732",
   "metadata": {
    "execution": {
     "iopub.execute_input": "2023-12-15T00:03:38.815453Z",
     "iopub.status.busy": "2023-12-15T00:03:38.815353Z",
     "iopub.status.idle": "2023-12-15T00:03:38.844811Z",
     "shell.execute_reply": "2023-12-15T00:03:38.844476Z",
     "shell.execute_reply.started": "2023-12-15T00:03:38.815443Z"
    }
   },
   "outputs": [],
   "source": [
    "rename_target_map = {1:'One Star', 5:\"Five Stars\"}"
   ]
  },
  {
   "cell_type": "code",
   "execution_count": 12,
   "id": "6567c75d-f6c4-4d35-a417-dff8726fb87e",
   "metadata": {
    "execution": {
     "iopub.execute_input": "2023-12-15T00:03:38.845323Z",
     "iopub.status.busy": "2023-12-15T00:03:38.845230Z",
     "iopub.status.idle": "2023-12-15T00:03:38.882857Z",
     "shell.execute_reply": "2023-12-15T00:03:38.882549Z",
     "shell.execute_reply.started": "2023-12-15T00:03:38.845313Z"
    }
   },
   "outputs": [
    {
     "data": {
      "text/plain": [
       "array(['Five Stars', 'One Star'], dtype=object)"
      ]
     },
     "execution_count": 12,
     "metadata": {},
     "output_type": "execute_result"
    }
   ],
   "source": [
    "y = df['stars'].replace(rename_target_map)\n",
    "X = df['text']\n",
    "# Train test split\n",
    "X_train, X_test, y_train_str, y_test_str = train_test_split(X,y,test_size=0.25,\n",
    "                                                    random_state=321)\n",
    "np.unique(y_train_str)"
   ]
  },
  {
   "cell_type": "code",
   "execution_count": 13,
   "id": "608e8748-9acf-4971-8d19-149bcd6b0c8f",
   "metadata": {
    "execution": {
     "iopub.execute_input": "2023-12-15T00:03:38.883505Z",
     "iopub.status.busy": "2023-12-15T00:03:38.883401Z",
     "iopub.status.idle": "2023-12-15T00:03:38.914677Z",
     "shell.execute_reply": "2023-12-15T00:03:38.914400Z",
     "shell.execute_reply.started": "2023-12-15T00:03:38.883496Z"
    }
   },
   "outputs": [
    {
     "data": {
      "text/plain": [
       "Five Stars    0.846997\n",
       "One Star      0.153003\n",
       "Name: stars, dtype: float64"
      ]
     },
     "execution_count": 13,
     "metadata": {},
     "output_type": "execute_result"
    }
   ],
   "source": [
    "# Check class balance\n",
    "y_train_str.value_counts(normalize = True)\n"
   ]
  },
  {
   "cell_type": "markdown",
   "id": "28b7b038-9d3c-4024-8dec-c3014c3f6b3a",
   "metadata": {},
   "source": [
    "### Encoding Labels "
   ]
  },
  {
   "cell_type": "code",
   "execution_count": 14,
   "id": "e7eec346-de66-458e-b16d-d2345b63e026",
   "metadata": {
    "execution": {
     "iopub.execute_input": "2023-12-15T00:03:38.915326Z",
     "iopub.status.busy": "2023-12-15T00:03:38.915235Z",
     "iopub.status.idle": "2023-12-15T00:03:38.945096Z",
     "shell.execute_reply": "2023-12-15T00:03:38.944800Z",
     "shell.execute_reply.started": "2023-12-15T00:03:38.915317Z"
    }
   },
   "outputs": [
    {
     "data": {
      "text/plain": [
       "array(['Five Stars', 'One Star'], dtype=object)"
      ]
     },
     "execution_count": 14,
     "metadata": {},
     "output_type": "execute_result"
    }
   ],
   "source": [
    "# Getting unique classes to convert \n",
    "class_names = y_train_str.unique()\n",
    "class_names"
   ]
  },
  {
   "cell_type": "code",
   "execution_count": 15,
   "id": "83f67d04-88a4-4ab2-aa1e-daa01d37b390",
   "metadata": {
    "execution": {
     "iopub.execute_input": "2023-12-15T00:03:38.945802Z",
     "iopub.status.busy": "2023-12-15T00:03:38.945664Z",
     "iopub.status.idle": "2023-12-15T00:03:38.978149Z",
     "shell.execute_reply": "2023-12-15T00:03:38.977876Z",
     "shell.execute_reply.started": "2023-12-15T00:03:38.945793Z"
    }
   },
   "outputs": [
    {
     "data": {
      "text/html": [
       "<style>#sk-container-id-1 {color: black;background-color: white;}#sk-container-id-1 pre{padding: 0;}#sk-container-id-1 div.sk-toggleable {background-color: white;}#sk-container-id-1 label.sk-toggleable__label {cursor: pointer;display: block;width: 100%;margin-bottom: 0;padding: 0.3em;box-sizing: border-box;text-align: center;}#sk-container-id-1 label.sk-toggleable__label-arrow:before {content: \"▸\";float: left;margin-right: 0.25em;color: #696969;}#sk-container-id-1 label.sk-toggleable__label-arrow:hover:before {color: black;}#sk-container-id-1 div.sk-estimator:hover label.sk-toggleable__label-arrow:before {color: black;}#sk-container-id-1 div.sk-toggleable__content {max-height: 0;max-width: 0;overflow: hidden;text-align: left;background-color: #f0f8ff;}#sk-container-id-1 div.sk-toggleable__content pre {margin: 0.2em;color: black;border-radius: 0.25em;background-color: #f0f8ff;}#sk-container-id-1 input.sk-toggleable__control:checked~div.sk-toggleable__content {max-height: 200px;max-width: 100%;overflow: auto;}#sk-container-id-1 input.sk-toggleable__control:checked~label.sk-toggleable__label-arrow:before {content: \"▾\";}#sk-container-id-1 div.sk-estimator input.sk-toggleable__control:checked~label.sk-toggleable__label {background-color: #d4ebff;}#sk-container-id-1 div.sk-label input.sk-toggleable__control:checked~label.sk-toggleable__label {background-color: #d4ebff;}#sk-container-id-1 input.sk-hidden--visually {border: 0;clip: rect(1px 1px 1px 1px);clip: rect(1px, 1px, 1px, 1px);height: 1px;margin: -1px;overflow: hidden;padding: 0;position: absolute;width: 1px;}#sk-container-id-1 div.sk-estimator {font-family: monospace;background-color: #f0f8ff;border: 1px dotted black;border-radius: 0.25em;box-sizing: border-box;margin-bottom: 0.5em;}#sk-container-id-1 div.sk-estimator:hover {background-color: #d4ebff;}#sk-container-id-1 div.sk-parallel-item::after {content: \"\";width: 100%;border-bottom: 1px solid gray;flex-grow: 1;}#sk-container-id-1 div.sk-label:hover label.sk-toggleable__label {background-color: #d4ebff;}#sk-container-id-1 div.sk-serial::before {content: \"\";position: absolute;border-left: 1px solid gray;box-sizing: border-box;top: 0;bottom: 0;left: 50%;z-index: 0;}#sk-container-id-1 div.sk-serial {display: flex;flex-direction: column;align-items: center;background-color: white;padding-right: 0.2em;padding-left: 0.2em;position: relative;}#sk-container-id-1 div.sk-item {position: relative;z-index: 1;}#sk-container-id-1 div.sk-parallel {display: flex;align-items: stretch;justify-content: center;background-color: white;position: relative;}#sk-container-id-1 div.sk-item::before, #sk-container-id-1 div.sk-parallel-item::before {content: \"\";position: absolute;border-left: 1px solid gray;box-sizing: border-box;top: 0;bottom: 0;left: 50%;z-index: -1;}#sk-container-id-1 div.sk-parallel-item {display: flex;flex-direction: column;z-index: 1;position: relative;background-color: white;}#sk-container-id-1 div.sk-parallel-item:first-child::after {align-self: flex-end;width: 50%;}#sk-container-id-1 div.sk-parallel-item:last-child::after {align-self: flex-start;width: 50%;}#sk-container-id-1 div.sk-parallel-item:only-child::after {width: 0;}#sk-container-id-1 div.sk-dashed-wrapped {border: 1px dashed gray;margin: 0 0.4em 0.5em 0.4em;box-sizing: border-box;padding-bottom: 0.4em;background-color: white;}#sk-container-id-1 div.sk-label label {font-family: monospace;font-weight: bold;display: inline-block;line-height: 1.2em;}#sk-container-id-1 div.sk-label-container {text-align: center;}#sk-container-id-1 div.sk-container {/* jupyter's `normalize.less` sets `[hidden] { display: none; }` but bootstrap.min.css set `[hidden] { display: none !important; }` so we also need the `!important` here to be able to override the default hidden behavior on the sphinx rendered scikit-learn.org. See: https://github.com/scikit-learn/scikit-learn/issues/21755 */display: inline-block !important;position: relative;}#sk-container-id-1 div.sk-text-repr-fallback {display: none;}</style><div id=\"sk-container-id-1\" class=\"sk-top-container\"><div class=\"sk-text-repr-fallback\"><pre>LabelEncoder()</pre><b>In a Jupyter environment, please rerun this cell to show the HTML representation or trust the notebook. <br />On GitHub, the HTML representation is unable to render, please try loading this page with nbviewer.org.</b></div><div class=\"sk-container\" hidden><div class=\"sk-item\"><div class=\"sk-estimator sk-toggleable\"><input class=\"sk-toggleable__control sk-hidden--visually\" id=\"sk-estimator-id-1\" type=\"checkbox\" checked><label for=\"sk-estimator-id-1\" class=\"sk-toggleable__label sk-toggleable__label-arrow\">LabelEncoder</label><div class=\"sk-toggleable__content\"><pre>LabelEncoder()</pre></div></div></div></div></div>"
      ],
      "text/plain": [
       "LabelEncoder()"
      ]
     },
     "execution_count": 15,
     "metadata": {},
     "output_type": "execute_result"
    }
   ],
   "source": [
    "from sklearn.preprocessing import LabelEncoder\n",
    "\n",
    "# Fit the label encoder on unique class names\n",
    "encoder = LabelEncoder()\n",
    "encoder.fit(class_names)"
   ]
  },
  {
   "cell_type": "code",
   "execution_count": 16,
   "id": "87aaa935-76cf-4054-be66-a7ed13f36370",
   "metadata": {
    "execution": {
     "iopub.execute_input": "2023-12-15T00:03:38.978793Z",
     "iopub.status.busy": "2023-12-15T00:03:38.978664Z",
     "iopub.status.idle": "2023-12-15T00:03:39.011704Z",
     "shell.execute_reply": "2023-12-15T00:03:39.011398Z",
     "shell.execute_reply.started": "2023-12-15T00:03:38.978785Z"
    }
   },
   "outputs": [
    {
     "data": {
      "text/plain": [
       "array([0, 0, 0, 0, 0, 1, 0, 0, 0, 0])"
      ]
     },
     "execution_count": 16,
     "metadata": {},
     "output_type": "execute_result"
    }
   ],
   "source": [
    "# Transform the y_train_str and y_test_str with encoder\n",
    "y_train = encoder.transform(y_train_str)\n",
    "y_test = encoder.transform(y_test_str)\n",
    "y_train[:10]"
   ]
  },
  {
   "cell_type": "code",
   "execution_count": 17,
   "id": "246890d7-be24-4a95-b5a7-6322dfc2077e",
   "metadata": {
    "execution": {
     "iopub.execute_input": "2023-12-15T00:03:39.012395Z",
     "iopub.status.busy": "2023-12-15T00:03:39.012238Z",
     "iopub.status.idle": "2023-12-15T00:03:39.042699Z",
     "shell.execute_reply": "2023-12-15T00:03:39.042404Z",
     "shell.execute_reply.started": "2023-12-15T00:03:39.012385Z"
    }
   },
   "outputs": [
    {
     "data": {
      "text/plain": [
       "array(['Five Stars', 'One Star'], dtype=object)"
      ]
     },
     "execution_count": 17,
     "metadata": {},
     "output_type": "execute_result"
    }
   ],
   "source": [
    "# Extract the class names from the encoder\n",
    "classes = encoder.classes_\n",
    "classes"
   ]
  },
  {
   "cell_type": "code",
   "execution_count": 18,
   "id": "bfed2458-f91e-4dc2-87d1-87c942fd3bd5",
   "metadata": {
    "execution": {
     "iopub.execute_input": "2023-12-15T00:03:39.043444Z",
     "iopub.status.busy": "2023-12-15T00:03:39.043287Z",
     "iopub.status.idle": "2023-12-15T00:03:39.074271Z",
     "shell.execute_reply": "2023-12-15T00:03:39.073961Z",
     "shell.execute_reply.started": "2023-12-15T00:03:39.043434Z"
    }
   },
   "outputs": [
    {
     "data": {
      "text/plain": [
       "array([0, 1])"
      ]
     },
     "execution_count": 18,
     "metadata": {},
     "output_type": "execute_result"
    }
   ],
   "source": [
    "# Get the encoded values for each both classes\n",
    "class_codes = encoder.transform(classes)\n",
    "class_codes"
   ]
  },
  {
   "cell_type": "code",
   "execution_count": 19,
   "id": "87a4723b-4473-46fc-9bf8-85a710be59bc",
   "metadata": {
    "execution": {
     "iopub.execute_input": "2023-12-15T00:03:39.074890Z",
     "iopub.status.busy": "2023-12-15T00:03:39.074782Z",
     "iopub.status.idle": "2023-12-15T00:03:39.105919Z",
     "shell.execute_reply": "2023-12-15T00:03:39.105603Z",
     "shell.execute_reply.started": "2023-12-15T00:03:39.074880Z"
    }
   },
   "outputs": [
    {
     "data": {
      "text/plain": [
       "{0: 'Five Stars', 1: 'One Star'}"
      ]
     },
     "execution_count": 19,
     "metadata": {},
     "output_type": "execute_result"
    }
   ],
   "source": [
    "# Making lookup dictionary to find the encoded label's original name\n",
    "target_lookup = dict(zip(class_codes,classes ))\n",
    "target_lookup"
   ]
  },
  {
   "cell_type": "code",
   "execution_count": 20,
   "id": "aba0973a-505a-468c-9f30-384a6622e2db",
   "metadata": {
    "execution": {
     "iopub.execute_input": "2023-12-15T00:03:39.106593Z",
     "iopub.status.busy": "2023-12-15T00:03:39.106439Z",
     "iopub.status.idle": "2023-12-15T00:03:39.139265Z",
     "shell.execute_reply": "2023-12-15T00:03:39.138963Z",
     "shell.execute_reply.started": "2023-12-15T00:03:39.106583Z"
    }
   },
   "outputs": [
    {
     "data": {
      "text/plain": [
       "array([\"When you're in the mood to be super chill, Boathouse at Hendry's is IT. Tucked away at Arroyo Burro, it's as close as you can get to intimate fine dining on the beach. The food is excellent - try the oysters. There's even a happy hour. Waits can be a little long at popular times, but you can kick it on the beach while you wait. It's a pretty sweet deal.\",\n",
       "       \"This is my favorite go to place for tacos in SB! Fast service, great price, decent portions and very tasty! If you're here in a weekend make sure you try the tripas (I get mine crispy all the time!). Most recently I got cabeza and that was great too! The meat is very tender!\",\n",
       "       \"I come here way to often. At least 2 times a week. Their sandwiches are so good. They people are so friendly. If I'm getting a sandwich on my lunch break I always make sure to call it in because they get so busy. I always go for the super deluxe and add pickles and olives. So good!\",\n",
       "       ...,\n",
       "       \"3 times I have been here and 3 times I have gotten seriously ill from the food. Seems the bathrooms are the most used area and most people are in there for a while I think something is wrong with the food. My stomach has been torn apart the three times i have ventured here. I recommend to avoid unless you have stomach meds. Also the chicken quesadilla had barely any chicken barely any cheese and a crap ton of cilantro and other stuff so I would say overpriced for the quantity and quality you receive. When you can't pickup a slice of the quesadilla without it totally falling apart it's quite sad.\",\n",
       "       'Went in to have dinner, was seated quickly but then did not have a server even acknowledge us after 12 min. Not even a glass of water. Too many restaurants on the pier to put up with that type of service.',\n",
       "       'I did not like the food. I had an allergy afterwards because the food was not fresh. I had a california roll and the cucumber salad. There is some un-fresh ingredients is why I had allergic problem afterwards. I did not like this place. Very warm inside no air conditioning. The restrooms are so very dirty and gross. The doors, handles, etc so gross.'],\n",
       "      dtype=object)"
      ]
     },
     "execution_count": 20,
     "metadata": {},
     "output_type": "execute_result"
    }
   ],
   "source": [
    "# Use RUS to balance the classes\n",
    "sampler = RandomUnderSampler(random_state=42)\n",
    "X_train, y_train = sampler.fit_resample(X_train.values.reshape(-1,1),y_train)\n",
    "X_train = X_train.flatten()\n",
    "X_train"
   ]
  },
  {
   "cell_type": "code",
   "execution_count": 21,
   "id": "00e729ee-fa81-4a76-b3de-3225cc53a92d",
   "metadata": {
    "execution": {
     "iopub.execute_input": "2023-12-15T00:03:39.139916Z",
     "iopub.status.busy": "2023-12-15T00:03:39.139784Z",
     "iopub.status.idle": "2023-12-15T00:03:39.172520Z",
     "shell.execute_reply": "2023-12-15T00:03:39.172187Z",
     "shell.execute_reply.started": "2023-12-15T00:03:39.139907Z"
    }
   },
   "outputs": [
    {
     "data": {
      "text/plain": [
       "0    0.5\n",
       "1    0.5\n",
       "dtype: float64"
      ]
     },
     "execution_count": 21,
     "metadata": {},
     "output_type": "execute_result"
    }
   ],
   "source": [
    "# Check for class balance\n",
    "pd.Series(y_train).value_counts(normalize=True)"
   ]
  },
  {
   "cell_type": "code",
   "execution_count": 22,
   "id": "64f8286d-e703-4d62-a58e-16235fdbda09",
   "metadata": {
    "execution": {
     "iopub.execute_input": "2023-12-15T00:03:39.177767Z",
     "iopub.status.busy": "2023-12-15T00:03:39.177603Z",
     "iopub.status.idle": "2023-12-15T00:03:39.225002Z",
     "shell.execute_reply": "2023-12-15T00:03:39.223921Z",
     "shell.execute_reply.started": "2023-12-15T00:03:39.177757Z"
    }
   },
   "outputs": [
    {
     "data": {
      "text/plain": [
       "['data/testing-data.joblib']"
      ]
     },
     "execution_count": 22,
     "metadata": {},
     "output_type": "execute_result"
    }
   ],
   "source": [
    "# saving the training and test data\n",
    "fpath_train  = FPATHS['data']['ml']['train']\n",
    "joblib.dump([X_train, y_train], fpath_train)\n",
    "\n",
    "\n",
    "fpath_test = FPATHS['data']['ml']['test']\n",
    "joblib.dump([X_test, y_test], fpath_test)"
   ]
  },
  {
   "cell_type": "code",
   "execution_count": 23,
   "id": "ef0d8919-172d-46a6-a028-2afe1dd3fc00",
   "metadata": {
    "execution": {
     "iopub.execute_input": "2023-12-15T00:03:39.225872Z",
     "iopub.status.busy": "2023-12-15T00:03:39.225758Z",
     "iopub.status.idle": "2023-12-15T00:03:39.266710Z",
     "shell.execute_reply": "2023-12-15T00:03:39.266404Z",
     "shell.execute_reply.started": "2023-12-15T00:03:39.225863Z"
    }
   },
   "outputs": [
    {
     "data": {
      "text/plain": [
       "['data/target-lookup-dict.joblib']"
      ]
     },
     "execution_count": 23,
     "metadata": {},
     "output_type": "execute_result"
    }
   ],
   "source": [
    "## NEW:\n",
    "## Also saving the encoder and lookup\n",
    "fpath_encoder = FPATHS['data']['ml']['label_encoder']\n",
    "joblib.dump(encoder,fpath_encoder)\n",
    "\n",
    "fpath_lookup = FPATHS['data']['ml']['target_lookup']\n",
    "joblib.dump(target_lookup,fpath_lookup )"
   ]
  },
  {
   "cell_type": "code",
   "execution_count": 24,
   "id": "a4b568e9-11d2-4fd5-9110-3aecf7b3dbd0",
   "metadata": {
    "execution": {
     "iopub.execute_input": "2023-12-15T00:03:39.267464Z",
     "iopub.status.busy": "2023-12-15T00:03:39.267307Z",
     "iopub.status.idle": "2023-12-15T00:03:40.500602Z",
     "shell.execute_reply": "2023-12-15T00:03:40.500262Z",
     "shell.execute_reply.started": "2023-12-15T00:03:39.267452Z"
    }
   },
   "outputs": [
    {
     "name": "stdout",
     "output_type": "stream",
     "text": [
      "----------------------------------------------------------------------\n",
      " Classification Metrics: Training Data\n",
      "----------------------------------------------------------------------\n",
      "              precision    recall  f1-score   support\n",
      "\n",
      "           0       1.00      1.00      1.00      1758\n",
      "           1       1.00      1.00      1.00      1758\n",
      "\n",
      "    accuracy                           1.00      3516\n",
      "   macro avg       1.00      1.00      1.00      3516\n",
      "weighted avg       1.00      1.00      1.00      3516\n",
      "\n"
     ]
    },
    {
     "data": {
      "image/png": "[encoded data removed]",
      "text/plain": [
       "<Figure size 600x400 with 2 Axes>"
      ]
     },
     "metadata": {},
     "output_type": "display_data"
    },
    {
     "name": "stdout",
     "output_type": "stream",
     "text": [
      "\n",
      "----------------------------------------------------------------------\n",
      " Classification Metrics: Test Data\n",
      "----------------------------------------------------------------------\n",
      "              precision    recall  f1-score   support\n",
      "\n",
      "           0       0.99      0.94      0.97      3231\n",
      "           1       0.76      0.94      0.84       599\n",
      "\n",
      "    accuracy                           0.94      3830\n",
      "   macro avg       0.87      0.94      0.90      3830\n",
      "weighted avg       0.95      0.94      0.95      3830\n",
      "\n"
     ]
    },
    {
     "data": {
      "image/png": "[encoded data removed]",
      "text/plain": [
       "<Figure size 600x400 with 2 Axes>"
      ]
     },
     "metadata": {},
     "output_type": "display_data"
    }
   ],
   "source": [
    "# Create a pipeline with a vectorizer and classification model.\n",
    "rf_pipe = Pipeline([('vectorizer', CountVectorizer(stop_words=\"english\")),\n",
    "                     ('clf',RandomForestClassifier(random_state=42))])\n",
    "# Fit the model pipeline\n",
    "rf_pipe.fit(X_train, y_train)\n",
    "# Evaluate\n",
    "fn.evaluate_classification(rf_pipe, X_train,y_train, X_test, y_test)\n"
   ]
  },
  {
   "cell_type": "code",
   "execution_count": 25,
   "id": "98b5794d-0cf8-4b21-b52d-dd6006623d06",
   "metadata": {
    "execution": {
     "iopub.execute_input": "2023-12-15T00:03:40.501146Z",
     "iopub.status.busy": "2023-12-15T00:03:40.501051Z",
     "iopub.status.idle": "2023-12-15T00:03:40.588047Z",
     "shell.execute_reply": "2023-12-15T00:03:40.587682Z",
     "shell.execute_reply.started": "2023-12-15T00:03:40.501137Z"
    }
   },
   "outputs": [
    {
     "data": {
      "text/plain": [
       "['models/rf-pipe.joblib']"
      ]
     },
     "execution_count": 25,
     "metadata": {},
     "output_type": "execute_result"
    }
   ],
   "source": [
    "fpath_rf_pipe = FPATHS['models']['rf']\n",
    "joblib.dump(rf_pipe, fpath_rf_pipe)"
   ]
  },
  {
   "cell_type": "code",
   "execution_count": 26,
   "id": "2682b9ab-f4d2-44b3-b153-712e492753da",
   "metadata": {
    "execution": {
     "iopub.execute_input": "2023-12-15T00:03:40.588644Z",
     "iopub.status.busy": "2023-12-15T00:03:40.588549Z",
     "iopub.status.idle": "2023-12-15T00:03:41.032272Z",
     "shell.execute_reply": "2023-12-15T00:03:41.031850Z",
     "shell.execute_reply.started": "2023-12-15T00:03:40.588635Z"
    }
   },
   "outputs": [
    {
     "name": "stdout",
     "output_type": "stream",
     "text": [
      "----------------------------------------------------------------------\n",
      " Classification Metrics: Training Data\n",
      "----------------------------------------------------------------------\n",
      "              precision    recall  f1-score   support\n",
      "\n",
      "           0       0.98      0.99      0.98      1758\n",
      "           1       0.99      0.98      0.98      1758\n",
      "\n",
      "    accuracy                           0.98      3516\n",
      "   macro avg       0.98      0.98      0.98      3516\n",
      "weighted avg       0.98      0.98      0.98      3516\n",
      "\n"
     ]
    },
    {
     "data": {
      "image/png": "[encoded data removed]",
      "text/plain": [
       "<Figure size 600x400 with 2 Axes>"
      ]
     },
     "metadata": {},
     "output_type": "display_data"
    },
    {
     "name": "stdout",
     "output_type": "stream",
     "text": [
      "\n",
      "----------------------------------------------------------------------\n",
      " Classification Metrics: Test Data\n",
      "----------------------------------------------------------------------\n",
      "              precision    recall  f1-score   support\n",
      "\n",
      "           0       0.99      0.96      0.97      3231\n",
      "           1       0.81      0.95      0.88       599\n",
      "\n",
      "    accuracy                           0.96      3830\n",
      "   macro avg       0.90      0.95      0.93      3830\n",
      "weighted avg       0.96      0.96      0.96      3830\n",
      "\n"
     ]
    },
    {
     "data": {
      "image/png": "[encoded data removed]",
      "text/plain": [
       "<Figure size 600x400 with 2 Axes>"
      ]
     },
     "metadata": {},
     "output_type": "display_data"
    }
   ],
   "source": [
    "# Create a pipeline with a vectorizer and classification model.\n",
    "nb_pipe = Pipeline([('vectorizer', CountVectorizer(stop_words=\"english\")),\n",
    "                     ('clf',MultinomialNB())])\n",
    "# clf_nb = MultinomialNB()\n",
    "nb_pipe.fit(X_train, y_train)\n",
    "fn.evaluate_classification(nb_pipe, X_train,y_train, X_test, y_test)\n"
   ]
  },
  {
   "cell_type": "code",
   "execution_count": 27,
   "id": "9428628c-586d-4250-afd2-cece73e8bbde",
   "metadata": {
    "execution": {
     "iopub.execute_input": "2023-12-15T00:03:41.032870Z",
     "iopub.status.busy": "2023-12-15T00:03:41.032775Z",
     "iopub.status.idle": "2023-12-15T00:03:41.098423Z",
     "shell.execute_reply": "2023-12-15T00:03:41.098072Z",
     "shell.execute_reply.started": "2023-12-15T00:03:41.032861Z"
    }
   },
   "outputs": [
    {
     "data": {
      "text/plain": [
       "['models/nb-pipe.joblib']"
      ]
     },
     "execution_count": 27,
     "metadata": {},
     "output_type": "execute_result"
    }
   ],
   "source": [
    "fpath_nb_pipe = FPATHS['models']['nb']\n",
    "joblib.dump(nb_pipe, fpath_nb_pipe)\n"
   ]
  },
  {
   "cell_type": "code",
   "execution_count": 28,
   "id": "3f5571fb-a8e1-4366-b2d0-2fcadae218f8",
   "metadata": {
    "execution": {
     "iopub.execute_input": "2023-12-15T00:03:41.099077Z",
     "iopub.status.busy": "2023-12-15T00:03:41.098983Z",
     "iopub.status.idle": "2023-12-15T00:03:41.130763Z",
     "shell.execute_reply": "2023-12-15T00:03:41.130379Z",
     "shell.execute_reply.started": "2023-12-15T00:03:41.099068Z"
    }
   },
   "outputs": [],
   "source": [
    "if STOP_EACH_LESSON:\n",
    "    raise Exception(\"End of Lesson\")"
   ]
  },
  {
   "cell_type": "markdown",
   "id": "36da9b40-1e1b-494b-af18-2fd334b8d4c2",
   "metadata": {},
   "source": [
    "#  2📚) NLP ML Models in Streamlit"
   ]
  },
  {
   "cell_type": "markdown",
   "id": "c2fa7ddc-2f1a-477a-924b-8617179aa7b9",
   "metadata": {},
   "source": [
    "https://learn.codingdojo.com/m/692/16504/125341"
   ]
  },
  {
   "cell_type": "code",
   "execution_count": 29,
   "id": "152c848c-b633-4498-b012-29e378eec44e",
   "metadata": {
    "execution": {
     "iopub.execute_input": "2023-12-15T00:03:41.131333Z",
     "iopub.status.busy": "2023-12-15T00:03:41.131240Z",
     "iopub.status.idle": "2023-12-15T00:03:41.986508Z",
     "shell.execute_reply": "2023-12-15T00:03:41.985962Z",
     "shell.execute_reply.started": "2023-12-15T00:03:41.131324Z"
    }
   },
   "outputs": [
    {
     "name": "stderr",
     "output_type": "stream",
     "text": [
      "2023-12-14 19:03:41.979 \n",
      "  \u001b[33m\u001b[1mWarning:\u001b[0m to view this Streamlit app on a browser, run it with the following\n",
      "  command:\n",
      "\n",
      "    streamlit run /opt/homebrew/Caskroom/miniforge/base/envs/dojo-env/lib/python3.10/site-packages/ipykernel_launcher.py [ARGUMENTS]\n"
     ]
    },
    {
     "data": {
      "text/plain": [
       "DeltaGenerator()"
      ]
     },
     "execution_count": 29,
     "metadata": {},
     "output_type": "execute_result"
    }
   ],
   "source": [
    "import streamlit as st\n",
    "import streamlit.components.v1 as components\n",
    "import pandas as pd\n",
    "import numpy as np\n",
    "import os\n",
    "import joblib\n",
    "from sklearn.metrics import classification_report, ConfusionMatrixDisplay\n",
    "import matplotlib.pyplot as plt\n",
    "import numpy as np\n",
    "import json\n",
    "with open('config/filepaths.json') as f:\n",
    "    FPATHS = json.load(f)\n",
    "\n",
    "\n",
    "st.title(\"Predicting Yelp Review Ratings\")\n"
   ]
  },
  {
   "cell_type": "code",
   "execution_count": 30,
   "id": "3bab5d6b-4045-4110-b2e9-5f79510cd10e",
   "metadata": {
    "execution": {
     "iopub.execute_input": "2023-12-15T00:03:41.987081Z",
     "iopub.status.busy": "2023-12-15T00:03:41.986973Z",
     "iopub.status.idle": "2023-12-15T00:03:42.022595Z",
     "shell.execute_reply": "2023-12-15T00:03:42.022223Z",
     "shell.execute_reply.started": "2023-12-15T00:03:41.987071Z"
    }
   },
   "outputs": [],
   "source": [
    "# Get text to predict from the text input box\n",
    "X_to_pred = st.text_input(\"### Enter text to predict here:\", \n",
    "                          value=\"I loved the food and the drinks! Great ambiance.\")\n"
   ]
  },
  {
   "cell_type": "code",
   "execution_count": 31,
   "id": "9f473a1d-aec5-4476-a341-edfdfcfeaa02",
   "metadata": {
    "execution": {
     "iopub.execute_input": "2023-12-15T00:03:42.023279Z",
     "iopub.status.busy": "2023-12-15T00:03:42.023086Z",
     "iopub.status.idle": "2023-12-15T00:03:42.078474Z",
     "shell.execute_reply": "2023-12-15T00:03:42.078112Z",
     "shell.execute_reply.started": "2023-12-15T00:03:42.023253Z"
    }
   },
   "outputs": [],
   "source": [
    "# Loading the ML model\n",
    "# @st.cache_resource\n",
    "def load_ml_model(fpath):\n",
    "    loaded_model = joblib.load(fpath)\n",
    "    return loaded_model\n",
    "    \n",
    "# Load model from FPATHS\n",
    "model_fpath = FPATHS['models']['nb']\n",
    "clf_pipe = load_ml_model(model_fpath)\n"
   ]
  },
  {
   "cell_type": "markdown",
   "id": "50369beb-82ca-4050-bd19-5f67ca07ee2a",
   "metadata": {},
   "source": [
    "> @BRENDA: the rest of this lesson has changed."
   ]
  },
  {
   "cell_type": "code",
   "execution_count": 32,
   "id": "aa16e202-1d8f-4dd6-9abf-3a990b43737f",
   "metadata": {
    "execution": {
     "iopub.execute_input": "2023-12-15T00:03:42.079137Z",
     "iopub.status.busy": "2023-12-15T00:03:42.079024Z",
     "iopub.status.idle": "2023-12-15T00:03:42.114604Z",
     "shell.execute_reply": "2023-12-15T00:03:42.114284Z",
     "shell.execute_reply.started": "2023-12-15T00:03:42.079127Z"
    }
   },
   "outputs": [
    {
     "name": "stderr",
     "output_type": "stream",
     "text": [
      "2023-12-14 19:03:42.111 No runtime found, using MemoryCacheStorageManager\n"
     ]
    }
   ],
   "source": [
    "import joblib\n",
    "# load target lookup dict\n",
    "@st.cache_data\n",
    "def load_lookup(fpath=FPATHS['data']['ml']['target_lookup']):\n",
    "    return joblib.load(fpath)\n",
    "\n",
    "@st.cache_resource\n",
    "def load_encoder(fpath=FPATHS['data']['ml']['label_encoder'] ):\n",
    "    return joblib.load(fpath)\n",
    "    "
   ]
  },
  {
   "cell_type": "code",
   "execution_count": 33,
   "id": "f15cae19-1a20-4857-9e13-455896cc3cdf",
   "metadata": {
    "execution": {
     "iopub.execute_input": "2023-12-15T00:03:42.115347Z",
     "iopub.status.busy": "2023-12-15T00:03:42.115117Z",
     "iopub.status.idle": "2023-12-15T00:03:42.150991Z",
     "shell.execute_reply": "2023-12-15T00:03:42.150628Z",
     "shell.execute_reply.started": "2023-12-15T00:03:42.115335Z"
    }
   },
   "outputs": [
    {
     "name": "stderr",
     "output_type": "stream",
     "text": [
      "2023-12-14 19:03:42.147 No runtime found, using MemoryCacheStorageManager\n"
     ]
    },
    {
     "data": {
      "text/plain": [
       "{0: 'Five Stars', 1: 'One Star'}"
      ]
     },
     "execution_count": 33,
     "metadata": {},
     "output_type": "execute_result"
    }
   ],
   "source": [
    "# Load the target lookup dictionary\n",
    "target_lookup = load_lookup()\n",
    "target_lookup"
   ]
  },
  {
   "cell_type": "code",
   "execution_count": 34,
   "id": "1ddec351-bbc9-4e12-a5bb-0a2bb4301c0f",
   "metadata": {
    "execution": {
     "iopub.execute_input": "2023-12-15T00:03:42.151577Z",
     "iopub.status.busy": "2023-12-15T00:03:42.151462Z",
     "iopub.status.idle": "2023-12-15T00:03:42.200720Z",
     "shell.execute_reply": "2023-12-15T00:03:42.200349Z",
     "shell.execute_reply.started": "2023-12-15T00:03:42.151567Z"
    }
   },
   "outputs": [
    {
     "data": {
      "text/plain": [
       "array(['Five Stars', 'One Star'], dtype=object)"
      ]
     },
     "execution_count": 34,
     "metadata": {},
     "output_type": "execute_result"
    }
   ],
   "source": [
    "encoder = load_encoder()\n",
    "encoder.classes_"
   ]
  },
  {
   "cell_type": "code",
   "execution_count": 35,
   "id": "e9881df1-35bf-4f55-bb28-1ca86bfd9a15",
   "metadata": {
    "execution": {
     "iopub.execute_input": "2023-12-15T00:03:42.201387Z",
     "iopub.status.busy": "2023-12-15T00:03:42.201274Z",
     "iopub.status.idle": "2023-12-15T00:03:42.236737Z",
     "shell.execute_reply": "2023-12-15T00:03:42.236386Z",
     "shell.execute_reply.started": "2023-12-15T00:03:42.201376Z"
    }
   },
   "outputs": [],
   "source": [
    "# Basic Function to obtain prediction\n",
    "def make_prediction(X_to_pred):\n",
    "    pred_class = clf_pipe.predict([X_to_pred])[0]\n",
    "    return pred_class\n"
   ]
  },
  {
   "cell_type": "code",
   "execution_count": 36,
   "id": "3adbfcc7-bd2a-4f8b-aab2-a1210b04ad7b",
   "metadata": {
    "execution": {
     "iopub.execute_input": "2023-12-15T00:03:42.237475Z",
     "iopub.status.busy": "2023-12-15T00:03:42.237339Z",
     "iopub.status.idle": "2023-12-15T00:03:42.271492Z",
     "shell.execute_reply": "2023-12-15T00:03:42.271195Z",
     "shell.execute_reply.started": "2023-12-15T00:03:42.237465Z"
    }
   },
   "outputs": [
    {
     "data": {
      "text/plain": [
       "0"
      ]
     },
     "execution_count": 36,
     "metadata": {},
     "output_type": "execute_result"
    }
   ],
   "source": [
    "# Test function in notebook\n",
    "pred_class = make_prediction(X_to_pred)\n",
    "pred_class\n"
   ]
  },
  {
   "cell_type": "code",
   "execution_count": 37,
   "id": "995c09ba-0d8d-43e0-8338-bf4ed5912538",
   "metadata": {
    "execution": {
     "iopub.execute_input": "2023-12-15T00:03:42.272103Z",
     "iopub.status.busy": "2023-12-15T00:03:42.271999Z",
     "iopub.status.idle": "2023-12-15T00:03:42.306838Z",
     "shell.execute_reply": "2023-12-15T00:03:42.306476Z",
     "shell.execute_reply.started": "2023-12-15T00:03:42.272094Z"
    }
   },
   "outputs": [],
   "source": [
    "\n",
    "# Update the function to decode the prediction\n",
    "def make_prediction(X_to_pred, clf_pipe=clf_pipe, lookup_dict= target_lookup):\n",
    "    # Get Prediction\n",
    "    pred_class = clf_pipe.predict([X_to_pred])[0]\n",
    "    # Decode label\n",
    "    pred_class = lookup_dict[pred_class]\n",
    "    return pred_class\n"
   ]
  },
  {
   "cell_type": "code",
   "execution_count": 38,
   "id": "0dc671e7-7c72-4ff2-abc0-848a7f3389d5",
   "metadata": {
    "execution": {
     "iopub.execute_input": "2023-12-15T00:03:42.307431Z",
     "iopub.status.busy": "2023-12-15T00:03:42.307335Z",
     "iopub.status.idle": "2023-12-15T00:03:42.342590Z",
     "shell.execute_reply": "2023-12-15T00:03:42.342295Z",
     "shell.execute_reply.started": "2023-12-15T00:03:42.307422Z"
    }
   },
   "outputs": [
    {
     "data": {
      "text/plain": [
       "'Five Stars'"
      ]
     },
     "execution_count": 38,
     "metadata": {},
     "output_type": "execute_result"
    }
   ],
   "source": [
    "# Test updated function\n",
    "pred_class = make_prediction(X_to_pred,lookup_dict=target_lookup)\n",
    "pred_class"
   ]
  },
  {
   "cell_type": "markdown",
   "id": "dead29ee-16c5-4505-9b13-53ab582cd2dc",
   "metadata": {
    "execution": {
     "iopub.status.busy": "2023-12-13T19:37:20.148613Z",
     "iopub.status.idle": "2023-12-13T19:37:20.148787Z",
     "shell.execute_reply": "2023-12-13T19:37:20.148696Z",
     "shell.execute_reply.started": "2023-12-13T19:37:20.148690Z"
    }
   },
   "source": [
    "```\n",
    "# Define a look up dictionary\n",
    "lookup_dict = {1:'One Star', 5:'Five Stars'}\n",
    "\n",
    "\n",
    "# Update the function to decode the prediction\n",
    "def make_prediction(X_to_pred, clf_pipe=clf_pipe, lookup_dict= lookup_dict):\n",
    "    # Get Prediction\n",
    "    pred_class = clf_pipe.predict([X_to_pred])[0]\n",
    "    # Decode label\n",
    "    pred_class = lookup_dict[pred_class]\n",
    "    return pred_class\n",
    "​\n",
    "​# Trigger prediction with a button\n",
    "if st.button(\"Get prediction.\"):\n",
    "    pred_class = make_prediction(X_to_pred)\n",
    "    st.markdown(f\"##### Predicted category:  {pred_class}\") \n",
    "else: \n",
    "    st.empty\n",
    "```"
   ]
  },
  {
   "cell_type": "markdown",
   "id": "1230c05d-ec5b-4a65-bbde-7d6d19ee5d2a",
   "metadata": {},
   "source": [
    "> THE class_names code would change too below:"
   ]
  },
  {
   "cell_type": "code",
   "execution_count": null,
   "id": "5251aff8-697a-4db3-a34b-903401aed42d",
   "metadata": {},
   "outputs": [],
   "source": []
  },
  {
   "cell_type": "code",
   "execution_count": 39,
   "id": "c09e3c71-d35b-439c-b1d1-5a1f7c2c44cb",
   "metadata": {
    "execution": {
     "iopub.execute_input": "2023-12-15T00:03:42.343330Z",
     "iopub.status.busy": "2023-12-15T00:03:42.343171Z",
     "iopub.status.idle": "2023-12-15T00:03:42.380757Z",
     "shell.execute_reply": "2023-12-15T00:03:42.380406Z",
     "shell.execute_reply.started": "2023-12-15T00:03:42.343320Z"
    }
   },
   "outputs": [],
   "source": [
    "# Lime Explanation Functions\n",
    "from lime.lime_text import LimeTextExplainer\n",
    "\n",
    "@st.cache_resource\n",
    "def get_explainer(class_names = None):\n",
    "    lime_explainer = LimeTextExplainer(class_names=class_names)\n",
    "    return lime_explainer\n",
    "    \n",
    "def explain_instance(explainer, X_to_pred,predict_func):\n",
    "    explanation = explainer.explain_instance(X_to_pred, predict_func)\n",
    "    return explanation.as_html(predict_proba=False)\n",
    "\n",
    "\n",
    "# Create the lime explainer\n",
    "explainer = get_explainer(class_names = encoder.classes_)\n"
   ]
  },
  {
   "cell_type": "code",
   "execution_count": 40,
   "id": "20317ec7-2a8e-481c-9041-fd1912be9fbf",
   "metadata": {
    "execution": {
     "iopub.execute_input": "2023-12-15T00:03:42.381297Z",
     "iopub.status.busy": "2023-12-15T00:03:42.381201Z",
     "iopub.status.idle": "2023-12-15T00:03:42.417470Z",
     "shell.execute_reply": "2023-12-15T00:03:42.417098Z",
     "shell.execute_reply.started": "2023-12-15T00:03:42.381288Z"
    }
   },
   "outputs": [
    {
     "data": {
      "text/plain": [
       "array([[0.99639572, 0.00360428]])"
      ]
     },
     "execution_count": 40,
     "metadata": {},
     "output_type": "execute_result"
    }
   ],
   "source": [
    "# Demonstrating getting class probability predictions from pipeline.predict_proba \n",
    "clf_pipe.predict_proba([X_to_pred])\n"
   ]
  },
  {
   "cell_type": "code",
   "execution_count": 41,
   "id": "0707e93c-dc54-48c5-a90b-45549e06db30",
   "metadata": {
    "execution": {
     "iopub.execute_input": "2023-12-15T00:03:42.418114Z",
     "iopub.status.busy": "2023-12-15T00:03:42.418003Z",
     "iopub.status.idle": "2023-12-15T00:03:42.452759Z",
     "shell.execute_reply": "2023-12-15T00:03:42.452448Z",
     "shell.execute_reply.started": "2023-12-15T00:03:42.418105Z"
    }
   },
   "outputs": [],
   "source": [
    "# # Obtaining an explanation for our X_to_pred text\n",
    "# explanation = explain_instance(explainer, X_to_pred,predict_func=clf_pipe.predict_proba)\n",
    "# # In our notebook we use show_in_notebook (we will use .as.html for streamlit)\n",
    "# explanation.show_in_notebook(predict_proba=False)\n"
   ]
  },
  {
   "cell_type": "markdown",
   "id": "36f59553-c11d-4d9a-a038-31c343043f03",
   "metadata": {
    "execution": {
     "iopub.status.busy": "2023-12-13T19:37:20.153439Z",
     "iopub.status.idle": "2023-12-13T19:37:20.154376Z",
     "shell.execute_reply": "2023-12-13T19:37:20.154282Z",
     "shell.execute_reply.started": "2023-12-13T19:37:20.154270Z"
    }
   },
   "source": [
    "```\n",
    "# # Trigger prediction and explanation with a button\n",
    "# if st.button(\"Get prediction.\"):\n",
    "#     pred_class_name = make_prediction(X_to_pred)\n",
    "#     st.markdown(f\"##### Predicted category:  {pred_class_name}\")\n",
    "#     # Get the Explanation as html and display using the .html component.\n",
    "#     html_explanation = explain_instance(explainer, X_to_pred, clf_pipe.predict_proba)\n",
    "#     components.html(html_explanation, height=400)\n",
    "# else: \n",
    "#     st.empty()\n",
    "```"
   ]
  },
  {
   "cell_type": "code",
   "execution_count": 42,
   "id": "b659fe5f-65c8-4e93-99b6-bb0bc5dfb3c2",
   "metadata": {
    "execution": {
     "iopub.execute_input": "2023-12-15T00:03:42.453343Z",
     "iopub.status.busy": "2023-12-15T00:03:42.453248Z",
     "iopub.status.idle": "2023-12-15T00:03:42.496658Z",
     "shell.execute_reply": "2023-12-15T00:03:42.496340Z",
     "shell.execute_reply.started": "2023-12-15T00:03:42.453334Z"
    }
   },
   "outputs": [
    {
     "name": "stderr",
     "output_type": "stream",
     "text": [
      "2023-12-14 19:03:42.487 No runtime found, using MemoryCacheStorageManager\n",
      "2023-12-14 19:03:42.488 No runtime found, using MemoryCacheStorageManager\n"
     ]
    }
   ],
   "source": [
    "## Loading our training and test data\n",
    "@st.cache_data\n",
    "def load_Xy_data(joblib_fpath):\n",
    "    return joblib.load(joblib_fpath)\n",
    "\n",
    "# Load training data from FPATHS\n",
    "train_data_fpath  = FPATHS['data']['ml']['train']\n",
    "X_train, y_train = load_Xy_data(train_data_fpath)\n",
    "\n",
    "# Load test data from FPATHS\n",
    "test_data_fpath  = FPATHS['data']['ml']['test']\n",
    "X_test, y_test = load_Xy_data(test_data_fpath)\n"
   ]
  },
  {
   "cell_type": "markdown",
   "id": "db454163-1b7e-4b4c-a608-44c5d0bb74fe",
   "metadata": {},
   "source": [
    "> @BRENDA: New verswion of classification_metrics_streamlit that uses class_names"
   ]
  },
  {
   "cell_type": "code",
   "execution_count": 43,
   "id": "01a76d62-d85f-4d15-baf6-724e4375b361",
   "metadata": {
    "execution": {
     "iopub.execute_input": "2023-12-15T00:03:42.497381Z",
     "iopub.status.busy": "2023-12-15T00:03:42.497221Z",
     "iopub.status.idle": "2023-12-15T00:03:42.533875Z",
     "shell.execute_reply": "2023-12-15T00:03:42.533336Z",
     "shell.execute_reply.started": "2023-12-15T00:03:42.497372Z"
    }
   },
   "outputs": [],
   "source": [
    "## TWEAKED\n",
    "from sklearn.metrics import classification_report, ConfusionMatrixDisplay\n",
    "import matplotlib.pyplot as plt\n",
    "import numpy as np\n",
    "def classification_metrics_streamlit(y_true, y_pred, label='',\n",
    "                           figsize=(8,4),\n",
    "                           normalize='true', cmap='Blues',\n",
    "                           colorbar=False,values_format=\".2f\",\n",
    "                                    class_names=None):\n",
    "    \"\"\"Modified version of classification metrics function from Intro to Machine Learning.\n",
    "    Updates:\n",
    "    - Reversed raw counts confusion matrix cmap  (so darker==more).\n",
    "    - Added arg for normalized confusion matrix values_format\n",
    "    \"\"\"\n",
    "    # Get the classification report\n",
    "    report = classification_report(y_true, y_pred,target_names=class_names)\n",
    "    \n",
    "    ## Save header and report\n",
    "    header = \"-\"*70\n",
    "    final_report = \"\\n\".join([header,f\" Classification Metrics: {label}\", header,report,\"\\n\"])\n",
    "        \n",
    "    ## CONFUSION MATRICES SUBPLOTS\n",
    "    fig, axes = plt.subplots(ncols=2, figsize=figsize)\n",
    "    \n",
    "    # Create a confusion matrix  of raw counts (left subplot)\n",
    "    ConfusionMatrixDisplay.from_predictions(y_true, y_pred,\n",
    "                                            normalize=None, \n",
    "                                            cmap='gist_gray_r',# Updated cmap\n",
    "                                            display_labels = class_names, # Added display labels\n",
    "                                            values_format=\"d\", \n",
    "                                            colorbar=colorbar,\n",
    "                                            ax = axes[0]);\n",
    "    axes[0].set_title(\"Raw Counts\")\n",
    "    \n",
    "    # Create a confusion matrix with the data with normalize argument \n",
    "    ConfusionMatrixDisplay.from_predictions(y_true, y_pred,\n",
    "                                            normalize=normalize,\n",
    "                                            cmap=cmap, \n",
    "                                            values_format=values_format, #New arg\n",
    "                                            display_labels = class_names, # Added display labels\n",
    "                                            colorbar=colorbar,\n",
    "                                            ax = axes[1]);\n",
    "    axes[1].set_title(\"Normalized Confusion Matrix\")\n",
    "    \n",
    "    # Adjust layout and show figure\n",
    "    fig.tight_layout()\n",
    "\n",
    "    return final_report, fig\n"
   ]
  },
  {
   "cell_type": "code",
   "execution_count": 44,
   "id": "87926a35-4cde-4dfc-a832-80e749a90300",
   "metadata": {
    "execution": {
     "iopub.execute_input": "2023-12-15T00:03:42.534530Z",
     "iopub.status.busy": "2023-12-15T00:03:42.534428Z",
     "iopub.status.idle": "2023-12-15T00:03:42.752290Z",
     "shell.execute_reply": "2023-12-15T00:03:42.751907Z",
     "shell.execute_reply.started": "2023-12-15T00:03:42.534521Z"
    }
   },
   "outputs": [
    {
     "name": "stdout",
     "output_type": "stream",
     "text": [
      "----------------------------------------------------------------------\n",
      " Classification Metrics: Training Data\n",
      "----------------------------------------------------------------------\n",
      "              precision    recall  f1-score   support\n",
      "\n",
      "  Five Stars       0.98      0.99      0.98      1758\n",
      "    One Star       0.99      0.98      0.98      1758\n",
      "\n",
      "    accuracy                           0.98      3516\n",
      "   macro avg       0.98      0.98      0.98      3516\n",
      "weighted avg       0.98      0.98      0.98      3516\n",
      "\n",
      "\n",
      "\n"
     ]
    },
    {
     "data": {
      "image/png": "[encoded data removed]",
      "text/plain": [
       "<Figure size 800x400 with 2 Axes>"
      ]
     },
     "metadata": {},
     "output_type": "display_data"
    }
   ],
   "source": [
    "# Testing new function\n",
    "y_pred_train = clf_pipe.predict(X_train)\n",
    "\n",
    "\n",
    "report_str, conf_mat = classification_metrics_streamlit(y_train, y_pred_train, class_names = encoder.classes_,label='Training Data');\n",
    "print(report_str)\n"
   ]
  },
  {
   "cell_type": "markdown",
   "id": "0885204a-be81-495a-a24a-654ad6879533",
   "metadata": {
    "execution": {
     "iopub.execute_input": "2023-12-13T21:38:25.710368Z",
     "iopub.status.busy": "2023-12-13T21:38:25.710248Z",
     "iopub.status.idle": "2023-12-13T21:38:25.712974Z",
     "shell.execute_reply": "2023-12-13T21:38:25.712453Z",
     "shell.execute_reply.started": "2023-12-13T21:38:25.710358Z"
    }
   },
   "source": [
    "```\n",
    "​## To place the 3 checkboxes on top of each other\n",
    "show_train = st.checkbox(\"Show training data.\",value=True)\n",
    "show_test = st.checkbox(\"Show test data.\", value=True)\n",
    "show_model_params =st.checkbox(\"Show model params.\", value=False)\n",
    "\n",
    "if st.button(\"Show model evaluation.\"):\n",
    "    pass # placeholder\n",
    "```"
   ]
  },
  {
   "cell_type": "markdown",
   "id": "3b9446fb-678d-475a-b7df-eb246b4ed3a6",
   "metadata": {
    "execution": {
     "iopub.execute_input": "2023-12-13T21:38:25.713758Z",
     "iopub.status.busy": "2023-12-13T21:38:25.713530Z",
     "iopub.status.idle": "2023-12-13T21:38:25.715845Z",
     "shell.execute_reply": "2023-12-13T21:38:25.715396Z",
     "shell.execute_reply.started": "2023-12-13T21:38:25.713744Z"
    }
   },
   "source": [
    "```\n",
    "​## To place the 3 checkboxes side-by-side\n",
    "col1,col2,col3 = st.columns(3)\n",
    "show_train = col1.checkbox(\"Show training data.\", value=True)\n",
    "show_test = col2.checkbox(\"Show test data.\", value=True)\n",
    "show_model_params =col3.checkbox(\"Show model params.\", value=False)\n",
    "\n",
    "if st.button(\"Show model evaluation.\"):\n",
    "    pass # placeholder\n",
    "\n",
    "```"
   ]
  },
  {
   "cell_type": "markdown",
   "id": "012d04c8-b913-4c65-bafd-50e39d1cdc0e",
   "metadata": {
    "execution": {
     "iopub.execute_input": "2023-12-13T21:38:25.716454Z",
     "iopub.status.busy": "2023-12-13T21:38:25.716344Z",
     "iopub.status.idle": "2023-12-13T21:38:25.718501Z",
     "shell.execute_reply": "2023-12-13T21:38:25.718152Z",
     "shell.execute_reply.started": "2023-12-13T21:38:25.716445Z"
    }
   },
   "source": [
    "```\n",
    "if st.button(\"Show model evaluation.\"):\n",
    "    \n",
    "    if show_train == True:\n",
    "        # Display training data results\n",
    "        y_pred_train = clf_pipe.predict(X_train)\n",
    "        report_str, conf_mat = classification_metrics_streamlit(y_train, y_pred_train, label='Training Data')\n",
    "        st.text(report_str)\n",
    "        st.pyplot(conf_mat)\n",
    "        st.text(\"\\n\\n\")\n",
    "\n",
    "    if show_test == True: \n",
    "        # Display the trainin data resultsg\n",
    "        y_pred_test = clf_pipe.predict(X_test)\n",
    "        report_str, conf_mat = classification_metrics_streamlit(y_test, y_pred_test, cmap='Reds',label='Test Data')\n",
    "        st.text(report_str)\n",
    "        st.pyplot(conf_mat)\n",
    "        st.text(\"\\n\\n\")\n",
    "        \n",
    "\n",
    "    if show_model_params:\n",
    "        # Display model params\n",
    "        st.markdown(\"####  Model Parameters:\")\n",
    "        st.write(clf_pipe.get_params())\n",
    "\n",
    "else:\n",
    "    st.empty()\n",
    "```"
   ]
  },
  {
   "cell_type": "code",
   "execution_count": null,
   "id": "3af43db6-d0d1-4966-b2e6-217c22f6c82e",
   "metadata": {},
   "outputs": [],
   "source": []
  },
  {
   "cell_type": "code",
   "execution_count": null,
   "id": "85b9538b-eabc-458a-9eb4-12469491ad49",
   "metadata": {},
   "outputs": [],
   "source": []
  },
  {
   "cell_type": "code",
   "execution_count": null,
   "id": "a8d01e16-a092-4d9e-b9bf-c6adc8a8ab71",
   "metadata": {},
   "outputs": [],
   "source": []
  },
  {
   "cell_type": "code",
   "execution_count": 45,
   "id": "7469a000-0b98-4fce-90c2-c3877cc0d2a1",
   "metadata": {
    "execution": {
     "iopub.execute_input": "2023-12-15T00:03:42.753268Z",
     "iopub.status.busy": "2023-12-15T00:03:42.753103Z",
     "iopub.status.idle": "2023-12-15T00:03:42.799170Z",
     "shell.execute_reply": "2023-12-15T00:03:42.798560Z",
     "shell.execute_reply.started": "2023-12-15T00:03:42.753251Z"
    }
   },
   "outputs": [],
   "source": [
    "if STOP_EACH_LESSON:\n",
    "    raise Exception(\"End of Lesson\")"
   ]
  },
  {
   "cell_type": "markdown",
   "id": "3a71ce50-bb13-46ee-a189-1038bf5ca44a",
   "metadata": {},
   "source": [
    "## 📚3) Preparing Tensorflow Models for Streamlit"
   ]
  },
  {
   "cell_type": "code",
   "execution_count": 46,
   "id": "c50d4bb9-2ce8-42dd-9ae3-b83f117f729c",
   "metadata": {
    "execution": {
     "iopub.execute_input": "2023-12-15T00:03:42.800002Z",
     "iopub.status.busy": "2023-12-15T00:03:42.799898Z",
     "iopub.status.idle": "2023-12-15T00:03:42.839548Z",
     "shell.execute_reply": "2023-12-15T00:03:42.839013Z",
     "shell.execute_reply.started": "2023-12-15T00:03:42.799992Z"
    }
   },
   "outputs": [],
   "source": [
    "import tensorflow as tf\n",
    "import numpy as np\n",
    "\n",
    "# Then Set Random Seeds\n",
    "tf.keras.utils.set_random_seed(42)\n",
    "tf.random.set_seed(42)\n",
    "np.random.seed(42)\n",
    "\n",
    "# Then run the Enable Deterministic Operations Function\n",
    "tf.config.experimental.enable_op_determinism()\n",
    "\n",
    "# Source: https://discuss.tensorflow.org/t/upgrading-os-to-sonoma-on-my-mac-causing-tensorflow-errors/19846/5\n",
    "tf.config.set_visible_devices([], 'GPU')\n"
   ]
  },
  {
   "cell_type": "code",
   "execution_count": 47,
   "id": "da00e8f8-8f1f-40da-a56c-e35836e2eb70",
   "metadata": {
    "execution": {
     "iopub.execute_input": "2023-12-15T00:03:42.840312Z",
     "iopub.status.busy": "2023-12-15T00:03:42.840170Z",
     "iopub.status.idle": "2023-12-15T00:03:42.877752Z",
     "shell.execute_reply": "2023-12-15T00:03:42.877308Z",
     "shell.execute_reply.started": "2023-12-15T00:03:42.840300Z"
    }
   },
   "outputs": [],
   "source": [
    "# Import standard packages\n",
    "import pandas as pd\n",
    "import numpy as np\n",
    "import matplotlib.pyplot as plt\n",
    "import seaborn as sns\n",
    "import joblib\n",
    "import tensorflow as tf\n",
    "from tensorflow.keras.layers import TextVectorization\n",
    "from tensorflow.keras import layers\n",
    "from tensorflow.keras import optimizers\n",
    "\n",
    "from sklearn import set_config\n",
    "set_config(transform_output='pandas')\n",
    "pd.set_option('display.max_colwidth', 250)\n"
   ]
  },
  {
   "cell_type": "code",
   "execution_count": 48,
   "id": "80e46968-6aec-43f2-a749-25bfc86b5b6d",
   "metadata": {
    "execution": {
     "iopub.execute_input": "2023-12-15T00:03:42.878326Z",
     "iopub.status.busy": "2023-12-15T00:03:42.878227Z",
     "iopub.status.idle": "2023-12-15T00:03:42.915204Z",
     "shell.execute_reply": "2023-12-15T00:03:42.914842Z",
     "shell.execute_reply.started": "2023-12-15T00:03:42.878316Z"
    }
   },
   "outputs": [
    {
     "name": "stdout",
     "output_type": "stream",
     "text": [
      "The autoreload extension is already loaded. To reload it, use:\n",
      "  %reload_ext autoreload\n"
     ]
    }
   ],
   "source": [
    "import os, sys\n",
    "\n",
    "%load_ext autoreload \n",
    "%autoreload 2\n",
    "\n",
    "import custom_functions_temp as fn\n"
   ]
  },
  {
   "cell_type": "code",
   "execution_count": 49,
   "id": "45eecfc0-b4c1-4d54-ab10-932630096b5a",
   "metadata": {
    "execution": {
     "iopub.execute_input": "2023-12-15T00:03:42.915908Z",
     "iopub.status.busy": "2023-12-15T00:03:42.915807Z",
     "iopub.status.idle": "2023-12-15T00:03:42.951963Z",
     "shell.execute_reply": "2023-12-15T00:03:42.951620Z",
     "shell.execute_reply.started": "2023-12-15T00:03:42.915899Z"
    }
   },
   "outputs": [
    {
     "data": {
      "text/plain": [
       "{'data': {'filtered': 'data/yelp-reviews-filtered.csv',\n",
       "  'processed': 'data/yelp-reviews-tokenized.joblib',\n",
       "  'ml': {'train': 'data/training-data.joblib',\n",
       "   'test': 'data/testing-data.joblib',\n",
       "   'label_encoder': 'data/label-encoder.joblib',\n",
       "   'target_lookup': 'data/target-lookup-dict.joblib'},\n",
       "  'tf': {'train_tf': 'data/training_tf', 'test_tf': 'data/testing_tf'}},\n",
       " 'models': {'rf': 'models/rf-pipe.joblib',\n",
       "  'nb': 'models/nb-pipe.joblib',\n",
       "  'gru': 'models/tf/'},\n",
       " 'eda': {'scattertext': 'eda/scattertext.html',\n",
       "  'wordclouds-raw': 'eda/wordclouds-raw-text.png',\n",
       "  'wordclouds-lemmas': 'eda/wordclouds-lemmas.png'}}"
      ]
     },
     "execution_count": 49,
     "metadata": {},
     "output_type": "execute_result"
    }
   ],
   "source": [
    "# Open the file structure dictionary\n",
    "import json\n",
    "\n",
    "with open('config/filepaths.json') as f:\n",
    "    FPATHS = json.load(f)\n",
    "FPATHS\n"
   ]
  },
  {
   "cell_type": "markdown",
   "id": "d0addecc-32d3-4f81-824c-22f9fc0fa0ea",
   "metadata": {},
   "source": [
    "### 📖Updated:  Prepare Dataset Objects for Tensorflow"
   ]
  },
  {
   "cell_type": "markdown",
   "id": "7fff9f17-4d2e-4318-a1ac-50507193c854",
   "metadata": {},
   "source": [
    "> `@Brenda`"
   ]
  },
  {
   "cell_type": "code",
   "execution_count": 50,
   "id": "a857c3ab-6401-4c4d-a743-544118641f76",
   "metadata": {
    "execution": {
     "iopub.execute_input": "2023-12-15T00:03:42.952574Z",
     "iopub.status.busy": "2023-12-15T00:03:42.952476Z",
     "iopub.status.idle": "2023-12-15T00:03:42.992853Z",
     "shell.execute_reply": "2023-12-15T00:03:42.992532Z",
     "shell.execute_reply.started": "2023-12-15T00:03:42.952565Z"
    }
   },
   "outputs": [
    {
     "data": {
      "text/plain": [
       "(array([\"When you're in the mood to be super chill, Boathouse at Hendry's is IT. Tucked away at Arroyo Burro, it's as close as you can get to intimate fine dining on the beach. The food is excellent - try the oysters. There's even a happy hour. Waits can be a little long at popular times, but you can kick it on the beach while you wait. It's a pretty sweet deal.\",\n",
       "        \"This is my favorite go to place for tacos in SB! Fast service, great price, decent portions and very tasty! If you're here in a weekend make sure you try the tripas (I get mine crispy all the time!). Most recently I got cabeza and that was great too! The meat is very tender!\",\n",
       "        \"I come here way to often. At least 2 times a week. Their sandwiches are so good. They people are so friendly. If I'm getting a sandwich on my lunch break I always make sure to call it in because they get so busy. I always go for the super deluxe and add pickles and olives. So good!\",\n",
       "        \"Wanna feel like you're chillin' in a tiny Italian cafe? Well then this is definitely your spot! First of all, this place is a mini version of what it's like to be in a cafe/Market. You can have a cappuccino, wine, gelato or a big bowl of pasta! You can also find Italian grocery items, which is a super perk! \\n\\nThis place is definitely a hidden gem and is by far one of the most unique eateries i have ever been to. \\nI've been here several times and each time is a such a treat that i literally clap when my food arrives to my table. \\n\\nOn my most recent visit, i had a simple capellini pasta with tomatoes, fresh mozzarella and basil. Perfect pasta! I also had a simple salad, a glass of vino and of course, a cappuccino! \\n\\nMy friend ordered a vegetarian panini and a white bean with tuna salad. Delicious! I can't rave enough about this place! Whatever you do, don't leave without trying out the gelato!\",\n",
       "        'Perfect meal by the beach. Clam chowder french fries were my favorite!\\n\\nFriendly staff and quality food with an amazing view, what more could you ask for?\\n\\nParking may be a bit hectic, and the wait may be long, but if you are in the area it is a definite must try!\\n\\nEven with a longer wait time you could just hang out by the beach and soak in some vitamin d!'],\n",
       "       dtype=object),\n",
       " array([0, 0, 0, 0, 0]))"
      ]
     },
     "execution_count": 50,
     "metadata": {},
     "output_type": "execute_result"
    }
   ],
   "source": [
    "# load training data using dictionary\n",
    "[X_train, y_train] = joblib.load(FPATHS['data']['ml']['train'])\n",
    "[X_test, y_test]  = joblib.load(FPATHS['data']['ml']['test'])\n",
    "X_train[:5],y_train[:5]"
   ]
  },
  {
   "cell_type": "code",
   "execution_count": 51,
   "id": "73b78e79-9388-4d60-a138-e5c12cfb1681",
   "metadata": {
    "execution": {
     "iopub.execute_input": "2023-12-15T00:03:42.993544Z",
     "iopub.status.busy": "2023-12-15T00:03:42.993422Z",
     "iopub.status.idle": "2023-12-15T00:03:43.036803Z",
     "shell.execute_reply": "2023-12-15T00:03:43.036448Z",
     "shell.execute_reply.started": "2023-12-15T00:03:42.993535Z"
    },
    "scrolled": true
   },
   "outputs": [],
   "source": [
    "# Make a dataset object from train data\n",
    "train_tf = tf.data.Dataset.from_tensor_slices((X_train, y_train))\n",
    "# Make a dataset object from test data\n",
    "test_tf = tf.data.Dataset.from_tensor_slices((X_test, y_test))\n"
   ]
  },
  {
   "cell_type": "code",
   "execution_count": 52,
   "id": "b6ac4a32-186a-4692-8fc1-07c984f17b7d",
   "metadata": {
    "execution": {
     "iopub.execute_input": "2023-12-15T00:03:43.037429Z",
     "iopub.status.busy": "2023-12-15T00:03:43.037327Z",
     "iopub.status.idle": "2023-12-15T00:03:43.073692Z",
     "shell.execute_reply": "2023-12-15T00:03:43.073272Z",
     "shell.execute_reply.started": "2023-12-15T00:03:43.037419Z"
    }
   },
   "outputs": [],
   "source": [
    "# Shuffle dataset\n",
    "train_tf = train_tf.shuffle(buffer_size=len(train_tf),reshuffle_each_iteration=False)"
   ]
  },
  {
   "cell_type": "code",
   "execution_count": 53,
   "id": "8983f47d-6f80-42f4-95f0-9c177be62581",
   "metadata": {
    "execution": {
     "iopub.execute_input": "2023-12-15T00:03:43.074582Z",
     "iopub.status.busy": "2023-12-15T00:03:43.074426Z",
     "iopub.status.idle": "2023-12-15T00:03:43.109314Z",
     "shell.execute_reply": "2023-12-15T00:03:43.108804Z",
     "shell.execute_reply.started": "2023-12-15T00:03:43.074570Z"
    }
   },
   "outputs": [
    {
     "data": {
      "text/plain": [
       "(3516, 3830)"
      ]
     },
     "execution_count": 53,
     "metadata": {},
     "output_type": "execute_result"
    }
   ],
   "source": [
    "len(train_tf), len(test_tf)"
   ]
  },
  {
   "cell_type": "code",
   "execution_count": null,
   "id": "4ffb7f99-55a6-4507-9d30-a7c21cf33ecd",
   "metadata": {},
   "outputs": [],
   "source": []
  },
  {
   "cell_type": "code",
   "execution_count": 54,
   "id": "69e40b7f-37f0-4fd2-b845-89523f6f010d",
   "metadata": {
    "execution": {
     "iopub.execute_input": "2023-12-15T00:03:43.110053Z",
     "iopub.status.busy": "2023-12-15T00:03:43.109886Z",
     "iopub.status.idle": "2023-12-15T00:03:43.144491Z",
     "shell.execute_reply": "2023-12-15T00:03:43.144122Z",
     "shell.execute_reply.started": "2023-12-15T00:03:43.110044Z"
    }
   },
   "outputs": [
    {
     "name": "stdout",
     "output_type": "stream",
     "text": [
      "    - train:\t2637 samples \t(83 batches)\n",
      "    - val:  \t879 samples \t(28 batches)\n"
     ]
    }
   ],
   "source": [
    "# Set the ratio of the train, validation, test split\n",
    "split_train = .75\n",
    "split_val =  .25\n",
    "# Calculate the number of samples for training and validation data \n",
    "n_train_samples =  int(len(train_tf) * split_train)\n",
    "n_val_samples = int(len(train_tf) * split_val)\n",
    "\n",
    "# Set the batch size\n",
    "BATCH_SIZE =32\n",
    "import math\n",
    "\n",
    "# math.ceil will round up\n",
    "# How many batches? \n",
    "n_train_batches = math.ceil(n_train_samples/BATCH_SIZE)\n",
    "n_val_batches = math.ceil(n_val_samples/BATCH_SIZE)\n",
    "print(f\"    - train:\\t{n_train_samples} samples \\t({n_train_batches} batches)\")\n",
    "print(f\"    - val:  \\t{n_val_samples} samples \\t({n_val_batches} batches)\")\n"
   ]
  },
  {
   "cell_type": "code",
   "execution_count": 55,
   "id": "e092893b-d568-46fc-8f87-f2a6a95dd6e1",
   "metadata": {
    "execution": {
     "iopub.execute_input": "2023-12-15T00:03:43.145096Z",
     "iopub.status.busy": "2023-12-15T00:03:43.145004Z",
     "iopub.status.idle": "2023-12-15T00:03:43.184819Z",
     "shell.execute_reply": "2023-12-15T00:03:43.184313Z",
     "shell.execute_reply.started": "2023-12-15T00:03:43.145087Z"
    }
   },
   "outputs": [
    {
     "name": "stdout",
     "output_type": "stream",
     "text": [
      " There are 83 training batches.\n",
      " There are 28 validation batches.\n"
     ]
    }
   ],
   "source": [
    "# Use take and skip to define each set\n",
    "train_ds = train_tf.take(n_train_samples).batch(batch_size=BATCH_SIZE)\n",
    "# Skip over the training batches and take the validation batches\n",
    "val_ds = train_tf.skip(n_train_samples).take(n_val_samples).batch(batch_size=BATCH_SIZE)\n",
    "\n",
    "# Confirm the number of batches in each\n",
    "print (f' There are {len(train_ds)} training batches.')\n",
    "print (f' There are {len(val_ds)} validation batches.')\n"
   ]
  },
  {
   "cell_type": "code",
   "execution_count": 56,
   "id": "48d91787-81ea-44b2-9a08-073713d02ed9",
   "metadata": {
    "execution": {
     "iopub.execute_input": "2023-12-15T00:03:43.185437Z",
     "iopub.status.busy": "2023-12-15T00:03:43.185329Z",
     "iopub.status.idle": "2023-12-15T00:03:43.220030Z",
     "shell.execute_reply": "2023-12-15T00:03:43.219545Z",
     "shell.execute_reply.started": "2023-12-15T00:03:43.185427Z"
    }
   },
   "outputs": [
    {
     "data": {
      "text/plain": [
       "3830"
      ]
     },
     "execution_count": 56,
     "metadata": {},
     "output_type": "execute_result"
    }
   ],
   "source": [
    "# How many samples in the loaded_test data\n",
    "n_test_samples = len(test_tf)\n",
    "n_test_samples\n"
   ]
  },
  {
   "cell_type": "code",
   "execution_count": 57,
   "id": "4e74ea77-9ee3-4477-8558-179e3d43e838",
   "metadata": {
    "execution": {
     "iopub.execute_input": "2023-12-15T00:03:43.220752Z",
     "iopub.status.busy": "2023-12-15T00:03:43.220610Z",
     "iopub.status.idle": "2023-12-15T00:03:43.254372Z",
     "shell.execute_reply": "2023-12-15T00:03:43.254022Z",
     "shell.execute_reply.started": "2023-12-15T00:03:43.220741Z"
    }
   },
   "outputs": [
    {
     "name": "stdout",
     "output_type": "stream",
     "text": [
      " There are 120 testing batches.\n"
     ]
    }
   ],
   "source": [
    "# Put the test data into batches also\n",
    "test_ds = test_tf.batch(batch_size = BATCH_SIZE)\n",
    "# How many batches\n",
    "print (f' There are {len(test_ds)} testing batches.')\n"
   ]
  },
  {
   "cell_type": "code",
   "execution_count": 58,
   "id": "b8016673-cfec-4484-bcef-e330b48d232f",
   "metadata": {
    "execution": {
     "iopub.execute_input": "2023-12-15T00:03:43.255107Z",
     "iopub.status.busy": "2023-12-15T00:03:43.255008Z",
     "iopub.status.idle": "2023-12-15T00:03:43.292173Z",
     "shell.execute_reply": "2023-12-15T00:03:43.291854Z",
     "shell.execute_reply.started": "2023-12-15T00:03:43.255098Z"
    }
   },
   "outputs": [
    {
     "data": {
      "text/plain": [
       "<tf.Tensor: shape=(32,), dtype=int64, numpy=\n",
       "array([0, 0, 1, 0, 0, 1, 0, 0, 0, 1, 1, 1, 0, 0, 0, 0, 1, 0, 1, 0, 1, 1,\n",
       "       1, 0, 1, 0, 0, 1, 0, 1, 0, 1])>"
      ]
     },
     "execution_count": 58,
     "metadata": {},
     "output_type": "execute_result"
    }
   ],
   "source": [
    "# Get a single element\n",
    "example_x, example_y = train_ds.take(1).get_single_element()\n",
    "example_y\n"
   ]
  },
  {
   "cell_type": "code",
   "execution_count": 59,
   "id": "3e530a05-af3f-439e-85f4-9598c4b7d25c",
   "metadata": {
    "execution": {
     "iopub.execute_input": "2023-12-15T00:03:43.292751Z",
     "iopub.status.busy": "2023-12-15T00:03:43.292663Z",
     "iopub.status.idle": "2023-12-15T00:03:43.325760Z",
     "shell.execute_reply": "2023-12-15T00:03:43.325435Z",
     "shell.execute_reply.started": "2023-12-15T00:03:43.292743Z"
    }
   },
   "outputs": [],
   "source": [
    "# example_x"
   ]
  },
  {
   "cell_type": "code",
   "execution_count": null,
   "id": "cb295729-2d5e-40a3-8891-13a16953b98f",
   "metadata": {},
   "outputs": [],
   "source": []
  },
  {
   "cell_type": "code",
   "execution_count": null,
   "id": "9fc5bd31-80d2-45ab-b79c-c1e204c45faa",
   "metadata": {},
   "outputs": [],
   "source": []
  },
  {
   "cell_type": "code",
   "execution_count": 60,
   "id": "a0831644-7276-4053-a5f6-312772829f20",
   "metadata": {
    "execution": {
     "iopub.execute_input": "2023-12-15T00:03:43.326242Z",
     "iopub.status.busy": "2023-12-15T00:03:43.326144Z",
     "iopub.status.idle": "2023-12-15T00:03:43.360240Z",
     "shell.execute_reply": "2023-12-15T00:03:43.359831Z",
     "shell.execute_reply.started": "2023-12-15T00:03:43.326233Z"
    }
   },
   "outputs": [],
   "source": [
    "# encoder.inverse_transform(example_y)"
   ]
  },
  {
   "cell_type": "code",
   "execution_count": 61,
   "id": "4d6185a2-5fc2-4fbb-8dfc-98d56c9824fb",
   "metadata": {
    "execution": {
     "iopub.execute_input": "2023-12-15T00:03:43.360865Z",
     "iopub.status.busy": "2023-12-15T00:03:43.360764Z",
     "iopub.status.idle": "2023-12-15T00:03:43.437093Z",
     "shell.execute_reply": "2023-12-15T00:03:43.436678Z",
     "shell.execute_reply.started": "2023-12-15T00:03:43.360856Z"
    }
   },
   "outputs": [
    {
     "name": "stderr",
     "output_type": "stream",
     "text": [
      "2023-12-14 19:03:43.399871: W tensorflow/tsl/platform/profile_utils/cpu_utils.cc:128] Failed to get CPU frequency: 0 Hz\n"
     ]
    }
   ],
   "source": [
    "# Save training dataset object\n",
    "train_ds_fpath = FPATHS['data']['tf']['train_tf']\n",
    "# tf.data.Dataset.save(train_tf, train_ds_fpath)\n",
    "tf.data.Dataset.save(train_ds, train_ds_fpath)\n",
    "\n",
    "# Save testing dataset object\n",
    "test_ds_fpath = FPATHS['data']['tf']['test_tf']\n",
    "# tf.data.Dataset.save(test_tf, test_ds_fpath)\n",
    "tf.data.Dataset.save(test_ds, test_ds_fpath)"
   ]
  },
  {
   "cell_type": "markdown",
   "id": "9850a28f-8238-4683-9932-1b46dfe097a5",
   "metadata": {},
   "source": [
    "> @BRENDA: new"
   ]
  },
  {
   "cell_type": "code",
   "execution_count": 62,
   "id": "eba27337-e072-488c-bf18-ddff15797009",
   "metadata": {
    "execution": {
     "iopub.execute_input": "2023-12-15T00:03:43.437873Z",
     "iopub.status.busy": "2023-12-15T00:03:43.437751Z",
     "iopub.status.idle": "2023-12-15T00:03:43.472800Z",
     "shell.execute_reply": "2023-12-15T00:03:43.472452Z",
     "shell.execute_reply.started": "2023-12-15T00:03:43.437863Z"
    }
   },
   "outputs": [
    {
     "data": {
      "text/plain": [
       "array(['Five Stars', 'One Star'], dtype=object)"
      ]
     },
     "execution_count": 62,
     "metadata": {},
     "output_type": "execute_result"
    }
   ],
   "source": [
    "# Define classes\n",
    "# classes = np.unique(example_y)\n",
    "encoder = joblib.load(FPATHS['data']['ml']['label_encoder'])\n",
    "classes = encoder.classes_\n",
    "classes\n"
   ]
  },
  {
   "cell_type": "code",
   "execution_count": 63,
   "id": "01c1c02d-aee7-4391-acd1-30e284a65e86",
   "metadata": {
    "execution": {
     "iopub.execute_input": "2023-12-15T00:03:43.473498Z",
     "iopub.status.busy": "2023-12-15T00:03:43.473398Z",
     "iopub.status.idle": "2023-12-15T00:03:43.641786Z",
     "shell.execute_reply": "2023-12-15T00:03:43.641412Z",
     "shell.execute_reply.started": "2023-12-15T00:03:43.473489Z"
    }
   },
   "outputs": [
    {
     "name": "stdout",
     "output_type": "stream",
     "text": [
      "\n",
      "tf.keras.layers.TextVectorization(\n",
      "{   'batch_input_shape': (None,),\n",
      "    'dtype': 'string',\n",
      "    'encoding': 'utf-8',\n",
      "    'idf_weights': None,\n",
      "    'max_tokens': None,\n",
      "    'name': 'text_vectorization',\n",
      "    'ngrams': None,\n",
      "    'output_mode': 'int',\n",
      "    'output_sequence_length': 400,\n",
      "    'pad_to_max_tokens': False,\n",
      "    'ragged': False,\n",
      "    'sparse': False,\n",
      "    'split': 'whitespace',\n",
      "    'standardize': 'lower_and_strip_punctuation',\n",
      "    'trainable': True,\n",
      "    'vocabulary': None,\n",
      "    'vocabulary_size': 10795}\n",
      ")\n"
     ]
    }
   ],
   "source": [
    "# Define sequence length as a variable for future use\n",
    "SEQUENCE_LENGTH = 400\n",
    "# Define vectorizer layer. Use the custom function to build and fit the vectorizer before using it in model\n",
    "sequence_vectorizer, vocab_lookup = fn.make_text_vectorization_layer(\n",
    "    train_ds, output_mode=\"int\", output_sequence_length=SEQUENCE_LENGTH, verbose=True\n",
    ")\n"
   ]
  },
  {
   "cell_type": "code",
   "execution_count": 64,
   "id": "63d614ea-f8cb-477a-98e3-adb1d6f121b6",
   "metadata": {
    "execution": {
     "iopub.execute_input": "2023-12-15T00:03:43.642452Z",
     "iopub.status.busy": "2023-12-15T00:03:43.642344Z",
     "iopub.status.idle": "2023-12-15T00:03:43.679347Z",
     "shell.execute_reply": "2023-12-15T00:03:43.678943Z",
     "shell.execute_reply.started": "2023-12-15T00:03:43.642443Z"
    }
   },
   "outputs": [],
   "source": [
    "def build_gru_model_stack_deep_pool(text_vectorization_layer):\n",
    "    n_units = 64\n",
    "    dropout_rate = .3\n",
    "    \n",
    "    VOCAB_SIZE = text_vectorization_layer.vocabulary_size()\n",
    "        \n",
    "    model = tf.keras.Sequential([\n",
    "        text_vectorization_layer,\n",
    "        layers.Embedding(input_dim=VOCAB_SIZE,\n",
    "                                  output_dim=EMBED_DIM, \n",
    "                                  input_length=SEQUENCE_LENGTH)])\n",
    "\n",
    "    # Stack three GrU layers    \n",
    "    model.add(layers.GRU(n_units, return_sequences=True))\n",
    "    model.add(layers.Dropout(dropout_rate))\n",
    "    model.add(layers.GRU(n_units, return_sequences=True))\n",
    "    model.add(layers.Dropout(dropout_rate))         \n",
    "    # For the final GRU layer, use return_sequences = True for pooling layer\n",
    "    model.add(layers.GRU(n_units, return_sequences = True)) \n",
    "    model.add(layers.GlobalMaxPooling1D())\n",
    "    # Output layer\n",
    "    model.add(layers.Dense(len(classes), \n",
    "                              activation='softmax'))\n",
    "\n",
    "              \n",
    "    # Define optimizer\n",
    "    optimizer = optimizers.legacy.Adam()\n",
    "\n",
    "    # Compile\n",
    "    model.compile(optimizer=optimizer,  \n",
    "                  loss='sparse_categorical_crossentropy', metrics=['accuracy'])\n",
    "    model.summary()\n",
    "    return model\n"
   ]
  },
  {
   "cell_type": "code",
   "execution_count": 65,
   "id": "6bb1cb76-4cf2-48bb-966f-79d84086b9bc",
   "metadata": {
    "execution": {
     "iopub.execute_input": "2023-12-15T00:03:43.679980Z",
     "iopub.status.busy": "2023-12-15T00:03:43.679883Z",
     "iopub.status.idle": "2023-12-15T00:03:43.716261Z",
     "shell.execute_reply": "2023-12-15T00:03:43.715681Z",
     "shell.execute_reply.started": "2023-12-15T00:03:43.679971Z"
    }
   },
   "outputs": [],
   "source": [
    "def get_callbacks(patience=3, monitor='val_accuracy'):\n",
    "    early_stop = tf.keras.callbacks.EarlyStopping(patience=patience, monitor=monitor)\n",
    "    return [early_stop]\n"
   ]
  },
  {
   "cell_type": "code",
   "execution_count": 66,
   "id": "15e252d7-102e-4091-ad99-d268406a59b8",
   "metadata": {
    "execution": {
     "iopub.execute_input": "2023-12-15T00:03:43.716886Z",
     "iopub.status.busy": "2023-12-15T00:03:43.716768Z",
     "iopub.status.idle": "2023-12-15T00:06:31.031451Z",
     "shell.execute_reply": "2023-12-15T00:06:31.030888Z",
     "shell.execute_reply.started": "2023-12-15T00:03:43.716876Z"
    }
   },
   "outputs": [
    {
     "name": "stdout",
     "output_type": "stream",
     "text": [
      "Model: \"sequential\"\n",
      "_________________________________________________________________\n",
      " Layer (type)                Output Shape              Param #   \n",
      "=================================================================\n",
      " text_vectorization (TextVec  (None, 400)              0         \n",
      " torization)                                                     \n",
      "                                                                 \n",
      " embedding (Embedding)       (None, 400, 100)          1079500   \n",
      "                                                                 \n",
      " gru (GRU)                   (None, 400, 64)           31872     \n",
      "                                                                 \n",
      " dropout (Dropout)           (None, 400, 64)           0         \n",
      "                                                                 \n",
      " gru_1 (GRU)                 (None, 400, 64)           24960     \n",
      "                                                                 \n",
      " dropout_1 (Dropout)         (None, 400, 64)           0         \n",
      "                                                                 \n",
      " gru_2 (GRU)                 (None, 400, 64)           24960     \n",
      "                                                                 \n",
      " global_max_pooling1d (Globa  (None, 64)               0         \n",
      " lMaxPooling1D)                                                  \n",
      "                                                                 \n",
      " dense (Dense)               (None, 2)                 130       \n",
      "                                                                 \n",
      "=================================================================\n",
      "Total params: 1,161,422\n",
      "Trainable params: 1,161,422\n",
      "Non-trainable params: 0\n",
      "_________________________________________________________________\n",
      "Epoch 1/3\n",
      "83/83 [==============================] - 29s 324ms/step - loss: 0.5129 - accuracy: 0.7084 - val_loss: 0.2015 - val_accuracy: 0.9238\n",
      "Epoch 2/3\n",
      "83/83 [==============================] - 26s 311ms/step - loss: 0.0989 - accuracy: 0.9674 - val_loss: 0.1424 - val_accuracy: 0.9465\n",
      "Epoch 3/3\n",
      "83/83 [==============================] - 27s 322ms/step - loss: 0.0236 - accuracy: 0.9958 - val_loss: 0.1939 - val_accuracy: 0.9511\n"
     ]
    },
    {
     "data": {
      "image/png": "[encoded data removed]",
      "text/plain": [
       "<Figure size 600x600 with 2 Axes>"
      ]
     },
     "metadata": {},
     "output_type": "display_data"
    },
    {
     "name": "stdout",
     "output_type": "stream",
     "text": [
      "\n",
      "================================================================================\n",
      "- Evaluating Network...\n",
      "================================================================================\n",
      "----------------------------------------------------------------------\n",
      " Classification Metrics: Test Data\n",
      "----------------------------------------------------------------------\n",
      "              precision    recall  f1-score   support\n",
      "\n",
      "           0       0.99      0.94      0.97      3231\n",
      "           1       0.76      0.93      0.84       599\n",
      "\n",
      "    accuracy                           0.94      3830\n",
      "   macro avg       0.87      0.94      0.90      3830\n",
      "weighted avg       0.95      0.94      0.95      3830\n",
      "\n"
     ]
    },
    {
     "data": {
      "image/png": "[encoded data removed]",
      "text/plain": [
       "<Figure size 600x400 with 2 Axes>"
      ]
     },
     "metadata": {},
     "output_type": "display_data"
    },
    {
     "name": "stdout",
     "output_type": "stream",
     "text": [
      "\n",
      "- Evaluating Test Data:\n",
      "120/120 [==============================] - 8s 68ms/step - loss: 0.2079 - accuracy: 0.9428\n",
      "{'loss': 0.20788587629795074, 'accuracy': 0.9428198337554932}\n"
     ]
    }
   ],
   "source": [
    "# Build model\n",
    "\n",
    "EMBED_DIM = 100\n",
    "model = build_gru_model_stack_deep_pool(sequence_vectorizer)\n",
    "\n",
    "EPOCHS = 3#Lesson is 30\n",
    "history = model.fit(\n",
    "    train_ds,\n",
    "    epochs=EPOCHS,\n",
    "    validation_data=val_ds,\n",
    "    callbacks=get_callbacks(),\n",
    ")\n",
    "results = fn.evaluate_classification_network(\n",
    "    model,\n",
    "    X_test=test_ds, history=history\n",
    ");\n"
   ]
  },
  {
   "cell_type": "code",
   "execution_count": 67,
   "id": "a32c6dad-788e-4cfc-aa7b-b0a6de0027d1",
   "metadata": {
    "execution": {
     "iopub.execute_input": "2023-12-15T00:06:31.065962Z",
     "iopub.status.busy": "2023-12-15T00:06:31.065776Z",
     "iopub.status.idle": "2023-12-15T00:06:34.553275Z",
     "shell.execute_reply": "2023-12-15T00:06:34.552770Z",
     "shell.execute_reply.started": "2023-12-15T00:06:31.065951Z"
    }
   },
   "outputs": [
    {
     "name": "stderr",
     "output_type": "stream",
     "text": [
      "WARNING:absl:Found untraced functions such as gru_cell_layer_call_fn, gru_cell_layer_call_and_return_conditional_losses, gru_cell_1_layer_call_fn, gru_cell_1_layer_call_and_return_conditional_losses, gru_cell_2_layer_call_fn while saving (showing 5 of 6). These functions will not be directly callable after loading.\n"
     ]
    },
    {
     "name": "stdout",
     "output_type": "stream",
     "text": [
      "INFO:tensorflow:Assets written to: models/tf/assets\n"
     ]
    },
    {
     "name": "stderr",
     "output_type": "stream",
     "text": [
      "INFO:tensorflow:Assets written to: models/tf/assets\n"
     ]
    }
   ],
   "source": [
    "# Save model\n",
    "model_fpath = FPATHS['models']['gru']\n",
    "tf.keras.models.save_model(model, model_fpath, save_format='tf')\n"
   ]
  },
  {
   "cell_type": "code",
   "execution_count": 68,
   "id": "0cad5d44-d738-4e57-82b1-08837d9d63ee",
   "metadata": {
    "execution": {
     "iopub.execute_input": "2023-12-15T00:06:34.554136Z",
     "iopub.status.busy": "2023-12-15T00:06:34.553974Z",
     "iopub.status.idle": "2023-12-15T00:06:34.633078Z",
     "shell.execute_reply": "2023-12-15T00:06:34.632720Z",
     "shell.execute_reply.started": "2023-12-15T00:06:34.554124Z"
    }
   },
   "outputs": [],
   "source": [
    "# # Saving the final training dataset\n",
    "# fpath_save_train_ds = FPATHS['data']['tf']['train_tf_final']\n",
    "# tf.data.Dataset.save(train_ds, fpath_save_train_ds)\n",
    "# # Saving the final test dataset\n",
    "# fpath_save_test_ds = FPATHS['data']['tf']['test_tf_final']\n",
    "# tf.data.Dataset.save(test_ds, fpath_save_test_ds)\n"
   ]
  },
  {
   "cell_type": "code",
   "execution_count": 69,
   "id": "e50c3c50-6969-4f96-8b8b-3d385d7dc270",
   "metadata": {
    "execution": {
     "iopub.execute_input": "2023-12-15T00:06:34.633831Z",
     "iopub.status.busy": "2023-12-15T00:06:34.633668Z",
     "iopub.status.idle": "2023-12-15T00:06:34.672985Z",
     "shell.execute_reply": "2023-12-15T00:06:34.672640Z",
     "shell.execute_reply.started": "2023-12-15T00:06:34.633821Z"
    }
   },
   "outputs": [],
   "source": [
    "if STOP_EACH_LESSON:\n",
    "    raise Exception(\"End of Lesson\")"
   ]
  },
  {
   "cell_type": "markdown",
   "id": "8fc92a00-9a98-41b4-a563-803d06f342b5",
   "metadata": {},
   "source": [
    "# 📚4) NLP TF Models in Streamlit"
   ]
  },
  {
   "cell_type": "markdown",
   "id": "afa5840f-41bb-4278-b1d2-06dedc26cdb3",
   "metadata": {
    "execution": {
     "iopub.execute_input": "2023-12-13T19:26:01.291966Z",
     "iopub.status.busy": "2023-12-13T19:26:01.290478Z",
     "iopub.status.idle": "2023-12-13T19:26:01.366733Z",
     "shell.execute_reply": "2023-12-13T19:26:01.366111Z",
     "shell.execute_reply.started": "2023-12-13T19:26:01.291909Z"
    }
   },
   "source": [
    "https://learn.codingdojo.com/m/692/16504/125433"
   ]
  },
  {
   "cell_type": "code",
   "execution_count": 70,
   "id": "a3782ec6-1db8-445f-9047-e8200226fa42",
   "metadata": {
    "execution": {
     "iopub.execute_input": "2023-12-15T00:06:34.673733Z",
     "iopub.status.busy": "2023-12-15T00:06:34.673624Z",
     "iopub.status.idle": "2023-12-15T00:06:34.714915Z",
     "shell.execute_reply": "2023-12-15T00:06:34.714609Z",
     "shell.execute_reply.started": "2023-12-15T00:06:34.673723Z"
    }
   },
   "outputs": [
    {
     "data": {
      "text/plain": [
       "DeltaGenerator()"
      ]
     },
     "execution_count": 70,
     "metadata": {},
     "output_type": "execute_result"
    }
   ],
   "source": [
    "import streamlit as st\n",
    "import streamlit.components.v1 as components\n",
    "import pandas as pd\n",
    "import numpy as np\n",
    "import os\n",
    "import joblib\n",
    "from sklearn.metrics import classification_report, ConfusionMatrixDisplay\n",
    "import matplotlib.pyplot as plt\n",
    "import numpy as np\n",
    "import json\n",
    "import tensorflow as tf\n",
    "\n",
    "import sys, os\n",
    "\n",
    "import custom_functions_temp as fn\n",
    "\n",
    "with open('config/filepaths.json') as f:\n",
    "    FPATHS = json.load(f)\n",
    "\n",
    "st.title(\"Predicting Yelp Review Ratings\")\n"
   ]
  },
  {
   "cell_type": "code",
   "execution_count": 71,
   "id": "b23b0ee5-3d72-41da-b357-718215374d55",
   "metadata": {
    "execution": {
     "iopub.execute_input": "2023-12-15T00:06:34.715740Z",
     "iopub.status.busy": "2023-12-15T00:06:34.715519Z",
     "iopub.status.idle": "2023-12-15T00:06:34.756559Z",
     "shell.execute_reply": "2023-12-15T00:06:34.756238Z",
     "shell.execute_reply.started": "2023-12-15T00:06:34.715728Z"
    }
   },
   "outputs": [],
   "source": [
    "# Get text to predict from the text input box\n",
    "X_to_pred = st.text_input(\"### Enter text to predict here:\", \n",
    "                          value=\"I loved the food and the drinks! Great ambiance.\" )\n"
   ]
  },
  {
   "cell_type": "code",
   "execution_count": 72,
   "id": "1f2494c3-d41d-438e-be50-a1c17a0a910b",
   "metadata": {
    "execution": {
     "iopub.execute_input": "2023-12-15T00:06:34.757131Z",
     "iopub.status.busy": "2023-12-15T00:06:34.757036Z",
     "iopub.status.idle": "2023-12-15T00:06:36.511447Z",
     "shell.execute_reply": "2023-12-15T00:06:36.511090Z",
     "shell.execute_reply.started": "2023-12-15T00:06:34.757122Z"
    }
   },
   "outputs": [],
   "source": [
    "@st.cache_resource\n",
    "def load_network(fpath):\n",
    "    model = tf.keras.models.load_model(fpath)\n",
    "    return model\n",
    "\n",
    "fpath_model = FPATHS['models']['gru']\n",
    "\n",
    "best_network = load_network(fpath_model)\n"
   ]
  },
  {
   "cell_type": "code",
   "execution_count": 73,
   "id": "14d22903-2a58-4892-8f00-1dae58fced92",
   "metadata": {
    "execution": {
     "iopub.execute_input": "2023-12-15T00:06:36.512087Z",
     "iopub.status.busy": "2023-12-15T00:06:36.511987Z",
     "iopub.status.idle": "2023-12-15T00:06:36.554537Z",
     "shell.execute_reply": "2023-12-15T00:06:36.554184Z",
     "shell.execute_reply.started": "2023-12-15T00:06:36.512078Z"
    }
   },
   "outputs": [
    {
     "name": "stdout",
     "output_type": "stream",
     "text": [
      "Model: \"sequential\"\n",
      "_________________________________________________________________\n",
      " Layer (type)                Output Shape              Param #   \n",
      "=================================================================\n",
      " text_vectorization (TextVec  (None, 400)              0         \n",
      " torization)                                                     \n",
      "                                                                 \n",
      " embedding (Embedding)       (None, 400, 100)          1079500   \n",
      "                                                                 \n",
      " gru (GRU)                   (None, 400, 64)           31872     \n",
      "                                                                 \n",
      " dropout (Dropout)           (None, 400, 64)           0         \n",
      "                                                                 \n",
      " gru_1 (GRU)                 (None, 400, 64)           24960     \n",
      "                                                                 \n",
      " dropout_1 (Dropout)         (None, 400, 64)           0         \n",
      "                                                                 \n",
      " gru_2 (GRU)                 (None, 400, 64)           24960     \n",
      "                                                                 \n",
      " global_max_pooling1d (Globa  (None, 64)               0         \n",
      " lMaxPooling1D)                                                  \n",
      "                                                                 \n",
      " dense (Dense)               (None, 2)                 130       \n",
      "                                                                 \n",
      "=================================================================\n",
      "Total params: 1,161,422\n",
      "Trainable params: 1,161,422\n",
      "Non-trainable params: 0\n",
      "_________________________________________________________________\n"
     ]
    }
   ],
   "source": [
    "best_network.summary()"
   ]
  },
  {
   "cell_type": "markdown",
   "id": "67af4224-3b73-48b6-a886-6db8ca5d5d1e",
   "metadata": {},
   "source": [
    "> @BRENDA: New"
   ]
  },
  {
   "cell_type": "code",
   "execution_count": 74,
   "id": "c1cf0ec7-e27c-4073-8d4b-bf10797c3fda",
   "metadata": {
    "execution": {
     "iopub.execute_input": "2023-12-15T00:06:36.555073Z",
     "iopub.status.busy": "2023-12-15T00:06:36.554980Z",
     "iopub.status.idle": "2023-12-15T00:06:36.602505Z",
     "shell.execute_reply": "2023-12-15T00:06:36.601961Z",
     "shell.execute_reply.started": "2023-12-15T00:06:36.555062Z"
    }
   },
   "outputs": [
    {
     "name": "stderr",
     "output_type": "stream",
     "text": [
      "2023-12-14 19:06:36.599 No runtime found, using MemoryCacheStorageManager\n"
     ]
    }
   ],
   "source": [
    "import joblib\n",
    "# load target lookup dict\n",
    "@st.cache_data\n",
    "def load_lookup(fpath=FPATHS['data']['ml']['target_lookup']):\n",
    "    return joblib.load(fpath)\n",
    "\n",
    "target_lookup = load_lookup()"
   ]
  },
  {
   "cell_type": "code",
   "execution_count": 75,
   "id": "35629297-2c48-4656-88d5-75618f0a72be",
   "metadata": {
    "execution": {
     "iopub.execute_input": "2023-12-15T00:06:36.603247Z",
     "iopub.status.busy": "2023-12-15T00:06:36.603133Z",
     "iopub.status.idle": "2023-12-15T00:06:36.642244Z",
     "shell.execute_reply": "2023-12-15T00:06:36.641786Z",
     "shell.execute_reply.started": "2023-12-15T00:06:36.603237Z"
    }
   },
   "outputs": [],
   "source": [
    "def predict_decode_deep(X_to_pred, network,lookup_dict,\n",
    "                       return_index=True):\n",
    "    \n",
    "    if isinstance(X_to_pred, str):\n",
    "        \n",
    "        X = [X_to_pred]\n",
    "    else:\n",
    "        X = X_to_pred\n",
    "    \n",
    "    pred_probs = network.predict(X)\n",
    "\n",
    "    pred_class = fn.convert_y_to_sklearn_classes(pred_probs)\n",
    "    \n",
    "    # Decode label\n",
    "    class_name = lookup_dict[pred_class[0]]\n",
    "\n",
    "    return class_name\n",
    "    "
   ]
  },
  {
   "cell_type": "code",
   "execution_count": 76,
   "id": "72fb7244-e42b-45d4-8db2-66b8fba9f677",
   "metadata": {
    "execution": {
     "iopub.execute_input": "2023-12-15T00:06:36.642800Z",
     "iopub.status.busy": "2023-12-15T00:06:36.642690Z",
     "iopub.status.idle": "2023-12-15T00:06:37.048523Z",
     "shell.execute_reply": "2023-12-15T00:06:37.048189Z",
     "shell.execute_reply.started": "2023-12-15T00:06:36.642790Z"
    }
   },
   "outputs": [
    {
     "name": "stdout",
     "output_type": "stream",
     "text": [
      "1/1 [==============================] - 0s 344ms/step\n"
     ]
    },
    {
     "data": {
      "text/plain": [
       "'Five Stars'"
      ]
     },
     "execution_count": 76,
     "metadata": {},
     "output_type": "execute_result"
    }
   ],
   "source": [
    "pred_class_name = predict_decode_deep(X_to_pred, best_network,target_lookup) # lookup_neural_net)\n",
    "pred_class_name"
   ]
  },
  {
   "cell_type": "code",
   "execution_count": 77,
   "id": "3ec5be18-d755-42c2-83ab-90e381b2c9b9",
   "metadata": {
    "execution": {
     "iopub.execute_input": "2023-12-15T00:06:37.049158Z",
     "iopub.status.busy": "2023-12-15T00:06:37.049066Z",
     "iopub.status.idle": "2023-12-15T00:06:37.088381Z",
     "shell.execute_reply": "2023-12-15T00:06:37.088039Z",
     "shell.execute_reply.started": "2023-12-15T00:06:37.049149Z"
    }
   },
   "outputs": [],
   "source": [
    "if st.button(\"Get prediction.\"):\n",
    "        pred_class_name = predict_decode_deep(X_to_pred, best_network,target_lookup) # lookup_neural_net)\n",
    "        st.markdown(f\"##### Neural Network Predicted category:  {pred_class_name}\")\n",
    "    \n",
    "else: \n",
    "    st.empty()\n"
   ]
  },
  {
   "cell_type": "code",
   "execution_count": 78,
   "id": "4adfe3a2-546d-4102-8e02-2d5d1235ae10",
   "metadata": {
    "execution": {
     "iopub.execute_input": "2023-12-15T00:06:37.088961Z",
     "iopub.status.busy": "2023-12-15T00:06:37.088867Z",
     "iopub.status.idle": "2023-12-15T00:06:37.126059Z",
     "shell.execute_reply": "2023-12-15T00:06:37.125748Z",
     "shell.execute_reply.started": "2023-12-15T00:06:37.088952Z"
    }
   },
   "outputs": [],
   "source": [
    "st.divider()\n",
    "\n",
    "st.subheader('Evaluate Neural Network')\n",
    "\n",
    "## To place the 3 checkboxes side-by-side\n",
    "col1,col2,col3 = st.columns(3)\n",
    "show_train = col1.checkbox(\"Show training data.\", value=True)\n",
    "show_test = col2.checkbox(\"Show test data.\", value=True)\n"
   ]
  },
  {
   "cell_type": "code",
   "execution_count": 79,
   "id": "e728b604-f4c6-4334-b2b6-523efd88fccb",
   "metadata": {
    "execution": {
     "iopub.execute_input": "2023-12-15T00:06:37.126706Z",
     "iopub.status.busy": "2023-12-15T00:06:37.126599Z",
     "iopub.status.idle": "2023-12-15T00:06:37.194920Z",
     "shell.execute_reply": "2023-12-15T00:06:37.194581Z",
     "shell.execute_reply.started": "2023-12-15T00:06:37.126696Z"
    }
   },
   "outputs": [],
   "source": [
    "@st.cache_resource\n",
    "def load_tf_dataset(fpath):\n",
    "    ds = tf.data.Dataset.load(fpath)\n",
    "    return ds\n",
    "    \n",
    "# Loading train and test ds \n",
    "fpath_train_ds = FPATHS['data']['tf']['train_tf']\n",
    "train_ds = load_tf_dataset(fpath_train_ds)\n",
    "\n",
    "fpath_test_ds = FPATHS['data']['tf']['test_tf']\n",
    "test_ds = load_tf_dataset(fpath_test_ds)\n"
   ]
  },
  {
   "cell_type": "markdown",
   "id": "22c7fcfa-4386-4547-891d-ea072ddf1ca1",
   "metadata": {},
   "source": [
    "> `@ BRENDA`: The "
   ]
  },
  {
   "cell_type": "code",
   "execution_count": null,
   "id": "de55192d-ba8d-4cfb-b17a-d0dbe500f4e0",
   "metadata": {},
   "outputs": [],
   "source": []
  },
  {
   "cell_type": "code",
   "execution_count": 80,
   "id": "1fa154d6-b0fc-49c9-baef-fcba09fd6c1f",
   "metadata": {
    "execution": {
     "iopub.execute_input": "2023-12-15T00:06:37.195569Z",
     "iopub.status.busy": "2023-12-15T00:06:37.195470Z",
     "iopub.status.idle": "2023-12-15T00:06:37.233949Z",
     "shell.execute_reply": "2023-12-15T00:06:37.233546Z",
     "shell.execute_reply.started": "2023-12-15T00:06:37.195560Z"
    }
   },
   "outputs": [],
   "source": [
    "## USE THE NEW VERSION FROM ABOVE\n",
    "# def classification_metrics_streamlit(y_true, y_pred, label='',\n",
    "#                            output_dict=False, figsize=(8,4),\n",
    "#                            normalize='true', cmap='Blues',\n",
    "#                            colorbar=False,values_format=\".2f\"):\n",
    "#     # Get the classification report\n",
    "#     report = classification_report(y_true, y_pred)\n",
    "    \n",
    "#     ## Save header and report\n",
    "#     header = \"-\"*70\n",
    "#     final_report = \"\\n\".join([header,f\" Classification Metrics: {label}\", header,report,\"\\n\"])\n",
    "    \n",
    "    \n",
    "#     ## CONFUSION MATRICES SUBPLOTS\n",
    "#     fig, axes = plt.subplots(ncols=2, figsize=figsize)\n",
    "    \n",
    "#     # Create a confusion matrix  of raw counts (left subplot)\n",
    "#     ConfusionMatrixDisplay.from_predictions(y_true, y_pred,\n",
    "#                                             normalize=None, \n",
    "#                                             cmap='gist_gray_r',# Updated cmap\n",
    "#                                             values_format=\"d\", \n",
    "#                                             colorbar=colorbar,\n",
    "#                                             ax = axes[0]);\n",
    "#     axes[0].set_title(\"Raw Counts\")\n",
    "    \n",
    "#     # Create a confusion matrix with the data with normalize argument \n",
    "#     ConfusionMatrixDisplay.from_predictions(y_true, y_pred,\n",
    "#                                             normalize=normalize,\n",
    "#                                             cmap=cmap, \n",
    "#                                             values_format=values_format, #New arg\n",
    "#                                             colorbar=colorbar,\n",
    "#                                             ax = axes[1]);\n",
    "#     axes[1].set_title(\"Normalized Confusion Matrix\")\n",
    "    \n",
    "#     # Adjust layout and show figure\n",
    "#     fig.tight_layout()\n",
    "\n",
    "#     return final_report, fig"
   ]
  },
  {
   "cell_type": "markdown",
   "id": "4e62c83a-90f1-4103-b2d3-5614d5172b8c",
   "metadata": {},
   "source": [
    "> @Benda: updatd function with class_names"
   ]
  },
  {
   "cell_type": "code",
   "execution_count": 86,
   "id": "ad927052-3dc9-409f-919d-82551b795dd9",
   "metadata": {
    "execution": {
     "iopub.execute_input": "2023-12-15T00:10:29.720302Z",
     "iopub.status.busy": "2023-12-15T00:10:29.719832Z",
     "iopub.status.idle": "2023-12-15T00:10:29.789141Z",
     "shell.execute_reply": "2023-12-15T00:10:29.788801Z",
     "shell.execute_reply.started": "2023-12-15T00:10:29.720277Z"
    }
   },
   "outputs": [],
   "source": [
    "def classification_metrics_streamlit_tensorflow(model,X_train=None, y_train=None, \n",
    "                                                label='Training Data',\n",
    "                                    figsize=(6,4), normalize='true',\n",
    "                                    output_dict = False,\n",
    "                                    cmap_train='Blues',\n",
    "                                    cmap_test=\"Reds\",\n",
    "                                    values_format=\".2f\", \n",
    "                                                class_names = None,\n",
    "                                    colorbar=False):\n",
    "    \n",
    "    ## Check if X_train is a dataset\n",
    "    if hasattr(X_train,'map'):\n",
    "        # If it IS a Datset:\n",
    "        # extract y_train and y_train_pred with helper function\n",
    "        y_train, y_train_pred = fn.get_true_pred_labels(model, X_train)\n",
    "    else:\n",
    "        # Get predictions for training data\n",
    "        y_train_pred = model.predict(X_train)\n",
    "\n",
    "\n",
    "     ## Pass both y-vars through helper compatibility function\n",
    "    y_train = fn.convert_y_to_sklearn_classes(y_train)\n",
    "    y_train_pred = fn.convert_y_to_sklearn_classes(y_train_pred)\n",
    "    \n",
    "    # Call the helper function to obtain regression metrics for training data\n",
    "    report, conf_mat = classification_metrics_streamlit(y_train, y_train_pred, \n",
    "                                     figsize=figsize,# output_dict=True, \n",
    "                                         colorbar=colorbar, cmap=cmap_train, \n",
    "                                                        values_format=values_format,label=label,\n",
    "                                                       class_names=class_names)\n",
    "    return report, conf_mat"
   ]
  },
  {
   "cell_type": "code",
   "execution_count": 87,
   "id": "5d16532d-ee4f-4750-86aa-0e3cb2e02d4e",
   "metadata": {
    "execution": {
     "iopub.execute_input": "2023-12-15T00:10:30.127600Z",
     "iopub.status.busy": "2023-12-15T00:10:30.126979Z",
     "iopub.status.idle": "2023-12-15T00:10:30.183805Z",
     "shell.execute_reply": "2023-12-15T00:10:30.183448Z",
     "shell.execute_reply.started": "2023-12-15T00:10:30.127566Z"
    }
   },
   "outputs": [],
   "source": [
    "if st.button(\"Show Neural Network evaluation.\"):\n",
    "    with st.spinner(\"Please wait while the neural network is evaluated...\"):\n",
    "        if show_train == True:\n",
    "            # Display training data results\n",
    "            report_str, conf_mat = classification_metrics_streamlit_tensorflow(best_network,label='Training Data',\n",
    "                                                                               X_train=train_ds,\n",
    "                                                                               )\n",
    "            st.text(report_str)\n",
    "            st.pyplot(conf_mat)\n",
    "            st.text(\"\\n\\n\")\n",
    "    \n",
    "        if show_test == True: \n",
    "            # Display training data results\n",
    "            report_str, conf_mat = classification_metrics_streamlit_tensorflow(best_network,label='Test Data',\n",
    "                                                                               X_train=test_ds\n",
    "                                                                               )\n",
    "            st.text(report_str)\n",
    "            st.pyplot(conf_mat)\n",
    "            st.text(\"\\n\\n\")\n",
    "  \n",
    "else:\n",
    "    st.empty()\n"
   ]
  },
  {
   "cell_type": "code",
   "execution_count": 88,
   "id": "26b0217f-a5dd-4a13-945a-a5961fe8ebd0",
   "metadata": {
    "execution": {
     "iopub.execute_input": "2023-12-15T00:10:30.583517Z",
     "iopub.status.busy": "2023-12-15T00:10:30.582983Z",
     "iopub.status.idle": "2023-12-15T00:10:30.644766Z",
     "shell.execute_reply": "2023-12-15T00:10:30.644405Z",
     "shell.execute_reply.started": "2023-12-15T00:10:30.583395Z"
    }
   },
   "outputs": [],
   "source": [
    "# X_train.map"
   ]
  },
  {
   "cell_type": "code",
   "execution_count": 90,
   "id": "1bac1f30-6bce-48be-a1da-ae33b5eabc4e",
   "metadata": {
    "execution": {
     "iopub.execute_input": "2023-12-15T00:11:05.780768Z",
     "iopub.status.busy": "2023-12-15T00:11:05.780196Z",
     "iopub.status.idle": "2023-12-15T00:11:05.836214Z",
     "shell.execute_reply": "2023-12-15T00:11:05.835846Z",
     "shell.execute_reply.started": "2023-12-15T00:11:05.780705Z"
    }
   },
   "outputs": [],
   "source": [
    "# y_true = []\n",
    "# y_pred_probs = []\n",
    "\n",
    "# # Loop through the dataset as a numpy iterator\n",
    "# for images, labels in train_ds.as_numpy_iterator():\n",
    "    \n",
    "#     # Get prediction with batch_size=1\n",
    "#     display(images)\n",
    "#     display(labels)\n",
    "#     y_probs = best_network.predict(images, batch_size=1, verbose=0)\n",
    "#     # Combine previous labels/preds with new labels/preds\n",
    "#     y_true.extend(labels)\n",
    "#     y_pred_probs.extend(y_probs)\n",
    "# ## Convert the lists to arrays\n",
    "# y_true = np.array(y_true)\n",
    "# y_pred_probs = np.array(y_pred_probs)"
   ]
  },
  {
   "cell_type": "code",
   "execution_count": 91,
   "id": "318e2dc1-f0d4-42d0-935f-22ba2c4a439e",
   "metadata": {
    "execution": {
     "iopub.execute_input": "2023-12-15T00:11:05.955409Z",
     "iopub.status.busy": "2023-12-15T00:11:05.954899Z",
     "iopub.status.idle": "2023-12-15T00:12:00.122553Z",
     "shell.execute_reply": "2023-12-15T00:12:00.122001Z",
     "shell.execute_reply.started": "2023-12-15T00:11:05.955383Z"
    }
   },
   "outputs": [
    {
     "data": {
      "text/plain": [
       "DeltaGenerator()"
      ]
     },
     "execution_count": 91,
     "metadata": {},
     "output_type": "execute_result"
    },
    {
     "data": {
      "image/png": "[encoded data removed]",
      "text/plain": [
       "<Figure size 600x400 with 2 Axes>"
      ]
     },
     "metadata": {},
     "output_type": "display_data"
    }
   ],
   "source": [
    "# Display training data results\n",
    "report_str, conf_mat = classification_metrics_streamlit_tensorflow(best_network,label='Training Data',\n",
    "                                                                   X_train=train_ds,\n",
    "                                                                   )\n",
    "st.text(report_str)\n",
    "st.pyplot(conf_mat)\n",
    "st.text(\"\\n\\n\")"
   ]
  },
  {
   "cell_type": "code",
   "execution_count": null,
   "id": "0619ce3d-d5be-43cc-904b-3d4e31becca3",
   "metadata": {
    "execution": {
     "iopub.status.busy": "2023-12-15T00:08:24.711232Z",
     "iopub.status.idle": "2023-12-15T00:08:24.711357Z",
     "shell.execute_reply": "2023-12-15T00:08:24.711294Z",
     "shell.execute_reply.started": "2023-12-15T00:08:24.711289Z"
    }
   },
   "outputs": [],
   "source": [
    "# train_ds.as_numpy_iterator()"
   ]
  },
  {
   "cell_type": "code",
   "execution_count": null,
   "id": "6d74c42f-17f8-4745-b7e8-a3475a5e1b43",
   "metadata": {
    "execution": {
     "iopub.status.busy": "2023-12-15T00:08:24.711985Z",
     "iopub.status.idle": "2023-12-15T00:08:24.712299Z",
     "shell.execute_reply": "2023-12-15T00:08:24.712158Z",
     "shell.execute_reply.started": "2023-12-15T00:08:24.712142Z"
    }
   },
   "outputs": [],
   "source": [
    "if STOP_EACH_LESSON:\n",
    "    raise Exception(\"End of Lesson\")"
   ]
  },
  {
   "cell_type": "code",
   "execution_count": null,
   "id": "d8860fc8-b083-4ee5-aa1e-148994c538ce",
   "metadata": {
    "execution": {
     "iopub.status.busy": "2023-12-15T00:08:24.712916Z",
     "iopub.status.idle": "2023-12-15T00:08:24.713080Z",
     "shell.execute_reply": "2023-12-15T00:08:24.712996Z",
     "shell.execute_reply.started": "2023-12-15T00:08:24.712990Z"
    }
   },
   "outputs": [],
   "source": [
    "# stop"
   ]
  },
  {
   "cell_type": "markdown",
   "id": "1dded3e8-e321-40ca-8e0c-2b5b41e81d87",
   "metadata": {},
   "source": [
    "# 📚5) Preparing NLP EDA for Streamlit\n",
    "- https://learn.codingdojo.com/m/692/16504/125422"
   ]
  },
  {
   "cell_type": "code",
   "execution_count": null,
   "id": "e80f6012-6d68-4c5f-9f01-688c09e3de31",
   "metadata": {
    "execution": {
     "iopub.status.busy": "2023-12-15T00:08:24.713616Z",
     "iopub.status.idle": "2023-12-15T00:08:24.713745Z",
     "shell.execute_reply": "2023-12-15T00:08:24.713678Z",
     "shell.execute_reply.started": "2023-12-15T00:08:24.713673Z"
    }
   },
   "outputs": [],
   "source": [
    "import matplotlib.pyplot as plt\n",
    "import matplotlib as mpl\n",
    "import seaborn as sns\n",
    "import numpy as np\n",
    "import pandas as pd\n",
    "import joblib, os,json\n",
    "import json\n",
    "from pprint import pprint\n"
   ]
  },
  {
   "cell_type": "code",
   "execution_count": null,
   "id": "0ad89404-ad0e-4096-b6d4-8ccf0351f45f",
   "metadata": {
    "execution": {
     "iopub.status.busy": "2023-12-15T00:08:24.714686Z",
     "iopub.status.idle": "2023-12-15T00:08:24.714878Z",
     "shell.execute_reply": "2023-12-15T00:08:24.714780Z",
     "shell.execute_reply.started": "2023-12-15T00:08:24.714774Z"
    }
   },
   "outputs": [],
   "source": [
    "%load_ext autoreload\n",
    "%autoreload 2\n",
    "import custom_functions_temp as fn\n"
   ]
  },
  {
   "cell_type": "code",
   "execution_count": null,
   "id": "169e79b5-ed3b-401c-8601-491ae6b1f612",
   "metadata": {
    "execution": {
     "iopub.status.busy": "2023-12-15T00:08:24.715692Z",
     "iopub.status.idle": "2023-12-15T00:08:24.715914Z",
     "shell.execute_reply": "2023-12-15T00:08:24.715837Z",
     "shell.execute_reply.started": "2023-12-15T00:08:24.715830Z"
    }
   },
   "outputs": [],
   "source": [
    "with open('config/filepaths.json') as f:\n",
    "    FPATHS = json.load(f)\n",
    "\n",
    "pprint(FPATHS)\n"
   ]
  },
  {
   "cell_type": "code",
   "execution_count": null,
   "id": "90edffea-ff9d-40a9-8a98-542918f6b972",
   "metadata": {
    "execution": {
     "iopub.status.busy": "2023-12-15T00:08:24.716606Z",
     "iopub.status.idle": "2023-12-15T00:08:24.716758Z",
     "shell.execute_reply": "2023-12-15T00:08:24.716686Z",
     "shell.execute_reply.started": "2023-12-15T00:08:24.716680Z"
    }
   },
   "outputs": [],
   "source": [
    "df = pd.read_csv(FPATHS['data']['filtered'], index_col='review_id')\n",
    "df.head()\n"
   ]
  },
  {
   "cell_type": "markdown",
   "id": "84418c30-5846-42bb-8a79-9b4e96f41d32",
   "metadata": {},
   "source": [
    "> @BRENDA: new to matchm models"
   ]
  },
  {
   "cell_type": "code",
   "execution_count": null,
   "id": "20698b32-f5f4-47be-9d46-88b0c6767083",
   "metadata": {
    "execution": {
     "iopub.status.busy": "2023-12-15T00:08:24.717552Z",
     "iopub.status.idle": "2023-12-15T00:08:24.717761Z",
     "shell.execute_reply": "2023-12-15T00:08:24.717671Z",
     "shell.execute_reply.started": "2023-12-15T00:08:24.717663Z"
    }
   },
   "outputs": [],
   "source": [
    "# Making group names match models\n",
    "rename_target_map = {1:'One Star', 5:\"Five Stars\"}\n",
    "df['stars'] = df['stars'].replace(rename_target_map)\n",
    "df.head()"
   ]
  },
  {
   "cell_type": "code",
   "execution_count": null,
   "id": "2fecb879-4da1-47e7-842c-83dce3625f51",
   "metadata": {
    "execution": {
     "iopub.status.busy": "2023-12-15T00:08:24.718284Z",
     "iopub.status.idle": "2023-12-15T00:08:24.718499Z",
     "shell.execute_reply": "2023-12-15T00:08:24.718401Z",
     "shell.execute_reply.started": "2023-12-15T00:08:24.718394Z"
    }
   },
   "outputs": [],
   "source": [
    "import spacy\n",
    "nlp = spacy.load('en_core_web_sm', disable=['ner'])\n",
    "nlp\n"
   ]
  },
  {
   "cell_type": "code",
   "execution_count": null,
   "id": "dd5353b2-5294-470e-a53d-049dcde782f0",
   "metadata": {
    "execution": {
     "iopub.status.busy": "2023-12-15T00:08:24.718933Z",
     "iopub.status.idle": "2023-12-15T00:08:24.719651Z",
     "shell.execute_reply": "2023-12-15T00:08:24.719521Z",
     "shell.execute_reply.started": "2023-12-15T00:08:24.719506Z"
    }
   },
   "outputs": [],
   "source": [
    "# Obtain tokens from spacy pipeline\n",
    "df['tokens'] =  fn.batch_preprocess_texts(df['text'], nlp=nlp)\n",
    "# Obtain lemmas from spacy pipeline\n",
    "df['lemmas'] = fn.batch_preprocess_texts(df['text'], nlp=nlp, use_lemmas=True)\n",
    "df.head()\n"
   ]
  },
  {
   "cell_type": "code",
   "execution_count": null,
   "id": "daabfc3d-5059-4d2d-a1d4-585e1d1500ef",
   "metadata": {
    "execution": {
     "iopub.status.busy": "2023-12-15T00:08:24.720597Z",
     "iopub.status.idle": "2023-12-15T00:08:24.720863Z",
     "shell.execute_reply": "2023-12-15T00:08:24.720720Z",
     "shell.execute_reply.started": "2023-12-15T00:08:24.720705Z"
    }
   },
   "outputs": [],
   "source": [
    "# Join list of tokens into a string with spaces between each token\n",
    "df['tokens-joined'] = df['tokens'].map(lambda x: \" \".join(x))\n",
    "# Join list of lemmas into a string with spaces between each lemma\n",
    "df['lemmas-joined'] = df['lemmas'].map(lambda x: \" \".join(x))\n",
    "df.head()\n"
   ]
  },
  {
   "cell_type": "code",
   "execution_count": null,
   "id": "2ef6b23c-3dfe-4f8b-9a0d-1871638d9a18",
   "metadata": {
    "execution": {
     "iopub.status.busy": "2023-12-15T00:08:24.721411Z",
     "iopub.status.idle": "2023-12-15T00:08:24.721542Z",
     "shell.execute_reply": "2023-12-15T00:08:24.721480Z",
     "shell.execute_reply.started": "2023-12-15T00:08:24.721474Z"
    }
   },
   "outputs": [],
   "source": [
    "# Save the processsed data using the filepath dictionary \n",
    "joblib.dump(df, FPATHS['data']['processed'])\n"
   ]
  },
  {
   "cell_type": "code",
   "execution_count": null,
   "id": "39868737-b242-4876-9ecb-53bcda5dd6e9",
   "metadata": {
    "execution": {
     "iopub.status.busy": "2023-12-15T00:08:24.722250Z",
     "iopub.status.idle": "2023-12-15T00:08:24.722838Z",
     "shell.execute_reply": "2023-12-15T00:08:24.722654Z",
     "shell.execute_reply.started": "2023-12-15T00:08:24.722645Z"
    }
   },
   "outputs": [],
   "source": [
    "df['stars'].unique()"
   ]
  },
  {
   "cell_type": "markdown",
   "id": "9ca84cec-4693-439c-ae74-8ae71a95631a",
   "metadata": {},
   "source": [
    "> @ BRENDA CHANGED FILTERS FOR GROUP NAMES"
   ]
  },
  {
   "cell_type": "code",
   "execution_count": null,
   "id": "2fe324ba-9113-4738-88f0-63349c6fbe6d",
   "metadata": {
    "execution": {
     "iopub.status.busy": "2023-12-15T00:08:24.723708Z",
     "iopub.status.idle": "2023-12-15T00:08:24.723923Z",
     "shell.execute_reply": "2023-12-15T00:08:24.723820Z",
     "shell.execute_reply.started": "2023-12-15T00:08:24.723813Z"
    }
   },
   "outputs": [],
   "source": [
    "# Create filters for 1 and 5 star reviews\n",
    "filter_high = df['stars'] == 'Five Stars'\n",
    "filter_low = df['stars'] == 'One Star'\n",
    "\n",
    "# Reminder of slicing results\n",
    "df.loc[filter_high, 'text']\n"
   ]
  },
  {
   "cell_type": "code",
   "execution_count": null,
   "id": "fb33fa43-0bf3-44bf-a3d2-f93304bd69fb",
   "metadata": {
    "execution": {
     "iopub.status.busy": "2023-12-15T00:08:24.724881Z",
     "iopub.status.idle": "2023-12-15T00:08:24.725141Z",
     "shell.execute_reply": "2023-12-15T00:08:24.725011Z",
     "shell.execute_reply.started": "2023-12-15T00:08:24.725000Z"
    }
   },
   "outputs": [],
   "source": [
    "# Joining together original texts into single group string\n",
    "high_reviews_raw_text  =  \" \".join(df.loc[filter_high, 'text'])\n",
    "low_reviews_raw_text  =  \" \".join(df.loc[filter_low, 'text'])\n",
    "high_reviews_raw_text[:100]\n"
   ]
  },
  {
   "cell_type": "code",
   "execution_count": null,
   "id": "ad3b5eab-caf4-4017-b30f-ab965ce6aaa1",
   "metadata": {
    "execution": {
     "iopub.status.busy": "2023-12-15T00:08:24.726185Z",
     "iopub.status.idle": "2023-12-15T00:08:24.726775Z",
     "shell.execute_reply": "2023-12-15T00:08:24.726649Z",
     "shell.execute_reply.started": "2023-12-15T00:08:24.726634Z"
    }
   },
   "outputs": [],
   "source": [
    "from wordcloud import WordCloud, STOPWORDS\n",
    "custom_stopwords = [*STOPWORDS, 'place','stars','star','food']\n"
   ]
  },
  {
   "cell_type": "code",
   "execution_count": null,
   "id": "80e3d3b5-20e2-45c4-8da7-c648018e1d12",
   "metadata": {
    "execution": {
     "iopub.status.busy": "2023-12-15T00:08:24.727794Z",
     "iopub.status.idle": "2023-12-15T00:08:24.727990Z",
     "shell.execute_reply": "2023-12-15T00:08:24.727907Z",
     "shell.execute_reply.started": "2023-12-15T00:08:24.727900Z"
    }
   },
   "outputs": [],
   "source": [
    "# Make word clouds of text\n",
    "shared_kws = dict(random_state = 42,\n",
    "                      width = 800,\n",
    "                      height = 1000, stopwords=custom_stopwords,\n",
    "                      min_word_length = 2,)\n",
    "\n",
    "# Create an instance of a WordCloud and use the generate method\n",
    "low_cloud = WordCloud( colormap=\"Reds\", **shared_kws).generate(low_reviews_raw_text)\n",
    "high_cloud = WordCloud(colormap=\"Blues\", **shared_kws,).generate(high_reviews_raw_text)\n",
    "\n",
    "# Plot the wordclouds side by side\n",
    "fig, axes = plt.subplots(ncols=2, figsize=(10, 7))\n",
    "axes[0].imshow(low_cloud, interpolation='bilinear')\n",
    "axes[0].set_title(\"Low Ratings\")\n",
    "axes[1].imshow(high_cloud, interpolation='bilinear')\n",
    "axes[1].set_title(\"High Ratings\")\n",
    "[ax.axis('off') for ax in axes]\n",
    "fig.tight_layout();\n",
    "fig.suptitle('Word Clouds - Raw Text', fontsize=20, y=1.01);\n",
    "\n",
    "\n",
    "fpath_wc = FPATHS['eda']['wordclouds-raw']\n",
    "fig.savefig(fpath_wc, dpi=300, bbox_inches='tight')\n"
   ]
  },
  {
   "cell_type": "code",
   "execution_count": null,
   "id": "4ea6eacc-9867-40a0-89f9-6fc128ea1cf7",
   "metadata": {
    "execution": {
     "iopub.status.busy": "2023-12-15T00:08:24.728662Z",
     "iopub.status.idle": "2023-12-15T00:08:24.728870Z",
     "shell.execute_reply": "2023-12-15T00:08:24.728747Z",
     "shell.execute_reply.started": "2023-12-15T00:08:24.728741Z"
    }
   },
   "outputs": [],
   "source": [
    "# Combining the joined-tokens for high reviews into single string from group tokens\n",
    "high_reviews_lemmas_combined  =  \" \".join(df.loc[filter_high, 'lemmas-joined'])\n",
    "low_reviews_lemmas_combined  =  \" \".join(df.loc[filter_low, 'lemmas-joined'])\n",
    "high_reviews_lemmas_combined[:100]\n"
   ]
  },
  {
   "cell_type": "code",
   "execution_count": null,
   "id": "d8d7403c-3613-4867-b3cf-de77dc4c381f",
   "metadata": {
    "execution": {
     "iopub.status.busy": "2023-12-15T00:08:24.729627Z",
     "iopub.status.idle": "2023-12-15T00:08:24.730228Z",
     "shell.execute_reply": "2023-12-15T00:08:24.730085Z",
     "shell.execute_reply.started": "2023-12-15T00:08:24.730068Z"
    }
   },
   "outputs": [],
   "source": [
    "# Make word clouds of lemmas\n",
    "shared_kws = dict(random_state = 42,\n",
    "                      width = 800,\n",
    "                      height = 1000, stopwords=custom_stopwords,\n",
    "                      min_word_length = 2,)\n",
    "\n",
    "# Create an instance of a WordCloud and use the generate method\n",
    "low_cloud = WordCloud( colormap=\"Reds\", **shared_kws).generate(low_reviews_lemmas_combined)\n",
    "high_cloud = WordCloud(colormap=\"Blues\", **shared_kws).generate(high_reviews_lemmas_combined)\n",
    "\n",
    "# Plot the wordclouds side by side\n",
    "fig, axes = plt.subplots(ncols=2, figsize=(10, 7))\n",
    "axes[0].imshow(low_cloud, interpolation='bilinear')\n",
    "axes[0].set_title(\"Low Ratings\")\n",
    "axes[1].imshow(high_cloud, interpolation='bilinear')\n",
    "axes[1].set_title(\"High Ratings\")\n",
    "[ax.axis('off') for ax in axes]\n",
    "fig.tight_layout();\n",
    "fig.suptitle('Word Clouds - Lemmas', fontsize=20, y=1.01);\n",
    "\n",
    "fpath_wc = FPATHS['eda']['wordclouds-lemmas']\n",
    "fig.savefig(fpath_wc, dpi=300, bbox_inches='tight')\n"
   ]
  },
  {
   "cell_type": "code",
   "execution_count": null,
   "id": "08d82c0f-1a57-4680-97e5-041fa715cfef",
   "metadata": {
    "execution": {
     "iopub.status.busy": "2023-12-15T00:08:24.730722Z",
     "iopub.status.idle": "2023-12-15T00:08:24.730899Z",
     "shell.execute_reply": "2023-12-15T00:08:24.730800Z",
     "shell.execute_reply.started": "2023-12-15T00:08:24.730794Z"
    }
   },
   "outputs": [],
   "source": [
    "import scattertext\n",
    "from scattertext import (\n",
    "    SampleCorpora,\n",
    "    produce_scattertext_explorer,\n",
    "    produce_scattertext_html,\n",
    ")\n",
    "from scattertext.CorpusFromPandas import CorpusFromPandas\n",
    "\n",
    "# Build the scattertext corpus object\n",
    "corpus = scattertext.CorpusFromPandas(\n",
    "    df, category_col=\"stars\",\n",
    "    text_col='text', \n",
    "    nlp=nlp\n",
    ").build().remove_terms(nlp.Defaults.stop_words, ignore_absences = True)\n"
   ]
  },
  {
   "cell_type": "code",
   "execution_count": null,
   "id": "74468db0-2d15-4abe-a527-9af1aa491593",
   "metadata": {
    "execution": {
     "iopub.status.busy": "2023-12-15T00:08:24.731667Z",
     "iopub.status.idle": "2023-12-15T00:08:24.731899Z",
     "shell.execute_reply": "2023-12-15T00:08:24.731756Z",
     "shell.execute_reply.started": "2023-12-15T00:08:24.731751Z"
    }
   },
   "outputs": [],
   "source": [
    "# Create html visualization\n",
    "scatter_html = scattertext.produce_scattertext_explorer(\n",
    "    corpus,\n",
    "    category=\"Five Stars\",\n",
    "    category_name=\"5-Star Reviews\",\n",
    "    not_category_name=\"1-Star Reviews\",\n",
    "    minimum_term_frequency=3, \n",
    "    max_terms=50_000, # Added to speed up loading in streamlit\n",
    "    max_docs_per_category=500, #Added to speed up loading in streamlit\n",
    "    width_in_pixels=1000, # Setting a fixed width of 1000 pixels\n",
    "    metadata=df[\"text\"],\n",
    ")\n",
    "\n",
    "# Provide file path to save\n",
    "scatter_fname = FPATHS[\"eda\"][\"scattertext\"]\n",
    "open(scatter_fname, \"wb\").write(scatter_html.encode(\"utf-8\"))\n",
    "print(f\"Open {scatter_fname} in Chrome or Firefox.\")\n"
   ]
  },
  {
   "cell_type": "code",
   "execution_count": null,
   "id": "5550e17e-1df7-4e55-ad69-ab87d0a854ce",
   "metadata": {
    "execution": {
     "iopub.status.busy": "2023-12-15T00:08:24.732621Z",
     "iopub.status.idle": "2023-12-15T00:08:24.733005Z",
     "shell.execute_reply": "2023-12-15T00:08:24.732882Z",
     "shell.execute_reply.started": "2023-12-15T00:08:24.732875Z"
    }
   },
   "outputs": [],
   "source": [
    "if STOP_EACH_LESSON:\n",
    "    raise Exception(\"End of Lesson\")"
   ]
  },
  {
   "cell_type": "markdown",
   "id": "1f536463-222a-4ac1-9133-c01e768ffff8",
   "metadata": {},
   "source": [
    "# 📚6) NLP EDA in Streamlit\n",
    "- https://learn.codingdojo.com/m/692/16504/125442"
   ]
  },
  {
   "cell_type": "code",
   "execution_count": null,
   "id": "9e6f6c51-7fba-4eaa-b7dd-328215a20ab9",
   "metadata": {
    "execution": {
     "iopub.status.busy": "2023-12-15T00:08:24.734033Z",
     "iopub.status.idle": "2023-12-15T00:08:24.734307Z",
     "shell.execute_reply": "2023-12-15T00:08:24.734146Z",
     "shell.execute_reply.started": "2023-12-15T00:08:24.734139Z"
    }
   },
   "outputs": [],
   "source": [
    "import streamlit as st\n",
    "import streamlit.components.v1 as components\n",
    "import pandas as pd\n",
    "import numpy as np\n",
    "import os\n",
    "import joblib\n",
    "from sklearn.metrics import classification_report, ConfusionMatrixDisplay\n",
    "import matplotlib.pyplot as plt\n",
    "import numpy as np\n",
    "import json\n",
    "from wordcloud import WordCloud\n",
    "from nltk import casual_tokenize\n",
    "# Changing the Layout\n",
    "st.set_page_config( layout=\"wide\")\n",
    "\n",
    "\n",
    "with open('config/filepaths.json') as f:\n",
    "    FPATHS = json.load(f)\n",
    "\n",
    "st.title(\"Exploratory Data Analysis of Yelp Reviews\")\n"
   ]
  },
  {
   "cell_type": "code",
   "execution_count": null,
   "id": "02a7629f-ba6c-4bf8-82a7-3570712b861c",
   "metadata": {
    "execution": {
     "iopub.status.busy": "2023-12-15T00:08:24.735380Z",
     "iopub.status.idle": "2023-12-15T00:08:24.735618Z",
     "shell.execute_reply": "2023-12-15T00:08:24.735488Z",
     "shell.execute_reply.started": "2023-12-15T00:08:24.735481Z"
    }
   },
   "outputs": [],
   "source": [
    "@st.cache_data\n",
    "def load_data(fpath):\n",
    "    return joblib.load(fpath)\n",
    "\n",
    "\n",
    "df = load_data(FPATHS['data']['processed'])\n",
    "df.head(2)\n"
   ]
  },
  {
   "cell_type": "code",
   "execution_count": null,
   "id": "fde3d933-d9d4-4078-ac85-a7c2630f3e79",
   "metadata": {
    "execution": {
     "iopub.status.busy": "2023-12-15T00:08:24.736348Z",
     "iopub.status.idle": "2023-12-15T00:08:24.736740Z",
     "shell.execute_reply": "2023-12-15T00:08:24.736569Z",
     "shell.execute_reply.started": "2023-12-15T00:08:24.736560Z"
    }
   },
   "outputs": [],
   "source": [
    "# select which version of wordclouds\n",
    "wc_choice = st.radio(\"Select WordCloud Text: \", [\"Raw Text\",'Lemmas'], index=0, horizontal=True)\n",
    "wc_choice"
   ]
  },
  {
   "cell_type": "code",
   "execution_count": null,
   "id": "394650eb-4918-402d-b45a-4d2bb1710d86",
   "metadata": {
    "execution": {
     "iopub.status.busy": "2023-12-15T00:08:24.737557Z",
     "iopub.status.idle": "2023-12-15T00:08:24.737695Z",
     "shell.execute_reply": "2023-12-15T00:08:24.737629Z",
     "shell.execute_reply.started": "2023-12-15T00:08:24.737624Z"
    }
   },
   "outputs": [],
   "source": [
    "if wc_choice=='Lemmas':\n",
    "    fpath_wc = FPATHS['eda']['wordclouds-lemmas']\n",
    "else:\n",
    "    fpath_wc = FPATHS['eda']['wordclouds-raw']\n",
    "fpath_wc\n"
   ]
  },
  {
   "cell_type": "code",
   "execution_count": null,
   "id": "f4c62490-bc19-4905-b736-3d147fe83941",
   "metadata": {
    "execution": {
     "iopub.status.busy": "2023-12-15T00:08:24.738541Z",
     "iopub.status.idle": "2023-12-15T00:08:24.738711Z",
     "shell.execute_reply": "2023-12-15T00:08:24.738631Z",
     "shell.execute_reply.started": "2023-12-15T00:08:24.738624Z"
    }
   },
   "outputs": [],
   "source": [
    "st.image(fpath_wc)\n"
   ]
  },
  {
   "cell_type": "code",
   "execution_count": null,
   "id": "ad04f479-9285-43ba-bd99-32512c7e1df2",
   "metadata": {
    "execution": {
     "iopub.status.busy": "2023-12-15T00:08:24.739110Z",
     "iopub.status.idle": "2023-12-15T00:08:24.739289Z",
     "shell.execute_reply": "2023-12-15T00:08:24.739178Z",
     "shell.execute_reply.started": "2023-12-15T00:08:24.739172Z"
    }
   },
   "outputs": [],
   "source": [
    "# Create filters for 1 and 5 star reviews\n",
    "filter_high = df['stars'] == 'Five Stars'\n",
    "filter_low = df['stars'] == 'One Star'\n",
    "# Combining the tokens for high reviews into single list of tokens\n",
    "high_reviews_tokens_list = df.loc[filter_high, 'tokens'].explode().to_list()\n",
    "low_reviews_tokens_list =  df.loc[filter_low, 'tokens'].explode().to_list()"
   ]
  },
  {
   "cell_type": "code",
   "execution_count": null,
   "id": "d9b5e7d4-02d4-4100-b727-bd1b54c97b36",
   "metadata": {
    "execution": {
     "iopub.status.busy": "2023-12-15T00:08:24.740111Z",
     "iopub.status.idle": "2023-12-15T00:08:24.740529Z",
     "shell.execute_reply": "2023-12-15T00:08:24.740415Z",
     "shell.execute_reply.started": "2023-12-15T00:08:24.740401Z"
    }
   },
   "outputs": [],
   "source": [
    "import pandas as pd\n",
    "import nltk\n",
    "def get_ngram_measures_finder(tokens, ngrams=2, measure='raw_freq', top_n=None, min_freq = 1,\n",
    "                             words_colname='Words'):\n",
    "    import nltk\n",
    "    if ngrams == 4:\n",
    "        MeasuresClass = nltk.collocations.QuadgramAssocMeasures\n",
    "        FinderClass = nltk.collocations.QuadgramCollocationFinder\n",
    "        \n",
    "    elif ngrams == 3: \n",
    "        MeasuresClass = nltk.collocations.TrigramAssocMeasures\n",
    "        FinderClass = nltk.collocations.TrigramCollocationFinder\n",
    "    else:\n",
    "        MeasuresClass = nltk.collocations.BigramAssocMeasures\n",
    "        FinderClass = nltk.collocations.BigramCollocationFinder\n",
    "\n",
    "    measures = MeasuresClass()\n",
    "    \n",
    "   \n",
    "    finder = FinderClass.from_words(tokens)\n",
    "    finder.apply_freq_filter(min_freq)\n",
    "    if measure=='pmi':\n",
    "        scored_ngrams = finder.score_ngrams(measures.pmi)\n",
    "    else:\n",
    "        measure='raw_freq'\n",
    "        scored_ngrams = finder.score_ngrams(measures.raw_freq)\n",
    "\n",
    "    df_ngrams = pd.DataFrame(scored_ngrams, columns=[words_colname, measure.replace(\"_\",' ').title()])\n",
    "    if top_n is not None:\n",
    "        return df_ngrams.head(top_n)\n",
    "    else:\n",
    "        return df_ngrams\n"
   ]
  },
  {
   "cell_type": "code",
   "execution_count": null,
   "id": "d36fbe96-48f2-463c-b307-b6f740a95e52",
   "metadata": {
    "execution": {
     "iopub.status.busy": "2023-12-15T00:08:24.740964Z",
     "iopub.status.idle": "2023-12-15T00:08:24.741129Z",
     "shell.execute_reply": "2023-12-15T00:08:24.741051Z",
     "shell.execute_reply.started": "2023-12-15T00:08:24.741045Z"
    }
   },
   "outputs": [],
   "source": [
    "# Making a widget for ngrams arg\n",
    "ngram_type = st.radio(\"Type of n-gram\", options= [2,3,4], index=1, horizontal=True)\n",
    "ngram_type\n"
   ]
  },
  {
   "cell_type": "code",
   "execution_count": null,
   "id": "be574c27-03ba-4c87-9a83-55cae44c8f8b",
   "metadata": {
    "execution": {
     "iopub.status.busy": "2023-12-15T00:08:24.742389Z",
     "iopub.status.idle": "2023-12-15T00:08:24.742611Z",
     "shell.execute_reply": "2023-12-15T00:08:24.742489Z",
     "shell.execute_reply.started": "2023-12-15T00:08:24.742482Z"
    }
   },
   "outputs": [],
   "source": [
    "# Making a widget for the measures arg\n",
    "measure_type = st.selectbox('Measure to Compare', options=['raw_freq','pmi'], index=0)\n",
    "measure_type\n"
   ]
  },
  {
   "cell_type": "code",
   "execution_count": null,
   "id": "383cc139-b14d-4a84-ace1-3fa5b2f69cba",
   "metadata": {
    "execution": {
     "iopub.status.busy": "2023-12-15T00:08:24.743285Z",
     "iopub.status.idle": "2023-12-15T00:08:24.743755Z",
     "shell.execute_reply": "2023-12-15T00:08:24.743653Z",
     "shell.execute_reply.started": "2023-12-15T00:08:24.743642Z"
    }
   },
   "outputs": [],
   "source": [
    "# Making a widget for the top_n:\n",
    "top_n = st.slider(\"Top # of ngrams\", min_value=5, max_value=50,value=20,)\n",
    "top_n\n"
   ]
  },
  {
   "cell_type": "code",
   "execution_count": null,
   "id": "e8b345d3-4d43-4c89-a333-d6396f858c44",
   "metadata": {
    "execution": {
     "iopub.status.busy": "2023-12-15T00:08:24.744279Z",
     "iopub.status.idle": "2023-12-15T00:08:24.744443Z",
     "shell.execute_reply": "2023-12-15T00:08:24.744365Z",
     "shell.execute_reply.started": "2023-12-15T00:08:24.744358Z"
    }
   },
   "outputs": [],
   "source": [
    "# Make widget for min_freq\n",
    "min_freq = st.slider(\"Frequency Filter\", min_value=1, max_value=50,value=3)\n",
    "min_freq\n"
   ]
  },
  {
   "cell_type": "markdown",
   "id": "6d377529-9cf3-4b30-9fea-bb3ab2e4110a",
   "metadata": {},
   "source": [
    "```\n",
    "st.subheader(\"n-grams\")\n",
    "# Making 2 columns, one for controls one for dataframe\n",
    "col1, col2 = st.columns([0.3,0.7])\n",
    "# Making a widget for ngrams arg\n",
    "ngram_type = col1.radio(\"Type of n-gram\", options= [2,3,4], index=1, horizontal=True)\n",
    "# Making a widget for the measures arg\n",
    "measure_type = col1.selectbox('Measure to Compare', options=['raw_freq','pmi'], index=0)\n",
    "# Making a widget for the top_n:\n",
    "top_n = col1.slider(\"Top # of ngrams\", min_value=5, max_value=50,value=20,)\n",
    "# Making a widget for the top_n:\n",
    "min_freq = col1.slider(\"Frequency Filter\", min_value=1, max_value=50,value=3)\n",
    "\n",
    "```"
   ]
  },
  {
   "cell_type": "code",
   "execution_count": null,
   "id": "56613ae1-021f-416f-aa3c-b8f80019605e",
   "metadata": {
    "execution": {
     "iopub.status.busy": "2023-12-15T00:08:24.745597Z",
     "iopub.status.idle": "2023-12-15T00:08:24.745783Z",
     "shell.execute_reply": "2023-12-15T00:08:24.745687Z",
     "shell.execute_reply.started": "2023-12-15T00:08:24.745682Z"
    }
   },
   "outputs": [],
   "source": [
    "df_1star = get_ngram_measures_finder(low_reviews_tokens_list, ngrams=ngram_type, measure=measure_type, min_freq=min_freq, \n",
    "                                    top_n=top_n)\n",
    "df_5star = get_ngram_measures_finder(high_reviews_tokens_list, ngrams=ngram_type, measure=measure_type, min_freq=min_freq, \n",
    "                                    top_n=top_n)\n"
   ]
  },
  {
   "cell_type": "code",
   "execution_count": null,
   "id": "3cb4c289-0954-4fea-a771-27d8c3a7bf42",
   "metadata": {
    "execution": {
     "iopub.status.busy": "2023-12-15T00:08:24.746632Z",
     "iopub.status.idle": "2023-12-15T00:08:24.747273Z",
     "shell.execute_reply": "2023-12-15T00:08:24.747131Z",
     "shell.execute_reply.started": "2023-12-15T00:08:24.747121Z"
    }
   },
   "outputs": [],
   "source": [
    "# Combine low and high reviews score dfs and add a group name as multi-index\n",
    "df_compare_bigrams = pd.concat(\n",
    "    [df_1star, df_5star],\n",
    "    axis=1)\n",
    "df_compare_bigrams\n"
   ]
  },
  {
   "cell_type": "code",
   "execution_count": null,
   "id": "45bf17b5-4c24-4a58-b3aa-2ec23661bdf7",
   "metadata": {
    "execution": {
     "iopub.status.busy": "2023-12-15T00:08:24.749102Z",
     "iopub.status.idle": "2023-12-15T00:08:24.749312Z",
     "shell.execute_reply": "2023-12-15T00:08:24.749225Z",
     "shell.execute_reply.started": "2023-12-15T00:08:24.749218Z"
    }
   },
   "outputs": [],
   "source": [
    "try:\n",
    "    st.dataframe(df_compare_bigrams)\n",
    "except Exception as e:\n",
    "    display(e)\n"
   ]
  },
  {
   "cell_type": "markdown",
   "id": "81101469-aad4-44da-971f-fb1afd40f1dc",
   "metadata": {},
   "source": [
    "```\n",
    "@st.cache_data\n",
    "def compare_group_ngrams(group1_tokens, group2_tokens, group1_name=\"One Star\", group2_name=\"Five Stars\",\n",
    "                         ngrams=ngram_type, measure=measure_type, min_freq=min_freq, \n",
    "                                        top_n=top_n):\n",
    "\n",
    "    # Get Ngram df for group 1\n",
    "    df_group1 = get_ngram_measures_finder(group1_tokens,ngrams=ngrams, measure=measure, min_freq=min_freq, \n",
    "                                        top_n=top_n)\n",
    "    ## Rename group1 columns for streamlit compatibility\n",
    "    new_group1_cols = [f\"{group1_name} - {col}\" for col in df_group1.columns]\n",
    "    df_group1.columns = new_group1_cols\n",
    "    \n",
    "        \n",
    "    # Get Ngram df for group 2\n",
    "    df_group2 = get_ngram_measures_finder(group2_tokens,ngrams=ngrams, measure=measure, min_freq=min_freq, \n",
    "                                        top_n=top_n)\n",
    "    ## Rename group1 columns for streamlit compatibility\n",
    "    new_group2_cols = [f\"{group2_name} - {col}\" for col in df_group2.columns]\n",
    "    df_group2.columns = new_group2_cols\n",
    "\n",
    "    \n",
    "    # Combine low and high reviews score dfs and add a group name as multi-index\n",
    "    df_compare_ngrams = pd.concat(\n",
    "        [df_group1, df_group2],\n",
    "        axis=1)\n",
    "    \n",
    "    return df_compare_ngrams\n",
    "\n",
    "```"
   ]
  },
  {
   "cell_type": "code",
   "execution_count": null,
   "id": "4ffa84e9-0381-464b-9e32-fcfafae4d81a",
   "metadata": {
    "execution": {
     "iopub.status.busy": "2023-12-15T00:08:24.750262Z",
     "iopub.status.idle": "2023-12-15T00:08:24.750676Z",
     "shell.execute_reply": "2023-12-15T00:08:24.750516Z",
     "shell.execute_reply.started": "2023-12-15T00:08:24.750505Z"
    }
   },
   "outputs": [],
   "source": [
    "# Changing the Layout\n",
    "st.set_page_config( layout=\"wide\")\n"
   ]
  },
  {
   "cell_type": "code",
   "execution_count": null,
   "id": "773fed52-fdf6-4ee1-a54b-23b1ab7c1140",
   "metadata": {
    "execution": {
     "iopub.status.busy": "2023-12-15T00:08:24.751583Z",
     "iopub.status.idle": "2023-12-15T00:08:24.751766Z",
     "shell.execute_reply": "2023-12-15T00:08:24.751683Z",
     "shell.execute_reply.started": "2023-12-15T00:08:24.751677Z"
    }
   },
   "outputs": [],
   "source": [
    "st.divider()\n",
    "st.subheader(\"ScatterText:\")\n",
    "@st.cache_data\n",
    "def load_scattertext(fpath):\n",
    "    with open(fpath) as f:\n",
    "        explorer = f.read()\n",
    "        return explorer\n"
   ]
  },
  {
   "cell_type": "code",
   "execution_count": null,
   "id": "21b48e86-8e9f-41ca-8f46-474b76f7ba02",
   "metadata": {
    "execution": {
     "iopub.status.busy": "2023-12-15T00:08:24.752478Z",
     "iopub.status.idle": "2023-12-15T00:08:24.752648Z",
     "shell.execute_reply": "2023-12-15T00:08:24.752564Z",
     "shell.execute_reply.started": "2023-12-15T00:08:24.752558Z"
    }
   },
   "outputs": [],
   "source": [
    "# Load scattertext from filepaths\n",
    "html_to_show = load_scattertext(FPATHS['eda']['scattertext'])\n",
    "\n",
    "# Checkbox to trigger display of scattertext\n",
    "checkbox_scatter = st.checkbox(\"Show Scattertext Explorer\",value=False)\n",
    "\n",
    "\n",
    "if checkbox_scatter:     \n",
    "    components.html(html_to_show, width=1200, height=800, scrolling=True)\n",
    "else:\n",
    "    st.empty()\n"
   ]
  },
  {
   "cell_type": "markdown",
   "id": "56b3b487-944b-4f67-9052-0294f434b4d7",
   "metadata": {},
   "source": [
    "# APPENDIX:"
   ]
  },
  {
   "cell_type": "markdown",
   "id": "b843e96a-df6a-4b84-a732-0ea503bafc0c",
   "metadata": {},
   "source": [
    "## 📖1-Version A) Current/Original LP TTS\n"
   ]
  },
  {
   "cell_type": "code",
   "execution_count": null,
   "id": "5993ce92-1a8f-4238-9d78-75107be09078",
   "metadata": {
    "execution": {
     "iopub.status.busy": "2023-12-15T00:08:24.753464Z",
     "iopub.status.idle": "2023-12-15T00:08:24.753912Z",
     "shell.execute_reply": "2023-12-15T00:08:24.753789Z",
     "shell.execute_reply.started": "2023-12-15T00:08:24.753779Z"
    }
   },
   "outputs": [],
   "source": [
    "# Define X and y\n",
    "X = df['text']\n",
    "y = df['stars']\n",
    "# Train test split\n",
    "X_train, X_test, y_train, y_test = train_test_split(X,y,test_size=0.25,\n",
    "                                                    random_state=321)"
   ]
  },
  {
   "cell_type": "code",
   "execution_count": null,
   "id": "f3cf0720-e3cd-4175-8eda-3ce0c49f00ee",
   "metadata": {
    "execution": {
     "iopub.status.busy": "2023-12-15T00:08:24.754911Z",
     "iopub.status.idle": "2023-12-15T00:08:24.755117Z",
     "shell.execute_reply": "2023-12-15T00:08:24.755001Z",
     "shell.execute_reply.started": "2023-12-15T00:08:24.754994Z"
    }
   },
   "outputs": [],
   "source": [
    "# Check class balance\n",
    "y_train.value_counts(normalize = True)"
   ]
  },
  {
   "cell_type": "code",
   "execution_count": null,
   "id": "c5bb4add-1bf5-4c7c-8ea1-7a0217f7a3bc",
   "metadata": {
    "execution": {
     "iopub.status.busy": "2023-12-15T00:08:24.755713Z",
     "iopub.status.idle": "2023-12-15T00:08:24.755927Z",
     "shell.execute_reply": "2023-12-15T00:08:24.755832Z",
     "shell.execute_reply.started": "2023-12-15T00:08:24.755820Z"
    }
   },
   "outputs": [],
   "source": [
    "# Use RUS to balance the classes\n",
    "sampler = RandomUnderSampler(random_state=42)\n",
    "X_train, y_train = sampler.fit_resample(X_train.values.reshape(-1,1),y_train)\n",
    "X_train = X_train.flatten()\n",
    "# Check for class balance\n",
    "y_train.value_counts(normalize=True)\n"
   ]
  },
  {
   "cell_type": "code",
   "execution_count": null,
   "id": "94250735-1e8c-4231-a0f0-a341178dd0b3",
   "metadata": {
    "execution": {
     "iopub.status.busy": "2023-12-15T00:08:24.757012Z",
     "iopub.status.idle": "2023-12-15T00:08:24.757409Z",
     "shell.execute_reply": "2023-12-15T00:08:24.757302Z",
     "shell.execute_reply.started": "2023-12-15T00:08:24.757294Z"
    }
   },
   "outputs": [],
   "source": [
    "fpath_train  = FPATHS['data']['ml']['train']\n",
    "joblib.dump([X_train, y_train], fpath_train)\n",
    "fpath_test = FPATHS['data']['ml']['test']\n",
    "joblib.dump([X_test, y_test], fpath_test)"
   ]
  },
  {
   "cell_type": "code",
   "execution_count": null,
   "id": "00ce4e09-cc19-4ff7-99f9-6f16f9d5a919",
   "metadata": {
    "execution": {
     "iopub.status.busy": "2023-12-15T00:08:24.758055Z",
     "iopub.status.idle": "2023-12-15T00:08:24.758302Z",
     "shell.execute_reply": "2023-12-15T00:08:24.758159Z",
     "shell.execute_reply.started": "2023-12-15T00:08:24.758151Z"
    }
   },
   "outputs": [],
   "source": [
    "# Create a pipeline with a vectorizer and classification model.\n",
    "rf_pipe = Pipeline([('vectorizer', CountVectorizer(stop_words=\"english\")),\n",
    "                     ('clf',RandomForestClassifier(random_state=42))])\n",
    "# Fit the model pipeline\n",
    "rf_pipe.fit(X_train, y_train)\n",
    "# Evaluate\n",
    "fn.evaluate_classification(rf_pipe, X_train,y_train, X_test, y_test)\n"
   ]
  },
  {
   "cell_type": "code",
   "execution_count": null,
   "id": "9df49be9-0df7-4d56-8195-5e1a0db3929c",
   "metadata": {
    "execution": {
     "iopub.status.busy": "2023-12-15T00:08:24.759570Z",
     "iopub.status.idle": "2023-12-15T00:08:24.759720Z",
     "shell.execute_reply": "2023-12-15T00:08:24.759646Z",
     "shell.execute_reply.started": "2023-12-15T00:08:24.759641Z"
    }
   },
   "outputs": [],
   "source": [
    "fpath_rf_pipe = FPATHS['models']['rf']\n",
    "joblib.dump(rf_pipe, fpath_rf_pipe)"
   ]
  },
  {
   "cell_type": "code",
   "execution_count": null,
   "id": "abfeefdd-0c91-43ef-9ad2-4ecadb7e00bb",
   "metadata": {
    "execution": {
     "iopub.status.busy": "2023-12-15T00:08:24.760125Z",
     "iopub.status.idle": "2023-12-15T00:08:24.760305Z",
     "shell.execute_reply": "2023-12-15T00:08:24.760227Z",
     "shell.execute_reply.started": "2023-12-15T00:08:24.760221Z"
    }
   },
   "outputs": [],
   "source": [
    "# Create a pipeline with a vectorizer and classification model.\n",
    "nb_pipe = Pipeline([('vectorizer', CountVectorizer(stop_words=\"english\")),\n",
    "                     ('clf',MultinomialNB())])\n",
    "# clf_nb = MultinomialNB()\n",
    "nb_pipe.fit(X_train, y_train)\n",
    "fn.evaluate_classification(nb_pipe, X_train,y_train, X_test, y_test)\n"
   ]
  },
  {
   "cell_type": "code",
   "execution_count": null,
   "id": "01b17dfa-f733-47e3-9ce5-08b0f3060837",
   "metadata": {
    "execution": {
     "iopub.status.busy": "2023-12-15T00:08:24.760827Z",
     "iopub.status.idle": "2023-12-15T00:08:24.761025Z",
     "shell.execute_reply": "2023-12-15T00:08:24.760934Z",
     "shell.execute_reply.started": "2023-12-15T00:08:24.760927Z"
    }
   },
   "outputs": [],
   "source": [
    "fpath_nb_pipe = FPATHS['models']['nb']\n",
    "joblib.dump(nb_pipe, fpath_nb_pipe)\n"
   ]
  },
  {
   "cell_type": "code",
   "execution_count": null,
   "id": "7725c3fd-a856-4862-b9bb-ff3350882d41",
   "metadata": {},
   "outputs": [],
   "source": []
  },
  {
   "cell_type": "code",
   "execution_count": null,
   "id": "bbd8030e-1bf1-43e8-8df5-daeb0cda5c9b",
   "metadata": {
    "execution": {
     "iopub.status.busy": "2023-12-15T00:08:24.761910Z",
     "iopub.status.idle": "2023-12-15T00:08:24.762142Z",
     "shell.execute_reply": "2023-12-15T00:08:24.762013Z",
     "shell.execute_reply.started": "2023-12-15T00:08:24.762006Z"
    }
   },
   "outputs": [],
   "source": [
    "\n",
    "target_lookup"
   ]
  }
 ],
 "metadata": {
  "kernelspec": {
   "display_name": "Python (dojo-env)",
   "language": "python",
   "name": "dojo-env"
  },
  "language_info": {
   "codemirror_mode": {
    "name": "ipython",
    "version": 3
   },
   "file_extension": ".py",
   "mimetype": "text/x-python",
   "name": "python",
   "nbconvert_exporter": "python",
   "pygments_lexer": "ipython3",
   "version": "3.10.10"
  }
 },
 "nbformat": 4,
 "nbformat_minor": 5
}
