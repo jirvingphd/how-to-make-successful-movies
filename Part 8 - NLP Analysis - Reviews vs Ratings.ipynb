{
 "cells": [
  {
   "cell_type": "markdown",
   "id": "913a72d3-e087-4b21-aed4-9bb8d94accb0",
   "metadata": {},
   "source": [
    "# Part 8 - Movie Reviews"
   ]
  },
  {
   "cell_type": "markdown",
   "id": "032e67bf-c716-436a-bf6b-19723b063423",
   "metadata": {},
   "source": [
    "## Sentiment Analysis and Rating Prediction of Movie Reviews"
   ]
  },
  {
   "cell_type": "markdown",
   "id": "48a3e625-1dd3-468f-bf2c-036a63f6a1c4",
   "metadata": {},
   "source": [
    "#### Overview:\n",
    "\n",
    "This project is an extension of the movies project. This portion focuses on applying Natural Language Processing (NLP) techniques to analyze a dataset of movie reviews. Students will leverage NLP tools such as NLTK, SpaCy, wordcloud, and Scikit-Learn to explore, analyze, and model text data. The ultimate goal is to establish a relationship between the textual content of the reviews and their associated ratings and subsequently predict these ratings.\n",
    "\n",
    "#### Dataset: TMDB Movie Reviews\n",
    "\n",
    "[![Image](https://assets.codingdojo.com/boomyeah2015/codingdojo/curriculum/content/chapter/1700174921__pastedimage0.png)](https://drive.google.com/file/d/10XnBycJ2bGStZJ2kWoyzZRrInKJlaiYZ/view?usp=sharing)\n",
    "\n",
    "[TMDB movie reviews](https://drive.google.com/file/d/1vLUzSYleJXqsjNMsq76yTQ5fmNlSHFJI/view?usp=sharing). Ratings range from 1 to 10\n",
    "\n",
    "- Gathered through the tmdbsimple python wrapper for the TMDB API. To legally cite TMDB, please follow their attribution requirements, which we have [summarized here](https://docs.google.com/document/d/1LzFQDulDdQjiMuZ8sBYeDbHnN62ZWjFU_xt_4eSwVIw/edit?usp=sharing).\n",
    "\n",
    "\n",
    "\n",
    "- Note: if you have an alternative text classification dataset that you would like to use for this project, **please contact your instructor immediately for approval.**\n",
    "\n",
    "## Tasks:\n",
    "\n",
    "**0) Update Your Project 2 Repo**\n",
    "\n",
    "- Create a new \"Data-NLP/\" folder in your Project 2 repository.\n",
    "- Add the downloaded review file to this new Data-NLP folder.\n",
    "\n",
    "- Make sure you have an \"Images/\" folder. If not, create one.\n",
    "\n",
    "\n",
    "\n",
    "**1) Data Preprocessing:**\n",
    "\n",
    "- Load and inspect the dataset.\n",
    "    - How many reviews?\n",
    "    - What does the distribution of ratings look like?\n",
    "    - Any null values?\n",
    "\n",
    "\n",
    "\n",
    "- Use the rating column to create a new target column with two groups: high-rating and low-rating groups.\n",
    "    - We recommend defining \"High-rating\" reviews as any review with a rating >=9; and \"Low-rating\" reviews as any review with a rating <=4. The middle ratings between 4 and 9 will be excluded from the analysis.\n",
    "    - You may use an alternative definition for High and Low reviews, but justify your choice in your notebook/README.\n",
    "\n",
    "\n",
    "\n",
    "- Utilize NLTK and SpaCy for basic text processing, including:\n",
    "\n",
    "    - removing stopwords\n",
    "    - tokenization\n",
    "    - lemmatization\n",
    "    - Tips:\n",
    "        - Be sure to create a custom nlp object and disable the named entity recognizer. Otherwise, processing will take a very long time!\n",
    "        - **You will want to create several versions of the data, lemmatized, tokenized, lemmatized, and joined back to one string per review, and tokenized and joined back to one string per review.** This will be useful for different analysis and modeling techniques.\n",
    "\n",
    "    \n",
    "\n",
    "- Save your processed data frame in a **joblib** file saved in the \"Data-NLP/\" folder for future modeling.\n",
    "\n",
    "    \n",
    "\n",
    "**2) EDA and Visualization:**\n",
    "\n",
    "- Create word clouds to visualize the most frequent and significant words in each group.\n",
    "    - Remember, you can use this analysis to identify additional custom EDA stop words to use for visualization. (e.g., if the words are common in both groups)\n",
    "    - **Save your wordclouds as .png files in the \"Images/\" folder in your repo.**\n",
    "\n",
    "\n",
    "\n",
    "- Apply nltk's `FreqDist` class to compare the frequency distribution of words in the review groups.\n",
    "    - Remember, you can use this analysis to identify additional custom EDA stop words to use for visualization. (e.g., if the words are common in both groups)\n",
    "    - **Save your freq dist plots as .png files in the \"Images/\" folder in your repo.**\n",
    "\n",
    "\n",
    "\n",
    "- Perform n-grams analysis (bigrams and trigrams),\n",
    "    - Remember, you can use this analysis to identify additional custom stop words to use for EDA. (e.g., if the words are common in both groups)\n",
    "    - Focus on bigrams or trigrams, using NLTK's `BigramCollocationFinder` and BigramAssocMeasures classes (or the Trigram equivalent Finder and Measures) to explore commonly used groups of words for each rating-group.\n",
    "    - Describe any differences. What do these differences tell you?\n",
    "    - Save your\n",
    "\n",
    "\n",
    "\n",
    "- Perform sentiment analysis to create polarity scores according to VADERS's sentiment lexicon.\n",
    "\n",
    "    - Compare the sentiments of high-rating and low-rating texts.\n",
    "\n",
    "    - Compare the average sentiment scores for high and low-rating reviews.\n",
    "\n",
    "    - Which review polarity scores don't match the ratings? Why do you think this is?\n",
    "\n",
    "        \n",
    "\n",
    "**3) Evaluation and Reporting:**\n",
    "\n",
    "- Based on your analyses, what should someone do (or not do) if they want to make a highly-rated movie?\n",
    "    - List 3 things associated with high-rating reviews\n",
    "    - List 3 things associated with low-rating reviews."
   ]
  },
  {
   "cell_type": "markdown",
   "id": "bf68a627-2d93-4e3d-9574-5b3211f71f97",
   "metadata": {},
   "source": [
    "## Project Organization"
   ]
  },
  {
   "cell_type": "markdown",
   "id": "a73e6c37-a58f-4045-96f9-8d5a95219a81",
   "metadata": {},
   "source": [
    "\n",
    "### Files to Track"
   ]
  },
  {
   "cell_type": "markdown",
   "id": "d0fb73d4-a12e-4d22-a930-28901b5f8044",
   "metadata": {},
   "source": [
    "-  `data`:\n",
    "    -  Full dataframe of dataset used\n",
    "    -  EDA/preview DataFrame\n",
    "    -  Data from Machine Learning (ML) Models (if applicable):\n",
    "        -  train-data.joblib (X_train, y_train)\n",
    "        -  test-data.joblib (X_test, y_test)\n",
    "    -  Data from Neural Network (NN) Models (if applicable):\n",
    "        -  TF records (saving Tensorflow Datasets)\n",
    "     \n",
    "-  `models`:\n",
    "    -  for Machine Learning (ML): joblib file or tensorflow model folder)\n",
    "    -  for Neural Networks (NN): saved keras model folder.\n",
    " \n",
    "- `images`:\n",
    "    - App assets (e.g. banner png image)\n",
    "    - Saved Figures\n",
    "    - scattertext (for now)\n",
    "    \n",
    "- `config`:\n",
    "    - a file for tracking all of the filepaths above."
   ]
  },
  {
   "cell_type": "code",
   "execution_count": 33,
   "id": "cc594648-fd37-48cb-8e66-a271db41166e",
   "metadata": {
    "execution": {
     "iopub.execute_input": "2023-12-03T00:06:36.331953Z",
     "iopub.status.busy": "2023-12-03T00:06:36.331550Z",
     "iopub.status.idle": "2023-12-03T00:06:36.387579Z",
     "shell.execute_reply": "2023-12-03T00:06:36.387137Z",
     "shell.execute_reply.started": "2023-12-03T00:06:36.331928Z"
    }
   },
   "outputs": [
    {
     "name": "stdout",
     "output_type": "stream",
     "text": [
      "{'data': {'ml': {'test': 'Data-NLP/testing-data.joblib',\n",
      "                 'train': 'Data-NLP/training-data.joblib'},\n",
      "          'nn': {'test': 'data/testing-data-tf/',\n",
      "                 'train': 'data/training-data-tf/'},\n",
      "          'raw': {'eda': 'Data-NLP/eda-movie-reviews.csv.gz',\n",
      "                  'movie-info': 'Data-NLP/tmdb-movie-info.csv.gz',\n",
      "                  'movie-reviews': 'Data-NLP/tmdb-movie-reviews.csv.gz',\n",
      "                  'processed-joblib': 'Data/processed-nlp-data.joblib'}},\n",
      " 'eda': {'scattertext': 'EDA/scattertext.html',\n",
      "         'wordclouds': 'EDA/wordcloud-comparison.png'},\n",
      " 'images': {'banner': 'images/app-banner.png'},\n",
      " 'metadata': {'target_lookup': 'Data-NLP/target-lookup.json'}}\n"
     ]
    }
   ],
   "source": [
    "from pprint import pprint\n",
    "\n",
    "FPATHS = dict(\n",
    "    data={\n",
    "        \"raw\": {\n",
    "            \"movie-reviews\": \"Data-NLP/tmdb-movie-reviews.csv.gz\",\n",
    "            'movie-info': \"Data-NLP/tmdb-movie-info.csv.gz\",\n",
    "            \"eda\": \"Data-NLP/eda-movie-reviews.csv.gz\",\n",
    "            \"processed-joblib\": \"Data/processed-nlp-data.joblib\",\n",
    "            # \"groups-dict\": \"Data-NLP/grouped-data-dict.joblib\",\n",
    "        },\n",
    "        \"ml\": {\n",
    "            \"train\": \"Data-NLP/training-data.joblib\",  # (X_train,y_train)\n",
    "            \"test\": \"Data-NLP/testing-data.joblib\",  # (X_test,y_test)\n",
    "        },\n",
    "        \"nn\": {\n",
    "            \"train\": \"data/training-data-tf/\",  # train_ds\n",
    "            \"test\": \"data/testing-data-tf/\",  # test_ds\n",
    "        },\n",
    "    },\n",
    "    # models={\n",
    "    #     # Machine Learning Models and results\n",
    "    #     \"ml\": {\n",
    "    #         \"bayes\": {\n",
    "    #             \"saved_model\": \"Models/bayes-clf.joblib\",\n",
    "    #             \"results\": \"models/results/bayes/\",\n",
    "    #         },\n",
    "    #         \"random_forest\": {\n",
    "    #             \"saved_model\": \"Models/random-forest.joblib\",\n",
    "    #             \"results\": \"Models/results/random-forest/\",\n",
    "    #         },\n",
    "    #     },\n",
    "    #     # Neural networks and results\n",
    "    #     \"nn\": {\n",
    "    #         \"LSTM\": {\n",
    "    #             \"saved_model\": \"Models/keras/lstm/\",\n",
    "    #             \"results\": \"Models/results/lstm/results/\",\n",
    "    #         },\n",
    "    #         \"Attention\": {\n",
    "    #             \"saved_model\": \"models/keras/attn/\",\n",
    "    #             \"results\": \"models/results/attn/results/\",\n",
    "    #         },\n",
    "    #     },\n",
    "    # },\n",
    "    images={\n",
    "        \"banner\": \"images/app-banner.png\",\n",
    "    },\n",
    "    # # Additional metadata (target lookup,etc.)\n",
    "    metadata={\n",
    "        \"target_lookup\": \"Data-NLP/target-lookup.json\",\n",
    "    },\n",
    "    # Any images to be displayed in the app\n",
    "    eda={\n",
    "        \"wordclouds\": \"EDA/wordcloud-comparison.png\",\n",
    "        \n",
    "        \"scattertext\": \"EDA/scattertext.html\",\n",
    "    },\n",
    ")\n",
    "fn.utils.create_directories_from_paths(FPATHS)\n",
    "\n",
    "pprint(FPATHS)\n",
    "\n",
    "# fn.deploy.save_filepath_config(FPATHS)\n",
    "# pprint(FPATHS)\n",
    "\n",
    "import json\n",
    "\n",
    "## Save the filepaths\n",
    "import os\n",
    "\n",
    "os.makedirs(\"config/\", exist_ok=True)\n",
    "FPATHS_FILE = \"config/filepaths.json\"\n",
    "with open(FPATHS_FILE, \"w\") as f:\n",
    "    json.dump(FPATHS, f)"
   ]
  },
  {
   "cell_type": "code",
   "execution_count": 34,
   "id": "32b63950-389a-449a-9983-c38bc6d542fd",
   "metadata": {
    "execution": {
     "iopub.execute_input": "2023-12-03T00:06:38.854881Z",
     "iopub.status.busy": "2023-12-03T00:06:38.854488Z",
     "iopub.status.idle": "2023-12-03T00:06:38.911857Z",
     "shell.execute_reply": "2023-12-03T00:06:38.911548Z",
     "shell.execute_reply.started": "2023-12-03T00:06:38.854857Z"
    }
   },
   "outputs": [
    {
     "data": {
      "text/plain": [
       "{'data': {'raw': {'movie-reviews': 'Data-NLP/tmdb-movie-reviews.csv.gz',\n",
       "   'movie-info': 'Data-NLP/tmdb-movie-info.csv.gz',\n",
       "   'eda': 'Data-NLP/eda-movie-reviews.csv.gz',\n",
       "   'processed-joblib': 'Data/processed-nlp-data.joblib'},\n",
       "  'ml': {'train': 'Data-NLP/training-data.joblib',\n",
       "   'test': 'Data-NLP/testing-data.joblib'},\n",
       "  'nn': {'train': 'data/training-data-tf/', 'test': 'data/testing-data-tf/'}},\n",
       " 'images': {'banner': 'images/app-banner.png'},\n",
       " 'metadata': {'target_lookup': 'Data-NLP/target-lookup.json'},\n",
       " 'eda': {'wordclouds': 'EDA/wordcloud-comparison.png',\n",
       "  'scattertext': 'EDA/scattertext.html'}}"
      ]
     },
     "execution_count": 34,
     "metadata": {},
     "output_type": "execute_result"
    }
   ],
   "source": [
    "with open(\"config/filepaths.json\") as f:\n",
    "    FPATHS = json.load(f)\n",
    "FPATHS"
   ]
  },
  {
   "cell_type": "markdown",
   "id": "54d2fc5c-bc34-4776-8fdc-6e101fe7476f",
   "metadata": {},
   "source": [
    "## Part 1) Data Preprocessing"
   ]
  },
  {
   "cell_type": "markdown",
   "id": "8afd8b4e-99a7-4aa9-9aae-a7e8b5444823",
   "metadata": {},
   "source": [
    "**1) Data Preprocessing:**\n",
    "\n",
    "- Load and inspect the dataset.\n",
    "    - How many reviews?\n",
    "    - What does the distribution of ratings look like?\n",
    "    - Any null values?\n",
    "\n",
    "\n",
    "\n",
    "- Use the rating column to create a new target column with two groups: high-rating and low-rating groups.\n",
    "    - We recommend defining \"High-rating\" reviews as any review with a rating >=9; and \"Low-rating\" reviews as any review with a rating <=4. The middle ratings between 4 and 9 will be excluded from the analysis.\n",
    "    - You may use an alternative definition for High and Low reviews, but justify your choice in your notebook/README.\n",
    "\n",
    "\n",
    "\n",
    "- Utilize NLTK and SpaCy for basic text processing, including:\n",
    "\n",
    "    - removing stopwords\n",
    "    - tokenization\n",
    "    - lemmatization\n",
    "    - Tips:\n",
    "        - Be sure to create a custom nlp object and disable the named entity recognizer. Otherwise, processing will take a very long time!\n",
    "        - **You will want to create several versions of the data, lemmatized, tokenized, lemmatized, and joined back to one string per review, and tokenized and joined back to one string per review.** This will be useful for different analysis and modeling techniques.\n",
    "\n",
    "    \n",
    "\n",
    "- Save your processed data frame in a **joblib** file saved in the \"Data-NLP/\" folder for future modeling.\n",
    "\n",
    "    "
   ]
  },
  {
   "cell_type": "code",
   "execution_count": 35,
   "id": "abc1fcfc-cbc6-4490-a2ad-6e781e86c948",
   "metadata": {
    "execution": {
     "iopub.execute_input": "2023-12-03T00:06:41.456329Z",
     "iopub.status.busy": "2023-12-03T00:06:41.455934Z",
     "iopub.status.idle": "2023-12-03T00:06:41.509508Z",
     "shell.execute_reply": "2023-12-03T00:06:41.508987Z",
     "shell.execute_reply.started": "2023-12-03T00:06:41.456304Z"
    }
   },
   "outputs": [
    {
     "name": "stdout",
     "output_type": "stream",
     "text": [
      "The autoreload extension is already loaded. To reload it, use:\n",
      "  %reload_ext autoreload\n"
     ]
    }
   ],
   "source": [
    "import os, sys, joblib\n",
    "# sys.path.append(os.path.abspath(\"../NLP/\"))\n",
    "# sys.path.append(os.path.abspath(\"../\"))\n",
    "# sys.path.append(os.path.abspath(\"../../\"))\n",
    "%load_ext autoreload\n",
    "%autoreload 2\n",
    "    \n",
    "import custom_functions as fn"
   ]
  },
  {
   "cell_type": "code",
   "execution_count": 36,
   "id": "1b2e1204-f584-452d-b433-69b67e43e694",
   "metadata": {
    "execution": {
     "iopub.execute_input": "2023-12-03T00:06:42.008370Z",
     "iopub.status.busy": "2023-12-03T00:06:42.007950Z",
     "iopub.status.idle": "2023-12-03T00:06:42.066779Z",
     "shell.execute_reply": "2023-12-03T00:06:42.066338Z",
     "shell.execute_reply.started": "2023-12-03T00:06:42.008344Z"
    }
   },
   "outputs": [],
   "source": [
    "import matplotlib.pyplot as plt\n",
    "import missingno\n",
    "import matplotlib as mpl\n",
    "import seaborn as sns\n",
    "import numpy as np\n",
    "import pandas as pd\n",
    "\n",
    "pd.set_option(\"display.max_columns\",50)\n",
    "# pd.set_option('display.max_colwidth', 250)"
   ]
  },
  {
   "cell_type": "code",
   "execution_count": 39,
   "id": "2b79b0f3-efcf-47e7-b2ec-d5b74da15fc7",
   "metadata": {
    "execution": {
     "iopub.execute_input": "2023-12-03T00:07:19.628846Z",
     "iopub.status.busy": "2023-12-03T00:07:19.627445Z",
     "iopub.status.idle": "2023-12-03T00:07:19.680476Z",
     "shell.execute_reply": "2023-12-03T00:07:19.680064Z",
     "shell.execute_reply.started": "2023-12-03T00:07:19.628783Z"
    }
   },
   "outputs": [],
   "source": [
    "# fpath = FPATHS['data']['raw']['movie-info']\n",
    "# movies_df = pd.read_csv(fpath)\n",
    "# movies_df.head()"
   ]
  },
  {
   "cell_type": "code",
   "execution_count": 41,
   "id": "991c6e9c-ae54-4da7-bbf2-71e0e72675ec",
   "metadata": {
    "execution": {
     "iopub.execute_input": "2023-12-03T00:07:41.387842Z",
     "iopub.status.busy": "2023-12-03T00:07:41.386676Z",
     "iopub.status.idle": "2023-12-03T00:07:41.602585Z",
     "shell.execute_reply": "2023-12-03T00:07:41.602194Z",
     "shell.execute_reply.started": "2023-12-03T00:07:41.387779Z"
    }
   },
   "outputs": [
    {
     "name": "stdout",
     "output_type": "stream",
     "text": [
      "<class 'pandas.core.frame.DataFrame'>\n",
      "RangeIndex: 8650 entries, 0 to 8649\n",
      "Data columns (total 5 columns):\n",
      " #   Column       Non-Null Count  Dtype  \n",
      "---  ------       --------------  -----  \n",
      " 0   movie_id     8650 non-null   int64  \n",
      " 1   review_id    8650 non-null   object \n",
      " 2   rating       7454 non-null   float64\n",
      " 3   review_text  8650 non-null   object \n",
      " 4   created_at   8650 non-null   object \n",
      "dtypes: float64(1), int64(1), object(3)\n",
      "memory usage: 338.0+ KB\n"
     ]
    },
    {
     "data": {
      "text/html": [
       "<div>\n",
       "<style scoped>\n",
       "    .dataframe tbody tr th:only-of-type {\n",
       "        vertical-align: middle;\n",
       "    }\n",
       "\n",
       "    .dataframe tbody tr th {\n",
       "        vertical-align: top;\n",
       "    }\n",
       "\n",
       "    .dataframe thead th {\n",
       "        text-align: right;\n",
       "    }\n",
       "</style>\n",
       "<table border=\"1\" class=\"dataframe\">\n",
       "  <thead>\n",
       "    <tr style=\"text-align: right;\">\n",
       "      <th></th>\n",
       "      <th>movie_id</th>\n",
       "      <th>review_id</th>\n",
       "      <th>rating</th>\n",
       "      <th>review_text</th>\n",
       "      <th>created_at</th>\n",
       "    </tr>\n",
       "  </thead>\n",
       "  <tbody>\n",
       "    <tr>\n",
       "      <th>0</th>\n",
       "      <td>843</td>\n",
       "      <td>64ecc16e83901800af821d50</td>\n",
       "      <td>7.0</td>\n",
       "      <td>This is a fine piece of cinema from Wong Kar-W...</td>\n",
       "      <td>2023-08-28 15:46:55.026000+00:00</td>\n",
       "    </tr>\n",
       "    <tr>\n",
       "      <th>1</th>\n",
       "      <td>7443</td>\n",
       "      <td>57086ff5c3a3681d29001512</td>\n",
       "      <td>9.0</td>\n",
       "      <td>A guilty pleasure for me personally, as I love...</td>\n",
       "      <td>2016-04-09 02:59:01.116000+00:00</td>\n",
       "    </tr>\n",
       "    <tr>\n",
       "      <th>2</th>\n",
       "      <td>7443</td>\n",
       "      <td>5bb5ac829251410dcb00810c</td>\n",
       "      <td>6.0</td>\n",
       "      <td>Made my roommate who hates stop-motion animati...</td>\n",
       "      <td>2018-10-04 06:00:34.227000+00:00</td>\n",
       "    </tr>\n",
       "    <tr>\n",
       "      <th>3</th>\n",
       "      <td>7443</td>\n",
       "      <td>5f0c53a013a32000357ec505</td>\n",
       "      <td>8.0</td>\n",
       "      <td>A very good stop-motion animation!\\r\\n\\r\\n&lt;em&gt;...</td>\n",
       "      <td>2020-07-13 12:29:20.853000+00:00</td>\n",
       "    </tr>\n",
       "    <tr>\n",
       "      <th>4</th>\n",
       "      <td>7443</td>\n",
       "      <td>64ecc027594c9400ffe77c91</td>\n",
       "      <td>7.0</td>\n",
       "      <td>Ok, there is an huge temptation to riddle this...</td>\n",
       "      <td>2023-08-28 15:41:27.525000+00:00</td>\n",
       "    </tr>\n",
       "  </tbody>\n",
       "</table>\n",
       "</div>"
      ],
      "text/plain": [
       "   movie_id                 review_id  rating  \\\n",
       "0       843  64ecc16e83901800af821d50     7.0   \n",
       "1      7443  57086ff5c3a3681d29001512     9.0   \n",
       "2      7443  5bb5ac829251410dcb00810c     6.0   \n",
       "3      7443  5f0c53a013a32000357ec505     8.0   \n",
       "4      7443  64ecc027594c9400ffe77c91     7.0   \n",
       "\n",
       "                                         review_text  \\\n",
       "0  This is a fine piece of cinema from Wong Kar-W...   \n",
       "1  A guilty pleasure for me personally, as I love...   \n",
       "2  Made my roommate who hates stop-motion animati...   \n",
       "3  A very good stop-motion animation!\\r\\n\\r\\n<em>...   \n",
       "4  Ok, there is an huge temptation to riddle this...   \n",
       "\n",
       "                         created_at  \n",
       "0  2023-08-28 15:46:55.026000+00:00  \n",
       "1  2016-04-09 02:59:01.116000+00:00  \n",
       "2  2018-10-04 06:00:34.227000+00:00  \n",
       "3  2020-07-13 12:29:20.853000+00:00  \n",
       "4  2023-08-28 15:41:27.525000+00:00  "
      ]
     },
     "execution_count": 41,
     "metadata": {},
     "output_type": "execute_result"
    }
   ],
   "source": [
    "fpath = FPATHS['data']['raw']['movie-reviews']\n",
    "df = pd.read_csv(fpath)\n",
    "df.info()\n",
    "df.head()"
   ]
  },
  {
   "cell_type": "code",
   "execution_count": 42,
   "id": "f25a2ed8-8793-460e-ad08-c02cf9360a9f",
   "metadata": {
    "execution": {
     "iopub.execute_input": "2023-12-03T00:07:43.333556Z",
     "iopub.status.busy": "2023-12-03T00:07:43.332511Z",
     "iopub.status.idle": "2023-12-03T00:07:43.599813Z",
     "shell.execute_reply": "2023-12-03T00:07:43.599382Z",
     "shell.execute_reply.started": "2023-12-03T00:07:43.333500Z"
    }
   },
   "outputs": [
    {
     "data": {
      "text/plain": [
       "movie_id          0\n",
       "review_id         0\n",
       "rating         1196\n",
       "review_text       0\n",
       "created_at        0\n",
       "dtype: int64"
      ]
     },
     "execution_count": 42,
     "metadata": {},
     "output_type": "execute_result"
    },
    {
     "data": {
      "image/png": "[encoded data removed]",
      "text/plain": [
       "<Figure size 2500x1000 with 2 Axes>"
      ]
     },
     "metadata": {},
     "output_type": "display_data"
    }
   ],
   "source": [
    "missingno.matrix(df)\n",
    "df.isna().sum()"
   ]
  },
  {
   "cell_type": "code",
   "execution_count": 43,
   "id": "64e8b45f-c7ae-4e47-af66-722183117da1",
   "metadata": {
    "execution": {
     "iopub.execute_input": "2023-12-03T00:07:45.010538Z",
     "iopub.status.busy": "2023-12-03T00:07:45.009574Z",
     "iopub.status.idle": "2023-12-03T00:07:45.233618Z",
     "shell.execute_reply": "2023-12-03T00:07:45.233205Z",
     "shell.execute_reply.started": "2023-12-03T00:07:45.010503Z"
    }
   },
   "outputs": [
    {
     "data": {
      "text/plain": [
       "<Axes: >"
      ]
     },
     "execution_count": 43,
     "metadata": {},
     "output_type": "execute_result"
    },
    {
     "data": {
      "image/png": "[encoded data removed]",
      "text/plain": [
       "<Figure size 2500x1000 with 2 Axes>"
      ]
     },
     "metadata": {},
     "output_type": "display_data"
    }
   ],
   "source": [
    "# Dropping reviews without a rating\n",
    "df = df.dropna(subset=['rating'])\n",
    "missingno.matrix(df)"
   ]
  },
  {
   "cell_type": "markdown",
   "id": "87eab6b9-2d5b-49e8-a902-f4e85a58bb24",
   "metadata": {},
   "source": [
    "### Define Groups"
   ]
  },
  {
   "cell_type": "code",
   "execution_count": 44,
   "id": "49a40cca-a70c-4b53-97ad-242cf50beb8a",
   "metadata": {
    "execution": {
     "iopub.execute_input": "2023-12-03T00:07:47.160905Z",
     "iopub.status.busy": "2023-12-03T00:07:47.159789Z",
     "iopub.status.idle": "2023-12-03T00:07:47.306238Z",
     "shell.execute_reply": "2023-12-03T00:07:47.305866Z",
     "shell.execute_reply.started": "2023-12-03T00:07:47.160848Z"
    }
   },
   "outputs": [
    {
     "data": {
      "text/plain": [
       "<Axes: xlabel='rating', ylabel='Count'>"
      ]
     },
     "execution_count": 44,
     "metadata": {},
     "output_type": "execute_result"
    },
    {
     "data": {
      "image/png": "[encoded data removed]",
      "text/plain": [
       "<Figure size 640x480 with 1 Axes>"
      ]
     },
     "metadata": {},
     "output_type": "display_data"
    }
   ],
   "source": [
    "sns.histplot(df['rating'])"
   ]
  },
  {
   "cell_type": "markdown",
   "id": "64f7afea-9d26-410e-8674-777fcef0320c",
   "metadata": {},
   "source": [
    "- \"High Rating\": >= 9\n",
    "- \"Low Rating\": <= 4"
   ]
  },
  {
   "cell_type": "code",
   "execution_count": 45,
   "id": "c3474230-cb33-41ad-a0c3-b770a4fd1bd9",
   "metadata": {
    "execution": {
     "iopub.execute_input": "2023-12-03T00:07:51.069157Z",
     "iopub.status.busy": "2023-12-03T00:07:51.068744Z",
     "iopub.status.idle": "2023-12-03T00:07:51.130364Z",
     "shell.execute_reply": "2023-12-03T00:07:51.129858Z",
     "shell.execute_reply.started": "2023-12-03T00:07:51.069132Z"
    },
    "scrolled": true
   },
   "outputs": [],
   "source": [
    "# df['rating'].value_counts().sort_index()"
   ]
  },
  {
   "cell_type": "code",
   "execution_count": 9,
   "id": "01cf5245-d14b-4a08-8a3c-4b5b1147e323",
   "metadata": {
    "execution": {
     "iopub.execute_input": "2023-12-03T00:01:50.003809Z",
     "iopub.status.busy": "2023-12-03T00:01:50.003717Z",
     "iopub.status.idle": "2023-12-03T00:01:50.041956Z",
     "shell.execute_reply": "2023-12-03T00:01:50.041068Z",
     "shell.execute_reply.started": "2023-12-03T00:01:50.003800Z"
    }
   },
   "outputs": [],
   "source": [
    "def set_group_binary(x):\n",
    "    if x >= 9:\n",
    "        group = \"High\"\n",
    "    elif x<=4:\n",
    "        group=\"Low\"\n",
    "    else:\n",
    "        group = pd.NA\n",
    "    return group"
   ]
  },
  {
   "cell_type": "code",
   "execution_count": 10,
   "id": "a4017876-3aea-4e4e-9a3e-3626c6cc6d5d",
   "metadata": {
    "execution": {
     "iopub.execute_input": "2023-12-03T00:01:50.043182Z",
     "iopub.status.busy": "2023-12-03T00:01:50.043015Z",
     "iopub.status.idle": "2023-12-03T00:01:50.084834Z",
     "shell.execute_reply": "2023-12-03T00:01:50.084478Z",
     "shell.execute_reply.started": "2023-12-03T00:01:50.043169Z"
    },
    "scrolled": true
   },
   "outputs": [
    {
     "data": {
      "text/plain": [
       "Low     0.505994\n",
       "High    0.494006\n",
       "Name: target, dtype: float64"
      ]
     },
     "execution_count": 10,
     "metadata": {},
     "output_type": "execute_result"
    }
   ],
   "source": [
    "df = df.copy()\n",
    "df['target'] = df['rating'].map(set_group_binary)\n",
    "df['target'].value_counts(dropna=True, normalize=True)"
   ]
  },
  {
   "cell_type": "markdown",
   "id": "9eda8f93-c8a7-429f-986b-8c9fffccde22",
   "metadata": {},
   "source": [
    "### NLP Preprocessing"
   ]
  },
  {
   "cell_type": "code",
   "execution_count": 11,
   "id": "2622c745-0b41-41a3-a30a-f883258258d3",
   "metadata": {
    "execution": {
     "iopub.execute_input": "2023-12-03T00:01:50.085558Z",
     "iopub.status.busy": "2023-12-03T00:01:50.085376Z",
     "iopub.status.idle": "2023-12-03T00:01:50.448462Z",
     "shell.execute_reply": "2023-12-03T00:01:50.447904Z",
     "shell.execute_reply.started": "2023-12-03T00:01:50.085546Z"
    }
   },
   "outputs": [
    {
     "data": {
      "text/plain": [
       "['tok2vec', 'tagger', 'attribute_ruler', 'lemmatizer']"
      ]
     },
     "execution_count": 11,
     "metadata": {},
     "output_type": "execute_result"
    }
   ],
   "source": [
    "import spacy\n",
    "# Disable parser and ner\n",
    "nlp_light = spacy.load(\"en_core_web_sm\", disable=['parser','ner'])\n",
    "# Print active components\n",
    "nlp_light.pipe_names"
   ]
  },
  {
   "cell_type": "code",
   "execution_count": 12,
   "id": "6a60ee31-35c2-4028-88cf-d9e99bd81cb7",
   "metadata": {
    "execution": {
     "iopub.execute_input": "2023-12-03T00:01:50.449416Z",
     "iopub.status.busy": "2023-12-03T00:01:50.449111Z",
     "iopub.status.idle": "2023-12-03T00:01:50.481065Z",
     "shell.execute_reply": "2023-12-03T00:01:50.480728Z",
     "shell.execute_reply.started": "2023-12-03T00:01:50.449400Z"
    }
   },
   "outputs": [],
   "source": [
    "# %%time\n",
    "# # Use lambda function to preprocess the text and store tokens\n",
    "# df['tokens'] = df['review_text'].map(lambda txt: fn.preprocess_text(txt, remove_stopwords=True,\n",
    "#                                                             remove_punct=True,\n",
    "#                                                             use_lemmas=False, \n",
    "#                                                             nlp=nlp_light))\n",
    "# df['lemmas'] = df['review_text'].map(lambda txt: fn.preprocess_text(txt, remove_stopwords=True,\n",
    "#                                                             remove_punct=True,\n",
    "#                                                             use_lemmas=True, \n",
    "#                                                             nlp=nlp_light))\n",
    "\n",
    "\n",
    "# # To avoid copy warning from pandas\n",
    "# df = df.copy()\n",
    "\n",
    "# # Join list of tokens into a string with spaces between each token\n",
    "# df['tokens-joined'] = df['tokens'].map(lambda x: \" \".join(x))\n",
    "# # Join list of lemmas into a string with spaces between each lemma\n",
    "# df['lemmas-joined'] = df['lemmas'].map(lambda x: \" \".join(x))\n",
    "# df.head(3)"
   ]
  },
  {
   "cell_type": "markdown",
   "id": "32a5d360-1b88-49d9-9156-02d2566fbac1",
   "metadata": {},
   "source": [
    "- %%time for .map approach:\n",
    "```\n",
    "CPU times: user 3min 56s, sys: 7.99 s, total: 4min 4s\n",
    "Wall time: 4min 6s\n",
    "```"
   ]
  },
  {
   "cell_type": "markdown",
   "id": "9425e81f-9b34-4446-b26a-ff275e3d5005",
   "metadata": {},
   "source": [
    "## Admin: Using nlp.pipe for batch processing instead for time"
   ]
  },
  {
   "cell_type": "code",
   "execution_count": 13,
   "id": "f0eeb779-f81f-4bac-a956-73d2600fabcd",
   "metadata": {
    "execution": {
     "iopub.execute_input": "2023-12-03T00:01:50.481762Z",
     "iopub.status.busy": "2023-12-03T00:01:50.481670Z",
     "iopub.status.idle": "2023-12-03T00:01:50.810204Z",
     "shell.execute_reply": "2023-12-03T00:01:50.809632Z",
     "shell.execute_reply.started": "2023-12-03T00:01:50.481753Z"
    }
   },
   "outputs": [
    {
     "data": {
      "text/plain": [
       "<spacy.lang.en.English at 0x298c8d780>"
      ]
     },
     "execution_count": 13,
     "metadata": {},
     "output_type": "execute_result"
    }
   ],
   "source": [
    "# Custom NLP Object\n",
    "nlp_custom = fn.nlp.make_custom_nlp(disable=['ner','parser'],\n",
    "                                contractions=[],\n",
    "                            stopwords_to_add=[\"★\"])\n",
    "nlp_custom"
   ]
  },
  {
   "cell_type": "markdown",
   "id": "26cb02c4-7360-4435-8ec4-cdf0927b1bc5",
   "metadata": {
    "execution": {
     "iopub.execute_input": "2023-11-28T23:28:04.939669Z",
     "iopub.status.busy": "2023-11-28T23:28:04.939575Z",
     "iopub.status.idle": "2023-11-28T23:28:04.972258Z",
     "shell.execute_reply": "2023-11-28T23:28:04.971867Z",
     "shell.execute_reply.started": "2023-11-28T23:28:04.939661Z"
    }
   },
   "source": [
    "```python\n",
    "def batch_preprocess_texts(\n",
    "\ttexts,\n",
    "\tnlp=None,\n",
    "\tremove_stopwords=True,\n",
    "\tremove_punct=True,\n",
    "\tuse_lemmas=False,\n",
    "\tdisable=[],\n",
    "\tbatch_size=50,\n",
    "\tn_process=-1,\n",
    "):\n",
    "\t\"\"\"Efficiently preprocess a collection of texts using nlp.pipe()\n",
    "\n",
    "\tArgs:\n",
    "\t\ttexts (collection of strings): collection of texts to process (e.g. df['text'])\n",
    "\t\tnlp (spacy pipe), optional): Spacy nlp pipe. Defaults to None; if None, it creates a default 'en_core_web_sm' pipe.\n",
    "\t\tremove_stopwords (bool, optional): Controls stopword removal. Defaults to True.\n",
    "\t\tremove_punct (bool, optional): Controls punctuation removal. Defaults to True.\n",
    "\t\tuse_lemmas (bool, optional): lemmatize tokens. Defaults to False.\n",
    "\t\tdisable (list of strings, optional): named pipeline elements to disable. Defaults to [\"ner\"]: Used with nlp.pipe(disable=disable)\n",
    "\t\tbatch_size (int, optional): Number of texts to process in a batch. Defaults to 50.\n",
    "\t\tn_process (int, optional): Number of CPU processors to use. Defaults to -1 (meaning all CPU cores).\n",
    "\n",
    "\tReturns:\n",
    "\t\tlist of tokens\n",
    "\t\"\"\"\n",
    "\t# from tqdm.notebook import tqdm\n",
    "\tfrom tqdm import tqdm\n",
    "\n",
    "\tif nlp is None:\n",
    "\t\tnlp = spacy.load(\"en_core_web_sm\")\n",
    "\n",
    "\tprocessed_texts = []\n",
    "\n",
    "\tfor doc in tqdm(nlp.pipe(texts, disable=disable, batch_size=batch_size, n_process=n_process)):\n",
    "\t\ttokens = []\n",
    "\t\tfor token in doc:\n",
    "\t\t\t# Check if should remove stopwords and if token is stopword\n",
    "\t\t\tif (remove_stopwords == True) and (token.is_stop == True):\n",
    "\t\t\t\t# Continue the loop with the next token\n",
    "\t\t\t\tcontinue\n",
    "\n",
    "\t\t\t# Check if should remove stopwords and if token is stopword\n",
    "\t\t\tif (remove_punct == True) and (token.is_punct == True):\n",
    "\t\t\t\tcontinue\n",
    "\n",
    "            # Check if should remove stopwords and if token is stopword\n",
    "\t\t\tif (remove_punct == True) and (token.is_space == True):\n",
    "\t\t\t\tcontinue\n",
    "\n",
    "\t\t\t## Determine final form of output list of tokens/lemmas\n",
    "\t\t\tif use_lemmas:\n",
    "\t\t\t\ttokens.append(token.lemma_.lower())\n",
    "\t\t\telse:\n",
    "\t\t\t\ttokens.append(token.text.lower())\n",
    "\n",
    "\t\tprocessed_texts.append(tokens)\n",
    "\treturn processed_texts\n",
    " ```"
   ]
  },
  {
   "cell_type": "code",
   "execution_count": 14,
   "id": "3804dc0b-5497-45a7-ab85-1adb5fb56e5f",
   "metadata": {
    "execution": {
     "iopub.execute_input": "2023-12-03T00:01:50.810905Z",
     "iopub.status.busy": "2023-12-03T00:01:50.810818Z",
     "iopub.status.idle": "2023-12-03T00:03:14.305741Z",
     "shell.execute_reply": "2023-12-03T00:03:14.305418Z",
     "shell.execute_reply.started": "2023-12-03T00:01:50.810897Z"
    }
   },
   "outputs": [
    {
     "name": "stderr",
     "output_type": "stream",
     "text": [
      "7454it [00:50, 147.62it/s]\n",
      "175it [00:32,  9.37it/s]Process Process-15:\n",
      "Process Process-19:\n",
      "226it [00:32,  7.01it/s]\n"
     ]
    },
    {
     "ename": "KeyboardInterrupt",
     "evalue": "",
     "output_type": "error",
     "traceback": [
      "\u001b[0;31m---------------------------------------------------------------------------\u001b[0m",
      "\u001b[0;31mKeyboardInterrupt\u001b[0m                         Traceback (most recent call last)",
      "File \u001b[0;32m<timed exec>:8\u001b[0m\n",
      "File \u001b[0;32m~/Documents/GitHub/_MY_PROJECTS/how-to-make-successful-movies/custom_functions/nlp_functions.py:287\u001b[0m, in \u001b[0;36mbatch_preprocess_texts\u001b[0;34m(texts, nlp, remove_stopwords, remove_punct, use_lemmas, disable, batch_size, n_process)\u001b[0m\n\u001b[1;32m    283\u001b[0m \tnlp \u001b[38;5;241m=\u001b[39m spacy\u001b[38;5;241m.\u001b[39mload(\u001b[38;5;124m\"\u001b[39m\u001b[38;5;124men_core_web_sm\u001b[39m\u001b[38;5;124m\"\u001b[39m)\n\u001b[1;32m    285\u001b[0m processed_texts \u001b[38;5;241m=\u001b[39m []\n\u001b[0;32m--> 287\u001b[0m \u001b[38;5;28;01mfor\u001b[39;00m doc \u001b[38;5;129;01min\u001b[39;00m tqdm(nlp\u001b[38;5;241m.\u001b[39mpipe(texts, disable\u001b[38;5;241m=\u001b[39mdisable, batch_size\u001b[38;5;241m=\u001b[39mbatch_size, n_process\u001b[38;5;241m=\u001b[39mn_process)):\n\u001b[1;32m    288\u001b[0m \ttokens \u001b[38;5;241m=\u001b[39m []\n\u001b[1;32m    289\u001b[0m \t\u001b[38;5;28;01mfor\u001b[39;00m token \u001b[38;5;129;01min\u001b[39;00m doc:\n\u001b[1;32m    290\u001b[0m \t\t\u001b[38;5;66;03m# Check if should remove stopwords and if token is stopword\u001b[39;00m\n",
      "File \u001b[0;32m/opt/homebrew/Caskroom/miniforge/base/envs/dojo-env/lib/python3.10/site-packages/tqdm/std.py:1178\u001b[0m, in \u001b[0;36mtqdm.__iter__\u001b[0;34m(self)\u001b[0m\n\u001b[1;32m   1175\u001b[0m time \u001b[38;5;241m=\u001b[39m \u001b[38;5;28mself\u001b[39m\u001b[38;5;241m.\u001b[39m_time\n\u001b[1;32m   1177\u001b[0m \u001b[38;5;28;01mtry\u001b[39;00m:\n\u001b[0;32m-> 1178\u001b[0m     \u001b[38;5;28;01mfor\u001b[39;00m obj \u001b[38;5;129;01min\u001b[39;00m iterable:\n\u001b[1;32m   1179\u001b[0m         \u001b[38;5;28;01myield\u001b[39;00m obj\n\u001b[1;32m   1180\u001b[0m         \u001b[38;5;66;03m# Update and possibly print the progressbar.\u001b[39;00m\n\u001b[1;32m   1181\u001b[0m         \u001b[38;5;66;03m# Note: does not call self.update(1) for speed optimisation.\u001b[39;00m\n",
      "File \u001b[0;32m/opt/homebrew/Caskroom/miniforge/base/envs/dojo-env/lib/python3.10/site-packages/spacy/language.py:1611\u001b[0m, in \u001b[0;36mLanguage.pipe\u001b[0;34m(self, texts, as_tuples, batch_size, disable, component_cfg, n_process)\u001b[0m\n\u001b[1;32m   1609\u001b[0m     \u001b[38;5;28;01mfor\u001b[39;00m pipe \u001b[38;5;129;01min\u001b[39;00m pipes:\n\u001b[1;32m   1610\u001b[0m         docs \u001b[38;5;241m=\u001b[39m pipe(docs)\n\u001b[0;32m-> 1611\u001b[0m \u001b[38;5;28;01mfor\u001b[39;00m doc \u001b[38;5;129;01min\u001b[39;00m docs:\n\u001b[1;32m   1612\u001b[0m     \u001b[38;5;28;01myield\u001b[39;00m doc\n",
      "File \u001b[0;32m/opt/homebrew/Caskroom/miniforge/base/envs/dojo-env/lib/python3.10/site-packages/spacy/language.py:1689\u001b[0m, in \u001b[0;36mLanguage._multiprocessing_pipe\u001b[0;34m(self, texts, pipes, n_process, batch_size)\u001b[0m\n\u001b[1;32m   1685\u001b[0m \u001b[38;5;28;01mfor\u001b[39;00m i, (_, (byte_doc, context, byte_error)) \u001b[38;5;129;01min\u001b[39;00m \u001b[38;5;28menumerate\u001b[39m(\n\u001b[1;32m   1686\u001b[0m     \u001b[38;5;28mzip\u001b[39m(raw_texts, byte_tuples), \u001b[38;5;241m1\u001b[39m\n\u001b[1;32m   1687\u001b[0m ):\n\u001b[1;32m   1688\u001b[0m     \u001b[38;5;28;01mif\u001b[39;00m byte_doc \u001b[38;5;129;01mis\u001b[39;00m \u001b[38;5;129;01mnot\u001b[39;00m \u001b[38;5;28;01mNone\u001b[39;00m:\n\u001b[0;32m-> 1689\u001b[0m         doc \u001b[38;5;241m=\u001b[39m \u001b[43mDoc\u001b[49m\u001b[43m(\u001b[49m\u001b[38;5;28;43mself\u001b[39;49m\u001b[38;5;241;43m.\u001b[39;49m\u001b[43mvocab\u001b[49m\u001b[43m)\u001b[49m\u001b[38;5;241;43m.\u001b[39;49m\u001b[43mfrom_bytes\u001b[49m\u001b[43m(\u001b[49m\u001b[43mbyte_doc\u001b[49m\u001b[43m)\u001b[49m\n\u001b[1;32m   1690\u001b[0m         doc\u001b[38;5;241m.\u001b[39m_context \u001b[38;5;241m=\u001b[39m context\n\u001b[1;32m   1691\u001b[0m         \u001b[38;5;28;01myield\u001b[39;00m doc\n",
      "File \u001b[0;32m/opt/homebrew/Caskroom/miniforge/base/envs/dojo-env/lib/python3.10/site-packages/spacy/tokens/doc.pyx:1359\u001b[0m, in \u001b[0;36mspacy.tokens.doc.Doc.from_bytes\u001b[0;34m()\u001b[0m\n",
      "File \u001b[0;32m/opt/homebrew/Caskroom/miniforge/base/envs/dojo-env/lib/python3.10/site-packages/srsly/_msgpack_api.py:27\u001b[0m, in \u001b[0;36mmsgpack_loads\u001b[0;34m(data, use_list)\u001b[0m\n\u001b[1;32m     25\u001b[0m \u001b[38;5;66;03m# msgpack-python docs suggest disabling gc before unpacking large messages\u001b[39;00m\n\u001b[1;32m     26\u001b[0m gc\u001b[38;5;241m.\u001b[39mdisable()\n\u001b[0;32m---> 27\u001b[0m msg \u001b[38;5;241m=\u001b[39m \u001b[43mmsgpack\u001b[49m\u001b[38;5;241;43m.\u001b[39;49m\u001b[43mloads\u001b[49m\u001b[43m(\u001b[49m\u001b[43mdata\u001b[49m\u001b[43m,\u001b[49m\u001b[43m \u001b[49m\u001b[43mraw\u001b[49m\u001b[38;5;241;43m=\u001b[39;49m\u001b[38;5;28;43;01mFalse\u001b[39;49;00m\u001b[43m,\u001b[49m\u001b[43m \u001b[49m\u001b[43muse_list\u001b[49m\u001b[38;5;241;43m=\u001b[39;49m\u001b[43muse_list\u001b[49m\u001b[43m)\u001b[49m\n\u001b[1;32m     28\u001b[0m gc\u001b[38;5;241m.\u001b[39menable()\n\u001b[1;32m     29\u001b[0m \u001b[38;5;28;01mreturn\u001b[39;00m msg\n",
      "File \u001b[0;32m/opt/homebrew/Caskroom/miniforge/base/envs/dojo-env/lib/python3.10/site-packages/srsly/msgpack/__init__.py:79\u001b[0m, in \u001b[0;36munpackb\u001b[0;34m(packed, **kwargs)\u001b[0m\n\u001b[1;32m     77\u001b[0m         object_hook \u001b[38;5;241m=\u001b[39m functools\u001b[38;5;241m.\u001b[39mpartial(decoder, chain\u001b[38;5;241m=\u001b[39mobject_hook)\n\u001b[1;32m     78\u001b[0m     kwargs[\u001b[38;5;124m\"\u001b[39m\u001b[38;5;124mobject_hook\u001b[39m\u001b[38;5;124m\"\u001b[39m] \u001b[38;5;241m=\u001b[39m object_hook\n\u001b[0;32m---> 79\u001b[0m \u001b[38;5;28;01mreturn\u001b[39;00m \u001b[43m_unpackb\u001b[49m\u001b[43m(\u001b[49m\u001b[43mpacked\u001b[49m\u001b[43m,\u001b[49m\u001b[43m \u001b[49m\u001b[38;5;241;43m*\u001b[39;49m\u001b[38;5;241;43m*\u001b[39;49m\u001b[43mkwargs\u001b[49m\u001b[43m)\u001b[49m\n",
      "File \u001b[0;32m/opt/homebrew/Caskroom/miniforge/base/envs/dojo-env/lib/python3.10/site-packages/srsly/msgpack/_unpacker.pyx:191\u001b[0m, in \u001b[0;36msrsly.msgpack._unpacker.unpackb\u001b[0;34m()\u001b[0m\n",
      "File \u001b[0;32m/opt/homebrew/Caskroom/miniforge/base/envs/dojo-env/lib/python3.10/site-packages/srsly/msgpack/_msgpack_numpy.py:76\u001b[0m, in \u001b[0;36mdecode_numpy\u001b[0;34m(obj, chain)\u001b[0m\n\u001b[1;32m     71\u001b[0m \u001b[38;5;28;01mif\u001b[39;00m \u001b[38;5;124mb\u001b[39m\u001b[38;5;124m\"\u001b[39m\u001b[38;5;124mnd\u001b[39m\u001b[38;5;124m\"\u001b[39m \u001b[38;5;129;01min\u001b[39;00m obj:\n\u001b[1;32m     72\u001b[0m     \u001b[38;5;28;01mif\u001b[39;00m obj[\u001b[38;5;124mb\u001b[39m\u001b[38;5;124m\"\u001b[39m\u001b[38;5;124mnd\u001b[39m\u001b[38;5;124m\"\u001b[39m] \u001b[38;5;129;01mis\u001b[39;00m \u001b[38;5;28;01mTrue\u001b[39;00m:\n\u001b[1;32m     73\u001b[0m \n\u001b[1;32m     74\u001b[0m         \u001b[38;5;66;03m# Check if b'kind' is in obj to enable decoding of data\u001b[39;00m\n\u001b[1;32m     75\u001b[0m         \u001b[38;5;66;03m# serialized with older versions (#20):\u001b[39;00m\n\u001b[0;32m---> 76\u001b[0m         \u001b[38;5;28;01mif\u001b[39;00m \u001b[38;5;124mb\u001b[39m\u001b[38;5;124m\"\u001b[39m\u001b[38;5;124mkind\u001b[39m\u001b[38;5;124m\"\u001b[39m \u001b[38;5;129;01min\u001b[39;00m obj \u001b[38;5;129;01mand\u001b[39;00m obj[\u001b[38;5;124mb\u001b[39m\u001b[38;5;124m\"\u001b[39m\u001b[38;5;124mkind\u001b[39m\u001b[38;5;124m\"\u001b[39m] \u001b[38;5;241m==\u001b[39m \u001b[38;5;124mb\u001b[39m\u001b[38;5;124m\"\u001b[39m\u001b[38;5;124mV\u001b[39m\u001b[38;5;124m\"\u001b[39m:\n\u001b[1;32m     77\u001b[0m             descr \u001b[38;5;241m=\u001b[39m [\n\u001b[1;32m     78\u001b[0m                 \u001b[38;5;28mtuple\u001b[39m(tostr(t) \u001b[38;5;28;01mif\u001b[39;00m \u001b[38;5;28mtype\u001b[39m(t) \u001b[38;5;129;01mis\u001b[39;00m \u001b[38;5;28mbytes\u001b[39m \u001b[38;5;28;01melse\u001b[39;00m t \u001b[38;5;28;01mfor\u001b[39;00m t \u001b[38;5;129;01min\u001b[39;00m d)\n\u001b[1;32m     79\u001b[0m                 \u001b[38;5;28;01mfor\u001b[39;00m d \u001b[38;5;129;01min\u001b[39;00m obj[\u001b[38;5;124mb\u001b[39m\u001b[38;5;124m\"\u001b[39m\u001b[38;5;124mtype\u001b[39m\u001b[38;5;124m\"\u001b[39m]\n\u001b[1;32m     80\u001b[0m             ]\n\u001b[1;32m     81\u001b[0m         \u001b[38;5;28;01melse\u001b[39;00m:\n",
      "\u001b[0;31mKeyboardInterrupt\u001b[0m: "
     ]
    }
   ],
   "source": [
    "%%time\n",
    "\n",
    "# Use batch preprocessing function to preprocess the text and store tokens\n",
    "df['tokens'] = fn.nlp.batch_preprocess_texts(df['review_text'], nlp=nlp_custom,                                              \n",
    "                                           use_lemmas=False, \n",
    "                                           remove_stopwords=True,\n",
    "                                          remove_punct=True)\n",
    "\n",
    "# Use batch preprocessing function to preprocess the text and store lemmas\n",
    "df['lemmas'] = fn.nlp.batch_preprocess_texts(df['review_text'], nlp=nlp_custom,                                           \n",
    "                                              use_lemmas=True, \n",
    "                                           remove_stopwords=True,\n",
    "                                          remove_punct=True)\n",
    "\n",
    "# To avoid copy warning from pandas\n",
    "df = df.copy()\n",
    "\n",
    "# Join list of tokens into a string with spaces between each token\n",
    "df['tokens-joined'] = df['tokens'].map(lambda x: \" \".join(x))\n",
    "# Join list of lemmas into a string with spaces between each lemma\n",
    "df['lemmas-joined'] = df['lemmas'].map(lambda x: \" \".join(x))\n",
    "df.head(3)\n"
   ]
  },
  {
   "cell_type": "markdown",
   "id": "34f7223d-c18c-4550-b81f-24ebf259c0fa",
   "metadata": {},
   "source": [
    "- %%time for nlp.pipe approach:\n",
    "```\n",
    "CPU times: user 19 s, sys: 5.13 s, total: 24.1 s\n",
    "Wall time: 1min 39s\n",
    "```"
   ]
  },
  {
   "cell_type": "code",
   "execution_count": null,
   "id": "83854345-345a-4b8a-b79f-fbe77c66ff37",
   "metadata": {},
   "outputs": [],
   "source": []
  },
  {
   "cell_type": "code",
   "execution_count": null,
   "id": "f9344f65-abd2-4904-b210-e5f7fa79a87c",
   "metadata": {},
   "outputs": [],
   "source": []
  },
  {
   "cell_type": "markdown",
   "id": "2c972712-c47e-4420-868d-61f0b70f9d0e",
   "metadata": {},
   "source": [
    "### Save Joblib"
   ]
  },
  {
   "cell_type": "code",
   "execution_count": 15,
   "id": "8b362abd-e9f1-4a61-abd8-eb1a5291ea90",
   "metadata": {
    "execution": {
     "iopub.execute_input": "2023-12-03T00:03:14.306606Z",
     "iopub.status.busy": "2023-12-03T00:03:14.306460Z",
     "iopub.status.idle": "2023-12-03T00:03:14.488653Z",
     "shell.execute_reply": "2023-12-03T00:03:14.488337Z",
     "shell.execute_reply.started": "2023-12-03T00:03:14.306596Z"
    }
   },
   "outputs": [
    {
     "data": {
      "text/plain": [
       "['Data/processed-nlp-data.joblib']"
      ]
     },
     "execution_count": 15,
     "metadata": {},
     "output_type": "execute_result"
    }
   ],
   "source": [
    "import joblib\n",
    "joblib.dump(df, \"Data/processed-nlp-data.joblib\")"
   ]
  },
  {
   "cell_type": "code",
   "execution_count": 16,
   "id": "7cceb993-8940-4ead-b935-e9201fa0fa1e",
   "metadata": {
    "execution": {
     "iopub.execute_input": "2023-12-03T00:03:14.489403Z",
     "iopub.status.busy": "2023-12-03T00:03:14.489294Z",
     "iopub.status.idle": "2023-12-03T00:03:14.584576Z",
     "shell.execute_reply": "2023-12-03T00:03:14.584245Z",
     "shell.execute_reply.started": "2023-12-03T00:03:14.489394Z"
    }
   },
   "outputs": [
    {
     "data": {
      "text/html": [
       "<div>\n",
       "<style scoped>\n",
       "    .dataframe tbody tr th:only-of-type {\n",
       "        vertical-align: middle;\n",
       "    }\n",
       "\n",
       "    .dataframe tbody tr th {\n",
       "        vertical-align: top;\n",
       "    }\n",
       "\n",
       "    .dataframe thead th {\n",
       "        text-align: right;\n",
       "    }\n",
       "</style>\n",
       "<table border=\"1\" class=\"dataframe\">\n",
       "  <thead>\n",
       "    <tr style=\"text-align: right;\">\n",
       "      <th></th>\n",
       "      <th>movie_id</th>\n",
       "      <th>review_id</th>\n",
       "      <th>rating</th>\n",
       "      <th>review_text</th>\n",
       "      <th>created_at</th>\n",
       "      <th>target</th>\n",
       "      <th>tokens</th>\n",
       "    </tr>\n",
       "  </thead>\n",
       "  <tbody>\n",
       "    <tr>\n",
       "      <th>0</th>\n",
       "      <td>843</td>\n",
       "      <td>64ecc16e83901800af821d50</td>\n",
       "      <td>7.0</td>\n",
       "      <td>This is a fine piece of cinema from Wong Kar-W...</td>\n",
       "      <td>2023-08-28 15:46:55.026000+00:00</td>\n",
       "      <td>&lt;NA&gt;</td>\n",
       "      <td>[fine, piece, cinema, wong, kar, wai, tells, s...</td>\n",
       "    </tr>\n",
       "    <tr>\n",
       "      <th>1</th>\n",
       "      <td>7443</td>\n",
       "      <td>57086ff5c3a3681d29001512</td>\n",
       "      <td>9.0</td>\n",
       "      <td>A guilty pleasure for me personally, as I love...</td>\n",
       "      <td>2016-04-09 02:59:01.116000+00:00</td>\n",
       "      <td>High</td>\n",
       "      <td>[guilty, pleasure, personally, love, great, es...</td>\n",
       "    </tr>\n",
       "    <tr>\n",
       "      <th>2</th>\n",
       "      <td>7443</td>\n",
       "      <td>5bb5ac829251410dcb00810c</td>\n",
       "      <td>6.0</td>\n",
       "      <td>Made my roommate who hates stop-motion animati...</td>\n",
       "      <td>2018-10-04 06:00:34.227000+00:00</td>\n",
       "      <td>&lt;NA&gt;</td>\n",
       "      <td>[roommate, hates, stop, motion, animation, wat...</td>\n",
       "    </tr>\n",
       "    <tr>\n",
       "      <th>3</th>\n",
       "      <td>7443</td>\n",
       "      <td>5f0c53a013a32000357ec505</td>\n",
       "      <td>8.0</td>\n",
       "      <td>A very good stop-motion animation!\\r\\n\\r\\n&lt;em&gt;...</td>\n",
       "      <td>2020-07-13 12:29:20.853000+00:00</td>\n",
       "      <td>&lt;NA&gt;</td>\n",
       "      <td>[good, stop, motion, animation, \\r\\n\\r\\n, &lt;, e...</td>\n",
       "    </tr>\n",
       "    <tr>\n",
       "      <th>4</th>\n",
       "      <td>7443</td>\n",
       "      <td>64ecc027594c9400ffe77c91</td>\n",
       "      <td>7.0</td>\n",
       "      <td>Ok, there is an huge temptation to riddle this...</td>\n",
       "      <td>2023-08-28 15:41:27.525000+00:00</td>\n",
       "      <td>&lt;NA&gt;</td>\n",
       "      <td>[ok, huge, temptation, riddle, review, puns, g...</td>\n",
       "    </tr>\n",
       "  </tbody>\n",
       "</table>\n",
       "</div>"
      ],
      "text/plain": [
       "   movie_id                 review_id  rating  \\\n",
       "0       843  64ecc16e83901800af821d50     7.0   \n",
       "1      7443  57086ff5c3a3681d29001512     9.0   \n",
       "2      7443  5bb5ac829251410dcb00810c     6.0   \n",
       "3      7443  5f0c53a013a32000357ec505     8.0   \n",
       "4      7443  64ecc027594c9400ffe77c91     7.0   \n",
       "\n",
       "                                         review_text  \\\n",
       "0  This is a fine piece of cinema from Wong Kar-W...   \n",
       "1  A guilty pleasure for me personally, as I love...   \n",
       "2  Made my roommate who hates stop-motion animati...   \n",
       "3  A very good stop-motion animation!\\r\\n\\r\\n<em>...   \n",
       "4  Ok, there is an huge temptation to riddle this...   \n",
       "\n",
       "                         created_at target  \\\n",
       "0  2023-08-28 15:46:55.026000+00:00   <NA>   \n",
       "1  2016-04-09 02:59:01.116000+00:00   High   \n",
       "2  2018-10-04 06:00:34.227000+00:00   <NA>   \n",
       "3  2020-07-13 12:29:20.853000+00:00   <NA>   \n",
       "4  2023-08-28 15:41:27.525000+00:00   <NA>   \n",
       "\n",
       "                                              tokens  \n",
       "0  [fine, piece, cinema, wong, kar, wai, tells, s...  \n",
       "1  [guilty, pleasure, personally, love, great, es...  \n",
       "2  [roommate, hates, stop, motion, animation, wat...  \n",
       "3  [good, stop, motion, animation, \\r\\n\\r\\n, <, e...  \n",
       "4  [ok, huge, temptation, riddle, review, puns, g...  "
      ]
     },
     "execution_count": 16,
     "metadata": {},
     "output_type": "execute_result"
    }
   ],
   "source": [
    "loaded = joblib.load(\"Data/processed-nlp-data.joblib\")\n",
    "loaded.head()"
   ]
  },
  {
   "cell_type": "markdown",
   "id": "c95e30c6-a531-4582-a8f8-621be53d8917",
   "metadata": {},
   "source": [
    "# Part 2) EDA and Visualization"
   ]
  },
  {
   "cell_type": "markdown",
   "id": "d3b011c1-3106-42ca-aa16-240d4306a2aa",
   "metadata": {},
   "source": [
    "**2) EDA and Visualization:**\n",
    "\n",
    "- Create word clouds to visualize the most frequent and significant words in each group.\n",
    "    - Remember, you can use this analysis to identify additional custom EDA stop words to use for visualization. (e.g., if the words are common in both groups)\n",
    "    - **Save your wordclouds as .png files in the \"Images/\" folder in your repo.**\n",
    "\n",
    "\n",
    "\n",
    "- Apply nltk's `FreqDist` class to compare the frequency distribution of words in the review groups.\n",
    "    - Remember, you can use this analysis to identify additional custom EDA stop words to use for visualization. (e.g., if the words are common in both groups)\n",
    "    - **Save your freq dist plots as .png files in the \"Images/\" folder in your repo.**\n",
    "\n",
    "\n",
    "\n",
    "- Perform n-grams analysis (bigrams and trigrams),\n",
    "    - Remember, you can use this analysis to identify additional custom stop words to use for EDA. (e.g., if the words are common in both groups)\n",
    "    - Focus on bigrams or trigrams, using NLTK's `BigramCollocationFinder` and BigramAssocMeasures classes (or the Trigram equivalent Finder and Measures) to explore commonly used groups of words for each rating-group.\n",
    "    - Describe any differences. What do these differences tell you?\n",
    "    - `Save your...`?\n",
    "\n",
    "\n",
    "\n",
    "- Perform sentiment analysis to create polarity scores according to VADERS's sentiment lexicon.\n",
    "\n",
    "    - Compare the sentiments of high-rating and low-rating texts.\n",
    "\n",
    "    - Compare the average sentiment scores for high and low-rating reviews.\n",
    "\n",
    "    - Which review polarity scores don't match the ratings? Why do you think this is?\n",
    "\n",
    "        \n",
    "\n",
    "**3) Evaluation and Reporting:**\n",
    "\n",
    "- Based on your analyses, what should someone do (or not do) if they want to make a highly-rated movie?\n",
    "    - List 3 things associated with high-rating reviews\n",
    "    - List 3 things associated with low-rating reviews."
   ]
  },
  {
   "cell_type": "markdown",
   "id": "ebee29ae-1b9b-4d0a-a685-094462a123b4",
   "metadata": {},
   "source": [
    "> Adding imports as-if standalone notebook"
   ]
  },
  {
   "cell_type": "code",
   "execution_count": 17,
   "id": "54bf32a6-73c4-48df-bfd8-a4a69de471c9",
   "metadata": {
    "execution": {
     "iopub.execute_input": "2023-12-03T00:03:14.585268Z",
     "iopub.status.busy": "2023-12-03T00:03:14.585164Z",
     "iopub.status.idle": "2023-12-03T00:03:14.963569Z",
     "shell.execute_reply": "2023-12-03T00:03:14.963238Z",
     "shell.execute_reply.started": "2023-12-03T00:03:14.585260Z"
    }
   },
   "outputs": [
    {
     "data": {
      "text/plain": [
       "<spacy.lang.en.English at 0x2d8a37880>"
      ]
     },
     "execution_count": 17,
     "metadata": {},
     "output_type": "execute_result"
    }
   ],
   "source": [
    "import matplotlib.pyplot as plt\n",
    "import missingno\n",
    "import matplotlib as mpl\n",
    "import seaborn as sns\n",
    "import numpy as np\n",
    "import pandas as pd\n",
    "\n",
    "import spacy\n",
    "nlp_custom = fn.nlp.make_custom_nlp(disable=['ner','parser'],contractions=[],\n",
    "                            stopwords_to_add=[\"★\"])\n",
    "nlp_custom\n",
    "# Disable parser and ner\n",
    "# nlp_light = spacy.load(\"en_core_web_sm\", disable=['parser','ner'])"
   ]
  },
  {
   "cell_type": "code",
   "execution_count": 18,
   "id": "8ede3ce8-95a7-4300-90fc-1f82239f1a58",
   "metadata": {
    "execution": {
     "iopub.execute_input": "2023-12-03T00:03:14.964134Z",
     "iopub.status.busy": "2023-12-03T00:03:14.964046Z",
     "iopub.status.idle": "2023-12-03T00:03:15.223744Z",
     "shell.execute_reply": "2023-12-03T00:03:15.223343Z",
     "shell.execute_reply.started": "2023-12-03T00:03:14.964125Z"
    }
   },
   "outputs": [
    {
     "data": {
      "text/html": [
       "<div>\n",
       "<style scoped>\n",
       "    .dataframe tbody tr th:only-of-type {\n",
       "        vertical-align: middle;\n",
       "    }\n",
       "\n",
       "    .dataframe tbody tr th {\n",
       "        vertical-align: top;\n",
       "    }\n",
       "\n",
       "    .dataframe thead th {\n",
       "        text-align: right;\n",
       "    }\n",
       "</style>\n",
       "<table border=\"1\" class=\"dataframe\">\n",
       "  <thead>\n",
       "    <tr style=\"text-align: right;\">\n",
       "      <th></th>\n",
       "      <th>movie_id</th>\n",
       "      <th>review_id</th>\n",
       "      <th>rating</th>\n",
       "      <th>review_text</th>\n",
       "      <th>created_at</th>\n",
       "      <th>target</th>\n",
       "      <th>tokens</th>\n",
       "    </tr>\n",
       "  </thead>\n",
       "  <tbody>\n",
       "    <tr>\n",
       "      <th>0</th>\n",
       "      <td>843</td>\n",
       "      <td>64ecc16e83901800af821d50</td>\n",
       "      <td>7.0</td>\n",
       "      <td>This is a fine piece of cinema from Wong Kar-W...</td>\n",
       "      <td>2023-08-28 15:46:55.026000+00:00</td>\n",
       "      <td>&lt;NA&gt;</td>\n",
       "      <td>[fine, piece, cinema, wong, kar, wai, tells, s...</td>\n",
       "    </tr>\n",
       "    <tr>\n",
       "      <th>1</th>\n",
       "      <td>7443</td>\n",
       "      <td>57086ff5c3a3681d29001512</td>\n",
       "      <td>9.0</td>\n",
       "      <td>A guilty pleasure for me personally, as I love...</td>\n",
       "      <td>2016-04-09 02:59:01.116000+00:00</td>\n",
       "      <td>High</td>\n",
       "      <td>[guilty, pleasure, personally, love, great, es...</td>\n",
       "    </tr>\n",
       "    <tr>\n",
       "      <th>2</th>\n",
       "      <td>7443</td>\n",
       "      <td>5bb5ac829251410dcb00810c</td>\n",
       "      <td>6.0</td>\n",
       "      <td>Made my roommate who hates stop-motion animati...</td>\n",
       "      <td>2018-10-04 06:00:34.227000+00:00</td>\n",
       "      <td>&lt;NA&gt;</td>\n",
       "      <td>[roommate, hates, stop, motion, animation, wat...</td>\n",
       "    </tr>\n",
       "    <tr>\n",
       "      <th>3</th>\n",
       "      <td>7443</td>\n",
       "      <td>5f0c53a013a32000357ec505</td>\n",
       "      <td>8.0</td>\n",
       "      <td>A very good stop-motion animation!\\r\\n\\r\\n&lt;em&gt;...</td>\n",
       "      <td>2020-07-13 12:29:20.853000+00:00</td>\n",
       "      <td>&lt;NA&gt;</td>\n",
       "      <td>[good, stop, motion, animation, \\r\\n\\r\\n, &lt;, e...</td>\n",
       "    </tr>\n",
       "    <tr>\n",
       "      <th>4</th>\n",
       "      <td>7443</td>\n",
       "      <td>64ecc027594c9400ffe77c91</td>\n",
       "      <td>7.0</td>\n",
       "      <td>Ok, there is an huge temptation to riddle this...</td>\n",
       "      <td>2023-08-28 15:41:27.525000+00:00</td>\n",
       "      <td>&lt;NA&gt;</td>\n",
       "      <td>[ok, huge, temptation, riddle, review, puns, g...</td>\n",
       "    </tr>\n",
       "    <tr>\n",
       "      <th>...</th>\n",
       "      <td>...</td>\n",
       "      <td>...</td>\n",
       "      <td>...</td>\n",
       "      <td>...</td>\n",
       "      <td>...</td>\n",
       "      <td>...</td>\n",
       "      <td>...</td>\n",
       "    </tr>\n",
       "    <tr>\n",
       "      <th>8645</th>\n",
       "      <td>575264</td>\n",
       "      <td>64ba5c5706f98400e1169ed0</td>\n",
       "      <td>7.0</td>\n",
       "      <td>I'm not really a great fan of Tom Cruise. Yes,...</td>\n",
       "      <td>2023-07-21 10:22:15.048000+00:00</td>\n",
       "      <td>&lt;NA&gt;</td>\n",
       "      <td>[great, fan, tom, cruise, yes, stunts, fit, fi...</td>\n",
       "    </tr>\n",
       "    <tr>\n",
       "      <th>8646</th>\n",
       "      <td>575264</td>\n",
       "      <td>64bdab4dad50f0013b127c02</td>\n",
       "      <td>6.0</td>\n",
       "      <td>Spectacular cinematic action let down by an in...</td>\n",
       "      <td>2023-07-23 22:35:58.004000+00:00</td>\n",
       "      <td>&lt;NA&gt;</td>\n",
       "      <td>[spectacular, cinematic, action, let, incohere...</td>\n",
       "    </tr>\n",
       "    <tr>\n",
       "      <th>8647</th>\n",
       "      <td>575264</td>\n",
       "      <td>64cca28c43cd5400add62db6</td>\n",
       "      <td>9.0</td>\n",
       "      <td>The Tom Cruise “Mission Impossible” franchise ...</td>\n",
       "      <td>2023-08-04 07:02:36.097000+00:00</td>\n",
       "      <td>High</td>\n",
       "      <td>[tom, cruise, mission, impossible, franchise, ...</td>\n",
       "    </tr>\n",
       "    <tr>\n",
       "      <th>8648</th>\n",
       "      <td>575264</td>\n",
       "      <td>652e4978caef2d0139df3b6c</td>\n",
       "      <td>8.0</td>\n",
       "      <td>It was a good movie. Not better than the pervi...</td>\n",
       "      <td>2023-10-17 08:44:40.250000+00:00</td>\n",
       "      <td>&lt;NA&gt;</td>\n",
       "      <td>[good, movie, better, pervious, loved]</td>\n",
       "    </tr>\n",
       "    <tr>\n",
       "      <th>8649</th>\n",
       "      <td>575264</td>\n",
       "      <td>653df83bc8a5ac011d6d5767</td>\n",
       "      <td>8.0</td>\n",
       "      <td>Good stuntwork as usual from this series and t...</td>\n",
       "      <td>2023-10-29 06:14:19.708000+00:00</td>\n",
       "      <td>&lt;NA&gt;</td>\n",
       "      <td>[good, stuntwork, usual, series, performances,...</td>\n",
       "    </tr>\n",
       "  </tbody>\n",
       "</table>\n",
       "<p>7454 rows × 7 columns</p>\n",
       "</div>"
      ],
      "text/plain": [
       "      movie_id                 review_id  rating  \\\n",
       "0          843  64ecc16e83901800af821d50     7.0   \n",
       "1         7443  57086ff5c3a3681d29001512     9.0   \n",
       "2         7443  5bb5ac829251410dcb00810c     6.0   \n",
       "3         7443  5f0c53a013a32000357ec505     8.0   \n",
       "4         7443  64ecc027594c9400ffe77c91     7.0   \n",
       "...        ...                       ...     ...   \n",
       "8645    575264  64ba5c5706f98400e1169ed0     7.0   \n",
       "8646    575264  64bdab4dad50f0013b127c02     6.0   \n",
       "8647    575264  64cca28c43cd5400add62db6     9.0   \n",
       "8648    575264  652e4978caef2d0139df3b6c     8.0   \n",
       "8649    575264  653df83bc8a5ac011d6d5767     8.0   \n",
       "\n",
       "                                            review_text  \\\n",
       "0     This is a fine piece of cinema from Wong Kar-W...   \n",
       "1     A guilty pleasure for me personally, as I love...   \n",
       "2     Made my roommate who hates stop-motion animati...   \n",
       "3     A very good stop-motion animation!\\r\\n\\r\\n<em>...   \n",
       "4     Ok, there is an huge temptation to riddle this...   \n",
       "...                                                 ...   \n",
       "8645  I'm not really a great fan of Tom Cruise. Yes,...   \n",
       "8646  Spectacular cinematic action let down by an in...   \n",
       "8647  The Tom Cruise “Mission Impossible” franchise ...   \n",
       "8648  It was a good movie. Not better than the pervi...   \n",
       "8649  Good stuntwork as usual from this series and t...   \n",
       "\n",
       "                            created_at target  \\\n",
       "0     2023-08-28 15:46:55.026000+00:00   <NA>   \n",
       "1     2016-04-09 02:59:01.116000+00:00   High   \n",
       "2     2018-10-04 06:00:34.227000+00:00   <NA>   \n",
       "3     2020-07-13 12:29:20.853000+00:00   <NA>   \n",
       "4     2023-08-28 15:41:27.525000+00:00   <NA>   \n",
       "...                                ...    ...   \n",
       "8645  2023-07-21 10:22:15.048000+00:00   <NA>   \n",
       "8646  2023-07-23 22:35:58.004000+00:00   <NA>   \n",
       "8647  2023-08-04 07:02:36.097000+00:00   High   \n",
       "8648  2023-10-17 08:44:40.250000+00:00   <NA>   \n",
       "8649  2023-10-29 06:14:19.708000+00:00   <NA>   \n",
       "\n",
       "                                                 tokens  \n",
       "0     [fine, piece, cinema, wong, kar, wai, tells, s...  \n",
       "1     [guilty, pleasure, personally, love, great, es...  \n",
       "2     [roommate, hates, stop, motion, animation, wat...  \n",
       "3     [good, stop, motion, animation, \\r\\n\\r\\n, <, e...  \n",
       "4     [ok, huge, temptation, riddle, review, puns, g...  \n",
       "...                                                 ...  \n",
       "8645  [great, fan, tom, cruise, yes, stunts, fit, fi...  \n",
       "8646  [spectacular, cinematic, action, let, incohere...  \n",
       "8647  [tom, cruise, mission, impossible, franchise, ...  \n",
       "8648             [good, movie, better, pervious, loved]  \n",
       "8649  [good, stuntwork, usual, series, performances,...  \n",
       "\n",
       "[7454 rows x 7 columns]"
      ]
     },
     "execution_count": 18,
     "metadata": {},
     "output_type": "execute_result"
    }
   ],
   "source": [
    "import joblib\n",
    "fname_data_joblib = \"Data/processed-nlp-data.joblib\"\n",
    "df = joblib.load(fname_data_joblib)\n",
    "df"
   ]
  },
  {
   "cell_type": "markdown",
   "id": "51a64bb1-bba6-44bf-b455-122123323726",
   "metadata": {},
   "source": [
    "## Checking for Bad Reviews (HTML)"
   ]
  },
  {
   "cell_type": "markdown",
   "id": "5714ed49-1952-43d3-bc7a-1d1add350aba",
   "metadata": {},
   "source": [
    "- There were URLs and html tags in the bigrams/trigrams (PMI).\n",
    "- Checking for and removing reviews that contain these artificats (if we can afford to drop)"
   ]
  },
  {
   "cell_type": "markdown",
   "id": "9e175fdc-accd-446e-8ae5-539326671aa0",
   "metadata": {},
   "source": [
    "### `ADMIN TO DO`:\n",
    ">- Discuss with Brenda if should warn students."
   ]
  },
  {
   "cell_type": "code",
   "execution_count": 19,
   "id": "434823fe-c2ae-4c1d-9c15-a89b7436c09d",
   "metadata": {
    "execution": {
     "iopub.execute_input": "2023-12-03T00:03:15.224487Z",
     "iopub.status.busy": "2023-12-03T00:03:15.224239Z",
     "iopub.status.idle": "2023-12-03T00:03:15.269195Z",
     "shell.execute_reply": "2023-12-03T00:03:15.268818Z",
     "shell.execute_reply.started": "2023-12-03T00:03:15.224475Z"
    }
   },
   "outputs": [
    {
     "data": {
      "text/plain": [
       "495"
      ]
     },
     "execution_count": 19,
     "metadata": {},
     "output_type": "execute_result"
    }
   ],
   "source": [
    "filter_http = df['review_text'].str.contains('http')\n",
    "filter_http.sum()"
   ]
  },
  {
   "cell_type": "code",
   "execution_count": 20,
   "id": "59743e70-494b-4304-823c-33add02a9876",
   "metadata": {
    "execution": {
     "iopub.execute_input": "2023-12-03T00:03:15.269937Z",
     "iopub.status.busy": "2023-12-03T00:03:15.269832Z",
     "iopub.status.idle": "2023-12-03T00:03:15.315195Z",
     "shell.execute_reply": "2023-12-03T00:03:15.314884Z",
     "shell.execute_reply.started": "2023-12-03T00:03:15.269928Z"
    }
   },
   "outputs": [
    {
     "data": {
      "text/plain": [
       "42"
      ]
     },
     "execution_count": 20,
     "metadata": {},
     "output_type": "execute_result"
    }
   ],
   "source": [
    "filter_hrefs = df['review_text'].str.contains('href')\n",
    "filter_hrefs.sum()"
   ]
  },
  {
   "cell_type": "code",
   "execution_count": 21,
   "id": "dbcc3c15-a465-450e-b5dd-71b9eac9218b",
   "metadata": {
    "execution": {
     "iopub.execute_input": "2023-12-03T00:03:15.315843Z",
     "iopub.status.busy": "2023-12-03T00:03:15.315731Z",
     "iopub.status.idle": "2023-12-03T00:03:15.349687Z",
     "shell.execute_reply": "2023-12-03T00:03:15.349323Z",
     "shell.execute_reply.started": "2023-12-03T00:03:15.315833Z"
    }
   },
   "outputs": [
    {
     "data": {
      "text/plain": [
       "495"
      ]
     },
     "execution_count": 21,
     "metadata": {},
     "output_type": "execute_result"
    }
   ],
   "source": [
    "(filter_http | filter_hrefs).sum()"
   ]
  },
  {
   "cell_type": "code",
   "execution_count": null,
   "id": "42af6489-de26-4d68-8888-e10b480377bf",
   "metadata": {},
   "outputs": [],
   "source": []
  },
  {
   "cell_type": "code",
   "execution_count": 22,
   "id": "2510eaba-97af-4f28-b3bc-943509537e1a",
   "metadata": {
    "execution": {
     "iopub.execute_input": "2023-12-03T00:03:15.354615Z",
     "iopub.status.busy": "2023-12-03T00:03:15.354433Z",
     "iopub.status.idle": "2023-12-03T00:03:15.395801Z",
     "shell.execute_reply": "2023-12-03T00:03:15.395477Z",
     "shell.execute_reply.started": "2023-12-03T00:03:15.354604Z"
    }
   },
   "outputs": [
    {
     "data": {
      "text/html": [
       "<div>\n",
       "<style scoped>\n",
       "    .dataframe tbody tr th:only-of-type {\n",
       "        vertical-align: middle;\n",
       "    }\n",
       "\n",
       "    .dataframe tbody tr th {\n",
       "        vertical-align: top;\n",
       "    }\n",
       "\n",
       "    .dataframe thead th {\n",
       "        text-align: right;\n",
       "    }\n",
       "</style>\n",
       "<table border=\"1\" class=\"dataframe\">\n",
       "  <thead>\n",
       "    <tr style=\"text-align: right;\">\n",
       "      <th></th>\n",
       "      <th>movie_id</th>\n",
       "      <th>review_id</th>\n",
       "      <th>rating</th>\n",
       "      <th>review_text</th>\n",
       "      <th>created_at</th>\n",
       "      <th>target</th>\n",
       "      <th>tokens</th>\n",
       "    </tr>\n",
       "  </thead>\n",
       "  <tbody>\n",
       "    <tr>\n",
       "      <th>0</th>\n",
       "      <td>843</td>\n",
       "      <td>64ecc16e83901800af821d50</td>\n",
       "      <td>7.0</td>\n",
       "      <td>This is a fine piece of cinema from Wong Kar-W...</td>\n",
       "      <td>2023-08-28 15:46:55.026000+00:00</td>\n",
       "      <td>&lt;NA&gt;</td>\n",
       "      <td>[fine, piece, cinema, wong, kar, wai, tells, s...</td>\n",
       "    </tr>\n",
       "    <tr>\n",
       "      <th>1</th>\n",
       "      <td>7443</td>\n",
       "      <td>57086ff5c3a3681d29001512</td>\n",
       "      <td>9.0</td>\n",
       "      <td>A guilty pleasure for me personally, as I love...</td>\n",
       "      <td>2016-04-09 02:59:01.116000+00:00</td>\n",
       "      <td>High</td>\n",
       "      <td>[guilty, pleasure, personally, love, great, es...</td>\n",
       "    </tr>\n",
       "    <tr>\n",
       "      <th>2</th>\n",
       "      <td>7443</td>\n",
       "      <td>5bb5ac829251410dcb00810c</td>\n",
       "      <td>6.0</td>\n",
       "      <td>Made my roommate who hates stop-motion animati...</td>\n",
       "      <td>2018-10-04 06:00:34.227000+00:00</td>\n",
       "      <td>&lt;NA&gt;</td>\n",
       "      <td>[roommate, hates, stop, motion, animation, wat...</td>\n",
       "    </tr>\n",
       "    <tr>\n",
       "      <th>3</th>\n",
       "      <td>7443</td>\n",
       "      <td>5f0c53a013a32000357ec505</td>\n",
       "      <td>8.0</td>\n",
       "      <td>A very good stop-motion animation!\\r\\n\\r\\n&lt;em&gt;...</td>\n",
       "      <td>2020-07-13 12:29:20.853000+00:00</td>\n",
       "      <td>&lt;NA&gt;</td>\n",
       "      <td>[good, stop, motion, animation, \\r\\n\\r\\n, &lt;, e...</td>\n",
       "    </tr>\n",
       "    <tr>\n",
       "      <th>4</th>\n",
       "      <td>7443</td>\n",
       "      <td>64ecc027594c9400ffe77c91</td>\n",
       "      <td>7.0</td>\n",
       "      <td>Ok, there is an huge temptation to riddle this...</td>\n",
       "      <td>2023-08-28 15:41:27.525000+00:00</td>\n",
       "      <td>&lt;NA&gt;</td>\n",
       "      <td>[ok, huge, temptation, riddle, review, puns, g...</td>\n",
       "    </tr>\n",
       "    <tr>\n",
       "      <th>...</th>\n",
       "      <td>...</td>\n",
       "      <td>...</td>\n",
       "      <td>...</td>\n",
       "      <td>...</td>\n",
       "      <td>...</td>\n",
       "      <td>...</td>\n",
       "      <td>...</td>\n",
       "    </tr>\n",
       "    <tr>\n",
       "      <th>8645</th>\n",
       "      <td>575264</td>\n",
       "      <td>64ba5c5706f98400e1169ed0</td>\n",
       "      <td>7.0</td>\n",
       "      <td>I'm not really a great fan of Tom Cruise. Yes,...</td>\n",
       "      <td>2023-07-21 10:22:15.048000+00:00</td>\n",
       "      <td>&lt;NA&gt;</td>\n",
       "      <td>[great, fan, tom, cruise, yes, stunts, fit, fi...</td>\n",
       "    </tr>\n",
       "    <tr>\n",
       "      <th>8646</th>\n",
       "      <td>575264</td>\n",
       "      <td>64bdab4dad50f0013b127c02</td>\n",
       "      <td>6.0</td>\n",
       "      <td>Spectacular cinematic action let down by an in...</td>\n",
       "      <td>2023-07-23 22:35:58.004000+00:00</td>\n",
       "      <td>&lt;NA&gt;</td>\n",
       "      <td>[spectacular, cinematic, action, let, incohere...</td>\n",
       "    </tr>\n",
       "    <tr>\n",
       "      <th>8647</th>\n",
       "      <td>575264</td>\n",
       "      <td>64cca28c43cd5400add62db6</td>\n",
       "      <td>9.0</td>\n",
       "      <td>The Tom Cruise “Mission Impossible” franchise ...</td>\n",
       "      <td>2023-08-04 07:02:36.097000+00:00</td>\n",
       "      <td>High</td>\n",
       "      <td>[tom, cruise, mission, impossible, franchise, ...</td>\n",
       "    </tr>\n",
       "    <tr>\n",
       "      <th>8648</th>\n",
       "      <td>575264</td>\n",
       "      <td>652e4978caef2d0139df3b6c</td>\n",
       "      <td>8.0</td>\n",
       "      <td>It was a good movie. Not better than the pervi...</td>\n",
       "      <td>2023-10-17 08:44:40.250000+00:00</td>\n",
       "      <td>&lt;NA&gt;</td>\n",
       "      <td>[good, movie, better, pervious, loved]</td>\n",
       "    </tr>\n",
       "    <tr>\n",
       "      <th>8649</th>\n",
       "      <td>575264</td>\n",
       "      <td>653df83bc8a5ac011d6d5767</td>\n",
       "      <td>8.0</td>\n",
       "      <td>Good stuntwork as usual from this series and t...</td>\n",
       "      <td>2023-10-29 06:14:19.708000+00:00</td>\n",
       "      <td>&lt;NA&gt;</td>\n",
       "      <td>[good, stuntwork, usual, series, performances,...</td>\n",
       "    </tr>\n",
       "  </tbody>\n",
       "</table>\n",
       "<p>6959 rows × 7 columns</p>\n",
       "</div>"
      ],
      "text/plain": [
       "      movie_id                 review_id  rating  \\\n",
       "0          843  64ecc16e83901800af821d50     7.0   \n",
       "1         7443  57086ff5c3a3681d29001512     9.0   \n",
       "2         7443  5bb5ac829251410dcb00810c     6.0   \n",
       "3         7443  5f0c53a013a32000357ec505     8.0   \n",
       "4         7443  64ecc027594c9400ffe77c91     7.0   \n",
       "...        ...                       ...     ...   \n",
       "8645    575264  64ba5c5706f98400e1169ed0     7.0   \n",
       "8646    575264  64bdab4dad50f0013b127c02     6.0   \n",
       "8647    575264  64cca28c43cd5400add62db6     9.0   \n",
       "8648    575264  652e4978caef2d0139df3b6c     8.0   \n",
       "8649    575264  653df83bc8a5ac011d6d5767     8.0   \n",
       "\n",
       "                                            review_text  \\\n",
       "0     This is a fine piece of cinema from Wong Kar-W...   \n",
       "1     A guilty pleasure for me personally, as I love...   \n",
       "2     Made my roommate who hates stop-motion animati...   \n",
       "3     A very good stop-motion animation!\\r\\n\\r\\n<em>...   \n",
       "4     Ok, there is an huge temptation to riddle this...   \n",
       "...                                                 ...   \n",
       "8645  I'm not really a great fan of Tom Cruise. Yes,...   \n",
       "8646  Spectacular cinematic action let down by an in...   \n",
       "8647  The Tom Cruise “Mission Impossible” franchise ...   \n",
       "8648  It was a good movie. Not better than the pervi...   \n",
       "8649  Good stuntwork as usual from this series and t...   \n",
       "\n",
       "                            created_at target  \\\n",
       "0     2023-08-28 15:46:55.026000+00:00   <NA>   \n",
       "1     2016-04-09 02:59:01.116000+00:00   High   \n",
       "2     2018-10-04 06:00:34.227000+00:00   <NA>   \n",
       "3     2020-07-13 12:29:20.853000+00:00   <NA>   \n",
       "4     2023-08-28 15:41:27.525000+00:00   <NA>   \n",
       "...                                ...    ...   \n",
       "8645  2023-07-21 10:22:15.048000+00:00   <NA>   \n",
       "8646  2023-07-23 22:35:58.004000+00:00   <NA>   \n",
       "8647  2023-08-04 07:02:36.097000+00:00   High   \n",
       "8648  2023-10-17 08:44:40.250000+00:00   <NA>   \n",
       "8649  2023-10-29 06:14:19.708000+00:00   <NA>   \n",
       "\n",
       "                                                 tokens  \n",
       "0     [fine, piece, cinema, wong, kar, wai, tells, s...  \n",
       "1     [guilty, pleasure, personally, love, great, es...  \n",
       "2     [roommate, hates, stop, motion, animation, wat...  \n",
       "3     [good, stop, motion, animation, \\r\\n\\r\\n, <, e...  \n",
       "4     [ok, huge, temptation, riddle, review, puns, g...  \n",
       "...                                                 ...  \n",
       "8645  [great, fan, tom, cruise, yes, stunts, fit, fi...  \n",
       "8646  [spectacular, cinematic, action, let, incohere...  \n",
       "8647  [tom, cruise, mission, impossible, franchise, ...  \n",
       "8648             [good, movie, better, pervious, loved]  \n",
       "8649  [good, stuntwork, usual, series, performances,...  \n",
       "\n",
       "[6959 rows x 7 columns]"
      ]
     },
     "execution_count": 22,
     "metadata": {},
     "output_type": "execute_result"
    }
   ],
   "source": [
    "## Removing reviews with 'href' in review\n",
    "df = df.loc[~(filter_http | filter_hrefs)]\n",
    "df"
   ]
  },
  {
   "cell_type": "code",
   "execution_count": 23,
   "id": "e41158a5-7fb1-41a1-b326-def170ffb9f7",
   "metadata": {
    "execution": {
     "iopub.execute_input": "2023-12-03T00:03:15.396425Z",
     "iopub.status.busy": "2023-12-03T00:03:15.396327Z",
     "iopub.status.idle": "2023-12-03T00:03:15.439908Z",
     "shell.execute_reply": "2023-12-03T00:03:15.439547Z",
     "shell.execute_reply.started": "2023-12-03T00:03:15.396417Z"
    }
   },
   "outputs": [
    {
     "data": {
      "text/plain": [
       "0"
      ]
     },
     "execution_count": 23,
     "metadata": {},
     "output_type": "execute_result"
    }
   ],
   "source": [
    "filter_hrefs = df['review_text'].str.contains('href')\n",
    "filter_hrefs.sum()"
   ]
  },
  {
   "cell_type": "code",
   "execution_count": 24,
   "id": "9f7a4fe3-dcd2-4f68-998d-cafdd3f366ff",
   "metadata": {
    "execution": {
     "iopub.execute_input": "2023-12-03T00:03:15.440498Z",
     "iopub.status.busy": "2023-12-03T00:03:15.440399Z",
     "iopub.status.idle": "2023-12-03T00:03:15.484834Z",
     "shell.execute_reply": "2023-12-03T00:03:15.484377Z",
     "shell.execute_reply.started": "2023-12-03T00:03:15.440489Z"
    }
   },
   "outputs": [
    {
     "data": {
      "text/plain": [
       "0"
      ]
     },
     "execution_count": 24,
     "metadata": {},
     "output_type": "execute_result"
    }
   ],
   "source": [
    "filter_http = df['review_text'].str.contains('http')\n",
    "filter_http.sum()"
   ]
  },
  {
   "cell_type": "code",
   "execution_count": 25,
   "id": "815c8dbe-821a-4b5d-b6e1-876e1e9c5c6b",
   "metadata": {
    "execution": {
     "iopub.execute_input": "2023-12-03T00:03:15.485519Z",
     "iopub.status.busy": "2023-12-03T00:03:15.485340Z",
     "iopub.status.idle": "2023-12-03T00:03:15.658153Z",
     "shell.execute_reply": "2023-12-03T00:03:15.657835Z",
     "shell.execute_reply.started": "2023-12-03T00:03:15.485492Z"
    }
   },
   "outputs": [
    {
     "data": {
      "text/plain": [
       "['Data/processed-nlp-data.joblib']"
      ]
     },
     "execution_count": 25,
     "metadata": {},
     "output_type": "execute_result"
    }
   ],
   "source": [
    "joblib.dump(df, fname_data_joblib)"
   ]
  },
  {
   "cell_type": "markdown",
   "id": "74d80017-ef0b-469b-bd94-4d56c329d01d",
   "metadata": {},
   "source": [
    "## WordClouds"
   ]
  },
  {
   "cell_type": "code",
   "execution_count": 26,
   "id": "d5936f68-a08a-4657-86af-622278f17756",
   "metadata": {
    "execution": {
     "iopub.execute_input": "2023-12-03T00:03:15.658762Z",
     "iopub.status.busy": "2023-12-03T00:03:15.658656Z",
     "iopub.status.idle": "2023-12-03T00:03:15.693185Z",
     "shell.execute_reply": "2023-12-03T00:03:15.692839Z",
     "shell.execute_reply.started": "2023-12-03T00:03:15.658753Z"
    }
   },
   "outputs": [
    {
     "data": {
      "text/plain": [
       "Low     0.505573\n",
       "High    0.494427\n",
       "Name: target, dtype: float64"
      ]
     },
     "execution_count": 26,
     "metadata": {},
     "output_type": "execute_result"
    }
   ],
   "source": [
    "df['target'].value_counts(1)"
   ]
  },
  {
   "cell_type": "code",
   "execution_count": 27,
   "id": "92464aff-255d-4e8c-b136-c5796c0ca24d",
   "metadata": {
    "execution": {
     "iopub.execute_input": "2023-12-03T00:03:15.693755Z",
     "iopub.status.busy": "2023-12-03T00:03:15.693653Z",
     "iopub.status.idle": "2023-12-03T00:03:15.741078Z",
     "shell.execute_reply": "2023-12-03T00:03:15.739911Z",
     "shell.execute_reply.started": "2023-12-03T00:03:15.693746Z"
    }
   },
   "outputs": [
    {
     "data": {
      "text/plain": [
       "(1134, 1109)"
      ]
     },
     "execution_count": 27,
     "metadata": {},
     "output_type": "execute_result"
    }
   ],
   "source": [
    "filter_low = df['target'] == \"Low\"\n",
    "filter_high = df['target'] == \"High\"\n",
    "filter_low.sum(), filter_high.sum()"
   ]
  },
  {
   "cell_type": "code",
   "execution_count": 28,
   "id": "bd2e92a9-4bcf-4ab4-9fae-3a7425a4a949",
   "metadata": {
    "execution": {
     "iopub.execute_input": "2023-12-03T00:03:15.741958Z",
     "iopub.status.busy": "2023-12-03T00:03:15.741832Z",
     "iopub.status.idle": "2023-12-03T00:03:15.786452Z",
     "shell.execute_reply": "2023-12-03T00:03:15.785975Z",
     "shell.execute_reply.started": "2023-12-03T00:03:15.741948Z"
    }
   },
   "outputs": [
    {
     "data": {
      "text/plain": [
       "\"A guilty pleasure for me personally, as I love both 'The Great Escape' and most of the works I have \""
      ]
     },
     "execution_count": 28,
     "metadata": {},
     "output_type": "execute_result"
    }
   ],
   "source": [
    "high_reviews_text = \" \".join( df.loc[filter_high, 'review_text'])\n",
    "high_reviews_text[:100]"
   ]
  },
  {
   "cell_type": "code",
   "execution_count": 29,
   "id": "f1f01402-ea1b-4dc1-91e3-0af608dac011",
   "metadata": {
    "execution": {
     "iopub.execute_input": "2023-12-03T00:03:15.787470Z",
     "iopub.status.busy": "2023-12-03T00:03:15.787128Z",
     "iopub.status.idle": "2023-12-03T00:03:15.823841Z",
     "shell.execute_reply": "2023-12-03T00:03:15.823511Z",
     "shell.execute_reply.started": "2023-12-03T00:03:15.787458Z"
    }
   },
   "outputs": [
    {
     "data": {
      "text/plain": [
       "'The first underwhelmed me, but this one straight-up bored me. Again, of course seeing Hunt climb a m'"
      ]
     },
     "execution_count": 29,
     "metadata": {},
     "output_type": "execute_result"
    }
   ],
   "source": [
    "low_reviews_text = \" \".join( df.loc[filter_low, 'review_text'])\n",
    "low_reviews_text[:100]"
   ]
  },
  {
   "cell_type": "code",
   "execution_count": 30,
   "id": "d17d0511-3bc3-464c-926e-e98cb282df3b",
   "metadata": {
    "execution": {
     "iopub.execute_input": "2023-12-03T00:03:15.824427Z",
     "iopub.status.busy": "2023-12-03T00:03:15.824335Z",
     "iopub.status.idle": "2023-12-03T00:03:15.856779Z",
     "shell.execute_reply": "2023-12-03T00:03:15.856376Z",
     "shell.execute_reply.started": "2023-12-03T00:03:15.824418Z"
    }
   },
   "outputs": [],
   "source": [
    "# df.head()"
   ]
  },
  {
   "cell_type": "code",
   "execution_count": 31,
   "id": "c2ac7047-209b-4fdd-ba50-e5169427dca9",
   "metadata": {
    "execution": {
     "iopub.execute_input": "2023-12-03T00:03:15.857527Z",
     "iopub.status.busy": "2023-12-03T00:03:15.857383Z",
     "iopub.status.idle": "2023-12-03T00:03:17.676067Z",
     "shell.execute_reply": "2023-12-03T00:03:17.675540Z",
     "shell.execute_reply.started": "2023-12-03T00:03:15.857517Z"
    }
   },
   "outputs": [
    {
     "ename": "KeyError",
     "evalue": "'tokens-joined'",
     "output_type": "error",
     "traceback": [
      "\u001b[0;31m---------------------------------------------------------------------------\u001b[0m",
      "\u001b[0;31mKeyError\u001b[0m                                  Traceback (most recent call last)",
      "File \u001b[0;32m/opt/homebrew/Caskroom/miniforge/base/envs/dojo-env/lib/python3.10/site-packages/pandas/core/indexes/base.py:3802\u001b[0m, in \u001b[0;36mIndex.get_loc\u001b[0;34m(self, key, method, tolerance)\u001b[0m\n\u001b[1;32m   3801\u001b[0m \u001b[38;5;28;01mtry\u001b[39;00m:\n\u001b[0;32m-> 3802\u001b[0m     \u001b[38;5;28;01mreturn\u001b[39;00m \u001b[38;5;28;43mself\u001b[39;49m\u001b[38;5;241;43m.\u001b[39;49m\u001b[43m_engine\u001b[49m\u001b[38;5;241;43m.\u001b[39;49m\u001b[43mget_loc\u001b[49m\u001b[43m(\u001b[49m\u001b[43mcasted_key\u001b[49m\u001b[43m)\u001b[49m\n\u001b[1;32m   3803\u001b[0m \u001b[38;5;28;01mexcept\u001b[39;00m \u001b[38;5;167;01mKeyError\u001b[39;00m \u001b[38;5;28;01mas\u001b[39;00m err:\n",
      "File \u001b[0;32m/opt/homebrew/Caskroom/miniforge/base/envs/dojo-env/lib/python3.10/site-packages/pandas/_libs/index.pyx:138\u001b[0m, in \u001b[0;36mpandas._libs.index.IndexEngine.get_loc\u001b[0;34m()\u001b[0m\n",
      "File \u001b[0;32m/opt/homebrew/Caskroom/miniforge/base/envs/dojo-env/lib/python3.10/site-packages/pandas/_libs/index.pyx:165\u001b[0m, in \u001b[0;36mpandas._libs.index.IndexEngine.get_loc\u001b[0;34m()\u001b[0m\n",
      "File \u001b[0;32mpandas/_libs/hashtable_class_helper.pxi:5745\u001b[0m, in \u001b[0;36mpandas._libs.hashtable.PyObjectHashTable.get_item\u001b[0;34m()\u001b[0m\n",
      "File \u001b[0;32mpandas/_libs/hashtable_class_helper.pxi:5753\u001b[0m, in \u001b[0;36mpandas._libs.hashtable.PyObjectHashTable.get_item\u001b[0;34m()\u001b[0m\n",
      "\u001b[0;31mKeyError\u001b[0m: 'tokens-joined'",
      "\nThe above exception was the direct cause of the following exception:\n",
      "\u001b[0;31mKeyError\u001b[0m                                  Traceback (most recent call last)",
      "Cell \u001b[0;32mIn[31], line 2\u001b[0m\n\u001b[1;32m      1\u001b[0m \u001b[38;5;66;03m# Make a single giant string with entire groups tokens\u001b[39;00m\n\u001b[0;32m----> 2\u001b[0m high_reviews_tokens \u001b[38;5;241m=\u001b[39m \u001b[38;5;124m\"\u001b[39m\u001b[38;5;124m \u001b[39m\u001b[38;5;124m\"\u001b[39m\u001b[38;5;241m.\u001b[39mjoin( \u001b[43mdf\u001b[49m\u001b[38;5;241;43m.\u001b[39;49m\u001b[43mloc\u001b[49m\u001b[43m[\u001b[49m\u001b[43mfilter_high\u001b[49m\u001b[43m,\u001b[49m\u001b[43m \u001b[49m\u001b[38;5;124;43m'\u001b[39;49m\u001b[38;5;124;43mtokens-joined\u001b[39;49m\u001b[38;5;124;43m'\u001b[39;49m\u001b[43m]\u001b[49m)\n\u001b[1;32m      3\u001b[0m low_reviews_tokens \u001b[38;5;241m=\u001b[39m \u001b[38;5;124m\"\u001b[39m\u001b[38;5;124m \u001b[39m\u001b[38;5;124m\"\u001b[39m\u001b[38;5;241m.\u001b[39mjoin( df\u001b[38;5;241m.\u001b[39mloc[filter_low, \u001b[38;5;124m'\u001b[39m\u001b[38;5;124mtokens-joined\u001b[39m\u001b[38;5;124m'\u001b[39m])\n\u001b[1;32m      5\u001b[0m high_reviews_lemmas \u001b[38;5;241m=\u001b[39m  \u001b[38;5;124m\"\u001b[39m\u001b[38;5;124m \u001b[39m\u001b[38;5;124m\"\u001b[39m\u001b[38;5;241m.\u001b[39mjoin( df\u001b[38;5;241m.\u001b[39mloc[filter_high, \u001b[38;5;124m'\u001b[39m\u001b[38;5;124mlemmas-joined\u001b[39m\u001b[38;5;124m'\u001b[39m])\n",
      "File \u001b[0;32m/opt/homebrew/Caskroom/miniforge/base/envs/dojo-env/lib/python3.10/site-packages/pandas/core/indexing.py:1067\u001b[0m, in \u001b[0;36m_LocationIndexer.__getitem__\u001b[0;34m(self, key)\u001b[0m\n\u001b[1;32m   1065\u001b[0m     \u001b[38;5;28;01mif\u001b[39;00m \u001b[38;5;28mself\u001b[39m\u001b[38;5;241m.\u001b[39m_is_scalar_access(key):\n\u001b[1;32m   1066\u001b[0m         \u001b[38;5;28;01mreturn\u001b[39;00m \u001b[38;5;28mself\u001b[39m\u001b[38;5;241m.\u001b[39mobj\u001b[38;5;241m.\u001b[39m_get_value(\u001b[38;5;241m*\u001b[39mkey, takeable\u001b[38;5;241m=\u001b[39m\u001b[38;5;28mself\u001b[39m\u001b[38;5;241m.\u001b[39m_takeable)\n\u001b[0;32m-> 1067\u001b[0m     \u001b[38;5;28;01mreturn\u001b[39;00m \u001b[38;5;28;43mself\u001b[39;49m\u001b[38;5;241;43m.\u001b[39;49m\u001b[43m_getitem_tuple\u001b[49m\u001b[43m(\u001b[49m\u001b[43mkey\u001b[49m\u001b[43m)\u001b[49m\n\u001b[1;32m   1068\u001b[0m \u001b[38;5;28;01melse\u001b[39;00m:\n\u001b[1;32m   1069\u001b[0m     \u001b[38;5;66;03m# we by definition only have the 0th axis\u001b[39;00m\n\u001b[1;32m   1070\u001b[0m     axis \u001b[38;5;241m=\u001b[39m \u001b[38;5;28mself\u001b[39m\u001b[38;5;241m.\u001b[39maxis \u001b[38;5;129;01mor\u001b[39;00m \u001b[38;5;241m0\u001b[39m\n",
      "File \u001b[0;32m/opt/homebrew/Caskroom/miniforge/base/envs/dojo-env/lib/python3.10/site-packages/pandas/core/indexing.py:1247\u001b[0m, in \u001b[0;36m_LocIndexer._getitem_tuple\u001b[0;34m(self, tup)\u001b[0m\n\u001b[1;32m   1245\u001b[0m \u001b[38;5;28;01mwith\u001b[39;00m suppress(IndexingError):\n\u001b[1;32m   1246\u001b[0m     tup \u001b[38;5;241m=\u001b[39m \u001b[38;5;28mself\u001b[39m\u001b[38;5;241m.\u001b[39m_expand_ellipsis(tup)\n\u001b[0;32m-> 1247\u001b[0m     \u001b[38;5;28;01mreturn\u001b[39;00m \u001b[38;5;28;43mself\u001b[39;49m\u001b[38;5;241;43m.\u001b[39;49m\u001b[43m_getitem_lowerdim\u001b[49m\u001b[43m(\u001b[49m\u001b[43mtup\u001b[49m\u001b[43m)\u001b[49m\n\u001b[1;32m   1249\u001b[0m \u001b[38;5;66;03m# no multi-index, so validate all of the indexers\u001b[39;00m\n\u001b[1;32m   1250\u001b[0m tup \u001b[38;5;241m=\u001b[39m \u001b[38;5;28mself\u001b[39m\u001b[38;5;241m.\u001b[39m_validate_tuple_indexer(tup)\n",
      "File \u001b[0;32m/opt/homebrew/Caskroom/miniforge/base/envs/dojo-env/lib/python3.10/site-packages/pandas/core/indexing.py:967\u001b[0m, in \u001b[0;36m_LocationIndexer._getitem_lowerdim\u001b[0;34m(self, tup)\u001b[0m\n\u001b[1;32m    963\u001b[0m \u001b[38;5;28;01mfor\u001b[39;00m i, key \u001b[38;5;129;01min\u001b[39;00m \u001b[38;5;28menumerate\u001b[39m(tup):\n\u001b[1;32m    964\u001b[0m     \u001b[38;5;28;01mif\u001b[39;00m is_label_like(key):\n\u001b[1;32m    965\u001b[0m         \u001b[38;5;66;03m# We don't need to check for tuples here because those are\u001b[39;00m\n\u001b[1;32m    966\u001b[0m         \u001b[38;5;66;03m#  caught by the _is_nested_tuple_indexer check above.\u001b[39;00m\n\u001b[0;32m--> 967\u001b[0m         section \u001b[38;5;241m=\u001b[39m \u001b[38;5;28;43mself\u001b[39;49m\u001b[38;5;241;43m.\u001b[39;49m\u001b[43m_getitem_axis\u001b[49m\u001b[43m(\u001b[49m\u001b[43mkey\u001b[49m\u001b[43m,\u001b[49m\u001b[43m \u001b[49m\u001b[43maxis\u001b[49m\u001b[38;5;241;43m=\u001b[39;49m\u001b[43mi\u001b[49m\u001b[43m)\u001b[49m\n\u001b[1;32m    969\u001b[0m         \u001b[38;5;66;03m# We should never have a scalar section here, because\u001b[39;00m\n\u001b[1;32m    970\u001b[0m         \u001b[38;5;66;03m#  _getitem_lowerdim is only called after a check for\u001b[39;00m\n\u001b[1;32m    971\u001b[0m         \u001b[38;5;66;03m#  is_scalar_access, which that would be.\u001b[39;00m\n\u001b[1;32m    972\u001b[0m         \u001b[38;5;28;01mif\u001b[39;00m section\u001b[38;5;241m.\u001b[39mndim \u001b[38;5;241m==\u001b[39m \u001b[38;5;28mself\u001b[39m\u001b[38;5;241m.\u001b[39mndim:\n\u001b[1;32m    973\u001b[0m             \u001b[38;5;66;03m# we're in the middle of slicing through a MultiIndex\u001b[39;00m\n\u001b[1;32m    974\u001b[0m             \u001b[38;5;66;03m# revise the key wrt to `section` by inserting an _NS\u001b[39;00m\n",
      "File \u001b[0;32m/opt/homebrew/Caskroom/miniforge/base/envs/dojo-env/lib/python3.10/site-packages/pandas/core/indexing.py:1312\u001b[0m, in \u001b[0;36m_LocIndexer._getitem_axis\u001b[0;34m(self, key, axis)\u001b[0m\n\u001b[1;32m   1310\u001b[0m \u001b[38;5;66;03m# fall thru to straight lookup\u001b[39;00m\n\u001b[1;32m   1311\u001b[0m \u001b[38;5;28mself\u001b[39m\u001b[38;5;241m.\u001b[39m_validate_key(key, axis)\n\u001b[0;32m-> 1312\u001b[0m \u001b[38;5;28;01mreturn\u001b[39;00m \u001b[38;5;28;43mself\u001b[39;49m\u001b[38;5;241;43m.\u001b[39;49m\u001b[43m_get_label\u001b[49m\u001b[43m(\u001b[49m\u001b[43mkey\u001b[49m\u001b[43m,\u001b[49m\u001b[43m \u001b[49m\u001b[43maxis\u001b[49m\u001b[38;5;241;43m=\u001b[39;49m\u001b[43maxis\u001b[49m\u001b[43m)\u001b[49m\n",
      "File \u001b[0;32m/opt/homebrew/Caskroom/miniforge/base/envs/dojo-env/lib/python3.10/site-packages/pandas/core/indexing.py:1260\u001b[0m, in \u001b[0;36m_LocIndexer._get_label\u001b[0;34m(self, label, axis)\u001b[0m\n\u001b[1;32m   1258\u001b[0m \u001b[38;5;28;01mdef\u001b[39;00m \u001b[38;5;21m_get_label\u001b[39m(\u001b[38;5;28mself\u001b[39m, label, axis: \u001b[38;5;28mint\u001b[39m):\n\u001b[1;32m   1259\u001b[0m     \u001b[38;5;66;03m# GH#5567 this will fail if the label is not present in the axis.\u001b[39;00m\n\u001b[0;32m-> 1260\u001b[0m     \u001b[38;5;28;01mreturn\u001b[39;00m \u001b[38;5;28;43mself\u001b[39;49m\u001b[38;5;241;43m.\u001b[39;49m\u001b[43mobj\u001b[49m\u001b[38;5;241;43m.\u001b[39;49m\u001b[43mxs\u001b[49m\u001b[43m(\u001b[49m\u001b[43mlabel\u001b[49m\u001b[43m,\u001b[49m\u001b[43m \u001b[49m\u001b[43maxis\u001b[49m\u001b[38;5;241;43m=\u001b[39;49m\u001b[43maxis\u001b[49m\u001b[43m)\u001b[49m\n",
      "File \u001b[0;32m/opt/homebrew/Caskroom/miniforge/base/envs/dojo-env/lib/python3.10/site-packages/pandas/core/generic.py:4041\u001b[0m, in \u001b[0;36mNDFrame.xs\u001b[0;34m(self, key, axis, level, drop_level)\u001b[0m\n\u001b[1;32m   4039\u001b[0m \u001b[38;5;28;01mif\u001b[39;00m axis \u001b[38;5;241m==\u001b[39m \u001b[38;5;241m1\u001b[39m:\n\u001b[1;32m   4040\u001b[0m     \u001b[38;5;28;01mif\u001b[39;00m drop_level:\n\u001b[0;32m-> 4041\u001b[0m         \u001b[38;5;28;01mreturn\u001b[39;00m \u001b[38;5;28;43mself\u001b[39;49m\u001b[43m[\u001b[49m\u001b[43mkey\u001b[49m\u001b[43m]\u001b[49m\n\u001b[1;32m   4042\u001b[0m     index \u001b[38;5;241m=\u001b[39m \u001b[38;5;28mself\u001b[39m\u001b[38;5;241m.\u001b[39mcolumns\n\u001b[1;32m   4043\u001b[0m \u001b[38;5;28;01melse\u001b[39;00m:\n",
      "File \u001b[0;32m/opt/homebrew/Caskroom/miniforge/base/envs/dojo-env/lib/python3.10/site-packages/pandas/core/frame.py:3807\u001b[0m, in \u001b[0;36mDataFrame.__getitem__\u001b[0;34m(self, key)\u001b[0m\n\u001b[1;32m   3805\u001b[0m \u001b[38;5;28;01mif\u001b[39;00m \u001b[38;5;28mself\u001b[39m\u001b[38;5;241m.\u001b[39mcolumns\u001b[38;5;241m.\u001b[39mnlevels \u001b[38;5;241m>\u001b[39m \u001b[38;5;241m1\u001b[39m:\n\u001b[1;32m   3806\u001b[0m     \u001b[38;5;28;01mreturn\u001b[39;00m \u001b[38;5;28mself\u001b[39m\u001b[38;5;241m.\u001b[39m_getitem_multilevel(key)\n\u001b[0;32m-> 3807\u001b[0m indexer \u001b[38;5;241m=\u001b[39m \u001b[38;5;28;43mself\u001b[39;49m\u001b[38;5;241;43m.\u001b[39;49m\u001b[43mcolumns\u001b[49m\u001b[38;5;241;43m.\u001b[39;49m\u001b[43mget_loc\u001b[49m\u001b[43m(\u001b[49m\u001b[43mkey\u001b[49m\u001b[43m)\u001b[49m\n\u001b[1;32m   3808\u001b[0m \u001b[38;5;28;01mif\u001b[39;00m is_integer(indexer):\n\u001b[1;32m   3809\u001b[0m     indexer \u001b[38;5;241m=\u001b[39m [indexer]\n",
      "File \u001b[0;32m/opt/homebrew/Caskroom/miniforge/base/envs/dojo-env/lib/python3.10/site-packages/pandas/core/indexes/base.py:3804\u001b[0m, in \u001b[0;36mIndex.get_loc\u001b[0;34m(self, key, method, tolerance)\u001b[0m\n\u001b[1;32m   3802\u001b[0m     \u001b[38;5;28;01mreturn\u001b[39;00m \u001b[38;5;28mself\u001b[39m\u001b[38;5;241m.\u001b[39m_engine\u001b[38;5;241m.\u001b[39mget_loc(casted_key)\n\u001b[1;32m   3803\u001b[0m \u001b[38;5;28;01mexcept\u001b[39;00m \u001b[38;5;167;01mKeyError\u001b[39;00m \u001b[38;5;28;01mas\u001b[39;00m err:\n\u001b[0;32m-> 3804\u001b[0m     \u001b[38;5;28;01mraise\u001b[39;00m \u001b[38;5;167;01mKeyError\u001b[39;00m(key) \u001b[38;5;28;01mfrom\u001b[39;00m \u001b[38;5;21;01merr\u001b[39;00m\n\u001b[1;32m   3805\u001b[0m \u001b[38;5;28;01mexcept\u001b[39;00m \u001b[38;5;167;01mTypeError\u001b[39;00m:\n\u001b[1;32m   3806\u001b[0m     \u001b[38;5;66;03m# If we have a listlike key, _check_indexing_error will raise\u001b[39;00m\n\u001b[1;32m   3807\u001b[0m     \u001b[38;5;66;03m#  InvalidIndexError. Otherwise we fall through and re-raise\u001b[39;00m\n\u001b[1;32m   3808\u001b[0m     \u001b[38;5;66;03m#  the TypeError.\u001b[39;00m\n\u001b[1;32m   3809\u001b[0m     \u001b[38;5;28mself\u001b[39m\u001b[38;5;241m.\u001b[39m_check_indexing_error(key)\n",
      "\u001b[0;31mKeyError\u001b[0m: 'tokens-joined'"
     ]
    }
   ],
   "source": [
    "\n",
    "# Make a single giant string with entire groups tokens\n",
    "high_reviews_tokens = \" \".join( df.loc[filter_high, 'tokens-joined'])\n",
    "low_reviews_tokens = \" \".join( df.loc[filter_low, 'tokens-joined'])\n",
    "\n",
    "high_reviews_lemmas =  \" \".join( df.loc[filter_high, 'lemmas-joined'])\n",
    "low_reviews_lemmas =  \" \".join( df.loc[filter_low, 'lemmas-joined'])"
   ]
  },
  {
   "cell_type": "code",
   "execution_count": null,
   "id": "93e27a2a-10f9-4c42-a467-71c17b0fc99f",
   "metadata": {
    "execution": {
     "iopub.status.busy": "2023-12-03T00:03:17.676305Z",
     "iopub.status.idle": "2023-12-03T00:03:17.676415Z",
     "shell.execute_reply": "2023-12-03T00:03:17.676358Z",
     "shell.execute_reply.started": "2023-12-03T00:03:17.676353Z"
    }
   },
   "outputs": [],
   "source": [
    "# Create lists of all lemmas in both high and low review groups\n",
    "# Create lists of all lemmas in both high and low review groups\n",
    "high_review_tokens_list = df.loc[filter_high, 'tokens'].explode().to_list()\n",
    "low_review_tokens_list = df.loc[filter_low, 'tokens'].explode().to_list()\n",
    "\n",
    "high_review_lemmas_list = df.loc[filter_high, 'lemmas'].explode().to_list()\n",
    "low_review_lemmas_list = df.loc[filter_low, 'lemmas'].explode().to_list()"
   ]
  },
  {
   "cell_type": "code",
   "execution_count": null,
   "id": "90493c5d-4549-4349-9d50-ed983dd60234",
   "metadata": {
    "execution": {
     "iopub.status.busy": "2023-12-03T00:03:17.676881Z",
     "iopub.status.idle": "2023-12-03T00:03:17.677200Z",
     "shell.execute_reply": "2023-12-03T00:03:17.677138Z",
     "shell.execute_reply.started": "2023-12-03T00:03:17.677132Z"
    }
   },
   "outputs": [],
   "source": [
    "from wordcloud import WordCloud, STOPWORDS"
   ]
  },
  {
   "cell_type": "code",
   "execution_count": null,
   "id": "04ef77ce-6f87-4052-9e50-59658af209c5",
   "metadata": {
    "execution": {
     "iopub.status.busy": "2023-12-03T00:03:17.677555Z",
     "iopub.status.idle": "2023-12-03T00:03:17.677681Z",
     "shell.execute_reply": "2023-12-03T00:03:17.677620Z",
     "shell.execute_reply.started": "2023-12-03T00:03:17.677614Z"
    }
   },
   "outputs": [],
   "source": [
    "# Make word clouds of raw text\n",
    "custom_stopwords = [*STOPWORDS]#, 'film','movie']\n",
    "# Create an instance of a WordCloud and use the generate method\n",
    "low_cloud = WordCloud(random_state = 42,\n",
    "                      width = 800,\n",
    "                      height = 1000,\n",
    "                      min_word_length = 2, colormap=\"Reds\",\n",
    "                      stopwords=custom_stopwords,\n",
    "                     ).generate(low_reviews_text)\n",
    "high_cloud = WordCloud(random_state = 42,\n",
    "                       width = 800,\n",
    "                       height= 1000,\n",
    "                       min_word_length = 2,\n",
    "                       colormap=\"Greens\",\n",
    "                       stopwords=custom_stopwords,\n",
    "                      ).generate(high_reviews_text)\n",
    "# Plot the wordclouds side by side\n",
    "fig, axes = plt.subplots(ncols=2, figsize=(10, 7))\n",
    "axes[0].imshow(low_cloud, interpolation='bilinear')\n",
    "axes[0].set_title(\"Low Ratings\")\n",
    "axes[1].imshow(high_cloud, interpolation='bilinear')\n",
    "axes[1].set_title(\"High Ratings\")\n",
    "[ax.axis('off') for ax in axes]\n",
    "fig.tight_layout();\n",
    "fig.suptitle('Word Clouds - Raw Reviews', fontsize=20, y=1.05);\n",
    "fig.savefig(\"Images/wordcloud-comparison.png\", dpi=300, transparent=False, bbox_inches='tight')"
   ]
  },
  {
   "cell_type": "markdown",
   "id": "94e2eb98-8355-4f71-9996-fde142c81e02",
   "metadata": {},
   "source": [
    "## FreqDist"
   ]
  },
  {
   "cell_type": "code",
   "execution_count": null,
   "id": "08dd67dd-aeb3-43d7-95bc-ef2d214e068f",
   "metadata": {
    "execution": {
     "iopub.status.busy": "2023-12-03T00:03:17.677942Z",
     "iopub.status.idle": "2023-12-03T00:03:17.678050Z",
     "shell.execute_reply": "2023-12-03T00:03:17.677994Z",
     "shell.execute_reply.started": "2023-12-03T00:03:17.677989Z"
    }
   },
   "outputs": [],
   "source": [
    "from nltk import FreqDist"
   ]
  },
  {
   "cell_type": "code",
   "execution_count": null,
   "id": "f59d009d-f7d8-4f39-9465-3143575d8df8",
   "metadata": {
    "execution": {
     "iopub.status.busy": "2023-12-03T00:03:17.678489Z",
     "iopub.status.idle": "2023-12-03T00:03:17.678692Z",
     "shell.execute_reply": "2023-12-03T00:03:17.678581Z",
     "shell.execute_reply.started": "2023-12-03T00:03:17.678575Z"
    }
   },
   "outputs": [],
   "source": [
    "# Split the lemmas into individual token words\n",
    "# low_review_lemmas_split = low_reviews_lemmas.split()\n",
    "# Pass the tokenized lemmas to the class constructor and plot the distribution \n",
    "low_dist = FreqDist(high_review_lemmas_list)#(low_review_lemmas_split)\n",
    "ax = low_dist.plot(20, show = False, title='Distribution of Words in Low-Rating Reviews')\n",
    "plt.tight_layout()\n",
    "plt.savefig('Images/freq_dist_low_ratings.png')\n",
    "\n"
   ]
  },
  {
   "cell_type": "code",
   "execution_count": null,
   "id": "ac659f91-2678-474a-b963-d5d3bb498d7d",
   "metadata": {
    "execution": {
     "iopub.status.busy": "2023-12-03T00:03:17.679530Z",
     "iopub.status.idle": "2023-12-03T00:03:17.679693Z",
     "shell.execute_reply": "2023-12-03T00:03:17.679597Z",
     "shell.execute_reply.started": "2023-12-03T00:03:17.679591Z"
    }
   },
   "outputs": [],
   "source": [
    "# Split the lemmas into individual token words\n",
    "# high_review_lemmas_split = high_reviews_lemmas.split()\n",
    "# Pass the tokenized lemmas to the class constructor and plot the distribution \n",
    "high_dist = FreqDist(high_review_lemmas_list)#high_review_lemmas_split)\n",
    "ax = high_dist.plot(20, show = False, title='Distribution of Words in High-Rating Reviews')\n",
    "plt.tight_layout()\n",
    "plt.savefig('Images/freq_dist_high_ratings.png')"
   ]
  },
  {
   "cell_type": "markdown",
   "id": "2c6977e4-7199-436c-bb7a-f90e60d21013",
   "metadata": {},
   "source": [
    "### Admin Q: What would students do when they saw this?"
   ]
  },
  {
   "cell_type": "markdown",
   "id": "728b59ca-c5b9-434a-b08c-718d44023e4a",
   "metadata": {},
   "source": [
    "- Would they want to go back and change their stopwords, if so, need to re-process all of the NLP text."
   ]
  },
  {
   "cell_type": "code",
   "execution_count": null,
   "id": "2748d3cb-cb8b-4746-a9d2-6d7b22ce2275",
   "metadata": {},
   "outputs": [],
   "source": []
  },
  {
   "cell_type": "code",
   "execution_count": null,
   "id": "d44343b4-6629-4f47-8c01-93eea8be5f96",
   "metadata": {
    "execution": {
     "iopub.status.busy": "2023-12-03T00:03:17.680526Z",
     "iopub.status.idle": "2023-12-03T00:03:17.680782Z",
     "shell.execute_reply": "2023-12-03T00:03:17.680713Z",
     "shell.execute_reply.started": "2023-12-03T00:03:17.680706Z"
    }
   },
   "outputs": [],
   "source": [
    "fig"
   ]
  },
  {
   "cell_type": "markdown",
   "id": "656b0db8-17a6-4468-9fcb-e30d9bf42a98",
   "metadata": {},
   "source": [
    "## Ngram Analysis"
   ]
  },
  {
   "cell_type": "markdown",
   "id": "65a27179-0ac3-4e1c-a907-603924273f2f",
   "metadata": {},
   "source": [
    "### ✅TO DO: Remove Pre-function bigram code"
   ]
  },
  {
   "cell_type": "code",
   "execution_count": null,
   "id": "82e364e8-42e8-4364-b555-97c6ce42aae0",
   "metadata": {
    "execution": {
     "iopub.status.busy": "2023-12-03T00:03:17.681352Z",
     "iopub.status.idle": "2023-12-03T00:03:17.681487Z",
     "shell.execute_reply": "2023-12-03T00:03:17.681421Z",
     "shell.execute_reply.started": "2023-12-03T00:03:17.681415Z"
    }
   },
   "outputs": [],
   "source": [
    "import pandas as pd\n",
    "import nltk\n",
    "def get_ngram_measures_finder(tokens, ngrams=2, get_scores_df=False, measure='raw_freq', top_n=None, min_freq = 1,\n",
    "                             words_colname='Words'):\n",
    "    import nltk\n",
    "    if ngrams == 4:\n",
    "        MeasuresClass = nltk.collocations.QuadgramAssocMeasures\n",
    "        FinderClass = nltk.collocations.QuadgramCollocationFinder\n",
    "        \n",
    "    elif ngrams == 3: \n",
    "        MeasuresClass = nltk.collocations.TrigramAssocMeasures\n",
    "        FinderClass = nltk.collocations.TrigramCollocationFinder\n",
    "    else:\n",
    "        MeasuresClass = nltk.collocations.BigramAssocMeasures\n",
    "        FinderClass = nltk.collocations.BigramCollocationFinder\n",
    "\n",
    "    measures = MeasuresClass()\n",
    "    \n",
    "   \n",
    "    finder = FinderClass.from_words(tokens)\n",
    "    finder.apply_freq_filter(min_freq)\n",
    "    if measure=='pmi':\n",
    "        scored_ngrams = finder.score_ngrams(measures.pmi)\n",
    "    else:\n",
    "        measure='raw_freq'\n",
    "        scored_ngrams = finder.score_ngrams(measures.raw_freq)\n",
    "\n",
    "    df_ngrams = pd.DataFrame(scored_ngrams, columns=[words_colname, measure.replace(\"_\",' ').title()])\n",
    "    if top_n is not None:\n",
    "        return df_ngrams.head(top_n)\n",
    "    else:\n",
    "        return df_ngrams\n",
    "\n"
   ]
  },
  {
   "cell_type": "markdown",
   "id": "3ad1d2ea-71b6-432f-b81c-7298dea840f8",
   "metadata": {},
   "source": [
    "### Bigrams - Raw Frequency"
   ]
  },
  {
   "cell_type": "markdown",
   "id": "37828adc-847f-4608-90c2-f8c50710d081",
   "metadata": {},
   "source": [
    "- Doing the first set manually for demonstration."
   ]
  },
  {
   "cell_type": "code",
   "execution_count": null,
   "id": "dc45d913-9b5f-4d01-9565-2a1dd8e274a4",
   "metadata": {
    "execution": {
     "iopub.status.busy": "2023-12-03T00:03:17.682619Z",
     "iopub.status.idle": "2023-12-03T00:03:17.682749Z",
     "shell.execute_reply": "2023-12-03T00:03:17.682686Z",
     "shell.execute_reply.started": "2023-12-03T00:03:17.682681Z"
    }
   },
   "outputs": [],
   "source": [
    "# Getting bigrams low-reviews\n",
    "bigram_measures = nltk.collocations.BigramAssocMeasures()\n",
    "finder_low = nltk.collocations.BigramCollocationFinder.from_words(low_review_tokens_list)\n",
    "low_scored_ngrams = finder_low.score_ngrams( bigram_measures.raw_freq)\n",
    "\n",
    "# Convert list of tuples to dataframe\n",
    "df_bigram_scores_low = pd.DataFrame(low_scored_ngrams, columns=['Words','Frequency'])\n",
    "df_bigram_scores_low.head(10)\n",
    "\n",
    "# low_scored_ngrams[:10]"
   ]
  },
  {
   "cell_type": "code",
   "execution_count": null,
   "id": "4005dd3b-f27d-48df-9dfa-482810b61b6b",
   "metadata": {
    "execution": {
     "iopub.status.busy": "2023-12-03T00:03:17.683300Z",
     "iopub.status.idle": "2023-12-03T00:03:17.683455Z",
     "shell.execute_reply": "2023-12-03T00:03:17.683359Z",
     "shell.execute_reply.started": "2023-12-03T00:03:17.683354Z"
    }
   },
   "outputs": [],
   "source": [
    "# Getting bigrams low-reviews\n",
    "# measures = nltk.collocations.BigramAssocMeasures()\n",
    "finder_high = nltk.collocations.BigramCollocationFinder.from_words(high_review_tokens_list)\n",
    "high_scored_ngrams = finder_high.score_ngrams( bigram_measures.raw_freq)\n",
    "\n",
    "# Convert list of tuples to dataframe\n",
    "df_bigram_scores_high = pd.DataFrame(high_scored_ngrams, columns=['Words','Frequency'])\n",
    "df_bigram_scores_high.head(10)\n",
    "# high_scored_ngrams[:10]"
   ]
  },
  {
   "cell_type": "code",
   "execution_count": null,
   "id": "0c326713-9843-41db-9a88-d56aa5de5780",
   "metadata": {
    "execution": {
     "iopub.status.busy": "2023-12-03T00:03:17.683991Z",
     "iopub.status.idle": "2023-12-03T00:03:17.684197Z",
     "shell.execute_reply": "2023-12-03T00:03:17.684105Z",
     "shell.execute_reply.started": "2023-12-03T00:03:17.684096Z"
    }
   },
   "outputs": [],
   "source": [
    "# Combine low and high reviews score dfs and add a group name as multi-index\n",
    "df_compare_bigrams = pd.concat(\n",
    "    [df_bigram_scores_high, df_bigram_scores_low],\n",
    "    axis=1,\n",
    "    keys=[\"High Rating Reviews\", \"Low Rating Reviews\"],\n",
    ")\n",
    "top10_bigrams = df_compare_bigrams.head(10)\n",
    "top10_bigrams"
   ]
  },
  {
   "cell_type": "markdown",
   "id": "f3ee191e-b835-4a7d-ab63-1451740616a4",
   "metadata": {},
   "source": [
    "> Using df.to_markdown() to get a string with a Markdown table."
   ]
  },
  {
   "cell_type": "code",
   "execution_count": null,
   "id": "20d01949-2353-4add-8536-4ceb2d1e4262",
   "metadata": {
    "execution": {
     "iopub.status.busy": "2023-12-03T00:03:17.684689Z",
     "iopub.status.idle": "2023-12-03T00:03:17.684830Z",
     "shell.execute_reply": "2023-12-03T00:03:17.684762Z",
     "shell.execute_reply.started": "2023-12-03T00:03:17.684756Z"
    }
   },
   "outputs": [],
   "source": [
    "# Generating string table to insert into a Markdown cell or file\n",
    "md_table_bigrams = df_compare_bigrams.head(10).to_markdown(index=False)\n",
    "print(md_table_bigrams)"
   ]
  },
  {
   "cell_type": "markdown",
   "id": "d7c34a18-71ab-476a-b38a-851bda7e10d8",
   "metadata": {},
   "source": [
    "| ('High Rating Reviews', 'Words')   |   ('High Rating Reviews', 'Frequency') | ('Low Rating Reviews', 'Words')   |   ('Low Rating Reviews', 'Frequency') |\n",
    "|:-----------------------------------|---------------------------------------:|:----------------------------------|--------------------------------------:|\n",
    "| ('special', 'effects')             |                            0.000486304 | ('final', 'rating')               |                           0.00123491  |\n",
    "| ('comic', 'book')                  |                            0.000470359 | ('finished', 'product')           |                           0.000926185 |\n",
    "| ('sci', 'fi')                      |                            0.00039861  | ('appeal', 'poor')                |                           0.000916537 |\n",
    "| ('star', 'wars')                   |                            0.000390637 | ('poor', 'finished')              |                           0.000916537 |\n",
    "| ('action', 'movie')                |                            0.000366721 | ('rating', 'things')              |                           0.000916537 |\n",
    "| ('feel', 'like')                   |                            0.000358749 | ('things', 'appeal')              |                           0.000916537 |\n",
    "| ('john', 'wick')                   |                            0.000342804 | ('special', 'effects')            |                           0.000627104 |\n",
    "| ('watch', 'movie')                 |                            0.00032686  | ('avoid', 'possible')             |                           0.00055957  |\n",
    "| ('long', 'time')                   |                            0.000302943 | ('boring', 'disappointing')       |                           0.00055957  |\n",
    "| ('real', 'life')                   |                            0.000302943 | ('disappointing', 'avoid')        |                           0.00055957  |"
   ]
  },
  {
   "cell_type": "code",
   "execution_count": null,
   "id": "09d23aed-2ee4-4483-8edc-f1edbac4b4da",
   "metadata": {
    "execution": {
     "iopub.status.busy": "2023-12-03T00:03:17.685566Z",
     "iopub.status.idle": "2023-12-03T00:03:17.685693Z",
     "shell.execute_reply": "2023-12-03T00:03:17.685628Z",
     "shell.execute_reply.started": "2023-12-03T00:03:17.685622Z"
    }
   },
   "outputs": [],
   "source": [
    "# Demonstrating how the string will display in markdown:\n",
    "from IPython.display import Markdown\n",
    "Markdown(md_table_bigrams)"
   ]
  },
  {
   "cell_type": "code",
   "execution_count": null,
   "id": "2c667864-61a3-4ad8-a8b2-295c4a0dfb04",
   "metadata": {
    "execution": {
     "iopub.status.busy": "2023-12-03T00:03:17.686518Z",
     "iopub.status.idle": "2023-12-03T00:03:17.686672Z",
     "shell.execute_reply": "2023-12-03T00:03:17.686587Z",
     "shell.execute_reply.started": "2023-12-03T00:03:17.686582Z"
    }
   },
   "outputs": [],
   "source": [
    "# saving the markdown table to a .md file\n",
    "fname_bigram_freq = \"Images/bigrams-raw-freq.md\"\n",
    "with open(fname_bigram_freq, 'w') as f:\n",
    "    f.write(md_table_bigrams)"
   ]
  },
  {
   "cell_type": "code",
   "execution_count": null,
   "id": "22d74fa6-c39c-4ba0-9a61-87374fc37839",
   "metadata": {
    "execution": {
     "iopub.status.busy": "2023-12-03T00:03:17.687130Z",
     "iopub.status.idle": "2023-12-03T00:03:17.687363Z",
     "shell.execute_reply": "2023-12-03T00:03:17.687301Z",
     "shell.execute_reply.started": "2023-12-03T00:03:17.687294Z"
    }
   },
   "outputs": [],
   "source": [
    "# Testing the saved table\n",
    "with open(fname_bigram_freq) as f:\n",
    "    display(Markdown(f.read()))"
   ]
  },
  {
   "cell_type": "markdown",
   "id": "52c9c313-83eb-41ec-ae66-b2059a397b29",
   "metadata": {},
   "source": [
    "### Bigrams - PMI"
   ]
  },
  {
   "cell_type": "code",
   "execution_count": null,
   "id": "4eaea751-82b7-410a-a6c7-4de527be824c",
   "metadata": {
    "execution": {
     "iopub.status.busy": "2023-12-03T00:03:17.687882Z",
     "iopub.status.idle": "2023-12-03T00:03:17.687993Z",
     "shell.execute_reply": "2023-12-03T00:03:17.687937Z",
     "shell.execute_reply.started": "2023-12-03T00:03:17.687932Z"
    }
   },
   "outputs": [],
   "source": [
    "# Set the desired minimum frequency value, top-n and measure\n",
    "bigram_kws = dict(measure='pmi',top_n =10 , min_freq=10)\n",
    "\n",
    "# Get group bigrams\n",
    "df_bigrams_high_pmi =  get_ngram_measures_finder(high_review_tokens_list,**bigram_kws,\n",
    "                                                words_colname=\"Bigrams (High Ratings)\")\n",
    "df_bigrams_low_pmi = get_ngram_measures_finder(low_review_tokens_list,**bigram_kws,\n",
    "                                              words_colname= \"Bigrams (Low Ratings)\")\n",
    "\n",
    "# Concatenate and save top 10\n",
    "df_compare_bigrams = pd.concat(\n",
    "    [df_bigrams_low_pmi,df_bigrams_high_pmi, ],\n",
    "    axis=1,\n",
    "    # keys=[\"High Rating Reviews\", \"Low Rating Reviews\"],\n",
    ")\n",
    "top10_bigrams_pmi = df_compare_bigrams.head(10)\n",
    "display(top10_bigrams_pmi)\n",
    "\n",
    "md_table_bigrams_pmi = top10_bigrams_pmi.to_markdown(index=False)\n",
    "\n",
    "# saving the markdown table to a .md file\n",
    "fname_bigram_pmi = \"Images/bigrams-pmi.md\"\n",
    "with open(fname_bigram_pmi, 'w') as f:\n",
    "    f.write(md_table_bigrams_pmi)\n",
    "\n",
    "with open(fname_bigram_pmi) as f:\n",
    "    display(Markdown(f.read()))"
   ]
  },
  {
   "cell_type": "markdown",
   "id": "840fa2d0-bd09-456b-92bb-7ac3803d86e3",
   "metadata": {},
   "source": [
    "### Trigrams - Raw Freq"
   ]
  },
  {
   "cell_type": "code",
   "execution_count": null,
   "id": "7827046c-3ac3-4e13-ab50-906f77387d4c",
   "metadata": {
    "execution": {
     "iopub.status.busy": "2023-12-03T00:03:17.688520Z",
     "iopub.status.idle": "2023-12-03T00:03:17.688685Z",
     "shell.execute_reply": "2023-12-03T00:03:17.688601Z",
     "shell.execute_reply.started": "2023-12-03T00:03:17.688595Z"
    }
   },
   "outputs": [],
   "source": [
    "# Set the desired minimum frequency value, top-n and measure\n",
    "trigram_kws = dict(measure='raw_freq',top_n =10 , min_freq=10,\n",
    "                  ngrams=3)\n",
    "df_bigrams_high_pmi =  get_ngram_measures_finder(high_review_tokens_list,**trigram_kws,\n",
    "                                                words_colname=\"Trigrams (High Ratings)\")\n",
    "df_bigrams_low_pmi = get_ngram_measures_finder(low_review_tokens_list,**trigram_kws,\n",
    "                                              words_colname= \"Trigrams (Low Ratings)\")\n",
    "\n",
    "df_compare_bigrams = pd.concat(\n",
    "    [ df_bigrams_low_pmi,df_bigrams_high_pmi],\n",
    "    axis=1,\n",
    "    # keys=[\"High Rating Reviews\", \"Low Rating Reviews\"],\n",
    ")\n",
    "df_compare_bigrams.head(10)\n"
   ]
  },
  {
   "cell_type": "markdown",
   "id": "290b874e-0c51-4194-8eae-180fc9cfdb05",
   "metadata": {},
   "source": [
    "### Trigrams - PMI"
   ]
  },
  {
   "cell_type": "code",
   "execution_count": null,
   "id": "6c9e26cf-6941-46f6-874c-d064a73a34e1",
   "metadata": {
    "execution": {
     "iopub.status.busy": "2023-12-03T00:03:17.689287Z",
     "iopub.status.idle": "2023-12-03T00:03:17.689473Z",
     "shell.execute_reply": "2023-12-03T00:03:17.689362Z",
     "shell.execute_reply.started": "2023-12-03T00:03:17.689357Z"
    }
   },
   "outputs": [],
   "source": [
    "# Set the desired minimum frequency value, top-n and measure\n",
    "trigram_kws = dict(measure='pmi',top_n =10 , min_freq=10,\n",
    "                  ngrams=3)\n",
    "df_bigrams_high_pmi =  get_ngram_measures_finder(high_review_tokens_list,**trigram_kws,\n",
    "                                                words_colname=\"Trigrams (High Ratings)\")\n",
    "df_bigrams_low_pmi = get_ngram_measures_finder(low_review_tokens_list,**trigram_kws,\n",
    "                                              words_colname= \"Trigrams (Low Ratings)\")\n",
    "\n",
    "df_compare_bigrams = pd.concat(\n",
    "    [ df_bigrams_low_pmi,df_bigrams_high_pmi],\n",
    "    axis=1,\n",
    "    # keys=[\"High Rating Reviews\", \"Low Rating Reviews\"],\n",
    ")\n",
    "df_compare_bigrams.head(10)\n"
   ]
  },
  {
   "cell_type": "markdown",
   "id": "85986a5f-b0a8-4d79-ab83-84fb411afdf5",
   "metadata": {},
   "source": [
    "## Sentiment Analysis"
   ]
  },
  {
   "cell_type": "markdown",
   "id": "2f3a5bec-266e-4553-8274-6a24fbfb6ed5",
   "metadata": {},
   "source": [
    "Perform sentiment analysis to create polarity scores according to VADERS's sentiment lexicon.  \n",
    "- Compare the sentiments of high-rating and low-rating texts.  \n",
    "- Compare the average scores for high and low-rating reviews.  \n",
    "- Which review polarity scores don't match the ratings?  Why do you think this is?"
   ]
  },
  {
   "cell_type": "code",
   "execution_count": null,
   "id": "c802d77a-ec81-4a43-8cf5-1c6c04d3b68e",
   "metadata": {
    "execution": {
     "iopub.status.busy": "2023-12-03T00:03:17.690135Z",
     "iopub.status.idle": "2023-12-03T00:03:17.690349Z",
     "shell.execute_reply": "2023-12-03T00:03:17.690265Z",
     "shell.execute_reply.started": "2023-12-03T00:03:17.690256Z"
    }
   },
   "outputs": [],
   "source": [
    "from nltk.sentiment.vader import SentimentIntensityAnalyzer\n",
    "nltk.download('vader_lexicon')"
   ]
  },
  {
   "cell_type": "code",
   "execution_count": null,
   "id": "365ec383-e248-4057-8b31-bd00d4de7ca2",
   "metadata": {
    "execution": {
     "iopub.status.busy": "2023-12-03T00:03:17.691164Z",
     "iopub.status.idle": "2023-12-03T00:03:17.691292Z",
     "shell.execute_reply": "2023-12-03T00:03:17.691231Z",
     "shell.execute_reply.started": "2023-12-03T00:03:17.691225Z"
    }
   },
   "outputs": [],
   "source": [
    "# Initialize the VADER sentiment analyzer\n",
    "sia = SentimentIntensityAnalyzer()"
   ]
  },
  {
   "cell_type": "code",
   "execution_count": null,
   "id": "ca8e0a7a-66a6-4aec-96ae-3e3b92503a18",
   "metadata": {
    "execution": {
     "iopub.status.busy": "2023-12-03T00:03:17.691904Z",
     "iopub.status.idle": "2023-12-03T00:03:17.692024Z",
     "shell.execute_reply": "2023-12-03T00:03:17.691964Z",
     "shell.execute_reply.started": "2023-12-03T00:03:17.691958Z"
    }
   },
   "outputs": [],
   "source": [
    "df.head(2)"
   ]
  },
  {
   "cell_type": "code",
   "execution_count": null,
   "id": "e7816624-8a84-4cdd-bf88-81c8d4a50617",
   "metadata": {
    "execution": {
     "iopub.status.busy": "2023-12-03T00:03:17.692484Z",
     "iopub.status.idle": "2023-12-03T00:03:17.692609Z",
     "shell.execute_reply": "2023-12-03T00:03:17.692541Z",
     "shell.execute_reply.started": "2023-12-03T00:03:17.692536Z"
    }
   },
   "outputs": [],
   "source": [
    "df['sentiment_scores'] = df['review_text'].map(sia.polarity_scores)\n",
    "# Convert the column of dictionaries into separate columns\n",
    "vader_scores = df['sentiment_scores'].apply(pd.Series)\n",
    "# Join the new DataFrame with the original DataFrame\n",
    "df_sentiment = pd.concat([df, vader_scores], axis=1).drop('sentiment_scores', axis=1)\n",
    "df_sentiment"
   ]
  },
  {
   "cell_type": "code",
   "execution_count": null,
   "id": "2432069b-69a0-4153-962a-28a7dae78d12",
   "metadata": {
    "execution": {
     "iopub.status.busy": "2023-12-03T00:03:17.693176Z",
     "iopub.status.idle": "2023-12-03T00:03:17.693529Z",
     "shell.execute_reply": "2023-12-03T00:03:17.693433Z",
     "shell.execute_reply.started": "2023-12-03T00:03:17.693426Z"
    }
   },
   "outputs": [],
   "source": [
    "# Define filter for positive reviews\n",
    "pos_sentiment_reviews = df_sentiment['compound'] > 0\n",
    "pos_sentiment_reviews.sum()"
   ]
  },
  {
   "cell_type": "code",
   "execution_count": null,
   "id": "805abe5d-518f-475f-a237-4b95d8b6b142",
   "metadata": {
    "execution": {
     "iopub.status.busy": "2023-12-03T00:03:17.693997Z",
     "iopub.status.idle": "2023-12-03T00:03:17.694146Z",
     "shell.execute_reply": "2023-12-03T00:03:17.694057Z",
     "shell.execute_reply.started": "2023-12-03T00:03:17.694051Z"
    }
   },
   "outputs": [],
   "source": [
    "filter_mismatch_A = (df['target'] == \"Bad\") & pos_sentiment_reviews\n",
    "filter_mismatch_A.sum()"
   ]
  },
  {
   "cell_type": "code",
   "execution_count": null,
   "id": "79afddb5-4225-470c-921d-0e06f56572c4",
   "metadata": {
    "execution": {
     "iopub.status.busy": "2023-12-03T00:03:17.694796Z",
     "iopub.status.idle": "2023-12-03T00:03:17.694953Z",
     "shell.execute_reply": "2023-12-03T00:03:17.694872Z",
     "shell.execute_reply.started": "2023-12-03T00:03:17.694866Z"
    }
   },
   "outputs": [],
   "source": [
    "# Define filter for negative reviews\n",
    "neg_sentiment_reviews = df_sentiment['compound'] < 0\n",
    "neg_sentiment_reviews.sum()"
   ]
  },
  {
   "cell_type": "code",
   "execution_count": null,
   "id": "0bb53090-1db5-47dc-bb51-301932ab9ff6",
   "metadata": {
    "execution": {
     "iopub.status.busy": "2023-12-03T00:03:17.695680Z",
     "iopub.status.idle": "2023-12-03T00:03:17.695852Z",
     "shell.execute_reply": "2023-12-03T00:03:17.695777Z",
     "shell.execute_reply.started": "2023-12-03T00:03:17.695770Z"
    }
   },
   "outputs": [],
   "source": [
    "filter_mismatch_B = (df['target'] == \"High\") & neg_sentiment_reviews\n",
    "filter_mismatch_B.sum()"
   ]
  },
  {
   "cell_type": "code",
   "execution_count": null,
   "id": "2f5e057a-ad7a-45e8-a7ec-c97815b828a9",
   "metadata": {
    "execution": {
     "iopub.status.busy": "2023-12-03T00:03:17.696762Z",
     "iopub.status.idle": "2023-12-03T00:03:17.697059Z",
     "shell.execute_reply": "2023-12-03T00:03:17.696957Z",
     "shell.execute_reply.started": "2023-12-03T00:03:17.696950Z"
    }
   },
   "outputs": [],
   "source": [
    "df_sentiment.loc[filter_mismatch_B]"
   ]
  },
  {
   "cell_type": "markdown",
   "id": "be744832-1da2-4ab7-a328-f9088b812a25",
   "metadata": {},
   "source": [
    "## Part 3 (coming soon!)"
   ]
  },
  {
   "cell_type": "code",
   "execution_count": null,
   "id": "4a6f5803-f7c7-4c47-9dde-cde859a95f16",
   "metadata": {},
   "outputs": [],
   "source": []
  },
  {
   "cell_type": "markdown",
   "id": "bd87ee02-ae27-47ca-8f6c-b4934c10dd3b",
   "metadata": {},
   "source": [
    "# APPENDIX"
   ]
  }
 ],
 "metadata": {
  "kernelspec": {
   "display_name": "Python (dojo-env)",
   "language": "python",
   "name": "dojo-env"
  },
  "language_info": {
   "codemirror_mode": {
    "name": "ipython",
    "version": 3
   },
   "file_extension": ".py",
   "mimetype": "text/x-python",
   "name": "python",
   "nbconvert_exporter": "python",
   "pygments_lexer": "ipython3",
   "version": "3.10.10"
  }
 },
 "nbformat": 4,
 "nbformat_minor": 5
}
